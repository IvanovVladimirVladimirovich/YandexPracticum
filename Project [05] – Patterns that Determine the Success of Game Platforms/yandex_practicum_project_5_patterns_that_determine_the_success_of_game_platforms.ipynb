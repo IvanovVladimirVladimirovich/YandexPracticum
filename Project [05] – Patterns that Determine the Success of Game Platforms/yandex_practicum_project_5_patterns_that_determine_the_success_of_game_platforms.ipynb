{
 "cells": [
  {
   "cell_type": "markdown",
   "metadata": {},
   "source": [
    "# Анализ исходных данных"
   ]
  },
  {
   "cell_type": "markdown",
   "metadata": {},
   "source": [
    "Перед нами данные из открытых источников продажах игр, оценки пользователей и экспертов, жанры и платформы (например, Xbox или PlayStation. Нам нужно выявить определяющие успешность игры закономерности. "
   ]
  },
  {
   "cell_type": "markdown",
   "metadata": {},
   "source": [
    "Для начала, проанализируем исходные данные:"
   ]
  },
  {
   "cell_type": "code",
   "execution_count": 40,
   "metadata": {},
   "outputs": [],
   "source": [
    "import pandas as pd\n",
    "import numpy as np\n",
    "import seaborn as sns\n",
    "from scipy import stats as st\n",
    "import matplotlib.pyplot as plt"
   ]
  },
  {
   "cell_type": "code",
   "execution_count": 41,
   "metadata": {},
   "outputs": [],
   "source": [
    "data = pd.read_csv(\"/datasets/games.csv\")"
   ]
  },
  {
   "cell_type": "code",
   "execution_count": 42,
   "metadata": {},
   "outputs": [
    {
     "data": {
      "text/html": [
       "<div>\n",
       "<style scoped>\n",
       "    .dataframe tbody tr th:only-of-type {\n",
       "        vertical-align: middle;\n",
       "    }\n",
       "\n",
       "    .dataframe tbody tr th {\n",
       "        vertical-align: top;\n",
       "    }\n",
       "\n",
       "    .dataframe thead th {\n",
       "        text-align: right;\n",
       "    }\n",
       "</style>\n",
       "<table border=\"1\" class=\"dataframe\">\n",
       "  <thead>\n",
       "    <tr style=\"text-align: right;\">\n",
       "      <th></th>\n",
       "      <th>Name</th>\n",
       "      <th>Platform</th>\n",
       "      <th>Year_of_Release</th>\n",
       "      <th>Genre</th>\n",
       "      <th>NA_sales</th>\n",
       "      <th>EU_sales</th>\n",
       "      <th>JP_sales</th>\n",
       "      <th>Other_sales</th>\n",
       "      <th>Critic_Score</th>\n",
       "      <th>User_Score</th>\n",
       "      <th>Rating</th>\n",
       "    </tr>\n",
       "  </thead>\n",
       "  <tbody>\n",
       "    <tr>\n",
       "      <th>0</th>\n",
       "      <td>Wii Sports</td>\n",
       "      <td>Wii</td>\n",
       "      <td>2006.0</td>\n",
       "      <td>Sports</td>\n",
       "      <td>41.36</td>\n",
       "      <td>28.96</td>\n",
       "      <td>3.77</td>\n",
       "      <td>8.45</td>\n",
       "      <td>76.0</td>\n",
       "      <td>8</td>\n",
       "      <td>E</td>\n",
       "    </tr>\n",
       "    <tr>\n",
       "      <th>1</th>\n",
       "      <td>Super Mario Bros.</td>\n",
       "      <td>NES</td>\n",
       "      <td>1985.0</td>\n",
       "      <td>Platform</td>\n",
       "      <td>29.08</td>\n",
       "      <td>3.58</td>\n",
       "      <td>6.81</td>\n",
       "      <td>0.77</td>\n",
       "      <td>NaN</td>\n",
       "      <td>NaN</td>\n",
       "      <td>NaN</td>\n",
       "    </tr>\n",
       "    <tr>\n",
       "      <th>2</th>\n",
       "      <td>Mario Kart Wii</td>\n",
       "      <td>Wii</td>\n",
       "      <td>2008.0</td>\n",
       "      <td>Racing</td>\n",
       "      <td>15.68</td>\n",
       "      <td>12.76</td>\n",
       "      <td>3.79</td>\n",
       "      <td>3.29</td>\n",
       "      <td>82.0</td>\n",
       "      <td>8.3</td>\n",
       "      <td>E</td>\n",
       "    </tr>\n",
       "    <tr>\n",
       "      <th>3</th>\n",
       "      <td>Wii Sports Resort</td>\n",
       "      <td>Wii</td>\n",
       "      <td>2009.0</td>\n",
       "      <td>Sports</td>\n",
       "      <td>15.61</td>\n",
       "      <td>10.93</td>\n",
       "      <td>3.28</td>\n",
       "      <td>2.95</td>\n",
       "      <td>80.0</td>\n",
       "      <td>8</td>\n",
       "      <td>E</td>\n",
       "    </tr>\n",
       "    <tr>\n",
       "      <th>4</th>\n",
       "      <td>Pokemon Red/Pokemon Blue</td>\n",
       "      <td>GB</td>\n",
       "      <td>1996.0</td>\n",
       "      <td>Role-Playing</td>\n",
       "      <td>11.27</td>\n",
       "      <td>8.89</td>\n",
       "      <td>10.22</td>\n",
       "      <td>1.00</td>\n",
       "      <td>NaN</td>\n",
       "      <td>NaN</td>\n",
       "      <td>NaN</td>\n",
       "    </tr>\n",
       "    <tr>\n",
       "      <th>5</th>\n",
       "      <td>Tetris</td>\n",
       "      <td>GB</td>\n",
       "      <td>1989.0</td>\n",
       "      <td>Puzzle</td>\n",
       "      <td>23.20</td>\n",
       "      <td>2.26</td>\n",
       "      <td>4.22</td>\n",
       "      <td>0.58</td>\n",
       "      <td>NaN</td>\n",
       "      <td>NaN</td>\n",
       "      <td>NaN</td>\n",
       "    </tr>\n",
       "    <tr>\n",
       "      <th>6</th>\n",
       "      <td>New Super Mario Bros.</td>\n",
       "      <td>DS</td>\n",
       "      <td>2006.0</td>\n",
       "      <td>Platform</td>\n",
       "      <td>11.28</td>\n",
       "      <td>9.14</td>\n",
       "      <td>6.50</td>\n",
       "      <td>2.88</td>\n",
       "      <td>89.0</td>\n",
       "      <td>8.5</td>\n",
       "      <td>E</td>\n",
       "    </tr>\n",
       "    <tr>\n",
       "      <th>7</th>\n",
       "      <td>Wii Play</td>\n",
       "      <td>Wii</td>\n",
       "      <td>2006.0</td>\n",
       "      <td>Misc</td>\n",
       "      <td>13.96</td>\n",
       "      <td>9.18</td>\n",
       "      <td>2.93</td>\n",
       "      <td>2.84</td>\n",
       "      <td>58.0</td>\n",
       "      <td>6.6</td>\n",
       "      <td>E</td>\n",
       "    </tr>\n",
       "    <tr>\n",
       "      <th>8</th>\n",
       "      <td>New Super Mario Bros. Wii</td>\n",
       "      <td>Wii</td>\n",
       "      <td>2009.0</td>\n",
       "      <td>Platform</td>\n",
       "      <td>14.44</td>\n",
       "      <td>6.94</td>\n",
       "      <td>4.70</td>\n",
       "      <td>2.24</td>\n",
       "      <td>87.0</td>\n",
       "      <td>8.4</td>\n",
       "      <td>E</td>\n",
       "    </tr>\n",
       "    <tr>\n",
       "      <th>9</th>\n",
       "      <td>Duck Hunt</td>\n",
       "      <td>NES</td>\n",
       "      <td>1984.0</td>\n",
       "      <td>Shooter</td>\n",
       "      <td>26.93</td>\n",
       "      <td>0.63</td>\n",
       "      <td>0.28</td>\n",
       "      <td>0.47</td>\n",
       "      <td>NaN</td>\n",
       "      <td>NaN</td>\n",
       "      <td>NaN</td>\n",
       "    </tr>\n",
       "  </tbody>\n",
       "</table>\n",
       "</div>"
      ],
      "text/plain": [
       "                        Name Platform  Year_of_Release         Genre  \\\n",
       "0                 Wii Sports      Wii           2006.0        Sports   \n",
       "1          Super Mario Bros.      NES           1985.0      Platform   \n",
       "2             Mario Kart Wii      Wii           2008.0        Racing   \n",
       "3          Wii Sports Resort      Wii           2009.0        Sports   \n",
       "4   Pokemon Red/Pokemon Blue       GB           1996.0  Role-Playing   \n",
       "5                     Tetris       GB           1989.0        Puzzle   \n",
       "6      New Super Mario Bros.       DS           2006.0      Platform   \n",
       "7                   Wii Play      Wii           2006.0          Misc   \n",
       "8  New Super Mario Bros. Wii      Wii           2009.0      Platform   \n",
       "9                  Duck Hunt      NES           1984.0       Shooter   \n",
       "\n",
       "   NA_sales  EU_sales  JP_sales  Other_sales  Critic_Score User_Score Rating  \n",
       "0     41.36     28.96      3.77         8.45          76.0          8      E  \n",
       "1     29.08      3.58      6.81         0.77           NaN        NaN    NaN  \n",
       "2     15.68     12.76      3.79         3.29          82.0        8.3      E  \n",
       "3     15.61     10.93      3.28         2.95          80.0          8      E  \n",
       "4     11.27      8.89     10.22         1.00           NaN        NaN    NaN  \n",
       "5     23.20      2.26      4.22         0.58           NaN        NaN    NaN  \n",
       "6     11.28      9.14      6.50         2.88          89.0        8.5      E  \n",
       "7     13.96      9.18      2.93         2.84          58.0        6.6      E  \n",
       "8     14.44      6.94      4.70         2.24          87.0        8.4      E  \n",
       "9     26.93      0.63      0.28         0.47           NaN        NaN    NaN  "
      ]
     },
     "metadata": {},
     "output_type": "display_data"
    }
   ],
   "source": [
    "display(data.head(10))"
   ]
  },
  {
   "cell_type": "code",
   "execution_count": 43,
   "metadata": {},
   "outputs": [
    {
     "name": "stdout",
     "output_type": "stream",
     "text": [
      "<class 'pandas.core.frame.DataFrame'>\n",
      "RangeIndex: 16715 entries, 0 to 16714\n",
      "Data columns (total 11 columns):\n",
      " #   Column           Non-Null Count  Dtype  \n",
      "---  ------           --------------  -----  \n",
      " 0   Name             16713 non-null  object \n",
      " 1   Platform         16715 non-null  object \n",
      " 2   Year_of_Release  16446 non-null  float64\n",
      " 3   Genre            16713 non-null  object \n",
      " 4   NA_sales         16715 non-null  float64\n",
      " 5   EU_sales         16715 non-null  float64\n",
      " 6   JP_sales         16715 non-null  float64\n",
      " 7   Other_sales      16715 non-null  float64\n",
      " 8   Critic_Score     8137 non-null   float64\n",
      " 9   User_Score       10014 non-null  object \n",
      " 10  Rating           9949 non-null   object \n",
      "dtypes: float64(6), object(5)\n",
      "memory usage: 1.4+ MB\n"
     ]
    }
   ],
   "source": [
    "data.info()"
   ]
  },
  {
   "cell_type": "code",
   "execution_count": 44,
   "metadata": {
    "scrolled": false
   },
   "outputs": [
    {
     "data": {
      "text/plain": [
       "array([[<AxesSubplot:title={'center':'Year_of_Release'}>,\n",
       "        <AxesSubplot:title={'center':'NA_sales'}>],\n",
       "       [<AxesSubplot:title={'center':'EU_sales'}>,\n",
       "        <AxesSubplot:title={'center':'JP_sales'}>],\n",
       "       [<AxesSubplot:title={'center':'Other_sales'}>,\n",
       "        <AxesSubplot:title={'center':'Critic_Score'}>]], dtype=object)"
      ]
     },
     "metadata": {},
     "output_type": "display_data"
    },
    {
     "data": {
      "image/png": "[encoded data removed]",
      "text/plain": [
       "<Figure size 720x1080 with 6 Axes>"
      ]
     },
     "metadata": {
      "needs_background": "light"
     },
     "output_type": "display_data"
    }
   ],
   "source": [
    "display(data.hist(figsize = (10,15)))"
   ]
  },
  {
   "cell_type": "markdown",
   "metadata": {},
   "source": [
    "Так же, проверим на количество пропусков в разных столбцах и на наличие явных дубликатов. "
   ]
  },
  {
   "cell_type": "code",
   "execution_count": 45,
   "metadata": {},
   "outputs": [
    {
     "data": {
      "text/plain": [
       "Name                  2\n",
       "Platform              0\n",
       "Year_of_Release     269\n",
       "Genre                 2\n",
       "NA_sales              0\n",
       "EU_sales              0\n",
       "JP_sales              0\n",
       "Other_sales           0\n",
       "Critic_Score       8578\n",
       "User_Score         6701\n",
       "Rating             6766\n",
       "dtype: int64"
      ]
     },
     "metadata": {},
     "output_type": "display_data"
    }
   ],
   "source": [
    "display(data.isna().sum())"
   ]
  },
  {
   "cell_type": "code",
   "execution_count": 46,
   "metadata": {
    "scrolled": true
   },
   "outputs": [
    {
     "data": {
      "text/plain": [
       "0"
      ]
     },
     "metadata": {},
     "output_type": "display_data"
    }
   ],
   "source": [
    "display(data.duplicated().sum())"
   ]
  },
  {
   "cell_type": "markdown",
   "metadata": {},
   "source": [
    "Из анализа исходных данных видно, что присутствует: \n",
    "\n",
    "    -неправильный формат столбцов: \"Year_of_Release\",\"NA_sales\",\"EU_sales\",\"JP_sales\",\"Other_sales\" и \"User_score\"\n",
    "    \n",
    "    -неправильное название столбцов\n",
    "    \n",
    "    -наличее пропусков в столбцах: \"Name\",\"Year_of_Release\",\"Genre\",\"Critic_Score\",\"User_Score\" и \"Rating\"\n",
    "\n",
    "Так же, стоит рассмотреть данные по продажам, так как графики не выглядят правильными, показывая что большинство игр продавалось по 1-2 копии.  "
   ]
  },
  {
   "cell_type": "markdown",
   "metadata": {},
   "source": [
    "# Предобработка данных"
   ]
  },
  {
   "cell_type": "markdown",
   "metadata": {},
   "source": [
    "**Название столбцов**"
   ]
  },
  {
   "cell_type": "markdown",
   "metadata": {},
   "source": [
    "Как можно было заметить, названия столбцов указанны с большой быквы:"
   ]
  },
  {
   "cell_type": "code",
   "execution_count": 47,
   "metadata": {
    "scrolled": true
   },
   "outputs": [
    {
     "data": {
      "text/plain": [
       "Index(['Name', 'Platform', 'Year_of_Release', 'Genre', 'NA_sales', 'EU_sales',\n",
       "       'JP_sales', 'Other_sales', 'Critic_Score', 'User_Score', 'Rating'],\n",
       "      dtype='object')"
      ]
     },
     "metadata": {},
     "output_type": "display_data"
    }
   ],
   "source": [
    "display(data.columns)"
   ]
  },
  {
   "cell_type": "markdown",
   "metadata": {},
   "source": [
    "Исправляем:"
   ]
  },
  {
   "cell_type": "code",
   "execution_count": 48,
   "metadata": {},
   "outputs": [],
   "source": [
    "data.columns = data.columns.str.lower()"
   ]
  },
  {
   "cell_type": "markdown",
   "metadata": {},
   "source": [
    "**Year of Release**"
   ]
  },
  {
   "cell_type": "markdown",
   "metadata": {},
   "source": [
    "Как можно заметить, данные \"year_of_release\" хранятся в формате float, что неверно так как год не бывает рациональным. Но сначала нужно удалить строки где год игры не известен, так как эту информацию мы не сможем воссоздать. "
   ]
  },
  {
   "cell_type": "code",
   "execution_count": 49,
   "metadata": {},
   "outputs": [],
   "source": [
    "data = data[~data[\"year_of_release\"].isna()]"
   ]
  },
  {
   "cell_type": "code",
   "execution_count": 50,
   "metadata": {},
   "outputs": [],
   "source": [
    "data[\"year_of_release\"] = data[\"year_of_release\"].astype(int)"
   ]
  },
  {
   "cell_type": "markdown",
   "metadata": {},
   "source": [
    "**Name**"
   ]
  },
  {
   "cell_type": "markdown",
   "metadata": {},
   "source": [
    "В данных отсутствует два названия: "
   ]
  },
  {
   "cell_type": "code",
   "execution_count": 51,
   "metadata": {},
   "outputs": [
    {
     "data": {
      "text/html": [
       "<div>\n",
       "<style scoped>\n",
       "    .dataframe tbody tr th:only-of-type {\n",
       "        vertical-align: middle;\n",
       "    }\n",
       "\n",
       "    .dataframe tbody tr th {\n",
       "        vertical-align: top;\n",
       "    }\n",
       "\n",
       "    .dataframe thead th {\n",
       "        text-align: right;\n",
       "    }\n",
       "</style>\n",
       "<table border=\"1\" class=\"dataframe\">\n",
       "  <thead>\n",
       "    <tr style=\"text-align: right;\">\n",
       "      <th></th>\n",
       "      <th>name</th>\n",
       "      <th>platform</th>\n",
       "      <th>year_of_release</th>\n",
       "      <th>genre</th>\n",
       "      <th>na_sales</th>\n",
       "      <th>eu_sales</th>\n",
       "      <th>jp_sales</th>\n",
       "      <th>other_sales</th>\n",
       "      <th>critic_score</th>\n",
       "      <th>user_score</th>\n",
       "      <th>rating</th>\n",
       "    </tr>\n",
       "  </thead>\n",
       "  <tbody>\n",
       "    <tr>\n",
       "      <th>659</th>\n",
       "      <td>NaN</td>\n",
       "      <td>GEN</td>\n",
       "      <td>1993</td>\n",
       "      <td>NaN</td>\n",
       "      <td>1.78</td>\n",
       "      <td>0.53</td>\n",
       "      <td>0.00</td>\n",
       "      <td>0.08</td>\n",
       "      <td>NaN</td>\n",
       "      <td>NaN</td>\n",
       "      <td>NaN</td>\n",
       "    </tr>\n",
       "    <tr>\n",
       "      <th>14244</th>\n",
       "      <td>NaN</td>\n",
       "      <td>GEN</td>\n",
       "      <td>1993</td>\n",
       "      <td>NaN</td>\n",
       "      <td>0.00</td>\n",
       "      <td>0.00</td>\n",
       "      <td>0.03</td>\n",
       "      <td>0.00</td>\n",
       "      <td>NaN</td>\n",
       "      <td>NaN</td>\n",
       "      <td>NaN</td>\n",
       "    </tr>\n",
       "  </tbody>\n",
       "</table>\n",
       "</div>"
      ],
      "text/plain": [
       "      name platform  year_of_release genre  na_sales  eu_sales  jp_sales  \\\n",
       "659    NaN      GEN             1993   NaN      1.78      0.53      0.00   \n",
       "14244  NaN      GEN             1993   NaN      0.00      0.00      0.03   \n",
       "\n",
       "       other_sales  critic_score user_score rating  \n",
       "659           0.08           NaN        NaN    NaN  \n",
       "14244         0.00           NaN        NaN    NaN  "
      ]
     },
     "metadata": {},
     "output_type": "display_data"
    }
   ],
   "source": [
    "display(data[data[\"name\"].isna()])"
   ]
  },
  {
   "cell_type": "markdown",
   "metadata": {},
   "source": [
    "Как оказалось, это теже строки, что не имеют значения \"genre\". В связи с тем, что воспроизвести данные нет возможности, строки лучше удалить:"
   ]
  },
  {
   "cell_type": "code",
   "execution_count": 52,
   "metadata": {},
   "outputs": [],
   "source": [
    "data = data[~data[\"name\"].isna()]"
   ]
  },
  {
   "cell_type": "markdown",
   "metadata": {},
   "source": [
    "**User Score Format**"
   ]
  },
  {
   "cell_type": "code",
   "execution_count": 53,
   "metadata": {
    "scrolled": true
   },
   "outputs": [
    {
     "data": {
      "text/plain": [
       "array(['8', nan, '8.3', '8.5', '6.6', '8.4', '8.6', '7.7', '6.3', '7.4',\n",
       "       '8.2', '9', '7.9', '8.1', '8.7', '7.1', '3.4', '5.3', '4.8', '3.2',\n",
       "       '8.9', '6.4', '7.8', '7.5', '2.6', '7.2', '9.2', '7', '7.3', '4.3',\n",
       "       '7.6', '5.7', '5', '9.1', '6.5', 'tbd', '8.8', '6.9', '9.4', '6.8',\n",
       "       '6.1', '6.7', '5.4', '4', '4.9', '4.5', '9.3', '6.2', '4.2', '6',\n",
       "       '3.7', '4.1', '5.8', '5.6', '5.5', '4.4', '4.6', '5.9', '3.9',\n",
       "       '3.1', '2.9', '5.2', '3.3', '4.7', '5.1', '3.5', '2.5', '1.9', '3',\n",
       "       '2.7', '2.2', '2', '9.5', '2.1', '3.6', '2.8', '1.8', '3.8', '0',\n",
       "       '1.6', '9.6', '2.4', '1.7', '1.1', '0.3', '1.5', '0.7', '1.2',\n",
       "       '2.3', '0.5', '1.3', '0.2', '0.6', '1.4', '0.9', '1', '9.7'],\n",
       "      dtype=object)"
      ]
     },
     "metadata": {},
     "output_type": "display_data"
    }
   ],
   "source": [
    "display(data[\"user_score\"].unique())"
   ]
  },
  {
   "cell_type": "markdown",
   "metadata": {},
   "source": [
    "Как можно заметить, кто-то понаставил \"tbd\". Значение можно заменить на nan, так как на момент анализа еще не добавили значения, а поставили аббревиатуру \"будет сделано\" и мы не как его не сможем \"придумать\" сами. А так же, изменим формат на float, сразу как уберем \"tbd\""
   ]
  },
  {
   "cell_type": "code",
   "execution_count": 54,
   "metadata": {},
   "outputs": [],
   "source": [
    "data.loc[data[\"user_score\"] == \"tbd\",\"user_score\"] = np.nan"
   ]
  },
  {
   "cell_type": "code",
   "execution_count": 55,
   "metadata": {},
   "outputs": [],
   "source": [
    "data[\"user_score\"] = data[\"user_score\"].astype(float)"
   ]
  },
  {
   "cell_type": "markdown",
   "metadata": {},
   "source": [
    "**Critic Score, User Score, Rating - cross platform**"
   ]
  },
  {
   "cell_type": "code",
   "execution_count": 56,
   "metadata": {
    "scrolled": false
   },
   "outputs": [
    {
     "data": {
      "text/plain": [
       "critic_score    8461\n",
       "user_score      8981\n",
       "rating          6676\n",
       "dtype: int64"
      ]
     },
     "metadata": {},
     "output_type": "display_data"
    }
   ],
   "source": [
    "display(data.isna().sum().tail(3))"
   ]
  },
  {
   "cell_type": "markdown",
   "metadata": {},
   "source": [
    "Так как платформа во многом не влияет на рейтинг или оценку игры, то можно заполнить некоторые пропуски за счет копирования рейтинга и оценок для одной и той же игры с другой платформы. "
   ]
  },
  {
   "cell_type": "code",
   "execution_count": 57,
   "metadata": {},
   "outputs": [],
   "source": [
    "for i in data.name.unique():\n",
    "    if data.loc[(data['name'] == i) & (~data['rating'].isna()), 'rating'].value_counts().max() > 0:\n",
    "        data.loc[(data['name'] == i) & (data['rating'].isna()), 'rating'] = \\\n",
    "        data.loc[(data['name'] == i) & (~data['rating'].isna()), 'rating'].value_counts().index[0]"
   ]
  },
  {
   "cell_type": "code",
   "execution_count": 58,
   "metadata": {},
   "outputs": [],
   "source": [
    "for i in data.name.unique():\n",
    "    if data.loc[(data['name'] == i) & (~data['user_score'].isna()), 'user_score'].value_counts().max() > 0:\n",
    "        data.loc[(data['name'] == i) & (data['user_score'].isna()), 'user_score'] = \\\n",
    "        data.loc[(data['name'] == i) & (~data['user_score'].isna()), 'user_score'].value_counts().index[0]"
   ]
  },
  {
   "cell_type": "code",
   "execution_count": 59,
   "metadata": {},
   "outputs": [],
   "source": [
    "for i in data.name.unique():\n",
    "    if data.loc[(data['name'] == i) & (~data['critic_score'].isna()), 'critic_score'].value_counts().max() > 0:\n",
    "        data.loc[(data['name'] == i) & (data['critic_score'].isna()), 'critic_score'] = \\\n",
    "        data.loc[(data['name'] == i) & (~data['critic_score'].isna()), 'critic_score'].value_counts().index[0]"
   ]
  },
  {
   "cell_type": "code",
   "execution_count": 60,
   "metadata": {
    "scrolled": false
   },
   "outputs": [
    {
     "data": {
      "text/plain": [
       "critic_score    7522\n",
       "user_score      7920\n",
       "rating          6259\n",
       "dtype: int64"
      ]
     },
     "metadata": {},
     "output_type": "display_data"
    }
   ],
   "source": [
    "display(data.isna().sum().tail(3))"
   ]
  },
  {
   "cell_type": "markdown",
   "metadata": {},
   "source": [
    "Количество пропусков снизилось, что хорошо, но не сошло на ноль. Оставшиеся пропуски придется оставить, так как нет другого способа чем можно заменить пропуски. "
   ]
  },
  {
   "cell_type": "markdown",
   "metadata": {},
   "source": [
    "**Rating** "
   ]
  },
  {
   "cell_type": "markdown",
   "metadata": {},
   "source": [
    "Нужно понимать, что рейтинг ESRB - не обязательная часть для выпуска игры. И основание организации произошло только в 1994 года, хотя данные у нас с 1980 года. Поэтому, пропуски стоит заменить на \"Unrated\""
   ]
  },
  {
   "cell_type": "code",
   "execution_count": 61,
   "metadata": {},
   "outputs": [],
   "source": [
    "data[\"rating\"] = data[\"rating\"].fillna(\"Unrated\")"
   ]
  },
  {
   "cell_type": "markdown",
   "metadata": {},
   "source": [
    "Тем самым, мы как бы создаем дополнительный рейтинг, и позже можем посмотреть влияет ли он на успех игры. "
   ]
  },
  {
   "cell_type": "markdown",
   "metadata": {},
   "source": [
    "**Sales**"
   ]
  },
  {
   "cell_type": "code",
   "execution_count": 62,
   "metadata": {
    "scrolled": true
   },
   "outputs": [
    {
     "data": {
      "text/html": [
       "<div>\n",
       "<style scoped>\n",
       "    .dataframe tbody tr th:only-of-type {\n",
       "        vertical-align: middle;\n",
       "    }\n",
       "\n",
       "    .dataframe tbody tr th {\n",
       "        vertical-align: top;\n",
       "    }\n",
       "\n",
       "    .dataframe thead th {\n",
       "        text-align: right;\n",
       "    }\n",
       "</style>\n",
       "<table border=\"1\" class=\"dataframe\">\n",
       "  <thead>\n",
       "    <tr style=\"text-align: right;\">\n",
       "      <th></th>\n",
       "      <th>name</th>\n",
       "      <th>platform</th>\n",
       "      <th>year_of_release</th>\n",
       "      <th>genre</th>\n",
       "      <th>na_sales</th>\n",
       "      <th>eu_sales</th>\n",
       "      <th>jp_sales</th>\n",
       "      <th>other_sales</th>\n",
       "      <th>critic_score</th>\n",
       "      <th>user_score</th>\n",
       "      <th>rating</th>\n",
       "    </tr>\n",
       "  </thead>\n",
       "  <tbody>\n",
       "    <tr>\n",
       "      <th>0</th>\n",
       "      <td>Wii Sports</td>\n",
       "      <td>Wii</td>\n",
       "      <td>2006</td>\n",
       "      <td>Sports</td>\n",
       "      <td>41.36</td>\n",
       "      <td>28.96</td>\n",
       "      <td>3.77</td>\n",
       "      <td>8.45</td>\n",
       "      <td>76.0</td>\n",
       "      <td>8.0</td>\n",
       "      <td>E</td>\n",
       "    </tr>\n",
       "    <tr>\n",
       "      <th>1</th>\n",
       "      <td>Super Mario Bros.</td>\n",
       "      <td>NES</td>\n",
       "      <td>1985</td>\n",
       "      <td>Platform</td>\n",
       "      <td>29.08</td>\n",
       "      <td>3.58</td>\n",
       "      <td>6.81</td>\n",
       "      <td>0.77</td>\n",
       "      <td>NaN</td>\n",
       "      <td>NaN</td>\n",
       "      <td>Unrated</td>\n",
       "    </tr>\n",
       "    <tr>\n",
       "      <th>2</th>\n",
       "      <td>Mario Kart Wii</td>\n",
       "      <td>Wii</td>\n",
       "      <td>2008</td>\n",
       "      <td>Racing</td>\n",
       "      <td>15.68</td>\n",
       "      <td>12.76</td>\n",
       "      <td>3.79</td>\n",
       "      <td>3.29</td>\n",
       "      <td>82.0</td>\n",
       "      <td>8.3</td>\n",
       "      <td>E</td>\n",
       "    </tr>\n",
       "    <tr>\n",
       "      <th>3</th>\n",
       "      <td>Wii Sports Resort</td>\n",
       "      <td>Wii</td>\n",
       "      <td>2009</td>\n",
       "      <td>Sports</td>\n",
       "      <td>15.61</td>\n",
       "      <td>10.93</td>\n",
       "      <td>3.28</td>\n",
       "      <td>2.95</td>\n",
       "      <td>80.0</td>\n",
       "      <td>8.0</td>\n",
       "      <td>E</td>\n",
       "    </tr>\n",
       "    <tr>\n",
       "      <th>4</th>\n",
       "      <td>Pokemon Red/Pokemon Blue</td>\n",
       "      <td>GB</td>\n",
       "      <td>1996</td>\n",
       "      <td>Role-Playing</td>\n",
       "      <td>11.27</td>\n",
       "      <td>8.89</td>\n",
       "      <td>10.22</td>\n",
       "      <td>1.00</td>\n",
       "      <td>NaN</td>\n",
       "      <td>NaN</td>\n",
       "      <td>Unrated</td>\n",
       "    </tr>\n",
       "  </tbody>\n",
       "</table>\n",
       "</div>"
      ],
      "text/plain": [
       "                       name platform  year_of_release         genre  na_sales  \\\n",
       "0                Wii Sports      Wii             2006        Sports     41.36   \n",
       "1         Super Mario Bros.      NES             1985      Platform     29.08   \n",
       "2            Mario Kart Wii      Wii             2008        Racing     15.68   \n",
       "3         Wii Sports Resort      Wii             2009        Sports     15.61   \n",
       "4  Pokemon Red/Pokemon Blue       GB             1996  Role-Playing     11.27   \n",
       "\n",
       "   eu_sales  jp_sales  other_sales  critic_score  user_score   rating  \n",
       "0     28.96      3.77         8.45          76.0         8.0        E  \n",
       "1      3.58      6.81         0.77           NaN         NaN  Unrated  \n",
       "2     12.76      3.79         3.29          82.0         8.3        E  \n",
       "3     10.93      3.28         2.95          80.0         8.0        E  \n",
       "4      8.89     10.22         1.00           NaN         NaN  Unrated  "
      ]
     },
     "metadata": {},
     "output_type": "display_data"
    }
   ],
   "source": [
    "display(data.head())"
   ]
  },
  {
   "cell_type": "markdown",
   "metadata": {},
   "source": [
    "Проблем нет. "
   ]
  },
  {
   "cell_type": "markdown",
   "metadata": {},
   "source": [
    "**Total Sales**"
   ]
  },
  {
   "cell_type": "markdown",
   "metadata": {},
   "source": [
    "Для будущего анализа, нужно создать столбец с суммарными продажами:"
   ]
  },
  {
   "cell_type": "code",
   "execution_count": 63,
   "metadata": {},
   "outputs": [],
   "source": [
    "data[\"total_sales\"] = data[\"eu_sales\"] + data[\"jp_sales\"] + data[\"na_sales\"] + data[\"other_sales\"]"
   ]
  },
  {
   "cell_type": "code",
   "execution_count": 64,
   "metadata": {},
   "outputs": [
    {
     "data": {
      "text/html": [
       "<div>\n",
       "<style scoped>\n",
       "    .dataframe tbody tr th:only-of-type {\n",
       "        vertical-align: middle;\n",
       "    }\n",
       "\n",
       "    .dataframe tbody tr th {\n",
       "        vertical-align: top;\n",
       "    }\n",
       "\n",
       "    .dataframe thead th {\n",
       "        text-align: right;\n",
       "    }\n",
       "</style>\n",
       "<table border=\"1\" class=\"dataframe\">\n",
       "  <thead>\n",
       "    <tr style=\"text-align: right;\">\n",
       "      <th></th>\n",
       "      <th>name</th>\n",
       "      <th>platform</th>\n",
       "      <th>year_of_release</th>\n",
       "      <th>genre</th>\n",
       "      <th>na_sales</th>\n",
       "      <th>eu_sales</th>\n",
       "      <th>jp_sales</th>\n",
       "      <th>other_sales</th>\n",
       "      <th>critic_score</th>\n",
       "      <th>user_score</th>\n",
       "      <th>rating</th>\n",
       "      <th>total_sales</th>\n",
       "    </tr>\n",
       "  </thead>\n",
       "  <tbody>\n",
       "    <tr>\n",
       "      <th>0</th>\n",
       "      <td>Wii Sports</td>\n",
       "      <td>Wii</td>\n",
       "      <td>2006</td>\n",
       "      <td>Sports</td>\n",
       "      <td>41.36</td>\n",
       "      <td>28.96</td>\n",
       "      <td>3.77</td>\n",
       "      <td>8.45</td>\n",
       "      <td>76.0</td>\n",
       "      <td>8.0</td>\n",
       "      <td>E</td>\n",
       "      <td>82.54</td>\n",
       "    </tr>\n",
       "  </tbody>\n",
       "</table>\n",
       "</div>"
      ],
      "text/plain": [
       "         name platform  year_of_release   genre  na_sales  eu_sales  jp_sales  \\\n",
       "0  Wii Sports      Wii             2006  Sports     41.36     28.96      3.77   \n",
       "\n",
       "   other_sales  critic_score  user_score rating  total_sales  \n",
       "0         8.45          76.0         8.0      E        82.54  "
      ]
     },
     "metadata": {},
     "output_type": "display_data"
    }
   ],
   "source": [
    "display(data.head(1))"
   ]
  },
  {
   "cell_type": "markdown",
   "metadata": {},
   "source": [
    "**Genre**"
   ]
  },
  {
   "cell_type": "code",
   "execution_count": 65,
   "metadata": {},
   "outputs": [
    {
     "data": {
      "text/plain": [
       "array(['Sports', 'Platform', 'Racing', 'Role-Playing', 'Puzzle', 'Misc',\n",
       "       'Shooter', 'Simulation', 'Action', 'Fighting', 'Adventure',\n",
       "       'Strategy'], dtype=object)"
      ]
     },
     "metadata": {},
     "output_type": "display_data"
    }
   ],
   "source": [
    "display(data[\"genre\"].unique())"
   ]
  },
  {
   "cell_type": "markdown",
   "metadata": {},
   "source": [
    "Проблем нет. "
   ]
  },
  {
   "cell_type": "markdown",
   "metadata": {},
   "source": [
    "**Platform**"
   ]
  },
  {
   "cell_type": "code",
   "execution_count": 66,
   "metadata": {},
   "outputs": [
    {
     "data": {
      "text/plain": [
       "array(['Wii', 'NES', 'GB', 'DS', 'X360', 'PS3', 'PS2', 'SNES', 'GBA',\n",
       "       'PS4', '3DS', 'N64', 'PS', 'XB', 'PC', '2600', 'PSP', 'XOne',\n",
       "       'WiiU', 'GC', 'GEN', 'DC', 'PSV', 'SAT', 'SCD', 'WS', 'NG', 'TG16',\n",
       "       '3DO', 'GG', 'PCFX'], dtype=object)"
      ]
     },
     "metadata": {},
     "output_type": "display_data"
    }
   ],
   "source": [
    "display(data[\"platform\"].unique())"
   ]
  },
  {
   "cell_type": "markdown",
   "metadata": {},
   "source": [
    "Проблем нет. "
   ]
  },
  {
   "cell_type": "markdown",
   "metadata": {},
   "source": [
    "**Rating**"
   ]
  },
  {
   "cell_type": "code",
   "execution_count": 67,
   "metadata": {},
   "outputs": [
    {
     "data": {
      "text/plain": [
       "array(['E', 'Unrated', 'M', 'T', 'E10+', 'K-A', 'AO', 'EC', 'RP'],\n",
       "      dtype=object)"
      ]
     },
     "metadata": {},
     "output_type": "display_data"
    }
   ],
   "source": [
    "display(data[\"rating\"].unique())"
   ]
  },
  {
   "cell_type": "markdown",
   "metadata": {},
   "source": [
    "Следуя из информации о рейтинге ESRB, рейтинг переименовал рейтинг К-А в Е в 1998 году, поэтому следуen переименовать его и в наших данных, так как это один и тот же рейниг: "
   ]
  },
  {
   "cell_type": "code",
   "execution_count": 68,
   "metadata": {},
   "outputs": [],
   "source": [
    "data.loc[data[\"rating\"] == \"K-A\",\"rating\"] = \"E\""
   ]
  },
  {
   "cell_type": "markdown",
   "metadata": {},
   "source": [
    "Так же, рейтинг RP значит, что еще в процессе оценки или как модно говорить \"tbd\", поэтому его мы заменим на \"Unrated\":"
   ]
  },
  {
   "cell_type": "code",
   "execution_count": 69,
   "metadata": {},
   "outputs": [],
   "source": [
    "data.loc[data[\"rating\"] == \"RP\",\"rating\"] = \"Unrated\""
   ]
  },
  {
   "cell_type": "markdown",
   "metadata": {},
   "source": [
    "**Результат**"
   ]
  },
  {
   "cell_type": "code",
   "execution_count": 70,
   "metadata": {},
   "outputs": [
    {
     "name": "stdout",
     "output_type": "stream",
     "text": [
      "<class 'pandas.core.frame.DataFrame'>\n",
      "Int64Index: 16444 entries, 0 to 16714\n",
      "Data columns (total 12 columns):\n",
      " #   Column           Non-Null Count  Dtype  \n",
      "---  ------           --------------  -----  \n",
      " 0   name             16444 non-null  object \n",
      " 1   platform         16444 non-null  object \n",
      " 2   year_of_release  16444 non-null  int64  \n",
      " 3   genre            16444 non-null  object \n",
      " 4   na_sales         16444 non-null  float64\n",
      " 5   eu_sales         16444 non-null  float64\n",
      " 6   jp_sales         16444 non-null  float64\n",
      " 7   other_sales      16444 non-null  float64\n",
      " 8   critic_score     8922 non-null   float64\n",
      " 9   user_score       8524 non-null   float64\n",
      " 10  rating           16444 non-null  object \n",
      " 11  total_sales      16444 non-null  float64\n",
      "dtypes: float64(7), int64(1), object(4)\n",
      "memory usage: 1.6+ MB\n"
     ]
    }
   ],
   "source": [
    "data.info()"
   ]
  },
  {
   "cell_type": "markdown",
   "metadata": {},
   "source": [
    "Как видно из общего анализа, все замечания по максимуму были устранены."
   ]
  },
  {
   "cell_type": "markdown",
   "metadata": {},
   "source": [
    "# Проведите исследовательский анализ данных"
   ]
  },
  {
   "cell_type": "markdown",
   "metadata": {},
   "source": [
    "**Games Released per Platform per Year** "
   ]
  },
  {
   "cell_type": "code",
   "execution_count": 71,
   "metadata": {},
   "outputs": [
    {
     "data": {
      "text/plain": [
       "<AxesSubplot:title={'center':'Games Released per Every Year'}, xlabel='year_of_release'>"
      ]
     },
     "metadata": {},
     "output_type": "display_data"
    },
    {
     "data": {
      "image/png": "[encoded data removed]",
      "text/plain": [
       "<Figure size 1080x360 with 1 Axes>"
      ]
     },
     "metadata": {
      "needs_background": "light"
     },
     "output_type": "display_data"
    }
   ],
   "source": [
    "display(data.groupby(\"year_of_release\")[\"name\"].count().plot(figsize = (15,5), title = \"Games Released per Every Year\"))"
   ]
  },
  {
   "cell_type": "markdown",
   "metadata": {},
   "source": [
    "Вывод: из данных видно, что 1993 года количество выпускаемых игр увеличивалось вплоть до 2008 года, который имеет самоё большое количество выпущенных игр за год. После 2009, количество выпускаемых игр резко начало снижаться вплоть до 2016 года.\n",
    "\n",
    "Из данных видно, что есть два периода, до и после 2000 года. Так как именно после этого года интерес к видеоиграм достиг другого уровня. Поэтому, нельзя сравнивать все данные из последних лет с данными из первых годов."
   ]
  },
  {
   "cell_type": "markdown",
   "metadata": {},
   "source": [
    "Так как нас интересует анализ данных для прогноза на 2017 год и для анализа поведения рынка, то нам стоит сфокусировать наше внимание на период после 2000 года, когда интерес к играм начал расти и общая динамика рынка поменялась."
   ]
  },
  {
   "cell_type": "code",
   "execution_count": 72,
   "metadata": {},
   "outputs": [],
   "source": [
    "data = data[data[\"year_of_release\"] >= 2000]"
   ]
  },
  {
   "cell_type": "markdown",
   "metadata": {},
   "source": [
    "**Sales per Platform** "
   ]
  },
  {
   "cell_type": "markdown",
   "metadata": {},
   "source": [
    "Составим новую таблицу с продажами по платформе по годам:"
   ]
  },
  {
   "cell_type": "code",
   "execution_count": 73,
   "metadata": {},
   "outputs": [],
   "source": [
    "sales_per_platform_per_year = \\\n",
    "data.pivot_table(index = \"year_of_release\", columns = \"platform\", values = \"total_sales\",aggfunc=\"sum\")"
   ]
  },
  {
   "cell_type": "markdown",
   "metadata": {},
   "source": [
    "Оставим только 10 самых популярных платформ:"
   ]
  },
  {
   "cell_type": "code",
   "execution_count": 74,
   "metadata": {},
   "outputs": [],
   "source": [
    "sales_per_platform_per_year = \\\n",
    "sales_per_platform_per_year[list(data.groupby(\"platform\")[\"total_sales\"]\\\n",
    "                                 .sum().sort_values(ascending = False).head(10).index.values)]"
   ]
  },
  {
   "cell_type": "code",
   "execution_count": 75,
   "metadata": {
    "scrolled": false
   },
   "outputs": [
    {
     "data": {
      "text/plain": [
       "<AxesSubplot:title={'center':'Sales per Platform per Year - Top 10'}, xlabel='year_of_release'>"
      ]
     },
     "metadata": {},
     "output_type": "display_data"
    },
    {
     "data": {
      "image/png": "[encoded data removed]",
      "text/plain": [
       "<Figure size 1080x360 with 1 Axes>"
      ]
     },
     "metadata": {
      "needs_background": "light"
     },
     "output_type": "display_data"
    }
   ],
   "source": [
    "plt.show()\n",
    "display(sales_per_platform_per_year.plot(figsize = (15,5), title = \"Sales per Platform per Year - Top 10\"))\n"
   ]
  },
  {
   "cell_type": "code",
   "execution_count": 76,
   "metadata": {},
   "outputs": [
    {
     "data": {
      "image/png": "[encoded data removed]",
      "text/plain": [
       "<Figure size 1080x360 with 1 Axes>"
      ]
     },
     "metadata": {
      "needs_background": "light"
     },
     "output_type": "display_data"
    }
   ],
   "source": [
    "# код ревьюера\n",
    "import matplotlib.pyplot as plt\n",
    "sales_per_platform_per_year.plot(figsize = (15,5), title = \"Sales per Platform per Year - Top 10\")\n",
    "plt.show()"
   ]
  },
  {
   "cell_type": "markdown",
   "metadata": {},
   "source": [
    "Вывод: как видно из диаграммы, платформы имеют жизненный цикл, который в среднем длится 8 лет. Из которых, примерно два года идет рост продаж, после, 2-4 года стагнации, а далее спад до полной потери продаж."
   ]
  },
  {
   "cell_type": "markdown",
   "metadata": {},
   "source": [
    "**2017 Predictions**"
   ]
  },
  {
   "cell_type": "markdown",
   "metadata": {},
   "source": [
    "Так как у платформы имеют жизненный срок (не включая PC), то для анализа на прогноза на 2017 год, мы можем сфокусировать свое внимание только на последние 4 года (половина жизненного цикла):"
   ]
  },
  {
   "cell_type": "code",
   "execution_count": 77,
   "metadata": {},
   "outputs": [],
   "source": [
    "data_after_2012 = data[(data[\"year_of_release\"] >= 2012)]"
   ]
  },
  {
   "cell_type": "code",
   "execution_count": 78,
   "metadata": {
    "scrolled": false
   },
   "outputs": [
    {
     "data": {
      "text/plain": [
       "<AxesSubplot:title={'center':'Total Sales per Year of Release'}, xlabel='year_of_release'>"
      ]
     },
     "metadata": {},
     "output_type": "display_data"
    },
    {
     "data": {
      "image/png": "[encoded data removed]",
      "text/plain": [
       "<Figure size 1080x360 with 1 Axes>"
      ]
     },
     "metadata": {
      "needs_background": "light"
     },
     "output_type": "display_data"
    }
   ],
   "source": [
    "display(data_after_2012.pivot_table(index = \"year_of_release\", columns = \"platform\", values = \"total_sales\", aggfunc = \"sum\")\\\n",
    "        .plot(figsize = (15,5), title = \"Total Sales per Year of Release\"))"
   ]
  },
  {
   "cell_type": "markdown",
   "metadata": {},
   "source": [
    "Вывод: из данных видно, что все продажи подают. Данные очень странные, ведь сложно предположить, что все игроки вдруг перестали играть, а новые не пришли. Скорее всего, нужен дополнительный анализ рынка, так как скорее всего данные не полные и есть упущенная платформа, например мобильные игры, которая забирают себе игроков с других платформ.\n",
    "\n",
    "Однако, из двух прошлых графиков видно, что продажи игр для платформ которые выпускают новую генерацию, достигают хороших результатов. Следственно, нужно смотреть на появление PS5 и Xbox \"что-то там\", так как вероятность их успеха видна в истории прошлых генераций."
   ]
  },
  {
   "cell_type": "markdown",
   "metadata": {},
   "source": [
    "**Глобальные продажы игр в разбивке по платформам**"
   ]
  },
  {
   "cell_type": "code",
   "execution_count": 79,
   "metadata": {
    "scrolled": false
   },
   "outputs": [
    {
     "data": {
      "text/plain": [
       "<AxesSubplot:title={'center':'total_sales'}, xlabel='platform'>"
      ]
     },
     "metadata": {},
     "output_type": "display_data"
    },
    {
     "data": {
      "image/png": "[encoded data removed]",
      "text/plain": [
       "<Figure size 1080x1080 with 1 Axes>"
      ]
     },
     "metadata": {
      "needs_background": "light"
     },
     "output_type": "display_data"
    }
   ],
   "source": [
    "display(data_after_2012.boxplot(column=\"total_sales\", by=\"platform\",figsize = (15,15)))"
   ]
  },
  {
   "cell_type": "code",
   "execution_count": 80,
   "metadata": {},
   "outputs": [
    {
     "data": {
      "text/plain": [
       "(0.0, 2.0)"
      ]
     },
     "metadata": {},
     "output_type": "display_data"
    },
    {
     "data": {
      "image/png": "[encoded data removed]",
      "text/plain": [
       "<Figure size 1080x1080 with 1 Axes>"
      ]
     },
     "metadata": {
      "needs_background": "light"
     },
     "output_type": "display_data"
    }
   ],
   "source": [
    "display(data_after_2012.boxplot(column=\"total_sales\", by=\"platform\",figsize = (15,15)).set_ylim(0,2))"
   ]
  },
  {
   "cell_type": "markdown",
   "metadata": {},
   "source": [
    "Вывод: большинство игр не достигают больших продаж на всех платформах. Но у многих платформ есть хорошее количество игр которые на диаграмме изображены как выбросы и которые выбиваются из общей кучи хорошими продажами. Что можно заметить, таких игр очень мыла у PSP, PSV и DC. \n",
    "\n",
    "Из анализа самих box'ов можно заметить, что пятерка лидеров по продажам состовляет: PS3, PS4, X360, XOne, WiiU. С лидерством у X360. А худшии результаты у PSP и PSV. "
   ]
  },
  {
   "cell_type": "markdown",
   "metadata": {},
   "source": [
    "**Влияние на продажи отзовов пользователей и критиков**"
   ]
  },
  {
   "cell_type": "markdown",
   "metadata": {},
   "source": [
    "Из ранее проделанного анализа, было выявлено, что платформа X360 самая популярная за последнее годы, поэтому она будет использована для анализа влияния отзывов критиков и пользователей на продажи игр. \n",
    "\n",
    "Однако, стоит взять хотя бы еще одну, вторую, платформу, чтобы убедиться, что результат одинаковый среди разных платформ. Поэтому, еще будет сделан анализ платформы PS3 как прямого конкурента X360 и платформы с хорошими продажами. "
   ]
  },
  {
   "cell_type": "markdown",
   "metadata": {},
   "source": [
    "*X360*"
   ]
  },
  {
   "cell_type": "code",
   "execution_count": 81,
   "metadata": {
    "scrolled": true
   },
   "outputs": [],
   "source": [
    "x360_data = data[data[\"platform\"] == \"X360\"]\n",
    "x360_data = x360_data[[\"user_score\",\"critic_score\",\"total_sales\"]]"
   ]
  },
  {
   "cell_type": "code",
   "execution_count": 82,
   "metadata": {
    "scrolled": false
   },
   "outputs": [
    {
     "data": {
      "text/plain": [
       "<AxesSubplot:title={'center':'User Score VS Total Sales'}, xlabel='user_score'>"
      ]
     },
     "metadata": {},
     "output_type": "display_data"
    },
    {
     "data": {
      "image/png": "[encoded data removed]",
      "text/plain": [
       "<Figure size 1080x360 with 1 Axes>"
      ]
     },
     "metadata": {
      "needs_background": "light"
     },
     "output_type": "display_data"
    }
   ],
   "source": [
    "display(x360_data.plot(x =\"user_score\", y= \"total_sales\", style = \"o\", figsize = (15,5), title = \"User Score VS Total Sales\"))"
   ]
  },
  {
   "cell_type": "code",
   "execution_count": 83,
   "metadata": {
    "scrolled": false
   },
   "outputs": [
    {
     "data": {
      "text/plain": [
       "<AxesSubplot:title={'center':'Critic Score VS Total Sales'}, xlabel='critic_score'>"
      ]
     },
     "metadata": {},
     "output_type": "display_data"
    },
    {
     "data": {
      "image/png": "[encoded data removed]",
      "text/plain": [
       "<Figure size 1080x360 with 1 Axes>"
      ]
     },
     "metadata": {
      "needs_background": "light"
     },
     "output_type": "display_data"
    }
   ],
   "source": [
    "display(x360_data.plot(x =\"critic_score\", y= \"total_sales\", style = \"o\", figsize = (15,5), title = \"Critic Score VS Total Sales\"))"
   ]
  },
  {
   "cell_type": "code",
   "execution_count": 84,
   "metadata": {
    "scrolled": false
   },
   "outputs": [
    {
     "data": {
      "text/html": [
       "<div>\n",
       "<style scoped>\n",
       "    .dataframe tbody tr th:only-of-type {\n",
       "        vertical-align: middle;\n",
       "    }\n",
       "\n",
       "    .dataframe tbody tr th {\n",
       "        vertical-align: top;\n",
       "    }\n",
       "\n",
       "    .dataframe thead th {\n",
       "        text-align: right;\n",
       "    }\n",
       "</style>\n",
       "<table border=\"1\" class=\"dataframe\">\n",
       "  <thead>\n",
       "    <tr style=\"text-align: right;\">\n",
       "      <th></th>\n",
       "      <th>user_score</th>\n",
       "      <th>critic_score</th>\n",
       "      <th>total_sales</th>\n",
       "    </tr>\n",
       "  </thead>\n",
       "  <tbody>\n",
       "    <tr>\n",
       "      <th>user_score</th>\n",
       "      <td>1.000000</td>\n",
       "      <td>0.548768</td>\n",
       "      <td>0.115375</td>\n",
       "    </tr>\n",
       "    <tr>\n",
       "      <th>critic_score</th>\n",
       "      <td>0.548768</td>\n",
       "      <td>1.000000</td>\n",
       "      <td>0.378843</td>\n",
       "    </tr>\n",
       "    <tr>\n",
       "      <th>total_sales</th>\n",
       "      <td>0.115375</td>\n",
       "      <td>0.378843</td>\n",
       "      <td>1.000000</td>\n",
       "    </tr>\n",
       "  </tbody>\n",
       "</table>\n",
       "</div>"
      ],
      "text/plain": [
       "              user_score  critic_score  total_sales\n",
       "user_score      1.000000      0.548768     0.115375\n",
       "critic_score    0.548768      1.000000     0.378843\n",
       "total_sales     0.115375      0.378843     1.000000"
      ]
     },
     "metadata": {},
     "output_type": "display_data"
    }
   ],
   "source": [
    "display(x360_data.corr())"
   ]
  },
  {
   "cell_type": "markdown",
   "metadata": {},
   "source": [
    "*PS3*"
   ]
  },
  {
   "cell_type": "code",
   "execution_count": 85,
   "metadata": {},
   "outputs": [],
   "source": [
    "ps3_data = data[data[\"platform\"] == \"PS3\"]\n",
    "ps3_data = ps3_data[[\"user_score\",\"critic_score\",\"total_sales\"]]"
   ]
  },
  {
   "cell_type": "code",
   "execution_count": 86,
   "metadata": {},
   "outputs": [
    {
     "data": {
      "text/plain": [
       "<AxesSubplot:title={'center':'User Score VS Total Sales for X360'}, xlabel='user_score'>"
      ]
     },
     "metadata": {},
     "output_type": "display_data"
    },
    {
     "data": {
      "image/png": "[encoded data removed]",
      "text/plain": [
       "<Figure size 1080x360 with 1 Axes>"
      ]
     },
     "metadata": {
      "needs_background": "light"
     },
     "output_type": "display_data"
    }
   ],
   "source": [
    "display(ps3_data.plot(x =\"user_score\", y= \"total_sales\", style = \"o\", figsize = (15,5), title = \"User Score VS Total Sales for X360\"))"
   ]
  },
  {
   "cell_type": "code",
   "execution_count": 87,
   "metadata": {},
   "outputs": [
    {
     "data": {
      "text/plain": [
       "<AxesSubplot:title={'center':'Critic Score VS Total Sales for PS3'}, xlabel='critic_score'>"
      ]
     },
     "metadata": {},
     "output_type": "display_data"
    },
    {
     "data": {
      "image/png": "[encoded data removed]",
      "text/plain": [
       "<Figure size 1080x360 with 1 Axes>"
      ]
     },
     "metadata": {
      "needs_background": "light"
     },
     "output_type": "display_data"
    }
   ],
   "source": [
    "display(ps3_data.plot(x =\"critic_score\", y= \"total_sales\", style = \"o\", figsize = (15,5), title = \"Critic Score VS Total Sales for PS3\"))"
   ]
  },
  {
   "cell_type": "code",
   "execution_count": 88,
   "metadata": {},
   "outputs": [
    {
     "data": {
      "text/html": [
       "<div>\n",
       "<style scoped>\n",
       "    .dataframe tbody tr th:only-of-type {\n",
       "        vertical-align: middle;\n",
       "    }\n",
       "\n",
       "    .dataframe tbody tr th {\n",
       "        vertical-align: top;\n",
       "    }\n",
       "\n",
       "    .dataframe thead th {\n",
       "        text-align: right;\n",
       "    }\n",
       "</style>\n",
       "<table border=\"1\" class=\"dataframe\">\n",
       "  <thead>\n",
       "    <tr style=\"text-align: right;\">\n",
       "      <th></th>\n",
       "      <th>user_score</th>\n",
       "      <th>critic_score</th>\n",
       "      <th>total_sales</th>\n",
       "    </tr>\n",
       "  </thead>\n",
       "  <tbody>\n",
       "    <tr>\n",
       "      <th>user_score</th>\n",
       "      <td>1.000000</td>\n",
       "      <td>0.547273</td>\n",
       "      <td>0.127118</td>\n",
       "    </tr>\n",
       "    <tr>\n",
       "      <th>critic_score</th>\n",
       "      <td>0.547273</td>\n",
       "      <td>1.000000</td>\n",
       "      <td>0.405450</td>\n",
       "    </tr>\n",
       "    <tr>\n",
       "      <th>total_sales</th>\n",
       "      <td>0.127118</td>\n",
       "      <td>0.405450</td>\n",
       "      <td>1.000000</td>\n",
       "    </tr>\n",
       "  </tbody>\n",
       "</table>\n",
       "</div>"
      ],
      "text/plain": [
       "              user_score  critic_score  total_sales\n",
       "user_score      1.000000      0.547273     0.127118\n",
       "critic_score    0.547273      1.000000     0.405450\n",
       "total_sales     0.127118      0.405450     1.000000"
      ]
     },
     "metadata": {},
     "output_type": "display_data"
    }
   ],
   "source": [
    "display(ps3_data.corr())"
   ]
  },
  {
   "cell_type": "markdown",
   "metadata": {},
   "source": [
    "Вывод: как видно из результатов, оценки пользователей имеет слабое влияние на общее продажи игр. Однако, оценка критиков уже имеет слабое, но влияние на продажи игр. Так же стоит отметить, что чем больше оценка с обеих сторон, чем больше шанс наткнутся на очень успешную игру (на диаграммах выглядит как выброс). Этот вывод работает для обеих платформ, что означает, что данная закономерность не единичный случай.  "
   ]
  },
  {
   "cell_type": "markdown",
   "metadata": {},
   "source": [
    "**Общее распределение игр по жанрам**"
   ]
  },
  {
   "cell_type": "code",
   "execution_count": 89,
   "metadata": {
    "scrolled": false
   },
   "outputs": [
    {
     "data": {
      "text/plain": [
       "<AxesSubplot:title={'center':'Genre VS Total Sales'}, xlabel='genre'>"
      ]
     },
     "metadata": {},
     "output_type": "display_data"
    },
    {
     "data": {
      "image/png": "[encoded data removed]",
      "text/plain": [
       "<Figure size 1080x360 with 1 Axes>"
      ]
     },
     "metadata": {
      "needs_background": "light"
     },
     "output_type": "display_data"
    }
   ],
   "source": [
    "display(data.groupby(\"genre\")[\"total_sales\"].median().sort_values(ascending = False)\\\n",
    "        .plot(figsize = (15,5), kind = \"bar\", title = \"Genre VS Total Sales\"))"
   ]
  },
  {
   "cell_type": "markdown",
   "metadata": {},
   "source": [
    "Вывод: Самым популярным жанром является Shooter, а самым не популярный Adventure. Так же стоит отметить, 2 и 3 место очень схожи, но с \"Platform\", которое на втором месте, нужно быть аккуратным, так как это жанр старых игр и вряд ли он популярен в современное время. Из-за этого, первое место выглядит выделившемся, но это скорее вопросы ко второму месту, чем к первому. Что говоря про другой конец, то там видно, что последние три места прямо не следуют за трендом снижения и имеют куда меньшие продаже чем ожидалось бы. \n",
    "\n",
    "Что говоря по прибыльности, то без стоимости игры, ее нельзя посчитать из-за закона спроса и предложения. "
   ]
  },
  {
   "cell_type": "markdown",
   "metadata": {},
   "source": [
    "# Портрет пользователя каждого региона"
   ]
  },
  {
   "cell_type": "markdown",
   "metadata": {},
   "source": [
    "**Sales per Region** "
   ]
  },
  {
   "cell_type": "code",
   "execution_count": 90,
   "metadata": {
    "scrolled": false
   },
   "outputs": [
    {
     "data": {
      "text/plain": [
       "<AxesSubplot:title={'center':'Top 5 platforms per sale in North America'}, ylabel='na_sales'>"
      ]
     },
     "metadata": {},
     "output_type": "display_data"
    },
    {
     "data": {
      "text/plain": [
       "<AxesSubplot:title={'center':'Top 5 platforms per sale in European Union'}, ylabel='eu_sales'>"
      ]
     },
     "metadata": {},
     "output_type": "display_data"
    },
    {
     "data": {
      "text/plain": [
       "<AxesSubplot:title={'center':'Top 5 platforms per sale in Japan'}, ylabel='jp_sales'>"
      ]
     },
     "metadata": {},
     "output_type": "display_data"
    },
    {
     "data": {
      "image/png": "[encoded data removed]",
      "text/plain": [
       "<Figure size 576x576 with 1 Axes>"
      ]
     },
     "metadata": {},
     "output_type": "display_data"
    },
    {
     "data": {
      "image/png": "[encoded data removed]",
      "text/plain": [
       "<Figure size 576x576 with 1 Axes>"
      ]
     },
     "metadata": {},
     "output_type": "display_data"
    },
    {
     "data": {
      "image/png": "[encoded data removed]",
      "text/plain": [
       "<Figure size 576x576 with 1 Axes>"
      ]
     },
     "metadata": {},
     "output_type": "display_data"
    }
   ],
   "source": [
    "display(data.pivot_table(index = \"platform\", values = \"na_sales\", aggfunc = \"sum\")\\\n",
    ".sort_values(by = \"na_sales\", ascending = False).head(5)\\\n",
    ".plot(y = \"na_sales\",kind = \"pie\",figsize = (8,8), title = \"Top 5 platforms per sale in North America\",autopct='%1.1f%%'))\n",
    "\n",
    "display(data.pivot_table(index = \"platform\", values = \"eu_sales\", aggfunc = \"sum\")\\\n",
    ".sort_values(by = \"eu_sales\", ascending = False).head(5)\\\n",
    ".plot(y = \"eu_sales\",kind = \"pie\",figsize = (8,8), title = \"Top 5 platforms per sale in European Union\",autopct='%1.1f%%'))\n",
    "\n",
    "display(data.pivot_table(index = \"platform\", values = \"jp_sales\", aggfunc = \"sum\")\\\n",
    ".sort_values(by = \"jp_sales\", ascending = False).head(5)\\\n",
    ".plot(y = \"jp_sales\",kind = \"pie\",figsize = (8,8), title = \"Top 5 platforms per sale in Japan\",autopct='%1.1f%%'))"
   ]
  },
  {
   "cell_type": "markdown",
   "metadata": {},
   "source": [
    "Как можно заметить, рынки Европы и Америки более схожи чем в сравнении с Японией. Рынок Америки доминирует платформа PS3 и XBox 360, они так же являются прямыми конкурентами друг с другом. \n",
    "\n",
    "Sony, производителю PS2 и PS3, удалось выиграть конкуренцию на рынке Европы с первыми двумя места за PS 2 и 3 генерации, сместив Xbox 360 на третье место. \n",
    "\n",
    "Рынок Японии немного отличается от двух других, больше всего игр продано на платформу DS, а второе и третье место имеет почти одинаковое значение и присвоено платформам PS2 и PS3. \n",
    "\n",
    "\n",
    "Из общего, можно заметить, что деление между местами по популярности продаж игр схожа по всем трем регионам. Так, первые три места занимают, 68.3, 66.4 и 67.5 процентов от первой пятёрки. Виднеется общая доминация платформы серии PS если брать общую картину."
   ]
  },
  {
   "cell_type": "markdown",
   "metadata": {},
   "source": [
    "**Genre per Region** "
   ]
  },
  {
   "cell_type": "code",
   "execution_count": 91,
   "metadata": {
    "scrolled": false
   },
   "outputs": [
    {
     "data": {
      "text/plain": [
       "<AxesSubplot:title={'center':'Top 5 genre per sale in North America'}, ylabel='na_sales'>"
      ]
     },
     "metadata": {},
     "output_type": "display_data"
    },
    {
     "data": {
      "text/plain": [
       "<AxesSubplot:title={'center':'Top 5 genre per sale in European Union'}, ylabel='eu_sales'>"
      ]
     },
     "metadata": {},
     "output_type": "display_data"
    },
    {
     "data": {
      "text/plain": [
       "<AxesSubplot:title={'center':'Top 5 genre per sale in Japan'}, ylabel='jp_sales'>"
      ]
     },
     "metadata": {},
     "output_type": "display_data"
    },
    {
     "data": {
      "image/png": "[encoded data removed]",
      "text/plain": [
       "<Figure size 576x576 with 1 Axes>"
      ]
     },
     "metadata": {},
     "output_type": "display_data"
    },
    {
     "data": {
      "image/png": "[encoded data removed]",
      "text/plain": [
       "<Figure size 576x576 with 1 Axes>"
      ]
     },
     "metadata": {},
     "output_type": "display_data"
    },
    {
     "data": {
      "image/png": "[encoded data removed]",
      "text/plain": [
       "<Figure size 576x576 with 1 Axes>"
      ]
     },
     "metadata": {},
     "output_type": "display_data"
    }
   ],
   "source": [
    "display(data.pivot_table(index = \"genre\", values = \"na_sales\", aggfunc = \"sum\")\\\n",
    ".sort_values(by = \"na_sales\", ascending = False).head(5)\\\n",
    ".plot(y = \"na_sales\",kind = \"pie\",figsize = (8,8), title = \"Top 5 genre per sale in North America\",autopct='%1.1f%%'))\n",
    "\n",
    "display(data.pivot_table(index = \"genre\", values = \"eu_sales\", aggfunc = \"sum\")\\\n",
    ".sort_values(by = \"eu_sales\", ascending = False).head(5)\\\n",
    ".plot(y = \"eu_sales\",kind = \"pie\",figsize = (8,8), title = \"Top 5 genre per sale in European Union\",autopct='%1.1f%%'))\n",
    "\n",
    "display(data.pivot_table(index = \"genre\", values = \"jp_sales\", aggfunc = \"sum\")\\\n",
    ".sort_values(by = \"jp_sales\", ascending = False).head(5)\\\n",
    ".plot(y = \"jp_sales\",kind = \"pie\",figsize = (8,8), title = \"Top 5 genre per sale in Japan\",autopct='%1.1f%%'))"
   ]
  },
  {
   "cell_type": "markdown",
   "metadata": {},
   "source": [
    "Как можно заметить, схожесть рынков Америки и Европы еще более сильна в жанровом анализе. Оба региона имеют одинаковые первые четыре места. С самым популярным жанром Action с 29 и 31 %, и жанром Sports на втором месте. \n",
    "\n",
    "Схоже с платформами, рынок Японии имеет отличие в первом месте. С сильной доминацией и 40% первое место за жанром Role-Playing. \n",
    "\n",
    "Из общего можно выделить, что жанры Action, Sports и Misc имеет хороший спрос во всех регионах. "
   ]
  },
  {
   "cell_type": "markdown",
   "metadata": {},
   "source": [
    "**Rating per Region**"
   ]
  },
  {
   "cell_type": "code",
   "execution_count": 92,
   "metadata": {},
   "outputs": [
    {
     "data": {
      "text/plain": [
       "<AxesSubplot:title={'center':'Genre per Region'}, xlabel='rating'>"
      ]
     },
     "metadata": {},
     "output_type": "display_data"
    },
    {
     "data": {
      "image/png": "[encoded data removed]",
      "text/plain": [
       "<Figure size 1080x360 with 1 Axes>"
      ]
     },
     "metadata": {
      "needs_background": "light"
     },
     "output_type": "display_data"
    }
   ],
   "source": [
    "display(data.pivot_table(index = \"rating\", values = [\"na_sales\",\"eu_sales\",\"jp_sales\"], aggfunc = \"mean\")\\\n",
    ".plot(kind = \"bar\", figsize = (15,5), title = \"Genre per Region\"))"
   ]
  },
  {
   "cell_type": "markdown",
   "metadata": {},
   "source": [
    "Данные показывают, что самый популярный рейтинг по всем регионам - это \"М\". Популярность игр рейтинга \"Е\", \"E10+\" и \"T\" во многом на ровне и с одинаковым распределением между регионами. \n",
    "\n",
    "Что говоря о \"AO\", в данных всего одна игра имеет этот статус, что не удивительно так как это статус 18+ и производители боятся их выпускать из-за ассоциации с играми для взрослых.\n",
    "\n",
    "Категория EC имеет маленькое количество продаж, так как это категория только для детей, что является маленьким рынком.\n",
    "\n",
    "Так же, не стоит забывать игры без рейтинга, их результаты выбиваются из общей группы и показывают во многом равный результат по всем регионам, что неожиданно.  \n",
    "\n",
    "Из общего, стоит отметить, что рынок Америки является самым важным, так как там больше всего продаж по всем категориям. На втором месте рынок Европы, а с самыми маленькими продажами на третьем месте - Япония. "
   ]
  },
  {
   "cell_type": "code",
   "execution_count": 100,
   "metadata": {},
   "outputs": [
    {
     "data": {
      "text/plain": [
       "<AxesSubplot:title={'center':'Genre per Region'}>"
      ]
     },
     "metadata": {},
     "output_type": "display_data"
    },
    {
     "data": {
      "image/png": "[encoded data removed]",
      "text/plain": [
       "<Figure size 1080x360 with 1 Axes>"
      ]
     },
     "metadata": {
      "needs_background": "light"
     },
     "output_type": "display_data"
    }
   ],
   "source": [
    "# код ревьюера\n",
    "display(data.pivot_table(index = \"rating\", values = [\"na_sales\",\"eu_sales\",\"jp_sales\"], aggfunc = \"mean\").T\\\n",
    ".plot(kind = \"bar\", figsize = (15,5), title = \"Genre per Region\"))"
   ]
  },
  {
   "cell_type": "markdown",
   "metadata": {},
   "source": [
    "# Проверка гипотез"
   ]
  },
  {
   "cell_type": "markdown",
   "metadata": {},
   "source": [
    "В данном анализе будут два уровня статистической значимости, так как результат может оказаться в трех разделах вместо двух, что даст больше информации по значимости, в особенности есть между 1% и 5%.  "
   ]
  },
  {
   "cell_type": "markdown",
   "metadata": {},
   "source": [
    "**Гипотеза - средние пользовательские рейтинги платформ Xbox One и PC одинаковые**"
   ]
  },
  {
   "cell_type": "markdown",
   "metadata": {},
   "source": [
    "H_0: средний рейтинг пользователей \"Xbox One\" = средний рейтинг пользователей \"PC\"\n",
    "\n",
    "H_1: средний рейтинг пользователей \"Xbox One\" ≠ средний рейтинг пользователей \"PC\"\n",
    "\n",
    "alpha = 0.05 и alpha = 0.01"
   ]
  },
  {
   "cell_type": "code",
   "execution_count": 53,
   "metadata": {},
   "outputs": [],
   "source": [
    "pc = data.query(\"platform == 'PC'\")[\"user_score\"]\n",
    "pc = pc[pc.notnull()]\n",
    "xbox_one = data.query(\"platform == 'XOne'\")[\"user_score\"]\n",
    "xbox_one = xbox_one[xbox_one.notnull()]"
   ]
  },
  {
   "cell_type": "code",
   "execution_count": 54,
   "metadata": {
    "scrolled": true
   },
   "outputs": [
    {
     "name": "stdout",
     "output_type": "stream",
     "text": [
      "Размер выборки PC: 748\n",
      "Размер выборки Xbox One: 205\n",
      "Дисперия выборки PC: 2.3131233378134923\n",
      "Дисперия выборки Xbox One: 1.9163293277810827\n"
     ]
    }
   ],
   "source": [
    "print(\"Размер выборки PC:\", len(pc))\n",
    "print(\"Размер выборки Xbox One:\", len(xbox_one))\n",
    "\n",
    "print(\"Дисперия выборки PC:\", np.var(pc))\n",
    "print(\"Дисперия выборки Xbox One:\", np.var(xbox_one))"
   ]
  },
  {
   "cell_type": "markdown",
   "metadata": {},
   "source": [
    "Из-за большой разницы в размере выборки, значение \"equal_var\" будет False. "
   ]
  },
  {
   "cell_type": "code",
   "execution_count": 55,
   "metadata": {},
   "outputs": [
    {
     "name": "stdout",
     "output_type": "stream",
     "text": [
      "P-значение: 0.00011201882808988591\n",
      "При Alpha 5% - Отвергаем нулевую гипотезу\n",
      "При Alpha 1% - Отвергаем нулевую гипотезу\n"
     ]
    }
   ],
   "source": [
    "results = st.ttest_ind(pc, xbox_one, equal_var = False)\n",
    "\n",
    "alpha1 = 0.05\n",
    "alpha2 = 0.01\n",
    "\n",
    "print(\"P-значение:\",results.pvalue)\n",
    "\n",
    "print(\"При Alpha 5% - \", end = '')    \n",
    "if results.pvalue < alpha1:\n",
    "    print(\"Отвергаем нулевую гипотезу\")\n",
    "else:\n",
    "    print(\"Не получилось отвергнуть нулевую гипотезу\")\n",
    "    \n",
    "print(\"При Alpha 1% - \", end = '')    \n",
    "if results.pvalue < alpha2:\n",
    "    print(\"Отвергаем нулевую гипотезу\")\n",
    "else:\n",
    "    print(\"Не получилось отвергнуть нулевую гипотезу\")    "
   ]
  },
  {
   "cell_type": "markdown",
   "metadata": {},
   "source": [
    "Даже с уровнем статистической значимости в 1%, гипотеза, что средние пользовательские рейтинги платформ Xbox One и PC одинаковые - является не верной. "
   ]
  },
  {
   "cell_type": "markdown",
   "metadata": {},
   "source": [
    "**Гипотеза - средние пользовательские рейтинги жанров Action и Sports разные**"
   ]
  },
  {
   "cell_type": "markdown",
   "metadata": {},
   "source": [
    "H_0: средний рейтинг жанра \"Action\" = средний рейтинг жанра \"Sports\"\n",
    "\n",
    "H_1: средний рейтинг жанра \"Action\" ≠ средний рейтинг жанра \"Sports\"\n",
    "\n",
    "alpha = 0.05 и alpha = 0.01"
   ]
  },
  {
   "cell_type": "code",
   "execution_count": 56,
   "metadata": {},
   "outputs": [],
   "source": [
    "action = data.query(\"genre == 'Action'\")[\"user_score\"]\n",
    "action = action[action.notnull()]\n",
    "sports = data.query(\"genre == 'Sports'\")[\"user_score\"]\n",
    "sports = sports[sports.notnull()]"
   ]
  },
  {
   "cell_type": "code",
   "execution_count": 57,
   "metadata": {},
   "outputs": [
    {
     "name": "stdout",
     "output_type": "stream",
     "text": [
      "Размер выборки Action: 2042\n",
      "Размер выборки Sports: 1289\n",
      "Дисперия выборки Action: 2.005657068361663\n",
      "Дисперия выборки Sports: 2.5690683536350125\n"
     ]
    }
   ],
   "source": [
    "print(\"Размер выборки Action:\", len(action))\n",
    "print(\"Размер выборки Sports:\", len(sports))\n",
    "\n",
    "print(\"Дисперия выборки Action:\", np.var(action))\n",
    "print(\"Дисперия выборки Sports:\", np.var(sports))"
   ]
  },
  {
   "cell_type": "markdown",
   "metadata": {},
   "source": [
    "Из-за большой разницы в размере выборки, значение \"equal_var\" будет False. "
   ]
  },
  {
   "cell_type": "code",
   "execution_count": 58,
   "metadata": {},
   "outputs": [
    {
     "name": "stdout",
     "output_type": "stream",
     "text": [
      "P-значение: 0.19888874501933534\n",
      "При Alpha 5% - Не получилось отвергнуть нулевую гипотезу\n",
      "При Alpha 1% - Не получилось отвергнуть нулевую гипотезу\n"
     ]
    }
   ],
   "source": [
    "results = st.ttest_ind(action, sports, equal_var = False)\n",
    "\n",
    "alpha1 = 0.05\n",
    "alpha2 = 0.01\n",
    "\n",
    "print(\"P-значение:\",results.pvalue)\n",
    "\n",
    "print(\"При Alpha 5% - \", end = '')    \n",
    "if results.pvalue < alpha1:\n",
    "    print(\"Отвергаем нулевую гипотезу\")\n",
    "else:\n",
    "    print(\"Не получилось отвергнуть нулевую гипотезу\")\n",
    "    \n",
    "print(\"При Alpha 1% - \", end = '')    \n",
    "if results.pvalue < alpha2:\n",
    "    print(\"Отвергаем нулевую гипотезу\")\n",
    "else:\n",
    "    print(\"Не получилось отвергнуть нулевую гипотезу\")   "
   ]
  },
  {
   "cell_type": "markdown",
   "metadata": {},
   "source": [
    "Даже с уровнем статистической значимости в 5%, гипотеза, что средние пользовательские рейтинги жанров Action и Sports разные - не верна."
   ]
  },
  {
   "cell_type": "markdown",
   "metadata": {},
   "source": [
    "# Общий вывод"
   ]
  },
  {
   "cell_type": "markdown",
   "metadata": {},
   "source": [
    "Следуя из проделанной работы, можно сделать вывод, что за период с 1980 по 2016 произошло много изменений в мире игр. Было выяснено, что играя индустрия начала свой основной рост только в 1995 году и достигла пика по выпуску игр в 2008 году. При этом, за все эти периоды, популярность разных консолей была разной и как было открыто, что это было связано с жизненными циклами платформ, которые в среднем составляли 8 лет.  Говоря, о жизненных циклах платформ, попытка спрогнозировать следующую популярную платформу была сделана, однако, было выявлено, что есть пропуск в данных, в которых и скрывается ответ на будущее, но есть и безопасный вариант с выбором платформы которая выпустит новую генерацию в ближайшем времени.\n",
    "\n",
    "Из грустных вещей, было выведено, что большинство игр не достигают успехов и только некоторые получают по-настоящему большие продажи. И одним из лучших способов увеличить шансы игры на успех - это получить высокую оценку от критиков, так как их оценка влияет на успех игры. Или же, выбрать один из популярных жанров: Shooter, Sports, Fighting. \n",
    "\n",
    "Был сделан сравнительный анализ без тремя регионами: Северная Америка, Европейский Союз и Япония. Была обнаруженно, что рынок Америки и Европы сход по жанрам и платформам, а  Японский имеет совсем другую картину. Поэтому, при выходе на Японский рынок его нужно изучить тщательней. Но лучше сфокусироваться на Американский, так как там больше всего продаж. А если еще сильней хочется получить успех, то лучше выбрать рейтинг \"M\" для игры, так как у него лучше продажи в сравнении со другими.\n",
    " \n",
    "\n",
    "Было проверено две гипотезы:\n",
    "- средние пользовательские рейтинги платформ Xbox One и PC одинаковые\n",
    "\n",
    "Гипотеза оказалась не правдивой \n",
    "\n",
    "- средние пользовательские рейтинги жанров Action и Sports разные\n",
    "\n",
    "Гипотеза оказалась не правдивой"
   ]
  }
 ],
 "metadata": {
  "ExecuteTimeLog": [
   {
    "duration": 376,
    "start_time": "2022-10-23T16:01:49.266Z"
   },
   {
    "duration": 69,
    "start_time": "2022-10-23T16:01:50.053Z"
   },
   {
    "duration": 10,
    "start_time": "2022-10-23T16:01:50.491Z"
   },
   {
    "duration": 14,
    "start_time": "2022-10-23T16:01:51.417Z"
   },
   {
    "duration": 1069,
    "start_time": "2022-10-23T16:02:28.070Z"
   },
   {
    "duration": 8,
    "start_time": "2022-10-23T16:02:50.296Z"
   },
   {
    "duration": 16,
    "start_time": "2022-10-23T16:03:24.113Z"
   },
   {
    "duration": 12,
    "start_time": "2022-10-23T16:03:28.822Z"
   },
   {
    "duration": 80,
    "start_time": "2022-10-23T16:07:15.022Z"
   },
   {
    "duration": 10,
    "start_time": "2022-10-23T16:07:22.074Z"
   },
   {
    "duration": 47,
    "start_time": "2022-10-23T16:07:26.221Z"
   },
   {
    "duration": 3,
    "start_time": "2022-10-23T16:07:29.603Z"
   },
   {
    "duration": 3,
    "start_time": "2022-10-23T16:08:47.794Z"
   },
   {
    "duration": 3,
    "start_time": "2022-10-23T16:08:48.550Z"
   },
   {
    "duration": 12,
    "start_time": "2022-10-23T16:11:40.742Z"
   },
   {
    "duration": 6,
    "start_time": "2022-10-23T16:13:13.952Z"
   },
   {
    "duration": 14,
    "start_time": "2022-10-23T16:13:23.386Z"
   },
   {
    "duration": 5,
    "start_time": "2022-10-23T16:13:34.876Z"
   },
   {
    "duration": 6,
    "start_time": "2022-10-23T16:13:37.095Z"
   },
   {
    "duration": 12,
    "start_time": "2022-10-23T16:13:37.492Z"
   },
   {
    "duration": 51,
    "start_time": "2022-10-23T16:13:43.507Z"
   },
   {
    "duration": 419,
    "start_time": "2022-10-23T16:13:48.796Z"
   },
   {
    "duration": 42,
    "start_time": "2022-10-23T16:13:49.217Z"
   },
   {
    "duration": 13,
    "start_time": "2022-10-23T16:13:49.261Z"
   },
   {
    "duration": 13,
    "start_time": "2022-10-23T16:13:49.292Z"
   },
   {
    "duration": 901,
    "start_time": "2022-10-23T16:13:49.448Z"
   },
   {
    "duration": 9,
    "start_time": "2022-10-23T16:13:50.352Z"
   },
   {
    "duration": 16,
    "start_time": "2022-10-23T16:13:50.362Z"
   },
   {
    "duration": 4,
    "start_time": "2022-10-23T16:13:50.620Z"
   },
   {
    "duration": 3,
    "start_time": "2022-10-23T16:13:51.607Z"
   },
   {
    "duration": 7,
    "start_time": "2022-10-23T16:13:52.483Z"
   },
   {
    "duration": 45,
    "start_time": "2022-10-23T16:13:53.830Z"
   },
   {
    "duration": 8,
    "start_time": "2022-10-23T16:14:07.864Z"
   },
   {
    "duration": 4,
    "start_time": "2022-10-23T16:14:18.816Z"
   },
   {
    "duration": 9,
    "start_time": "2022-10-23T16:14:19.385Z"
   },
   {
    "duration": 4,
    "start_time": "2022-10-23T16:14:23.315Z"
   },
   {
    "duration": 374,
    "start_time": "2022-10-23T16:18:16.666Z"
   },
   {
    "duration": 41,
    "start_time": "2022-10-23T16:18:17.042Z"
   },
   {
    "duration": 11,
    "start_time": "2022-10-23T16:18:17.085Z"
   },
   {
    "duration": 18,
    "start_time": "2022-10-23T16:18:17.097Z"
   },
   {
    "duration": 891,
    "start_time": "2022-10-23T16:18:17.117Z"
   },
   {
    "duration": 9,
    "start_time": "2022-10-23T16:18:18.010Z"
   },
   {
    "duration": 16,
    "start_time": "2022-10-23T16:18:18.021Z"
   },
   {
    "duration": 3,
    "start_time": "2022-10-23T16:18:18.039Z"
   },
   {
    "duration": 6,
    "start_time": "2022-10-23T16:18:18.044Z"
   },
   {
    "duration": 82,
    "start_time": "2022-10-23T16:18:20.778Z"
   },
   {
    "duration": 7,
    "start_time": "2022-10-23T16:18:32.073Z"
   },
   {
    "duration": 5,
    "start_time": "2022-10-23T16:18:48.301Z"
   },
   {
    "duration": 12,
    "start_time": "2022-10-23T16:18:57.645Z"
   },
   {
    "duration": 21,
    "start_time": "2022-10-23T16:19:06.730Z"
   },
   {
    "duration": 5,
    "start_time": "2022-10-23T16:22:18.409Z"
   },
   {
    "duration": 15,
    "start_time": "2022-10-23T16:22:27.826Z"
   },
   {
    "duration": 4,
    "start_time": "2022-10-23T16:26:21.588Z"
   },
   {
    "duration": 3,
    "start_time": "2022-10-23T16:26:22.338Z"
   },
   {
    "duration": 5,
    "start_time": "2022-10-23T16:26:24.572Z"
   },
   {
    "duration": 4,
    "start_time": "2022-10-23T16:26:24.822Z"
   },
   {
    "duration": 12,
    "start_time": "2022-10-23T16:31:16.868Z"
   },
   {
    "duration": 8,
    "start_time": "2022-10-23T16:31:23.933Z"
   },
   {
    "duration": 5,
    "start_time": "2022-10-23T16:31:30.718Z"
   },
   {
    "duration": 13,
    "start_time": "2022-10-23T16:31:52.495Z"
   },
   {
    "duration": 6,
    "start_time": "2022-10-23T16:33:27.108Z"
   },
   {
    "duration": 14,
    "start_time": "2022-10-23T17:16:45.969Z"
   },
   {
    "duration": 6,
    "start_time": "2022-10-23T17:21:48.499Z"
   },
   {
    "duration": 4,
    "start_time": "2022-10-23T17:22:03.797Z"
   },
   {
    "duration": 63,
    "start_time": "2022-10-23T17:28:04.284Z"
   },
   {
    "duration": 3,
    "start_time": "2022-10-23T17:28:10.059Z"
   },
   {
    "duration": 9,
    "start_time": "2022-10-23T17:28:14.460Z"
   },
   {
    "duration": 20,
    "start_time": "2022-10-23T17:28:30.264Z"
   },
   {
    "duration": 25,
    "start_time": "2022-10-23T17:29:33.998Z"
   },
   {
    "duration": 5,
    "start_time": "2022-10-23T17:30:15.260Z"
   },
   {
    "duration": 12,
    "start_time": "2022-10-23T17:31:28.153Z"
   },
   {
    "duration": 5,
    "start_time": "2022-10-23T17:36:03.593Z"
   },
   {
    "duration": 3,
    "start_time": "2022-10-23T17:37:47.544Z"
   },
   {
    "duration": 14,
    "start_time": "2022-10-23T17:39:19.422Z"
   },
   {
    "duration": 4,
    "start_time": "2022-10-23T17:39:37.544Z"
   },
   {
    "duration": 436,
    "start_time": "2022-10-23T17:39:49.069Z"
   },
   {
    "duration": 72,
    "start_time": "2022-10-23T17:39:49.510Z"
   },
   {
    "duration": 32,
    "start_time": "2022-10-23T17:39:49.585Z"
   },
   {
    "duration": 19,
    "start_time": "2022-10-23T17:39:49.620Z"
   },
   {
    "duration": 1317,
    "start_time": "2022-10-23T17:39:49.641Z"
   },
   {
    "duration": 9,
    "start_time": "2022-10-23T17:39:50.960Z"
   },
   {
    "duration": 25,
    "start_time": "2022-10-23T17:39:50.971Z"
   },
   {
    "duration": 28,
    "start_time": "2022-10-23T17:39:50.998Z"
   },
   {
    "duration": 23,
    "start_time": "2022-10-23T17:39:51.029Z"
   },
   {
    "duration": 12,
    "start_time": "2022-10-23T17:39:51.054Z"
   },
   {
    "duration": 8,
    "start_time": "2022-10-23T17:39:51.068Z"
   },
   {
    "duration": 24,
    "start_time": "2022-10-23T17:39:51.077Z"
   },
   {
    "duration": 44,
    "start_time": "2022-10-23T17:39:51.104Z"
   },
   {
    "duration": 117,
    "start_time": "2022-10-23T17:39:51.150Z"
   },
   {
    "duration": 0,
    "start_time": "2022-10-23T17:39:51.269Z"
   },
   {
    "duration": 6,
    "start_time": "2022-10-23T17:39:52.473Z"
   },
   {
    "duration": 5,
    "start_time": "2022-10-23T17:39:54.702Z"
   },
   {
    "duration": 43,
    "start_time": "2022-10-23T17:43:45.752Z"
   },
   {
    "duration": 11614,
    "start_time": "2022-10-23T17:43:59.678Z"
   },
   {
    "duration": 21621,
    "start_time": "2022-10-23T17:45:24.703Z"
   },
   {
    "duration": 6687,
    "start_time": "2022-10-23T17:45:50.113Z"
   },
   {
    "duration": 3,
    "start_time": "2022-10-23T17:46:12.536Z"
   },
   {
    "duration": 5,
    "start_time": "2022-10-23T17:46:41.306Z"
   },
   {
    "duration": 21150,
    "start_time": "2022-10-23T17:48:26.048Z"
   },
   {
    "duration": 21794,
    "start_time": "2022-10-23T17:50:10.024Z"
   },
   {
    "duration": 21523,
    "start_time": "2022-10-23T17:50:31.820Z"
   },
   {
    "duration": 6,
    "start_time": "2022-10-23T17:50:53.345Z"
   },
   {
    "duration": 750,
    "start_time": "2022-10-23T17:52:15.942Z"
   },
   {
    "duration": 622,
    "start_time": "2022-10-23T17:52:33.372Z"
   },
   {
    "duration": 407,
    "start_time": "2022-10-23T17:52:42.841Z"
   },
   {
    "duration": 49,
    "start_time": "2022-10-23T17:52:43.250Z"
   },
   {
    "duration": 28,
    "start_time": "2022-10-23T17:52:43.301Z"
   },
   {
    "duration": 24,
    "start_time": "2022-10-23T17:52:43.331Z"
   },
   {
    "duration": 925,
    "start_time": "2022-10-23T17:52:43.358Z"
   },
   {
    "duration": 24,
    "start_time": "2022-10-23T17:52:44.285Z"
   },
   {
    "duration": 23,
    "start_time": "2022-10-23T17:52:44.311Z"
   },
   {
    "duration": 4,
    "start_time": "2022-10-23T17:52:44.336Z"
   },
   {
    "duration": 13,
    "start_time": "2022-10-23T17:52:44.342Z"
   },
   {
    "duration": 12,
    "start_time": "2022-10-23T17:52:44.357Z"
   },
   {
    "duration": 5,
    "start_time": "2022-10-23T17:52:44.371Z"
   },
   {
    "duration": 38,
    "start_time": "2022-10-23T17:52:44.378Z"
   },
   {
    "duration": 21,
    "start_time": "2022-10-23T17:52:44.418Z"
   },
   {
    "duration": 14,
    "start_time": "2022-10-23T17:52:44.442Z"
   },
   {
    "duration": 21606,
    "start_time": "2022-10-23T17:52:44.459Z"
   },
   {
    "duration": 21366,
    "start_time": "2022-10-23T17:53:06.067Z"
   },
   {
    "duration": 21531,
    "start_time": "2022-10-23T17:53:27.434Z"
   },
   {
    "duration": 97,
    "start_time": "2022-10-23T17:54:12.142Z"
   },
   {
    "duration": 17,
    "start_time": "2022-10-23T17:54:53.963Z"
   },
   {
    "duration": 3785,
    "start_time": "2022-10-23T17:55:05.949Z"
   },
   {
    "duration": 1157,
    "start_time": "2022-10-23T17:56:08.704Z"
   },
   {
    "duration": 751,
    "start_time": "2022-10-23T17:58:03.294Z"
   },
   {
    "duration": 10,
    "start_time": "2022-10-23T17:58:17.201Z"
   },
   {
    "duration": 1242,
    "start_time": "2022-10-23T17:58:18.624Z"
   },
   {
    "duration": 1233,
    "start_time": "2022-10-23T17:58:20.062Z"
   },
   {
    "duration": 1245,
    "start_time": "2022-10-23T17:58:21.297Z"
   },
   {
    "duration": 9,
    "start_time": "2022-10-23T17:58:48.646Z"
   },
   {
    "duration": 383,
    "start_time": "2022-10-23T18:00:02.865Z"
   },
   {
    "duration": 53,
    "start_time": "2022-10-23T18:00:03.251Z"
   },
   {
    "duration": 37,
    "start_time": "2022-10-23T18:00:03.306Z"
   },
   {
    "duration": 20,
    "start_time": "2022-10-23T18:00:03.345Z"
   },
   {
    "duration": 987,
    "start_time": "2022-10-23T18:00:03.368Z"
   },
   {
    "duration": 11,
    "start_time": "2022-10-23T18:00:04.356Z"
   },
   {
    "duration": 33,
    "start_time": "2022-10-23T18:00:04.369Z"
   },
   {
    "duration": 28,
    "start_time": "2022-10-23T18:00:04.411Z"
   },
   {
    "duration": 23,
    "start_time": "2022-10-23T18:00:04.441Z"
   },
   {
    "duration": 15,
    "start_time": "2022-10-23T18:00:04.466Z"
   },
   {
    "duration": 15,
    "start_time": "2022-10-23T18:00:04.483Z"
   },
   {
    "duration": 54,
    "start_time": "2022-10-23T18:00:04.500Z"
   },
   {
    "duration": 28,
    "start_time": "2022-10-23T18:00:04.556Z"
   },
   {
    "duration": 17,
    "start_time": "2022-10-23T18:00:04.588Z"
   },
   {
    "duration": 23252,
    "start_time": "2022-10-23T18:00:04.607Z"
   },
   {
    "duration": 23989,
    "start_time": "2022-10-23T18:00:27.861Z"
   },
   {
    "duration": 23478,
    "start_time": "2022-10-23T18:00:51.852Z"
   },
   {
    "duration": 1123,
    "start_time": "2022-10-23T18:01:15.332Z"
   },
   {
    "duration": 1166,
    "start_time": "2022-10-23T18:01:16.457Z"
   },
   {
    "duration": 1160,
    "start_time": "2022-10-23T18:01:17.627Z"
   },
   {
    "duration": 11,
    "start_time": "2022-10-23T18:01:31.171Z"
   },
   {
    "duration": 8,
    "start_time": "2022-10-23T18:02:43.841Z"
   },
   {
    "duration": 12,
    "start_time": "2022-10-23T18:02:50.987Z"
   },
   {
    "duration": 22,
    "start_time": "2022-10-23T18:03:03.905Z"
   },
   {
    "duration": 432,
    "start_time": "2022-10-23T18:04:54.975Z"
   },
   {
    "duration": 46,
    "start_time": "2022-10-23T18:04:55.423Z"
   },
   {
    "duration": 32,
    "start_time": "2022-10-23T18:04:55.471Z"
   },
   {
    "duration": 37,
    "start_time": "2022-10-23T18:04:55.506Z"
   },
   {
    "duration": 1086,
    "start_time": "2022-10-23T18:04:55.545Z"
   },
   {
    "duration": 14,
    "start_time": "2022-10-23T18:04:56.633Z"
   },
   {
    "duration": 34,
    "start_time": "2022-10-23T18:04:56.649Z"
   },
   {
    "duration": 8,
    "start_time": "2022-10-23T18:04:56.685Z"
   },
   {
    "duration": 46,
    "start_time": "2022-10-23T18:04:56.695Z"
   },
   {
    "duration": 9,
    "start_time": "2022-10-23T18:04:56.744Z"
   },
   {
    "duration": 4,
    "start_time": "2022-10-23T18:04:56.755Z"
   },
   {
    "duration": 28,
    "start_time": "2022-10-23T18:04:56.761Z"
   },
   {
    "duration": 14,
    "start_time": "2022-10-23T18:04:56.791Z"
   },
   {
    "duration": 31,
    "start_time": "2022-10-23T18:04:56.808Z"
   },
   {
    "duration": 13,
    "start_time": "2022-10-23T18:05:03.743Z"
   },
   {
    "duration": 10,
    "start_time": "2022-10-23T18:05:04.797Z"
   },
   {
    "duration": 146540,
    "start_time": "2022-10-23T18:05:06.032Z"
   },
   {
    "duration": 0,
    "start_time": "2022-10-23T18:07:32.574Z"
   },
   {
    "duration": 0,
    "start_time": "2022-10-23T18:07:32.575Z"
   },
   {
    "duration": 0,
    "start_time": "2022-10-23T18:07:32.577Z"
   },
   {
    "duration": 0,
    "start_time": "2022-10-23T18:07:32.578Z"
   },
   {
    "duration": 0,
    "start_time": "2022-10-23T18:07:32.581Z"
   },
   {
    "duration": 390,
    "start_time": "2022-10-23T18:14:16.452Z"
   },
   {
    "duration": 58,
    "start_time": "2022-10-23T18:14:16.845Z"
   },
   {
    "duration": 44,
    "start_time": "2022-10-23T18:14:16.905Z"
   },
   {
    "duration": 21,
    "start_time": "2022-10-23T18:14:16.951Z"
   },
   {
    "duration": 1079,
    "start_time": "2022-10-23T18:14:16.975Z"
   },
   {
    "duration": 13,
    "start_time": "2022-10-23T18:14:18.056Z"
   },
   {
    "duration": 36,
    "start_time": "2022-10-23T18:14:18.070Z"
   },
   {
    "duration": 15,
    "start_time": "2022-10-23T18:14:18.107Z"
   },
   {
    "duration": 29,
    "start_time": "2022-10-23T18:14:18.125Z"
   },
   {
    "duration": 27,
    "start_time": "2022-10-23T18:14:18.156Z"
   },
   {
    "duration": 19,
    "start_time": "2022-10-23T18:14:18.184Z"
   },
   {
    "duration": 56,
    "start_time": "2022-10-23T18:14:18.206Z"
   },
   {
    "duration": 31,
    "start_time": "2022-10-23T18:14:18.263Z"
   },
   {
    "duration": 47,
    "start_time": "2022-10-23T18:14:18.298Z"
   },
   {
    "duration": 64377,
    "start_time": "2022-10-23T18:14:20.551Z"
   },
   {
    "duration": 15,
    "start_time": "2022-10-23T18:15:33.200Z"
   },
   {
    "duration": 63712,
    "start_time": "2022-10-23T18:16:17.126Z"
   },
   {
    "duration": 41218,
    "start_time": "2022-10-23T18:17:20.840Z"
   },
   {
    "duration": 12,
    "start_time": "2022-10-23T18:19:30.628Z"
   },
   {
    "duration": 25,
    "start_time": "2022-10-23T18:21:17.910Z"
   },
   {
    "duration": 14,
    "start_time": "2022-10-23T18:21:20.528Z"
   },
   {
    "duration": 6,
    "start_time": "2022-10-23T18:25:00.086Z"
   },
   {
    "duration": 9,
    "start_time": "2022-10-23T18:26:07.668Z"
   },
   {
    "duration": 17,
    "start_time": "2022-10-23T18:26:08.053Z"
   },
   {
    "duration": 387,
    "start_time": "2022-10-23T18:26:39.777Z"
   },
   {
    "duration": 41,
    "start_time": "2022-10-23T18:26:40.167Z"
   },
   {
    "duration": 38,
    "start_time": "2022-10-23T18:26:40.220Z"
   },
   {
    "duration": 19,
    "start_time": "2022-10-23T18:26:40.260Z"
   },
   {
    "duration": 983,
    "start_time": "2022-10-23T18:26:40.282Z"
   },
   {
    "duration": 11,
    "start_time": "2022-10-23T18:26:41.267Z"
   },
   {
    "duration": 36,
    "start_time": "2022-10-23T18:26:41.280Z"
   },
   {
    "duration": 5,
    "start_time": "2022-10-23T18:26:41.317Z"
   },
   {
    "duration": 17,
    "start_time": "2022-10-23T18:26:41.323Z"
   },
   {
    "duration": 9,
    "start_time": "2022-10-23T18:26:41.342Z"
   },
   {
    "duration": 6,
    "start_time": "2022-10-23T18:26:41.353Z"
   },
   {
    "duration": 15,
    "start_time": "2022-10-23T18:26:41.361Z"
   },
   {
    "duration": 8,
    "start_time": "2022-10-23T18:26:41.377Z"
   },
   {
    "duration": 32,
    "start_time": "2022-10-23T18:26:41.388Z"
   },
   {
    "duration": 55295,
    "start_time": "2022-10-23T18:26:41.422Z"
   },
   {
    "duration": 55007,
    "start_time": "2022-10-23T18:27:36.719Z"
   },
   {
    "duration": 35111,
    "start_time": "2022-10-23T18:28:31.728Z"
   },
   {
    "duration": 10,
    "start_time": "2022-10-23T18:29:06.841Z"
   },
   {
    "duration": 9,
    "start_time": "2022-10-23T18:29:06.864Z"
   },
   {
    "duration": 20,
    "start_time": "2022-10-23T18:29:06.875Z"
   },
   {
    "duration": 17,
    "start_time": "2022-10-23T18:29:06.896Z"
   },
   {
    "duration": 6,
    "start_time": "2022-10-23T18:30:02.195Z"
   },
   {
    "duration": 6,
    "start_time": "2022-10-23T18:30:10.353Z"
   },
   {
    "duration": 91,
    "start_time": "2022-10-23T18:31:05.821Z"
   },
   {
    "duration": 7,
    "start_time": "2022-10-23T18:32:14.623Z"
   },
   {
    "duration": 6,
    "start_time": "2022-10-23T18:32:24.988Z"
   },
   {
    "duration": 5,
    "start_time": "2022-10-23T18:32:29.323Z"
   },
   {
    "duration": 5,
    "start_time": "2022-10-23T18:33:09.261Z"
   },
   {
    "duration": 5,
    "start_time": "2022-10-23T18:34:12.225Z"
   },
   {
    "duration": 4,
    "start_time": "2022-10-23T18:35:28.841Z"
   },
   {
    "duration": 9,
    "start_time": "2022-10-23T18:36:41.411Z"
   },
   {
    "duration": 4,
    "start_time": "2022-10-23T18:36:43.717Z"
   },
   {
    "duration": 4,
    "start_time": "2022-10-23T18:36:49.440Z"
   },
   {
    "duration": 16,
    "start_time": "2022-10-23T18:36:59.226Z"
   },
   {
    "duration": 14,
    "start_time": "2022-10-23T18:37:30.990Z"
   },
   {
    "duration": 16,
    "start_time": "2022-10-23T18:37:31.768Z"
   },
   {
    "duration": 4,
    "start_time": "2022-10-23T18:37:42.848Z"
   },
   {
    "duration": 509,
    "start_time": "2022-10-23T18:37:57.977Z"
   },
   {
    "duration": 40,
    "start_time": "2022-10-23T18:37:58.488Z"
   },
   {
    "duration": 23,
    "start_time": "2022-10-23T18:37:58.530Z"
   },
   {
    "duration": 14,
    "start_time": "2022-10-23T18:37:58.556Z"
   },
   {
    "duration": 926,
    "start_time": "2022-10-23T18:37:58.572Z"
   },
   {
    "duration": 17,
    "start_time": "2022-10-23T18:37:59.501Z"
   },
   {
    "duration": 22,
    "start_time": "2022-10-23T18:37:59.520Z"
   },
   {
    "duration": 4,
    "start_time": "2022-10-23T18:37:59.544Z"
   },
   {
    "duration": 5,
    "start_time": "2022-10-23T18:37:59.549Z"
   },
   {
    "duration": 6,
    "start_time": "2022-10-23T18:37:59.555Z"
   },
   {
    "duration": 6,
    "start_time": "2022-10-23T18:37:59.563Z"
   },
   {
    "duration": 46,
    "start_time": "2022-10-23T18:37:59.570Z"
   },
   {
    "duration": 5,
    "start_time": "2022-10-23T18:37:59.618Z"
   },
   {
    "duration": 6,
    "start_time": "2022-10-23T18:38:01.518Z"
   },
   {
    "duration": 8,
    "start_time": "2022-10-23T18:38:04.019Z"
   },
   {
    "duration": 4,
    "start_time": "2022-10-23T18:38:05.533Z"
   },
   {
    "duration": 90,
    "start_time": "2022-10-23T18:38:53.810Z"
   },
   {
    "duration": 867,
    "start_time": "2022-10-23T18:39:29.173Z"
   },
   {
    "duration": 13,
    "start_time": "2022-10-23T18:39:54.733Z"
   },
   {
    "duration": 18,
    "start_time": "2022-10-23T18:41:07.236Z"
   },
   {
    "duration": 14,
    "start_time": "2022-10-23T18:41:09.124Z"
   },
   {
    "duration": 513,
    "start_time": "2022-10-23T18:41:20.497Z"
   },
   {
    "duration": 41,
    "start_time": "2022-10-23T18:41:21.012Z"
   },
   {
    "duration": 31,
    "start_time": "2022-10-23T18:41:21.055Z"
   },
   {
    "duration": 31,
    "start_time": "2022-10-23T18:41:21.088Z"
   },
   {
    "duration": 912,
    "start_time": "2022-10-23T18:41:21.122Z"
   },
   {
    "duration": 9,
    "start_time": "2022-10-23T18:41:22.036Z"
   },
   {
    "duration": 18,
    "start_time": "2022-10-23T18:41:22.046Z"
   },
   {
    "duration": 3,
    "start_time": "2022-10-23T18:41:22.065Z"
   },
   {
    "duration": 7,
    "start_time": "2022-10-23T18:41:22.070Z"
   },
   {
    "duration": 10,
    "start_time": "2022-10-23T18:41:22.078Z"
   },
   {
    "duration": 21,
    "start_time": "2022-10-23T18:41:22.089Z"
   },
   {
    "duration": 13,
    "start_time": "2022-10-23T18:41:22.112Z"
   },
   {
    "duration": 5,
    "start_time": "2022-10-23T18:41:22.127Z"
   },
   {
    "duration": 5,
    "start_time": "2022-10-23T18:41:22.135Z"
   },
   {
    "duration": 8,
    "start_time": "2022-10-23T18:41:22.141Z"
   },
   {
    "duration": 4,
    "start_time": "2022-10-23T18:41:26.222Z"
   },
   {
    "duration": 5,
    "start_time": "2022-10-23T18:42:37.561Z"
   },
   {
    "duration": 13,
    "start_time": "2022-10-23T18:42:39.640Z"
   },
   {
    "duration": 465,
    "start_time": "2022-10-23T18:43:04.327Z"
   },
   {
    "duration": 47,
    "start_time": "2022-10-23T18:43:04.794Z"
   },
   {
    "duration": 22,
    "start_time": "2022-10-23T18:43:04.842Z"
   },
   {
    "duration": 13,
    "start_time": "2022-10-23T18:43:04.865Z"
   },
   {
    "duration": 944,
    "start_time": "2022-10-23T18:43:04.880Z"
   },
   {
    "duration": 9,
    "start_time": "2022-10-23T18:43:05.826Z"
   },
   {
    "duration": 16,
    "start_time": "2022-10-23T18:43:05.837Z"
   },
   {
    "duration": 4,
    "start_time": "2022-10-23T18:43:05.854Z"
   },
   {
    "duration": 3,
    "start_time": "2022-10-23T18:43:05.860Z"
   },
   {
    "duration": 9,
    "start_time": "2022-10-23T18:43:05.864Z"
   },
   {
    "duration": 4,
    "start_time": "2022-10-23T18:43:05.874Z"
   },
   {
    "duration": 42,
    "start_time": "2022-10-23T18:43:05.879Z"
   },
   {
    "duration": 6,
    "start_time": "2022-10-23T18:43:05.922Z"
   },
   {
    "duration": 5,
    "start_time": "2022-10-23T18:43:05.930Z"
   },
   {
    "duration": 8,
    "start_time": "2022-10-23T18:43:05.937Z"
   },
   {
    "duration": 8,
    "start_time": "2022-10-23T18:43:13.532Z"
   },
   {
    "duration": 5,
    "start_time": "2022-10-23T18:43:14.022Z"
   },
   {
    "duration": 10,
    "start_time": "2022-10-23T18:43:17.521Z"
   },
   {
    "duration": 8,
    "start_time": "2022-10-23T18:43:55.389Z"
   },
   {
    "duration": 41098,
    "start_time": "2022-10-23T18:43:55.733Z"
   },
   {
    "duration": 45549,
    "start_time": "2022-10-23T18:44:36.833Z"
   },
   {
    "duration": 28550,
    "start_time": "2022-10-23T18:45:22.384Z"
   },
   {
    "duration": 9,
    "start_time": "2022-10-23T18:45:50.936Z"
   },
   {
    "duration": 95,
    "start_time": "2022-10-23T18:45:50.946Z"
   },
   {
    "duration": 0,
    "start_time": "2022-10-23T18:45:51.043Z"
   },
   {
    "duration": 0,
    "start_time": "2022-10-23T18:45:51.044Z"
   },
   {
    "duration": 13,
    "start_time": "2022-10-23T18:46:23.293Z"
   },
   {
    "duration": 369,
    "start_time": "2022-10-23T18:48:04.553Z"
   },
   {
    "duration": 41,
    "start_time": "2022-10-23T18:48:04.924Z"
   },
   {
    "duration": 19,
    "start_time": "2022-10-23T18:48:04.967Z"
   },
   {
    "duration": 12,
    "start_time": "2022-10-23T18:48:04.988Z"
   },
   {
    "duration": 874,
    "start_time": "2022-10-23T18:48:05.009Z"
   },
   {
    "duration": 9,
    "start_time": "2022-10-23T18:48:05.884Z"
   },
   {
    "duration": 24,
    "start_time": "2022-10-23T18:48:05.894Z"
   },
   {
    "duration": 4,
    "start_time": "2022-10-23T18:48:05.919Z"
   },
   {
    "duration": 6,
    "start_time": "2022-10-23T18:48:05.924Z"
   },
   {
    "duration": 9,
    "start_time": "2022-10-23T18:48:05.931Z"
   },
   {
    "duration": 9,
    "start_time": "2022-10-23T18:48:05.942Z"
   },
   {
    "duration": 14,
    "start_time": "2022-10-23T18:48:05.953Z"
   },
   {
    "duration": 6,
    "start_time": "2022-10-23T18:48:05.968Z"
   },
   {
    "duration": 6,
    "start_time": "2022-10-23T18:48:05.976Z"
   },
   {
    "duration": 32,
    "start_time": "2022-10-23T18:48:05.984Z"
   },
   {
    "duration": 39,
    "start_time": "2022-10-23T18:48:06.018Z"
   },
   {
    "duration": 13,
    "start_time": "2022-10-23T18:48:07.509Z"
   },
   {
    "duration": 389,
    "start_time": "2022-10-23T18:48:41.845Z"
   },
   {
    "duration": 42,
    "start_time": "2022-10-23T18:48:42.236Z"
   },
   {
    "duration": 21,
    "start_time": "2022-10-23T18:48:42.279Z"
   },
   {
    "duration": 16,
    "start_time": "2022-10-23T18:48:42.301Z"
   },
   {
    "duration": 900,
    "start_time": "2022-10-23T18:48:42.319Z"
   },
   {
    "duration": 9,
    "start_time": "2022-10-23T18:48:43.221Z"
   },
   {
    "duration": 19,
    "start_time": "2022-10-23T18:48:43.231Z"
   },
   {
    "duration": 4,
    "start_time": "2022-10-23T18:48:43.252Z"
   },
   {
    "duration": 12,
    "start_time": "2022-10-23T18:48:43.257Z"
   },
   {
    "duration": 9,
    "start_time": "2022-10-23T18:48:43.270Z"
   },
   {
    "duration": 6,
    "start_time": "2022-10-23T18:48:43.280Z"
   },
   {
    "duration": 31,
    "start_time": "2022-10-23T18:48:43.288Z"
   },
   {
    "duration": 7,
    "start_time": "2022-10-23T18:48:43.321Z"
   },
   {
    "duration": 4,
    "start_time": "2022-10-23T18:48:43.331Z"
   },
   {
    "duration": 8,
    "start_time": "2022-10-23T18:48:43.337Z"
   },
   {
    "duration": 42,
    "start_time": "2022-10-23T18:48:43.347Z"
   },
   {
    "duration": 10,
    "start_time": "2022-10-23T18:48:45.538Z"
   },
   {
    "duration": 377,
    "start_time": "2022-10-23T18:49:18.849Z"
   },
   {
    "duration": 44,
    "start_time": "2022-10-23T18:49:19.228Z"
   },
   {
    "duration": 22,
    "start_time": "2022-10-23T18:49:19.273Z"
   },
   {
    "duration": 15,
    "start_time": "2022-10-23T18:49:19.297Z"
   },
   {
    "duration": 863,
    "start_time": "2022-10-23T18:49:19.315Z"
   },
   {
    "duration": 10,
    "start_time": "2022-10-23T18:49:20.180Z"
   },
   {
    "duration": 28,
    "start_time": "2022-10-23T18:49:20.192Z"
   },
   {
    "duration": 4,
    "start_time": "2022-10-23T18:49:20.221Z"
   },
   {
    "duration": 5,
    "start_time": "2022-10-23T18:49:20.227Z"
   },
   {
    "duration": 11,
    "start_time": "2022-10-23T18:49:20.234Z"
   },
   {
    "duration": 26,
    "start_time": "2022-10-23T18:49:20.247Z"
   },
   {
    "duration": 21,
    "start_time": "2022-10-23T18:49:20.275Z"
   },
   {
    "duration": 11,
    "start_time": "2022-10-23T18:49:20.298Z"
   },
   {
    "duration": 5,
    "start_time": "2022-10-23T18:49:20.312Z"
   },
   {
    "duration": 13,
    "start_time": "2022-10-23T18:49:20.319Z"
   },
   {
    "duration": 10,
    "start_time": "2022-10-23T18:49:21.808Z"
   },
   {
    "duration": 385,
    "start_time": "2022-10-23T18:51:06.545Z"
   },
   {
    "duration": 42,
    "start_time": "2022-10-23T18:51:06.932Z"
   },
   {
    "duration": 22,
    "start_time": "2022-10-23T18:51:06.975Z"
   },
   {
    "duration": 25,
    "start_time": "2022-10-23T18:51:06.999Z"
   },
   {
    "duration": 920,
    "start_time": "2022-10-23T18:51:07.026Z"
   },
   {
    "duration": 10,
    "start_time": "2022-10-23T18:51:07.948Z"
   },
   {
    "duration": 16,
    "start_time": "2022-10-23T18:51:07.959Z"
   },
   {
    "duration": 4,
    "start_time": "2022-10-23T18:51:07.976Z"
   },
   {
    "duration": 28,
    "start_time": "2022-10-23T18:51:07.981Z"
   },
   {
    "duration": 5,
    "start_time": "2022-10-23T18:51:08.011Z"
   },
   {
    "duration": 5,
    "start_time": "2022-10-23T18:51:08.017Z"
   },
   {
    "duration": 14,
    "start_time": "2022-10-23T18:51:08.023Z"
   },
   {
    "duration": 7,
    "start_time": "2022-10-23T18:51:08.038Z"
   },
   {
    "duration": 4,
    "start_time": "2022-10-23T18:51:08.047Z"
   },
   {
    "duration": 5,
    "start_time": "2022-10-23T18:51:08.053Z"
   },
   {
    "duration": 8,
    "start_time": "2022-10-23T18:51:10.072Z"
   },
   {
    "duration": 13,
    "start_time": "2022-10-23T18:53:27.104Z"
   },
   {
    "duration": 7,
    "start_time": "2022-10-23T18:55:49.602Z"
   },
   {
    "duration": 7,
    "start_time": "2022-10-23T18:55:54.098Z"
   },
   {
    "duration": 9,
    "start_time": "2022-10-23T18:55:54.723Z"
   },
   {
    "duration": 12,
    "start_time": "2022-10-23T18:56:02.350Z"
   },
   {
    "duration": 432,
    "start_time": "2022-10-23T18:56:26.572Z"
   },
   {
    "duration": 339,
    "start_time": "2022-10-23T18:56:47.519Z"
   },
   {
    "duration": 6,
    "start_time": "2022-10-23T18:58:58.222Z"
   },
   {
    "duration": 14,
    "start_time": "2022-10-23T18:59:00.780Z"
   },
   {
    "duration": 299,
    "start_time": "2022-10-23T18:59:39.511Z"
   },
   {
    "duration": 4,
    "start_time": "2022-10-23T19:06:18.541Z"
   },
   {
    "duration": 12,
    "start_time": "2022-10-23T19:07:07.752Z"
   },
   {
    "duration": 388,
    "start_time": "2022-10-23T19:08:19.529Z"
   },
   {
    "duration": 43,
    "start_time": "2022-10-23T19:08:19.919Z"
   },
   {
    "duration": 22,
    "start_time": "2022-10-23T19:08:19.963Z"
   },
   {
    "duration": 15,
    "start_time": "2022-10-23T19:08:19.987Z"
   },
   {
    "duration": 874,
    "start_time": "2022-10-23T19:08:20.010Z"
   },
   {
    "duration": 9,
    "start_time": "2022-10-23T19:08:20.885Z"
   },
   {
    "duration": 24,
    "start_time": "2022-10-23T19:08:20.895Z"
   },
   {
    "duration": 3,
    "start_time": "2022-10-23T19:08:20.920Z"
   },
   {
    "duration": 4,
    "start_time": "2022-10-23T19:08:20.925Z"
   },
   {
    "duration": 8,
    "start_time": "2022-10-23T19:08:20.930Z"
   },
   {
    "duration": 4,
    "start_time": "2022-10-23T19:08:20.939Z"
   },
   {
    "duration": 16,
    "start_time": "2022-10-23T19:08:20.945Z"
   },
   {
    "duration": 10,
    "start_time": "2022-10-23T19:08:20.962Z"
   },
   {
    "duration": 8,
    "start_time": "2022-10-23T19:08:20.975Z"
   },
   {
    "duration": 27,
    "start_time": "2022-10-23T19:08:20.985Z"
   },
   {
    "duration": 6,
    "start_time": "2022-10-23T19:08:21.014Z"
   },
   {
    "duration": 10,
    "start_time": "2022-10-23T19:08:21.021Z"
   },
   {
    "duration": 49614,
    "start_time": "2022-10-23T19:08:21.032Z"
   },
   {
    "duration": 30731,
    "start_time": "2022-10-23T19:09:10.648Z"
   },
   {
    "duration": 32254,
    "start_time": "2022-10-23T19:09:41.380Z"
   },
   {
    "duration": 9,
    "start_time": "2022-10-23T19:10:13.635Z"
   },
   {
    "duration": 354,
    "start_time": "2022-10-26T07:46:36.050Z"
   },
   {
    "duration": 87,
    "start_time": "2022-10-26T07:46:36.405Z"
   },
   {
    "duration": 21,
    "start_time": "2022-10-26T07:46:36.493Z"
   },
   {
    "duration": 11,
    "start_time": "2022-10-26T07:46:36.516Z"
   },
   {
    "duration": 975,
    "start_time": "2022-10-26T07:46:36.529Z"
   },
   {
    "duration": 9,
    "start_time": "2022-10-26T07:46:37.505Z"
   },
   {
    "duration": 18,
    "start_time": "2022-10-26T07:46:37.515Z"
   },
   {
    "duration": 5,
    "start_time": "2022-10-26T07:46:37.534Z"
   },
   {
    "duration": 9,
    "start_time": "2022-10-26T07:46:37.540Z"
   },
   {
    "duration": 11,
    "start_time": "2022-10-26T07:46:37.550Z"
   },
   {
    "duration": 5,
    "start_time": "2022-10-26T07:46:37.563Z"
   },
   {
    "duration": 31,
    "start_time": "2022-10-26T07:46:37.570Z"
   },
   {
    "duration": 8,
    "start_time": "2022-10-26T07:46:37.602Z"
   },
   {
    "duration": 5,
    "start_time": "2022-10-26T07:46:37.613Z"
   },
   {
    "duration": 9,
    "start_time": "2022-10-26T07:46:37.619Z"
   },
   {
    "duration": 6,
    "start_time": "2022-10-26T07:46:37.630Z"
   },
   {
    "duration": 12,
    "start_time": "2022-10-26T07:46:37.638Z"
   },
   {
    "duration": 46416,
    "start_time": "2022-10-26T07:46:37.652Z"
   },
   {
    "duration": 30961,
    "start_time": "2022-10-26T07:47:24.069Z"
   },
   {
    "duration": 32470,
    "start_time": "2022-10-26T07:47:55.032Z"
   },
   {
    "duration": 11,
    "start_time": "2022-10-26T07:50:36.267Z"
   },
   {
    "duration": 8,
    "start_time": "2022-10-26T07:50:38.301Z"
   },
   {
    "duration": 10,
    "start_time": "2022-10-26T07:50:40.273Z"
   },
   {
    "duration": 5,
    "start_time": "2022-10-26T07:53:41.244Z"
   },
   {
    "duration": 5,
    "start_time": "2022-10-26T07:54:57.340Z"
   },
   {
    "duration": 88,
    "start_time": "2022-10-26T08:09:09.908Z"
   },
   {
    "duration": 51,
    "start_time": "2022-10-26T08:09:27.458Z"
   },
   {
    "duration": 4,
    "start_time": "2022-10-26T08:09:44.744Z"
   },
   {
    "duration": 4,
    "start_time": "2022-10-26T08:09:49.259Z"
   },
   {
    "duration": 6,
    "start_time": "2022-10-26T08:14:45.050Z"
   },
   {
    "duration": 47,
    "start_time": "2022-10-26T08:14:52.674Z"
   },
   {
    "duration": 126,
    "start_time": "2022-10-26T08:15:07.013Z"
   },
   {
    "duration": 131,
    "start_time": "2022-10-26T08:15:28.347Z"
   },
   {
    "duration": 149,
    "start_time": "2022-10-26T08:15:51.250Z"
   },
   {
    "duration": 423,
    "start_time": "2022-10-26T08:19:03.051Z"
   },
   {
    "duration": 49,
    "start_time": "2022-10-26T08:19:03.475Z"
   },
   {
    "duration": 21,
    "start_time": "2022-10-26T08:19:03.526Z"
   },
   {
    "duration": 21,
    "start_time": "2022-10-26T08:19:03.549Z"
   },
   {
    "duration": 986,
    "start_time": "2022-10-26T08:19:03.573Z"
   },
   {
    "duration": 10,
    "start_time": "2022-10-26T08:19:04.561Z"
   },
   {
    "duration": 37,
    "start_time": "2022-10-26T08:19:04.573Z"
   },
   {
    "duration": 5,
    "start_time": "2022-10-26T08:19:04.612Z"
   },
   {
    "duration": 10,
    "start_time": "2022-10-26T08:19:04.618Z"
   },
   {
    "duration": 6,
    "start_time": "2022-10-26T08:19:04.630Z"
   },
   {
    "duration": 4,
    "start_time": "2022-10-26T08:19:04.638Z"
   },
   {
    "duration": 19,
    "start_time": "2022-10-26T08:19:04.643Z"
   },
   {
    "duration": 6,
    "start_time": "2022-10-26T08:19:04.664Z"
   },
   {
    "duration": 5,
    "start_time": "2022-10-26T08:19:04.672Z"
   },
   {
    "duration": 25,
    "start_time": "2022-10-26T08:19:04.679Z"
   },
   {
    "duration": 22,
    "start_time": "2022-10-26T08:19:04.706Z"
   },
   {
    "duration": 14,
    "start_time": "2022-10-26T08:19:04.730Z"
   },
   {
    "duration": 45780,
    "start_time": "2022-10-26T08:19:04.746Z"
   },
   {
    "duration": 32204,
    "start_time": "2022-10-26T08:19:50.527Z"
   },
   {
    "duration": 33315,
    "start_time": "2022-10-26T08:20:22.732Z"
   },
   {
    "duration": 7,
    "start_time": "2022-10-26T08:20:56.048Z"
   },
   {
    "duration": 8,
    "start_time": "2022-10-26T08:20:56.057Z"
   },
   {
    "duration": 11,
    "start_time": "2022-10-26T08:20:56.066Z"
   },
   {
    "duration": 8,
    "start_time": "2022-10-26T08:20:56.079Z"
   },
   {
    "duration": 13,
    "start_time": "2022-10-26T08:20:56.088Z"
   },
   {
    "duration": 22,
    "start_time": "2022-10-26T08:20:56.102Z"
   },
   {
    "duration": 10,
    "start_time": "2022-10-26T08:20:56.125Z"
   },
   {
    "duration": 5,
    "start_time": "2022-10-26T08:20:56.136Z"
   },
   {
    "duration": 151,
    "start_time": "2022-10-26T08:20:56.143Z"
   },
   {
    "duration": 7,
    "start_time": "2022-10-26T08:25:05.047Z"
   },
   {
    "duration": 8,
    "start_time": "2022-10-26T08:25:15.089Z"
   },
   {
    "duration": 65,
    "start_time": "2022-10-26T08:25:24.655Z"
   },
   {
    "duration": 7,
    "start_time": "2022-10-26T08:25:43.564Z"
   },
   {
    "duration": 7,
    "start_time": "2022-10-26T08:25:50.298Z"
   },
   {
    "duration": 12,
    "start_time": "2022-10-26T08:31:17.877Z"
   },
   {
    "duration": 12,
    "start_time": "2022-10-26T08:31:25.794Z"
   },
   {
    "duration": 172,
    "start_time": "2022-10-26T08:33:30.590Z"
   },
   {
    "duration": 24,
    "start_time": "2022-10-26T08:33:55.494Z"
   },
   {
    "duration": 10,
    "start_time": "2022-10-26T08:34:25.747Z"
   },
   {
    "duration": 11,
    "start_time": "2022-10-26T08:34:36.339Z"
   },
   {
    "duration": 7,
    "start_time": "2022-10-26T08:34:36.570Z"
   },
   {
    "duration": 11,
    "start_time": "2022-10-26T08:35:18.555Z"
   },
   {
    "duration": 7,
    "start_time": "2022-10-26T08:35:19.097Z"
   },
   {
    "duration": 13,
    "start_time": "2022-10-26T08:35:37.147Z"
   },
   {
    "duration": 6,
    "start_time": "2022-10-26T08:35:37.684Z"
   },
   {
    "duration": 15,
    "start_time": "2022-10-26T08:35:43.439Z"
   },
   {
    "duration": 7,
    "start_time": "2022-10-26T08:35:43.705Z"
   },
   {
    "duration": 125,
    "start_time": "2022-10-26T08:35:44.247Z"
   },
   {
    "duration": 6,
    "start_time": "2022-10-26T08:36:06.667Z"
   },
   {
    "duration": 160,
    "start_time": "2022-10-26T08:36:54.672Z"
   },
   {
    "duration": 16,
    "start_time": "2022-10-26T08:37:34.653Z"
   },
   {
    "duration": 5,
    "start_time": "2022-10-26T08:37:36.751Z"
   },
   {
    "duration": 137,
    "start_time": "2022-10-26T08:37:41.264Z"
   },
   {
    "duration": 5,
    "start_time": "2022-10-26T08:40:47.743Z"
   },
   {
    "duration": 13,
    "start_time": "2022-10-26T08:41:34.370Z"
   },
   {
    "duration": 6,
    "start_time": "2022-10-26T08:41:35.099Z"
   },
   {
    "duration": 138,
    "start_time": "2022-10-26T08:41:54.243Z"
   },
   {
    "duration": 11,
    "start_time": "2022-10-26T08:42:46.500Z"
   },
   {
    "duration": 5,
    "start_time": "2022-10-26T08:42:46.967Z"
   },
   {
    "duration": 10,
    "start_time": "2022-10-26T08:42:55.293Z"
   },
   {
    "duration": 5,
    "start_time": "2022-10-26T08:42:55.700Z"
   },
   {
    "duration": 10,
    "start_time": "2022-10-26T08:43:00.495Z"
   },
   {
    "duration": 5,
    "start_time": "2022-10-26T08:43:01.785Z"
   },
   {
    "duration": 136,
    "start_time": "2022-10-26T08:43:49.149Z"
   },
   {
    "duration": 138,
    "start_time": "2022-10-26T08:43:53.181Z"
   },
   {
    "duration": 10,
    "start_time": "2022-10-26T08:45:39.052Z"
   },
   {
    "duration": 5,
    "start_time": "2022-10-26T08:45:39.653Z"
   },
   {
    "duration": 156,
    "start_time": "2022-10-26T08:45:40.049Z"
   },
   {
    "duration": 130,
    "start_time": "2022-10-26T08:46:13.147Z"
   },
   {
    "duration": 13,
    "start_time": "2022-10-26T08:47:32.993Z"
   },
   {
    "duration": 24,
    "start_time": "2022-10-26T08:47:33.456Z"
   },
   {
    "duration": 576,
    "start_time": "2022-10-26T08:47:46.642Z"
   },
   {
    "duration": 13,
    "start_time": "2022-10-26T08:48:09.270Z"
   },
   {
    "duration": 25,
    "start_time": "2022-10-26T08:48:09.809Z"
   },
   {
    "duration": 499,
    "start_time": "2022-10-26T08:48:18.266Z"
   },
   {
    "duration": 5,
    "start_time": "2022-10-26T08:51:28.198Z"
   },
   {
    "duration": 3,
    "start_time": "2022-10-26T08:51:29.146Z"
   },
   {
    "duration": 11,
    "start_time": "2022-10-26T08:51:38.347Z"
   },
   {
    "duration": 4,
    "start_time": "2022-10-26T08:51:39.897Z"
   },
   {
    "duration": 6,
    "start_time": "2022-10-26T08:52:24.369Z"
   },
   {
    "duration": 3,
    "start_time": "2022-10-26T08:52:25.050Z"
   },
   {
    "duration": 13,
    "start_time": "2022-10-26T08:52:31.850Z"
   },
   {
    "duration": 25,
    "start_time": "2022-10-26T08:52:33.106Z"
   },
   {
    "duration": 13,
    "start_time": "2022-10-26T08:53:05.748Z"
   },
   {
    "duration": 10,
    "start_time": "2022-10-26T08:54:45.742Z"
   },
   {
    "duration": 13,
    "start_time": "2022-10-26T08:54:55.042Z"
   },
   {
    "duration": 12,
    "start_time": "2022-10-26T08:54:58.307Z"
   },
   {
    "duration": 24,
    "start_time": "2022-10-26T08:54:59.986Z"
   },
   {
    "duration": 11,
    "start_time": "2022-10-26T08:55:44.753Z"
   },
   {
    "duration": 417,
    "start_time": "2022-10-26T08:55:55.548Z"
   },
   {
    "duration": 514,
    "start_time": "2022-10-26T08:58:41.208Z"
   },
   {
    "duration": 11,
    "start_time": "2022-10-26T09:58:25.106Z"
   },
   {
    "duration": 9,
    "start_time": "2022-10-26T09:58:29.442Z"
   },
   {
    "duration": 5,
    "start_time": "2022-10-26T09:58:45.088Z"
   },
   {
    "duration": 3,
    "start_time": "2022-10-26T09:59:09.990Z"
   },
   {
    "duration": 3,
    "start_time": "2022-10-26T09:59:15.929Z"
   },
   {
    "duration": 330,
    "start_time": "2022-10-26T09:59:27.850Z"
   },
   {
    "duration": 46,
    "start_time": "2022-10-26T09:59:28.182Z"
   },
   {
    "duration": 20,
    "start_time": "2022-10-26T09:59:28.230Z"
   },
   {
    "duration": 12,
    "start_time": "2022-10-26T09:59:28.251Z"
   },
   {
    "duration": 861,
    "start_time": "2022-10-26T09:59:28.265Z"
   },
   {
    "duration": 8,
    "start_time": "2022-10-26T09:59:29.128Z"
   },
   {
    "duration": 17,
    "start_time": "2022-10-26T09:59:29.138Z"
   },
   {
    "duration": 3,
    "start_time": "2022-10-26T09:59:29.157Z"
   },
   {
    "duration": 6,
    "start_time": "2022-10-26T09:59:29.161Z"
   },
   {
    "duration": 8,
    "start_time": "2022-10-26T09:59:29.168Z"
   },
   {
    "duration": 6,
    "start_time": "2022-10-26T09:59:29.177Z"
   },
   {
    "duration": 26,
    "start_time": "2022-10-26T09:59:29.184Z"
   },
   {
    "duration": 8,
    "start_time": "2022-10-26T09:59:29.212Z"
   },
   {
    "duration": 13,
    "start_time": "2022-10-26T09:59:29.223Z"
   },
   {
    "duration": 6,
    "start_time": "2022-10-26T09:59:29.238Z"
   },
   {
    "duration": 7,
    "start_time": "2022-10-26T09:59:29.245Z"
   },
   {
    "duration": 9,
    "start_time": "2022-10-26T09:59:29.254Z"
   },
   {
    "duration": 44376,
    "start_time": "2022-10-26T09:59:29.264Z"
   },
   {
    "duration": 30539,
    "start_time": "2022-10-26T10:00:13.641Z"
   },
   {
    "duration": 31874,
    "start_time": "2022-10-26T10:00:44.182Z"
   },
   {
    "duration": 8,
    "start_time": "2022-10-26T10:01:16.058Z"
   },
   {
    "duration": 11,
    "start_time": "2022-10-26T10:01:16.067Z"
   },
   {
    "duration": 24,
    "start_time": "2022-10-26T10:01:16.080Z"
   },
   {
    "duration": 6,
    "start_time": "2022-10-26T10:01:16.106Z"
   },
   {
    "duration": 8,
    "start_time": "2022-10-26T10:01:16.113Z"
   },
   {
    "duration": 6,
    "start_time": "2022-10-26T10:01:16.122Z"
   },
   {
    "duration": 5,
    "start_time": "2022-10-26T10:01:16.130Z"
   },
   {
    "duration": 8,
    "start_time": "2022-10-26T10:01:16.136Z"
   },
   {
    "duration": 168,
    "start_time": "2022-10-26T10:01:16.146Z"
   },
   {
    "duration": 6,
    "start_time": "2022-10-26T10:01:16.315Z"
   },
   {
    "duration": 14,
    "start_time": "2022-10-26T10:01:16.322Z"
   },
   {
    "duration": 10,
    "start_time": "2022-10-26T10:01:16.338Z"
   },
   {
    "duration": 545,
    "start_time": "2022-10-26T10:01:16.350Z"
   },
   {
    "duration": 3,
    "start_time": "2022-10-26T10:01:20.132Z"
   },
   {
    "duration": 9,
    "start_time": "2022-10-26T10:02:06.342Z"
   },
   {
    "duration": 19,
    "start_time": "2022-10-26T10:02:42.293Z"
   },
   {
    "duration": 26,
    "start_time": "2022-10-26T10:02:54.546Z"
   },
   {
    "duration": 8,
    "start_time": "2022-10-26T10:03:28.729Z"
   },
   {
    "duration": 19,
    "start_time": "2022-10-26T10:03:37.142Z"
   },
   {
    "duration": 5,
    "start_time": "2022-10-26T10:04:28.106Z"
   },
   {
    "duration": 69,
    "start_time": "2022-10-26T10:05:17.140Z"
   },
   {
    "duration": 12,
    "start_time": "2022-10-26T10:06:36.306Z"
   },
   {
    "duration": 11,
    "start_time": "2022-10-26T10:06:42.637Z"
   },
   {
    "duration": 13,
    "start_time": "2022-10-26T10:06:54.271Z"
   },
   {
    "duration": 16,
    "start_time": "2022-10-26T10:07:20.658Z"
   },
   {
    "duration": 18,
    "start_time": "2022-10-26T10:07:31.686Z"
   },
   {
    "duration": 177,
    "start_time": "2022-10-26T10:08:01.503Z"
   },
   {
    "duration": 165,
    "start_time": "2022-10-26T10:08:37.752Z"
   },
   {
    "duration": 183,
    "start_time": "2022-10-26T10:08:47.320Z"
   },
   {
    "duration": 198,
    "start_time": "2022-10-26T10:09:11.186Z"
   },
   {
    "duration": 45,
    "start_time": "2022-10-26T10:09:28.302Z"
   },
   {
    "duration": 174,
    "start_time": "2022-10-26T10:10:09.404Z"
   },
   {
    "duration": 177,
    "start_time": "2022-10-26T10:10:22.300Z"
   },
   {
    "duration": 164,
    "start_time": "2022-10-26T10:13:05.843Z"
   },
   {
    "duration": 191,
    "start_time": "2022-10-26T10:13:08.574Z"
   },
   {
    "duration": 171,
    "start_time": "2022-10-26T10:13:50.434Z"
   },
   {
    "duration": 236,
    "start_time": "2022-10-26T10:14:32.332Z"
   },
   {
    "duration": 170,
    "start_time": "2022-10-26T10:14:36.535Z"
   },
   {
    "duration": 355,
    "start_time": "2022-10-26T10:19:14.732Z"
   },
   {
    "duration": 482,
    "start_time": "2022-10-26T10:20:52.149Z"
   },
   {
    "duration": 515,
    "start_time": "2022-10-26T10:20:53.708Z"
   },
   {
    "duration": 453,
    "start_time": "2022-10-26T10:21:28.231Z"
   },
   {
    "duration": 453,
    "start_time": "2022-10-26T10:21:34.949Z"
   },
   {
    "duration": 604,
    "start_time": "2022-10-26T10:22:03.658Z"
   },
   {
    "duration": 482,
    "start_time": "2022-10-26T10:22:06.967Z"
   },
   {
    "duration": 463,
    "start_time": "2022-10-26T10:23:38.232Z"
   },
   {
    "duration": 4,
    "start_time": "2022-10-26T10:26:07.120Z"
   },
   {
    "duration": 20,
    "start_time": "2022-10-26T10:26:44.355Z"
   },
   {
    "duration": 53,
    "start_time": "2022-10-26T10:26:59.046Z"
   },
   {
    "duration": 139,
    "start_time": "2022-10-26T10:27:03.595Z"
   },
   {
    "duration": 463,
    "start_time": "2022-10-26T10:28:58.890Z"
   },
   {
    "duration": 453,
    "start_time": "2022-10-26T10:29:16.406Z"
   },
   {
    "duration": 235,
    "start_time": "2022-10-26T10:29:23.085Z"
   },
   {
    "duration": 156,
    "start_time": "2022-10-26T10:29:54.777Z"
   },
   {
    "duration": 176,
    "start_time": "2022-10-26T10:30:10.202Z"
   },
   {
    "duration": 207,
    "start_time": "2022-10-26T10:30:20.004Z"
   },
   {
    "duration": 8,
    "start_time": "2022-10-26T10:31:26.211Z"
   },
   {
    "duration": 7,
    "start_time": "2022-10-26T10:36:13.374Z"
   },
   {
    "duration": 4,
    "start_time": "2022-10-26T10:38:06.847Z"
   },
   {
    "duration": 14,
    "start_time": "2022-10-26T10:38:25.398Z"
   },
   {
    "duration": 8,
    "start_time": "2022-10-26T10:38:35.889Z"
   },
   {
    "duration": 4,
    "start_time": "2022-10-26T10:44:17.198Z"
   },
   {
    "duration": 8,
    "start_time": "2022-10-26T10:44:19.303Z"
   },
   {
    "duration": 166,
    "start_time": "2022-10-26T10:45:36.268Z"
   },
   {
    "duration": 170,
    "start_time": "2022-10-26T10:46:23.463Z"
   },
   {
    "duration": 196,
    "start_time": "2022-10-26T10:56:41.498Z"
   },
   {
    "duration": 487,
    "start_time": "2022-10-26T10:57:43.502Z"
   },
   {
    "duration": 28,
    "start_time": "2022-10-26T11:17:01.664Z"
   },
   {
    "duration": 14,
    "start_time": "2022-10-26T11:17:09.296Z"
   },
   {
    "duration": 754,
    "start_time": "2022-10-26T11:17:17.657Z"
   },
   {
    "duration": 49,
    "start_time": "2022-10-26T11:17:18.413Z"
   },
   {
    "duration": 20,
    "start_time": "2022-10-26T11:17:18.464Z"
   },
   {
    "duration": 12,
    "start_time": "2022-10-26T11:17:18.486Z"
   },
   {
    "duration": 846,
    "start_time": "2022-10-26T11:17:18.499Z"
   },
   {
    "duration": 8,
    "start_time": "2022-10-26T11:17:19.347Z"
   },
   {
    "duration": 17,
    "start_time": "2022-10-26T11:17:19.357Z"
   },
   {
    "duration": 4,
    "start_time": "2022-10-26T11:17:19.375Z"
   },
   {
    "duration": 4,
    "start_time": "2022-10-26T11:17:19.381Z"
   },
   {
    "duration": 5,
    "start_time": "2022-10-26T11:17:19.400Z"
   },
   {
    "duration": 6,
    "start_time": "2022-10-26T11:17:19.406Z"
   },
   {
    "duration": 20,
    "start_time": "2022-10-26T11:17:19.414Z"
   },
   {
    "duration": 7,
    "start_time": "2022-10-26T11:17:19.435Z"
   },
   {
    "duration": 18,
    "start_time": "2022-10-26T11:17:19.443Z"
   },
   {
    "duration": 11,
    "start_time": "2022-10-26T11:17:19.462Z"
   },
   {
    "duration": 7,
    "start_time": "2022-10-26T11:17:19.475Z"
   },
   {
    "duration": 22,
    "start_time": "2022-10-26T11:17:19.483Z"
   },
   {
    "duration": 44136,
    "start_time": "2022-10-26T11:17:19.507Z"
   },
   {
    "duration": 30773,
    "start_time": "2022-10-26T11:18:03.645Z"
   },
   {
    "duration": 31669,
    "start_time": "2022-10-26T11:18:34.421Z"
   },
   {
    "duration": 12,
    "start_time": "2022-10-26T11:19:06.092Z"
   },
   {
    "duration": 13,
    "start_time": "2022-10-26T11:19:06.106Z"
   },
   {
    "duration": 12,
    "start_time": "2022-10-26T11:19:06.120Z"
   },
   {
    "duration": 9,
    "start_time": "2022-10-26T11:19:06.133Z"
   },
   {
    "duration": 9,
    "start_time": "2022-10-26T11:19:06.144Z"
   },
   {
    "duration": 7,
    "start_time": "2022-10-26T11:19:06.155Z"
   },
   {
    "duration": 11,
    "start_time": "2022-10-26T11:19:06.163Z"
   },
   {
    "duration": 8,
    "start_time": "2022-10-26T11:19:06.177Z"
   },
   {
    "duration": 6,
    "start_time": "2022-10-26T11:19:06.186Z"
   },
   {
    "duration": 157,
    "start_time": "2022-10-26T11:19:06.193Z"
   },
   {
    "duration": 5,
    "start_time": "2022-10-26T11:19:06.352Z"
   },
   {
    "duration": 16,
    "start_time": "2022-10-26T11:19:06.359Z"
   },
   {
    "duration": 9,
    "start_time": "2022-10-26T11:19:06.376Z"
   },
   {
    "duration": 459,
    "start_time": "2022-10-26T11:19:06.400Z"
   },
   {
    "duration": 477,
    "start_time": "2022-10-26T11:19:06.861Z"
   },
   {
    "duration": 469,
    "start_time": "2022-10-26T11:19:07.339Z"
   },
   {
    "duration": 254,
    "start_time": "2022-10-26T11:19:07.810Z"
   },
   {
    "duration": 107,
    "start_time": "2022-10-26T11:19:11.547Z"
   },
   {
    "duration": 19,
    "start_time": "2022-10-26T11:19:53.418Z"
   },
   {
    "duration": 21,
    "start_time": "2022-10-26T11:20:01.045Z"
   },
   {
    "duration": 11,
    "start_time": "2022-10-26T11:20:47.126Z"
   },
   {
    "duration": 11,
    "start_time": "2022-10-26T11:25:20.426Z"
   },
   {
    "duration": 15,
    "start_time": "2022-10-26T11:29:21.087Z"
   },
   {
    "duration": 11,
    "start_time": "2022-10-26T11:29:28.452Z"
   },
   {
    "duration": 3,
    "start_time": "2022-10-26T11:29:52.429Z"
   },
   {
    "duration": 9,
    "start_time": "2022-10-26T11:29:55.679Z"
   },
   {
    "duration": 3,
    "start_time": "2022-10-26T11:29:56.005Z"
   },
   {
    "duration": 5,
    "start_time": "2022-10-26T11:30:15.981Z"
   },
   {
    "duration": 5,
    "start_time": "2022-10-26T11:31:03.091Z"
   },
   {
    "duration": 8,
    "start_time": "2022-10-26T11:33:07.474Z"
   },
   {
    "duration": 4,
    "start_time": "2022-10-26T11:33:07.782Z"
   },
   {
    "duration": 6,
    "start_time": "2022-10-26T11:33:08.412Z"
   },
   {
    "duration": 8,
    "start_time": "2022-10-26T11:33:29.650Z"
   },
   {
    "duration": 5,
    "start_time": "2022-10-26T11:33:30.064Z"
   },
   {
    "duration": 7,
    "start_time": "2022-10-26T11:33:31.200Z"
   },
   {
    "duration": 8,
    "start_time": "2022-10-26T11:34:00.509Z"
   },
   {
    "duration": 4,
    "start_time": "2022-10-26T11:34:00.945Z"
   },
   {
    "duration": 7,
    "start_time": "2022-10-26T11:34:04.175Z"
   },
   {
    "duration": 550,
    "start_time": "2022-10-26T11:36:05.222Z"
   },
   {
    "duration": 14,
    "start_time": "2022-10-26T11:36:48.790Z"
   },
   {
    "duration": 10,
    "start_time": "2022-10-26T11:37:25.745Z"
   },
   {
    "duration": 6,
    "start_time": "2022-10-26T11:37:27.689Z"
   },
   {
    "duration": 6,
    "start_time": "2022-10-26T11:37:30.077Z"
   },
   {
    "duration": 11,
    "start_time": "2022-10-26T11:40:30.664Z"
   },
   {
    "duration": 6,
    "start_time": "2022-10-26T11:40:31.035Z"
   },
   {
    "duration": 9,
    "start_time": "2022-10-26T11:55:56.734Z"
   },
   {
    "duration": 6,
    "start_time": "2022-10-26T11:56:05.666Z"
   },
   {
    "duration": 9,
    "start_time": "2022-10-26T11:56:54.286Z"
   },
   {
    "duration": 6,
    "start_time": "2022-10-26T11:56:54.979Z"
   },
   {
    "duration": 50,
    "start_time": "2022-10-26T11:57:57.575Z"
   },
   {
    "duration": 7,
    "start_time": "2022-10-26T11:59:12.779Z"
   },
   {
    "duration": 7,
    "start_time": "2022-10-26T11:59:24.531Z"
   },
   {
    "duration": 4,
    "start_time": "2022-10-26T12:02:23.246Z"
   },
   {
    "duration": 11,
    "start_time": "2022-10-26T12:03:52.469Z"
   },
   {
    "duration": 5,
    "start_time": "2022-10-26T12:03:56.756Z"
   },
   {
    "duration": 5,
    "start_time": "2022-10-26T12:06:10.725Z"
   },
   {
    "duration": 72,
    "start_time": "2022-10-26T12:06:21.810Z"
   },
   {
    "duration": 6,
    "start_time": "2022-10-26T12:16:44.301Z"
   },
   {
    "duration": 6,
    "start_time": "2022-10-26T12:24:21.456Z"
   },
   {
    "duration": 206,
    "start_time": "2022-10-26T12:24:32.841Z"
   },
   {
    "duration": 121,
    "start_time": "2022-10-26T12:24:52.148Z"
   },
   {
    "duration": 467,
    "start_time": "2022-10-26T12:25:12.208Z"
   },
   {
    "duration": 5,
    "start_time": "2022-10-26T12:25:33.111Z"
   },
   {
    "duration": 10,
    "start_time": "2022-10-26T12:25:34.854Z"
   },
   {
    "duration": 53,
    "start_time": "2022-10-26T12:28:13.320Z"
   },
   {
    "duration": 494,
    "start_time": "2022-10-26T12:28:23.228Z"
   },
   {
    "duration": 120,
    "start_time": "2022-10-26T12:28:35.016Z"
   },
   {
    "duration": 582,
    "start_time": "2022-10-26T12:28:47.273Z"
   },
   {
    "duration": 9,
    "start_time": "2022-10-26T12:31:14.500Z"
   },
   {
    "duration": 96,
    "start_time": "2022-10-26T12:31:30.292Z"
   },
   {
    "duration": 444,
    "start_time": "2022-10-26T12:34:53.633Z"
   },
   {
    "duration": 3,
    "start_time": "2022-10-26T12:36:25.999Z"
   },
   {
    "duration": 518,
    "start_time": "2022-10-26T12:36:33.572Z"
   },
   {
    "duration": 614,
    "start_time": "2022-10-26T12:36:40.014Z"
   },
   {
    "duration": 6,
    "start_time": "2022-10-26T12:38:06.212Z"
   },
   {
    "duration": 48,
    "start_time": "2022-10-26T12:38:07.887Z"
   },
   {
    "duration": 332,
    "start_time": "2022-10-26T12:38:14.836Z"
   },
   {
    "duration": 4,
    "start_time": "2022-10-26T12:39:40.924Z"
   },
   {
    "duration": 287,
    "start_time": "2022-10-26T12:39:42.741Z"
   },
   {
    "duration": 5,
    "start_time": "2022-10-26T12:39:55.019Z"
   },
   {
    "duration": 263,
    "start_time": "2022-10-26T12:39:56.473Z"
   },
   {
    "duration": 271,
    "start_time": "2022-10-26T12:40:05.723Z"
   },
   {
    "duration": 5,
    "start_time": "2022-10-26T12:40:30.215Z"
   },
   {
    "duration": 287,
    "start_time": "2022-10-26T12:40:31.616Z"
   },
   {
    "duration": 6,
    "start_time": "2022-10-26T12:48:48.882Z"
   },
   {
    "duration": 13,
    "start_time": "2022-10-26T12:49:05.176Z"
   },
   {
    "duration": 10,
    "start_time": "2022-10-26T12:49:56.339Z"
   },
   {
    "duration": 761,
    "start_time": "2022-10-26T12:50:23.396Z"
   },
   {
    "duration": 5,
    "start_time": "2022-10-26T12:50:28.510Z"
   },
   {
    "duration": 13,
    "start_time": "2022-10-26T12:51:28.435Z"
   },
   {
    "duration": 13,
    "start_time": "2022-10-26T12:51:35.322Z"
   },
   {
    "duration": 12,
    "start_time": "2022-10-26T12:51:42.820Z"
   },
   {
    "duration": 13,
    "start_time": "2022-10-26T12:51:43.157Z"
   },
   {
    "duration": 6,
    "start_time": "2022-10-26T12:52:03.123Z"
   },
   {
    "duration": 9,
    "start_time": "2022-10-26T12:52:05.405Z"
   },
   {
    "duration": 192,
    "start_time": "2022-10-26T13:12:38.958Z"
   },
   {
    "duration": 190,
    "start_time": "2022-10-26T13:12:39.862Z"
   },
   {
    "duration": 187,
    "start_time": "2022-10-26T13:14:09.459Z"
   },
   {
    "duration": 303,
    "start_time": "2022-10-26T13:14:21.852Z"
   },
   {
    "duration": 191,
    "start_time": "2022-10-26T13:15:17.319Z"
   },
   {
    "duration": 187,
    "start_time": "2022-10-26T13:15:52.078Z"
   },
   {
    "duration": 192,
    "start_time": "2022-10-26T13:16:09.129Z"
   },
   {
    "duration": 8,
    "start_time": "2022-10-26T13:18:46.291Z"
   },
   {
    "duration": 140,
    "start_time": "2022-10-26T13:20:09.061Z"
   },
   {
    "duration": 177,
    "start_time": "2022-10-26T13:20:30.063Z"
   },
   {
    "duration": 178,
    "start_time": "2022-10-26T13:20:42.755Z"
   },
   {
    "duration": 186,
    "start_time": "2022-10-26T13:20:53.307Z"
   },
   {
    "duration": 209,
    "start_time": "2022-10-26T13:21:04.030Z"
   },
   {
    "duration": 200,
    "start_time": "2022-10-26T13:21:25.988Z"
   },
   {
    "duration": 217,
    "start_time": "2022-10-26T13:23:27.899Z"
   },
   {
    "duration": 181,
    "start_time": "2022-10-26T13:23:43.513Z"
   },
   {
    "duration": 186,
    "start_time": "2022-10-26T13:23:56.741Z"
   },
   {
    "duration": 213,
    "start_time": "2022-10-26T13:25:13.628Z"
   },
   {
    "duration": 188,
    "start_time": "2022-10-26T13:25:23.471Z"
   },
   {
    "duration": 180,
    "start_time": "2022-10-26T13:26:18.893Z"
   },
   {
    "duration": 232,
    "start_time": "2022-10-26T13:26:26.604Z"
   },
   {
    "duration": 240,
    "start_time": "2022-10-26T13:27:15.088Z"
   },
   {
    "duration": 6,
    "start_time": "2022-10-26T13:32:19.501Z"
   },
   {
    "duration": 194,
    "start_time": "2022-10-26T13:32:19.880Z"
   },
   {
    "duration": 191,
    "start_time": "2022-10-26T13:32:20.370Z"
   },
   {
    "duration": 4,
    "start_time": "2022-10-26T13:33:05.916Z"
   },
   {
    "duration": 3,
    "start_time": "2022-10-26T13:34:02.986Z"
   },
   {
    "duration": 239,
    "start_time": "2022-10-26T13:34:10.408Z"
   },
   {
    "duration": 6,
    "start_time": "2022-10-26T13:34:44.363Z"
   },
   {
    "duration": 238,
    "start_time": "2022-10-26T13:34:44.891Z"
   },
   {
    "duration": 13,
    "start_time": "2022-10-26T13:36:51.680Z"
   },
   {
    "duration": 6,
    "start_time": "2022-10-26T13:36:52.177Z"
   },
   {
    "duration": 250,
    "start_time": "2022-10-26T13:36:52.564Z"
   },
   {
    "duration": 233,
    "start_time": "2022-10-26T13:37:14.872Z"
   },
   {
    "duration": 256,
    "start_time": "2022-10-26T13:37:50.768Z"
   },
   {
    "duration": 173,
    "start_time": "2022-10-26T13:46:22.766Z"
   },
   {
    "duration": 14,
    "start_time": "2022-10-26T13:47:42.931Z"
   },
   {
    "duration": 467,
    "start_time": "2022-10-26T13:47:53.286Z"
   },
   {
    "duration": 1056,
    "start_time": "2022-10-26T13:51:32.434Z"
   },
   {
    "duration": 48,
    "start_time": "2022-10-26T13:51:33.492Z"
   },
   {
    "duration": 18,
    "start_time": "2022-10-26T13:51:33.542Z"
   },
   {
    "duration": 12,
    "start_time": "2022-10-26T13:51:33.561Z"
   },
   {
    "duration": 676,
    "start_time": "2022-10-26T13:51:33.575Z"
   },
   {
    "duration": 10,
    "start_time": "2022-10-26T13:51:34.252Z"
   },
   {
    "duration": 51,
    "start_time": "2022-10-26T13:51:34.263Z"
   },
   {
    "duration": 7,
    "start_time": "2022-10-26T13:51:34.316Z"
   },
   {
    "duration": 32,
    "start_time": "2022-10-26T13:51:34.324Z"
   },
   {
    "duration": 16,
    "start_time": "2022-10-26T13:51:34.358Z"
   },
   {
    "duration": 20,
    "start_time": "2022-10-26T13:51:34.376Z"
   },
   {
    "duration": 28,
    "start_time": "2022-10-26T13:51:34.398Z"
   },
   {
    "duration": 33,
    "start_time": "2022-10-26T13:51:34.428Z"
   },
   {
    "duration": 46,
    "start_time": "2022-10-26T13:51:34.465Z"
   },
   {
    "duration": 36,
    "start_time": "2022-10-26T13:51:34.512Z"
   },
   {
    "duration": 25,
    "start_time": "2022-10-26T13:51:34.550Z"
   },
   {
    "duration": 21,
    "start_time": "2022-10-26T13:51:34.577Z"
   },
   {
    "duration": 47161,
    "start_time": "2022-10-26T13:51:34.600Z"
   },
   {
    "duration": 33626,
    "start_time": "2022-10-26T13:52:21.762Z"
   },
   {
    "duration": 33897,
    "start_time": "2022-10-26T13:52:55.389Z"
   },
   {
    "duration": 8,
    "start_time": "2022-10-26T13:53:29.287Z"
   },
   {
    "duration": 8,
    "start_time": "2022-10-26T13:53:29.300Z"
   },
   {
    "duration": 25,
    "start_time": "2022-10-26T13:53:29.309Z"
   },
   {
    "duration": 10,
    "start_time": "2022-10-26T13:53:29.336Z"
   },
   {
    "duration": 6,
    "start_time": "2022-10-26T13:53:29.347Z"
   },
   {
    "duration": 6,
    "start_time": "2022-10-26T13:53:29.354Z"
   },
   {
    "duration": 5,
    "start_time": "2022-10-26T13:53:29.362Z"
   },
   {
    "duration": 5,
    "start_time": "2022-10-26T13:53:29.368Z"
   },
   {
    "duration": 9,
    "start_time": "2022-10-26T13:53:29.374Z"
   },
   {
    "duration": 176,
    "start_time": "2022-10-26T13:53:29.384Z"
   },
   {
    "duration": 14,
    "start_time": "2022-10-26T13:53:29.562Z"
   },
   {
    "duration": 5,
    "start_time": "2022-10-26T13:53:29.578Z"
   },
   {
    "duration": 266,
    "start_time": "2022-10-26T13:53:29.585Z"
   },
   {
    "duration": 5,
    "start_time": "2022-10-26T13:53:29.853Z"
   },
   {
    "duration": 258,
    "start_time": "2022-10-26T13:53:29.860Z"
   },
   {
    "duration": 231,
    "start_time": "2022-10-26T13:53:30.120Z"
   },
   {
    "duration": 6,
    "start_time": "2022-10-26T13:53:30.353Z"
   },
   {
    "duration": 266,
    "start_time": "2022-10-26T13:53:30.360Z"
   },
   {
    "duration": 174,
    "start_time": "2022-10-26T13:53:30.628Z"
   },
   {
    "duration": 8,
    "start_time": "2022-10-26T13:53:30.803Z"
   },
   {
    "duration": 179,
    "start_time": "2022-10-26T13:53:30.815Z"
   },
   {
    "duration": 504,
    "start_time": "2022-10-26T13:53:30.996Z"
   },
   {
    "duration": 492,
    "start_time": "2022-10-26T13:53:31.502Z"
   },
   {
    "duration": 184,
    "start_time": "2022-10-26T13:53:31.996Z"
   },
   {
    "duration": 9,
    "start_time": "2022-10-26T13:53:32.182Z"
   },
   {
    "duration": 12,
    "start_time": "2022-10-26T13:53:32.199Z"
   },
   {
    "duration": 17,
    "start_time": "2022-10-26T13:53:32.212Z"
   },
   {
    "duration": 40,
    "start_time": "2022-10-26T13:53:32.231Z"
   },
   {
    "duration": 17,
    "start_time": "2022-10-26T13:53:32.272Z"
   },
   {
    "duration": 23,
    "start_time": "2022-10-26T13:53:32.291Z"
   },
   {
    "duration": 14,
    "start_time": "2022-10-26T14:51:55.792Z"
   },
   {
    "duration": 258,
    "start_time": "2022-10-26T15:08:15.614Z"
   },
   {
    "duration": 271,
    "start_time": "2022-10-26T15:08:59.856Z"
   },
   {
    "duration": 238,
    "start_time": "2022-10-26T15:16:54.413Z"
   },
   {
    "duration": 9,
    "start_time": "2022-10-26T15:17:26.574Z"
   },
   {
    "duration": 220,
    "start_time": "2022-10-26T15:17:43.744Z"
   },
   {
    "duration": 101,
    "start_time": "2022-10-26T15:17:53.108Z"
   },
   {
    "duration": 201,
    "start_time": "2022-10-26T15:17:58.162Z"
   },
   {
    "duration": 108,
    "start_time": "2022-10-26T15:18:54.247Z"
   },
   {
    "duration": 100,
    "start_time": "2022-10-26T15:22:26.507Z"
   },
   {
    "duration": 206,
    "start_time": "2022-10-26T15:22:50.421Z"
   },
   {
    "duration": 110,
    "start_time": "2022-10-26T15:23:24.944Z"
   },
   {
    "duration": 223,
    "start_time": "2022-10-26T15:23:31.537Z"
   },
   {
    "duration": 334,
    "start_time": "2022-10-26T15:23:43.079Z"
   },
   {
    "duration": 294,
    "start_time": "2022-10-26T15:23:51.188Z"
   },
   {
    "duration": 473,
    "start_time": "2022-10-26T15:34:07.060Z"
   },
   {
    "duration": 263,
    "start_time": "2022-10-26T15:34:28.387Z"
   },
   {
    "duration": 262,
    "start_time": "2022-10-26T15:41:36.047Z"
   },
   {
    "duration": 9,
    "start_time": "2022-10-26T15:42:47.093Z"
   },
   {
    "duration": 260,
    "start_time": "2022-10-26T15:42:47.601Z"
   },
   {
    "duration": 5,
    "start_time": "2022-10-26T15:42:56.725Z"
   },
   {
    "duration": 294,
    "start_time": "2022-10-26T15:43:00.320Z"
   },
   {
    "duration": 392,
    "start_time": "2022-10-26T15:43:02.391Z"
   },
   {
    "duration": 17,
    "start_time": "2022-10-26T15:57:45.038Z"
   },
   {
    "duration": 463,
    "start_time": "2022-10-26T15:58:21.011Z"
   },
   {
    "duration": 509,
    "start_time": "2022-10-26T15:59:03.239Z"
   },
   {
    "duration": 542,
    "start_time": "2022-10-26T15:59:15.104Z"
   },
   {
    "duration": 538,
    "start_time": "2022-10-26T15:59:16.979Z"
   },
   {
    "duration": 553,
    "start_time": "2022-10-26T15:59:24.461Z"
   },
   {
    "duration": 504,
    "start_time": "2022-10-26T16:08:50.714Z"
   },
   {
    "duration": 625,
    "start_time": "2022-10-26T16:09:15.220Z"
   },
   {
    "duration": 573,
    "start_time": "2022-10-26T16:09:24.904Z"
   },
   {
    "duration": 494,
    "start_time": "2022-10-26T16:09:38.339Z"
   },
   {
    "duration": 551,
    "start_time": "2022-10-26T16:21:30.530Z"
   },
   {
    "duration": 151,
    "start_time": "2022-10-26T16:21:57.657Z"
   },
   {
    "duration": 179,
    "start_time": "2022-10-26T16:26:03.941Z"
   },
   {
    "duration": 184,
    "start_time": "2022-10-26T16:26:34.000Z"
   },
   {
    "duration": 193,
    "start_time": "2022-10-26T16:26:49.023Z"
   },
   {
    "duration": 1065,
    "start_time": "2022-10-26T17:18:55.410Z"
   },
   {
    "duration": 48,
    "start_time": "2022-10-26T17:18:56.477Z"
   },
   {
    "duration": 18,
    "start_time": "2022-10-26T17:18:56.526Z"
   },
   {
    "duration": 12,
    "start_time": "2022-10-26T17:18:56.545Z"
   },
   {
    "duration": 669,
    "start_time": "2022-10-26T17:18:56.559Z"
   },
   {
    "duration": 8,
    "start_time": "2022-10-26T17:18:57.230Z"
   },
   {
    "duration": 16,
    "start_time": "2022-10-26T17:18:57.239Z"
   },
   {
    "duration": 3,
    "start_time": "2022-10-26T17:18:57.257Z"
   },
   {
    "duration": 6,
    "start_time": "2022-10-26T17:18:57.261Z"
   },
   {
    "duration": 6,
    "start_time": "2022-10-26T17:18:57.269Z"
   },
   {
    "duration": 4,
    "start_time": "2022-10-26T17:18:57.300Z"
   },
   {
    "duration": 14,
    "start_time": "2022-10-26T17:18:57.305Z"
   },
   {
    "duration": 9,
    "start_time": "2022-10-26T17:18:57.320Z"
   },
   {
    "duration": 6,
    "start_time": "2022-10-26T17:18:57.332Z"
   },
   {
    "duration": 8,
    "start_time": "2022-10-26T17:18:57.339Z"
   },
   {
    "duration": 9,
    "start_time": "2022-10-26T17:18:57.348Z"
   },
   {
    "duration": 10,
    "start_time": "2022-10-26T17:18:57.358Z"
   },
   {
    "duration": 43380,
    "start_time": "2022-10-26T17:18:57.369Z"
   },
   {
    "duration": 30144,
    "start_time": "2022-10-26T17:19:40.751Z"
   },
   {
    "duration": 31012,
    "start_time": "2022-10-26T17:20:10.897Z"
   },
   {
    "duration": 8,
    "start_time": "2022-10-26T17:20:41.910Z"
   },
   {
    "duration": 10,
    "start_time": "2022-10-26T17:20:41.919Z"
   },
   {
    "duration": 12,
    "start_time": "2022-10-26T17:20:41.931Z"
   },
   {
    "duration": 5,
    "start_time": "2022-10-26T17:20:41.944Z"
   },
   {
    "duration": 14,
    "start_time": "2022-10-26T17:20:41.950Z"
   },
   {
    "duration": 17,
    "start_time": "2022-10-26T17:20:41.965Z"
   },
   {
    "duration": 24,
    "start_time": "2022-10-26T17:20:41.983Z"
   },
   {
    "duration": 12,
    "start_time": "2022-10-26T17:20:42.009Z"
   },
   {
    "duration": 20,
    "start_time": "2022-10-26T17:20:42.023Z"
   },
   {
    "duration": 46,
    "start_time": "2022-10-26T17:20:42.044Z"
   },
   {
    "duration": 147,
    "start_time": "2022-10-26T17:20:42.092Z"
   },
   {
    "duration": 13,
    "start_time": "2022-10-26T17:20:42.241Z"
   },
   {
    "duration": 21,
    "start_time": "2022-10-26T17:20:42.255Z"
   },
   {
    "duration": 261,
    "start_time": "2022-10-26T17:20:42.278Z"
   },
   {
    "duration": 5,
    "start_time": "2022-10-26T17:20:42.540Z"
   },
   {
    "duration": 266,
    "start_time": "2022-10-26T17:20:42.546Z"
   },
   {
    "duration": 278,
    "start_time": "2022-10-26T17:20:42.814Z"
   },
   {
    "duration": 9,
    "start_time": "2022-10-26T17:20:43.094Z"
   },
   {
    "duration": 242,
    "start_time": "2022-10-26T17:20:43.104Z"
   },
   {
    "duration": 162,
    "start_time": "2022-10-26T17:20:43.347Z"
   },
   {
    "duration": 7,
    "start_time": "2022-10-26T17:20:43.512Z"
   },
   {
    "duration": 168,
    "start_time": "2022-10-26T17:20:43.521Z"
   },
   {
    "duration": 599,
    "start_time": "2022-10-26T17:20:43.690Z"
   },
   {
    "duration": 561,
    "start_time": "2022-10-26T17:20:44.291Z"
   },
   {
    "duration": 182,
    "start_time": "2022-10-26T17:20:44.853Z"
   },
   {
    "duration": 9,
    "start_time": "2022-10-26T17:20:45.037Z"
   },
   {
    "duration": 9,
    "start_time": "2022-10-26T17:20:45.047Z"
   },
   {
    "duration": 16,
    "start_time": "2022-10-26T17:20:45.058Z"
   },
   {
    "duration": 19,
    "start_time": "2022-10-26T17:20:45.075Z"
   },
   {
    "duration": 6,
    "start_time": "2022-10-26T17:20:45.095Z"
   },
   {
    "duration": 10,
    "start_time": "2022-10-26T17:20:45.102Z"
   },
   {
    "duration": 186,
    "start_time": "2022-10-26T19:43:05.051Z"
   },
   {
    "duration": 215,
    "start_time": "2022-10-26T19:43:25.678Z"
   },
   {
    "duration": 199,
    "start_time": "2022-10-26T19:44:06.856Z"
   },
   {
    "duration": 1059,
    "start_time": "2022-10-26T20:50:53.939Z"
   },
   {
    "duration": 47,
    "start_time": "2022-10-26T20:50:55.000Z"
   },
   {
    "duration": 19,
    "start_time": "2022-10-26T20:50:55.048Z"
   },
   {
    "duration": 13,
    "start_time": "2022-10-26T20:50:55.068Z"
   },
   {
    "duration": 648,
    "start_time": "2022-10-26T20:50:55.082Z"
   },
   {
    "duration": 8,
    "start_time": "2022-10-26T20:50:55.732Z"
   },
   {
    "duration": 17,
    "start_time": "2022-10-26T20:50:55.741Z"
   },
   {
    "duration": 4,
    "start_time": "2022-10-26T20:50:55.760Z"
   },
   {
    "duration": 10,
    "start_time": "2022-10-26T20:50:55.765Z"
   },
   {
    "duration": 6,
    "start_time": "2022-10-26T20:50:55.777Z"
   },
   {
    "duration": 17,
    "start_time": "2022-10-26T20:50:55.784Z"
   },
   {
    "duration": 13,
    "start_time": "2022-10-26T20:50:55.803Z"
   },
   {
    "duration": 11,
    "start_time": "2022-10-26T20:50:55.817Z"
   },
   {
    "duration": 26,
    "start_time": "2022-10-26T20:50:55.829Z"
   },
   {
    "duration": 14,
    "start_time": "2022-10-26T20:50:55.856Z"
   },
   {
    "duration": 10,
    "start_time": "2022-10-26T20:50:55.871Z"
   },
   {
    "duration": 12,
    "start_time": "2022-10-26T20:50:55.882Z"
   },
   {
    "duration": 43837,
    "start_time": "2022-10-26T20:50:55.896Z"
   },
   {
    "duration": 30354,
    "start_time": "2022-10-26T20:51:39.735Z"
   },
   {
    "duration": 31111,
    "start_time": "2022-10-26T20:52:10.091Z"
   },
   {
    "duration": 8,
    "start_time": "2022-10-26T20:52:41.203Z"
   },
   {
    "duration": 9,
    "start_time": "2022-10-26T20:52:41.212Z"
   },
   {
    "duration": 10,
    "start_time": "2022-10-26T20:52:41.223Z"
   },
   {
    "duration": 7,
    "start_time": "2022-10-26T20:52:41.234Z"
   },
   {
    "duration": 6,
    "start_time": "2022-10-26T20:52:41.242Z"
   },
   {
    "duration": 5,
    "start_time": "2022-10-26T20:52:41.249Z"
   },
   {
    "duration": 5,
    "start_time": "2022-10-26T20:52:41.255Z"
   },
   {
    "duration": 4,
    "start_time": "2022-10-26T20:52:41.263Z"
   },
   {
    "duration": 32,
    "start_time": "2022-10-26T20:52:41.268Z"
   },
   {
    "duration": 14,
    "start_time": "2022-10-26T20:52:41.302Z"
   },
   {
    "duration": 151,
    "start_time": "2022-10-26T20:52:41.318Z"
   },
   {
    "duration": 15,
    "start_time": "2022-10-26T20:52:41.470Z"
   },
   {
    "duration": 18,
    "start_time": "2022-10-26T20:52:41.486Z"
   },
   {
    "duration": 245,
    "start_time": "2022-10-26T20:52:41.506Z"
   },
   {
    "duration": 5,
    "start_time": "2022-10-26T20:52:41.753Z"
   },
   {
    "duration": 253,
    "start_time": "2022-10-26T20:52:41.759Z"
   },
   {
    "duration": 277,
    "start_time": "2022-10-26T20:52:42.014Z"
   },
   {
    "duration": 10,
    "start_time": "2022-10-26T20:52:42.292Z"
   },
   {
    "duration": 245,
    "start_time": "2022-10-26T20:52:42.304Z"
   },
   {
    "duration": 163,
    "start_time": "2022-10-26T20:52:42.550Z"
   },
   {
    "duration": 8,
    "start_time": "2022-10-26T20:52:42.714Z"
   },
   {
    "duration": 163,
    "start_time": "2022-10-26T20:52:42.723Z"
   },
   {
    "duration": 534,
    "start_time": "2022-10-26T20:52:42.888Z"
   },
   {
    "duration": 566,
    "start_time": "2022-10-26T20:52:43.423Z"
   },
   {
    "duration": 194,
    "start_time": "2022-10-26T20:52:43.991Z"
   },
   {
    "duration": 18,
    "start_time": "2022-10-26T20:52:44.187Z"
   },
   {
    "duration": 6,
    "start_time": "2022-10-26T20:52:44.206Z"
   },
   {
    "duration": 8,
    "start_time": "2022-10-26T20:52:44.213Z"
   },
   {
    "duration": 9,
    "start_time": "2022-10-26T20:52:44.222Z"
   },
   {
    "duration": 5,
    "start_time": "2022-10-26T20:52:44.232Z"
   },
   {
    "duration": 6,
    "start_time": "2022-10-26T20:52:44.238Z"
   },
   {
    "duration": 56,
    "start_time": "2022-10-27T13:33:49.814Z"
   },
   {
    "duration": 42,
    "start_time": "2022-10-27T16:58:22.360Z"
   },
   {
    "duration": 1318,
    "start_time": "2022-10-27T16:58:36.896Z"
   },
   {
    "duration": 188,
    "start_time": "2022-10-27T16:58:38.216Z"
   },
   {
    "duration": 18,
    "start_time": "2022-10-27T16:58:38.405Z"
   },
   {
    "duration": 12,
    "start_time": "2022-10-27T16:58:38.425Z"
   },
   {
    "duration": 658,
    "start_time": "2022-10-27T16:58:38.439Z"
   },
   {
    "duration": 9,
    "start_time": "2022-10-27T16:58:39.098Z"
   },
   {
    "duration": 21,
    "start_time": "2022-10-27T16:58:39.108Z"
   },
   {
    "duration": 4,
    "start_time": "2022-10-27T16:58:39.130Z"
   },
   {
    "duration": 4,
    "start_time": "2022-10-27T16:58:39.135Z"
   },
   {
    "duration": 8,
    "start_time": "2022-10-27T16:58:39.141Z"
   },
   {
    "duration": 8,
    "start_time": "2022-10-27T16:58:39.150Z"
   },
   {
    "duration": 29,
    "start_time": "2022-10-27T16:58:39.159Z"
   },
   {
    "duration": 6,
    "start_time": "2022-10-27T16:58:39.190Z"
   },
   {
    "duration": 5,
    "start_time": "2022-10-27T16:58:39.199Z"
   },
   {
    "duration": 6,
    "start_time": "2022-10-27T16:58:39.206Z"
   },
   {
    "duration": 7,
    "start_time": "2022-10-27T16:58:39.214Z"
   },
   {
    "duration": 12,
    "start_time": "2022-10-27T16:58:39.222Z"
   },
   {
    "duration": 44737,
    "start_time": "2022-10-27T16:58:39.236Z"
   },
   {
    "duration": 30462,
    "start_time": "2022-10-27T16:59:23.975Z"
   },
   {
    "duration": 31719,
    "start_time": "2022-10-27T16:59:54.439Z"
   },
   {
    "duration": 8,
    "start_time": "2022-10-27T17:00:26.159Z"
   },
   {
    "duration": 4,
    "start_time": "2022-10-27T17:00:26.177Z"
   },
   {
    "duration": 8,
    "start_time": "2022-10-27T17:02:21.296Z"
   },
   {
    "duration": 2,
    "start_time": "2022-10-27T17:04:45.810Z"
   },
   {
    "duration": 13,
    "start_time": "2022-10-27T17:04:51.755Z"
   },
   {
    "duration": 13,
    "start_time": "2022-10-27T17:05:31.543Z"
   },
   {
    "duration": 11,
    "start_time": "2022-10-27T17:05:58.635Z"
   },
   {
    "duration": 6,
    "start_time": "2022-10-27T17:06:01.976Z"
   },
   {
    "duration": 11,
    "start_time": "2022-10-27T17:06:02.356Z"
   },
   {
    "duration": 4,
    "start_time": "2022-10-27T17:07:06.481Z"
   },
   {
    "duration": 5,
    "start_time": "2022-10-27T17:07:07.930Z"
   },
   {
    "duration": 12,
    "start_time": "2022-10-27T17:07:10.671Z"
   },
   {
    "duration": 3,
    "start_time": "2022-10-27T17:09:53.715Z"
   },
   {
    "duration": 91,
    "start_time": "2022-10-27T17:10:26.837Z"
   },
   {
    "duration": 9,
    "start_time": "2022-10-27T17:10:30.413Z"
   },
   {
    "duration": 14,
    "start_time": "2022-10-27T17:10:33.272Z"
   },
   {
    "duration": 5,
    "start_time": "2022-10-27T17:10:33.967Z"
   },
   {
    "duration": 240,
    "start_time": "2022-10-27T17:10:34.595Z"
   },
   {
    "duration": 251,
    "start_time": "2022-10-27T17:10:41.774Z"
   },
   {
    "duration": 5,
    "start_time": "2022-10-27T17:18:31.737Z"
   },
   {
    "duration": 12,
    "start_time": "2022-10-27T17:18:46.565Z"
   },
   {
    "duration": 6,
    "start_time": "2022-10-27T17:18:46.936Z"
   },
   {
    "duration": 261,
    "start_time": "2022-10-27T17:18:47.180Z"
   },
   {
    "duration": 9,
    "start_time": "2022-10-27T17:21:14.752Z"
   },
   {
    "duration": 5,
    "start_time": "2022-10-27T17:21:20.086Z"
   },
   {
    "duration": 265,
    "start_time": "2022-10-27T17:21:20.352Z"
   },
   {
    "duration": 355,
    "start_time": "2022-10-27T17:21:22.461Z"
   },
   {
    "duration": 257,
    "start_time": "2022-10-27T17:21:24.453Z"
   },
   {
    "duration": 261,
    "start_time": "2022-10-27T17:21:46.323Z"
   },
   {
    "duration": 153,
    "start_time": "2022-10-27T17:22:03.971Z"
   },
   {
    "duration": 278,
    "start_time": "2022-10-27T17:23:25.891Z"
   },
   {
    "duration": 6,
    "start_time": "2022-10-27T17:34:40.889Z"
   },
   {
    "duration": 141,
    "start_time": "2022-10-27T17:34:41.421Z"
   },
   {
    "duration": 148,
    "start_time": "2022-10-27T17:34:46.033Z"
   },
   {
    "duration": 6,
    "start_time": "2022-10-27T17:35:16.146Z"
   },
   {
    "duration": 206,
    "start_time": "2022-10-27T17:35:23.613Z"
   },
   {
    "duration": 147,
    "start_time": "2022-10-27T17:35:24.634Z"
   },
   {
    "duration": 6,
    "start_time": "2022-10-27T17:35:36.250Z"
   },
   {
    "duration": 132,
    "start_time": "2022-10-27T17:35:36.980Z"
   },
   {
    "duration": 6,
    "start_time": "2022-10-27T17:35:43.519Z"
   },
   {
    "duration": 137,
    "start_time": "2022-10-27T17:35:43.753Z"
   },
   {
    "duration": 151,
    "start_time": "2022-10-27T17:35:44.068Z"
   },
   {
    "duration": 9,
    "start_time": "2022-10-27T17:35:47.636Z"
   },
   {
    "duration": 7,
    "start_time": "2022-10-27T17:41:29.070Z"
   },
   {
    "duration": 6,
    "start_time": "2022-10-27T17:43:27.295Z"
   },
   {
    "duration": 140,
    "start_time": "2022-10-27T17:43:27.753Z"
   },
   {
    "duration": 168,
    "start_time": "2022-10-27T17:43:28.180Z"
   },
   {
    "duration": 7,
    "start_time": "2022-10-27T17:43:28.775Z"
   },
   {
    "duration": 128,
    "start_time": "2022-10-27T17:46:03.904Z"
   },
   {
    "duration": 150,
    "start_time": "2022-10-27T17:46:04.278Z"
   },
   {
    "duration": 220,
    "start_time": "2022-10-27T17:48:40.678Z"
   },
   {
    "duration": 157,
    "start_time": "2022-10-27T17:59:46.428Z"
   },
   {
    "duration": 197,
    "start_time": "2022-10-27T19:36:23.787Z"
   },
   {
    "duration": 650,
    "start_time": "2022-10-27T19:37:08.171Z"
   },
   {
    "duration": 518,
    "start_time": "2022-10-27T19:37:20.016Z"
   },
   {
    "duration": 9,
    "start_time": "2022-10-27T19:45:20.808Z"
   },
   {
    "duration": 5,
    "start_time": "2022-10-27T19:45:21.265Z"
   },
   {
    "duration": 7,
    "start_time": "2022-10-27T19:45:22.768Z"
   },
   {
    "duration": 1094,
    "start_time": "2022-10-27T19:45:34.468Z"
   },
   {
    "duration": 50,
    "start_time": "2022-10-27T19:45:35.564Z"
   },
   {
    "duration": 18,
    "start_time": "2022-10-27T19:45:35.615Z"
   },
   {
    "duration": 12,
    "start_time": "2022-10-27T19:45:35.634Z"
   },
   {
    "duration": 651,
    "start_time": "2022-10-27T19:45:35.647Z"
   },
   {
    "duration": 9,
    "start_time": "2022-10-27T19:45:36.300Z"
   },
   {
    "duration": 15,
    "start_time": "2022-10-27T19:45:36.310Z"
   },
   {
    "duration": 3,
    "start_time": "2022-10-27T19:45:36.327Z"
   },
   {
    "duration": 5,
    "start_time": "2022-10-27T19:45:36.331Z"
   },
   {
    "duration": 8,
    "start_time": "2022-10-27T19:45:36.337Z"
   },
   {
    "duration": 6,
    "start_time": "2022-10-27T19:45:36.346Z"
   },
   {
    "duration": 29,
    "start_time": "2022-10-27T19:45:36.354Z"
   },
   {
    "duration": 9,
    "start_time": "2022-10-27T19:45:36.385Z"
   },
   {
    "duration": 6,
    "start_time": "2022-10-27T19:45:36.397Z"
   },
   {
    "duration": 14,
    "start_time": "2022-10-27T19:45:36.405Z"
   },
   {
    "duration": 12,
    "start_time": "2022-10-27T19:45:36.420Z"
   },
   {
    "duration": 10,
    "start_time": "2022-10-27T19:45:36.433Z"
   },
   {
    "duration": 44609,
    "start_time": "2022-10-27T19:45:36.445Z"
   },
   {
    "duration": 30784,
    "start_time": "2022-10-27T19:46:21.056Z"
   },
   {
    "duration": 31586,
    "start_time": "2022-10-27T19:46:51.842Z"
   },
   {
    "duration": 8,
    "start_time": "2022-10-27T19:47:23.429Z"
   },
   {
    "duration": 13,
    "start_time": "2022-10-27T19:47:23.438Z"
   },
   {
    "duration": 21,
    "start_time": "2022-10-27T19:47:23.452Z"
   },
   {
    "duration": 8,
    "start_time": "2022-10-27T19:47:23.475Z"
   },
   {
    "duration": 12,
    "start_time": "2022-10-27T19:47:23.484Z"
   },
   {
    "duration": 7,
    "start_time": "2022-10-27T19:47:23.497Z"
   },
   {
    "duration": 7,
    "start_time": "2022-10-27T19:47:23.505Z"
   },
   {
    "duration": 14,
    "start_time": "2022-10-27T19:47:23.514Z"
   },
   {
    "duration": 5,
    "start_time": "2022-10-27T19:47:23.530Z"
   },
   {
    "duration": 7,
    "start_time": "2022-10-27T19:47:23.537Z"
   },
   {
    "duration": 14,
    "start_time": "2022-10-27T19:47:23.546Z"
   },
   {
    "duration": 169,
    "start_time": "2022-10-27T19:47:23.562Z"
   },
   {
    "duration": 6,
    "start_time": "2022-10-27T19:47:23.732Z"
   },
   {
    "duration": 16,
    "start_time": "2022-10-27T19:47:23.739Z"
   },
   {
    "duration": 6,
    "start_time": "2022-10-27T19:47:23.757Z"
   },
   {
    "duration": 307,
    "start_time": "2022-10-27T19:47:23.764Z"
   },
   {
    "duration": 4,
    "start_time": "2022-10-27T19:47:24.073Z"
   },
   {
    "duration": 270,
    "start_time": "2022-10-27T19:47:24.079Z"
   },
   {
    "duration": 281,
    "start_time": "2022-10-27T19:47:24.351Z"
   },
   {
    "duration": 372,
    "start_time": "2022-10-27T19:47:24.634Z"
   },
   {
    "duration": 6,
    "start_time": "2022-10-27T19:47:25.009Z"
   },
   {
    "duration": 143,
    "start_time": "2022-10-27T19:47:25.016Z"
   },
   {
    "duration": 155,
    "start_time": "2022-10-27T19:47:25.161Z"
   },
   {
    "duration": 9,
    "start_time": "2022-10-27T19:47:25.318Z"
   },
   {
    "duration": 8,
    "start_time": "2022-10-27T19:47:25.329Z"
   },
   {
    "duration": 150,
    "start_time": "2022-10-27T19:47:25.339Z"
   },
   {
    "duration": 144,
    "start_time": "2022-10-27T19:47:25.491Z"
   },
   {
    "duration": 8,
    "start_time": "2022-10-27T19:47:25.637Z"
   },
   {
    "duration": 178,
    "start_time": "2022-10-27T19:47:25.647Z"
   },
   {
    "duration": 577,
    "start_time": "2022-10-27T19:47:25.827Z"
   },
   {
    "duration": 580,
    "start_time": "2022-10-27T19:47:26.405Z"
   },
   {
    "duration": 272,
    "start_time": "2022-10-27T19:47:26.986Z"
   },
   {
    "duration": 17,
    "start_time": "2022-10-27T19:47:27.260Z"
   },
   {
    "duration": 5,
    "start_time": "2022-10-27T19:47:27.279Z"
   },
   {
    "duration": 9,
    "start_time": "2022-10-27T19:47:27.285Z"
   },
   {
    "duration": 9,
    "start_time": "2022-10-27T19:51:59.425Z"
   },
   {
    "duration": 5,
    "start_time": "2022-10-27T19:51:59.653Z"
   },
   {
    "duration": 6,
    "start_time": "2022-10-27T19:52:01.785Z"
   },
   {
    "duration": 1082,
    "start_time": "2022-10-27T20:06:29.439Z"
   },
   {
    "duration": 55,
    "start_time": "2022-10-27T20:06:30.523Z"
   },
   {
    "duration": 19,
    "start_time": "2022-10-27T20:06:30.579Z"
   },
   {
    "duration": 29,
    "start_time": "2022-10-27T20:06:30.600Z"
   },
   {
    "duration": 684,
    "start_time": "2022-10-27T20:06:30.631Z"
   },
   {
    "duration": 8,
    "start_time": "2022-10-27T20:06:31.317Z"
   },
   {
    "duration": 35,
    "start_time": "2022-10-27T20:06:31.326Z"
   },
   {
    "duration": 6,
    "start_time": "2022-10-27T20:06:31.362Z"
   },
   {
    "duration": 10,
    "start_time": "2022-10-27T20:06:31.369Z"
   },
   {
    "duration": 7,
    "start_time": "2022-10-27T20:06:31.381Z"
   },
   {
    "duration": 8,
    "start_time": "2022-10-27T20:06:31.390Z"
   },
   {
    "duration": 14,
    "start_time": "2022-10-27T20:06:31.400Z"
   },
   {
    "duration": 6,
    "start_time": "2022-10-27T20:06:31.415Z"
   },
   {
    "duration": 6,
    "start_time": "2022-10-27T20:06:31.423Z"
   },
   {
    "duration": 15,
    "start_time": "2022-10-27T20:06:31.430Z"
   },
   {
    "duration": 6,
    "start_time": "2022-10-27T20:06:31.447Z"
   },
   {
    "duration": 9,
    "start_time": "2022-10-27T20:06:31.455Z"
   },
   {
    "duration": 44668,
    "start_time": "2022-10-27T20:06:31.466Z"
   },
   {
    "duration": 30819,
    "start_time": "2022-10-27T20:07:16.135Z"
   },
   {
    "duration": 31830,
    "start_time": "2022-10-27T20:07:46.955Z"
   },
   {
    "duration": 7,
    "start_time": "2022-10-27T20:08:18.787Z"
   },
   {
    "duration": 5,
    "start_time": "2022-10-27T20:08:18.795Z"
   },
   {
    "duration": 15,
    "start_time": "2022-10-27T20:08:18.801Z"
   },
   {
    "duration": 7,
    "start_time": "2022-10-27T20:08:18.817Z"
   },
   {
    "duration": 12,
    "start_time": "2022-10-27T20:08:18.826Z"
   },
   {
    "duration": 6,
    "start_time": "2022-10-27T20:08:18.839Z"
   },
   {
    "duration": 5,
    "start_time": "2022-10-27T20:08:18.847Z"
   },
   {
    "duration": 7,
    "start_time": "2022-10-27T20:08:18.878Z"
   },
   {
    "duration": 8,
    "start_time": "2022-10-27T20:08:18.886Z"
   },
   {
    "duration": 6,
    "start_time": "2022-10-27T20:08:18.896Z"
   },
   {
    "duration": 13,
    "start_time": "2022-10-27T20:08:18.904Z"
   },
   {
    "duration": 162,
    "start_time": "2022-10-27T20:08:18.918Z"
   },
   {
    "duration": 5,
    "start_time": "2022-10-27T20:08:19.082Z"
   },
   {
    "duration": 16,
    "start_time": "2022-10-27T20:08:19.089Z"
   },
   {
    "duration": 6,
    "start_time": "2022-10-27T20:08:19.106Z"
   },
   {
    "duration": 295,
    "start_time": "2022-10-27T20:08:19.113Z"
   },
   {
    "duration": 5,
    "start_time": "2022-10-27T20:08:19.409Z"
   },
   {
    "duration": 254,
    "start_time": "2022-10-27T20:08:19.415Z"
   },
   {
    "duration": 273,
    "start_time": "2022-10-27T20:08:19.676Z"
   },
   {
    "duration": 383,
    "start_time": "2022-10-27T20:08:19.951Z"
   },
   {
    "duration": 7,
    "start_time": "2022-10-27T20:08:20.336Z"
   },
   {
    "duration": 143,
    "start_time": "2022-10-27T20:08:20.345Z"
   },
   {
    "duration": 153,
    "start_time": "2022-10-27T20:08:20.490Z"
   },
   {
    "duration": 8,
    "start_time": "2022-10-27T20:08:20.644Z"
   },
   {
    "duration": 7,
    "start_time": "2022-10-27T20:08:20.653Z"
   },
   {
    "duration": 140,
    "start_time": "2022-10-27T20:08:20.662Z"
   },
   {
    "duration": 142,
    "start_time": "2022-10-27T20:08:20.804Z"
   },
   {
    "duration": 8,
    "start_time": "2022-10-27T20:08:20.947Z"
   },
   {
    "duration": 174,
    "start_time": "2022-10-27T20:08:20.956Z"
   },
   {
    "duration": 525,
    "start_time": "2022-10-27T20:08:21.131Z"
   },
   {
    "duration": 561,
    "start_time": "2022-10-27T20:08:21.658Z"
   },
   {
    "duration": 270,
    "start_time": "2022-10-27T20:08:22.221Z"
   },
   {
    "duration": 9,
    "start_time": "2022-10-27T20:08:22.493Z"
   },
   {
    "duration": 8,
    "start_time": "2022-10-27T20:08:22.504Z"
   },
   {
    "duration": 10,
    "start_time": "2022-10-27T20:08:22.513Z"
   },
   {
    "duration": 12,
    "start_time": "2022-10-27T20:08:22.524Z"
   },
   {
    "duration": 5,
    "start_time": "2022-10-27T20:08:22.538Z"
   },
   {
    "duration": 6,
    "start_time": "2022-10-27T20:08:22.545Z"
   },
   {
    "duration": 1254,
    "start_time": "2022-10-28T09:35:15.650Z"
   },
   {
    "duration": 95,
    "start_time": "2022-10-28T09:35:16.906Z"
   },
   {
    "duration": 19,
    "start_time": "2022-10-28T09:35:17.003Z"
   },
   {
    "duration": 25,
    "start_time": "2022-10-28T09:35:17.023Z"
   },
   {
    "duration": 693,
    "start_time": "2022-10-28T09:35:17.050Z"
   },
   {
    "duration": 9,
    "start_time": "2022-10-28T09:35:17.745Z"
   },
   {
    "duration": 26,
    "start_time": "2022-10-28T09:35:17.755Z"
   },
   {
    "duration": 4,
    "start_time": "2022-10-28T09:35:17.782Z"
   },
   {
    "duration": 17,
    "start_time": "2022-10-28T09:35:17.788Z"
   },
   {
    "duration": 18,
    "start_time": "2022-10-28T09:35:17.806Z"
   },
   {
    "duration": 51,
    "start_time": "2022-10-28T09:35:17.826Z"
   },
   {
    "duration": 25,
    "start_time": "2022-10-28T09:35:17.879Z"
   },
   {
    "duration": 23,
    "start_time": "2022-10-28T09:35:17.905Z"
   },
   {
    "duration": 23,
    "start_time": "2022-10-28T09:35:17.931Z"
   },
   {
    "duration": 18,
    "start_time": "2022-10-28T09:35:17.956Z"
   },
   {
    "duration": 37,
    "start_time": "2022-10-28T09:35:17.976Z"
   },
   {
    "duration": 21,
    "start_time": "2022-10-28T09:35:18.015Z"
   },
   {
    "duration": 45686,
    "start_time": "2022-10-28T09:35:18.038Z"
   },
   {
    "duration": 32171,
    "start_time": "2022-10-28T09:36:03.725Z"
   },
   {
    "duration": 32302,
    "start_time": "2022-10-28T09:36:35.898Z"
   },
   {
    "duration": 8,
    "start_time": "2022-10-28T09:37:08.202Z"
   },
   {
    "duration": 16,
    "start_time": "2022-10-28T09:37:08.211Z"
   },
   {
    "duration": 30,
    "start_time": "2022-10-28T09:37:08.229Z"
   },
   {
    "duration": 13,
    "start_time": "2022-10-28T09:37:08.260Z"
   },
   {
    "duration": 12,
    "start_time": "2022-10-28T09:37:08.274Z"
   },
   {
    "duration": 7,
    "start_time": "2022-10-28T09:37:08.287Z"
   },
   {
    "duration": 9,
    "start_time": "2022-10-28T09:37:08.295Z"
   },
   {
    "duration": 7,
    "start_time": "2022-10-28T09:37:08.305Z"
   },
   {
    "duration": 8,
    "start_time": "2022-10-28T09:37:08.314Z"
   },
   {
    "duration": 7,
    "start_time": "2022-10-28T09:37:08.323Z"
   },
   {
    "duration": 14,
    "start_time": "2022-10-28T09:37:08.331Z"
   },
   {
    "duration": 164,
    "start_time": "2022-10-28T09:37:08.347Z"
   },
   {
    "duration": 10,
    "start_time": "2022-10-28T09:37:08.513Z"
   },
   {
    "duration": 20,
    "start_time": "2022-10-28T09:37:08.525Z"
   },
   {
    "duration": 10,
    "start_time": "2022-10-28T09:37:08.547Z"
   },
   {
    "duration": 313,
    "start_time": "2022-10-28T09:37:08.558Z"
   },
   {
    "duration": 310,
    "start_time": "2022-10-28T09:37:08.873Z"
   },
   {
    "duration": 252,
    "start_time": "2022-10-28T09:37:26.039Z"
   },
   {
    "duration": 254,
    "start_time": "2022-10-28T09:37:44.683Z"
   },
   {
    "duration": 3,
    "start_time": "2022-10-28T09:48:01.565Z"
   },
   {
    "duration": 88,
    "start_time": "2022-10-28T09:48:01.569Z"
   },
   {
    "duration": 14,
    "start_time": "2022-10-28T09:48:01.659Z"
   },
   {
    "duration": 45,
    "start_time": "2022-10-28T09:48:01.675Z"
   },
   {
    "duration": 751,
    "start_time": "2022-10-28T09:48:01.722Z"
   },
   {
    "duration": 9,
    "start_time": "2022-10-28T09:48:02.475Z"
   },
   {
    "duration": 49,
    "start_time": "2022-10-28T09:48:02.485Z"
   },
   {
    "duration": 26,
    "start_time": "2022-10-28T09:48:02.536Z"
   },
   {
    "duration": 25,
    "start_time": "2022-10-28T09:48:02.564Z"
   },
   {
    "duration": 41,
    "start_time": "2022-10-28T09:48:02.591Z"
   },
   {
    "duration": 26,
    "start_time": "2022-10-28T09:48:02.635Z"
   },
   {
    "duration": 45,
    "start_time": "2022-10-28T09:48:02.663Z"
   },
   {
    "duration": 39,
    "start_time": "2022-10-28T09:48:02.710Z"
   },
   {
    "duration": 44,
    "start_time": "2022-10-28T09:48:02.751Z"
   },
   {
    "duration": 77,
    "start_time": "2022-10-28T09:48:02.797Z"
   },
   {
    "duration": 57,
    "start_time": "2022-10-28T09:48:02.876Z"
   },
   {
    "duration": 22,
    "start_time": "2022-10-28T09:48:02.934Z"
   },
   {
    "duration": 46840,
    "start_time": "2022-10-28T09:48:02.958Z"
   },
   {
    "duration": 32115,
    "start_time": "2022-10-28T09:48:49.800Z"
   },
   {
    "duration": 33084,
    "start_time": "2022-10-28T09:49:21.916Z"
   },
   {
    "duration": 9,
    "start_time": "2022-10-28T09:49:55.002Z"
   },
   {
    "duration": 29,
    "start_time": "2022-10-28T09:49:55.021Z"
   },
   {
    "duration": 37,
    "start_time": "2022-10-28T09:49:55.052Z"
   },
   {
    "duration": 11,
    "start_time": "2022-10-28T09:49:55.091Z"
   },
   {
    "duration": 25,
    "start_time": "2022-10-28T09:49:55.104Z"
   },
   {
    "duration": 34,
    "start_time": "2022-10-28T09:49:55.131Z"
   },
   {
    "duration": 14,
    "start_time": "2022-10-28T09:49:55.167Z"
   },
   {
    "duration": 7,
    "start_time": "2022-10-28T09:49:55.183Z"
   },
   {
    "duration": 6,
    "start_time": "2022-10-28T09:49:55.193Z"
   },
   {
    "duration": 14,
    "start_time": "2022-10-28T09:49:55.200Z"
   },
   {
    "duration": 22,
    "start_time": "2022-10-28T09:49:55.215Z"
   },
   {
    "duration": 174,
    "start_time": "2022-10-28T09:49:55.239Z"
   },
   {
    "duration": 8,
    "start_time": "2022-10-28T09:49:55.415Z"
   },
   {
    "duration": 24,
    "start_time": "2022-10-28T09:49:55.425Z"
   },
   {
    "duration": 23,
    "start_time": "2022-10-28T09:49:55.451Z"
   },
   {
    "duration": 257,
    "start_time": "2022-10-28T09:49:55.476Z"
   },
   {
    "duration": 270,
    "start_time": "2022-10-28T09:49:55.735Z"
   },
   {
    "duration": 5,
    "start_time": "2022-10-28T09:49:56.007Z"
   },
   {
    "duration": 287,
    "start_time": "2022-10-28T09:49:56.021Z"
   },
   {
    "duration": 295,
    "start_time": "2022-10-28T09:49:56.310Z"
   },
   {
    "duration": 422,
    "start_time": "2022-10-28T09:49:56.607Z"
   },
   {
    "duration": 6,
    "start_time": "2022-10-28T09:49:57.031Z"
   },
   {
    "duration": 161,
    "start_time": "2022-10-28T09:49:57.039Z"
   },
   {
    "duration": 164,
    "start_time": "2022-10-28T09:49:57.202Z"
   },
   {
    "duration": 9,
    "start_time": "2022-10-28T09:49:57.368Z"
   },
   {
    "duration": 10,
    "start_time": "2022-10-28T09:49:57.379Z"
   },
   {
    "duration": 172,
    "start_time": "2022-10-28T09:49:57.391Z"
   },
   {
    "duration": 152,
    "start_time": "2022-10-28T09:49:57.564Z"
   },
   {
    "duration": 9,
    "start_time": "2022-10-28T09:49:57.720Z"
   },
   {
    "duration": 199,
    "start_time": "2022-10-28T09:49:57.730Z"
   },
   {
    "duration": 573,
    "start_time": "2022-10-28T09:49:57.931Z"
   },
   {
    "duration": 641,
    "start_time": "2022-10-28T09:49:58.506Z"
   },
   {
    "duration": 199,
    "start_time": "2022-10-28T09:49:59.149Z"
   },
   {
    "duration": 101,
    "start_time": "2022-10-28T09:50:42.070Z"
   },
   {
    "duration": 17,
    "start_time": "2022-10-28T09:51:14.463Z"
   },
   {
    "duration": 115,
    "start_time": "2022-10-28T09:51:53.798Z"
   },
   {
    "duration": 400,
    "start_time": "2022-10-28T09:52:43.660Z"
   },
   {
    "duration": 14,
    "start_time": "2022-10-28T09:53:20.848Z"
   },
   {
    "duration": 16,
    "start_time": "2022-10-28T09:53:36.176Z"
   },
   {
    "duration": 21,
    "start_time": "2022-10-28T09:53:46.170Z"
   },
   {
    "duration": 201,
    "start_time": "2022-10-28T09:54:12.714Z"
   },
   {
    "duration": 58,
    "start_time": "2022-10-28T09:56:00.146Z"
   }
  ],
  "kernelspec": {
   "display_name": "Python 3 (ipykernel)",
   "language": "python",
   "name": "python3"
  },
  "language_info": {
   "codemirror_mode": {
    "name": "ipython",
    "version": 3
   },
   "file_extension": ".py",
   "mimetype": "text/x-python",
   "name": "python",
   "nbconvert_exporter": "python",
   "pygments_lexer": "ipython3",
   "version": "3.10.9"
  },
  "toc": {
   "base_numbering": 1,
   "nav_menu": {},
   "number_sections": true,
   "sideBar": true,
   "skip_h1_title": true,
   "title_cell": "Table of Contents",
   "title_sidebar": "Contents",
   "toc_cell": false,
   "toc_position": {},
   "toc_section_display": true,
   "toc_window_display": false
  }
 },
 "nbformat": 4,
 "nbformat_minor": 2
}
