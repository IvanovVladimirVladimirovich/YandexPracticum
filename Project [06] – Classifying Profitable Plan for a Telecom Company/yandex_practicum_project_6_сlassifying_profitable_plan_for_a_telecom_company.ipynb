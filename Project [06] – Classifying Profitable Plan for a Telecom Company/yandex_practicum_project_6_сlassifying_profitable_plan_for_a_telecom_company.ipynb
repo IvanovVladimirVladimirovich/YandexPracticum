{
 "cells": [
  {
   "cell_type": "markdown",
   "metadata": {},
   "source": [
    "# Рекомендация тарифов"
   ]
  },
  {
   "cell_type": "markdown",
   "metadata": {},
   "source": [
    "В вашем распоряжении данные о поведении клиентов, которые уже перешли на эти тарифы (из проекта курса «Статистический анализ данных»). Нужно построить модель для задачи классификации, которая выберет подходящий тариф. Предобработка данных не понадобится — вы её уже сделали.\n",
    "\n",
    "Постройте модель с максимально большим значением *accuracy*. Чтобы сдать проект успешно, нужно довести долю правильных ответов по крайней мере до 0.75. Проверьте *accuracy* на тестовой выборке самостоятельно."
   ]
  },
  {
   "cell_type": "markdown",
   "metadata": {},
   "source": [
    "## Откройте и изучите файл"
   ]
  },
  {
   "cell_type": "code",
   "execution_count": 1,
   "metadata": {},
   "outputs": [],
   "source": [
    "import pandas as pd\n",
    "from sklearn.model_selection import train_test_split\n",
    "from sklearn.tree import DecisionTreeClassifier\n",
    "from sklearn.metrics import mean_squared_error\n",
    "from sklearn.ensemble import RandomForestClassifier\n",
    "from sklearn.linear_model import LogisticRegression\n",
    "from sklearn.dummy import DummyClassifier"
   ]
  },
  {
   "cell_type": "code",
   "execution_count": 2,
   "metadata": {},
   "outputs": [],
   "source": [
    "df = pd.read_csv(\"/datasets/users_behavior.csv\")"
   ]
  },
  {
   "cell_type": "code",
   "execution_count": 3,
   "metadata": {
    "scrolled": true
   },
   "outputs": [
    {
     "data": {
      "text/html": [
       "<div>\n",
       "<style scoped>\n",
       "    .dataframe tbody tr th:only-of-type {\n",
       "        vertical-align: middle;\n",
       "    }\n",
       "\n",
       "    .dataframe tbody tr th {\n",
       "        vertical-align: top;\n",
       "    }\n",
       "\n",
       "    .dataframe thead th {\n",
       "        text-align: right;\n",
       "    }\n",
       "</style>\n",
       "<table border=\"1\" class=\"dataframe\">\n",
       "  <thead>\n",
       "    <tr style=\"text-align: right;\">\n",
       "      <th></th>\n",
       "      <th>calls</th>\n",
       "      <th>minutes</th>\n",
       "      <th>messages</th>\n",
       "      <th>mb_used</th>\n",
       "      <th>is_ultra</th>\n",
       "    </tr>\n",
       "  </thead>\n",
       "  <tbody>\n",
       "    <tr>\n",
       "      <th>0</th>\n",
       "      <td>40.0</td>\n",
       "      <td>311.90</td>\n",
       "      <td>83.0</td>\n",
       "      <td>19915.42</td>\n",
       "      <td>0</td>\n",
       "    </tr>\n",
       "    <tr>\n",
       "      <th>1</th>\n",
       "      <td>85.0</td>\n",
       "      <td>516.75</td>\n",
       "      <td>56.0</td>\n",
       "      <td>22696.96</td>\n",
       "      <td>0</td>\n",
       "    </tr>\n",
       "    <tr>\n",
       "      <th>2</th>\n",
       "      <td>77.0</td>\n",
       "      <td>467.66</td>\n",
       "      <td>86.0</td>\n",
       "      <td>21060.45</td>\n",
       "      <td>0</td>\n",
       "    </tr>\n",
       "    <tr>\n",
       "      <th>3</th>\n",
       "      <td>106.0</td>\n",
       "      <td>745.53</td>\n",
       "      <td>81.0</td>\n",
       "      <td>8437.39</td>\n",
       "      <td>1</td>\n",
       "    </tr>\n",
       "    <tr>\n",
       "      <th>4</th>\n",
       "      <td>66.0</td>\n",
       "      <td>418.74</td>\n",
       "      <td>1.0</td>\n",
       "      <td>14502.75</td>\n",
       "      <td>0</td>\n",
       "    </tr>\n",
       "    <tr>\n",
       "      <th>5</th>\n",
       "      <td>58.0</td>\n",
       "      <td>344.56</td>\n",
       "      <td>21.0</td>\n",
       "      <td>15823.37</td>\n",
       "      <td>0</td>\n",
       "    </tr>\n",
       "    <tr>\n",
       "      <th>6</th>\n",
       "      <td>57.0</td>\n",
       "      <td>431.64</td>\n",
       "      <td>20.0</td>\n",
       "      <td>3738.90</td>\n",
       "      <td>1</td>\n",
       "    </tr>\n",
       "    <tr>\n",
       "      <th>7</th>\n",
       "      <td>15.0</td>\n",
       "      <td>132.40</td>\n",
       "      <td>6.0</td>\n",
       "      <td>21911.60</td>\n",
       "      <td>0</td>\n",
       "    </tr>\n",
       "    <tr>\n",
       "      <th>8</th>\n",
       "      <td>7.0</td>\n",
       "      <td>43.39</td>\n",
       "      <td>3.0</td>\n",
       "      <td>2538.67</td>\n",
       "      <td>1</td>\n",
       "    </tr>\n",
       "    <tr>\n",
       "      <th>9</th>\n",
       "      <td>90.0</td>\n",
       "      <td>665.41</td>\n",
       "      <td>38.0</td>\n",
       "      <td>17358.61</td>\n",
       "      <td>0</td>\n",
       "    </tr>\n",
       "  </tbody>\n",
       "</table>\n",
       "</div>"
      ],
      "text/plain": [
       "   calls  minutes  messages   mb_used  is_ultra\n",
       "0   40.0   311.90      83.0  19915.42         0\n",
       "1   85.0   516.75      56.0  22696.96         0\n",
       "2   77.0   467.66      86.0  21060.45         0\n",
       "3  106.0   745.53      81.0   8437.39         1\n",
       "4   66.0   418.74       1.0  14502.75         0\n",
       "5   58.0   344.56      21.0  15823.37         0\n",
       "6   57.0   431.64      20.0   3738.90         1\n",
       "7   15.0   132.40       6.0  21911.60         0\n",
       "8    7.0    43.39       3.0   2538.67         1\n",
       "9   90.0   665.41      38.0  17358.61         0"
      ]
     },
     "metadata": {},
     "output_type": "display_data"
    }
   ],
   "source": [
    "display(df.head(10))"
   ]
  },
  {
   "cell_type": "code",
   "execution_count": 4,
   "metadata": {},
   "outputs": [
    {
     "name": "stdout",
     "output_type": "stream",
     "text": [
      "<class 'pandas.core.frame.DataFrame'>\n",
      "RangeIndex: 3214 entries, 0 to 3213\n",
      "Data columns (total 5 columns):\n",
      " #   Column    Non-Null Count  Dtype  \n",
      "---  ------    --------------  -----  \n",
      " 0   calls     3214 non-null   float64\n",
      " 1   minutes   3214 non-null   float64\n",
      " 2   messages  3214 non-null   float64\n",
      " 3   mb_used   3214 non-null   float64\n",
      " 4   is_ultra  3214 non-null   int64  \n",
      "dtypes: float64(4), int64(1)\n",
      "memory usage: 125.7 KB\n"
     ]
    },
    {
     "data": {
      "text/plain": [
       "None"
      ]
     },
     "metadata": {},
     "output_type": "display_data"
    }
   ],
   "source": [
    "display(df.info())"
   ]
  },
  {
   "cell_type": "markdown",
   "metadata": {},
   "source": [
    "Как видно из первой десятки, данные состоят из двух категорий: признаки и целевой признак. Количество звонков, минут, сообщений и трафика - это признак. А присутствия тарифа Ultra, которое отображается 0/1, является классификацией и целевым признаком."
   ]
  },
  {
   "cell_type": "markdown",
   "metadata": {},
   "source": [
    "## Разбейте данные на выборки"
   ]
  },
  {
   "cell_type": "markdown",
   "metadata": {},
   "source": [
    "Для создания модели и дальнейшей ее валидации, нам понадобится разделить данные на три группы: тренировочная, валидационная и тестировочная. Они будут разделены в соотношении 3:1:1 или 60%, 20% и 20%. "
   ]
  },
  {
   "cell_type": "code",
   "execution_count": 5,
   "metadata": {},
   "outputs": [],
   "source": [
    "features = df.drop([\"is_ultra\"], axis = 1)\n",
    "target = df[\"is_ultra\"]"
   ]
  },
  {
   "cell_type": "code",
   "execution_count": 6,
   "metadata": {},
   "outputs": [],
   "source": [
    "features_train, features_valid_test, target_train, target_valid_test = train_test_split(\n",
    "    features, target, test_size=0.4, random_state=12345)\n",
    "\n",
    "features_valid, features_test, target_valid, target_test = train_test_split(\n",
    "    features_valid_test, target_valid_test, test_size=0.5, random_state=12345)"
   ]
  },
  {
   "cell_type": "markdown",
   "metadata": {},
   "source": [
    "Проверяем соотношение: "
   ]
  },
  {
   "cell_type": "code",
   "execution_count": 7,
   "metadata": {},
   "outputs": [
    {
     "name": "stdout",
     "output_type": "stream",
     "text": [
      "59.98755444928439\n",
      "20.00622277535781\n",
      "20.00622277535781\n"
     ]
    }
   ],
   "source": [
    "print(len(features_train)/len(features)*100)\n",
    "print(len(features_valid)/len(features)*100)\n",
    "print(len(features_test)/len(features)*100)"
   ]
  },
  {
   "cell_type": "markdown",
   "metadata": {},
   "source": [
    "## Исследуйте модели"
   ]
  },
  {
   "cell_type": "markdown",
   "metadata": {},
   "source": [
    "Стоит проверить каждую из трех моделей: Решающее дерево, случайный лес и логистическая регрессия. \n",
    "\n",
    "Однако, у всех моделей есть разные гиперпараметры которые можно менять. Чтобы найти лучшую, будет проведена работа по поиску лучшей модели для каждого типа. Результаты будут сравниваться с валидационными данными и выбираться лучшая. "
   ]
  },
  {
   "cell_type": "code",
   "execution_count": 8,
   "metadata": {},
   "outputs": [],
   "source": [
    "best_model = None\n",
    "best_result = 0\n",
    "best_depth = 0\n",
    "for depth in range(1, 21):\n",
    "    model = DecisionTreeClassifier(random_state=12345,max_depth=depth,criterion=\"gini\")\n",
    "    model.fit(features_train,target_train)\n",
    "    predictions_valid = model.predict(features_valid)\n",
    "    result = model.score(features_valid,target_valid)\n",
    "    if result > best_result:\n",
    "        best_dtcg_model = model\n",
    "        best_result = result\n",
    "        best_depth = depth"
   ]
  },
  {
   "cell_type": "code",
   "execution_count": 9,
   "metadata": {},
   "outputs": [
    {
     "name": "stdout",
     "output_type": "stream",
     "text": [
      "Точность лучшей модели: 0.7853810264385692\n",
      "Глубина лучшей модели: 3\n"
     ]
    }
   ],
   "source": [
    "print(\"Точность лучшей модели:\", best_result)\n",
    "print(\"Глубина лучшей модели:\", best_depth)"
   ]
  },
  {
   "cell_type": "code",
   "execution_count": 10,
   "metadata": {},
   "outputs": [],
   "source": [
    "best_model = None\n",
    "best_result = 0\n",
    "best_depth = 0\n",
    "for depth in range(1, 21):\n",
    "    model = DecisionTreeClassifier(random_state=12345,max_depth=depth,criterion=\"entropy\")\n",
    "    model.fit(features_train,target_train)\n",
    "    predictions_valid = model.predict(features_valid)\n",
    "    result = model.score(features_valid,target_valid)\n",
    "    if result > best_result:\n",
    "        best_dtce_model = model\n",
    "        best_result = result\n",
    "        best_depth = depth"
   ]
  },
  {
   "cell_type": "code",
   "execution_count": 11,
   "metadata": {},
   "outputs": [
    {
     "name": "stdout",
     "output_type": "stream",
     "text": [
      "Точность лучшей модели: 0.7853810264385692\n",
      "Глубина лучшей модели: 3\n"
     ]
    }
   ],
   "source": [
    "print(\"Точность лучшей модели:\", best_result)\n",
    "print(\"Глубина лучшей модели:\", best_depth)"
   ]
  },
  {
   "cell_type": "code",
   "execution_count": 12,
   "metadata": {},
   "outputs": [],
   "source": [
    "best_model = None\n",
    "best_result = 0\n",
    "best_est = 0\n",
    "best_depth = 0\n",
    "for est in range(1, 101, 5):\n",
    "    for depth in range (1, 51, 5):\n",
    "        model = RandomForestClassifier(random_state=12345,n_estimators=est, max_depth=depth,criterion=\"gini\")\n",
    "        model.fit(features_train,target_train)\n",
    "        predictions_valid = model.predict(features_valid)\n",
    "        result = model.score(features_valid,target_valid)\n",
    "        if result > best_result:\n",
    "            best_rfcg_model = model\n",
    "            best_result = result\n",
    "            best_depth = depth\n",
    "            best_est = est"
   ]
  },
  {
   "cell_type": "code",
   "execution_count": 13,
   "metadata": {},
   "outputs": [
    {
     "name": "stdout",
     "output_type": "stream",
     "text": [
      "Точность лучшей модели: 0.80248833592535\n",
      "Глубина лучшей модели: 6\n",
      "Число деревьев лучшей модели: 31\n"
     ]
    }
   ],
   "source": [
    "print(\"Точность лучшей модели:\", best_result)\n",
    "print(\"Глубина лучшей модели:\", best_depth)\n",
    "print(\"Число деревьев лучшей модели:\", best_est)"
   ]
  },
  {
   "cell_type": "code",
   "execution_count": 14,
   "metadata": {},
   "outputs": [],
   "source": [
    "best_model = None\n",
    "best_result = 0\n",
    "best_est = 0\n",
    "best_depth = 0\n",
    "for est in range(1, 101, 5):\n",
    "    for depth in range (1, 51, 5):\n",
    "        model = RandomForestClassifier(random_state=12345,n_estimators=est, max_depth=depth,criterion=\"entropy\")\n",
    "        model.fit(features_train,target_train)\n",
    "        predictions_valid = model.predict(features_valid)\n",
    "        result = model.score(features_valid,target_valid)\n",
    "        if result > best_result:\n",
    "            best_rfce_model = model\n",
    "            best_result = result\n",
    "            best_depth = depth\n",
    "            best_est = est"
   ]
  },
  {
   "cell_type": "code",
   "execution_count": 15,
   "metadata": {},
   "outputs": [
    {
     "name": "stdout",
     "output_type": "stream",
     "text": [
      "Точность лучшей модели: 0.807153965785381\n",
      "Глубина лучшей модели: 6\n",
      "Число деревьев лучшей модели: 21\n"
     ]
    }
   ],
   "source": [
    "print(\"Точность лучшей модели:\", best_result)\n",
    "print(\"Глубина лучшей модели:\", best_depth)\n",
    "print(\"Число деревьев лучшей модели:\", best_est)"
   ]
  },
  {
   "cell_type": "code",
   "execution_count": 16,
   "metadata": {},
   "outputs": [],
   "source": [
    "best_model = None\n",
    "best_result = 0\n",
    "best_itter = 0\n",
    "best_est = 0\n",
    "for strght in range(1, 10):\n",
    "    for itter in range (100, 2000,100):\n",
    "        model = LogisticRegression(random_state=12345, solver='lbfgs', max_iter=itter, C=strght)\n",
    "        model.fit(features_train,target_train)\n",
    "        predictions_valid = model.predict(features_valid)\n",
    "        result = model.score(features_valid,target_valid)\n",
    "        if result > best_result:\n",
    "            best_lr_model = model\n",
    "            best_result = result\n",
    "            best_itter = itter\n",
    "            best_strght = strght"
   ]
  },
  {
   "cell_type": "code",
   "execution_count": 17,
   "metadata": {},
   "outputs": [
    {
     "name": "stdout",
     "output_type": "stream",
     "text": [
      "Точность лучшей модели: 0.7558320373250389\n",
      "Иттерация лучшей модели: 100\n",
      "Число силы регуляризации лучшей модели: 5\n"
     ]
    }
   ],
   "source": [
    "print(\"Точность лучшей модели:\", best_result)\n",
    "print(\"Иттерация лучшей модели:\", best_itter)\n",
    "print(\"Число силы регуляризации лучшей модели:\", best_strght)"
   ]
  },
  {
   "cell_type": "markdown",
   "metadata": {},
   "source": [
    "Из проведенных анализов видно, что лучше всего справился случайный лес с глубинной 8 и числе деревьев 40, и значением \"criterion\" на \"entropy\". \n",
    "\n",
    "Стоит отметить, что решающее дерево тоже достигло результата больше 75% верных ответов, но в сравнении с решающим лесом она работает намного быстрее. Поэтому, выкидывать эту модель не стоит."
   ]
  },
  {
   "cell_type": "markdown",
   "metadata": {},
   "source": [
    "## Проверьте модель на тестовой выборке"
   ]
  },
  {
   "cell_type": "markdown",
   "metadata": {},
   "source": [
    "Теперь стоит проверить на тестовой выборке, правда ли результат больше 75%. "
   ]
  },
  {
   "cell_type": "code",
   "execution_count": 18,
   "metadata": {},
   "outputs": [],
   "source": [
    "test_result = best_rfce_model.score(features_test,target_test)"
   ]
  },
  {
   "cell_type": "code",
   "execution_count": 19,
   "metadata": {},
   "outputs": [
    {
     "name": "stdout",
     "output_type": "stream",
     "text": [
      "Точность тестовой выборки: 0.7978227060653188\n"
     ]
    }
   ],
   "source": [
    "print(\"Точность тестовой выборки:\",test_result)"
   ]
  },
  {
   "cell_type": "markdown",
   "metadata": {},
   "source": [
    "Как видно из результатов, модель набрала больше 75%, что делает ее пригодной для работы. "
   ]
  },
  {
   "cell_type": "markdown",
   "metadata": {},
   "source": [
    "## (бонус) Проверьте модели на адекватность"
   ]
  },
  {
   "cell_type": "markdown",
   "metadata": {},
   "source": [
    "Чтобы проверить нашу модель на адекватность, мы сравним ее с \"дурачковой\" моделью. "
   ]
  },
  {
   "cell_type": "code",
   "execution_count": 21,
   "metadata": {},
   "outputs": [],
   "source": [
    "dummy = DummyClassifier()\n",
    "dummy.fit(features_train,target_train)\n",
    "dummy_result = dummy.score(features_test,target_test)"
   ]
  },
  {
   "cell_type": "code",
   "execution_count": 22,
   "metadata": {},
   "outputs": [
    {
     "name": "stdout",
     "output_type": "stream",
     "text": [
      "Точность 'дурачковой' выборки: 0.6842923794712286\n"
     ]
    }
   ],
   "source": [
    "print(\"Точность 'дурачковой' выборки:\",dummy_result)"
   ]
  },
  {
   "cell_type": "markdown",
   "metadata": {},
   "source": [
    "Как видно из результатов, наша модель имеет более 10% преимущество перед \"дурачковой\" моделью, что говорит о ее адекватности. "
   ]
  },
  {
   "cell_type": "markdown",
   "metadata": {},
   "source": [
    "# Заключение"
   ]
  },
  {
   "cell_type": "markdown",
   "metadata": {},
   "source": [
    "Из проделанной работы, было выявлено, что лучшей моделью для предсказания тарифа является случайный лес с глубинной 8 и числе деревьев 40, и значением \"criterion\" на \"entropy\". В данном проекте модель располагается под переменной \"best_rfce_model\". \n",
    "\n",
    "Так же, тест на адекватность был \"сдан\" с более чем 10% преимущества перед \"дурачковой\" моделью.\n",
    "\n",
    "Однако, стоить отметить, что все другие модели с правильными гиперпараметрами достигли более 75% точности на стадии тренировки. Что значит, что могут быть и использованы другие модели в зависимости от задачи. "
   ]
  }
 ],
 "metadata": {
  "ExecuteTimeLog": [
   {
    "duration": 366,
    "start_time": "2022-11-15T16:46:36.457Z"
   },
   {
    "duration": 62,
    "start_time": "2022-11-15T16:46:36.845Z"
   },
   {
    "duration": 61,
    "start_time": "2022-11-15T16:46:41.282Z"
   },
   {
    "duration": 20,
    "start_time": "2022-11-15T16:46:41.850Z"
   },
   {
    "duration": 13,
    "start_time": "2022-11-15T16:46:42.605Z"
   },
   {
    "duration": 7,
    "start_time": "2022-11-15T16:47:03.738Z"
   },
   {
    "duration": 845,
    "start_time": "2022-11-15T16:47:08.244Z"
   },
   {
    "duration": 639,
    "start_time": "2022-11-15T16:47:23.903Z"
   },
   {
    "duration": 7,
    "start_time": "2022-11-15T16:47:46.804Z"
   },
   {
    "duration": 18,
    "start_time": "2022-11-15T16:48:05.602Z"
   },
   {
    "duration": 7,
    "start_time": "2022-11-15T16:48:09.608Z"
   },
   {
    "duration": 344,
    "start_time": "2022-11-18T17:41:10.281Z"
   },
   {
    "duration": 164,
    "start_time": "2022-11-18T17:41:10.627Z"
   },
   {
    "duration": 17,
    "start_time": "2022-11-18T17:41:10.793Z"
   },
   {
    "duration": 13,
    "start_time": "2022-11-18T17:41:11.317Z"
   },
   {
    "duration": 3,
    "start_time": "2022-11-18T17:41:12.160Z"
   },
   {
    "duration": 639,
    "start_time": "2022-11-18T17:41:12.560Z"
   },
   {
    "duration": 69,
    "start_time": "2022-11-18T17:43:28.659Z"
   },
   {
    "duration": 103,
    "start_time": "2022-11-18T17:43:29.094Z"
   },
   {
    "duration": 2,
    "start_time": "2022-11-18T17:43:39.664Z"
   },
   {
    "duration": 15,
    "start_time": "2022-11-18T17:43:40.016Z"
   },
   {
    "duration": 31,
    "start_time": "2022-11-18T17:43:48.719Z"
   },
   {
    "duration": 4,
    "start_time": "2022-11-18T17:43:50.502Z"
   },
   {
    "duration": 12,
    "start_time": "2022-11-18T17:44:48.860Z"
   },
   {
    "duration": 5274,
    "start_time": "2022-11-18T17:44:49.359Z"
   },
   {
    "duration": 3,
    "start_time": "2022-11-18T17:44:54.636Z"
   },
   {
    "duration": 2,
    "start_time": "2022-11-18T17:46:03.789Z"
   },
   {
    "duration": 8,
    "start_time": "2022-11-18T17:46:04.203Z"
   },
   {
    "duration": 4,
    "start_time": "2022-11-18T17:46:04.602Z"
   },
   {
    "duration": 3,
    "start_time": "2022-11-18T17:50:42.096Z"
   },
   {
    "duration": 1086,
    "start_time": "2022-11-18T17:50:42.459Z"
   },
   {
    "duration": 0,
    "start_time": "2022-11-18T17:51:01.848Z"
   },
   {
    "duration": 0,
    "start_time": "2022-11-18T17:51:01.849Z"
   },
   {
    "duration": 2,
    "start_time": "2022-11-18T17:51:04.025Z"
   },
   {
    "duration": 39811,
    "start_time": "2022-11-18T17:51:04.727Z"
   },
   {
    "duration": 11245,
    "start_time": "2022-11-18T17:51:46.400Z"
   },
   {
    "duration": 4,
    "start_time": "2022-11-18T17:52:00.838Z"
   },
   {
    "duration": 8,
    "start_time": "2022-11-18T18:07:20.746Z"
   },
   {
    "duration": 31,
    "start_time": "2022-11-18T18:10:07.732Z"
   },
   {
    "duration": 4,
    "start_time": "2022-11-18T18:10:12.753Z"
   },
   {
    "duration": 36,
    "start_time": "2022-11-18T18:10:13.368Z"
   },
   {
    "duration": 3,
    "start_time": "2022-11-18T18:11:40.462Z"
   },
   {
    "duration": 5,
    "start_time": "2022-11-18T18:11:40.906Z"
   },
   {
    "duration": 3,
    "start_time": "2022-11-18T18:11:41.893Z"
   },
   {
    "duration": 3,
    "start_time": "2022-11-18T18:11:42.377Z"
   },
   {
    "duration": 30,
    "start_time": "2022-11-18T18:11:42.658Z"
   },
   {
    "duration": 4,
    "start_time": "2022-11-18T18:11:43.012Z"
   },
   {
    "duration": 3,
    "start_time": "2022-11-18T18:11:43.428Z"
   },
   {
    "duration": 734,
    "start_time": "2022-11-18T18:11:44.556Z"
   },
   {
    "duration": 737,
    "start_time": "2022-11-18T18:12:06.347Z"
   },
   {
    "duration": 760,
    "start_time": "2022-11-18T18:12:27.824Z"
   },
   {
    "duration": 869,
    "start_time": "2022-11-18T18:14:16.936Z"
   },
   {
    "duration": 5042,
    "start_time": "2022-11-18T18:14:59.611Z"
   },
   {
    "duration": 5042,
    "start_time": "2022-11-18T18:15:23.777Z"
   },
   {
    "duration": 5632,
    "start_time": "2022-11-18T18:17:00.971Z"
   },
   {
    "duration": 39,
    "start_time": "2022-11-18T18:18:02.923Z"
   },
   {
    "duration": 2,
    "start_time": "2022-11-18T18:18:08.080Z"
   },
   {
    "duration": 35,
    "start_time": "2022-11-18T18:18:08.664Z"
   },
   {
    "duration": 65437,
    "start_time": "2022-11-18T18:18:52.759Z"
   },
   {
    "duration": 400,
    "start_time": "2022-11-18T18:20:16.902Z"
   },
   {
    "duration": 35,
    "start_time": "2022-11-18T18:20:17.304Z"
   },
   {
    "duration": 17,
    "start_time": "2022-11-18T18:20:17.341Z"
   },
   {
    "duration": 11,
    "start_time": "2022-11-18T18:20:17.359Z"
   },
   {
    "duration": 7,
    "start_time": "2022-11-18T18:20:17.372Z"
   },
   {
    "duration": 686,
    "start_time": "2022-11-18T18:20:17.380Z"
   },
   {
    "duration": 36,
    "start_time": "2022-11-18T18:20:18.068Z"
   },
   {
    "duration": 1162,
    "start_time": "2022-11-18T18:20:18.105Z"
   },
   {
    "duration": 3,
    "start_time": "2022-11-18T18:20:19.269Z"
   },
   {
    "duration": 29,
    "start_time": "2022-11-18T18:20:19.274Z"
   },
   {
    "duration": 391,
    "start_time": "2022-11-18T18:26:11.557Z"
   },
   {
    "duration": 31,
    "start_time": "2022-11-18T18:26:11.950Z"
   },
   {
    "duration": 23,
    "start_time": "2022-11-18T18:26:11.982Z"
   },
   {
    "duration": 14,
    "start_time": "2022-11-18T18:26:12.007Z"
   },
   {
    "duration": 27,
    "start_time": "2022-11-18T18:26:12.024Z"
   },
   {
    "duration": 778,
    "start_time": "2022-11-18T18:26:12.053Z"
   },
   {
    "duration": 46,
    "start_time": "2022-11-18T18:26:12.833Z"
   },
   {
    "duration": 181,
    "start_time": "2022-11-18T18:26:12.881Z"
   },
   {
    "duration": 4,
    "start_time": "2022-11-18T18:26:13.063Z"
   },
   {
    "duration": 33,
    "start_time": "2022-11-18T18:26:13.069Z"
   },
   {
    "duration": 50644,
    "start_time": "2022-11-18T18:26:13.104Z"
   },
   {
    "duration": 4,
    "start_time": "2022-11-18T18:27:03.750Z"
   },
   {
    "duration": 6,
    "start_time": "2022-11-18T18:27:03.756Z"
   },
   {
    "duration": 8,
    "start_time": "2022-11-18T18:27:03.764Z"
   },
   {
    "duration": 5,
    "start_time": "2022-11-18T18:27:03.774Z"
   },
   {
    "duration": 8,
    "start_time": "2022-11-18T18:27:03.780Z"
   },
   {
    "duration": 148252,
    "start_time": "2022-11-18T18:27:03.790Z"
   },
   {
    "duration": 5,
    "start_time": "2022-11-18T18:29:32.044Z"
   },
   {
    "duration": 106,
    "start_time": "2022-11-18T18:33:35.548Z"
   },
   {
    "duration": 4,
    "start_time": "2022-11-18T18:34:08.261Z"
   },
   {
    "duration": 10,
    "start_time": "2022-11-18T18:34:08.814Z"
   },
   {
    "duration": 10,
    "start_time": "2022-11-18T18:34:39.277Z"
   },
   {
    "duration": 11,
    "start_time": "2022-11-18T18:37:23.720Z"
   },
   {
    "duration": 11,
    "start_time": "2022-11-18T18:37:56.444Z"
   },
   {
    "duration": 11,
    "start_time": "2022-11-18T18:38:05.062Z"
   },
   {
    "duration": 5,
    "start_time": "2022-11-18T18:38:15.106Z"
   },
   {
    "duration": 7,
    "start_time": "2022-11-18T18:38:51.387Z"
   },
   {
    "duration": 3,
    "start_time": "2022-11-18T18:39:33.776Z"
   },
   {
    "duration": 4,
    "start_time": "2022-11-18T18:40:06.083Z"
   },
   {
    "duration": 4,
    "start_time": "2022-11-18T18:40:18.859Z"
   },
   {
    "duration": 3,
    "start_time": "2022-11-18T18:40:28.693Z"
   },
   {
    "duration": 408,
    "start_time": "2022-11-19T16:39:19.226Z"
   },
   {
    "duration": 67,
    "start_time": "2022-11-19T16:39:19.636Z"
   },
   {
    "duration": 17,
    "start_time": "2022-11-19T16:39:19.704Z"
   },
   {
    "duration": 10,
    "start_time": "2022-11-19T16:39:19.722Z"
   },
   {
    "duration": 3,
    "start_time": "2022-11-19T16:39:19.734Z"
   },
   {
    "duration": 60,
    "start_time": "2022-11-19T16:39:19.739Z"
   },
   {
    "duration": 0,
    "start_time": "2022-11-19T16:39:19.801Z"
   },
   {
    "duration": 0,
    "start_time": "2022-11-19T16:39:19.802Z"
   },
   {
    "duration": 0,
    "start_time": "2022-11-19T16:39:19.803Z"
   },
   {
    "duration": 0,
    "start_time": "2022-11-19T16:39:19.804Z"
   },
   {
    "duration": 0,
    "start_time": "2022-11-19T16:39:19.804Z"
   },
   {
    "duration": 0,
    "start_time": "2022-11-19T16:39:19.805Z"
   },
   {
    "duration": 0,
    "start_time": "2022-11-19T16:39:19.807Z"
   },
   {
    "duration": 0,
    "start_time": "2022-11-19T16:39:19.807Z"
   },
   {
    "duration": 0,
    "start_time": "2022-11-19T16:39:19.808Z"
   },
   {
    "duration": 0,
    "start_time": "2022-11-19T16:39:19.809Z"
   },
   {
    "duration": 0,
    "start_time": "2022-11-19T16:39:19.810Z"
   },
   {
    "duration": 0,
    "start_time": "2022-11-19T16:39:19.811Z"
   },
   {
    "duration": 0,
    "start_time": "2022-11-19T16:39:19.812Z"
   },
   {
    "duration": 3,
    "start_time": "2022-11-19T16:41:17.338Z"
   },
   {
    "duration": 674,
    "start_time": "2022-11-19T16:41:17.975Z"
   },
   {
    "duration": 7,
    "start_time": "2022-11-19T16:41:19.195Z"
   },
   {
    "duration": 4,
    "start_time": "2022-11-19T16:41:20.196Z"
   },
   {
    "duration": 38,
    "start_time": "2022-11-19T16:41:23.657Z"
   },
   {
    "duration": 59,
    "start_time": "2022-11-19T16:41:23.826Z"
   },
   {
    "duration": 3,
    "start_time": "2022-11-19T16:41:23.992Z"
   },
   {
    "duration": 11,
    "start_time": "2022-11-19T16:41:24.151Z"
   },
   {
    "duration": 38761,
    "start_time": "2022-11-19T16:41:24.313Z"
   },
   {
    "duration": 3,
    "start_time": "2022-11-19T16:42:03.076Z"
   },
   {
    "duration": 6,
    "start_time": "2022-11-19T16:42:03.081Z"
   },
   {
    "duration": 73,
    "start_time": "2022-11-19T16:42:03.089Z"
   },
   {
    "duration": 0,
    "start_time": "2022-11-19T16:42:03.164Z"
   },
   {
    "duration": 0,
    "start_time": "2022-11-19T16:42:03.165Z"
   },
   {
    "duration": 0,
    "start_time": "2022-11-19T16:42:03.166Z"
   },
   {
    "duration": 0,
    "start_time": "2022-11-19T16:42:03.167Z"
   },
   {
    "duration": 4,
    "start_time": "2022-11-19T16:44:52.188Z"
   },
   {
    "duration": 3,
    "start_time": "2022-11-19T16:44:52.935Z"
   },
   {
    "duration": 3404,
    "start_time": "2022-11-19T16:44:53.409Z"
   },
   {
    "duration": 3,
    "start_time": "2022-11-19T16:44:56.815Z"
   },
   {
    "duration": 3,
    "start_time": "2022-11-19T16:44:58.851Z"
   },
   {
    "duration": 3,
    "start_time": "2022-11-19T16:44:59.578Z"
   },
   {
    "duration": 47,
    "start_time": "2022-11-19T16:45:00.264Z"
   },
   {
    "duration": 3,
    "start_time": "2022-11-19T16:45:14.974Z"
   },
   {
    "duration": 12,
    "start_time": "2022-11-19T16:45:15.681Z"
   },
   {
    "duration": 1102,
    "start_time": "2022-11-19T16:45:16.968Z"
   },
   {
    "duration": 3,
    "start_time": "2022-11-19T16:46:01.841Z"
   },
   {
    "duration": 3,
    "start_time": "2022-11-19T16:46:19.545Z"
   },
   {
    "duration": 3,
    "start_time": "2022-11-19T16:46:21.984Z"
   },
   {
    "duration": 449,
    "start_time": "2022-11-19T16:47:52.144Z"
   },
   {
    "duration": 33,
    "start_time": "2022-11-19T16:47:52.595Z"
   },
   {
    "duration": 17,
    "start_time": "2022-11-19T16:47:52.629Z"
   },
   {
    "duration": 14,
    "start_time": "2022-11-19T16:47:52.647Z"
   },
   {
    "duration": 6,
    "start_time": "2022-11-19T16:47:52.663Z"
   },
   {
    "duration": 638,
    "start_time": "2022-11-19T16:47:52.671Z"
   },
   {
    "duration": 6,
    "start_time": "2022-11-19T16:47:53.311Z"
   },
   {
    "duration": 7,
    "start_time": "2022-11-19T16:47:53.319Z"
   },
   {
    "duration": 38,
    "start_time": "2022-11-19T16:47:54.731Z"
   },
   {
    "duration": 5,
    "start_time": "2022-11-19T16:47:55.041Z"
   },
   {
    "duration": 98,
    "start_time": "2022-11-19T16:47:55.479Z"
   },
   {
    "duration": 3,
    "start_time": "2022-11-19T16:48:59.146Z"
   },
   {
    "duration": 64,
    "start_time": "2022-11-19T16:48:59.796Z"
   },
   {
    "duration": 4,
    "start_time": "2022-11-19T16:49:00.610Z"
   },
   {
    "duration": 3,
    "start_time": "2022-11-19T16:50:00.025Z"
   },
   {
    "duration": 3,
    "start_time": "2022-11-19T16:50:00.310Z"
   },
   {
    "duration": 57,
    "start_time": "2022-11-19T16:50:00.686Z"
   },
   {
    "duration": 3,
    "start_time": "2022-11-19T16:50:01.030Z"
   },
   {
    "duration": 3,
    "start_time": "2022-11-19T16:50:31.113Z"
   },
   {
    "duration": 3,
    "start_time": "2022-11-19T16:50:31.820Z"
   },
   {
    "duration": 65,
    "start_time": "2022-11-19T16:50:32.104Z"
   },
   {
    "duration": 4,
    "start_time": "2022-11-19T16:50:32.626Z"
   },
   {
    "duration": 16,
    "start_time": "2022-11-19T16:50:32.632Z"
   },
   {
    "duration": 37416,
    "start_time": "2022-11-19T16:50:32.771Z"
   },
   {
    "duration": 4,
    "start_time": "2022-11-19T16:51:10.189Z"
   },
   {
    "duration": 10,
    "start_time": "2022-11-19T16:51:10.195Z"
   },
   {
    "duration": 3428,
    "start_time": "2022-11-19T16:51:10.207Z"
   },
   {
    "duration": 3,
    "start_time": "2022-11-19T16:51:13.637Z"
   },
   {
    "duration": 37273,
    "start_time": "2022-11-19T16:53:52.966Z"
   },
   {
    "duration": 4,
    "start_time": "2022-11-19T16:54:30.240Z"
   },
   {
    "duration": 26,
    "start_time": "2022-11-19T16:55:28.312Z"
   },
   {
    "duration": 69,
    "start_time": "2022-11-19T16:56:16.438Z"
   },
   {
    "duration": 2,
    "start_time": "2022-11-19T16:56:34.057Z"
   },
   {
    "duration": 22,
    "start_time": "2022-11-19T16:56:36.133Z"
   },
   {
    "duration": 11,
    "start_time": "2022-11-19T16:57:42.478Z"
   },
   {
    "duration": 4,
    "start_time": "2022-11-19T17:05:04.193Z"
   },
   {
    "duration": 2,
    "start_time": "2022-11-19T17:06:50.627Z"
   },
   {
    "duration": 20,
    "start_time": "2022-11-19T17:06:51.365Z"
   },
   {
    "duration": 76,
    "start_time": "2022-11-19T17:08:06.086Z"
   },
   {
    "duration": 3,
    "start_time": "2022-11-19T17:08:07.419Z"
   },
   {
    "duration": 39064,
    "start_time": "2022-11-19T17:09:02.791Z"
   },
   {
    "duration": 4,
    "start_time": "2022-11-19T17:09:41.856Z"
   },
   {
    "duration": 321,
    "start_time": "2022-11-19T17:10:51.310Z"
   },
   {
    "duration": 31,
    "start_time": "2022-11-19T17:10:51.633Z"
   },
   {
    "duration": 17,
    "start_time": "2022-11-19T17:10:51.665Z"
   },
   {
    "duration": 11,
    "start_time": "2022-11-19T17:10:51.684Z"
   },
   {
    "duration": 4,
    "start_time": "2022-11-19T17:10:51.697Z"
   },
   {
    "duration": 651,
    "start_time": "2022-11-19T17:10:51.702Z"
   },
   {
    "duration": 6,
    "start_time": "2022-11-19T17:10:52.355Z"
   },
   {
    "duration": 6,
    "start_time": "2022-11-19T17:10:52.363Z"
   },
   {
    "duration": 45,
    "start_time": "2022-11-19T17:10:52.371Z"
   },
   {
    "duration": 104,
    "start_time": "2022-11-19T17:10:52.418Z"
   },
   {
    "duration": 4,
    "start_time": "2022-11-19T17:10:52.525Z"
   },
   {
    "duration": 28,
    "start_time": "2022-11-19T17:10:52.531Z"
   },
   {
    "duration": 38752,
    "start_time": "2022-11-19T17:10:52.561Z"
   },
   {
    "duration": 4,
    "start_time": "2022-11-19T17:11:31.315Z"
   },
   {
    "duration": 14,
    "start_time": "2022-11-19T17:11:31.320Z"
   },
   {
    "duration": 3792,
    "start_time": "2022-11-19T17:11:31.336Z"
   },
   {
    "duration": 4,
    "start_time": "2022-11-19T17:11:35.130Z"
   },
   {
    "duration": 136181,
    "start_time": "2022-11-19T17:13:27.699Z"
   },
   {
    "duration": 4,
    "start_time": "2022-11-19T17:15:43.881Z"
   },
   {
    "duration": 2,
    "start_time": "2022-11-19T17:16:05.096Z"
   },
   {
    "duration": 890,
    "start_time": "2022-11-19T17:16:05.451Z"
   },
   {
    "duration": 4,
    "start_time": "2022-11-19T17:16:06.343Z"
   },
   {
    "duration": 2,
    "start_time": "2022-11-19T17:17:35.951Z"
   },
   {
    "duration": 989,
    "start_time": "2022-11-19T17:17:36.395Z"
   },
   {
    "duration": 3,
    "start_time": "2022-11-19T17:17:37.387Z"
   },
   {
    "duration": 3,
    "start_time": "2022-11-19T17:17:39.480Z"
   },
   {
    "duration": 135831,
    "start_time": "2022-11-19T17:17:40.236Z"
   },
   {
    "duration": 4,
    "start_time": "2022-11-19T17:19:56.068Z"
   },
   {
    "duration": 7,
    "start_time": "2022-11-19T17:19:56.074Z"
   },
   {
    "duration": 3574,
    "start_time": "2022-11-19T17:19:56.083Z"
   },
   {
    "duration": 3,
    "start_time": "2022-11-19T17:19:59.659Z"
   },
   {
    "duration": 3,
    "start_time": "2022-11-19T17:25:09.378Z"
   },
   {
    "duration": 980,
    "start_time": "2022-11-19T17:25:09.963Z"
   },
   {
    "duration": 3,
    "start_time": "2022-11-19T17:25:11.823Z"
   },
   {
    "duration": 3,
    "start_time": "2022-11-19T17:25:35.239Z"
   },
   {
    "duration": 2,
    "start_time": "2022-11-19T17:25:35.509Z"
   },
   {
    "duration": 123473,
    "start_time": "2022-11-19T17:25:35.884Z"
   },
   {
    "duration": 4,
    "start_time": "2022-11-19T17:27:39.359Z"
   },
   {
    "duration": 102,
    "start_time": "2022-11-19T17:27:39.364Z"
   },
   {
    "duration": 0,
    "start_time": "2022-11-19T17:27:39.468Z"
   },
   {
    "duration": 0,
    "start_time": "2022-11-19T17:27:39.469Z"
   },
   {
    "duration": 2,
    "start_time": "2022-11-19T17:30:42.060Z"
   },
   {
    "duration": 3777,
    "start_time": "2022-11-19T17:30:42.573Z"
   },
   {
    "duration": 4,
    "start_time": "2022-11-19T17:30:46.352Z"
   },
   {
    "duration": 39810,
    "start_time": "2022-11-19T17:33:13.084Z"
   },
   {
    "duration": 32655,
    "start_time": "2022-11-19T17:34:02.848Z"
   },
   {
    "duration": 3,
    "start_time": "2022-11-19T17:34:35.505Z"
   },
   {
    "duration": 403,
    "start_time": "2022-11-19T17:36:42.418Z"
   },
   {
    "duration": 30,
    "start_time": "2022-11-19T17:36:42.823Z"
   },
   {
    "duration": 17,
    "start_time": "2022-11-19T17:36:42.855Z"
   },
   {
    "duration": 12,
    "start_time": "2022-11-19T17:36:42.873Z"
   },
   {
    "duration": 6,
    "start_time": "2022-11-19T17:36:42.887Z"
   },
   {
    "duration": 611,
    "start_time": "2022-11-19T17:36:42.894Z"
   },
   {
    "duration": 7,
    "start_time": "2022-11-19T17:36:43.507Z"
   },
   {
    "duration": 4,
    "start_time": "2022-11-19T17:36:43.515Z"
   },
   {
    "duration": 41,
    "start_time": "2022-11-19T17:36:43.520Z"
   },
   {
    "duration": 1003,
    "start_time": "2022-11-19T17:36:43.563Z"
   },
   {
    "duration": 3,
    "start_time": "2022-11-19T17:36:44.568Z"
   },
   {
    "duration": 15,
    "start_time": "2022-11-19T17:36:44.573Z"
   },
   {
    "duration": 123673,
    "start_time": "2022-11-19T17:36:44.589Z"
   },
   {
    "duration": 6,
    "start_time": "2022-11-19T17:38:48.263Z"
   },
   {
    "duration": 17,
    "start_time": "2022-11-19T17:38:48.271Z"
   },
   {
    "duration": 3613,
    "start_time": "2022-11-19T17:38:48.290Z"
   },
   {
    "duration": 3772,
    "start_time": "2022-11-19T17:39:10.146Z"
   },
   {
    "duration": 4,
    "start_time": "2022-11-19T17:39:13.920Z"
   },
   {
    "duration": 12,
    "start_time": "2022-11-19T17:40:38.817Z"
   },
   {
    "duration": 4,
    "start_time": "2022-11-19T17:40:39.209Z"
   },
   {
    "duration": 105,
    "start_time": "2022-11-19T17:40:40.123Z"
   },
   {
    "duration": 5,
    "start_time": "2022-11-19T17:40:45.023Z"
   },
   {
    "duration": 3,
    "start_time": "2022-11-19T17:40:45.766Z"
   },
   {
    "duration": 12,
    "start_time": "2022-11-19T17:41:05.717Z"
   },
   {
    "duration": 3,
    "start_time": "2022-11-19T17:41:06.175Z"
   },
   {
    "duration": 90,
    "start_time": "2022-11-19T17:42:06.169Z"
   },
   {
    "duration": 12,
    "start_time": "2022-11-19T17:42:09.211Z"
   },
   {
    "duration": 4,
    "start_time": "2022-11-19T17:42:09.584Z"
   },
   {
    "duration": 463,
    "start_time": "2022-11-21T18:10:09.179Z"
   },
   {
    "duration": 67,
    "start_time": "2022-11-21T18:10:09.645Z"
   },
   {
    "duration": 27,
    "start_time": "2022-11-21T18:10:09.714Z"
   },
   {
    "duration": 14,
    "start_time": "2022-11-21T18:10:09.743Z"
   },
   {
    "duration": 15,
    "start_time": "2022-11-21T18:10:09.759Z"
   },
   {
    "duration": 720,
    "start_time": "2022-11-21T18:10:09.776Z"
   },
   {
    "duration": 8,
    "start_time": "2022-11-21T18:10:10.499Z"
   },
   {
    "duration": 8,
    "start_time": "2022-11-21T18:10:10.509Z"
   },
   {
    "duration": 45,
    "start_time": "2022-11-21T18:10:10.519Z"
   },
   {
    "duration": 1258,
    "start_time": "2022-11-21T18:10:10.579Z"
   },
   {
    "duration": 5,
    "start_time": "2022-11-21T18:10:11.841Z"
   },
   {
    "duration": 13,
    "start_time": "2022-11-21T18:10:11.848Z"
   },
   {
    "duration": 138023,
    "start_time": "2022-11-21T18:10:11.864Z"
   },
   {
    "duration": 3,
    "start_time": "2022-11-21T18:12:29.890Z"
   },
   {
    "duration": 9,
    "start_time": "2022-11-21T18:12:29.895Z"
   },
   {
    "duration": 3946,
    "start_time": "2022-11-21T18:12:29.906Z"
   },
   {
    "duration": 4,
    "start_time": "2022-11-21T18:12:33.854Z"
   },
   {
    "duration": 25,
    "start_time": "2022-11-21T18:12:33.860Z"
   },
   {
    "duration": 8,
    "start_time": "2022-11-21T18:12:33.887Z"
   },
   {
    "duration": 46,
    "start_time": "2022-11-23T15:58:01.364Z"
   },
   {
    "duration": 1017,
    "start_time": "2022-11-23T16:12:59.006Z"
   },
   {
    "duration": 68,
    "start_time": "2022-11-23T16:13:00.025Z"
   },
   {
    "duration": 16,
    "start_time": "2022-11-23T16:13:00.095Z"
   },
   {
    "duration": 25,
    "start_time": "2022-11-23T16:13:00.114Z"
   },
   {
    "duration": 27,
    "start_time": "2022-11-23T16:13:00.140Z"
   },
   {
    "duration": 18,
    "start_time": "2022-11-23T16:13:00.169Z"
   },
   {
    "duration": 26,
    "start_time": "2022-11-23T16:13:00.189Z"
   },
   {
    "duration": 107,
    "start_time": "2022-11-23T16:13:00.217Z"
   },
   {
    "duration": 0,
    "start_time": "2022-11-23T16:13:00.326Z"
   },
   {
    "duration": 0,
    "start_time": "2022-11-23T16:13:00.327Z"
   },
   {
    "duration": 0,
    "start_time": "2022-11-23T16:13:00.328Z"
   },
   {
    "duration": 0,
    "start_time": "2022-11-23T16:13:00.330Z"
   },
   {
    "duration": 0,
    "start_time": "2022-11-23T16:13:00.331Z"
   },
   {
    "duration": 0,
    "start_time": "2022-11-23T16:13:00.332Z"
   },
   {
    "duration": 0,
    "start_time": "2022-11-23T16:13:00.334Z"
   },
   {
    "duration": 0,
    "start_time": "2022-11-23T16:13:00.335Z"
   },
   {
    "duration": 0,
    "start_time": "2022-11-23T16:13:00.352Z"
   },
   {
    "duration": 0,
    "start_time": "2022-11-23T16:13:00.353Z"
   },
   {
    "duration": 0,
    "start_time": "2022-11-23T16:13:00.354Z"
   },
   {
    "duration": 0,
    "start_time": "2022-11-23T16:13:00.355Z"
   },
   {
    "duration": 0,
    "start_time": "2022-11-23T16:13:00.356Z"
   },
   {
    "duration": 0,
    "start_time": "2022-11-23T16:13:00.358Z"
   },
   {
    "duration": 0,
    "start_time": "2022-11-23T16:13:00.358Z"
   },
   {
    "duration": 185,
    "start_time": "2022-11-23T16:17:00.693Z"
   },
   {
    "duration": 4,
    "start_time": "2022-11-23T16:17:02.127Z"
   },
   {
    "duration": 9,
    "start_time": "2022-11-23T16:17:02.759Z"
   },
   {
    "duration": 169,
    "start_time": "2022-11-23T16:17:59.790Z"
   },
   {
    "duration": 1086,
    "start_time": "2022-11-23T16:18:20.728Z"
   },
   {
    "duration": 30,
    "start_time": "2022-11-23T16:18:21.816Z"
   },
   {
    "duration": 19,
    "start_time": "2022-11-23T16:18:21.848Z"
   },
   {
    "duration": 13,
    "start_time": "2022-11-23T16:18:21.868Z"
   },
   {
    "duration": 5,
    "start_time": "2022-11-23T16:18:21.883Z"
   },
   {
    "duration": 8,
    "start_time": "2022-11-23T16:18:21.890Z"
   },
   {
    "duration": 7,
    "start_time": "2022-11-23T16:18:21.899Z"
   },
   {
    "duration": 193,
    "start_time": "2022-11-23T16:18:21.907Z"
   },
   {
    "duration": 3,
    "start_time": "2022-11-23T16:18:22.102Z"
   },
   {
    "duration": 207,
    "start_time": "2022-11-23T16:18:22.107Z"
   },
   {
    "duration": 3,
    "start_time": "2022-11-23T16:18:22.315Z"
   },
   {
    "duration": 122,
    "start_time": "2022-11-23T16:18:22.320Z"
   },
   {
    "duration": 0,
    "start_time": "2022-11-23T16:18:22.445Z"
   },
   {
    "duration": 0,
    "start_time": "2022-11-23T16:18:22.446Z"
   },
   {
    "duration": 0,
    "start_time": "2022-11-23T16:18:22.446Z"
   },
   {
    "duration": 0,
    "start_time": "2022-11-23T16:18:22.447Z"
   },
   {
    "duration": 0,
    "start_time": "2022-11-23T16:18:22.448Z"
   },
   {
    "duration": 0,
    "start_time": "2022-11-23T16:18:22.448Z"
   },
   {
    "duration": 0,
    "start_time": "2022-11-23T16:18:22.449Z"
   },
   {
    "duration": 0,
    "start_time": "2022-11-23T16:18:22.454Z"
   },
   {
    "duration": 0,
    "start_time": "2022-11-23T16:18:22.456Z"
   },
   {
    "duration": 0,
    "start_time": "2022-11-23T16:18:22.458Z"
   },
   {
    "duration": 0,
    "start_time": "2022-11-23T16:18:22.459Z"
   },
   {
    "duration": 14,
    "start_time": "2022-11-23T16:24:17.254Z"
   },
   {
    "duration": 1114,
    "start_time": "2022-11-23T16:29:15.933Z"
   },
   {
    "duration": 30,
    "start_time": "2022-11-23T16:29:17.050Z"
   },
   {
    "duration": 18,
    "start_time": "2022-11-23T16:29:17.082Z"
   },
   {
    "duration": 12,
    "start_time": "2022-11-23T16:29:17.102Z"
   },
   {
    "duration": 4,
    "start_time": "2022-11-23T16:29:17.116Z"
   },
   {
    "duration": 8,
    "start_time": "2022-11-23T16:29:17.121Z"
   },
   {
    "duration": 4,
    "start_time": "2022-11-23T16:29:17.131Z"
   },
   {
    "duration": 187,
    "start_time": "2022-11-23T16:29:17.136Z"
   },
   {
    "duration": 3,
    "start_time": "2022-11-23T16:29:17.325Z"
   },
   {
    "duration": 211,
    "start_time": "2022-11-23T16:29:17.330Z"
   },
   {
    "duration": 3,
    "start_time": "2022-11-23T16:29:17.542Z"
   },
   {
    "duration": 172850,
    "start_time": "2022-11-23T16:29:17.553Z"
   },
   {
    "duration": 4,
    "start_time": "2022-11-23T16:32:10.405Z"
   },
   {
    "duration": 1038,
    "start_time": "2022-11-23T16:32:19.001Z"
   },
   {
    "duration": 30,
    "start_time": "2022-11-23T16:32:20.041Z"
   },
   {
    "duration": 16,
    "start_time": "2022-11-23T16:32:20.073Z"
   },
   {
    "duration": 13,
    "start_time": "2022-11-23T16:32:20.091Z"
   },
   {
    "duration": 6,
    "start_time": "2022-11-23T16:32:20.106Z"
   },
   {
    "duration": 8,
    "start_time": "2022-11-23T16:32:20.114Z"
   },
   {
    "duration": 4,
    "start_time": "2022-11-23T16:32:20.123Z"
   },
   {
    "duration": 189,
    "start_time": "2022-11-23T16:32:20.128Z"
   },
   {
    "duration": 3,
    "start_time": "2022-11-23T16:32:20.319Z"
   },
   {
    "duration": 210,
    "start_time": "2022-11-23T16:32:20.324Z"
   },
   {
    "duration": 4,
    "start_time": "2022-11-23T16:32:20.535Z"
   },
   {
    "duration": 33607,
    "start_time": "2022-11-23T16:32:20.540Z"
   },
   {
    "duration": 4,
    "start_time": "2022-11-23T16:32:54.149Z"
   },
   {
    "duration": 37392,
    "start_time": "2022-11-23T16:32:54.155Z"
   },
   {
    "duration": 5,
    "start_time": "2022-11-23T16:33:31.548Z"
   },
   {
    "duration": 113,
    "start_time": "2022-11-23T16:33:31.554Z"
   },
   {
    "duration": 0,
    "start_time": "2022-11-23T16:33:31.669Z"
   },
   {
    "duration": 0,
    "start_time": "2022-11-23T16:33:31.670Z"
   },
   {
    "duration": 0,
    "start_time": "2022-11-23T16:33:31.671Z"
   },
   {
    "duration": 0,
    "start_time": "2022-11-23T16:33:31.672Z"
   },
   {
    "duration": 0,
    "start_time": "2022-11-23T16:33:31.673Z"
   },
   {
    "duration": 11,
    "start_time": "2022-11-23T16:38:44.856Z"
   },
   {
    "duration": 4025,
    "start_time": "2022-11-23T16:38:53.102Z"
   },
   {
    "duration": 4,
    "start_time": "2022-11-23T16:38:59.370Z"
   },
   {
    "duration": 1110,
    "start_time": "2022-11-23T16:40:09.343Z"
   },
   {
    "duration": 31,
    "start_time": "2022-11-23T16:40:10.455Z"
   },
   {
    "duration": 17,
    "start_time": "2022-11-23T16:40:10.487Z"
   },
   {
    "duration": 13,
    "start_time": "2022-11-23T16:40:10.506Z"
   },
   {
    "duration": 10,
    "start_time": "2022-11-23T16:40:10.522Z"
   },
   {
    "duration": 11,
    "start_time": "2022-11-23T16:40:10.534Z"
   },
   {
    "duration": 11,
    "start_time": "2022-11-23T16:40:10.547Z"
   },
   {
    "duration": 184,
    "start_time": "2022-11-23T16:40:10.560Z"
   },
   {
    "duration": 4,
    "start_time": "2022-11-23T16:40:10.746Z"
   },
   {
    "duration": 221,
    "start_time": "2022-11-23T16:40:10.752Z"
   },
   {
    "duration": 4,
    "start_time": "2022-11-23T16:40:10.976Z"
   },
   {
    "duration": 33571,
    "start_time": "2022-11-23T16:40:10.981Z"
   },
   {
    "duration": 4,
    "start_time": "2022-11-23T16:40:44.554Z"
   },
   {
    "duration": 37608,
    "start_time": "2022-11-23T16:40:44.561Z"
   },
   {
    "duration": 4,
    "start_time": "2022-11-23T16:41:22.170Z"
   },
   {
    "duration": 4046,
    "start_time": "2022-11-23T16:41:22.175Z"
   },
   {
    "duration": 3,
    "start_time": "2022-11-23T16:41:26.223Z"
   },
   {
    "duration": 29,
    "start_time": "2022-11-23T16:41:26.228Z"
   },
   {
    "duration": 19,
    "start_time": "2022-11-23T16:41:26.259Z"
   },
   {
    "duration": 3,
    "start_time": "2022-11-23T16:49:07.400Z"
   },
   {
    "duration": 41,
    "start_time": "2022-11-23T16:49:12.449Z"
   },
   {
    "duration": 5,
    "start_time": "2022-11-23T16:49:19.263Z"
   },
   {
    "duration": 3,
    "start_time": "2022-11-23T16:49:20.030Z"
   },
   {
    "duration": 4,
    "start_time": "2022-11-23T16:49:38.668Z"
   },
   {
    "duration": 3,
    "start_time": "2022-11-23T16:49:39.176Z"
   },
   {
    "duration": 4,
    "start_time": "2022-11-23T16:49:50.680Z"
   },
   {
    "duration": 4,
    "start_time": "2022-11-23T16:49:51.173Z"
   },
   {
    "duration": 1068,
    "start_time": "2022-11-23T16:53:52.196Z"
   },
   {
    "duration": 32,
    "start_time": "2022-11-23T16:53:53.266Z"
   },
   {
    "duration": 18,
    "start_time": "2022-11-23T16:53:53.299Z"
   },
   {
    "duration": 31,
    "start_time": "2022-11-23T16:53:53.318Z"
   },
   {
    "duration": 8,
    "start_time": "2022-11-23T16:53:53.351Z"
   },
   {
    "duration": 8,
    "start_time": "2022-11-23T16:53:53.361Z"
   },
   {
    "duration": 4,
    "start_time": "2022-11-23T16:53:53.371Z"
   },
   {
    "duration": 183,
    "start_time": "2022-11-23T16:53:53.376Z"
   },
   {
    "duration": 4,
    "start_time": "2022-11-23T16:53:53.560Z"
   },
   {
    "duration": 203,
    "start_time": "2022-11-23T16:53:53.565Z"
   },
   {
    "duration": 3,
    "start_time": "2022-11-23T16:53:53.770Z"
   },
   {
    "duration": 1123,
    "start_time": "2022-11-23T16:54:11.573Z"
   },
   {
    "duration": 30,
    "start_time": "2022-11-23T16:54:12.698Z"
   },
   {
    "duration": 17,
    "start_time": "2022-11-23T16:54:12.730Z"
   },
   {
    "duration": 17,
    "start_time": "2022-11-23T16:54:12.748Z"
   },
   {
    "duration": 14,
    "start_time": "2022-11-23T16:54:12.767Z"
   },
   {
    "duration": 14,
    "start_time": "2022-11-23T16:54:12.782Z"
   },
   {
    "duration": 4,
    "start_time": "2022-11-23T16:54:12.797Z"
   },
   {
    "duration": 191,
    "start_time": "2022-11-23T16:54:12.803Z"
   },
   {
    "duration": 4,
    "start_time": "2022-11-23T16:54:12.995Z"
   },
   {
    "duration": 214,
    "start_time": "2022-11-23T16:54:13.000Z"
   },
   {
    "duration": 3,
    "start_time": "2022-11-23T16:54:13.216Z"
   },
   {
    "duration": 35322,
    "start_time": "2022-11-23T16:54:13.220Z"
   },
   {
    "duration": 3,
    "start_time": "2022-11-23T16:54:48.544Z"
   },
   {
    "duration": 40688,
    "start_time": "2022-11-23T16:54:48.554Z"
   },
   {
    "duration": 3,
    "start_time": "2022-11-23T16:55:29.244Z"
   },
   {
    "duration": 4374,
    "start_time": "2022-11-23T16:55:29.252Z"
   },
   {
    "duration": 4,
    "start_time": "2022-11-23T16:55:33.628Z"
   },
   {
    "duration": 21,
    "start_time": "2022-11-23T16:55:33.634Z"
   },
   {
    "duration": 4,
    "start_time": "2022-11-23T16:55:33.657Z"
   },
   {
    "duration": 74,
    "start_time": "2022-11-23T16:55:33.663Z"
   },
   {
    "duration": 0,
    "start_time": "2022-11-23T16:55:33.738Z"
   },
   {
    "duration": 0,
    "start_time": "2022-11-23T16:55:33.740Z"
   },
   {
    "duration": 5,
    "start_time": "2022-11-23T16:56:47.386Z"
   },
   {
    "duration": 3,
    "start_time": "2022-11-23T16:56:47.686Z"
   }
  ],
  "kernelspec": {
   "display_name": "Python 3 (ipykernel)",
   "language": "python",
   "name": "python3"
  },
  "language_info": {
   "codemirror_mode": {
    "name": "ipython",
    "version": 3
   },
   "file_extension": ".py",
   "mimetype": "text/x-python",
   "name": "python",
   "nbconvert_exporter": "python",
   "pygments_lexer": "ipython3",
   "version": "3.10.9"
  },
  "toc": {
   "base_numbering": 1,
   "nav_menu": {},
   "number_sections": true,
   "sideBar": true,
   "skip_h1_title": true,
   "title_cell": "Table of Contents",
   "title_sidebar": "Contents",
   "toc_cell": false,
   "toc_position": {},
   "toc_section_display": true,
   "toc_window_display": false
  }
 },
 "nbformat": 4,
 "nbformat_minor": 2
}
