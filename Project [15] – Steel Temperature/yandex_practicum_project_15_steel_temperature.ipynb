{
 "cells": [
  {
   "cell_type": "markdown",
   "metadata": {},
   "source": [
    "# Промышленность — задача проекта\n",
    "\n",
    "Чтобы оптимизировать производственные расходы, металлургический комбинат ООО «Так закаляем сталь» решил уменьшить потребление электроэнергии на этапе обработки стали. Вам предстоит построить модель, которая предскажет температуру стали."
   ]
  },
  {
   "cell_type": "markdown",
   "metadata": {},
   "source": [
    "**Описание этапа обработки**\n",
    "\n",
    "Сталь обрабатывают в металлическом ковше вместимостью около 100 тонн. Чтобы ковш выдерживал высокие температуры, изнутри его облицовывают огнеупорным кирпичом. Расплавленную сталь заливают в ковш и подогревают до нужной температуры графитовыми электродами. Они установлены в крышке ковша. \n",
    "\n",
    "Из сплава выводится сера (десульфурация), добавлением примесей корректируется химический состав и отбираются пробы. Сталь легируют — изменяют её состав — подавая куски сплава из бункера для сыпучих материалов или проволоку через специальный трайб-аппарат (англ. tribe, «масса»).\n",
    "\n",
    "Перед тем как первый раз ввести легирующие добавки, измеряют температуру стали и производят её химический анализ. Потом температуру на несколько минут повышают, добавляют легирующие материалы и продувают сплав инертным газом. Затем его перемешивают и снова проводят измерения. Такой цикл повторяется до достижения целевого химического состава и оптимальной температуры плавки.\n",
    "\n",
    "Тогда расплавленная сталь отправляется на доводку металла или поступает в машину непрерывной разливки. Оттуда готовый продукт выходит в виде заготовок-слябов (англ. *slab*, «плита»)."
   ]
  },
  {
   "cell_type": "markdown",
   "metadata": {},
   "source": [
    "**Описание данных**\n",
    "\n",
    "Данные состоят из файлов, полученных из разных источников:\n",
    "\n",
    "- `data_arc.csv` — данные об электродах;\n",
    "- `data_bulk.csv` — данные о подаче сыпучих материалов (объём);\n",
    "- `data_bulk_time.csv` *—* данные о подаче сыпучих материалов (время);\n",
    "- `data_gas.csv` — данные о продувке сплава газом;\n",
    "- `data_temp.csv` — результаты измерения температуры;\n",
    "- `data_wire.csv` — данные о проволочных материалах (объём);\n",
    "- `data_wire_time.csv` — данные о проволочных материалах (время).\n",
    "\n",
    "Во всех файлах столбец `key` содержит номер партии. В файлах может быть несколько строк с одинаковым значением `key`: они соответствуют разным итерациям обработки."
   ]
  },
  {
   "cell_type": "markdown",
   "metadata": {},
   "source": [
    "# План работ"
   ]
  },
  {
   "cell_type": "markdown",
   "metadata": {},
   "source": [
    "```\n",
    "Главная цель данного проекта - это создание модели металлургическому комбинату ООО «Так закаляем сталь», которая поможет оптимизировать производственные расходы за счет уменьшения электроэнергии на этапе обработки стали. С рабочей моделью, комбинат сможет заранее предсказывать температуру стали и избежать излишних затрат на не эффективных действия. \n",
    "\n",
    "Для достижения данной цели необходимы следующие этапы:\n",
    "    Пред-подготовка данных - в себя включает:\n",
    "        Исправление названий столбцов.\n",
    "        Создание библиотеки данных.\n",
    "        \n",
    "    Исследование \"голых\" - в себя включает:\n",
    "        Построение графиков для анализа данных.\n",
    "        Поиск нужных и ненужных данных для обучения модели.\n",
    "        \n",
    "    Исследование с доработкой - в себя включает:\n",
    "        Поиск возможных вариантов создания новых признаков для более эффективного обучения модели.\n",
    "        Анализ данных полученных в результате вычислений \n",
    "        \n",
    "    Подготовка данных - в себя включает:\n",
    "        Проверка данных на аномалии и последовательное их удаление.\n",
    "        Проверка данных на дубликаты и последовательное их удаление.\n",
    "        Проверка данных на пропуски и принятие решение об удалении или заполнении строк с пропусками.\n",
    "        Создание единой таблицы с данными.\n",
    "        Разделение данных на тестовую и тренировочную выборку.\n",
    "        Нормализация данных.\n",
    "        \n",
    "    Обучение модели - в себя включает:\n",
    "        Обучение различных моделей.\n",
    "        Подбор гиперпараметров. \n",
    "        Анализ важности признаков.\n",
    "        Формирование единой таблицы результатов.\n",
    "        Рассмотрение результатов моделей для отбора наиболее эффективной.\n",
    "        Сравнение результата с дефолтной моделью.\n",
    "        \n",
    "    Вывод - в себя включает:\n",
    "        Рассмотрение всей работы для вынесения цельного вывода по проведенной работе.\n",
    "```"
   ]
  },
  {
   "cell_type": "markdown",
   "metadata": {},
   "source": [
    "<font color='purpel'><b>Комментарий тимлида </b></font><br>\n",
    "<font color='green'> ✔️ Хорошо, что есть цель проекта и его описание. Отличный план!</font>"
   ]
  },
  {
   "cell_type": "code",
   "execution_count": 1,
   "metadata": {},
   "outputs": [],
   "source": [
    "import pandas as pd\n",
    "\n",
    "import matplotlib.pyplot as plt\n",
    "\n",
    "import seaborn as sns\n",
    "\n",
    "import numpy as np \n",
    "\n",
    "import re\n",
    "\n"
   ]
  },
  {
   "cell_type": "code",
   "execution_count": 2,
   "metadata": {},
   "outputs": [],
   "source": [
    "RANDOM_STATE = 110423\n",
    "TEST_SIZE = 0.25\n",
    "PATH = \"/datasets/final_steel/\""
   ]
  },
  {
   "cell_type": "code",
   "execution_count": 3,
   "metadata": {},
   "outputs": [],
   "source": [
    "import warnings\n",
    "warnings.filterwarnings(\"ignore\")"
   ]
  },
  {
   "cell_type": "markdown",
   "metadata": {},
   "source": [
    "## Пред-подготовка данных"
   ]
  },
  {
   "cell_type": "code",
   "execution_count": 4,
   "metadata": {},
   "outputs": [],
   "source": [
    "data_info = {\n",
    "             \"data_ark\" : \"данные об электродах\",\n",
    "             \"data_bulk\" : \"данные о подаче сыпучих материалов (объём)\",\n",
    "             \"data_bulk_time\" : \"данные о подаче сыпучих материалов (время)\",\n",
    "             \"data_gas\" : \"данные о продувке сплава газом\",\n",
    "             \"data_temp\" : \"результаты измерения температуры\",\n",
    "             \"data_wire\" : \"анные о проволочных материалах (объём)\",\n",
    "             \"data_wire_time\" : \"данные о проволочных материалах (время)\"\n",
    "            }"
   ]
  },
  {
   "cell_type": "code",
   "execution_count": 5,
   "metadata": {},
   "outputs": [],
   "source": [
    "def cyrillic_to_latin(text):\n",
    "    \n",
    "    text = ''.join([i for i in text if not i.isdigit()])\n",
    "    \n",
    "    symbols = (u\"абвгдеёжзийклмнопрстуфхцчшщъыьэюяАБВГДЕЁЖЗИЙКЛМНОПРСТУФХЦЧШЩЪЫЬЭЮЯ \",\n",
    "    (*list(u'abvgdee'), 'zh', *list(u'zijklmnoprstuf'), 'kh', 'z', 'ch', 'sh', 'sh', '',\n",
    "    'y', '', 'e', 'yu','ya', *list(u'ABVGDEE'), 'ZH', \n",
    "    *list(u'ZIJKLMNOPRSTUF'), 'KH', 'Z', 'CH', 'SH', 'SH', *list(u'_Y_E'), 'YU', 'YA', ' '))\n",
    "\n",
    "    coding_dict = {source: dest for source, dest in zip(*symbols)}\n",
    "    translate = lambda x: ''.join([coding_dict[i] for i in x])\n",
    "    \n",
    "    return translate(text)"
   ]
  },
  {
   "cell_type": "code",
   "execution_count": 6,
   "metadata": {},
   "outputs": [],
   "source": [
    "def column_name_to_standart(data):\n",
    "    \n",
    "    for name in data.columns:\n",
    "        if bool(re.search('[а-яА-Я]', name)):\n",
    "            data = data.rename(columns = {name:cyrillic_to_latin(name)})\n",
    "          \n",
    "    data.columns = data.columns.str.lower()\n",
    "    \n",
    "    data.columns = data.columns.str.replace(' ', '_')\n",
    "    \n",
    "    return data  "
   ]
  },
  {
   "cell_type": "markdown",
   "metadata": {},
   "source": [
    "## Исследование данных"
   ]
  },
  {
   "cell_type": "code",
   "execution_count": 7,
   "metadata": {},
   "outputs": [],
   "source": [
    "def mean_median_std(data):\n",
    "    print(\"Среднее значение:\",round(data.mean(),2))\n",
    "    print(\"Медианное значение:\",round(data.median(),2))\n",
    "    \n",
    "    print(\"Стандартное отклонение\",round(np.std(data),2))\n",
    "    \n",
    "    if data.mean() > data.median():\n",
    "        print(\"Распределение данных имеет положительную асимметрию\")\n",
    "    elif data.mean() < data.median():\n",
    "        print(\"Распределение данных имеет отрицательную асимметрию\")\n",
    "    else:\n",
    "        print(\"Данные имеют симметричное распределение\")"
   ]
  },
  {
   "cell_type": "code",
   "execution_count": 8,
   "metadata": {},
   "outputs": [],
   "source": [
    "def outliers(data):\n",
    "    \n",
    "    threshold=1.5\n",
    "    \n",
    "    q1 = np.percentile(data, 25)\n",
    "    q3 = np.percentile(data, 75)\n",
    "    \n",
    "    iqr = q3 - q1\n",
    "    \n",
    "    lower_bound = q1 - (threshold * iqr)\n",
    "    upper_bound = q3 + (threshold * iqr)\n",
    "    \n",
    "    return data[~((data >= lower_bound) & (data <= upper_bound))]"
   ]
  },
  {
   "cell_type": "code",
   "execution_count": 9,
   "metadata": {},
   "outputs": [],
   "source": [
    "def read_data(file_name):\n",
    "    \n",
    "    data = pd.read_csv((PATH+file_name))\n",
    "    \n",
    "    data = column_name_to_standart(data)\n",
    "    \n",
    "    display(data.info())\n",
    "    display(data.head(3).append(data.tail(3)))\n",
    "    display(data.describe())\n",
    "    \n",
    "    print(\"Кол-во дупликатов:\",data.duplicated().sum())\n",
    "    \n",
    "    print(\"Кол-во пропусков:\")\n",
    "    display(data.isna().sum())\n",
    "    \n",
    "    print(\"Соотношение ключей:\",round(data[\"key\"].count()/len(data[\"key\"].unique()),2))\n",
    "    \n",
    "    return data"
   ]
  },
  {
   "cell_type": "markdown",
   "metadata": {},
   "source": [
    "**Данные об электродах**"
   ]
  },
  {
   "cell_type": "code",
   "execution_count": 10,
   "metadata": {
    "scrolled": false
   },
   "outputs": [
    {
     "name": "stdout",
     "output_type": "stream",
     "text": [
      "<class 'pandas.core.frame.DataFrame'>\n",
      "RangeIndex: 14876 entries, 0 to 14875\n",
      "Data columns (total 5 columns):\n",
      " #   Column                 Non-Null Count  Dtype  \n",
      "---  ------                 --------------  -----  \n",
      " 0   key                    14876 non-null  int64  \n",
      " 1   nachalo_nagreva_dugoj  14876 non-null  object \n",
      " 2   konez_nagreva_dugoj    14876 non-null  object \n",
      " 3   aktivnaya_moshnost     14876 non-null  float64\n",
      " 4   reaktivnaya_moshnost   14876 non-null  float64\n",
      "dtypes: float64(2), int64(1), object(2)\n",
      "memory usage: 581.2+ KB\n"
     ]
    },
    {
     "data": {
      "text/plain": [
       "None"
      ]
     },
     "metadata": {},
     "output_type": "display_data"
    },
    {
     "data": {
      "text/html": [
       "<div>\n",
       "<style scoped>\n",
       "    .dataframe tbody tr th:only-of-type {\n",
       "        vertical-align: middle;\n",
       "    }\n",
       "\n",
       "    .dataframe tbody tr th {\n",
       "        vertical-align: top;\n",
       "    }\n",
       "\n",
       "    .dataframe thead th {\n",
       "        text-align: right;\n",
       "    }\n",
       "</style>\n",
       "<table border=\"1\" class=\"dataframe\">\n",
       "  <thead>\n",
       "    <tr style=\"text-align: right;\">\n",
       "      <th></th>\n",
       "      <th>key</th>\n",
       "      <th>nachalo_nagreva_dugoj</th>\n",
       "      <th>konez_nagreva_dugoj</th>\n",
       "      <th>aktivnaya_moshnost</th>\n",
       "      <th>reaktivnaya_moshnost</th>\n",
       "    </tr>\n",
       "  </thead>\n",
       "  <tbody>\n",
       "    <tr>\n",
       "      <th>0</th>\n",
       "      <td>1</td>\n",
       "      <td>2019-05-03 11:02:14</td>\n",
       "      <td>2019-05-03 11:06:02</td>\n",
       "      <td>0.976059</td>\n",
       "      <td>0.687084</td>\n",
       "    </tr>\n",
       "    <tr>\n",
       "      <th>1</th>\n",
       "      <td>1</td>\n",
       "      <td>2019-05-03 11:07:28</td>\n",
       "      <td>2019-05-03 11:10:33</td>\n",
       "      <td>0.805607</td>\n",
       "      <td>0.520285</td>\n",
       "    </tr>\n",
       "    <tr>\n",
       "      <th>2</th>\n",
       "      <td>1</td>\n",
       "      <td>2019-05-03 11:11:44</td>\n",
       "      <td>2019-05-03 11:14:36</td>\n",
       "      <td>0.744363</td>\n",
       "      <td>0.498805</td>\n",
       "    </tr>\n",
       "    <tr>\n",
       "      <th>14873</th>\n",
       "      <td>3241</td>\n",
       "      <td>2019-09-01 04:16:41</td>\n",
       "      <td>2019-09-01 04:19:45</td>\n",
       "      <td>0.733899</td>\n",
       "      <td>0.475654</td>\n",
       "    </tr>\n",
       "    <tr>\n",
       "      <th>14874</th>\n",
       "      <td>3241</td>\n",
       "      <td>2019-09-01 04:31:51</td>\n",
       "      <td>2019-09-01 04:32:48</td>\n",
       "      <td>0.220694</td>\n",
       "      <td>0.145768</td>\n",
       "    </tr>\n",
       "    <tr>\n",
       "      <th>14875</th>\n",
       "      <td>3241</td>\n",
       "      <td>2019-09-01 04:34:47</td>\n",
       "      <td>2019-09-01 04:36:08</td>\n",
       "      <td>0.306580</td>\n",
       "      <td>0.196708</td>\n",
       "    </tr>\n",
       "  </tbody>\n",
       "</table>\n",
       "</div>"
      ],
      "text/plain": [
       "        key nachalo_nagreva_dugoj  konez_nagreva_dugoj  aktivnaya_moshnost  \\\n",
       "0         1   2019-05-03 11:02:14  2019-05-03 11:06:02            0.976059   \n",
       "1         1   2019-05-03 11:07:28  2019-05-03 11:10:33            0.805607   \n",
       "2         1   2019-05-03 11:11:44  2019-05-03 11:14:36            0.744363   \n",
       "14873  3241   2019-09-01 04:16:41  2019-09-01 04:19:45            0.733899   \n",
       "14874  3241   2019-09-01 04:31:51  2019-09-01 04:32:48            0.220694   \n",
       "14875  3241   2019-09-01 04:34:47  2019-09-01 04:36:08            0.306580   \n",
       "\n",
       "       reaktivnaya_moshnost  \n",
       "0                  0.687084  \n",
       "1                  0.520285  \n",
       "2                  0.498805  \n",
       "14873              0.475654  \n",
       "14874              0.145768  \n",
       "14875              0.196708  "
      ]
     },
     "metadata": {},
     "output_type": "display_data"
    },
    {
     "data": {
      "text/html": [
       "<div>\n",
       "<style scoped>\n",
       "    .dataframe tbody tr th:only-of-type {\n",
       "        vertical-align: middle;\n",
       "    }\n",
       "\n",
       "    .dataframe tbody tr th {\n",
       "        vertical-align: top;\n",
       "    }\n",
       "\n",
       "    .dataframe thead th {\n",
       "        text-align: right;\n",
       "    }\n",
       "</style>\n",
       "<table border=\"1\" class=\"dataframe\">\n",
       "  <thead>\n",
       "    <tr style=\"text-align: right;\">\n",
       "      <th></th>\n",
       "      <th>key</th>\n",
       "      <th>aktivnaya_moshnost</th>\n",
       "      <th>reaktivnaya_moshnost</th>\n",
       "    </tr>\n",
       "  </thead>\n",
       "  <tbody>\n",
       "    <tr>\n",
       "      <th>count</th>\n",
       "      <td>14876.000000</td>\n",
       "      <td>14876.000000</td>\n",
       "      <td>14876.000000</td>\n",
       "    </tr>\n",
       "    <tr>\n",
       "      <th>mean</th>\n",
       "      <td>1615.220422</td>\n",
       "      <td>0.670441</td>\n",
       "      <td>0.452592</td>\n",
       "    </tr>\n",
       "    <tr>\n",
       "      <th>std</th>\n",
       "      <td>934.571502</td>\n",
       "      <td>0.408159</td>\n",
       "      <td>5.878702</td>\n",
       "    </tr>\n",
       "    <tr>\n",
       "      <th>min</th>\n",
       "      <td>1.000000</td>\n",
       "      <td>0.030002</td>\n",
       "      <td>-715.504924</td>\n",
       "    </tr>\n",
       "    <tr>\n",
       "      <th>25%</th>\n",
       "      <td>806.000000</td>\n",
       "      <td>0.395297</td>\n",
       "      <td>0.290991</td>\n",
       "    </tr>\n",
       "    <tr>\n",
       "      <th>50%</th>\n",
       "      <td>1617.000000</td>\n",
       "      <td>0.555517</td>\n",
       "      <td>0.415962</td>\n",
       "    </tr>\n",
       "    <tr>\n",
       "      <th>75%</th>\n",
       "      <td>2429.000000</td>\n",
       "      <td>0.857034</td>\n",
       "      <td>0.637371</td>\n",
       "    </tr>\n",
       "    <tr>\n",
       "      <th>max</th>\n",
       "      <td>3241.000000</td>\n",
       "      <td>3.731596</td>\n",
       "      <td>2.676388</td>\n",
       "    </tr>\n",
       "  </tbody>\n",
       "</table>\n",
       "</div>"
      ],
      "text/plain": [
       "                key  aktivnaya_moshnost  reaktivnaya_moshnost\n",
       "count  14876.000000        14876.000000          14876.000000\n",
       "mean    1615.220422            0.670441              0.452592\n",
       "std      934.571502            0.408159              5.878702\n",
       "min        1.000000            0.030002           -715.504924\n",
       "25%      806.000000            0.395297              0.290991\n",
       "50%     1617.000000            0.555517              0.415962\n",
       "75%     2429.000000            0.857034              0.637371\n",
       "max     3241.000000            3.731596              2.676388"
      ]
     },
     "metadata": {},
     "output_type": "display_data"
    },
    {
     "name": "stdout",
     "output_type": "stream",
     "text": [
      "Кол-во дупликатов: 0\n",
      "Кол-во пропусков:\n"
     ]
    },
    {
     "data": {
      "text/plain": [
       "key                      0\n",
       "nachalo_nagreva_dugoj    0\n",
       "konez_nagreva_dugoj      0\n",
       "aktivnaya_moshnost       0\n",
       "reaktivnaya_moshnost     0\n",
       "dtype: int64"
      ]
     },
     "metadata": {},
     "output_type": "display_data"
    },
    {
     "name": "stdout",
     "output_type": "stream",
     "text": [
      "Соотношение ключей: 4.63\n"
     ]
    }
   ],
   "source": [
    "data_arc = read_data(\"data_arc.csv\")"
   ]
  },
  {
   "cell_type": "markdown",
   "metadata": {},
   "source": [
    "По соотношению ключей видно, что кол-во циклов отличается для каждой партии. \n",
    "Посмотрим распрастраненность:"
   ]
  },
  {
   "cell_type": "code",
   "execution_count": 11,
   "metadata": {
    "scrolled": false
   },
   "outputs": [
    {
     "data": {
      "image/png": "[encoded data removed]",
      "text/plain": [
       "<Figure size 1440x360 with 1 Axes>"
      ]
     },
     "metadata": {
      "needs_background": "light"
     },
     "output_type": "display_data"
    }
   ],
   "source": [
    "plt.figure(figsize = (20,5))\n",
    "plt.hist(data_arc.groupby(\"key\")[\"key\"].count(),bins = 16,color = \"black\")\n",
    "plt.axvline(np.nanmean(data_arc.groupby(\"key\")[\"key\"].count()), color = \"red\", linewidth = 2, label = \"Mean\")\n",
    "plt.legend(loc='best')\n",
    "plt.show()"
   ]
  },
  {
   "cell_type": "code",
   "execution_count": 12,
   "metadata": {},
   "outputs": [
    {
     "data": {
      "image/png": "[encoded data removed]",
      "text/plain": [
       "<Figure size 1440x360 with 1 Axes>"
      ]
     },
     "metadata": {
      "needs_background": "light"
     },
     "output_type": "display_data"
    }
   ],
   "source": [
    "plt.figure(figsize = (20,5))\n",
    "plt.plot(data_arc[\"aktivnaya_moshnost\"],color = \"black\")\n",
    "plt.axhline(y=np.nanmean(data_arc[\"aktivnaya_moshnost\"]), color = \"red\", linewidth = 2, label = \"Mean\")\n",
    "plt.axhline(y=np.nanmedian(data_arc[\"aktivnaya_moshnost\"]), color = \"yellow\", linewidth = 2, label = \"Median\")\n",
    "plt.legend(loc='best')\n",
    "plt.show()"
   ]
  },
  {
   "cell_type": "code",
   "execution_count": 13,
   "metadata": {
    "scrolled": true
   },
   "outputs": [
    {
     "data": {
      "image/png": "[encoded data removed]",
      "text/plain": [
       "<Figure size 1440x360 with 1 Axes>"
      ]
     },
     "metadata": {
      "needs_background": "light"
     },
     "output_type": "display_data"
    }
   ],
   "source": [
    "plt.figure(figsize = (20,5))\n",
    "plt.boxplot(data_arc[\"aktivnaya_moshnost\"],vert = False)\n",
    "plt.show()"
   ]
  },
  {
   "cell_type": "code",
   "execution_count": 14,
   "metadata": {
    "scrolled": true
   },
   "outputs": [
    {
     "name": "stdout",
     "output_type": "stream",
     "text": [
      "Среднее значение: 0.67\n",
      "Медианное значение: 0.56\n",
      "Стандартное отклонение 0.41\n",
      "Распределение данных имеет положительную асимметрию\n"
     ]
    }
   ],
   "source": [
    "mean_median_std(data_arc[\"aktivnaya_moshnost\"])"
   ]
  },
  {
   "cell_type": "code",
   "execution_count": 15,
   "metadata": {},
   "outputs": [
    {
     "name": "stdout",
     "output_type": "stream",
     "text": [
      "Кол-во анамольных значений: 569\n"
     ]
    }
   ],
   "source": [
    "print(\"Кол-во анамольных значений:\",len(outliers(data_arc[\"aktivnaya_moshnost\"])))"
   ]
  },
  {
   "cell_type": "code",
   "execution_count": 16,
   "metadata": {},
   "outputs": [
    {
     "data": {
      "image/png": "[encoded data removed]",
      "text/plain": [
       "<Figure size 1440x360 with 1 Axes>"
      ]
     },
     "metadata": {
      "needs_background": "light"
     },
     "output_type": "display_data"
    }
   ],
   "source": [
    "plt.figure(figsize = (20,5))\n",
    "plt.plot(data_arc[\"reaktivnaya_moshnost\"][data_arc[\"reaktivnaya_moshnost\"]>0],color = \"black\")\n",
    "plt.axhline(y=np.nanmean(data_arc[\"reaktivnaya_moshnost\"]), color = \"red\", linewidth = 2, label = \"Mean\")\n",
    "plt.axhline(y=np.nanmedian(data_arc[\"reaktivnaya_moshnost\"]), color = \"yellow\", linewidth = 2, label = \"Median\")\n",
    "plt.legend(loc='best')\n",
    "plt.show()"
   ]
  },
  {
   "cell_type": "code",
   "execution_count": 17,
   "metadata": {
    "scrolled": true
   },
   "outputs": [
    {
     "data": {
      "image/png": "[encoded data removed]",
      "text/plain": [
       "<Figure size 1440x360 with 1 Axes>"
      ]
     },
     "metadata": {
      "needs_background": "light"
     },
     "output_type": "display_data"
    }
   ],
   "source": [
    "plt.figure(figsize = (20,5))\n",
    "plt.boxplot(data_arc[\"reaktivnaya_moshnost\"][data_arc[\"reaktivnaya_moshnost\"]>0],vert = False)\n",
    "plt.show()"
   ]
  },
  {
   "cell_type": "code",
   "execution_count": 18,
   "metadata": {
    "scrolled": true
   },
   "outputs": [
    {
     "name": "stdout",
     "output_type": "stream",
     "text": [
      "Среднее значение: 0.45\n",
      "Медианное значение: 0.42\n",
      "Стандартное отклонение 5.88\n",
      "Распределение данных имеет положительную асимметрию\n"
     ]
    }
   ],
   "source": [
    "mean_median_std(data_arc[\"reaktivnaya_moshnost\"])"
   ]
  },
  {
   "cell_type": "code",
   "execution_count": 19,
   "metadata": {},
   "outputs": [
    {
     "name": "stdout",
     "output_type": "stream",
     "text": [
      "Кол-во аномальных значений: 601\n"
     ]
    }
   ],
   "source": [
    "print(\"Кол-во аномальных значений:\",len(outliers(data_arc[\"reaktivnaya_moshnost\"])))"
   ]
  },
  {
   "cell_type": "code",
   "execution_count": 20,
   "metadata": {},
   "outputs": [
    {
     "name": "stdout",
     "output_type": "stream",
     "text": [
      "0.05443724339693741\n"
     ]
    }
   ],
   "source": [
    "print(data_arc[\"reaktivnaya_moshnost\"].corr(data_arc[\"aktivnaya_moshnost\"]))"
   ]
  },
  {
   "cell_type": "markdown",
   "metadata": {},
   "source": [
    "**Вывод:**"
   ]
  },
  {
   "cell_type": "markdown",
   "metadata": {},
   "source": [
    "- Пропуски и дубликатов отсутствуют;\n",
    "- Присутствуют аномальные значения в реактивной мощности;\n",
    "- Данные о времени нагрева не в формате datetime;\n",
    "- В среднем, партии нагревались по 4 раза;\n",
    "- В данных присутствуют аномалии;\n",
    "- Требуется дополнительное изучения разницы в активной и реактивной мощности. Есть возможность вывести новые признаки;\n",
    "- Распределение активной и реактивной мощности имеет положительную асимметрию;\n",
    "- Корреляция между активной и реактивной мощности равна 0.05, что говорит о плохой корреляции. "
   ]
  },
  {
   "cell_type": "markdown",
   "metadata": {},
   "source": [
    "**Данные о подаче сыпучих материалов (объём)**"
   ]
  },
  {
   "cell_type": "code",
   "execution_count": 21,
   "metadata": {
    "scrolled": false
   },
   "outputs": [
    {
     "name": "stdout",
     "output_type": "stream",
     "text": [
      "<class 'pandas.core.frame.DataFrame'>\n",
      "RangeIndex: 3129 entries, 0 to 3128\n",
      "Data columns (total 16 columns):\n",
      " #   Column   Non-Null Count  Dtype  \n",
      "---  ------   --------------  -----  \n",
      " 0   key      3129 non-null   int64  \n",
      " 1   bulk_1   252 non-null    float64\n",
      " 2   bulk_2   22 non-null     float64\n",
      " 3   bulk_3   1298 non-null   float64\n",
      " 4   bulk_4   1014 non-null   float64\n",
      " 5   bulk_5   77 non-null     float64\n",
      " 6   bulk_6   576 non-null    float64\n",
      " 7   bulk_7   25 non-null     float64\n",
      " 8   bulk_8   1 non-null      float64\n",
      " 9   bulk_9   19 non-null     float64\n",
      " 10  bulk_10  176 non-null    float64\n",
      " 11  bulk_11  177 non-null    float64\n",
      " 12  bulk_12  2450 non-null   float64\n",
      " 13  bulk_13  18 non-null     float64\n",
      " 14  bulk_14  2806 non-null   float64\n",
      " 15  bulk_15  2248 non-null   float64\n",
      "dtypes: float64(15), int64(1)\n",
      "memory usage: 391.2 KB\n"
     ]
    },
    {
     "data": {
      "text/plain": [
       "None"
      ]
     },
     "metadata": {},
     "output_type": "display_data"
    },
    {
     "data": {
      "text/html": [
       "<div>\n",
       "<style scoped>\n",
       "    .dataframe tbody tr th:only-of-type {\n",
       "        vertical-align: middle;\n",
       "    }\n",
       "\n",
       "    .dataframe tbody tr th {\n",
       "        vertical-align: top;\n",
       "    }\n",
       "\n",
       "    .dataframe thead th {\n",
       "        text-align: right;\n",
       "    }\n",
       "</style>\n",
       "<table border=\"1\" class=\"dataframe\">\n",
       "  <thead>\n",
       "    <tr style=\"text-align: right;\">\n",
       "      <th></th>\n",
       "      <th>key</th>\n",
       "      <th>bulk_1</th>\n",
       "      <th>bulk_2</th>\n",
       "      <th>bulk_3</th>\n",
       "      <th>bulk_4</th>\n",
       "      <th>bulk_5</th>\n",
       "      <th>bulk_6</th>\n",
       "      <th>bulk_7</th>\n",
       "      <th>bulk_8</th>\n",
       "      <th>bulk_9</th>\n",
       "      <th>bulk_10</th>\n",
       "      <th>bulk_11</th>\n",
       "      <th>bulk_12</th>\n",
       "      <th>bulk_13</th>\n",
       "      <th>bulk_14</th>\n",
       "      <th>bulk_15</th>\n",
       "    </tr>\n",
       "  </thead>\n",
       "  <tbody>\n",
       "    <tr>\n",
       "      <th>0</th>\n",
       "      <td>1</td>\n",
       "      <td>NaN</td>\n",
       "      <td>NaN</td>\n",
       "      <td>NaN</td>\n",
       "      <td>43.0</td>\n",
       "      <td>NaN</td>\n",
       "      <td>NaN</td>\n",
       "      <td>NaN</td>\n",
       "      <td>NaN</td>\n",
       "      <td>NaN</td>\n",
       "      <td>NaN</td>\n",
       "      <td>NaN</td>\n",
       "      <td>206.0</td>\n",
       "      <td>NaN</td>\n",
       "      <td>150.0</td>\n",
       "      <td>154.0</td>\n",
       "    </tr>\n",
       "    <tr>\n",
       "      <th>1</th>\n",
       "      <td>2</td>\n",
       "      <td>NaN</td>\n",
       "      <td>NaN</td>\n",
       "      <td>NaN</td>\n",
       "      <td>73.0</td>\n",
       "      <td>NaN</td>\n",
       "      <td>NaN</td>\n",
       "      <td>NaN</td>\n",
       "      <td>NaN</td>\n",
       "      <td>NaN</td>\n",
       "      <td>NaN</td>\n",
       "      <td>NaN</td>\n",
       "      <td>206.0</td>\n",
       "      <td>NaN</td>\n",
       "      <td>149.0</td>\n",
       "      <td>154.0</td>\n",
       "    </tr>\n",
       "    <tr>\n",
       "      <th>2</th>\n",
       "      <td>3</td>\n",
       "      <td>NaN</td>\n",
       "      <td>NaN</td>\n",
       "      <td>NaN</td>\n",
       "      <td>34.0</td>\n",
       "      <td>NaN</td>\n",
       "      <td>NaN</td>\n",
       "      <td>NaN</td>\n",
       "      <td>NaN</td>\n",
       "      <td>NaN</td>\n",
       "      <td>NaN</td>\n",
       "      <td>NaN</td>\n",
       "      <td>205.0</td>\n",
       "      <td>NaN</td>\n",
       "      <td>152.0</td>\n",
       "      <td>153.0</td>\n",
       "    </tr>\n",
       "    <tr>\n",
       "      <th>3126</th>\n",
       "      <td>3239</td>\n",
       "      <td>NaN</td>\n",
       "      <td>NaN</td>\n",
       "      <td>NaN</td>\n",
       "      <td>NaN</td>\n",
       "      <td>NaN</td>\n",
       "      <td>114.0</td>\n",
       "      <td>NaN</td>\n",
       "      <td>NaN</td>\n",
       "      <td>NaN</td>\n",
       "      <td>NaN</td>\n",
       "      <td>NaN</td>\n",
       "      <td>158.0</td>\n",
       "      <td>NaN</td>\n",
       "      <td>270.0</td>\n",
       "      <td>88.0</td>\n",
       "    </tr>\n",
       "    <tr>\n",
       "      <th>3127</th>\n",
       "      <td>3240</td>\n",
       "      <td>NaN</td>\n",
       "      <td>NaN</td>\n",
       "      <td>NaN</td>\n",
       "      <td>NaN</td>\n",
       "      <td>NaN</td>\n",
       "      <td>26.0</td>\n",
       "      <td>NaN</td>\n",
       "      <td>NaN</td>\n",
       "      <td>NaN</td>\n",
       "      <td>NaN</td>\n",
       "      <td>NaN</td>\n",
       "      <td>NaN</td>\n",
       "      <td>NaN</td>\n",
       "      <td>192.0</td>\n",
       "      <td>54.0</td>\n",
       "    </tr>\n",
       "    <tr>\n",
       "      <th>3128</th>\n",
       "      <td>3241</td>\n",
       "      <td>NaN</td>\n",
       "      <td>NaN</td>\n",
       "      <td>NaN</td>\n",
       "      <td>NaN</td>\n",
       "      <td>NaN</td>\n",
       "      <td>NaN</td>\n",
       "      <td>NaN</td>\n",
       "      <td>NaN</td>\n",
       "      <td>NaN</td>\n",
       "      <td>NaN</td>\n",
       "      <td>NaN</td>\n",
       "      <td>NaN</td>\n",
       "      <td>NaN</td>\n",
       "      <td>180.0</td>\n",
       "      <td>52.0</td>\n",
       "    </tr>\n",
       "  </tbody>\n",
       "</table>\n",
       "</div>"
      ],
      "text/plain": [
       "       key  bulk_1  bulk_2  bulk_3  bulk_4  bulk_5  bulk_6  bulk_7  bulk_8  \\\n",
       "0        1     NaN     NaN     NaN    43.0     NaN     NaN     NaN     NaN   \n",
       "1        2     NaN     NaN     NaN    73.0     NaN     NaN     NaN     NaN   \n",
       "2        3     NaN     NaN     NaN    34.0     NaN     NaN     NaN     NaN   \n",
       "3126  3239     NaN     NaN     NaN     NaN     NaN   114.0     NaN     NaN   \n",
       "3127  3240     NaN     NaN     NaN     NaN     NaN    26.0     NaN     NaN   \n",
       "3128  3241     NaN     NaN     NaN     NaN     NaN     NaN     NaN     NaN   \n",
       "\n",
       "      bulk_9  bulk_10  bulk_11  bulk_12  bulk_13  bulk_14  bulk_15  \n",
       "0        NaN      NaN      NaN    206.0      NaN    150.0    154.0  \n",
       "1        NaN      NaN      NaN    206.0      NaN    149.0    154.0  \n",
       "2        NaN      NaN      NaN    205.0      NaN    152.0    153.0  \n",
       "3126     NaN      NaN      NaN    158.0      NaN    270.0     88.0  \n",
       "3127     NaN      NaN      NaN      NaN      NaN    192.0     54.0  \n",
       "3128     NaN      NaN      NaN      NaN      NaN    180.0     52.0  "
      ]
     },
     "metadata": {},
     "output_type": "display_data"
    },
    {
     "data": {
      "text/html": [
       "<div>\n",
       "<style scoped>\n",
       "    .dataframe tbody tr th:only-of-type {\n",
       "        vertical-align: middle;\n",
       "    }\n",
       "\n",
       "    .dataframe tbody tr th {\n",
       "        vertical-align: top;\n",
       "    }\n",
       "\n",
       "    .dataframe thead th {\n",
       "        text-align: right;\n",
       "    }\n",
       "</style>\n",
       "<table border=\"1\" class=\"dataframe\">\n",
       "  <thead>\n",
       "    <tr style=\"text-align: right;\">\n",
       "      <th></th>\n",
       "      <th>key</th>\n",
       "      <th>bulk_1</th>\n",
       "      <th>bulk_2</th>\n",
       "      <th>bulk_3</th>\n",
       "      <th>bulk_4</th>\n",
       "      <th>bulk_5</th>\n",
       "      <th>bulk_6</th>\n",
       "      <th>bulk_7</th>\n",
       "      <th>bulk_8</th>\n",
       "      <th>bulk_9</th>\n",
       "      <th>bulk_10</th>\n",
       "      <th>bulk_11</th>\n",
       "      <th>bulk_12</th>\n",
       "      <th>bulk_13</th>\n",
       "      <th>bulk_14</th>\n",
       "      <th>bulk_15</th>\n",
       "    </tr>\n",
       "  </thead>\n",
       "  <tbody>\n",
       "    <tr>\n",
       "      <th>count</th>\n",
       "      <td>3129.000000</td>\n",
       "      <td>252.000000</td>\n",
       "      <td>22.000000</td>\n",
       "      <td>1298.000000</td>\n",
       "      <td>1014.000000</td>\n",
       "      <td>77.000000</td>\n",
       "      <td>576.000000</td>\n",
       "      <td>25.000000</td>\n",
       "      <td>1.0</td>\n",
       "      <td>19.000000</td>\n",
       "      <td>176.000000</td>\n",
       "      <td>177.000000</td>\n",
       "      <td>2450.000000</td>\n",
       "      <td>18.000000</td>\n",
       "      <td>2806.000000</td>\n",
       "      <td>2248.000000</td>\n",
       "    </tr>\n",
       "    <tr>\n",
       "      <th>mean</th>\n",
       "      <td>1624.383509</td>\n",
       "      <td>39.242063</td>\n",
       "      <td>253.045455</td>\n",
       "      <td>113.879045</td>\n",
       "      <td>104.394477</td>\n",
       "      <td>107.025974</td>\n",
       "      <td>118.925347</td>\n",
       "      <td>305.600000</td>\n",
       "      <td>49.0</td>\n",
       "      <td>76.315789</td>\n",
       "      <td>83.284091</td>\n",
       "      <td>76.819209</td>\n",
       "      <td>260.471020</td>\n",
       "      <td>181.111111</td>\n",
       "      <td>170.284747</td>\n",
       "      <td>160.513345</td>\n",
       "    </tr>\n",
       "    <tr>\n",
       "      <th>std</th>\n",
       "      <td>933.337642</td>\n",
       "      <td>18.277654</td>\n",
       "      <td>21.180578</td>\n",
       "      <td>75.483494</td>\n",
       "      <td>48.184126</td>\n",
       "      <td>81.790646</td>\n",
       "      <td>72.057776</td>\n",
       "      <td>191.022904</td>\n",
       "      <td>NaN</td>\n",
       "      <td>21.720581</td>\n",
       "      <td>26.060347</td>\n",
       "      <td>59.655365</td>\n",
       "      <td>120.649269</td>\n",
       "      <td>46.088009</td>\n",
       "      <td>65.868652</td>\n",
       "      <td>51.765319</td>\n",
       "    </tr>\n",
       "    <tr>\n",
       "      <th>min</th>\n",
       "      <td>1.000000</td>\n",
       "      <td>10.000000</td>\n",
       "      <td>228.000000</td>\n",
       "      <td>6.000000</td>\n",
       "      <td>12.000000</td>\n",
       "      <td>11.000000</td>\n",
       "      <td>17.000000</td>\n",
       "      <td>47.000000</td>\n",
       "      <td>49.0</td>\n",
       "      <td>63.000000</td>\n",
       "      <td>24.000000</td>\n",
       "      <td>8.000000</td>\n",
       "      <td>53.000000</td>\n",
       "      <td>151.000000</td>\n",
       "      <td>16.000000</td>\n",
       "      <td>1.000000</td>\n",
       "    </tr>\n",
       "    <tr>\n",
       "      <th>25%</th>\n",
       "      <td>816.000000</td>\n",
       "      <td>27.000000</td>\n",
       "      <td>242.000000</td>\n",
       "      <td>58.000000</td>\n",
       "      <td>72.000000</td>\n",
       "      <td>70.000000</td>\n",
       "      <td>69.750000</td>\n",
       "      <td>155.000000</td>\n",
       "      <td>49.0</td>\n",
       "      <td>66.000000</td>\n",
       "      <td>64.000000</td>\n",
       "      <td>25.000000</td>\n",
       "      <td>204.000000</td>\n",
       "      <td>153.250000</td>\n",
       "      <td>119.000000</td>\n",
       "      <td>105.000000</td>\n",
       "    </tr>\n",
       "    <tr>\n",
       "      <th>50%</th>\n",
       "      <td>1622.000000</td>\n",
       "      <td>31.000000</td>\n",
       "      <td>251.500000</td>\n",
       "      <td>97.500000</td>\n",
       "      <td>102.000000</td>\n",
       "      <td>86.000000</td>\n",
       "      <td>100.000000</td>\n",
       "      <td>298.000000</td>\n",
       "      <td>49.0</td>\n",
       "      <td>68.000000</td>\n",
       "      <td>86.500000</td>\n",
       "      <td>64.000000</td>\n",
       "      <td>208.000000</td>\n",
       "      <td>155.500000</td>\n",
       "      <td>151.000000</td>\n",
       "      <td>160.000000</td>\n",
       "    </tr>\n",
       "    <tr>\n",
       "      <th>75%</th>\n",
       "      <td>2431.000000</td>\n",
       "      <td>46.000000</td>\n",
       "      <td>257.750000</td>\n",
       "      <td>152.000000</td>\n",
       "      <td>133.000000</td>\n",
       "      <td>132.000000</td>\n",
       "      <td>157.000000</td>\n",
       "      <td>406.000000</td>\n",
       "      <td>49.0</td>\n",
       "      <td>70.500000</td>\n",
       "      <td>102.000000</td>\n",
       "      <td>106.000000</td>\n",
       "      <td>316.000000</td>\n",
       "      <td>203.500000</td>\n",
       "      <td>205.750000</td>\n",
       "      <td>205.000000</td>\n",
       "    </tr>\n",
       "    <tr>\n",
       "      <th>max</th>\n",
       "      <td>3241.000000</td>\n",
       "      <td>185.000000</td>\n",
       "      <td>325.000000</td>\n",
       "      <td>454.000000</td>\n",
       "      <td>281.000000</td>\n",
       "      <td>603.000000</td>\n",
       "      <td>503.000000</td>\n",
       "      <td>772.000000</td>\n",
       "      <td>49.0</td>\n",
       "      <td>147.000000</td>\n",
       "      <td>159.000000</td>\n",
       "      <td>313.000000</td>\n",
       "      <td>1849.000000</td>\n",
       "      <td>305.000000</td>\n",
       "      <td>636.000000</td>\n",
       "      <td>405.000000</td>\n",
       "    </tr>\n",
       "  </tbody>\n",
       "</table>\n",
       "</div>"
      ],
      "text/plain": [
       "               key      bulk_1      bulk_2       bulk_3       bulk_4  \\\n",
       "count  3129.000000  252.000000   22.000000  1298.000000  1014.000000   \n",
       "mean   1624.383509   39.242063  253.045455   113.879045   104.394477   \n",
       "std     933.337642   18.277654   21.180578    75.483494    48.184126   \n",
       "min       1.000000   10.000000  228.000000     6.000000    12.000000   \n",
       "25%     816.000000   27.000000  242.000000    58.000000    72.000000   \n",
       "50%    1622.000000   31.000000  251.500000    97.500000   102.000000   \n",
       "75%    2431.000000   46.000000  257.750000   152.000000   133.000000   \n",
       "max    3241.000000  185.000000  325.000000   454.000000   281.000000   \n",
       "\n",
       "           bulk_5      bulk_6      bulk_7  bulk_8      bulk_9     bulk_10  \\\n",
       "count   77.000000  576.000000   25.000000     1.0   19.000000  176.000000   \n",
       "mean   107.025974  118.925347  305.600000    49.0   76.315789   83.284091   \n",
       "std     81.790646   72.057776  191.022904     NaN   21.720581   26.060347   \n",
       "min     11.000000   17.000000   47.000000    49.0   63.000000   24.000000   \n",
       "25%     70.000000   69.750000  155.000000    49.0   66.000000   64.000000   \n",
       "50%     86.000000  100.000000  298.000000    49.0   68.000000   86.500000   \n",
       "75%    132.000000  157.000000  406.000000    49.0   70.500000  102.000000   \n",
       "max    603.000000  503.000000  772.000000    49.0  147.000000  159.000000   \n",
       "\n",
       "          bulk_11      bulk_12     bulk_13      bulk_14      bulk_15  \n",
       "count  177.000000  2450.000000   18.000000  2806.000000  2248.000000  \n",
       "mean    76.819209   260.471020  181.111111   170.284747   160.513345  \n",
       "std     59.655365   120.649269   46.088009    65.868652    51.765319  \n",
       "min      8.000000    53.000000  151.000000    16.000000     1.000000  \n",
       "25%     25.000000   204.000000  153.250000   119.000000   105.000000  \n",
       "50%     64.000000   208.000000  155.500000   151.000000   160.000000  \n",
       "75%    106.000000   316.000000  203.500000   205.750000   205.000000  \n",
       "max    313.000000  1849.000000  305.000000   636.000000   405.000000  "
      ]
     },
     "metadata": {},
     "output_type": "display_data"
    },
    {
     "name": "stdout",
     "output_type": "stream",
     "text": [
      "Кол-во дупликатов: 0\n",
      "Кол-во пропусков:\n"
     ]
    },
    {
     "data": {
      "text/plain": [
       "key           0\n",
       "bulk_1     2877\n",
       "bulk_2     3107\n",
       "bulk_3     1831\n",
       "bulk_4     2115\n",
       "bulk_5     3052\n",
       "bulk_6     2553\n",
       "bulk_7     3104\n",
       "bulk_8     3128\n",
       "bulk_9     3110\n",
       "bulk_10    2953\n",
       "bulk_11    2952\n",
       "bulk_12     679\n",
       "bulk_13    3111\n",
       "bulk_14     323\n",
       "bulk_15     881\n",
       "dtype: int64"
      ]
     },
     "metadata": {},
     "output_type": "display_data"
    },
    {
     "name": "stdout",
     "output_type": "stream",
     "text": [
      "Соотношение ключей: 1.0\n"
     ]
    }
   ],
   "source": [
    "data_bulk = read_data(\"data_bulk.csv\")"
   ]
  },
  {
   "cell_type": "code",
   "execution_count": 22,
   "metadata": {},
   "outputs": [
    {
     "data": {
      "image/png": "[encoded data removed]",
      "text/plain": [
       "<Figure size 1440x360 with 1 Axes>"
      ]
     },
     "metadata": {
      "needs_background": "light"
     },
     "output_type": "display_data"
    }
   ],
   "source": [
    "plt.figure(figsize = (20,5))\n",
    "plt.plot(len(data_bulk[\"key\"]) - data_bulk.isna().sum(),color = \"black\")\n",
    "plt.show()"
   ]
  },
  {
   "cell_type": "markdown",
   "metadata": {},
   "source": [
    "**Вывод:**"
   ]
  },
  {
   "cell_type": "markdown",
   "metadata": {},
   "source": [
    "- Дубликаты отсутствуют;\n",
    "- Больше всего используется смесь 11, 13 и 15;\n",
    "- Меньше всего используется смесь 8 и 9;\n",
    "- Присутствует большое количество пропусков, но они означают, что данные смеси не используются."
   ]
  },
  {
   "cell_type": "markdown",
   "metadata": {},
   "source": [
    "**Данные о подаче сыпучих материалов (время)**"
   ]
  },
  {
   "cell_type": "code",
   "execution_count": 23,
   "metadata": {
    "scrolled": false
   },
   "outputs": [
    {
     "name": "stdout",
     "output_type": "stream",
     "text": [
      "<class 'pandas.core.frame.DataFrame'>\n",
      "RangeIndex: 3129 entries, 0 to 3128\n",
      "Data columns (total 16 columns):\n",
      " #   Column   Non-Null Count  Dtype \n",
      "---  ------   --------------  ----- \n",
      " 0   key      3129 non-null   int64 \n",
      " 1   bulk_1   252 non-null    object\n",
      " 2   bulk_2   22 non-null     object\n",
      " 3   bulk_3   1298 non-null   object\n",
      " 4   bulk_4   1014 non-null   object\n",
      " 5   bulk_5   77 non-null     object\n",
      " 6   bulk_6   576 non-null    object\n",
      " 7   bulk_7   25 non-null     object\n",
      " 8   bulk_8   1 non-null      object\n",
      " 9   bulk_9   19 non-null     object\n",
      " 10  bulk_10  176 non-null    object\n",
      " 11  bulk_11  177 non-null    object\n",
      " 12  bulk_12  2450 non-null   object\n",
      " 13  bulk_13  18 non-null     object\n",
      " 14  bulk_14  2806 non-null   object\n",
      " 15  bulk_15  2248 non-null   object\n",
      "dtypes: int64(1), object(15)\n",
      "memory usage: 391.2+ KB\n"
     ]
    },
    {
     "data": {
      "text/plain": [
       "None"
      ]
     },
     "metadata": {},
     "output_type": "display_data"
    },
    {
     "data": {
      "text/html": [
       "<div>\n",
       "<style scoped>\n",
       "    .dataframe tbody tr th:only-of-type {\n",
       "        vertical-align: middle;\n",
       "    }\n",
       "\n",
       "    .dataframe tbody tr th {\n",
       "        vertical-align: top;\n",
       "    }\n",
       "\n",
       "    .dataframe thead th {\n",
       "        text-align: right;\n",
       "    }\n",
       "</style>\n",
       "<table border=\"1\" class=\"dataframe\">\n",
       "  <thead>\n",
       "    <tr style=\"text-align: right;\">\n",
       "      <th></th>\n",
       "      <th>key</th>\n",
       "      <th>bulk_1</th>\n",
       "      <th>bulk_2</th>\n",
       "      <th>bulk_3</th>\n",
       "      <th>bulk_4</th>\n",
       "      <th>bulk_5</th>\n",
       "      <th>bulk_6</th>\n",
       "      <th>bulk_7</th>\n",
       "      <th>bulk_8</th>\n",
       "      <th>bulk_9</th>\n",
       "      <th>bulk_10</th>\n",
       "      <th>bulk_11</th>\n",
       "      <th>bulk_12</th>\n",
       "      <th>bulk_13</th>\n",
       "      <th>bulk_14</th>\n",
       "      <th>bulk_15</th>\n",
       "    </tr>\n",
       "  </thead>\n",
       "  <tbody>\n",
       "    <tr>\n",
       "      <th>0</th>\n",
       "      <td>1</td>\n",
       "      <td>NaN</td>\n",
       "      <td>NaN</td>\n",
       "      <td>NaN</td>\n",
       "      <td>2019-05-03 11:21:30</td>\n",
       "      <td>NaN</td>\n",
       "      <td>NaN</td>\n",
       "      <td>NaN</td>\n",
       "      <td>NaN</td>\n",
       "      <td>NaN</td>\n",
       "      <td>NaN</td>\n",
       "      <td>NaN</td>\n",
       "      <td>2019-05-03 11:03:52</td>\n",
       "      <td>NaN</td>\n",
       "      <td>2019-05-03 11:03:52</td>\n",
       "      <td>2019-05-03 11:03:52</td>\n",
       "    </tr>\n",
       "    <tr>\n",
       "      <th>1</th>\n",
       "      <td>2</td>\n",
       "      <td>NaN</td>\n",
       "      <td>NaN</td>\n",
       "      <td>NaN</td>\n",
       "      <td>2019-05-03 11:46:38</td>\n",
       "      <td>NaN</td>\n",
       "      <td>NaN</td>\n",
       "      <td>NaN</td>\n",
       "      <td>NaN</td>\n",
       "      <td>NaN</td>\n",
       "      <td>NaN</td>\n",
       "      <td>NaN</td>\n",
       "      <td>2019-05-03 11:40:20</td>\n",
       "      <td>NaN</td>\n",
       "      <td>2019-05-03 11:40:20</td>\n",
       "      <td>2019-05-03 11:40:20</td>\n",
       "    </tr>\n",
       "    <tr>\n",
       "      <th>2</th>\n",
       "      <td>3</td>\n",
       "      <td>NaN</td>\n",
       "      <td>NaN</td>\n",
       "      <td>NaN</td>\n",
       "      <td>2019-05-03 12:31:06</td>\n",
       "      <td>NaN</td>\n",
       "      <td>NaN</td>\n",
       "      <td>NaN</td>\n",
       "      <td>NaN</td>\n",
       "      <td>NaN</td>\n",
       "      <td>NaN</td>\n",
       "      <td>NaN</td>\n",
       "      <td>2019-05-03 12:09:40</td>\n",
       "      <td>NaN</td>\n",
       "      <td>2019-05-03 12:09:40</td>\n",
       "      <td>2019-05-03 12:09:40</td>\n",
       "    </tr>\n",
       "    <tr>\n",
       "      <th>3126</th>\n",
       "      <td>3239</td>\n",
       "      <td>NaN</td>\n",
       "      <td>NaN</td>\n",
       "      <td>NaN</td>\n",
       "      <td>NaN</td>\n",
       "      <td>NaN</td>\n",
       "      <td>2019-09-01 01:51:58</td>\n",
       "      <td>NaN</td>\n",
       "      <td>NaN</td>\n",
       "      <td>NaN</td>\n",
       "      <td>NaN</td>\n",
       "      <td>NaN</td>\n",
       "      <td>2019-09-01 01:39:41</td>\n",
       "      <td>NaN</td>\n",
       "      <td>2019-09-01 01:33:25</td>\n",
       "      <td>2019-09-01 01:33:25</td>\n",
       "    </tr>\n",
       "    <tr>\n",
       "      <th>3127</th>\n",
       "      <td>3240</td>\n",
       "      <td>NaN</td>\n",
       "      <td>NaN</td>\n",
       "      <td>NaN</td>\n",
       "      <td>NaN</td>\n",
       "      <td>NaN</td>\n",
       "      <td>2019-09-01 03:12:40</td>\n",
       "      <td>NaN</td>\n",
       "      <td>NaN</td>\n",
       "      <td>NaN</td>\n",
       "      <td>NaN</td>\n",
       "      <td>NaN</td>\n",
       "      <td>NaN</td>\n",
       "      <td>NaN</td>\n",
       "      <td>2019-09-01 02:41:27</td>\n",
       "      <td>2019-09-01 02:41:27</td>\n",
       "    </tr>\n",
       "    <tr>\n",
       "      <th>3128</th>\n",
       "      <td>3241</td>\n",
       "      <td>NaN</td>\n",
       "      <td>NaN</td>\n",
       "      <td>NaN</td>\n",
       "      <td>NaN</td>\n",
       "      <td>NaN</td>\n",
       "      <td>NaN</td>\n",
       "      <td>NaN</td>\n",
       "      <td>NaN</td>\n",
       "      <td>NaN</td>\n",
       "      <td>NaN</td>\n",
       "      <td>NaN</td>\n",
       "      <td>NaN</td>\n",
       "      <td>NaN</td>\n",
       "      <td>2019-09-01 04:05:34</td>\n",
       "      <td>2019-09-01 04:05:34</td>\n",
       "    </tr>\n",
       "  </tbody>\n",
       "</table>\n",
       "</div>"
      ],
      "text/plain": [
       "       key bulk_1 bulk_2 bulk_3               bulk_4 bulk_5  \\\n",
       "0        1    NaN    NaN    NaN  2019-05-03 11:21:30    NaN   \n",
       "1        2    NaN    NaN    NaN  2019-05-03 11:46:38    NaN   \n",
       "2        3    NaN    NaN    NaN  2019-05-03 12:31:06    NaN   \n",
       "3126  3239    NaN    NaN    NaN                  NaN    NaN   \n",
       "3127  3240    NaN    NaN    NaN                  NaN    NaN   \n",
       "3128  3241    NaN    NaN    NaN                  NaN    NaN   \n",
       "\n",
       "                   bulk_6 bulk_7 bulk_8 bulk_9 bulk_10 bulk_11  \\\n",
       "0                     NaN    NaN    NaN    NaN     NaN     NaN   \n",
       "1                     NaN    NaN    NaN    NaN     NaN     NaN   \n",
       "2                     NaN    NaN    NaN    NaN     NaN     NaN   \n",
       "3126  2019-09-01 01:51:58    NaN    NaN    NaN     NaN     NaN   \n",
       "3127  2019-09-01 03:12:40    NaN    NaN    NaN     NaN     NaN   \n",
       "3128                  NaN    NaN    NaN    NaN     NaN     NaN   \n",
       "\n",
       "                  bulk_12 bulk_13              bulk_14              bulk_15  \n",
       "0     2019-05-03 11:03:52     NaN  2019-05-03 11:03:52  2019-05-03 11:03:52  \n",
       "1     2019-05-03 11:40:20     NaN  2019-05-03 11:40:20  2019-05-03 11:40:20  \n",
       "2     2019-05-03 12:09:40     NaN  2019-05-03 12:09:40  2019-05-03 12:09:40  \n",
       "3126  2019-09-01 01:39:41     NaN  2019-09-01 01:33:25  2019-09-01 01:33:25  \n",
       "3127                  NaN     NaN  2019-09-01 02:41:27  2019-09-01 02:41:27  \n",
       "3128                  NaN     NaN  2019-09-01 04:05:34  2019-09-01 04:05:34  "
      ]
     },
     "metadata": {},
     "output_type": "display_data"
    },
    {
     "data": {
      "text/html": [
       "<div>\n",
       "<style scoped>\n",
       "    .dataframe tbody tr th:only-of-type {\n",
       "        vertical-align: middle;\n",
       "    }\n",
       "\n",
       "    .dataframe tbody tr th {\n",
       "        vertical-align: top;\n",
       "    }\n",
       "\n",
       "    .dataframe thead th {\n",
       "        text-align: right;\n",
       "    }\n",
       "</style>\n",
       "<table border=\"1\" class=\"dataframe\">\n",
       "  <thead>\n",
       "    <tr style=\"text-align: right;\">\n",
       "      <th></th>\n",
       "      <th>key</th>\n",
       "    </tr>\n",
       "  </thead>\n",
       "  <tbody>\n",
       "    <tr>\n",
       "      <th>count</th>\n",
       "      <td>3129.000000</td>\n",
       "    </tr>\n",
       "    <tr>\n",
       "      <th>mean</th>\n",
       "      <td>1624.383509</td>\n",
       "    </tr>\n",
       "    <tr>\n",
       "      <th>std</th>\n",
       "      <td>933.337642</td>\n",
       "    </tr>\n",
       "    <tr>\n",
       "      <th>min</th>\n",
       "      <td>1.000000</td>\n",
       "    </tr>\n",
       "    <tr>\n",
       "      <th>25%</th>\n",
       "      <td>816.000000</td>\n",
       "    </tr>\n",
       "    <tr>\n",
       "      <th>50%</th>\n",
       "      <td>1622.000000</td>\n",
       "    </tr>\n",
       "    <tr>\n",
       "      <th>75%</th>\n",
       "      <td>2431.000000</td>\n",
       "    </tr>\n",
       "    <tr>\n",
       "      <th>max</th>\n",
       "      <td>3241.000000</td>\n",
       "    </tr>\n",
       "  </tbody>\n",
       "</table>\n",
       "</div>"
      ],
      "text/plain": [
       "               key\n",
       "count  3129.000000\n",
       "mean   1624.383509\n",
       "std     933.337642\n",
       "min       1.000000\n",
       "25%     816.000000\n",
       "50%    1622.000000\n",
       "75%    2431.000000\n",
       "max    3241.000000"
      ]
     },
     "metadata": {},
     "output_type": "display_data"
    },
    {
     "name": "stdout",
     "output_type": "stream",
     "text": [
      "Кол-во дупликатов: 0\n",
      "Кол-во пропусков:\n"
     ]
    },
    {
     "data": {
      "text/plain": [
       "key           0\n",
       "bulk_1     2877\n",
       "bulk_2     3107\n",
       "bulk_3     1831\n",
       "bulk_4     2115\n",
       "bulk_5     3052\n",
       "bulk_6     2553\n",
       "bulk_7     3104\n",
       "bulk_8     3128\n",
       "bulk_9     3110\n",
       "bulk_10    2953\n",
       "bulk_11    2952\n",
       "bulk_12     679\n",
       "bulk_13    3111\n",
       "bulk_14     323\n",
       "bulk_15     881\n",
       "dtype: int64"
      ]
     },
     "metadata": {},
     "output_type": "display_data"
    },
    {
     "name": "stdout",
     "output_type": "stream",
     "text": [
      "Соотношение ключей: 1.0\n"
     ]
    }
   ],
   "source": [
    "data_bulk_time = read_data(\"data_bulk_time.csv\")"
   ]
  },
  {
   "cell_type": "markdown",
   "metadata": {},
   "source": [
    "**Вывод:**"
   ]
  },
  {
   "cell_type": "markdown",
   "metadata": {},
   "source": [
    "- Дубликаты отсутствуют;\n",
    "- Данные не имеют корректный тип данных;\n",
    "- Данные аналогичны с \"Данные о подаче сыпучих материалов (объём)\" так как имеют прямую взаимосвязь;\n",
    "- Данные не имеют важной информации, поэтому не войдут в таблицу признаков."
   ]
  },
  {
   "cell_type": "markdown",
   "metadata": {},
   "source": [
    "**Данные о продувке сплава газом**"
   ]
  },
  {
   "cell_type": "code",
   "execution_count": 24,
   "metadata": {
    "scrolled": false
   },
   "outputs": [
    {
     "name": "stdout",
     "output_type": "stream",
     "text": [
      "<class 'pandas.core.frame.DataFrame'>\n",
      "RangeIndex: 3239 entries, 0 to 3238\n",
      "Data columns (total 2 columns):\n",
      " #   Column  Non-Null Count  Dtype  \n",
      "---  ------  --------------  -----  \n",
      " 0   key     3239 non-null   int64  \n",
      " 1   gaz_    3239 non-null   float64\n",
      "dtypes: float64(1), int64(1)\n",
      "memory usage: 50.7 KB\n"
     ]
    },
    {
     "data": {
      "text/plain": [
       "None"
      ]
     },
     "metadata": {},
     "output_type": "display_data"
    },
    {
     "data": {
      "text/html": [
       "<div>\n",
       "<style scoped>\n",
       "    .dataframe tbody tr th:only-of-type {\n",
       "        vertical-align: middle;\n",
       "    }\n",
       "\n",
       "    .dataframe tbody tr th {\n",
       "        vertical-align: top;\n",
       "    }\n",
       "\n",
       "    .dataframe thead th {\n",
       "        text-align: right;\n",
       "    }\n",
       "</style>\n",
       "<table border=\"1\" class=\"dataframe\">\n",
       "  <thead>\n",
       "    <tr style=\"text-align: right;\">\n",
       "      <th></th>\n",
       "      <th>key</th>\n",
       "      <th>gaz_</th>\n",
       "    </tr>\n",
       "  </thead>\n",
       "  <tbody>\n",
       "    <tr>\n",
       "      <th>0</th>\n",
       "      <td>1</td>\n",
       "      <td>29.749986</td>\n",
       "    </tr>\n",
       "    <tr>\n",
       "      <th>1</th>\n",
       "      <td>2</td>\n",
       "      <td>12.555561</td>\n",
       "    </tr>\n",
       "    <tr>\n",
       "      <th>2</th>\n",
       "      <td>3</td>\n",
       "      <td>28.554793</td>\n",
       "    </tr>\n",
       "    <tr>\n",
       "      <th>3236</th>\n",
       "      <td>3239</td>\n",
       "      <td>16.023518</td>\n",
       "    </tr>\n",
       "    <tr>\n",
       "      <th>3237</th>\n",
       "      <td>3240</td>\n",
       "      <td>11.863103</td>\n",
       "    </tr>\n",
       "    <tr>\n",
       "      <th>3238</th>\n",
       "      <td>3241</td>\n",
       "      <td>12.680959</td>\n",
       "    </tr>\n",
       "  </tbody>\n",
       "</table>\n",
       "</div>"
      ],
      "text/plain": [
       "       key       gaz_\n",
       "0        1  29.749986\n",
       "1        2  12.555561\n",
       "2        3  28.554793\n",
       "3236  3239  16.023518\n",
       "3237  3240  11.863103\n",
       "3238  3241  12.680959"
      ]
     },
     "metadata": {},
     "output_type": "display_data"
    },
    {
     "data": {
      "text/html": [
       "<div>\n",
       "<style scoped>\n",
       "    .dataframe tbody tr th:only-of-type {\n",
       "        vertical-align: middle;\n",
       "    }\n",
       "\n",
       "    .dataframe tbody tr th {\n",
       "        vertical-align: top;\n",
       "    }\n",
       "\n",
       "    .dataframe thead th {\n",
       "        text-align: right;\n",
       "    }\n",
       "</style>\n",
       "<table border=\"1\" class=\"dataframe\">\n",
       "  <thead>\n",
       "    <tr style=\"text-align: right;\">\n",
       "      <th></th>\n",
       "      <th>key</th>\n",
       "      <th>gaz_</th>\n",
       "    </tr>\n",
       "  </thead>\n",
       "  <tbody>\n",
       "    <tr>\n",
       "      <th>count</th>\n",
       "      <td>3239.000000</td>\n",
       "      <td>3239.000000</td>\n",
       "    </tr>\n",
       "    <tr>\n",
       "      <th>mean</th>\n",
       "      <td>1621.861377</td>\n",
       "      <td>11.002062</td>\n",
       "    </tr>\n",
       "    <tr>\n",
       "      <th>std</th>\n",
       "      <td>935.386334</td>\n",
       "      <td>6.220327</td>\n",
       "    </tr>\n",
       "    <tr>\n",
       "      <th>min</th>\n",
       "      <td>1.000000</td>\n",
       "      <td>0.008399</td>\n",
       "    </tr>\n",
       "    <tr>\n",
       "      <th>25%</th>\n",
       "      <td>812.500000</td>\n",
       "      <td>7.043089</td>\n",
       "    </tr>\n",
       "    <tr>\n",
       "      <th>50%</th>\n",
       "      <td>1622.000000</td>\n",
       "      <td>9.836267</td>\n",
       "    </tr>\n",
       "    <tr>\n",
       "      <th>75%</th>\n",
       "      <td>2431.500000</td>\n",
       "      <td>13.769915</td>\n",
       "    </tr>\n",
       "    <tr>\n",
       "      <th>max</th>\n",
       "      <td>3241.000000</td>\n",
       "      <td>77.995040</td>\n",
       "    </tr>\n",
       "  </tbody>\n",
       "</table>\n",
       "</div>"
      ],
      "text/plain": [
       "               key         gaz_\n",
       "count  3239.000000  3239.000000\n",
       "mean   1621.861377    11.002062\n",
       "std     935.386334     6.220327\n",
       "min       1.000000     0.008399\n",
       "25%     812.500000     7.043089\n",
       "50%    1622.000000     9.836267\n",
       "75%    2431.500000    13.769915\n",
       "max    3241.000000    77.995040"
      ]
     },
     "metadata": {},
     "output_type": "display_data"
    },
    {
     "name": "stdout",
     "output_type": "stream",
     "text": [
      "Кол-во дупликатов: 0\n",
      "Кол-во пропусков:\n"
     ]
    },
    {
     "data": {
      "text/plain": [
       "key     0\n",
       "gaz_    0\n",
       "dtype: int64"
      ]
     },
     "metadata": {},
     "output_type": "display_data"
    },
    {
     "name": "stdout",
     "output_type": "stream",
     "text": [
      "Соотношение ключей: 1.0\n"
     ]
    }
   ],
   "source": [
    "data_gas = read_data(\"data_gas.csv\")"
   ]
  },
  {
   "cell_type": "code",
   "execution_count": 25,
   "metadata": {
    "scrolled": true
   },
   "outputs": [
    {
     "name": "stdout",
     "output_type": "stream",
     "text": [
      "Кол-во аномальных значений: 126\n"
     ]
    }
   ],
   "source": [
    "print(\"Кол-во аномальных значений:\",len(outliers(data_gas[\"gaz_\"])))"
   ]
  },
  {
   "cell_type": "code",
   "execution_count": 26,
   "metadata": {
    "scrolled": true
   },
   "outputs": [
    {
     "data": {
      "image/png": "[encoded data removed]",
      "text/plain": [
       "<Figure size 1440x360 with 1 Axes>"
      ]
     },
     "metadata": {
      "needs_background": "light"
     },
     "output_type": "display_data"
    }
   ],
   "source": [
    "plt.figure(figsize = (20,5))\n",
    "sns.histplot(data_gas[\"gaz_\"],color = \"black\")\n",
    "plt.axvline(np.nanmean(data_gas[\"gaz_\"]), color = \"red\", linewidth = 2, label = \"Mean\")\n",
    "plt.axvline(np.nanmedian(data_gas[\"gaz_\"]), color = \"yellow\", linewidth = 2, label = \"Median\")\n",
    "plt.legend(loc='best')\n",
    "plt.show()"
   ]
  },
  {
   "cell_type": "code",
   "execution_count": 27,
   "metadata": {
    "scrolled": false
   },
   "outputs": [
    {
     "data": {
      "image/png": "[encoded data removed]",
      "text/plain": [
       "<Figure size 1440x720 with 1 Axes>"
      ]
     },
     "metadata": {
      "needs_background": "light"
     },
     "output_type": "display_data"
    }
   ],
   "source": [
    "plt.figure(figsize = (20,10))\n",
    "plt.scatter(data_gas[\"key\"], data_gas[\"gaz_\"],color = \"black\")\n",
    "plt.show()"
   ]
  },
  {
   "cell_type": "code",
   "execution_count": 28,
   "metadata": {},
   "outputs": [
    {
     "name": "stdout",
     "output_type": "stream",
     "text": [
      "Среднее значение: 11.0\n",
      "Медианное значение: 9.84\n",
      "Стандартное отклонение 6.22\n",
      "Распределение данных имеет положительную асимметрию\n"
     ]
    }
   ],
   "source": [
    "mean_median_std(data_gas[\"gaz_\"])"
   ]
  },
  {
   "cell_type": "markdown",
   "metadata": {},
   "source": [
    "**Вывод:**"
   ]
  },
  {
   "cell_type": "markdown",
   "metadata": {},
   "source": [
    "- Дубликаты и пропуски отсутствуют;\n",
    "- Распределение имеет положительную асимметрию;\n",
    "- В данных присутствуют 126 анамалии. "
   ]
  },
  {
   "cell_type": "markdown",
   "metadata": {},
   "source": [
    "**Результаты измерения температуры**"
   ]
  },
  {
   "cell_type": "code",
   "execution_count": 29,
   "metadata": {
    "scrolled": false
   },
   "outputs": [
    {
     "name": "stdout",
     "output_type": "stream",
     "text": [
      "<class 'pandas.core.frame.DataFrame'>\n",
      "RangeIndex: 15907 entries, 0 to 15906\n",
      "Data columns (total 3 columns):\n",
      " #   Column         Non-Null Count  Dtype  \n",
      "---  ------         --------------  -----  \n",
      " 0   key            15907 non-null  int64  \n",
      " 1   vremya_zamera  15907 non-null  object \n",
      " 2   temperatura    13006 non-null  float64\n",
      "dtypes: float64(1), int64(1), object(1)\n",
      "memory usage: 372.9+ KB\n"
     ]
    },
    {
     "data": {
      "text/plain": [
       "None"
      ]
     },
     "metadata": {},
     "output_type": "display_data"
    },
    {
     "data": {
      "text/html": [
       "<div>\n",
       "<style scoped>\n",
       "    .dataframe tbody tr th:only-of-type {\n",
       "        vertical-align: middle;\n",
       "    }\n",
       "\n",
       "    .dataframe tbody tr th {\n",
       "        vertical-align: top;\n",
       "    }\n",
       "\n",
       "    .dataframe thead th {\n",
       "        text-align: right;\n",
       "    }\n",
       "</style>\n",
       "<table border=\"1\" class=\"dataframe\">\n",
       "  <thead>\n",
       "    <tr style=\"text-align: right;\">\n",
       "      <th></th>\n",
       "      <th>key</th>\n",
       "      <th>vremya_zamera</th>\n",
       "      <th>temperatura</th>\n",
       "    </tr>\n",
       "  </thead>\n",
       "  <tbody>\n",
       "    <tr>\n",
       "      <th>0</th>\n",
       "      <td>1</td>\n",
       "      <td>2019-05-03 11:16:18</td>\n",
       "      <td>1571.0</td>\n",
       "    </tr>\n",
       "    <tr>\n",
       "      <th>1</th>\n",
       "      <td>1</td>\n",
       "      <td>2019-05-03 11:25:53</td>\n",
       "      <td>1604.0</td>\n",
       "    </tr>\n",
       "    <tr>\n",
       "      <th>2</th>\n",
       "      <td>1</td>\n",
       "      <td>2019-05-03 11:29:11</td>\n",
       "      <td>1618.0</td>\n",
       "    </tr>\n",
       "    <tr>\n",
       "      <th>15904</th>\n",
       "      <td>3241</td>\n",
       "      <td>2019-09-01 04:22:39</td>\n",
       "      <td>NaN</td>\n",
       "    </tr>\n",
       "    <tr>\n",
       "      <th>15905</th>\n",
       "      <td>3241</td>\n",
       "      <td>2019-09-01 04:33:42</td>\n",
       "      <td>NaN</td>\n",
       "    </tr>\n",
       "    <tr>\n",
       "      <th>15906</th>\n",
       "      <td>3241</td>\n",
       "      <td>2019-09-01 04:38:08</td>\n",
       "      <td>NaN</td>\n",
       "    </tr>\n",
       "  </tbody>\n",
       "</table>\n",
       "</div>"
      ],
      "text/plain": [
       "        key        vremya_zamera  temperatura\n",
       "0         1  2019-05-03 11:16:18       1571.0\n",
       "1         1  2019-05-03 11:25:53       1604.0\n",
       "2         1  2019-05-03 11:29:11       1618.0\n",
       "15904  3241  2019-09-01 04:22:39          NaN\n",
       "15905  3241  2019-09-01 04:33:42          NaN\n",
       "15906  3241  2019-09-01 04:38:08          NaN"
      ]
     },
     "metadata": {},
     "output_type": "display_data"
    },
    {
     "data": {
      "text/html": [
       "<div>\n",
       "<style scoped>\n",
       "    .dataframe tbody tr th:only-of-type {\n",
       "        vertical-align: middle;\n",
       "    }\n",
       "\n",
       "    .dataframe tbody tr th {\n",
       "        vertical-align: top;\n",
       "    }\n",
       "\n",
       "    .dataframe thead th {\n",
       "        text-align: right;\n",
       "    }\n",
       "</style>\n",
       "<table border=\"1\" class=\"dataframe\">\n",
       "  <thead>\n",
       "    <tr style=\"text-align: right;\">\n",
       "      <th></th>\n",
       "      <th>key</th>\n",
       "      <th>temperatura</th>\n",
       "    </tr>\n",
       "  </thead>\n",
       "  <tbody>\n",
       "    <tr>\n",
       "      <th>count</th>\n",
       "      <td>15907.000000</td>\n",
       "      <td>13006.000000</td>\n",
       "    </tr>\n",
       "    <tr>\n",
       "      <th>mean</th>\n",
       "      <td>1607.880870</td>\n",
       "      <td>1591.840920</td>\n",
       "    </tr>\n",
       "    <tr>\n",
       "      <th>std</th>\n",
       "      <td>942.212073</td>\n",
       "      <td>21.375851</td>\n",
       "    </tr>\n",
       "    <tr>\n",
       "      <th>min</th>\n",
       "      <td>1.000000</td>\n",
       "      <td>1191.000000</td>\n",
       "    </tr>\n",
       "    <tr>\n",
       "      <th>25%</th>\n",
       "      <td>790.000000</td>\n",
       "      <td>1581.000000</td>\n",
       "    </tr>\n",
       "    <tr>\n",
       "      <th>50%</th>\n",
       "      <td>1618.000000</td>\n",
       "      <td>1591.000000</td>\n",
       "    </tr>\n",
       "    <tr>\n",
       "      <th>75%</th>\n",
       "      <td>2427.000000</td>\n",
       "      <td>1601.000000</td>\n",
       "    </tr>\n",
       "    <tr>\n",
       "      <th>max</th>\n",
       "      <td>3241.000000</td>\n",
       "      <td>1705.000000</td>\n",
       "    </tr>\n",
       "  </tbody>\n",
       "</table>\n",
       "</div>"
      ],
      "text/plain": [
       "                key   temperatura\n",
       "count  15907.000000  13006.000000\n",
       "mean    1607.880870   1591.840920\n",
       "std      942.212073     21.375851\n",
       "min        1.000000   1191.000000\n",
       "25%      790.000000   1581.000000\n",
       "50%     1618.000000   1591.000000\n",
       "75%     2427.000000   1601.000000\n",
       "max     3241.000000   1705.000000"
      ]
     },
     "metadata": {},
     "output_type": "display_data"
    },
    {
     "name": "stdout",
     "output_type": "stream",
     "text": [
      "Кол-во дупликатов: 0\n",
      "Кол-во пропусков:\n"
     ]
    },
    {
     "data": {
      "text/plain": [
       "key                 0\n",
       "vremya_zamera       0\n",
       "temperatura      2901\n",
       "dtype: int64"
      ]
     },
     "metadata": {},
     "output_type": "display_data"
    },
    {
     "name": "stdout",
     "output_type": "stream",
     "text": [
      "Соотношение ключей: 4.95\n"
     ]
    }
   ],
   "source": [
    "data_temp = read_data(\"data_temp.csv\")"
   ]
  },
  {
   "cell_type": "markdown",
   "metadata": {},
   "source": [
    "По соотношению ключей видно, что кол-во циклов отличается для каждой партии. \n",
    "Посмотрим распрастраненность:"
   ]
  },
  {
   "cell_type": "code",
   "execution_count": 30,
   "metadata": {
    "scrolled": false
   },
   "outputs": [
    {
     "data": {
      "image/png": "[encoded data removed]",
      "text/plain": [
       "<Figure size 1440x360 with 1 Axes>"
      ]
     },
     "metadata": {
      "needs_background": "light"
     },
     "output_type": "display_data"
    }
   ],
   "source": [
    "plt.figure(figsize = (20,5))\n",
    "plt.hist(data_temp.groupby(\"key\")[\"key\"].count(),bins = 16,color = \"black\")\n",
    "plt.show()"
   ]
  },
  {
   "cell_type": "code",
   "execution_count": 31,
   "metadata": {
    "scrolled": false
   },
   "outputs": [
    {
     "data": {
      "image/png": "[encoded data removed]",
      "text/plain": [
       "<Figure size 1440x720 with 1 Axes>"
      ]
     },
     "metadata": {
      "needs_background": "light"
     },
     "output_type": "display_data"
    }
   ],
   "source": [
    "plt.figure(figsize = (20,10))\n",
    "sns.histplot(data_temp[\"temperatura\"],color = \"black\")\n",
    "plt.axvline(np.nanmean(data_temp[\"temperatura\"]), color = \"red\", linewidth = 2, label = \"Mean\")\n",
    "plt.axvline(np.nanmedian(data_temp[\"temperatura\"]), color = \"yellow\", linewidth = 2, label = \"Median\")\n",
    "plt.legend(loc='best')\n",
    "plt.show()"
   ]
  },
  {
   "cell_type": "code",
   "execution_count": 32,
   "metadata": {
    "scrolled": false
   },
   "outputs": [
    {
     "data": {
      "image/png": "[encoded data removed]",
      "text/plain": [
       "<Figure size 1440x720 with 1 Axes>"
      ]
     },
     "metadata": {
      "needs_background": "light"
     },
     "output_type": "display_data"
    }
   ],
   "source": [
    "plt.figure(figsize = (20,10))\n",
    "plt.scatter(data_temp[\"key\"], data_temp[\"temperatura\"],color = \"black\")\n",
    "plt.show()"
   ]
  },
  {
   "cell_type": "markdown",
   "metadata": {},
   "source": [
    "**Вывод:**"
   ]
  },
  {
   "cell_type": "markdown",
   "metadata": {},
   "source": [
    "- Дубликаты отсутствуют;\n",
    "- Требуется дополнительная проработка данных, для формирования первого и последнего замера температуры;\n",
    "- В данных присутствуют пропуски. Есть пропуски присутствуют в первичном или последнем замере, то вся группа данных требует удаления;\n",
    "- У данных по времени некорректный тип данных;\n",
    "- По информации комбината, данные с температурой меньше 1500 являются выбросами, следственно в данных присутствуют выбросы и требуют удаления;\n",
    "- Промежуточные замеры температуры требуют удаления, так как это прямые указатели на целевой признак."
   ]
  },
  {
   "cell_type": "markdown",
   "metadata": {},
   "source": [
    "**Данные о проволочных материалах (объём)**"
   ]
  },
  {
   "cell_type": "code",
   "execution_count": 33,
   "metadata": {
    "scrolled": false
   },
   "outputs": [
    {
     "name": "stdout",
     "output_type": "stream",
     "text": [
      "<class 'pandas.core.frame.DataFrame'>\n",
      "RangeIndex: 3081 entries, 0 to 3080\n",
      "Data columns (total 10 columns):\n",
      " #   Column  Non-Null Count  Dtype  \n",
      "---  ------  --------------  -----  \n",
      " 0   key     3081 non-null   int64  \n",
      " 1   wire_1  3055 non-null   float64\n",
      " 2   wire_2  1079 non-null   float64\n",
      " 3   wire_3  63 non-null     float64\n",
      " 4   wire_4  14 non-null     float64\n",
      " 5   wire_5  1 non-null      float64\n",
      " 6   wire_6  73 non-null     float64\n",
      " 7   wire_7  11 non-null     float64\n",
      " 8   wire_8  19 non-null     float64\n",
      " 9   wire_9  29 non-null     float64\n",
      "dtypes: float64(9), int64(1)\n",
      "memory usage: 240.8 KB\n"
     ]
    },
    {
     "data": {
      "text/plain": [
       "None"
      ]
     },
     "metadata": {},
     "output_type": "display_data"
    },
    {
     "data": {
      "text/html": [
       "<div>\n",
       "<style scoped>\n",
       "    .dataframe tbody tr th:only-of-type {\n",
       "        vertical-align: middle;\n",
       "    }\n",
       "\n",
       "    .dataframe tbody tr th {\n",
       "        vertical-align: top;\n",
       "    }\n",
       "\n",
       "    .dataframe thead th {\n",
       "        text-align: right;\n",
       "    }\n",
       "</style>\n",
       "<table border=\"1\" class=\"dataframe\">\n",
       "  <thead>\n",
       "    <tr style=\"text-align: right;\">\n",
       "      <th></th>\n",
       "      <th>key</th>\n",
       "      <th>wire_1</th>\n",
       "      <th>wire_2</th>\n",
       "      <th>wire_3</th>\n",
       "      <th>wire_4</th>\n",
       "      <th>wire_5</th>\n",
       "      <th>wire_6</th>\n",
       "      <th>wire_7</th>\n",
       "      <th>wire_8</th>\n",
       "      <th>wire_9</th>\n",
       "    </tr>\n",
       "  </thead>\n",
       "  <tbody>\n",
       "    <tr>\n",
       "      <th>0</th>\n",
       "      <td>1</td>\n",
       "      <td>60.059998</td>\n",
       "      <td>NaN</td>\n",
       "      <td>NaN</td>\n",
       "      <td>NaN</td>\n",
       "      <td>NaN</td>\n",
       "      <td>NaN</td>\n",
       "      <td>NaN</td>\n",
       "      <td>NaN</td>\n",
       "      <td>NaN</td>\n",
       "    </tr>\n",
       "    <tr>\n",
       "      <th>1</th>\n",
       "      <td>2</td>\n",
       "      <td>96.052315</td>\n",
       "      <td>NaN</td>\n",
       "      <td>NaN</td>\n",
       "      <td>NaN</td>\n",
       "      <td>NaN</td>\n",
       "      <td>NaN</td>\n",
       "      <td>NaN</td>\n",
       "      <td>NaN</td>\n",
       "      <td>NaN</td>\n",
       "    </tr>\n",
       "    <tr>\n",
       "      <th>2</th>\n",
       "      <td>3</td>\n",
       "      <td>91.160157</td>\n",
       "      <td>NaN</td>\n",
       "      <td>NaN</td>\n",
       "      <td>NaN</td>\n",
       "      <td>NaN</td>\n",
       "      <td>NaN</td>\n",
       "      <td>NaN</td>\n",
       "      <td>NaN</td>\n",
       "      <td>NaN</td>\n",
       "    </tr>\n",
       "    <tr>\n",
       "      <th>3078</th>\n",
       "      <td>3239</td>\n",
       "      <td>143.357761</td>\n",
       "      <td>NaN</td>\n",
       "      <td>NaN</td>\n",
       "      <td>NaN</td>\n",
       "      <td>NaN</td>\n",
       "      <td>NaN</td>\n",
       "      <td>NaN</td>\n",
       "      <td>NaN</td>\n",
       "      <td>NaN</td>\n",
       "    </tr>\n",
       "    <tr>\n",
       "      <th>3079</th>\n",
       "      <td>3240</td>\n",
       "      <td>34.070400</td>\n",
       "      <td>NaN</td>\n",
       "      <td>NaN</td>\n",
       "      <td>NaN</td>\n",
       "      <td>NaN</td>\n",
       "      <td>NaN</td>\n",
       "      <td>NaN</td>\n",
       "      <td>NaN</td>\n",
       "      <td>NaN</td>\n",
       "    </tr>\n",
       "    <tr>\n",
       "      <th>3080</th>\n",
       "      <td>3241</td>\n",
       "      <td>63.117595</td>\n",
       "      <td>NaN</td>\n",
       "      <td>NaN</td>\n",
       "      <td>NaN</td>\n",
       "      <td>NaN</td>\n",
       "      <td>NaN</td>\n",
       "      <td>NaN</td>\n",
       "      <td>NaN</td>\n",
       "      <td>NaN</td>\n",
       "    </tr>\n",
       "  </tbody>\n",
       "</table>\n",
       "</div>"
      ],
      "text/plain": [
       "       key      wire_1  wire_2  wire_3  wire_4  wire_5  wire_6  wire_7  \\\n",
       "0        1   60.059998     NaN     NaN     NaN     NaN     NaN     NaN   \n",
       "1        2   96.052315     NaN     NaN     NaN     NaN     NaN     NaN   \n",
       "2        3   91.160157     NaN     NaN     NaN     NaN     NaN     NaN   \n",
       "3078  3239  143.357761     NaN     NaN     NaN     NaN     NaN     NaN   \n",
       "3079  3240   34.070400     NaN     NaN     NaN     NaN     NaN     NaN   \n",
       "3080  3241   63.117595     NaN     NaN     NaN     NaN     NaN     NaN   \n",
       "\n",
       "      wire_8  wire_9  \n",
       "0        NaN     NaN  \n",
       "1        NaN     NaN  \n",
       "2        NaN     NaN  \n",
       "3078     NaN     NaN  \n",
       "3079     NaN     NaN  \n",
       "3080     NaN     NaN  "
      ]
     },
     "metadata": {},
     "output_type": "display_data"
    },
    {
     "data": {
      "text/html": [
       "<div>\n",
       "<style scoped>\n",
       "    .dataframe tbody tr th:only-of-type {\n",
       "        vertical-align: middle;\n",
       "    }\n",
       "\n",
       "    .dataframe tbody tr th {\n",
       "        vertical-align: top;\n",
       "    }\n",
       "\n",
       "    .dataframe thead th {\n",
       "        text-align: right;\n",
       "    }\n",
       "</style>\n",
       "<table border=\"1\" class=\"dataframe\">\n",
       "  <thead>\n",
       "    <tr style=\"text-align: right;\">\n",
       "      <th></th>\n",
       "      <th>key</th>\n",
       "      <th>wire_1</th>\n",
       "      <th>wire_2</th>\n",
       "      <th>wire_3</th>\n",
       "      <th>wire_4</th>\n",
       "      <th>wire_5</th>\n",
       "      <th>wire_6</th>\n",
       "      <th>wire_7</th>\n",
       "      <th>wire_8</th>\n",
       "      <th>wire_9</th>\n",
       "    </tr>\n",
       "  </thead>\n",
       "  <tbody>\n",
       "    <tr>\n",
       "      <th>count</th>\n",
       "      <td>3081.000000</td>\n",
       "      <td>3055.000000</td>\n",
       "      <td>1079.000000</td>\n",
       "      <td>63.000000</td>\n",
       "      <td>14.000000</td>\n",
       "      <td>1.000</td>\n",
       "      <td>73.000000</td>\n",
       "      <td>11.000000</td>\n",
       "      <td>19.000000</td>\n",
       "      <td>29.000000</td>\n",
       "    </tr>\n",
       "    <tr>\n",
       "      <th>mean</th>\n",
       "      <td>1623.426485</td>\n",
       "      <td>100.895853</td>\n",
       "      <td>50.577323</td>\n",
       "      <td>189.482681</td>\n",
       "      <td>57.442841</td>\n",
       "      <td>15.132</td>\n",
       "      <td>48.016974</td>\n",
       "      <td>10.039007</td>\n",
       "      <td>53.625193</td>\n",
       "      <td>34.155752</td>\n",
       "    </tr>\n",
       "    <tr>\n",
       "      <th>std</th>\n",
       "      <td>932.996726</td>\n",
       "      <td>42.012518</td>\n",
       "      <td>39.320216</td>\n",
       "      <td>99.513444</td>\n",
       "      <td>28.824667</td>\n",
       "      <td>NaN</td>\n",
       "      <td>33.919845</td>\n",
       "      <td>8.610584</td>\n",
       "      <td>16.881728</td>\n",
       "      <td>19.931616</td>\n",
       "    </tr>\n",
       "    <tr>\n",
       "      <th>min</th>\n",
       "      <td>1.000000</td>\n",
       "      <td>1.918800</td>\n",
       "      <td>0.030160</td>\n",
       "      <td>0.144144</td>\n",
       "      <td>24.148801</td>\n",
       "      <td>15.132</td>\n",
       "      <td>0.034320</td>\n",
       "      <td>0.234208</td>\n",
       "      <td>45.076721</td>\n",
       "      <td>4.622800</td>\n",
       "    </tr>\n",
       "    <tr>\n",
       "      <th>25%</th>\n",
       "      <td>823.000000</td>\n",
       "      <td>72.115684</td>\n",
       "      <td>20.193680</td>\n",
       "      <td>95.135044</td>\n",
       "      <td>40.807002</td>\n",
       "      <td>15.132</td>\n",
       "      <td>25.053600</td>\n",
       "      <td>6.762756</td>\n",
       "      <td>46.094879</td>\n",
       "      <td>22.058401</td>\n",
       "    </tr>\n",
       "    <tr>\n",
       "      <th>50%</th>\n",
       "      <td>1619.000000</td>\n",
       "      <td>100.158234</td>\n",
       "      <td>40.142956</td>\n",
       "      <td>235.194977</td>\n",
       "      <td>45.234282</td>\n",
       "      <td>15.132</td>\n",
       "      <td>42.076324</td>\n",
       "      <td>9.017009</td>\n",
       "      <td>46.279999</td>\n",
       "      <td>30.066399</td>\n",
       "    </tr>\n",
       "    <tr>\n",
       "      <th>75%</th>\n",
       "      <td>2434.000000</td>\n",
       "      <td>126.060483</td>\n",
       "      <td>70.227558</td>\n",
       "      <td>276.252014</td>\n",
       "      <td>76.124619</td>\n",
       "      <td>15.132</td>\n",
       "      <td>64.212723</td>\n",
       "      <td>11.886057</td>\n",
       "      <td>48.089603</td>\n",
       "      <td>43.862003</td>\n",
       "    </tr>\n",
       "    <tr>\n",
       "      <th>max</th>\n",
       "      <td>3241.000000</td>\n",
       "      <td>330.314424</td>\n",
       "      <td>282.780152</td>\n",
       "      <td>385.008668</td>\n",
       "      <td>113.231044</td>\n",
       "      <td>15.132</td>\n",
       "      <td>180.454575</td>\n",
       "      <td>32.847674</td>\n",
       "      <td>102.762401</td>\n",
       "      <td>90.053604</td>\n",
       "    </tr>\n",
       "  </tbody>\n",
       "</table>\n",
       "</div>"
      ],
      "text/plain": [
       "               key       wire_1       wire_2      wire_3      wire_4  wire_5  \\\n",
       "count  3081.000000  3055.000000  1079.000000   63.000000   14.000000   1.000   \n",
       "mean   1623.426485   100.895853    50.577323  189.482681   57.442841  15.132   \n",
       "std     932.996726    42.012518    39.320216   99.513444   28.824667     NaN   \n",
       "min       1.000000     1.918800     0.030160    0.144144   24.148801  15.132   \n",
       "25%     823.000000    72.115684    20.193680   95.135044   40.807002  15.132   \n",
       "50%    1619.000000   100.158234    40.142956  235.194977   45.234282  15.132   \n",
       "75%    2434.000000   126.060483    70.227558  276.252014   76.124619  15.132   \n",
       "max    3241.000000   330.314424   282.780152  385.008668  113.231044  15.132   \n",
       "\n",
       "           wire_6     wire_7      wire_8     wire_9  \n",
       "count   73.000000  11.000000   19.000000  29.000000  \n",
       "mean    48.016974  10.039007   53.625193  34.155752  \n",
       "std     33.919845   8.610584   16.881728  19.931616  \n",
       "min      0.034320   0.234208   45.076721   4.622800  \n",
       "25%     25.053600   6.762756   46.094879  22.058401  \n",
       "50%     42.076324   9.017009   46.279999  30.066399  \n",
       "75%     64.212723  11.886057   48.089603  43.862003  \n",
       "max    180.454575  32.847674  102.762401  90.053604  "
      ]
     },
     "metadata": {},
     "output_type": "display_data"
    },
    {
     "name": "stdout",
     "output_type": "stream",
     "text": [
      "Кол-во дупликатов: 0\n",
      "Кол-во пропусков:\n"
     ]
    },
    {
     "data": {
      "text/plain": [
       "key          0\n",
       "wire_1      26\n",
       "wire_2    2002\n",
       "wire_3    3018\n",
       "wire_4    3067\n",
       "wire_5    3080\n",
       "wire_6    3008\n",
       "wire_7    3070\n",
       "wire_8    3062\n",
       "wire_9    3052\n",
       "dtype: int64"
      ]
     },
     "metadata": {},
     "output_type": "display_data"
    },
    {
     "name": "stdout",
     "output_type": "stream",
     "text": [
      "Соотношение ключей: 1.0\n"
     ]
    }
   ],
   "source": [
    "data_wire = read_data(\"data_wire.csv\")"
   ]
  },
  {
   "cell_type": "code",
   "execution_count": 34,
   "metadata": {},
   "outputs": [
    {
     "data": {
      "image/png": "[encoded data removed]",
      "text/plain": [
       "<Figure size 1440x360 with 1 Axes>"
      ]
     },
     "metadata": {
      "needs_background": "light"
     },
     "output_type": "display_data"
    }
   ],
   "source": [
    "plt.figure(figsize = (20,5))\n",
    "plt.plot(len(data_wire[\"key\"]) - data_wire.isna().sum(),color = \"black\")\n",
    "plt.show()"
   ]
  },
  {
   "cell_type": "markdown",
   "metadata": {},
   "source": [
    "**Вывод:**"
   ]
  },
  {
   "cell_type": "markdown",
   "metadata": {},
   "source": [
    "- Дубликаты отсутствуют;\n",
    "- Больше всего используется проволочный материал 1;\n",
    "- Меньше всего используется проволочный материал 5;\n",
    "- Присутствует большое количество пропусков, но они означают, что данные проволочный материалы не используются."
   ]
  },
  {
   "cell_type": "markdown",
   "metadata": {},
   "source": [
    "**Данные о проволочных материалах (время)**"
   ]
  },
  {
   "cell_type": "code",
   "execution_count": 35,
   "metadata": {
    "scrolled": false
   },
   "outputs": [
    {
     "name": "stdout",
     "output_type": "stream",
     "text": [
      "<class 'pandas.core.frame.DataFrame'>\n",
      "RangeIndex: 3081 entries, 0 to 3080\n",
      "Data columns (total 10 columns):\n",
      " #   Column  Non-Null Count  Dtype \n",
      "---  ------  --------------  ----- \n",
      " 0   key     3081 non-null   int64 \n",
      " 1   wire_1  3055 non-null   object\n",
      " 2   wire_2  1079 non-null   object\n",
      " 3   wire_3  63 non-null     object\n",
      " 4   wire_4  14 non-null     object\n",
      " 5   wire_5  1 non-null      object\n",
      " 6   wire_6  73 non-null     object\n",
      " 7   wire_7  11 non-null     object\n",
      " 8   wire_8  19 non-null     object\n",
      " 9   wire_9  29 non-null     object\n",
      "dtypes: int64(1), object(9)\n",
      "memory usage: 240.8+ KB\n"
     ]
    },
    {
     "data": {
      "text/plain": [
       "None"
      ]
     },
     "metadata": {},
     "output_type": "display_data"
    },
    {
     "data": {
      "text/html": [
       "<div>\n",
       "<style scoped>\n",
       "    .dataframe tbody tr th:only-of-type {\n",
       "        vertical-align: middle;\n",
       "    }\n",
       "\n",
       "    .dataframe tbody tr th {\n",
       "        vertical-align: top;\n",
       "    }\n",
       "\n",
       "    .dataframe thead th {\n",
       "        text-align: right;\n",
       "    }\n",
       "</style>\n",
       "<table border=\"1\" class=\"dataframe\">\n",
       "  <thead>\n",
       "    <tr style=\"text-align: right;\">\n",
       "      <th></th>\n",
       "      <th>key</th>\n",
       "      <th>wire_1</th>\n",
       "      <th>wire_2</th>\n",
       "      <th>wire_3</th>\n",
       "      <th>wire_4</th>\n",
       "      <th>wire_5</th>\n",
       "      <th>wire_6</th>\n",
       "      <th>wire_7</th>\n",
       "      <th>wire_8</th>\n",
       "      <th>wire_9</th>\n",
       "    </tr>\n",
       "  </thead>\n",
       "  <tbody>\n",
       "    <tr>\n",
       "      <th>0</th>\n",
       "      <td>1</td>\n",
       "      <td>2019-05-03 11:11:41</td>\n",
       "      <td>NaN</td>\n",
       "      <td>NaN</td>\n",
       "      <td>NaN</td>\n",
       "      <td>NaN</td>\n",
       "      <td>NaN</td>\n",
       "      <td>NaN</td>\n",
       "      <td>NaN</td>\n",
       "      <td>NaN</td>\n",
       "    </tr>\n",
       "    <tr>\n",
       "      <th>1</th>\n",
       "      <td>2</td>\n",
       "      <td>2019-05-03 11:46:10</td>\n",
       "      <td>NaN</td>\n",
       "      <td>NaN</td>\n",
       "      <td>NaN</td>\n",
       "      <td>NaN</td>\n",
       "      <td>NaN</td>\n",
       "      <td>NaN</td>\n",
       "      <td>NaN</td>\n",
       "      <td>NaN</td>\n",
       "    </tr>\n",
       "    <tr>\n",
       "      <th>2</th>\n",
       "      <td>3</td>\n",
       "      <td>2019-05-03 12:13:47</td>\n",
       "      <td>NaN</td>\n",
       "      <td>NaN</td>\n",
       "      <td>NaN</td>\n",
       "      <td>NaN</td>\n",
       "      <td>NaN</td>\n",
       "      <td>NaN</td>\n",
       "      <td>NaN</td>\n",
       "      <td>NaN</td>\n",
       "    </tr>\n",
       "    <tr>\n",
       "      <th>3078</th>\n",
       "      <td>3239</td>\n",
       "      <td>2019-09-01 01:50:43</td>\n",
       "      <td>NaN</td>\n",
       "      <td>NaN</td>\n",
       "      <td>NaN</td>\n",
       "      <td>NaN</td>\n",
       "      <td>NaN</td>\n",
       "      <td>NaN</td>\n",
       "      <td>NaN</td>\n",
       "      <td>NaN</td>\n",
       "    </tr>\n",
       "    <tr>\n",
       "      <th>3079</th>\n",
       "      <td>3240</td>\n",
       "      <td>2019-09-01 03:12:02</td>\n",
       "      <td>NaN</td>\n",
       "      <td>NaN</td>\n",
       "      <td>NaN</td>\n",
       "      <td>NaN</td>\n",
       "      <td>NaN</td>\n",
       "      <td>NaN</td>\n",
       "      <td>NaN</td>\n",
       "      <td>NaN</td>\n",
       "    </tr>\n",
       "    <tr>\n",
       "      <th>3080</th>\n",
       "      <td>3241</td>\n",
       "      <td>2019-09-01 04:16:01</td>\n",
       "      <td>NaN</td>\n",
       "      <td>NaN</td>\n",
       "      <td>NaN</td>\n",
       "      <td>NaN</td>\n",
       "      <td>NaN</td>\n",
       "      <td>NaN</td>\n",
       "      <td>NaN</td>\n",
       "      <td>NaN</td>\n",
       "    </tr>\n",
       "  </tbody>\n",
       "</table>\n",
       "</div>"
      ],
      "text/plain": [
       "       key               wire_1 wire_2 wire_3 wire_4 wire_5 wire_6 wire_7  \\\n",
       "0        1  2019-05-03 11:11:41    NaN    NaN    NaN    NaN    NaN    NaN   \n",
       "1        2  2019-05-03 11:46:10    NaN    NaN    NaN    NaN    NaN    NaN   \n",
       "2        3  2019-05-03 12:13:47    NaN    NaN    NaN    NaN    NaN    NaN   \n",
       "3078  3239  2019-09-01 01:50:43    NaN    NaN    NaN    NaN    NaN    NaN   \n",
       "3079  3240  2019-09-01 03:12:02    NaN    NaN    NaN    NaN    NaN    NaN   \n",
       "3080  3241  2019-09-01 04:16:01    NaN    NaN    NaN    NaN    NaN    NaN   \n",
       "\n",
       "     wire_8 wire_9  \n",
       "0       NaN    NaN  \n",
       "1       NaN    NaN  \n",
       "2       NaN    NaN  \n",
       "3078    NaN    NaN  \n",
       "3079    NaN    NaN  \n",
       "3080    NaN    NaN  "
      ]
     },
     "metadata": {},
     "output_type": "display_data"
    },
    {
     "data": {
      "text/html": [
       "<div>\n",
       "<style scoped>\n",
       "    .dataframe tbody tr th:only-of-type {\n",
       "        vertical-align: middle;\n",
       "    }\n",
       "\n",
       "    .dataframe tbody tr th {\n",
       "        vertical-align: top;\n",
       "    }\n",
       "\n",
       "    .dataframe thead th {\n",
       "        text-align: right;\n",
       "    }\n",
       "</style>\n",
       "<table border=\"1\" class=\"dataframe\">\n",
       "  <thead>\n",
       "    <tr style=\"text-align: right;\">\n",
       "      <th></th>\n",
       "      <th>key</th>\n",
       "    </tr>\n",
       "  </thead>\n",
       "  <tbody>\n",
       "    <tr>\n",
       "      <th>count</th>\n",
       "      <td>3081.000000</td>\n",
       "    </tr>\n",
       "    <tr>\n",
       "      <th>mean</th>\n",
       "      <td>1623.426485</td>\n",
       "    </tr>\n",
       "    <tr>\n",
       "      <th>std</th>\n",
       "      <td>932.996726</td>\n",
       "    </tr>\n",
       "    <tr>\n",
       "      <th>min</th>\n",
       "      <td>1.000000</td>\n",
       "    </tr>\n",
       "    <tr>\n",
       "      <th>25%</th>\n",
       "      <td>823.000000</td>\n",
       "    </tr>\n",
       "    <tr>\n",
       "      <th>50%</th>\n",
       "      <td>1619.000000</td>\n",
       "    </tr>\n",
       "    <tr>\n",
       "      <th>75%</th>\n",
       "      <td>2434.000000</td>\n",
       "    </tr>\n",
       "    <tr>\n",
       "      <th>max</th>\n",
       "      <td>3241.000000</td>\n",
       "    </tr>\n",
       "  </tbody>\n",
       "</table>\n",
       "</div>"
      ],
      "text/plain": [
       "               key\n",
       "count  3081.000000\n",
       "mean   1623.426485\n",
       "std     932.996726\n",
       "min       1.000000\n",
       "25%     823.000000\n",
       "50%    1619.000000\n",
       "75%    2434.000000\n",
       "max    3241.000000"
      ]
     },
     "metadata": {},
     "output_type": "display_data"
    },
    {
     "name": "stdout",
     "output_type": "stream",
     "text": [
      "Кол-во дупликатов: 0\n",
      "Кол-во пропусков:\n"
     ]
    },
    {
     "data": {
      "text/plain": [
       "key          0\n",
       "wire_1      26\n",
       "wire_2    2002\n",
       "wire_3    3018\n",
       "wire_4    3067\n",
       "wire_5    3080\n",
       "wire_6    3008\n",
       "wire_7    3070\n",
       "wire_8    3062\n",
       "wire_9    3052\n",
       "dtype: int64"
      ]
     },
     "metadata": {},
     "output_type": "display_data"
    },
    {
     "name": "stdout",
     "output_type": "stream",
     "text": [
      "Соотношение ключей: 1.0\n"
     ]
    }
   ],
   "source": [
    "data_wite_time = read_data(\"data_wire_time.csv\")"
   ]
  },
  {
   "cell_type": "markdown",
   "metadata": {},
   "source": [
    "**Вывод:**"
   ]
  },
  {
   "cell_type": "markdown",
   "metadata": {},
   "source": [
    "- Дубликаты отсутствуют;\n",
    "- Данные не имеют корректный тип данных;\n",
    "- Данные аналогичны с \"Данные о проволочных материалах (объём)\" так как имеют прямую взаимосвязь;\n",
    "- Данные не имеют важной информации, поэтому не войдут в таблицу признаков."
   ]
  }
 ],
 "metadata": {
  "ExecuteTimeLog": [
   {
    "duration": 398,
    "start_time": "2023-04-12T11:51:11.311Z"
   },
   {
    "duration": 3,
    "start_time": "2023-04-12T11:51:14.693Z"
   },
   {
    "duration": 75,
    "start_time": "2023-04-12T11:52:21.941Z"
   },
   {
    "duration": 3,
    "start_time": "2023-04-12T11:52:24.331Z"
   },
   {
    "duration": 7,
    "start_time": "2023-04-12T11:52:29.822Z"
   },
   {
    "duration": 10,
    "start_time": "2023-04-12T11:53:15.930Z"
   },
   {
    "duration": 4,
    "start_time": "2023-04-12T11:54:14.736Z"
   },
   {
    "duration": 115,
    "start_time": "2023-04-12T11:54:34.512Z"
   },
   {
    "duration": 4,
    "start_time": "2023-04-12T11:55:20.301Z"
   },
   {
    "duration": 93,
    "start_time": "2023-04-12T11:55:22.358Z"
   },
   {
    "duration": 173,
    "start_time": "2023-04-12T11:59:11.558Z"
   },
   {
    "duration": 126,
    "start_time": "2023-04-12T11:59:11.733Z"
   },
   {
    "duration": 82,
    "start_time": "2023-04-12T11:59:11.862Z"
   },
   {
    "duration": 83,
    "start_time": "2023-04-12T11:59:11.946Z"
   },
   {
    "duration": 98,
    "start_time": "2023-04-12T11:59:12.030Z"
   },
   {
    "duration": 74,
    "start_time": "2023-04-12T11:59:12.129Z"
   },
   {
    "duration": 4,
    "start_time": "2023-04-13T09:54:57.137Z"
   },
   {
    "duration": 426,
    "start_time": "2023-04-13T10:07:45.157Z"
   },
   {
    "duration": 3,
    "start_time": "2023-04-13T10:07:47.023Z"
   },
   {
    "duration": 5,
    "start_time": "2023-04-13T10:07:48.379Z"
   },
   {
    "duration": 157,
    "start_time": "2023-04-13T10:07:51.133Z"
   },
   {
    "duration": 4,
    "start_time": "2023-04-13T10:08:11.715Z"
   },
   {
    "duration": 110,
    "start_time": "2023-04-13T10:08:12.620Z"
   },
   {
    "duration": 6,
    "start_time": "2023-04-13T10:08:41.657Z"
   },
   {
    "duration": 206,
    "start_time": "2023-04-13T10:08:41.666Z"
   },
   {
    "duration": 4,
    "start_time": "2023-04-13T10:09:08.003Z"
   },
   {
    "duration": 136,
    "start_time": "2023-04-13T10:09:08.009Z"
   },
   {
    "duration": 4,
    "start_time": "2023-04-13T10:12:23.269Z"
   },
   {
    "duration": 454,
    "start_time": "2023-04-13T10:19:52.177Z"
   },
   {
    "duration": 4,
    "start_time": "2023-04-13T10:19:52.633Z"
   },
   {
    "duration": 8,
    "start_time": "2023-04-13T10:19:52.638Z"
   },
   {
    "duration": 133,
    "start_time": "2023-04-13T10:19:52.648Z"
   },
   {
    "duration": 165,
    "start_time": "2023-04-13T10:19:52.791Z"
   },
   {
    "duration": 127,
    "start_time": "2023-04-13T10:19:52.958Z"
   },
   {
    "duration": 80,
    "start_time": "2023-04-13T10:19:53.087Z"
   },
   {
    "duration": 93,
    "start_time": "2023-04-13T10:19:53.169Z"
   },
   {
    "duration": 105,
    "start_time": "2023-04-13T10:19:53.264Z"
   },
   {
    "duration": 85,
    "start_time": "2023-04-13T10:19:53.370Z"
   },
   {
    "duration": 420,
    "start_time": "2023-04-13T10:40:53.622Z"
   },
   {
    "duration": 74,
    "start_time": "2023-04-13T10:41:46.384Z"
   },
   {
    "duration": 142,
    "start_time": "2023-04-13T10:41:52.637Z"
   },
   {
    "duration": 126,
    "start_time": "2023-04-13T10:42:12.046Z"
   },
   {
    "duration": 140,
    "start_time": "2023-04-13T10:42:26.970Z"
   },
   {
    "duration": 9,
    "start_time": "2023-04-13T10:42:44.632Z"
   },
   {
    "duration": 13,
    "start_time": "2023-04-13T10:42:56.270Z"
   },
   {
    "duration": 615,
    "start_time": "2023-04-13T10:43:06.403Z"
   },
   {
    "duration": 206,
    "start_time": "2023-04-13T10:43:29.566Z"
   },
   {
    "duration": 182,
    "start_time": "2023-04-13T10:43:48.306Z"
   },
   {
    "duration": 199,
    "start_time": "2023-04-13T10:43:55.023Z"
   },
   {
    "duration": 780,
    "start_time": "2023-04-13T10:44:14.649Z"
   },
   {
    "duration": 195,
    "start_time": "2023-04-13T10:44:28.702Z"
   },
   {
    "duration": 144,
    "start_time": "2023-04-13T10:44:46.295Z"
   },
   {
    "duration": 134,
    "start_time": "2023-04-13T10:45:45.459Z"
   },
   {
    "duration": 131,
    "start_time": "2023-04-13T10:51:46.703Z"
   },
   {
    "duration": 150,
    "start_time": "2023-04-13T10:55:59.748Z"
   },
   {
    "duration": 136,
    "start_time": "2023-04-13T10:56:06.366Z"
   },
   {
    "duration": 8,
    "start_time": "2023-04-13T11:02:01.394Z"
   },
   {
    "duration": 97,
    "start_time": "2023-04-13T11:02:08.225Z"
   },
   {
    "duration": 99,
    "start_time": "2023-04-13T11:02:37.654Z"
   },
   {
    "duration": 191,
    "start_time": "2023-04-13T11:02:38.117Z"
   },
   {
    "duration": 3,
    "start_time": "2023-04-13T11:18:27.854Z"
   },
   {
    "duration": 7,
    "start_time": "2023-04-13T11:18:27.859Z"
   },
   {
    "duration": 22,
    "start_time": "2023-04-13T11:18:27.867Z"
   },
   {
    "duration": 151,
    "start_time": "2023-04-13T11:18:27.891Z"
   },
   {
    "duration": 150,
    "start_time": "2023-04-13T11:18:28.045Z"
   },
   {
    "duration": 120,
    "start_time": "2023-04-13T11:19:02.908Z"
   },
   {
    "duration": 115,
    "start_time": "2023-04-13T11:19:03.342Z"
   },
   {
    "duration": 131,
    "start_time": "2023-04-13T11:19:28.594Z"
   },
   {
    "duration": 126,
    "start_time": "2023-04-13T11:19:33.756Z"
   },
   {
    "duration": 162,
    "start_time": "2023-04-13T11:19:51.223Z"
   },
   {
    "duration": 160,
    "start_time": "2023-04-13T11:23:56.276Z"
   },
   {
    "duration": 135,
    "start_time": "2023-04-13T11:24:07.356Z"
   },
   {
    "duration": 197,
    "start_time": "2023-04-13T11:24:41.095Z"
   },
   {
    "duration": 67,
    "start_time": "2023-04-13T11:25:24.452Z"
   },
   {
    "duration": 186,
    "start_time": "2023-04-13T11:25:38.097Z"
   },
   {
    "duration": 198,
    "start_time": "2023-04-13T11:31:22.553Z"
   },
   {
    "duration": 155,
    "start_time": "2023-04-13T11:32:07.048Z"
   },
   {
    "duration": 172,
    "start_time": "2023-04-13T11:34:03.382Z"
   },
   {
    "duration": 10,
    "start_time": "2023-04-13T11:34:13.879Z"
   },
   {
    "duration": 567,
    "start_time": "2023-04-13T11:34:38.098Z"
   },
   {
    "duration": 279,
    "start_time": "2023-04-13T11:34:51.155Z"
   },
   {
    "duration": 637,
    "start_time": "2023-04-13T11:36:14.084Z"
   },
   {
    "duration": 606,
    "start_time": "2023-04-13T11:36:37.571Z"
   },
   {
    "duration": 85,
    "start_time": "2023-04-13T11:46:49.780Z"
   },
   {
    "duration": 141,
    "start_time": "2023-04-13T11:47:01.108Z"
   },
   {
    "duration": 594,
    "start_time": "2023-04-13T11:47:03.255Z"
   },
   {
    "duration": 1045,
    "start_time": "2023-04-13T11:47:04.013Z"
   },
   {
    "duration": 7,
    "start_time": "2023-04-13T11:47:17.220Z"
   },
   {
    "duration": 12,
    "start_time": "2023-04-13T11:47:50.346Z"
   },
   {
    "duration": 156,
    "start_time": "2023-04-13T11:48:13.228Z"
   },
   {
    "duration": 25,
    "start_time": "2023-04-13T11:48:34.665Z"
   },
   {
    "duration": 64,
    "start_time": "2023-04-13T11:49:11.660Z"
   },
   {
    "duration": 11,
    "start_time": "2023-04-13T11:49:29.464Z"
   },
   {
    "duration": 14,
    "start_time": "2023-04-13T11:49:52.957Z"
   },
   {
    "duration": 13,
    "start_time": "2023-04-13T11:50:12.333Z"
   },
   {
    "duration": 12,
    "start_time": "2023-04-13T11:50:24.468Z"
   },
   {
    "duration": 10,
    "start_time": "2023-04-13T11:50:58.733Z"
   },
   {
    "duration": 1202,
    "start_time": "2023-04-13T11:51:11.585Z"
   },
   {
    "duration": 3,
    "start_time": "2023-04-13T11:51:12.790Z"
   },
   {
    "duration": 8,
    "start_time": "2023-04-13T11:51:12.794Z"
   },
   {
    "duration": 113,
    "start_time": "2023-04-13T11:51:12.803Z"
   },
   {
    "duration": 173,
    "start_time": "2023-04-13T11:51:12.918Z"
   },
   {
    "duration": 135,
    "start_time": "2023-04-13T11:51:13.093Z"
   },
   {
    "duration": 130,
    "start_time": "2023-04-13T11:51:13.230Z"
   },
   {
    "duration": 105,
    "start_time": "2023-04-13T11:51:13.362Z"
   },
   {
    "duration": 207,
    "start_time": "2023-04-13T11:51:13.469Z"
   },
   {
    "duration": 78,
    "start_time": "2023-04-13T11:51:13.678Z"
   },
   {
    "duration": 74,
    "start_time": "2023-04-13T11:51:13.758Z"
   },
   {
    "duration": 313,
    "start_time": "2023-04-13T11:51:13.834Z"
   },
   {
    "duration": 83,
    "start_time": "2023-04-13T11:51:14.149Z"
   },
   {
    "duration": 144,
    "start_time": "2023-04-13T11:51:14.235Z"
   },
   {
    "duration": 689,
    "start_time": "2023-04-13T11:51:14.380Z"
   },
   {
    "duration": 8,
    "start_time": "2023-04-13T11:51:15.071Z"
   },
   {
    "duration": 134,
    "start_time": "2023-04-13T11:51:56.113Z"
   },
   {
    "duration": 20,
    "start_time": "2023-04-13T11:54:05.362Z"
   },
   {
    "duration": 817,
    "start_time": "2023-04-13T11:54:18.114Z"
   },
   {
    "duration": 850,
    "start_time": "2023-04-13T11:54:29.321Z"
   },
   {
    "duration": 0,
    "start_time": "2023-04-13T11:54:30.173Z"
   },
   {
    "duration": 1234,
    "start_time": "2023-04-13T11:54:38.908Z"
   },
   {
    "duration": 2,
    "start_time": "2023-04-13T11:54:40.145Z"
   },
   {
    "duration": 6,
    "start_time": "2023-04-13T11:54:40.149Z"
   },
   {
    "duration": 143,
    "start_time": "2023-04-13T11:54:40.157Z"
   },
   {
    "duration": 216,
    "start_time": "2023-04-13T11:54:40.303Z"
   },
   {
    "duration": 139,
    "start_time": "2023-04-13T11:54:40.522Z"
   },
   {
    "duration": 136,
    "start_time": "2023-04-13T11:54:40.662Z"
   },
   {
    "duration": 121,
    "start_time": "2023-04-13T11:54:40.800Z"
   },
   {
    "duration": 214,
    "start_time": "2023-04-13T11:54:40.923Z"
   },
   {
    "duration": 82,
    "start_time": "2023-04-13T11:54:41.139Z"
   },
   {
    "duration": 82,
    "start_time": "2023-04-13T11:54:41.222Z"
   },
   {
    "duration": 301,
    "start_time": "2023-04-13T11:54:41.305Z"
   },
   {
    "duration": 98,
    "start_time": "2023-04-13T11:54:41.607Z"
   },
   {
    "duration": 140,
    "start_time": "2023-04-13T11:54:41.708Z"
   },
   {
    "duration": 676,
    "start_time": "2023-04-13T11:54:41.850Z"
   },
   {
    "duration": 8,
    "start_time": "2023-04-13T11:54:45.433Z"
   },
   {
    "duration": 113,
    "start_time": "2023-04-13T11:54:46.832Z"
   },
   {
    "duration": 148,
    "start_time": "2023-04-13T12:00:10.977Z"
   },
   {
    "duration": 8,
    "start_time": "2023-04-13T12:00:37.881Z"
   },
   {
    "duration": 9,
    "start_time": "2023-04-13T12:01:29.232Z"
   },
   {
    "duration": 10,
    "start_time": "2023-04-13T12:02:54.785Z"
   },
   {
    "duration": 322,
    "start_time": "2023-04-13T12:03:54.010Z"
   },
   {
    "duration": 4,
    "start_time": "2023-04-13T12:04:10.063Z"
   },
   {
    "duration": 4,
    "start_time": "2023-04-13T12:04:15.963Z"
   },
   {
    "duration": 1270,
    "start_time": "2023-04-13T12:04:32.365Z"
   },
   {
    "duration": 2,
    "start_time": "2023-04-13T12:04:33.638Z"
   },
   {
    "duration": 24,
    "start_time": "2023-04-13T12:04:33.642Z"
   },
   {
    "duration": 140,
    "start_time": "2023-04-13T12:04:33.668Z"
   },
   {
    "duration": 186,
    "start_time": "2023-04-13T12:04:33.811Z"
   },
   {
    "duration": 139,
    "start_time": "2023-04-13T12:04:33.999Z"
   },
   {
    "duration": 140,
    "start_time": "2023-04-13T12:04:34.139Z"
   },
   {
    "duration": 121,
    "start_time": "2023-04-13T12:04:34.281Z"
   },
   {
    "duration": 210,
    "start_time": "2023-04-13T12:04:34.404Z"
   },
   {
    "duration": 90,
    "start_time": "2023-04-13T12:04:34.615Z"
   },
   {
    "duration": 83,
    "start_time": "2023-04-13T12:04:34.708Z"
   },
   {
    "duration": 300,
    "start_time": "2023-04-13T12:04:34.793Z"
   },
   {
    "duration": 70,
    "start_time": "2023-04-13T12:04:35.095Z"
   },
   {
    "duration": 157,
    "start_time": "2023-04-13T12:04:35.167Z"
   },
   {
    "duration": 701,
    "start_time": "2023-04-13T12:04:35.326Z"
   },
   {
    "duration": 4,
    "start_time": "2023-04-13T12:04:36.029Z"
   },
   {
    "duration": 3,
    "start_time": "2023-04-13T12:04:48.062Z"
   },
   {
    "duration": 4,
    "start_time": "2023-04-13T12:04:57.143Z"
   },
   {
    "duration": 6,
    "start_time": "2023-04-13T12:05:14.146Z"
   },
   {
    "duration": 12,
    "start_time": "2023-04-13T12:05:19.742Z"
   },
   {
    "duration": 11,
    "start_time": "2023-04-13T12:05:24.359Z"
   },
   {
    "duration": 3,
    "start_time": "2023-04-13T12:05:29.192Z"
   },
   {
    "duration": 1198,
    "start_time": "2023-04-13T12:13:20.562Z"
   },
   {
    "duration": 3,
    "start_time": "2023-04-13T12:13:21.762Z"
   },
   {
    "duration": 6,
    "start_time": "2023-04-13T12:13:21.766Z"
   },
   {
    "duration": 5,
    "start_time": "2023-04-13T12:13:21.774Z"
   },
   {
    "duration": 114,
    "start_time": "2023-04-13T12:13:21.790Z"
   },
   {
    "duration": 183,
    "start_time": "2023-04-13T12:13:21.907Z"
   },
   {
    "duration": 132,
    "start_time": "2023-04-13T12:13:22.093Z"
   },
   {
    "duration": 135,
    "start_time": "2023-04-13T12:13:22.227Z"
   },
   {
    "duration": 142,
    "start_time": "2023-04-13T12:13:22.364Z"
   },
   {
    "duration": 205,
    "start_time": "2023-04-13T12:13:22.508Z"
   },
   {
    "duration": 84,
    "start_time": "2023-04-13T12:13:22.715Z"
   },
   {
    "duration": 64,
    "start_time": "2023-04-13T12:13:22.800Z"
   },
   {
    "duration": 288,
    "start_time": "2023-04-13T12:13:22.866Z"
   },
   {
    "duration": 83,
    "start_time": "2023-04-13T12:13:23.156Z"
   },
   {
    "duration": 140,
    "start_time": "2023-04-13T12:13:23.241Z"
   },
   {
    "duration": 673,
    "start_time": "2023-04-13T12:13:23.383Z"
   },
   {
    "duration": 83,
    "start_time": "2023-04-13T12:13:33.408Z"
   },
   {
    "duration": 1081,
    "start_time": "2023-04-13T12:16:28.333Z"
   },
   {
    "duration": 2,
    "start_time": "2023-04-13T12:16:29.416Z"
   },
   {
    "duration": 25,
    "start_time": "2023-04-13T12:16:29.422Z"
   },
   {
    "duration": 7,
    "start_time": "2023-04-13T12:16:29.450Z"
   },
   {
    "duration": 116,
    "start_time": "2023-04-13T12:16:29.458Z"
   },
   {
    "duration": 165,
    "start_time": "2023-04-13T12:16:29.576Z"
   },
   {
    "duration": 139,
    "start_time": "2023-04-13T12:16:29.743Z"
   },
   {
    "duration": 138,
    "start_time": "2023-04-13T12:16:29.889Z"
   },
   {
    "duration": 110,
    "start_time": "2023-04-13T12:16:30.029Z"
   },
   {
    "duration": 196,
    "start_time": "2023-04-13T12:16:30.140Z"
   },
   {
    "duration": 82,
    "start_time": "2023-04-13T12:16:30.338Z"
   },
   {
    "duration": 69,
    "start_time": "2023-04-13T12:16:30.422Z"
   },
   {
    "duration": 298,
    "start_time": "2023-04-13T12:16:30.493Z"
   },
   {
    "duration": 86,
    "start_time": "2023-04-13T12:16:30.794Z"
   },
   {
    "duration": 163,
    "start_time": "2023-04-13T12:16:30.882Z"
   },
   {
    "duration": 779,
    "start_time": "2023-04-13T12:16:31.047Z"
   },
   {
    "duration": 205,
    "start_time": "2023-04-13T12:16:48.492Z"
   },
   {
    "duration": 116,
    "start_time": "2023-04-13T12:16:55.977Z"
   },
   {
    "duration": 121,
    "start_time": "2023-04-13T12:17:19.721Z"
   },
   {
    "duration": 118,
    "start_time": "2023-04-13T12:17:36.707Z"
   },
   {
    "duration": 13,
    "start_time": "2023-04-13T12:17:50.948Z"
   },
   {
    "duration": 132,
    "start_time": "2023-04-13T12:18:11.573Z"
   },
   {
    "duration": 10,
    "start_time": "2023-04-13T12:20:33.075Z"
   },
   {
    "duration": 112,
    "start_time": "2023-04-13T12:22:13.786Z"
   },
   {
    "duration": 112,
    "start_time": "2023-04-13T12:22:59.812Z"
   },
   {
    "duration": 143,
    "start_time": "2023-04-13T12:27:54.651Z"
   },
   {
    "duration": 246,
    "start_time": "2023-04-13T12:33:13.450Z"
   },
   {
    "duration": 208,
    "start_time": "2023-04-13T12:33:17.248Z"
   },
   {
    "duration": 816,
    "start_time": "2023-04-13T12:37:34.495Z"
   },
   {
    "duration": 204,
    "start_time": "2023-04-13T12:37:53.101Z"
   },
   {
    "duration": 2,
    "start_time": "2023-04-13T13:11:11.013Z"
   },
   {
    "duration": 14,
    "start_time": "2023-04-13T13:11:11.017Z"
   },
   {
    "duration": 7,
    "start_time": "2023-04-13T13:11:11.032Z"
   },
   {
    "duration": 12,
    "start_time": "2023-04-13T13:11:11.041Z"
   },
   {
    "duration": 129,
    "start_time": "2023-04-13T13:11:11.055Z"
   },
   {
    "duration": 144,
    "start_time": "2023-04-13T13:11:39.214Z"
   },
   {
    "duration": 136,
    "start_time": "2023-04-13T13:11:43.186Z"
   },
   {
    "duration": 257,
    "start_time": "2023-04-13T13:12:01.606Z"
   },
   {
    "duration": 142,
    "start_time": "2023-04-13T13:12:47.166Z"
   },
   {
    "duration": 233,
    "start_time": "2023-04-13T13:13:42.220Z"
   },
   {
    "duration": 49,
    "start_time": "2023-04-13T13:13:55.371Z"
   },
   {
    "duration": 250,
    "start_time": "2023-04-13T13:14:00.760Z"
   },
   {
    "duration": 110,
    "start_time": "2023-04-13T13:15:46.412Z"
   },
   {
    "duration": 262,
    "start_time": "2023-04-13T13:17:06.110Z"
   },
   {
    "duration": 8,
    "start_time": "2023-04-13T13:27:08.571Z"
   },
   {
    "duration": 6,
    "start_time": "2023-04-13T13:27:26.007Z"
   },
   {
    "duration": 4,
    "start_time": "2023-04-13T13:31:26.610Z"
   },
   {
    "duration": 6,
    "start_time": "2023-04-13T13:31:46.118Z"
   },
   {
    "duration": 6,
    "start_time": "2023-04-13T13:32:18.427Z"
   },
   {
    "duration": 5,
    "start_time": "2023-04-13T13:32:24.179Z"
   },
   {
    "duration": 1180,
    "start_time": "2023-04-13T18:41:50.872Z"
   },
   {
    "duration": 2,
    "start_time": "2023-04-13T18:41:53.573Z"
   },
   {
    "duration": 2,
    "start_time": "2023-04-13T18:41:54.567Z"
   },
   {
    "duration": 4,
    "start_time": "2023-04-13T18:41:56.440Z"
   },
   {
    "duration": 374,
    "start_time": "2023-04-13T18:41:58.408Z"
   },
   {
    "duration": 1759,
    "start_time": "2023-04-14T10:25:03.208Z"
   },
   {
    "duration": 4,
    "start_time": "2023-04-14T10:27:39.020Z"
   },
   {
    "duration": 9,
    "start_time": "2023-04-14T10:28:01.427Z"
   },
   {
    "duration": 10,
    "start_time": "2023-04-14T10:28:05.084Z"
   },
   {
    "duration": 5,
    "start_time": "2023-04-14T10:28:12.492Z"
   },
   {
    "duration": 14,
    "start_time": "2023-04-14T10:28:14.287Z"
   },
   {
    "duration": 2,
    "start_time": "2023-04-14T10:28:21.060Z"
   },
   {
    "duration": 3,
    "start_time": "2023-04-14T10:28:21.806Z"
   },
   {
    "duration": 293,
    "start_time": "2023-04-14T10:28:25.077Z"
   },
   {
    "duration": 3,
    "start_time": "2023-04-14T10:28:32.073Z"
   },
   {
    "duration": 4,
    "start_time": "2023-04-14T10:28:32.794Z"
   },
   {
    "duration": 16,
    "start_time": "2023-04-14T10:29:04.060Z"
   },
   {
    "duration": 11,
    "start_time": "2023-04-14T10:34:42.438Z"
   },
   {
    "duration": 155,
    "start_time": "2023-04-14T10:35:25.142Z"
   },
   {
    "duration": 7,
    "start_time": "2023-04-14T10:35:54.884Z"
   },
   {
    "duration": 6,
    "start_time": "2023-04-14T10:36:05.110Z"
   },
   {
    "duration": 3,
    "start_time": "2023-04-14T10:37:34.708Z"
   },
   {
    "duration": 7,
    "start_time": "2023-04-14T10:37:37.671Z"
   },
   {
    "duration": 3,
    "start_time": "2023-04-14T10:37:44.304Z"
   },
   {
    "duration": 26,
    "start_time": "2023-04-14T10:37:44.309Z"
   },
   {
    "duration": 34,
    "start_time": "2023-04-14T10:37:47.335Z"
   },
   {
    "duration": 4,
    "start_time": "2023-04-14T10:39:16.619Z"
   },
   {
    "duration": 4,
    "start_time": "2023-04-14T10:41:03.979Z"
   },
   {
    "duration": 4,
    "start_time": "2023-04-14T10:41:07.620Z"
   },
   {
    "duration": 25,
    "start_time": "2023-04-14T10:41:11.749Z"
   },
   {
    "duration": 3,
    "start_time": "2023-04-14T10:42:16.444Z"
   },
   {
    "duration": 15,
    "start_time": "2023-04-14T10:42:18.288Z"
   },
   {
    "duration": 4,
    "start_time": "2023-04-14T10:42:25.174Z"
   },
   {
    "duration": 4,
    "start_time": "2023-04-14T10:42:26.926Z"
   },
   {
    "duration": 4,
    "start_time": "2023-04-14T10:42:47.723Z"
   },
   {
    "duration": 4,
    "start_time": "2023-04-14T10:42:49.699Z"
   },
   {
    "duration": 3,
    "start_time": "2023-04-14T10:43:27.896Z"
   },
   {
    "duration": 17,
    "start_time": "2023-04-14T10:43:31.027Z"
   },
   {
    "duration": 3,
    "start_time": "2023-04-14T10:46:11.699Z"
   },
   {
    "duration": 8,
    "start_time": "2023-04-14T10:46:18.445Z"
   },
   {
    "duration": 5,
    "start_time": "2023-04-14T10:46:51.203Z"
   },
   {
    "duration": 9,
    "start_time": "2023-04-14T10:47:07.263Z"
   },
   {
    "duration": 4,
    "start_time": "2023-04-14T10:47:44.524Z"
   },
   {
    "duration": 4,
    "start_time": "2023-04-14T10:47:46.639Z"
   },
   {
    "duration": 5,
    "start_time": "2023-04-14T10:49:25.169Z"
   },
   {
    "duration": 15,
    "start_time": "2023-04-14T10:49:27.116Z"
   },
   {
    "duration": 4,
    "start_time": "2023-04-14T10:49:41.996Z"
   },
   {
    "duration": 15,
    "start_time": "2023-04-14T10:49:44.914Z"
   },
   {
    "duration": 4,
    "start_time": "2023-04-14T10:50:15.373Z"
   },
   {
    "duration": 4,
    "start_time": "2023-04-14T10:50:22.284Z"
   },
   {
    "duration": 5,
    "start_time": "2023-04-14T10:52:00.866Z"
   },
   {
    "duration": 5,
    "start_time": "2023-04-14T10:52:06.382Z"
   },
   {
    "duration": 85,
    "start_time": "2023-04-14T10:52:49.769Z"
   },
   {
    "duration": 180,
    "start_time": "2023-04-14T10:53:18.992Z"
   },
   {
    "duration": 91,
    "start_time": "2023-04-14T10:53:29.781Z"
   },
   {
    "duration": 3,
    "start_time": "2023-04-14T10:53:40.325Z"
   },
   {
    "duration": 3,
    "start_time": "2023-04-14T10:53:49.701Z"
   },
   {
    "duration": 1375,
    "start_time": "2023-04-14T10:55:56.317Z"
   },
   {
    "duration": 3,
    "start_time": "2023-04-14T10:55:57.695Z"
   },
   {
    "duration": 16,
    "start_time": "2023-04-14T10:55:57.700Z"
   },
   {
    "duration": 33,
    "start_time": "2023-04-14T10:55:57.718Z"
   },
   {
    "duration": 40,
    "start_time": "2023-04-14T10:55:57.754Z"
   },
   {
    "duration": 48,
    "start_time": "2023-04-14T10:55:57.796Z"
   },
   {
    "duration": 42,
    "start_time": "2023-04-14T10:55:57.846Z"
   },
   {
    "duration": 168,
    "start_time": "2023-04-14T10:55:57.890Z"
   },
   {
    "duration": 5,
    "start_time": "2023-04-14T11:02:08.368Z"
   },
   {
    "duration": 136,
    "start_time": "2023-04-14T11:02:11.980Z"
   },
   {
    "duration": 4,
    "start_time": "2023-04-14T11:05:26.246Z"
   },
   {
    "duration": 227,
    "start_time": "2023-04-14T11:05:50.182Z"
   },
   {
    "duration": 7,
    "start_time": "2023-04-14T11:12:20.685Z"
   },
   {
    "duration": 111,
    "start_time": "2023-04-14T11:12:34.101Z"
   },
   {
    "duration": 2249,
    "start_time": "2023-04-14T11:13:06.212Z"
   },
   {
    "duration": 2592,
    "start_time": "2023-04-14T11:14:00.481Z"
   },
   {
    "duration": 344,
    "start_time": "2023-04-14T11:14:19.650Z"
   },
   {
    "duration": 452,
    "start_time": "2023-04-14T11:14:57.605Z"
   },
   {
    "duration": 446,
    "start_time": "2023-04-14T11:15:29.760Z"
   },
   {
    "duration": 657,
    "start_time": "2023-04-14T11:16:16.107Z"
   },
   {
    "duration": 364,
    "start_time": "2023-04-14T11:20:03.785Z"
   },
   {
    "duration": 449,
    "start_time": "2023-04-14T11:21:10.310Z"
   },
   {
    "duration": 217,
    "start_time": "2023-04-14T11:24:14.867Z"
   },
   {
    "duration": 2984,
    "start_time": "2023-04-14T11:24:42.185Z"
   },
   {
    "duration": 1128,
    "start_time": "2023-04-14T11:25:05.971Z"
   },
   {
    "duration": 426,
    "start_time": "2023-04-14T11:26:18.208Z"
   },
   {
    "duration": 928,
    "start_time": "2023-04-14T11:27:11.084Z"
   },
   {
    "duration": 7,
    "start_time": "2023-04-14T11:27:42.399Z"
   },
   {
    "duration": 839,
    "start_time": "2023-04-14T11:28:41.450Z"
   },
   {
    "duration": 669,
    "start_time": "2023-04-14T11:30:34.118Z"
   },
   {
    "duration": 722,
    "start_time": "2023-04-14T11:32:16.992Z"
   },
   {
    "duration": 1097,
    "start_time": "2023-04-14T11:35:34.596Z"
   },
   {
    "duration": 501,
    "start_time": "2023-04-14T11:36:32.652Z"
   },
   {
    "duration": 1301,
    "start_time": "2023-04-14T12:02:14.211Z"
   },
   {
    "duration": 3,
    "start_time": "2023-04-14T12:02:15.515Z"
   },
   {
    "duration": 15,
    "start_time": "2023-04-14T12:02:15.519Z"
   },
   {
    "duration": 29,
    "start_time": "2023-04-14T12:02:15.537Z"
   },
   {
    "duration": 24,
    "start_time": "2023-04-14T12:02:15.569Z"
   },
   {
    "duration": 13,
    "start_time": "2023-04-14T12:02:15.595Z"
   },
   {
    "duration": 19,
    "start_time": "2023-04-14T12:02:15.611Z"
   },
   {
    "duration": 167,
    "start_time": "2023-04-14T12:02:15.632Z"
   },
   {
    "duration": 198,
    "start_time": "2023-04-14T12:02:15.801Z"
   },
   {
    "duration": 488,
    "start_time": "2023-04-14T12:02:16.001Z"
   },
   {
    "duration": 136,
    "start_time": "2023-04-14T12:02:26.900Z"
   },
   {
    "duration": 1877,
    "start_time": "2023-04-14T12:02:27.041Z"
   },
   {
    "duration": 0,
    "start_time": "2023-04-14T12:02:28.920Z"
   },
   {
    "duration": 0,
    "start_time": "2023-04-14T12:02:28.921Z"
   },
   {
    "duration": 0,
    "start_time": "2023-04-14T12:02:28.923Z"
   },
   {
    "duration": 0,
    "start_time": "2023-04-14T12:02:28.924Z"
   },
   {
    "duration": 0,
    "start_time": "2023-04-14T12:02:28.925Z"
   },
   {
    "duration": 0,
    "start_time": "2023-04-14T12:02:28.926Z"
   },
   {
    "duration": 0,
    "start_time": "2023-04-14T12:02:28.927Z"
   },
   {
    "duration": 95,
    "start_time": "2023-04-14T12:02:29.002Z"
   },
   {
    "duration": 461,
    "start_time": "2023-04-14T12:02:29.100Z"
   },
   {
    "duration": 244,
    "start_time": "2023-04-14T12:02:29.563Z"
   },
   {
    "duration": 6,
    "start_time": "2023-04-14T12:02:29.809Z"
   },
   {
    "duration": 78,
    "start_time": "2023-04-14T12:02:29.817Z"
   },
   {
    "duration": 192,
    "start_time": "2023-04-14T12:02:29.897Z"
   },
   {
    "duration": 1003,
    "start_time": "2023-04-14T12:02:30.091Z"
   },
   {
    "duration": 235,
    "start_time": "2023-04-14T12:02:31.096Z"
   },
   {
    "duration": 174,
    "start_time": "2023-04-14T12:02:31.333Z"
   },
   {
    "duration": 194,
    "start_time": "2023-04-14T12:02:31.509Z"
   },
   {
    "duration": 117,
    "start_time": "2023-04-14T12:02:31.705Z"
   },
   {
    "duration": 7,
    "start_time": "2023-04-14T12:05:14.370Z"
   },
   {
    "duration": 36,
    "start_time": "2023-04-14T12:06:25.643Z"
   },
   {
    "duration": 18,
    "start_time": "2023-04-14T12:06:51.648Z"
   },
   {
    "duration": 1156,
    "start_time": "2023-04-14T12:07:13.614Z"
   },
   {
    "duration": 1363,
    "start_time": "2023-04-14T12:08:03.555Z"
   },
   {
    "duration": 4,
    "start_time": "2023-04-14T12:08:04.921Z"
   },
   {
    "duration": 23,
    "start_time": "2023-04-14T12:08:04.926Z"
   },
   {
    "duration": 20,
    "start_time": "2023-04-14T12:08:04.951Z"
   },
   {
    "duration": 32,
    "start_time": "2023-04-14T12:08:04.974Z"
   },
   {
    "duration": 12,
    "start_time": "2023-04-14T12:08:05.008Z"
   },
   {
    "duration": 10,
    "start_time": "2023-04-14T12:08:05.023Z"
   },
   {
    "duration": 151,
    "start_time": "2023-04-14T12:08:05.035Z"
   },
   {
    "duration": 215,
    "start_time": "2023-04-14T12:08:05.189Z"
   },
   {
    "duration": 515,
    "start_time": "2023-04-14T12:08:05.406Z"
   },
   {
    "duration": 170,
    "start_time": "2023-04-14T12:08:05.924Z"
   },
   {
    "duration": 6,
    "start_time": "2023-04-14T12:08:06.096Z"
   },
   {
    "duration": 459,
    "start_time": "2023-04-14T12:08:06.105Z"
   },
   {
    "duration": 156,
    "start_time": "2023-04-14T12:08:06.569Z"
   },
   {
    "duration": 16,
    "start_time": "2023-04-14T12:08:06.727Z"
   },
   {
    "duration": 22,
    "start_time": "2023-04-14T12:08:06.746Z"
   },
   {
    "duration": 192,
    "start_time": "2023-04-14T12:08:06.770Z"
   },
   {
    "duration": 234,
    "start_time": "2023-04-14T12:08:06.964Z"
   },
   {
    "duration": 141,
    "start_time": "2023-04-14T12:08:07.220Z"
   },
   {
    "duration": 80,
    "start_time": "2023-04-14T12:08:07.363Z"
   },
   {
    "duration": 508,
    "start_time": "2023-04-14T12:08:07.445Z"
   },
   {
    "duration": 346,
    "start_time": "2023-04-14T12:08:07.954Z"
   },
   {
    "duration": 5,
    "start_time": "2023-04-14T12:08:08.302Z"
   },
   {
    "duration": 100,
    "start_time": "2023-04-14T12:08:08.309Z"
   },
   {
    "duration": 164,
    "start_time": "2023-04-14T12:08:08.411Z"
   },
   {
    "duration": 852,
    "start_time": "2023-04-14T12:08:08.577Z"
   },
   {
    "duration": 235,
    "start_time": "2023-04-14T12:08:09.432Z"
   },
   {
    "duration": 109,
    "start_time": "2023-04-14T12:08:09.670Z"
   },
   {
    "duration": 182,
    "start_time": "2023-04-14T12:08:09.781Z"
   },
   {
    "duration": 63,
    "start_time": "2023-04-14T12:08:09.966Z"
   },
   {
    "duration": 322,
    "start_time": "2023-04-14T12:53:39.843Z"
   },
   {
    "duration": 339,
    "start_time": "2023-04-14T12:53:54.610Z"
   },
   {
    "duration": 471,
    "start_time": "2023-04-14T12:54:03.974Z"
   },
   {
    "duration": 84,
    "start_time": "2023-04-14T13:47:14.532Z"
   },
   {
    "duration": 4,
    "start_time": "2023-04-14T13:47:21.420Z"
   },
   {
    "duration": 8,
    "start_time": "2023-04-14T13:47:46.807Z"
   },
   {
    "duration": 8,
    "start_time": "2023-04-14T13:48:05.965Z"
   },
   {
    "duration": 7,
    "start_time": "2023-04-14T13:48:53.154Z"
   },
   {
    "duration": 4,
    "start_time": "2023-04-14T13:52:32.106Z"
   },
   {
    "duration": 9,
    "start_time": "2023-04-14T13:52:45.362Z"
   },
   {
    "duration": 5,
    "start_time": "2023-04-14T14:01:21.027Z"
   },
   {
    "duration": 109,
    "start_time": "2023-04-14T14:01:50.243Z"
   },
   {
    "duration": 18,
    "start_time": "2023-04-14T14:01:56.388Z"
   },
   {
    "duration": 6,
    "start_time": "2023-04-14T14:02:35.788Z"
   },
   {
    "duration": 10,
    "start_time": "2023-04-14T14:02:43.635Z"
   },
   {
    "duration": 7,
    "start_time": "2023-04-14T14:03:05.798Z"
   },
   {
    "duration": 5,
    "start_time": "2023-04-14T14:05:15.127Z"
   },
   {
    "duration": 7,
    "start_time": "2023-04-14T14:05:29.890Z"
   },
   {
    "duration": 4,
    "start_time": "2023-04-14T14:05:50.040Z"
   },
   {
    "duration": 7,
    "start_time": "2023-04-14T14:06:03.134Z"
   },
   {
    "duration": 86,
    "start_time": "2023-04-14T14:06:50.163Z"
   },
   {
    "duration": 269,
    "start_time": "2023-04-14T14:06:55.207Z"
   },
   {
    "duration": 6,
    "start_time": "2023-04-14T14:07:03.151Z"
   },
   {
    "duration": 190,
    "start_time": "2023-04-14T14:08:28.938Z"
   },
   {
    "duration": 186,
    "start_time": "2023-04-14T14:08:50.802Z"
   },
   {
    "duration": 27,
    "start_time": "2023-04-14T14:09:54.536Z"
   },
   {
    "duration": 22,
    "start_time": "2023-04-14T14:10:04.339Z"
   },
   {
    "duration": 6,
    "start_time": "2023-04-14T14:10:58.736Z"
   },
   {
    "duration": 6,
    "start_time": "2023-04-14T14:11:15.174Z"
   },
   {
    "duration": 6,
    "start_time": "2023-04-14T14:12:27.800Z"
   },
   {
    "duration": 6,
    "start_time": "2023-04-14T14:22:37.658Z"
   },
   {
    "duration": 7,
    "start_time": "2023-04-14T14:22:49.621Z"
   },
   {
    "duration": 6,
    "start_time": "2023-04-14T14:26:32.046Z"
   },
   {
    "duration": 429,
    "start_time": "2023-04-14T14:27:02.515Z"
   },
   {
    "duration": 431,
    "start_time": "2023-04-14T14:27:28.406Z"
   },
   {
    "duration": 6,
    "start_time": "2023-04-14T14:35:55.268Z"
   },
   {
    "duration": 122,
    "start_time": "2023-04-14T14:36:01.926Z"
   },
   {
    "duration": 1580,
    "start_time": "2023-04-14T14:41:49.961Z"
   },
   {
    "duration": 3,
    "start_time": "2023-04-14T14:41:51.544Z"
   },
   {
    "duration": 36,
    "start_time": "2023-04-14T14:41:51.549Z"
   },
   {
    "duration": 17,
    "start_time": "2023-04-14T14:41:51.587Z"
   },
   {
    "duration": 23,
    "start_time": "2023-04-14T14:41:51.606Z"
   },
   {
    "duration": 28,
    "start_time": "2023-04-14T14:41:51.631Z"
   },
   {
    "duration": 9,
    "start_time": "2023-04-14T14:41:51.661Z"
   },
   {
    "duration": 14,
    "start_time": "2023-04-14T14:41:51.672Z"
   },
   {
    "duration": 23,
    "start_time": "2023-04-14T14:41:51.688Z"
   },
   {
    "duration": 177,
    "start_time": "2023-04-14T14:41:51.716Z"
   },
   {
    "duration": 391,
    "start_time": "2023-04-14T14:41:51.895Z"
   },
   {
    "duration": 494,
    "start_time": "2023-04-14T14:41:52.289Z"
   },
   {
    "duration": 158,
    "start_time": "2023-04-14T14:41:52.786Z"
   },
   {
    "duration": 10,
    "start_time": "2023-04-14T14:41:52.946Z"
   },
   {
    "duration": 15,
    "start_time": "2023-04-14T14:41:52.958Z"
   },
   {
    "duration": 465,
    "start_time": "2023-04-14T14:41:52.976Z"
   },
   {
    "duration": 145,
    "start_time": "2023-04-14T14:41:53.443Z"
   },
   {
    "duration": 9,
    "start_time": "2023-04-14T14:41:53.590Z"
   },
   {
    "duration": 10,
    "start_time": "2023-04-14T14:41:53.601Z"
   },
   {
    "duration": 39,
    "start_time": "2023-04-14T14:41:53.613Z"
   },
   {
    "duration": 186,
    "start_time": "2023-04-14T14:41:53.655Z"
   },
   {
    "duration": 240,
    "start_time": "2023-04-14T14:41:53.844Z"
   },
   {
    "duration": 87,
    "start_time": "2023-04-14T14:41:54.087Z"
   },
   {
    "duration": 79,
    "start_time": "2023-04-14T14:41:54.176Z"
   },
   {
    "duration": 6,
    "start_time": "2023-04-14T14:41:54.257Z"
   },
   {
    "duration": 499,
    "start_time": "2023-04-14T14:41:54.265Z"
   },
   {
    "duration": 354,
    "start_time": "2023-04-14T14:41:54.766Z"
   },
   {
    "duration": 16,
    "start_time": "2023-04-14T14:41:55.125Z"
   },
   {
    "duration": 101,
    "start_time": "2023-04-14T14:41:55.143Z"
   },
   {
    "duration": 182,
    "start_time": "2023-04-14T14:41:55.246Z"
   },
   {
    "duration": 932,
    "start_time": "2023-04-14T14:41:55.441Z"
   },
   {
    "duration": 262,
    "start_time": "2023-04-14T14:41:56.376Z"
   },
   {
    "duration": 130,
    "start_time": "2023-04-14T14:41:56.642Z"
   },
   {
    "duration": 185,
    "start_time": "2023-04-14T14:41:56.774Z"
   },
   {
    "duration": 63,
    "start_time": "2023-04-14T14:41:56.961Z"
   }
  ],
  "kernelspec": {
   "display_name": "Python 3 (ipykernel)",
   "language": "python",
   "name": "python3"
  },
  "language_info": {
   "codemirror_mode": {
    "name": "ipython",
    "version": 3
   },
   "file_extension": ".py",
   "mimetype": "text/x-python",
   "name": "python",
   "nbconvert_exporter": "python",
   "pygments_lexer": "ipython3",
   "version": "3.10.9"
  },
  "toc": {
   "base_numbering": 1,
   "nav_menu": {},
   "number_sections": true,
   "sideBar": true,
   "skip_h1_title": true,
   "title_cell": "Table of Contents",
   "title_sidebar": "Contents",
   "toc_cell": false,
   "toc_position": {},
   "toc_section_display": true,
   "toc_window_display": false
  }
 },
 "nbformat": 4,
 "nbformat_minor": 2
}
