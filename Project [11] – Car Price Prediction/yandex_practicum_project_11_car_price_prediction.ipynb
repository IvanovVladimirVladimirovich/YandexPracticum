{
 "cells": [
  {
   "cell_type": "markdown",
   "metadata": {},
   "source": [
    "# Определение стоимости автомобилей"
   ]
  },
  {
   "cell_type": "markdown",
   "metadata": {},
   "source": [
    "Сервис по продаже автомобилей с пробегом «Не бит, не крашен» разрабатывает приложение для привлечения новых клиентов. В нём можно быстро узнать рыночную стоимость своего автомобиля. В вашем распоряжении исторические данные: технические характеристики, комплектации и цены автомобилей. Вам нужно построить модель для определения стоимости. \n",
    "\n",
    "Заказчику важны:\n",
    "\n",
    "- качество предсказания;\n",
    "- скорость предсказания;\n",
    "- время обучения."
   ]
  },
  {
   "cell_type": "markdown",
   "metadata": {},
   "source": [
    "## Подготовка данных"
   ]
  },
  {
   "cell_type": "code",
   "execution_count": 1,
   "metadata": {},
   "outputs": [],
   "source": [
    "import numpy as np\n",
    "import pandas as pd\n",
    "import matplotlib.pyplot as plt\n",
    "\n",
    "from catboost import CatBoostClassifier, CatBoostRegressor\n",
    "\n",
    "from lightgbm import LGBMRegressor\n",
    "\n",
    "from sklearn.linear_model import LinearRegression\n",
    "from sklearn.model_selection import train_test_split\n",
    "from sklearn.preprocessing import OneHotEncoder\n",
    "from sklearn.preprocessing import OrdinalEncoder\n",
    "from sklearn.tree import DecisionTreeRegressor\n",
    "from sklearn.ensemble import RandomForestRegressor\n",
    "from sklearn.dummy import DummyRegressor\n",
    "\n",
    "from time import time"
   ]
  },
  {
   "cell_type": "code",
   "execution_count": 2,
   "metadata": {},
   "outputs": [],
   "source": [
    "RANDOM_STATE = 12345"
   ]
  },
  {
   "cell_type": "code",
   "execution_count": 3,
   "metadata": {},
   "outputs": [],
   "source": [
    "import warnings\n",
    "warnings.filterwarnings(\"ignore\")"
   ]
  },
  {
   "cell_type": "code",
   "execution_count": 4,
   "metadata": {},
   "outputs": [],
   "source": [
    "data = pd.read_csv('/datasets/autos.csv')"
   ]
  },
  {
   "cell_type": "code",
   "execution_count": 5,
   "metadata": {},
   "outputs": [
    {
     "data": {
      "text/html": [
       "<div>\n",
       "<style scoped>\n",
       "    .dataframe tbody tr th:only-of-type {\n",
       "        vertical-align: middle;\n",
       "    }\n",
       "\n",
       "    .dataframe tbody tr th {\n",
       "        vertical-align: top;\n",
       "    }\n",
       "\n",
       "    .dataframe thead th {\n",
       "        text-align: right;\n",
       "    }\n",
       "</style>\n",
       "<table border=\"1\" class=\"dataframe\">\n",
       "  <thead>\n",
       "    <tr style=\"text-align: right;\">\n",
       "      <th></th>\n",
       "      <th>DateCrawled</th>\n",
       "      <th>Price</th>\n",
       "      <th>VehicleType</th>\n",
       "      <th>RegistrationYear</th>\n",
       "      <th>Gearbox</th>\n",
       "      <th>Power</th>\n",
       "      <th>Model</th>\n",
       "      <th>Kilometer</th>\n",
       "      <th>RegistrationMonth</th>\n",
       "      <th>FuelType</th>\n",
       "      <th>Brand</th>\n",
       "      <th>Repaired</th>\n",
       "      <th>DateCreated</th>\n",
       "      <th>NumberOfPictures</th>\n",
       "      <th>PostalCode</th>\n",
       "      <th>LastSeen</th>\n",
       "    </tr>\n",
       "  </thead>\n",
       "  <tbody>\n",
       "    <tr>\n",
       "      <th>0</th>\n",
       "      <td>2016-03-24 11:52:17</td>\n",
       "      <td>480</td>\n",
       "      <td>NaN</td>\n",
       "      <td>1993</td>\n",
       "      <td>manual</td>\n",
       "      <td>0</td>\n",
       "      <td>golf</td>\n",
       "      <td>150000</td>\n",
       "      <td>0</td>\n",
       "      <td>petrol</td>\n",
       "      <td>volkswagen</td>\n",
       "      <td>NaN</td>\n",
       "      <td>2016-03-24 00:00:00</td>\n",
       "      <td>0</td>\n",
       "      <td>70435</td>\n",
       "      <td>2016-04-07 03:16:57</td>\n",
       "    </tr>\n",
       "    <tr>\n",
       "      <th>1</th>\n",
       "      <td>2016-03-24 10:58:45</td>\n",
       "      <td>18300</td>\n",
       "      <td>coupe</td>\n",
       "      <td>2011</td>\n",
       "      <td>manual</td>\n",
       "      <td>190</td>\n",
       "      <td>NaN</td>\n",
       "      <td>125000</td>\n",
       "      <td>5</td>\n",
       "      <td>gasoline</td>\n",
       "      <td>audi</td>\n",
       "      <td>yes</td>\n",
       "      <td>2016-03-24 00:00:00</td>\n",
       "      <td>0</td>\n",
       "      <td>66954</td>\n",
       "      <td>2016-04-07 01:46:50</td>\n",
       "    </tr>\n",
       "    <tr>\n",
       "      <th>2</th>\n",
       "      <td>2016-03-14 12:52:21</td>\n",
       "      <td>9800</td>\n",
       "      <td>suv</td>\n",
       "      <td>2004</td>\n",
       "      <td>auto</td>\n",
       "      <td>163</td>\n",
       "      <td>grand</td>\n",
       "      <td>125000</td>\n",
       "      <td>8</td>\n",
       "      <td>gasoline</td>\n",
       "      <td>jeep</td>\n",
       "      <td>NaN</td>\n",
       "      <td>2016-03-14 00:00:00</td>\n",
       "      <td>0</td>\n",
       "      <td>90480</td>\n",
       "      <td>2016-04-05 12:47:46</td>\n",
       "    </tr>\n",
       "  </tbody>\n",
       "</table>\n",
       "</div>"
      ],
      "text/plain": [
       "           DateCrawled  Price VehicleType  RegistrationYear Gearbox  Power  \\\n",
       "0  2016-03-24 11:52:17    480         NaN              1993  manual      0   \n",
       "1  2016-03-24 10:58:45  18300       coupe              2011  manual    190   \n",
       "2  2016-03-14 12:52:21   9800         suv              2004    auto    163   \n",
       "\n",
       "   Model  Kilometer  RegistrationMonth  FuelType       Brand Repaired  \\\n",
       "0   golf     150000                  0    petrol  volkswagen      NaN   \n",
       "1    NaN     125000                  5  gasoline        audi      yes   \n",
       "2  grand     125000                  8  gasoline        jeep      NaN   \n",
       "\n",
       "           DateCreated  NumberOfPictures  PostalCode             LastSeen  \n",
       "0  2016-03-24 00:00:00                 0       70435  2016-04-07 03:16:57  \n",
       "1  2016-03-24 00:00:00                 0       66954  2016-04-07 01:46:50  \n",
       "2  2016-03-14 00:00:00                 0       90480  2016-04-05 12:47:46  "
      ]
     },
     "metadata": {},
     "output_type": "display_data"
    }
   ],
   "source": [
    "display(data.head(3))"
   ]
  },
  {
   "cell_type": "code",
   "execution_count": 6,
   "metadata": {},
   "outputs": [
    {
     "data": {
      "text/html": [
       "<div>\n",
       "<style scoped>\n",
       "    .dataframe tbody tr th:only-of-type {\n",
       "        vertical-align: middle;\n",
       "    }\n",
       "\n",
       "    .dataframe tbody tr th {\n",
       "        vertical-align: top;\n",
       "    }\n",
       "\n",
       "    .dataframe thead th {\n",
       "        text-align: right;\n",
       "    }\n",
       "</style>\n",
       "<table border=\"1\" class=\"dataframe\">\n",
       "  <thead>\n",
       "    <tr style=\"text-align: right;\">\n",
       "      <th></th>\n",
       "      <th>DateCrawled</th>\n",
       "      <th>Price</th>\n",
       "      <th>VehicleType</th>\n",
       "      <th>RegistrationYear</th>\n",
       "      <th>Gearbox</th>\n",
       "      <th>Power</th>\n",
       "      <th>Model</th>\n",
       "      <th>Kilometer</th>\n",
       "      <th>RegistrationMonth</th>\n",
       "      <th>FuelType</th>\n",
       "      <th>Brand</th>\n",
       "      <th>Repaired</th>\n",
       "      <th>DateCreated</th>\n",
       "      <th>NumberOfPictures</th>\n",
       "      <th>PostalCode</th>\n",
       "      <th>LastSeen</th>\n",
       "    </tr>\n",
       "  </thead>\n",
       "  <tbody>\n",
       "    <tr>\n",
       "      <th>354366</th>\n",
       "      <td>2016-03-05 19:56:21</td>\n",
       "      <td>1199</td>\n",
       "      <td>convertible</td>\n",
       "      <td>2000</td>\n",
       "      <td>auto</td>\n",
       "      <td>101</td>\n",
       "      <td>fortwo</td>\n",
       "      <td>125000</td>\n",
       "      <td>3</td>\n",
       "      <td>petrol</td>\n",
       "      <td>smart</td>\n",
       "      <td>no</td>\n",
       "      <td>2016-03-05 00:00:00</td>\n",
       "      <td>0</td>\n",
       "      <td>26135</td>\n",
       "      <td>2016-03-11 18:17:12</td>\n",
       "    </tr>\n",
       "    <tr>\n",
       "      <th>354367</th>\n",
       "      <td>2016-03-19 18:57:12</td>\n",
       "      <td>9200</td>\n",
       "      <td>bus</td>\n",
       "      <td>1996</td>\n",
       "      <td>manual</td>\n",
       "      <td>102</td>\n",
       "      <td>transporter</td>\n",
       "      <td>150000</td>\n",
       "      <td>3</td>\n",
       "      <td>gasoline</td>\n",
       "      <td>volkswagen</td>\n",
       "      <td>no</td>\n",
       "      <td>2016-03-19 00:00:00</td>\n",
       "      <td>0</td>\n",
       "      <td>87439</td>\n",
       "      <td>2016-04-07 07:15:26</td>\n",
       "    </tr>\n",
       "    <tr>\n",
       "      <th>354368</th>\n",
       "      <td>2016-03-20 19:41:08</td>\n",
       "      <td>3400</td>\n",
       "      <td>wagon</td>\n",
       "      <td>2002</td>\n",
       "      <td>manual</td>\n",
       "      <td>100</td>\n",
       "      <td>golf</td>\n",
       "      <td>150000</td>\n",
       "      <td>6</td>\n",
       "      <td>gasoline</td>\n",
       "      <td>volkswagen</td>\n",
       "      <td>NaN</td>\n",
       "      <td>2016-03-20 00:00:00</td>\n",
       "      <td>0</td>\n",
       "      <td>40764</td>\n",
       "      <td>2016-03-24 12:45:21</td>\n",
       "    </tr>\n",
       "  </tbody>\n",
       "</table>\n",
       "</div>"
      ],
      "text/plain": [
       "                DateCrawled  Price  VehicleType  RegistrationYear Gearbox  \\\n",
       "354366  2016-03-05 19:56:21   1199  convertible              2000    auto   \n",
       "354367  2016-03-19 18:57:12   9200          bus              1996  manual   \n",
       "354368  2016-03-20 19:41:08   3400        wagon              2002  manual   \n",
       "\n",
       "        Power        Model  Kilometer  RegistrationMonth  FuelType  \\\n",
       "354366    101       fortwo     125000                  3    petrol   \n",
       "354367    102  transporter     150000                  3  gasoline   \n",
       "354368    100         golf     150000                  6  gasoline   \n",
       "\n",
       "             Brand Repaired          DateCreated  NumberOfPictures  \\\n",
       "354366       smart       no  2016-03-05 00:00:00                 0   \n",
       "354367  volkswagen       no  2016-03-19 00:00:00                 0   \n",
       "354368  volkswagen      NaN  2016-03-20 00:00:00                 0   \n",
       "\n",
       "        PostalCode             LastSeen  \n",
       "354366       26135  2016-03-11 18:17:12  \n",
       "354367       87439  2016-04-07 07:15:26  \n",
       "354368       40764  2016-03-24 12:45:21  "
      ]
     },
     "metadata": {},
     "output_type": "display_data"
    }
   ],
   "source": [
    "display(data.tail(3))"
   ]
  },
  {
   "cell_type": "code",
   "execution_count": 7,
   "metadata": {},
   "outputs": [
    {
     "name": "stdout",
     "output_type": "stream",
     "text": [
      "<class 'pandas.core.frame.DataFrame'>\n",
      "RangeIndex: 354369 entries, 0 to 354368\n",
      "Data columns (total 16 columns):\n",
      " #   Column             Non-Null Count   Dtype \n",
      "---  ------             --------------   ----- \n",
      " 0   DateCrawled        354369 non-null  object\n",
      " 1   Price              354369 non-null  int64 \n",
      " 2   VehicleType        316879 non-null  object\n",
      " 3   RegistrationYear   354369 non-null  int64 \n",
      " 4   Gearbox            334536 non-null  object\n",
      " 5   Power              354369 non-null  int64 \n",
      " 6   Model              334664 non-null  object\n",
      " 7   Kilometer          354369 non-null  int64 \n",
      " 8   RegistrationMonth  354369 non-null  int64 \n",
      " 9   FuelType           321474 non-null  object\n",
      " 10  Brand              354369 non-null  object\n",
      " 11  Repaired           283215 non-null  object\n",
      " 12  DateCreated        354369 non-null  object\n",
      " 13  NumberOfPictures   354369 non-null  int64 \n",
      " 14  PostalCode         354369 non-null  int64 \n",
      " 15  LastSeen           354369 non-null  object\n",
      "dtypes: int64(7), object(9)\n",
      "memory usage: 43.3+ MB\n"
     ]
    },
    {
     "data": {
      "text/plain": [
       "None"
      ]
     },
     "metadata": {},
     "output_type": "display_data"
    }
   ],
   "source": [
    "display(data.info())"
   ]
  },
  {
   "cell_type": "code",
   "execution_count": 8,
   "metadata": {
    "scrolled": true
   },
   "outputs": [
    {
     "data": {
      "text/html": [
       "<div>\n",
       "<style scoped>\n",
       "    .dataframe tbody tr th:only-of-type {\n",
       "        vertical-align: middle;\n",
       "    }\n",
       "\n",
       "    .dataframe tbody tr th {\n",
       "        vertical-align: top;\n",
       "    }\n",
       "\n",
       "    .dataframe thead th {\n",
       "        text-align: right;\n",
       "    }\n",
       "</style>\n",
       "<table border=\"1\" class=\"dataframe\">\n",
       "  <thead>\n",
       "    <tr style=\"text-align: right;\">\n",
       "      <th></th>\n",
       "      <th>Price</th>\n",
       "      <th>RegistrationYear</th>\n",
       "      <th>Power</th>\n",
       "      <th>Kilometer</th>\n",
       "      <th>RegistrationMonth</th>\n",
       "      <th>NumberOfPictures</th>\n",
       "      <th>PostalCode</th>\n",
       "    </tr>\n",
       "  </thead>\n",
       "  <tbody>\n",
       "    <tr>\n",
       "      <th>count</th>\n",
       "      <td>354369.000000</td>\n",
       "      <td>354369.000000</td>\n",
       "      <td>354369.000000</td>\n",
       "      <td>354369.000000</td>\n",
       "      <td>354369.000000</td>\n",
       "      <td>354369.0</td>\n",
       "      <td>354369.000000</td>\n",
       "    </tr>\n",
       "    <tr>\n",
       "      <th>mean</th>\n",
       "      <td>4416.656776</td>\n",
       "      <td>2004.234448</td>\n",
       "      <td>110.094337</td>\n",
       "      <td>128211.172535</td>\n",
       "      <td>5.714645</td>\n",
       "      <td>0.0</td>\n",
       "      <td>50508.689087</td>\n",
       "    </tr>\n",
       "    <tr>\n",
       "      <th>std</th>\n",
       "      <td>4514.158514</td>\n",
       "      <td>90.227958</td>\n",
       "      <td>189.850405</td>\n",
       "      <td>37905.341530</td>\n",
       "      <td>3.726421</td>\n",
       "      <td>0.0</td>\n",
       "      <td>25783.096248</td>\n",
       "    </tr>\n",
       "    <tr>\n",
       "      <th>min</th>\n",
       "      <td>0.000000</td>\n",
       "      <td>1000.000000</td>\n",
       "      <td>0.000000</td>\n",
       "      <td>5000.000000</td>\n",
       "      <td>0.000000</td>\n",
       "      <td>0.0</td>\n",
       "      <td>1067.000000</td>\n",
       "    </tr>\n",
       "    <tr>\n",
       "      <th>25%</th>\n",
       "      <td>1050.000000</td>\n",
       "      <td>1999.000000</td>\n",
       "      <td>69.000000</td>\n",
       "      <td>125000.000000</td>\n",
       "      <td>3.000000</td>\n",
       "      <td>0.0</td>\n",
       "      <td>30165.000000</td>\n",
       "    </tr>\n",
       "    <tr>\n",
       "      <th>50%</th>\n",
       "      <td>2700.000000</td>\n",
       "      <td>2003.000000</td>\n",
       "      <td>105.000000</td>\n",
       "      <td>150000.000000</td>\n",
       "      <td>6.000000</td>\n",
       "      <td>0.0</td>\n",
       "      <td>49413.000000</td>\n",
       "    </tr>\n",
       "    <tr>\n",
       "      <th>75%</th>\n",
       "      <td>6400.000000</td>\n",
       "      <td>2008.000000</td>\n",
       "      <td>143.000000</td>\n",
       "      <td>150000.000000</td>\n",
       "      <td>9.000000</td>\n",
       "      <td>0.0</td>\n",
       "      <td>71083.000000</td>\n",
       "    </tr>\n",
       "    <tr>\n",
       "      <th>max</th>\n",
       "      <td>20000.000000</td>\n",
       "      <td>9999.000000</td>\n",
       "      <td>20000.000000</td>\n",
       "      <td>150000.000000</td>\n",
       "      <td>12.000000</td>\n",
       "      <td>0.0</td>\n",
       "      <td>99998.000000</td>\n",
       "    </tr>\n",
       "  </tbody>\n",
       "</table>\n",
       "</div>"
      ],
      "text/plain": [
       "               Price  RegistrationYear          Power      Kilometer  \\\n",
       "count  354369.000000     354369.000000  354369.000000  354369.000000   \n",
       "mean     4416.656776       2004.234448     110.094337  128211.172535   \n",
       "std      4514.158514         90.227958     189.850405   37905.341530   \n",
       "min         0.000000       1000.000000       0.000000    5000.000000   \n",
       "25%      1050.000000       1999.000000      69.000000  125000.000000   \n",
       "50%      2700.000000       2003.000000     105.000000  150000.000000   \n",
       "75%      6400.000000       2008.000000     143.000000  150000.000000   \n",
       "max     20000.000000       9999.000000   20000.000000  150000.000000   \n",
       "\n",
       "       RegistrationMonth  NumberOfPictures     PostalCode  \n",
       "count      354369.000000          354369.0  354369.000000  \n",
       "mean            5.714645               0.0   50508.689087  \n",
       "std             3.726421               0.0   25783.096248  \n",
       "min             0.000000               0.0    1067.000000  \n",
       "25%             3.000000               0.0   30165.000000  \n",
       "50%             6.000000               0.0   49413.000000  \n",
       "75%             9.000000               0.0   71083.000000  \n",
       "max            12.000000               0.0   99998.000000  "
      ]
     },
     "metadata": {},
     "output_type": "display_data"
    }
   ],
   "source": [
    "display(data.describe())"
   ]
  },
  {
   "cell_type": "markdown",
   "metadata": {},
   "source": [
    "Удалим не нужное"
   ]
  },
  {
   "cell_type": "code",
   "execution_count": 9,
   "metadata": {},
   "outputs": [],
   "source": [
    "data = data.drop([\"DateCrawled\", \"DateCreated\", \"NumberOfPictures\", \"PostalCode\", \"LastSeen\"], axis = 1)"
   ]
  },
  {
   "cell_type": "code",
   "execution_count": 10,
   "metadata": {
    "scrolled": true
   },
   "outputs": [
    {
     "name": "stdout",
     "output_type": "stream",
     "text": [
      "Кол-во дупликатов: 27543\n"
     ]
    }
   ],
   "source": [
    "print(\"Кол-во дупликатов:\",data.duplicated().sum())"
   ]
  },
  {
   "cell_type": "markdown",
   "metadata": {},
   "source": [
    "Удалим дупликаты:"
   ]
  },
  {
   "cell_type": "code",
   "execution_count": 11,
   "metadata": {},
   "outputs": [
    {
     "name": "stdout",
     "output_type": "stream",
     "text": [
      "Кол-во дупликатов: 0\n"
     ]
    }
   ],
   "source": [
    "data = data.drop_duplicates().reset_index(drop = True)\n",
    "print(\"Кол-во дупликатов:\",data.duplicated().sum())"
   ]
  },
  {
   "cell_type": "code",
   "execution_count": 12,
   "metadata": {},
   "outputs": [
    {
     "name": "stdout",
     "output_type": "stream",
     "text": [
      "Кол-во пропусков:\n"
     ]
    },
    {
     "data": {
      "text/plain": [
       "Price                    0\n",
       "VehicleType          35249\n",
       "RegistrationYear         0\n",
       "Gearbox              17578\n",
       "Power                    0\n",
       "Model                18532\n",
       "Kilometer                0\n",
       "RegistrationMonth        0\n",
       "FuelType             31122\n",
       "Brand                    0\n",
       "Repaired             66427\n",
       "dtype: int64"
      ]
     },
     "metadata": {},
     "output_type": "display_data"
    }
   ],
   "source": [
    "print(\"Кол-во пропусков:\")\n",
    "display(data.isna().sum())"
   ]
  },
  {
   "cell_type": "markdown",
   "metadata": {},
   "source": [
    "В данных присутствует приличное количество пропусков. Но к ним стоит вернуться после окончания анализа данных так как часть пропусков сможет быть закрыта при решении других проблем."
   ]
  },
  {
   "cell_type": "markdown",
   "metadata": {},
   "source": [
    "**Price**"
   ]
  },
  {
   "cell_type": "code",
   "execution_count": 13,
   "metadata": {
    "scrolled": true
   },
   "outputs": [
    {
     "data": {
      "text/plain": [
       "count    326826.000000\n",
       "mean       4403.747330\n",
       "std        4518.209808\n",
       "min           0.000000\n",
       "25%        1000.000000\n",
       "50%        2700.000000\n",
       "75%        6350.000000\n",
       "max       20000.000000\n",
       "Name: Price, dtype: float64"
      ]
     },
     "metadata": {},
     "output_type": "display_data"
    }
   ],
   "source": [
    "display(data[\"Price\"].describe())"
   ]
  },
  {
   "cell_type": "code",
   "execution_count": 14,
   "metadata": {},
   "outputs": [
    {
     "data": {
      "text/plain": [
       "<AxesSubplot:>"
      ]
     },
     "execution_count": 14,
     "metadata": {},
     "output_type": "execute_result"
    },
    {
     "data": {
      "image/png": "[encoded data removed]",
      "text/plain": [
       "<Figure size 432x288 with 1 Axes>"
      ]
     },
     "metadata": {
      "needs_background": "light"
     },
     "output_type": "display_data"
    }
   ],
   "source": [
    "data[data['Price']<500]['Price'].hist(bins = 100)"
   ]
  },
  {
   "cell_type": "markdown",
   "metadata": {},
   "source": [
    "По графику видно, что присутствует большое количество объявлений с ценной в 0, данные объявления нужно удалить так как они не являются настоящими и плохо повлияют на наше обучение."
   ]
  },
  {
   "cell_type": "code",
   "execution_count": 15,
   "metadata": {
    "scrolled": true
   },
   "outputs": [],
   "source": [
    "data = data[data[\"Price\"]>10]"
   ]
  },
  {
   "cell_type": "markdown",
   "metadata": {},
   "source": [
    "**Power**"
   ]
  },
  {
   "cell_type": "code",
   "execution_count": 16,
   "metadata": {},
   "outputs": [
    {
     "data": {
      "text/plain": [
       "count    316203.000000\n",
       "mean        111.107567\n",
       "std         194.023605\n",
       "min           0.000000\n",
       "25%          69.000000\n",
       "50%         105.000000\n",
       "75%         143.000000\n",
       "max       20000.000000\n",
       "Name: Power, dtype: float64"
      ]
     },
     "metadata": {},
     "output_type": "display_data"
    }
   ],
   "source": [
    "display(data[\"Power\"].describe())"
   ]
  },
  {
   "cell_type": "code",
   "execution_count": 17,
   "metadata": {},
   "outputs": [
    {
     "data": {
      "text/plain": [
       "<AxesSubplot:>"
      ]
     },
     "execution_count": 17,
     "metadata": {},
     "output_type": "execute_result"
    },
    {
     "data": {
      "image/png": "[encoded data removed]",
      "text/plain": [
       "<Figure size 432x288 with 1 Axes>"
      ]
     },
     "metadata": {
      "needs_background": "light"
     },
     "output_type": "display_data"
    }
   ],
   "source": [
    "data[data['Power']<1000]['Power'].hist(bins = 30)"
   ]
  },
  {
   "cell_type": "markdown",
   "metadata": {},
   "source": [
    "По графику можно увидеть выбросы со значением \"Power\" более 500. Следственно, их стоит удалить: "
   ]
  },
  {
   "cell_type": "code",
   "execution_count": 18,
   "metadata": {},
   "outputs": [],
   "source": [
    "data = data[data[\"Power\"]<500]"
   ]
  },
  {
   "cell_type": "markdown",
   "metadata": {},
   "source": [
    "**Registration year**"
   ]
  },
  {
   "cell_type": "code",
   "execution_count": 19,
   "metadata": {
    "scrolled": false
   },
   "outputs": [
    {
     "data": {
      "text/plain": [
       "count    315756.000000\n",
       "mean       2004.075587\n",
       "std          79.394444\n",
       "min        1000.000000\n",
       "25%        1999.000000\n",
       "50%        2003.000000\n",
       "75%        2008.000000\n",
       "max        9999.000000\n",
       "Name: RegistrationYear, dtype: float64"
      ]
     },
     "metadata": {},
     "output_type": "display_data"
    }
   ],
   "source": [
    "display(data[\"RegistrationYear\"].describe())"
   ]
  },
  {
   "cell_type": "markdown",
   "metadata": {},
   "source": [
    "При анализе данных \"Registration year\" можно увидеть большое количество не настоящих годов. Удалим:"
   ]
  },
  {
   "cell_type": "code",
   "execution_count": 20,
   "metadata": {},
   "outputs": [],
   "source": [
    "data = data[(data[\"RegistrationYear\"]>1950) & (data[\"RegistrationYear\"]<2022)]"
   ]
  },
  {
   "cell_type": "markdown",
   "metadata": {},
   "source": [
    "Вернемся к пропускам: "
   ]
  },
  {
   "cell_type": "code",
   "execution_count": 21,
   "metadata": {},
   "outputs": [
    {
     "name": "stdout",
     "output_type": "stream",
     "text": [
      "Кол-во пропусков:\n"
     ]
    },
    {
     "data": {
      "text/plain": [
       "Price                    0\n",
       "VehicleType          31496\n",
       "RegistrationYear         0\n",
       "Gearbox              15141\n",
       "Power                    0\n",
       "Model                16382\n",
       "Kilometer                0\n",
       "RegistrationMonth        0\n",
       "FuelType             27657\n",
       "Brand                    0\n",
       "Repaired             60978\n",
       "dtype: int64"
      ]
     },
     "metadata": {},
     "output_type": "display_data"
    }
   ],
   "source": [
    "print(\"Кол-во пропусков:\")\n",
    "display(data.isna().sum())"
   ]
  },
  {
   "cell_type": "markdown",
   "metadata": {},
   "source": [
    "Стало лучше, за счет удаления строк, но проблема все равно присутствует. Так как пропуски не в самых важных данных, то заменим их на \"unknown\""
   ]
  },
  {
   "cell_type": "code",
   "execution_count": 22,
   "metadata": {},
   "outputs": [],
   "source": [
    "for col in [\"VehicleType\", \"Repaired\", \"FuelType\", \"Gearbox\", \"Model\"]:\n",
    "    data[col] = data[col].fillna('unknown')"
   ]
  },
  {
   "cell_type": "markdown",
   "metadata": {},
   "source": [
    "**Вывод:**"
   ]
  },
  {
   "cell_type": "markdown",
   "metadata": {},
   "source": [
    "- Данные и типы данных соответсвуют описанию;\n",
    "- Дубликаты устранены;\n",
    "- Пропуски устранены."
   ]
  },
  {
   "cell_type": "markdown",
   "metadata": {},
   "source": [
    "## Подготовка выборок"
   ]
  },
  {
   "cell_type": "markdown",
   "metadata": {},
   "source": [
    "Подготовим данные под обучение моделей: "
   ]
  },
  {
   "cell_type": "code",
   "execution_count": 23,
   "metadata": {
    "scrolled": true
   },
   "outputs": [
    {
     "name": "stdout",
     "output_type": "stream",
     "text": [
      "<class 'pandas.core.frame.DataFrame'>\n",
      "Int64Index: 315515 entries, 0 to 326825\n",
      "Data columns (total 11 columns):\n",
      " #   Column             Non-Null Count   Dtype \n",
      "---  ------             --------------   ----- \n",
      " 0   Price              315515 non-null  int64 \n",
      " 1   VehicleType        315515 non-null  object\n",
      " 2   RegistrationYear   315515 non-null  int64 \n",
      " 3   Gearbox            315515 non-null  object\n",
      " 4   Power              315515 non-null  int64 \n",
      " 5   Model              315515 non-null  object\n",
      " 6   Kilometer          315515 non-null  int64 \n",
      " 7   RegistrationMonth  315515 non-null  int64 \n",
      " 8   FuelType           315515 non-null  object\n",
      " 9   Brand              315515 non-null  object\n",
      " 10  Repaired           315515 non-null  object\n",
      "dtypes: int64(5), object(6)\n",
      "memory usage: 28.9+ MB\n"
     ]
    }
   ],
   "source": [
    "data.info()"
   ]
  },
  {
   "cell_type": "markdown",
   "metadata": {},
   "source": [
    "Данные \"VehicleType\",\"Gearbox\",\"FuelType\",\"Brand\" и \"Repaired\" приобразуем методом OHE:"
   ]
  },
  {
   "cell_type": "code",
   "execution_count": 24,
   "metadata": {
    "scrolled": true
   },
   "outputs": [
    {
     "name": "stdout",
     "output_type": "stream",
     "text": [
      "<class 'pandas.core.frame.DataFrame'>\n",
      "Int64Index: 315515 entries, 0 to 326825\n",
      "Data columns (total 64 columns):\n",
      " #   Column                   Non-Null Count   Dtype \n",
      "---  ------                   --------------   ----- \n",
      " 0   Price                    315515 non-null  int64 \n",
      " 1   RegistrationYear         315515 non-null  int64 \n",
      " 2   Power                    315515 non-null  int64 \n",
      " 3   Model                    315515 non-null  object\n",
      " 4   Kilometer                315515 non-null  int64 \n",
      " 5   RegistrationMonth        315515 non-null  int64 \n",
      " 6   VehicleType_convertible  315515 non-null  uint8 \n",
      " 7   VehicleType_coupe        315515 non-null  uint8 \n",
      " 8   VehicleType_other        315515 non-null  uint8 \n",
      " 9   VehicleType_sedan        315515 non-null  uint8 \n",
      " 10  VehicleType_small        315515 non-null  uint8 \n",
      " 11  VehicleType_suv          315515 non-null  uint8 \n",
      " 12  VehicleType_unknown      315515 non-null  uint8 \n",
      " 13  VehicleType_wagon        315515 non-null  uint8 \n",
      " 14  Gearbox_manual           315515 non-null  uint8 \n",
      " 15  Gearbox_unknown          315515 non-null  uint8 \n",
      " 16  FuelType_electric        315515 non-null  uint8 \n",
      " 17  FuelType_gasoline        315515 non-null  uint8 \n",
      " 18  FuelType_hybrid          315515 non-null  uint8 \n",
      " 19  FuelType_lpg             315515 non-null  uint8 \n",
      " 20  FuelType_other           315515 non-null  uint8 \n",
      " 21  FuelType_petrol          315515 non-null  uint8 \n",
      " 22  FuelType_unknown         315515 non-null  uint8 \n",
      " 23  Brand_audi               315515 non-null  uint8 \n",
      " 24  Brand_bmw                315515 non-null  uint8 \n",
      " 25  Brand_chevrolet          315515 non-null  uint8 \n",
      " 26  Brand_chrysler           315515 non-null  uint8 \n",
      " 27  Brand_citroen            315515 non-null  uint8 \n",
      " 28  Brand_dacia              315515 non-null  uint8 \n",
      " 29  Brand_daewoo             315515 non-null  uint8 \n",
      " 30  Brand_daihatsu           315515 non-null  uint8 \n",
      " 31  Brand_fiat               315515 non-null  uint8 \n",
      " 32  Brand_ford               315515 non-null  uint8 \n",
      " 33  Brand_honda              315515 non-null  uint8 \n",
      " 34  Brand_hyundai            315515 non-null  uint8 \n",
      " 35  Brand_jaguar             315515 non-null  uint8 \n",
      " 36  Brand_jeep               315515 non-null  uint8 \n",
      " 37  Brand_kia                315515 non-null  uint8 \n",
      " 38  Brand_lada               315515 non-null  uint8 \n",
      " 39  Brand_lancia             315515 non-null  uint8 \n",
      " 40  Brand_land_rover         315515 non-null  uint8 \n",
      " 41  Brand_mazda              315515 non-null  uint8 \n",
      " 42  Brand_mercedes_benz      315515 non-null  uint8 \n",
      " 43  Brand_mini               315515 non-null  uint8 \n",
      " 44  Brand_mitsubishi         315515 non-null  uint8 \n",
      " 45  Brand_nissan             315515 non-null  uint8 \n",
      " 46  Brand_opel               315515 non-null  uint8 \n",
      " 47  Brand_peugeot            315515 non-null  uint8 \n",
      " 48  Brand_porsche            315515 non-null  uint8 \n",
      " 49  Brand_renault            315515 non-null  uint8 \n",
      " 50  Brand_rover              315515 non-null  uint8 \n",
      " 51  Brand_saab               315515 non-null  uint8 \n",
      " 52  Brand_seat               315515 non-null  uint8 \n",
      " 53  Brand_skoda              315515 non-null  uint8 \n",
      " 54  Brand_smart              315515 non-null  uint8 \n",
      " 55  Brand_sonstige_autos     315515 non-null  uint8 \n",
      " 56  Brand_subaru             315515 non-null  uint8 \n",
      " 57  Brand_suzuki             315515 non-null  uint8 \n",
      " 58  Brand_toyota             315515 non-null  uint8 \n",
      " 59  Brand_trabant            315515 non-null  uint8 \n",
      " 60  Brand_volkswagen         315515 non-null  uint8 \n",
      " 61  Brand_volvo              315515 non-null  uint8 \n",
      " 62  Repaired_unknown         315515 non-null  uint8 \n",
      " 63  Repaired_yes             315515 non-null  uint8 \n",
      "dtypes: int64(5), object(1), uint8(58)\n",
      "memory usage: 34.3+ MB\n"
     ]
    }
   ],
   "source": [
    "data = pd.get_dummies(data, columns= [\"VehicleType\",\"Gearbox\",\"FuelType\",\"Brand\",\"Repaired\"], drop_first=True)\n",
    "data.info()"
   ]
  },
  {
   "cell_type": "markdown",
   "metadata": {},
   "source": [
    "Так как в столбце \"Model\" много разных значений, то преобразуем его методом ordinal:"
   ]
  },
  {
   "cell_type": "code",
   "execution_count": 25,
   "metadata": {},
   "outputs": [],
   "source": [
    "encoder = OrdinalEncoder()\n",
    "encoder.fit(data[[\"Model\"]])\n",
    "data[\"Model\"] = encoder.transform(data[[\"Model\"]])"
   ]
  },
  {
   "cell_type": "markdown",
   "metadata": {},
   "source": [
    "Разделим данные на признаки и на целевой признак: "
   ]
  },
  {
   "cell_type": "code",
   "execution_count": 26,
   "metadata": {},
   "outputs": [],
   "source": [
    "target = data[\"Price\"]\n",
    "features = data.drop(\"Price\", axis = 1)"
   ]
  },
  {
   "cell_type": "markdown",
   "metadata": {},
   "source": [
    "Разделим данные на три выборки: тренировочная, валидационная и тестовая в соотношении 8:1:1"
   ]
  },
  {
   "cell_type": "code",
   "execution_count": 27,
   "metadata": {},
   "outputs": [],
   "source": [
    "features_train, features_valid_test, target_train, target_valid_test = train_test_split(\n",
    "    features, target, test_size=0.2, random_state=RANDOM_STATE)\n",
    "\n",
    "features_valid, features_test, target_valid, target_test = train_test_split(\n",
    "    features_valid_test, target_valid_test, test_size=0.5, random_state=RANDOM_STATE)"
   ]
  },
  {
   "cell_type": "code",
   "execution_count": 28,
   "metadata": {},
   "outputs": [
    {
     "name": "stdout",
     "output_type": "stream",
     "text": [
      "Размер features_valid: (31551, 63)\n",
      "Размер features_test: (31552, 63)\n",
      "Размер features_train: (252412, 63)\n",
      "Размер target_valid: (31551,)\n",
      "Размер target_test: (31552,)\n",
      "Размер target_train: (252412,)\n"
     ]
    }
   ],
   "source": [
    "print(\"Размер features_valid:\",features_valid.shape)\n",
    "print(\"Размер features_test:\",features_test.shape)\n",
    "print(\"Размер features_train:\",features_train.shape)\n",
    "print(\"Размер target_valid:\",target_valid.shape)\n",
    "print(\"Размер target_test:\",target_test.shape)\n",
    "print(\"Размер target_train:\",target_train.shape)"
   ]
  },
  {
   "cell_type": "markdown",
   "metadata": {},
   "source": [
    "**Вывод:**"
   ]
  },
  {
   "cell_type": "markdown",
   "metadata": {},
   "source": [
    "- Данные готовы для тренировки моделей и их проверки. "
   ]
  },
  {
   "cell_type": "markdown",
   "metadata": {},
   "source": [
    "## Обучение моделей"
   ]
  },
  {
   "cell_type": "markdown",
   "metadata": {},
   "source": [
    "Воспользуемся несколькими моделями машинного обучения:\n",
    "- LinearRegression;\n",
    "- RandomForest;\n",
    "- DecisionTree;\n",
    "- LightGBM;\n",
    "- CatBoost."
   ]
  },
  {
   "cell_type": "markdown",
   "metadata": {},
   "source": [
    "Для проверки верности предсказание воспользуемся метрикой RMSE:"
   ]
  },
  {
   "cell_type": "code",
   "execution_count": 29,
   "metadata": {},
   "outputs": [],
   "source": [
    "def rmse(predict,true):\n",
    "    square_distance = (np.array(predict) - np.array(true)) ** 2\n",
    "    mean_square_distance = square_distance.mean()\n",
    "    return np.sqrt(mean_square_distance)"
   ]
  },
  {
   "cell_type": "code",
   "execution_count": 30,
   "metadata": {},
   "outputs": [],
   "source": [
    "def score_print(predicted,true):\n",
    "    print(\"RMSE:\",round(rmse(predicted,true),2))\n",
    "    return round(rmse(predicted,true),2)"
   ]
  },
  {
   "cell_type": "code",
   "execution_count": 31,
   "metadata": {},
   "outputs": [],
   "source": [
    "models_result = pd.DataFrame(columns = [\"RMSE\",\"TrainTime\",\"PredictionTime\",\"1st Importance\",\"2nd Importance\",\"3rd Importance\"],\n",
    "                             index = [\"LinearRegression_auto\",\n",
    "                                      \"RandomForestRegressor_friedman_mse\",\"RandomForestRegressor_poisson\",\n",
    "                                      \"DecisionTreeRegressor_friedman_mse\",\"DecisionTreeRegressor_poisson\",\n",
    "                                      \"LGBMRegressor_gbdt\",\"LGBMRegressor_dart\",\n",
    "                                      \"CatBoostRegressor_SymmetricTree\",\"CatBoostRegressor_Depthwise\",\n",
    "                                      \"CatBoostRegressor_Lossguide\",\"DummyRegressor\"])"
   ]
  },
  {
   "cell_type": "markdown",
   "metadata": {},
   "source": [
    "### sklearn"
   ]
  },
  {
   "cell_type": "markdown",
   "metadata": {},
   "source": [
    "#### Linear Regression"
   ]
  },
  {
   "cell_type": "markdown",
   "metadata": {},
   "source": [
    "**LinearRegression_auto**"
   ]
  },
  {
   "cell_type": "code",
   "execution_count": 32,
   "metadata": {
    "scrolled": false
   },
   "outputs": [
    {
     "name": "stdout",
     "output_type": "stream",
     "text": [
      "RMSE: 2857.57\n",
      "CPU times: user 2.54 s, sys: 966 ms, total: 3.5 s\n",
      "Wall time: 3.47 s\n"
     ]
    }
   ],
   "source": [
    "%%time\n",
    "start_time = time()\n",
    "\n",
    "model = LinearRegression()\n",
    "model.fit(features_train, target_train)\n",
    "train_time = time()\n",
    "predicted = model.predict(features_valid)\n",
    "prediction_time = time()\n",
    "\n",
    "models_result[\"RMSE\"][\"LinearRegression_auto\"] = score_print(predicted,target_valid)\n",
    "models_result[\"TrainTime\"][\"LinearRegression_auto\"] = round(train_time - start_time,2)\n",
    "models_result[\"PredictionTime\"][\"LinearRegression_auto\"] = round(prediction_time - train_time,2)"
   ]
  },
  {
   "cell_type": "code",
   "execution_count": 33,
   "metadata": {},
   "outputs": [
    {
     "data": {
      "image/png": "[encoded data removed]",
      "text/plain": [
       "<Figure size 432x288 with 1 Axes>"
      ]
     },
     "metadata": {
      "needs_background": "light"
     },
     "output_type": "display_data"
    }
   ],
   "source": [
    "df = pd.DataFrame(data={\"Features\": features.columns,\"Importance\": model.coef_}).sort_values(by=\"Importance\",ascending=False)\n",
    "plt.bar(x=df[\"Features\"],height=df[\"Importance\"],color=\"purple\")\n",
    "plt.xticks(rotation=\"vertical\")\n",
    "plt.show()\n",
    "\n",
    "models_result[\"1st Importance\"][\"LinearRegression_auto\"] = df[\"Features\"][0]\n",
    "models_result[\"2nd Importance\"][\"LinearRegression_auto\"] = df[\"Features\"][1]\n",
    "models_result[\"3rd Importance\"][\"LinearRegression_auto\"] = df[\"Features\"][2]"
   ]
  },
  {
   "cell_type": "markdown",
   "metadata": {},
   "source": [
    "#### Random Forest"
   ]
  },
  {
   "cell_type": "markdown",
   "metadata": {},
   "source": [
    "**RandomForestRegressor_friedman_mse**"
   ]
  },
  {
   "cell_type": "code",
   "execution_count": 34,
   "metadata": {
    "scrolled": false
   },
   "outputs": [
    {
     "name": "stdout",
     "output_type": "stream",
     "text": [
      "RMSE: 1712.1\n",
      "CPU times: user 3min 26s, sys: 2 s, total: 3min 28s\n",
      "Wall time: 3min 28s\n"
     ]
    }
   ],
   "source": [
    "%%time\n",
    "start_time = time()\n",
    "\n",
    "model = RandomForestRegressor(criterion=\"friedman_mse\",random_state=RANDOM_STATE)\n",
    "model.fit(features_train, target_train)\n",
    "train_time = time()\n",
    "predicted = model.predict(features_valid)\n",
    "prediction_time = time()\n",
    "\n",
    "models_result[\"RMSE\"][\"RandomForestRegressor_friedman_mse\"] = score_print(predicted,target_valid)\n",
    "models_result[\"TrainTime\"][\"RandomForestRegressor_friedman_mse\"] = round(train_time - start_time,2)\n",
    "models_result[\"PredictionTime\"][\"RandomForestRegressor_friedman_mse\"] = round(prediction_time - train_time,2)"
   ]
  },
  {
   "cell_type": "code",
   "execution_count": 35,
   "metadata": {
    "scrolled": false
   },
   "outputs": [
    {
     "data": {
      "image/png": "[encoded data removed]",
      "text/plain": [
       "<Figure size 432x288 with 1 Axes>"
      ]
     },
     "metadata": {
      "needs_background": "light"
     },
     "output_type": "display_data"
    }
   ],
   "source": [
    "df = pd.DataFrame(data={\"Features\": features.columns,\"Importance\": model.feature_importances_}).sort_values(by=\"Importance\",ascending=False)\n",
    "plt.bar(x=df[\"Features\"],height=df[\"Importance\"],color=\"purple\")\n",
    "plt.xticks(rotation=\"vertical\")\n",
    "plt.show()\n",
    "\n",
    "models_result[\"1st Importance\"][\"RandomForestRegressor_friedman_mse\"] = df[\"Features\"][0]\n",
    "models_result[\"2nd Importance\"][\"RandomForestRegressor_friedman_mse\"] = df[\"Features\"][1]\n",
    "models_result[\"3rd Importance\"][\"RandomForestRegressor_friedman_mse\"] = df[\"Features\"][2]"
   ]
  },
  {
   "cell_type": "markdown",
   "metadata": {},
   "source": [
    "**RandomForestRegressor_poisson**"
   ]
  },
  {
   "cell_type": "code",
   "execution_count": 36,
   "metadata": {
    "scrolled": true
   },
   "outputs": [
    {
     "name": "stdout",
     "output_type": "stream",
     "text": [
      "RMSE: 1974.31\n",
      "CPU times: user 9min 59s, sys: 3.67 s, total: 10min 3s\n",
      "Wall time: 10min 3s\n"
     ]
    }
   ],
   "source": [
    "%%time\n",
    "start_time = time()\n",
    "\n",
    "model = RandomForestRegressor(criterion=\"poisson\",random_state=RANDOM_STATE)\n",
    "model.fit(features_train, target_train)\n",
    "train_time = time()\n",
    "predicted = model.predict(features_valid)\n",
    "prediction_time = time()\n",
    "\n",
    "models_result[\"RMSE\"][\"RandomForestRegressor_poisson\"] = score_print(predicted,target_valid)\n",
    "models_result[\"TrainTime\"][\"RandomForestRegressor_poisson\"] = round(train_time - start_time,2)\n",
    "models_result[\"PredictionTime\"][\"RandomForestRegressor_poisson\"] = round(prediction_time - train_time,2)"
   ]
  },
  {
   "cell_type": "code",
   "execution_count": 37,
   "metadata": {},
   "outputs": [
    {
     "data": {
      "image/png": "[encoded data removed]",
      "text/plain": [
       "<Figure size 432x288 with 1 Axes>"
      ]
     },
     "metadata": {
      "needs_background": "light"
     },
     "output_type": "display_data"
    }
   ],
   "source": [
    "df = pd.DataFrame(data={\"Features\": features.columns,\"Importance\": model.feature_importances_}).sort_values(by=\"Importance\",ascending=False)\n",
    "plt.bar(x=df[\"Features\"],height=df[\"Importance\"],color=\"purple\")\n",
    "plt.xticks(rotation=\"vertical\")\n",
    "plt.show()\n",
    "\n",
    "models_result[\"1st Importance\"][\"RandomForestRegressor_poisson\"] = df[\"Features\"][0]\n",
    "models_result[\"2nd Importance\"][\"RandomForestRegressor_poisson\"] = df[\"Features\"][1]\n",
    "models_result[\"3rd Importance\"][\"RandomForestRegressor_poisson\"] = df[\"Features\"][2]"
   ]
  },
  {
   "cell_type": "markdown",
   "metadata": {},
   "source": [
    "#### Decision Tree"
   ]
  },
  {
   "cell_type": "markdown",
   "metadata": {},
   "source": [
    "**DecisionTreeRegressor_friedman_mse**"
   ]
  },
  {
   "cell_type": "code",
   "execution_count": 38,
   "metadata": {},
   "outputs": [
    {
     "name": "stdout",
     "output_type": "stream",
     "text": [
      "RMSE: 2219.73\n",
      "CPU times: user 3.14 s, sys: 160 ms, total: 3.3 s\n",
      "Wall time: 3.31 s\n"
     ]
    }
   ],
   "source": [
    "%%time\n",
    "start_time = time()\n",
    "\n",
    "model = DecisionTreeRegressor(criterion=\"friedman_mse\",random_state=RANDOM_STATE)\n",
    "model.fit(features_train, target_train)\n",
    "train_time = time()\n",
    "predicted = model.predict(features_valid)\n",
    "prediction_time = time()\n",
    "\n",
    "models_result[\"RMSE\"][\"DecisionTreeRegressor_friedman_mse\"] = score_print(predicted,target_valid)\n",
    "models_result[\"TrainTime\"][\"DecisionTreeRegressor_friedman_mse\"] = round(train_time - start_time,2)\n",
    "models_result[\"PredictionTime\"][\"DecisionTreeRegressor_friedman_mse\"] = round(prediction_time - train_time,2)"
   ]
  },
  {
   "cell_type": "code",
   "execution_count": 39,
   "metadata": {},
   "outputs": [
    {
     "data": {
      "image/png": "[encoded data removed]",
      "text/plain": [
       "<Figure size 432x288 with 1 Axes>"
      ]
     },
     "metadata": {
      "needs_background": "light"
     },
     "output_type": "display_data"
    }
   ],
   "source": [
    "df = pd.DataFrame(data={\"Features\": features.columns,\"Importance\": model.feature_importances_}).sort_values(by=\"Importance\",ascending=False)\n",
    "plt.bar(x=df[\"Features\"],height=df[\"Importance\"],color=\"purple\")\n",
    "plt.xticks(rotation=\"vertical\")\n",
    "plt.show()\n",
    "\n",
    "models_result[\"1st Importance\"][\"DecisionTreeRegressor_friedman_mse\"] = df[\"Features\"][0]\n",
    "models_result[\"2nd Importance\"][\"DecisionTreeRegressor_friedman_mse\"] = df[\"Features\"][1]\n",
    "models_result[\"3rd Importance\"][\"DecisionTreeRegressor_friedman_mse\"] = df[\"Features\"][2]"
   ]
  },
  {
   "cell_type": "markdown",
   "metadata": {},
   "source": [
    "**DecisionTreeRegressor_poisson**"
   ]
  },
  {
   "cell_type": "code",
   "execution_count": 40,
   "metadata": {},
   "outputs": [
    {
     "name": "stdout",
     "output_type": "stream",
     "text": [
      "RMSE: 2413.45\n",
      "CPU times: user 9.41 s, sys: 79.9 ms, total: 9.49 s\n",
      "Wall time: 9.5 s\n"
     ]
    }
   ],
   "source": [
    "%%time\n",
    "start_time = time()\n",
    "\n",
    "model = DecisionTreeRegressor(criterion=\"poisson\",random_state=RANDOM_STATE)\n",
    "model.fit(features_train, target_train)\n",
    "train_time = time()\n",
    "predicted = model.predict(features_valid)\n",
    "prediction_time = time()\n",
    "\n",
    "models_result[\"RMSE\"][\"DecisionTreeRegressor_poisson\"] = score_print(predicted,target_valid)\n",
    "models_result[\"TrainTime\"][\"DecisionTreeRegressor_poisson\"] = round(train_time - start_time,2)\n",
    "models_result[\"PredictionTime\"][\"DecisionTreeRegressor_poisson\"] = round(prediction_time - train_time,2)"
   ]
  },
  {
   "cell_type": "code",
   "execution_count": 41,
   "metadata": {},
   "outputs": [
    {
     "data": {
      "image/png": "[encoded data removed]",
      "text/plain": [
       "<Figure size 432x288 with 1 Axes>"
      ]
     },
     "metadata": {
      "needs_background": "light"
     },
     "output_type": "display_data"
    }
   ],
   "source": [
    "df = pd.DataFrame(data={\"Features\": features.columns,\"Importance\": model.feature_importances_}).sort_values(by=\"Importance\",ascending=False)\n",
    "plt.bar(x=df[\"Features\"],height=df[\"Importance\"],color=\"purple\")\n",
    "plt.xticks(rotation=\"vertical\")\n",
    "plt.show()\n",
    "\n",
    "models_result[\"1st Importance\"][\"DecisionTreeRegressor_poisson\"] = df[\"Features\"][0]\n",
    "models_result[\"2nd Importance\"][\"DecisionTreeRegressor_poisson\"] = df[\"Features\"][1]\n",
    "models_result[\"3rd Importance\"][\"DecisionTreeRegressor_poisson\"] = df[\"Features\"][2]"
   ]
  },
  {
   "cell_type": "markdown",
   "metadata": {},
   "source": [
    "### LightGBM"
   ]
  },
  {
   "cell_type": "markdown",
   "metadata": {},
   "source": [
    "**LGBMRegressor_gbdt**"
   ]
  },
  {
   "cell_type": "code",
   "execution_count": 42,
   "metadata": {
    "scrolled": false
   },
   "outputs": [
    {
     "name": "stdout",
     "output_type": "stream",
     "text": [
      "RMSE: 1762.1\n",
      "CPU times: user 6.72 s, sys: 95.5 ms, total: 6.81 s\n",
      "Wall time: 6.85 s\n"
     ]
    }
   ],
   "source": [
    "%%time\n",
    "start_time = time()\n",
    "\n",
    "model = LGBMRegressor(boosting_type=\"gbdt\",random_state=RANDOM_STATE)\n",
    "model.fit(features_train, target_train)\n",
    "train_time = time()\n",
    "predicted = model.predict(features_valid)\n",
    "prediction_time = time()\n",
    "\n",
    "models_result[\"RMSE\"][\"LGBMRegressor_gbdt\"] = score_print(predicted,target_valid)\n",
    "models_result[\"TrainTime\"][\"LGBMRegressor_gbdt\"] = round(train_time - start_time,2)\n",
    "models_result[\"PredictionTime\"][\"LGBMRegressor_gbdt\"] = round(prediction_time - train_time,2)"
   ]
  },
  {
   "cell_type": "code",
   "execution_count": 43,
   "metadata": {
    "scrolled": true
   },
   "outputs": [
    {
     "data": {
      "image/png": "[encoded data removed]",
      "text/plain": [
       "<Figure size 432x288 with 1 Axes>"
      ]
     },
     "metadata": {
      "needs_background": "light"
     },
     "output_type": "display_data"
    }
   ],
   "source": [
    "df = pd.DataFrame(data={\"Features\": features.columns,\"Importance\": model.feature_importances_}).sort_values(by=\"Importance\",ascending=False)\n",
    "plt.bar(x=df[\"Features\"],height=df[\"Importance\"],color=\"purple\")\n",
    "plt.xticks(rotation=\"vertical\")\n",
    "plt.show()\n",
    "\n",
    "models_result[\"1st Importance\"][\"LGBMRegressor_gbdt\"] = df[\"Features\"][0]\n",
    "models_result[\"2nd Importance\"][\"LGBMRegressor_gbdt\"] = df[\"Features\"][1]\n",
    "models_result[\"3rd Importance\"][\"LGBMRegressor_gbdt\"] = df[\"Features\"][2]"
   ]
  },
  {
   "cell_type": "markdown",
   "metadata": {},
   "source": [
    "**LGBMRegressor_dart**"
   ]
  },
  {
   "cell_type": "code",
   "execution_count": 44,
   "metadata": {},
   "outputs": [
    {
     "name": "stdout",
     "output_type": "stream",
     "text": [
      "RMSE: 1972.13\n",
      "CPU times: user 18.6 s, sys: 153 ms, total: 18.8 s\n",
      "Wall time: 18.9 s\n"
     ]
    }
   ],
   "source": [
    "%%time\n",
    "start_time = time()\n",
    "\n",
    "model = LGBMRegressor(boosting_type=\"dart\",random_state=RANDOM_STATE)\n",
    "model.fit(features_train, target_train)\n",
    "train_time = time()\n",
    "predicted = model.predict(features_valid)\n",
    "prediction_time = time()\n",
    "\n",
    "models_result[\"RMSE\"][\"LGBMRegressor_dart\"] = score_print(predicted,target_valid)\n",
    "models_result[\"TrainTime\"][\"LGBMRegressor_dart\"] = round(train_time - start_time,2)\n",
    "models_result[\"PredictionTime\"][\"LGBMRegressor_dart\"] = round(prediction_time - train_time,2)"
   ]
  },
  {
   "cell_type": "code",
   "execution_count": 45,
   "metadata": {},
   "outputs": [
    {
     "data": {
      "image/png": "[encoded data removed]",
      "text/plain": [
       "<Figure size 432x288 with 1 Axes>"
      ]
     },
     "metadata": {
      "needs_background": "light"
     },
     "output_type": "display_data"
    }
   ],
   "source": [
    "df = pd.DataFrame(data={\"Features\": features.columns,\"Importance\": model.feature_importances_}).sort_values(by=\"Importance\",ascending=False)\n",
    "plt.bar(x=df[\"Features\"],height=df[\"Importance\"],color=\"purple\")\n",
    "plt.xticks(rotation=\"vertical\")\n",
    "plt.show()\n",
    "\n",
    "models_result[\"1st Importance\"][\"LGBMRegressor_dart\"] = df[\"Features\"][0]\n",
    "models_result[\"2nd Importance\"][\"LGBMRegressor_dart\"] = df[\"Features\"][1]\n",
    "models_result[\"3rd Importance\"][\"LGBMRegressor_dart\"] = df[\"Features\"][2]"
   ]
  },
  {
   "cell_type": "markdown",
   "metadata": {},
   "source": [
    "### CatBoost"
   ]
  },
  {
   "cell_type": "markdown",
   "metadata": {},
   "source": [
    "**CatBoostRegressor_SymmetricTree**"
   ]
  },
  {
   "cell_type": "code",
   "execution_count": 46,
   "metadata": {
    "scrolled": true
   },
   "outputs": [
    {
     "name": "stdout",
     "output_type": "stream",
     "text": [
      "RMSE: 1668.47\n",
      "CPU times: user 33 s, sys: 333 ms, total: 33.4 s\n",
      "Wall time: 34.8 s\n"
     ]
    }
   ],
   "source": [
    "%%time\n",
    "start_time = time()\n",
    "\n",
    "model = CatBoostRegressor(logging_level=\"Silent\",grow_policy=\"SymmetricTree\",random_state=RANDOM_STATE)\n",
    "model.fit(features_train, target_train)\n",
    "train_time = time()\n",
    "predicted = model.predict(features_valid)\n",
    "prediction_time = time()\n",
    "\n",
    "models_result[\"RMSE\"][\"CatBoostRegressor_SymmetricTree\"] = score_print(predicted,target_valid)\n",
    "models_result[\"TrainTime\"][\"CatBoostRegressor_SymmetricTree\"] = round(train_time - start_time,2)\n",
    "models_result[\"PredictionTime\"][\"CatBoostRegressor_SymmetricTree\"] = round(prediction_time - train_time,2)"
   ]
  },
  {
   "cell_type": "code",
   "execution_count": 47,
   "metadata": {},
   "outputs": [
    {
     "data": {
      "image/png": "[encoded data removed]",
      "text/plain": [
       "<Figure size 432x288 with 1 Axes>"
      ]
     },
     "metadata": {
      "needs_background": "light"
     },
     "output_type": "display_data"
    }
   ],
   "source": [
    "df = pd.DataFrame(data={\"Features\": features.columns,\"Importance\": model.feature_importances_}).sort_values(by=\"Importance\",ascending=False)\n",
    "plt.bar(x=df[\"Features\"],height=df[\"Importance\"],color=\"purple\")\n",
    "plt.xticks(rotation=\"vertical\")\n",
    "plt.show()\n",
    "\n",
    "models_result[\"1st Importance\"][\"CatBoostRegressor_SymmetricTree\"] = df[\"Features\"][0]\n",
    "models_result[\"2nd Importance\"][\"CatBoostRegressor_SymmetricTree\"] = df[\"Features\"][1]\n",
    "models_result[\"3rd Importance\"][\"CatBoostRegressor_SymmetricTree\"] = df[\"Features\"][2]"
   ]
  },
  {
   "cell_type": "markdown",
   "metadata": {},
   "source": [
    "**CatBoostRegressor_Depthwise**"
   ]
  },
  {
   "cell_type": "code",
   "execution_count": 48,
   "metadata": {},
   "outputs": [
    {
     "name": "stdout",
     "output_type": "stream",
     "text": [
      "RMSE: 1638.1\n",
      "CPU times: user 1min 12s, sys: 505 ms, total: 1min 13s\n",
      "Wall time: 1min 14s\n"
     ]
    }
   ],
   "source": [
    "%%time\n",
    "start_time = time()\n",
    "\n",
    "model = CatBoostRegressor(logging_level=\"Silent\",grow_policy=\"Depthwise\",random_state=RANDOM_STATE)\n",
    "model.fit(features_train, target_train)\n",
    "train_time = time()\n",
    "predicted = model.predict(features_valid)\n",
    "prediction_time = time()\n",
    "\n",
    "models_result[\"RMSE\"][\"CatBoostRegressor_Depthwise\"] = score_print(predicted,target_valid)\n",
    "models_result[\"TrainTime\"][\"CatBoostRegressor_Depthwise\"] = round(train_time - start_time,2)\n",
    "models_result[\"PredictionTime\"][\"CatBoostRegressor_Depthwise\"] = round(prediction_time - train_time,2)"
   ]
  },
  {
   "cell_type": "code",
   "execution_count": 49,
   "metadata": {},
   "outputs": [
    {
     "data": {
      "image/png": "[encoded data removed]",
      "text/plain": [
       "<Figure size 432x288 with 1 Axes>"
      ]
     },
     "metadata": {
      "needs_background": "light"
     },
     "output_type": "display_data"
    }
   ],
   "source": [
    "df = pd.DataFrame(data={\"Features\": features.columns,\"Importance\": model.feature_importances_}).sort_values(by=\"Importance\",ascending=False)\n",
    "plt.bar(x=df[\"Features\"],height=df[\"Importance\"],color=\"purple\")\n",
    "plt.xticks(rotation=\"vertical\")\n",
    "plt.show()\n",
    "\n",
    "models_result[\"1st Importance\"][\"CatBoostRegressor_Depthwise\"] = df[\"Features\"][0]\n",
    "models_result[\"2nd Importance\"][\"CatBoostRegressor_Depthwise\"] = df[\"Features\"][1]\n",
    "models_result[\"3rd Importance\"][\"CatBoostRegressor_Depthwise\"] = df[\"Features\"][2]"
   ]
  },
  {
   "cell_type": "markdown",
   "metadata": {},
   "source": [
    "**CatBoostRegressor_Lossguide**"
   ]
  },
  {
   "cell_type": "code",
   "execution_count": 50,
   "metadata": {},
   "outputs": [
    {
     "name": "stdout",
     "output_type": "stream",
     "text": [
      "RMSE: 1643.56\n",
      "CPU times: user 1min 26s, sys: 621 ms, total: 1min 27s\n",
      "Wall time: 1min 28s\n"
     ]
    }
   ],
   "source": [
    "%%time\n",
    "start_time = time()\n",
    "\n",
    "model = CatBoostRegressor(logging_level=\"Silent\",grow_policy=\"Lossguide\",random_state=RANDOM_STATE)\n",
    "model.fit(features_train, target_train)\n",
    "train_time = time()\n",
    "predicted = model.predict(features_valid)\n",
    "prediction_time = time()\n",
    "\n",
    "models_result[\"RMSE\"][\"CatBoostRegressor_Lossguide\"] = score_print(predicted,target_valid)\n",
    "models_result[\"TrainTime\"][\"CatBoostRegressor_Lossguide\"] = round(train_time - start_time,2)\n",
    "models_result[\"PredictionTime\"][\"CatBoostRegressor_Lossguide\"] = round(prediction_time - train_time,2)"
   ]
  },
  {
   "cell_type": "code",
   "execution_count": 51,
   "metadata": {},
   "outputs": [
    {
     "data": {
      "image/png": "[encoded data removed]",
      "text/plain": [
       "<Figure size 432x288 with 1 Axes>"
      ]
     },
     "metadata": {
      "needs_background": "light"
     },
     "output_type": "display_data"
    }
   ],
   "source": [
    "df = pd.DataFrame(data={\"Features\": features.columns,\"Importance\": model.feature_importances_}).sort_values(by=\"Importance\",ascending=False)\n",
    "plt.bar(x=df[\"Features\"],height=df[\"Importance\"],color=\"purple\")\n",
    "plt.xticks(rotation=\"vertical\")\n",
    "plt.show()\n",
    "\n",
    "models_result[\"1st Importance\"][\"CatBoostRegressor_Lossguide\"] = df[\"Features\"][0]\n",
    "models_result[\"2nd Importance\"][\"CatBoostRegressor_Lossguide\"] = df[\"Features\"][1]\n",
    "models_result[\"3rd Importance\"][\"CatBoostRegressor_Lossguide\"] = df[\"Features\"][2]"
   ]
  },
  {
   "cell_type": "markdown",
   "metadata": {},
   "source": [
    "#### Dummy model"
   ]
  },
  {
   "cell_type": "markdown",
   "metadata": {},
   "source": [
    "**DummyRegressor**"
   ]
  },
  {
   "cell_type": "code",
   "execution_count": 56,
   "metadata": {},
   "outputs": [
    {
     "name": "stdout",
     "output_type": "stream",
     "text": [
      "RMSE: 1668.47\n",
      "CPU times: user 42.9 ms, sys: 32 µs, total: 43 ms\n",
      "Wall time: 40.3 ms\n"
     ]
    }
   ],
   "source": [
    "%%time\n",
    "start_time = time()\n",
    "\n",
    "dummy_model = DummyRegressor()\n",
    "dummy_model.fit(features_train,target_train)\n",
    "train_time = time()\n",
    "dummy_result = model.predict(features_valid)\n",
    "prediction_time = time()\n",
    "\n",
    "models_result[\"RMSE\"][\"DummyRegressor\"] = score_print(dummy_result,target_valid)\n",
    "models_result[\"TrainTime\"][\"DummyRegressor\"] = round(train_time - start_time,2)\n",
    "models_result[\"PredictionTime\"][\"DummyRegressor\"] = round(prediction_time - train_time,2)"
   ]
  },
  {
   "cell_type": "code",
   "execution_count": 57,
   "metadata": {
    "scrolled": false
   },
   "outputs": [
    {
     "data": {
      "image/png": "[encoded data removed]",
      "text/plain": [
       "<Figure size 432x288 with 1 Axes>"
      ]
     },
     "metadata": {
      "needs_background": "light"
     },
     "output_type": "display_data"
    }
   ],
   "source": [
    "df = pd.DataFrame(data={\"Features\": features.columns,\"Importance\": model.feature_importances_}).sort_values(by=\"Importance\",ascending=False)\n",
    "plt.bar(x=df[\"Features\"],height=df[\"Importance\"],color=\"purple\")\n",
    "plt.xticks(rotation=\"vertical\")\n",
    "plt.show()\n",
    "\n",
    "models_result[\"1st Importance\"][\"DummyRegressor\"] = \"-\"\n",
    "models_result[\"2nd Importance\"][\"DummyRegressor\"] = \"-\"\n",
    "models_result[\"3rd Importance\"][\"DummyRegressor\"] = \"-\""
   ]
  },
  {
   "cell_type": "markdown",
   "metadata": {},
   "source": [
    "## Анализ Моделей"
   ]
  },
  {
   "cell_type": "markdown",
   "metadata": {},
   "source": [
    "#### Общий анализ"
   ]
  },
  {
   "cell_type": "code",
   "execution_count": 58,
   "metadata": {
    "scrolled": false
   },
   "outputs": [
    {
     "data": {
      "text/html": [
       "<div>\n",
       "<style scoped>\n",
       "    .dataframe tbody tr th:only-of-type {\n",
       "        vertical-align: middle;\n",
       "    }\n",
       "\n",
       "    .dataframe tbody tr th {\n",
       "        vertical-align: top;\n",
       "    }\n",
       "\n",
       "    .dataframe thead th {\n",
       "        text-align: right;\n",
       "    }\n",
       "</style>\n",
       "<table border=\"1\" class=\"dataframe\">\n",
       "  <thead>\n",
       "    <tr style=\"text-align: right;\">\n",
       "      <th></th>\n",
       "      <th>RMSE</th>\n",
       "      <th>TrainTime</th>\n",
       "      <th>PredictionTime</th>\n",
       "      <th>1st Importance</th>\n",
       "      <th>2nd Importance</th>\n",
       "      <th>3rd Importance</th>\n",
       "    </tr>\n",
       "  </thead>\n",
       "  <tbody>\n",
       "    <tr>\n",
       "      <th>LinearRegression_auto</th>\n",
       "      <td>2857.57</td>\n",
       "      <td>3.28</td>\n",
       "      <td>0.19</td>\n",
       "      <td>RegistrationYear</td>\n",
       "      <td>Power</td>\n",
       "      <td>Model</td>\n",
       "    </tr>\n",
       "    <tr>\n",
       "      <th>RandomForestRegressor_friedman_mse</th>\n",
       "      <td>1712.1</td>\n",
       "      <td>206.77</td>\n",
       "      <td>1.88</td>\n",
       "      <td>RegistrationYear</td>\n",
       "      <td>Power</td>\n",
       "      <td>Model</td>\n",
       "    </tr>\n",
       "    <tr>\n",
       "      <th>RandomForestRegressor_poisson</th>\n",
       "      <td>1974.31</td>\n",
       "      <td>601.29</td>\n",
       "      <td>2.55</td>\n",
       "      <td>RegistrationYear</td>\n",
       "      <td>Power</td>\n",
       "      <td>Model</td>\n",
       "    </tr>\n",
       "    <tr>\n",
       "      <th>DecisionTreeRegressor_friedman_mse</th>\n",
       "      <td>2219.73</td>\n",
       "      <td>3.28</td>\n",
       "      <td>0.03</td>\n",
       "      <td>RegistrationYear</td>\n",
       "      <td>Power</td>\n",
       "      <td>Model</td>\n",
       "    </tr>\n",
       "    <tr>\n",
       "      <th>DecisionTreeRegressor_poisson</th>\n",
       "      <td>2413.45</td>\n",
       "      <td>9.46</td>\n",
       "      <td>0.04</td>\n",
       "      <td>RegistrationYear</td>\n",
       "      <td>Power</td>\n",
       "      <td>Model</td>\n",
       "    </tr>\n",
       "    <tr>\n",
       "      <th>LGBMRegressor_gbdt</th>\n",
       "      <td>1762.1</td>\n",
       "      <td>6.45</td>\n",
       "      <td>0.39</td>\n",
       "      <td>RegistrationYear</td>\n",
       "      <td>Power</td>\n",
       "      <td>Model</td>\n",
       "    </tr>\n",
       "    <tr>\n",
       "      <th>LGBMRegressor_dart</th>\n",
       "      <td>1972.13</td>\n",
       "      <td>18.52</td>\n",
       "      <td>0.29</td>\n",
       "      <td>RegistrationYear</td>\n",
       "      <td>Power</td>\n",
       "      <td>Model</td>\n",
       "    </tr>\n",
       "    <tr>\n",
       "      <th>CatBoostRegressor_SymmetricTree</th>\n",
       "      <td>1668.47</td>\n",
       "      <td>34.72</td>\n",
       "      <td>0.04</td>\n",
       "      <td>RegistrationYear</td>\n",
       "      <td>Power</td>\n",
       "      <td>Model</td>\n",
       "    </tr>\n",
       "    <tr>\n",
       "      <th>CatBoostRegressor_Depthwise</th>\n",
       "      <td>1638.1</td>\n",
       "      <td>73.67</td>\n",
       "      <td>0.63</td>\n",
       "      <td>RegistrationYear</td>\n",
       "      <td>Power</td>\n",
       "      <td>Model</td>\n",
       "    </tr>\n",
       "    <tr>\n",
       "      <th>CatBoostRegressor_Lossguide</th>\n",
       "      <td>1643.56</td>\n",
       "      <td>87.85</td>\n",
       "      <td>0.56</td>\n",
       "      <td>RegistrationYear</td>\n",
       "      <td>Power</td>\n",
       "      <td>Model</td>\n",
       "    </tr>\n",
       "    <tr>\n",
       "      <th>DummyRegressor</th>\n",
       "      <td>1668.47</td>\n",
       "      <td>0.0</td>\n",
       "      <td>0.04</td>\n",
       "      <td>-</td>\n",
       "      <td>-</td>\n",
       "      <td>-</td>\n",
       "    </tr>\n",
       "  </tbody>\n",
       "</table>\n",
       "</div>"
      ],
      "text/plain": [
       "                                       RMSE TrainTime PredictionTime  \\\n",
       "LinearRegression_auto               2857.57      3.28           0.19   \n",
       "RandomForestRegressor_friedman_mse   1712.1    206.77           1.88   \n",
       "RandomForestRegressor_poisson       1974.31    601.29           2.55   \n",
       "DecisionTreeRegressor_friedman_mse  2219.73      3.28           0.03   \n",
       "DecisionTreeRegressor_poisson       2413.45      9.46           0.04   \n",
       "LGBMRegressor_gbdt                   1762.1      6.45           0.39   \n",
       "LGBMRegressor_dart                  1972.13     18.52           0.29   \n",
       "CatBoostRegressor_SymmetricTree     1668.47     34.72           0.04   \n",
       "CatBoostRegressor_Depthwise          1638.1     73.67           0.63   \n",
       "CatBoostRegressor_Lossguide         1643.56     87.85           0.56   \n",
       "DummyRegressor                      1668.47       0.0           0.04   \n",
       "\n",
       "                                      1st Importance 2nd Importance  \\\n",
       "LinearRegression_auto               RegistrationYear          Power   \n",
       "RandomForestRegressor_friedman_mse  RegistrationYear          Power   \n",
       "RandomForestRegressor_poisson       RegistrationYear          Power   \n",
       "DecisionTreeRegressor_friedman_mse  RegistrationYear          Power   \n",
       "DecisionTreeRegressor_poisson       RegistrationYear          Power   \n",
       "LGBMRegressor_gbdt                  RegistrationYear          Power   \n",
       "LGBMRegressor_dart                  RegistrationYear          Power   \n",
       "CatBoostRegressor_SymmetricTree     RegistrationYear          Power   \n",
       "CatBoostRegressor_Depthwise         RegistrationYear          Power   \n",
       "CatBoostRegressor_Lossguide         RegistrationYear          Power   \n",
       "DummyRegressor                                     -              -   \n",
       "\n",
       "                                   3rd Importance  \n",
       "LinearRegression_auto                       Model  \n",
       "RandomForestRegressor_friedman_mse          Model  \n",
       "RandomForestRegressor_poisson               Model  \n",
       "DecisionTreeRegressor_friedman_mse          Model  \n",
       "DecisionTreeRegressor_poisson               Model  \n",
       "LGBMRegressor_gbdt                          Model  \n",
       "LGBMRegressor_dart                          Model  \n",
       "CatBoostRegressor_SymmetricTree             Model  \n",
       "CatBoostRegressor_Depthwise                 Model  \n",
       "CatBoostRegressor_Lossguide                 Model  \n",
       "DummyRegressor                                  -  "
      ]
     },
     "metadata": {},
     "output_type": "display_data"
    }
   ],
   "source": [
    "display(models_result)"
   ]
  },
  {
   "cell_type": "markdown",
   "metadata": {},
   "source": [
    "**Вывод:**"
   ]
  },
  {
   "cell_type": "markdown",
   "metadata": {},
   "source": [
    "- Самая быстрая модель по обучению - DecisionTreeRegressor_friedman_mse\n",
    "- Самая быстрая модель по предсказанию - DecisionTreeRegressor_friedman_mse\n",
    "- Самая быстрая модель с хорошим качеством (RMSE < 2000) - CatBoostRegressor_SymmetricTree\n",
    "- Самая качественная модель - CatBoostRegressor_Depthwise\n",
    "- Лучшая модель по время.качество - CatBoostRegressor_SymmetricTree\n",
    "- Самая медленная модель по обучению - RandomForestRegressor_poisson\n",
    "- Самая медленная модель по предсказанию - RandomForestRegressor_poisson\n",
    "- Самая не качественная модель - LinearRegression_auto\n",
    "- Все модели показали себя лучше, чем дефолтная модель\n",
    "- Самым важным признаком является \"RegistrationYear\""
   ]
  },
  {
   "cell_type": "markdown",
   "metadata": {},
   "source": [
    "### Проверка на тестовой выборке"
   ]
  },
  {
   "cell_type": "markdown",
   "metadata": {},
   "source": [
    "Проверим лучшую модель по время.качество на тестовой выборке:"
   ]
  },
  {
   "cell_type": "code",
   "execution_count": 59,
   "metadata": {},
   "outputs": [
    {
     "name": "stdout",
     "output_type": "stream",
     "text": [
      "Общее время: 38.09\n",
      "RMSE: 1646.09\n"
     ]
    }
   ],
   "source": [
    "start_time = time()\n",
    "\n",
    "model = CatBoostRegressor(logging_level=\"Silent\",grow_policy=\"SymmetricTree\",random_state=RANDOM_STATE)\n",
    "model.fit(features_train, target_train)\n",
    "predicted = model.predict(features_test)\n",
    "\n",
    "print(\"Общее время:\",round(time() - start_time,2))\n",
    "print(\"RMSE:\",round(rmse(predicted,target_test),2))"
   ]
  },
  {
   "cell_type": "markdown",
   "metadata": {},
   "source": [
    "**Вывод:**"
   ]
  },
  {
   "cell_type": "markdown",
   "metadata": {},
   "source": [
    "Модель подтвердила свое качество и скорость работы на тестовой выборке. "
   ]
  },
  {
   "cell_type": "markdown",
   "metadata": {},
   "source": [
    "## Общий вывод"
   ]
  },
  {
   "cell_type": "markdown",
   "metadata": {},
   "source": [
    "В ходе проекта были проанализированы данные и проведена их предобработка. Данные были подготовлены к обучению моделей и их проверки. По результатам моделирования, модель CatBoostRegressor_SymmetricTree показала себя лучше всего с хорошим соотношением качества и скорости работы. Показатель RMSE на тестовой выборке показал 1646, а скорость обучения и предсказания была равно 38 секунд.\n",
    "\n",
    "В результате, данные и модель обученная на данных может быть использована для подсчета рыночной стоимости автомобиля для сервиса \"Не бит, не крашен\" "
   ]
  }
 ],
 "metadata": {
  "ExecuteTimeLog": [
   {
    "duration": 1683,
    "start_time": "2023-02-08T18:29:28.622Z"
   },
   {
    "duration": 3240,
    "start_time": "2023-02-08T18:29:30.307Z"
   },
   {
    "duration": 121,
    "start_time": "2023-02-08T18:29:33.549Z"
   },
   {
    "duration": 0,
    "start_time": "2023-02-08T18:29:33.672Z"
   },
   {
    "duration": 0,
    "start_time": "2023-02-08T18:29:33.674Z"
   },
   {
    "duration": 0,
    "start_time": "2023-02-08T18:29:33.675Z"
   },
   {
    "duration": 0,
    "start_time": "2023-02-08T18:29:33.676Z"
   },
   {
    "duration": 840,
    "start_time": "2023-02-08T18:29:44.093Z"
   },
   {
    "duration": 24,
    "start_time": "2023-02-08T18:29:44.935Z"
   },
   {
    "duration": 26,
    "start_time": "2023-02-08T18:29:44.962Z"
   },
   {
    "duration": 144,
    "start_time": "2023-02-08T18:29:45.047Z"
   },
   {
    "duration": 96,
    "start_time": "2023-02-08T18:29:45.227Z"
   },
   {
    "duration": 447,
    "start_time": "2023-02-08T18:29:45.732Z"
   },
   {
    "duration": 1105,
    "start_time": "2023-02-08T18:30:06.719Z"
   },
   {
    "duration": 221,
    "start_time": "2023-02-08T18:32:53.974Z"
   },
   {
    "duration": 1251,
    "start_time": "2023-02-08T18:33:25.149Z"
   },
   {
    "duration": 1348,
    "start_time": "2023-02-08T18:33:39.395Z"
   },
   {
    "duration": 83,
    "start_time": "2023-02-08T18:34:39.166Z"
   },
   {
    "duration": 88,
    "start_time": "2023-02-08T18:35:01.724Z"
   },
   {
    "duration": 1318,
    "start_time": "2023-02-08T18:39:57.221Z"
   },
   {
    "duration": 17,
    "start_time": "2023-02-08T18:40:11.121Z"
   },
   {
    "duration": 193,
    "start_time": "2023-02-08T18:40:45.845Z"
   },
   {
    "duration": 54,
    "start_time": "2023-02-08T18:41:13.737Z"
   },
   {
    "duration": 195,
    "start_time": "2023-02-08T18:41:17.166Z"
   },
   {
    "duration": 20,
    "start_time": "2023-02-08T18:41:28.574Z"
   },
   {
    "duration": 501,
    "start_time": "2023-02-08T18:42:06.130Z"
   },
   {
    "duration": 327,
    "start_time": "2023-02-08T18:42:14.041Z"
   },
   {
    "duration": 1669,
    "start_time": "2023-02-08T18:42:42.014Z"
   },
   {
    "duration": 1026,
    "start_time": "2023-02-08T18:42:43.693Z"
   },
   {
    "duration": 16,
    "start_time": "2023-02-08T18:42:44.721Z"
   },
   {
    "duration": 23,
    "start_time": "2023-02-08T18:42:44.739Z"
   },
   {
    "duration": 165,
    "start_time": "2023-02-08T18:42:44.765Z"
   },
   {
    "duration": 104,
    "start_time": "2023-02-08T18:42:44.932Z"
   },
   {
    "duration": 572,
    "start_time": "2023-02-08T18:42:45.037Z"
   },
   {
    "duration": 1225,
    "start_time": "2023-02-08T18:42:45.611Z"
   },
   {
    "duration": 184,
    "start_time": "2023-02-08T18:42:46.838Z"
   },
   {
    "duration": 351,
    "start_time": "2023-02-08T18:42:47.025Z"
   },
   {
    "duration": 23,
    "start_time": "2023-02-08T18:42:47.378Z"
   },
   {
    "duration": 65,
    "start_time": "2023-02-08T18:42:47.402Z"
   },
   {
    "duration": 34,
    "start_time": "2023-02-08T18:42:48.224Z"
   },
   {
    "duration": 300,
    "start_time": "2023-02-08T18:42:48.824Z"
   },
   {
    "duration": 1492,
    "start_time": "2023-02-08T18:43:06.879Z"
   },
   {
    "duration": 881,
    "start_time": "2023-02-08T18:43:08.373Z"
   },
   {
    "duration": 19,
    "start_time": "2023-02-08T18:43:09.256Z"
   },
   {
    "duration": 13,
    "start_time": "2023-02-08T18:43:09.277Z"
   },
   {
    "duration": 188,
    "start_time": "2023-02-08T18:43:09.292Z"
   },
   {
    "duration": 110,
    "start_time": "2023-02-08T18:43:09.482Z"
   },
   {
    "duration": 531,
    "start_time": "2023-02-08T18:43:09.594Z"
   },
   {
    "duration": 1153,
    "start_time": "2023-02-08T18:43:10.127Z"
   },
   {
    "duration": 143,
    "start_time": "2023-02-08T18:43:11.281Z"
   },
   {
    "duration": 290,
    "start_time": "2023-02-08T18:43:11.425Z"
   },
   {
    "duration": 19,
    "start_time": "2023-02-08T18:43:11.716Z"
   },
   {
    "duration": 282,
    "start_time": "2023-02-08T18:43:11.736Z"
   },
   {
    "duration": 54,
    "start_time": "2023-02-08T18:43:14.758Z"
   },
   {
    "duration": 23,
    "start_time": "2023-02-08T18:45:03.818Z"
   },
   {
    "duration": 240,
    "start_time": "2023-02-08T18:45:37.592Z"
   },
   {
    "duration": 483,
    "start_time": "2023-02-08T18:45:49.043Z"
   },
   {
    "duration": 192,
    "start_time": "2023-02-08T18:46:11.535Z"
   },
   {
    "duration": 192,
    "start_time": "2023-02-08T18:46:17.360Z"
   },
   {
    "duration": 164,
    "start_time": "2023-02-08T18:46:23.583Z"
   },
   {
    "duration": 212,
    "start_time": "2023-02-08T18:46:26.519Z"
   },
   {
    "duration": 234,
    "start_time": "2023-02-08T18:48:59.949Z"
   },
   {
    "duration": 1646,
    "start_time": "2023-02-08T18:49:05.594Z"
   },
   {
    "duration": 284,
    "start_time": "2023-02-08T18:49:13.449Z"
   },
   {
    "duration": 222,
    "start_time": "2023-02-08T18:49:16.531Z"
   },
   {
    "duration": 1979,
    "start_time": "2023-02-08T18:49:26.798Z"
   },
   {
    "duration": 314,
    "start_time": "2023-02-08T18:49:42.979Z"
   },
   {
    "duration": 29,
    "start_time": "2023-02-08T18:50:33.328Z"
   },
   {
    "duration": 1493,
    "start_time": "2023-02-08T18:53:46.470Z"
   },
   {
    "duration": 909,
    "start_time": "2023-02-08T18:53:47.965Z"
   },
   {
    "duration": 16,
    "start_time": "2023-02-08T18:53:48.877Z"
   },
   {
    "duration": 16,
    "start_time": "2023-02-08T18:53:48.895Z"
   },
   {
    "duration": 172,
    "start_time": "2023-02-08T18:53:48.913Z"
   },
   {
    "duration": 116,
    "start_time": "2023-02-08T18:53:49.087Z"
   },
   {
    "duration": 506,
    "start_time": "2023-02-08T18:53:49.204Z"
   },
   {
    "duration": 1082,
    "start_time": "2023-02-08T18:53:49.712Z"
   },
   {
    "duration": 139,
    "start_time": "2023-02-08T18:53:50.796Z"
   },
   {
    "duration": 56,
    "start_time": "2023-02-08T18:53:50.936Z"
   },
   {
    "duration": 17,
    "start_time": "2023-02-08T18:53:50.993Z"
   },
   {
    "duration": 277,
    "start_time": "2023-02-08T18:53:51.012Z"
   },
   {
    "duration": 30,
    "start_time": "2023-02-08T18:53:51.291Z"
   },
   {
    "duration": 32,
    "start_time": "2023-02-08T18:53:51.323Z"
   },
   {
    "duration": 188,
    "start_time": "2023-02-08T18:53:51.359Z"
   },
   {
    "duration": 35,
    "start_time": "2023-02-08T18:53:51.549Z"
   },
   {
    "duration": 16,
    "start_time": "2023-02-08T18:58:09.918Z"
   },
   {
    "duration": 202,
    "start_time": "2023-02-08T18:58:29.638Z"
   },
   {
    "duration": 405,
    "start_time": "2023-02-08T18:58:36.134Z"
   },
   {
    "duration": 13,
    "start_time": "2023-02-08T18:59:31.553Z"
   },
   {
    "duration": 7,
    "start_time": "2023-02-08T18:59:50.024Z"
   },
   {
    "duration": 8,
    "start_time": "2023-02-08T18:59:57.024Z"
   },
   {
    "duration": 10,
    "start_time": "2023-02-08T19:00:06.920Z"
   },
   {
    "duration": 14,
    "start_time": "2023-02-08T19:00:19.382Z"
   },
   {
    "duration": 147,
    "start_time": "2023-02-08T19:00:28.681Z"
   },
   {
    "duration": 14,
    "start_time": "2023-02-08T19:00:59.773Z"
   },
   {
    "duration": 21,
    "start_time": "2023-02-08T19:01:17.048Z"
   },
   {
    "duration": 59,
    "start_time": "2023-02-08T19:01:27.534Z"
   },
   {
    "duration": 22,
    "start_time": "2023-02-08T19:02:46.320Z"
   },
   {
    "duration": 24,
    "start_time": "2023-02-08T19:02:50.069Z"
   },
   {
    "duration": 125,
    "start_time": "2023-02-08T19:04:13.225Z"
   },
   {
    "duration": 1816,
    "start_time": "2023-02-08T19:05:02.518Z"
   },
   {
    "duration": 6,
    "start_time": "2023-02-08T19:05:11.075Z"
   },
   {
    "duration": 109,
    "start_time": "2023-02-08T19:06:16.622Z"
   },
   {
    "duration": 10,
    "start_time": "2023-02-08T19:08:47.102Z"
   },
   {
    "duration": 1269,
    "start_time": "2023-02-08T19:08:54.936Z"
   },
   {
    "duration": 1186,
    "start_time": "2023-02-08T19:09:12.544Z"
   },
   {
    "duration": 98,
    "start_time": "2023-02-08T19:09:28.489Z"
   },
   {
    "duration": 88,
    "start_time": "2023-02-08T19:09:36.081Z"
   },
   {
    "duration": 96,
    "start_time": "2023-02-08T19:09:55.305Z"
   },
   {
    "duration": 2,
    "start_time": "2023-02-08T19:10:07.808Z"
   },
   {
    "duration": 109,
    "start_time": "2023-02-08T19:27:20.244Z"
   },
   {
    "duration": 2220,
    "start_time": "2023-02-11T15:47:13.724Z"
   },
   {
    "duration": 7,
    "start_time": "2023-02-11T15:47:15.948Z"
   },
   {
    "duration": 4345,
    "start_time": "2023-02-11T15:47:15.957Z"
   },
   {
    "duration": 25,
    "start_time": "2023-02-11T15:47:20.304Z"
   },
   {
    "duration": 20,
    "start_time": "2023-02-11T15:47:20.332Z"
   },
   {
    "duration": 248,
    "start_time": "2023-02-11T15:47:20.354Z"
   },
   {
    "duration": 135,
    "start_time": "2023-02-11T15:47:20.604Z"
   },
   {
    "duration": 71,
    "start_time": "2023-02-11T15:47:20.741Z"
   },
   {
    "duration": 317,
    "start_time": "2023-02-11T15:47:20.816Z"
   },
   {
    "duration": 598,
    "start_time": "2023-02-11T15:47:21.135Z"
   },
   {
    "duration": 117,
    "start_time": "2023-02-11T15:47:21.735Z"
   },
   {
    "duration": 35,
    "start_time": "2023-02-11T15:47:21.854Z"
   },
   {
    "duration": 424,
    "start_time": "2023-02-11T15:47:21.898Z"
   },
   {
    "duration": 25,
    "start_time": "2023-02-11T15:47:22.328Z"
   },
   {
    "duration": 33,
    "start_time": "2023-02-11T15:47:22.355Z"
   },
   {
    "duration": 269,
    "start_time": "2023-02-11T15:47:22.390Z"
   },
   {
    "duration": 35,
    "start_time": "2023-02-11T15:47:22.661Z"
   },
   {
    "duration": 48,
    "start_time": "2023-02-11T15:47:22.702Z"
   },
   {
    "duration": 30,
    "start_time": "2023-02-11T15:47:22.752Z"
   },
   {
    "duration": 132,
    "start_time": "2023-02-11T15:47:22.784Z"
   },
   {
    "duration": 187,
    "start_time": "2023-02-11T15:47:22.919Z"
   },
   {
    "duration": 153,
    "start_time": "2023-02-11T15:47:26.693Z"
   },
   {
    "duration": 346,
    "start_time": "2023-02-11T15:49:14.345Z"
   },
   {
    "duration": 4,
    "start_time": "2023-02-11T15:50:57.656Z"
   },
   {
    "duration": 137,
    "start_time": "2023-02-11T15:51:15.992Z"
   },
   {
    "duration": 32,
    "start_time": "2023-02-11T15:55:51.895Z"
   },
   {
    "duration": 204,
    "start_time": "2023-02-11T15:56:01.736Z"
   },
   {
    "duration": 7,
    "start_time": "2023-02-11T15:56:07.739Z"
   },
   {
    "duration": 7,
    "start_time": "2023-02-11T15:56:12.414Z"
   },
   {
    "duration": 81,
    "start_time": "2023-02-11T15:56:20.367Z"
   },
   {
    "duration": 1639,
    "start_time": "2023-02-12T07:28:29.262Z"
   },
   {
    "duration": 3,
    "start_time": "2023-02-12T07:28:30.903Z"
   },
   {
    "duration": 23,
    "start_time": "2023-02-12T07:28:30.907Z"
   },
   {
    "duration": 3274,
    "start_time": "2023-02-12T07:28:30.932Z"
   },
   {
    "duration": 16,
    "start_time": "2023-02-12T07:28:34.208Z"
   },
   {
    "duration": 13,
    "start_time": "2023-02-12T07:28:34.225Z"
   },
   {
    "duration": 138,
    "start_time": "2023-02-12T07:28:34.240Z"
   },
   {
    "duration": 158,
    "start_time": "2023-02-12T07:28:34.380Z"
   },
   {
    "duration": 53,
    "start_time": "2023-02-12T07:28:34.541Z"
   },
   {
    "duration": 311,
    "start_time": "2023-02-12T07:28:34.596Z"
   },
   {
    "duration": 462,
    "start_time": "2023-02-12T07:28:34.910Z"
   },
   {
    "duration": 74,
    "start_time": "2023-02-12T07:28:35.374Z"
   },
   {
    "duration": 32,
    "start_time": "2023-02-12T07:28:35.449Z"
   },
   {
    "duration": 270,
    "start_time": "2023-02-12T07:28:35.483Z"
   },
   {
    "duration": 28,
    "start_time": "2023-02-12T07:28:35.755Z"
   },
   {
    "duration": 16,
    "start_time": "2023-02-12T07:28:35.784Z"
   },
   {
    "duration": 206,
    "start_time": "2023-02-12T07:28:35.802Z"
   },
   {
    "duration": 21,
    "start_time": "2023-02-12T07:28:36.010Z"
   },
   {
    "duration": 35,
    "start_time": "2023-02-12T07:28:36.033Z"
   },
   {
    "duration": 21,
    "start_time": "2023-02-12T07:28:36.070Z"
   },
   {
    "duration": 87,
    "start_time": "2023-02-12T07:28:36.092Z"
   },
   {
    "duration": 119,
    "start_time": "2023-02-12T07:28:36.181Z"
   },
   {
    "duration": 91,
    "start_time": "2023-02-12T07:28:36.301Z"
   },
   {
    "duration": 213,
    "start_time": "2023-02-12T07:28:36.393Z"
   },
   {
    "duration": 104,
    "start_time": "2023-02-12T07:28:36.608Z"
   },
   {
    "duration": 27,
    "start_time": "2023-02-12T07:28:36.714Z"
   },
   {
    "duration": 28,
    "start_time": "2023-02-12T08:08:52.389Z"
   },
   {
    "duration": 129,
    "start_time": "2023-02-12T08:08:52.980Z"
   },
   {
    "duration": 33,
    "start_time": "2023-02-12T08:09:00.979Z"
   },
   {
    "duration": 10757,
    "start_time": "2023-02-12T08:09:01.361Z"
   },
   {
    "duration": 1354,
    "start_time": "2023-02-12T08:09:28.290Z"
   },
   {
    "duration": 2,
    "start_time": "2023-02-12T08:09:29.646Z"
   },
   {
    "duration": 5,
    "start_time": "2023-02-12T08:09:29.650Z"
   },
   {
    "duration": 847,
    "start_time": "2023-02-12T08:09:29.657Z"
   },
   {
    "duration": 17,
    "start_time": "2023-02-12T08:09:30.506Z"
   },
   {
    "duration": 14,
    "start_time": "2023-02-12T08:09:30.524Z"
   },
   {
    "duration": 167,
    "start_time": "2023-02-12T08:09:30.539Z"
   },
   {
    "duration": 110,
    "start_time": "2023-02-12T08:09:30.707Z"
   },
   {
    "duration": 60,
    "start_time": "2023-02-12T08:09:30.819Z"
   },
   {
    "duration": 217,
    "start_time": "2023-02-12T08:09:30.882Z"
   },
   {
    "duration": 432,
    "start_time": "2023-02-12T08:09:31.100Z"
   },
   {
    "duration": 90,
    "start_time": "2023-02-12T08:09:31.534Z"
   },
   {
    "duration": 17,
    "start_time": "2023-02-12T08:09:31.625Z"
   },
   {
    "duration": 280,
    "start_time": "2023-02-12T08:09:31.644Z"
   },
   {
    "duration": 23,
    "start_time": "2023-02-12T08:09:31.926Z"
   },
   {
    "duration": 36,
    "start_time": "2023-02-12T08:09:31.950Z"
   },
   {
    "duration": 199,
    "start_time": "2023-02-12T08:09:31.988Z"
   },
   {
    "duration": 20,
    "start_time": "2023-02-12T08:09:32.188Z"
   },
   {
    "duration": 14,
    "start_time": "2023-02-12T08:09:32.210Z"
   },
   {
    "duration": 44,
    "start_time": "2023-02-12T08:09:32.226Z"
   },
   {
    "duration": 77,
    "start_time": "2023-02-12T08:09:32.272Z"
   },
   {
    "duration": 97,
    "start_time": "2023-02-12T08:09:32.350Z"
   },
   {
    "duration": 90,
    "start_time": "2023-02-12T08:09:32.449Z"
   },
   {
    "duration": 218,
    "start_time": "2023-02-12T08:09:32.541Z"
   },
   {
    "duration": 44,
    "start_time": "2023-02-12T08:09:35.265Z"
   },
   {
    "duration": 10949,
    "start_time": "2023-02-12T08:09:36.208Z"
   },
   {
    "duration": 104,
    "start_time": "2023-02-12T08:10:09.654Z"
   },
   {
    "duration": 11,
    "start_time": "2023-02-12T08:12:48.792Z"
   },
   {
    "duration": 67,
    "start_time": "2023-02-12T08:14:14.541Z"
   },
   {
    "duration": 22,
    "start_time": "2023-02-12T08:14:20.519Z"
   },
   {
    "duration": 15,
    "start_time": "2023-02-12T08:14:49.437Z"
   },
   {
    "duration": 3,
    "start_time": "2023-02-12T08:18:03.473Z"
   },
   {
    "duration": 107,
    "start_time": "2023-02-12T08:18:05.431Z"
   },
   {
    "duration": 102,
    "start_time": "2023-02-12T08:18:21.652Z"
   },
   {
    "duration": 6,
    "start_time": "2023-02-12T08:18:52.555Z"
   },
   {
    "duration": 259,
    "start_time": "2023-02-12T08:19:00.050Z"
   },
   {
    "duration": 145,
    "start_time": "2023-02-12T08:19:07.503Z"
   },
   {
    "duration": 10632,
    "start_time": "2023-02-12T08:20:47.546Z"
   },
   {
    "duration": 40,
    "start_time": "2023-02-12T08:22:11.813Z"
   },
   {
    "duration": 160,
    "start_time": "2023-02-12T08:22:24.573Z"
   },
   {
    "duration": 145,
    "start_time": "2023-02-12T08:22:35.186Z"
   },
   {
    "duration": 7,
    "start_time": "2023-02-12T08:23:55.075Z"
   },
   {
    "duration": 106,
    "start_time": "2023-02-12T08:25:44.903Z"
   },
   {
    "duration": 82,
    "start_time": "2023-02-12T08:25:53.201Z"
   },
   {
    "duration": 8,
    "start_time": "2023-02-12T08:26:59.809Z"
   },
   {
    "duration": 4,
    "start_time": "2023-02-12T08:27:06.790Z"
   },
   {
    "duration": 13,
    "start_time": "2023-02-12T08:27:59.502Z"
   },
   {
    "duration": 4,
    "start_time": "2023-02-12T08:28:06.095Z"
   },
   {
    "duration": 1528,
    "start_time": "2023-02-12T08:31:06.443Z"
   },
   {
    "duration": 3,
    "start_time": "2023-02-12T08:31:07.973Z"
   },
   {
    "duration": 9,
    "start_time": "2023-02-12T08:31:07.977Z"
   },
   {
    "duration": 838,
    "start_time": "2023-02-12T08:31:07.988Z"
   },
   {
    "duration": 16,
    "start_time": "2023-02-12T08:31:08.828Z"
   },
   {
    "duration": 24,
    "start_time": "2023-02-12T08:31:08.846Z"
   },
   {
    "duration": 151,
    "start_time": "2023-02-12T08:31:08.872Z"
   },
   {
    "duration": 116,
    "start_time": "2023-02-12T08:31:09.025Z"
   },
   {
    "duration": 52,
    "start_time": "2023-02-12T08:31:09.143Z"
   },
   {
    "duration": 228,
    "start_time": "2023-02-12T08:31:09.197Z"
   },
   {
    "duration": 429,
    "start_time": "2023-02-12T08:31:09.426Z"
   },
   {
    "duration": 74,
    "start_time": "2023-02-12T08:31:09.868Z"
   },
   {
    "duration": 23,
    "start_time": "2023-02-12T08:31:09.944Z"
   },
   {
    "duration": 245,
    "start_time": "2023-02-12T08:31:09.969Z"
   },
   {
    "duration": 25,
    "start_time": "2023-02-12T08:31:10.216Z"
   },
   {
    "duration": 17,
    "start_time": "2023-02-12T08:31:10.243Z"
   },
   {
    "duration": 315,
    "start_time": "2023-02-12T08:31:10.262Z"
   },
   {
    "duration": 22,
    "start_time": "2023-02-12T08:31:10.579Z"
   },
   {
    "duration": 23,
    "start_time": "2023-02-12T08:31:10.603Z"
   },
   {
    "duration": 41,
    "start_time": "2023-02-12T08:31:10.628Z"
   },
   {
    "duration": 74,
    "start_time": "2023-02-12T08:31:10.671Z"
   },
   {
    "duration": 91,
    "start_time": "2023-02-12T08:31:10.747Z"
   },
   {
    "duration": 89,
    "start_time": "2023-02-12T08:31:10.840Z"
   },
   {
    "duration": 321,
    "start_time": "2023-02-12T08:31:10.930Z"
   },
   {
    "duration": 49,
    "start_time": "2023-02-12T08:31:11.253Z"
   },
   {
    "duration": 114,
    "start_time": "2023-02-12T08:31:11.304Z"
   },
   {
    "duration": 58,
    "start_time": "2023-02-12T08:31:11.420Z"
   },
   {
    "duration": 5,
    "start_time": "2023-02-12T08:31:11.480Z"
   },
   {
    "duration": 7,
    "start_time": "2023-02-12T08:31:11.486Z"
   },
   {
    "duration": 3,
    "start_time": "2023-02-12T08:31:15.521Z"
   },
   {
    "duration": 602,
    "start_time": "2023-02-12T08:31:17.162Z"
   },
   {
    "duration": 510,
    "start_time": "2023-02-12T08:31:49.224Z"
   },
   {
    "duration": 517,
    "start_time": "2023-02-12T08:31:53.465Z"
   },
   {
    "duration": 45,
    "start_time": "2023-02-12T08:37:58.560Z"
   },
   {
    "duration": 5,
    "start_time": "2023-02-12T08:38:26.357Z"
   },
   {
    "duration": 68,
    "start_time": "2023-02-12T08:39:03.231Z"
   },
   {
    "duration": 28,
    "start_time": "2023-02-12T08:39:18.385Z"
   },
   {
    "duration": 103,
    "start_time": "2023-02-12T08:52:27.764Z"
   },
   {
    "duration": 45,
    "start_time": "2023-02-12T08:53:21.045Z"
   },
   {
    "duration": 18,
    "start_time": "2023-02-12T08:53:58.395Z"
   },
   {
    "duration": 1385,
    "start_time": "2023-02-12T08:54:52.827Z"
   },
   {
    "duration": 3,
    "start_time": "2023-02-12T08:54:54.213Z"
   },
   {
    "duration": 6,
    "start_time": "2023-02-12T08:54:54.217Z"
   },
   {
    "duration": 773,
    "start_time": "2023-02-12T08:54:54.224Z"
   },
   {
    "duration": 16,
    "start_time": "2023-02-12T08:54:54.999Z"
   },
   {
    "duration": 12,
    "start_time": "2023-02-12T08:54:55.017Z"
   },
   {
    "duration": 142,
    "start_time": "2023-02-12T08:54:55.031Z"
   },
   {
    "duration": 120,
    "start_time": "2023-02-12T08:54:55.175Z"
   },
   {
    "duration": 36,
    "start_time": "2023-02-12T08:54:55.296Z"
   },
   {
    "duration": 184,
    "start_time": "2023-02-12T08:54:55.334Z"
   },
   {
    "duration": 325,
    "start_time": "2023-02-12T08:54:55.520Z"
   },
   {
    "duration": 83,
    "start_time": "2023-02-12T08:54:55.846Z"
   },
   {
    "duration": 14,
    "start_time": "2023-02-12T08:54:55.931Z"
   },
   {
    "duration": 229,
    "start_time": "2023-02-12T08:54:55.948Z"
   },
   {
    "duration": 21,
    "start_time": "2023-02-12T08:54:56.179Z"
   },
   {
    "duration": 17,
    "start_time": "2023-02-12T08:54:56.202Z"
   },
   {
    "duration": 194,
    "start_time": "2023-02-12T08:54:56.220Z"
   },
   {
    "duration": 20,
    "start_time": "2023-02-12T08:54:56.416Z"
   },
   {
    "duration": 31,
    "start_time": "2023-02-12T08:54:56.439Z"
   },
   {
    "duration": 20,
    "start_time": "2023-02-12T08:54:56.472Z"
   },
   {
    "duration": 88,
    "start_time": "2023-02-12T08:54:56.494Z"
   },
   {
    "duration": 87,
    "start_time": "2023-02-12T08:54:56.584Z"
   },
   {
    "duration": 95,
    "start_time": "2023-02-12T08:54:56.673Z"
   },
   {
    "duration": 248,
    "start_time": "2023-02-12T08:54:57.591Z"
   },
   {
    "duration": 119,
    "start_time": "2023-02-12T08:55:57.177Z"
   },
   {
    "duration": 22,
    "start_time": "2023-02-12T08:56:04.625Z"
   },
   {
    "duration": 21,
    "start_time": "2023-02-12T08:56:12.177Z"
   },
   {
    "duration": 21,
    "start_time": "2023-02-12T08:56:23.687Z"
   },
   {
    "duration": 98,
    "start_time": "2023-02-12T08:57:33.238Z"
   },
   {
    "duration": 13,
    "start_time": "2023-02-12T08:57:39.631Z"
   },
   {
    "duration": 1424,
    "start_time": "2023-02-12T08:57:50.138Z"
   },
   {
    "duration": 5,
    "start_time": "2023-02-12T08:57:51.563Z"
   },
   {
    "duration": 6,
    "start_time": "2023-02-12T08:57:51.569Z"
   },
   {
    "duration": 790,
    "start_time": "2023-02-12T08:57:51.577Z"
   },
   {
    "duration": 15,
    "start_time": "2023-02-12T08:57:52.369Z"
   },
   {
    "duration": 11,
    "start_time": "2023-02-12T08:57:52.385Z"
   },
   {
    "duration": 146,
    "start_time": "2023-02-12T08:57:52.397Z"
   },
   {
    "duration": 92,
    "start_time": "2023-02-12T08:57:52.545Z"
   },
   {
    "duration": 52,
    "start_time": "2023-02-12T08:57:52.638Z"
   },
   {
    "duration": 199,
    "start_time": "2023-02-12T08:57:52.691Z"
   },
   {
    "duration": 410,
    "start_time": "2023-02-12T08:57:52.892Z"
   },
   {
    "duration": 81,
    "start_time": "2023-02-12T08:57:53.304Z"
   },
   {
    "duration": 15,
    "start_time": "2023-02-12T08:57:53.387Z"
   },
   {
    "duration": 245,
    "start_time": "2023-02-12T08:57:53.404Z"
   },
   {
    "duration": 31,
    "start_time": "2023-02-12T08:57:53.650Z"
   },
   {
    "duration": 16,
    "start_time": "2023-02-12T08:57:53.682Z"
   },
   {
    "duration": 197,
    "start_time": "2023-02-12T08:57:53.699Z"
   },
   {
    "duration": 22,
    "start_time": "2023-02-12T08:57:53.898Z"
   },
   {
    "duration": 16,
    "start_time": "2023-02-12T08:57:53.922Z"
   },
   {
    "duration": 45,
    "start_time": "2023-02-12T08:57:53.939Z"
   },
   {
    "duration": 68,
    "start_time": "2023-02-12T08:57:53.986Z"
   },
   {
    "duration": 72,
    "start_time": "2023-02-12T08:57:54.067Z"
   },
   {
    "duration": 76,
    "start_time": "2023-02-12T08:57:54.140Z"
   },
   {
    "duration": 299,
    "start_time": "2023-02-12T08:57:54.217Z"
   },
   {
    "duration": 120,
    "start_time": "2023-02-12T08:57:59.004Z"
   },
   {
    "duration": 89,
    "start_time": "2023-02-12T08:58:08.660Z"
   },
   {
    "duration": 54,
    "start_time": "2023-02-12T08:58:26.640Z"
   },
   {
    "duration": 20,
    "start_time": "2023-02-12T08:58:27.483Z"
   },
   {
    "duration": 86,
    "start_time": "2023-02-12T08:58:27.666Z"
   },
   {
    "duration": 4,
    "start_time": "2023-02-12T08:58:32.746Z"
   },
   {
    "duration": 3073,
    "start_time": "2023-02-12T08:58:37.502Z"
   },
   {
    "duration": 3126,
    "start_time": "2023-02-12T08:58:45.747Z"
   },
   {
    "duration": 3277,
    "start_time": "2023-02-12T08:58:58.394Z"
   },
   {
    "duration": 4,
    "start_time": "2023-02-12T12:30:28.351Z"
   },
   {
    "duration": 11,
    "start_time": "2023-02-12T12:32:24.847Z"
   },
   {
    "duration": 3091,
    "start_time": "2023-02-12T12:32:49.739Z"
   },
   {
    "duration": 97,
    "start_time": "2023-02-12T12:33:01.645Z"
   },
   {
    "duration": 6,
    "start_time": "2023-02-12T12:33:42.400Z"
   },
   {
    "duration": 109,
    "start_time": "2023-02-12T12:33:44.022Z"
   },
   {
    "duration": 4,
    "start_time": "2023-02-12T12:35:02.249Z"
   },
   {
    "duration": 109,
    "start_time": "2023-02-12T12:35:04.485Z"
   },
   {
    "duration": 94,
    "start_time": "2023-02-12T12:35:22.449Z"
   },
   {
    "duration": 4,
    "start_time": "2023-02-12T12:35:24.408Z"
   },
   {
    "duration": 104,
    "start_time": "2023-02-12T12:35:25.689Z"
   },
   {
    "duration": 82,
    "start_time": "2023-02-12T12:37:30.208Z"
   },
   {
    "duration": 98,
    "start_time": "2023-02-12T12:37:32.390Z"
   },
   {
    "duration": 1507,
    "start_time": "2023-02-12T12:37:40.206Z"
   },
   {
    "duration": 3,
    "start_time": "2023-02-12T12:37:41.715Z"
   },
   {
    "duration": 7,
    "start_time": "2023-02-12T12:37:41.720Z"
   },
   {
    "duration": 960,
    "start_time": "2023-02-12T12:37:41.729Z"
   },
   {
    "duration": 20,
    "start_time": "2023-02-12T12:37:42.691Z"
   },
   {
    "duration": 15,
    "start_time": "2023-02-12T12:37:42.713Z"
   },
   {
    "duration": 198,
    "start_time": "2023-02-12T12:37:42.729Z"
   },
   {
    "duration": 119,
    "start_time": "2023-02-12T12:37:42.929Z"
   },
   {
    "duration": 67,
    "start_time": "2023-02-12T12:37:43.049Z"
   },
   {
    "duration": 236,
    "start_time": "2023-02-12T12:37:43.118Z"
   },
   {
    "duration": 517,
    "start_time": "2023-02-12T12:37:43.356Z"
   },
   {
    "duration": 104,
    "start_time": "2023-02-12T12:37:43.875Z"
   },
   {
    "duration": 32,
    "start_time": "2023-02-12T12:37:43.981Z"
   },
   {
    "duration": 263,
    "start_time": "2023-02-12T12:37:44.015Z"
   },
   {
    "duration": 27,
    "start_time": "2023-02-12T12:37:44.280Z"
   },
   {
    "duration": 16,
    "start_time": "2023-02-12T12:37:44.309Z"
   },
   {
    "duration": 223,
    "start_time": "2023-02-12T12:37:44.327Z"
   },
   {
    "duration": 40,
    "start_time": "2023-02-12T12:37:44.552Z"
   },
   {
    "duration": 14,
    "start_time": "2023-02-12T12:37:44.594Z"
   },
   {
    "duration": 22,
    "start_time": "2023-02-12T12:37:44.609Z"
   },
   {
    "duration": 99,
    "start_time": "2023-02-12T12:37:44.633Z"
   },
   {
    "duration": 137,
    "start_time": "2023-02-12T12:37:44.733Z"
   },
   {
    "duration": 126,
    "start_time": "2023-02-12T12:37:44.872Z"
   },
   {
    "duration": 386,
    "start_time": "2023-02-12T12:37:45.001Z"
   },
   {
    "duration": 109,
    "start_time": "2023-02-12T12:37:45.391Z"
   },
   {
    "duration": 31,
    "start_time": "2023-02-12T12:37:45.502Z"
   },
   {
    "duration": 114,
    "start_time": "2023-02-12T12:37:45.534Z"
   },
   {
    "duration": 5,
    "start_time": "2023-02-12T12:37:45.649Z"
   },
   {
    "duration": 5,
    "start_time": "2023-02-12T12:37:45.667Z"
   },
   {
    "duration": 26,
    "start_time": "2023-02-12T12:37:45.674Z"
   },
   {
    "duration": 5086,
    "start_time": "2023-02-12T12:37:50.063Z"
   },
   {
    "duration": 4,
    "start_time": "2023-02-12T12:38:10.404Z"
   },
   {
    "duration": 91,
    "start_time": "2023-02-12T12:38:11.959Z"
   },
   {
    "duration": 1547,
    "start_time": "2023-02-12T12:38:19.387Z"
   },
   {
    "duration": 3,
    "start_time": "2023-02-12T12:38:20.936Z"
   },
   {
    "duration": 16,
    "start_time": "2023-02-12T12:38:20.941Z"
   },
   {
    "duration": 929,
    "start_time": "2023-02-12T12:38:20.959Z"
   },
   {
    "duration": 16,
    "start_time": "2023-02-12T12:38:21.892Z"
   },
   {
    "duration": 16,
    "start_time": "2023-02-12T12:38:21.910Z"
   },
   {
    "duration": 178,
    "start_time": "2023-02-12T12:38:21.928Z"
   },
   {
    "duration": 100,
    "start_time": "2023-02-12T12:38:22.107Z"
   },
   {
    "duration": 61,
    "start_time": "2023-02-12T12:38:22.209Z"
   },
   {
    "duration": 207,
    "start_time": "2023-02-12T12:38:22.272Z"
   },
   {
    "duration": 377,
    "start_time": "2023-02-12T12:38:22.482Z"
   },
   {
    "duration": 93,
    "start_time": "2023-02-12T12:38:22.860Z"
   },
   {
    "duration": 30,
    "start_time": "2023-02-12T12:38:22.955Z"
   },
   {
    "duration": 310,
    "start_time": "2023-02-12T12:38:22.990Z"
   },
   {
    "duration": 26,
    "start_time": "2023-02-12T12:38:23.301Z"
   },
   {
    "duration": 16,
    "start_time": "2023-02-12T12:38:23.329Z"
   },
   {
    "duration": 210,
    "start_time": "2023-02-12T12:38:23.347Z"
   },
   {
    "duration": 37,
    "start_time": "2023-02-12T12:38:23.559Z"
   },
   {
    "duration": 15,
    "start_time": "2023-02-12T12:38:23.597Z"
   },
   {
    "duration": 22,
    "start_time": "2023-02-12T12:38:23.614Z"
   },
   {
    "duration": 109,
    "start_time": "2023-02-12T12:38:23.637Z"
   },
   {
    "duration": 93,
    "start_time": "2023-02-12T12:38:23.748Z"
   },
   {
    "duration": 98,
    "start_time": "2023-02-12T12:38:23.843Z"
   },
   {
    "duration": 323,
    "start_time": "2023-02-12T12:38:23.943Z"
   },
   {
    "duration": 126,
    "start_time": "2023-02-12T12:38:24.268Z"
   },
   {
    "duration": 32,
    "start_time": "2023-02-12T12:38:24.397Z"
   },
   {
    "duration": 116,
    "start_time": "2023-02-12T12:38:24.430Z"
   },
   {
    "duration": 5,
    "start_time": "2023-02-12T12:38:24.548Z"
   },
   {
    "duration": 6,
    "start_time": "2023-02-12T12:38:24.554Z"
   },
   {
    "duration": 2,
    "start_time": "2023-02-12T12:38:24.568Z"
   },
   {
    "duration": 4491,
    "start_time": "2023-02-12T12:38:25.234Z"
   },
   {
    "duration": 1595,
    "start_time": "2023-02-12T12:38:45.562Z"
   },
   {
    "duration": 7,
    "start_time": "2023-02-12T12:38:47.160Z"
   },
   {
    "duration": 26,
    "start_time": "2023-02-12T12:38:47.169Z"
   },
   {
    "duration": 920,
    "start_time": "2023-02-12T12:38:47.197Z"
   },
   {
    "duration": 18,
    "start_time": "2023-02-12T12:38:48.119Z"
   },
   {
    "duration": 31,
    "start_time": "2023-02-12T12:38:48.139Z"
   },
   {
    "duration": 153,
    "start_time": "2023-02-12T12:38:48.172Z"
   },
   {
    "duration": 167,
    "start_time": "2023-02-12T12:38:48.326Z"
   },
   {
    "duration": 44,
    "start_time": "2023-02-12T12:38:48.495Z"
   },
   {
    "duration": 255,
    "start_time": "2023-02-12T12:38:48.541Z"
   },
   {
    "duration": 450,
    "start_time": "2023-02-12T12:38:48.798Z"
   },
   {
    "duration": 101,
    "start_time": "2023-02-12T12:38:49.250Z"
   },
   {
    "duration": 35,
    "start_time": "2023-02-12T12:38:49.353Z"
   },
   {
    "duration": 363,
    "start_time": "2023-02-12T12:38:49.391Z"
   },
   {
    "duration": 36,
    "start_time": "2023-02-12T12:38:49.756Z"
   },
   {
    "duration": 20,
    "start_time": "2023-02-12T12:38:49.793Z"
   },
   {
    "duration": 222,
    "start_time": "2023-02-12T12:38:49.815Z"
   },
   {
    "duration": 34,
    "start_time": "2023-02-12T12:38:50.039Z"
   },
   {
    "duration": 18,
    "start_time": "2023-02-12T12:38:50.075Z"
   },
   {
    "duration": 38,
    "start_time": "2023-02-12T12:38:50.095Z"
   },
   {
    "duration": 116,
    "start_time": "2023-02-12T12:38:50.135Z"
   },
   {
    "duration": 97,
    "start_time": "2023-02-12T12:38:50.254Z"
   },
   {
    "duration": 96,
    "start_time": "2023-02-12T12:38:50.353Z"
   },
   {
    "duration": 343,
    "start_time": "2023-02-12T12:38:50.451Z"
   },
   {
    "duration": 120,
    "start_time": "2023-02-12T12:38:50.796Z"
   },
   {
    "duration": 19,
    "start_time": "2023-02-12T12:38:50.918Z"
   },
   {
    "duration": 144,
    "start_time": "2023-02-12T12:38:50.939Z"
   },
   {
    "duration": 7,
    "start_time": "2023-02-12T12:38:51.086Z"
   },
   {
    "duration": 6,
    "start_time": "2023-02-12T12:38:51.096Z"
   },
   {
    "duration": 8,
    "start_time": "2023-02-12T12:38:51.105Z"
   },
   {
    "duration": 3554,
    "start_time": "2023-02-12T12:38:51.115Z"
   },
   {
    "duration": 6,
    "start_time": "2023-02-12T12:42:12.308Z"
   },
   {
    "duration": 1622,
    "start_time": "2023-02-12T12:42:17.933Z"
   },
   {
    "duration": 3,
    "start_time": "2023-02-12T12:42:19.557Z"
   },
   {
    "duration": 27,
    "start_time": "2023-02-12T12:42:19.562Z"
   },
   {
    "duration": 955,
    "start_time": "2023-02-12T12:42:19.591Z"
   },
   {
    "duration": 33,
    "start_time": "2023-02-12T12:42:20.550Z"
   },
   {
    "duration": 14,
    "start_time": "2023-02-12T12:42:20.586Z"
   },
   {
    "duration": 179,
    "start_time": "2023-02-12T12:42:20.602Z"
   },
   {
    "duration": 124,
    "start_time": "2023-02-12T12:42:20.783Z"
   },
   {
    "duration": 43,
    "start_time": "2023-02-12T12:42:20.909Z"
   },
   {
    "duration": 250,
    "start_time": "2023-02-12T12:42:20.954Z"
   },
   {
    "duration": 479,
    "start_time": "2023-02-12T12:42:21.205Z"
   },
   {
    "duration": 106,
    "start_time": "2023-02-12T12:42:21.687Z"
   },
   {
    "duration": 21,
    "start_time": "2023-02-12T12:42:21.796Z"
   },
   {
    "duration": 298,
    "start_time": "2023-02-12T12:42:21.819Z"
   },
   {
    "duration": 25,
    "start_time": "2023-02-12T12:42:22.118Z"
   },
   {
    "duration": 29,
    "start_time": "2023-02-12T12:42:22.145Z"
   },
   {
    "duration": 234,
    "start_time": "2023-02-12T12:42:22.176Z"
   },
   {
    "duration": 23,
    "start_time": "2023-02-12T12:42:22.414Z"
   },
   {
    "duration": 28,
    "start_time": "2023-02-12T12:42:22.439Z"
   },
   {
    "duration": 29,
    "start_time": "2023-02-12T12:42:22.469Z"
   },
   {
    "duration": 90,
    "start_time": "2023-02-12T12:42:22.500Z"
   },
   {
    "duration": 100,
    "start_time": "2023-02-12T12:42:22.593Z"
   },
   {
    "duration": 86,
    "start_time": "2023-02-12T12:42:22.695Z"
   },
   {
    "duration": 362,
    "start_time": "2023-02-12T12:42:22.784Z"
   },
   {
    "duration": 143,
    "start_time": "2023-02-12T12:42:23.148Z"
   },
   {
    "duration": 32,
    "start_time": "2023-02-12T12:42:23.293Z"
   },
   {
    "duration": 133,
    "start_time": "2023-02-12T12:42:23.327Z"
   },
   {
    "duration": 8,
    "start_time": "2023-02-12T12:42:23.462Z"
   },
   {
    "duration": 27,
    "start_time": "2023-02-12T12:42:23.471Z"
   },
   {
    "duration": 14,
    "start_time": "2023-02-12T12:42:23.500Z"
   },
   {
    "duration": 4251,
    "start_time": "2023-02-12T12:42:23.517Z"
   },
   {
    "duration": 3,
    "start_time": "2023-02-12T12:42:27.769Z"
   },
   {
    "duration": 3412818,
    "start_time": "2023-02-12T12:42:38.367Z"
   },
   {
    "duration": 1423,
    "start_time": "2023-02-12T14:31:45.616Z"
   },
   {
    "duration": 3,
    "start_time": "2023-02-12T14:31:47.041Z"
   },
   {
    "duration": 60,
    "start_time": "2023-02-12T14:31:47.046Z"
   },
   {
    "duration": 900,
    "start_time": "2023-02-12T14:31:47.108Z"
   },
   {
    "duration": 15,
    "start_time": "2023-02-12T14:31:48.010Z"
   },
   {
    "duration": 25,
    "start_time": "2023-02-12T14:31:48.027Z"
   },
   {
    "duration": 219,
    "start_time": "2023-02-12T14:31:48.053Z"
   },
   {
    "duration": 111,
    "start_time": "2023-02-12T14:31:48.274Z"
   },
   {
    "duration": 49,
    "start_time": "2023-02-12T14:31:48.390Z"
   },
   {
    "duration": 235,
    "start_time": "2023-02-12T14:31:48.440Z"
   },
   {
    "duration": 475,
    "start_time": "2023-02-12T14:31:48.677Z"
   },
   {
    "duration": 99,
    "start_time": "2023-02-12T14:31:49.154Z"
   },
   {
    "duration": 26,
    "start_time": "2023-02-12T14:31:49.254Z"
   },
   {
    "duration": 293,
    "start_time": "2023-02-12T14:31:49.286Z"
   },
   {
    "duration": 30,
    "start_time": "2023-02-12T14:31:49.586Z"
   },
   {
    "duration": 16,
    "start_time": "2023-02-12T14:31:49.618Z"
   },
   {
    "duration": 224,
    "start_time": "2023-02-12T14:31:49.635Z"
   },
   {
    "duration": 41,
    "start_time": "2023-02-12T14:31:49.860Z"
   },
   {
    "duration": 17,
    "start_time": "2023-02-12T14:31:49.908Z"
   },
   {
    "duration": 23,
    "start_time": "2023-02-12T14:31:49.927Z"
   },
   {
    "duration": 120,
    "start_time": "2023-02-12T14:31:49.951Z"
   },
   {
    "duration": 146,
    "start_time": "2023-02-12T14:31:50.073Z"
   },
   {
    "duration": 108,
    "start_time": "2023-02-12T14:31:50.221Z"
   },
   {
    "duration": 370,
    "start_time": "2023-02-12T14:31:50.331Z"
   },
   {
    "duration": 136,
    "start_time": "2023-02-12T14:31:50.704Z"
   },
   {
    "duration": 36,
    "start_time": "2023-02-12T14:31:50.842Z"
   },
   {
    "duration": 122,
    "start_time": "2023-02-12T14:31:50.884Z"
   },
   {
    "duration": 5,
    "start_time": "2023-02-12T14:31:51.012Z"
   },
   {
    "duration": 18,
    "start_time": "2023-02-12T14:31:51.018Z"
   },
   {
    "duration": 26,
    "start_time": "2023-02-12T14:31:51.038Z"
   },
   {
    "duration": 3520,
    "start_time": "2023-02-12T14:31:51.065Z"
   },
   {
    "duration": 77,
    "start_time": "2023-02-12T14:31:54.591Z"
   },
   {
    "duration": 263,
    "start_time": "2023-02-12T14:32:06.741Z"
   },
   {
    "duration": 143994,
    "start_time": "2023-02-12T14:32:23.924Z"
   },
   {
    "duration": 52,
    "start_time": "2023-02-12T14:43:43.535Z"
   },
   {
    "duration": 1325,
    "start_time": "2023-02-12T14:43:49.501Z"
   },
   {
    "duration": 3,
    "start_time": "2023-02-12T14:43:54.637Z"
   },
   {
    "duration": 1414,
    "start_time": "2023-02-12T14:47:19.293Z"
   },
   {
    "duration": 3,
    "start_time": "2023-02-12T14:47:20.709Z"
   },
   {
    "duration": 17,
    "start_time": "2023-02-12T14:47:20.713Z"
   },
   {
    "duration": 877,
    "start_time": "2023-02-12T14:47:20.732Z"
   },
   {
    "duration": 17,
    "start_time": "2023-02-12T14:47:21.611Z"
   },
   {
    "duration": 12,
    "start_time": "2023-02-12T14:47:21.629Z"
   },
   {
    "duration": 187,
    "start_time": "2023-02-12T14:47:21.643Z"
   },
   {
    "duration": 110,
    "start_time": "2023-02-12T14:47:21.832Z"
   },
   {
    "duration": 59,
    "start_time": "2023-02-12T14:47:21.943Z"
   },
   {
    "duration": 241,
    "start_time": "2023-02-12T14:47:22.004Z"
   },
   {
    "duration": 482,
    "start_time": "2023-02-12T14:47:22.247Z"
   },
   {
    "duration": 97,
    "start_time": "2023-02-12T14:47:22.731Z"
   },
   {
    "duration": 15,
    "start_time": "2023-02-12T14:47:22.830Z"
   },
   {
    "duration": 300,
    "start_time": "2023-02-12T14:47:22.848Z"
   },
   {
    "duration": 41,
    "start_time": "2023-02-12T14:47:23.149Z"
   },
   {
    "duration": 16,
    "start_time": "2023-02-12T14:47:23.192Z"
   },
   {
    "duration": 216,
    "start_time": "2023-02-12T14:47:23.210Z"
   },
   {
    "duration": 23,
    "start_time": "2023-02-12T14:47:23.428Z"
   },
   {
    "duration": 36,
    "start_time": "2023-02-12T14:47:23.452Z"
   },
   {
    "duration": 23,
    "start_time": "2023-02-12T14:47:23.490Z"
   },
   {
    "duration": 93,
    "start_time": "2023-02-12T14:47:23.515Z"
   },
   {
    "duration": 104,
    "start_time": "2023-02-12T14:47:23.610Z"
   },
   {
    "duration": 104,
    "start_time": "2023-02-12T14:47:23.715Z"
   },
   {
    "duration": 336,
    "start_time": "2023-02-12T14:47:23.821Z"
   },
   {
    "duration": 126,
    "start_time": "2023-02-12T14:47:24.158Z"
   },
   {
    "duration": 31,
    "start_time": "2023-02-12T14:47:24.291Z"
   },
   {
    "duration": 103,
    "start_time": "2023-02-12T14:47:24.324Z"
   },
   {
    "duration": 4,
    "start_time": "2023-02-12T14:47:24.428Z"
   },
   {
    "duration": 7,
    "start_time": "2023-02-12T14:47:24.433Z"
   },
   {
    "duration": 6,
    "start_time": "2023-02-12T14:47:24.441Z"
   },
   {
    "duration": 4853,
    "start_time": "2023-02-12T14:47:24.448Z"
   },
   {
    "duration": 9,
    "start_time": "2023-02-12T14:47:29.376Z"
   },
   {
    "duration": 158857,
    "start_time": "2023-02-12T14:47:29.387Z"
   },
   {
    "duration": 2,
    "start_time": "2023-02-12T14:50:08.246Z"
   },
   {
    "duration": 135852,
    "start_time": "2023-02-12T14:50:08.250Z"
   },
   {
    "duration": 2,
    "start_time": "2023-02-12T14:52:24.104Z"
   },
   {
    "duration": 3371765,
    "start_time": "2023-02-12T14:52:24.108Z"
   },
   {
    "duration": 4,
    "start_time": "2023-02-12T15:48:35.875Z"
   },
   {
    "duration": 146,
    "start_time": "2023-02-12T15:48:35.880Z"
   },
   {
    "duration": 0,
    "start_time": "2023-02-12T15:48:36.028Z"
   },
   {
    "duration": 0,
    "start_time": "2023-02-12T15:48:36.029Z"
   },
   {
    "duration": 1645,
    "start_time": "2023-02-12T15:49:23.612Z"
   },
   {
    "duration": 3,
    "start_time": "2023-02-12T15:49:25.262Z"
   },
   {
    "duration": 78,
    "start_time": "2023-02-12T15:49:25.266Z"
   },
   {
    "duration": 989,
    "start_time": "2023-02-12T15:49:25.347Z"
   },
   {
    "duration": 17,
    "start_time": "2023-02-12T15:49:26.338Z"
   },
   {
    "duration": 35,
    "start_time": "2023-02-12T15:49:26.357Z"
   },
   {
    "duration": 194,
    "start_time": "2023-02-12T15:49:26.394Z"
   },
   {
    "duration": 136,
    "start_time": "2023-02-12T15:49:26.590Z"
   },
   {
    "duration": 63,
    "start_time": "2023-02-12T15:49:26.730Z"
   },
   {
    "duration": 277,
    "start_time": "2023-02-12T15:49:26.795Z"
   },
   {
    "duration": 473,
    "start_time": "2023-02-12T15:49:27.073Z"
   },
   {
    "duration": 104,
    "start_time": "2023-02-12T15:49:27.548Z"
   },
   {
    "duration": 38,
    "start_time": "2023-02-12T15:49:27.654Z"
   },
   {
    "duration": 305,
    "start_time": "2023-02-12T15:49:27.696Z"
   },
   {
    "duration": 24,
    "start_time": "2023-02-12T15:49:28.010Z"
   },
   {
    "duration": 16,
    "start_time": "2023-02-12T15:49:28.035Z"
   },
   {
    "duration": 221,
    "start_time": "2023-02-12T15:49:28.053Z"
   },
   {
    "duration": 27,
    "start_time": "2023-02-12T15:49:28.281Z"
   },
   {
    "duration": 35,
    "start_time": "2023-02-12T15:49:28.310Z"
   },
   {
    "duration": 35,
    "start_time": "2023-02-12T15:49:28.346Z"
   },
   {
    "duration": 123,
    "start_time": "2023-02-12T15:49:28.386Z"
   },
   {
    "duration": 215,
    "start_time": "2023-02-12T15:49:28.512Z"
   },
   {
    "duration": 125,
    "start_time": "2023-02-12T15:49:28.729Z"
   },
   {
    "duration": 355,
    "start_time": "2023-02-12T15:49:28.856Z"
   },
   {
    "duration": 130,
    "start_time": "2023-02-12T15:49:29.216Z"
   },
   {
    "duration": 38,
    "start_time": "2023-02-12T15:49:29.348Z"
   },
   {
    "duration": 137,
    "start_time": "2023-02-12T15:49:29.391Z"
   },
   {
    "duration": 4,
    "start_time": "2023-02-12T15:49:29.529Z"
   },
   {
    "duration": 17,
    "start_time": "2023-02-12T15:49:29.535Z"
   },
   {
    "duration": 15,
    "start_time": "2023-02-12T15:49:29.554Z"
   },
   {
    "duration": 4915,
    "start_time": "2023-02-12T15:49:29.589Z"
   },
   {
    "duration": 15,
    "start_time": "2023-02-12T15:49:34.589Z"
   },
   {
    "duration": 174369,
    "start_time": "2023-02-12T15:49:34.612Z"
   },
   {
    "duration": 4,
    "start_time": "2023-02-12T15:52:28.983Z"
   },
   {
    "duration": 142962,
    "start_time": "2023-02-12T15:52:28.988Z"
   },
   {
    "duration": 2,
    "start_time": "2023-02-12T15:54:51.952Z"
   },
   {
    "duration": 8050419,
    "start_time": "2023-02-12T15:54:51.956Z"
   },
   {
    "duration": 8,
    "start_time": "2023-02-12T18:09:02.377Z"
   },
   {
    "duration": 43324,
    "start_time": "2023-02-12T18:09:02.388Z"
   },
   {
    "duration": 2,
    "start_time": "2023-02-12T18:09:45.714Z"
   },
   {
    "duration": 108,
    "start_time": "2023-02-12T18:09:45.719Z"
   },
   {
    "duration": 1438,
    "start_time": "2023-02-12T18:10:52.294Z"
   },
   {
    "duration": 3,
    "start_time": "2023-02-12T18:10:53.734Z"
   },
   {
    "duration": 6,
    "start_time": "2023-02-12T18:10:53.738Z"
   },
   {
    "duration": 907,
    "start_time": "2023-02-12T18:10:53.745Z"
   },
   {
    "duration": 17,
    "start_time": "2023-02-12T18:10:54.654Z"
   },
   {
    "duration": 30,
    "start_time": "2023-02-12T18:10:54.673Z"
   },
   {
    "duration": 186,
    "start_time": "2023-02-12T18:10:54.705Z"
   },
   {
    "duration": 124,
    "start_time": "2023-02-12T18:10:54.895Z"
   },
   {
    "duration": 64,
    "start_time": "2023-02-12T18:10:55.022Z"
   },
   {
    "duration": 246,
    "start_time": "2023-02-12T18:10:55.090Z"
   },
   {
    "duration": 399,
    "start_time": "2023-02-12T18:10:55.337Z"
   },
   {
    "duration": 94,
    "start_time": "2023-02-12T18:10:55.738Z"
   },
   {
    "duration": 18,
    "start_time": "2023-02-12T18:10:55.833Z"
   },
   {
    "duration": 289,
    "start_time": "2023-02-12T18:10:55.852Z"
   },
   {
    "duration": 35,
    "start_time": "2023-02-12T18:10:56.142Z"
   },
   {
    "duration": 21,
    "start_time": "2023-02-12T18:10:56.180Z"
   },
   {
    "duration": 237,
    "start_time": "2023-02-12T18:10:56.203Z"
   },
   {
    "duration": 35,
    "start_time": "2023-02-12T18:10:56.441Z"
   },
   {
    "duration": 19,
    "start_time": "2023-02-12T18:10:56.478Z"
   },
   {
    "duration": 20,
    "start_time": "2023-02-12T18:10:56.499Z"
   },
   {
    "duration": 127,
    "start_time": "2023-02-12T18:10:56.522Z"
   },
   {
    "duration": 97,
    "start_time": "2023-02-12T18:10:56.651Z"
   },
   {
    "duration": 118,
    "start_time": "2023-02-12T18:10:56.750Z"
   },
   {
    "duration": 349,
    "start_time": "2023-02-12T18:10:56.870Z"
   },
   {
    "duration": 112,
    "start_time": "2023-02-12T18:10:57.221Z"
   },
   {
    "duration": 17,
    "start_time": "2023-02-12T18:10:57.335Z"
   },
   {
    "duration": 128,
    "start_time": "2023-02-12T18:10:57.353Z"
   },
   {
    "duration": 5,
    "start_time": "2023-02-12T18:10:57.486Z"
   },
   {
    "duration": 12,
    "start_time": "2023-02-12T18:10:57.492Z"
   },
   {
    "duration": 14,
    "start_time": "2023-02-12T18:10:57.506Z"
   },
   {
    "duration": 3564,
    "start_time": "2023-02-12T18:10:57.522Z"
   },
   {
    "duration": 2,
    "start_time": "2023-02-12T18:11:01.088Z"
   },
   {
    "duration": 158780,
    "start_time": "2023-02-12T18:11:01.092Z"
   },
   {
    "duration": 3,
    "start_time": "2023-02-12T18:13:39.874Z"
   },
   {
    "duration": 128147,
    "start_time": "2023-02-12T18:13:39.878Z"
   },
   {
    "duration": 180,
    "start_time": "2023-02-12T18:15:53.217Z"
   },
   {
    "duration": 77,
    "start_time": "2023-02-12T18:16:40.445Z"
   },
   {
    "duration": 77,
    "start_time": "2023-02-12T18:16:43.818Z"
   },
   {
    "duration": 79,
    "start_time": "2023-02-12T18:16:48.651Z"
   },
   {
    "duration": 1733,
    "start_time": "2023-02-12T18:17:07.444Z"
   },
   {
    "duration": 4,
    "start_time": "2023-02-12T18:17:09.179Z"
   },
   {
    "duration": 9,
    "start_time": "2023-02-12T18:17:09.185Z"
   },
   {
    "duration": 940,
    "start_time": "2023-02-12T18:17:09.197Z"
   },
   {
    "duration": 17,
    "start_time": "2023-02-12T18:17:10.139Z"
   },
   {
    "duration": 25,
    "start_time": "2023-02-12T18:17:10.157Z"
   },
   {
    "duration": 170,
    "start_time": "2023-02-12T18:17:10.183Z"
   },
   {
    "duration": 89,
    "start_time": "2023-02-12T18:17:10.355Z"
   },
   {
    "duration": 70,
    "start_time": "2023-02-12T18:17:10.446Z"
   },
   {
    "duration": 244,
    "start_time": "2023-02-12T18:17:10.520Z"
   },
   {
    "duration": 397,
    "start_time": "2023-02-12T18:17:10.768Z"
   },
   {
    "duration": 89,
    "start_time": "2023-02-12T18:17:11.167Z"
   },
   {
    "duration": 22,
    "start_time": "2023-02-12T18:17:11.267Z"
   },
   {
    "duration": 269,
    "start_time": "2023-02-12T18:17:11.292Z"
   },
   {
    "duration": 23,
    "start_time": "2023-02-12T18:17:11.563Z"
   },
   {
    "duration": 17,
    "start_time": "2023-02-12T18:17:11.588Z"
   },
   {
    "duration": 223,
    "start_time": "2023-02-12T18:17:11.607Z"
   },
   {
    "duration": 50,
    "start_time": "2023-02-12T18:17:11.831Z"
   },
   {
    "duration": 17,
    "start_time": "2023-02-12T18:17:11.884Z"
   },
   {
    "duration": 22,
    "start_time": "2023-02-12T18:17:11.903Z"
   },
   {
    "duration": 95,
    "start_time": "2023-02-12T18:17:11.928Z"
   },
   {
    "duration": 109,
    "start_time": "2023-02-12T18:17:12.025Z"
   },
   {
    "duration": 87,
    "start_time": "2023-02-12T18:17:12.136Z"
   },
   {
    "duration": 294,
    "start_time": "2023-02-12T18:17:12.225Z"
   },
   {
    "duration": 99,
    "start_time": "2023-02-12T18:17:12.520Z"
   },
   {
    "duration": 18,
    "start_time": "2023-02-12T18:17:12.621Z"
   },
   {
    "duration": 107,
    "start_time": "2023-02-12T18:17:12.641Z"
   },
   {
    "duration": 5,
    "start_time": "2023-02-12T18:17:12.751Z"
   },
   {
    "duration": 19,
    "start_time": "2023-02-12T18:17:12.757Z"
   },
   {
    "duration": 12,
    "start_time": "2023-02-12T18:17:12.778Z"
   },
   {
    "duration": 3488,
    "start_time": "2023-02-12T18:17:12.792Z"
   },
   {
    "duration": 8,
    "start_time": "2023-02-12T18:17:16.284Z"
   },
   {
    "duration": 223,
    "start_time": "2023-02-12T18:17:16.368Z"
   },
   {
    "duration": 1455,
    "start_time": "2023-02-12T18:18:55.228Z"
   },
   {
    "duration": 3,
    "start_time": "2023-02-12T18:18:56.685Z"
   },
   {
    "duration": 5,
    "start_time": "2023-02-12T18:18:56.690Z"
   },
   {
    "duration": 903,
    "start_time": "2023-02-12T18:18:56.698Z"
   },
   {
    "duration": 17,
    "start_time": "2023-02-12T18:18:57.603Z"
   },
   {
    "duration": 11,
    "start_time": "2023-02-12T18:18:57.622Z"
   },
   {
    "duration": 148,
    "start_time": "2023-02-12T18:18:57.635Z"
   },
   {
    "duration": 139,
    "start_time": "2023-02-12T18:18:57.785Z"
   },
   {
    "duration": 53,
    "start_time": "2023-02-12T18:18:57.926Z"
   },
   {
    "duration": 219,
    "start_time": "2023-02-12T18:18:57.981Z"
   },
   {
    "duration": 418,
    "start_time": "2023-02-12T18:18:58.202Z"
   },
   {
    "duration": 85,
    "start_time": "2023-02-12T18:18:58.622Z"
   },
   {
    "duration": 16,
    "start_time": "2023-02-12T18:18:58.710Z"
   },
   {
    "duration": 283,
    "start_time": "2023-02-12T18:18:58.728Z"
   },
   {
    "duration": 26,
    "start_time": "2023-02-12T18:18:59.013Z"
   },
   {
    "duration": 37,
    "start_time": "2023-02-12T18:18:59.041Z"
   },
   {
    "duration": 219,
    "start_time": "2023-02-12T18:18:59.081Z"
   },
   {
    "duration": 24,
    "start_time": "2023-02-12T18:18:59.302Z"
   },
   {
    "duration": 41,
    "start_time": "2023-02-12T18:18:59.328Z"
   },
   {
    "duration": 35,
    "start_time": "2023-02-12T18:18:59.371Z"
   },
   {
    "duration": 96,
    "start_time": "2023-02-12T18:18:59.408Z"
   },
   {
    "duration": 129,
    "start_time": "2023-02-12T18:18:59.507Z"
   },
   {
    "duration": 85,
    "start_time": "2023-02-12T18:18:59.638Z"
   },
   {
    "duration": 312,
    "start_time": "2023-02-12T18:18:59.724Z"
   },
   {
    "duration": 169,
    "start_time": "2023-02-12T18:19:00.038Z"
   },
   {
    "duration": 22,
    "start_time": "2023-02-12T18:19:00.210Z"
   },
   {
    "duration": 124,
    "start_time": "2023-02-12T18:19:00.234Z"
   },
   {
    "duration": 11,
    "start_time": "2023-02-12T18:19:00.360Z"
   },
   {
    "duration": 26,
    "start_time": "2023-02-12T18:19:00.373Z"
   },
   {
    "duration": 44,
    "start_time": "2023-02-12T18:19:00.401Z"
   },
   {
    "duration": 6423,
    "start_time": "2023-02-12T18:19:00.446Z"
   },
   {
    "duration": 4,
    "start_time": "2023-02-12T18:19:06.873Z"
   },
   {
    "duration": 252,
    "start_time": "2023-02-12T18:19:09.260Z"
   },
   {
    "duration": 1516,
    "start_time": "2023-02-12T18:20:11.589Z"
   },
   {
    "duration": 3,
    "start_time": "2023-02-12T18:20:13.106Z"
   },
   {
    "duration": 13,
    "start_time": "2023-02-12T18:20:13.110Z"
   },
   {
    "duration": 984,
    "start_time": "2023-02-12T18:20:13.125Z"
   },
   {
    "duration": 20,
    "start_time": "2023-02-12T18:20:14.111Z"
   },
   {
    "duration": 16,
    "start_time": "2023-02-12T18:20:14.133Z"
   },
   {
    "duration": 152,
    "start_time": "2023-02-12T18:20:14.150Z"
   },
   {
    "duration": 111,
    "start_time": "2023-02-12T18:20:14.304Z"
   },
   {
    "duration": 61,
    "start_time": "2023-02-12T18:20:14.417Z"
   },
   {
    "duration": 214,
    "start_time": "2023-02-12T18:20:14.481Z"
   },
   {
    "duration": 500,
    "start_time": "2023-02-12T18:20:14.697Z"
   },
   {
    "duration": 102,
    "start_time": "2023-02-12T18:20:15.199Z"
   },
   {
    "duration": 21,
    "start_time": "2023-02-12T18:20:15.305Z"
   },
   {
    "duration": 321,
    "start_time": "2023-02-12T18:20:15.328Z"
   },
   {
    "duration": 37,
    "start_time": "2023-02-12T18:20:15.651Z"
   },
   {
    "duration": 19,
    "start_time": "2023-02-12T18:20:15.690Z"
   },
   {
    "duration": 226,
    "start_time": "2023-02-12T18:20:15.711Z"
   },
   {
    "duration": 30,
    "start_time": "2023-02-12T18:20:15.941Z"
   },
   {
    "duration": 20,
    "start_time": "2023-02-12T18:20:15.972Z"
   },
   {
    "duration": 22,
    "start_time": "2023-02-12T18:20:15.994Z"
   },
   {
    "duration": 89,
    "start_time": "2023-02-12T18:20:16.018Z"
   },
   {
    "duration": 130,
    "start_time": "2023-02-12T18:20:16.108Z"
   },
   {
    "duration": 140,
    "start_time": "2023-02-12T18:20:16.241Z"
   },
   {
    "duration": 337,
    "start_time": "2023-02-12T18:20:16.383Z"
   },
   {
    "duration": 144,
    "start_time": "2023-02-12T18:20:16.723Z"
   },
   {
    "duration": 31,
    "start_time": "2023-02-12T18:20:16.869Z"
   },
   {
    "duration": 136,
    "start_time": "2023-02-12T18:20:16.903Z"
   },
   {
    "duration": 6,
    "start_time": "2023-02-12T18:20:17.044Z"
   },
   {
    "duration": 24,
    "start_time": "2023-02-12T18:20:17.053Z"
   },
   {
    "duration": 13,
    "start_time": "2023-02-12T18:20:17.079Z"
   },
   {
    "duration": 3287,
    "start_time": "2023-02-12T18:20:17.094Z"
   },
   {
    "duration": 86,
    "start_time": "2023-02-12T18:20:20.383Z"
   },
   {
    "duration": 177,
    "start_time": "2023-02-12T18:20:21.990Z"
   },
   {
    "duration": 1442,
    "start_time": "2023-02-12T18:22:07.837Z"
   },
   {
    "duration": 3,
    "start_time": "2023-02-12T18:22:09.281Z"
   },
   {
    "duration": 24,
    "start_time": "2023-02-12T18:22:09.285Z"
   },
   {
    "duration": 815,
    "start_time": "2023-02-12T18:22:09.311Z"
   },
   {
    "duration": 17,
    "start_time": "2023-02-12T18:22:10.128Z"
   },
   {
    "duration": 31,
    "start_time": "2023-02-12T18:22:10.147Z"
   },
   {
    "duration": 139,
    "start_time": "2023-02-12T18:22:10.181Z"
   },
   {
    "duration": 119,
    "start_time": "2023-02-12T18:22:10.322Z"
   },
   {
    "duration": 49,
    "start_time": "2023-02-12T18:22:10.443Z"
   },
   {
    "duration": 195,
    "start_time": "2023-02-12T18:22:10.494Z"
   },
   {
    "duration": 358,
    "start_time": "2023-02-12T18:22:10.690Z"
   },
   {
    "duration": 78,
    "start_time": "2023-02-12T18:22:11.050Z"
   },
   {
    "duration": 16,
    "start_time": "2023-02-12T18:22:11.130Z"
   },
   {
    "duration": 259,
    "start_time": "2023-02-12T18:22:11.148Z"
   },
   {
    "duration": 23,
    "start_time": "2023-02-12T18:22:11.409Z"
   },
   {
    "duration": 15,
    "start_time": "2023-02-12T18:22:11.433Z"
   },
   {
    "duration": 207,
    "start_time": "2023-02-12T18:22:11.467Z"
   },
   {
    "duration": 21,
    "start_time": "2023-02-12T18:22:11.676Z"
   },
   {
    "duration": 15,
    "start_time": "2023-02-12T18:22:11.698Z"
   },
   {
    "duration": 21,
    "start_time": "2023-02-12T18:22:11.714Z"
   },
   {
    "duration": 95,
    "start_time": "2023-02-12T18:22:11.737Z"
   },
   {
    "duration": 105,
    "start_time": "2023-02-12T18:22:11.834Z"
   },
   {
    "duration": 83,
    "start_time": "2023-02-12T18:22:11.941Z"
   },
   {
    "duration": 329,
    "start_time": "2023-02-12T18:22:12.026Z"
   },
   {
    "duration": 116,
    "start_time": "2023-02-12T18:22:12.357Z"
   },
   {
    "duration": 30,
    "start_time": "2023-02-12T18:22:12.475Z"
   },
   {
    "duration": 108,
    "start_time": "2023-02-12T18:22:12.507Z"
   },
   {
    "duration": 4,
    "start_time": "2023-02-12T18:22:12.619Z"
   },
   {
    "duration": 10,
    "start_time": "2023-02-12T18:22:12.625Z"
   },
   {
    "duration": 17,
    "start_time": "2023-02-12T18:22:12.637Z"
   },
   {
    "duration": 3933,
    "start_time": "2023-02-12T18:22:12.655Z"
   },
   {
    "duration": 3,
    "start_time": "2023-02-12T18:22:16.590Z"
   },
   {
    "duration": 114,
    "start_time": "2023-02-12T18:22:24.375Z"
   },
   {
    "duration": 5276,
    "start_time": "2023-02-12T18:22:42.299Z"
   },
   {
    "duration": 217665,
    "start_time": "2023-02-12T18:22:50.780Z"
   },
   {
    "duration": 3431,
    "start_time": "2023-02-12T18:26:36.499Z"
   },
   {
    "duration": 311491,
    "start_time": "2023-02-12T18:26:47.786Z"
   },
   {
    "duration": 35237,
    "start_time": "2023-02-12T18:31:59.280Z"
   },
   {
    "duration": 8,
    "start_time": "2023-02-12T18:33:30.162Z"
   },
   {
    "duration": 32943,
    "start_time": "2023-02-12T18:33:51.652Z"
   },
   {
    "duration": 31552,
    "start_time": "2023-02-12T18:35:01.886Z"
   },
   {
    "duration": 2334195,
    "start_time": "2023-02-12T18:37:13.639Z"
   },
   {
    "duration": 1586,
    "start_time": "2023-02-12T19:40:07.399Z"
   },
   {
    "duration": 2,
    "start_time": "2023-02-12T19:40:08.987Z"
   },
   {
    "duration": 6,
    "start_time": "2023-02-12T19:40:08.991Z"
   },
   {
    "duration": 800,
    "start_time": "2023-02-12T19:40:08.999Z"
   },
   {
    "duration": 16,
    "start_time": "2023-02-12T19:40:09.800Z"
   },
   {
    "duration": 25,
    "start_time": "2023-02-12T19:40:09.817Z"
   },
   {
    "duration": 163,
    "start_time": "2023-02-12T19:40:09.844Z"
   },
   {
    "duration": 108,
    "start_time": "2023-02-12T19:40:10.009Z"
   },
   {
    "duration": 52,
    "start_time": "2023-02-12T19:40:10.119Z"
   },
   {
    "duration": 227,
    "start_time": "2023-02-12T19:40:10.175Z"
   },
   {
    "duration": 428,
    "start_time": "2023-02-12T19:40:10.404Z"
   },
   {
    "duration": 84,
    "start_time": "2023-02-12T19:40:10.833Z"
   },
   {
    "duration": 22,
    "start_time": "2023-02-12T19:40:10.919Z"
   },
   {
    "duration": 257,
    "start_time": "2023-02-12T19:40:10.943Z"
   },
   {
    "duration": 22,
    "start_time": "2023-02-12T19:40:11.201Z"
   },
   {
    "duration": 15,
    "start_time": "2023-02-12T19:40:11.225Z"
   },
   {
    "duration": 200,
    "start_time": "2023-02-12T19:40:11.241Z"
   },
   {
    "duration": 33,
    "start_time": "2023-02-12T19:40:11.442Z"
   },
   {
    "duration": 15,
    "start_time": "2023-02-12T19:40:11.478Z"
   },
   {
    "duration": 26,
    "start_time": "2023-02-12T19:40:11.495Z"
   },
   {
    "duration": 91,
    "start_time": "2023-02-12T19:40:11.522Z"
   },
   {
    "duration": 89,
    "start_time": "2023-02-12T19:40:11.614Z"
   },
   {
    "duration": 86,
    "start_time": "2023-02-12T19:40:11.705Z"
   },
   {
    "duration": 305,
    "start_time": "2023-02-12T19:40:11.792Z"
   },
   {
    "duration": 115,
    "start_time": "2023-02-12T19:40:12.099Z"
   },
   {
    "duration": 32,
    "start_time": "2023-02-12T19:40:12.217Z"
   },
   {
    "duration": 119,
    "start_time": "2023-02-12T19:40:12.250Z"
   },
   {
    "duration": 6,
    "start_time": "2023-02-12T19:40:12.374Z"
   },
   {
    "duration": 7,
    "start_time": "2023-02-12T19:40:12.382Z"
   },
   {
    "duration": 6,
    "start_time": "2023-02-12T19:40:12.390Z"
   },
   {
    "duration": 3438,
    "start_time": "2023-02-12T19:40:14.030Z"
   },
   {
    "duration": 2962,
    "start_time": "2023-02-12T19:40:19.405Z"
   },
   {
    "duration": 6,
    "start_time": "2023-02-12T19:40:22.370Z"
   },
   {
    "duration": 1342,
    "start_time": "2023-02-12T19:43:15.700Z"
   },
   {
    "duration": 2,
    "start_time": "2023-02-12T19:43:17.044Z"
   },
   {
    "duration": 11,
    "start_time": "2023-02-12T19:43:17.048Z"
   },
   {
    "duration": 761,
    "start_time": "2023-02-12T19:43:17.061Z"
   },
   {
    "duration": 15,
    "start_time": "2023-02-12T19:43:17.823Z"
   },
   {
    "duration": 11,
    "start_time": "2023-02-12T19:43:17.839Z"
   },
   {
    "duration": 136,
    "start_time": "2023-02-12T19:43:17.851Z"
   },
   {
    "duration": 121,
    "start_time": "2023-02-12T19:43:17.988Z"
   },
   {
    "duration": 42,
    "start_time": "2023-02-12T19:43:18.110Z"
   },
   {
    "duration": 186,
    "start_time": "2023-02-12T19:43:18.166Z"
   },
   {
    "duration": 366,
    "start_time": "2023-02-12T19:43:18.353Z"
   },
   {
    "duration": 86,
    "start_time": "2023-02-12T19:43:18.720Z"
   },
   {
    "duration": 16,
    "start_time": "2023-02-12T19:43:18.808Z"
   },
   {
    "duration": 251,
    "start_time": "2023-02-12T19:43:18.825Z"
   },
   {
    "duration": 21,
    "start_time": "2023-02-12T19:43:19.078Z"
   },
   {
    "duration": 16,
    "start_time": "2023-02-12T19:43:19.100Z"
   },
   {
    "duration": 202,
    "start_time": "2023-02-12T19:43:19.118Z"
   },
   {
    "duration": 21,
    "start_time": "2023-02-12T19:43:19.322Z"
   },
   {
    "duration": 28,
    "start_time": "2023-02-12T19:43:19.345Z"
   },
   {
    "duration": 22,
    "start_time": "2023-02-12T19:43:19.374Z"
   },
   {
    "duration": 88,
    "start_time": "2023-02-12T19:43:19.397Z"
   },
   {
    "duration": 81,
    "start_time": "2023-02-12T19:43:19.486Z"
   },
   {
    "duration": 71,
    "start_time": "2023-02-12T19:43:19.569Z"
   },
   {
    "duration": 274,
    "start_time": "2023-02-12T19:43:19.641Z"
   },
   {
    "duration": 96,
    "start_time": "2023-02-12T19:43:19.916Z"
   },
   {
    "duration": 18,
    "start_time": "2023-02-12T19:43:20.013Z"
   },
   {
    "duration": 95,
    "start_time": "2023-02-12T19:43:20.032Z"
   },
   {
    "duration": 4,
    "start_time": "2023-02-12T19:43:20.130Z"
   },
   {
    "duration": 12,
    "start_time": "2023-02-12T19:43:20.135Z"
   },
   {
    "duration": 12,
    "start_time": "2023-02-12T19:43:20.149Z"
   },
   {
    "duration": 10,
    "start_time": "2023-02-12T19:43:20.162Z"
   },
   {
    "duration": 3001,
    "start_time": "2023-02-12T19:43:20.173Z"
   },
   {
    "duration": 3196,
    "start_time": "2023-02-12T19:43:23.176Z"
   },
   {
    "duration": 2,
    "start_time": "2023-02-12T19:43:26.376Z"
   },
   {
    "duration": 208755,
    "start_time": "2023-02-12T19:43:26.468Z"
   },
   {
    "duration": 150130,
    "start_time": "2023-02-12T19:46:55.224Z"
   },
   {
    "duration": 2,
    "start_time": "2023-02-12T19:49:25.355Z"
   },
   {
    "duration": 3273,
    "start_time": "2023-02-12T19:49:25.359Z"
   },
   {
    "duration": 122839,
    "start_time": "2023-02-12T19:49:28.633Z"
   },
   {
    "duration": 3,
    "start_time": "2023-02-12T19:51:31.475Z"
   },
   {
    "duration": 34194,
    "start_time": "2023-02-12T19:51:31.480Z"
   },
   {
    "duration": 1654,
    "start_time": "2023-02-13T18:55:37.819Z"
   },
   {
    "duration": 3,
    "start_time": "2023-02-13T18:55:39.476Z"
   },
   {
    "duration": 9,
    "start_time": "2023-02-13T18:55:39.481Z"
   },
   {
    "duration": 1206,
    "start_time": "2023-02-13T18:55:39.492Z"
   },
   {
    "duration": 20,
    "start_time": "2023-02-13T18:55:40.700Z"
   },
   {
    "duration": 46,
    "start_time": "2023-02-13T18:55:40.722Z"
   },
   {
    "duration": 134,
    "start_time": "2023-02-13T18:55:40.769Z"
   },
   {
    "duration": 100,
    "start_time": "2023-02-13T18:55:40.915Z"
   },
   {
    "duration": 40,
    "start_time": "2023-02-13T18:55:41.018Z"
   },
   {
    "duration": 203,
    "start_time": "2023-02-13T18:55:41.061Z"
   },
   {
    "duration": 415,
    "start_time": "2023-02-13T18:55:41.266Z"
   },
   {
    "duration": 71,
    "start_time": "2023-02-13T18:55:41.683Z"
   },
   {
    "duration": 16,
    "start_time": "2023-02-13T18:55:41.756Z"
   },
   {
    "duration": 270,
    "start_time": "2023-02-13T18:55:41.773Z"
   },
   {
    "duration": 24,
    "start_time": "2023-02-13T18:55:42.044Z"
   },
   {
    "duration": 17,
    "start_time": "2023-02-13T18:55:42.070Z"
   },
   {
    "duration": 209,
    "start_time": "2023-02-13T18:55:42.107Z"
   },
   {
    "duration": 22,
    "start_time": "2023-02-13T18:55:42.317Z"
   },
   {
    "duration": 16,
    "start_time": "2023-02-13T18:55:42.341Z"
   },
   {
    "duration": 57,
    "start_time": "2023-02-13T18:55:42.359Z"
   },
   {
    "duration": 66,
    "start_time": "2023-02-13T18:55:42.418Z"
   },
   {
    "duration": 78,
    "start_time": "2023-02-13T18:55:42.485Z"
   },
   {
    "duration": 79,
    "start_time": "2023-02-13T18:55:42.565Z"
   },
   {
    "duration": 310,
    "start_time": "2023-02-13T18:55:42.646Z"
   },
   {
    "duration": 126,
    "start_time": "2023-02-13T18:55:42.958Z"
   },
   {
    "duration": 33,
    "start_time": "2023-02-13T18:55:43.086Z"
   },
   {
    "duration": 103,
    "start_time": "2023-02-13T18:55:43.121Z"
   },
   {
    "duration": 5,
    "start_time": "2023-02-13T18:55:43.228Z"
   },
   {
    "duration": 11,
    "start_time": "2023-02-13T18:55:43.234Z"
   },
   {
    "duration": 25,
    "start_time": "2023-02-13T18:55:43.247Z"
   },
   {
    "duration": 9,
    "start_time": "2023-02-13T18:55:43.275Z"
   },
   {
    "duration": 3929,
    "start_time": "2023-02-13T18:55:43.286Z"
   },
   {
    "duration": 3,
    "start_time": "2023-02-13T18:55:47.217Z"
   },
   {
    "duration": 220032,
    "start_time": "2023-02-13T18:55:47.304Z"
   },
   {
    "duration": 168284,
    "start_time": "2023-02-13T18:59:27.338Z"
   },
   {
    "duration": 8,
    "start_time": "2023-02-13T19:02:15.624Z"
   },
   {
    "duration": 3527,
    "start_time": "2023-02-13T19:02:15.634Z"
   },
   {
    "duration": 128004,
    "start_time": "2023-02-13T19:02:19.163Z"
   },
   {
    "duration": 3,
    "start_time": "2023-02-13T19:04:27.169Z"
   },
   {
    "duration": 69750,
    "start_time": "2023-02-13T19:04:27.174Z"
   },
   {
    "duration": 824171,
    "start_time": "2023-02-13T19:05:36.926Z"
   },
   {
    "duration": 1405,
    "start_time": "2023-02-13T19:44:37.296Z"
   },
   {
    "duration": 7,
    "start_time": "2023-02-13T19:44:38.708Z"
   },
   {
    "duration": 8,
    "start_time": "2023-02-13T19:44:38.717Z"
   },
   {
    "duration": 789,
    "start_time": "2023-02-13T19:44:38.726Z"
   },
   {
    "duration": 23,
    "start_time": "2023-02-13T19:44:39.521Z"
   },
   {
    "duration": 17,
    "start_time": "2023-02-13T19:44:39.546Z"
   },
   {
    "duration": 130,
    "start_time": "2023-02-13T19:44:39.565Z"
   },
   {
    "duration": 89,
    "start_time": "2023-02-13T19:44:39.703Z"
   },
   {
    "duration": 47,
    "start_time": "2023-02-13T19:44:39.794Z"
   },
   {
    "duration": 183,
    "start_time": "2023-02-13T19:44:39.843Z"
   },
   {
    "duration": 354,
    "start_time": "2023-02-13T19:44:40.028Z"
   },
   {
    "duration": 74,
    "start_time": "2023-02-13T19:44:40.384Z"
   },
   {
    "duration": 17,
    "start_time": "2023-02-13T19:44:40.459Z"
   },
   {
    "duration": 277,
    "start_time": "2023-02-13T19:44:40.479Z"
   },
   {
    "duration": 20,
    "start_time": "2023-02-13T19:44:40.757Z"
   },
   {
    "duration": 36,
    "start_time": "2023-02-13T19:44:40.779Z"
   },
   {
    "duration": 199,
    "start_time": "2023-02-13T19:44:40.816Z"
   },
   {
    "duration": 20,
    "start_time": "2023-02-13T19:44:41.017Z"
   },
   {
    "duration": 15,
    "start_time": "2023-02-13T19:44:41.039Z"
   },
   {
    "duration": 21,
    "start_time": "2023-02-13T19:44:41.056Z"
   },
   {
    "duration": 79,
    "start_time": "2023-02-13T19:44:41.079Z"
   },
   {
    "duration": 92,
    "start_time": "2023-02-13T19:44:41.159Z"
   },
   {
    "duration": 76,
    "start_time": "2023-02-13T19:44:41.253Z"
   },
   {
    "duration": 309,
    "start_time": "2023-02-13T19:44:41.331Z"
   },
   {
    "duration": 110,
    "start_time": "2023-02-13T19:44:41.641Z"
   },
   {
    "duration": 19,
    "start_time": "2023-02-13T19:44:41.753Z"
   },
   {
    "duration": 110,
    "start_time": "2023-02-13T19:44:41.774Z"
   },
   {
    "duration": 4,
    "start_time": "2023-02-13T19:44:41.886Z"
   },
   {
    "duration": 13,
    "start_time": "2023-02-13T19:44:41.891Z"
   },
   {
    "duration": 9,
    "start_time": "2023-02-13T19:44:41.905Z"
   },
   {
    "duration": 13,
    "start_time": "2023-02-13T19:44:41.915Z"
   },
   {
    "duration": 3983,
    "start_time": "2023-02-13T19:44:41.929Z"
   },
   {
    "duration": 3,
    "start_time": "2023-02-13T19:44:45.913Z"
   },
   {
    "duration": 213482,
    "start_time": "2023-02-13T19:44:45.917Z"
   },
   {
    "duration": 158093,
    "start_time": "2023-02-13T19:48:19.400Z"
   },
   {
    "duration": 2,
    "start_time": "2023-02-13T19:50:57.495Z"
   },
   {
    "duration": 3235,
    "start_time": "2023-02-13T19:50:57.503Z"
   },
   {
    "duration": 127274,
    "start_time": "2023-02-13T19:51:00.740Z"
   },
   {
    "duration": 3,
    "start_time": "2023-02-13T19:53:08.018Z"
   },
   {
    "duration": 90591,
    "start_time": "2023-02-13T19:53:08.022Z"
   },
   {
    "duration": 1499,
    "start_time": "2023-02-14T18:13:19.357Z"
   },
   {
    "duration": 3,
    "start_time": "2023-02-14T18:13:20.858Z"
   },
   {
    "duration": 7,
    "start_time": "2023-02-14T18:13:20.862Z"
   },
   {
    "duration": 1069,
    "start_time": "2023-02-14T18:13:20.870Z"
   },
   {
    "duration": 16,
    "start_time": "2023-02-14T18:13:21.941Z"
   },
   {
    "duration": 13,
    "start_time": "2023-02-14T18:13:21.959Z"
   },
   {
    "duration": 134,
    "start_time": "2023-02-14T18:13:21.974Z"
   },
   {
    "duration": 131,
    "start_time": "2023-02-14T18:13:22.109Z"
   },
   {
    "duration": 40,
    "start_time": "2023-02-14T18:13:22.242Z"
   },
   {
    "duration": 210,
    "start_time": "2023-02-14T18:13:22.283Z"
   },
   {
    "duration": 342,
    "start_time": "2023-02-14T18:13:22.495Z"
   },
   {
    "duration": 73,
    "start_time": "2023-02-14T18:13:22.838Z"
   },
   {
    "duration": 16,
    "start_time": "2023-02-14T18:13:22.913Z"
   },
   {
    "duration": 253,
    "start_time": "2023-02-14T18:13:22.931Z"
   },
   {
    "duration": 20,
    "start_time": "2023-02-14T18:13:23.186Z"
   },
   {
    "duration": 15,
    "start_time": "2023-02-14T18:13:23.208Z"
   },
   {
    "duration": 181,
    "start_time": "2023-02-14T18:13:23.224Z"
   },
   {
    "duration": 20,
    "start_time": "2023-02-14T18:13:23.407Z"
   },
   {
    "duration": 15,
    "start_time": "2023-02-14T18:13:23.429Z"
   },
   {
    "duration": 22,
    "start_time": "2023-02-14T18:13:23.445Z"
   },
   {
    "duration": 93,
    "start_time": "2023-02-14T18:13:23.469Z"
   },
   {
    "duration": 92,
    "start_time": "2023-02-14T18:13:23.563Z"
   },
   {
    "duration": 80,
    "start_time": "2023-02-14T18:13:23.656Z"
   },
   {
    "duration": 288,
    "start_time": "2023-02-14T18:13:23.737Z"
   },
   {
    "duration": 126,
    "start_time": "2023-02-14T18:13:24.028Z"
   },
   {
    "duration": 20,
    "start_time": "2023-02-14T18:13:24.156Z"
   },
   {
    "duration": 121,
    "start_time": "2023-02-14T18:13:24.178Z"
   },
   {
    "duration": 5,
    "start_time": "2023-02-14T18:13:24.301Z"
   },
   {
    "duration": 4,
    "start_time": "2023-02-14T18:13:24.307Z"
   },
   {
    "duration": 6,
    "start_time": "2023-02-14T18:13:24.313Z"
   },
   {
    "duration": 5,
    "start_time": "2023-02-14T18:13:24.321Z"
   },
   {
    "duration": 3070,
    "start_time": "2023-02-14T18:13:24.327Z"
   },
   {
    "duration": 3,
    "start_time": "2023-02-14T18:13:27.400Z"
   },
   {
    "duration": 193539,
    "start_time": "2023-02-14T18:13:27.495Z"
   },
   {
    "duration": 142363,
    "start_time": "2023-02-14T18:16:41.036Z"
   },
   {
    "duration": 3,
    "start_time": "2023-02-14T18:19:03.400Z"
   },
   {
    "duration": 3106,
    "start_time": "2023-02-14T18:19:03.404Z"
   },
   {
    "duration": 112498,
    "start_time": "2023-02-14T18:19:06.512Z"
   },
   {
    "duration": 2,
    "start_time": "2023-02-14T18:20:59.011Z"
   },
   {
    "duration": 9180,
    "start_time": "2023-02-14T18:20:59.014Z"
   },
   {
    "duration": 3830109,
    "start_time": "2023-02-14T18:21:08.198Z"
   },
   {
    "duration": 52,
    "start_time": "2023-02-15T02:57:07.918Z"
   },
   {
    "duration": 2,
    "start_time": "2023-02-15T02:57:26.891Z"
   },
   {
    "duration": 543468,
    "start_time": "2023-02-15T02:57:33.434Z"
   },
   {
    "duration": 31835,
    "start_time": "2023-02-15T03:06:36.904Z"
   },
   {
    "duration": 1696,
    "start_time": "2023-02-15T16:51:21.201Z"
   },
   {
    "duration": 3,
    "start_time": "2023-02-15T16:51:22.899Z"
   },
   {
    "duration": 6,
    "start_time": "2023-02-15T16:51:22.904Z"
   },
   {
    "duration": 2956,
    "start_time": "2023-02-15T16:51:22.912Z"
   },
   {
    "duration": 19,
    "start_time": "2023-02-15T16:51:25.870Z"
   },
   {
    "duration": 12,
    "start_time": "2023-02-15T16:51:25.891Z"
   },
   {
    "duration": 148,
    "start_time": "2023-02-15T16:51:25.904Z"
   },
   {
    "duration": 108,
    "start_time": "2023-02-15T16:51:26.053Z"
   },
   {
    "duration": 44,
    "start_time": "2023-02-15T16:51:26.163Z"
   },
   {
    "duration": 209,
    "start_time": "2023-02-15T16:51:26.209Z"
   },
   {
    "duration": 462,
    "start_time": "2023-02-15T16:51:26.420Z"
   },
   {
    "duration": 79,
    "start_time": "2023-02-15T16:51:26.883Z"
   },
   {
    "duration": 16,
    "start_time": "2023-02-15T16:51:26.964Z"
   },
   {
    "duration": 257,
    "start_time": "2023-02-15T16:51:26.983Z"
   },
   {
    "duration": 28,
    "start_time": "2023-02-15T16:51:27.241Z"
   },
   {
    "duration": 16,
    "start_time": "2023-02-15T16:51:27.271Z"
   },
   {
    "duration": 217,
    "start_time": "2023-02-15T16:51:27.288Z"
   },
   {
    "duration": 22,
    "start_time": "2023-02-15T16:51:27.507Z"
   },
   {
    "duration": 29,
    "start_time": "2023-02-15T16:51:27.530Z"
   },
   {
    "duration": 23,
    "start_time": "2023-02-15T16:51:27.560Z"
   },
   {
    "duration": 91,
    "start_time": "2023-02-15T16:51:27.585Z"
   },
   {
    "duration": 87,
    "start_time": "2023-02-15T16:51:27.677Z"
   },
   {
    "duration": 90,
    "start_time": "2023-02-15T16:51:27.765Z"
   },
   {
    "duration": 300,
    "start_time": "2023-02-15T16:51:27.856Z"
   },
   {
    "duration": 103,
    "start_time": "2023-02-15T16:51:28.158Z"
   },
   {
    "duration": 30,
    "start_time": "2023-02-15T16:51:28.263Z"
   },
   {
    "duration": 118,
    "start_time": "2023-02-15T16:51:28.295Z"
   },
   {
    "duration": 5,
    "start_time": "2023-02-15T16:51:28.414Z"
   },
   {
    "duration": 23,
    "start_time": "2023-02-15T16:51:28.421Z"
   },
   {
    "duration": 17,
    "start_time": "2023-02-15T16:51:28.446Z"
   },
   {
    "duration": 9,
    "start_time": "2023-02-15T16:51:28.465Z"
   },
   {
    "duration": 3176,
    "start_time": "2023-02-15T16:51:28.476Z"
   },
   {
    "duration": 93,
    "start_time": "2023-02-15T16:51:31.656Z"
   },
   {
    "duration": 204645,
    "start_time": "2023-02-15T16:51:31.755Z"
   },
   {
    "duration": 145864,
    "start_time": "2023-02-15T16:54:56.402Z"
   },
   {
    "duration": 2,
    "start_time": "2023-02-15T16:57:22.268Z"
   },
   {
    "duration": 3084,
    "start_time": "2023-02-15T16:57:22.272Z"
   },
   {
    "duration": 116582,
    "start_time": "2023-02-15T16:57:25.358Z"
   },
   {
    "duration": 2,
    "start_time": "2023-02-15T16:59:21.941Z"
   },
   {
    "duration": 6111,
    "start_time": "2023-02-15T16:59:21.948Z"
   },
   {
    "duration": 603187,
    "start_time": "2023-02-15T16:59:28.063Z"
   },
   {
    "duration": 2,
    "start_time": "2023-02-15T17:09:31.252Z"
   },
   {
    "duration": 32943,
    "start_time": "2023-02-15T17:09:31.256Z"
   },
   {
    "duration": 140266,
    "start_time": "2023-02-15T17:10:04.201Z"
   },
   {
    "duration": 1422,
    "start_time": "2023-02-15T18:06:41.663Z"
   },
   {
    "duration": 2,
    "start_time": "2023-02-15T18:06:43.088Z"
   },
   {
    "duration": 10,
    "start_time": "2023-02-15T18:06:43.092Z"
   },
   {
    "duration": 910,
    "start_time": "2023-02-15T18:06:43.105Z"
   },
   {
    "duration": 16,
    "start_time": "2023-02-15T18:06:44.017Z"
   },
   {
    "duration": 17,
    "start_time": "2023-02-15T18:06:44.034Z"
   },
   {
    "duration": 157,
    "start_time": "2023-02-15T18:06:44.053Z"
   },
   {
    "duration": 107,
    "start_time": "2023-02-15T18:06:44.212Z"
   },
   {
    "duration": 53,
    "start_time": "2023-02-15T18:06:44.321Z"
   },
   {
    "duration": 215,
    "start_time": "2023-02-15T18:06:44.376Z"
   },
   {
    "duration": 421,
    "start_time": "2023-02-15T18:06:44.592Z"
   },
   {
    "duration": 85,
    "start_time": "2023-02-15T18:06:45.015Z"
   },
   {
    "duration": 17,
    "start_time": "2023-02-15T18:06:45.102Z"
   },
   {
    "duration": 294,
    "start_time": "2023-02-15T18:06:45.123Z"
   },
   {
    "duration": 36,
    "start_time": "2023-02-15T18:06:45.419Z"
   },
   {
    "duration": 17,
    "start_time": "2023-02-15T18:06:45.456Z"
   },
   {
    "duration": 208,
    "start_time": "2023-02-15T18:06:45.475Z"
   },
   {
    "duration": 22,
    "start_time": "2023-02-15T18:06:45.685Z"
   },
   {
    "duration": 15,
    "start_time": "2023-02-15T18:06:45.709Z"
   },
   {
    "duration": 38,
    "start_time": "2023-02-15T18:06:45.725Z"
   },
   {
    "duration": 92,
    "start_time": "2023-02-15T18:06:45.765Z"
   },
   {
    "duration": 93,
    "start_time": "2023-02-15T18:06:45.859Z"
   },
   {
    "duration": 80,
    "start_time": "2023-02-15T18:06:45.954Z"
   },
   {
    "duration": 318,
    "start_time": "2023-02-15T18:06:46.035Z"
   },
   {
    "duration": 171,
    "start_time": "2023-02-15T18:06:46.355Z"
   },
   {
    "duration": 37,
    "start_time": "2023-02-15T18:06:46.529Z"
   },
   {
    "duration": 126,
    "start_time": "2023-02-15T18:06:46.568Z"
   },
   {
    "duration": 7,
    "start_time": "2023-02-15T18:06:46.697Z"
   },
   {
    "duration": 76,
    "start_time": "2023-02-15T18:06:46.708Z"
   },
   {
    "duration": 0,
    "start_time": "2023-02-15T18:06:46.787Z"
   },
   {
    "duration": 0,
    "start_time": "2023-02-15T18:06:46.788Z"
   },
   {
    "duration": 0,
    "start_time": "2023-02-15T18:06:46.790Z"
   },
   {
    "duration": 0,
    "start_time": "2023-02-15T18:06:46.792Z"
   },
   {
    "duration": 0,
    "start_time": "2023-02-15T18:06:46.793Z"
   },
   {
    "duration": 0,
    "start_time": "2023-02-15T18:06:46.795Z"
   },
   {
    "duration": 0,
    "start_time": "2023-02-15T18:06:46.796Z"
   },
   {
    "duration": 0,
    "start_time": "2023-02-15T18:06:46.798Z"
   },
   {
    "duration": 0,
    "start_time": "2023-02-15T18:06:46.799Z"
   },
   {
    "duration": 0,
    "start_time": "2023-02-15T18:06:46.801Z"
   },
   {
    "duration": 0,
    "start_time": "2023-02-15T18:06:46.803Z"
   },
   {
    "duration": 0,
    "start_time": "2023-02-15T18:06:46.804Z"
   },
   {
    "duration": 0,
    "start_time": "2023-02-15T18:06:46.806Z"
   },
   {
    "duration": 0,
    "start_time": "2023-02-15T18:06:46.807Z"
   },
   {
    "duration": 0,
    "start_time": "2023-02-15T18:06:46.809Z"
   },
   {
    "duration": 7,
    "start_time": "2023-02-15T18:07:41.725Z"
   },
   {
    "duration": 28,
    "start_time": "2023-02-15T18:07:41.739Z"
   },
   {
    "duration": 5,
    "start_time": "2023-02-15T18:07:41.769Z"
   },
   {
    "duration": 786,
    "start_time": "2023-02-15T18:07:41.775Z"
   },
   {
    "duration": 13,
    "start_time": "2023-02-15T18:07:42.562Z"
   },
   {
    "duration": 18,
    "start_time": "2023-02-15T18:07:42.578Z"
   },
   {
    "duration": 142,
    "start_time": "2023-02-15T18:07:42.598Z"
   },
   {
    "duration": 83,
    "start_time": "2023-02-15T18:07:42.749Z"
   },
   {
    "duration": 56,
    "start_time": "2023-02-15T18:07:42.834Z"
   },
   {
    "duration": 204,
    "start_time": "2023-02-15T18:07:42.892Z"
   },
   {
    "duration": 378,
    "start_time": "2023-02-15T18:07:43.098Z"
   },
   {
    "duration": 92,
    "start_time": "2023-02-15T18:07:43.478Z"
   },
   {
    "duration": 25,
    "start_time": "2023-02-15T18:07:43.572Z"
   },
   {
    "duration": 275,
    "start_time": "2023-02-15T18:07:43.600Z"
   },
   {
    "duration": 23,
    "start_time": "2023-02-15T18:07:43.878Z"
   },
   {
    "duration": 16,
    "start_time": "2023-02-15T18:07:43.903Z"
   },
   {
    "duration": 209,
    "start_time": "2023-02-15T18:07:43.921Z"
   },
   {
    "duration": 31,
    "start_time": "2023-02-15T18:07:44.132Z"
   },
   {
    "duration": 16,
    "start_time": "2023-02-15T18:07:44.165Z"
   },
   {
    "duration": 25,
    "start_time": "2023-02-15T18:07:44.182Z"
   },
   {
    "duration": 97,
    "start_time": "2023-02-15T18:07:44.209Z"
   },
   {
    "duration": 87,
    "start_time": "2023-02-15T18:07:44.308Z"
   },
   {
    "duration": 78,
    "start_time": "2023-02-15T18:07:44.397Z"
   },
   {
    "duration": 225,
    "start_time": "2023-02-15T18:07:44.476Z"
   },
   {
    "duration": 106,
    "start_time": "2023-02-15T18:07:44.703Z"
   },
   {
    "duration": 19,
    "start_time": "2023-02-15T18:07:44.811Z"
   },
   {
    "duration": 97,
    "start_time": "2023-02-15T18:07:44.832Z"
   },
   {
    "duration": 4,
    "start_time": "2023-02-15T18:07:44.931Z"
   },
   {
    "duration": 97,
    "start_time": "2023-02-15T18:07:44.949Z"
   },
   {
    "duration": 0,
    "start_time": "2023-02-15T18:07:45.048Z"
   },
   {
    "duration": 0,
    "start_time": "2023-02-15T18:07:45.049Z"
   },
   {
    "duration": 0,
    "start_time": "2023-02-15T18:07:45.051Z"
   },
   {
    "duration": 0,
    "start_time": "2023-02-15T18:07:45.052Z"
   },
   {
    "duration": 0,
    "start_time": "2023-02-15T18:07:45.053Z"
   },
   {
    "duration": 0,
    "start_time": "2023-02-15T18:07:45.055Z"
   },
   {
    "duration": 0,
    "start_time": "2023-02-15T18:07:45.056Z"
   },
   {
    "duration": 0,
    "start_time": "2023-02-15T18:07:45.058Z"
   },
   {
    "duration": 0,
    "start_time": "2023-02-15T18:07:45.059Z"
   },
   {
    "duration": 0,
    "start_time": "2023-02-15T18:07:45.060Z"
   },
   {
    "duration": 0,
    "start_time": "2023-02-15T18:07:45.063Z"
   },
   {
    "duration": 0,
    "start_time": "2023-02-15T18:07:45.064Z"
   },
   {
    "duration": 0,
    "start_time": "2023-02-15T18:07:45.066Z"
   },
   {
    "duration": 0,
    "start_time": "2023-02-15T18:07:45.067Z"
   },
   {
    "duration": 0,
    "start_time": "2023-02-15T18:07:45.068Z"
   },
   {
    "duration": 7,
    "start_time": "2023-02-15T18:53:42.727Z"
   },
   {
    "duration": 59,
    "start_time": "2023-02-15T18:53:42.736Z"
   },
   {
    "duration": 9,
    "start_time": "2023-02-15T18:53:42.797Z"
   },
   {
    "duration": 894,
    "start_time": "2023-02-15T18:53:42.808Z"
   },
   {
    "duration": 20,
    "start_time": "2023-02-15T18:53:43.706Z"
   },
   {
    "duration": 38,
    "start_time": "2023-02-15T18:53:43.728Z"
   },
   {
    "duration": 293,
    "start_time": "2023-02-15T18:53:43.771Z"
   },
   {
    "duration": 105,
    "start_time": "2023-02-15T18:53:44.066Z"
   },
   {
    "duration": 42,
    "start_time": "2023-02-15T18:53:44.174Z"
   },
   {
    "duration": 218,
    "start_time": "2023-02-15T18:53:44.220Z"
   },
   {
    "duration": 429,
    "start_time": "2023-02-15T18:53:44.440Z"
   },
   {
    "duration": 112,
    "start_time": "2023-02-15T18:53:44.875Z"
   },
   {
    "duration": 22,
    "start_time": "2023-02-15T18:53:44.995Z"
   },
   {
    "duration": 280,
    "start_time": "2023-02-15T18:53:45.019Z"
   },
   {
    "duration": 23,
    "start_time": "2023-02-15T18:53:45.301Z"
   },
   {
    "duration": 29,
    "start_time": "2023-02-15T18:53:45.326Z"
   },
   {
    "duration": 235,
    "start_time": "2023-02-15T18:53:45.362Z"
   },
   {
    "duration": 20,
    "start_time": "2023-02-15T18:53:45.599Z"
   },
   {
    "duration": 14,
    "start_time": "2023-02-15T18:53:45.621Z"
   },
   {
    "duration": 47,
    "start_time": "2023-02-15T18:53:45.637Z"
   },
   {
    "duration": 112,
    "start_time": "2023-02-15T18:53:45.693Z"
   },
   {
    "duration": 101,
    "start_time": "2023-02-15T18:53:45.806Z"
   },
   {
    "duration": 113,
    "start_time": "2023-02-15T18:53:45.908Z"
   },
   {
    "duration": 283,
    "start_time": "2023-02-15T18:53:46.022Z"
   },
   {
    "duration": 152,
    "start_time": "2023-02-15T18:53:46.307Z"
   },
   {
    "duration": 20,
    "start_time": "2023-02-15T18:53:46.461Z"
   },
   {
    "duration": 128,
    "start_time": "2023-02-15T18:53:46.489Z"
   },
   {
    "duration": 6,
    "start_time": "2023-02-15T18:53:46.622Z"
   },
   {
    "duration": 120,
    "start_time": "2023-02-15T18:53:46.630Z"
   },
   {
    "duration": 0,
    "start_time": "2023-02-15T18:53:46.753Z"
   },
   {
    "duration": 0,
    "start_time": "2023-02-15T18:53:46.755Z"
   },
   {
    "duration": 1,
    "start_time": "2023-02-15T18:53:46.756Z"
   },
   {
    "duration": 0,
    "start_time": "2023-02-15T18:53:46.758Z"
   },
   {
    "duration": 0,
    "start_time": "2023-02-15T18:53:46.762Z"
   },
   {
    "duration": 0,
    "start_time": "2023-02-15T18:53:46.763Z"
   },
   {
    "duration": 0,
    "start_time": "2023-02-15T18:53:46.765Z"
   },
   {
    "duration": 0,
    "start_time": "2023-02-15T18:53:46.768Z"
   },
   {
    "duration": 0,
    "start_time": "2023-02-15T18:53:46.769Z"
   },
   {
    "duration": 0,
    "start_time": "2023-02-15T18:53:46.771Z"
   },
   {
    "duration": 0,
    "start_time": "2023-02-15T18:53:46.772Z"
   },
   {
    "duration": 0,
    "start_time": "2023-02-15T18:53:46.774Z"
   },
   {
    "duration": 0,
    "start_time": "2023-02-15T18:53:46.775Z"
   },
   {
    "duration": 0,
    "start_time": "2023-02-15T18:53:46.776Z"
   },
   {
    "duration": 0,
    "start_time": "2023-02-15T18:53:46.778Z"
   },
   {
    "duration": 1604,
    "start_time": "2023-02-15T18:54:09.841Z"
   },
   {
    "duration": 11,
    "start_time": "2023-02-15T18:54:11.448Z"
   },
   {
    "duration": 44,
    "start_time": "2023-02-15T18:54:11.465Z"
   },
   {
    "duration": 981,
    "start_time": "2023-02-15T18:54:11.511Z"
   },
   {
    "duration": 18,
    "start_time": "2023-02-15T18:54:12.496Z"
   },
   {
    "duration": 12,
    "start_time": "2023-02-15T18:54:12.516Z"
   },
   {
    "duration": 196,
    "start_time": "2023-02-15T18:54:12.530Z"
   },
   {
    "duration": 148,
    "start_time": "2023-02-15T18:54:12.728Z"
   },
   {
    "duration": 51,
    "start_time": "2023-02-15T18:54:12.878Z"
   },
   {
    "duration": 247,
    "start_time": "2023-02-15T18:54:12.932Z"
   },
   {
    "duration": 512,
    "start_time": "2023-02-15T18:54:13.181Z"
   },
   {
    "duration": 126,
    "start_time": "2023-02-15T18:54:13.695Z"
   },
   {
    "duration": 18,
    "start_time": "2023-02-15T18:54:13.823Z"
   },
   {
    "duration": 363,
    "start_time": "2023-02-15T18:54:13.843Z"
   },
   {
    "duration": 25,
    "start_time": "2023-02-15T18:54:14.207Z"
   },
   {
    "duration": 35,
    "start_time": "2023-02-15T18:54:14.234Z"
   },
   {
    "duration": 227,
    "start_time": "2023-02-15T18:54:14.274Z"
   },
   {
    "duration": 21,
    "start_time": "2023-02-15T18:54:14.503Z"
   },
   {
    "duration": 40,
    "start_time": "2023-02-15T18:54:14.526Z"
   },
   {
    "duration": 27,
    "start_time": "2023-02-15T18:54:14.568Z"
   },
   {
    "duration": 137,
    "start_time": "2023-02-15T18:54:14.597Z"
   },
   {
    "duration": 115,
    "start_time": "2023-02-15T18:54:14.735Z"
   },
   {
    "duration": 111,
    "start_time": "2023-02-15T18:54:14.852Z"
   },
   {
    "duration": 349,
    "start_time": "2023-02-15T18:54:14.965Z"
   },
   {
    "duration": 146,
    "start_time": "2023-02-15T18:54:15.317Z"
   },
   {
    "duration": 20,
    "start_time": "2023-02-15T18:54:15.469Z"
   },
   {
    "duration": 111,
    "start_time": "2023-02-15T18:54:15.491Z"
   },
   {
    "duration": 5,
    "start_time": "2023-02-15T18:54:15.606Z"
   },
   {
    "duration": 10,
    "start_time": "2023-02-15T18:54:15.613Z"
   },
   {
    "duration": 6,
    "start_time": "2023-02-15T18:54:15.625Z"
   },
   {
    "duration": 7,
    "start_time": "2023-02-15T18:54:15.632Z"
   },
   {
    "duration": 5264,
    "start_time": "2023-02-15T18:54:15.641Z"
   },
   {
    "duration": 10,
    "start_time": "2023-02-15T18:54:20.977Z"
   },
   {
    "duration": 225615,
    "start_time": "2023-02-15T18:54:20.995Z"
   },
   {
    "duration": 162930,
    "start_time": "2023-02-15T18:58:06.612Z"
   },
   {
    "duration": 18,
    "start_time": "2023-02-15T19:00:49.544Z"
   },
   {
    "duration": 3502,
    "start_time": "2023-02-15T19:00:49.564Z"
   },
   {
    "duration": 130733,
    "start_time": "2023-02-15T19:00:53.073Z"
   },
   {
    "duration": 3,
    "start_time": "2023-02-15T19:03:03.809Z"
   },
   {
    "duration": 372452,
    "start_time": "2023-02-15T19:03:03.815Z"
   },
   {
    "duration": 1522,
    "start_time": "2023-02-15T19:43:52.398Z"
   },
   {
    "duration": 4,
    "start_time": "2023-02-15T19:43:53.922Z"
   },
   {
    "duration": 8,
    "start_time": "2023-02-15T19:43:53.928Z"
   },
   {
    "duration": 921,
    "start_time": "2023-02-15T19:43:53.937Z"
   },
   {
    "duration": 19,
    "start_time": "2023-02-15T19:43:54.865Z"
   },
   {
    "duration": 12,
    "start_time": "2023-02-15T19:43:54.886Z"
   },
   {
    "duration": 161,
    "start_time": "2023-02-15T19:43:54.900Z"
   },
   {
    "duration": 142,
    "start_time": "2023-02-15T19:43:55.062Z"
   },
   {
    "duration": 56,
    "start_time": "2023-02-15T19:43:55.205Z"
   },
   {
    "duration": 217,
    "start_time": "2023-02-15T19:43:55.262Z"
   },
   {
    "duration": 404,
    "start_time": "2023-02-15T19:43:55.480Z"
   },
   {
    "duration": 93,
    "start_time": "2023-02-15T19:43:55.885Z"
   },
   {
    "duration": 17,
    "start_time": "2023-02-15T19:43:55.979Z"
   },
   {
    "duration": 288,
    "start_time": "2023-02-15T19:43:55.999Z"
   },
   {
    "duration": 27,
    "start_time": "2023-02-15T19:43:56.289Z"
   },
   {
    "duration": 36,
    "start_time": "2023-02-15T19:43:56.318Z"
   },
   {
    "duration": 281,
    "start_time": "2023-02-15T19:43:56.362Z"
   },
   {
    "duration": 29,
    "start_time": "2023-02-15T19:43:56.649Z"
   },
   {
    "duration": 25,
    "start_time": "2023-02-15T19:43:56.682Z"
   },
   {
    "duration": 63,
    "start_time": "2023-02-15T19:43:56.709Z"
   },
   {
    "duration": 85,
    "start_time": "2023-02-15T19:43:56.774Z"
   },
   {
    "duration": 107,
    "start_time": "2023-02-15T19:43:56.867Z"
   },
   {
    "duration": 89,
    "start_time": "2023-02-15T19:43:56.976Z"
   },
   {
    "duration": 332,
    "start_time": "2023-02-15T19:43:57.070Z"
   },
   {
    "duration": 171,
    "start_time": "2023-02-15T19:43:57.404Z"
   },
   {
    "duration": 28,
    "start_time": "2023-02-15T19:43:57.576Z"
   },
   {
    "duration": 135,
    "start_time": "2023-02-15T19:43:57.606Z"
   },
   {
    "duration": 8,
    "start_time": "2023-02-15T19:43:57.743Z"
   },
   {
    "duration": 35,
    "start_time": "2023-02-15T19:43:57.764Z"
   },
   {
    "duration": 7,
    "start_time": "2023-02-15T19:43:57.801Z"
   },
   {
    "duration": 7,
    "start_time": "2023-02-15T19:43:57.810Z"
   },
   {
    "duration": 4544,
    "start_time": "2023-02-15T19:43:57.819Z"
   },
   {
    "duration": 84,
    "start_time": "2023-02-15T19:44:02.371Z"
   },
   {
    "duration": 230617,
    "start_time": "2023-02-15T19:44:02.462Z"
   },
   {
    "duration": 169249,
    "start_time": "2023-02-15T19:47:53.081Z"
   },
   {
    "duration": 3,
    "start_time": "2023-02-15T19:50:42.331Z"
   },
   {
    "duration": 3542,
    "start_time": "2023-02-15T19:50:42.336Z"
   },
   {
    "duration": 131327,
    "start_time": "2023-02-15T19:50:45.880Z"
   },
   {
    "duration": 3,
    "start_time": "2023-02-15T19:52:57.209Z"
   },
   {
    "duration": 491656,
    "start_time": "2023-02-15T19:52:57.214Z"
   },
   {
    "duration": 1471,
    "start_time": "2023-02-15T21:15:14.575Z"
   },
   {
    "duration": 2,
    "start_time": "2023-02-15T21:15:16.048Z"
   },
   {
    "duration": 13,
    "start_time": "2023-02-15T21:15:16.051Z"
   },
   {
    "duration": 3254,
    "start_time": "2023-02-15T21:15:16.065Z"
   },
   {
    "duration": 16,
    "start_time": "2023-02-15T21:15:19.321Z"
   },
   {
    "duration": 11,
    "start_time": "2023-02-15T21:15:19.339Z"
   },
   {
    "duration": 148,
    "start_time": "2023-02-15T21:15:19.352Z"
   },
   {
    "duration": 99,
    "start_time": "2023-02-15T21:15:19.501Z"
   },
   {
    "duration": 52,
    "start_time": "2023-02-15T21:15:19.601Z"
   },
   {
    "duration": 207,
    "start_time": "2023-02-15T21:15:19.655Z"
   },
   {
    "duration": 426,
    "start_time": "2023-02-15T21:15:19.864Z"
   },
   {
    "duration": 81,
    "start_time": "2023-02-15T21:15:20.292Z"
   },
   {
    "duration": 17,
    "start_time": "2023-02-15T21:15:20.374Z"
   },
   {
    "duration": 259,
    "start_time": "2023-02-15T21:15:20.394Z"
   },
   {
    "duration": 27,
    "start_time": "2023-02-15T21:15:20.654Z"
   },
   {
    "duration": 18,
    "start_time": "2023-02-15T21:15:20.682Z"
   },
   {
    "duration": 209,
    "start_time": "2023-02-15T21:15:20.701Z"
   },
   {
    "duration": 23,
    "start_time": "2023-02-15T21:15:20.912Z"
   },
   {
    "duration": 26,
    "start_time": "2023-02-15T21:15:20.936Z"
   },
   {
    "duration": 23,
    "start_time": "2023-02-15T21:15:20.964Z"
   },
   {
    "duration": 94,
    "start_time": "2023-02-15T21:15:20.989Z"
   },
   {
    "duration": 87,
    "start_time": "2023-02-15T21:15:21.084Z"
   },
   {
    "duration": 86,
    "start_time": "2023-02-15T21:15:21.173Z"
   },
   {
    "duration": 308,
    "start_time": "2023-02-15T21:15:21.261Z"
   },
   {
    "duration": 113,
    "start_time": "2023-02-15T21:15:21.571Z"
   },
   {
    "duration": 44,
    "start_time": "2023-02-15T21:15:21.687Z"
   },
   {
    "duration": 100,
    "start_time": "2023-02-15T21:15:21.734Z"
   },
   {
    "duration": 5,
    "start_time": "2023-02-15T21:15:21.836Z"
   },
   {
    "duration": 3,
    "start_time": "2023-02-15T21:15:21.849Z"
   },
   {
    "duration": 7,
    "start_time": "2023-02-15T21:15:21.854Z"
   },
   {
    "duration": 7,
    "start_time": "2023-02-15T21:15:21.862Z"
   },
   {
    "duration": 3880,
    "start_time": "2023-02-15T21:15:21.871Z"
   },
   {
    "duration": 6,
    "start_time": "2023-02-15T21:15:25.755Z"
   },
   {
    "duration": 205281,
    "start_time": "2023-02-15T21:15:25.762Z"
   },
   {
    "duration": 147428,
    "start_time": "2023-02-15T21:18:51.044Z"
   },
   {
    "duration": 3,
    "start_time": "2023-02-15T21:21:18.474Z"
   },
   {
    "duration": 3207,
    "start_time": "2023-02-15T21:21:18.478Z"
   },
   {
    "duration": 121081,
    "start_time": "2023-02-15T21:21:21.687Z"
   },
   {
    "duration": 3,
    "start_time": "2023-02-15T21:23:22.770Z"
   },
   {
    "duration": 369901,
    "start_time": "2023-02-15T21:23:22.774Z"
   },
   {
    "duration": 1614871,
    "start_time": "2023-02-15T21:29:32.678Z"
   },
   {
    "duration": 2,
    "start_time": "2023-02-15T21:56:27.551Z"
   },
   {
    "duration": 32644,
    "start_time": "2023-02-15T21:56:27.554Z"
   },
   {
    "duration": 1593,
    "start_time": "2023-02-16T17:41:26.031Z"
   },
   {
    "duration": 3,
    "start_time": "2023-02-16T17:41:27.627Z"
   },
   {
    "duration": 6,
    "start_time": "2023-02-16T17:41:27.632Z"
   },
   {
    "duration": 3438,
    "start_time": "2023-02-16T17:41:27.640Z"
   },
   {
    "duration": 19,
    "start_time": "2023-02-16T17:41:31.080Z"
   },
   {
    "duration": 22,
    "start_time": "2023-02-16T17:41:31.101Z"
   },
   {
    "duration": 164,
    "start_time": "2023-02-16T17:41:31.124Z"
   },
   {
    "duration": 103,
    "start_time": "2023-02-16T17:41:31.290Z"
   },
   {
    "duration": 72,
    "start_time": "2023-02-16T17:41:31.395Z"
   },
   {
    "duration": 231,
    "start_time": "2023-02-16T17:41:31.469Z"
   },
   {
    "duration": 402,
    "start_time": "2023-02-16T17:41:31.702Z"
   },
   {
    "duration": 101,
    "start_time": "2023-02-16T17:41:32.105Z"
   },
   {
    "duration": 17,
    "start_time": "2023-02-16T17:41:32.208Z"
   },
   {
    "duration": 282,
    "start_time": "2023-02-16T17:41:32.248Z"
   },
   {
    "duration": 37,
    "start_time": "2023-02-16T17:41:32.532Z"
   },
   {
    "duration": 17,
    "start_time": "2023-02-16T17:41:32.571Z"
   },
   {
    "duration": 222,
    "start_time": "2023-02-16T17:41:32.589Z"
   },
   {
    "duration": 23,
    "start_time": "2023-02-16T17:41:32.812Z"
   },
   {
    "duration": 24,
    "start_time": "2023-02-16T17:41:32.859Z"
   },
   {
    "duration": 28,
    "start_time": "2023-02-16T17:41:32.885Z"
   },
   {
    "duration": 90,
    "start_time": "2023-02-16T17:41:32.915Z"
   },
   {
    "duration": 115,
    "start_time": "2023-02-16T17:41:33.006Z"
   },
   {
    "duration": 95,
    "start_time": "2023-02-16T17:41:33.122Z"
   },
   {
    "duration": 363,
    "start_time": "2023-02-16T17:41:33.219Z"
   },
   {
    "duration": 125,
    "start_time": "2023-02-16T17:41:33.585Z"
   },
   {
    "duration": 45,
    "start_time": "2023-02-16T17:41:33.712Z"
   },
   {
    "duration": 113,
    "start_time": "2023-02-16T17:41:33.759Z"
   },
   {
    "duration": 5,
    "start_time": "2023-02-16T17:41:33.874Z"
   },
   {
    "duration": 7,
    "start_time": "2023-02-16T17:41:33.880Z"
   },
   {
    "duration": 4,
    "start_time": "2023-02-16T17:41:33.888Z"
   },
   {
    "duration": 6,
    "start_time": "2023-02-16T17:41:33.894Z"
   },
   {
    "duration": 4658,
    "start_time": "2023-02-16T17:41:33.901Z"
   },
   {
    "duration": 4,
    "start_time": "2023-02-16T17:41:38.566Z"
   },
   {
    "duration": 276,
    "start_time": "2023-02-16T17:41:38.652Z"
   },
   {
    "duration": 100,
    "start_time": "2023-02-16T17:41:38.930Z"
   },
   {
    "duration": 252,
    "start_time": "2023-02-16T17:41:59.369Z"
   },
   {
    "duration": 235,
    "start_time": "2023-02-16T17:41:59.933Z"
   },
   {
    "duration": 213,
    "start_time": "2023-02-16T17:43:09.200Z"
   },
   {
    "duration": 218,
    "start_time": "2023-02-16T17:43:20.575Z"
   },
   {
    "duration": 625138,
    "start_time": "2023-02-16T17:44:11.827Z"
   },
   {
    "duration": 1456,
    "start_time": "2023-02-16T17:56:25.108Z"
   },
   {
    "duration": 3,
    "start_time": "2023-02-16T17:56:26.566Z"
   },
   {
    "duration": 5,
    "start_time": "2023-02-16T17:56:26.570Z"
   },
   {
    "duration": 1005,
    "start_time": "2023-02-16T17:56:26.576Z"
   },
   {
    "duration": 18,
    "start_time": "2023-02-16T17:56:27.584Z"
   },
   {
    "duration": 16,
    "start_time": "2023-02-16T17:56:27.603Z"
   },
   {
    "duration": 170,
    "start_time": "2023-02-16T17:56:27.620Z"
   },
   {
    "duration": 115,
    "start_time": "2023-02-16T17:56:27.792Z"
   },
   {
    "duration": 60,
    "start_time": "2023-02-16T17:56:27.908Z"
   },
   {
    "duration": 251,
    "start_time": "2023-02-16T17:56:27.970Z"
   },
   {
    "duration": 440,
    "start_time": "2023-02-16T17:56:28.223Z"
   },
   {
    "duration": 76,
    "start_time": "2023-02-16T17:56:28.665Z"
   },
   {
    "duration": 48,
    "start_time": "2023-02-16T17:56:28.743Z"
   },
   {
    "duration": 272,
    "start_time": "2023-02-16T17:56:28.794Z"
   },
   {
    "duration": 28,
    "start_time": "2023-02-16T17:56:29.068Z"
   },
   {
    "duration": 16,
    "start_time": "2023-02-16T17:56:29.098Z"
   },
   {
    "duration": 222,
    "start_time": "2023-02-16T17:56:29.116Z"
   },
   {
    "duration": 34,
    "start_time": "2023-02-16T17:56:29.339Z"
   },
   {
    "duration": 25,
    "start_time": "2023-02-16T17:56:29.376Z"
   },
   {
    "duration": 25,
    "start_time": "2023-02-16T17:56:29.403Z"
   },
   {
    "duration": 99,
    "start_time": "2023-02-16T17:56:29.431Z"
   },
   {
    "duration": 113,
    "start_time": "2023-02-16T17:56:29.531Z"
   },
   {
    "duration": 90,
    "start_time": "2023-02-16T17:56:29.648Z"
   },
   {
    "duration": 320,
    "start_time": "2023-02-16T17:56:29.751Z"
   },
   {
    "duration": 112,
    "start_time": "2023-02-16T17:56:30.073Z"
   },
   {
    "duration": 28,
    "start_time": "2023-02-16T17:56:30.186Z"
   },
   {
    "duration": 116,
    "start_time": "2023-02-16T17:56:30.216Z"
   },
   {
    "duration": 5,
    "start_time": "2023-02-16T17:56:30.334Z"
   },
   {
    "duration": 39,
    "start_time": "2023-02-16T17:56:30.348Z"
   },
   {
    "duration": 73,
    "start_time": "2023-02-16T17:56:30.389Z"
   },
   {
    "duration": 37,
    "start_time": "2023-02-16T17:56:30.465Z"
   },
   {
    "duration": 4547,
    "start_time": "2023-02-16T17:56:30.504Z"
   },
   {
    "duration": 97,
    "start_time": "2023-02-16T17:56:35.054Z"
   },
   {
    "duration": 224709,
    "start_time": "2023-02-16T17:56:35.153Z"
   },
   {
    "duration": 57,
    "start_time": "2023-02-16T18:05:44.709Z"
   },
   {
    "duration": 1553,
    "start_time": "2023-02-16T18:05:50.067Z"
   },
   {
    "duration": 3,
    "start_time": "2023-02-16T18:05:51.622Z"
   },
   {
    "duration": 6,
    "start_time": "2023-02-16T18:05:51.627Z"
   },
   {
    "duration": 941,
    "start_time": "2023-02-16T18:05:51.635Z"
   },
   {
    "duration": 18,
    "start_time": "2023-02-16T18:05:52.579Z"
   },
   {
    "duration": 26,
    "start_time": "2023-02-16T18:05:52.599Z"
   },
   {
    "duration": 174,
    "start_time": "2023-02-16T18:05:52.627Z"
   },
   {
    "duration": 114,
    "start_time": "2023-02-16T18:05:52.804Z"
   },
   {
    "duration": 64,
    "start_time": "2023-02-16T18:05:52.920Z"
   },
   {
    "duration": 242,
    "start_time": "2023-02-16T18:05:52.986Z"
   },
   {
    "duration": 490,
    "start_time": "2023-02-16T18:05:53.229Z"
   },
   {
    "duration": 100,
    "start_time": "2023-02-16T18:05:53.721Z"
   },
   {
    "duration": 38,
    "start_time": "2023-02-16T18:05:53.823Z"
   },
   {
    "duration": 311,
    "start_time": "2023-02-16T18:05:53.864Z"
   },
   {
    "duration": 27,
    "start_time": "2023-02-16T18:05:54.177Z"
   },
   {
    "duration": 17,
    "start_time": "2023-02-16T18:05:54.206Z"
   },
   {
    "duration": 242,
    "start_time": "2023-02-16T18:05:54.225Z"
   },
   {
    "duration": 25,
    "start_time": "2023-02-16T18:05:54.469Z"
   },
   {
    "duration": 17,
    "start_time": "2023-02-16T18:05:54.496Z"
   },
   {
    "duration": 49,
    "start_time": "2023-02-16T18:05:54.515Z"
   },
   {
    "duration": 77,
    "start_time": "2023-02-16T18:05:54.566Z"
   },
   {
    "duration": 88,
    "start_time": "2023-02-16T18:05:54.653Z"
   },
   {
    "duration": 84,
    "start_time": "2023-02-16T18:05:54.749Z"
   },
   {
    "duration": 340,
    "start_time": "2023-02-16T18:05:54.835Z"
   },
   {
    "duration": 119,
    "start_time": "2023-02-16T18:05:55.177Z"
   },
   {
    "duration": 33,
    "start_time": "2023-02-16T18:05:55.297Z"
   },
   {
    "duration": 133,
    "start_time": "2023-02-16T18:05:55.331Z"
   },
   {
    "duration": 4,
    "start_time": "2023-02-16T18:05:55.466Z"
   },
   {
    "duration": 6,
    "start_time": "2023-02-16T18:05:55.472Z"
   },
   {
    "duration": 6,
    "start_time": "2023-02-16T18:05:55.480Z"
   },
   {
    "duration": 78,
    "start_time": "2023-02-16T18:05:55.487Z"
   },
   {
    "duration": 0,
    "start_time": "2023-02-16T18:05:55.567Z"
   },
   {
    "duration": 0,
    "start_time": "2023-02-16T18:05:55.568Z"
   },
   {
    "duration": 4678,
    "start_time": "2023-02-16T18:06:04.674Z"
   },
   {
    "duration": 1280,
    "start_time": "2023-02-16T18:06:23.348Z"
   },
   {
    "duration": 3883,
    "start_time": "2023-02-16T18:30:37.658Z"
   },
   {
    "duration": 12,
    "start_time": "2023-02-16T18:30:45.678Z"
   },
   {
    "duration": 11,
    "start_time": "2023-02-16T18:31:02.249Z"
   },
   {
    "duration": 12,
    "start_time": "2023-02-16T18:31:10.790Z"
   },
   {
    "duration": 4,
    "start_time": "2023-02-16T18:31:23.941Z"
   },
   {
    "duration": 3595,
    "start_time": "2023-02-16T18:31:26.603Z"
   },
   {
    "duration": 5,
    "start_time": "2023-02-16T18:32:00.779Z"
   },
   {
    "duration": 4915,
    "start_time": "2023-02-16T18:32:02.715Z"
   },
   {
    "duration": 3,
    "start_time": "2023-02-16T18:32:17.596Z"
   },
   {
    "duration": 5673,
    "start_time": "2023-02-16T18:32:19.246Z"
   },
   {
    "duration": 4,
    "start_time": "2023-02-16T18:33:28.425Z"
   },
   {
    "duration": 5899,
    "start_time": "2023-02-16T18:33:30.488Z"
   },
   {
    "duration": 6,
    "start_time": "2023-02-16T18:33:50.754Z"
   },
   {
    "duration": 4729,
    "start_time": "2023-02-16T18:33:53.429Z"
   },
   {
    "duration": 3673,
    "start_time": "2023-02-16T18:35:55.428Z"
   },
   {
    "duration": 4,
    "start_time": "2023-02-16T18:37:04.465Z"
   },
   {
    "duration": 3388,
    "start_time": "2023-02-16T18:37:08.004Z"
   },
   {
    "duration": 3739,
    "start_time": "2023-02-16T18:38:16.969Z"
   },
   {
    "duration": 5393,
    "start_time": "2023-02-16T18:38:26.278Z"
   },
   {
    "duration": 11,
    "start_time": "2023-02-16T18:38:37.093Z"
   },
   {
    "duration": 1293,
    "start_time": "2023-02-16T18:38:44.079Z"
   },
   {
    "duration": 1208,
    "start_time": "2023-02-16T18:39:38.562Z"
   },
   {
    "duration": 1185,
    "start_time": "2023-02-16T18:39:48.906Z"
   },
   {
    "duration": 1257,
    "start_time": "2023-02-16T18:40:03.382Z"
   },
   {
    "duration": 1268,
    "start_time": "2023-02-16T18:40:18.878Z"
   },
   {
    "duration": 203300,
    "start_time": "2023-02-16T18:41:12.602Z"
   },
   {
    "duration": 1522,
    "start_time": "2023-02-16T18:44:43.662Z"
   },
   {
    "duration": 3276,
    "start_time": "2023-02-16T18:46:14.479Z"
   },
   {
    "duration": 1151,
    "start_time": "2023-02-16T18:46:17.758Z"
   },
   {
    "duration": 57,
    "start_time": "2023-02-16T18:52:39.266Z"
   },
   {
    "duration": 183490,
    "start_time": "2023-02-16T18:52:54.391Z"
   },
   {
    "duration": 1161,
    "start_time": "2023-02-16T18:56:59.690Z"
   },
   {
    "duration": 4518,
    "start_time": "2023-02-16T19:02:05.836Z"
   },
   {
    "duration": 4,
    "start_time": "2023-02-16T19:02:46.414Z"
   },
   {
    "duration": 3,
    "start_time": "2023-02-16T19:02:54.404Z"
   },
   {
    "duration": 4697,
    "start_time": "2023-02-16T19:02:55.797Z"
   },
   {
    "duration": 11,
    "start_time": "2023-02-16T19:03:34.916Z"
   },
   {
    "duration": 4,
    "start_time": "2023-02-16T19:03:43.588Z"
   },
   {
    "duration": 4853,
    "start_time": "2023-02-16T19:03:45.832Z"
   },
   {
    "duration": 5,
    "start_time": "2023-02-16T19:04:48.057Z"
   },
   {
    "duration": 3825,
    "start_time": "2023-02-16T19:04:49.730Z"
   },
   {
    "duration": 4,
    "start_time": "2023-02-16T19:05:01.705Z"
   },
   {
    "duration": 6,
    "start_time": "2023-02-16T19:05:09.349Z"
   },
   {
    "duration": 75,
    "start_time": "2023-02-16T19:05:50.466Z"
   },
   {
    "duration": 5,
    "start_time": "2023-02-16T19:05:58.186Z"
   },
   {
    "duration": 3677,
    "start_time": "2023-02-16T19:05:59.779Z"
   },
   {
    "duration": 7,
    "start_time": "2023-02-16T19:06:06.013Z"
   },
   {
    "duration": 4465,
    "start_time": "2023-02-16T19:06:53.787Z"
   },
   {
    "duration": 5,
    "start_time": "2023-02-16T19:07:05.965Z"
   },
   {
    "duration": 4591,
    "start_time": "2023-02-16T19:07:15.965Z"
   },
   {
    "duration": 5,
    "start_time": "2023-02-16T19:07:20.558Z"
   },
   {
    "duration": 5141,
    "start_time": "2023-02-16T19:07:49.511Z"
   },
   {
    "duration": 5,
    "start_time": "2023-02-16T19:07:54.656Z"
   },
   {
    "duration": 622939,
    "start_time": "2023-02-16T19:08:20.046Z"
   },
   {
    "duration": 1444,
    "start_time": "2023-02-16T19:27:43.532Z"
   },
   {
    "duration": 2,
    "start_time": "2023-02-16T19:27:44.978Z"
   },
   {
    "duration": 11,
    "start_time": "2023-02-16T19:27:44.982Z"
   },
   {
    "duration": 871,
    "start_time": "2023-02-16T19:27:44.994Z"
   },
   {
    "duration": 15,
    "start_time": "2023-02-16T19:27:45.867Z"
   },
   {
    "duration": 10,
    "start_time": "2023-02-16T19:27:45.884Z"
   },
   {
    "duration": 167,
    "start_time": "2023-02-16T19:27:45.896Z"
   },
   {
    "duration": 102,
    "start_time": "2023-02-16T19:27:46.064Z"
   },
   {
    "duration": 47,
    "start_time": "2023-02-16T19:27:46.168Z"
   },
   {
    "duration": 295,
    "start_time": "2023-02-16T19:27:46.217Z"
   },
   {
    "duration": 473,
    "start_time": "2023-02-16T19:27:46.514Z"
   },
   {
    "duration": 89,
    "start_time": "2023-02-16T19:27:46.989Z"
   },
   {
    "duration": 27,
    "start_time": "2023-02-16T19:27:47.080Z"
   },
   {
    "duration": 281,
    "start_time": "2023-02-16T19:27:47.110Z"
   },
   {
    "duration": 40,
    "start_time": "2023-02-16T19:27:47.393Z"
   },
   {
    "duration": 26,
    "start_time": "2023-02-16T19:27:47.435Z"
   },
   {
    "duration": 207,
    "start_time": "2023-02-16T19:27:47.463Z"
   },
   {
    "duration": 23,
    "start_time": "2023-02-16T19:27:47.671Z"
   },
   {
    "duration": 15,
    "start_time": "2023-02-16T19:27:47.695Z"
   },
   {
    "duration": 49,
    "start_time": "2023-02-16T19:27:47.711Z"
   },
   {
    "duration": 76,
    "start_time": "2023-02-16T19:27:47.762Z"
   },
   {
    "duration": 90,
    "start_time": "2023-02-16T19:27:47.840Z"
   },
   {
    "duration": 97,
    "start_time": "2023-02-16T19:27:47.932Z"
   },
   {
    "duration": 332,
    "start_time": "2023-02-16T19:27:48.031Z"
   },
   {
    "duration": 105,
    "start_time": "2023-02-16T19:27:48.365Z"
   },
   {
    "duration": 32,
    "start_time": "2023-02-16T19:27:48.472Z"
   },
   {
    "duration": 114,
    "start_time": "2023-02-16T19:27:48.505Z"
   },
   {
    "duration": 5,
    "start_time": "2023-02-16T19:27:48.621Z"
   },
   {
    "duration": 4,
    "start_time": "2023-02-16T19:27:48.627Z"
   },
   {
    "duration": 31,
    "start_time": "2023-02-16T19:27:48.633Z"
   },
   {
    "duration": 10,
    "start_time": "2023-02-16T19:27:48.666Z"
   },
   {
    "duration": 5194,
    "start_time": "2023-02-16T19:27:48.677Z"
   },
   {
    "duration": 1222,
    "start_time": "2023-02-16T19:27:53.955Z"
   },
   {
    "duration": 219422,
    "start_time": "2023-02-16T19:27:55.178Z"
   },
   {
    "duration": 1435,
    "start_time": "2023-02-16T19:31:34.602Z"
   },
   {
    "duration": 216085,
    "start_time": "2023-02-16T19:31:36.039Z"
   },
   {
    "duration": 1468,
    "start_time": "2023-02-16T19:35:12.126Z"
   },
   {
    "duration": 1517,
    "start_time": "2023-02-16T19:44:20.306Z"
   },
   {
    "duration": 3,
    "start_time": "2023-02-16T19:44:21.825Z"
   },
   {
    "duration": 5,
    "start_time": "2023-02-16T19:44:21.830Z"
   },
   {
    "duration": 866,
    "start_time": "2023-02-16T19:44:21.836Z"
   },
   {
    "duration": 18,
    "start_time": "2023-02-16T19:44:22.704Z"
   },
   {
    "duration": 12,
    "start_time": "2023-02-16T19:44:22.723Z"
   },
   {
    "duration": 139,
    "start_time": "2023-02-16T19:44:22.749Z"
   },
   {
    "duration": 142,
    "start_time": "2023-02-16T19:44:22.890Z"
   },
   {
    "duration": 52,
    "start_time": "2023-02-16T19:44:23.034Z"
   },
   {
    "duration": 211,
    "start_time": "2023-02-16T19:44:23.088Z"
   },
   {
    "duration": 472,
    "start_time": "2023-02-16T19:44:23.301Z"
   },
   {
    "duration": 95,
    "start_time": "2023-02-16T19:44:23.775Z"
   },
   {
    "duration": 21,
    "start_time": "2023-02-16T19:44:23.871Z"
   },
   {
    "duration": 298,
    "start_time": "2023-02-16T19:44:23.895Z"
   },
   {
    "duration": 22,
    "start_time": "2023-02-16T19:44:24.195Z"
   },
   {
    "duration": 30,
    "start_time": "2023-02-16T19:44:24.219Z"
   },
   {
    "duration": 186,
    "start_time": "2023-02-16T19:44:24.251Z"
   },
   {
    "duration": 31,
    "start_time": "2023-02-16T19:44:24.438Z"
   },
   {
    "duration": 16,
    "start_time": "2023-02-16T19:44:24.470Z"
   },
   {
    "duration": 23,
    "start_time": "2023-02-16T19:44:24.487Z"
   },
   {
    "duration": 88,
    "start_time": "2023-02-16T19:44:24.511Z"
   },
   {
    "duration": 84,
    "start_time": "2023-02-16T19:44:24.600Z"
   },
   {
    "duration": 84,
    "start_time": "2023-02-16T19:44:24.686Z"
   },
   {
    "duration": 332,
    "start_time": "2023-02-16T19:44:24.772Z"
   },
   {
    "duration": 115,
    "start_time": "2023-02-16T19:44:25.106Z"
   },
   {
    "duration": 40,
    "start_time": "2023-02-16T19:44:25.224Z"
   },
   {
    "duration": 148,
    "start_time": "2023-02-16T19:44:25.266Z"
   },
   {
    "duration": 6,
    "start_time": "2023-02-16T19:44:25.417Z"
   },
   {
    "duration": 4,
    "start_time": "2023-02-16T19:44:25.425Z"
   },
   {
    "duration": 19,
    "start_time": "2023-02-16T19:44:25.431Z"
   },
   {
    "duration": 13,
    "start_time": "2023-02-16T19:44:25.452Z"
   },
   {
    "duration": 4686,
    "start_time": "2023-02-16T19:44:25.466Z"
   },
   {
    "duration": 79,
    "start_time": "2023-02-16T19:44:32.983Z"
   },
   {
    "duration": 1119,
    "start_time": "2023-02-16T19:44:40.117Z"
   },
   {
    "duration": 1225,
    "start_time": "2023-02-16T19:44:48.709Z"
   },
   {
    "duration": 1204,
    "start_time": "2023-02-16T19:44:56.202Z"
   },
   {
    "duration": 1230,
    "start_time": "2023-02-16T19:45:24.334Z"
   },
   {
    "duration": 1150,
    "start_time": "2023-02-16T19:45:43.784Z"
   },
   {
    "duration": 1207,
    "start_time": "2023-02-16T19:45:48.375Z"
   },
   {
    "duration": 1206,
    "start_time": "2023-02-16T19:46:05.796Z"
   },
   {
    "duration": 1118,
    "start_time": "2023-02-16T19:46:24.216Z"
   },
   {
    "duration": 1151,
    "start_time": "2023-02-16T19:46:36.431Z"
   },
   {
    "duration": 1158,
    "start_time": "2023-02-16T19:47:49.010Z"
   },
   {
    "duration": 1526,
    "start_time": "2023-02-16T19:48:42.909Z"
   },
   {
    "duration": 3,
    "start_time": "2023-02-16T19:48:44.437Z"
   },
   {
    "duration": 36,
    "start_time": "2023-02-16T19:48:44.441Z"
   },
   {
    "duration": 932,
    "start_time": "2023-02-16T19:48:44.479Z"
   },
   {
    "duration": 16,
    "start_time": "2023-02-16T19:48:45.413Z"
   },
   {
    "duration": 39,
    "start_time": "2023-02-16T19:48:45.430Z"
   },
   {
    "duration": 184,
    "start_time": "2023-02-16T19:48:45.470Z"
   },
   {
    "duration": 141,
    "start_time": "2023-02-16T19:48:45.657Z"
   },
   {
    "duration": 59,
    "start_time": "2023-02-16T19:48:45.800Z"
   },
   {
    "duration": 268,
    "start_time": "2023-02-16T19:48:45.860Z"
   },
   {
    "duration": 470,
    "start_time": "2023-02-16T19:48:46.130Z"
   },
   {
    "duration": 97,
    "start_time": "2023-02-16T19:48:46.602Z"
   },
   {
    "duration": 17,
    "start_time": "2023-02-16T19:48:46.700Z"
   },
   {
    "duration": 298,
    "start_time": "2023-02-16T19:48:46.720Z"
   },
   {
    "duration": 43,
    "start_time": "2023-02-16T19:48:47.020Z"
   },
   {
    "duration": 18,
    "start_time": "2023-02-16T19:48:47.070Z"
   },
   {
    "duration": 195,
    "start_time": "2023-02-16T19:48:47.089Z"
   },
   {
    "duration": 22,
    "start_time": "2023-02-16T19:48:47.285Z"
   },
   {
    "duration": 16,
    "start_time": "2023-02-16T19:48:47.308Z"
   },
   {
    "duration": 50,
    "start_time": "2023-02-16T19:48:47.326Z"
   },
   {
    "duration": 81,
    "start_time": "2023-02-16T19:48:47.379Z"
   },
   {
    "duration": 97,
    "start_time": "2023-02-16T19:48:47.466Z"
   },
   {
    "duration": 93,
    "start_time": "2023-02-16T19:48:47.565Z"
   },
   {
    "duration": 329,
    "start_time": "2023-02-16T19:48:47.664Z"
   },
   {
    "duration": 117,
    "start_time": "2023-02-16T19:48:47.995Z"
   },
   {
    "duration": 19,
    "start_time": "2023-02-16T19:48:48.113Z"
   },
   {
    "duration": 123,
    "start_time": "2023-02-16T19:48:48.134Z"
   },
   {
    "duration": 6,
    "start_time": "2023-02-16T19:48:48.262Z"
   },
   {
    "duration": 12,
    "start_time": "2023-02-16T19:48:48.270Z"
   },
   {
    "duration": 6,
    "start_time": "2023-02-16T19:48:48.284Z"
   },
   {
    "duration": 11,
    "start_time": "2023-02-16T19:48:48.291Z"
   },
   {
    "duration": 4279,
    "start_time": "2023-02-16T19:48:48.304Z"
   },
   {
    "duration": 1350,
    "start_time": "2023-02-16T19:48:52.585Z"
   },
   {
    "duration": 219565,
    "start_time": "2023-02-16T19:48:53.937Z"
   },
   {
    "duration": 1574,
    "start_time": "2023-02-16T19:52:33.505Z"
   },
   {
    "duration": 219653,
    "start_time": "2023-02-16T19:52:35.082Z"
   },
   {
    "duration": 1500,
    "start_time": "2023-02-16T19:56:14.737Z"
   },
   {
    "duration": 650226,
    "start_time": "2023-02-16T19:56:16.239Z"
   },
   {
    "duration": 1492,
    "start_time": "2023-02-16T20:07:06.467Z"
   },
   {
    "duration": 1477,
    "start_time": "2023-02-17T20:20:35.631Z"
   },
   {
    "duration": 2,
    "start_time": "2023-02-17T20:20:37.110Z"
   },
   {
    "duration": 8,
    "start_time": "2023-02-17T20:20:37.114Z"
   },
   {
    "duration": 864,
    "start_time": "2023-02-17T20:20:37.124Z"
   },
   {
    "duration": 17,
    "start_time": "2023-02-17T20:20:37.990Z"
   },
   {
    "duration": 13,
    "start_time": "2023-02-17T20:20:38.008Z"
   },
   {
    "duration": 174,
    "start_time": "2023-02-17T20:20:38.022Z"
   },
   {
    "duration": 142,
    "start_time": "2023-02-17T20:20:38.198Z"
   },
   {
    "duration": 58,
    "start_time": "2023-02-17T20:20:38.341Z"
   },
   {
    "duration": 217,
    "start_time": "2023-02-17T20:20:38.401Z"
   },
   {
    "duration": 418,
    "start_time": "2023-02-17T20:20:38.619Z"
   },
   {
    "duration": 101,
    "start_time": "2023-02-17T20:20:39.038Z"
   },
   {
    "duration": 34,
    "start_time": "2023-02-17T20:20:39.140Z"
   },
   {
    "duration": 255,
    "start_time": "2023-02-17T20:20:39.177Z"
   },
   {
    "duration": 38,
    "start_time": "2023-02-17T20:20:39.433Z"
   },
   {
    "duration": 15,
    "start_time": "2023-02-17T20:20:39.479Z"
   },
   {
    "duration": 189,
    "start_time": "2023-02-17T20:20:39.496Z"
   },
   {
    "duration": 21,
    "start_time": "2023-02-17T20:20:39.686Z"
   },
   {
    "duration": 14,
    "start_time": "2023-02-17T20:20:39.709Z"
   },
   {
    "duration": 53,
    "start_time": "2023-02-17T20:20:39.725Z"
   },
   {
    "duration": 78,
    "start_time": "2023-02-17T20:20:39.779Z"
   },
   {
    "duration": 99,
    "start_time": "2023-02-17T20:20:39.858Z"
   },
   {
    "duration": 82,
    "start_time": "2023-02-17T20:20:39.966Z"
   },
   {
    "duration": 348,
    "start_time": "2023-02-17T20:20:40.056Z"
   },
   {
    "duration": 117,
    "start_time": "2023-02-17T20:20:40.406Z"
   },
   {
    "duration": 32,
    "start_time": "2023-02-17T20:20:40.525Z"
   },
   {
    "duration": 109,
    "start_time": "2023-02-17T20:20:40.559Z"
   },
   {
    "duration": 5,
    "start_time": "2023-02-17T20:20:40.674Z"
   },
   {
    "duration": 5,
    "start_time": "2023-02-17T20:20:40.680Z"
   },
   {
    "duration": 6,
    "start_time": "2023-02-17T20:20:40.687Z"
   },
   {
    "duration": 9,
    "start_time": "2023-02-17T20:20:40.694Z"
   },
   {
    "duration": 4252,
    "start_time": "2023-02-17T20:20:40.704Z"
   },
   {
    "duration": 1288,
    "start_time": "2023-02-17T20:20:44.958Z"
   },
   {
    "duration": 211730,
    "start_time": "2023-02-17T20:20:46.248Z"
   },
   {
    "duration": 1410,
    "start_time": "2023-02-17T20:24:17.980Z"
   },
   {
    "duration": 645435,
    "start_time": "2023-02-17T20:24:19.392Z"
   },
   {
    "duration": 1552,
    "start_time": "2023-02-17T20:35:04.828Z"
   },
   {
    "duration": 3537,
    "start_time": "2023-02-17T20:35:06.386Z"
   },
   {
    "duration": 1162,
    "start_time": "2023-02-17T20:35:09.925Z"
   },
   {
    "duration": 10242,
    "start_time": "2023-02-17T20:35:11.089Z"
   },
   {
    "duration": 1181,
    "start_time": "2023-02-17T20:35:21.334Z"
   },
   {
    "duration": 401171,
    "start_time": "2023-02-17T20:35:22.516Z"
   },
   {
    "duration": 1337,
    "start_time": "2023-02-17T20:42:03.689Z"
   },
   {
    "duration": 284854,
    "start_time": "2023-02-17T20:42:05.028Z"
   },
   {
    "duration": 1181,
    "start_time": "2023-02-17T20:46:49.952Z"
   },
   {
    "duration": 1088,
    "start_time": "2023-02-17T20:46:51.134Z"
   },
   {
    "duration": 11,
    "start_time": "2023-02-17T20:46:52.224Z"
   },
   {
    "duration": 0,
    "start_time": "2023-02-17T20:46:52.236Z"
   },
   {
    "duration": 0,
    "start_time": "2023-02-17T20:46:52.238Z"
   },
   {
    "duration": 0,
    "start_time": "2023-02-17T20:46:52.239Z"
   },
   {
    "duration": 0,
    "start_time": "2023-02-17T20:46:52.241Z"
   },
   {
    "duration": 0,
    "start_time": "2023-02-17T20:46:52.242Z"
   },
   {
    "duration": 0,
    "start_time": "2023-02-17T20:46:52.243Z"
   },
   {
    "duration": 0,
    "start_time": "2023-02-17T20:46:52.245Z"
   },
   {
    "duration": 0,
    "start_time": "2023-02-17T20:46:52.246Z"
   },
   {
    "duration": 899,
    "start_time": "2023-02-17T20:48:03.479Z"
   },
   {
    "duration": 36168,
    "start_time": "2023-02-17T20:48:20.674Z"
   },
   {
    "duration": 1146,
    "start_time": "2023-02-17T20:48:56.844Z"
   },
   {
    "duration": 77231,
    "start_time": "2023-02-17T20:48:57.992Z"
   },
   {
    "duration": 1160,
    "start_time": "2023-02-17T20:50:15.225Z"
   },
   {
    "duration": 93733,
    "start_time": "2023-02-17T20:50:16.387Z"
   },
   {
    "duration": 1126,
    "start_time": "2023-02-17T20:51:50.121Z"
   },
   {
    "duration": 13,
    "start_time": "2023-02-17T20:51:51.248Z"
   },
   {
    "duration": 1229,
    "start_time": "2023-02-17T20:51:51.268Z"
   },
   {
    "duration": 8,
    "start_time": "2023-02-17T20:52:12.607Z"
   },
   {
    "duration": 97,
    "start_time": "2023-02-17T20:52:42.365Z"
   },
   {
    "duration": 8,
    "start_time": "2023-02-17T20:53:03.266Z"
   },
   {
    "duration": 1110,
    "start_time": "2023-02-17T20:53:04.720Z"
   },
   {
    "duration": 7,
    "start_time": "2023-02-17T20:53:07.609Z"
   },
   {
    "duration": 11,
    "start_time": "2023-02-17T21:00:04.912Z"
   },
   {
    "duration": 5,
    "start_time": "2023-02-17T21:00:10.681Z"
   },
   {
    "duration": 3250,
    "start_time": "2023-02-17T21:00:11.709Z"
   },
   {
    "duration": 2651,
    "start_time": "2023-02-17T21:00:14.961Z"
   },
   {
    "duration": 1076,
    "start_time": "2023-02-17T21:00:29.637Z"
   },
   {
    "duration": 9,
    "start_time": "2023-02-17T21:00:32.336Z"
   },
   {
    "duration": 1079,
    "start_time": "2023-02-17T21:00:49.508Z"
   },
   {
    "duration": 10,
    "start_time": "2023-02-17T21:00:51.445Z"
   },
   {
    "duration": 1179,
    "start_time": "2023-02-17T21:01:02.667Z"
   },
   {
    "duration": 10,
    "start_time": "2023-02-17T21:01:03.987Z"
   },
   {
    "duration": 1414,
    "start_time": "2023-02-17T21:06:10.427Z"
   },
   {
    "duration": 3,
    "start_time": "2023-02-17T21:06:11.843Z"
   },
   {
    "duration": 15,
    "start_time": "2023-02-17T21:06:11.850Z"
   },
   {
    "duration": 863,
    "start_time": "2023-02-17T21:06:11.867Z"
   },
   {
    "duration": 35,
    "start_time": "2023-02-17T21:06:12.731Z"
   },
   {
    "duration": 17,
    "start_time": "2023-02-17T21:06:12.767Z"
   },
   {
    "duration": 136,
    "start_time": "2023-02-17T21:06:12.785Z"
   },
   {
    "duration": 94,
    "start_time": "2023-02-17T21:06:12.922Z"
   },
   {
    "duration": 57,
    "start_time": "2023-02-17T21:06:13.018Z"
   },
   {
    "duration": 195,
    "start_time": "2023-02-17T21:06:13.078Z"
   },
   {
    "duration": 393,
    "start_time": "2023-02-17T21:06:13.275Z"
   },
   {
    "duration": 100,
    "start_time": "2023-02-17T21:06:13.669Z"
   },
   {
    "duration": 24,
    "start_time": "2023-02-17T21:06:13.771Z"
   },
   {
    "duration": 275,
    "start_time": "2023-02-17T21:06:13.796Z"
   },
   {
    "duration": 26,
    "start_time": "2023-02-17T21:06:14.072Z"
   },
   {
    "duration": 16,
    "start_time": "2023-02-17T21:06:14.099Z"
   },
   {
    "duration": 214,
    "start_time": "2023-02-17T21:06:14.117Z"
   },
   {
    "duration": 30,
    "start_time": "2023-02-17T21:06:14.333Z"
   },
   {
    "duration": 15,
    "start_time": "2023-02-17T21:06:14.364Z"
   },
   {
    "duration": 20,
    "start_time": "2023-02-17T21:06:14.381Z"
   },
   {
    "duration": 91,
    "start_time": "2023-02-17T21:06:14.403Z"
   },
   {
    "duration": 93,
    "start_time": "2023-02-17T21:06:14.495Z"
   },
   {
    "duration": 85,
    "start_time": "2023-02-17T21:06:14.589Z"
   },
   {
    "duration": 292,
    "start_time": "2023-02-17T21:06:14.675Z"
   },
   {
    "duration": 108,
    "start_time": "2023-02-17T21:06:14.969Z"
   },
   {
    "duration": 19,
    "start_time": "2023-02-17T21:06:15.078Z"
   },
   {
    "duration": 106,
    "start_time": "2023-02-17T21:06:15.098Z"
   },
   {
    "duration": 4,
    "start_time": "2023-02-17T21:06:15.207Z"
   },
   {
    "duration": 8,
    "start_time": "2023-02-17T21:06:15.212Z"
   },
   {
    "duration": 7,
    "start_time": "2023-02-17T21:06:15.221Z"
   },
   {
    "duration": 9,
    "start_time": "2023-02-17T21:06:15.230Z"
   },
   {
    "duration": 4127,
    "start_time": "2023-02-17T21:06:15.240Z"
   },
   {
    "duration": 1314,
    "start_time": "2023-02-17T21:06:19.369Z"
   },
   {
    "duration": 202644,
    "start_time": "2023-02-17T21:06:20.684Z"
   },
   {
    "duration": 1440,
    "start_time": "2023-02-17T21:09:43.330Z"
   },
   {
    "duration": 593718,
    "start_time": "2023-02-17T21:09:44.771Z"
   },
   {
    "duration": 1456,
    "start_time": "2023-02-17T21:19:38.491Z"
   },
   {
    "duration": 3225,
    "start_time": "2023-02-17T21:19:39.949Z"
   },
   {
    "duration": 1137,
    "start_time": "2023-02-17T21:19:43.176Z"
   },
   {
    "duration": 9515,
    "start_time": "2023-02-17T21:19:44.314Z"
   },
   {
    "duration": 1136,
    "start_time": "2023-02-17T21:19:53.832Z"
   },
   {
    "duration": 43789,
    "start_time": "2023-02-17T21:19:54.970Z"
   },
   {
    "duration": 1245,
    "start_time": "2023-02-17T21:20:38.763Z"
   },
   {
    "duration": 73455,
    "start_time": "2023-02-17T21:20:40.009Z"
   },
   {
    "duration": 1194,
    "start_time": "2023-02-17T21:21:53.469Z"
   },
   {
    "duration": 34675,
    "start_time": "2023-02-17T21:21:54.665Z"
   },
   {
    "duration": 1101,
    "start_time": "2023-02-17T21:22:29.342Z"
   },
   {
    "duration": 73526,
    "start_time": "2023-02-17T21:22:30.444Z"
   },
   {
    "duration": 1085,
    "start_time": "2023-02-17T21:23:43.972Z"
   },
   {
    "duration": 87428,
    "start_time": "2023-02-17T21:23:45.059Z"
   },
   {
    "duration": 1076,
    "start_time": "2023-02-17T21:25:12.489Z"
   },
   {
    "duration": 6,
    "start_time": "2023-02-17T21:25:13.567Z"
   },
   {
    "duration": 1252,
    "start_time": "2023-02-17T21:25:13.574Z"
   },
   {
    "duration": 4,
    "start_time": "2023-02-17T21:25:14.827Z"
   },
   {
    "duration": 22,
    "start_time": "2023-02-17T21:25:14.832Z"
   },
   {
    "duration": 5,
    "start_time": "2023-02-18T10:24:22.484Z"
   },
   {
    "duration": 6,
    "start_time": "2023-02-18T10:25:41.811Z"
   },
   {
    "duration": 35152,
    "start_time": "2023-02-18T10:36:09.623Z"
   },
   {
    "duration": 1577,
    "start_time": "2023-02-18T10:45:22.393Z"
   },
   {
    "duration": 3,
    "start_time": "2023-02-18T10:45:23.972Z"
   },
   {
    "duration": 8,
    "start_time": "2023-02-18T10:45:23.977Z"
   },
   {
    "duration": 860,
    "start_time": "2023-02-18T10:45:23.986Z"
   },
   {
    "duration": 20,
    "start_time": "2023-02-18T10:45:24.849Z"
   },
   {
    "duration": 19,
    "start_time": "2023-02-18T10:45:24.871Z"
   },
   {
    "duration": 276,
    "start_time": "2023-02-18T10:45:24.892Z"
   },
   {
    "duration": 117,
    "start_time": "2023-02-18T10:45:25.171Z"
   },
   {
    "duration": 59,
    "start_time": "2023-02-18T10:45:25.290Z"
   },
   {
    "duration": 240,
    "start_time": "2023-02-18T10:45:25.351Z"
   },
   {
    "duration": 447,
    "start_time": "2023-02-18T10:45:25.593Z"
   },
   {
    "duration": 91,
    "start_time": "2023-02-18T10:45:26.042Z"
   },
   {
    "duration": 17,
    "start_time": "2023-02-18T10:45:26.148Z"
   },
   {
    "duration": 321,
    "start_time": "2023-02-18T10:45:26.168Z"
   },
   {
    "duration": 38,
    "start_time": "2023-02-18T10:45:26.492Z"
   },
   {
    "duration": 32,
    "start_time": "2023-02-18T10:45:26.533Z"
   },
   {
    "duration": 215,
    "start_time": "2023-02-18T10:45:26.567Z"
   },
   {
    "duration": 21,
    "start_time": "2023-02-18T10:45:26.784Z"
   },
   {
    "duration": 15,
    "start_time": "2023-02-18T10:45:26.807Z"
   },
   {
    "duration": 39,
    "start_time": "2023-02-18T10:45:26.824Z"
   },
   {
    "duration": 86,
    "start_time": "2023-02-18T10:45:26.865Z"
   },
   {
    "duration": 79,
    "start_time": "2023-02-18T10:45:26.953Z"
   },
   {
    "duration": 93,
    "start_time": "2023-02-18T10:45:27.034Z"
   },
   {
    "duration": 310,
    "start_time": "2023-02-18T10:45:27.129Z"
   },
   {
    "duration": 100,
    "start_time": "2023-02-18T10:45:27.440Z"
   },
   {
    "duration": 19,
    "start_time": "2023-02-18T10:45:27.542Z"
   },
   {
    "duration": 106,
    "start_time": "2023-02-18T10:45:27.563Z"
   },
   {
    "duration": 6,
    "start_time": "2023-02-18T10:45:27.671Z"
   },
   {
    "duration": 3,
    "start_time": "2023-02-18T10:45:27.679Z"
   },
   {
    "duration": 5,
    "start_time": "2023-02-18T10:45:27.684Z"
   },
   {
    "duration": 6,
    "start_time": "2023-02-18T10:45:27.691Z"
   },
   {
    "duration": 4458,
    "start_time": "2023-02-18T10:45:27.699Z"
   },
   {
    "duration": 1216,
    "start_time": "2023-02-18T10:45:32.249Z"
   },
   {
    "duration": 217873,
    "start_time": "2023-02-18T10:45:33.467Z"
   },
   {
    "duration": 1409,
    "start_time": "2023-02-18T10:49:11.342Z"
   },
   {
    "duration": 634719,
    "start_time": "2023-02-18T10:49:12.752Z"
   },
   {
    "duration": 1608,
    "start_time": "2023-02-18T10:59:47.484Z"
   },
   {
    "duration": 3449,
    "start_time": "2023-02-18T10:59:49.094Z"
   },
   {
    "duration": 1173,
    "start_time": "2023-02-18T10:59:52.549Z"
   },
   {
    "duration": 10198,
    "start_time": "2023-02-18T10:59:53.724Z"
   },
   {
    "duration": 1219,
    "start_time": "2023-02-18T11:00:03.926Z"
   },
   {
    "duration": 268217,
    "start_time": "2023-02-18T11:00:05.147Z"
   },
   {
    "duration": 1346,
    "start_time": "2023-02-18T11:04:33.366Z"
   },
   {
    "duration": 536543,
    "start_time": "2023-02-18T11:04:34.714Z"
   },
   {
    "duration": 1201,
    "start_time": "2023-02-18T11:13:31.260Z"
   },
   {
    "duration": 36032,
    "start_time": "2023-02-18T11:13:32.463Z"
   },
   {
    "duration": 1184,
    "start_time": "2023-02-18T11:14:08.497Z"
   },
   {
    "duration": 82643,
    "start_time": "2023-02-18T11:14:09.683Z"
   },
   {
    "duration": 1158,
    "start_time": "2023-02-18T11:15:32.328Z"
   },
   {
    "duration": 92830,
    "start_time": "2023-02-18T11:15:33.488Z"
   },
   {
    "duration": 1260,
    "start_time": "2023-02-18T11:17:06.320Z"
   },
   {
    "duration": 8,
    "start_time": "2023-02-18T11:17:07.583Z"
   },
   {
    "duration": 1361,
    "start_time": "2023-02-18T11:17:07.593Z"
   },
   {
    "duration": 13,
    "start_time": "2023-02-18T11:17:08.956Z"
   },
   {
    "duration": 38324,
    "start_time": "2023-02-18T11:17:08.971Z"
   },
   {
    "duration": 1551,
    "start_time": "2023-02-20T19:08:38.873Z"
   },
   {
    "duration": 3,
    "start_time": "2023-02-20T19:08:40.426Z"
   },
   {
    "duration": 2,
    "start_time": "2023-02-20T19:08:40.437Z"
   },
   {
    "duration": 2891,
    "start_time": "2023-02-20T19:08:40.441Z"
   },
   {
    "duration": 24,
    "start_time": "2023-02-20T19:08:43.334Z"
   },
   {
    "duration": 53,
    "start_time": "2023-02-20T19:08:43.360Z"
   },
   {
    "duration": 152,
    "start_time": "2023-02-20T19:08:43.416Z"
   },
   {
    "duration": 94,
    "start_time": "2023-02-20T19:08:43.569Z"
   },
   {
    "duration": 38,
    "start_time": "2023-02-20T19:08:43.665Z"
   },
   {
    "duration": 203,
    "start_time": "2023-02-20T19:08:43.705Z"
   },
   {
    "duration": 366,
    "start_time": "2023-02-20T19:08:43.910Z"
   },
   {
    "duration": 79,
    "start_time": "2023-02-20T19:08:44.278Z"
   },
   {
    "duration": 15,
    "start_time": "2023-02-20T19:08:44.358Z"
   },
   {
    "duration": 250,
    "start_time": "2023-02-20T19:08:44.375Z"
   },
   {
    "duration": 27,
    "start_time": "2023-02-20T19:08:44.627Z"
   },
   {
    "duration": 15,
    "start_time": "2023-02-20T19:08:44.656Z"
   },
   {
    "duration": 186,
    "start_time": "2023-02-20T19:08:44.672Z"
   },
   {
    "duration": 20,
    "start_time": "2023-02-20T19:08:44.860Z"
   },
   {
    "duration": 15,
    "start_time": "2023-02-20T19:08:44.881Z"
   },
   {
    "duration": 20,
    "start_time": "2023-02-20T19:08:44.897Z"
   },
   {
    "duration": 85,
    "start_time": "2023-02-20T19:08:44.919Z"
   },
   {
    "duration": 88,
    "start_time": "2023-02-20T19:08:45.005Z"
   },
   {
    "duration": 75,
    "start_time": "2023-02-20T19:08:45.094Z"
   },
   {
    "duration": 270,
    "start_time": "2023-02-20T19:08:45.171Z"
   },
   {
    "duration": 100,
    "start_time": "2023-02-20T19:08:45.443Z"
   },
   {
    "duration": 18,
    "start_time": "2023-02-20T19:08:45.544Z"
   },
   {
    "duration": 105,
    "start_time": "2023-02-20T19:08:45.563Z"
   },
   {
    "duration": 5,
    "start_time": "2023-02-20T19:08:45.671Z"
   },
   {
    "duration": 10,
    "start_time": "2023-02-20T19:08:45.678Z"
   },
   {
    "duration": 5,
    "start_time": "2023-02-20T19:08:45.690Z"
   },
   {
    "duration": 5,
    "start_time": "2023-02-20T19:08:47.110Z"
   },
   {
    "duration": 3323,
    "start_time": "2023-02-20T19:08:49.122Z"
   },
   {
    "duration": 139,
    "start_time": "2023-02-20T19:09:01.069Z"
   },
   {
    "duration": 9,
    "start_time": "2023-02-20T19:09:06.387Z"
   },
   {
    "duration": 1479,
    "start_time": "2023-02-20T19:12:05.688Z"
   },
   {
    "duration": 3,
    "start_time": "2023-02-20T19:12:07.169Z"
   },
   {
    "duration": 8,
    "start_time": "2023-02-20T19:12:07.173Z"
   },
   {
    "duration": 869,
    "start_time": "2023-02-20T19:12:07.183Z"
   },
   {
    "duration": 18,
    "start_time": "2023-02-20T19:12:08.054Z"
   },
   {
    "duration": 38,
    "start_time": "2023-02-20T19:12:08.074Z"
   },
   {
    "duration": 180,
    "start_time": "2023-02-20T19:12:08.115Z"
   },
   {
    "duration": 106,
    "start_time": "2023-02-20T19:12:08.296Z"
   },
   {
    "duration": 54,
    "start_time": "2023-02-20T19:12:08.403Z"
   },
   {
    "duration": 227,
    "start_time": "2023-02-20T19:12:08.460Z"
   },
   {
    "duration": 432,
    "start_time": "2023-02-20T19:12:08.688Z"
   },
   {
    "duration": 86,
    "start_time": "2023-02-20T19:12:09.122Z"
   },
   {
    "duration": 35,
    "start_time": "2023-02-20T19:12:09.210Z"
   },
   {
    "duration": 274,
    "start_time": "2023-02-20T19:12:09.247Z"
   },
   {
    "duration": 35,
    "start_time": "2023-02-20T19:12:09.522Z"
   },
   {
    "duration": 17,
    "start_time": "2023-02-20T19:12:09.559Z"
   },
   {
    "duration": 207,
    "start_time": "2023-02-20T19:12:09.577Z"
   },
   {
    "duration": 22,
    "start_time": "2023-02-20T19:12:09.786Z"
   },
   {
    "duration": 31,
    "start_time": "2023-02-20T19:12:09.810Z"
   },
   {
    "duration": 22,
    "start_time": "2023-02-20T19:12:09.843Z"
   },
   {
    "duration": 87,
    "start_time": "2023-02-20T19:12:09.867Z"
   },
   {
    "duration": 93,
    "start_time": "2023-02-20T19:12:09.956Z"
   },
   {
    "duration": 88,
    "start_time": "2023-02-20T19:12:10.050Z"
   },
   {
    "duration": 296,
    "start_time": "2023-02-20T19:12:10.140Z"
   },
   {
    "duration": 108,
    "start_time": "2023-02-20T19:12:10.437Z"
   },
   {
    "duration": 32,
    "start_time": "2023-02-20T19:12:10.547Z"
   },
   {
    "duration": 115,
    "start_time": "2023-02-20T19:12:10.581Z"
   },
   {
    "duration": 6,
    "start_time": "2023-02-20T19:12:10.699Z"
   },
   {
    "duration": 7,
    "start_time": "2023-02-20T19:12:10.706Z"
   },
   {
    "duration": 12,
    "start_time": "2023-02-20T19:12:10.715Z"
   },
   {
    "duration": 22,
    "start_time": "2023-02-20T19:12:10.728Z"
   },
   {
    "duration": 3493,
    "start_time": "2023-02-20T19:12:10.752Z"
   },
   {
    "duration": 1315,
    "start_time": "2023-02-20T19:12:14.247Z"
   },
   {
    "duration": 208660,
    "start_time": "2023-02-20T19:12:15.563Z"
   },
   {
    "duration": 1419,
    "start_time": "2023-02-20T19:15:44.225Z"
   },
   {
    "duration": 603839,
    "start_time": "2023-02-20T19:15:45.646Z"
   },
   {
    "duration": 1408,
    "start_time": "2023-02-20T19:25:49.487Z"
   },
   {
    "duration": 3314,
    "start_time": "2023-02-20T19:25:50.897Z"
   },
   {
    "duration": 1064,
    "start_time": "2023-02-20T19:25:54.213Z"
   },
   {
    "duration": 9505,
    "start_time": "2023-02-20T19:25:55.279Z"
   },
   {
    "duration": 1104,
    "start_time": "2023-02-20T19:26:04.785Z"
   },
   {
    "duration": 6852,
    "start_time": "2023-02-20T19:26:05.891Z"
   },
   {
    "duration": 1291,
    "start_time": "2023-02-20T19:26:12.744Z"
   },
   {
    "duration": 18904,
    "start_time": "2023-02-20T19:26:14.037Z"
   },
   {
    "duration": 1086,
    "start_time": "2023-02-20T19:26:32.942Z"
   },
   {
    "duration": 34771,
    "start_time": "2023-02-20T19:26:34.030Z"
   },
   {
    "duration": 1078,
    "start_time": "2023-02-20T19:27:08.803Z"
   },
   {
    "duration": 74305,
    "start_time": "2023-02-20T19:27:09.883Z"
   },
   {
    "duration": 1053,
    "start_time": "2023-02-20T19:28:24.189Z"
   },
   {
    "duration": 88420,
    "start_time": "2023-02-20T19:28:25.244Z"
   },
   {
    "duration": 1118,
    "start_time": "2023-02-20T19:29:53.666Z"
   },
   {
    "duration": 757,
    "start_time": "2023-02-20T19:29:54.787Z"
   },
   {
    "duration": 1235,
    "start_time": "2023-02-20T19:29:55.545Z"
   },
   {
    "duration": 10,
    "start_time": "2023-02-20T19:29:56.782Z"
   },
   {
    "duration": 35433,
    "start_time": "2023-02-20T19:29:56.793Z"
   },
   {
    "duration": 44,
    "start_time": "2023-02-20T19:30:32.230Z"
   },
   {
    "duration": 1192,
    "start_time": "2023-02-20T19:30:32.276Z"
   },
   {
    "duration": 10,
    "start_time": "2023-02-20T19:30:43.120Z"
   },
   {
    "duration": 38095,
    "start_time": "2023-02-20T19:34:13.788Z"
   }
  ],
  "kernelspec": {
   "display_name": "Python 3 (ipykernel)",
   "language": "python",
   "name": "python3"
  },
  "language_info": {
   "codemirror_mode": {
    "name": "ipython",
    "version": 3
   },
   "file_extension": ".py",
   "mimetype": "text/x-python",
   "name": "python",
   "nbconvert_exporter": "python",
   "pygments_lexer": "ipython3",
   "version": "3.10.9"
  },
  "toc": {
   "base_numbering": 1,
   "nav_menu": {},
   "number_sections": true,
   "sideBar": true,
   "skip_h1_title": true,
   "title_cell": "Table of Contents",
   "title_sidebar": "Contents",
   "toc_cell": false,
   "toc_position": {},
   "toc_section_display": true,
   "toc_window_display": false
  }
 },
 "nbformat": 4,
 "nbformat_minor": 2
}
