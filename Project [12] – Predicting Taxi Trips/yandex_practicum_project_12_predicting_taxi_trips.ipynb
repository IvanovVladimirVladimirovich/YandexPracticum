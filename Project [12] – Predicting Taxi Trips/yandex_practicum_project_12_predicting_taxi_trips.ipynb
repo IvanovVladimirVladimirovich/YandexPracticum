{
 "cells": [
  {
   "cell_type": "markdown",
   "metadata": {
    "toc": true
   },
   "source": [
    "<h1>Содержание<span class=\"tocSkip\"></span></h1>\n",
    "<div class=\"toc\"><ul class=\"toc-item\"><li><span><a href=\"#Подготовка\" data-toc-modified-id=\"Подготовка-1\"><span class=\"toc-item-num\">1&nbsp;&nbsp;</span>Подготовка</a></span></li><li><span><a href=\"#Анализ\" data-toc-modified-id=\"Анализ-2\"><span class=\"toc-item-num\">2&nbsp;&nbsp;</span>Анализ</a></span></li><li><span><a href=\"#Обучение\" data-toc-modified-id=\"Обучение-3\"><span class=\"toc-item-num\">3&nbsp;&nbsp;</span>Обучение</a></span></li><li><span><a href=\"#Тестирование\" data-toc-modified-id=\"Тестирование-4\"><span class=\"toc-item-num\">4&nbsp;&nbsp;</span>Тестирование</a></span></li><li><span><a href=\"#Чек-лист-проверки\" data-toc-modified-id=\"Чек-лист-проверки-5\"><span class=\"toc-item-num\">5&nbsp;&nbsp;</span>Чек-лист проверки</a></span></li></ul></div>"
   ]
  },
  {
   "cell_type": "markdown",
   "metadata": {},
   "source": [
    "#  Прогнозирование заказов такси"
   ]
  },
  {
   "cell_type": "markdown",
   "metadata": {},
   "source": [
    "Компания «Чётенькое такси» собрала исторические данные о заказах такси в аэропортах. Чтобы привлекать больше водителей в период пиковой нагрузки, нужно спрогнозировать количество заказов такси на следующий час. Постройте модель для такого предсказания.\n",
    "\n",
    "Значение метрики *RMSE* на тестовой выборке должно быть не больше 48.\n",
    "\n",
    "Вам нужно:\n",
    "\n",
    "1. Загрузить данные и выполнить их ресемплирование по одному часу.\n",
    "2. Проанализировать данные.\n",
    "3. Обучить разные модели с различными гиперпараметрами. Сделать тестовую выборку размером 10% от исходных данных.\n",
    "4. Проверить данные на тестовой выборке и сделать выводы.\n",
    "\n",
    "\n",
    "Данные лежат в файле `taxi.csv`. Количество заказов находится в столбце `num_orders` (от англ. *number of orders*, «число заказов»)."
   ]
  },
  {
   "cell_type": "markdown",
   "metadata": {},
   "source": [
    "## Подготовка"
   ]
  },
  {
   "cell_type": "markdown",
   "metadata": {},
   "source": [
    "**Импорты:**"
   ]
  },
  {
   "cell_type": "code",
   "execution_count": 1,
   "metadata": {},
   "outputs": [],
   "source": [
    "import numpy as np\n",
    "import pandas as pd\n",
    "import matplotlib.pyplot as plt\n",
    "\n",
    "from catboost import CatBoostClassifier, CatBoostRegressor\n",
    "\n",
    "from lightgbm import LGBMRegressor\n",
    "\n",
    "from sklearn.linear_model import LinearRegression\n",
    "from sklearn.model_selection import train_test_split\n",
    "from sklearn.preprocessing import OneHotEncoder\n",
    "from sklearn.preprocessing import OrdinalEncoder\n",
    "from sklearn.tree import DecisionTreeRegressor\n",
    "from sklearn.ensemble import RandomForestRegressor\n",
    "from sklearn.dummy import DummyRegressor\n",
    "\n",
    "\n",
    "from statsmodels.tsa.seasonal import seasonal_decompose\n",
    "\n",
    "from time import time"
   ]
  },
  {
   "cell_type": "code",
   "execution_count": 2,
   "metadata": {},
   "outputs": [],
   "source": [
    "RANDOM_STATE = 12345"
   ]
  },
  {
   "cell_type": "code",
   "execution_count": 3,
   "metadata": {},
   "outputs": [],
   "source": [
    "import warnings\n",
    "warnings.filterwarnings(\"ignore\")"
   ]
  },
  {
   "cell_type": "markdown",
   "metadata": {},
   "source": [
    "**Данные**"
   ]
  },
  {
   "cell_type": "code",
   "execution_count": 4,
   "metadata": {},
   "outputs": [],
   "source": [
    "data = pd.read_csv(\"/datasets/taxi.csv\")"
   ]
  },
  {
   "cell_type": "code",
   "execution_count": 5,
   "metadata": {},
   "outputs": [
    {
     "data": {
      "text/html": [
       "<div>\n",
       "<style scoped>\n",
       "    .dataframe tbody tr th:only-of-type {\n",
       "        vertical-align: middle;\n",
       "    }\n",
       "\n",
       "    .dataframe tbody tr th {\n",
       "        vertical-align: top;\n",
       "    }\n",
       "\n",
       "    .dataframe thead th {\n",
       "        text-align: right;\n",
       "    }\n",
       "</style>\n",
       "<table border=\"1\" class=\"dataframe\">\n",
       "  <thead>\n",
       "    <tr style=\"text-align: right;\">\n",
       "      <th></th>\n",
       "      <th>datetime</th>\n",
       "      <th>num_orders</th>\n",
       "    </tr>\n",
       "  </thead>\n",
       "  <tbody>\n",
       "    <tr>\n",
       "      <th>0</th>\n",
       "      <td>2018-03-01 00:00:00</td>\n",
       "      <td>9</td>\n",
       "    </tr>\n",
       "    <tr>\n",
       "      <th>1</th>\n",
       "      <td>2018-03-01 00:10:00</td>\n",
       "      <td>14</td>\n",
       "    </tr>\n",
       "    <tr>\n",
       "      <th>2</th>\n",
       "      <td>2018-03-01 00:20:00</td>\n",
       "      <td>28</td>\n",
       "    </tr>\n",
       "  </tbody>\n",
       "</table>\n",
       "</div>"
      ],
      "text/plain": [
       "              datetime  num_orders\n",
       "0  2018-03-01 00:00:00           9\n",
       "1  2018-03-01 00:10:00          14\n",
       "2  2018-03-01 00:20:00          28"
      ]
     },
     "metadata": {},
     "output_type": "display_data"
    }
   ],
   "source": [
    "display(data.head(3))"
   ]
  },
  {
   "cell_type": "code",
   "execution_count": 6,
   "metadata": {},
   "outputs": [
    {
     "data": {
      "text/html": [
       "<div>\n",
       "<style scoped>\n",
       "    .dataframe tbody tr th:only-of-type {\n",
       "        vertical-align: middle;\n",
       "    }\n",
       "\n",
       "    .dataframe tbody tr th {\n",
       "        vertical-align: top;\n",
       "    }\n",
       "\n",
       "    .dataframe thead th {\n",
       "        text-align: right;\n",
       "    }\n",
       "</style>\n",
       "<table border=\"1\" class=\"dataframe\">\n",
       "  <thead>\n",
       "    <tr style=\"text-align: right;\">\n",
       "      <th></th>\n",
       "      <th>datetime</th>\n",
       "      <th>num_orders</th>\n",
       "    </tr>\n",
       "  </thead>\n",
       "  <tbody>\n",
       "    <tr>\n",
       "      <th>26493</th>\n",
       "      <td>2018-08-31 23:30:00</td>\n",
       "      <td>27</td>\n",
       "    </tr>\n",
       "    <tr>\n",
       "      <th>26494</th>\n",
       "      <td>2018-08-31 23:40:00</td>\n",
       "      <td>39</td>\n",
       "    </tr>\n",
       "    <tr>\n",
       "      <th>26495</th>\n",
       "      <td>2018-08-31 23:50:00</td>\n",
       "      <td>53</td>\n",
       "    </tr>\n",
       "  </tbody>\n",
       "</table>\n",
       "</div>"
      ],
      "text/plain": [
       "                  datetime  num_orders\n",
       "26493  2018-08-31 23:30:00          27\n",
       "26494  2018-08-31 23:40:00          39\n",
       "26495  2018-08-31 23:50:00          53"
      ]
     },
     "metadata": {},
     "output_type": "display_data"
    }
   ],
   "source": [
    "display(data.tail(3))"
   ]
  },
  {
   "cell_type": "code",
   "execution_count": 7,
   "metadata": {},
   "outputs": [
    {
     "name": "stdout",
     "output_type": "stream",
     "text": [
      "<class 'pandas.core.frame.DataFrame'>\n",
      "RangeIndex: 26496 entries, 0 to 26495\n",
      "Data columns (total 2 columns):\n",
      " #   Column      Non-Null Count  Dtype \n",
      "---  ------      --------------  ----- \n",
      " 0   datetime    26496 non-null  object\n",
      " 1   num_orders  26496 non-null  int64 \n",
      "dtypes: int64(1), object(1)\n",
      "memory usage: 414.1+ KB\n"
     ]
    },
    {
     "data": {
      "text/plain": [
       "None"
      ]
     },
     "metadata": {},
     "output_type": "display_data"
    }
   ],
   "source": [
    "display(data.info())"
   ]
  },
  {
   "cell_type": "code",
   "execution_count": 8,
   "metadata": {},
   "outputs": [
    {
     "data": {
      "text/html": [
       "<div>\n",
       "<style scoped>\n",
       "    .dataframe tbody tr th:only-of-type {\n",
       "        vertical-align: middle;\n",
       "    }\n",
       "\n",
       "    .dataframe tbody tr th {\n",
       "        vertical-align: top;\n",
       "    }\n",
       "\n",
       "    .dataframe thead th {\n",
       "        text-align: right;\n",
       "    }\n",
       "</style>\n",
       "<table border=\"1\" class=\"dataframe\">\n",
       "  <thead>\n",
       "    <tr style=\"text-align: right;\">\n",
       "      <th></th>\n",
       "      <th>num_orders</th>\n",
       "    </tr>\n",
       "  </thead>\n",
       "  <tbody>\n",
       "    <tr>\n",
       "      <th>count</th>\n",
       "      <td>26496.000000</td>\n",
       "    </tr>\n",
       "    <tr>\n",
       "      <th>mean</th>\n",
       "      <td>14.070463</td>\n",
       "    </tr>\n",
       "    <tr>\n",
       "      <th>std</th>\n",
       "      <td>9.211330</td>\n",
       "    </tr>\n",
       "    <tr>\n",
       "      <th>min</th>\n",
       "      <td>0.000000</td>\n",
       "    </tr>\n",
       "    <tr>\n",
       "      <th>25%</th>\n",
       "      <td>8.000000</td>\n",
       "    </tr>\n",
       "    <tr>\n",
       "      <th>50%</th>\n",
       "      <td>13.000000</td>\n",
       "    </tr>\n",
       "    <tr>\n",
       "      <th>75%</th>\n",
       "      <td>19.000000</td>\n",
       "    </tr>\n",
       "    <tr>\n",
       "      <th>max</th>\n",
       "      <td>119.000000</td>\n",
       "    </tr>\n",
       "  </tbody>\n",
       "</table>\n",
       "</div>"
      ],
      "text/plain": [
       "         num_orders\n",
       "count  26496.000000\n",
       "mean      14.070463\n",
       "std        9.211330\n",
       "min        0.000000\n",
       "25%        8.000000\n",
       "50%       13.000000\n",
       "75%       19.000000\n",
       "max      119.000000"
      ]
     },
     "metadata": {},
     "output_type": "display_data"
    }
   ],
   "source": [
    "display(data.describe())"
   ]
  },
  {
   "cell_type": "code",
   "execution_count": 9,
   "metadata": {},
   "outputs": [
    {
     "name": "stdout",
     "output_type": "stream",
     "text": [
      "Кол-во дупликатов: 0\n"
     ]
    }
   ],
   "source": [
    "print(\"Кол-во дупликатов:\",data.duplicated().sum())"
   ]
  },
  {
   "cell_type": "code",
   "execution_count": 10,
   "metadata": {},
   "outputs": [
    {
     "name": "stdout",
     "output_type": "stream",
     "text": [
      "Кол-во пропусков:\n"
     ]
    },
    {
     "data": {
      "text/plain": [
       "datetime      0\n",
       "num_orders    0\n",
       "dtype: int64"
      ]
     },
     "metadata": {},
     "output_type": "display_data"
    }
   ],
   "source": [
    "print(\"Кол-во пропусков:\")\n",
    "display(data.isna().sum())"
   ]
  },
  {
   "cell_type": "markdown",
   "metadata": {},
   "source": []
  },
  {
   "cell_type": "code",
   "execution_count": 11,
   "metadata": {},
   "outputs": [],
   "source": [
    "data[\"datetime\"] = pd.to_datetime(data[\"datetime\"], format='%Y-%m-%d %H:%M:%S')\n",
    "data[\"datetime\"] = data[\"datetime\"].sort_values().reset_index(drop=True)"
   ]
  },
  {
   "cell_type": "markdown",
   "metadata": {},
   "source": []
  },
  {
   "cell_type": "code",
   "execution_count": 12,
   "metadata": {},
   "outputs": [],
   "source": [
    "data = data.set_index([\"datetime\"]).resample('1H').sum()"
   ]
  },
  {
   "cell_type": "markdown",
   "metadata": {},
   "source": [
    "**Вывод:**"
   ]
  },
  {
   "cell_type": "markdown",
   "metadata": {},
   "source": [
    "- Данные и типы данных соответсвуют описанию;\n",
    "- Дубликаты отсутствуют;\n",
    "- Пропуски отсутствуют;\n",
    "- Данные подготовненны к анализу. "
   ]
  },
  {
   "cell_type": "markdown",
   "metadata": {},
   "source": [
    "## Анализ"
   ]
  },
  {
   "cell_type": "markdown",
   "metadata": {},
   "source": [
    "**Тренды** "
   ]
  },
  {
   "cell_type": "code",
   "execution_count": 13,
   "metadata": {},
   "outputs": [],
   "source": [
    "decomposed = seasonal_decompose(data)"
   ]
  },
  {
   "cell_type": "code",
   "execution_count": 14,
   "metadata": {},
   "outputs": [
    {
     "data": {
      "image/png": "[encoded data removed]",
      "text/plain": [
       "<Figure size 1440x720 with 1 Axes>"
      ]
     },
     "metadata": {
      "needs_background": "light"
     },
     "output_type": "display_data"
    }
   ],
   "source": [
    "plt.figure(figsize=(20,10))\n",
    "decomposed.trend.plot(ax=plt.gca(), color=\"black\")\n",
    "plt.title('Trend')\n",
    "plt.show()"
   ]
  },
  {
   "cell_type": "markdown",
   "metadata": {},
   "source": [
    "**Вывод:**"
   ]
  },
  {
   "cell_type": "markdown",
   "metadata": {},
   "source": [
    "Из графика видно, что количество заказов постепенно растет на протяжении всего времени. "
   ]
  },
  {
   "cell_type": "markdown",
   "metadata": {},
   "source": [
    "**Сезонность** "
   ]
  },
  {
   "cell_type": "code",
   "execution_count": 15,
   "metadata": {
    "scrolled": false
   },
   "outputs": [
    {
     "data": {
      "image/png": "[encoded data removed]",
      "text/plain": [
       "<Figure size 1440x720 with 1 Axes>"
      ]
     },
     "metadata": {
      "needs_background": "light"
     },
     "output_type": "display_data"
    }
   ],
   "source": [
    "plt.figure(figsize=(20,10))\n",
    "decomposed.seasonal.plot(ax=plt.gca(), color=\"black\")\n",
    "plt.title('Seasonality')\n",
    "plt.show()"
   ]
  },
  {
   "cell_type": "markdown",
   "metadata": {},
   "source": [
    "Данные не разборчивы, посмотрим на 7 дневные вырезки: "
   ]
  },
  {
   "cell_type": "code",
   "execution_count": 16,
   "metadata": {
    "scrolled": true
   },
   "outputs": [
    {
     "data": {
      "image/png": "[encoded data removed]",
      "text/plain": [
       "<Figure size 1440x720 with 1 Axes>"
      ]
     },
     "metadata": {
      "needs_background": "light"
     },
     "output_type": "display_data"
    }
   ],
   "source": [
    "plt.figure(figsize=(20,10))\n",
    "plt.plot(decomposed.seasonal['2018-04-01':'2018-04-08'], color=\"black\")\n",
    "plt.xlabel(\"Дата\")\n",
    "plt.show()"
   ]
  },
  {
   "cell_type": "code",
   "execution_count": 17,
   "metadata": {},
   "outputs": [
    {
     "data": {
      "image/png": "[encoded data removed]",
      "text/plain": [
       "<Figure size 1440x720 with 1 Axes>"
      ]
     },
     "metadata": {
      "needs_background": "light"
     },
     "output_type": "display_data"
    }
   ],
   "source": [
    "plt.figure(figsize=(20,10))\n",
    "plt.plot(decomposed.seasonal['2018-07-01':'2018-07-08'], color=\"black\")\n",
    "plt.xlabel(\"Дата\")\n",
    "plt.show()"
   ]
  },
  {
   "cell_type": "markdown",
   "metadata": {},
   "source": [
    "**Вывод:**"
   ]
  },
  {
   "cell_type": "markdown",
   "metadata": {},
   "source": [
    "- Минимальное количество заказов - утром\n",
    "- Максимальное количество заказов - вечером\n",
    "- Присутствует сезонность с периодом в 1 день"
   ]
  },
  {
   "cell_type": "markdown",
   "metadata": {},
   "source": [
    "**Декомпозиция** "
   ]
  },
  {
   "cell_type": "code",
   "execution_count": 18,
   "metadata": {},
   "outputs": [
    {
     "data": {
      "image/png": "[encoded data removed]",
      "text/plain": [
       "<Figure size 1440x720 with 1 Axes>"
      ]
     },
     "metadata": {
      "needs_background": "light"
     },
     "output_type": "display_data"
    }
   ],
   "source": [
    "plt.figure(figsize=(20,10))\n",
    "decomposed.resid.plot(ax=plt.gca(), color=\"black\")\n",
    "plt.title('Residuals')\n",
    "plt.show()"
   ]
  },
  {
   "cell_type": "markdown",
   "metadata": {},
   "source": [
    "**Скользящее среднее**"
   ]
  },
  {
   "cell_type": "code",
   "execution_count": 19,
   "metadata": {},
   "outputs": [
    {
     "data": {
      "image/png": "[encoded data removed]",
      "text/plain": [
       "<Figure size 1440x720 with 1 Axes>"
      ]
     },
     "metadata": {
      "needs_background": "light"
     },
     "output_type": "display_data"
    }
   ],
   "source": [
    "plt.figure(figsize=(20, 10))\n",
    "plt.plot(data, color=\"black\")\n",
    "plt.plot(data.rolling(24).mean(), color=\"red\")\n",
    "plt.plot(data.rolling(24).std(), color='green')\n",
    "plt.legend([\"Кол-во заказов в час\", \"Скользящее среднее 24 часа\"])\n",
    "plt.show()"
   ]
  },
  {
   "cell_type": "markdown",
   "metadata": {},
   "source": [
    "**Вывод:**"
   ]
  },
  {
   "cell_type": "markdown",
   "metadata": {},
   "source": [
    "В начале данные стационарны, в период с 2018-03 по 2018-08. после, данные становятся нестационарными. Это может плохо повлиять на обучение."
   ]
  },
  {
   "cell_type": "markdown",
   "metadata": {},
   "source": [
    "## Обучение"
   ]
  },
  {
   "cell_type": "markdown",
   "metadata": {},
   "source": [
    "Функция для создания признаков: "
   ]
  },
  {
   "cell_type": "code",
   "execution_count": 20,
   "metadata": {},
   "outputs": [],
   "source": [
    "def features(data,lag,rolling):\n",
    "    data[\"hour\"] = data.index.hour\n",
    "    data[\"dayofweek\"] = data.index.dayofweek\n",
    "    \n",
    "    for lag in range(1, lag+1):\n",
    "            data[\"lag_{}\".format(lag)] = data[\"num_orders\"].shift(lag)\n",
    "       \n",
    "    data[\"rolling_mean\"] = data[\"num_orders\"].shift().rolling(rolling).mean()"
   ]
  },
  {
   "cell_type": "markdown",
   "metadata": {},
   "source": [
    "Создадим признаки:"
   ]
  },
  {
   "cell_type": "code",
   "execution_count": 21,
   "metadata": {},
   "outputs": [],
   "source": [
    "features(data, 24, 24)"
   ]
  },
  {
   "cell_type": "markdown",
   "metadata": {},
   "source": [
    "Создадим две выборки, тренировочная и тестовая: "
   ]
  },
  {
   "cell_type": "code",
   "execution_count": 22,
   "metadata": {},
   "outputs": [],
   "source": [
    "train, test = train_test_split(data, shuffle=False, test_size=0.1, random_state=RANDOM_STATE)\n",
    "train = train.dropna()"
   ]
  },
  {
   "cell_type": "code",
   "execution_count": 23,
   "metadata": {},
   "outputs": [
    {
     "data": {
      "text/html": [
       "<div>\n",
       "<style scoped>\n",
       "    .dataframe tbody tr th:only-of-type {\n",
       "        vertical-align: middle;\n",
       "    }\n",
       "\n",
       "    .dataframe tbody tr th {\n",
       "        vertical-align: top;\n",
       "    }\n",
       "\n",
       "    .dataframe thead th {\n",
       "        text-align: right;\n",
       "    }\n",
       "</style>\n",
       "<table border=\"1\" class=\"dataframe\">\n",
       "  <thead>\n",
       "    <tr style=\"text-align: right;\">\n",
       "      <th></th>\n",
       "      <th>num_orders</th>\n",
       "      <th>hour</th>\n",
       "      <th>dayofweek</th>\n",
       "      <th>lag_1</th>\n",
       "      <th>lag_2</th>\n",
       "      <th>lag_3</th>\n",
       "      <th>lag_4</th>\n",
       "      <th>lag_5</th>\n",
       "      <th>lag_6</th>\n",
       "      <th>lag_7</th>\n",
       "      <th>...</th>\n",
       "      <th>lag_16</th>\n",
       "      <th>lag_17</th>\n",
       "      <th>lag_18</th>\n",
       "      <th>lag_19</th>\n",
       "      <th>lag_20</th>\n",
       "      <th>lag_21</th>\n",
       "      <th>lag_22</th>\n",
       "      <th>lag_23</th>\n",
       "      <th>lag_24</th>\n",
       "      <th>rolling_mean</th>\n",
       "    </tr>\n",
       "    <tr>\n",
       "      <th>datetime</th>\n",
       "      <th></th>\n",
       "      <th></th>\n",
       "      <th></th>\n",
       "      <th></th>\n",
       "      <th></th>\n",
       "      <th></th>\n",
       "      <th></th>\n",
       "      <th></th>\n",
       "      <th></th>\n",
       "      <th></th>\n",
       "      <th></th>\n",
       "      <th></th>\n",
       "      <th></th>\n",
       "      <th></th>\n",
       "      <th></th>\n",
       "      <th></th>\n",
       "      <th></th>\n",
       "      <th></th>\n",
       "      <th></th>\n",
       "      <th></th>\n",
       "      <th></th>\n",
       "    </tr>\n",
       "  </thead>\n",
       "  <tbody>\n",
       "    <tr>\n",
       "      <th>2018-03-01 00:00:00</th>\n",
       "      <td>124</td>\n",
       "      <td>0</td>\n",
       "      <td>3</td>\n",
       "      <td>NaN</td>\n",
       "      <td>NaN</td>\n",
       "      <td>NaN</td>\n",
       "      <td>NaN</td>\n",
       "      <td>NaN</td>\n",
       "      <td>NaN</td>\n",
       "      <td>NaN</td>\n",
       "      <td>...</td>\n",
       "      <td>NaN</td>\n",
       "      <td>NaN</td>\n",
       "      <td>NaN</td>\n",
       "      <td>NaN</td>\n",
       "      <td>NaN</td>\n",
       "      <td>NaN</td>\n",
       "      <td>NaN</td>\n",
       "      <td>NaN</td>\n",
       "      <td>NaN</td>\n",
       "      <td>NaN</td>\n",
       "    </tr>\n",
       "    <tr>\n",
       "      <th>2018-03-01 01:00:00</th>\n",
       "      <td>85</td>\n",
       "      <td>1</td>\n",
       "      <td>3</td>\n",
       "      <td>124.0</td>\n",
       "      <td>NaN</td>\n",
       "      <td>NaN</td>\n",
       "      <td>NaN</td>\n",
       "      <td>NaN</td>\n",
       "      <td>NaN</td>\n",
       "      <td>NaN</td>\n",
       "      <td>...</td>\n",
       "      <td>NaN</td>\n",
       "      <td>NaN</td>\n",
       "      <td>NaN</td>\n",
       "      <td>NaN</td>\n",
       "      <td>NaN</td>\n",
       "      <td>NaN</td>\n",
       "      <td>NaN</td>\n",
       "      <td>NaN</td>\n",
       "      <td>NaN</td>\n",
       "      <td>NaN</td>\n",
       "    </tr>\n",
       "    <tr>\n",
       "      <th>2018-03-01 02:00:00</th>\n",
       "      <td>71</td>\n",
       "      <td>2</td>\n",
       "      <td>3</td>\n",
       "      <td>85.0</td>\n",
       "      <td>124.0</td>\n",
       "      <td>NaN</td>\n",
       "      <td>NaN</td>\n",
       "      <td>NaN</td>\n",
       "      <td>NaN</td>\n",
       "      <td>NaN</td>\n",
       "      <td>...</td>\n",
       "      <td>NaN</td>\n",
       "      <td>NaN</td>\n",
       "      <td>NaN</td>\n",
       "      <td>NaN</td>\n",
       "      <td>NaN</td>\n",
       "      <td>NaN</td>\n",
       "      <td>NaN</td>\n",
       "      <td>NaN</td>\n",
       "      <td>NaN</td>\n",
       "      <td>NaN</td>\n",
       "    </tr>\n",
       "    <tr>\n",
       "      <th>2018-03-01 03:00:00</th>\n",
       "      <td>66</td>\n",
       "      <td>3</td>\n",
       "      <td>3</td>\n",
       "      <td>71.0</td>\n",
       "      <td>85.0</td>\n",
       "      <td>124.0</td>\n",
       "      <td>NaN</td>\n",
       "      <td>NaN</td>\n",
       "      <td>NaN</td>\n",
       "      <td>NaN</td>\n",
       "      <td>...</td>\n",
       "      <td>NaN</td>\n",
       "      <td>NaN</td>\n",
       "      <td>NaN</td>\n",
       "      <td>NaN</td>\n",
       "      <td>NaN</td>\n",
       "      <td>NaN</td>\n",
       "      <td>NaN</td>\n",
       "      <td>NaN</td>\n",
       "      <td>NaN</td>\n",
       "      <td>NaN</td>\n",
       "    </tr>\n",
       "    <tr>\n",
       "      <th>2018-03-01 04:00:00</th>\n",
       "      <td>43</td>\n",
       "      <td>4</td>\n",
       "      <td>3</td>\n",
       "      <td>66.0</td>\n",
       "      <td>71.0</td>\n",
       "      <td>85.0</td>\n",
       "      <td>124.0</td>\n",
       "      <td>NaN</td>\n",
       "      <td>NaN</td>\n",
       "      <td>NaN</td>\n",
       "      <td>...</td>\n",
       "      <td>NaN</td>\n",
       "      <td>NaN</td>\n",
       "      <td>NaN</td>\n",
       "      <td>NaN</td>\n",
       "      <td>NaN</td>\n",
       "      <td>NaN</td>\n",
       "      <td>NaN</td>\n",
       "      <td>NaN</td>\n",
       "      <td>NaN</td>\n",
       "      <td>NaN</td>\n",
       "    </tr>\n",
       "    <tr>\n",
       "      <th>...</th>\n",
       "      <td>...</td>\n",
       "      <td>...</td>\n",
       "      <td>...</td>\n",
       "      <td>...</td>\n",
       "      <td>...</td>\n",
       "      <td>...</td>\n",
       "      <td>...</td>\n",
       "      <td>...</td>\n",
       "      <td>...</td>\n",
       "      <td>...</td>\n",
       "      <td>...</td>\n",
       "      <td>...</td>\n",
       "      <td>...</td>\n",
       "      <td>...</td>\n",
       "      <td>...</td>\n",
       "      <td>...</td>\n",
       "      <td>...</td>\n",
       "      <td>...</td>\n",
       "      <td>...</td>\n",
       "      <td>...</td>\n",
       "      <td>...</td>\n",
       "    </tr>\n",
       "    <tr>\n",
       "      <th>2018-08-31 19:00:00</th>\n",
       "      <td>136</td>\n",
       "      <td>19</td>\n",
       "      <td>4</td>\n",
       "      <td>207.0</td>\n",
       "      <td>217.0</td>\n",
       "      <td>197.0</td>\n",
       "      <td>116.0</td>\n",
       "      <td>133.0</td>\n",
       "      <td>166.0</td>\n",
       "      <td>136.0</td>\n",
       "      <td>...</td>\n",
       "      <td>99.0</td>\n",
       "      <td>230.0</td>\n",
       "      <td>194.0</td>\n",
       "      <td>276.0</td>\n",
       "      <td>246.0</td>\n",
       "      <td>158.0</td>\n",
       "      <td>198.0</td>\n",
       "      <td>142.0</td>\n",
       "      <td>72.0</td>\n",
       "      <td>164.875000</td>\n",
       "    </tr>\n",
       "    <tr>\n",
       "      <th>2018-08-31 20:00:00</th>\n",
       "      <td>154</td>\n",
       "      <td>20</td>\n",
       "      <td>4</td>\n",
       "      <td>136.0</td>\n",
       "      <td>207.0</td>\n",
       "      <td>217.0</td>\n",
       "      <td>197.0</td>\n",
       "      <td>116.0</td>\n",
       "      <td>133.0</td>\n",
       "      <td>166.0</td>\n",
       "      <td>...</td>\n",
       "      <td>268.0</td>\n",
       "      <td>99.0</td>\n",
       "      <td>230.0</td>\n",
       "      <td>194.0</td>\n",
       "      <td>276.0</td>\n",
       "      <td>246.0</td>\n",
       "      <td>158.0</td>\n",
       "      <td>198.0</td>\n",
       "      <td>142.0</td>\n",
       "      <td>167.541667</td>\n",
       "    </tr>\n",
       "    <tr>\n",
       "      <th>2018-08-31 21:00:00</th>\n",
       "      <td>159</td>\n",
       "      <td>21</td>\n",
       "      <td>4</td>\n",
       "      <td>154.0</td>\n",
       "      <td>136.0</td>\n",
       "      <td>207.0</td>\n",
       "      <td>217.0</td>\n",
       "      <td>197.0</td>\n",
       "      <td>116.0</td>\n",
       "      <td>133.0</td>\n",
       "      <td>...</td>\n",
       "      <td>78.0</td>\n",
       "      <td>268.0</td>\n",
       "      <td>99.0</td>\n",
       "      <td>230.0</td>\n",
       "      <td>194.0</td>\n",
       "      <td>276.0</td>\n",
       "      <td>246.0</td>\n",
       "      <td>158.0</td>\n",
       "      <td>198.0</td>\n",
       "      <td>168.041667</td>\n",
       "    </tr>\n",
       "    <tr>\n",
       "      <th>2018-08-31 22:00:00</th>\n",
       "      <td>223</td>\n",
       "      <td>22</td>\n",
       "      <td>4</td>\n",
       "      <td>159.0</td>\n",
       "      <td>154.0</td>\n",
       "      <td>136.0</td>\n",
       "      <td>207.0</td>\n",
       "      <td>217.0</td>\n",
       "      <td>197.0</td>\n",
       "      <td>116.0</td>\n",
       "      <td>...</td>\n",
       "      <td>35.0</td>\n",
       "      <td>78.0</td>\n",
       "      <td>268.0</td>\n",
       "      <td>99.0</td>\n",
       "      <td>230.0</td>\n",
       "      <td>194.0</td>\n",
       "      <td>276.0</td>\n",
       "      <td>246.0</td>\n",
       "      <td>158.0</td>\n",
       "      <td>166.416667</td>\n",
       "    </tr>\n",
       "    <tr>\n",
       "      <th>2018-08-31 23:00:00</th>\n",
       "      <td>205</td>\n",
       "      <td>23</td>\n",
       "      <td>4</td>\n",
       "      <td>223.0</td>\n",
       "      <td>159.0</td>\n",
       "      <td>154.0</td>\n",
       "      <td>136.0</td>\n",
       "      <td>207.0</td>\n",
       "      <td>217.0</td>\n",
       "      <td>197.0</td>\n",
       "      <td>...</td>\n",
       "      <td>46.0</td>\n",
       "      <td>35.0</td>\n",
       "      <td>78.0</td>\n",
       "      <td>268.0</td>\n",
       "      <td>99.0</td>\n",
       "      <td>230.0</td>\n",
       "      <td>194.0</td>\n",
       "      <td>276.0</td>\n",
       "      <td>246.0</td>\n",
       "      <td>169.125000</td>\n",
       "    </tr>\n",
       "  </tbody>\n",
       "</table>\n",
       "<p>4416 rows × 28 columns</p>\n",
       "</div>"
      ],
      "text/plain": [
       "                     num_orders  hour  dayofweek  lag_1  lag_2  lag_3  lag_4  \\\n",
       "datetime                                                                       \n",
       "2018-03-01 00:00:00         124     0          3    NaN    NaN    NaN    NaN   \n",
       "2018-03-01 01:00:00          85     1          3  124.0    NaN    NaN    NaN   \n",
       "2018-03-01 02:00:00          71     2          3   85.0  124.0    NaN    NaN   \n",
       "2018-03-01 03:00:00          66     3          3   71.0   85.0  124.0    NaN   \n",
       "2018-03-01 04:00:00          43     4          3   66.0   71.0   85.0  124.0   \n",
       "...                         ...   ...        ...    ...    ...    ...    ...   \n",
       "2018-08-31 19:00:00         136    19          4  207.0  217.0  197.0  116.0   \n",
       "2018-08-31 20:00:00         154    20          4  136.0  207.0  217.0  197.0   \n",
       "2018-08-31 21:00:00         159    21          4  154.0  136.0  207.0  217.0   \n",
       "2018-08-31 22:00:00         223    22          4  159.0  154.0  136.0  207.0   \n",
       "2018-08-31 23:00:00         205    23          4  223.0  159.0  154.0  136.0   \n",
       "\n",
       "                     lag_5  lag_6  lag_7  ...  lag_16  lag_17  lag_18  lag_19  \\\n",
       "datetime                                  ...                                   \n",
       "2018-03-01 00:00:00    NaN    NaN    NaN  ...     NaN     NaN     NaN     NaN   \n",
       "2018-03-01 01:00:00    NaN    NaN    NaN  ...     NaN     NaN     NaN     NaN   \n",
       "2018-03-01 02:00:00    NaN    NaN    NaN  ...     NaN     NaN     NaN     NaN   \n",
       "2018-03-01 03:00:00    NaN    NaN    NaN  ...     NaN     NaN     NaN     NaN   \n",
       "2018-03-01 04:00:00    NaN    NaN    NaN  ...     NaN     NaN     NaN     NaN   \n",
       "...                    ...    ...    ...  ...     ...     ...     ...     ...   \n",
       "2018-08-31 19:00:00  133.0  166.0  136.0  ...    99.0   230.0   194.0   276.0   \n",
       "2018-08-31 20:00:00  116.0  133.0  166.0  ...   268.0    99.0   230.0   194.0   \n",
       "2018-08-31 21:00:00  197.0  116.0  133.0  ...    78.0   268.0    99.0   230.0   \n",
       "2018-08-31 22:00:00  217.0  197.0  116.0  ...    35.0    78.0   268.0    99.0   \n",
       "2018-08-31 23:00:00  207.0  217.0  197.0  ...    46.0    35.0    78.0   268.0   \n",
       "\n",
       "                     lag_20  lag_21  lag_22  lag_23  lag_24  rolling_mean  \n",
       "datetime                                                                   \n",
       "2018-03-01 00:00:00     NaN     NaN     NaN     NaN     NaN           NaN  \n",
       "2018-03-01 01:00:00     NaN     NaN     NaN     NaN     NaN           NaN  \n",
       "2018-03-01 02:00:00     NaN     NaN     NaN     NaN     NaN           NaN  \n",
       "2018-03-01 03:00:00     NaN     NaN     NaN     NaN     NaN           NaN  \n",
       "2018-03-01 04:00:00     NaN     NaN     NaN     NaN     NaN           NaN  \n",
       "...                     ...     ...     ...     ...     ...           ...  \n",
       "2018-08-31 19:00:00   246.0   158.0   198.0   142.0    72.0    164.875000  \n",
       "2018-08-31 20:00:00   276.0   246.0   158.0   198.0   142.0    167.541667  \n",
       "2018-08-31 21:00:00   194.0   276.0   246.0   158.0   198.0    168.041667  \n",
       "2018-08-31 22:00:00   230.0   194.0   276.0   246.0   158.0    166.416667  \n",
       "2018-08-31 23:00:00    99.0   230.0   194.0   276.0   246.0    169.125000  \n",
       "\n",
       "[4416 rows x 28 columns]"
      ]
     },
     "execution_count": 23,
     "metadata": {},
     "output_type": "execute_result"
    }
   ],
   "source": [
    "data"
   ]
  },
  {
   "cell_type": "markdown",
   "metadata": {},
   "source": [
    "Проверим: "
   ]
  },
  {
   "cell_type": "code",
   "execution_count": 23,
   "metadata": {},
   "outputs": [
    {
     "name": "stdout",
     "output_type": "stream",
     "text": [
      "2018-03-02 00:00:00 2018-08-13 13:00:00\n",
      "2018-08-13 14:00:00 2018-08-31 23:00:00\n"
     ]
    }
   ],
   "source": [
    "print(train.index.min(), train.index.max())\n",
    "print(test.index.min(), test.index.max())"
   ]
  },
  {
   "cell_type": "markdown",
   "metadata": {},
   "source": [
    "Разделим данные на признаки и на целевой признак: "
   ]
  },
  {
   "cell_type": "code",
   "execution_count": 24,
   "metadata": {},
   "outputs": [],
   "source": [
    "features_train = train.drop(\"num_orders\", axis=1)\n",
    "features_test = test.drop(\"num_orders\", axis=1)\n",
    "\n",
    "target_train = train[\"num_orders\"]\n",
    "target_test = test[\"num_orders\"]"
   ]
  },
  {
   "cell_type": "markdown",
   "metadata": {},
   "source": [
    "Проверим: "
   ]
  },
  {
   "cell_type": "code",
   "execution_count": 25,
   "metadata": {},
   "outputs": [
    {
     "name": "stdout",
     "output_type": "stream",
     "text": [
      "Размер features_test: (442, 27)\n",
      "Размер features_train: (3950, 27)\n",
      "Размер target_test: (442,)\n",
      "Размер target_train: (3950,)\n"
     ]
    }
   ],
   "source": [
    "print(\"Размер features_test:\",features_test.shape)\n",
    "print(\"Размер features_train:\",features_train.shape)\n",
    "print(\"Размер target_test:\",target_test.shape)\n",
    "print(\"Размер target_train:\",target_train.shape)"
   ]
  },
  {
   "cell_type": "markdown",
   "metadata": {},
   "source": [
    "Для анализа моделей: "
   ]
  },
  {
   "cell_type": "code",
   "execution_count": 26,
   "metadata": {},
   "outputs": [],
   "source": [
    "models_result = pd.DataFrame(columns = [\"RMSE\",\"TrainTime\",\"PredictionTime\"],\n",
    "                             index = [\"LinearRegression_auto\",\n",
    "                                      \"RandomForestRegressor_friedman_mse\",\"RandomForestRegressor_poisson\",\n",
    "                                      \"DecisionTreeRegressor_friedman_mse\",\"DecisionTreeRegressor_poisson\",\n",
    "                                      \"LGBMRegressor_gbdt\",\"LGBMRegressor_dart\",\n",
    "                                      \"CatBoostRegressor_SymmetricTree\",\"CatBoostRegressor_Depthwise\",\n",
    "                                      \"CatBoostRegressor_Lossguide\"])"
   ]
  },
  {
   "cell_type": "code",
   "execution_count": 27,
   "metadata": {},
   "outputs": [],
   "source": [
    "def rmse(predict,true):\n",
    "    square_distance = (np.array(predict) - np.array(true)) ** 2\n",
    "    mean_square_distance = square_distance.mean()\n",
    "    return np.sqrt(mean_square_distance)"
   ]
  },
  {
   "cell_type": "code",
   "execution_count": 28,
   "metadata": {},
   "outputs": [],
   "source": [
    "def score_print(predicted,true):\n",
    "    print(\"RMSE:\",round(rmse(predicted,true),2))\n",
    "    return round(rmse(predicted,true),2)"
   ]
  },
  {
   "cell_type": "markdown",
   "metadata": {},
   "source": [
    "**LinearRegression_auto**"
   ]
  },
  {
   "cell_type": "code",
   "execution_count": 29,
   "metadata": {},
   "outputs": [
    {
     "name": "stdout",
     "output_type": "stream",
     "text": [
      "RMSE: 25.84\n",
      "CPU times: user 52.3 ms, sys: 36.6 ms, total: 88.9 ms\n",
      "Wall time: 76.9 ms\n"
     ]
    }
   ],
   "source": [
    "%%time\n",
    "start_time = time()\n",
    "\n",
    "model = LinearRegression()\n",
    "model.fit(features_train, target_train)\n",
    "train_time = time()\n",
    "predicted = model.predict(features_train)\n",
    "prediction_time = time()\n",
    "\n",
    "models_result[\"RMSE\"][\"LinearRegression_auto\"] = score_print(predicted,target_train)\n",
    "models_result[\"TrainTime\"][\"LinearRegression_auto\"] = round(train_time - start_time,2)\n",
    "models_result[\"PredictionTime\"][\"LinearRegression_auto\"] = round(prediction_time - train_time,2)"
   ]
  },
  {
   "cell_type": "raw",
   "metadata": {},
   "source": [
    "# обучение линейной регрессией\n",
    "model = LinearRegression()\n",
    "\n",
    "print(f'''Значение метрики RMSE на обучающей выборке для LinearRegression''', cross_val_score(model,X_train, y_train, \n",
    "                         cv = TimeSeriesSplit(n_splits=8), \n",
    "                         n_jobs = -1, \n",
    "                         scoring = 'neg_root_mean_squared_error').mean())"
   ]
  },
  {
   "cell_type": "markdown",
   "metadata": {},
   "source": [
    "**RandomForestRegressor_friedman_mse**"
   ]
  },
  {
   "cell_type": "code",
   "execution_count": 30,
   "metadata": {},
   "outputs": [
    {
     "name": "stdout",
     "output_type": "stream",
     "text": [
      "RMSE: 8.51\n",
      "CPU times: user 5.42 s, sys: 70 ms, total: 5.49 s\n",
      "Wall time: 5.51 s\n"
     ]
    }
   ],
   "source": [
    "%%time\n",
    "start_time = time()\n",
    "\n",
    "model = RandomForestRegressor(criterion=\"friedman_mse\",random_state=RANDOM_STATE)\n",
    "model.fit(features_train, target_train)\n",
    "train_time = time()\n",
    "predicted = model.predict(features_train)\n",
    "prediction_time = time()\n",
    "\n",
    "models_result[\"RMSE\"][\"RandomForestRegressor_friedman_mse\"] = score_print(predicted,target_train)\n",
    "models_result[\"TrainTime\"][\"RandomForestRegressor_friedman_mse\"] = round(train_time - start_time,2)\n",
    "models_result[\"PredictionTime\"][\"RandomForestRegressor_friedman_mse\"] = round(prediction_time - train_time,2)"
   ]
  },
  {
   "cell_type": "raw",
   "metadata": {},
   "source": [
    "model_CatBoostRegressor = CatBoostRegressor(random_state = 1234, verbose = False)\n",
    "parametrs = {'depth' : range(1, 5, 1),\n",
    "                'iterations' : range(100, 500, 100)\n",
    "               }\n",
    "my_cv=TimeSeriesSplit(n_splits=8).split(features_train)\n",
    "grid = GridSearchCV(model_CatBoostRegressor, parametrs, cv=my_cv, scoring='neg_root_mean_squared_error')\n",
    "grid.fit(features_train, target_train)\n",
    "\n",
    "-grid.best_score_\n",
    "grid.best_params_"
   ]
  },
  {
   "cell_type": "markdown",
   "metadata": {},
   "source": [
    "**RandomForestRegressor_poisson**"
   ]
  },
  {
   "cell_type": "code",
   "execution_count": 31,
   "metadata": {},
   "outputs": [
    {
     "name": "stdout",
     "output_type": "stream",
     "text": [
      "RMSE: 10.22\n",
      "CPU times: user 44.4 s, sys: 114 ms, total: 44.5 s\n",
      "Wall time: 44.6 s\n"
     ]
    }
   ],
   "source": [
    "%%time\n",
    "start_time = time()\n",
    "\n",
    "model = RandomForestRegressor(criterion=\"poisson\",random_state=RANDOM_STATE)\n",
    "model.fit(features_train, target_train)\n",
    "train_time = time()\n",
    "predicted = model.predict(features_train)\n",
    "prediction_time = time()\n",
    "\n",
    "models_result[\"RMSE\"][\"RandomForestRegressor_poisson\"] = score_print(predicted,target_train)\n",
    "models_result[\"TrainTime\"][\"RandomForestRegressor_poisson\"] = round(train_time - start_time,2)\n",
    "models_result[\"PredictionTime\"][\"RandomForestRegressor_poisson\"] = round(prediction_time - train_time,2)"
   ]
  },
  {
   "cell_type": "markdown",
   "metadata": {},
   "source": [
    "**DecisionTreeRegressor_friedman_mse**"
   ]
  },
  {
   "cell_type": "code",
   "execution_count": 32,
   "metadata": {},
   "outputs": [
    {
     "name": "stdout",
     "output_type": "stream",
     "text": [
      "RMSE: 0.0\n",
      "CPU times: user 101 ms, sys: 0 ns, total: 101 ms\n",
      "Wall time: 107 ms\n"
     ]
    }
   ],
   "source": [
    "%%time\n",
    "start_time = time()\n",
    "\n",
    "model = DecisionTreeRegressor(criterion=\"friedman_mse\",random_state=RANDOM_STATE)\n",
    "model.fit(features_train, target_train)\n",
    "train_time = time()\n",
    "predicted = model.predict(features_train)\n",
    "prediction_time = time()\n",
    "\n",
    "models_result[\"RMSE\"][\"DecisionTreeRegressor_friedman_mse\"] = score_print(predicted,target_train)\n",
    "models_result[\"TrainTime\"][\"DecisionTreeRegressor_friedman_mse\"] = round(train_time - start_time,2)\n",
    "models_result[\"PredictionTime\"][\"DecisionTreeRegressor_friedman_mse\"] = round(prediction_time - train_time,2)"
   ]
  },
  {
   "cell_type": "markdown",
   "metadata": {},
   "source": [
    "**DecisionTreeRegressor_poisson**"
   ]
  },
  {
   "cell_type": "code",
   "execution_count": 33,
   "metadata": {},
   "outputs": [
    {
     "name": "stdout",
     "output_type": "stream",
     "text": [
      "RMSE: 0.01\n",
      "CPU times: user 766 ms, sys: 45 µs, total: 766 ms\n",
      "Wall time: 777 ms\n"
     ]
    }
   ],
   "source": [
    "%%time\n",
    "start_time = time()\n",
    "\n",
    "model = DecisionTreeRegressor(criterion=\"poisson\",random_state=RANDOM_STATE)\n",
    "model.fit(features_train, target_train)\n",
    "train_time = time()\n",
    "predicted = model.predict(features_train)\n",
    "prediction_time = time()\n",
    "\n",
    "models_result[\"RMSE\"][\"DecisionTreeRegressor_poisson\"] = score_print(predicted,target_train)\n",
    "models_result[\"TrainTime\"][\"DecisionTreeRegressor_poisson\"] = round(train_time - start_time,2)\n",
    "models_result[\"PredictionTime\"][\"DecisionTreeRegressor_poisson\"] = round(prediction_time - train_time,2)"
   ]
  },
  {
   "cell_type": "markdown",
   "metadata": {},
   "source": [
    "**LGBMRegressor_gbdt**"
   ]
  },
  {
   "cell_type": "code",
   "execution_count": 34,
   "metadata": {},
   "outputs": [
    {
     "name": "stdout",
     "output_type": "stream",
     "text": [
      "RMSE: 12.13\n",
      "CPU times: user 3min 10s, sys: 4.55 s, total: 3min 14s\n",
      "Wall time: 3min 15s\n"
     ]
    }
   ],
   "source": [
    "%%time\n",
    "start_time = time()\n",
    "\n",
    "model = LGBMRegressor(boosting_type=\"gbdt\",random_state=RANDOM_STATE)\n",
    "model.fit(features_train, target_train)\n",
    "train_time = time()\n",
    "predicted = model.predict(features_train)\n",
    "prediction_time = time()\n",
    "\n",
    "models_result[\"RMSE\"][\"LGBMRegressor_gbdt\"] = score_print(predicted,target_train)\n",
    "models_result[\"TrainTime\"][\"LGBMRegressor_gbdt\"] = round(train_time - start_time,2)\n",
    "models_result[\"PredictionTime\"][\"LGBMRegressor_gbdt\"] = round(prediction_time - train_time,2)"
   ]
  },
  {
   "cell_type": "markdown",
   "metadata": {},
   "source": [
    "**LGBMRegressor_dart**"
   ]
  },
  {
   "cell_type": "code",
   "execution_count": 35,
   "metadata": {},
   "outputs": [
    {
     "name": "stdout",
     "output_type": "stream",
     "text": [
      "RMSE: 17.97\n",
      "CPU times: user 2min 44s, sys: 3.45 s, total: 2min 47s\n",
      "Wall time: 2min 49s\n"
     ]
    }
   ],
   "source": [
    "%%time\n",
    "start_time = time()\n",
    "\n",
    "model = LGBMRegressor(boosting_type=\"dart\",random_state=RANDOM_STATE)\n",
    "model.fit(features_train, target_train)\n",
    "train_time = time()\n",
    "predicted = model.predict(features_train)\n",
    "prediction_time = time()\n",
    "\n",
    "models_result[\"RMSE\"][\"LGBMRegressor_dart\"] = score_print(predicted,target_train)\n",
    "models_result[\"TrainTime\"][\"LGBMRegressor_dart\"] = round(train_time - start_time,2)\n",
    "models_result[\"PredictionTime\"][\"LGBMRegressor_dart\"] = round(prediction_time - train_time,2)"
   ]
  },
  {
   "cell_type": "markdown",
   "metadata": {},
   "source": [
    "**CatBoostRegressor_SymmetricTree**"
   ]
  },
  {
   "cell_type": "code",
   "execution_count": 36,
   "metadata": {},
   "outputs": [
    {
     "name": "stdout",
     "output_type": "stream",
     "text": [
      "RMSE: 10.9\n",
      "CPU times: user 7.14 s, sys: 145 ms, total: 7.29 s\n",
      "Wall time: 8.14 s\n"
     ]
    }
   ],
   "source": [
    "%%time\n",
    "start_time = time()\n",
    "\n",
    "model = CatBoostRegressor(logging_level=\"Silent\",grow_policy=\"SymmetricTree\",random_state=RANDOM_STATE)\n",
    "model.fit(features_train, target_train)\n",
    "train_time = time()\n",
    "predicted = model.predict(features_train)\n",
    "prediction_time = time()\n",
    "\n",
    "models_result[\"RMSE\"][\"CatBoostRegressor_SymmetricTree\"] = score_print(predicted,target_train)\n",
    "models_result[\"TrainTime\"][\"CatBoostRegressor_SymmetricTree\"] = round(train_time - start_time,2)\n",
    "models_result[\"PredictionTime\"][\"CatBoostRegressor_SymmetricTree\"] = round(prediction_time - train_time,2)"
   ]
  },
  {
   "cell_type": "markdown",
   "metadata": {},
   "source": [
    "**CatBoostRegressor_Depthwise**"
   ]
  },
  {
   "cell_type": "code",
   "execution_count": 37,
   "metadata": {},
   "outputs": [
    {
     "name": "stdout",
     "output_type": "stream",
     "text": [
      "RMSE: 8.0\n",
      "CPU times: user 18.5 s, sys: 154 ms, total: 18.6 s\n",
      "Wall time: 19.7 s\n"
     ]
    }
   ],
   "source": [
    "%%time\n",
    "start_time = time()\n",
    "\n",
    "model = CatBoostRegressor(logging_level=\"Silent\",grow_policy=\"Depthwise\",random_state=RANDOM_STATE)\n",
    "model.fit(features_train, target_train)\n",
    "train_time = time()\n",
    "predicted = model.predict(features_train)\n",
    "prediction_time = time()\n",
    "\n",
    "models_result[\"RMSE\"][\"CatBoostRegressor_Depthwise\"] = score_print(predicted,target_train)\n",
    "models_result[\"TrainTime\"][\"CatBoostRegressor_Depthwise\"] = round(train_time - start_time,2)\n",
    "models_result[\"PredictionTime\"][\"CatBoostRegressor_Depthwise\"] = round(prediction_time - train_time,2)"
   ]
  },
  {
   "cell_type": "markdown",
   "metadata": {},
   "source": [
    "**CatBoostRegressor_Lossguide**"
   ]
  },
  {
   "cell_type": "code",
   "execution_count": 38,
   "metadata": {},
   "outputs": [
    {
     "name": "stdout",
     "output_type": "stream",
     "text": [
      "RMSE: 7.9\n",
      "CPU times: user 16.3 s, sys: 117 ms, total: 16.4 s\n",
      "Wall time: 17.5 s\n"
     ]
    }
   ],
   "source": [
    "%%time\n",
    "start_time = time()\n",
    "\n",
    "model = CatBoostRegressor(logging_level=\"Silent\",grow_policy=\"Lossguide\",random_state=RANDOM_STATE)\n",
    "model.fit(features_train, target_train)\n",
    "train_time = time()\n",
    "predicted = model.predict(features_train)\n",
    "prediction_time = time()\n",
    "\n",
    "models_result[\"RMSE\"][\"CatBoostRegressor_Lossguide\"] = score_print(predicted,target_train)\n",
    "models_result[\"TrainTime\"][\"CatBoostRegressor_Lossguide\"] = round(train_time - start_time,2)\n",
    "models_result[\"PredictionTime\"][\"CatBoostRegressor_Lossguide\"] = round(prediction_time - train_time,2)"
   ]
  },
  {
   "cell_type": "code",
   "execution_count": 39,
   "metadata": {},
   "outputs": [
    {
     "data": {
      "text/html": [
       "<div>\n",
       "<style scoped>\n",
       "    .dataframe tbody tr th:only-of-type {\n",
       "        vertical-align: middle;\n",
       "    }\n",
       "\n",
       "    .dataframe tbody tr th {\n",
       "        vertical-align: top;\n",
       "    }\n",
       "\n",
       "    .dataframe thead th {\n",
       "        text-align: right;\n",
       "    }\n",
       "</style>\n",
       "<table border=\"1\" class=\"dataframe\">\n",
       "  <thead>\n",
       "    <tr style=\"text-align: right;\">\n",
       "      <th></th>\n",
       "      <th>RMSE</th>\n",
       "      <th>TrainTime</th>\n",
       "      <th>PredictionTime</th>\n",
       "    </tr>\n",
       "  </thead>\n",
       "  <tbody>\n",
       "    <tr>\n",
       "      <th>LinearRegression_auto</th>\n",
       "      <td>25.84</td>\n",
       "      <td>0.01</td>\n",
       "      <td>0.07</td>\n",
       "    </tr>\n",
       "    <tr>\n",
       "      <th>RandomForestRegressor_friedman_mse</th>\n",
       "      <td>8.51</td>\n",
       "      <td>5.43</td>\n",
       "      <td>0.08</td>\n",
       "    </tr>\n",
       "    <tr>\n",
       "      <th>RandomForestRegressor_poisson</th>\n",
       "      <td>10.22</td>\n",
       "      <td>44.43</td>\n",
       "      <td>0.21</td>\n",
       "    </tr>\n",
       "    <tr>\n",
       "      <th>DecisionTreeRegressor_friedman_mse</th>\n",
       "      <td>0.0</td>\n",
       "      <td>0.1</td>\n",
       "      <td>0.0</td>\n",
       "    </tr>\n",
       "    <tr>\n",
       "      <th>DecisionTreeRegressor_poisson</th>\n",
       "      <td>0.01</td>\n",
       "      <td>0.77</td>\n",
       "      <td>0.0</td>\n",
       "    </tr>\n",
       "    <tr>\n",
       "      <th>LGBMRegressor_gbdt</th>\n",
       "      <td>12.13</td>\n",
       "      <td>195.83</td>\n",
       "      <td>0.1</td>\n",
       "    </tr>\n",
       "    <tr>\n",
       "      <th>LGBMRegressor_dart</th>\n",
       "      <td>17.97</td>\n",
       "      <td>169.1</td>\n",
       "      <td>0.09</td>\n",
       "    </tr>\n",
       "    <tr>\n",
       "      <th>CatBoostRegressor_SymmetricTree</th>\n",
       "      <td>10.9</td>\n",
       "      <td>8.14</td>\n",
       "      <td>0.01</td>\n",
       "    </tr>\n",
       "    <tr>\n",
       "      <th>CatBoostRegressor_Depthwise</th>\n",
       "      <td>8.0</td>\n",
       "      <td>19.58</td>\n",
       "      <td>0.08</td>\n",
       "    </tr>\n",
       "    <tr>\n",
       "      <th>CatBoostRegressor_Lossguide</th>\n",
       "      <td>7.9</td>\n",
       "      <td>17.37</td>\n",
       "      <td>0.09</td>\n",
       "    </tr>\n",
       "  </tbody>\n",
       "</table>\n",
       "</div>"
      ],
      "text/plain": [
       "                                     RMSE TrainTime PredictionTime\n",
       "LinearRegression_auto               25.84      0.01           0.07\n",
       "RandomForestRegressor_friedman_mse   8.51      5.43           0.08\n",
       "RandomForestRegressor_poisson       10.22     44.43           0.21\n",
       "DecisionTreeRegressor_friedman_mse    0.0       0.1            0.0\n",
       "DecisionTreeRegressor_poisson        0.01      0.77            0.0\n",
       "LGBMRegressor_gbdt                  12.13    195.83            0.1\n",
       "LGBMRegressor_dart                  17.97     169.1           0.09\n",
       "CatBoostRegressor_SymmetricTree      10.9      8.14           0.01\n",
       "CatBoostRegressor_Depthwise           8.0     19.58           0.08\n",
       "CatBoostRegressor_Lossguide           7.9     17.37           0.09"
      ]
     },
     "metadata": {},
     "output_type": "display_data"
    }
   ],
   "source": [
    "display(models_result)"
   ]
  },
  {
   "cell_type": "markdown",
   "metadata": {},
   "source": [
    "**Вывод:**"
   ]
  },
  {
   "cell_type": "markdown",
   "metadata": {},
   "source": [
    "*Примечание - данные \"DecisionTreeRegressor_friedman_mse\" и \"DecisionTreeRegressor_poisson\" проигнорированы из-за нереалистичных результатов.*"
   ]
  },
  {
   "cell_type": "markdown",
   "metadata": {},
   "source": [
    "- Самая быстрая модель по обучению - LinearRegression_auto\n",
    "- Самая быстрая модель по предсказанию - CatBoostRegressor_SymmetricTree\n",
    "- Самая быстрая модель с хорошим качеством (RMSE < 20) - RandomForestRegressor_friedman_mse\n",
    "- Самая качественная модель - CatBoostRegressor_Lossguide\n",
    "- Лучшая модель по время.качество - RandomForestRegressor_friedman_mse\n",
    "- Самая медленная модель по обучению - LGBMRegressor_gbdt\n",
    "- Самая медленная модель по предсказанию - RandomForestRegressor_poisson\n",
    "- Самая не качественная модель - LinearRegression_auto"
   ]
  },
  {
   "cell_type": "markdown",
   "metadata": {},
   "source": [
    "## Тестирование"
   ]
  },
  {
   "cell_type": "markdown",
   "metadata": {},
   "source": [
    "Тестирование модели - CatBoostRegressor_Depthwise как лучшая модель по время.качество"
   ]
  },
  {
   "cell_type": "code",
   "execution_count": 40,
   "metadata": {
    "scrolled": true
   },
   "outputs": [
    {
     "name": "stdout",
     "output_type": "stream",
     "text": [
      "RMSE: 40.42\n",
      "CPU times: user 19.1 s, sys: 150 ms, total: 19.3 s\n",
      "Wall time: 20.4 s\n"
     ]
    }
   ],
   "source": [
    "%%time\n",
    "\n",
    "model = CatBoostRegressor(logging_level=\"Silent\",grow_policy=\"Depthwise\",random_state=RANDOM_STATE)\n",
    "model.fit(features_train, target_train)\n",
    "predicted = model.predict(features_test)\n",
    "\n",
    "models_result[\"RMSE\"][\"CatBoostRegressor_Depthwise\"] = score_print(predicted,target_test)"
   ]
  },
  {
   "cell_type": "code",
   "execution_count": 41,
   "metadata": {},
   "outputs": [
    {
     "data": {
      "image/png": "[encoded data removed]",
      "text/plain": [
       "<Figure size 1440x720 with 1 Axes>"
      ]
     },
     "metadata": {
      "needs_background": "light"
     },
     "output_type": "display_data"
    }
   ],
   "source": [
    "predicted = pd.DataFrame(predicted, index=features_test.index)\n",
    "plt.figure(figsize=(20,10))\n",
    "plt.plot(target_test, color=\"black\")\n",
    "plt.plot(predicted, color=\"red\")\n",
    "plt.legend([\"Реальные\",\"Предсказанные\"])\n",
    "plt.show()"
   ]
  },
  {
   "cell_type": "markdown",
   "metadata": {},
   "source": [
    "**Вывод:**"
   ]
  },
  {
   "cell_type": "markdown",
   "metadata": {},
   "source": [
    "RMSE модели равен 40.5 (что не больше 48) однако по графику видно, что модель тенденцию предсказывает, но ошибается в пиковых значениях. Это приведет к тому, что модель будет часто недооценивать количество заказов, что приведет к нехватке водителей в пиковой нагрузке. "
   ]
  }
 ],
 "metadata": {
  "ExecuteTimeLog": [
   {
    "duration": 1578,
    "start_time": "2023-02-23T16:06:10.956Z"
   },
   {
    "duration": 3,
    "start_time": "2023-02-23T16:06:12.536Z"
   },
   {
    "duration": 11,
    "start_time": "2023-02-23T16:06:12.540Z"
   },
   {
    "duration": 151,
    "start_time": "2023-02-23T16:06:12.552Z"
   },
   {
    "duration": 0,
    "start_time": "2023-02-23T16:06:12.705Z"
   },
   {
    "duration": 0,
    "start_time": "2023-02-23T16:06:12.707Z"
   },
   {
    "duration": 0,
    "start_time": "2023-02-23T16:06:12.708Z"
   },
   {
    "duration": 0,
    "start_time": "2023-02-23T16:06:12.710Z"
   },
   {
    "duration": 0,
    "start_time": "2023-02-23T16:06:12.711Z"
   },
   {
    "duration": 0,
    "start_time": "2023-02-23T16:06:12.713Z"
   },
   {
    "duration": 15,
    "start_time": "2023-02-23T16:06:28.039Z"
   },
   {
    "duration": 122,
    "start_time": "2023-02-23T16:06:37.619Z"
   },
   {
    "duration": 11,
    "start_time": "2023-02-23T16:06:39.173Z"
   },
   {
    "duration": 7,
    "start_time": "2023-02-23T16:06:39.326Z"
   },
   {
    "duration": 14,
    "start_time": "2023-02-23T16:06:39.505Z"
   },
   {
    "duration": 13,
    "start_time": "2023-02-23T16:06:39.670Z"
   },
   {
    "duration": 13,
    "start_time": "2023-02-23T16:06:39.871Z"
   },
   {
    "duration": 9,
    "start_time": "2023-02-23T16:06:42.066Z"
   },
   {
    "duration": 11,
    "start_time": "2023-02-23T16:13:20.520Z"
   },
   {
    "duration": 11,
    "start_time": "2023-02-23T16:14:32.972Z"
   },
   {
    "duration": 10,
    "start_time": "2023-02-23T16:18:42.577Z"
   },
   {
    "duration": 56,
    "start_time": "2023-02-23T16:19:00.038Z"
   },
   {
    "duration": 15,
    "start_time": "2023-02-23T16:19:04.135Z"
   },
   {
    "duration": 273,
    "start_time": "2023-02-23T16:19:06.142Z"
   },
   {
    "duration": 289,
    "start_time": "2023-02-23T16:19:26.112Z"
   },
   {
    "duration": 409,
    "start_time": "2023-02-23T16:22:16.974Z"
   },
   {
    "duration": 232,
    "start_time": "2023-02-23T16:22:20.870Z"
   },
   {
    "duration": 245,
    "start_time": "2023-02-23T16:22:45.100Z"
   },
   {
    "duration": 236,
    "start_time": "2023-02-23T16:22:49.235Z"
   },
   {
    "duration": 423,
    "start_time": "2023-02-23T16:26:43.382Z"
   },
   {
    "duration": 218,
    "start_time": "2023-02-23T16:27:38.711Z"
   },
   {
    "duration": 217,
    "start_time": "2023-02-23T16:27:49.971Z"
   },
   {
    "duration": 226,
    "start_time": "2023-02-23T16:27:51.104Z"
   },
   {
    "duration": 304,
    "start_time": "2023-02-23T16:28:05.104Z"
   },
   {
    "duration": 304,
    "start_time": "2023-02-23T16:28:17.626Z"
   },
   {
    "duration": 305,
    "start_time": "2023-02-23T16:28:37.840Z"
   },
   {
    "duration": 18,
    "start_time": "2023-02-23T16:36:54.222Z"
   },
   {
    "duration": 314,
    "start_time": "2023-02-23T16:37:03.681Z"
   },
   {
    "duration": 286,
    "start_time": "2023-02-23T16:37:19.255Z"
   },
   {
    "duration": 308,
    "start_time": "2023-02-23T16:37:37.968Z"
   },
   {
    "duration": 358,
    "start_time": "2023-02-23T16:39:29.492Z"
   },
   {
    "duration": 373,
    "start_time": "2023-02-23T16:39:39.109Z"
   },
   {
    "duration": 484,
    "start_time": "2023-02-23T16:39:55.903Z"
   },
   {
    "duration": 280,
    "start_time": "2023-02-23T16:40:28.588Z"
   },
   {
    "duration": 4,
    "start_time": "2023-02-23T16:48:30.581Z"
   },
   {
    "duration": 11,
    "start_time": "2023-02-23T16:48:32.062Z"
   },
   {
    "duration": 22,
    "start_time": "2023-02-23T16:48:37.318Z"
   },
   {
    "duration": 9,
    "start_time": "2023-02-23T16:49:41.230Z"
   },
   {
    "duration": 5,
    "start_time": "2023-02-23T16:49:42.847Z"
   },
   {
    "duration": 6,
    "start_time": "2023-02-23T16:55:17.039Z"
   },
   {
    "duration": 7,
    "start_time": "2023-02-23T16:58:16.380Z"
   },
   {
    "duration": 4,
    "start_time": "2023-02-23T16:58:16.752Z"
   },
   {
    "duration": 4,
    "start_time": "2023-02-23T16:58:16.965Z"
   },
   {
    "duration": 97,
    "start_time": "2023-02-23T17:00:14.126Z"
   },
   {
    "duration": 11,
    "start_time": "2023-02-23T17:01:56.267Z"
   },
   {
    "duration": 13,
    "start_time": "2023-02-23T17:02:14.192Z"
   },
   {
    "duration": 1516,
    "start_time": "2023-02-23T17:03:58.595Z"
   },
   {
    "duration": 3,
    "start_time": "2023-02-23T17:04:00.113Z"
   },
   {
    "duration": 36,
    "start_time": "2023-02-23T17:04:00.118Z"
   },
   {
    "duration": 82,
    "start_time": "2023-02-23T17:04:00.157Z"
   },
   {
    "duration": 16,
    "start_time": "2023-02-23T17:04:00.242Z"
   },
   {
    "duration": 31,
    "start_time": "2023-02-23T17:04:00.260Z"
   },
   {
    "duration": 53,
    "start_time": "2023-02-23T17:04:00.293Z"
   },
   {
    "duration": 75,
    "start_time": "2023-02-23T17:04:00.348Z"
   },
   {
    "duration": 54,
    "start_time": "2023-02-23T17:04:00.425Z"
   },
   {
    "duration": 39,
    "start_time": "2023-02-23T17:04:00.480Z"
   },
   {
    "duration": 42,
    "start_time": "2023-02-23T17:04:00.521Z"
   },
   {
    "duration": 42,
    "start_time": "2023-02-23T17:04:00.565Z"
   },
   {
    "duration": 41,
    "start_time": "2023-02-23T17:04:00.609Z"
   },
   {
    "duration": 402,
    "start_time": "2023-02-23T17:04:00.656Z"
   },
   {
    "duration": 463,
    "start_time": "2023-02-23T17:04:01.060Z"
   },
   {
    "duration": 315,
    "start_time": "2023-02-23T17:04:01.525Z"
   },
   {
    "duration": 272,
    "start_time": "2023-02-23T17:04:01.842Z"
   },
   {
    "duration": 385,
    "start_time": "2023-02-23T17:04:02.117Z"
   },
   {
    "duration": 309,
    "start_time": "2023-02-23T17:04:02.504Z"
   },
   {
    "duration": 5,
    "start_time": "2023-02-23T17:04:02.815Z"
   },
   {
    "duration": 39,
    "start_time": "2023-02-23T17:04:02.822Z"
   },
   {
    "duration": 6,
    "start_time": "2023-02-23T17:04:04.603Z"
   },
   {
    "duration": 147,
    "start_time": "2023-02-23T17:04:06.196Z"
   },
   {
    "duration": 8,
    "start_time": "2023-02-23T17:04:20.830Z"
   },
   {
    "duration": 10,
    "start_time": "2023-02-23T17:04:22.697Z"
   },
   {
    "duration": 5,
    "start_time": "2023-02-23T17:04:44.917Z"
   },
   {
    "duration": 6,
    "start_time": "2023-02-23T17:04:51.429Z"
   },
   {
    "duration": 4,
    "start_time": "2023-02-23T17:04:51.657Z"
   },
   {
    "duration": 4,
    "start_time": "2023-02-23T17:04:51.886Z"
   },
   {
    "duration": 138,
    "start_time": "2023-02-23T17:04:53.342Z"
   },
   {
    "duration": 10,
    "start_time": "2023-02-23T17:05:27.310Z"
   },
   {
    "duration": 105,
    "start_time": "2023-02-23T17:05:32.165Z"
   },
   {
    "duration": 15,
    "start_time": "2023-02-23T17:06:24.511Z"
   },
   {
    "duration": 96,
    "start_time": "2023-02-23T17:06:26.706Z"
   },
   {
    "duration": 6,
    "start_time": "2023-02-23T17:06:36.958Z"
   },
   {
    "duration": 1443,
    "start_time": "2023-02-23T17:07:07.759Z"
   },
   {
    "duration": 3,
    "start_time": "2023-02-23T17:07:09.204Z"
   },
   {
    "duration": 8,
    "start_time": "2023-02-23T17:07:09.208Z"
   },
   {
    "duration": 50,
    "start_time": "2023-02-23T17:07:09.219Z"
   },
   {
    "duration": 11,
    "start_time": "2023-02-23T17:07:09.270Z"
   },
   {
    "duration": 10,
    "start_time": "2023-02-23T17:07:09.283Z"
   },
   {
    "duration": 20,
    "start_time": "2023-02-23T17:07:09.294Z"
   },
   {
    "duration": 14,
    "start_time": "2023-02-23T17:07:09.315Z"
   },
   {
    "duration": 15,
    "start_time": "2023-02-23T17:07:09.349Z"
   },
   {
    "duration": 8,
    "start_time": "2023-02-23T17:07:09.366Z"
   },
   {
    "duration": 16,
    "start_time": "2023-02-23T17:07:09.378Z"
   },
   {
    "duration": 11,
    "start_time": "2023-02-23T17:07:09.396Z"
   },
   {
    "duration": 10,
    "start_time": "2023-02-23T17:07:09.410Z"
   },
   {
    "duration": 348,
    "start_time": "2023-02-23T17:07:09.449Z"
   },
   {
    "duration": 400,
    "start_time": "2023-02-23T17:07:09.799Z"
   },
   {
    "duration": 304,
    "start_time": "2023-02-23T17:07:10.201Z"
   },
   {
    "duration": 233,
    "start_time": "2023-02-23T17:07:10.507Z"
   },
   {
    "duration": 305,
    "start_time": "2023-02-23T17:07:10.741Z"
   },
   {
    "duration": 276,
    "start_time": "2023-02-23T17:07:11.048Z"
   },
   {
    "duration": 4,
    "start_time": "2023-02-23T17:07:11.326Z"
   },
   {
    "duration": 32,
    "start_time": "2023-02-23T17:07:11.331Z"
   },
   {
    "duration": 8,
    "start_time": "2023-02-23T17:07:11.365Z"
   },
   {
    "duration": 136,
    "start_time": "2023-02-23T17:07:13.716Z"
   },
   {
    "duration": 8,
    "start_time": "2023-02-23T17:07:29.191Z"
   },
   {
    "duration": 14,
    "start_time": "2023-02-23T17:07:31.009Z"
   },
   {
    "duration": 1591,
    "start_time": "2023-02-23T17:08:31.934Z"
   },
   {
    "duration": 2,
    "start_time": "2023-02-23T17:08:33.527Z"
   },
   {
    "duration": 9,
    "start_time": "2023-02-23T17:08:33.531Z"
   },
   {
    "duration": 62,
    "start_time": "2023-02-23T17:08:33.542Z"
   },
   {
    "duration": 10,
    "start_time": "2023-02-23T17:08:33.606Z"
   },
   {
    "duration": 12,
    "start_time": "2023-02-23T17:08:33.617Z"
   },
   {
    "duration": 16,
    "start_time": "2023-02-23T17:08:33.630Z"
   },
   {
    "duration": 16,
    "start_time": "2023-02-23T17:08:33.648Z"
   },
   {
    "duration": 20,
    "start_time": "2023-02-23T17:08:33.665Z"
   },
   {
    "duration": 8,
    "start_time": "2023-02-23T17:08:33.686Z"
   },
   {
    "duration": 12,
    "start_time": "2023-02-23T17:08:33.696Z"
   },
   {
    "duration": 10,
    "start_time": "2023-02-23T17:08:33.709Z"
   },
   {
    "duration": 29,
    "start_time": "2023-02-23T17:08:33.721Z"
   },
   {
    "duration": 367,
    "start_time": "2023-02-23T17:08:33.754Z"
   },
   {
    "duration": 445,
    "start_time": "2023-02-23T17:08:34.122Z"
   },
   {
    "duration": 316,
    "start_time": "2023-02-23T17:08:34.569Z"
   },
   {
    "duration": 259,
    "start_time": "2023-02-23T17:08:34.887Z"
   },
   {
    "duration": 335,
    "start_time": "2023-02-23T17:08:35.149Z"
   },
   {
    "duration": 314,
    "start_time": "2023-02-23T17:08:35.486Z"
   },
   {
    "duration": 4,
    "start_time": "2023-02-23T17:08:35.801Z"
   },
   {
    "duration": 28,
    "start_time": "2023-02-23T17:08:35.806Z"
   },
   {
    "duration": 15,
    "start_time": "2023-02-23T17:08:35.835Z"
   },
   {
    "duration": 137,
    "start_time": "2023-02-23T17:08:35.852Z"
   },
   {
    "duration": 8,
    "start_time": "2023-02-23T17:08:42.717Z"
   },
   {
    "duration": 3,
    "start_time": "2023-02-23T17:08:44.966Z"
   },
   {
    "duration": 5,
    "start_time": "2023-02-23T17:08:46.741Z"
   },
   {
    "duration": 8,
    "start_time": "2023-02-23T17:08:56.547Z"
   },
   {
    "duration": 204,
    "start_time": "2023-02-23T17:09:02.895Z"
   },
   {
    "duration": 4,
    "start_time": "2023-02-23T17:09:08.723Z"
   },
   {
    "duration": 3,
    "start_time": "2023-02-23T17:09:09.033Z"
   },
   {
    "duration": 3,
    "start_time": "2023-02-23T17:09:09.415Z"
   },
   {
    "duration": 37,
    "start_time": "2023-02-23T17:09:10.118Z"
   },
   {
    "duration": 106,
    "start_time": "2023-02-23T17:09:15.112Z"
   },
   {
    "duration": 5636,
    "start_time": "2023-02-23T17:09:15.441Z"
   },
   {
    "duration": 45912,
    "start_time": "2023-02-23T17:11:14.217Z"
   },
   {
    "duration": 110,
    "start_time": "2023-02-23T17:12:00.130Z"
   },
   {
    "duration": 801,
    "start_time": "2023-02-23T17:12:00.242Z"
   },
   {
    "duration": 1586,
    "start_time": "2023-02-23T17:13:56.319Z"
   },
   {
    "duration": 6,
    "start_time": "2023-02-23T17:13:57.908Z"
   },
   {
    "duration": 13,
    "start_time": "2023-02-23T17:13:57.916Z"
   },
   {
    "duration": 57,
    "start_time": "2023-02-23T17:13:57.931Z"
   },
   {
    "duration": 9,
    "start_time": "2023-02-23T17:13:57.991Z"
   },
   {
    "duration": 6,
    "start_time": "2023-02-23T17:13:58.002Z"
   },
   {
    "duration": 14,
    "start_time": "2023-02-23T17:13:58.009Z"
   },
   {
    "duration": 13,
    "start_time": "2023-02-23T17:13:58.024Z"
   },
   {
    "duration": 17,
    "start_time": "2023-02-23T17:13:58.049Z"
   },
   {
    "duration": 11,
    "start_time": "2023-02-23T17:13:58.067Z"
   },
   {
    "duration": 11,
    "start_time": "2023-02-23T17:13:58.079Z"
   },
   {
    "duration": 10,
    "start_time": "2023-02-23T17:13:58.092Z"
   },
   {
    "duration": 6,
    "start_time": "2023-02-23T17:13:58.104Z"
   },
   {
    "duration": 396,
    "start_time": "2023-02-23T17:13:58.113Z"
   },
   {
    "duration": 411,
    "start_time": "2023-02-23T17:13:58.511Z"
   },
   {
    "duration": 352,
    "start_time": "2023-02-23T17:13:58.925Z"
   },
   {
    "duration": 256,
    "start_time": "2023-02-23T17:13:59.279Z"
   },
   {
    "duration": 342,
    "start_time": "2023-02-23T17:13:59.536Z"
   },
   {
    "duration": 324,
    "start_time": "2023-02-23T17:13:59.880Z"
   },
   {
    "duration": 4,
    "start_time": "2023-02-23T17:14:00.205Z"
   },
   {
    "duration": 46,
    "start_time": "2023-02-23T17:14:00.210Z"
   },
   {
    "duration": 22,
    "start_time": "2023-02-23T17:14:00.258Z"
   },
   {
    "duration": 27,
    "start_time": "2023-02-23T17:14:00.282Z"
   },
   {
    "duration": 16,
    "start_time": "2023-02-23T17:14:00.310Z"
   },
   {
    "duration": 42,
    "start_time": "2023-02-23T17:14:00.328Z"
   },
   {
    "duration": 20,
    "start_time": "2023-02-23T17:14:00.372Z"
   },
   {
    "duration": 18,
    "start_time": "2023-02-23T17:14:00.394Z"
   },
   {
    "duration": 13,
    "start_time": "2023-02-23T17:14:00.414Z"
   },
   {
    "duration": 36,
    "start_time": "2023-02-23T17:14:00.429Z"
   },
   {
    "duration": 99,
    "start_time": "2023-02-23T17:14:00.466Z"
   },
   {
    "duration": 5922,
    "start_time": "2023-02-23T17:14:00.568Z"
   },
   {
    "duration": 46096,
    "start_time": "2023-02-23T17:14:06.492Z"
   },
   {
    "duration": 109,
    "start_time": "2023-02-23T17:14:52.590Z"
   },
   {
    "duration": 797,
    "start_time": "2023-02-23T17:14:52.701Z"
   },
   {
    "duration": 291550,
    "start_time": "2023-02-23T17:14:53.501Z"
   },
   {
    "duration": 390826,
    "start_time": "2023-02-23T17:19:45.053Z"
   },
   {
    "duration": 7810,
    "start_time": "2023-02-23T17:26:15.881Z"
   },
   {
    "duration": 19310,
    "start_time": "2023-02-23T17:26:23.694Z"
   },
   {
    "duration": 16874,
    "start_time": "2023-02-23T17:26:43.006Z"
   },
   {
    "duration": 92,
    "start_time": "2023-02-23T17:26:59.881Z"
   },
   {
    "duration": 8,
    "start_time": "2023-02-23T17:26:59.976Z"
   },
   {
    "duration": 320,
    "start_time": "2023-02-23T17:30:24.396Z"
   },
   {
    "duration": 5,
    "start_time": "2023-02-23T17:30:55.219Z"
   },
   {
    "duration": 102,
    "start_time": "2023-02-23T17:31:04.644Z"
   },
   {
    "duration": 1502,
    "start_time": "2023-02-23T17:31:18.209Z"
   },
   {
    "duration": 3,
    "start_time": "2023-02-23T17:31:19.713Z"
   },
   {
    "duration": 8,
    "start_time": "2023-02-23T17:31:19.717Z"
   },
   {
    "duration": 63,
    "start_time": "2023-02-23T17:31:19.727Z"
   },
   {
    "duration": 12,
    "start_time": "2023-02-23T17:31:19.792Z"
   },
   {
    "duration": 7,
    "start_time": "2023-02-23T17:31:19.805Z"
   },
   {
    "duration": 18,
    "start_time": "2023-02-23T17:31:19.814Z"
   },
   {
    "duration": 21,
    "start_time": "2023-02-23T17:31:19.835Z"
   },
   {
    "duration": 15,
    "start_time": "2023-02-23T17:31:19.858Z"
   },
   {
    "duration": 15,
    "start_time": "2023-02-23T17:31:19.877Z"
   },
   {
    "duration": 11,
    "start_time": "2023-02-23T17:31:19.894Z"
   },
   {
    "duration": 43,
    "start_time": "2023-02-23T17:31:19.907Z"
   },
   {
    "duration": 11,
    "start_time": "2023-02-23T17:31:19.953Z"
   },
   {
    "duration": 371,
    "start_time": "2023-02-23T17:31:19.966Z"
   },
   {
    "duration": 443,
    "start_time": "2023-02-23T17:31:20.339Z"
   },
   {
    "duration": 370,
    "start_time": "2023-02-23T17:31:20.784Z"
   },
   {
    "duration": 260,
    "start_time": "2023-02-23T17:31:21.156Z"
   },
   {
    "duration": 357,
    "start_time": "2023-02-23T17:31:21.420Z"
   },
   {
    "duration": 332,
    "start_time": "2023-02-23T17:31:21.780Z"
   },
   {
    "duration": 4,
    "start_time": "2023-02-23T17:31:22.113Z"
   },
   {
    "duration": 41,
    "start_time": "2023-02-23T17:31:22.118Z"
   },
   {
    "duration": 6,
    "start_time": "2023-02-23T17:31:22.161Z"
   },
   {
    "duration": 10,
    "start_time": "2023-02-23T17:31:22.170Z"
   },
   {
    "duration": 4,
    "start_time": "2023-02-23T17:31:22.182Z"
   },
   {
    "duration": 8,
    "start_time": "2023-02-23T17:31:22.188Z"
   },
   {
    "duration": 144,
    "start_time": "2023-02-23T17:31:22.198Z"
   },
   {
    "duration": 0,
    "start_time": "2023-02-23T17:31:22.349Z"
   },
   {
    "duration": 1,
    "start_time": "2023-02-23T17:31:22.350Z"
   },
   {
    "duration": 0,
    "start_time": "2023-02-23T17:31:22.353Z"
   },
   {
    "duration": 0,
    "start_time": "2023-02-23T17:31:22.354Z"
   },
   {
    "duration": 0,
    "start_time": "2023-02-23T17:31:22.356Z"
   },
   {
    "duration": 0,
    "start_time": "2023-02-23T17:31:22.357Z"
   },
   {
    "duration": 0,
    "start_time": "2023-02-23T17:31:22.358Z"
   },
   {
    "duration": 0,
    "start_time": "2023-02-23T17:31:22.360Z"
   },
   {
    "duration": 0,
    "start_time": "2023-02-23T17:31:22.361Z"
   },
   {
    "duration": 0,
    "start_time": "2023-02-23T17:31:22.362Z"
   },
   {
    "duration": 0,
    "start_time": "2023-02-23T17:31:22.364Z"
   },
   {
    "duration": 0,
    "start_time": "2023-02-23T17:31:22.365Z"
   },
   {
    "duration": 0,
    "start_time": "2023-02-23T17:31:22.366Z"
   },
   {
    "duration": 0,
    "start_time": "2023-02-23T17:31:22.367Z"
   },
   {
    "duration": 0,
    "start_time": "2023-02-23T17:31:22.369Z"
   },
   {
    "duration": 5,
    "start_time": "2023-02-23T17:31:44.136Z"
   },
   {
    "duration": 5,
    "start_time": "2023-02-23T17:31:47.094Z"
   },
   {
    "duration": 8,
    "start_time": "2023-02-23T17:31:47.102Z"
   },
   {
    "duration": 5,
    "start_time": "2023-02-23T17:31:47.112Z"
   },
   {
    "duration": 51,
    "start_time": "2023-02-23T17:31:47.119Z"
   },
   {
    "duration": 7,
    "start_time": "2023-02-23T17:31:47.173Z"
   },
   {
    "duration": 15,
    "start_time": "2023-02-23T17:31:47.182Z"
   },
   {
    "duration": 17,
    "start_time": "2023-02-23T17:31:47.199Z"
   },
   {
    "duration": 13,
    "start_time": "2023-02-23T17:31:47.218Z"
   },
   {
    "duration": 29,
    "start_time": "2023-02-23T17:31:47.233Z"
   },
   {
    "duration": 15,
    "start_time": "2023-02-23T17:31:47.265Z"
   },
   {
    "duration": 17,
    "start_time": "2023-02-23T17:31:47.281Z"
   },
   {
    "duration": 11,
    "start_time": "2023-02-23T17:31:47.299Z"
   },
   {
    "duration": 9,
    "start_time": "2023-02-23T17:31:47.312Z"
   },
   {
    "duration": 340,
    "start_time": "2023-02-23T17:31:47.324Z"
   },
   {
    "duration": 373,
    "start_time": "2023-02-23T17:31:47.666Z"
   },
   {
    "duration": 355,
    "start_time": "2023-02-23T17:31:48.042Z"
   },
   {
    "duration": 265,
    "start_time": "2023-02-23T17:31:48.399Z"
   },
   {
    "duration": 8,
    "start_time": "2023-02-23T17:31:49.453Z"
   },
   {
    "duration": 17,
    "start_time": "2023-02-23T17:31:49.463Z"
   },
   {
    "duration": 5,
    "start_time": "2023-02-23T17:31:49.481Z"
   },
   {
    "duration": 41,
    "start_time": "2023-02-23T17:31:49.488Z"
   },
   {
    "duration": 7,
    "start_time": "2023-02-23T17:31:49.531Z"
   },
   {
    "duration": 16,
    "start_time": "2023-02-23T17:31:49.539Z"
   },
   {
    "duration": 28,
    "start_time": "2023-02-23T17:31:49.557Z"
   },
   {
    "duration": 11,
    "start_time": "2023-02-23T17:31:49.586Z"
   },
   {
    "duration": 10,
    "start_time": "2023-02-23T17:31:49.599Z"
   },
   {
    "duration": 9,
    "start_time": "2023-02-23T17:31:49.611Z"
   },
   {
    "duration": 12,
    "start_time": "2023-02-23T17:31:49.622Z"
   },
   {
    "duration": 17,
    "start_time": "2023-02-23T17:31:49.636Z"
   },
   {
    "duration": 12,
    "start_time": "2023-02-23T17:31:49.656Z"
   },
   {
    "duration": 314,
    "start_time": "2023-02-23T17:31:49.670Z"
   },
   {
    "duration": 362,
    "start_time": "2023-02-23T17:31:49.986Z"
   },
   {
    "duration": 248,
    "start_time": "2023-02-23T17:31:50.351Z"
   },
   {
    "duration": 282,
    "start_time": "2023-02-23T17:31:50.601Z"
   },
   {
    "duration": 427,
    "start_time": "2023-02-23T17:31:50.885Z"
   },
   {
    "duration": 322,
    "start_time": "2023-02-23T17:31:51.314Z"
   },
   {
    "duration": 5,
    "start_time": "2023-02-23T17:31:51.638Z"
   },
   {
    "duration": 39,
    "start_time": "2023-02-23T17:31:51.649Z"
   },
   {
    "duration": 7,
    "start_time": "2023-02-23T17:31:51.690Z"
   },
   {
    "duration": 9,
    "start_time": "2023-02-23T17:31:51.699Z"
   },
   {
    "duration": 5,
    "start_time": "2023-02-23T17:31:51.709Z"
   },
   {
    "duration": 8,
    "start_time": "2023-02-23T17:31:51.715Z"
   },
   {
    "duration": 26,
    "start_time": "2023-02-23T17:31:51.725Z"
   },
   {
    "duration": 24,
    "start_time": "2023-02-23T17:31:51.754Z"
   },
   {
    "duration": 5,
    "start_time": "2023-02-23T17:31:51.780Z"
   },
   {
    "duration": 4,
    "start_time": "2023-02-23T17:31:51.787Z"
   },
   {
    "duration": 279,
    "start_time": "2023-02-23T17:31:51.793Z"
   },
   {
    "duration": 5897,
    "start_time": "2023-02-23T17:31:52.075Z"
   },
   {
    "duration": 47659,
    "start_time": "2023-02-23T17:31:57.974Z"
   },
   {
    "duration": 115,
    "start_time": "2023-02-23T17:32:45.635Z"
   },
   {
    "duration": 846,
    "start_time": "2023-02-23T17:32:45.753Z"
   },
   {
    "duration": 280664,
    "start_time": "2023-02-23T17:32:46.605Z"
   },
   {
    "duration": 309289,
    "start_time": "2023-02-23T17:37:27.271Z"
   },
   {
    "duration": 7224,
    "start_time": "2023-02-23T17:42:36.561Z"
   },
   {
    "duration": 18130,
    "start_time": "2023-02-23T17:42:43.786Z"
   },
   {
    "duration": 17252,
    "start_time": "2023-02-23T17:43:01.918Z"
   },
   {
    "duration": 90,
    "start_time": "2023-02-23T17:43:19.172Z"
   },
   {
    "duration": 9,
    "start_time": "2023-02-23T17:43:19.267Z"
   },
   {
    "duration": 115,
    "start_time": "2023-02-23T17:43:19.277Z"
   },
   {
    "duration": 113,
    "start_time": "2023-02-23T17:44:40.121Z"
   },
   {
    "duration": 17506,
    "start_time": "2023-02-23T17:45:22.578Z"
   },
   {
    "duration": 5238,
    "start_time": "2023-02-23T17:46:46.953Z"
   },
   {
    "duration": 194,
    "start_time": "2023-02-23T17:48:55.579Z"
   },
   {
    "duration": 10,
    "start_time": "2023-02-23T17:49:11.493Z"
   },
   {
    "duration": 252,
    "start_time": "2023-02-23T17:49:22.077Z"
   },
   {
    "duration": 1514,
    "start_time": "2023-02-23T17:53:27.637Z"
   },
   {
    "duration": 3,
    "start_time": "2023-02-23T17:53:29.153Z"
   },
   {
    "duration": 11,
    "start_time": "2023-02-23T17:53:29.158Z"
   },
   {
    "duration": 52,
    "start_time": "2023-02-23T17:53:29.171Z"
   },
   {
    "duration": 13,
    "start_time": "2023-02-23T17:53:29.225Z"
   },
   {
    "duration": 7,
    "start_time": "2023-02-23T17:53:29.241Z"
   },
   {
    "duration": 28,
    "start_time": "2023-02-23T17:53:29.250Z"
   },
   {
    "duration": 15,
    "start_time": "2023-02-23T17:53:29.280Z"
   },
   {
    "duration": 14,
    "start_time": "2023-02-23T17:53:29.297Z"
   },
   {
    "duration": 9,
    "start_time": "2023-02-23T17:53:29.313Z"
   },
   {
    "duration": 33,
    "start_time": "2023-02-23T17:53:29.324Z"
   },
   {
    "duration": 13,
    "start_time": "2023-02-23T17:53:29.358Z"
   },
   {
    "duration": 8,
    "start_time": "2023-02-23T17:53:29.372Z"
   },
   {
    "duration": 365,
    "start_time": "2023-02-23T17:53:29.384Z"
   },
   {
    "duration": 420,
    "start_time": "2023-02-23T17:53:29.751Z"
   },
   {
    "duration": 324,
    "start_time": "2023-02-23T17:53:30.173Z"
   },
   {
    "duration": 241,
    "start_time": "2023-02-23T17:53:30.499Z"
   },
   {
    "duration": 321,
    "start_time": "2023-02-23T17:53:30.742Z"
   },
   {
    "duration": 309,
    "start_time": "2023-02-23T17:53:31.065Z"
   },
   {
    "duration": 5,
    "start_time": "2023-02-23T17:53:31.376Z"
   },
   {
    "duration": 43,
    "start_time": "2023-02-23T17:53:31.383Z"
   },
   {
    "duration": 25,
    "start_time": "2023-02-23T17:53:31.428Z"
   },
   {
    "duration": 31,
    "start_time": "2023-02-23T17:53:31.456Z"
   },
   {
    "duration": 39,
    "start_time": "2023-02-23T17:53:31.489Z"
   },
   {
    "duration": 23,
    "start_time": "2023-02-23T17:53:31.530Z"
   },
   {
    "duration": 22,
    "start_time": "2023-02-23T17:53:31.555Z"
   },
   {
    "duration": 25,
    "start_time": "2023-02-23T17:53:31.579Z"
   },
   {
    "duration": 22,
    "start_time": "2023-02-23T17:53:31.606Z"
   },
   {
    "duration": 30,
    "start_time": "2023-02-23T17:53:31.630Z"
   },
   {
    "duration": 189,
    "start_time": "2023-02-23T17:53:31.661Z"
   },
   {
    "duration": 3212,
    "start_time": "2023-02-23T17:53:31.853Z"
   },
   {
    "duration": 17042,
    "start_time": "2023-02-23T17:53:35.067Z"
   },
   {
    "duration": 71,
    "start_time": "2023-02-23T17:53:52.111Z"
   },
   {
    "duration": 306,
    "start_time": "2023-02-23T17:53:52.184Z"
   },
   {
    "duration": 276758,
    "start_time": "2023-02-23T17:53:52.492Z"
   },
   {
    "duration": 345301,
    "start_time": "2023-02-23T17:58:29.252Z"
   },
   {
    "duration": 5257,
    "start_time": "2023-02-23T18:04:14.554Z"
   },
   {
    "duration": 11812,
    "start_time": "2023-02-23T18:04:19.813Z"
   },
   {
    "duration": 10470,
    "start_time": "2023-02-23T18:04:31.627Z"
   },
   {
    "duration": 98,
    "start_time": "2023-02-23T18:04:42.099Z"
   },
   {
    "duration": 8,
    "start_time": "2023-02-23T18:04:42.201Z"
   },
   {
    "duration": 12462,
    "start_time": "2023-02-23T18:04:42.212Z"
   },
   {
    "duration": 324,
    "start_time": "2023-02-23T18:04:54.677Z"
   },
   {
    "duration": 1606,
    "start_time": "2023-02-23T18:05:29.722Z"
   },
   {
    "duration": 3,
    "start_time": "2023-02-23T18:05:31.330Z"
   },
   {
    "duration": 20,
    "start_time": "2023-02-23T18:05:31.335Z"
   },
   {
    "duration": 71,
    "start_time": "2023-02-23T18:05:31.357Z"
   },
   {
    "duration": 12,
    "start_time": "2023-02-23T18:05:31.431Z"
   },
   {
    "duration": 24,
    "start_time": "2023-02-23T18:05:31.445Z"
   },
   {
    "duration": 42,
    "start_time": "2023-02-23T18:05:31.471Z"
   },
   {
    "duration": 38,
    "start_time": "2023-02-23T18:05:31.515Z"
   },
   {
    "duration": 37,
    "start_time": "2023-02-23T18:05:31.555Z"
   },
   {
    "duration": 29,
    "start_time": "2023-02-23T18:05:31.594Z"
   },
   {
    "duration": 40,
    "start_time": "2023-02-23T18:05:31.624Z"
   },
   {
    "duration": 69,
    "start_time": "2023-02-23T18:05:31.666Z"
   },
   {
    "duration": 26,
    "start_time": "2023-02-23T18:05:31.737Z"
   },
   {
    "duration": 451,
    "start_time": "2023-02-23T18:05:31.766Z"
   },
   {
    "duration": 461,
    "start_time": "2023-02-23T18:05:32.219Z"
   },
   {
    "duration": 329,
    "start_time": "2023-02-23T18:05:32.683Z"
   },
   {
    "duration": 246,
    "start_time": "2023-02-23T18:05:33.013Z"
   },
   {
    "duration": 357,
    "start_time": "2023-02-23T18:05:33.262Z"
   },
   {
    "duration": 305,
    "start_time": "2023-02-23T18:05:33.621Z"
   },
   {
    "duration": 4,
    "start_time": "2023-02-23T18:05:33.928Z"
   },
   {
    "duration": 36,
    "start_time": "2023-02-23T18:05:33.934Z"
   },
   {
    "duration": 6,
    "start_time": "2023-02-23T18:05:33.971Z"
   },
   {
    "duration": 7,
    "start_time": "2023-02-23T18:05:33.978Z"
   },
   {
    "duration": 6,
    "start_time": "2023-02-23T18:05:33.987Z"
   },
   {
    "duration": 6,
    "start_time": "2023-02-23T18:05:33.997Z"
   },
   {
    "duration": 6,
    "start_time": "2023-02-23T18:05:34.005Z"
   },
   {
    "duration": 38,
    "start_time": "2023-02-23T18:05:34.013Z"
   },
   {
    "duration": 9,
    "start_time": "2023-02-23T18:05:34.053Z"
   },
   {
    "duration": 7,
    "start_time": "2023-02-23T18:05:34.064Z"
   },
   {
    "duration": 280,
    "start_time": "2023-02-23T18:05:34.072Z"
   },
   {
    "duration": 5962,
    "start_time": "2023-02-23T18:05:34.354Z"
   },
   {
    "duration": 44712,
    "start_time": "2023-02-23T18:05:40.318Z"
   },
   {
    "duration": 116,
    "start_time": "2023-02-23T18:06:25.032Z"
   },
   {
    "duration": 797,
    "start_time": "2023-02-23T18:06:25.150Z"
   },
   {
    "duration": 258008,
    "start_time": "2023-02-23T18:06:25.949Z"
   },
   {
    "duration": 306600,
    "start_time": "2023-02-23T18:10:43.959Z"
   },
   {
    "duration": 7179,
    "start_time": "2023-02-23T18:15:50.562Z"
   },
   {
    "duration": 17532,
    "start_time": "2023-02-23T18:15:57.744Z"
   },
   {
    "duration": 15548,
    "start_time": "2023-02-23T18:16:15.278Z"
   },
   {
    "duration": 96,
    "start_time": "2023-02-23T18:16:30.828Z"
   },
   {
    "duration": 9,
    "start_time": "2023-02-23T18:16:30.927Z"
   },
   {
    "duration": 17119,
    "start_time": "2023-02-23T18:16:30.949Z"
   },
   {
    "duration": 272,
    "start_time": "2023-02-23T18:16:48.070Z"
   },
   {
    "duration": 1016,
    "start_time": "2023-02-23T18:48:29.318Z"
   },
   {
    "duration": 1529,
    "start_time": "2023-02-23T18:48:34.701Z"
   },
   {
    "duration": 1477,
    "start_time": "2023-02-23T19:12:50.771Z"
   },
   {
    "duration": 3,
    "start_time": "2023-02-23T19:12:52.249Z"
   },
   {
    "duration": 7,
    "start_time": "2023-02-23T19:12:52.253Z"
   },
   {
    "duration": 50,
    "start_time": "2023-02-23T19:12:52.261Z"
   },
   {
    "duration": 11,
    "start_time": "2023-02-23T19:12:52.314Z"
   },
   {
    "duration": 7,
    "start_time": "2023-02-23T19:12:52.326Z"
   },
   {
    "duration": 17,
    "start_time": "2023-02-23T19:12:52.335Z"
   },
   {
    "duration": 16,
    "start_time": "2023-02-23T19:12:52.354Z"
   },
   {
    "duration": 14,
    "start_time": "2023-02-23T19:12:52.373Z"
   },
   {
    "duration": 9,
    "start_time": "2023-02-23T19:12:52.389Z"
   },
   {
    "duration": 16,
    "start_time": "2023-02-23T19:12:52.400Z"
   },
   {
    "duration": 41,
    "start_time": "2023-02-23T19:12:52.418Z"
   },
   {
    "duration": 9,
    "start_time": "2023-02-23T19:12:52.461Z"
   },
   {
    "duration": 334,
    "start_time": "2023-02-23T19:12:52.474Z"
   },
   {
    "duration": 393,
    "start_time": "2023-02-23T19:12:52.810Z"
   },
   {
    "duration": 318,
    "start_time": "2023-02-23T19:12:53.205Z"
   },
   {
    "duration": 247,
    "start_time": "2023-02-23T19:12:53.525Z"
   },
   {
    "duration": 314,
    "start_time": "2023-02-23T19:12:53.774Z"
   },
   {
    "duration": 314,
    "start_time": "2023-02-23T19:12:54.090Z"
   },
   {
    "duration": 4,
    "start_time": "2023-02-23T19:12:54.407Z"
   },
   {
    "duration": 43,
    "start_time": "2023-02-23T19:12:54.412Z"
   },
   {
    "duration": 84,
    "start_time": "2023-02-23T19:12:54.457Z"
   },
   {
    "duration": 0,
    "start_time": "2023-02-23T19:12:54.543Z"
   },
   {
    "duration": 0,
    "start_time": "2023-02-23T19:12:54.544Z"
   },
   {
    "duration": 0,
    "start_time": "2023-02-23T19:12:54.548Z"
   },
   {
    "duration": 0,
    "start_time": "2023-02-23T19:12:54.549Z"
   },
   {
    "duration": 0,
    "start_time": "2023-02-23T19:12:54.551Z"
   },
   {
    "duration": 0,
    "start_time": "2023-02-23T19:12:54.552Z"
   },
   {
    "duration": 0,
    "start_time": "2023-02-23T19:12:54.553Z"
   },
   {
    "duration": 0,
    "start_time": "2023-02-23T19:12:54.555Z"
   },
   {
    "duration": 0,
    "start_time": "2023-02-23T19:12:54.556Z"
   },
   {
    "duration": 0,
    "start_time": "2023-02-23T19:12:54.557Z"
   },
   {
    "duration": 0,
    "start_time": "2023-02-23T19:12:54.558Z"
   },
   {
    "duration": 0,
    "start_time": "2023-02-23T19:12:54.560Z"
   },
   {
    "duration": 0,
    "start_time": "2023-02-23T19:12:54.562Z"
   },
   {
    "duration": 0,
    "start_time": "2023-02-23T19:12:54.563Z"
   },
   {
    "duration": 0,
    "start_time": "2023-02-23T19:12:54.565Z"
   },
   {
    "duration": 0,
    "start_time": "2023-02-23T19:12:54.567Z"
   },
   {
    "duration": 0,
    "start_time": "2023-02-23T19:12:54.568Z"
   },
   {
    "duration": 0,
    "start_time": "2023-02-23T19:12:54.569Z"
   },
   {
    "duration": 0,
    "start_time": "2023-02-23T19:12:54.571Z"
   },
   {
    "duration": 0,
    "start_time": "2023-02-23T19:12:54.572Z"
   },
   {
    "duration": 0,
    "start_time": "2023-02-23T19:12:54.573Z"
   },
   {
    "duration": 1535,
    "start_time": "2023-02-23T19:13:55.498Z"
   },
   {
    "duration": 3,
    "start_time": "2023-02-23T19:13:57.034Z"
   },
   {
    "duration": 6,
    "start_time": "2023-02-23T19:13:57.039Z"
   },
   {
    "duration": 49,
    "start_time": "2023-02-23T19:13:57.047Z"
   },
   {
    "duration": 10,
    "start_time": "2023-02-23T19:13:57.098Z"
   },
   {
    "duration": 10,
    "start_time": "2023-02-23T19:13:57.110Z"
   },
   {
    "duration": 14,
    "start_time": "2023-02-23T19:13:57.122Z"
   },
   {
    "duration": 12,
    "start_time": "2023-02-23T19:13:57.138Z"
   },
   {
    "duration": 11,
    "start_time": "2023-02-23T19:13:57.152Z"
   },
   {
    "duration": 8,
    "start_time": "2023-02-23T19:13:57.165Z"
   },
   {
    "duration": 11,
    "start_time": "2023-02-23T19:13:57.174Z"
   },
   {
    "duration": 10,
    "start_time": "2023-02-23T19:13:57.187Z"
   },
   {
    "duration": 9,
    "start_time": "2023-02-23T19:13:57.200Z"
   },
   {
    "duration": 399,
    "start_time": "2023-02-23T19:13:57.210Z"
   },
   {
    "duration": 442,
    "start_time": "2023-02-23T19:13:57.610Z"
   },
   {
    "duration": 318,
    "start_time": "2023-02-23T19:13:58.054Z"
   },
   {
    "duration": 253,
    "start_time": "2023-02-23T19:13:58.373Z"
   },
   {
    "duration": 317,
    "start_time": "2023-02-23T19:13:58.627Z"
   },
   {
    "duration": 326,
    "start_time": "2023-02-23T19:13:58.945Z"
   },
   {
    "duration": 5,
    "start_time": "2023-02-23T19:13:59.273Z"
   },
   {
    "duration": 26,
    "start_time": "2023-02-23T19:13:59.279Z"
   },
   {
    "duration": 9,
    "start_time": "2023-02-23T19:13:59.306Z"
   },
   {
    "duration": 5,
    "start_time": "2023-02-23T19:13:59.316Z"
   },
   {
    "duration": 31,
    "start_time": "2023-02-23T19:13:59.323Z"
   },
   {
    "duration": 92,
    "start_time": "2023-02-23T19:13:59.356Z"
   },
   {
    "duration": 0,
    "start_time": "2023-02-23T19:13:59.449Z"
   },
   {
    "duration": 0,
    "start_time": "2023-02-23T19:13:59.451Z"
   },
   {
    "duration": 0,
    "start_time": "2023-02-23T19:13:59.458Z"
   },
   {
    "duration": 0,
    "start_time": "2023-02-23T19:13:59.460Z"
   },
   {
    "duration": 0,
    "start_time": "2023-02-23T19:13:59.462Z"
   },
   {
    "duration": 0,
    "start_time": "2023-02-23T19:13:59.463Z"
   },
   {
    "duration": 0,
    "start_time": "2023-02-23T19:13:59.464Z"
   },
   {
    "duration": 0,
    "start_time": "2023-02-23T19:13:59.466Z"
   },
   {
    "duration": 0,
    "start_time": "2023-02-23T19:13:59.467Z"
   },
   {
    "duration": 0,
    "start_time": "2023-02-23T19:13:59.469Z"
   },
   {
    "duration": 0,
    "start_time": "2023-02-23T19:13:59.470Z"
   },
   {
    "duration": 0,
    "start_time": "2023-02-23T19:13:59.472Z"
   },
   {
    "duration": 0,
    "start_time": "2023-02-23T19:13:59.473Z"
   },
   {
    "duration": 0,
    "start_time": "2023-02-23T19:13:59.475Z"
   },
   {
    "duration": 0,
    "start_time": "2023-02-23T19:13:59.476Z"
   },
   {
    "duration": 0,
    "start_time": "2023-02-23T19:13:59.477Z"
   },
   {
    "duration": 0,
    "start_time": "2023-02-23T19:13:59.478Z"
   },
   {
    "duration": 1718,
    "start_time": "2023-02-23T19:14:18.644Z"
   },
   {
    "duration": 4,
    "start_time": "2023-02-23T19:14:20.365Z"
   },
   {
    "duration": 14,
    "start_time": "2023-02-23T19:14:20.371Z"
   },
   {
    "duration": 61,
    "start_time": "2023-02-23T19:14:20.387Z"
   },
   {
    "duration": 14,
    "start_time": "2023-02-23T19:14:20.452Z"
   },
   {
    "duration": 23,
    "start_time": "2023-02-23T19:14:20.468Z"
   },
   {
    "duration": 19,
    "start_time": "2023-02-23T19:14:20.492Z"
   },
   {
    "duration": 18,
    "start_time": "2023-02-23T19:14:20.512Z"
   },
   {
    "duration": 18,
    "start_time": "2023-02-23T19:14:20.532Z"
   },
   {
    "duration": 10,
    "start_time": "2023-02-23T19:14:20.552Z"
   },
   {
    "duration": 27,
    "start_time": "2023-02-23T19:14:20.564Z"
   },
   {
    "duration": 19,
    "start_time": "2023-02-23T19:14:20.593Z"
   },
   {
    "duration": 7,
    "start_time": "2023-02-23T19:14:20.614Z"
   },
   {
    "duration": 381,
    "start_time": "2023-02-23T19:14:20.624Z"
   },
   {
    "duration": 425,
    "start_time": "2023-02-23T19:14:21.007Z"
   },
   {
    "duration": 352,
    "start_time": "2023-02-23T19:14:21.433Z"
   },
   {
    "duration": 240,
    "start_time": "2023-02-23T19:14:21.786Z"
   },
   {
    "duration": 338,
    "start_time": "2023-02-23T19:14:22.028Z"
   },
   {
    "duration": 336,
    "start_time": "2023-02-23T19:14:22.369Z"
   },
   {
    "duration": 5,
    "start_time": "2023-02-23T19:14:22.707Z"
   },
   {
    "duration": 94,
    "start_time": "2023-02-23T19:14:22.714Z"
   },
   {
    "duration": 9,
    "start_time": "2023-02-23T19:14:22.810Z"
   },
   {
    "duration": 4,
    "start_time": "2023-02-23T19:14:22.820Z"
   },
   {
    "duration": 13,
    "start_time": "2023-02-23T19:14:22.826Z"
   },
   {
    "duration": 15,
    "start_time": "2023-02-23T19:14:22.840Z"
   },
   {
    "duration": 20,
    "start_time": "2023-02-23T19:14:22.856Z"
   },
   {
    "duration": 9,
    "start_time": "2023-02-23T19:14:22.878Z"
   },
   {
    "duration": 7,
    "start_time": "2023-02-23T19:14:22.888Z"
   },
   {
    "duration": 151,
    "start_time": "2023-02-23T19:14:22.897Z"
   },
   {
    "duration": 5788,
    "start_time": "2023-02-23T19:14:23.050Z"
   },
   {
    "duration": 45484,
    "start_time": "2023-02-23T19:14:28.840Z"
   },
   {
    "duration": 104,
    "start_time": "2023-02-23T19:15:14.326Z"
   },
   {
    "duration": 783,
    "start_time": "2023-02-23T19:15:14.432Z"
   },
   {
    "duration": 286638,
    "start_time": "2023-02-23T19:15:15.217Z"
   },
   {
    "duration": 243202,
    "start_time": "2023-02-23T19:20:01.857Z"
   },
   {
    "duration": 7249,
    "start_time": "2023-02-23T19:24:05.063Z"
   },
   {
    "duration": 18081,
    "start_time": "2023-02-23T19:24:12.313Z"
   },
   {
    "duration": 15360,
    "start_time": "2023-02-23T19:24:30.396Z"
   },
   {
    "duration": 12,
    "start_time": "2023-02-23T19:24:45.758Z"
   },
   {
    "duration": 18177,
    "start_time": "2023-02-23T19:24:45.771Z"
   },
   {
    "duration": 276,
    "start_time": "2023-02-23T19:25:03.953Z"
   },
   {
    "duration": 2646,
    "start_time": "2023-02-23T20:32:57.442Z"
   },
   {
    "duration": 3,
    "start_time": "2023-02-23T20:33:00.090Z"
   },
   {
    "duration": 9,
    "start_time": "2023-02-23T20:33:00.096Z"
   },
   {
    "duration": 40,
    "start_time": "2023-02-23T20:33:01.383Z"
   },
   {
    "duration": 10,
    "start_time": "2023-02-23T20:33:30.277Z"
   },
   {
    "duration": 7,
    "start_time": "2023-02-23T20:33:30.723Z"
   },
   {
    "duration": 14,
    "start_time": "2023-02-23T20:33:30.937Z"
   },
   {
    "duration": 13,
    "start_time": "2023-02-23T20:33:31.344Z"
   },
   {
    "duration": 12,
    "start_time": "2023-02-23T20:33:33.257Z"
   },
   {
    "duration": 8,
    "start_time": "2023-02-23T20:33:34.318Z"
   },
   {
    "duration": 10,
    "start_time": "2023-02-23T20:33:35.446Z"
   },
   {
    "duration": 13,
    "start_time": "2023-02-23T20:33:37.369Z"
   },
   {
    "duration": 19,
    "start_time": "2023-02-23T20:35:30.385Z"
   },
   {
    "duration": 331,
    "start_time": "2023-02-23T20:35:30.971Z"
   },
   {
    "duration": 393,
    "start_time": "2023-02-23T20:35:32.397Z"
   },
   {
    "duration": 288,
    "start_time": "2023-02-23T20:35:34.256Z"
   },
   {
    "duration": 209,
    "start_time": "2023-02-23T20:35:34.553Z"
   },
   {
    "duration": 341,
    "start_time": "2023-02-23T20:35:39.440Z"
   },
   {
    "duration": 295,
    "start_time": "2023-02-23T20:35:39.784Z"
   },
   {
    "duration": 4,
    "start_time": "2023-02-23T20:36:28.398Z"
   },
   {
    "duration": 22,
    "start_time": "2023-02-23T20:37:36.292Z"
   },
   {
    "duration": 9,
    "start_time": "2023-02-23T20:37:56.039Z"
   },
   {
    "duration": 57,
    "start_time": "2023-02-24T12:46:19.564Z"
   },
   {
    "duration": 1782,
    "start_time": "2023-02-24T12:46:29.449Z"
   },
   {
    "duration": 236,
    "start_time": "2023-02-24T12:46:34.354Z"
   },
   {
    "duration": 61,
    "start_time": "2023-02-24T12:47:11.585Z"
   },
   {
    "duration": 1424,
    "start_time": "2023-02-24T12:50:51.466Z"
   },
   {
    "duration": 3,
    "start_time": "2023-02-24T12:50:52.892Z"
   },
   {
    "duration": 6,
    "start_time": "2023-02-24T12:50:52.897Z"
   },
   {
    "duration": 44,
    "start_time": "2023-02-24T12:50:52.905Z"
   },
   {
    "duration": 14,
    "start_time": "2023-02-24T12:50:52.951Z"
   },
   {
    "duration": 19,
    "start_time": "2023-02-24T12:50:52.968Z"
   },
   {
    "duration": 19,
    "start_time": "2023-02-24T12:50:52.989Z"
   },
   {
    "duration": 34,
    "start_time": "2023-02-24T12:50:53.011Z"
   },
   {
    "duration": 17,
    "start_time": "2023-02-24T12:50:53.047Z"
   },
   {
    "duration": 8,
    "start_time": "2023-02-24T12:50:53.067Z"
   },
   {
    "duration": 25,
    "start_time": "2023-02-24T12:50:53.077Z"
   },
   {
    "duration": 12,
    "start_time": "2023-02-24T12:50:53.104Z"
   },
   {
    "duration": 28,
    "start_time": "2023-02-24T12:50:53.118Z"
   },
   {
    "duration": 369,
    "start_time": "2023-02-24T12:50:53.148Z"
   },
   {
    "duration": 434,
    "start_time": "2023-02-24T12:50:53.519Z"
   },
   {
    "duration": 332,
    "start_time": "2023-02-24T12:50:53.955Z"
   },
   {
    "duration": 266,
    "start_time": "2023-02-24T12:50:54.289Z"
   },
   {
    "duration": 341,
    "start_time": "2023-02-24T12:50:54.557Z"
   },
   {
    "duration": 357,
    "start_time": "2023-02-24T12:50:54.900Z"
   },
   {
    "duration": 5,
    "start_time": "2023-02-24T12:50:55.259Z"
   },
   {
    "duration": 38,
    "start_time": "2023-02-24T12:50:55.266Z"
   },
   {
    "duration": 10,
    "start_time": "2023-02-24T12:50:55.306Z"
   },
   {
    "duration": 23,
    "start_time": "2023-02-24T12:50:55.319Z"
   },
   {
    "duration": 56,
    "start_time": "2023-02-24T12:50:55.344Z"
   },
   {
    "duration": 11,
    "start_time": "2023-02-24T12:50:55.402Z"
   },
   {
    "duration": 12,
    "start_time": "2023-02-24T12:50:55.415Z"
   },
   {
    "duration": 14,
    "start_time": "2023-02-24T12:50:55.430Z"
   },
   {
    "duration": 7,
    "start_time": "2023-02-24T12:50:55.449Z"
   },
   {
    "duration": 94,
    "start_time": "2023-02-24T12:50:55.458Z"
   },
   {
    "duration": 5518,
    "start_time": "2023-02-24T12:50:55.641Z"
   },
   {
    "duration": 44649,
    "start_time": "2023-02-24T12:51:01.161Z"
   },
   {
    "duration": 112,
    "start_time": "2023-02-24T12:51:45.812Z"
   },
   {
    "duration": 782,
    "start_time": "2023-02-24T12:51:45.926Z"
   },
   {
    "duration": 195940,
    "start_time": "2023-02-24T12:51:46.710Z"
   },
   {
    "duration": 169201,
    "start_time": "2023-02-24T12:55:02.652Z"
   },
   {
    "duration": 8148,
    "start_time": "2023-02-24T12:57:51.854Z"
   },
   {
    "duration": 19667,
    "start_time": "2023-02-24T12:58:00.004Z"
   },
   {
    "duration": 17465,
    "start_time": "2023-02-24T12:58:19.673Z"
   },
   {
    "duration": 16,
    "start_time": "2023-02-24T12:58:37.152Z"
   },
   {
    "duration": 20414,
    "start_time": "2023-02-24T12:58:37.170Z"
   },
   {
    "duration": 307,
    "start_time": "2023-02-24T12:58:57.585Z"
   },
   {
    "duration": 2540,
    "start_time": "2023-02-24T15:18:24.000Z"
   },
   {
    "duration": 3,
    "start_time": "2023-02-24T15:18:26.543Z"
   },
   {
    "duration": 8,
    "start_time": "2023-02-24T15:18:26.547Z"
   },
   {
    "duration": 194,
    "start_time": "2023-02-24T15:18:26.557Z"
   },
   {
    "duration": 10,
    "start_time": "2023-02-24T15:18:26.753Z"
   },
   {
    "duration": 9,
    "start_time": "2023-02-24T15:18:26.764Z"
   },
   {
    "duration": 17,
    "start_time": "2023-02-24T15:18:26.775Z"
   },
   {
    "duration": 13,
    "start_time": "2023-02-24T15:18:26.794Z"
   },
   {
    "duration": 12,
    "start_time": "2023-02-24T15:18:26.809Z"
   },
   {
    "duration": 26,
    "start_time": "2023-02-24T15:18:26.823Z"
   },
   {
    "duration": 13,
    "start_time": "2023-02-24T15:18:26.851Z"
   },
   {
    "duration": 10,
    "start_time": "2023-02-24T15:18:27.255Z"
   },
   {
    "duration": 7,
    "start_time": "2023-02-24T15:18:28.550Z"
   },
   {
    "duration": 341,
    "start_time": "2023-02-24T15:18:28.715Z"
   },
   {
    "duration": 407,
    "start_time": "2023-02-24T15:18:29.397Z"
   },
   {
    "duration": 314,
    "start_time": "2023-02-24T15:18:29.806Z"
   },
   {
    "duration": 255,
    "start_time": "2023-02-24T15:18:30.123Z"
   },
   {
    "duration": 309,
    "start_time": "2023-02-24T15:18:30.566Z"
   },
   {
    "duration": 325,
    "start_time": "2023-02-24T15:18:32.922Z"
   },
   {
    "duration": 3,
    "start_time": "2023-02-24T15:18:36.308Z"
   },
   {
    "duration": 20,
    "start_time": "2023-02-24T15:18:38.085Z"
   },
   {
    "duration": 8,
    "start_time": "2023-02-24T15:18:41.738Z"
   },
   {
    "duration": 37,
    "start_time": "2023-02-24T15:18:51.289Z"
   }
  ],
  "kernelspec": {
   "display_name": "Python 3 (ipykernel)",
   "language": "python",
   "name": "python3"
  },
  "language_info": {
   "codemirror_mode": {
    "name": "ipython",
    "version": 3
   },
   "file_extension": ".py",
   "mimetype": "text/x-python",
   "name": "python",
   "nbconvert_exporter": "python",
   "pygments_lexer": "ipython3",
   "version": "3.10.9"
  },
  "toc": {
   "base_numbering": 1,
   "nav_menu": {},
   "number_sections": true,
   "sideBar": true,
   "skip_h1_title": true,
   "title_cell": "Содержание",
   "title_sidebar": "Contents",
   "toc_cell": true,
   "toc_position": {
    "height": "calc(100% - 180px)",
    "left": "10px",
    "top": "150px",
    "width": "165px"
   },
   "toc_section_display": true,
   "toc_window_display": true
  }
 },
 "nbformat": 4,
 "nbformat_minor": 2
}
