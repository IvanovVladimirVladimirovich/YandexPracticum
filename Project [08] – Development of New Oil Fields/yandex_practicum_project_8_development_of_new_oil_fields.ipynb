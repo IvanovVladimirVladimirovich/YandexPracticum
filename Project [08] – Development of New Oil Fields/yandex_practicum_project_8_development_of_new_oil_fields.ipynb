{
 "cells": [
  {
   "cell_type": "markdown",
   "metadata": {},
   "source": [
    "# Выбор локации для скважины"
   ]
  },
  {
   "cell_type": "markdown",
   "metadata": {},
   "source": [
    "Допустим, вы работаете в добывающей компании «ГлавРосГосНефть». Нужно решить, где бурить новую скважину.\n",
    "\n",
    "Вам предоставлены пробы нефти в трёх регионах: в каждом 10 000 месторождений, где измерили качество нефти и объём её запасов. Постройте модель машинного обучения, которая поможет определить регион, где добыча принесёт наибольшую прибыль. Проанализируйте возможную прибыль и риски техникой *Bootstrap.*\n",
    "\n",
    "Шаги для выбора локации:\n",
    "\n",
    "- В избранном регионе ищут месторождения, для каждого определяют значения признаков;\n",
    "- Строят модель и оценивают объём запасов;\n",
    "- Выбирают месторождения с самым высокими оценками значений. Количество месторождений зависит от бюджета компании и стоимости разработки одной скважины;\n",
    "- Прибыль равна суммарной прибыли отобранных месторождений."
   ]
  },
  {
   "cell_type": "markdown",
   "metadata": {},
   "source": [
    "## Загрузка и подготовка данных"
   ]
  },
  {
   "cell_type": "code",
   "execution_count": 1,
   "metadata": {},
   "outputs": [],
   "source": [
    "import pandas as pd\n",
    "import numpy as np\n",
    "from sklearn.model_selection import train_test_split\n",
    "from sklearn.linear_model import LinearRegression\n",
    "from sklearn.metrics import mean_squared_error\n",
    "from numpy.random import RandomState\n",
    "\n",
    "RANDOM_STATE = 12345"
   ]
  },
  {
   "cell_type": "code",
   "execution_count": 2,
   "metadata": {},
   "outputs": [],
   "source": [
    "data_0 = pd.read_csv(\"/datasets/geo_data_0.csv\")\n",
    "data_1 = pd.read_csv(\"/datasets/geo_data_1.csv\")\n",
    "data_2 = pd.read_csv(\"/datasets/geo_data_2.csv\")"
   ]
  },
  {
   "cell_type": "code",
   "execution_count": 3,
   "metadata": {},
   "outputs": [
    {
     "name": "stdout",
     "output_type": "stream",
     "text": [
      "<class 'pandas.core.frame.DataFrame'>\n",
      "RangeIndex: 100000 entries, 0 to 99999\n",
      "Data columns (total 5 columns):\n",
      " #   Column   Non-Null Count   Dtype  \n",
      "---  ------   --------------   -----  \n",
      " 0   id       100000 non-null  object \n",
      " 1   f0       100000 non-null  float64\n",
      " 2   f1       100000 non-null  float64\n",
      " 3   f2       100000 non-null  float64\n",
      " 4   product  100000 non-null  float64\n",
      "dtypes: float64(4), object(1)\n",
      "memory usage: 3.8+ MB\n"
     ]
    },
    {
     "data": {
      "text/plain": [
       "None"
      ]
     },
     "metadata": {},
     "output_type": "display_data"
    }
   ],
   "source": [
    "display(data_0.info())"
   ]
  },
  {
   "cell_type": "code",
   "execution_count": 4,
   "metadata": {},
   "outputs": [
    {
     "name": "stdout",
     "output_type": "stream",
     "text": [
      "<class 'pandas.core.frame.DataFrame'>\n",
      "RangeIndex: 100000 entries, 0 to 99999\n",
      "Data columns (total 5 columns):\n",
      " #   Column   Non-Null Count   Dtype  \n",
      "---  ------   --------------   -----  \n",
      " 0   id       100000 non-null  object \n",
      " 1   f0       100000 non-null  float64\n",
      " 2   f1       100000 non-null  float64\n",
      " 3   f2       100000 non-null  float64\n",
      " 4   product  100000 non-null  float64\n",
      "dtypes: float64(4), object(1)\n",
      "memory usage: 3.8+ MB\n"
     ]
    },
    {
     "data": {
      "text/plain": [
       "None"
      ]
     },
     "metadata": {},
     "output_type": "display_data"
    }
   ],
   "source": [
    "display(data_1.info())"
   ]
  },
  {
   "cell_type": "code",
   "execution_count": 5,
   "metadata": {
    "scrolled": false
   },
   "outputs": [
    {
     "name": "stdout",
     "output_type": "stream",
     "text": [
      "<class 'pandas.core.frame.DataFrame'>\n",
      "RangeIndex: 100000 entries, 0 to 99999\n",
      "Data columns (total 5 columns):\n",
      " #   Column   Non-Null Count   Dtype  \n",
      "---  ------   --------------   -----  \n",
      " 0   id       100000 non-null  object \n",
      " 1   f0       100000 non-null  float64\n",
      " 2   f1       100000 non-null  float64\n",
      " 3   f2       100000 non-null  float64\n",
      " 4   product  100000 non-null  float64\n",
      "dtypes: float64(4), object(1)\n",
      "memory usage: 3.8+ MB\n"
     ]
    },
    {
     "data": {
      "text/plain": [
       "None"
      ]
     },
     "metadata": {},
     "output_type": "display_data"
    }
   ],
   "source": [
    "display(data_2.info())"
   ]
  },
  {
   "cell_type": "code",
   "execution_count": 6,
   "metadata": {
    "scrolled": false
   },
   "outputs": [
    {
     "data": {
      "text/html": [
       "<div>\n",
       "<style scoped>\n",
       "    .dataframe tbody tr th:only-of-type {\n",
       "        vertical-align: middle;\n",
       "    }\n",
       "\n",
       "    .dataframe tbody tr th {\n",
       "        vertical-align: top;\n",
       "    }\n",
       "\n",
       "    .dataframe thead th {\n",
       "        text-align: right;\n",
       "    }\n",
       "</style>\n",
       "<table border=\"1\" class=\"dataframe\">\n",
       "  <thead>\n",
       "    <tr style=\"text-align: right;\">\n",
       "      <th></th>\n",
       "      <th>id</th>\n",
       "      <th>f0</th>\n",
       "      <th>f1</th>\n",
       "      <th>f2</th>\n",
       "      <th>product</th>\n",
       "    </tr>\n",
       "  </thead>\n",
       "  <tbody>\n",
       "    <tr>\n",
       "      <th>0</th>\n",
       "      <td>txEyH</td>\n",
       "      <td>0.705745</td>\n",
       "      <td>-0.497823</td>\n",
       "      <td>1.221170</td>\n",
       "      <td>105.280062</td>\n",
       "    </tr>\n",
       "    <tr>\n",
       "      <th>1</th>\n",
       "      <td>2acmU</td>\n",
       "      <td>1.334711</td>\n",
       "      <td>-0.340164</td>\n",
       "      <td>4.365080</td>\n",
       "      <td>73.037750</td>\n",
       "    </tr>\n",
       "    <tr>\n",
       "      <th>2</th>\n",
       "      <td>409Wp</td>\n",
       "      <td>1.022732</td>\n",
       "      <td>0.151990</td>\n",
       "      <td>1.419926</td>\n",
       "      <td>85.265647</td>\n",
       "    </tr>\n",
       "    <tr>\n",
       "      <th>3</th>\n",
       "      <td>iJLyR</td>\n",
       "      <td>-0.032172</td>\n",
       "      <td>0.139033</td>\n",
       "      <td>2.978566</td>\n",
       "      <td>168.620776</td>\n",
       "    </tr>\n",
       "    <tr>\n",
       "      <th>4</th>\n",
       "      <td>Xdl7t</td>\n",
       "      <td>1.988431</td>\n",
       "      <td>0.155413</td>\n",
       "      <td>4.751769</td>\n",
       "      <td>154.036647</td>\n",
       "    </tr>\n",
       "  </tbody>\n",
       "</table>\n",
       "</div>"
      ],
      "text/plain": [
       "      id        f0        f1        f2     product\n",
       "0  txEyH  0.705745 -0.497823  1.221170  105.280062\n",
       "1  2acmU  1.334711 -0.340164  4.365080   73.037750\n",
       "2  409Wp  1.022732  0.151990  1.419926   85.265647\n",
       "3  iJLyR -0.032172  0.139033  2.978566  168.620776\n",
       "4  Xdl7t  1.988431  0.155413  4.751769  154.036647"
      ]
     },
     "metadata": {},
     "output_type": "display_data"
    },
    {
     "data": {
      "text/html": [
       "<div>\n",
       "<style scoped>\n",
       "    .dataframe tbody tr th:only-of-type {\n",
       "        vertical-align: middle;\n",
       "    }\n",
       "\n",
       "    .dataframe tbody tr th {\n",
       "        vertical-align: top;\n",
       "    }\n",
       "\n",
       "    .dataframe thead th {\n",
       "        text-align: right;\n",
       "    }\n",
       "</style>\n",
       "<table border=\"1\" class=\"dataframe\">\n",
       "  <thead>\n",
       "    <tr style=\"text-align: right;\">\n",
       "      <th></th>\n",
       "      <th>id</th>\n",
       "      <th>f0</th>\n",
       "      <th>f1</th>\n",
       "      <th>f2</th>\n",
       "      <th>product</th>\n",
       "    </tr>\n",
       "  </thead>\n",
       "  <tbody>\n",
       "    <tr>\n",
       "      <th>0</th>\n",
       "      <td>kBEdx</td>\n",
       "      <td>-15.001348</td>\n",
       "      <td>-8.276000</td>\n",
       "      <td>-0.005876</td>\n",
       "      <td>3.179103</td>\n",
       "    </tr>\n",
       "    <tr>\n",
       "      <th>1</th>\n",
       "      <td>62mP7</td>\n",
       "      <td>14.272088</td>\n",
       "      <td>-3.475083</td>\n",
       "      <td>0.999183</td>\n",
       "      <td>26.953261</td>\n",
       "    </tr>\n",
       "    <tr>\n",
       "      <th>2</th>\n",
       "      <td>vyE1P</td>\n",
       "      <td>6.263187</td>\n",
       "      <td>-5.948386</td>\n",
       "      <td>5.001160</td>\n",
       "      <td>134.766305</td>\n",
       "    </tr>\n",
       "    <tr>\n",
       "      <th>3</th>\n",
       "      <td>KcrkZ</td>\n",
       "      <td>-13.081196</td>\n",
       "      <td>-11.506057</td>\n",
       "      <td>4.999415</td>\n",
       "      <td>137.945408</td>\n",
       "    </tr>\n",
       "    <tr>\n",
       "      <th>4</th>\n",
       "      <td>AHL4O</td>\n",
       "      <td>12.702195</td>\n",
       "      <td>-8.147433</td>\n",
       "      <td>5.004363</td>\n",
       "      <td>134.766305</td>\n",
       "    </tr>\n",
       "  </tbody>\n",
       "</table>\n",
       "</div>"
      ],
      "text/plain": [
       "      id         f0         f1        f2     product\n",
       "0  kBEdx -15.001348  -8.276000 -0.005876    3.179103\n",
       "1  62mP7  14.272088  -3.475083  0.999183   26.953261\n",
       "2  vyE1P   6.263187  -5.948386  5.001160  134.766305\n",
       "3  KcrkZ -13.081196 -11.506057  4.999415  137.945408\n",
       "4  AHL4O  12.702195  -8.147433  5.004363  134.766305"
      ]
     },
     "metadata": {},
     "output_type": "display_data"
    },
    {
     "data": {
      "text/html": [
       "<div>\n",
       "<style scoped>\n",
       "    .dataframe tbody tr th:only-of-type {\n",
       "        vertical-align: middle;\n",
       "    }\n",
       "\n",
       "    .dataframe tbody tr th {\n",
       "        vertical-align: top;\n",
       "    }\n",
       "\n",
       "    .dataframe thead th {\n",
       "        text-align: right;\n",
       "    }\n",
       "</style>\n",
       "<table border=\"1\" class=\"dataframe\">\n",
       "  <thead>\n",
       "    <tr style=\"text-align: right;\">\n",
       "      <th></th>\n",
       "      <th>id</th>\n",
       "      <th>f0</th>\n",
       "      <th>f1</th>\n",
       "      <th>f2</th>\n",
       "      <th>product</th>\n",
       "    </tr>\n",
       "  </thead>\n",
       "  <tbody>\n",
       "    <tr>\n",
       "      <th>0</th>\n",
       "      <td>fwXo0</td>\n",
       "      <td>-1.146987</td>\n",
       "      <td>0.963328</td>\n",
       "      <td>-0.828965</td>\n",
       "      <td>27.758673</td>\n",
       "    </tr>\n",
       "    <tr>\n",
       "      <th>1</th>\n",
       "      <td>WJtFt</td>\n",
       "      <td>0.262778</td>\n",
       "      <td>0.269839</td>\n",
       "      <td>-2.530187</td>\n",
       "      <td>56.069697</td>\n",
       "    </tr>\n",
       "    <tr>\n",
       "      <th>2</th>\n",
       "      <td>ovLUW</td>\n",
       "      <td>0.194587</td>\n",
       "      <td>0.289035</td>\n",
       "      <td>-5.586433</td>\n",
       "      <td>62.871910</td>\n",
       "    </tr>\n",
       "    <tr>\n",
       "      <th>3</th>\n",
       "      <td>q6cA6</td>\n",
       "      <td>2.236060</td>\n",
       "      <td>-0.553760</td>\n",
       "      <td>0.930038</td>\n",
       "      <td>114.572842</td>\n",
       "    </tr>\n",
       "    <tr>\n",
       "      <th>4</th>\n",
       "      <td>WPMUX</td>\n",
       "      <td>-0.515993</td>\n",
       "      <td>1.716266</td>\n",
       "      <td>5.899011</td>\n",
       "      <td>149.600746</td>\n",
       "    </tr>\n",
       "  </tbody>\n",
       "</table>\n",
       "</div>"
      ],
      "text/plain": [
       "      id        f0        f1        f2     product\n",
       "0  fwXo0 -1.146987  0.963328 -0.828965   27.758673\n",
       "1  WJtFt  0.262778  0.269839 -2.530187   56.069697\n",
       "2  ovLUW  0.194587  0.289035 -5.586433   62.871910\n",
       "3  q6cA6  2.236060 -0.553760  0.930038  114.572842\n",
       "4  WPMUX -0.515993  1.716266  5.899011  149.600746"
      ]
     },
     "metadata": {},
     "output_type": "display_data"
    }
   ],
   "source": [
    "display(data_0.head())\n",
    "display(data_1.head())\n",
    "display(data_2.head())"
   ]
  },
  {
   "cell_type": "code",
   "execution_count": 7,
   "metadata": {
    "scrolled": true
   },
   "outputs": [
    {
     "data": {
      "text/plain": [
       "0"
      ]
     },
     "metadata": {},
     "output_type": "display_data"
    },
    {
     "data": {
      "text/plain": [
       "0"
      ]
     },
     "metadata": {},
     "output_type": "display_data"
    },
    {
     "data": {
      "text/plain": [
       "0"
      ]
     },
     "metadata": {},
     "output_type": "display_data"
    }
   ],
   "source": [
    "display(data_0.duplicated().sum())\n",
    "display(data_1.duplicated().sum())\n",
    "display(data_2.duplicated().sum())"
   ]
  },
  {
   "cell_type": "markdown",
   "metadata": {},
   "source": [
    "**Вывод:**"
   ]
  },
  {
   "cell_type": "markdown",
   "metadata": {},
   "source": [
    "Как видно из анализа, данных больше чем предполагалось. Было заявлено 10.000, а на самом деле 100.000\n",
    "Однако, данные (тип данных) соответствуют описанию по своему наполнению, не имеют пропусков и дубликатов. Можно приступать к моделированию. "
   ]
  },
  {
   "cell_type": "markdown",
   "metadata": {},
   "source": [
    "## Обучение и проверка модели"
   ]
  },
  {
   "cell_type": "markdown",
   "metadata": {},
   "source": [
    "Так как нам нужно произвести разделение данных на тренировочную и валидационую выборку для всех данных, а позже построить модель, то лучше всего создать функцию и прогнать через нее все три группы данных. Результатом будет значение RMSE и средний запас предсказаного сырья."
   ]
  },
  {
   "cell_type": "code",
   "execution_count": 8,
   "metadata": {},
   "outputs": [],
   "source": [
    "def predict(data):\n",
    "    features = data.drop([\"product\",\"id\"], axis = 1)\n",
    "    target = data[\"product\"]\n",
    "    \n",
    "    features_train, features_valid, target_train, target_valid = train_test_split(\n",
    "    features, target, test_size=0.25, random_state=RANDOM_STATE)\n",
    "    \n",
    "    model = LinearRegression()\n",
    "    model.fit(features_train,target_train)\n",
    "    predictions = model.predict(features_valid)\n",
    "    \n",
    "    RMSE = (mean_squared_error(target_valid,predictions)**0.5)\n",
    "    print(\"RMSE:\",round(RMSE,2))\n",
    "    print(\"Средний запас предсказаного сырья\",round(predictions.mean(),2),\"тыс. баррелей\")\n",
    "    \n",
    "    return target_valid, predictions"
   ]
  },
  {
   "cell_type": "code",
   "execution_count": 9,
   "metadata": {
    "scrolled": false
   },
   "outputs": [
    {
     "name": "stdout",
     "output_type": "stream",
     "text": [
      "RMSE: 37.58\n",
      "Средний запас предсказаного сырья 92.59 тыс. баррелей\n"
     ]
    }
   ],
   "source": [
    "data_0_target_valid, data_0_predictions = predict(data_0)"
   ]
  },
  {
   "cell_type": "code",
   "execution_count": 10,
   "metadata": {},
   "outputs": [
    {
     "name": "stdout",
     "output_type": "stream",
     "text": [
      "RMSE: 0.89\n",
      "Средний запас предсказаного сырья 68.73 тыс. баррелей\n"
     ]
    }
   ],
   "source": [
    "data_1_target_valid, data_1_predictions = predict(data_1)"
   ]
  },
  {
   "cell_type": "code",
   "execution_count": 11,
   "metadata": {},
   "outputs": [
    {
     "name": "stdout",
     "output_type": "stream",
     "text": [
      "RMSE: 40.03\n",
      "Средний запас предсказаного сырья 94.97 тыс. баррелей\n"
     ]
    }
   ],
   "source": [
    "data_2_target_valid, data_2_predictions = predict(data_2)"
   ]
  },
  {
   "cell_type": "markdown",
   "metadata": {},
   "source": [
    "**Вывод:**"
   ]
  },
  {
   "cell_type": "markdown",
   "metadata": {},
   "source": [
    "Самый низкий показатель запаса по сырью имеет 1 регион (68.7 тыс. баррелей), однако значение RMSE тоже низкое и составляет всего 0.89, что говорит о хорошо построенной модели. \n",
    "\n",
    "Остальные регионы 0 и 2, имеют почти на 35% больше сырья, 92.59 и 94.97 тыс. баррелей соответственно. Однако, точность моделей хромает со значениями RMSE 37.58 для 0 группы и 40.03 для 2 группы. Поэтому, не стоит брать высокое значение по сырью в серьоз. "
   ]
  },
  {
   "cell_type": "markdown",
   "metadata": {},
   "source": [
    "## Подготовка к расчёту прибыли"
   ]
  },
  {
   "cell_type": "markdown",
   "metadata": {},
   "source": [
    "Проведем расчет нужного количества сырья для прибольной скважены:"
   ]
  },
  {
   "cell_type": "code",
   "execution_count": 12,
   "metadata": {},
   "outputs": [],
   "source": [
    "budget = 10*10**9\n",
    "best_wells = 200\n",
    "sample_wells = 500\n",
    "unit_income = 450000\n",
    "min_product_amount = budget/(best_wells*unit_income)"
   ]
  },
  {
   "cell_type": "code",
   "execution_count": 13,
   "metadata": {},
   "outputs": [
    {
     "name": "stdout",
     "output_type": "stream",
     "text": [
      "Минимально требованный объем с одной скважины: 111.11 тыс. баррелей\n"
     ]
    }
   ],
   "source": [
    "print(\"Минимально требованный объем с одной скважины:\",round(min_product_amount,2),\"тыс. баррелей\")"
   ]
  },
  {
   "cell_type": "markdown",
   "metadata": {},
   "source": [
    "**Вывод:**"
   ]
  },
  {
   "cell_type": "markdown",
   "metadata": {},
   "source": [
    "Минимальный объем сырья для прибыльной скважины равен 111.11 тыс. баррелей. Данное значение выше, чем все средние объёмы сырья полученные в разделе 2."
   ]
  },
  {
   "cell_type": "markdown",
   "metadata": {},
   "source": [
    "## Расчёт прибыли и рисков "
   ]
  },
  {
   "cell_type": "markdown",
   "metadata": {},
   "source": [
    "### Расчет прибыли"
   ]
  },
  {
   "cell_type": "markdown",
   "metadata": {},
   "source": [
    "Для подсчета прибыли для 200 (best_wells) лучших скважен из рандомных 500 (sample_wells), напишем функцию income(). \n",
    "Так же, для будущего bootstrap'а, добавим возможноть обращения к функции без вызова печати результатов за счет переменной show. "
   ]
  },
  {
   "cell_type": "code",
   "execution_count": 14,
   "metadata": {},
   "outputs": [],
   "source": [
    "def income(target,predictions,state,show=True):\n",
    "    \n",
    "    random_500_predictions = pd.Series(predictions).sample(n=sample_wells,replace=False,random_state=state)\n",
    "    top_200_predictions = random_500_predictions.sort_values(ascending=False)[:best_wells]\n",
    "    \n",
    "    top_200_predictions_mean = top_200_predictions.mean()\n",
    "    top_200_target = target.iloc[top_200_predictions.index]\n",
    "    \n",
    "    product_sum = top_200_target.sum()\n",
    "    income = product_sum * unit_income - budget\n",
    "    \n",
    "    if show:\n",
    "        print(\"Средний запас сырья среди топ 200 скважен:\",round(top_200_predictions_mean,2),\"тыс. баррелей\")\n",
    "        print(\"Общий объем сырья:\",round(product_sum,2),\"тыс. баррелей\")\n",
    "        print(\"Прибыль:\",round(income/10**6,2),\"млн.\")\n",
    "    else:\n",
    "        return income"
   ]
  },
  {
   "cell_type": "code",
   "execution_count": 15,
   "metadata": {},
   "outputs": [
    {
     "name": "stdout",
     "output_type": "stream",
     "text": [
      "Средний запас сырья среди топ 200 скважен: 116.73 тыс. баррелей\n",
      "Общий объем сырья: 23731.26 тыс. баррелей\n",
      "Прибыль: 679.07 млн.\n"
     ]
    }
   ],
   "source": [
    "income(data_0_target_valid,data_0_predictions,RANDOM_STATE)"
   ]
  },
  {
   "cell_type": "code",
   "execution_count": 16,
   "metadata": {},
   "outputs": [
    {
     "name": "stdout",
     "output_type": "stream",
     "text": [
      "Средний запас сырья среди топ 200 скважен: 119.77 тыс. баррелей\n",
      "Общий объем сырья: 23954.4 тыс. баррелей\n",
      "Прибыль: 779.48 млн.\n"
     ]
    }
   ],
   "source": [
    "income(data_1_target_valid,data_1_predictions,RANDOM_STATE)"
   ]
  },
  {
   "cell_type": "code",
   "execution_count": 17,
   "metadata": {
    "scrolled": true
   },
   "outputs": [
    {
     "name": "stdout",
     "output_type": "stream",
     "text": [
      "Средний запас сырья среди топ 200 скважен: 114.89 тыс. баррелей\n",
      "Общий объем сырья: 23199.98 тыс. баррелей\n",
      "Прибыль: 439.99 млн.\n"
     ]
    }
   ],
   "source": [
    "income(data_2_target_valid,data_2_predictions,RANDOM_STATE)"
   ]
  },
  {
   "cell_type": "markdown",
   "metadata": {},
   "source": [
    "### Расчет рисков"
   ]
  },
  {
   "cell_type": "markdown",
   "metadata": {},
   "source": [
    "Для подсчета доверительного интервала и риска применим технику Bootstrap в функции risk():"
   ]
  },
  {
   "cell_type": "code",
   "execution_count": 18,
   "metadata": {},
   "outputs": [],
   "source": [
    "def risk(target,predictions):\n",
    "    \n",
    "    bootstraps_samples = 1000\n",
    "    alpha = 0.05 \n",
    "    income_list = []\n",
    "    state = np.random.RandomState(RANDOM_STATE)\n",
    "    \n",
    "    for i in range(bootstraps_samples):\n",
    "        new_income = income(target,predictions,state,show=False)\n",
    "        income_list.append(new_income)\n",
    "        \n",
    "    income_list = pd.Series(income_list)\n",
    "    left = income_list.quantile(alpha/2)\n",
    "    right = income_list.quantile(1 - (alpha/2))\n",
    "    \n",
    "    count = 0 \n",
    "    for i in income_list: \n",
    "        if i < 0 :\n",
    "            count += 1\n",
    "\n",
    "    risk = count/bootstraps_samples\n",
    "    \n",
    "    print(\"Средняя прибыль:\",round(income_list.mean()/10**6,2),\"млн.\")\n",
    "    print(\"Доверительный интервал:\",round(left/10**6,2),\"-\",round(right/10**6,2),\"млн.\")\n",
    "    print(\"Риск:\",round(risk*100,2),\"%\")"
   ]
  },
  {
   "cell_type": "code",
   "execution_count": 19,
   "metadata": {},
   "outputs": [
    {
     "name": "stdout",
     "output_type": "stream",
     "text": [
      "Средняя прибыль: 380.71 млн.\n",
      "Доверительный интервал: -126.95 - 879.61 млн.\n",
      "Риск: 7.2 %\n"
     ]
    }
   ],
   "source": [
    "risk(data_0_target_valid,data_0_predictions)"
   ]
  },
  {
   "cell_type": "code",
   "execution_count": 20,
   "metadata": {},
   "outputs": [
    {
     "name": "stdout",
     "output_type": "stream",
     "text": [
      "Средняя прибыль: 448.23 млн.\n",
      "Доверительный интервал: 70.9 - 892.99 млн.\n",
      "Риск: 1.4 %\n"
     ]
    }
   ],
   "source": [
    "risk(data_1_target_valid,data_1_predictions)"
   ]
  },
  {
   "cell_type": "code",
   "execution_count": 21,
   "metadata": {},
   "outputs": [
    {
     "name": "stdout",
     "output_type": "stream",
     "text": [
      "Средняя прибыль: 402.8 млн.\n",
      "Доверительный интервал: -143.66 - 963.03 млн.\n",
      "Риск: 7.1 %\n"
     ]
    }
   ],
   "source": [
    "risk(data_2_target_valid,data_2_predictions)"
   ]
  },
  {
   "cell_type": "markdown",
   "metadata": {},
   "source": [
    "**Вывод:**"
   ]
  },
  {
   "cell_type": "markdown",
   "metadata": {},
   "source": [
    "Если брать 200 лучших скважен из 500 рандомных, то показатель среднего объема сырья уже будет составлять 116.73, 119.77 и 114.89 для групп 0, 1 и 2 соответственно. Данный показатель уже выше минимального нужного сырья для без убыточности из раздела 3. \n",
    "\n",
    "После проверки на риск, можно сделать вывод, что регион 1 лучше всего подходит для разработки. В этом регионе показал лучший интервал с без убыточными значения в 70.9 - 892.99 млн., с риском в 1.4%. Тогда как регионы 0 и 2 имеют высокие риски (7.2 и 7.1 соответственно) и в доверительном интервале присутствует убыточное значение. "
   ]
  },
  {
   "cell_type": "markdown",
   "metadata": {},
   "source": [
    "## Финальный Вывод"
   ]
  },
  {
   "cell_type": "markdown",
   "metadata": {},
   "source": [
    "Отвечая на главный вопрос по выбору региона для разработки, который принесет наибольшую прибыль, то однозначным выбором является **регион 1**. По технике Bootstrap, данный регион имеет самый высокий показатель средний прибыли среди всех регионов, с наилучшим доверительным интервалом в 70.9 - 892.99 млн. и риском 1.4%. Так же, модель по данному региону показала лучшую точность с RMSE = 0.89, что говорит о хорошей возможности данной модели для определения региона. "
   ]
  }
 ],
 "metadata": {
  "ExecuteTimeLog": [
   {
    "duration": 1486,
    "start_time": "2022-12-17T07:16:02.947Z"
   },
   {
    "duration": 110,
    "start_time": "2022-12-17T07:16:12.732Z"
   },
   {
    "duration": 1631,
    "start_time": "2022-12-17T07:16:39.629Z"
   },
   {
    "duration": 20,
    "start_time": "2022-12-17T07:16:43.511Z"
   },
   {
    "duration": 15,
    "start_time": "2022-12-17T07:16:43.948Z"
   },
   {
    "duration": 14,
    "start_time": "2022-12-17T07:16:44.495Z"
   },
   {
    "duration": 33,
    "start_time": "2022-12-17T07:17:08.971Z"
   },
   {
    "duration": 16,
    "start_time": "2022-12-17T07:19:01.658Z"
   },
   {
    "duration": 20,
    "start_time": "2022-12-17T07:23:57.959Z"
   },
   {
    "duration": 1321,
    "start_time": "2022-12-17T07:24:10.560Z"
   },
   {
    "duration": 368,
    "start_time": "2022-12-17T07:24:11.883Z"
   },
   {
    "duration": 17,
    "start_time": "2022-12-17T07:24:12.252Z"
   },
   {
    "duration": 15,
    "start_time": "2022-12-17T07:24:12.271Z"
   },
   {
    "duration": 37,
    "start_time": "2022-12-17T07:24:12.289Z"
   },
   {
    "duration": 30,
    "start_time": "2022-12-17T07:24:12.327Z"
   },
   {
    "duration": 10,
    "start_time": "2022-12-17T07:24:15.925Z"
   },
   {
    "duration": 110,
    "start_time": "2022-12-17T07:24:17.040Z"
   },
   {
    "duration": 752,
    "start_time": "2022-12-17T07:24:49.907Z"
   },
   {
    "duration": 49,
    "start_time": "2022-12-17T07:25:39.869Z"
   },
   {
    "duration": 1391,
    "start_time": "2022-12-17T07:25:56.091Z"
   },
   {
    "duration": 340,
    "start_time": "2022-12-17T07:25:57.484Z"
   },
   {
    "duration": 17,
    "start_time": "2022-12-17T07:25:57.825Z"
   },
   {
    "duration": 14,
    "start_time": "2022-12-17T07:25:57.843Z"
   },
   {
    "duration": 13,
    "start_time": "2022-12-17T07:25:57.859Z"
   },
   {
    "duration": 54,
    "start_time": "2022-12-17T07:25:57.873Z"
   },
   {
    "duration": 10,
    "start_time": "2022-12-17T07:25:57.928Z"
   },
   {
    "duration": 9,
    "start_time": "2022-12-17T07:26:00.689Z"
   },
   {
    "duration": 123,
    "start_time": "2022-12-17T07:26:01.526Z"
   },
   {
    "duration": 10,
    "start_time": "2022-12-17T07:26:23.542Z"
   },
   {
    "duration": 24,
    "start_time": "2022-12-17T07:26:24.256Z"
   },
   {
    "duration": 25,
    "start_time": "2022-12-17T07:26:54.237Z"
   },
   {
    "duration": 13,
    "start_time": "2022-12-17T07:27:03.229Z"
   },
   {
    "duration": 36,
    "start_time": "2022-12-17T07:27:23.460Z"
   },
   {
    "duration": 16,
    "start_time": "2022-12-17T07:34:11.634Z"
   },
   {
    "duration": 16,
    "start_time": "2022-12-17T07:34:44.119Z"
   },
   {
    "duration": 6,
    "start_time": "2022-12-17T07:40:32.514Z"
   },
   {
    "duration": 1294,
    "start_time": "2022-12-17T07:41:13.050Z"
   },
   {
    "duration": 366,
    "start_time": "2022-12-17T07:41:14.346Z"
   },
   {
    "duration": 17,
    "start_time": "2022-12-17T07:41:14.714Z"
   },
   {
    "duration": 14,
    "start_time": "2022-12-17T07:41:14.732Z"
   },
   {
    "duration": 14,
    "start_time": "2022-12-17T07:41:14.748Z"
   },
   {
    "duration": 51,
    "start_time": "2022-12-17T07:41:14.763Z"
   },
   {
    "duration": 6,
    "start_time": "2022-12-17T07:41:14.816Z"
   },
   {
    "duration": 69,
    "start_time": "2022-12-17T07:41:14.823Z"
   },
   {
    "duration": 118,
    "start_time": "2022-12-17T07:41:28.768Z"
   },
   {
    "duration": 52,
    "start_time": "2022-12-17T08:14:12.509Z"
   },
   {
    "duration": 1348,
    "start_time": "2022-12-17T08:14:15.801Z"
   },
   {
    "duration": 361,
    "start_time": "2022-12-17T08:14:17.151Z"
   },
   {
    "duration": 18,
    "start_time": "2022-12-17T08:14:17.514Z"
   },
   {
    "duration": 14,
    "start_time": "2022-12-17T08:14:17.534Z"
   },
   {
    "duration": 15,
    "start_time": "2022-12-17T08:14:17.550Z"
   },
   {
    "duration": 57,
    "start_time": "2022-12-17T08:14:17.566Z"
   },
   {
    "duration": 8,
    "start_time": "2022-12-17T08:14:17.625Z"
   },
   {
    "duration": 113,
    "start_time": "2022-12-17T08:14:17.635Z"
   },
   {
    "duration": 32,
    "start_time": "2022-12-17T08:14:20.302Z"
   },
   {
    "duration": 4,
    "start_time": "2022-12-17T08:16:11.100Z"
   },
   {
    "duration": 80,
    "start_time": "2022-12-17T08:16:13.734Z"
   },
   {
    "duration": 4,
    "start_time": "2022-12-17T08:16:29.753Z"
   },
   {
    "duration": 27,
    "start_time": "2022-12-17T08:16:31.725Z"
   },
   {
    "duration": 5,
    "start_time": "2022-12-17T08:22:50.233Z"
   },
   {
    "duration": 109,
    "start_time": "2022-12-17T08:22:52.615Z"
   },
   {
    "duration": 12,
    "start_time": "2022-12-17T08:23:39.836Z"
   },
   {
    "duration": 4,
    "start_time": "2022-12-17T08:24:01.966Z"
   },
   {
    "duration": 4,
    "start_time": "2022-12-17T08:24:05.051Z"
   },
   {
    "duration": 81,
    "start_time": "2022-12-17T08:24:07.733Z"
   },
   {
    "duration": 3,
    "start_time": "2022-12-17T08:24:16.473Z"
   },
   {
    "duration": 50,
    "start_time": "2022-12-17T08:24:18.766Z"
   },
   {
    "duration": 3,
    "start_time": "2022-12-17T08:59:16.665Z"
   },
   {
    "duration": 35,
    "start_time": "2022-12-17T08:59:19.894Z"
   },
   {
    "duration": 4,
    "start_time": "2022-12-17T09:01:05.677Z"
   },
   {
    "duration": 26,
    "start_time": "2022-12-17T09:01:07.569Z"
   },
   {
    "duration": 27,
    "start_time": "2022-12-17T09:01:08.143Z"
   },
   {
    "duration": 26,
    "start_time": "2022-12-17T09:01:08.545Z"
   },
   {
    "duration": 28,
    "start_time": "2022-12-17T09:01:17.626Z"
   },
   {
    "duration": 31,
    "start_time": "2022-12-17T09:01:18.659Z"
   },
   {
    "duration": 8,
    "start_time": "2022-12-17T09:08:20.216Z"
   },
   {
    "duration": 4,
    "start_time": "2022-12-17T09:09:14.706Z"
   },
   {
    "duration": 3,
    "start_time": "2022-12-17T09:09:33.626Z"
   },
   {
    "duration": 3,
    "start_time": "2022-12-17T09:09:50.775Z"
   },
   {
    "duration": 3,
    "start_time": "2022-12-17T09:09:52.499Z"
   },
   {
    "duration": 3,
    "start_time": "2022-12-17T09:11:21.934Z"
   },
   {
    "duration": 2,
    "start_time": "2022-12-17T09:11:23.574Z"
   },
   {
    "duration": 4,
    "start_time": "2022-12-17T09:12:46.941Z"
   },
   {
    "duration": 4,
    "start_time": "2022-12-17T09:13:17.726Z"
   },
   {
    "duration": 2,
    "start_time": "2022-12-17T09:16:18.777Z"
   },
   {
    "duration": 3,
    "start_time": "2022-12-17T09:16:19.490Z"
   },
   {
    "duration": 4,
    "start_time": "2022-12-17T09:21:42.672Z"
   },
   {
    "duration": 34,
    "start_time": "2022-12-17T09:21:43.960Z"
   },
   {
    "duration": 31,
    "start_time": "2022-12-17T09:21:44.670Z"
   },
   {
    "duration": 39,
    "start_time": "2022-12-17T09:21:47.292Z"
   },
   {
    "duration": 2,
    "start_time": "2022-12-17T09:31:23.288Z"
   },
   {
    "duration": 9,
    "start_time": "2022-12-17T09:59:05.089Z"
   },
   {
    "duration": 4,
    "start_time": "2022-12-17T09:59:09.090Z"
   },
   {
    "duration": 13,
    "start_time": "2022-12-17T09:59:09.755Z"
   },
   {
    "duration": 4,
    "start_time": "2022-12-17T10:00:12.407Z"
   },
   {
    "duration": 13,
    "start_time": "2022-12-17T10:00:13.105Z"
   },
   {
    "duration": 4,
    "start_time": "2022-12-17T10:01:16.569Z"
   },
   {
    "duration": 13,
    "start_time": "2022-12-17T10:01:17.235Z"
   },
   {
    "duration": 4,
    "start_time": "2022-12-17T10:02:09.141Z"
   },
   {
    "duration": 20,
    "start_time": "2022-12-17T10:02:09.641Z"
   },
   {
    "duration": 4,
    "start_time": "2022-12-17T10:02:25.504Z"
   },
   {
    "duration": 22,
    "start_time": "2022-12-17T10:02:25.838Z"
   },
   {
    "duration": 7,
    "start_time": "2022-12-17T10:05:33.273Z"
   },
   {
    "duration": 23,
    "start_time": "2022-12-17T10:05:34.122Z"
   },
   {
    "duration": 4,
    "start_time": "2022-12-17T10:06:31.608Z"
   },
   {
    "duration": 18,
    "start_time": "2022-12-17T10:06:32.174Z"
   },
   {
    "duration": 4,
    "start_time": "2022-12-17T10:07:10.953Z"
   },
   {
    "duration": 16,
    "start_time": "2022-12-17T10:07:11.339Z"
   },
   {
    "duration": 1300,
    "start_time": "2022-12-17T10:07:24.355Z"
   },
   {
    "duration": 360,
    "start_time": "2022-12-17T10:07:25.657Z"
   },
   {
    "duration": 18,
    "start_time": "2022-12-17T10:07:26.018Z"
   },
   {
    "duration": 14,
    "start_time": "2022-12-17T10:07:26.037Z"
   },
   {
    "duration": 14,
    "start_time": "2022-12-17T10:07:26.053Z"
   },
   {
    "duration": 48,
    "start_time": "2022-12-17T10:07:26.068Z"
   },
   {
    "duration": 4,
    "start_time": "2022-12-17T10:07:26.118Z"
   },
   {
    "duration": 34,
    "start_time": "2022-12-17T10:07:26.124Z"
   },
   {
    "duration": 157,
    "start_time": "2022-12-17T10:07:26.159Z"
   },
   {
    "duration": 227,
    "start_time": "2022-12-17T10:07:26.318Z"
   },
   {
    "duration": 71,
    "start_time": "2022-12-17T10:07:26.547Z"
   },
   {
    "duration": 4,
    "start_time": "2022-12-17T10:07:26.712Z"
   },
   {
    "duration": 4,
    "start_time": "2022-12-17T10:07:28.539Z"
   },
   {
    "duration": 110,
    "start_time": "2022-12-17T10:07:30.120Z"
   },
   {
    "duration": 4,
    "start_time": "2022-12-17T10:08:39.918Z"
   },
   {
    "duration": 20,
    "start_time": "2022-12-17T10:08:40.535Z"
   },
   {
    "duration": 5,
    "start_time": "2022-12-17T10:10:55.486Z"
   },
   {
    "duration": 14,
    "start_time": "2022-12-17T10:10:55.818Z"
   },
   {
    "duration": 4,
    "start_time": "2022-12-17T10:11:04.391Z"
   },
   {
    "duration": 23,
    "start_time": "2022-12-17T10:11:04.568Z"
   },
   {
    "duration": 68,
    "start_time": "2022-12-17T10:13:05.403Z"
   },
   {
    "duration": 21,
    "start_time": "2022-12-17T10:13:05.820Z"
   },
   {
    "duration": 1362,
    "start_time": "2022-12-17T10:15:53.918Z"
   },
   {
    "duration": 357,
    "start_time": "2022-12-17T10:15:55.282Z"
   },
   {
    "duration": 17,
    "start_time": "2022-12-17T10:15:55.640Z"
   },
   {
    "duration": 14,
    "start_time": "2022-12-17T10:15:55.658Z"
   },
   {
    "duration": 42,
    "start_time": "2022-12-17T10:15:55.673Z"
   },
   {
    "duration": 23,
    "start_time": "2022-12-17T10:15:55.716Z"
   },
   {
    "duration": 4,
    "start_time": "2022-12-17T10:15:55.741Z"
   },
   {
    "duration": 68,
    "start_time": "2022-12-17T10:15:55.747Z"
   },
   {
    "duration": 116,
    "start_time": "2022-12-17T10:15:55.816Z"
   },
   {
    "duration": 191,
    "start_time": "2022-12-17T10:15:55.934Z"
   },
   {
    "duration": 87,
    "start_time": "2022-12-17T10:15:56.129Z"
   },
   {
    "duration": 101,
    "start_time": "2022-12-17T10:15:56.218Z"
   },
   {
    "duration": 6,
    "start_time": "2022-12-17T10:15:56.321Z"
   },
   {
    "duration": 104,
    "start_time": "2022-12-17T10:15:56.539Z"
   },
   {
    "duration": 4,
    "start_time": "2022-12-17T10:16:14.105Z"
   },
   {
    "duration": 23,
    "start_time": "2022-12-17T10:16:14.611Z"
   },
   {
    "duration": 1420,
    "start_time": "2022-12-17T10:26:41.877Z"
   },
   {
    "duration": 371,
    "start_time": "2022-12-17T10:26:43.299Z"
   },
   {
    "duration": 18,
    "start_time": "2022-12-17T10:26:43.672Z"
   },
   {
    "duration": 24,
    "start_time": "2022-12-17T10:26:43.691Z"
   },
   {
    "duration": 15,
    "start_time": "2022-12-17T10:26:43.717Z"
   },
   {
    "duration": 22,
    "start_time": "2022-12-17T10:26:43.734Z"
   },
   {
    "duration": 4,
    "start_time": "2022-12-17T10:26:43.757Z"
   },
   {
    "duration": 60,
    "start_time": "2022-12-17T10:26:43.762Z"
   },
   {
    "duration": 196,
    "start_time": "2022-12-17T10:26:43.823Z"
   },
   {
    "duration": 203,
    "start_time": "2022-12-17T10:26:44.021Z"
   },
   {
    "duration": 84,
    "start_time": "2022-12-17T10:26:44.229Z"
   },
   {
    "duration": 101,
    "start_time": "2022-12-17T10:26:44.314Z"
   },
   {
    "duration": 909,
    "start_time": "2022-12-17T10:26:45.485Z"
   },
   {
    "duration": 4,
    "start_time": "2022-12-17T10:27:36.453Z"
   },
   {
    "duration": 4,
    "start_time": "2022-12-17T10:27:37.300Z"
   },
   {
    "duration": 4,
    "start_time": "2022-12-17T10:27:50.889Z"
   },
   {
    "duration": 16,
    "start_time": "2022-12-17T10:27:51.415Z"
   },
   {
    "duration": 1386,
    "start_time": "2022-12-17T10:28:09.021Z"
   },
   {
    "duration": 352,
    "start_time": "2022-12-17T10:28:10.410Z"
   },
   {
    "duration": 19,
    "start_time": "2022-12-17T10:28:10.763Z"
   },
   {
    "duration": 14,
    "start_time": "2022-12-17T10:28:10.784Z"
   },
   {
    "duration": 18,
    "start_time": "2022-12-17T10:28:10.813Z"
   },
   {
    "duration": 30,
    "start_time": "2022-12-17T10:28:10.832Z"
   },
   {
    "duration": 4,
    "start_time": "2022-12-17T10:28:10.863Z"
   },
   {
    "duration": 144,
    "start_time": "2022-12-17T10:28:10.869Z"
   },
   {
    "duration": 113,
    "start_time": "2022-12-17T10:28:11.015Z"
   },
   {
    "duration": 191,
    "start_time": "2022-12-17T10:28:11.131Z"
   },
   {
    "duration": 4,
    "start_time": "2022-12-17T10:28:11.323Z"
   },
   {
    "duration": 108,
    "start_time": "2022-12-17T10:28:11.413Z"
   },
   {
    "duration": 6,
    "start_time": "2022-12-17T10:28:11.523Z"
   },
   {
    "duration": 125,
    "start_time": "2022-12-17T10:28:11.531Z"
   },
   {
    "duration": 77,
    "start_time": "2022-12-17T10:32:01.235Z"
   },
   {
    "duration": 5,
    "start_time": "2022-12-17T10:32:08.914Z"
   },
   {
    "duration": 13,
    "start_time": "2022-12-17T10:32:09.632Z"
   },
   {
    "duration": 5,
    "start_time": "2022-12-17T10:32:18.735Z"
   },
   {
    "duration": 16,
    "start_time": "2022-12-17T10:32:19.148Z"
   },
   {
    "duration": 4,
    "start_time": "2022-12-17T10:32:35.766Z"
   },
   {
    "duration": 14,
    "start_time": "2022-12-17T10:32:36.181Z"
   },
   {
    "duration": 5,
    "start_time": "2022-12-17T10:33:17.183Z"
   },
   {
    "duration": 14,
    "start_time": "2022-12-17T10:33:17.601Z"
   },
   {
    "duration": 5,
    "start_time": "2022-12-17T10:33:37.301Z"
   },
   {
    "duration": 15,
    "start_time": "2022-12-17T10:33:37.597Z"
   },
   {
    "duration": 6,
    "start_time": "2022-12-17T10:34:49.250Z"
   },
   {
    "duration": 16,
    "start_time": "2022-12-17T10:34:49.429Z"
   },
   {
    "duration": 5,
    "start_time": "2022-12-17T10:34:59.334Z"
   },
   {
    "duration": 16,
    "start_time": "2022-12-17T10:34:59.529Z"
   },
   {
    "duration": 7,
    "start_time": "2022-12-17T10:35:15.773Z"
   },
   {
    "duration": 22,
    "start_time": "2022-12-17T10:35:15.947Z"
   },
   {
    "duration": 4,
    "start_time": "2022-12-17T10:35:37.781Z"
   },
   {
    "duration": 15,
    "start_time": "2022-12-17T10:35:37.961Z"
   },
   {
    "duration": 5,
    "start_time": "2022-12-17T10:35:52.219Z"
   },
   {
    "duration": 19,
    "start_time": "2022-12-17T10:35:52.400Z"
   },
   {
    "duration": 5,
    "start_time": "2022-12-17T10:36:09.654Z"
   },
   {
    "duration": 13,
    "start_time": "2022-12-17T10:36:10.070Z"
   },
   {
    "duration": 6,
    "start_time": "2022-12-17T10:36:15.837Z"
   },
   {
    "duration": 23,
    "start_time": "2022-12-17T10:36:16.052Z"
   },
   {
    "duration": 6,
    "start_time": "2022-12-17T10:38:51.887Z"
   },
   {
    "duration": 18,
    "start_time": "2022-12-17T10:38:52.336Z"
   },
   {
    "duration": 10,
    "start_time": "2022-12-17T10:39:26.786Z"
   },
   {
    "duration": 9,
    "start_time": "2022-12-17T10:39:36.740Z"
   },
   {
    "duration": 10,
    "start_time": "2022-12-17T10:40:01.800Z"
   },
   {
    "duration": 3,
    "start_time": "2022-12-17T10:40:10.669Z"
   },
   {
    "duration": 5,
    "start_time": "2022-12-17T10:40:11.334Z"
   },
   {
    "duration": 11,
    "start_time": "2022-12-17T10:40:31.554Z"
   },
   {
    "duration": 5,
    "start_time": "2022-12-17T10:40:31.969Z"
   },
   {
    "duration": 4,
    "start_time": "2022-12-17T10:40:52.301Z"
   },
   {
    "duration": 4,
    "start_time": "2022-12-17T10:40:52.999Z"
   },
   {
    "duration": 4,
    "start_time": "2022-12-17T10:41:13.830Z"
   },
   {
    "duration": 4,
    "start_time": "2022-12-17T10:41:28.079Z"
   },
   {
    "duration": 8,
    "start_time": "2022-12-17T10:41:32.850Z"
   },
   {
    "duration": 3,
    "start_time": "2022-12-17T10:42:36.685Z"
   },
   {
    "duration": 11,
    "start_time": "2022-12-17T10:42:37.285Z"
   },
   {
    "duration": 1360,
    "start_time": "2022-12-17T10:43:22.465Z"
   },
   {
    "duration": 378,
    "start_time": "2022-12-17T10:43:23.827Z"
   },
   {
    "duration": 20,
    "start_time": "2022-12-17T10:43:24.208Z"
   },
   {
    "duration": 28,
    "start_time": "2022-12-17T10:43:24.230Z"
   },
   {
    "duration": 16,
    "start_time": "2022-12-17T10:43:24.260Z"
   },
   {
    "duration": 39,
    "start_time": "2022-12-17T10:43:24.278Z"
   },
   {
    "duration": 4,
    "start_time": "2022-12-17T10:43:24.319Z"
   },
   {
    "duration": 46,
    "start_time": "2022-12-17T10:43:24.325Z"
   },
   {
    "duration": 161,
    "start_time": "2022-12-17T10:43:24.372Z"
   },
   {
    "duration": 118,
    "start_time": "2022-12-17T10:43:24.616Z"
   },
   {
    "duration": 78,
    "start_time": "2022-12-17T10:43:24.736Z"
   },
   {
    "duration": 116,
    "start_time": "2022-12-17T10:43:24.816Z"
   },
   {
    "duration": 10,
    "start_time": "2022-12-17T10:43:24.935Z"
   },
   {
    "duration": 3,
    "start_time": "2022-12-17T10:43:43.450Z"
   },
   {
    "duration": 12,
    "start_time": "2022-12-17T10:43:44.869Z"
   },
   {
    "duration": 4,
    "start_time": "2022-12-17T10:44:44.455Z"
   },
   {
    "duration": 101,
    "start_time": "2022-12-17T10:44:45.412Z"
   },
   {
    "duration": 5,
    "start_time": "2022-12-17T10:45:02.821Z"
   },
   {
    "duration": 93,
    "start_time": "2022-12-17T10:45:03.620Z"
   },
   {
    "duration": 111,
    "start_time": "2022-12-17T10:46:03.950Z"
   },
   {
    "duration": 9,
    "start_time": "2022-12-17T10:46:09.655Z"
   },
   {
    "duration": 45,
    "start_time": "2022-12-17T10:46:14.399Z"
   },
   {
    "duration": 61,
    "start_time": "2022-12-17T10:46:20.111Z"
   },
   {
    "duration": 4,
    "start_time": "2022-12-17T10:48:19.750Z"
   },
   {
    "duration": 9,
    "start_time": "2022-12-17T10:48:20.136Z"
   },
   {
    "duration": 5,
    "start_time": "2022-12-17T10:56:30.865Z"
   },
   {
    "duration": 21,
    "start_time": "2022-12-17T10:56:31.302Z"
   },
   {
    "duration": 4,
    "start_time": "2022-12-17T10:56:38.447Z"
   },
   {
    "duration": 33,
    "start_time": "2022-12-17T10:56:38.612Z"
   },
   {
    "duration": 6,
    "start_time": "2022-12-17T10:58:03.027Z"
   },
   {
    "duration": 23,
    "start_time": "2022-12-17T10:58:03.229Z"
   },
   {
    "duration": 4,
    "start_time": "2022-12-17T10:58:13.782Z"
   },
   {
    "duration": 6,
    "start_time": "2022-12-17T10:58:14.282Z"
   },
   {
    "duration": 1379,
    "start_time": "2022-12-17T11:00:23.988Z"
   },
   {
    "duration": 365,
    "start_time": "2022-12-17T11:00:25.368Z"
   },
   {
    "duration": 19,
    "start_time": "2022-12-17T11:00:25.735Z"
   },
   {
    "duration": 14,
    "start_time": "2022-12-17T11:00:25.756Z"
   },
   {
    "duration": 14,
    "start_time": "2022-12-17T11:00:25.772Z"
   },
   {
    "duration": 46,
    "start_time": "2022-12-17T11:00:25.788Z"
   },
   {
    "duration": 4,
    "start_time": "2022-12-17T11:00:25.836Z"
   },
   {
    "duration": 73,
    "start_time": "2022-12-17T11:00:25.842Z"
   },
   {
    "duration": 117,
    "start_time": "2022-12-17T11:00:25.917Z"
   },
   {
    "duration": 206,
    "start_time": "2022-12-17T11:00:26.036Z"
   },
   {
    "duration": 70,
    "start_time": "2022-12-17T11:00:26.244Z"
   },
   {
    "duration": 97,
    "start_time": "2022-12-17T11:00:26.316Z"
   },
   {
    "duration": 6,
    "start_time": "2022-12-17T11:00:26.415Z"
   },
   {
    "duration": 11,
    "start_time": "2022-12-17T11:00:26.424Z"
   },
   {
    "duration": 5,
    "start_time": "2022-12-17T11:00:26.436Z"
   },
   {
    "duration": 11,
    "start_time": "2022-12-17T11:00:26.442Z"
   },
   {
    "duration": 14,
    "start_time": "2022-12-17T11:00:26.455Z"
   },
   {
    "duration": 17,
    "start_time": "2022-12-17T11:00:26.470Z"
   },
   {
    "duration": 6,
    "start_time": "2022-12-17T11:00:39.664Z"
   },
   {
    "duration": 6,
    "start_time": "2022-12-17T11:00:40.063Z"
   },
   {
    "duration": 115,
    "start_time": "2022-12-17T11:11:57.609Z"
   },
   {
    "duration": 4,
    "start_time": "2022-12-17T11:12:12.886Z"
   },
   {
    "duration": 4,
    "start_time": "2022-12-17T11:15:52.774Z"
   },
   {
    "duration": 10,
    "start_time": "2022-12-17T11:15:53.393Z"
   },
   {
    "duration": 4,
    "start_time": "2022-12-17T11:16:01.530Z"
   },
   {
    "duration": 6,
    "start_time": "2022-12-17T11:16:01.974Z"
   },
   {
    "duration": 6,
    "start_time": "2022-12-17T11:16:02.624Z"
   },
   {
    "duration": 7,
    "start_time": "2022-12-17T11:16:03.000Z"
   },
   {
    "duration": 3,
    "start_time": "2022-12-17T11:16:05.910Z"
   },
   {
    "duration": 12,
    "start_time": "2022-12-17T11:16:06.538Z"
   },
   {
    "duration": 3,
    "start_time": "2022-12-17T11:16:13.308Z"
   },
   {
    "duration": 13,
    "start_time": "2022-12-17T11:16:13.497Z"
   },
   {
    "duration": 4,
    "start_time": "2022-12-17T11:16:19.175Z"
   },
   {
    "duration": 3,
    "start_time": "2022-12-17T11:16:19.392Z"
   },
   {
    "duration": 3,
    "start_time": "2022-12-17T11:16:34.740Z"
   },
   {
    "duration": 4,
    "start_time": "2022-12-17T11:16:35.390Z"
   },
   {
    "duration": 73,
    "start_time": "2022-12-17T11:20:06.322Z"
   },
   {
    "duration": 5,
    "start_time": "2022-12-17T11:20:19.426Z"
   },
   {
    "duration": 15,
    "start_time": "2022-12-17T11:20:20.060Z"
   },
   {
    "duration": 4,
    "start_time": "2022-12-17T11:20:45.921Z"
   },
   {
    "duration": 8,
    "start_time": "2022-12-17T11:20:46.270Z"
   },
   {
    "duration": 4,
    "start_time": "2022-12-17T11:27:08.140Z"
   },
   {
    "duration": 6,
    "start_time": "2022-12-17T11:27:08.602Z"
   },
   {
    "duration": 4,
    "start_time": "2022-12-17T11:38:00.431Z"
   },
   {
    "duration": 9,
    "start_time": "2022-12-17T11:38:01.916Z"
   },
   {
    "duration": 4,
    "start_time": "2022-12-17T11:39:30.111Z"
   },
   {
    "duration": 6,
    "start_time": "2022-12-17T11:39:35.791Z"
   },
   {
    "duration": 5,
    "start_time": "2022-12-17T11:39:47.707Z"
   },
   {
    "duration": 8,
    "start_time": "2022-12-17T11:39:54.213Z"
   },
   {
    "duration": 4,
    "start_time": "2022-12-17T11:39:59.104Z"
   },
   {
    "duration": 14,
    "start_time": "2022-12-17T11:40:00.156Z"
   },
   {
    "duration": 5,
    "start_time": "2022-12-17T11:41:40.974Z"
   },
   {
    "duration": 17,
    "start_time": "2022-12-17T11:41:40.982Z"
   },
   {
    "duration": 5,
    "start_time": "2022-12-17T11:42:03.504Z"
   },
   {
    "duration": 1331,
    "start_time": "2022-12-17T11:42:03.511Z"
   },
   {
    "duration": 5,
    "start_time": "2022-12-17T11:42:37.021Z"
   },
   {
    "duration": 1290,
    "start_time": "2022-12-17T11:42:37.570Z"
   },
   {
    "duration": 4,
    "start_time": "2022-12-17T11:47:29.357Z"
   },
   {
    "duration": 1354,
    "start_time": "2022-12-17T11:47:29.363Z"
   },
   {
    "duration": 5,
    "start_time": "2022-12-17T11:48:20.507Z"
   },
   {
    "duration": 1262,
    "start_time": "2022-12-17T11:48:22.001Z"
   },
   {
    "duration": 5,
    "start_time": "2022-12-17T11:54:51.750Z"
   },
   {
    "duration": 8,
    "start_time": "2022-12-17T11:54:52.381Z"
   },
   {
    "duration": 7,
    "start_time": "2022-12-17T11:54:53.177Z"
   },
   {
    "duration": 10,
    "start_time": "2022-12-17T11:54:53.863Z"
   },
   {
    "duration": 4,
    "start_time": "2022-12-17T11:54:58.781Z"
   },
   {
    "duration": 1176,
    "start_time": "2022-12-17T11:54:59.822Z"
   },
   {
    "duration": 5,
    "start_time": "2022-12-17T11:57:59.564Z"
   },
   {
    "duration": 1180,
    "start_time": "2022-12-17T11:58:00.001Z"
   },
   {
    "duration": 1145,
    "start_time": "2022-12-17T11:59:16.049Z"
   },
   {
    "duration": 1103,
    "start_time": "2022-12-17T11:59:17.196Z"
   },
   {
    "duration": 5,
    "start_time": "2022-12-17T12:02:47.530Z"
   },
   {
    "duration": 1132,
    "start_time": "2022-12-17T12:02:47.982Z"
   },
   {
    "duration": 5,
    "start_time": "2022-12-17T12:03:01.530Z"
   },
   {
    "duration": 1116,
    "start_time": "2022-12-17T12:03:01.843Z"
   },
   {
    "duration": 5,
    "start_time": "2022-12-17T12:04:43.530Z"
   },
   {
    "duration": 1159,
    "start_time": "2022-12-17T12:04:44.106Z"
   },
   {
    "duration": 5,
    "start_time": "2022-12-17T12:12:34.929Z"
   },
   {
    "duration": 16,
    "start_time": "2022-12-17T12:12:35.932Z"
   },
   {
    "duration": 5,
    "start_time": "2022-12-17T12:12:52.377Z"
   },
   {
    "duration": 8,
    "start_time": "2022-12-17T12:12:52.808Z"
   },
   {
    "duration": 1536,
    "start_time": "2022-12-17T12:16:41.981Z"
   },
   {
    "duration": 382,
    "start_time": "2022-12-17T12:16:43.519Z"
   },
   {
    "duration": 26,
    "start_time": "2022-12-17T12:16:43.903Z"
   },
   {
    "duration": 15,
    "start_time": "2022-12-17T12:16:43.931Z"
   },
   {
    "duration": 17,
    "start_time": "2022-12-17T12:16:43.949Z"
   },
   {
    "duration": 56,
    "start_time": "2022-12-17T12:16:43.967Z"
   },
   {
    "duration": 5,
    "start_time": "2022-12-17T12:16:44.024Z"
   },
   {
    "duration": 88,
    "start_time": "2022-12-17T12:16:44.031Z"
   },
   {
    "duration": 119,
    "start_time": "2022-12-17T12:16:44.121Z"
   },
   {
    "duration": 182,
    "start_time": "2022-12-17T12:16:44.242Z"
   },
   {
    "duration": 4,
    "start_time": "2022-12-17T12:16:44.426Z"
   },
   {
    "duration": 196,
    "start_time": "2022-12-17T12:16:44.432Z"
   },
   {
    "duration": 26,
    "start_time": "2022-12-17T12:16:44.630Z"
   },
   {
    "duration": 24,
    "start_time": "2022-12-17T12:16:44.659Z"
   },
   {
    "duration": 25,
    "start_time": "2022-12-17T12:16:44.685Z"
   },
   {
    "duration": 18,
    "start_time": "2022-12-17T12:16:44.712Z"
   },
   {
    "duration": 17,
    "start_time": "2022-12-17T12:16:44.732Z"
   },
   {
    "duration": 18,
    "start_time": "2022-12-17T12:16:44.751Z"
   },
   {
    "duration": 8,
    "start_time": "2022-12-17T12:16:44.771Z"
   },
   {
    "duration": 1202,
    "start_time": "2022-12-17T12:16:44.782Z"
   },
   {
    "duration": 1167,
    "start_time": "2022-12-17T12:16:45.986Z"
   },
   {
    "duration": 1122,
    "start_time": "2022-12-17T12:16:47.154Z"
   },
   {
    "duration": 6,
    "start_time": "2022-12-17T12:21:10.381Z"
   },
   {
    "duration": 7,
    "start_time": "2022-12-17T12:21:11.009Z"
   },
   {
    "duration": 7,
    "start_time": "2022-12-17T12:21:13.457Z"
   },
   {
    "duration": 7,
    "start_time": "2022-12-17T12:21:13.679Z"
   },
   {
    "duration": 1570,
    "start_time": "2022-12-17T15:18:22.192Z"
   },
   {
    "duration": 615,
    "start_time": "2022-12-17T15:18:23.765Z"
   },
   {
    "duration": 17,
    "start_time": "2022-12-17T15:18:24.382Z"
   },
   {
    "duration": 14,
    "start_time": "2022-12-17T15:18:24.401Z"
   },
   {
    "duration": 15,
    "start_time": "2022-12-17T15:18:24.417Z"
   },
   {
    "duration": 24,
    "start_time": "2022-12-17T15:18:24.433Z"
   },
   {
    "duration": 5,
    "start_time": "2022-12-17T15:18:24.458Z"
   },
   {
    "duration": 155,
    "start_time": "2022-12-17T15:18:24.464Z"
   },
   {
    "duration": 293,
    "start_time": "2022-12-17T15:18:24.622Z"
   },
   {
    "duration": 109,
    "start_time": "2022-12-17T15:18:24.917Z"
   },
   {
    "duration": 3,
    "start_time": "2022-12-17T15:18:25.028Z"
   },
   {
    "duration": 91,
    "start_time": "2022-12-17T15:18:25.033Z"
   },
   {
    "duration": 5,
    "start_time": "2022-12-17T15:18:25.213Z"
   },
   {
    "duration": 8,
    "start_time": "2022-12-17T15:18:25.220Z"
   },
   {
    "duration": 6,
    "start_time": "2022-12-17T15:18:25.229Z"
   },
   {
    "duration": 6,
    "start_time": "2022-12-17T15:18:25.237Z"
   },
   {
    "duration": 5,
    "start_time": "2022-12-17T15:18:25.245Z"
   },
   {
    "duration": 1496,
    "start_time": "2022-12-17T15:18:25.252Z"
   },
   {
    "duration": 1402,
    "start_time": "2022-12-17T15:18:26.750Z"
   },
   {
    "duration": 1395,
    "start_time": "2022-12-17T15:18:28.155Z"
   },
   {
    "duration": 1337,
    "start_time": "2022-12-17T15:19:25.871Z"
   },
   {
    "duration": 377,
    "start_time": "2022-12-17T15:19:27.210Z"
   },
   {
    "duration": 24,
    "start_time": "2022-12-17T15:19:27.589Z"
   },
   {
    "duration": 15,
    "start_time": "2022-12-17T15:19:27.615Z"
   },
   {
    "duration": 16,
    "start_time": "2022-12-17T15:19:27.632Z"
   },
   {
    "duration": 24,
    "start_time": "2022-12-17T15:19:27.650Z"
   },
   {
    "duration": 39,
    "start_time": "2022-12-17T15:19:27.676Z"
   },
   {
    "duration": 97,
    "start_time": "2022-12-17T15:19:27.717Z"
   },
   {
    "duration": 118,
    "start_time": "2022-12-17T15:19:27.816Z"
   },
   {
    "duration": 191,
    "start_time": "2022-12-17T15:19:27.938Z"
   },
   {
    "duration": 82,
    "start_time": "2022-12-17T15:19:28.131Z"
   },
   {
    "duration": 98,
    "start_time": "2022-12-17T15:19:28.216Z"
   },
   {
    "duration": 6,
    "start_time": "2022-12-17T15:19:28.316Z"
   },
   {
    "duration": 9,
    "start_time": "2022-12-17T15:19:28.324Z"
   },
   {
    "duration": 9,
    "start_time": "2022-12-17T15:19:28.335Z"
   },
   {
    "duration": 7,
    "start_time": "2022-12-17T15:19:28.345Z"
   },
   {
    "duration": 6,
    "start_time": "2022-12-17T15:19:28.353Z"
   },
   {
    "duration": 1243,
    "start_time": "2022-12-17T15:19:28.361Z"
   },
   {
    "duration": 1164,
    "start_time": "2022-12-17T15:19:29.606Z"
   },
   {
    "duration": 1145,
    "start_time": "2022-12-17T15:19:30.772Z"
   },
   {
    "duration": 22,
    "start_time": "2022-12-18T01:49:00.376Z"
   },
   {
    "duration": 1022,
    "start_time": "2022-12-18T01:49:06.352Z"
   },
   {
    "duration": 374,
    "start_time": "2022-12-18T01:49:07.377Z"
   },
   {
    "duration": 21,
    "start_time": "2022-12-18T01:49:07.752Z"
   },
   {
    "duration": 15,
    "start_time": "2022-12-18T01:49:07.775Z"
   },
   {
    "duration": 32,
    "start_time": "2022-12-18T01:49:07.792Z"
   },
   {
    "duration": 23,
    "start_time": "2022-12-18T01:49:07.826Z"
   },
   {
    "duration": 5,
    "start_time": "2022-12-18T01:49:07.851Z"
   },
   {
    "duration": 64,
    "start_time": "2022-12-18T01:49:07.857Z"
   },
   {
    "duration": 112,
    "start_time": "2022-12-18T01:49:07.924Z"
   },
   {
    "duration": 110,
    "start_time": "2022-12-18T01:49:08.118Z"
   },
   {
    "duration": 4,
    "start_time": "2022-12-18T01:49:08.230Z"
   },
   {
    "duration": 111,
    "start_time": "2022-12-18T01:49:08.315Z"
   },
   {
    "duration": 9,
    "start_time": "2022-12-18T01:49:08.428Z"
   },
   {
    "duration": 10,
    "start_time": "2022-12-18T01:49:08.439Z"
   },
   {
    "duration": 7,
    "start_time": "2022-12-18T01:49:08.451Z"
   },
   {
    "duration": 11,
    "start_time": "2022-12-18T01:49:08.460Z"
   },
   {
    "duration": 42,
    "start_time": "2022-12-18T01:49:08.474Z"
   },
   {
    "duration": 1140,
    "start_time": "2022-12-18T01:49:08.519Z"
   },
   {
    "duration": 1059,
    "start_time": "2022-12-18T01:49:09.661Z"
   },
   {
    "duration": 1058,
    "start_time": "2022-12-18T01:49:10.722Z"
   },
   {
    "duration": 134,
    "start_time": "2022-12-18T01:50:20.426Z"
   },
   {
    "duration": 133,
    "start_time": "2022-12-18T01:50:30.893Z"
   },
   {
    "duration": 4,
    "start_time": "2022-12-18T02:06:06.869Z"
   },
   {
    "duration": 1037,
    "start_time": "2022-12-18T02:41:19.519Z"
   },
   {
    "duration": 354,
    "start_time": "2022-12-18T02:41:20.557Z"
   },
   {
    "duration": 22,
    "start_time": "2022-12-18T02:41:20.912Z"
   },
   {
    "duration": 16,
    "start_time": "2022-12-18T02:41:20.937Z"
   },
   {
    "duration": 17,
    "start_time": "2022-12-18T02:41:20.955Z"
   },
   {
    "duration": 62,
    "start_time": "2022-12-18T02:41:20.973Z"
   },
   {
    "duration": 128,
    "start_time": "2022-12-18T02:41:21.037Z"
   },
   {
    "duration": 5,
    "start_time": "2022-12-18T02:41:21.166Z"
   },
   {
    "duration": 46,
    "start_time": "2022-12-18T02:41:21.172Z"
   },
   {
    "duration": 196,
    "start_time": "2022-12-18T02:41:21.224Z"
   },
   {
    "duration": 215,
    "start_time": "2022-12-18T02:41:21.425Z"
   },
   {
    "duration": 4,
    "start_time": "2022-12-18T02:41:21.642Z"
   },
   {
    "duration": 95,
    "start_time": "2022-12-18T02:41:21.722Z"
   },
   {
    "duration": 7,
    "start_time": "2022-12-18T02:41:21.818Z"
   },
   {
    "duration": 7,
    "start_time": "2022-12-18T02:41:21.827Z"
   },
   {
    "duration": 7,
    "start_time": "2022-12-18T02:41:21.836Z"
   },
   {
    "duration": 6,
    "start_time": "2022-12-18T02:41:21.844Z"
   },
   {
    "duration": 6,
    "start_time": "2022-12-18T02:41:21.852Z"
   },
   {
    "duration": 1089,
    "start_time": "2022-12-18T02:41:21.859Z"
   },
   {
    "duration": 1019,
    "start_time": "2022-12-18T02:41:22.950Z"
   },
   {
    "duration": 1019,
    "start_time": "2022-12-18T02:41:23.970Z"
   }
  ],
  "kernelspec": {
   "display_name": "Python 3 (ipykernel)",
   "language": "python",
   "name": "python3"
  },
  "language_info": {
   "codemirror_mode": {
    "name": "ipython",
    "version": 3
   },
   "file_extension": ".py",
   "mimetype": "text/x-python",
   "name": "python",
   "nbconvert_exporter": "python",
   "pygments_lexer": "ipython3",
   "version": "3.10.9"
  },
  "toc": {
   "base_numbering": 1,
   "nav_menu": {},
   "number_sections": true,
   "sideBar": true,
   "skip_h1_title": true,
   "title_cell": "Table of Contents",
   "title_sidebar": "Contents",
   "toc_cell": false,
   "toc_position": {},
   "toc_section_display": true,
   "toc_window_display": false
  }
 },
 "nbformat": 4,
 "nbformat_minor": 2
}
