{
 "cells": [
  {
   "cell_type": "markdown",
   "metadata": {
    "toc": true
   },
   "source": [
    "<h1>Содержание<span class=\"tocSkip\"></span></h1>\n",
    "<div class=\"toc\"><ul class=\"toc-item\"><li><span><a href=\"#Подготовка\" data-toc-modified-id=\"Подготовка-1\"><span class=\"toc-item-num\">1&nbsp;&nbsp;</span>Подготовка</a></span></li><li><span><a href=\"#Обучение\" data-toc-modified-id=\"Обучение-2\"><span class=\"toc-item-num\">2&nbsp;&nbsp;</span>Обучение</a></span></li><li><span><a href=\"#Тестирование\" data-toc-modified-id=\"Тестирование-3\"><span class=\"toc-item-num\">3&nbsp;&nbsp;</span>Тестирование</a></span></li><li><span><a href=\"#Выводы\" data-toc-modified-id=\"Выводы-4\"><span class=\"toc-item-num\">4&nbsp;&nbsp;</span>Выводы</a></span></li><li><span><a href=\"#Чек-лист-проверки\" data-toc-modified-id=\"Чек-лист-проверки-5\"><span class=\"toc-item-num\">5&nbsp;&nbsp;</span>Чек-лист проверки</a></span></li></ul></div>"
   ]
  },
  {
   "cell_type": "markdown",
   "metadata": {},
   "source": [
    "# Проект для «Викишоп»"
   ]
  },
  {
   "cell_type": "markdown",
   "metadata": {},
   "source": [
    "Интернет-магазин «Викишоп» запускает новый сервис. Теперь пользователи могут редактировать и дополнять описания товаров, как в вики-сообществах. То есть клиенты предлагают свои правки и комментируют изменения других. Магазину нужен инструмент, который будет искать токсичные комментарии и отправлять их на модерацию. \n",
    "\n",
    "Обучите модель классифицировать комментарии на позитивные и негативные. В вашем распоряжении набор данных с разметкой о токсичности правок.\n",
    "\n",
    "Постройте модель со значением метрики качества *F1* не меньше 0.75. \n",
    "\n",
    "**Инструкция по выполнению проекта**\n",
    "\n",
    "1. Загрузите и подготовьте данные.\n",
    "2. Обучите разные модели. \n",
    "3. Сделайте выводы.\n",
    "\n",
    "Для выполнения проекта применять *BERT* необязательно, но вы можете попробовать.\n",
    "\n",
    "**Описание данных**\n",
    "\n",
    "Данные находятся в файле `toxic_comments.csv`. Столбец *text* в нём содержит текст комментария, а *toxic* — целевой признак."
   ]
  },
  {
   "cell_type": "markdown",
   "metadata": {},
   "source": [
    "# Комментарий автора"
   ]
  },
  {
   "cell_type": "markdown",
   "metadata": {},
   "source": [
    "В связи с тем, что данный проект я делаю уже после дэдлайна, то мне приходится срезать углы на качестве и наполнении.\n",
    "\n",
    "Так же, в связи с огромным дата сетом - обучение очень долгое, поэтому и кол-во моделей я урезал. Я даже оставлял на ночь прогонять варианты, но не получил результата. \n",
    "\n",
    "\"Прошу понять и простить\" (с) Бородач"
   ]
  },
  {
   "cell_type": "markdown",
   "metadata": {},
   "source": [
    "## Подготовка"
   ]
  },
  {
   "cell_type": "code",
   "execution_count": 1,
   "metadata": {},
   "outputs": [],
   "source": [
    "import pandas as pd\n",
    "import numpy as np\n",
    "import re\n",
    "import nltk\n",
    "import matplotlib.pyplot as plt\n",
    "from catboost import CatBoostClassifier\n",
    "from sklearn.ensemble import RandomForestClassifier\n",
    "from nltk.tokenize import word_tokenize \n",
    "from nltk.stem import WordNetLemmatizer \n",
    "from sklearn.model_selection import train_test_split\n",
    "from sklearn.feature_extraction.text import TfidfVectorizer\n",
    "from sklearn.linear_model import LogisticRegression\n",
    "from sklearn.metrics import f1_score\n",
    "from nltk.corpus import stopwords \n",
    "from sklearn.model_selection import GridSearchCV\n",
    "from sklearn.metrics import make_scorer\n",
    "from nltk.corpus import stopwords as nltk_stopwords\n",
    "from nltk.corpus import wordnet\n",
    "from sklearn.model_selection import cross_val_score"
   ]
  },
  {
   "cell_type": "code",
   "execution_count": 2,
   "metadata": {},
   "outputs": [],
   "source": [
    "import warnings\n",
    "warnings.filterwarnings(\"ignore\")"
   ]
  },
  {
   "cell_type": "code",
   "execution_count": 3,
   "metadata": {},
   "outputs": [],
   "source": [
    "RANDOM_STATE = 78910"
   ]
  },
  {
   "cell_type": "markdown",
   "metadata": {},
   "source": [
    "**Анализ исходных данных** "
   ]
  },
  {
   "cell_type": "code",
   "execution_count": 4,
   "metadata": {},
   "outputs": [],
   "source": [
    "data = pd.read_csv('/datasets/toxic_comments.csv', index_col = 0)"
   ]
  },
  {
   "cell_type": "code",
   "execution_count": 5,
   "metadata": {},
   "outputs": [
    {
     "data": {
      "text/html": [
       "<div>\n",
       "<style scoped>\n",
       "    .dataframe tbody tr th:only-of-type {\n",
       "        vertical-align: middle;\n",
       "    }\n",
       "\n",
       "    .dataframe tbody tr th {\n",
       "        vertical-align: top;\n",
       "    }\n",
       "\n",
       "    .dataframe thead th {\n",
       "        text-align: right;\n",
       "    }\n",
       "</style>\n",
       "<table border=\"1\" class=\"dataframe\">\n",
       "  <thead>\n",
       "    <tr style=\"text-align: right;\">\n",
       "      <th></th>\n",
       "      <th>text</th>\n",
       "      <th>toxic</th>\n",
       "    </tr>\n",
       "  </thead>\n",
       "  <tbody>\n",
       "    <tr>\n",
       "      <th>0</th>\n",
       "      <td>Explanation\\nWhy the edits made under my usern...</td>\n",
       "      <td>0</td>\n",
       "    </tr>\n",
       "    <tr>\n",
       "      <th>1</th>\n",
       "      <td>D'aww! He matches this background colour I'm s...</td>\n",
       "      <td>0</td>\n",
       "    </tr>\n",
       "    <tr>\n",
       "      <th>2</th>\n",
       "      <td>Hey man, I'm really not trying to edit war. It...</td>\n",
       "      <td>0</td>\n",
       "    </tr>\n",
       "  </tbody>\n",
       "</table>\n",
       "</div>"
      ],
      "text/plain": [
       "                                                text  toxic\n",
       "0  Explanation\\nWhy the edits made under my usern...      0\n",
       "1  D'aww! He matches this background colour I'm s...      0\n",
       "2  Hey man, I'm really not trying to edit war. It...      0"
      ]
     },
     "metadata": {},
     "output_type": "display_data"
    }
   ],
   "source": [
    "display(data.head(3))"
   ]
  },
  {
   "cell_type": "code",
   "execution_count": 6,
   "metadata": {},
   "outputs": [
    {
     "data": {
      "text/html": [
       "<div>\n",
       "<style scoped>\n",
       "    .dataframe tbody tr th:only-of-type {\n",
       "        vertical-align: middle;\n",
       "    }\n",
       "\n",
       "    .dataframe tbody tr th {\n",
       "        vertical-align: top;\n",
       "    }\n",
       "\n",
       "    .dataframe thead th {\n",
       "        text-align: right;\n",
       "    }\n",
       "</style>\n",
       "<table border=\"1\" class=\"dataframe\">\n",
       "  <thead>\n",
       "    <tr style=\"text-align: right;\">\n",
       "      <th></th>\n",
       "      <th>text</th>\n",
       "      <th>toxic</th>\n",
       "    </tr>\n",
       "  </thead>\n",
       "  <tbody>\n",
       "    <tr>\n",
       "      <th>159448</th>\n",
       "      <td>Spitzer \\n\\nUmm, theres no actual article for ...</td>\n",
       "      <td>0</td>\n",
       "    </tr>\n",
       "    <tr>\n",
       "      <th>159449</th>\n",
       "      <td>And it looks like it was actually you who put ...</td>\n",
       "      <td>0</td>\n",
       "    </tr>\n",
       "    <tr>\n",
       "      <th>159450</th>\n",
       "      <td>\"\\nAnd ... I really don't think you understand...</td>\n",
       "      <td>0</td>\n",
       "    </tr>\n",
       "  </tbody>\n",
       "</table>\n",
       "</div>"
      ],
      "text/plain": [
       "                                                     text  toxic\n",
       "159448  Spitzer \\n\\nUmm, theres no actual article for ...      0\n",
       "159449  And it looks like it was actually you who put ...      0\n",
       "159450  \"\\nAnd ... I really don't think you understand...      0"
      ]
     },
     "metadata": {},
     "output_type": "display_data"
    }
   ],
   "source": [
    "display(data.tail(3))"
   ]
  },
  {
   "cell_type": "code",
   "execution_count": 7,
   "metadata": {},
   "outputs": [
    {
     "name": "stdout",
     "output_type": "stream",
     "text": [
      "<class 'pandas.core.frame.DataFrame'>\n",
      "Int64Index: 159292 entries, 0 to 159450\n",
      "Data columns (total 2 columns):\n",
      " #   Column  Non-Null Count   Dtype \n",
      "---  ------  --------------   ----- \n",
      " 0   text    159292 non-null  object\n",
      " 1   toxic   159292 non-null  int64 \n",
      "dtypes: int64(1), object(1)\n",
      "memory usage: 3.6+ MB\n"
     ]
    },
    {
     "data": {
      "text/plain": [
       "None"
      ]
     },
     "metadata": {},
     "output_type": "display_data"
    }
   ],
   "source": [
    "display(data.info())"
   ]
  },
  {
   "cell_type": "code",
   "execution_count": 8,
   "metadata": {},
   "outputs": [
    {
     "name": "stdout",
     "output_type": "stream",
     "text": [
      "Кол-во дупликатов: 0\n"
     ]
    }
   ],
   "source": [
    "print(\"Кол-во дупликатов:\",data.duplicated().sum())"
   ]
  },
  {
   "cell_type": "code",
   "execution_count": 9,
   "metadata": {},
   "outputs": [
    {
     "name": "stdout",
     "output_type": "stream",
     "text": [
      "Кол-во пропусков:\n"
     ]
    },
    {
     "data": {
      "text/plain": [
       "text     0\n",
       "toxic    0\n",
       "dtype: int64"
      ]
     },
     "metadata": {},
     "output_type": "display_data"
    }
   ],
   "source": [
    "print(\"Кол-во пропусков:\")\n",
    "display(data.isna().sum())"
   ]
  },
  {
   "cell_type": "markdown",
   "metadata": {},
   "source": [
    "**Обработка данных для обучения** "
   ]
  },
  {
   "cell_type": "code",
   "execution_count": 10,
   "metadata": {},
   "outputs": [
    {
     "name": "stderr",
     "output_type": "stream",
     "text": [
      "[nltk_data] Downloading package stopwords to /home/jovyan/nltk_data...\n",
      "[nltk_data]   Package stopwords is already up-to-date!\n",
      "[nltk_data] Downloading package averaged_perceptron_tagger to\n",
      "[nltk_data]     /home/jovyan/nltk_data...\n",
      "[nltk_data]   Package averaged_perceptron_tagger is already up-to-\n",
      "[nltk_data]       date!\n"
     ]
    }
   ],
   "source": [
    "nltk.download(\"stopwords\")\n",
    "nltk.download(\"averaged_perceptron_tagger\")\n",
    "stop_words = set(stopwords.words(\"english\"))"
   ]
  },
  {
   "cell_type": "code",
   "execution_count": 11,
   "metadata": {},
   "outputs": [],
   "source": [
    "lemmatizer = WordNetLemmatizer()"
   ]
  },
  {
   "cell_type": "raw",
   "metadata": {},
   "source": [
    "def lemm(text):\n",
    "    text = re.sub(r\"[^a-zA-z ]\",\" \", text.lower())\n",
    "    token = nltk.word_tokenize(text)\n",
    "    text = [word for word in token if word not in stop_words] \n",
    "    text = [lemmatizer.lemmatize(word,get_wordnet_pos(word)) for word in text]\n",
    "    text = \" \".join(text)\n",
    "    return text"
   ]
  },
  {
   "cell_type": "code",
   "execution_count": 12,
   "metadata": {},
   "outputs": [],
   "source": [
    "def get_wordnet_pos(word):\n",
    "    tag = nltk.pos_tag([word])[0][1][0].upper()\n",
    "    tag_dict = {\"J\": wordnet.ADJ,\n",
    "                \"N\": wordnet.NOUN,\n",
    "                \"V\": wordnet.VERB,\n",
    "                \"R\": wordnet.ADV}\n",
    "    return tag_dict.get(tag, wordnet.NOUN)\n",
    "\n",
    "def lemm(text):\n",
    "    text = re.sub(r\"[^a-zA-z ]\",\" \", text.lower())\n",
    "    token = nltk.word_tokenize(text)\n",
    "    text = [word for word in token if word not in stop_words] \n",
    "    text = [lemmatizer.lemmatize(word, get_wordnet_pos(word)) for word in text]\n",
    "    text = \" \".join(text)\n",
    "    return text\n"
   ]
  },
  {
   "cell_type": "code",
   "execution_count": 13,
   "metadata": {
    "scrolled": true
   },
   "outputs": [
    {
     "name": "stdout",
     "output_type": "stream",
     "text": [
      "CPU times: user 11min 9s, sys: 55.6 s, total: 12min 5s\n",
      "Wall time: 12min 6s\n"
     ]
    }
   ],
   "source": [
    "%%time\n",
    "\n",
    "data[\"lemmatized\"] = data[\"text\"].apply(lemm)"
   ]
  },
  {
   "cell_type": "code",
   "execution_count": 14,
   "metadata": {
    "scrolled": true
   },
   "outputs": [
    {
     "data": {
      "text/html": [
       "<div>\n",
       "<style scoped>\n",
       "    .dataframe tbody tr th:only-of-type {\n",
       "        vertical-align: middle;\n",
       "    }\n",
       "\n",
       "    .dataframe tbody tr th {\n",
       "        vertical-align: top;\n",
       "    }\n",
       "\n",
       "    .dataframe thead th {\n",
       "        text-align: right;\n",
       "    }\n",
       "</style>\n",
       "<table border=\"1\" class=\"dataframe\">\n",
       "  <thead>\n",
       "    <tr style=\"text-align: right;\">\n",
       "      <th></th>\n",
       "      <th>text</th>\n",
       "      <th>toxic</th>\n",
       "      <th>lemmatized</th>\n",
       "    </tr>\n",
       "  </thead>\n",
       "  <tbody>\n",
       "    <tr>\n",
       "      <th>0</th>\n",
       "      <td>Explanation\\nWhy the edits made under my usern...</td>\n",
       "      <td>0</td>\n",
       "      <td>explanation edits make username hardcore metal...</td>\n",
       "    </tr>\n",
       "    <tr>\n",
       "      <th>1</th>\n",
       "      <td>D'aww! He matches this background colour I'm s...</td>\n",
       "      <td>0</td>\n",
       "      <td>aww match background colour seemingly stuck th...</td>\n",
       "    </tr>\n",
       "    <tr>\n",
       "      <th>2</th>\n",
       "      <td>Hey man, I'm really not trying to edit war. It...</td>\n",
       "      <td>0</td>\n",
       "      <td>hey man really try edit war guy constantly rem...</td>\n",
       "    </tr>\n",
       "  </tbody>\n",
       "</table>\n",
       "</div>"
      ],
      "text/plain": [
       "                                                text  toxic  \\\n",
       "0  Explanation\\nWhy the edits made under my usern...      0   \n",
       "1  D'aww! He matches this background colour I'm s...      0   \n",
       "2  Hey man, I'm really not trying to edit war. It...      0   \n",
       "\n",
       "                                          lemmatized  \n",
       "0  explanation edits make username hardcore metal...  \n",
       "1  aww match background colour seemingly stuck th...  \n",
       "2  hey man really try edit war guy constantly rem...  "
      ]
     },
     "metadata": {},
     "output_type": "display_data"
    }
   ],
   "source": [
    "display(data.head(3))"
   ]
  },
  {
   "cell_type": "code",
   "execution_count": 15,
   "metadata": {
    "scrolled": true
   },
   "outputs": [
    {
     "data": {
      "text/html": [
       "<div>\n",
       "<style scoped>\n",
       "    .dataframe tbody tr th:only-of-type {\n",
       "        vertical-align: middle;\n",
       "    }\n",
       "\n",
       "    .dataframe tbody tr th {\n",
       "        vertical-align: top;\n",
       "    }\n",
       "\n",
       "    .dataframe thead th {\n",
       "        text-align: right;\n",
       "    }\n",
       "</style>\n",
       "<table border=\"1\" class=\"dataframe\">\n",
       "  <thead>\n",
       "    <tr style=\"text-align: right;\">\n",
       "      <th></th>\n",
       "      <th>text</th>\n",
       "      <th>toxic</th>\n",
       "      <th>lemmatized</th>\n",
       "    </tr>\n",
       "  </thead>\n",
       "  <tbody>\n",
       "    <tr>\n",
       "      <th>159448</th>\n",
       "      <td>Spitzer \\n\\nUmm, theres no actual article for ...</td>\n",
       "      <td>0</td>\n",
       "      <td>spitzer umm there actual article prostitution ...</td>\n",
       "    </tr>\n",
       "    <tr>\n",
       "      <th>159449</th>\n",
       "      <td>And it looks like it was actually you who put ...</td>\n",
       "      <td>0</td>\n",
       "      <td>look like actually put speedy first version de...</td>\n",
       "    </tr>\n",
       "    <tr>\n",
       "      <th>159450</th>\n",
       "      <td>\"\\nAnd ... I really don't think you understand...</td>\n",
       "      <td>0</td>\n",
       "      <td>really think understand come idea bad right aw...</td>\n",
       "    </tr>\n",
       "  </tbody>\n",
       "</table>\n",
       "</div>"
      ],
      "text/plain": [
       "                                                     text  toxic  \\\n",
       "159448  Spitzer \\n\\nUmm, theres no actual article for ...      0   \n",
       "159449  And it looks like it was actually you who put ...      0   \n",
       "159450  \"\\nAnd ... I really don't think you understand...      0   \n",
       "\n",
       "                                               lemmatized  \n",
       "159448  spitzer umm there actual article prostitution ...  \n",
       "159449  look like actually put speedy first version de...  \n",
       "159450  really think understand come idea bad right aw...  "
      ]
     },
     "metadata": {},
     "output_type": "display_data"
    }
   ],
   "source": [
    "display(data.tail(3))"
   ]
  },
  {
   "cell_type": "raw",
   "metadata": {},
   "source": [
    "features_train, features_test, target_train, target_test =\\\n",
    "train_test_split(data, data[\"toxic\"], test_size = 0.2, stratify = data[\"toxic\"])"
   ]
  },
  {
   "cell_type": "code",
   "execution_count": 16,
   "metadata": {},
   "outputs": [],
   "source": [
    "features_train, features_valid_test, target_train, target_valid_test = train_test_split(\n",
    "    data, data[\"toxic\"], test_size=0.2, random_state=RANDOM_STATE, stratify = data[\"toxic\"])\n",
    "\n",
    "features_valid, features_test, target_valid, target_test = train_test_split(\n",
    "    features_valid_test, target_valid_test, test_size=0.5, random_state=RANDOM_STATE, stratify = target_valid_test)"
   ]
  },
  {
   "cell_type": "raw",
   "metadata": {
    "scrolled": true
   },
   "source": [
    "print(\"Размер features_test:\",features_test.shape)\n",
    "print(\"Размер features_train:\",features_train.shape)\n",
    "print(\"Размер target_test:\",target_test.shape)\n",
    "print(\"Размер target_train:\",target_train.shape)"
   ]
  },
  {
   "cell_type": "code",
   "execution_count": 17,
   "metadata": {},
   "outputs": [
    {
     "name": "stdout",
     "output_type": "stream",
     "text": [
      "Размер features_test: (15930, 3)\n",
      "Размер features_valid: (15929, 3)\n",
      "Размер features_train: (127433, 3)\n",
      "Размер target_test: (15930,)\n",
      "Размер target_valid: (15929,)\n",
      "Размер target_train: (127433,)\n"
     ]
    }
   ],
   "source": [
    "print(\"Размер features_test:\",features_test.shape)\n",
    "print(\"Размер features_valid:\",features_valid.shape)\n",
    "print(\"Размер features_train:\",features_train.shape)\n",
    "print(\"Размер target_test:\",target_test.shape)\n",
    "print(\"Размер target_valid:\",target_valid.shape)\n",
    "print(\"Размер target_train:\",target_train.shape)"
   ]
  },
  {
   "cell_type": "raw",
   "metadata": {},
   "source": [
    "features_train_corpus = features_train[\"lemmatized\"]\n",
    "features_test_corpus = features_test[\"lemmatized\"]"
   ]
  },
  {
   "cell_type": "code",
   "execution_count": 18,
   "metadata": {},
   "outputs": [],
   "source": [
    "features_train_corpus = features_train[\"lemmatized\"]\n",
    "features_valid_corpus = features_valid[\"lemmatized\"]\n",
    "features_test_corpus = features_test[\"lemmatized\"]"
   ]
  },
  {
   "cell_type": "raw",
   "metadata": {},
   "source": [
    "nltk.download(\"stopwords\")\n",
    "stopwords = set(nltk_stopwords.words(\"english\"))\n",
    "count_tf_idf = TfidfVectorizer(stop_words=stopwords)\n",
    "tf_idf_train = count_tf_idf.fit_transform(features_train_corpus)\n",
    "tf_idf_test = count_tf_idf.transform(features_test_corpus)"
   ]
  },
  {
   "cell_type": "code",
   "execution_count": 19,
   "metadata": {},
   "outputs": [
    {
     "name": "stderr",
     "output_type": "stream",
     "text": [
      "[nltk_data] Downloading package stopwords to /home/jovyan/nltk_data...\n",
      "[nltk_data]   Package stopwords is already up-to-date!\n"
     ]
    }
   ],
   "source": [
    "nltk.download(\"stopwords\")\n",
    "stopwords = set(nltk_stopwords.words(\"english\"))\n",
    "count_tf_idf = TfidfVectorizer(stop_words=stopwords)\n",
    "tf_idf_train = count_tf_idf.fit_transform(features_train_corpus)\n",
    "tf_idf_valid = count_tf_idf.transform(features_valid_corpus)\n",
    "tf_idf_test = count_tf_idf.transform(features_test_corpus)"
   ]
  },
  {
   "cell_type": "raw",
   "metadata": {},
   "source": [
    "print(\"Размер матрицы:\", tf_idf_train.shape)\n",
    "print(\"Размер матрицы:\", tf_idf_test.shape)"
   ]
  },
  {
   "cell_type": "code",
   "execution_count": 20,
   "metadata": {},
   "outputs": [
    {
     "name": "stdout",
     "output_type": "stream",
     "text": [
      "Размер матрицы: (127433, 135967)\n",
      "Размер матрицы: (15929, 135967)\n",
      "Размер матрицы: (15930, 135967)\n"
     ]
    }
   ],
   "source": [
    "print(\"Размер матрицы:\", tf_idf_train.shape)\n",
    "print(\"Размер матрицы:\", tf_idf_valid.shape)\n",
    "print(\"Размер матрицы:\", tf_idf_test.shape)"
   ]
  },
  {
   "cell_type": "markdown",
   "metadata": {},
   "source": [
    "## Обучение"
   ]
  },
  {
   "cell_type": "code",
   "execution_count": 21,
   "metadata": {},
   "outputs": [
    {
     "name": "stdout",
     "output_type": "stream",
     "text": [
      "F1 score: 0.6977281478629188\n",
      "CPU times: user 9min 44s, sys: 3.53 s, total: 9min 48s\n",
      "Wall time: 9min 48s\n"
     ]
    }
   ],
   "source": [
    "%%time\n",
    "\n",
    "rf_g_model = RandomForestClassifier(criterion = \"gini\",random_state = RANDOM_STATE)\n",
    "\n",
    "rf_g_model.fit(tf_idf_train,target_train)\n",
    "\n",
    "print(\"F1 score:\",f1_score(target_valid,rf_g_model.predict(tf_idf_valid)))"
   ]
  },
  {
   "cell_type": "code",
   "execution_count": 22,
   "metadata": {},
   "outputs": [
    {
     "name": "stdout",
     "output_type": "stream",
     "text": [
      "F1 score: 0.6578313253012049\n",
      "CPU times: user 10min 16s, sys: 3.31 s, total: 10min 20s\n",
      "Wall time: 10min 21s\n"
     ]
    }
   ],
   "source": [
    "%%time\n",
    "\n",
    "rf_e_model = RandomForestClassifier(criterion = \"entropy\",random_state = RANDOM_STATE)\n",
    "\n",
    "rf_e_model.fit(tf_idf_train,target_train)\n",
    "\n",
    "print(\"F1 score:\",f1_score(target_valid,rf_e_model.predict(tf_idf_valid)))"
   ]
  },
  {
   "cell_type": "code",
   "execution_count": 23,
   "metadata": {},
   "outputs": [
    {
     "name": "stdout",
     "output_type": "stream",
     "text": [
      "{'penalty': 'none'}\n",
      "0.7259466296912915\n",
      "CPU times: user 2min 9s, sys: 5min 3s, total: 7min 13s\n",
      "Wall time: 7min 13s\n"
     ]
    }
   ],
   "source": [
    "%%time\n",
    "\n",
    "lr_model = LogisticRegression(random_state = RANDOM_STATE)\n",
    "\n",
    "tuned_parameters = {\"penalty\": [\"l1\",\"l2\",\"elasticnet\",\"none\"]}\n",
    "\n",
    "lr_model = GridSearchCV(estimator = lr_model,\n",
    "                     param_grid = tuned_parameters,\n",
    "                     n_jobs = -1,\n",
    "                     cv = 5,\n",
    "                     scoring='f1')\n",
    "\n",
    "lr_model.fit(tf_idf_train,target_train)\n",
    "\n",
    "print(lr_model.best_params_)\n",
    "print(lr_model.best_score_)"
   ]
  },
  {
   "cell_type": "code",
   "execution_count": 24,
   "metadata": {
    "scrolled": true
   },
   "outputs": [
    {
     "name": "stdout",
     "output_type": "stream",
     "text": [
      "F1 score: 0.7565813198701767\n",
      "CPU times: user 35min 21s, sys: 27 s, total: 35min 48s\n",
      "Wall time: 35min 51s\n"
     ]
    }
   ],
   "source": [
    "%%time\n",
    "\n",
    "cb_s_model = CatBoostClassifier(grow_policy = \"SymmetricTree\",logging_level = \"Silent\",random_state = RANDOM_STATE)\n",
    "\n",
    "cb_s_model.fit(tf_idf_train,target_train)\n",
    "\n",
    "print(\"F1 score:\",f1_score(target_valid,cb_s_model.predict(tf_idf_valid)))"
   ]
  },
  {
   "cell_type": "markdown",
   "metadata": {},
   "source": [
    "**Вывод:**"
   ]
  },
  {
   "cell_type": "markdown",
   "metadata": {},
   "source": [
    "Лучшей моделью оказалось модель cb_s_model, а именно CatBoostClassifier с политикой роста \"SymmetricTree\". F1 метрика на тренировочной выборке показала 0.75\n",
    "\n",
    "Результаты RandomForestClassifier показали самый низкий результат с F1 метрикой в среднем 0.67. "
   ]
  },
  {
   "cell_type": "markdown",
   "metadata": {},
   "source": [
    "## Тестирование"
   ]
  },
  {
   "cell_type": "markdown",
   "metadata": {},
   "source": [
    "Проверим модели на тестовой выборке: "
   ]
  },
  {
   "cell_type": "code",
   "execution_count": 25,
   "metadata": {},
   "outputs": [
    {
     "name": "stdout",
     "output_type": "stream",
     "text": [
      "0.7062857142857143\n",
      "CPU times: user 2.37 s, sys: 24.9 ms, total: 2.4 s\n",
      "Wall time: 2.41 s\n"
     ]
    }
   ],
   "source": [
    "%%time \n",
    "\n",
    "predictions = rf_g_model.predict(tf_idf_test)\n",
    "\n",
    "print(f1_score(target_test,predictions))"
   ]
  },
  {
   "cell_type": "code",
   "execution_count": 26,
   "metadata": {},
   "outputs": [
    {
     "name": "stdout",
     "output_type": "stream",
     "text": [
      "0.6594115276098348\n",
      "CPU times: user 1.96 s, sys: 23.7 ms, total: 1.99 s\n",
      "Wall time: 2 s\n"
     ]
    }
   ],
   "source": [
    "%%time \n",
    "\n",
    "predictions = rf_e_model.predict(tf_idf_test)\n",
    "\n",
    "print(f1_score(target_test,predictions))"
   ]
  },
  {
   "cell_type": "code",
   "execution_count": 27,
   "metadata": {},
   "outputs": [
    {
     "name": "stdout",
     "output_type": "stream",
     "text": [
      "0.7563938618925831\n",
      "CPU times: user 8.08 ms, sys: 190 µs, total: 8.27 ms\n",
      "Wall time: 6.99 ms\n"
     ]
    }
   ],
   "source": [
    "%%time \n",
    "\n",
    "predictions = lr_model.predict(tf_idf_test)\n",
    "\n",
    "print(f1_score(target_test,predictions))"
   ]
  },
  {
   "cell_type": "code",
   "execution_count": 28,
   "metadata": {
    "scrolled": true
   },
   "outputs": [
    {
     "name": "stdout",
     "output_type": "stream",
     "text": [
      "0.7733050847457628\n",
      "CPU times: user 290 ms, sys: 7.84 ms, total: 298 ms\n",
      "Wall time: 307 ms\n"
     ]
    }
   ],
   "source": [
    "%%time \n",
    "\n",
    "predictions = cb_s_model.predict(tf_idf_test)\n",
    "\n",
    "print(f1_score(target_test,predictions))"
   ]
  },
  {
   "cell_type": "markdown",
   "metadata": {},
   "source": [
    "## Выводы"
   ]
  },
  {
   "cell_type": "markdown",
   "metadata": {},
   "source": [
    "Как и ожидалось, RandomForestClassifier не показал хорошего результата. Поэтому, стоит сконцентрировать внимание на модели cb_s_model, которая показала метрику F1 равной 0.77 на тестовой выборке, чем подтвердила свою работоспособность. Однако она заняла больше всего времени на обучение и на предсказание, в разы больше чем другие модели. "
   ]
  }
 ],
 "metadata": {
  "ExecuteTimeLog": [
   {
    "duration": 1788,
    "start_time": "2023-02-26T17:04:20.132Z"
   },
   {
    "duration": 2,
    "start_time": "2023-02-26T17:04:21.922Z"
   },
   {
    "duration": 14,
    "start_time": "2023-02-26T17:04:21.926Z"
   },
   {
    "duration": 3715,
    "start_time": "2023-02-26T17:04:21.944Z"
   },
   {
    "duration": 13,
    "start_time": "2023-02-26T17:04:25.661Z"
   },
   {
    "duration": 17,
    "start_time": "2023-02-26T17:04:25.676Z"
   },
   {
    "duration": 40,
    "start_time": "2023-02-26T17:04:25.695Z"
   },
   {
    "duration": 27,
    "start_time": "2023-02-26T17:04:25.736Z"
   },
   {
    "duration": 262,
    "start_time": "2023-02-26T17:04:25.765Z"
   },
   {
    "duration": 30,
    "start_time": "2023-02-26T17:04:26.031Z"
   },
   {
    "duration": 153,
    "start_time": "2023-02-26T17:22:36.401Z"
   },
   {
    "duration": 2,
    "start_time": "2023-02-26T17:22:39.975Z"
   },
   {
    "duration": 125,
    "start_time": "2023-02-26T17:22:40.602Z"
   },
   {
    "duration": 14,
    "start_time": "2023-02-26T17:23:23.122Z"
   },
   {
    "duration": 4,
    "start_time": "2023-02-26T17:23:31.313Z"
   },
   {
    "duration": 70619,
    "start_time": "2023-02-26T17:23:37.276Z"
   },
   {
    "duration": 8,
    "start_time": "2023-02-26T17:26:22.764Z"
   },
   {
    "duration": 9,
    "start_time": "2023-02-26T17:26:23.484Z"
   },
   {
    "duration": 13,
    "start_time": "2023-02-26T17:27:15.666Z"
   },
   {
    "duration": 11,
    "start_time": "2023-02-26T17:27:21.357Z"
   },
   {
    "duration": 74,
    "start_time": "2023-02-26T17:27:26.109Z"
   },
   {
    "duration": 100,
    "start_time": "2023-02-26T17:27:52.615Z"
   },
   {
    "duration": 48,
    "start_time": "2023-02-26T17:27:58.964Z"
   },
   {
    "duration": 69,
    "start_time": "2023-02-26T17:28:04.198Z"
   },
   {
    "duration": 93,
    "start_time": "2023-02-26T17:28:08.000Z"
   },
   {
    "duration": 6,
    "start_time": "2023-02-26T17:29:55.062Z"
   },
   {
    "duration": 5,
    "start_time": "2023-02-26T18:29:13.914Z"
   },
   {
    "duration": 4,
    "start_time": "2023-02-26T18:29:14.255Z"
   },
   {
    "duration": 4,
    "start_time": "2023-02-26T18:29:24.391Z"
   },
   {
    "duration": 3,
    "start_time": "2023-02-26T18:29:34.506Z"
   },
   {
    "duration": 1873,
    "start_time": "2023-02-27T16:31:03.539Z"
   },
   {
    "duration": 3,
    "start_time": "2023-02-27T16:31:05.415Z"
   },
   {
    "duration": 12,
    "start_time": "2023-02-27T16:31:05.421Z"
   },
   {
    "duration": 2469,
    "start_time": "2023-02-27T16:31:05.434Z"
   },
   {
    "duration": 11,
    "start_time": "2023-02-27T16:31:07.905Z"
   },
   {
    "duration": 9,
    "start_time": "2023-02-27T16:31:07.917Z"
   },
   {
    "duration": 45,
    "start_time": "2023-02-27T16:31:07.928Z"
   },
   {
    "duration": 225,
    "start_time": "2023-02-27T16:31:07.975Z"
   },
   {
    "duration": 28,
    "start_time": "2023-02-27T16:31:08.201Z"
   },
   {
    "duration": 216,
    "start_time": "2023-02-27T16:31:08.230Z"
   },
   {
    "duration": 3,
    "start_time": "2023-02-27T16:31:08.447Z"
   },
   {
    "duration": 11,
    "start_time": "2023-02-27T16:31:08.452Z"
   },
   {
    "duration": 72646,
    "start_time": "2023-02-27T16:31:08.465Z"
   },
   {
    "duration": 8,
    "start_time": "2023-02-27T16:32:21.113Z"
   },
   {
    "duration": 11,
    "start_time": "2023-02-27T16:32:21.123Z"
   },
   {
    "duration": 101,
    "start_time": "2023-02-27T16:32:21.136Z"
   },
   {
    "duration": 15,
    "start_time": "2023-02-27T16:32:21.238Z"
   },
   {
    "duration": 14,
    "start_time": "2023-02-27T16:32:21.255Z"
   },
   {
    "duration": 3,
    "start_time": "2023-02-27T16:32:46.092Z"
   },
   {
    "duration": 200,
    "start_time": "2023-02-27T16:32:48.856Z"
   },
   {
    "duration": 5,
    "start_time": "2023-02-27T16:33:03.784Z"
   },
   {
    "duration": 9175,
    "start_time": "2023-02-27T16:33:08.161Z"
   },
   {
    "duration": 9177,
    "start_time": "2023-02-27T16:33:36.468Z"
   },
   {
    "duration": 4963,
    "start_time": "2023-02-27T16:34:36.060Z"
   },
   {
    "duration": 53,
    "start_time": "2023-02-27T16:35:45.688Z"
   },
   {
    "duration": 11,
    "start_time": "2023-02-27T16:37:11.272Z"
   },
   {
    "duration": 13,
    "start_time": "2023-02-27T16:37:36.596Z"
   },
   {
    "duration": 1351,
    "start_time": "2023-02-27T16:37:49.462Z"
   },
   {
    "duration": 3,
    "start_time": "2023-02-27T16:38:02.293Z"
   },
   {
    "duration": 16,
    "start_time": "2023-02-27T16:38:03.865Z"
   },
   {
    "duration": 1729,
    "start_time": "2023-02-27T16:39:32.509Z"
   },
   {
    "duration": 3,
    "start_time": "2023-02-27T16:39:34.241Z"
   },
   {
    "duration": 8,
    "start_time": "2023-02-27T16:39:34.248Z"
   },
   {
    "duration": 862,
    "start_time": "2023-02-27T16:39:34.258Z"
   },
   {
    "duration": 12,
    "start_time": "2023-02-27T16:39:35.124Z"
   },
   {
    "duration": 16,
    "start_time": "2023-02-27T16:39:35.138Z"
   },
   {
    "duration": 37,
    "start_time": "2023-02-27T16:39:35.157Z"
   },
   {
    "duration": 249,
    "start_time": "2023-02-27T16:39:35.196Z"
   },
   {
    "duration": 29,
    "start_time": "2023-02-27T16:39:35.449Z"
   },
   {
    "duration": 292,
    "start_time": "2023-02-27T16:39:35.480Z"
   },
   {
    "duration": 3,
    "start_time": "2023-02-27T16:39:35.773Z"
   },
   {
    "duration": 15,
    "start_time": "2023-02-27T16:39:35.778Z"
   },
   {
    "duration": 73538,
    "start_time": "2023-02-27T16:39:35.794Z"
   },
   {
    "duration": 7,
    "start_time": "2023-02-27T16:40:49.335Z"
   },
   {
    "duration": 7,
    "start_time": "2023-02-27T16:40:49.348Z"
   },
   {
    "duration": 127,
    "start_time": "2023-02-27T16:43:28.753Z"
   },
   {
    "duration": 95,
    "start_time": "2023-02-27T16:43:34.216Z"
   },
   {
    "duration": 6,
    "start_time": "2023-02-27T16:43:35.320Z"
   },
   {
    "duration": 4,
    "start_time": "2023-02-27T16:43:36.463Z"
   },
   {
    "duration": 15,
    "start_time": "2023-02-27T16:44:11.560Z"
   },
   {
    "duration": 21,
    "start_time": "2023-02-27T16:45:06.805Z"
   },
   {
    "duration": 12,
    "start_time": "2023-02-27T16:45:24.144Z"
   },
   {
    "duration": 5,
    "start_time": "2023-02-27T16:45:37.113Z"
   },
   {
    "duration": 4160,
    "start_time": "2023-02-27T16:45:45.011Z"
   },
   {
    "duration": 4924,
    "start_time": "2023-02-27T16:45:58.055Z"
   },
   {
    "duration": 4,
    "start_time": "2023-02-27T16:58:57.133Z"
   },
   {
    "duration": 1579,
    "start_time": "2023-02-27T17:07:28.241Z"
   },
   {
    "duration": 2,
    "start_time": "2023-02-27T17:07:29.822Z"
   },
   {
    "duration": 13,
    "start_time": "2023-02-27T17:07:29.826Z"
   },
   {
    "duration": 861,
    "start_time": "2023-02-27T17:07:29.840Z"
   },
   {
    "duration": 10,
    "start_time": "2023-02-27T17:07:30.703Z"
   },
   {
    "duration": 34,
    "start_time": "2023-02-27T17:07:30.715Z"
   },
   {
    "duration": 104,
    "start_time": "2023-02-27T17:07:30.751Z"
   },
   {
    "duration": 264,
    "start_time": "2023-02-27T17:07:30.857Z"
   },
   {
    "duration": 33,
    "start_time": "2023-02-27T17:07:31.123Z"
   },
   {
    "duration": 303,
    "start_time": "2023-02-27T17:07:31.157Z"
   },
   {
    "duration": 2,
    "start_time": "2023-02-27T17:07:31.462Z"
   },
   {
    "duration": 21,
    "start_time": "2023-02-27T17:07:31.466Z"
   },
   {
    "duration": 73468,
    "start_time": "2023-02-27T17:07:31.489Z"
   },
   {
    "duration": 8,
    "start_time": "2023-02-27T17:08:44.961Z"
   },
   {
    "duration": 11,
    "start_time": "2023-02-27T17:08:44.972Z"
   },
   {
    "duration": 136,
    "start_time": "2023-02-27T17:08:44.985Z"
   },
   {
    "duration": 6,
    "start_time": "2023-02-27T17:08:45.122Z"
   },
   {
    "duration": 18,
    "start_time": "2023-02-27T17:08:45.130Z"
   },
   {
    "duration": 5202,
    "start_time": "2023-02-27T17:08:45.150Z"
   },
   {
    "duration": 5,
    "start_time": "2023-02-27T17:08:50.354Z"
   },
   {
    "duration": 8,
    "start_time": "2023-02-27T17:08:50.361Z"
   },
   {
    "duration": 8,
    "start_time": "2023-02-27T17:08:50.370Z"
   },
   {
    "duration": 415411,
    "start_time": "2023-02-27T17:08:50.380Z"
   },
   {
    "duration": 50,
    "start_time": "2023-02-27T17:20:48.053Z"
   },
   {
    "duration": 1595,
    "start_time": "2023-02-27T17:20:53.602Z"
   },
   {
    "duration": 3,
    "start_time": "2023-02-27T17:20:55.199Z"
   },
   {
    "duration": 7,
    "start_time": "2023-02-27T17:20:55.204Z"
   },
   {
    "duration": 871,
    "start_time": "2023-02-27T17:20:55.213Z"
   },
   {
    "duration": 11,
    "start_time": "2023-02-27T17:20:56.086Z"
   },
   {
    "duration": 7,
    "start_time": "2023-02-27T17:20:56.099Z"
   },
   {
    "duration": 48,
    "start_time": "2023-02-27T17:20:56.108Z"
   },
   {
    "duration": 268,
    "start_time": "2023-02-27T17:20:56.158Z"
   },
   {
    "duration": 39,
    "start_time": "2023-02-27T17:20:56.428Z"
   },
   {
    "duration": 256,
    "start_time": "2023-02-27T17:20:56.469Z"
   },
   {
    "duration": 3,
    "start_time": "2023-02-27T17:20:56.727Z"
   },
   {
    "duration": 6,
    "start_time": "2023-02-27T17:20:56.731Z"
   },
   {
    "duration": 73091,
    "start_time": "2023-02-27T17:20:56.749Z"
   },
   {
    "duration": 11,
    "start_time": "2023-02-27T17:22:09.843Z"
   },
   {
    "duration": 13,
    "start_time": "2023-02-27T17:22:09.856Z"
   },
   {
    "duration": 99,
    "start_time": "2023-02-27T17:22:09.870Z"
   },
   {
    "duration": 5,
    "start_time": "2023-02-27T17:22:09.971Z"
   },
   {
    "duration": 6,
    "start_time": "2023-02-27T17:22:09.977Z"
   },
   {
    "duration": 5010,
    "start_time": "2023-02-27T17:22:09.985Z"
   },
   {
    "duration": 3,
    "start_time": "2023-02-27T17:22:14.997Z"
   },
   {
    "duration": 30,
    "start_time": "2023-02-27T17:22:15.002Z"
   },
   {
    "duration": 105,
    "start_time": "2023-02-27T17:22:15.034Z"
   },
   {
    "duration": 11,
    "start_time": "2023-02-27T17:23:20.363Z"
   },
   {
    "duration": 1847,
    "start_time": "2023-02-27T17:36:05.954Z"
   },
   {
    "duration": 3,
    "start_time": "2023-02-27T17:36:07.803Z"
   },
   {
    "duration": 9,
    "start_time": "2023-02-27T17:36:07.807Z"
   },
   {
    "duration": 859,
    "start_time": "2023-02-27T17:36:07.817Z"
   },
   {
    "duration": 11,
    "start_time": "2023-02-27T17:36:08.678Z"
   },
   {
    "duration": 8,
    "start_time": "2023-02-27T17:36:08.691Z"
   },
   {
    "duration": 54,
    "start_time": "2023-02-27T17:36:08.701Z"
   },
   {
    "duration": 240,
    "start_time": "2023-02-27T17:36:08.756Z"
   },
   {
    "duration": 29,
    "start_time": "2023-02-27T17:36:08.998Z"
   },
   {
    "duration": 246,
    "start_time": "2023-02-27T17:36:09.029Z"
   },
   {
    "duration": 3,
    "start_time": "2023-02-27T17:36:09.277Z"
   },
   {
    "duration": 8,
    "start_time": "2023-02-27T17:36:09.281Z"
   },
   {
    "duration": 73855,
    "start_time": "2023-02-27T17:36:09.290Z"
   },
   {
    "duration": 8,
    "start_time": "2023-02-27T17:37:23.148Z"
   },
   {
    "duration": 12,
    "start_time": "2023-02-27T17:37:23.157Z"
   },
   {
    "duration": 107,
    "start_time": "2023-02-27T17:37:23.170Z"
   },
   {
    "duration": 5,
    "start_time": "2023-02-27T17:37:23.278Z"
   },
   {
    "duration": 13,
    "start_time": "2023-02-27T17:37:23.284Z"
   },
   {
    "duration": 5009,
    "start_time": "2023-02-27T17:37:23.299Z"
   },
   {
    "duration": 4,
    "start_time": "2023-02-27T17:37:28.310Z"
   },
   {
    "duration": 3819,
    "start_time": "2023-02-27T17:37:37.993Z"
   },
   {
    "duration": 0,
    "start_time": "2023-02-27T17:37:41.814Z"
   },
   {
    "duration": 5118,
    "start_time": "2023-02-27T17:38:53.019Z"
   },
   {
    "duration": 5,
    "start_time": "2023-02-27T17:38:58.138Z"
   },
   {
    "duration": 1907,
    "start_time": "2023-02-27T17:55:44.674Z"
   },
   {
    "duration": 3,
    "start_time": "2023-02-27T17:55:46.584Z"
   },
   {
    "duration": 18,
    "start_time": "2023-02-27T17:55:46.589Z"
   },
   {
    "duration": 893,
    "start_time": "2023-02-27T17:55:46.608Z"
   },
   {
    "duration": 11,
    "start_time": "2023-02-27T17:55:47.503Z"
   },
   {
    "duration": 8,
    "start_time": "2023-02-27T17:55:47.516Z"
   },
   {
    "duration": 56,
    "start_time": "2023-02-27T17:55:47.525Z"
   },
   {
    "duration": 242,
    "start_time": "2023-02-27T17:55:47.583Z"
   },
   {
    "duration": 42,
    "start_time": "2023-02-27T17:55:47.827Z"
   },
   {
    "duration": 221,
    "start_time": "2023-02-27T17:55:47.871Z"
   },
   {
    "duration": 2,
    "start_time": "2023-02-27T17:55:48.094Z"
   },
   {
    "duration": 8,
    "start_time": "2023-02-27T17:55:48.098Z"
   },
   {
    "duration": 79491,
    "start_time": "2023-02-27T17:55:48.108Z"
   },
   {
    "duration": 7,
    "start_time": "2023-02-27T17:57:07.602Z"
   },
   {
    "duration": 14,
    "start_time": "2023-02-27T17:57:07.610Z"
   },
   {
    "duration": 113,
    "start_time": "2023-02-27T17:57:07.625Z"
   },
   {
    "duration": 21,
    "start_time": "2023-02-27T17:57:07.740Z"
   },
   {
    "duration": 13,
    "start_time": "2023-02-27T17:57:07.763Z"
   },
   {
    "duration": 5193,
    "start_time": "2023-02-27T17:57:07.778Z"
   },
   {
    "duration": 4,
    "start_time": "2023-02-27T17:57:12.973Z"
   },
   {
    "duration": 42493,
    "start_time": "2023-02-27T17:57:12.979Z"
   },
   {
    "duration": 15,
    "start_time": "2023-02-27T17:57:55.549Z"
   },
   {
    "duration": 6,
    "start_time": "2023-02-27T18:11:45.255Z"
   },
   {
    "duration": 9,
    "start_time": "2023-02-27T18:11:45.264Z"
   },
   {
    "duration": 19,
    "start_time": "2023-02-27T18:11:45.274Z"
   },
   {
    "duration": 865,
    "start_time": "2023-02-27T18:11:45.295Z"
   },
   {
    "duration": 8,
    "start_time": "2023-02-27T18:11:46.162Z"
   },
   {
    "duration": 8,
    "start_time": "2023-02-27T18:11:46.172Z"
   },
   {
    "duration": 34,
    "start_time": "2023-02-27T18:11:46.182Z"
   },
   {
    "duration": 296,
    "start_time": "2023-02-27T18:11:46.219Z"
   },
   {
    "duration": 37,
    "start_time": "2023-02-27T18:11:46.518Z"
   },
   {
    "duration": 6,
    "start_time": "2023-02-27T18:11:46.559Z"
   },
   {
    "duration": 25,
    "start_time": "2023-02-27T18:11:46.568Z"
   },
   {
    "duration": 20,
    "start_time": "2023-02-27T18:11:46.596Z"
   },
   {
    "duration": 76845,
    "start_time": "2023-02-27T18:11:46.619Z"
   },
   {
    "duration": 10,
    "start_time": "2023-02-27T18:13:03.468Z"
   },
   {
    "duration": 20,
    "start_time": "2023-02-27T18:13:03.480Z"
   },
   {
    "duration": 152,
    "start_time": "2023-02-27T18:13:03.502Z"
   },
   {
    "duration": 9,
    "start_time": "2023-02-27T18:13:03.656Z"
   },
   {
    "duration": 59,
    "start_time": "2023-02-27T18:13:03.668Z"
   },
   {
    "duration": 5445,
    "start_time": "2023-02-27T18:13:03.729Z"
   },
   {
    "duration": 4,
    "start_time": "2023-02-27T18:13:09.176Z"
   },
   {
    "duration": 529777,
    "start_time": "2023-02-27T18:13:09.181Z"
   },
   {
    "duration": 1753,
    "start_time": "2023-02-28T04:30:43.384Z"
   },
   {
    "duration": 3,
    "start_time": "2023-02-28T04:30:45.139Z"
   },
   {
    "duration": 37,
    "start_time": "2023-02-28T04:30:45.144Z"
   },
   {
    "duration": 922,
    "start_time": "2023-02-28T04:30:45.183Z"
   },
   {
    "duration": 11,
    "start_time": "2023-02-28T04:30:46.107Z"
   },
   {
    "duration": 8,
    "start_time": "2023-02-28T04:30:46.119Z"
   },
   {
    "duration": 60,
    "start_time": "2023-02-28T04:30:46.129Z"
   },
   {
    "duration": 318,
    "start_time": "2023-02-28T04:30:46.190Z"
   },
   {
    "duration": 43,
    "start_time": "2023-02-28T04:30:46.510Z"
   },
   {
    "duration": 308,
    "start_time": "2023-02-28T04:30:46.557Z"
   },
   {
    "duration": 5,
    "start_time": "2023-02-28T04:30:46.869Z"
   },
   {
    "duration": 12,
    "start_time": "2023-02-28T04:30:46.881Z"
   },
   {
    "duration": 91864,
    "start_time": "2023-02-28T04:30:46.895Z"
   },
   {
    "duration": 12,
    "start_time": "2023-02-28T04:32:18.762Z"
   },
   {
    "duration": 24,
    "start_time": "2023-02-28T04:32:18.777Z"
   },
   {
    "duration": 102,
    "start_time": "2023-02-28T04:32:18.802Z"
   },
   {
    "duration": 4,
    "start_time": "2023-02-28T04:32:18.906Z"
   },
   {
    "duration": 15,
    "start_time": "2023-02-28T04:32:18.912Z"
   },
   {
    "duration": 5563,
    "start_time": "2023-02-28T04:32:18.929Z"
   },
   {
    "duration": 4,
    "start_time": "2023-02-28T04:32:24.494Z"
   },
   {
    "duration": 297017,
    "start_time": "2023-02-28T04:32:24.500Z"
   },
   {
    "duration": 298,
    "start_time": "2023-02-28T04:37:21.521Z"
   },
   {
    "duration": 207884,
    "start_time": "2023-02-28T04:37:21.820Z"
   },
   {
    "duration": 16,
    "start_time": "2023-02-28T04:40:49.706Z"
   },
   {
    "duration": 4,
    "start_time": "2023-02-28T04:40:54.209Z"
   },
   {
    "duration": 162,
    "start_time": "2023-02-28T04:46:54.775Z"
   },
   {
    "duration": 1947,
    "start_time": "2023-02-28T04:47:28.579Z"
   },
   {
    "duration": 3,
    "start_time": "2023-02-28T04:47:30.528Z"
   },
   {
    "duration": 44,
    "start_time": "2023-02-28T04:47:30.532Z"
   },
   {
    "duration": 1022,
    "start_time": "2023-02-28T04:47:30.582Z"
   },
   {
    "duration": 94,
    "start_time": "2023-02-28T04:47:31.606Z"
   },
   {
    "duration": 7,
    "start_time": "2023-02-28T04:47:31.702Z"
   },
   {
    "duration": 75,
    "start_time": "2023-02-28T04:47:31.711Z"
   },
   {
    "duration": 303,
    "start_time": "2023-02-28T04:47:31.790Z"
   },
   {
    "duration": 27,
    "start_time": "2023-02-28T04:47:32.096Z"
   },
   {
    "duration": 250,
    "start_time": "2023-02-28T04:47:32.125Z"
   },
   {
    "duration": 7,
    "start_time": "2023-02-28T04:47:32.376Z"
   },
   {
    "duration": 40,
    "start_time": "2023-02-28T04:47:32.384Z"
   },
   {
    "duration": 3805,
    "start_time": "2023-02-28T05:55:40.873Z"
   },
   {
    "duration": 7,
    "start_time": "2023-02-28T05:55:44.688Z"
   },
   {
    "duration": 50,
    "start_time": "2023-02-28T05:55:44.701Z"
   },
   {
    "duration": 1480,
    "start_time": "2023-02-28T05:55:44.762Z"
   },
   {
    "duration": 150,
    "start_time": "2023-02-28T05:55:46.247Z"
   },
   {
    "duration": 13,
    "start_time": "2023-02-28T05:55:46.407Z"
   },
   {
    "duration": 170,
    "start_time": "2023-02-28T05:55:46.424Z"
   },
   {
    "duration": 446,
    "start_time": "2023-02-28T05:55:46.596Z"
   },
   {
    "duration": 42,
    "start_time": "2023-02-28T05:55:47.048Z"
   },
   {
    "duration": 509,
    "start_time": "2023-02-28T05:55:47.098Z"
   },
   {
    "duration": 10,
    "start_time": "2023-02-28T05:55:47.615Z"
   },
   {
    "duration": 105,
    "start_time": "2023-02-28T05:55:47.629Z"
   },
   {
    "duration": 116653,
    "start_time": "2023-02-28T05:55:47.737Z"
   },
   {
    "duration": 21,
    "start_time": "2023-02-28T05:57:44.397Z"
   },
   {
    "duration": 11,
    "start_time": "2023-02-28T05:57:44.420Z"
   },
   {
    "duration": 140,
    "start_time": "2023-02-28T05:57:44.432Z"
   },
   {
    "duration": 5,
    "start_time": "2023-02-28T05:57:44.574Z"
   },
   {
    "duration": 43,
    "start_time": "2023-02-28T05:57:44.583Z"
   },
   {
    "duration": 7857,
    "start_time": "2023-02-28T05:57:44.628Z"
   },
   {
    "duration": 12,
    "start_time": "2023-02-28T05:57:52.493Z"
   },
   {
    "duration": 554227,
    "start_time": "2023-02-28T05:57:52.508Z"
   },
   {
    "duration": 366716,
    "start_time": "2023-02-28T06:07:06.742Z"
   },
   {
    "duration": 2974056,
    "start_time": "2023-02-28T06:13:13.460Z"
   },
   {
    "duration": 169,
    "start_time": "2023-02-28T07:09:51.257Z"
   },
   {
    "duration": 1984,
    "start_time": "2023-02-28T07:40:28.956Z"
   },
   {
    "duration": 3,
    "start_time": "2023-02-28T07:40:30.942Z"
   },
   {
    "duration": 85,
    "start_time": "2023-02-28T07:40:30.947Z"
   },
   {
    "duration": 3490,
    "start_time": "2023-02-28T07:40:31.034Z"
   },
   {
    "duration": 12,
    "start_time": "2023-02-28T07:40:34.527Z"
   },
   {
    "duration": 15,
    "start_time": "2023-02-28T07:40:34.540Z"
   },
   {
    "duration": 34,
    "start_time": "2023-02-28T07:40:34.557Z"
   },
   {
    "duration": 241,
    "start_time": "2023-02-28T07:40:34.593Z"
   },
   {
    "duration": 27,
    "start_time": "2023-02-28T07:40:34.836Z"
   },
   {
    "duration": 225,
    "start_time": "2023-02-28T07:40:34.865Z"
   },
   {
    "duration": 2,
    "start_time": "2023-02-28T07:40:35.092Z"
   },
   {
    "duration": 7,
    "start_time": "2023-02-28T07:40:35.096Z"
   },
   {
    "duration": 68601,
    "start_time": "2023-02-28T07:40:35.105Z"
   },
   {
    "duration": 9,
    "start_time": "2023-02-28T07:41:43.708Z"
   },
   {
    "duration": 10,
    "start_time": "2023-02-28T07:41:43.727Z"
   },
   {
    "duration": 103,
    "start_time": "2023-02-28T07:41:43.738Z"
   },
   {
    "duration": 5,
    "start_time": "2023-02-28T07:41:43.843Z"
   },
   {
    "duration": 12,
    "start_time": "2023-02-28T07:41:43.850Z"
   },
   {
    "duration": 5223,
    "start_time": "2023-02-28T07:41:43.864Z"
   },
   {
    "duration": 4,
    "start_time": "2023-02-28T07:41:49.089Z"
   },
   {
    "duration": 2087250,
    "start_time": "2023-02-28T07:41:49.095Z"
   },
   {
    "duration": 40,
    "start_time": "2023-02-28T08:28:21.827Z"
   },
   {
    "duration": 1581,
    "start_time": "2023-02-28T08:34:55.216Z"
   },
   {
    "duration": 2,
    "start_time": "2023-02-28T08:34:56.799Z"
   },
   {
    "duration": 9,
    "start_time": "2023-02-28T08:34:56.803Z"
   },
   {
    "duration": 1000,
    "start_time": "2023-02-28T08:34:56.814Z"
   },
   {
    "duration": 90,
    "start_time": "2023-02-28T08:34:57.817Z"
   },
   {
    "duration": 18,
    "start_time": "2023-02-28T08:34:57.909Z"
   },
   {
    "duration": 40,
    "start_time": "2023-02-28T08:34:57.929Z"
   },
   {
    "duration": 243,
    "start_time": "2023-02-28T08:34:57.971Z"
   },
   {
    "duration": 32,
    "start_time": "2023-02-28T08:34:58.216Z"
   },
   {
    "duration": 224,
    "start_time": "2023-02-28T08:34:58.250Z"
   },
   {
    "duration": 3,
    "start_time": "2023-02-28T08:34:58.476Z"
   },
   {
    "duration": 14,
    "start_time": "2023-02-28T08:34:58.480Z"
   },
   {
    "duration": 68171,
    "start_time": "2023-02-28T08:34:58.496Z"
   },
   {
    "duration": 8,
    "start_time": "2023-02-28T08:36:06.670Z"
   },
   {
    "duration": 16,
    "start_time": "2023-02-28T08:36:06.681Z"
   },
   {
    "duration": 119,
    "start_time": "2023-02-28T08:36:06.699Z"
   },
   {
    "duration": 9,
    "start_time": "2023-02-28T08:36:06.820Z"
   },
   {
    "duration": 11,
    "start_time": "2023-02-28T08:36:06.831Z"
   },
   {
    "duration": 5200,
    "start_time": "2023-02-28T08:36:06.845Z"
   },
   {
    "duration": 4,
    "start_time": "2023-02-28T08:36:12.047Z"
   },
   {
    "duration": 452414,
    "start_time": "2023-02-28T08:36:12.052Z"
   },
   {
    "duration": 33,
    "start_time": "2023-02-28T08:43:44.467Z"
   },
   {
    "duration": 507593,
    "start_time": "2023-02-28T08:57:44.830Z"
   },
   {
    "duration": 165,
    "start_time": "2023-02-28T09:06:12.426Z"
   },
   {
    "duration": 10,
    "start_time": "2023-02-28T09:12:54.599Z"
   },
   {
    "duration": 10,
    "start_time": "2023-02-28T09:13:34.445Z"
   },
   {
    "duration": 10,
    "start_time": "2023-02-28T09:14:14.068Z"
   },
   {
    "duration": 11,
    "start_time": "2023-02-28T09:14:17.896Z"
   },
   {
    "duration": 9,
    "start_time": "2023-02-28T09:14:29.497Z"
   },
   {
    "duration": 1474,
    "start_time": "2023-02-28T09:15:31.685Z"
   },
   {
    "duration": 3,
    "start_time": "2023-02-28T09:15:33.161Z"
   },
   {
    "duration": 8,
    "start_time": "2023-02-28T09:15:33.165Z"
   },
   {
    "duration": 787,
    "start_time": "2023-02-28T09:15:33.174Z"
   },
   {
    "duration": 85,
    "start_time": "2023-02-28T09:15:33.964Z"
   },
   {
    "duration": 6,
    "start_time": "2023-02-28T09:15:34.051Z"
   },
   {
    "duration": 44,
    "start_time": "2023-02-28T09:15:34.059Z"
   },
   {
    "duration": 243,
    "start_time": "2023-02-28T09:15:34.104Z"
   },
   {
    "duration": 27,
    "start_time": "2023-02-28T09:15:34.349Z"
   },
   {
    "duration": 233,
    "start_time": "2023-02-28T09:15:34.377Z"
   },
   {
    "duration": 2,
    "start_time": "2023-02-28T09:15:34.612Z"
   },
   {
    "duration": 5,
    "start_time": "2023-02-28T09:15:34.616Z"
   },
   {
    "duration": 67338,
    "start_time": "2023-02-28T09:15:34.622Z"
   },
   {
    "duration": 8,
    "start_time": "2023-02-28T09:16:41.963Z"
   },
   {
    "duration": 13,
    "start_time": "2023-02-28T09:16:41.972Z"
   },
   {
    "duration": 114,
    "start_time": "2023-02-28T09:16:41.986Z"
   },
   {
    "duration": 4,
    "start_time": "2023-02-28T09:16:42.102Z"
   },
   {
    "duration": 26,
    "start_time": "2023-02-28T09:16:42.108Z"
   },
   {
    "duration": 4773,
    "start_time": "2023-02-28T09:16:42.136Z"
   },
   {
    "duration": 4,
    "start_time": "2023-02-28T09:16:46.911Z"
   },
   {
    "duration": 446212,
    "start_time": "2023-02-28T09:16:46.916Z"
   },
   {
    "duration": 31,
    "start_time": "2023-02-28T09:24:13.130Z"
   },
   {
    "duration": 471834,
    "start_time": "2023-02-28T09:24:13.163Z"
   },
   {
    "duration": 36,
    "start_time": "2023-02-28T09:32:04.999Z"
   },
   {
    "duration": 276353,
    "start_time": "2023-02-28T09:32:05.036Z"
   },
   {
    "duration": 4,
    "start_time": "2023-02-28T09:36:41.390Z"
   },
   {
    "duration": 2032908,
    "start_time": "2023-02-28T09:36:41.395Z"
   },
   {
    "duration": 126,
    "start_time": "2023-02-28T10:10:34.305Z"
   },
   {
    "duration": 0,
    "start_time": "2023-02-28T10:10:34.433Z"
   },
   {
    "duration": 0,
    "start_time": "2023-02-28T10:10:34.435Z"
   },
   {
    "duration": 1577,
    "start_time": "2023-02-28T11:05:18.188Z"
   },
   {
    "duration": 2,
    "start_time": "2023-02-28T11:05:19.767Z"
   },
   {
    "duration": 6,
    "start_time": "2023-02-28T11:05:19.771Z"
   },
   {
    "duration": 818,
    "start_time": "2023-02-28T11:05:19.779Z"
   },
   {
    "duration": 87,
    "start_time": "2023-02-28T11:05:20.599Z"
   },
   {
    "duration": 7,
    "start_time": "2023-02-28T11:05:20.688Z"
   },
   {
    "duration": 51,
    "start_time": "2023-02-28T11:05:20.696Z"
   },
   {
    "duration": 233,
    "start_time": "2023-02-28T11:05:20.750Z"
   },
   {
    "duration": 28,
    "start_time": "2023-02-28T11:05:20.984Z"
   },
   {
    "duration": 154,
    "start_time": "2023-02-28T11:05:21.013Z"
   },
   {
    "duration": 2,
    "start_time": "2023-02-28T11:05:21.169Z"
   },
   {
    "duration": 21,
    "start_time": "2023-02-28T11:05:21.173Z"
   },
   {
    "duration": 69223,
    "start_time": "2023-02-28T11:05:21.196Z"
   },
   {
    "duration": 10,
    "start_time": "2023-02-28T11:06:30.426Z"
   },
   {
    "duration": 66,
    "start_time": "2023-02-28T11:06:30.438Z"
   },
   {
    "duration": 147,
    "start_time": "2023-02-28T11:06:30.506Z"
   },
   {
    "duration": 5,
    "start_time": "2023-02-28T11:06:30.656Z"
   },
   {
    "duration": 29,
    "start_time": "2023-02-28T11:06:30.662Z"
   },
   {
    "duration": 4819,
    "start_time": "2023-02-28T11:06:30.693Z"
   },
   {
    "duration": 3,
    "start_time": "2023-02-28T11:06:35.514Z"
   },
   {
    "duration": 441227,
    "start_time": "2023-02-28T11:06:35.518Z"
   },
   {
    "duration": 30,
    "start_time": "2023-02-28T11:13:56.747Z"
   },
   {
    "duration": 475914,
    "start_time": "2023-02-28T11:13:56.779Z"
   },
   {
    "duration": 34,
    "start_time": "2023-02-28T11:21:52.695Z"
   },
   {
    "duration": 281059,
    "start_time": "2023-02-28T11:21:52.730Z"
   },
   {
    "duration": 3,
    "start_time": "2023-02-28T11:26:33.791Z"
   },
   {
    "duration": 2032666,
    "start_time": "2023-02-28T11:26:33.795Z"
   },
   {
    "duration": 30,
    "start_time": "2023-02-28T12:00:26.463Z"
   },
   {
    "duration": 3412469,
    "start_time": "2023-02-28T12:00:26.495Z"
   },
   {
    "duration": 30,
    "start_time": "2023-02-28T12:57:18.966Z"
   },
   {
    "duration": 2534,
    "start_time": "2023-02-28T13:03:34.472Z"
   },
   {
    "duration": 5644,
    "start_time": "2023-02-28T13:03:37.008Z"
   },
   {
    "duration": 563,
    "start_time": "2023-02-28T13:04:04.616Z"
   },
   {
    "duration": 435363,
    "start_time": "2023-02-28T13:07:39.066Z"
   },
   {
    "duration": 188,
    "start_time": "2023-02-28T13:14:54.431Z"
   },
   {
    "duration": 3,
    "start_time": "2023-02-28T13:16:52.236Z"
   },
   {
    "duration": 131,
    "start_time": "2023-02-28T13:18:19.618Z"
   },
   {
    "duration": 54,
    "start_time": "2023-02-28T13:18:26.120Z"
   },
   {
    "duration": 0,
    "start_time": "2023-02-28T13:20:43.315Z"
   },
   {
    "duration": 0,
    "start_time": "2023-02-28T13:20:43.316Z"
   },
   {
    "duration": 68,
    "start_time": "2023-02-28T13:23:24.233Z"
   },
   {
    "duration": 2031,
    "start_time": "2023-02-28T13:25:25.614Z"
   },
   {
    "duration": 3,
    "start_time": "2023-02-28T13:25:27.647Z"
   },
   {
    "duration": 13,
    "start_time": "2023-02-28T13:25:27.652Z"
   },
   {
    "duration": 757,
    "start_time": "2023-02-28T13:25:27.666Z"
   },
   {
    "duration": 11,
    "start_time": "2023-02-28T13:25:28.425Z"
   },
   {
    "duration": 10,
    "start_time": "2023-02-28T13:25:28.438Z"
   },
   {
    "duration": 41,
    "start_time": "2023-02-28T13:25:28.450Z"
   },
   {
    "duration": 231,
    "start_time": "2023-02-28T13:25:28.492Z"
   },
   {
    "duration": 29,
    "start_time": "2023-02-28T13:25:28.727Z"
   },
   {
    "duration": 159,
    "start_time": "2023-02-28T13:25:28.758Z"
   },
   {
    "duration": 3,
    "start_time": "2023-02-28T13:25:28.919Z"
   },
   {
    "duration": 10,
    "start_time": "2023-02-28T13:25:28.924Z"
   },
   {
    "duration": 66735,
    "start_time": "2023-02-28T13:25:28.935Z"
   },
   {
    "duration": 8,
    "start_time": "2023-02-28T13:26:35.672Z"
   },
   {
    "duration": 21,
    "start_time": "2023-02-28T13:26:35.681Z"
   },
   {
    "duration": 114,
    "start_time": "2023-02-28T13:26:35.703Z"
   },
   {
    "duration": 4,
    "start_time": "2023-02-28T13:26:35.819Z"
   },
   {
    "duration": 39,
    "start_time": "2023-02-28T13:26:35.824Z"
   },
   {
    "duration": 5050,
    "start_time": "2023-02-28T13:26:35.864Z"
   },
   {
    "duration": 4,
    "start_time": "2023-02-28T13:26:40.916Z"
   },
   {
    "duration": 506542,
    "start_time": "2023-02-28T13:26:40.926Z"
   },
   {
    "duration": 32,
    "start_time": "2023-02-28T13:35:07.470Z"
   },
   {
    "duration": 1647,
    "start_time": "2023-02-28T13:40:27.936Z"
   },
   {
    "duration": 3,
    "start_time": "2023-02-28T13:40:29.585Z"
   },
   {
    "duration": 10,
    "start_time": "2023-02-28T13:40:29.589Z"
   },
   {
    "duration": 783,
    "start_time": "2023-02-28T13:40:29.600Z"
   },
   {
    "duration": 12,
    "start_time": "2023-02-28T13:40:30.385Z"
   },
   {
    "duration": 40,
    "start_time": "2023-02-28T13:40:30.399Z"
   },
   {
    "duration": 74,
    "start_time": "2023-02-28T13:40:30.441Z"
   },
   {
    "duration": 258,
    "start_time": "2023-02-28T13:40:30.517Z"
   },
   {
    "duration": 29,
    "start_time": "2023-02-28T13:40:30.777Z"
   },
   {
    "duration": 254,
    "start_time": "2023-02-28T13:40:30.807Z"
   },
   {
    "duration": 3,
    "start_time": "2023-02-28T13:40:31.063Z"
   },
   {
    "duration": 47,
    "start_time": "2023-02-28T13:40:31.067Z"
   },
   {
    "duration": 68048,
    "start_time": "2023-02-28T13:40:31.116Z"
   },
   {
    "duration": 8,
    "start_time": "2023-02-28T13:41:39.167Z"
   },
   {
    "duration": 11,
    "start_time": "2023-02-28T13:41:39.177Z"
   },
   {
    "duration": 114,
    "start_time": "2023-02-28T13:41:39.189Z"
   },
   {
    "duration": 4,
    "start_time": "2023-02-28T13:41:39.305Z"
   },
   {
    "duration": 13,
    "start_time": "2023-02-28T13:41:39.311Z"
   },
   {
    "duration": 4946,
    "start_time": "2023-02-28T13:41:39.327Z"
   },
   {
    "duration": 4,
    "start_time": "2023-02-28T13:41:44.275Z"
   },
   {
    "duration": 513647,
    "start_time": "2023-02-28T13:41:44.280Z"
   },
   {
    "duration": 2739,
    "start_time": "2023-02-28T14:55:09.135Z"
   },
   {
    "duration": 3,
    "start_time": "2023-02-28T14:55:11.876Z"
   },
   {
    "duration": 5,
    "start_time": "2023-02-28T14:55:11.880Z"
   },
   {
    "duration": 1595,
    "start_time": "2023-02-28T14:55:11.886Z"
   },
   {
    "duration": 13,
    "start_time": "2023-02-28T14:55:13.483Z"
   },
   {
    "duration": 7,
    "start_time": "2023-02-28T14:55:13.498Z"
   },
   {
    "duration": 46,
    "start_time": "2023-02-28T14:55:13.507Z"
   },
   {
    "duration": 239,
    "start_time": "2023-02-28T14:55:13.554Z"
   },
   {
    "duration": 36,
    "start_time": "2023-02-28T14:55:13.795Z"
   },
   {
    "duration": 231,
    "start_time": "2023-02-28T14:55:13.833Z"
   },
   {
    "duration": 3,
    "start_time": "2023-02-28T14:55:14.066Z"
   },
   {
    "duration": 16,
    "start_time": "2023-02-28T14:55:14.070Z"
   },
   {
    "duration": 69472,
    "start_time": "2023-02-28T14:55:14.087Z"
   },
   {
    "duration": 8,
    "start_time": "2023-02-28T14:56:23.561Z"
   },
   {
    "duration": 14,
    "start_time": "2023-02-28T14:56:23.570Z"
   },
   {
    "duration": 138,
    "start_time": "2023-02-28T14:56:23.586Z"
   },
   {
    "duration": 5,
    "start_time": "2023-02-28T14:56:23.726Z"
   },
   {
    "duration": 4,
    "start_time": "2023-02-28T14:56:23.732Z"
   },
   {
    "duration": 5030,
    "start_time": "2023-02-28T14:56:23.738Z"
   },
   {
    "duration": 4,
    "start_time": "2023-02-28T14:56:28.769Z"
   },
   {
    "duration": 574871,
    "start_time": "2023-02-28T14:56:28.775Z"
   },
   {
    "duration": 562714,
    "start_time": "2023-02-28T15:06:03.649Z"
   },
   {
    "duration": 473079,
    "start_time": "2023-02-28T15:15:26.364Z"
   },
   {
    "duration": 2309231,
    "start_time": "2023-02-28T15:23:19.445Z"
   },
   {
    "duration": 1860942,
    "start_time": "2023-02-28T16:01:48.678Z"
   },
   {
    "duration": 39858,
    "start_time": "2023-02-28T16:32:49.622Z"
   },
   {
    "duration": 6640,
    "start_time": "2023-02-28T16:33:29.482Z"
   },
   {
    "duration": 5255,
    "start_time": "2023-02-28T16:33:36.123Z"
   },
   {
    "duration": 611,
    "start_time": "2023-02-28T16:33:41.380Z"
   },
   {
    "duration": 110,
    "start_time": "2023-02-28T16:33:41.993Z"
   },
   {
    "duration": 84,
    "start_time": "2023-02-28T16:33:42.105Z"
   },
   {
    "duration": 19,
    "start_time": "2023-02-28T16:33:42.190Z"
   },
   {
    "duration": 77,
    "start_time": "2023-02-28T16:33:42.224Z"
   },
   {
    "duration": 67,
    "start_time": "2023-02-28T16:33:42.303Z"
   },
   {
    "duration": 90,
    "start_time": "2023-02-28T16:34:09.236Z"
   },
   {
    "duration": 1903,
    "start_time": "2023-02-28T17:42:32.922Z"
   },
   {
    "duration": 7,
    "start_time": "2023-02-28T17:42:34.827Z"
   },
   {
    "duration": 24,
    "start_time": "2023-02-28T17:42:34.841Z"
   },
   {
    "duration": 3338,
    "start_time": "2023-02-28T17:42:34.867Z"
   },
   {
    "duration": 12,
    "start_time": "2023-02-28T17:42:38.207Z"
   },
   {
    "duration": 18,
    "start_time": "2023-02-28T17:42:38.221Z"
   },
   {
    "duration": 46,
    "start_time": "2023-02-28T17:42:38.241Z"
   },
   {
    "duration": 249,
    "start_time": "2023-02-28T17:42:38.290Z"
   },
   {
    "duration": 30,
    "start_time": "2023-02-28T17:42:38.545Z"
   },
   {
    "duration": 280,
    "start_time": "2023-02-28T17:42:38.577Z"
   },
   {
    "duration": 3,
    "start_time": "2023-02-28T17:42:38.860Z"
   },
   {
    "duration": 11,
    "start_time": "2023-02-28T17:42:38.864Z"
   },
   {
    "duration": 4723,
    "start_time": "2023-02-28T17:42:38.877Z"
   },
   {
    "duration": 0,
    "start_time": "2023-02-28T17:42:43.601Z"
   },
   {
    "duration": 0,
    "start_time": "2023-02-28T17:42:43.603Z"
   },
   {
    "duration": 0,
    "start_time": "2023-02-28T17:42:43.604Z"
   },
   {
    "duration": 0,
    "start_time": "2023-02-28T17:42:43.606Z"
   },
   {
    "duration": 0,
    "start_time": "2023-02-28T17:42:43.608Z"
   },
   {
    "duration": 0,
    "start_time": "2023-02-28T17:42:43.611Z"
   },
   {
    "duration": 0,
    "start_time": "2023-02-28T17:42:43.613Z"
   },
   {
    "duration": 0,
    "start_time": "2023-02-28T17:42:43.615Z"
   },
   {
    "duration": 0,
    "start_time": "2023-02-28T17:42:43.616Z"
   },
   {
    "duration": 0,
    "start_time": "2023-02-28T17:42:43.618Z"
   },
   {
    "duration": 0,
    "start_time": "2023-02-28T17:42:43.619Z"
   },
   {
    "duration": 0,
    "start_time": "2023-02-28T17:42:43.621Z"
   },
   {
    "duration": 0,
    "start_time": "2023-02-28T17:42:43.622Z"
   },
   {
    "duration": 0,
    "start_time": "2023-02-28T17:42:43.626Z"
   },
   {
    "duration": 0,
    "start_time": "2023-02-28T17:42:43.629Z"
   },
   {
    "duration": 1598,
    "start_time": "2023-02-28T17:43:05.615Z"
   },
   {
    "duration": 3,
    "start_time": "2023-02-28T17:43:07.215Z"
   },
   {
    "duration": 21,
    "start_time": "2023-02-28T17:43:07.219Z"
   },
   {
    "duration": 856,
    "start_time": "2023-02-28T17:43:07.242Z"
   },
   {
    "duration": 13,
    "start_time": "2023-02-28T17:43:08.100Z"
   },
   {
    "duration": 26,
    "start_time": "2023-02-28T17:43:08.114Z"
   },
   {
    "duration": 119,
    "start_time": "2023-02-28T17:43:08.142Z"
   },
   {
    "duration": 244,
    "start_time": "2023-02-28T17:43:08.262Z"
   },
   {
    "duration": 36,
    "start_time": "2023-02-28T17:43:08.508Z"
   },
   {
    "duration": 205,
    "start_time": "2023-02-28T17:43:08.546Z"
   },
   {
    "duration": 2,
    "start_time": "2023-02-28T17:43:08.753Z"
   },
   {
    "duration": 13,
    "start_time": "2023-02-28T17:43:08.757Z"
   },
   {
    "duration": 75195,
    "start_time": "2023-02-28T17:43:08.771Z"
   },
   {
    "duration": 11,
    "start_time": "2023-02-28T17:44:23.969Z"
   },
   {
    "duration": 8,
    "start_time": "2023-02-28T17:44:23.982Z"
   },
   {
    "duration": 120,
    "start_time": "2023-02-28T17:44:23.991Z"
   },
   {
    "duration": 5,
    "start_time": "2023-02-28T17:44:24.113Z"
   },
   {
    "duration": 12,
    "start_time": "2023-02-28T17:44:24.132Z"
   },
   {
    "duration": 5367,
    "start_time": "2023-02-28T17:44:24.146Z"
   },
   {
    "duration": 3,
    "start_time": "2023-02-28T17:44:29.515Z"
   },
   {
    "duration": 535597,
    "start_time": "2023-02-28T17:44:29.520Z"
   },
   {
    "duration": 582388,
    "start_time": "2023-02-28T17:53:25.119Z"
   },
   {
    "duration": 507645,
    "start_time": "2023-02-28T18:03:07.509Z"
   },
   {
    "duration": 2301873,
    "start_time": "2023-02-28T18:11:35.236Z"
   },
   {
    "duration": 6539,
    "start_time": "2023-02-28T18:49:57.111Z"
   },
   {
    "duration": 4902,
    "start_time": "2023-02-28T18:50:03.652Z"
   },
   {
    "duration": 18,
    "start_time": "2023-02-28T18:50:08.556Z"
   },
   {
    "duration": 508,
    "start_time": "2023-02-28T18:50:08.575Z"
   },
   {
    "duration": 502,
    "start_time": "2023-02-28T18:54:13.099Z"
   },
   {
    "duration": 1610,
    "start_time": "2023-02-28T18:54:51.273Z"
   },
   {
    "duration": 3,
    "start_time": "2023-02-28T18:54:52.885Z"
   },
   {
    "duration": 16,
    "start_time": "2023-02-28T18:54:52.889Z"
   },
   {
    "duration": 849,
    "start_time": "2023-02-28T18:54:52.907Z"
   },
   {
    "duration": 13,
    "start_time": "2023-02-28T18:54:53.759Z"
   },
   {
    "duration": 23,
    "start_time": "2023-02-28T18:54:53.774Z"
   },
   {
    "duration": 146,
    "start_time": "2023-02-28T18:54:53.799Z"
   },
   {
    "duration": 257,
    "start_time": "2023-02-28T18:54:53.947Z"
   },
   {
    "duration": 42,
    "start_time": "2023-02-28T18:54:54.205Z"
   },
   {
    "duration": 187,
    "start_time": "2023-02-28T18:54:54.250Z"
   },
   {
    "duration": 3,
    "start_time": "2023-02-28T18:54:54.439Z"
   },
   {
    "duration": 9,
    "start_time": "2023-02-28T18:54:54.444Z"
   },
   {
    "duration": 74965,
    "start_time": "2023-02-28T18:54:54.456Z"
   },
   {
    "duration": 21,
    "start_time": "2023-02-28T18:56:09.422Z"
   },
   {
    "duration": 14,
    "start_time": "2023-02-28T18:56:09.444Z"
   },
   {
    "duration": 110,
    "start_time": "2023-02-28T18:56:09.459Z"
   },
   {
    "duration": 4,
    "start_time": "2023-02-28T18:56:09.571Z"
   },
   {
    "duration": 5,
    "start_time": "2023-02-28T18:56:09.577Z"
   },
   {
    "duration": 5434,
    "start_time": "2023-02-28T18:56:09.584Z"
   },
   {
    "duration": 3,
    "start_time": "2023-02-28T18:56:15.020Z"
   },
   {
    "duration": 597876,
    "start_time": "2023-02-28T18:56:15.026Z"
   },
   {
    "duration": 643679,
    "start_time": "2023-02-28T19:06:12.904Z"
   },
   {
    "duration": 496847,
    "start_time": "2023-02-28T19:16:56.585Z"
   },
   {
    "duration": 2288253,
    "start_time": "2023-02-28T19:25:13.435Z"
   },
   {
    "duration": 5333,
    "start_time": "2023-02-28T20:03:21.690Z"
   },
   {
    "duration": 4110,
    "start_time": "2023-02-28T20:03:27.025Z"
   },
   {
    "duration": 21,
    "start_time": "2023-02-28T20:03:31.137Z"
   },
   {
    "duration": 538,
    "start_time": "2023-02-28T20:03:31.160Z"
   },
   {
    "duration": 2006,
    "start_time": "2023-03-01T17:34:55.134Z"
   },
   {
    "duration": 3,
    "start_time": "2023-03-01T17:34:57.142Z"
   },
   {
    "duration": 17,
    "start_time": "2023-03-01T17:34:57.146Z"
   },
   {
    "duration": 3884,
    "start_time": "2023-03-01T17:34:57.165Z"
   },
   {
    "duration": 13,
    "start_time": "2023-03-01T17:35:01.052Z"
   },
   {
    "duration": 33,
    "start_time": "2023-03-01T17:35:01.067Z"
   },
   {
    "duration": 82,
    "start_time": "2023-03-01T17:35:01.103Z"
   },
   {
    "duration": 255,
    "start_time": "2023-03-01T17:35:01.186Z"
   },
   {
    "duration": 29,
    "start_time": "2023-03-01T17:35:01.444Z"
   },
   {
    "duration": 181,
    "start_time": "2023-03-01T17:35:01.475Z"
   },
   {
    "duration": 3,
    "start_time": "2023-03-01T17:35:01.658Z"
   },
   {
    "duration": 5,
    "start_time": "2023-03-01T17:37:16.060Z"
   },
   {
    "duration": 337,
    "start_time": "2023-03-01T17:37:24.640Z"
   },
   {
    "duration": 8,
    "start_time": "2023-03-01T17:37:25.017Z"
   },
   {
    "duration": 4,
    "start_time": "2023-03-01T17:37:38.278Z"
   },
   {
    "duration": 6,
    "start_time": "2023-03-01T17:37:41.025Z"
   },
   {
    "duration": 191,
    "start_time": "2023-03-01T17:37:41.731Z"
   },
   {
    "duration": 5,
    "start_time": "2023-03-01T17:42:07.271Z"
   },
   {
    "duration": 199,
    "start_time": "2023-03-01T17:42:08.918Z"
   },
   {
    "duration": 12,
    "start_time": "2023-03-01T17:42:37.868Z"
   },
   {
    "duration": 16,
    "start_time": "2023-03-01T17:42:45.639Z"
   },
   {
    "duration": 5,
    "start_time": "2023-03-01T17:44:41.023Z"
   },
   {
    "duration": 198,
    "start_time": "2023-03-01T17:44:43.024Z"
   },
   {
    "duration": 3,
    "start_time": "2023-03-01T17:46:50.917Z"
   },
   {
    "duration": 5,
    "start_time": "2023-03-01T17:46:52.640Z"
   },
   {
    "duration": 206,
    "start_time": "2023-03-01T17:46:54.454Z"
   },
   {
    "duration": 5,
    "start_time": "2023-03-01T17:47:07.865Z"
   },
   {
    "duration": 286,
    "start_time": "2023-03-01T17:47:08.769Z"
   },
   {
    "duration": 5,
    "start_time": "2023-03-01T17:48:42.156Z"
   },
   {
    "duration": 224,
    "start_time": "2023-03-01T17:48:43.373Z"
   },
   {
    "duration": 16,
    "start_time": "2023-03-01T17:48:56.744Z"
   },
   {
    "duration": 205,
    "start_time": "2023-03-01T17:48:57.524Z"
   },
   {
    "duration": 717,
    "start_time": "2023-03-01T17:49:40.577Z"
   },
   {
    "duration": 6,
    "start_time": "2023-03-01T17:49:44.063Z"
   },
   {
    "duration": 779475,
    "start_time": "2023-03-01T17:49:46.609Z"
   },
   {
    "duration": 8,
    "start_time": "2023-03-01T18:03:18.067Z"
   },
   {
    "duration": 10,
    "start_time": "2023-03-01T18:03:21.969Z"
   },
   {
    "duration": 112,
    "start_time": "2023-03-01T18:03:22.315Z"
   },
   {
    "duration": 5,
    "start_time": "2023-03-01T18:03:22.634Z"
   },
   {
    "duration": 3,
    "start_time": "2023-03-01T18:03:22.815Z"
   },
   {
    "duration": 5196,
    "start_time": "2023-03-01T18:03:22.988Z"
   },
   {
    "duration": 4,
    "start_time": "2023-03-01T18:03:28.186Z"
   },
   {
    "duration": 72,
    "start_time": "2023-03-01T18:03:28.192Z"
   },
   {
    "duration": 52,
    "start_time": "2023-03-01T18:03:28.266Z"
   },
   {
    "duration": 1559,
    "start_time": "2023-03-01T18:04:01.661Z"
   },
   {
    "duration": 3,
    "start_time": "2023-03-01T18:04:03.222Z"
   },
   {
    "duration": 11,
    "start_time": "2023-03-01T18:04:03.226Z"
   },
   {
    "duration": 824,
    "start_time": "2023-03-01T18:04:03.239Z"
   },
   {
    "duration": 15,
    "start_time": "2023-03-01T18:04:04.065Z"
   },
   {
    "duration": 24,
    "start_time": "2023-03-01T18:04:04.082Z"
   },
   {
    "duration": 126,
    "start_time": "2023-03-01T18:04:04.109Z"
   },
   {
    "duration": 256,
    "start_time": "2023-03-01T18:04:04.237Z"
   },
   {
    "duration": 32,
    "start_time": "2023-03-01T18:04:04.495Z"
   },
   {
    "duration": 156,
    "start_time": "2023-03-01T18:04:04.530Z"
   },
   {
    "duration": 3,
    "start_time": "2023-03-01T18:04:04.688Z"
   },
   {
    "duration": 9,
    "start_time": "2023-03-01T18:04:04.693Z"
   },
   {
    "duration": 754224,
    "start_time": "2023-03-01T18:04:04.703Z"
   },
   {
    "duration": 8,
    "start_time": "2023-03-01T18:16:38.928Z"
   },
   {
    "duration": 43,
    "start_time": "2023-03-01T18:16:38.938Z"
   },
   {
    "duration": 103,
    "start_time": "2023-03-01T18:16:38.983Z"
   },
   {
    "duration": 5,
    "start_time": "2023-03-01T18:16:39.088Z"
   },
   {
    "duration": 16,
    "start_time": "2023-03-01T18:16:39.095Z"
   },
   {
    "duration": 5006,
    "start_time": "2023-03-01T18:16:39.113Z"
   },
   {
    "duration": 7,
    "start_time": "2023-03-01T18:16:44.122Z"
   },
   {
    "duration": 1643,
    "start_time": "2023-03-01T19:22:47.039Z"
   },
   {
    "duration": 3,
    "start_time": "2023-03-01T19:22:48.685Z"
   },
   {
    "duration": 10,
    "start_time": "2023-03-01T19:22:48.689Z"
   },
   {
    "duration": 826,
    "start_time": "2023-03-01T19:22:48.706Z"
   },
   {
    "duration": 12,
    "start_time": "2023-03-01T19:22:49.534Z"
   },
   {
    "duration": 16,
    "start_time": "2023-03-01T19:22:49.548Z"
   },
   {
    "duration": 164,
    "start_time": "2023-03-01T19:22:49.566Z"
   },
   {
    "duration": 275,
    "start_time": "2023-03-01T19:22:49.731Z"
   },
   {
    "duration": 30,
    "start_time": "2023-03-01T19:22:50.008Z"
   },
   {
    "duration": 234,
    "start_time": "2023-03-01T19:22:50.041Z"
   },
   {
    "duration": 3,
    "start_time": "2023-03-01T19:22:50.277Z"
   },
   {
    "duration": 7,
    "start_time": "2023-03-01T19:22:50.282Z"
   },
   {
    "duration": 769560,
    "start_time": "2023-03-01T19:22:50.292Z"
   },
   {
    "duration": 7,
    "start_time": "2023-03-01T19:35:39.854Z"
   },
   {
    "duration": 14,
    "start_time": "2023-03-01T19:35:39.862Z"
   },
   {
    "duration": 122,
    "start_time": "2023-03-01T19:36:03.260Z"
   },
   {
    "duration": 123,
    "start_time": "2023-03-01T19:36:22.868Z"
   },
   {
    "duration": 5,
    "start_time": "2023-03-01T19:36:25.577Z"
   },
   {
    "duration": 4,
    "start_time": "2023-03-01T19:36:27.607Z"
   },
   {
    "duration": 5498,
    "start_time": "2023-03-01T19:36:29.586Z"
   },
   {
    "duration": 4,
    "start_time": "2023-03-01T19:36:38.384Z"
   },
   {
    "duration": 634787,
    "start_time": "2023-03-01T19:36:41.189Z"
   },
   {
    "duration": 3755336,
    "start_time": "2023-03-01T19:47:30.890Z"
   },
   {
    "duration": 1544,
    "start_time": "2023-03-01T20:50:23.899Z"
   },
   {
    "duration": 3,
    "start_time": "2023-03-01T20:50:25.445Z"
   },
   {
    "duration": 8,
    "start_time": "2023-03-01T20:50:25.450Z"
   },
   {
    "duration": 783,
    "start_time": "2023-03-01T20:50:25.459Z"
   },
   {
    "duration": 12,
    "start_time": "2023-03-01T20:50:26.245Z"
   },
   {
    "duration": 12,
    "start_time": "2023-03-01T20:50:26.259Z"
   },
   {
    "duration": 132,
    "start_time": "2023-03-01T20:50:26.272Z"
   },
   {
    "duration": 234,
    "start_time": "2023-03-01T20:50:26.406Z"
   },
   {
    "duration": 30,
    "start_time": "2023-03-01T20:50:26.642Z"
   },
   {
    "duration": 249,
    "start_time": "2023-03-01T20:50:26.674Z"
   },
   {
    "duration": 3,
    "start_time": "2023-03-01T20:50:26.925Z"
   },
   {
    "duration": 15,
    "start_time": "2023-03-01T20:50:26.930Z"
   },
   {
    "duration": 726054,
    "start_time": "2023-03-01T20:50:26.947Z"
   },
   {
    "duration": 8,
    "start_time": "2023-03-01T21:02:33.006Z"
   },
   {
    "duration": 13,
    "start_time": "2023-03-01T21:02:33.016Z"
   },
   {
    "duration": 141,
    "start_time": "2023-03-01T21:02:33.030Z"
   },
   {
    "duration": 6,
    "start_time": "2023-03-01T21:02:33.173Z"
   },
   {
    "duration": 7,
    "start_time": "2023-03-01T21:02:33.181Z"
   },
   {
    "duration": 4936,
    "start_time": "2023-03-01T21:02:33.190Z"
   },
   {
    "duration": 3,
    "start_time": "2023-03-01T21:02:38.128Z"
   },
   {
    "duration": 588931,
    "start_time": "2023-03-01T21:02:38.133Z"
   },
   {
    "duration": 621045,
    "start_time": "2023-03-01T21:12:27.066Z"
   },
   {
    "duration": 433802,
    "start_time": "2023-03-01T21:22:48.113Z"
   },
   {
    "duration": 2151544,
    "start_time": "2023-03-01T21:30:02.008Z"
   },
   {
    "duration": 2410,
    "start_time": "2023-03-01T22:05:53.554Z"
   },
   {
    "duration": 2004,
    "start_time": "2023-03-01T22:05:55.967Z"
   },
   {
    "duration": 11,
    "start_time": "2023-03-01T22:05:57.972Z"
   },
   {
    "duration": 314,
    "start_time": "2023-03-01T22:05:57.984Z"
   }
  ],
  "kernelspec": {
   "display_name": "Python 3 (ipykernel)",
   "language": "python",
   "name": "python3"
  },
  "language_info": {
   "codemirror_mode": {
    "name": "ipython",
    "version": 3
   },
   "file_extension": ".py",
   "mimetype": "text/x-python",
   "name": "python",
   "nbconvert_exporter": "python",
   "pygments_lexer": "ipython3",
   "version": "3.10.9"
  },
  "toc": {
   "base_numbering": 1,
   "nav_menu": {},
   "number_sections": true,
   "sideBar": true,
   "skip_h1_title": true,
   "title_cell": "Содержание",
   "title_sidebar": "Contents",
   "toc_cell": true,
   "toc_position": {
    "height": "calc(100% - 180px)",
    "left": "10px",
    "top": "150px",
    "width": "302.391px"
   },
   "toc_section_display": true,
   "toc_window_display": false
  }
 },
 "nbformat": 4,
 "nbformat_minor": 2
}
