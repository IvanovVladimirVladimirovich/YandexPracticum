{
 "cells": [
  {
   "cell_type": "markdown",
   "metadata": {
    "toc": true
   },
   "source": [
    "<h1>Содержание<span class=\"tocSkip\"></span></h1>\n",
    "<div class=\"toc\"><ul class=\"toc-item\"><li><span><a href=\"#Подготовка-данных\" data-toc-modified-id=\"Подготовка-данных-1\"><span class=\"toc-item-num\">1&nbsp;&nbsp;</span>Подготовка данных</a></span></li><li><span><a href=\"#Исследование-задачи\" data-toc-modified-id=\"Исследование-задачи-2\"><span class=\"toc-item-num\">2&nbsp;&nbsp;</span>Исследование задачи</a></span></li><li><span><a href=\"#Борьба-с-дисбалансом\" data-toc-modified-id=\"Борьба-с-дисбалансом-3\"><span class=\"toc-item-num\">3&nbsp;&nbsp;</span>Борьба с дисбалансом</a></span></li><li><span><a href=\"#Тестирование-модели\" data-toc-modified-id=\"Тестирование-модели-4\"><span class=\"toc-item-num\">4&nbsp;&nbsp;</span>Тестирование модели</a></span></li><li><span><a href=\"#Вывод\" data-toc-modified-id=\"Вывод-5\"><span class=\"toc-item-num\">5&nbsp;&nbsp;</span>Вывод</a></span></li><li><span><a href=\"#Чек-лист-готовности-проекта\" data-toc-modified-id=\"Чек-лист-готовности-проекта-6\"><span class=\"toc-item-num\">6&nbsp;&nbsp;</span>Чек-лист готовности проекта</a></span></li></ul></div>"
   ]
  },
  {
   "cell_type": "markdown",
   "metadata": {},
   "source": [
    "# Отток клиентов"
   ]
  },
  {
   "cell_type": "markdown",
   "metadata": {},
   "source": [
    "Из «Бета-Банка» стали уходить клиенты. Каждый месяц. Немного, но заметно. Банковские маркетологи посчитали: сохранять текущих клиентов дешевле, чем привлекать новых.\n",
    "\n",
    "Нужно спрогнозировать, уйдёт клиент из банка в ближайшее время или нет. Вам предоставлены исторические данные о поведении клиентов и расторжении договоров с банком. \n",
    "\n",
    "Постройте модель с предельно большим значением *F1*-меры. Чтобы сдать проект успешно, нужно довести метрику до 0.59. Проверьте *F1*-меру на тестовой выборке самостоятельно.\n",
    "\n",
    "Дополнительно измеряйте *AUC-ROC*, сравнивайте её значение с *F1*-мерой.\n",
    "\n",
    "Источник данных: [https://www.kaggle.com/barelydedicated/bank-customer-churn-modeling](https://www.kaggle.com/barelydedicated/bank-customer-churn-modeling)"
   ]
  },
  {
   "cell_type": "markdown",
   "metadata": {},
   "source": [
    "## Подготовка данных"
   ]
  },
  {
   "cell_type": "code",
   "execution_count": 1,
   "metadata": {},
   "outputs": [],
   "source": [
    "import pandas as pd\n",
    "from sklearn.model_selection import train_test_split\n",
    "from sklearn.preprocessing import OneHotEncoder\n",
    "from sklearn.utils import shuffle\n",
    "from sklearn.linear_model import LogisticRegression\n",
    "from sklearn.tree import DecisionTreeClassifier\n",
    "from sklearn.ensemble import RandomForestClassifier\n",
    "from sklearn.metrics import recall_score\n",
    "from sklearn.metrics import precision_score\n",
    "from sklearn.metrics import f1_score \n",
    "from sklearn.metrics import roc_curve\n",
    "from sklearn.metrics import roc_auc_score\n",
    "from sklearn.dummy import DummyClassifier\n",
    "from sklearn.preprocessing import StandardScaler\n",
    "from sklearn.preprocessing import OneHotEncoder\n",
    "import matplotlib.pyplot as plt\n",
    "import numpy as np\n",
    "\n",
    "RANDOM_STATE = 12345"
   ]
  },
  {
   "cell_type": "code",
   "execution_count": 2,
   "metadata": {},
   "outputs": [],
   "source": [
    "data = pd.read_csv(\"/datasets/Churn.csv\")"
   ]
  },
  {
   "cell_type": "code",
   "execution_count": 3,
   "metadata": {},
   "outputs": [
    {
     "data": {
      "text/html": [
       "<div>\n",
       "<style scoped>\n",
       "    .dataframe tbody tr th:only-of-type {\n",
       "        vertical-align: middle;\n",
       "    }\n",
       "\n",
       "    .dataframe tbody tr th {\n",
       "        vertical-align: top;\n",
       "    }\n",
       "\n",
       "    .dataframe thead th {\n",
       "        text-align: right;\n",
       "    }\n",
       "</style>\n",
       "<table border=\"1\" class=\"dataframe\">\n",
       "  <thead>\n",
       "    <tr style=\"text-align: right;\">\n",
       "      <th></th>\n",
       "      <th>RowNumber</th>\n",
       "      <th>CustomerId</th>\n",
       "      <th>Surname</th>\n",
       "      <th>CreditScore</th>\n",
       "      <th>Geography</th>\n",
       "      <th>Gender</th>\n",
       "      <th>Age</th>\n",
       "      <th>Tenure</th>\n",
       "      <th>Balance</th>\n",
       "      <th>NumOfProducts</th>\n",
       "      <th>HasCrCard</th>\n",
       "      <th>IsActiveMember</th>\n",
       "      <th>EstimatedSalary</th>\n",
       "      <th>Exited</th>\n",
       "    </tr>\n",
       "  </thead>\n",
       "  <tbody>\n",
       "    <tr>\n",
       "      <th>0</th>\n",
       "      <td>1</td>\n",
       "      <td>15634602</td>\n",
       "      <td>Hargrave</td>\n",
       "      <td>619</td>\n",
       "      <td>France</td>\n",
       "      <td>Female</td>\n",
       "      <td>42</td>\n",
       "      <td>2.0</td>\n",
       "      <td>0.00</td>\n",
       "      <td>1</td>\n",
       "      <td>1</td>\n",
       "      <td>1</td>\n",
       "      <td>101348.88</td>\n",
       "      <td>1</td>\n",
       "    </tr>\n",
       "    <tr>\n",
       "      <th>1</th>\n",
       "      <td>2</td>\n",
       "      <td>15647311</td>\n",
       "      <td>Hill</td>\n",
       "      <td>608</td>\n",
       "      <td>Spain</td>\n",
       "      <td>Female</td>\n",
       "      <td>41</td>\n",
       "      <td>1.0</td>\n",
       "      <td>83807.86</td>\n",
       "      <td>1</td>\n",
       "      <td>0</td>\n",
       "      <td>1</td>\n",
       "      <td>112542.58</td>\n",
       "      <td>0</td>\n",
       "    </tr>\n",
       "    <tr>\n",
       "      <th>2</th>\n",
       "      <td>3</td>\n",
       "      <td>15619304</td>\n",
       "      <td>Onio</td>\n",
       "      <td>502</td>\n",
       "      <td>France</td>\n",
       "      <td>Female</td>\n",
       "      <td>42</td>\n",
       "      <td>8.0</td>\n",
       "      <td>159660.80</td>\n",
       "      <td>3</td>\n",
       "      <td>1</td>\n",
       "      <td>0</td>\n",
       "      <td>113931.57</td>\n",
       "      <td>1</td>\n",
       "    </tr>\n",
       "    <tr>\n",
       "      <th>3</th>\n",
       "      <td>4</td>\n",
       "      <td>15701354</td>\n",
       "      <td>Boni</td>\n",
       "      <td>699</td>\n",
       "      <td>France</td>\n",
       "      <td>Female</td>\n",
       "      <td>39</td>\n",
       "      <td>1.0</td>\n",
       "      <td>0.00</td>\n",
       "      <td>2</td>\n",
       "      <td>0</td>\n",
       "      <td>0</td>\n",
       "      <td>93826.63</td>\n",
       "      <td>0</td>\n",
       "    </tr>\n",
       "    <tr>\n",
       "      <th>4</th>\n",
       "      <td>5</td>\n",
       "      <td>15737888</td>\n",
       "      <td>Mitchell</td>\n",
       "      <td>850</td>\n",
       "      <td>Spain</td>\n",
       "      <td>Female</td>\n",
       "      <td>43</td>\n",
       "      <td>2.0</td>\n",
       "      <td>125510.82</td>\n",
       "      <td>1</td>\n",
       "      <td>1</td>\n",
       "      <td>1</td>\n",
       "      <td>79084.10</td>\n",
       "      <td>0</td>\n",
       "    </tr>\n",
       "    <tr>\n",
       "      <th>5</th>\n",
       "      <td>6</td>\n",
       "      <td>15574012</td>\n",
       "      <td>Chu</td>\n",
       "      <td>645</td>\n",
       "      <td>Spain</td>\n",
       "      <td>Male</td>\n",
       "      <td>44</td>\n",
       "      <td>8.0</td>\n",
       "      <td>113755.78</td>\n",
       "      <td>2</td>\n",
       "      <td>1</td>\n",
       "      <td>0</td>\n",
       "      <td>149756.71</td>\n",
       "      <td>1</td>\n",
       "    </tr>\n",
       "    <tr>\n",
       "      <th>6</th>\n",
       "      <td>7</td>\n",
       "      <td>15592531</td>\n",
       "      <td>Bartlett</td>\n",
       "      <td>822</td>\n",
       "      <td>France</td>\n",
       "      <td>Male</td>\n",
       "      <td>50</td>\n",
       "      <td>7.0</td>\n",
       "      <td>0.00</td>\n",
       "      <td>2</td>\n",
       "      <td>1</td>\n",
       "      <td>1</td>\n",
       "      <td>10062.80</td>\n",
       "      <td>0</td>\n",
       "    </tr>\n",
       "    <tr>\n",
       "      <th>7</th>\n",
       "      <td>8</td>\n",
       "      <td>15656148</td>\n",
       "      <td>Obinna</td>\n",
       "      <td>376</td>\n",
       "      <td>Germany</td>\n",
       "      <td>Female</td>\n",
       "      <td>29</td>\n",
       "      <td>4.0</td>\n",
       "      <td>115046.74</td>\n",
       "      <td>4</td>\n",
       "      <td>1</td>\n",
       "      <td>0</td>\n",
       "      <td>119346.88</td>\n",
       "      <td>1</td>\n",
       "    </tr>\n",
       "    <tr>\n",
       "      <th>8</th>\n",
       "      <td>9</td>\n",
       "      <td>15792365</td>\n",
       "      <td>He</td>\n",
       "      <td>501</td>\n",
       "      <td>France</td>\n",
       "      <td>Male</td>\n",
       "      <td>44</td>\n",
       "      <td>4.0</td>\n",
       "      <td>142051.07</td>\n",
       "      <td>2</td>\n",
       "      <td>0</td>\n",
       "      <td>1</td>\n",
       "      <td>74940.50</td>\n",
       "      <td>0</td>\n",
       "    </tr>\n",
       "    <tr>\n",
       "      <th>9</th>\n",
       "      <td>10</td>\n",
       "      <td>15592389</td>\n",
       "      <td>H?</td>\n",
       "      <td>684</td>\n",
       "      <td>France</td>\n",
       "      <td>Male</td>\n",
       "      <td>27</td>\n",
       "      <td>2.0</td>\n",
       "      <td>134603.88</td>\n",
       "      <td>1</td>\n",
       "      <td>1</td>\n",
       "      <td>1</td>\n",
       "      <td>71725.73</td>\n",
       "      <td>0</td>\n",
       "    </tr>\n",
       "  </tbody>\n",
       "</table>\n",
       "</div>"
      ],
      "text/plain": [
       "   RowNumber  CustomerId   Surname  CreditScore Geography  Gender  Age  \\\n",
       "0          1    15634602  Hargrave          619    France  Female   42   \n",
       "1          2    15647311      Hill          608     Spain  Female   41   \n",
       "2          3    15619304      Onio          502    France  Female   42   \n",
       "3          4    15701354      Boni          699    France  Female   39   \n",
       "4          5    15737888  Mitchell          850     Spain  Female   43   \n",
       "5          6    15574012       Chu          645     Spain    Male   44   \n",
       "6          7    15592531  Bartlett          822    France    Male   50   \n",
       "7          8    15656148    Obinna          376   Germany  Female   29   \n",
       "8          9    15792365        He          501    France    Male   44   \n",
       "9         10    15592389        H?          684    France    Male   27   \n",
       "\n",
       "   Tenure    Balance  NumOfProducts  HasCrCard  IsActiveMember  \\\n",
       "0     2.0       0.00              1          1               1   \n",
       "1     1.0   83807.86              1          0               1   \n",
       "2     8.0  159660.80              3          1               0   \n",
       "3     1.0       0.00              2          0               0   \n",
       "4     2.0  125510.82              1          1               1   \n",
       "5     8.0  113755.78              2          1               0   \n",
       "6     7.0       0.00              2          1               1   \n",
       "7     4.0  115046.74              4          1               0   \n",
       "8     4.0  142051.07              2          0               1   \n",
       "9     2.0  134603.88              1          1               1   \n",
       "\n",
       "   EstimatedSalary  Exited  \n",
       "0        101348.88       1  \n",
       "1        112542.58       0  \n",
       "2        113931.57       1  \n",
       "3         93826.63       0  \n",
       "4         79084.10       0  \n",
       "5        149756.71       1  \n",
       "6         10062.80       0  \n",
       "7        119346.88       1  \n",
       "8         74940.50       0  \n",
       "9         71725.73       0  "
      ]
     },
     "metadata": {},
     "output_type": "display_data"
    }
   ],
   "source": [
    "display(data.head(10))"
   ]
  },
  {
   "cell_type": "code",
   "execution_count": 4,
   "metadata": {},
   "outputs": [
    {
     "name": "stdout",
     "output_type": "stream",
     "text": [
      "<class 'pandas.core.frame.DataFrame'>\n",
      "RangeIndex: 10000 entries, 0 to 9999\n",
      "Data columns (total 14 columns):\n",
      " #   Column           Non-Null Count  Dtype  \n",
      "---  ------           --------------  -----  \n",
      " 0   RowNumber        10000 non-null  int64  \n",
      " 1   CustomerId       10000 non-null  int64  \n",
      " 2   Surname          10000 non-null  object \n",
      " 3   CreditScore      10000 non-null  int64  \n",
      " 4   Geography        10000 non-null  object \n",
      " 5   Gender           10000 non-null  object \n",
      " 6   Age              10000 non-null  int64  \n",
      " 7   Tenure           9091 non-null   float64\n",
      " 8   Balance          10000 non-null  float64\n",
      " 9   NumOfProducts    10000 non-null  int64  \n",
      " 10  HasCrCard        10000 non-null  int64  \n",
      " 11  IsActiveMember   10000 non-null  int64  \n",
      " 12  EstimatedSalary  10000 non-null  float64\n",
      " 13  Exited           10000 non-null  int64  \n",
      "dtypes: float64(3), int64(8), object(3)\n",
      "memory usage: 1.1+ MB\n"
     ]
    },
    {
     "data": {
      "text/plain": [
       "None"
      ]
     },
     "metadata": {},
     "output_type": "display_data"
    }
   ],
   "source": [
    "display(data.info())"
   ]
  },
  {
   "cell_type": "markdown",
   "metadata": {},
   "source": [
    "Первое, что бросается в глаза, что названия столбцов не в змеином формате. Исправим:"
   ]
  },
  {
   "cell_type": "code",
   "execution_count": 5,
   "metadata": {},
   "outputs": [],
   "source": [
    "new_columns_name = {\"RowNumber\":\"row_number\",\"CustomerId\":\"customer_id\",\"Surname\":\"surname\",\\\n",
    "                    \"CreditScore\":\"credit_score\",\"Geography\":\"geography\",\"Gender\":\"gender\",\\\n",
    "                    \"Age\":\"age\",\"Tenure\":\"tenure\",\"Balance\":\"balance\",\\\n",
    "                    \"NumOfProducts\":\"number_of_products\",\"HasCrCard\":\"credit_card\",\"IsActiveMember\":\"is_active\",\\\n",
    "                    \"EstimatedSalary\":\"estimated_salary\",\"Exited\":\"exited\"}\n",
    "data.rename(columns = new_columns_name, inplace = True)"
   ]
  },
  {
   "cell_type": "markdown",
   "metadata": {},
   "source": [
    "Так же, значение \"tenture\" имеет пропуски, а замена на среднее или медианное значение может плохо повлиять на будущее обучение, поэтому лучшем решением будет удалить строки:"
   ]
  },
  {
   "cell_type": "code",
   "execution_count": 6,
   "metadata": {},
   "outputs": [],
   "source": [
    "data = data[~data[\"tenure\"].isna()] "
   ]
  },
  {
   "cell_type": "markdown",
   "metadata": {},
   "source": [
    "Фамилия, айди и номер строки нам не нужны, поэтому их можно удалить:"
   ]
  },
  {
   "cell_type": "code",
   "execution_count": 7,
   "metadata": {},
   "outputs": [],
   "source": [
    "data = data.drop([\"surname\",\"customer_id\",\"row_number\"], axis = 1)"
   ]
  },
  {
   "cell_type": "markdown",
   "metadata": {},
   "source": [
    "Разделим данные на признаки (features) и на целевой признак (target):"
   ]
  },
  {
   "cell_type": "code",
   "execution_count": 8,
   "metadata": {},
   "outputs": [],
   "source": [
    "features = data.drop([\"exited\"], axis = 1)\n",
    "target = data[\"exited\"]"
   ]
  },
  {
   "cell_type": "markdown",
   "metadata": {},
   "source": [
    "Для создания модели и дальнейшей ее валидации, нам понадобится разделить данные на три группы: тренировочная, валидационная и тестировочная. Так как данных очень мало, то они будут разделены в соотношении 80%, 10% и 10%."
   ]
  },
  {
   "cell_type": "code",
   "execution_count": 9,
   "metadata": {},
   "outputs": [],
   "source": [
    "features_train, features_valid_test, target_train, target_valid_test = train_test_split(\n",
    "    features, target, test_size=0.2, random_state=RANDOM_STATE, stratify = target)\n",
    "\n",
    "features_valid, features_test, target_valid, target_test = train_test_split(\n",
    "    features_valid_test, target_valid_test, test_size=0.5, random_state=RANDOM_STATE, stratify = target_valid_test)"
   ]
  },
  {
   "cell_type": "markdown",
   "metadata": {},
   "source": [
    "Далее, стандартизируем данные, чтобы у всех признаков была одинаковая важность:"
   ]
  },
  {
   "cell_type": "code",
   "execution_count": 10,
   "metadata": {
    "scrolled": false
   },
   "outputs": [
    {
     "name": "stderr",
     "output_type": "stream",
     "text": [
      "/tmp/ipykernel_521/2455036538.py:6: SettingWithCopyWarning: \n",
      "A value is trying to be set on a copy of a slice from a DataFrame.\n",
      "Try using .loc[row_indexer,col_indexer] = value instead\n",
      "\n",
      "See the caveats in the documentation: https://pandas.pydata.org/pandas-docs/stable/user_guide/indexing.html#returning-a-view-versus-a-copy\n",
      "  features_train[numeric] = scaler.transform(features_train[numeric])\n",
      "/opt/conda/lib/python3.9/site-packages/pandas/core/indexing.py:1738: SettingWithCopyWarning: \n",
      "A value is trying to be set on a copy of a slice from a DataFrame.\n",
      "Try using .loc[row_indexer,col_indexer] = value instead\n",
      "\n",
      "See the caveats in the documentation: https://pandas.pydata.org/pandas-docs/stable/user_guide/indexing.html#returning-a-view-versus-a-copy\n",
      "  self._setitem_single_column(loc, value[:, i].tolist(), pi)\n",
      "/tmp/ipykernel_521/2455036538.py:9: SettingWithCopyWarning: \n",
      "A value is trying to be set on a copy of a slice from a DataFrame.\n",
      "Try using .loc[row_indexer,col_indexer] = value instead\n",
      "\n",
      "See the caveats in the documentation: https://pandas.pydata.org/pandas-docs/stable/user_guide/indexing.html#returning-a-view-versus-a-copy\n",
      "  features_valid[numeric] = scaler.transform(features_valid[numeric])\n",
      "/opt/conda/lib/python3.9/site-packages/pandas/core/indexing.py:1738: SettingWithCopyWarning: \n",
      "A value is trying to be set on a copy of a slice from a DataFrame.\n",
      "Try using .loc[row_indexer,col_indexer] = value instead\n",
      "\n",
      "See the caveats in the documentation: https://pandas.pydata.org/pandas-docs/stable/user_guide/indexing.html#returning-a-view-versus-a-copy\n",
      "  self._setitem_single_column(loc, value[:, i].tolist(), pi)\n",
      "/tmp/ipykernel_521/2455036538.py:12: SettingWithCopyWarning: \n",
      "A value is trying to be set on a copy of a slice from a DataFrame.\n",
      "Try using .loc[row_indexer,col_indexer] = value instead\n",
      "\n",
      "See the caveats in the documentation: https://pandas.pydata.org/pandas-docs/stable/user_guide/indexing.html#returning-a-view-versus-a-copy\n",
      "  features_test[numeric] = scaler.transform(features_test[numeric])\n",
      "/opt/conda/lib/python3.9/site-packages/pandas/core/indexing.py:1738: SettingWithCopyWarning: \n",
      "A value is trying to be set on a copy of a slice from a DataFrame.\n",
      "Try using .loc[row_indexer,col_indexer] = value instead\n",
      "\n",
      "See the caveats in the documentation: https://pandas.pydata.org/pandas-docs/stable/user_guide/indexing.html#returning-a-view-versus-a-copy\n",
      "  self._setitem_single_column(loc, value[:, i].tolist(), pi)\n"
     ]
    }
   ],
   "source": [
    "numeric = [\"credit_score\",\"age\",\"tenure\",\"balance\",\"number_of_products\",\"estimated_salary\"]\n",
    "\n",
    "scaler = StandardScaler()\n",
    "scaler.fit(features_train[numeric])\n",
    "\n",
    "features_train[numeric] = scaler.transform(features_train[numeric])\n",
    "features_train = features_train.reset_index(drop=True)\n",
    "\n",
    "features_valid[numeric] = scaler.transform(features_valid[numeric])\n",
    "features_valid = features_valid.reset_index(drop=True)\n",
    "\n",
    "features_test[numeric] = scaler.transform(features_test[numeric])\n",
    "features_test = features_test.reset_index(drop=True)"
   ]
  },
  {
   "cell_type": "markdown",
   "metadata": {},
   "source": [
    "Далее, приведем классификационные признаки в формат OHE:"
   ]
  },
  {
   "cell_type": "code",
   "execution_count": 11,
   "metadata": {},
   "outputs": [],
   "source": [
    "not_numeric = [\"geography\",\"gender\"]"
   ]
  },
  {
   "cell_type": "code",
   "execution_count": 12,
   "metadata": {},
   "outputs": [],
   "source": [
    "features_train_ohe = features_train[not_numeric]\n",
    "features_valid_ohe = features_valid[not_numeric]\n",
    "features_test_ohe = features_test[not_numeric]\n",
    "features_train = features_train.drop(not_numeric, axis = 1)\n",
    "features_valid = features_valid.drop(not_numeric, axis = 1 )\n",
    "features_test = features_test.drop(not_numeric, axis = 1 )"
   ]
  },
  {
   "cell_type": "code",
   "execution_count": 13,
   "metadata": {
    "scrolled": true
   },
   "outputs": [],
   "source": [
    "ohe = OneHotEncoder(sparse = False)\n",
    "ohe.fit(features_train_ohe)\n",
    "\n",
    "features_train_ohe =  pd.DataFrame(ohe.transform(features_train_ohe))\n",
    "features_train_ohe = features_train_ohe.reset_index(drop=True)\n",
    "\n",
    "features_valid_ohe =  pd.DataFrame(ohe.transform(features_valid_ohe))\n",
    "features_valid_ohe = features_valid_ohe.reset_index(drop=True)\n",
    "\n",
    "features_test_ohe = pd.DataFrame(ohe.transform(features_test_ohe))\n",
    "features_test_ohe = features_test_ohe.reset_index(drop=True)"
   ]
  },
  {
   "cell_type": "code",
   "execution_count": 14,
   "metadata": {},
   "outputs": [],
   "source": [
    "features_train = pd.concat([features_train_ohe,features_train], axis = 1)\n",
    "features_valid = pd.concat([features_valid_ohe,features_valid], axis = 1)\n",
    "features_test = pd.concat([features_test_ohe,features_test], axis = 1)"
   ]
  },
  {
   "cell_type": "markdown",
   "metadata": {},
   "source": [
    "Данные готовы для первых проб в постройки модели. "
   ]
  },
  {
   "cell_type": "markdown",
   "metadata": {},
   "source": [
    "## Исследование задачи"
   ]
  },
  {
   "cell_type": "markdown",
   "metadata": {},
   "source": [
    "Сначала, попробуем разные модели без балансировки и без подбора гиперпараметров:"
   ]
  },
  {
   "cell_type": "code",
   "execution_count": 15,
   "metadata": {},
   "outputs": [],
   "source": [
    "original_result = pd.DataFrame(columns = [\"F1\",\"AUC ROC\"])"
   ]
  },
  {
   "cell_type": "markdown",
   "metadata": {},
   "source": [
    "**LogisticRegression**"
   ]
  },
  {
   "cell_type": "code",
   "execution_count": 16,
   "metadata": {
    "scrolled": false
   },
   "outputs": [
    {
     "name": "stdout",
     "output_type": "stream",
     "text": [
      "Accurasy: 0.7997799779977998\n",
      "Precision: 0.5263157894736842\n",
      "Recall: 0.16216216216216217\n",
      "F1 Score: 0.24793388429752064\n",
      "AUC ROC: 0.7455129162311482\n"
     ]
    }
   ],
   "source": [
    "model = LogisticRegression(random_state=RANDOM_STATE)\n",
    "model.fit(features_train, target_train)\n",
    "predicted = model.predict(features_valid)\n",
    "print(\"Accurasy:\", model.score(features_valid,target_valid))\n",
    "print(\"Precision:\", precision_score(target_valid,predicted))\n",
    "print(\"Recall:\", recall_score(target_valid,predicted))\n",
    "print(\"F1 Score:\", f1_score(target_valid,predicted))\n",
    "probabilities_one_valid = model.predict_proba(features_valid)[:,1]\n",
    "print(\"AUC ROC:\",roc_auc_score(target_valid,probabilities_one_valid))\n",
    "original_result.loc['LR'] = pd.Series({'F1':f1_score(target_valid,predicted), 'AUC ROC':roc_auc_score(target_valid,probabilities_one_valid)})"
   ]
  },
  {
   "cell_type": "markdown",
   "metadata": {},
   "source": [
    "**RandomForestClassifier**"
   ]
  },
  {
   "cell_type": "code",
   "execution_count": 17,
   "metadata": {
    "scrolled": false
   },
   "outputs": [
    {
     "name": "stdout",
     "output_type": "stream",
     "text": [
      "Accurasy: 0.8536853685368537\n",
      "Precision: 0.7321428571428571\n",
      "Recall: 0.44324324324324327\n",
      "F1 Score: 0.5521885521885521\n",
      "AUC ROC: 0.8396819471405107\n"
     ]
    }
   ],
   "source": [
    "model = RandomForestClassifier(random_state=RANDOM_STATE)\n",
    "model.fit(features_train, target_train)\n",
    "predicted = model.predict(features_valid)\n",
    "print(\"Accurasy:\", model.score(features_valid,target_valid))\n",
    "print(\"Precision:\", precision_score(target_valid,predicted))\n",
    "print(\"Recall:\", recall_score(target_valid,predicted))\n",
    "print(\"F1 Score:\", f1_score(target_valid,predicted))\n",
    "probabilities_one_valid = model.predict_proba(features_valid)[:,1]\n",
    "print(\"AUC ROC:\",roc_auc_score(target_valid,probabilities_one_valid))\n",
    "original_result.loc['RFC'] = pd.Series({'F1':f1_score(target_valid,predicted), 'AUC ROC':roc_auc_score(target_valid,probabilities_one_valid)})"
   ]
  },
  {
   "cell_type": "markdown",
   "metadata": {},
   "source": [
    "**DecisionTreeClassifier**"
   ]
  },
  {
   "cell_type": "code",
   "execution_count": 18,
   "metadata": {
    "scrolled": false
   },
   "outputs": [
    {
     "name": "stdout",
     "output_type": "stream",
     "text": [
      "Accurasy: 0.7777777777777778\n",
      "Precision: 0.4564102564102564\n",
      "Recall: 0.4810810810810811\n",
      "F1 Score: 0.46842105263157896\n",
      "AUC ROC: 0.6673361206510378\n"
     ]
    }
   ],
   "source": [
    "model = DecisionTreeClassifier(random_state=RANDOM_STATE)\n",
    "model.fit(features_train, target_train)\n",
    "predicted = model.predict(features_valid)\n",
    "print(\"Accurasy:\", model.score(features_valid,target_valid))\n",
    "print(\"Precision:\", precision_score(target_valid,predicted))\n",
    "print(\"Recall:\", recall_score(target_valid,predicted))\n",
    "print(\"F1 Score:\", f1_score(target_valid,predicted))\n",
    "probabilities_one_valid = model.predict_proba(features_valid)[:,1]\n",
    "print(\"AUC ROC:\",roc_auc_score(target_valid,probabilities_one_valid))\n",
    "original_result.loc['DTC'] = pd.Series({'F1':f1_score(target_valid,predicted), 'AUC ROC':roc_auc_score(target_valid,probabilities_one_valid)})"
   ]
  },
  {
   "cell_type": "markdown",
   "metadata": {},
   "source": [
    "Вывод:\n",
    "Лучше всего себя показала модель RandomForestClassifier, со значением F1 = 0.552, что близко к цели, но требует доработки как данных, так и самой модели."
   ]
  },
  {
   "cell_type": "markdown",
   "metadata": {},
   "source": [
    "## Борьба с дисбалансом"
   ]
  },
  {
   "cell_type": "code",
   "execution_count": 19,
   "metadata": {},
   "outputs": [
    {
     "name": "stdout",
     "output_type": "stream",
     "text": [
      "Количество целевого признака класса 0: 5789\n",
      "Количество целевого признака класса 1: 1483\n"
     ]
    }
   ],
   "source": [
    "print(\"Количество целевого признака класса 0:\",target_train[target_train==0].count())\n",
    "print(\"Количество целевого признака класса 1:\",target_train[target_train==1].count())"
   ]
  },
  {
   "cell_type": "markdown",
   "metadata": {},
   "source": [
    "Как можно наблюдать, соотношение целевого признака класса 0 и целевого признака класса 1 плохое. Намного больше ситуаций с целевым признаком 0. Следственно, нужно решить этот дисбаланс. Проверим четыре способа: Upsampling, Class_Weight, Downsampling и Threshold. В конце, выберем лучший метод. Результаты будем сравнивать по F1-мере и AUR ROC значению. "
   ]
  },
  {
   "cell_type": "markdown",
   "metadata": {},
   "source": [
    "**Upsampling**"
   ]
  },
  {
   "cell_type": "code",
   "execution_count": 20,
   "metadata": {
    "scrolled": true
   },
   "outputs": [
    {
     "name": "stdout",
     "output_type": "stream",
     "text": [
      "Количество целевого признака класса 0: 5789\n",
      "Количество целевого признака класса 1: 1483\n",
      "Соотношение классов: 3.9035738368172623\n"
     ]
    }
   ],
   "source": [
    "print(\"Количество целевого признака класса 0:\",target_train[target_train==0].count())\n",
    "print(\"Количество целевого признака класса 1:\",target_train[target_train==1].count())\n",
    "print(\"Соотношение классов:\",(target_train[target_train==0].count()/target_train[target_train==1].count()))"
   ]
  },
  {
   "cell_type": "markdown",
   "metadata": {},
   "source": [
    "Чтобы достичь баланса классов, нам нужно иметь соотношение классов 1:1, для этого нужно увеличить количество целевых признаков класса 1 в четыре раза (ближайшее целое число). Сделать это можно за счет функции upsample_shuffle:"
   ]
  },
  {
   "cell_type": "code",
   "execution_count": 21,
   "metadata": {},
   "outputs": [],
   "source": [
    "def upsample_shuffle(features,target,repeat):\n",
    "    features_zeros = features[target==0]\n",
    "    features_ones = features[target==1]\n",
    "    target_zeros = target[target==0]\n",
    "    target_ones = target[target==1]\n",
    "    \n",
    "    features_upsampled = pd.concat([features_zeros]+[features_ones]*repeat)\n",
    "    target_upsampled = pd.concat([target_zeros]+[target_ones]*repeat)\n",
    "    \n",
    "    features_upsampled, target_upsampled = shuffle(features_upsampled, target_upsampled)\n",
    "    \n",
    "    return features_upsampled, target_upsampled"
   ]
  },
  {
   "cell_type": "code",
   "execution_count": 22,
   "metadata": {},
   "outputs": [],
   "source": [
    "features_train_upsampled, target_train_upsampled = upsample_shuffle(features_train.reset_index(drop=True),target_train.reset_index(drop=True),4)"
   ]
  },
  {
   "cell_type": "markdown",
   "metadata": {},
   "source": [
    "Проверяем:"
   ]
  },
  {
   "cell_type": "code",
   "execution_count": 23,
   "metadata": {},
   "outputs": [
    {
     "name": "stdout",
     "output_type": "stream",
     "text": [
      "Количество целевого признака класса 0: 5789\n",
      "Количество целевого признака класса 1: 5932\n",
      "Соотношение классов: 0.9758934592043156\n"
     ]
    }
   ],
   "source": [
    "print(\"Количество целевого признака класса 0:\",target_train_upsampled[target_train_upsampled==0].count())\n",
    "print(\"Количество целевого признака класса 1:\",target_train_upsampled[target_train_upsampled==1].count())\n",
    "print(\"Соотношение классов:\",(target_train_upsampled[target_train_upsampled==0].count()/target_train_upsampled[target_train_upsampled==1].count()))"
   ]
  },
  {
   "cell_type": "markdown",
   "metadata": {},
   "source": [
    "Проверим какая модель лучше всего работает с улучшенными данными. Лучшую модель будет дорабатывать гиперпараметрами. "
   ]
  },
  {
   "cell_type": "code",
   "execution_count": 24,
   "metadata": {},
   "outputs": [],
   "source": [
    "upsampling_result = pd.DataFrame(columns = [\"F1\",\"AUC ROC\"])"
   ]
  },
  {
   "cell_type": "code",
   "execution_count": 25,
   "metadata": {},
   "outputs": [
    {
     "name": "stdout",
     "output_type": "stream",
     "text": [
      "Accurasy: 0.6985698569856986\n",
      "Precision: 0.3687315634218289\n",
      "Recall: 0.6756756756756757\n",
      "F1 Score: 0.47709923664122134\n",
      "AUC ROC: 0.7496490966104224\n"
     ]
    }
   ],
   "source": [
    "model = LogisticRegression(random_state=RANDOM_STATE)\n",
    "model.fit(features_train_upsampled,target_train_upsampled)\n",
    "predicted = model.predict(features_valid)\n",
    "print(\"Accurasy:\", model.score(features_valid,target_valid))\n",
    "print(\"Precision:\", precision_score(target_valid,predicted))\n",
    "print(\"Recall:\", recall_score(target_valid,predicted))\n",
    "print(\"F1 Score:\", f1_score(target_valid,predicted))\n",
    "probabilities_one_valid = model.predict_proba(features_valid)[:,1]\n",
    "print(\"AUC ROC:\",roc_auc_score(target_valid,probabilities_one_valid))\n",
    "upsampling_result.loc['LR'] = pd.Series({'F1':f1_score(target_valid,predicted), 'AUC ROC':roc_auc_score(target_valid,probabilities_one_valid)})"
   ]
  },
  {
   "cell_type": "code",
   "execution_count": 26,
   "metadata": {},
   "outputs": [
    {
     "name": "stdout",
     "output_type": "stream",
     "text": [
      "Accurasy: 0.847084708470847\n",
      "Precision: 0.6597222222222222\n",
      "Recall: 0.5135135135135135\n",
      "F1 Score: 0.5775075987841946\n",
      "AUC ROC: 0.8413431387188294\n"
     ]
    }
   ],
   "source": [
    "model = RandomForestClassifier(random_state=RANDOM_STATE)\n",
    "model.fit(features_train_upsampled,target_train_upsampled)\n",
    "predicted = model.predict(features_valid)\n",
    "print(\"Accurasy:\", model.score(features_valid,target_valid))\n",
    "print(\"Precision:\", precision_score(target_valid,predicted))\n",
    "print(\"Recall:\", recall_score(target_valid,predicted))\n",
    "print(\"F1 Score:\", f1_score(target_valid,predicted))\n",
    "probabilities_one_valid = model.predict_proba(features_valid)[:,1]\n",
    "print(\"AUC ROC:\",roc_auc_score(target_valid,probabilities_one_valid))\n",
    "upsampling_result.loc['RFC'] = pd.Series({'F1':f1_score(target_valid,predicted), 'AUC ROC':roc_auc_score(target_valid,probabilities_one_valid)})"
   ]
  },
  {
   "cell_type": "code",
   "execution_count": 27,
   "metadata": {},
   "outputs": [
    {
     "name": "stdout",
     "output_type": "stream",
     "text": [
      "Accurasy: 0.7821782178217822\n",
      "Precision: 0.46368715083798884\n",
      "Recall: 0.4486486486486487\n",
      "F1 Score: 0.4560439560439561\n",
      "AUC ROC: 0.658025981782888\n"
     ]
    }
   ],
   "source": [
    "model = DecisionTreeClassifier(random_state=RANDOM_STATE)\n",
    "model.fit(features_train_upsampled,target_train_upsampled)\n",
    "predicted = model.predict(features_valid)\n",
    "print(\"Accurasy:\", model.score(features_valid,target_valid))\n",
    "print(\"Precision:\", precision_score(target_valid,predicted))\n",
    "print(\"Recall:\", recall_score(target_valid,predicted))\n",
    "print(\"F1 Score:\", f1_score(target_valid,predicted))\n",
    "probabilities_one_valid = model.predict_proba(features_valid)[:,1]\n",
    "print(\"AUC ROC:\",roc_auc_score(target_valid,probabilities_one_valid))\n",
    "upsampling_result.loc['DTC'] = pd.Series({'F1':f1_score(target_valid,predicted), 'AUC ROC':roc_auc_score(target_valid,probabilities_one_valid)})"
   ]
  },
  {
   "cell_type": "markdown",
   "metadata": {},
   "source": [
    "**Weight_class**"
   ]
  },
  {
   "cell_type": "markdown",
   "metadata": {},
   "source": [
    "Добавим во все модели гиперпараметр - class_weight = \"balanced\""
   ]
  },
  {
   "cell_type": "code",
   "execution_count": 28,
   "metadata": {},
   "outputs": [],
   "source": [
    "weight_class_result = pd.DataFrame(columns = [\"F1\",\"AUC ROC\"])"
   ]
  },
  {
   "cell_type": "code",
   "execution_count": 29,
   "metadata": {},
   "outputs": [
    {
     "name": "stdout",
     "output_type": "stream",
     "text": [
      "Accurasy: 0.6996699669966997\n",
      "Precision: 0.3674698795180723\n",
      "Recall: 0.6594594594594595\n",
      "F1 Score: 0.47195357833655704\n",
      "AUC ROC: 0.74968642675825\n"
     ]
    }
   ],
   "source": [
    "model = LogisticRegression(random_state=RANDOM_STATE, class_weight = \"balanced\")\n",
    "model.fit(features_train,target_train)\n",
    "predicted = model.predict(features_valid)\n",
    "print(\"Accurasy:\", model.score(features_valid,target_valid))\n",
    "print(\"Precision:\", precision_score(target_valid,predicted))\n",
    "print(\"Recall:\", recall_score(target_valid,predicted))\n",
    "print(\"F1 Score:\", f1_score(target_valid,predicted))\n",
    "probabilities_one_valid = model.predict_proba(features_valid)[:,1]\n",
    "print(\"AUC ROC:\",roc_auc_score(target_valid,probabilities_one_valid))\n",
    "weight_class_result.loc['LR'] = pd.Series({'F1':f1_score(target_valid,predicted), 'AUC ROC':roc_auc_score(target_valid,probabilities_one_valid)})"
   ]
  },
  {
   "cell_type": "code",
   "execution_count": 30,
   "metadata": {},
   "outputs": [
    {
     "name": "stdout",
     "output_type": "stream",
     "text": [
      "Accurasy: 0.8514851485148515\n",
      "Precision: 0.7358490566037735\n",
      "Recall: 0.42162162162162165\n",
      "F1 Score: 0.5360824742268042\n",
      "AUC ROC: 0.845005226220696\n"
     ]
    }
   ],
   "source": [
    "model = RandomForestClassifier(random_state=RANDOM_STATE, class_weight = \"balanced\")\n",
    "model.fit(features_train,target_train)\n",
    "predicted = model.predict(features_valid)\n",
    "print(\"Accurasy:\", model.score(features_valid,target_valid))\n",
    "print(\"Precision:\", precision_score(target_valid,predicted))\n",
    "print(\"Recall:\", recall_score(target_valid,predicted))\n",
    "print(\"F1 Score:\", f1_score(target_valid,predicted))\n",
    "probabilities_one_valid = model.predict_proba(features_valid)[:,1]\n",
    "print(\"AUC ROC:\",roc_auc_score(target_valid,probabilities_one_valid))\n",
    "weight_class_result.loc['RFC'] = pd.Series({'F1':f1_score(target_valid,predicted), 'AUC ROC':roc_auc_score(target_valid,probabilities_one_valid)})"
   ]
  },
  {
   "cell_type": "code",
   "execution_count": 31,
   "metadata": {},
   "outputs": [
    {
     "name": "stdout",
     "output_type": "stream",
     "text": [
      "Accurasy: 0.7777777777777778\n",
      "Precision: 0.455026455026455\n",
      "Recall: 0.4648648648648649\n",
      "F1 Score: 0.4598930481283422\n",
      "AUC ROC: 0.6612998357473496\n"
     ]
    }
   ],
   "source": [
    "model = DecisionTreeClassifier(random_state=RANDOM_STATE, class_weight = \"balanced\")\n",
    "model.fit(features_train,target_train)\n",
    "predicted = model.predict(features_valid)\n",
    "print(\"Accurasy:\", model.score(features_valid,target_valid))\n",
    "print(\"Precision:\", precision_score(target_valid,predicted))\n",
    "print(\"Recall:\", recall_score(target_valid,predicted))\n",
    "print(\"F1 Score:\", f1_score(target_valid,predicted))\n",
    "probabilities_one_valid = model.predict_proba(features_valid)[:,1]\n",
    "print(\"AUC ROC:\",roc_auc_score(target_valid,probabilities_one_valid))\n",
    "weight_class_result.loc['DTC'] = pd.Series({'F1':f1_score(target_valid,predicted), 'AUC ROC':roc_auc_score(target_valid,probabilities_one_valid)})"
   ]
  },
  {
   "cell_type": "markdown",
   "metadata": {},
   "source": [
    "**Downsampling**"
   ]
  },
  {
   "cell_type": "code",
   "execution_count": 32,
   "metadata": {
    "scrolled": false
   },
   "outputs": [
    {
     "name": "stdout",
     "output_type": "stream",
     "text": [
      "Количество целевого признака класса 0: 5789\n",
      "Количество целевого признака класса 1: 1483\n",
      "Соотношение классов: 0.2561755052686129\n"
     ]
    }
   ],
   "source": [
    "print(\"Количество целевого признака класса 0:\",target_train[target_train==0].count())\n",
    "print(\"Количество целевого признака класса 1:\",target_train[target_train==1].count())\n",
    "print(\"Соотношение классов:\",(target_train[target_train==1].count()/target_train[target_train==0].count()))"
   ]
  },
  {
   "cell_type": "markdown",
   "metadata": {},
   "source": [
    "Чтобы достичь баланса классов, нам нужно иметь соотношение классов 1:1, для этого нужно уменьшить количество целевых признаков класса 0 в четыре раза (1/0.25). Сделать это можно за счет функции downsample_shuffle:"
   ]
  },
  {
   "cell_type": "code",
   "execution_count": 33,
   "metadata": {},
   "outputs": [],
   "source": [
    "def downsample_shuffle(features,target,fraction):\n",
    "    features_zeros = features[target==0]\n",
    "    features_ones = features[target==1]\n",
    "    target_zeros = target[target==0]\n",
    "    target_ones = target[target==1]\n",
    "    \n",
    "    features_downsampled = pd.concat(\n",
    "        [features_zeros.sample(frac=fraction, random_state=12345)] + [features_ones])\n",
    "    target_downsampled = pd.concat(\n",
    "        [target_zeros.sample(frac=fraction, random_state=12345)] + [target_ones])\n",
    "    \n",
    "    features_downsampled, target_downsampled = shuffle(features_downsampled, target_downsampled)\n",
    "    \n",
    "    return features_downsampled, target_downsampled"
   ]
  },
  {
   "cell_type": "code",
   "execution_count": 34,
   "metadata": {},
   "outputs": [],
   "source": [
    "features_train_downsampled, target_train_downsampled = downsample_shuffle(features_train.reset_index(drop=True), target_train.reset_index(drop=True), 0.25)"
   ]
  },
  {
   "cell_type": "code",
   "execution_count": 35,
   "metadata": {
    "scrolled": true
   },
   "outputs": [
    {
     "name": "stdout",
     "output_type": "stream",
     "text": [
      "Количество целевого признака класса 0: 1447\n",
      "Количество целевого признака класса 1: 1483\n",
      "Соотношение классов: 1.0248790601243953\n"
     ]
    }
   ],
   "source": [
    "print(\"Количество целевого признака класса 0:\",target_train_downsampled[target_train_downsampled==0].count())\n",
    "print(\"Количество целевого признака класса 1:\",target_train_downsampled[target_train_downsampled==1].count())\n",
    "print(\"Соотношение классов:\",(target_train_downsampled[target_train_downsampled==1].count()/target_train_downsampled[target_train_downsampled==0].count()))"
   ]
  },
  {
   "cell_type": "code",
   "execution_count": 36,
   "metadata": {},
   "outputs": [],
   "source": [
    "downsampling_result = pd.DataFrame(columns = [\"F1\",\"AUC ROC\"])"
   ]
  },
  {
   "cell_type": "code",
   "execution_count": 37,
   "metadata": {},
   "outputs": [
    {
     "name": "stdout",
     "output_type": "stream",
     "text": [
      "Accurasy: 0.6853685368536854\n",
      "Precision: 0.3561253561253561\n",
      "Recall: 0.6756756756756757\n",
      "F1 Score: 0.4664179104477612\n",
      "AUC ROC: 0.7494325817530237\n"
     ]
    }
   ],
   "source": [
    "model = LogisticRegression(random_state=RANDOM_STATE)\n",
    "model.fit(features_train_downsampled,target_train_downsampled)\n",
    "predicted = model.predict(features_valid)\n",
    "print(\"Accurasy:\", model.score(features_valid,target_valid))\n",
    "print(\"Precision:\", precision_score(target_valid,predicted))\n",
    "print(\"Recall:\", recall_score(target_valid,predicted))\n",
    "print(\"F1 Score:\", f1_score(target_valid,predicted))\n",
    "probabilities_one_valid = model.predict_proba(features_valid)[:,1]\n",
    "print(\"AUC ROC:\",roc_auc_score(target_valid,probabilities_one_valid))\n",
    "downsampling_result.loc['LR'] = pd.Series({'F1':f1_score(target_valid,predicted), 'AUC ROC':roc_auc_score(target_valid,probabilities_one_valid)})"
   ]
  },
  {
   "cell_type": "code",
   "execution_count": 38,
   "metadata": {},
   "outputs": [
    {
     "name": "stdout",
     "output_type": "stream",
     "text": [
      "Accurasy: 0.7667766776677668\n",
      "Precision: 0.45484949832775917\n",
      "Recall: 0.7351351351351352\n",
      "F1 Score: 0.5619834710743802\n",
      "AUC ROC: 0.8395102284605047\n"
     ]
    }
   ],
   "source": [
    "model = RandomForestClassifier(random_state=RANDOM_STATE)\n",
    "model.fit(features_train_downsampled,target_train_downsampled)\n",
    "predicted = model.predict(features_valid)\n",
    "print(\"Accurasy:\", model.score(features_valid,target_valid))\n",
    "print(\"Precision:\", precision_score(target_valid,predicted))\n",
    "print(\"Recall:\", recall_score(target_valid,predicted))\n",
    "print(\"F1 Score:\", f1_score(target_valid,predicted))\n",
    "probabilities_one_valid = model.predict_proba(features_valid)[:,1]\n",
    "print(\"AUC ROC:\",roc_auc_score(target_valid,probabilities_one_valid))\n",
    "downsampling_result.loc['RFC'] = pd.Series({'F1':f1_score(target_valid,predicted), 'AUC ROC':roc_auc_score(target_valid,probabilities_one_valid)})"
   ]
  },
  {
   "cell_type": "code",
   "execution_count": 39,
   "metadata": {},
   "outputs": [
    {
     "name": "stdout",
     "output_type": "stream",
     "text": [
      "Accurasy: 0.6875687568756875\n",
      "Precision: 0.3597733711048159\n",
      "Recall: 0.6864864864864865\n",
      "F1 Score: 0.47211895910780666\n",
      "AUC ROC: 0.6871658951769449\n"
     ]
    }
   ],
   "source": [
    "model = DecisionTreeClassifier(random_state=RANDOM_STATE)\n",
    "model.fit(features_train_downsampled,target_train_downsampled)\n",
    "predicted = model.predict(features_valid)\n",
    "print(\"Accurasy:\", model.score(features_valid,target_valid))\n",
    "print(\"Precision:\", precision_score(target_valid,predicted))\n",
    "print(\"Recall:\", recall_score(target_valid,predicted))\n",
    "print(\"F1 Score:\", f1_score(target_valid,predicted))\n",
    "probabilities_one_valid = model.predict_proba(features_valid)[:,1]\n",
    "print(\"AUC ROC:\",roc_auc_score(target_valid,probabilities_one_valid))\n",
    "downsampling_result.loc['DTC'] = pd.Series({'F1':f1_score(target_valid,predicted), 'AUC ROC':roc_auc_score(target_valid,probabilities_one_valid)})"
   ]
  },
  {
   "cell_type": "markdown",
   "metadata": {},
   "source": [
    "**Threshold**"
   ]
  },
  {
   "cell_type": "markdown",
   "metadata": {},
   "source": [
    "С помощью цикла, посмотрим на значение F1-меры при разном пороге у разных моделей. "
   ]
  },
  {
   "cell_type": "code",
   "execution_count": 40,
   "metadata": {},
   "outputs": [],
   "source": [
    "threshold_result = pd.DataFrame(columns = [\"F1\",\"AUC ROC\"])"
   ]
  },
  {
   "cell_type": "code",
   "execution_count": 41,
   "metadata": {},
   "outputs": [
    {
     "name": "stdout",
     "output_type": "stream",
     "text": [
      "F1 лучшей модели: 0.47446457990115326\n",
      "Порог лучшей модели: 0.16999999999999998\n",
      "AUC ROC: 0.7455129162311482\n"
     ]
    }
   ],
   "source": [
    "best_model = None\n",
    "best_result = 0\n",
    "best_threshold = 0\n",
    "for threshold in np.arange(0.1, 0.9, 0.01):\n",
    "    model = LogisticRegression(random_state=RANDOM_STATE)\n",
    "    model.fit(features_train,target_train)\n",
    "    predicted = (model.predict_proba(features_valid)[:,1] >= threshold).astype(bool)\n",
    "    result = f1_score(target_valid,predicted)\n",
    "    if result > best_result:\n",
    "        best_model = model\n",
    "        best_result = result\n",
    "        best_threshold = threshold\n",
    "    \n",
    "print(\"F1 лучшей модели:\", best_result)\n",
    "print(\"Порог лучшей модели:\", best_threshold)\n",
    "probabilities_one_valid = best_model.predict_proba(features_valid)[:,1]\n",
    "print(\"AUC ROC:\",roc_auc_score(target_valid,probabilities_one_valid))\n",
    "\n",
    "threshold_result.loc['LR'] = pd.Series({'F1':best_result, 'AUC ROC':roc_auc_score(target_valid,probabilities_one_valid)})"
   ]
  },
  {
   "cell_type": "code",
   "execution_count": 42,
   "metadata": {},
   "outputs": [
    {
     "name": "stdout",
     "output_type": "stream",
     "text": [
      "F1 лучшей модели: 0.5907859078590786\n",
      "Порог лучшей модели: 0.34999999999999987\n",
      "AUC ROC: 0.8396819471405107\n"
     ]
    }
   ],
   "source": [
    "best_model = None\n",
    "best_result = 0\n",
    "best_threshold = 0\n",
    "for threshold in np.arange(0.1, 0.9, 0.01):\n",
    "    model = RandomForestClassifier(random_state=RANDOM_STATE)\n",
    "    model.fit(features_train,target_train)\n",
    "    predicted = (model.predict_proba(features_valid)[:,1] >= threshold).astype(bool)\n",
    "    result = f1_score(target_valid,predicted)\n",
    "    if result > best_result:\n",
    "        best_model = model\n",
    "        best_result = result\n",
    "        best_threshold = threshold\n",
    "    \n",
    "print(\"F1 лучшей модели:\", best_result)\n",
    "print(\"Порог лучшей модели:\", best_threshold)\n",
    "probabilities_one_valid = best_model.predict_proba(features_valid)[:,1]\n",
    "print(\"AUC ROC:\",roc_auc_score(target_valid,probabilities_one_valid))\n",
    "\n",
    "threshold_result.loc['RFC'] = pd.Series({'F1':best_result, 'AUC ROC':roc_auc_score(target_valid,probabilities_one_valid)})"
   ]
  },
  {
   "cell_type": "code",
   "execution_count": 43,
   "metadata": {
    "scrolled": true
   },
   "outputs": [
    {
     "name": "stdout",
     "output_type": "stream",
     "text": [
      "F1 лучшей модели: 0.46842105263157896\n",
      "Порог лучшей модели: 0.1\n",
      "AUC ROC: 0.6673361206510378\n"
     ]
    }
   ],
   "source": [
    "best_model = None\n",
    "best_result = 0\n",
    "best_threshold = 0\n",
    "for threshold in np.arange(0.1, 0.9, 0.01):\n",
    "    model = DecisionTreeClassifier(random_state=RANDOM_STATE)\n",
    "    model.fit(features_train,target_train)\n",
    "    predicted = (model.predict_proba(features_valid)[:,1] >= threshold).astype(bool)\n",
    "    result = f1_score(target_valid,predicted)\n",
    "    if result > best_result:\n",
    "        best_model = model\n",
    "        best_result = result\n",
    "        best_threshold = threshold\n",
    "    \n",
    "print(\"F1 лучшей модели:\", best_result)\n",
    "print(\"Порог лучшей модели:\", best_threshold)\n",
    "probabilities_one_valid = best_model.predict_proba(features_valid)[:,1]\n",
    "print(\"AUC ROC:\",roc_auc_score(target_valid,probabilities_one_valid))\n",
    "\n",
    "threshold_result.loc['DTC'] = pd.Series({'F1':best_result, 'AUC ROC':roc_auc_score(target_valid,probabilities_one_valid)})"
   ]
  },
  {
   "cell_type": "markdown",
   "metadata": {},
   "source": [
    "**Результаты**"
   ]
  },
  {
   "cell_type": "code",
   "execution_count": 44,
   "metadata": {},
   "outputs": [
    {
     "name": "stdout",
     "output_type": "stream",
     "text": [
      "Original:\n"
     ]
    },
    {
     "data": {
      "text/html": [
       "<div>\n",
       "<style scoped>\n",
       "    .dataframe tbody tr th:only-of-type {\n",
       "        vertical-align: middle;\n",
       "    }\n",
       "\n",
       "    .dataframe tbody tr th {\n",
       "        vertical-align: top;\n",
       "    }\n",
       "\n",
       "    .dataframe thead th {\n",
       "        text-align: right;\n",
       "    }\n",
       "</style>\n",
       "<table border=\"1\" class=\"dataframe\">\n",
       "  <thead>\n",
       "    <tr style=\"text-align: right;\">\n",
       "      <th></th>\n",
       "      <th>F1</th>\n",
       "      <th>AUC ROC</th>\n",
       "    </tr>\n",
       "  </thead>\n",
       "  <tbody>\n",
       "    <tr>\n",
       "      <th>LR</th>\n",
       "      <td>0.247934</td>\n",
       "      <td>0.745513</td>\n",
       "    </tr>\n",
       "    <tr>\n",
       "      <th>RFC</th>\n",
       "      <td>0.552189</td>\n",
       "      <td>0.839682</td>\n",
       "    </tr>\n",
       "    <tr>\n",
       "      <th>DTC</th>\n",
       "      <td>0.468421</td>\n",
       "      <td>0.667336</td>\n",
       "    </tr>\n",
       "  </tbody>\n",
       "</table>\n",
       "</div>"
      ],
      "text/plain": [
       "           F1   AUC ROC\n",
       "LR   0.247934  0.745513\n",
       "RFC  0.552189  0.839682\n",
       "DTC  0.468421  0.667336"
      ]
     },
     "metadata": {},
     "output_type": "display_data"
    },
    {
     "name": "stdout",
     "output_type": "stream",
     "text": [
      "Upsampling:\n"
     ]
    },
    {
     "data": {
      "text/html": [
       "<div>\n",
       "<style scoped>\n",
       "    .dataframe tbody tr th:only-of-type {\n",
       "        vertical-align: middle;\n",
       "    }\n",
       "\n",
       "    .dataframe tbody tr th {\n",
       "        vertical-align: top;\n",
       "    }\n",
       "\n",
       "    .dataframe thead th {\n",
       "        text-align: right;\n",
       "    }\n",
       "</style>\n",
       "<table border=\"1\" class=\"dataframe\">\n",
       "  <thead>\n",
       "    <tr style=\"text-align: right;\">\n",
       "      <th></th>\n",
       "      <th>F1</th>\n",
       "      <th>AUC ROC</th>\n",
       "    </tr>\n",
       "  </thead>\n",
       "  <tbody>\n",
       "    <tr>\n",
       "      <th>LR</th>\n",
       "      <td>0.477099</td>\n",
       "      <td>0.749649</td>\n",
       "    </tr>\n",
       "    <tr>\n",
       "      <th>RFC</th>\n",
       "      <td>0.577508</td>\n",
       "      <td>0.841343</td>\n",
       "    </tr>\n",
       "    <tr>\n",
       "      <th>DTC</th>\n",
       "      <td>0.456044</td>\n",
       "      <td>0.658026</td>\n",
       "    </tr>\n",
       "  </tbody>\n",
       "</table>\n",
       "</div>"
      ],
      "text/plain": [
       "           F1   AUC ROC\n",
       "LR   0.477099  0.749649\n",
       "RFC  0.577508  0.841343\n",
       "DTC  0.456044  0.658026"
      ]
     },
     "metadata": {},
     "output_type": "display_data"
    },
    {
     "name": "stdout",
     "output_type": "stream",
     "text": [
      "Weight class:\n"
     ]
    },
    {
     "data": {
      "text/html": [
       "<div>\n",
       "<style scoped>\n",
       "    .dataframe tbody tr th:only-of-type {\n",
       "        vertical-align: middle;\n",
       "    }\n",
       "\n",
       "    .dataframe tbody tr th {\n",
       "        vertical-align: top;\n",
       "    }\n",
       "\n",
       "    .dataframe thead th {\n",
       "        text-align: right;\n",
       "    }\n",
       "</style>\n",
       "<table border=\"1\" class=\"dataframe\">\n",
       "  <thead>\n",
       "    <tr style=\"text-align: right;\">\n",
       "      <th></th>\n",
       "      <th>F1</th>\n",
       "      <th>AUC ROC</th>\n",
       "    </tr>\n",
       "  </thead>\n",
       "  <tbody>\n",
       "    <tr>\n",
       "      <th>LR</th>\n",
       "      <td>0.471954</td>\n",
       "      <td>0.749686</td>\n",
       "    </tr>\n",
       "    <tr>\n",
       "      <th>RFC</th>\n",
       "      <td>0.536082</td>\n",
       "      <td>0.845005</td>\n",
       "    </tr>\n",
       "    <tr>\n",
       "      <th>DTC</th>\n",
       "      <td>0.459893</td>\n",
       "      <td>0.661300</td>\n",
       "    </tr>\n",
       "  </tbody>\n",
       "</table>\n",
       "</div>"
      ],
      "text/plain": [
       "           F1   AUC ROC\n",
       "LR   0.471954  0.749686\n",
       "RFC  0.536082  0.845005\n",
       "DTC  0.459893  0.661300"
      ]
     },
     "metadata": {},
     "output_type": "display_data"
    },
    {
     "name": "stdout",
     "output_type": "stream",
     "text": [
      "Downsampling:\n"
     ]
    },
    {
     "data": {
      "text/html": [
       "<div>\n",
       "<style scoped>\n",
       "    .dataframe tbody tr th:only-of-type {\n",
       "        vertical-align: middle;\n",
       "    }\n",
       "\n",
       "    .dataframe tbody tr th {\n",
       "        vertical-align: top;\n",
       "    }\n",
       "\n",
       "    .dataframe thead th {\n",
       "        text-align: right;\n",
       "    }\n",
       "</style>\n",
       "<table border=\"1\" class=\"dataframe\">\n",
       "  <thead>\n",
       "    <tr style=\"text-align: right;\">\n",
       "      <th></th>\n",
       "      <th>F1</th>\n",
       "      <th>AUC ROC</th>\n",
       "    </tr>\n",
       "  </thead>\n",
       "  <tbody>\n",
       "    <tr>\n",
       "      <th>LR</th>\n",
       "      <td>0.466418</td>\n",
       "      <td>0.749433</td>\n",
       "    </tr>\n",
       "    <tr>\n",
       "      <th>RFC</th>\n",
       "      <td>0.561983</td>\n",
       "      <td>0.839510</td>\n",
       "    </tr>\n",
       "    <tr>\n",
       "      <th>DTC</th>\n",
       "      <td>0.472119</td>\n",
       "      <td>0.687166</td>\n",
       "    </tr>\n",
       "  </tbody>\n",
       "</table>\n",
       "</div>"
      ],
      "text/plain": [
       "           F1   AUC ROC\n",
       "LR   0.466418  0.749433\n",
       "RFC  0.561983  0.839510\n",
       "DTC  0.472119  0.687166"
      ]
     },
     "metadata": {},
     "output_type": "display_data"
    },
    {
     "name": "stdout",
     "output_type": "stream",
     "text": [
      "Threshold:\n"
     ]
    },
    {
     "data": {
      "text/html": [
       "<div>\n",
       "<style scoped>\n",
       "    .dataframe tbody tr th:only-of-type {\n",
       "        vertical-align: middle;\n",
       "    }\n",
       "\n",
       "    .dataframe tbody tr th {\n",
       "        vertical-align: top;\n",
       "    }\n",
       "\n",
       "    .dataframe thead th {\n",
       "        text-align: right;\n",
       "    }\n",
       "</style>\n",
       "<table border=\"1\" class=\"dataframe\">\n",
       "  <thead>\n",
       "    <tr style=\"text-align: right;\">\n",
       "      <th></th>\n",
       "      <th>F1</th>\n",
       "      <th>AUC ROC</th>\n",
       "    </tr>\n",
       "  </thead>\n",
       "  <tbody>\n",
       "    <tr>\n",
       "      <th>LR</th>\n",
       "      <td>0.474465</td>\n",
       "      <td>0.745513</td>\n",
       "    </tr>\n",
       "    <tr>\n",
       "      <th>RFC</th>\n",
       "      <td>0.590786</td>\n",
       "      <td>0.839682</td>\n",
       "    </tr>\n",
       "    <tr>\n",
       "      <th>DTC</th>\n",
       "      <td>0.468421</td>\n",
       "      <td>0.667336</td>\n",
       "    </tr>\n",
       "  </tbody>\n",
       "</table>\n",
       "</div>"
      ],
      "text/plain": [
       "           F1   AUC ROC\n",
       "LR   0.474465  0.745513\n",
       "RFC  0.590786  0.839682\n",
       "DTC  0.468421  0.667336"
      ]
     },
     "metadata": {},
     "output_type": "display_data"
    }
   ],
   "source": [
    "print(\"Original:\")\n",
    "display(original_result)\n",
    "print(\"Upsampling:\")\n",
    "display(upsampling_result)\n",
    "print(\"Weight class:\")\n",
    "display(weight_class_result)\n",
    "print(\"Downsampling:\")\n",
    "display(downsampling_result)\n",
    "print(\"Threshold:\")\n",
    "display(threshold_result)"
   ]
  },
  {
   "cell_type": "markdown",
   "metadata": {},
   "source": [
    "Сложно выявить лучший вариант балансировки, так как в зависимости от модели, метод балансировки как улучшил, так и ухудшил результат. Однако, в общем, результаты лучше, чем без балансировки, в особенности для LogisticRegression.\n",
    "\n",
    "Из результатов балансировки можно сделать вывод, что лучшей моделью для данной задачи является RandomForestClassifier, среди всех вариантов балансировки были достигнуты лучшие значения F1-меры и значения AUC ROC в сравнее с остальными моделями.\n",
    "\n",
    "Лучшей моделью оказалось модель RandomForestClassifier с порогом в 0.35, значение F1-меры составило 0.59, а AUC ROC составило 0.84. Для данной модели будут подобранны гиперпараметры для оптимального результата:"
   ]
  },
  {
   "cell_type": "code",
   "execution_count": 45,
   "metadata": {},
   "outputs": [
    {
     "name": "stdout",
     "output_type": "stream",
     "text": [
      "Глубина лучшей модели: 21\n",
      "Число деревьев лучшей модели: 71\n",
      "F1 лучшей модели: 0.6162162162162163\n",
      "AUC ROC: 0.836352097954308\n"
     ]
    }
   ],
   "source": [
    "best_gini_model = None\n",
    "best_result = 0\n",
    "best_est = 0\n",
    "best_depth = 0\n",
    "for est in range(1, 101, 5):\n",
    "    for depth in range (1, 51, 5):\n",
    "        model = RandomForestClassifier(random_state=RANDOM_STATE,n_estimators=est, max_depth=depth,criterion=\"gini\")\n",
    "        model.fit(features_train,target_train)\n",
    "        predicted_valid = (model.predict_proba(features_valid)[:,1] >= 0.35).astype(bool)\n",
    "        result = f1_score(target_valid,predicted_valid)\n",
    "        if result > best_result:\n",
    "            best_gini_model = model\n",
    "            best_result = result\n",
    "            best_depth = depth\n",
    "            best_est = est\n",
    "            \n",
    "print(\"Глубина лучшей модели:\", best_depth)\n",
    "print(\"Число деревьев лучшей модели:\", best_est)\n",
    "print(\"F1 лучшей модели:\", best_result)\n",
    "probabilities_one_valid = best_gini_model.predict_proba(features_valid)[:,1]\n",
    "print(\"AUC ROC:\",roc_auc_score(target_valid,probabilities_one_valid))"
   ]
  },
  {
   "cell_type": "code",
   "execution_count": 46,
   "metadata": {},
   "outputs": [
    {
     "name": "stdout",
     "output_type": "stream",
     "text": [
      "Глубина лучшей модели: 16\n",
      "Число деревьев лучшей модели: 51\n",
      "F1 лучшей модели: 0.6149584487534626\n",
      "AUC ROC: 0.8440794385545768\n"
     ]
    }
   ],
   "source": [
    "best_entropy_model = None\n",
    "best_result = 0\n",
    "best_est = 0\n",
    "best_depth = 0\n",
    "for est in range(1, 101, 5):\n",
    "    for depth in range (1, 51, 5):\n",
    "        model = RandomForestClassifier(random_state=RANDOM_STATE,n_estimators=est, max_depth=depth,criterion=\"entropy\")\n",
    "        model.fit(features_train,target_train)\n",
    "        predicted_valid = (model.predict_proba(features_valid)[:,1] >= 0.35).astype(bool)\n",
    "        result = f1_score(target_valid,predicted_valid)\n",
    "        if result > best_result:\n",
    "            best_entropy_model = model\n",
    "            best_result = result\n",
    "            best_depth = depth\n",
    "            best_est = est\n",
    "            \n",
    "print(\"Глубина лучшей модели:\", best_depth)\n",
    "print(\"Число деревьев лучшей модели:\", best_est)\n",
    "print(\"F1 лучшей модели:\", best_result)\n",
    "probabilities_one_valid = best_entropy_model.predict_proba(features_valid)[:,1]\n",
    "print(\"AUC ROC:\",roc_auc_score(target_valid,probabilities_one_valid))"
   ]
  },
  {
   "cell_type": "markdown",
   "metadata": {},
   "source": [
    "Лучший моделью, по результатам подбора гиперпараметров, оказалось модель RandomForestClassifier со знаением criterion=\"gini\", глубиной 21 и числом деревьев 71.\n",
    "\n",
    "Данная модель достигла F1-меры 0.616 и AUR ROC 0.836. Далее, модель будет проверена на тестовой выборке. "
   ]
  },
  {
   "cell_type": "markdown",
   "metadata": {},
   "source": [
    "## Тестирование модели"
   ]
  },
  {
   "cell_type": "markdown",
   "metadata": {},
   "source": [
    "Теперь проверим модель на тестовой выборки, сможет ли она достигнуть значение F1 > 0.59?"
   ]
  },
  {
   "cell_type": "code",
   "execution_count": 47,
   "metadata": {
    "scrolled": true
   },
   "outputs": [
    {
     "name": "stdout",
     "output_type": "stream",
     "text": [
      "Accurasy: 0.8769230769230769\n",
      "Precision: 0.6318407960199005\n",
      "Recall: 0.6827956989247311\n",
      "F1 Score: 0.6563307493540051\n",
      "AUC ROC: 0.8689776035169012\n"
     ]
    }
   ],
   "source": [
    "test_results = (best_gini_model.predict_proba(features_test)[:,1] >= 0.35).astype(bool)\n",
    "\n",
    "print(\"Accurasy:\", model.score(features_test,target_test))\n",
    "print(\"Precision:\", precision_score(target_test,test_results))\n",
    "print(\"Recall:\", recall_score(target_test,test_results))\n",
    "print(\"F1 Score:\", f1_score(target_test,test_results))\n",
    "probabilities_one_valid = model.predict_proba(features_test)[:,1]\n",
    "print(\"AUC ROC:\",roc_auc_score(target_test,probabilities_one_valid))"
   ]
  },
  {
   "cell_type": "markdown",
   "metadata": {},
   "source": [
    "Результат на тестовой выборки - успех. Модель достигла 0.656 F1-меры и 0.869 AUC ROC."
   ]
  },
  {
   "cell_type": "markdown",
   "metadata": {},
   "source": [
    "## Вывод"
   ]
  },
  {
   "cell_type": "markdown",
   "metadata": {},
   "source": [
    "Из проделанной работы, было выявлено, что лучшей моделью для предсказания тарифа является случайный лес с глубинной 11 и числе деревьев 21, и значением criterion - \"gini\". В данном проекте модель располагается под переменной \"best_gini_model\". \n",
    "\n",
    "Лучшая модель достигла значение F1-меры - 0.656 и значение AUC ROC - 0.869 по проверки на тестовой выборке. Следственно, модель выполняет поставленную цель в F1 > 0.59 и говорит о возможности модели предсказать уход клиента из банка с хорошей точностью.   "
   ]
  }
 ],
 "metadata": {
  "ExecuteTimeLog": [
   {
    "duration": 492,
    "start_time": "2022-12-10T07:40:18.122Z"
   },
   {
    "duration": 169,
    "start_time": "2022-12-10T07:40:18.661Z"
   },
   {
    "duration": 31,
    "start_time": "2022-12-10T07:40:19.478Z"
   },
   {
    "duration": 16,
    "start_time": "2022-12-10T07:40:20.026Z"
   },
   {
    "duration": 5,
    "start_time": "2022-12-10T07:42:21.440Z"
   },
   {
    "duration": 4,
    "start_time": "2022-12-10T07:49:22.842Z"
   },
   {
    "duration": 14,
    "start_time": "2022-12-10T07:49:30.274Z"
   },
   {
    "duration": 69,
    "start_time": "2022-12-10T07:56:33.287Z"
   },
   {
    "duration": 5,
    "start_time": "2022-12-10T07:56:40.359Z"
   },
   {
    "duration": 9,
    "start_time": "2022-12-10T07:58:28.488Z"
   },
   {
    "duration": 686,
    "start_time": "2022-12-10T07:59:14.890Z"
   },
   {
    "duration": 9,
    "start_time": "2022-12-10T07:59:18.600Z"
   },
   {
    "duration": 10,
    "start_time": "2022-12-10T08:00:09.166Z"
   },
   {
    "duration": 174,
    "start_time": "2022-12-10T08:10:26.427Z"
   },
   {
    "duration": 1099,
    "start_time": "2022-12-10T08:11:19.860Z"
   },
   {
    "duration": 41,
    "start_time": "2022-12-10T08:11:20.961Z"
   },
   {
    "duration": 25,
    "start_time": "2022-12-10T08:11:21.004Z"
   },
   {
    "duration": 18,
    "start_time": "2022-12-10T08:11:21.031Z"
   },
   {
    "duration": 4,
    "start_time": "2022-12-10T08:11:21.051Z"
   },
   {
    "duration": 6,
    "start_time": "2022-12-10T08:11:21.057Z"
   },
   {
    "duration": 8,
    "start_time": "2022-12-10T08:11:21.064Z"
   },
   {
    "duration": 198,
    "start_time": "2022-12-10T08:11:21.074Z"
   },
   {
    "duration": 107,
    "start_time": "2022-12-10T08:11:21.275Z"
   },
   {
    "duration": 12,
    "start_time": "2022-12-10T08:11:35.552Z"
   },
   {
    "duration": 181,
    "start_time": "2022-12-10T08:12:14.001Z"
   },
   {
    "duration": 83,
    "start_time": "2022-12-10T08:12:15.041Z"
   },
   {
    "duration": 12,
    "start_time": "2022-12-10T08:12:16.004Z"
   },
   {
    "duration": 1103,
    "start_time": "2022-12-10T08:14:32.078Z"
   },
   {
    "duration": 41,
    "start_time": "2022-12-10T08:14:33.183Z"
   },
   {
    "duration": 24,
    "start_time": "2022-12-10T08:14:33.226Z"
   },
   {
    "duration": 16,
    "start_time": "2022-12-10T08:14:33.252Z"
   },
   {
    "duration": 6,
    "start_time": "2022-12-10T08:14:33.270Z"
   },
   {
    "duration": 7,
    "start_time": "2022-12-10T08:14:33.278Z"
   },
   {
    "duration": 6,
    "start_time": "2022-12-10T08:14:33.287Z"
   },
   {
    "duration": 211,
    "start_time": "2022-12-10T08:14:33.295Z"
   },
   {
    "duration": 102,
    "start_time": "2022-12-10T08:14:33.507Z"
   },
   {
    "duration": 11,
    "start_time": "2022-12-10T08:14:36.244Z"
   },
   {
    "duration": 15,
    "start_time": "2022-12-10T08:15:45.427Z"
   },
   {
    "duration": 3,
    "start_time": "2022-12-10T08:17:48.841Z"
   },
   {
    "duration": 14,
    "start_time": "2022-12-10T08:18:43.689Z"
   },
   {
    "duration": 1268,
    "start_time": "2022-12-10T08:23:16.437Z"
   },
   {
    "duration": 1189,
    "start_time": "2022-12-10T08:23:29.508Z"
   },
   {
    "duration": 4,
    "start_time": "2022-12-10T08:24:42.367Z"
   },
   {
    "duration": 5,
    "start_time": "2022-12-10T08:25:06.804Z"
   },
   {
    "duration": 8,
    "start_time": "2022-12-10T08:27:19.101Z"
   },
   {
    "duration": 9,
    "start_time": "2022-12-10T08:28:35.535Z"
   },
   {
    "duration": 7,
    "start_time": "2022-12-10T08:28:45.201Z"
   },
   {
    "duration": 8,
    "start_time": "2022-12-10T08:28:55.968Z"
   },
   {
    "duration": 6,
    "start_time": "2022-12-10T08:28:56.557Z"
   },
   {
    "duration": 12,
    "start_time": "2022-12-10T08:31:01.601Z"
   },
   {
    "duration": 7,
    "start_time": "2022-12-10T08:31:20.033Z"
   },
   {
    "duration": 59,
    "start_time": "2022-12-10T08:31:23.502Z"
   },
   {
    "duration": 4,
    "start_time": "2022-12-10T08:32:09.172Z"
   },
   {
    "duration": 3,
    "start_time": "2022-12-10T08:32:18.508Z"
   },
   {
    "duration": 1097,
    "start_time": "2022-12-10T08:39:30.886Z"
   },
   {
    "duration": 44,
    "start_time": "2022-12-10T08:39:31.985Z"
   },
   {
    "duration": 25,
    "start_time": "2022-12-10T08:39:32.031Z"
   },
   {
    "duration": 17,
    "start_time": "2022-12-10T08:39:32.058Z"
   },
   {
    "duration": 5,
    "start_time": "2022-12-10T08:39:32.077Z"
   },
   {
    "duration": 11,
    "start_time": "2022-12-10T08:39:32.084Z"
   },
   {
    "duration": 5,
    "start_time": "2022-12-10T08:39:32.097Z"
   },
   {
    "duration": 8,
    "start_time": "2022-12-10T08:39:32.104Z"
   },
   {
    "duration": 8,
    "start_time": "2022-12-10T08:39:32.114Z"
   },
   {
    "duration": 38,
    "start_time": "2022-12-10T08:39:32.123Z"
   },
   {
    "duration": 7,
    "start_time": "2022-12-10T08:39:32.163Z"
   },
   {
    "duration": 5,
    "start_time": "2022-12-10T08:39:33.806Z"
   },
   {
    "duration": 11,
    "start_time": "2022-12-10T08:39:34.953Z"
   },
   {
    "duration": 9,
    "start_time": "2022-12-10T08:39:39.504Z"
   },
   {
    "duration": 3,
    "start_time": "2022-12-10T08:46:42.669Z"
   },
   {
    "duration": 74,
    "start_time": "2022-12-10T08:47:24.187Z"
   },
   {
    "duration": 5,
    "start_time": "2022-12-10T08:47:33.622Z"
   },
   {
    "duration": 1053,
    "start_time": "2022-12-10T10:03:13.298Z"
   },
   {
    "duration": 41,
    "start_time": "2022-12-10T10:03:14.353Z"
   },
   {
    "duration": 25,
    "start_time": "2022-12-10T10:03:14.396Z"
   },
   {
    "duration": 15,
    "start_time": "2022-12-10T10:03:14.423Z"
   },
   {
    "duration": 5,
    "start_time": "2022-12-10T10:03:14.440Z"
   },
   {
    "duration": 5,
    "start_time": "2022-12-10T10:03:14.451Z"
   },
   {
    "duration": 6,
    "start_time": "2022-12-10T10:03:14.458Z"
   },
   {
    "duration": 7,
    "start_time": "2022-12-10T10:03:14.465Z"
   },
   {
    "duration": 7,
    "start_time": "2022-12-10T10:03:14.473Z"
   },
   {
    "duration": 13,
    "start_time": "2022-12-10T10:03:14.481Z"
   },
   {
    "duration": 6,
    "start_time": "2022-12-10T10:03:14.495Z"
   },
   {
    "duration": 13,
    "start_time": "2022-12-10T10:03:14.502Z"
   },
   {
    "duration": 35,
    "start_time": "2022-12-10T10:03:14.517Z"
   },
   {
    "duration": 4,
    "start_time": "2022-12-10T10:03:16.576Z"
   },
   {
    "duration": 110,
    "start_time": "2022-12-10T10:03:17.374Z"
   },
   {
    "duration": 4,
    "start_time": "2022-12-10T10:03:31.988Z"
   },
   {
    "duration": 18,
    "start_time": "2022-12-10T10:03:32.703Z"
   },
   {
    "duration": 8,
    "start_time": "2022-12-10T10:04:07.307Z"
   },
   {
    "duration": 7,
    "start_time": "2022-12-10T10:04:23.993Z"
   },
   {
    "duration": 29,
    "start_time": "2022-12-10T10:09:59.685Z"
   },
   {
    "duration": 4,
    "start_time": "2022-12-10T10:12:13.975Z"
   },
   {
    "duration": 13,
    "start_time": "2022-12-10T10:12:44.568Z"
   },
   {
    "duration": 11,
    "start_time": "2022-12-10T10:12:53.578Z"
   },
   {
    "duration": 29,
    "start_time": "2022-12-10T10:13:20.063Z"
   },
   {
    "duration": 28,
    "start_time": "2022-12-10T10:13:58.142Z"
   },
   {
    "duration": 14,
    "start_time": "2022-12-10T10:14:28.876Z"
   },
   {
    "duration": 10,
    "start_time": "2022-12-10T10:14:29.556Z"
   },
   {
    "duration": 14,
    "start_time": "2022-12-10T10:16:42.887Z"
   },
   {
    "duration": 1148,
    "start_time": "2022-12-10T10:16:57.525Z"
   },
   {
    "duration": 42,
    "start_time": "2022-12-10T10:16:58.675Z"
   },
   {
    "duration": 23,
    "start_time": "2022-12-10T10:16:58.719Z"
   },
   {
    "duration": 17,
    "start_time": "2022-12-10T10:16:59.158Z"
   },
   {
    "duration": 6,
    "start_time": "2022-12-10T10:17:00.776Z"
   },
   {
    "duration": 5,
    "start_time": "2022-12-10T10:17:01.883Z"
   },
   {
    "duration": 5,
    "start_time": "2022-12-10T10:17:02.590Z"
   },
   {
    "duration": 13,
    "start_time": "2022-12-10T10:17:03.460Z"
   },
   {
    "duration": 5,
    "start_time": "2022-12-10T10:17:13.374Z"
   },
   {
    "duration": 6,
    "start_time": "2022-12-10T10:17:14.976Z"
   },
   {
    "duration": 11,
    "start_time": "2022-12-10T10:17:15.318Z"
   },
   {
    "duration": 7,
    "start_time": "2022-12-10T10:17:15.656Z"
   },
   {
    "duration": 12,
    "start_time": "2022-12-10T10:17:15.898Z"
   },
   {
    "duration": 5,
    "start_time": "2022-12-10T10:17:16.307Z"
   },
   {
    "duration": 22,
    "start_time": "2022-12-10T10:17:16.499Z"
   },
   {
    "duration": 16,
    "start_time": "2022-12-10T10:17:17.574Z"
   },
   {
    "duration": 149,
    "start_time": "2022-12-10T10:17:19.529Z"
   },
   {
    "duration": 1480,
    "start_time": "2022-12-10T10:18:20.137Z"
   },
   {
    "duration": 48,
    "start_time": "2022-12-10T10:18:21.619Z"
   },
   {
    "duration": 26,
    "start_time": "2022-12-10T10:18:21.669Z"
   },
   {
    "duration": 15,
    "start_time": "2022-12-10T10:18:21.698Z"
   },
   {
    "duration": 5,
    "start_time": "2022-12-10T10:18:21.716Z"
   },
   {
    "duration": 41,
    "start_time": "2022-12-10T10:18:21.723Z"
   },
   {
    "duration": 8,
    "start_time": "2022-12-10T10:18:21.765Z"
   },
   {
    "duration": 6,
    "start_time": "2022-12-10T10:18:21.775Z"
   },
   {
    "duration": 11,
    "start_time": "2022-12-10T10:18:21.782Z"
   },
   {
    "duration": 10,
    "start_time": "2022-12-10T10:18:21.795Z"
   },
   {
    "duration": 6,
    "start_time": "2022-12-10T10:18:21.806Z"
   },
   {
    "duration": 16,
    "start_time": "2022-12-10T10:18:21.814Z"
   },
   {
    "duration": 6,
    "start_time": "2022-12-10T10:18:21.832Z"
   },
   {
    "duration": 30,
    "start_time": "2022-12-10T10:18:21.840Z"
   },
   {
    "duration": 14,
    "start_time": "2022-12-10T10:18:24.365Z"
   },
   {
    "duration": 4,
    "start_time": "2022-12-10T10:19:19.990Z"
   },
   {
    "duration": 16,
    "start_time": "2022-12-10T10:19:20.684Z"
   },
   {
    "duration": 19,
    "start_time": "2022-12-10T10:19:22.450Z"
   },
   {
    "duration": 13,
    "start_time": "2022-12-10T10:19:54.096Z"
   },
   {
    "duration": 11,
    "start_time": "2022-12-10T10:20:34.707Z"
   },
   {
    "duration": 12,
    "start_time": "2022-12-10T10:20:36.822Z"
   },
   {
    "duration": 1123,
    "start_time": "2022-12-10T10:21:06.961Z"
   },
   {
    "duration": 42,
    "start_time": "2022-12-10T10:21:08.086Z"
   },
   {
    "duration": 32,
    "start_time": "2022-12-10T10:21:08.129Z"
   },
   {
    "duration": 20,
    "start_time": "2022-12-10T10:21:08.163Z"
   },
   {
    "duration": 5,
    "start_time": "2022-12-10T10:21:08.185Z"
   },
   {
    "duration": 8,
    "start_time": "2022-12-10T10:21:08.192Z"
   },
   {
    "duration": 7,
    "start_time": "2022-12-10T10:21:08.202Z"
   },
   {
    "duration": 10,
    "start_time": "2022-12-10T10:21:08.210Z"
   },
   {
    "duration": 10,
    "start_time": "2022-12-10T10:21:08.221Z"
   },
   {
    "duration": 23,
    "start_time": "2022-12-10T10:21:08.232Z"
   },
   {
    "duration": 11,
    "start_time": "2022-12-10T10:21:09.769Z"
   },
   {
    "duration": 11,
    "start_time": "2022-12-10T10:21:10.638Z"
   },
   {
    "duration": 13,
    "start_time": "2022-12-10T10:21:11.906Z"
   },
   {
    "duration": 1081,
    "start_time": "2022-12-10T10:22:16.507Z"
   },
   {
    "duration": 42,
    "start_time": "2022-12-10T10:22:18.190Z"
   },
   {
    "duration": 22,
    "start_time": "2022-12-10T10:22:18.569Z"
   },
   {
    "duration": 15,
    "start_time": "2022-12-10T10:22:19.460Z"
   },
   {
    "duration": 4,
    "start_time": "2022-12-10T10:22:22.729Z"
   },
   {
    "duration": 5,
    "start_time": "2022-12-10T10:22:25.203Z"
   },
   {
    "duration": 5,
    "start_time": "2022-12-10T10:22:26.625Z"
   },
   {
    "duration": 11,
    "start_time": "2022-12-10T10:22:28.776Z"
   },
   {
    "duration": 4,
    "start_time": "2022-12-10T10:22:35.157Z"
   },
   {
    "duration": 5,
    "start_time": "2022-12-10T10:22:41.675Z"
   },
   {
    "duration": 9,
    "start_time": "2022-12-10T10:22:42.489Z"
   },
   {
    "duration": 12,
    "start_time": "2022-12-10T10:22:42.872Z"
   },
   {
    "duration": 1174,
    "start_time": "2022-12-10T10:23:00.215Z"
   },
   {
    "duration": 42,
    "start_time": "2022-12-10T10:23:01.391Z"
   },
   {
    "duration": 25,
    "start_time": "2022-12-10T10:23:01.434Z"
   },
   {
    "duration": 15,
    "start_time": "2022-12-10T10:23:01.462Z"
   },
   {
    "duration": 6,
    "start_time": "2022-12-10T10:23:01.479Z"
   },
   {
    "duration": 31,
    "start_time": "2022-12-10T10:23:01.486Z"
   },
   {
    "duration": 16,
    "start_time": "2022-12-10T10:23:01.518Z"
   },
   {
    "duration": 10,
    "start_time": "2022-12-10T10:23:01.536Z"
   },
   {
    "duration": 19,
    "start_time": "2022-12-10T10:23:01.548Z"
   },
   {
    "duration": 13,
    "start_time": "2022-12-10T10:23:01.569Z"
   },
   {
    "duration": 10,
    "start_time": "2022-12-10T10:23:01.584Z"
   },
   {
    "duration": 5,
    "start_time": "2022-12-10T10:23:01.596Z"
   },
   {
    "duration": 5,
    "start_time": "2022-12-10T10:23:03.670Z"
   },
   {
    "duration": 12,
    "start_time": "2022-12-10T10:23:04.494Z"
   },
   {
    "duration": 9,
    "start_time": "2022-12-10T10:23:11.525Z"
   },
   {
    "duration": 5,
    "start_time": "2022-12-10T10:23:12.818Z"
   },
   {
    "duration": 14,
    "start_time": "2022-12-10T10:23:17.290Z"
   },
   {
    "duration": 1385,
    "start_time": "2022-12-10T10:23:19.866Z"
   },
   {
    "duration": 4,
    "start_time": "2022-12-10T10:25:26.742Z"
   },
   {
    "duration": 5,
    "start_time": "2022-12-10T10:25:35.256Z"
   },
   {
    "duration": 4,
    "start_time": "2022-12-10T10:25:48.010Z"
   },
   {
    "duration": 5,
    "start_time": "2022-12-10T10:25:48.657Z"
   },
   {
    "duration": 4,
    "start_time": "2022-12-10T10:27:18.673Z"
   },
   {
    "duration": 4,
    "start_time": "2022-12-10T10:27:19.440Z"
   },
   {
    "duration": 4,
    "start_time": "2022-12-10T10:27:39.429Z"
   },
   {
    "duration": 8,
    "start_time": "2022-12-10T10:28:06.635Z"
   },
   {
    "duration": 8,
    "start_time": "2022-12-10T10:28:26.524Z"
   },
   {
    "duration": 5,
    "start_time": "2022-12-10T10:33:19.541Z"
   },
   {
    "duration": 4,
    "start_time": "2022-12-10T10:33:28.436Z"
   },
   {
    "duration": 4,
    "start_time": "2022-12-10T10:36:39.729Z"
   },
   {
    "duration": 4,
    "start_time": "2022-12-10T10:36:40.307Z"
   },
   {
    "duration": 15,
    "start_time": "2022-12-10T10:36:41.472Z"
   },
   {
    "duration": 4,
    "start_time": "2022-12-10T10:36:42.597Z"
   },
   {
    "duration": 6,
    "start_time": "2022-12-10T10:37:40.033Z"
   },
   {
    "duration": 18,
    "start_time": "2022-12-10T10:37:41.043Z"
   },
   {
    "duration": 5,
    "start_time": "2022-12-10T10:37:47.677Z"
   },
   {
    "duration": 14,
    "start_time": "2022-12-10T10:37:48.435Z"
   },
   {
    "duration": 1309,
    "start_time": "2022-12-10T10:38:59.517Z"
   },
   {
    "duration": 71,
    "start_time": "2022-12-10T10:39:00.828Z"
   },
   {
    "duration": 22,
    "start_time": "2022-12-10T10:39:00.900Z"
   },
   {
    "duration": 22,
    "start_time": "2022-12-10T10:39:00.924Z"
   },
   {
    "duration": 36,
    "start_time": "2022-12-10T10:39:00.948Z"
   },
   {
    "duration": 18,
    "start_time": "2022-12-10T10:39:00.986Z"
   },
   {
    "duration": 24,
    "start_time": "2022-12-10T10:39:01.006Z"
   },
   {
    "duration": 71,
    "start_time": "2022-12-10T10:39:01.032Z"
   },
   {
    "duration": 31,
    "start_time": "2022-12-10T10:39:01.105Z"
   },
   {
    "duration": 51,
    "start_time": "2022-12-10T10:39:01.138Z"
   },
   {
    "duration": 49,
    "start_time": "2022-12-10T10:39:01.191Z"
   },
   {
    "duration": 64,
    "start_time": "2022-12-10T10:39:01.242Z"
   },
   {
    "duration": 118,
    "start_time": "2022-12-10T10:39:01.307Z"
   },
   {
    "duration": 0,
    "start_time": "2022-12-10T10:39:01.427Z"
   },
   {
    "duration": 3,
    "start_time": "2022-12-10T10:39:57.237Z"
   },
   {
    "duration": 1985,
    "start_time": "2022-12-10T10:39:58.475Z"
   },
   {
    "duration": 12,
    "start_time": "2022-12-10T10:40:02.014Z"
   },
   {
    "duration": 27,
    "start_time": "2022-12-10T10:40:39.879Z"
   },
   {
    "duration": 80,
    "start_time": "2022-12-10T10:41:04.981Z"
   },
   {
    "duration": 1230,
    "start_time": "2022-12-10T10:44:55.567Z"
   },
   {
    "duration": 42,
    "start_time": "2022-12-10T10:44:56.799Z"
   },
   {
    "duration": 35,
    "start_time": "2022-12-10T10:44:56.842Z"
   },
   {
    "duration": 19,
    "start_time": "2022-12-10T10:44:56.882Z"
   },
   {
    "duration": 5,
    "start_time": "2022-12-10T10:44:56.903Z"
   },
   {
    "duration": 10,
    "start_time": "2022-12-10T10:44:56.910Z"
   },
   {
    "duration": 6,
    "start_time": "2022-12-10T10:44:56.921Z"
   },
   {
    "duration": 32,
    "start_time": "2022-12-10T10:44:56.929Z"
   },
   {
    "duration": 23,
    "start_time": "2022-12-10T10:44:56.963Z"
   },
   {
    "duration": 10,
    "start_time": "2022-12-10T10:44:56.989Z"
   },
   {
    "duration": 20,
    "start_time": "2022-12-10T10:44:57.001Z"
   },
   {
    "duration": 13,
    "start_time": "2022-12-10T10:44:57.023Z"
   },
   {
    "duration": 4,
    "start_time": "2022-12-10T10:45:21.101Z"
   },
   {
    "duration": 6,
    "start_time": "2022-12-10T10:45:21.882Z"
   },
   {
    "duration": 19,
    "start_time": "2022-12-10T10:45:22.775Z"
   },
   {
    "duration": 4,
    "start_time": "2022-12-10T10:45:23.280Z"
   },
   {
    "duration": 2719,
    "start_time": "2022-12-10T10:46:00.168Z"
   },
   {
    "duration": 24,
    "start_time": "2022-12-10T10:46:03.875Z"
   },
   {
    "duration": 1300,
    "start_time": "2022-12-10T10:46:35.500Z"
   },
   {
    "duration": 46,
    "start_time": "2022-12-10T10:46:36.802Z"
   },
   {
    "duration": 39,
    "start_time": "2022-12-10T10:46:36.850Z"
   },
   {
    "duration": 25,
    "start_time": "2022-12-10T10:46:36.892Z"
   },
   {
    "duration": 6,
    "start_time": "2022-12-10T10:46:36.919Z"
   },
   {
    "duration": 34,
    "start_time": "2022-12-10T10:46:36.927Z"
   },
   {
    "duration": 36,
    "start_time": "2022-12-10T10:46:36.966Z"
   },
   {
    "duration": 9,
    "start_time": "2022-12-10T10:46:37.004Z"
   },
   {
    "duration": 10,
    "start_time": "2022-12-10T10:46:37.015Z"
   },
   {
    "duration": 10,
    "start_time": "2022-12-10T10:46:37.028Z"
   },
   {
    "duration": 6,
    "start_time": "2022-12-10T10:46:37.040Z"
   },
   {
    "duration": 38,
    "start_time": "2022-12-10T10:46:37.047Z"
   },
   {
    "duration": 8,
    "start_time": "2022-12-10T10:46:37.087Z"
   },
   {
    "duration": 15,
    "start_time": "2022-12-10T10:46:37.097Z"
   },
   {
    "duration": 2061,
    "start_time": "2022-12-10T10:46:37.113Z"
   },
   {
    "duration": 1466,
    "start_time": "2022-12-10T10:46:40.697Z"
   },
   {
    "duration": 207,
    "start_time": "2022-12-10T10:46:42.166Z"
   },
   {
    "duration": 1326,
    "start_time": "2022-12-10T10:47:29.480Z"
   },
   {
    "duration": 46,
    "start_time": "2022-12-10T10:47:30.808Z"
   },
   {
    "duration": 32,
    "start_time": "2022-12-10T10:47:30.865Z"
   },
   {
    "duration": 17,
    "start_time": "2022-12-10T10:47:30.898Z"
   },
   {
    "duration": 11,
    "start_time": "2022-12-10T10:47:30.917Z"
   },
   {
    "duration": 13,
    "start_time": "2022-12-10T10:47:30.930Z"
   },
   {
    "duration": 44,
    "start_time": "2022-12-10T10:47:30.944Z"
   },
   {
    "duration": 26,
    "start_time": "2022-12-10T10:47:30.989Z"
   },
   {
    "duration": 15,
    "start_time": "2022-12-10T10:47:31.017Z"
   },
   {
    "duration": 13,
    "start_time": "2022-12-10T10:47:31.034Z"
   },
   {
    "duration": 59,
    "start_time": "2022-12-10T10:47:31.049Z"
   },
   {
    "duration": 10,
    "start_time": "2022-12-10T10:47:31.110Z"
   },
   {
    "duration": 4,
    "start_time": "2022-12-10T10:47:31.123Z"
   },
   {
    "duration": 38,
    "start_time": "2022-12-10T10:47:31.130Z"
   },
   {
    "duration": 1788,
    "start_time": "2022-12-10T10:47:31.171Z"
   },
   {
    "duration": 85,
    "start_time": "2022-12-10T10:47:34.078Z"
   },
   {
    "duration": 5,
    "start_time": "2022-12-10T10:48:18.188Z"
   },
   {
    "duration": 55,
    "start_time": "2022-12-10T10:48:18.194Z"
   },
   {
    "duration": 15,
    "start_time": "2022-12-10T10:48:18.251Z"
   },
   {
    "duration": 18,
    "start_time": "2022-12-10T10:48:18.267Z"
   },
   {
    "duration": 5,
    "start_time": "2022-12-10T10:48:18.288Z"
   },
   {
    "duration": 6,
    "start_time": "2022-12-10T10:48:18.294Z"
   },
   {
    "duration": 7,
    "start_time": "2022-12-10T10:48:18.302Z"
   },
   {
    "duration": 8,
    "start_time": "2022-12-10T10:48:18.311Z"
   },
   {
    "duration": 33,
    "start_time": "2022-12-10T10:48:18.320Z"
   },
   {
    "duration": 10,
    "start_time": "2022-12-10T10:48:18.355Z"
   },
   {
    "duration": 5,
    "start_time": "2022-12-10T10:48:18.366Z"
   },
   {
    "duration": 11,
    "start_time": "2022-12-10T10:48:18.373Z"
   },
   {
    "duration": 7,
    "start_time": "2022-12-10T10:48:18.385Z"
   },
   {
    "duration": 14,
    "start_time": "2022-12-10T10:48:18.394Z"
   },
   {
    "duration": 742,
    "start_time": "2022-12-10T10:48:18.410Z"
   },
   {
    "duration": 197,
    "start_time": "2022-12-10T10:48:19.155Z"
   },
   {
    "duration": 121,
    "start_time": "2022-12-10T10:51:10.623Z"
   },
   {
    "duration": 39,
    "start_time": "2022-12-10T10:51:48.501Z"
   },
   {
    "duration": 16,
    "start_time": "2022-12-10T10:52:08.066Z"
   },
   {
    "duration": 1062,
    "start_time": "2022-12-10T10:53:11.294Z"
   },
   {
    "duration": 52,
    "start_time": "2022-12-10T10:53:13.093Z"
   },
   {
    "duration": 52,
    "start_time": "2022-12-10T10:53:16.800Z"
   },
   {
    "duration": 13,
    "start_time": "2022-12-10T10:53:17.265Z"
   },
   {
    "duration": 5,
    "start_time": "2022-12-10T10:57:48.569Z"
   },
   {
    "duration": 16,
    "start_time": "2022-12-10T10:58:45.865Z"
   },
   {
    "duration": 9,
    "start_time": "2022-12-10T10:59:12.332Z"
   },
   {
    "duration": 13,
    "start_time": "2022-12-10T10:59:24.205Z"
   },
   {
    "duration": 10,
    "start_time": "2022-12-10T10:59:27.599Z"
   },
   {
    "duration": 12,
    "start_time": "2022-12-10T10:59:34.340Z"
   },
   {
    "duration": 5,
    "start_time": "2022-12-10T11:00:28.431Z"
   },
   {
    "duration": 11,
    "start_time": "2022-12-10T11:00:29.374Z"
   },
   {
    "duration": 1213,
    "start_time": "2022-12-10T11:01:09.624Z"
   },
   {
    "duration": 42,
    "start_time": "2022-12-10T11:01:10.840Z"
   },
   {
    "duration": 23,
    "start_time": "2022-12-10T11:01:10.884Z"
   },
   {
    "duration": 16,
    "start_time": "2022-12-10T11:01:10.909Z"
   },
   {
    "duration": 4,
    "start_time": "2022-12-10T11:01:10.927Z"
   },
   {
    "duration": 18,
    "start_time": "2022-12-10T11:01:10.933Z"
   },
   {
    "duration": 8,
    "start_time": "2022-12-10T11:01:10.953Z"
   },
   {
    "duration": 7,
    "start_time": "2022-12-10T11:01:10.966Z"
   },
   {
    "duration": 8,
    "start_time": "2022-12-10T11:01:10.974Z"
   },
   {
    "duration": 10,
    "start_time": "2022-12-10T11:01:10.984Z"
   },
   {
    "duration": 12,
    "start_time": "2022-12-10T11:01:10.996Z"
   },
   {
    "duration": 10,
    "start_time": "2022-12-10T11:01:11.010Z"
   },
   {
    "duration": 5,
    "start_time": "2022-12-10T11:01:11.022Z"
   },
   {
    "duration": 13,
    "start_time": "2022-12-10T11:01:11.053Z"
   },
   {
    "duration": 883,
    "start_time": "2022-12-10T11:01:11.068Z"
   },
   {
    "duration": 199,
    "start_time": "2022-12-10T11:01:11.954Z"
   },
   {
    "duration": 1026,
    "start_time": "2022-12-10T11:01:12.155Z"
   },
   {
    "duration": 47,
    "start_time": "2022-12-10T11:01:13.183Z"
   },
   {
    "duration": 63,
    "start_time": "2022-12-10T11:01:13.231Z"
   },
   {
    "duration": 13,
    "start_time": "2022-12-10T11:01:13.295Z"
   },
   {
    "duration": 12,
    "start_time": "2022-12-10T11:01:13.310Z"
   },
   {
    "duration": 65,
    "start_time": "2022-12-10T11:01:13.323Z"
   },
   {
    "duration": 5,
    "start_time": "2022-12-10T11:01:33.141Z"
   },
   {
    "duration": 11,
    "start_time": "2022-12-10T11:01:36.457Z"
   },
   {
    "duration": 103,
    "start_time": "2022-12-10T11:01:52.781Z"
   },
   {
    "duration": 4,
    "start_time": "2022-12-10T11:02:07.481Z"
   },
   {
    "duration": 1168,
    "start_time": "2022-12-10T11:02:32.581Z"
   },
   {
    "duration": 43,
    "start_time": "2022-12-10T11:02:33.751Z"
   },
   {
    "duration": 25,
    "start_time": "2022-12-10T11:02:33.795Z"
   },
   {
    "duration": 18,
    "start_time": "2022-12-10T11:02:33.822Z"
   },
   {
    "duration": 11,
    "start_time": "2022-12-10T11:02:33.842Z"
   },
   {
    "duration": 14,
    "start_time": "2022-12-10T11:02:33.855Z"
   },
   {
    "duration": 21,
    "start_time": "2022-12-10T11:02:33.871Z"
   },
   {
    "duration": 33,
    "start_time": "2022-12-10T11:02:33.893Z"
   },
   {
    "duration": 26,
    "start_time": "2022-12-10T11:02:33.928Z"
   },
   {
    "duration": 46,
    "start_time": "2022-12-10T11:02:33.956Z"
   },
   {
    "duration": 20,
    "start_time": "2022-12-10T11:02:34.003Z"
   },
   {
    "duration": 31,
    "start_time": "2022-12-10T11:02:34.025Z"
   },
   {
    "duration": 19,
    "start_time": "2022-12-10T11:02:34.058Z"
   },
   {
    "duration": 41,
    "start_time": "2022-12-10T11:02:34.080Z"
   },
   {
    "duration": 634,
    "start_time": "2022-12-10T11:02:34.123Z"
   },
   {
    "duration": 195,
    "start_time": "2022-12-10T11:02:34.759Z"
   },
   {
    "duration": 1076,
    "start_time": "2022-12-10T11:02:34.957Z"
   },
   {
    "duration": 59,
    "start_time": "2022-12-10T11:02:36.035Z"
   },
   {
    "duration": 56,
    "start_time": "2022-12-10T11:02:36.096Z"
   },
   {
    "duration": 17,
    "start_time": "2022-12-10T11:02:36.154Z"
   },
   {
    "duration": 40,
    "start_time": "2022-12-10T11:02:36.173Z"
   },
   {
    "duration": 14,
    "start_time": "2022-12-10T11:02:36.215Z"
   },
   {
    "duration": 5,
    "start_time": "2022-12-10T11:02:44.660Z"
   },
   {
    "duration": 10,
    "start_time": "2022-12-10T11:02:45.510Z"
   },
   {
    "duration": 9,
    "start_time": "2022-12-10T11:02:50.661Z"
   },
   {
    "duration": 5,
    "start_time": "2022-12-10T11:02:51.910Z"
   },
   {
    "duration": 117,
    "start_time": "2022-12-10T11:20:49.512Z"
   },
   {
    "duration": 6,
    "start_time": "2022-12-10T11:23:51.429Z"
   },
   {
    "duration": 6,
    "start_time": "2022-12-10T11:23:52.056Z"
   },
   {
    "duration": 10,
    "start_time": "2022-12-10T11:23:52.730Z"
   },
   {
    "duration": 8,
    "start_time": "2022-12-10T11:24:05.023Z"
   },
   {
    "duration": 9,
    "start_time": "2022-12-10T11:25:10.381Z"
   },
   {
    "duration": 1192,
    "start_time": "2022-12-10T11:25:22.060Z"
   },
   {
    "duration": 42,
    "start_time": "2022-12-10T11:25:23.254Z"
   },
   {
    "duration": 24,
    "start_time": "2022-12-10T11:25:23.298Z"
   },
   {
    "duration": 17,
    "start_time": "2022-12-10T11:25:23.324Z"
   },
   {
    "duration": 10,
    "start_time": "2022-12-10T11:25:23.344Z"
   },
   {
    "duration": 11,
    "start_time": "2022-12-10T11:25:23.356Z"
   },
   {
    "duration": 7,
    "start_time": "2022-12-10T11:25:23.369Z"
   },
   {
    "duration": 14,
    "start_time": "2022-12-10T11:25:23.378Z"
   },
   {
    "duration": 10,
    "start_time": "2022-12-10T11:25:23.394Z"
   },
   {
    "duration": 13,
    "start_time": "2022-12-10T11:25:23.406Z"
   },
   {
    "duration": 12,
    "start_time": "2022-12-10T11:25:23.420Z"
   },
   {
    "duration": 25,
    "start_time": "2022-12-10T11:25:23.433Z"
   },
   {
    "duration": 791,
    "start_time": "2022-12-10T11:25:23.460Z"
   },
   {
    "duration": 98,
    "start_time": "2022-12-10T11:25:24.255Z"
   },
   {
    "duration": 967,
    "start_time": "2022-12-10T11:25:24.356Z"
   },
   {
    "duration": 57,
    "start_time": "2022-12-10T11:25:25.325Z"
   },
   {
    "duration": 46,
    "start_time": "2022-12-10T11:25:25.384Z"
   },
   {
    "duration": 30,
    "start_time": "2022-12-10T11:25:25.432Z"
   },
   {
    "duration": 5,
    "start_time": "2022-12-10T11:25:25.463Z"
   },
   {
    "duration": 7,
    "start_time": "2022-12-10T11:25:25.469Z"
   },
   {
    "duration": 112,
    "start_time": "2022-12-10T11:25:26.997Z"
   },
   {
    "duration": 13,
    "start_time": "2022-12-10T11:25:37.120Z"
   },
   {
    "duration": 5,
    "start_time": "2022-12-10T11:27:04.036Z"
   },
   {
    "duration": 11,
    "start_time": "2022-12-10T11:27:05.003Z"
   },
   {
    "duration": 12,
    "start_time": "2022-12-10T11:29:57.600Z"
   },
   {
    "duration": 3,
    "start_time": "2022-12-10T11:30:05.737Z"
   },
   {
    "duration": 5,
    "start_time": "2022-12-10T11:30:06.500Z"
   },
   {
    "duration": 9,
    "start_time": "2022-12-10T11:30:10.551Z"
   },
   {
    "duration": 9,
    "start_time": "2022-12-10T11:30:17.060Z"
   },
   {
    "duration": 5,
    "start_time": "2022-12-10T11:34:46.503Z"
   },
   {
    "duration": 3,
    "start_time": "2022-12-10T11:34:47.054Z"
   },
   {
    "duration": 4,
    "start_time": "2022-12-10T11:34:47.485Z"
   },
   {
    "duration": 19,
    "start_time": "2022-12-10T11:34:48.077Z"
   },
   {
    "duration": 13,
    "start_time": "2022-12-10T11:34:48.723Z"
   },
   {
    "duration": 11,
    "start_time": "2022-12-10T11:36:21.249Z"
   },
   {
    "duration": 8,
    "start_time": "2022-12-10T11:36:32.600Z"
   },
   {
    "duration": 9,
    "start_time": "2022-12-10T11:36:45.139Z"
   },
   {
    "duration": 4,
    "start_time": "2022-12-10T11:37:10.510Z"
   },
   {
    "duration": 11,
    "start_time": "2022-12-10T11:37:11.106Z"
   },
   {
    "duration": 9,
    "start_time": "2022-12-10T11:38:22.217Z"
   },
   {
    "duration": 1158,
    "start_time": "2022-12-10T11:43:07.918Z"
   },
   {
    "duration": 41,
    "start_time": "2022-12-10T11:43:09.079Z"
   },
   {
    "duration": 24,
    "start_time": "2022-12-10T11:43:09.121Z"
   },
   {
    "duration": 20,
    "start_time": "2022-12-10T11:43:09.146Z"
   },
   {
    "duration": 5,
    "start_time": "2022-12-10T11:43:09.169Z"
   },
   {
    "duration": 7,
    "start_time": "2022-12-10T11:43:09.176Z"
   },
   {
    "duration": 9,
    "start_time": "2022-12-10T11:43:09.185Z"
   },
   {
    "duration": 13,
    "start_time": "2022-12-10T11:43:09.196Z"
   },
   {
    "duration": 7,
    "start_time": "2022-12-10T11:43:09.212Z"
   },
   {
    "duration": 34,
    "start_time": "2022-12-10T11:43:09.221Z"
   },
   {
    "duration": 5,
    "start_time": "2022-12-10T11:43:09.258Z"
   },
   {
    "duration": 15,
    "start_time": "2022-12-10T11:43:09.265Z"
   },
   {
    "duration": 969,
    "start_time": "2022-12-10T11:43:09.282Z"
   },
   {
    "duration": 949,
    "start_time": "2022-12-10T11:43:10.257Z"
   },
   {
    "duration": 64,
    "start_time": "2022-12-10T11:43:11.209Z"
   },
   {
    "duration": 4,
    "start_time": "2022-12-10T11:43:11.275Z"
   },
   {
    "duration": 6,
    "start_time": "2022-12-10T11:43:11.281Z"
   },
   {
    "duration": 6,
    "start_time": "2022-12-10T11:43:11.289Z"
   },
   {
    "duration": 22,
    "start_time": "2022-12-10T11:43:11.297Z"
   },
   {
    "duration": 31,
    "start_time": "2022-12-10T11:43:11.320Z"
   },
   {
    "duration": 8,
    "start_time": "2022-12-10T11:43:11.353Z"
   },
   {
    "duration": 11,
    "start_time": "2022-12-10T11:43:11.362Z"
   },
   {
    "duration": 11,
    "start_time": "2022-12-10T11:43:11.374Z"
   },
   {
    "duration": 471,
    "start_time": "2022-12-10T11:43:11.387Z"
   },
   {
    "duration": 1197,
    "start_time": "2022-12-10T11:43:11.860Z"
   },
   {
    "duration": 57,
    "start_time": "2022-12-10T11:43:13.059Z"
   },
   {
    "duration": 78185,
    "start_time": "2022-12-10T11:48:57.920Z"
   },
   {
    "duration": 1241,
    "start_time": "2022-12-10T11:51:36.664Z"
   },
   {
    "duration": 45,
    "start_time": "2022-12-10T11:51:37.907Z"
   },
   {
    "duration": 24,
    "start_time": "2022-12-10T11:51:37.953Z"
   },
   {
    "duration": 19,
    "start_time": "2022-12-10T11:51:37.979Z"
   },
   {
    "duration": 13,
    "start_time": "2022-12-10T11:51:38.000Z"
   },
   {
    "duration": 11,
    "start_time": "2022-12-10T11:51:38.015Z"
   },
   {
    "duration": 30,
    "start_time": "2022-12-10T11:51:38.028Z"
   },
   {
    "duration": 21,
    "start_time": "2022-12-10T11:51:38.060Z"
   },
   {
    "duration": 41,
    "start_time": "2022-12-10T11:51:38.082Z"
   },
   {
    "duration": 22,
    "start_time": "2022-12-10T11:51:38.126Z"
   },
   {
    "duration": 29,
    "start_time": "2022-12-10T11:51:38.150Z"
   },
   {
    "duration": 30,
    "start_time": "2022-12-10T11:51:38.181Z"
   },
   {
    "duration": 749,
    "start_time": "2022-12-10T11:51:38.213Z"
   },
   {
    "duration": 960,
    "start_time": "2022-12-10T11:51:39.052Z"
   },
   {
    "duration": 72,
    "start_time": "2022-12-10T11:51:40.014Z"
   },
   {
    "duration": 4,
    "start_time": "2022-12-10T11:51:40.088Z"
   },
   {
    "duration": 6,
    "start_time": "2022-12-10T11:51:40.094Z"
   },
   {
    "duration": 7,
    "start_time": "2022-12-10T11:51:40.103Z"
   },
   {
    "duration": 23,
    "start_time": "2022-12-10T11:51:40.112Z"
   },
   {
    "duration": 25,
    "start_time": "2022-12-10T11:51:40.137Z"
   },
   {
    "duration": 7,
    "start_time": "2022-12-10T11:51:40.164Z"
   },
   {
    "duration": 11,
    "start_time": "2022-12-10T11:51:40.173Z"
   },
   {
    "duration": 15,
    "start_time": "2022-12-10T11:51:40.186Z"
   },
   {
    "duration": 449,
    "start_time": "2022-12-10T11:51:40.203Z"
   },
   {
    "duration": 1214,
    "start_time": "2022-12-10T11:51:40.655Z"
   },
   {
    "duration": 59,
    "start_time": "2022-12-10T11:51:41.871Z"
   },
   {
    "duration": 78516,
    "start_time": "2022-12-10T11:51:45.643Z"
   },
   {
    "duration": 90885,
    "start_time": "2022-12-10T11:53:51.216Z"
   },
   {
    "duration": 1343,
    "start_time": "2022-12-10T11:56:27.038Z"
   },
   {
    "duration": 43,
    "start_time": "2022-12-10T11:56:28.384Z"
   },
   {
    "duration": 33,
    "start_time": "2022-12-10T11:56:28.429Z"
   },
   {
    "duration": 17,
    "start_time": "2022-12-10T11:56:28.463Z"
   },
   {
    "duration": 17,
    "start_time": "2022-12-10T11:56:28.482Z"
   },
   {
    "duration": 8,
    "start_time": "2022-12-10T11:56:28.500Z"
   },
   {
    "duration": 15,
    "start_time": "2022-12-10T11:56:28.510Z"
   },
   {
    "duration": 25,
    "start_time": "2022-12-10T11:56:28.527Z"
   },
   {
    "duration": 7,
    "start_time": "2022-12-10T11:56:28.555Z"
   },
   {
    "duration": 15,
    "start_time": "2022-12-10T11:56:28.564Z"
   },
   {
    "duration": 7,
    "start_time": "2022-12-10T11:56:28.581Z"
   },
   {
    "duration": 12,
    "start_time": "2022-12-10T11:56:28.590Z"
   },
   {
    "duration": 1555,
    "start_time": "2022-12-10T11:56:28.604Z"
   },
   {
    "duration": 1110,
    "start_time": "2022-12-10T11:56:30.165Z"
   },
   {
    "duration": 55,
    "start_time": "2022-12-10T11:56:31.278Z"
   },
   {
    "duration": 6,
    "start_time": "2022-12-10T11:56:31.351Z"
   },
   {
    "duration": 29,
    "start_time": "2022-12-10T11:56:31.360Z"
   },
   {
    "duration": 23,
    "start_time": "2022-12-10T11:56:31.391Z"
   },
   {
    "duration": 41,
    "start_time": "2022-12-10T11:56:31.415Z"
   },
   {
    "duration": 30,
    "start_time": "2022-12-10T11:56:31.458Z"
   },
   {
    "duration": 21,
    "start_time": "2022-12-10T11:56:31.490Z"
   },
   {
    "duration": 42,
    "start_time": "2022-12-10T11:56:31.512Z"
   },
   {
    "duration": 29,
    "start_time": "2022-12-10T11:56:31.556Z"
   },
   {
    "duration": 967,
    "start_time": "2022-12-10T11:56:31.587Z"
   },
   {
    "duration": 1263,
    "start_time": "2022-12-10T11:56:32.556Z"
   },
   {
    "duration": 74,
    "start_time": "2022-12-10T11:56:33.821Z"
   },
   {
    "duration": 81412,
    "start_time": "2022-12-10T11:56:33.897Z"
   },
   {
    "duration": 91579,
    "start_time": "2022-12-10T11:57:55.311Z"
   },
   {
    "duration": 1187,
    "start_time": "2022-12-10T12:01:35.704Z"
   },
   {
    "duration": 43,
    "start_time": "2022-12-10T12:01:36.893Z"
   },
   {
    "duration": 25,
    "start_time": "2022-12-10T12:01:36.938Z"
   },
   {
    "duration": 21,
    "start_time": "2022-12-10T12:01:36.965Z"
   },
   {
    "duration": 5,
    "start_time": "2022-12-10T12:01:36.989Z"
   },
   {
    "duration": 11,
    "start_time": "2022-12-10T12:01:36.996Z"
   },
   {
    "duration": 9,
    "start_time": "2022-12-10T12:01:37.009Z"
   },
   {
    "duration": 31,
    "start_time": "2022-12-10T12:01:37.020Z"
   },
   {
    "duration": 6,
    "start_time": "2022-12-10T12:01:37.053Z"
   },
   {
    "duration": 17,
    "start_time": "2022-12-10T12:01:37.061Z"
   },
   {
    "duration": 10,
    "start_time": "2022-12-10T12:01:37.080Z"
   },
   {
    "duration": 10,
    "start_time": "2022-12-10T12:01:37.092Z"
   },
   {
    "duration": 753,
    "start_time": "2022-12-10T12:01:37.104Z"
   },
   {
    "duration": 958,
    "start_time": "2022-12-10T12:01:37.860Z"
   },
   {
    "duration": 62,
    "start_time": "2022-12-10T12:01:38.820Z"
   },
   {
    "duration": 4,
    "start_time": "2022-12-10T12:01:38.884Z"
   },
   {
    "duration": 9,
    "start_time": "2022-12-10T12:01:38.890Z"
   },
   {
    "duration": 5,
    "start_time": "2022-12-10T12:01:38.901Z"
   },
   {
    "duration": 21,
    "start_time": "2022-12-10T12:01:38.908Z"
   },
   {
    "duration": 30,
    "start_time": "2022-12-10T12:01:38.931Z"
   },
   {
    "duration": 9,
    "start_time": "2022-12-10T12:01:38.963Z"
   },
   {
    "duration": 5,
    "start_time": "2022-12-10T12:01:38.973Z"
   },
   {
    "duration": 13,
    "start_time": "2022-12-10T12:01:38.980Z"
   },
   {
    "duration": 361,
    "start_time": "2022-12-10T12:01:38.995Z"
   },
   {
    "duration": 1560,
    "start_time": "2022-12-10T12:01:39.359Z"
   },
   {
    "duration": 80,
    "start_time": "2022-12-10T12:01:40.921Z"
   },
   {
    "duration": 77071,
    "start_time": "2022-12-10T12:01:41.003Z"
   },
   {
    "duration": 88572,
    "start_time": "2022-12-10T12:02:58.076Z"
   },
   {
    "duration": 141,
    "start_time": "2022-12-10T12:04:26.651Z"
   },
   {
    "duration": 90012,
    "start_time": "2022-12-10T12:05:06.422Z"
   },
   {
    "duration": 26,
    "start_time": "2022-12-10T12:08:56.312Z"
   },
   {
    "duration": 24,
    "start_time": "2022-12-10T12:09:32.890Z"
   },
   {
    "duration": 22,
    "start_time": "2022-12-10T12:10:32.756Z"
   },
   {
    "duration": 3,
    "start_time": "2022-12-10T12:11:15.402Z"
   },
   {
    "duration": 4,
    "start_time": "2022-12-10T12:11:23.141Z"
   },
   {
    "duration": 2,
    "start_time": "2022-12-10T12:12:23.288Z"
   },
   {
    "duration": 19,
    "start_time": "2022-12-10T12:12:25.050Z"
   },
   {
    "duration": 6,
    "start_time": "2022-12-10T12:12:39.455Z"
   },
   {
    "duration": 24,
    "start_time": "2022-12-10T12:13:26.991Z"
   },
   {
    "duration": 27,
    "start_time": "2022-12-10T12:13:32.287Z"
   },
   {
    "duration": 20,
    "start_time": "2022-12-10T12:17:30.447Z"
   },
   {
    "duration": 39,
    "start_time": "2022-12-10T12:18:10.853Z"
   },
   {
    "duration": 4,
    "start_time": "2022-12-10T12:18:59.952Z"
   },
   {
    "duration": 4,
    "start_time": "2022-12-10T12:19:00.409Z"
   },
   {
    "duration": 3,
    "start_time": "2022-12-10T12:19:14.146Z"
   },
   {
    "duration": 40,
    "start_time": "2022-12-10T12:19:22.970Z"
   },
   {
    "duration": 29,
    "start_time": "2022-12-10T12:19:51.791Z"
   },
   {
    "duration": 1691,
    "start_time": "2022-12-10T12:20:51.063Z"
   },
   {
    "duration": 41,
    "start_time": "2022-12-10T12:20:52.756Z"
   },
   {
    "duration": 23,
    "start_time": "2022-12-10T12:20:52.799Z"
   },
   {
    "duration": 16,
    "start_time": "2022-12-10T12:20:52.824Z"
   },
   {
    "duration": 5,
    "start_time": "2022-12-10T12:20:52.841Z"
   },
   {
    "duration": 11,
    "start_time": "2022-12-10T12:20:52.850Z"
   },
   {
    "duration": 6,
    "start_time": "2022-12-10T12:20:52.863Z"
   },
   {
    "duration": 10,
    "start_time": "2022-12-10T12:20:52.870Z"
   },
   {
    "duration": 7,
    "start_time": "2022-12-10T12:20:52.882Z"
   },
   {
    "duration": 10,
    "start_time": "2022-12-10T12:20:52.892Z"
   },
   {
    "duration": 6,
    "start_time": "2022-12-10T12:20:52.904Z"
   },
   {
    "duration": 10,
    "start_time": "2022-12-10T12:20:52.911Z"
   },
   {
    "duration": 929,
    "start_time": "2022-12-10T12:20:52.923Z"
   },
   {
    "duration": 968,
    "start_time": "2022-12-10T12:20:53.854Z"
   },
   {
    "duration": 60,
    "start_time": "2022-12-10T12:20:54.824Z"
   },
   {
    "duration": 4,
    "start_time": "2022-12-10T12:20:54.886Z"
   },
   {
    "duration": 10,
    "start_time": "2022-12-10T12:20:54.891Z"
   },
   {
    "duration": 6,
    "start_time": "2022-12-10T12:20:54.903Z"
   },
   {
    "duration": 22,
    "start_time": "2022-12-10T12:20:54.910Z"
   },
   {
    "duration": 23,
    "start_time": "2022-12-10T12:20:54.934Z"
   },
   {
    "duration": 8,
    "start_time": "2022-12-10T12:20:54.959Z"
   },
   {
    "duration": 4,
    "start_time": "2022-12-10T12:20:54.968Z"
   },
   {
    "duration": 11,
    "start_time": "2022-12-10T12:20:54.974Z"
   },
   {
    "duration": 368,
    "start_time": "2022-12-10T12:20:54.987Z"
   },
   {
    "duration": 1463,
    "start_time": "2022-12-10T12:20:55.358Z"
   },
   {
    "duration": 71,
    "start_time": "2022-12-10T12:20:56.824Z"
   },
   {
    "duration": 77022,
    "start_time": "2022-12-10T12:20:56.896Z"
   },
   {
    "duration": 34,
    "start_time": "2022-12-10T12:22:13.921Z"
   },
   {
    "duration": 88385,
    "start_time": "2022-12-10T12:22:13.957Z"
   },
   {
    "duration": 26,
    "start_time": "2022-12-10T12:23:42.344Z"
   },
   {
    "duration": 44,
    "start_time": "2022-12-10T12:23:42.372Z"
   },
   {
    "duration": 73,
    "start_time": "2022-12-10T12:23:42.417Z"
   },
   {
    "duration": 1169,
    "start_time": "2022-12-10T12:33:40.778Z"
   },
   {
    "duration": 44,
    "start_time": "2022-12-10T12:33:41.949Z"
   },
   {
    "duration": 28,
    "start_time": "2022-12-10T12:33:41.995Z"
   },
   {
    "duration": 16,
    "start_time": "2022-12-10T12:33:42.026Z"
   },
   {
    "duration": 10,
    "start_time": "2022-12-10T12:33:42.044Z"
   },
   {
    "duration": 8,
    "start_time": "2022-12-10T12:33:42.056Z"
   },
   {
    "duration": 13,
    "start_time": "2022-12-10T12:33:42.066Z"
   },
   {
    "duration": 12,
    "start_time": "2022-12-10T12:33:42.081Z"
   },
   {
    "duration": 7,
    "start_time": "2022-12-10T12:33:42.096Z"
   },
   {
    "duration": 11,
    "start_time": "2022-12-10T12:33:42.106Z"
   },
   {
    "duration": 7,
    "start_time": "2022-12-10T12:33:42.119Z"
   },
   {
    "duration": 23,
    "start_time": "2022-12-10T12:33:42.128Z"
   },
   {
    "duration": 1409,
    "start_time": "2022-12-10T12:33:42.153Z"
   },
   {
    "duration": 981,
    "start_time": "2022-12-10T12:33:43.565Z"
   },
   {
    "duration": 53,
    "start_time": "2022-12-10T12:33:44.550Z"
   },
   {
    "duration": 4,
    "start_time": "2022-12-10T12:33:44.605Z"
   },
   {
    "duration": 6,
    "start_time": "2022-12-10T12:33:44.611Z"
   },
   {
    "duration": 7,
    "start_time": "2022-12-10T12:33:44.618Z"
   },
   {
    "duration": 39,
    "start_time": "2022-12-10T12:33:44.626Z"
   },
   {
    "duration": 10,
    "start_time": "2022-12-10T12:33:44.667Z"
   },
   {
    "duration": 8,
    "start_time": "2022-12-10T12:33:44.679Z"
   },
   {
    "duration": 5,
    "start_time": "2022-12-10T12:33:44.688Z"
   },
   {
    "duration": 12,
    "start_time": "2022-12-10T12:33:44.694Z"
   },
   {
    "duration": 452,
    "start_time": "2022-12-10T12:33:44.707Z"
   },
   {
    "duration": 1115,
    "start_time": "2022-12-10T12:33:45.251Z"
   },
   {
    "duration": 57,
    "start_time": "2022-12-10T12:33:46.368Z"
   },
   {
    "duration": 76999,
    "start_time": "2022-12-10T12:33:46.426Z"
   },
   {
    "duration": 38,
    "start_time": "2022-12-10T12:35:03.428Z"
   },
   {
    "duration": 90106,
    "start_time": "2022-12-10T12:35:03.469Z"
   },
   {
    "duration": 26,
    "start_time": "2022-12-10T12:36:33.577Z"
   },
   {
    "duration": 67,
    "start_time": "2022-12-10T12:36:33.605Z"
   },
   {
    "duration": 56,
    "start_time": "2022-12-10T12:36:33.674Z"
   },
   {
    "duration": 11,
    "start_time": "2022-12-10T12:41:32.944Z"
   },
   {
    "duration": 11,
    "start_time": "2022-12-10T12:42:16.633Z"
   },
   {
    "duration": 14,
    "start_time": "2022-12-10T12:42:17.584Z"
   },
   {
    "duration": 3,
    "start_time": "2022-12-10T12:42:52.666Z"
   },
   {
    "duration": 5,
    "start_time": "2022-12-10T12:43:29.368Z"
   },
   {
    "duration": 3,
    "start_time": "2022-12-10T12:43:29.787Z"
   },
   {
    "duration": 6,
    "start_time": "2022-12-10T12:43:29.997Z"
   },
   {
    "duration": 22,
    "start_time": "2022-12-10T12:43:30.667Z"
   },
   {
    "duration": 10,
    "start_time": "2022-12-10T12:43:31.101Z"
   },
   {
    "duration": 3,
    "start_time": "2022-12-10T12:43:31.584Z"
   },
   {
    "duration": 15,
    "start_time": "2022-12-10T12:43:39.782Z"
   },
   {
    "duration": 1214,
    "start_time": "2022-12-10T12:43:59.310Z"
   },
   {
    "duration": 44,
    "start_time": "2022-12-10T12:44:00.527Z"
   },
   {
    "duration": 27,
    "start_time": "2022-12-10T12:44:00.572Z"
   },
   {
    "duration": 44,
    "start_time": "2022-12-10T12:44:00.600Z"
   },
   {
    "duration": 16,
    "start_time": "2022-12-10T12:44:00.646Z"
   },
   {
    "duration": 25,
    "start_time": "2022-12-10T12:44:00.663Z"
   },
   {
    "duration": 19,
    "start_time": "2022-12-10T12:44:00.690Z"
   },
   {
    "duration": 10,
    "start_time": "2022-12-10T12:44:00.711Z"
   },
   {
    "duration": 16,
    "start_time": "2022-12-10T12:44:00.722Z"
   },
   {
    "duration": 25,
    "start_time": "2022-12-10T12:44:00.740Z"
   },
   {
    "duration": 14,
    "start_time": "2022-12-10T12:44:00.767Z"
   },
   {
    "duration": 22,
    "start_time": "2022-12-10T12:44:00.783Z"
   },
   {
    "duration": 755,
    "start_time": "2022-12-10T12:44:00.806Z"
   },
   {
    "duration": 899,
    "start_time": "2022-12-10T12:44:01.653Z"
   },
   {
    "duration": 55,
    "start_time": "2022-12-10T12:44:02.554Z"
   },
   {
    "duration": 4,
    "start_time": "2022-12-10T12:44:02.611Z"
   },
   {
    "duration": 9,
    "start_time": "2022-12-10T12:44:02.617Z"
   },
   {
    "duration": 26,
    "start_time": "2022-12-10T12:44:02.628Z"
   },
   {
    "duration": 25,
    "start_time": "2022-12-10T12:44:02.656Z"
   },
   {
    "duration": 12,
    "start_time": "2022-12-10T12:44:02.683Z"
   },
   {
    "duration": 9,
    "start_time": "2022-12-10T12:44:02.697Z"
   },
   {
    "duration": 11,
    "start_time": "2022-12-10T12:44:02.708Z"
   },
   {
    "duration": 32,
    "start_time": "2022-12-10T12:44:02.721Z"
   },
   {
    "duration": 896,
    "start_time": "2022-12-10T12:44:02.755Z"
   },
   {
    "duration": 1038,
    "start_time": "2022-12-10T12:44:03.653Z"
   },
   {
    "duration": 72,
    "start_time": "2022-12-10T12:44:04.693Z"
   },
   {
    "duration": 73668,
    "start_time": "2022-12-10T12:44:04.767Z"
   },
   {
    "duration": 31,
    "start_time": "2022-12-10T12:45:18.437Z"
   },
   {
    "duration": 55,
    "start_time": "2022-12-10T12:45:47.266Z"
   },
   {
    "duration": 8,
    "start_time": "2022-12-10T12:45:53.529Z"
   },
   {
    "duration": 1279,
    "start_time": "2022-12-10T12:46:02.432Z"
   },
   {
    "duration": 53,
    "start_time": "2022-12-10T12:46:03.713Z"
   },
   {
    "duration": 32,
    "start_time": "2022-12-10T12:46:03.768Z"
   },
   {
    "duration": 21,
    "start_time": "2022-12-10T12:46:03.802Z"
   },
   {
    "duration": 6,
    "start_time": "2022-12-10T12:46:03.826Z"
   },
   {
    "duration": 31,
    "start_time": "2022-12-10T12:46:03.835Z"
   },
   {
    "duration": 13,
    "start_time": "2022-12-10T12:46:03.868Z"
   },
   {
    "duration": 10,
    "start_time": "2022-12-10T12:46:03.884Z"
   },
   {
    "duration": 8,
    "start_time": "2022-12-10T12:46:03.896Z"
   },
   {
    "duration": 13,
    "start_time": "2022-12-10T12:46:03.906Z"
   },
   {
    "duration": 7,
    "start_time": "2022-12-10T12:46:03.922Z"
   },
   {
    "duration": 31,
    "start_time": "2022-12-10T12:46:03.930Z"
   },
   {
    "duration": 3123,
    "start_time": "2022-12-10T12:46:03.964Z"
   },
   {
    "duration": 993,
    "start_time": "2022-12-10T12:46:07.160Z"
   },
   {
    "duration": 65,
    "start_time": "2022-12-10T12:46:08.155Z"
   },
   {
    "duration": 6,
    "start_time": "2022-12-10T12:46:08.223Z"
   },
   {
    "duration": 39,
    "start_time": "2022-12-10T12:46:08.232Z"
   },
   {
    "duration": 16,
    "start_time": "2022-12-10T12:46:08.274Z"
   },
   {
    "duration": 27,
    "start_time": "2022-12-10T12:46:08.292Z"
   },
   {
    "duration": 11,
    "start_time": "2022-12-10T12:46:08.321Z"
   },
   {
    "duration": 11,
    "start_time": "2022-12-10T12:46:11.121Z"
   },
   {
    "duration": 14,
    "start_time": "2022-12-10T12:46:11.609Z"
   },
   {
    "duration": 1354,
    "start_time": "2022-12-10T12:46:47.492Z"
   },
   {
    "duration": 71,
    "start_time": "2022-12-10T12:46:48.848Z"
   },
   {
    "duration": 25,
    "start_time": "2022-12-10T12:46:48.921Z"
   },
   {
    "duration": 31,
    "start_time": "2022-12-10T12:46:48.948Z"
   },
   {
    "duration": 16,
    "start_time": "2022-12-10T12:46:48.989Z"
   },
   {
    "duration": 8,
    "start_time": "2022-12-10T12:46:49.007Z"
   },
   {
    "duration": 9,
    "start_time": "2022-12-10T12:46:49.018Z"
   },
   {
    "duration": 13,
    "start_time": "2022-12-10T12:46:49.029Z"
   },
   {
    "duration": 9,
    "start_time": "2022-12-10T12:46:49.045Z"
   },
   {
    "duration": 27,
    "start_time": "2022-12-10T12:46:49.056Z"
   },
   {
    "duration": 10,
    "start_time": "2022-12-10T12:46:49.086Z"
   },
   {
    "duration": 18,
    "start_time": "2022-12-10T12:46:49.098Z"
   },
   {
    "duration": 2034,
    "start_time": "2022-12-10T12:46:49.118Z"
   },
   {
    "duration": 1039,
    "start_time": "2022-12-10T12:46:51.159Z"
   },
   {
    "duration": 77,
    "start_time": "2022-12-10T12:46:52.201Z"
   },
   {
    "duration": 6,
    "start_time": "2022-12-10T12:46:52.280Z"
   },
   {
    "duration": 8,
    "start_time": "2022-12-10T12:46:52.288Z"
   },
   {
    "duration": 12,
    "start_time": "2022-12-10T12:46:52.298Z"
   },
   {
    "duration": 50,
    "start_time": "2022-12-10T12:46:52.312Z"
   },
   {
    "duration": 13,
    "start_time": "2022-12-10T12:46:52.371Z"
   },
   {
    "duration": 10,
    "start_time": "2022-12-10T12:46:52.386Z"
   },
   {
    "duration": 6,
    "start_time": "2022-12-10T12:46:52.398Z"
   },
   {
    "duration": 19,
    "start_time": "2022-12-10T12:46:52.406Z"
   },
   {
    "duration": 1225,
    "start_time": "2022-12-10T12:46:52.428Z"
   },
   {
    "duration": 1201,
    "start_time": "2022-12-10T12:46:53.655Z"
   },
   {
    "duration": 76,
    "start_time": "2022-12-10T12:46:54.866Z"
   },
   {
    "duration": 76072,
    "start_time": "2022-12-10T12:46:54.944Z"
   },
   {
    "duration": 18,
    "start_time": "2022-12-10T12:48:11.018Z"
   },
   {
    "duration": 86243,
    "start_time": "2022-12-10T12:48:11.053Z"
   },
   {
    "duration": 22,
    "start_time": "2022-12-10T12:49:37.298Z"
   },
   {
    "duration": 62,
    "start_time": "2022-12-10T12:49:37.322Z"
   },
   {
    "duration": 36,
    "start_time": "2022-12-10T12:49:37.385Z"
   },
   {
    "duration": 29,
    "start_time": "2022-12-10T12:52:29.598Z"
   },
   {
    "duration": 387,
    "start_time": "2022-12-10T13:01:07.654Z"
   },
   {
    "duration": 139,
    "start_time": "2022-12-10T13:01:42.583Z"
   },
   {
    "duration": 142,
    "start_time": "2022-12-10T13:01:55.848Z"
   },
   {
    "duration": 134,
    "start_time": "2022-12-10T13:02:12.538Z"
   },
   {
    "duration": 23,
    "start_time": "2022-12-10T13:02:19.699Z"
   },
   {
    "duration": 189,
    "start_time": "2022-12-10T13:02:49.156Z"
   },
   {
    "duration": 92,
    "start_time": "2022-12-10T13:04:58.834Z"
   },
   {
    "duration": 53,
    "start_time": "2022-12-11T06:55:18.921Z"
   },
   {
    "duration": 1735,
    "start_time": "2022-12-11T06:55:23.546Z"
   },
   {
    "duration": 373,
    "start_time": "2022-12-11T06:55:25.283Z"
   },
   {
    "duration": 26,
    "start_time": "2022-12-11T06:55:25.658Z"
   },
   {
    "duration": 18,
    "start_time": "2022-12-11T06:55:25.686Z"
   },
   {
    "duration": 6,
    "start_time": "2022-12-11T06:55:29.580Z"
   },
   {
    "duration": 13,
    "start_time": "2022-12-11T06:55:57.374Z"
   },
   {
    "duration": 1513,
    "start_time": "2022-12-11T07:55:26.598Z"
   },
   {
    "duration": 103,
    "start_time": "2022-12-11T07:55:28.113Z"
   },
   {
    "duration": 21,
    "start_time": "2022-12-11T07:55:28.218Z"
   },
   {
    "duration": 21,
    "start_time": "2022-12-11T07:55:28.241Z"
   },
   {
    "duration": 5,
    "start_time": "2022-12-11T07:55:28.267Z"
   },
   {
    "duration": 7,
    "start_time": "2022-12-11T07:55:28.274Z"
   },
   {
    "duration": 7,
    "start_time": "2022-12-11T07:55:28.283Z"
   },
   {
    "duration": 6,
    "start_time": "2022-12-11T07:55:28.292Z"
   },
   {
    "duration": 10,
    "start_time": "2022-12-11T07:55:28.300Z"
   },
   {
    "duration": 9,
    "start_time": "2022-12-11T07:55:28.313Z"
   },
   {
    "duration": 42,
    "start_time": "2022-12-11T07:55:28.325Z"
   },
   {
    "duration": 9,
    "start_time": "2022-12-11T07:55:28.369Z"
   },
   {
    "duration": 1990,
    "start_time": "2022-12-11T07:55:28.381Z"
   },
   {
    "duration": 1082,
    "start_time": "2022-12-11T07:55:30.380Z"
   },
   {
    "duration": 61,
    "start_time": "2022-12-11T07:55:31.464Z"
   },
   {
    "duration": 4,
    "start_time": "2022-12-11T07:55:31.527Z"
   },
   {
    "duration": 20,
    "start_time": "2022-12-11T07:55:31.533Z"
   },
   {
    "duration": 29,
    "start_time": "2022-12-11T07:55:31.556Z"
   },
   {
    "duration": 24,
    "start_time": "2022-12-11T07:55:31.587Z"
   },
   {
    "duration": 12,
    "start_time": "2022-12-11T07:55:31.613Z"
   },
   {
    "duration": 12,
    "start_time": "2022-12-11T07:55:31.627Z"
   },
   {
    "duration": 5,
    "start_time": "2022-12-11T07:55:31.641Z"
   },
   {
    "duration": 18,
    "start_time": "2022-12-11T07:55:31.650Z"
   },
   {
    "duration": 685,
    "start_time": "2022-12-11T07:55:31.671Z"
   },
   {
    "duration": 1232,
    "start_time": "2022-12-11T07:55:32.359Z"
   },
   {
    "duration": 71,
    "start_time": "2022-12-11T07:55:33.592Z"
   },
   {
    "duration": 78761,
    "start_time": "2022-12-11T07:55:33.665Z"
   },
   {
    "duration": 37,
    "start_time": "2022-12-11T07:56:52.430Z"
   },
   {
    "duration": 96015,
    "start_time": "2022-12-11T07:56:52.471Z"
   },
   {
    "duration": 23,
    "start_time": "2022-12-11T07:58:28.488Z"
   },
   {
    "duration": 74,
    "start_time": "2022-12-11T07:58:28.514Z"
   },
   {
    "duration": 22,
    "start_time": "2022-12-11T07:58:28.590Z"
   },
   {
    "duration": 231,
    "start_time": "2022-12-11T07:58:28.614Z"
   },
   {
    "duration": 58,
    "start_time": "2022-12-11T08:00:10.652Z"
   },
   {
    "duration": 38,
    "start_time": "2022-12-11T08:00:22.406Z"
   },
   {
    "duration": 6,
    "start_time": "2022-12-11T08:06:22.793Z"
   },
   {
    "duration": 6,
    "start_time": "2022-12-11T08:08:09.361Z"
   },
   {
    "duration": 157,
    "start_time": "2022-12-11T08:08:10.175Z"
   },
   {
    "duration": 28,
    "start_time": "2022-12-11T08:08:35.175Z"
   },
   {
    "duration": 6,
    "start_time": "2022-12-11T08:09:45.878Z"
   },
   {
    "duration": 9,
    "start_time": "2022-12-11T08:09:46.575Z"
   },
   {
    "duration": 4,
    "start_time": "2022-12-11T08:16:11.844Z"
   },
   {
    "duration": 6,
    "start_time": "2022-12-11T08:16:40.882Z"
   },
   {
    "duration": 3,
    "start_time": "2022-12-11T08:16:41.316Z"
   },
   {
    "duration": 1521,
    "start_time": "2022-12-11T09:14:02.456Z"
   },
   {
    "duration": 45,
    "start_time": "2022-12-11T09:14:03.979Z"
   },
   {
    "duration": 20,
    "start_time": "2022-12-11T09:14:04.027Z"
   },
   {
    "duration": 24,
    "start_time": "2022-12-11T09:14:04.049Z"
   },
   {
    "duration": 5,
    "start_time": "2022-12-11T09:14:04.077Z"
   },
   {
    "duration": 15,
    "start_time": "2022-12-11T09:14:04.085Z"
   },
   {
    "duration": 10,
    "start_time": "2022-12-11T09:14:04.102Z"
   },
   {
    "duration": 7,
    "start_time": "2022-12-11T09:14:04.113Z"
   },
   {
    "duration": 9,
    "start_time": "2022-12-11T09:14:04.122Z"
   },
   {
    "duration": 25,
    "start_time": "2022-12-11T09:14:04.133Z"
   },
   {
    "duration": 7,
    "start_time": "2022-12-11T09:14:04.160Z"
   },
   {
    "duration": 12,
    "start_time": "2022-12-11T09:14:04.169Z"
   },
   {
    "duration": 869,
    "start_time": "2022-12-11T09:14:04.183Z"
   },
   {
    "duration": 1043,
    "start_time": "2022-12-11T09:14:05.056Z"
   },
   {
    "duration": 64,
    "start_time": "2022-12-11T09:14:06.102Z"
   },
   {
    "duration": 5,
    "start_time": "2022-12-11T09:14:06.169Z"
   },
   {
    "duration": 7,
    "start_time": "2022-12-11T09:14:06.177Z"
   },
   {
    "duration": 9,
    "start_time": "2022-12-11T09:14:06.186Z"
   },
   {
    "duration": 22,
    "start_time": "2022-12-11T09:14:06.196Z"
   },
   {
    "duration": 34,
    "start_time": "2022-12-11T09:14:06.220Z"
   },
   {
    "duration": 9,
    "start_time": "2022-12-11T09:14:06.256Z"
   },
   {
    "duration": 4,
    "start_time": "2022-12-11T09:14:06.267Z"
   },
   {
    "duration": 14,
    "start_time": "2022-12-11T09:14:06.273Z"
   },
   {
    "duration": 463,
    "start_time": "2022-12-11T09:14:06.289Z"
   },
   {
    "duration": 1111,
    "start_time": "2022-12-11T09:14:06.754Z"
   },
   {
    "duration": 56,
    "start_time": "2022-12-11T09:14:07.867Z"
   },
   {
    "duration": 72232,
    "start_time": "2022-12-11T09:14:07.925Z"
   },
   {
    "duration": 29,
    "start_time": "2022-12-11T09:15:20.160Z"
   },
   {
    "duration": 82925,
    "start_time": "2022-12-11T09:15:20.191Z"
   },
   {
    "duration": 38,
    "start_time": "2022-12-11T09:16:43.118Z"
   },
   {
    "duration": 39,
    "start_time": "2022-12-11T09:16:43.158Z"
   },
   {
    "duration": 23,
    "start_time": "2022-12-11T09:16:43.199Z"
   },
   {
    "duration": 208,
    "start_time": "2022-12-11T09:16:43.223Z"
   },
   {
    "duration": 4,
    "start_time": "2022-12-11T09:16:43.433Z"
   },
   {
    "duration": 15,
    "start_time": "2022-12-11T09:16:43.450Z"
   },
   {
    "duration": 1571,
    "start_time": "2022-12-12T11:09:48.095Z"
   },
   {
    "duration": 371,
    "start_time": "2022-12-12T11:09:49.668Z"
   },
   {
    "duration": 20,
    "start_time": "2022-12-12T11:09:50.041Z"
   },
   {
    "duration": 15,
    "start_time": "2022-12-12T11:09:50.063Z"
   },
   {
    "duration": 5,
    "start_time": "2022-12-12T11:09:51.018Z"
   },
   {
    "duration": 5,
    "start_time": "2022-12-12T11:09:52.434Z"
   },
   {
    "duration": 5,
    "start_time": "2022-12-12T11:09:54.147Z"
   },
   {
    "duration": 5,
    "start_time": "2022-12-12T11:09:54.956Z"
   },
   {
    "duration": 116,
    "start_time": "2022-12-12T11:09:57.294Z"
   },
   {
    "duration": 10,
    "start_time": "2022-12-12T11:10:04.582Z"
   },
   {
    "duration": 3,
    "start_time": "2022-12-12T11:10:07.097Z"
   },
   {
    "duration": 7,
    "start_time": "2022-12-12T11:10:07.701Z"
   },
   {
    "duration": 24,
    "start_time": "2022-12-12T11:10:09.866Z"
   },
   {
    "duration": 6,
    "start_time": "2022-12-12T11:10:41.900Z"
   },
   {
    "duration": 25,
    "start_time": "2022-12-12T11:10:42.581Z"
   },
   {
    "duration": 1460,
    "start_time": "2022-12-12T11:21:28.816Z"
   },
   {
    "duration": 42,
    "start_time": "2022-12-12T11:21:30.278Z"
   },
   {
    "duration": 19,
    "start_time": "2022-12-12T11:21:30.322Z"
   },
   {
    "duration": 38,
    "start_time": "2022-12-12T11:21:30.342Z"
   },
   {
    "duration": 25,
    "start_time": "2022-12-12T11:21:30.382Z"
   },
   {
    "duration": 22,
    "start_time": "2022-12-12T11:21:30.409Z"
   },
   {
    "duration": 23,
    "start_time": "2022-12-12T11:21:30.432Z"
   },
   {
    "duration": 20,
    "start_time": "2022-12-12T11:21:30.457Z"
   },
   {
    "duration": 18,
    "start_time": "2022-12-12T11:21:30.478Z"
   },
   {
    "duration": 9,
    "start_time": "2022-12-12T11:21:33.684Z"
   },
   {
    "duration": 8,
    "start_time": "2022-12-12T11:21:35.101Z"
   },
   {
    "duration": 7,
    "start_time": "2022-12-12T11:21:35.849Z"
   },
   {
    "duration": 9,
    "start_time": "2022-12-12T11:21:36.753Z"
   },
   {
    "duration": 108,
    "start_time": "2022-12-12T11:23:29.851Z"
   },
   {
    "duration": 3,
    "start_time": "2022-12-12T11:23:36.683Z"
   },
   {
    "duration": 9,
    "start_time": "2022-12-12T11:23:37.174Z"
   },
   {
    "duration": 26,
    "start_time": "2022-12-12T11:23:38.035Z"
   },
   {
    "duration": 15,
    "start_time": "2022-12-12T11:26:23.822Z"
   },
   {
    "duration": 1364,
    "start_time": "2022-12-12T11:28:14.083Z"
   },
   {
    "duration": 42,
    "start_time": "2022-12-12T11:28:15.450Z"
   },
   {
    "duration": 20,
    "start_time": "2022-12-12T11:28:15.493Z"
   },
   {
    "duration": 15,
    "start_time": "2022-12-12T11:28:15.515Z"
   },
   {
    "duration": 8,
    "start_time": "2022-12-12T11:28:15.532Z"
   },
   {
    "duration": 12,
    "start_time": "2022-12-12T11:28:15.542Z"
   },
   {
    "duration": 6,
    "start_time": "2022-12-12T11:28:15.556Z"
   },
   {
    "duration": 11,
    "start_time": "2022-12-12T11:28:15.564Z"
   },
   {
    "duration": 9,
    "start_time": "2022-12-12T11:28:15.576Z"
   },
   {
    "duration": 3,
    "start_time": "2022-12-12T11:28:16.870Z"
   },
   {
    "duration": 6,
    "start_time": "2022-12-12T11:28:17.673Z"
   },
   {
    "duration": 6,
    "start_time": "2022-12-12T11:28:18.592Z"
   },
   {
    "duration": 15,
    "start_time": "2022-12-12T11:28:20.516Z"
   },
   {
    "duration": 117,
    "start_time": "2022-12-12T11:28:24.768Z"
   },
   {
    "duration": 4,
    "start_time": "2022-12-12T11:29:21.367Z"
   },
   {
    "duration": 16,
    "start_time": "2022-12-12T11:29:27.582Z"
   },
   {
    "duration": 13,
    "start_time": "2022-12-12T11:29:39.666Z"
   },
   {
    "duration": 10,
    "start_time": "2022-12-12T11:29:55.415Z"
   },
   {
    "duration": 17,
    "start_time": "2022-12-12T11:30:35.898Z"
   },
   {
    "duration": 19,
    "start_time": "2022-12-12T11:37:45.915Z"
   },
   {
    "duration": 1477,
    "start_time": "2022-12-12T11:38:08.804Z"
   },
   {
    "duration": 44,
    "start_time": "2022-12-12T11:38:10.283Z"
   },
   {
    "duration": 20,
    "start_time": "2022-12-12T11:38:10.329Z"
   },
   {
    "duration": 14,
    "start_time": "2022-12-12T11:38:10.351Z"
   },
   {
    "duration": 4,
    "start_time": "2022-12-12T11:38:10.367Z"
   },
   {
    "duration": 8,
    "start_time": "2022-12-12T11:38:10.373Z"
   },
   {
    "duration": 5,
    "start_time": "2022-12-12T11:38:10.382Z"
   },
   {
    "duration": 9,
    "start_time": "2022-12-12T11:38:10.389Z"
   },
   {
    "duration": 16,
    "start_time": "2022-12-12T11:38:10.400Z"
   },
   {
    "duration": 3,
    "start_time": "2022-12-12T11:38:13.378Z"
   },
   {
    "duration": 6,
    "start_time": "2022-12-12T11:38:15.966Z"
   },
   {
    "duration": 7,
    "start_time": "2022-12-12T11:38:17.110Z"
   },
   {
    "duration": 9,
    "start_time": "2022-12-12T11:38:18.098Z"
   },
   {
    "duration": 119,
    "start_time": "2022-12-12T11:38:30.744Z"
   },
   {
    "duration": 14,
    "start_time": "2022-12-12T11:38:35.012Z"
   },
   {
    "duration": 1358,
    "start_time": "2022-12-12T11:39:04.989Z"
   },
   {
    "duration": 44,
    "start_time": "2022-12-12T11:39:06.350Z"
   },
   {
    "duration": 21,
    "start_time": "2022-12-12T11:39:06.395Z"
   },
   {
    "duration": 18,
    "start_time": "2022-12-12T11:39:06.418Z"
   },
   {
    "duration": 9,
    "start_time": "2022-12-12T11:39:06.438Z"
   },
   {
    "duration": 8,
    "start_time": "2022-12-12T11:39:06.449Z"
   },
   {
    "duration": 12,
    "start_time": "2022-12-12T11:39:06.458Z"
   },
   {
    "duration": 10,
    "start_time": "2022-12-12T11:39:06.472Z"
   },
   {
    "duration": 13,
    "start_time": "2022-12-12T11:39:06.483Z"
   },
   {
    "duration": 5,
    "start_time": "2022-12-12T11:39:06.498Z"
   },
   {
    "duration": 15,
    "start_time": "2022-12-12T11:39:06.505Z"
   },
   {
    "duration": 6,
    "start_time": "2022-12-12T11:39:07.664Z"
   },
   {
    "duration": 11,
    "start_time": "2022-12-12T11:39:08.344Z"
   },
   {
    "duration": 3,
    "start_time": "2022-12-12T11:39:16.714Z"
   },
   {
    "duration": 3,
    "start_time": "2022-12-12T11:39:26.463Z"
   },
   {
    "duration": 1340,
    "start_time": "2022-12-12T11:39:42.459Z"
   },
   {
    "duration": 47,
    "start_time": "2022-12-12T11:39:43.802Z"
   },
   {
    "duration": 20,
    "start_time": "2022-12-12T11:39:43.851Z"
   },
   {
    "duration": 19,
    "start_time": "2022-12-12T11:39:43.873Z"
   },
   {
    "duration": 4,
    "start_time": "2022-12-12T11:39:43.894Z"
   },
   {
    "duration": 19,
    "start_time": "2022-12-12T11:39:43.899Z"
   },
   {
    "duration": 18,
    "start_time": "2022-12-12T11:39:43.920Z"
   },
   {
    "duration": 7,
    "start_time": "2022-12-12T11:39:43.940Z"
   },
   {
    "duration": 12,
    "start_time": "2022-12-12T11:39:43.949Z"
   },
   {
    "duration": 15,
    "start_time": "2022-12-12T11:39:43.962Z"
   },
   {
    "duration": 9,
    "start_time": "2022-12-12T11:39:43.979Z"
   },
   {
    "duration": 11,
    "start_time": "2022-12-12T11:39:43.990Z"
   },
   {
    "duration": 6,
    "start_time": "2022-12-12T11:39:44.830Z"
   },
   {
    "duration": 11,
    "start_time": "2022-12-12T11:39:45.514Z"
   },
   {
    "duration": 4,
    "start_time": "2022-12-12T11:39:59.238Z"
   },
   {
    "duration": 1437,
    "start_time": "2022-12-12T11:40:24.500Z"
   },
   {
    "duration": 42,
    "start_time": "2022-12-12T11:40:25.939Z"
   },
   {
    "duration": 20,
    "start_time": "2022-12-12T11:40:25.983Z"
   },
   {
    "duration": 28,
    "start_time": "2022-12-12T11:40:26.005Z"
   },
   {
    "duration": 5,
    "start_time": "2022-12-12T11:40:26.035Z"
   },
   {
    "duration": 15,
    "start_time": "2022-12-12T11:40:26.042Z"
   },
   {
    "duration": 5,
    "start_time": "2022-12-12T11:40:26.059Z"
   },
   {
    "duration": 11,
    "start_time": "2022-12-12T11:40:26.066Z"
   },
   {
    "duration": 11,
    "start_time": "2022-12-12T11:40:26.079Z"
   },
   {
    "duration": 4,
    "start_time": "2022-12-12T11:40:26.092Z"
   },
   {
    "duration": 15,
    "start_time": "2022-12-12T11:40:26.098Z"
   },
   {
    "duration": 15,
    "start_time": "2022-12-12T11:40:26.115Z"
   },
   {
    "duration": 10,
    "start_time": "2022-12-12T11:40:26.131Z"
   },
   {
    "duration": 115,
    "start_time": "2022-12-12T11:40:33.717Z"
   },
   {
    "duration": 1407,
    "start_time": "2022-12-12T11:41:09.175Z"
   },
   {
    "duration": 43,
    "start_time": "2022-12-12T11:41:10.584Z"
   },
   {
    "duration": 20,
    "start_time": "2022-12-12T11:41:10.629Z"
   },
   {
    "duration": 14,
    "start_time": "2022-12-12T11:41:10.650Z"
   },
   {
    "duration": 5,
    "start_time": "2022-12-12T11:41:10.666Z"
   },
   {
    "duration": 16,
    "start_time": "2022-12-12T11:41:10.672Z"
   },
   {
    "duration": 5,
    "start_time": "2022-12-12T11:41:10.689Z"
   },
   {
    "duration": 8,
    "start_time": "2022-12-12T11:41:10.696Z"
   },
   {
    "duration": 9,
    "start_time": "2022-12-12T11:41:10.706Z"
   },
   {
    "duration": 6,
    "start_time": "2022-12-12T11:41:10.717Z"
   },
   {
    "duration": 6,
    "start_time": "2022-12-12T11:41:10.738Z"
   },
   {
    "duration": 9,
    "start_time": "2022-12-12T11:41:10.746Z"
   },
   {
    "duration": 18,
    "start_time": "2022-12-12T11:41:10.757Z"
   },
   {
    "duration": 112,
    "start_time": "2022-12-12T11:41:13.012Z"
   },
   {
    "duration": 5,
    "start_time": "2022-12-12T11:41:22.748Z"
   },
   {
    "duration": 15,
    "start_time": "2022-12-12T11:42:57.246Z"
   },
   {
    "duration": 1404,
    "start_time": "2022-12-12T11:43:10.255Z"
   },
   {
    "duration": 43,
    "start_time": "2022-12-12T11:43:11.661Z"
   },
   {
    "duration": 22,
    "start_time": "2022-12-12T11:43:11.706Z"
   },
   {
    "duration": 15,
    "start_time": "2022-12-12T11:43:11.729Z"
   },
   {
    "duration": 5,
    "start_time": "2022-12-12T11:43:11.746Z"
   },
   {
    "duration": 14,
    "start_time": "2022-12-12T11:43:11.752Z"
   },
   {
    "duration": 10,
    "start_time": "2022-12-12T11:43:11.767Z"
   },
   {
    "duration": 8,
    "start_time": "2022-12-12T11:43:11.779Z"
   },
   {
    "duration": 10,
    "start_time": "2022-12-12T11:43:11.789Z"
   },
   {
    "duration": 4,
    "start_time": "2022-12-12T11:43:11.801Z"
   },
   {
    "duration": 15,
    "start_time": "2022-12-12T11:43:11.806Z"
   },
   {
    "duration": 6,
    "start_time": "2022-12-12T11:43:12.980Z"
   },
   {
    "duration": 116,
    "start_time": "2022-12-12T11:45:06.750Z"
   },
   {
    "duration": 15,
    "start_time": "2022-12-12T11:45:19.885Z"
   },
   {
    "duration": 17,
    "start_time": "2022-12-12T11:45:47.636Z"
   },
   {
    "duration": 5,
    "start_time": "2022-12-12T11:46:06.434Z"
   },
   {
    "duration": 16,
    "start_time": "2022-12-12T11:46:07.015Z"
   },
   {
    "duration": 353,
    "start_time": "2022-12-12T11:48:03.525Z"
   },
   {
    "duration": 10,
    "start_time": "2022-12-12T11:48:08.368Z"
   },
   {
    "duration": 1476,
    "start_time": "2022-12-12T11:50:48.461Z"
   },
   {
    "duration": 43,
    "start_time": "2022-12-12T11:50:49.939Z"
   },
   {
    "duration": 21,
    "start_time": "2022-12-12T11:50:49.984Z"
   },
   {
    "duration": 15,
    "start_time": "2022-12-12T11:50:50.007Z"
   },
   {
    "duration": 4,
    "start_time": "2022-12-12T11:50:50.024Z"
   },
   {
    "duration": 7,
    "start_time": "2022-12-12T11:50:50.030Z"
   },
   {
    "duration": 6,
    "start_time": "2022-12-12T11:50:50.039Z"
   },
   {
    "duration": 7,
    "start_time": "2022-12-12T11:50:50.046Z"
   },
   {
    "duration": 10,
    "start_time": "2022-12-12T11:50:50.054Z"
   },
   {
    "duration": 3,
    "start_time": "2022-12-12T11:50:50.065Z"
   },
   {
    "duration": 9,
    "start_time": "2022-12-12T11:50:50.070Z"
   },
   {
    "duration": 9,
    "start_time": "2022-12-12T11:50:50.080Z"
   },
   {
    "duration": 359,
    "start_time": "2022-12-12T11:50:50.091Z"
   },
   {
    "duration": 15,
    "start_time": "2022-12-12T11:50:50.452Z"
   },
   {
    "duration": 9,
    "start_time": "2022-12-12T11:50:53.028Z"
   },
   {
    "duration": 30,
    "start_time": "2022-12-12T11:50:53.821Z"
   },
   {
    "duration": 16,
    "start_time": "2022-12-12T11:51:11.149Z"
   },
   {
    "duration": 11,
    "start_time": "2022-12-12T11:52:08.359Z"
   },
   {
    "duration": 2374,
    "start_time": "2022-12-12T11:56:01.738Z"
   },
   {
    "duration": 45,
    "start_time": "2022-12-12T11:56:04.115Z"
   },
   {
    "duration": 25,
    "start_time": "2022-12-12T11:56:04.162Z"
   },
   {
    "duration": 17,
    "start_time": "2022-12-12T11:56:04.189Z"
   },
   {
    "duration": 5,
    "start_time": "2022-12-12T11:56:04.208Z"
   },
   {
    "duration": 27,
    "start_time": "2022-12-12T11:56:04.215Z"
   },
   {
    "duration": 6,
    "start_time": "2022-12-12T11:56:04.244Z"
   },
   {
    "duration": 6,
    "start_time": "2022-12-12T11:56:04.252Z"
   },
   {
    "duration": 10,
    "start_time": "2022-12-12T11:56:04.260Z"
   },
   {
    "duration": 3,
    "start_time": "2022-12-12T11:56:04.272Z"
   },
   {
    "duration": 10,
    "start_time": "2022-12-12T11:56:04.276Z"
   },
   {
    "duration": 7,
    "start_time": "2022-12-12T11:56:04.287Z"
   },
   {
    "duration": 348,
    "start_time": "2022-12-12T11:56:04.296Z"
   },
   {
    "duration": 12,
    "start_time": "2022-12-12T11:56:25.799Z"
   },
   {
    "duration": 73,
    "start_time": "2022-12-12T11:57:13.595Z"
   },
   {
    "duration": 116,
    "start_time": "2022-12-12T11:57:17.961Z"
   },
   {
    "duration": 17,
    "start_time": "2022-12-12T12:00:09.815Z"
   },
   {
    "duration": 1360,
    "start_time": "2022-12-12T12:00:20.580Z"
   },
   {
    "duration": 43,
    "start_time": "2022-12-12T12:00:21.942Z"
   },
   {
    "duration": 20,
    "start_time": "2022-12-12T12:00:21.987Z"
   },
   {
    "duration": 14,
    "start_time": "2022-12-12T12:00:22.009Z"
   },
   {
    "duration": 5,
    "start_time": "2022-12-12T12:00:22.025Z"
   },
   {
    "duration": 5,
    "start_time": "2022-12-12T12:00:22.037Z"
   },
   {
    "duration": 5,
    "start_time": "2022-12-12T12:00:22.044Z"
   },
   {
    "duration": 7,
    "start_time": "2022-12-12T12:00:22.050Z"
   },
   {
    "duration": 11,
    "start_time": "2022-12-12T12:00:22.058Z"
   },
   {
    "duration": 3,
    "start_time": "2022-12-12T12:00:22.070Z"
   },
   {
    "duration": 7,
    "start_time": "2022-12-12T12:00:22.075Z"
   },
   {
    "duration": 7,
    "start_time": "2022-12-12T12:00:23.982Z"
   },
   {
    "duration": 342,
    "start_time": "2022-12-12T12:00:24.826Z"
   },
   {
    "duration": 8,
    "start_time": "2022-12-12T12:00:33.107Z"
   },
   {
    "duration": 1383,
    "start_time": "2022-12-12T12:01:12.154Z"
   },
   {
    "duration": 43,
    "start_time": "2022-12-12T12:01:13.539Z"
   },
   {
    "duration": 20,
    "start_time": "2022-12-12T12:01:13.584Z"
   },
   {
    "duration": 15,
    "start_time": "2022-12-12T12:01:13.605Z"
   },
   {
    "duration": 4,
    "start_time": "2022-12-12T12:01:13.622Z"
   },
   {
    "duration": 9,
    "start_time": "2022-12-12T12:01:13.628Z"
   },
   {
    "duration": 8,
    "start_time": "2022-12-12T12:01:13.638Z"
   },
   {
    "duration": 7,
    "start_time": "2022-12-12T12:01:13.648Z"
   },
   {
    "duration": 11,
    "start_time": "2022-12-12T12:01:13.657Z"
   },
   {
    "duration": 4,
    "start_time": "2022-12-12T12:01:13.669Z"
   },
   {
    "duration": 9,
    "start_time": "2022-12-12T12:01:13.674Z"
   },
   {
    "duration": 6,
    "start_time": "2022-12-12T12:01:15.088Z"
   },
   {
    "duration": 13,
    "start_time": "2022-12-12T12:01:15.705Z"
   },
   {
    "duration": 9,
    "start_time": "2022-12-12T12:01:19.351Z"
   },
   {
    "duration": 127,
    "start_time": "2022-12-12T12:02:03.351Z"
   },
   {
    "duration": 13,
    "start_time": "2022-12-12T12:02:34.098Z"
   },
   {
    "duration": 12,
    "start_time": "2022-12-12T12:02:37.624Z"
   },
   {
    "duration": 15,
    "start_time": "2022-12-12T12:02:37.821Z"
   },
   {
    "duration": 17,
    "start_time": "2022-12-12T12:02:41.555Z"
   },
   {
    "duration": 1435,
    "start_time": "2022-12-12T12:03:07.230Z"
   },
   {
    "duration": 42,
    "start_time": "2022-12-12T12:03:08.666Z"
   },
   {
    "duration": 20,
    "start_time": "2022-12-12T12:03:08.709Z"
   },
   {
    "duration": 17,
    "start_time": "2022-12-12T12:03:08.731Z"
   },
   {
    "duration": 4,
    "start_time": "2022-12-12T12:03:08.750Z"
   },
   {
    "duration": 6,
    "start_time": "2022-12-12T12:03:08.756Z"
   },
   {
    "duration": 9,
    "start_time": "2022-12-12T12:03:08.764Z"
   },
   {
    "duration": 6,
    "start_time": "2022-12-12T12:03:08.775Z"
   },
   {
    "duration": 14,
    "start_time": "2022-12-12T12:03:08.783Z"
   },
   {
    "duration": 18,
    "start_time": "2022-12-12T12:03:08.799Z"
   },
   {
    "duration": 11,
    "start_time": "2022-12-12T12:03:08.819Z"
   },
   {
    "duration": 14,
    "start_time": "2022-12-12T12:03:08.834Z"
   },
   {
    "duration": 18,
    "start_time": "2022-12-12T12:03:08.850Z"
   },
   {
    "duration": 19,
    "start_time": "2022-12-12T12:03:08.872Z"
   },
   {
    "duration": 14,
    "start_time": "2022-12-12T12:03:08.893Z"
   },
   {
    "duration": 39,
    "start_time": "2022-12-12T12:03:08.909Z"
   },
   {
    "duration": 19,
    "start_time": "2022-12-12T12:03:11.923Z"
   },
   {
    "duration": 1460,
    "start_time": "2022-12-12T12:09:08.077Z"
   },
   {
    "duration": 42,
    "start_time": "2022-12-12T12:09:09.539Z"
   },
   {
    "duration": 18,
    "start_time": "2022-12-12T12:09:09.583Z"
   },
   {
    "duration": 18,
    "start_time": "2022-12-12T12:09:09.602Z"
   },
   {
    "duration": 5,
    "start_time": "2022-12-12T12:09:09.622Z"
   },
   {
    "duration": 12,
    "start_time": "2022-12-12T12:09:09.628Z"
   },
   {
    "duration": 8,
    "start_time": "2022-12-12T12:09:09.642Z"
   },
   {
    "duration": 7,
    "start_time": "2022-12-12T12:09:09.652Z"
   },
   {
    "duration": 16,
    "start_time": "2022-12-12T12:09:09.661Z"
   },
   {
    "duration": 21,
    "start_time": "2022-12-12T12:09:09.679Z"
   },
   {
    "duration": 16,
    "start_time": "2022-12-12T12:09:09.702Z"
   },
   {
    "duration": 15,
    "start_time": "2022-12-12T12:09:09.720Z"
   },
   {
    "duration": 18,
    "start_time": "2022-12-12T12:09:09.737Z"
   },
   {
    "duration": 15,
    "start_time": "2022-12-12T12:09:09.758Z"
   },
   {
    "duration": 24,
    "start_time": "2022-12-12T12:09:12.581Z"
   },
   {
    "duration": 11,
    "start_time": "2022-12-12T12:09:13.155Z"
   },
   {
    "duration": 136,
    "start_time": "2022-12-12T12:11:27.021Z"
   },
   {
    "duration": 13,
    "start_time": "2022-12-12T12:11:59.534Z"
   },
   {
    "duration": 1761,
    "start_time": "2022-12-12T12:16:42.518Z"
   },
   {
    "duration": 52,
    "start_time": "2022-12-12T12:16:44.281Z"
   },
   {
    "duration": 18,
    "start_time": "2022-12-12T12:16:44.335Z"
   },
   {
    "duration": 14,
    "start_time": "2022-12-12T12:16:44.355Z"
   },
   {
    "duration": 4,
    "start_time": "2022-12-12T12:16:44.370Z"
   },
   {
    "duration": 13,
    "start_time": "2022-12-12T12:16:44.376Z"
   },
   {
    "duration": 8,
    "start_time": "2022-12-12T12:16:44.391Z"
   },
   {
    "duration": 9,
    "start_time": "2022-12-12T12:16:44.400Z"
   },
   {
    "duration": 30,
    "start_time": "2022-12-12T12:16:44.411Z"
   },
   {
    "duration": 8,
    "start_time": "2022-12-12T12:16:45.635Z"
   },
   {
    "duration": 3,
    "start_time": "2022-12-12T12:16:46.734Z"
   },
   {
    "duration": 9,
    "start_time": "2022-12-12T12:16:47.367Z"
   },
   {
    "duration": 25,
    "start_time": "2022-12-12T12:16:48.289Z"
   },
   {
    "duration": 1456,
    "start_time": "2022-12-12T12:17:30.017Z"
   },
   {
    "duration": 46,
    "start_time": "2022-12-12T12:17:31.475Z"
   },
   {
    "duration": 19,
    "start_time": "2022-12-12T12:17:31.523Z"
   },
   {
    "duration": 16,
    "start_time": "2022-12-12T12:17:31.544Z"
   },
   {
    "duration": 4,
    "start_time": "2022-12-12T12:17:31.562Z"
   },
   {
    "duration": 10,
    "start_time": "2022-12-12T12:17:31.568Z"
   },
   {
    "duration": 11,
    "start_time": "2022-12-12T12:17:31.579Z"
   },
   {
    "duration": 9,
    "start_time": "2022-12-12T12:17:31.592Z"
   },
   {
    "duration": 34,
    "start_time": "2022-12-12T12:17:31.603Z"
   },
   {
    "duration": 3,
    "start_time": "2022-12-12T12:17:31.639Z"
   },
   {
    "duration": 13,
    "start_time": "2022-12-12T12:17:31.643Z"
   },
   {
    "duration": 28,
    "start_time": "2022-12-12T12:17:32.378Z"
   },
   {
    "duration": 3,
    "start_time": "2022-12-12T12:20:22.785Z"
   },
   {
    "duration": 4,
    "start_time": "2022-12-12T12:20:23.405Z"
   },
   {
    "duration": 8,
    "start_time": "2022-12-12T12:20:24.133Z"
   },
   {
    "duration": 6,
    "start_time": "2022-12-12T12:20:25.035Z"
   },
   {
    "duration": 10,
    "start_time": "2022-12-12T12:20:37.796Z"
   },
   {
    "duration": 132,
    "start_time": "2022-12-12T12:21:08.646Z"
   },
   {
    "duration": 19,
    "start_time": "2022-12-12T12:21:27.755Z"
   },
   {
    "duration": 5,
    "start_time": "2022-12-12T12:21:36.828Z"
   },
   {
    "duration": 19,
    "start_time": "2022-12-12T12:22:07.334Z"
   },
   {
    "duration": 12,
    "start_time": "2022-12-12T12:22:16.594Z"
   },
   {
    "duration": 3,
    "start_time": "2022-12-12T12:23:00.615Z"
   },
   {
    "duration": 3,
    "start_time": "2022-12-12T12:23:07.751Z"
   },
   {
    "duration": 13,
    "start_time": "2022-12-12T12:23:29.686Z"
   },
   {
    "duration": 1405,
    "start_time": "2022-12-12T12:25:56.673Z"
   },
   {
    "duration": 42,
    "start_time": "2022-12-12T12:25:58.080Z"
   },
   {
    "duration": 18,
    "start_time": "2022-12-12T12:25:58.124Z"
   },
   {
    "duration": 15,
    "start_time": "2022-12-12T12:25:58.143Z"
   },
   {
    "duration": 4,
    "start_time": "2022-12-12T12:25:58.160Z"
   },
   {
    "duration": 6,
    "start_time": "2022-12-12T12:25:58.166Z"
   },
   {
    "duration": 5,
    "start_time": "2022-12-12T12:25:58.173Z"
   },
   {
    "duration": 7,
    "start_time": "2022-12-12T12:25:58.180Z"
   },
   {
    "duration": 8,
    "start_time": "2022-12-12T12:25:58.189Z"
   },
   {
    "duration": 3,
    "start_time": "2022-12-12T12:25:58.199Z"
   },
   {
    "duration": 42,
    "start_time": "2022-12-12T12:25:58.203Z"
   },
   {
    "duration": 16,
    "start_time": "2022-12-12T12:25:58.247Z"
   },
   {
    "duration": 122,
    "start_time": "2022-12-12T12:27:03.926Z"
   },
   {
    "duration": 17,
    "start_time": "2022-12-12T12:27:14.359Z"
   },
   {
    "duration": 1380,
    "start_time": "2022-12-12T12:32:22.661Z"
   },
   {
    "duration": 41,
    "start_time": "2022-12-12T12:32:24.043Z"
   },
   {
    "duration": 20,
    "start_time": "2022-12-12T12:32:24.086Z"
   },
   {
    "duration": 17,
    "start_time": "2022-12-12T12:32:24.109Z"
   },
   {
    "duration": 8,
    "start_time": "2022-12-12T12:32:24.127Z"
   },
   {
    "duration": 21,
    "start_time": "2022-12-12T12:32:24.137Z"
   },
   {
    "duration": 8,
    "start_time": "2022-12-12T12:32:24.160Z"
   },
   {
    "duration": 11,
    "start_time": "2022-12-12T12:32:24.170Z"
   },
   {
    "duration": 10,
    "start_time": "2022-12-12T12:32:24.183Z"
   },
   {
    "duration": 8,
    "start_time": "2022-12-12T12:32:24.196Z"
   },
   {
    "duration": 15,
    "start_time": "2022-12-12T12:32:24.206Z"
   },
   {
    "duration": 16,
    "start_time": "2022-12-12T12:32:26.959Z"
   },
   {
    "duration": 18,
    "start_time": "2022-12-12T12:54:28.754Z"
   },
   {
    "duration": 18,
    "start_time": "2022-12-12T12:55:53.493Z"
   },
   {
    "duration": 17,
    "start_time": "2022-12-12T12:55:58.000Z"
   },
   {
    "duration": 10,
    "start_time": "2022-12-12T12:56:01.308Z"
   },
   {
    "duration": 11,
    "start_time": "2022-12-12T12:56:21.491Z"
   },
   {
    "duration": 18,
    "start_time": "2022-12-12T12:56:56.125Z"
   },
   {
    "duration": 20,
    "start_time": "2022-12-12T12:57:24.009Z"
   },
   {
    "duration": 1363,
    "start_time": "2022-12-12T12:57:34.362Z"
   },
   {
    "duration": 43,
    "start_time": "2022-12-12T12:57:35.728Z"
   },
   {
    "duration": 21,
    "start_time": "2022-12-12T12:57:35.773Z"
   },
   {
    "duration": 15,
    "start_time": "2022-12-12T12:57:35.796Z"
   },
   {
    "duration": 5,
    "start_time": "2022-12-12T12:57:35.814Z"
   },
   {
    "duration": 33,
    "start_time": "2022-12-12T12:57:35.821Z"
   },
   {
    "duration": 11,
    "start_time": "2022-12-12T12:57:35.856Z"
   },
   {
    "duration": 15,
    "start_time": "2022-12-12T12:57:35.869Z"
   },
   {
    "duration": 11,
    "start_time": "2022-12-12T12:57:35.886Z"
   },
   {
    "duration": 127,
    "start_time": "2022-12-12T12:57:40.204Z"
   },
   {
    "duration": 34,
    "start_time": "2022-12-12T12:57:52.962Z"
   },
   {
    "duration": 19,
    "start_time": "2022-12-12T12:58:58.477Z"
   },
   {
    "duration": 33,
    "start_time": "2022-12-12T12:59:27.891Z"
   },
   {
    "duration": 19,
    "start_time": "2022-12-12T12:59:48.000Z"
   },
   {
    "duration": 30,
    "start_time": "2022-12-12T13:00:29.334Z"
   },
   {
    "duration": 4,
    "start_time": "2022-12-12T13:00:41.838Z"
   },
   {
    "duration": 7,
    "start_time": "2022-12-12T13:00:42.471Z"
   },
   {
    "duration": 7,
    "start_time": "2022-12-12T13:00:43.068Z"
   },
   {
    "duration": 16,
    "start_time": "2022-12-12T13:00:43.684Z"
   },
   {
    "duration": 18,
    "start_time": "2022-12-12T13:01:51.144Z"
   },
   {
    "duration": 9,
    "start_time": "2022-12-12T13:02:32.687Z"
   },
   {
    "duration": 16,
    "start_time": "2022-12-12T13:02:35.335Z"
   },
   {
    "duration": 22,
    "start_time": "2022-12-12T13:02:38.332Z"
   },
   {
    "duration": 1488,
    "start_time": "2022-12-12T13:03:34.455Z"
   },
   {
    "duration": 41,
    "start_time": "2022-12-12T13:03:35.945Z"
   },
   {
    "duration": 22,
    "start_time": "2022-12-12T13:03:35.988Z"
   },
   {
    "duration": 17,
    "start_time": "2022-12-12T13:03:36.012Z"
   },
   {
    "duration": 6,
    "start_time": "2022-12-12T13:03:36.037Z"
   },
   {
    "duration": 17,
    "start_time": "2022-12-12T13:03:36.044Z"
   },
   {
    "duration": 9,
    "start_time": "2022-12-12T13:03:36.063Z"
   },
   {
    "duration": 9,
    "start_time": "2022-12-12T13:03:36.073Z"
   },
   {
    "duration": 16,
    "start_time": "2022-12-12T13:03:36.084Z"
   },
   {
    "duration": 44,
    "start_time": "2022-12-12T13:03:36.102Z"
   },
   {
    "duration": 19,
    "start_time": "2022-12-12T13:03:40.124Z"
   },
   {
    "duration": 135,
    "start_time": "2022-12-12T13:04:40.809Z"
   },
   {
    "duration": 1443,
    "start_time": "2022-12-12T13:05:04.309Z"
   },
   {
    "duration": 43,
    "start_time": "2022-12-12T13:05:05.754Z"
   },
   {
    "duration": 21,
    "start_time": "2022-12-12T13:05:05.799Z"
   },
   {
    "duration": 18,
    "start_time": "2022-12-12T13:05:05.823Z"
   },
   {
    "duration": 15,
    "start_time": "2022-12-12T13:05:05.843Z"
   },
   {
    "duration": 18,
    "start_time": "2022-12-12T13:05:05.860Z"
   },
   {
    "duration": 11,
    "start_time": "2022-12-12T13:05:05.880Z"
   },
   {
    "duration": 7,
    "start_time": "2022-12-12T13:05:05.893Z"
   },
   {
    "duration": 11,
    "start_time": "2022-12-12T13:05:05.902Z"
   },
   {
    "duration": 51,
    "start_time": "2022-12-12T13:05:05.916Z"
   },
   {
    "duration": 3,
    "start_time": "2022-12-12T13:05:05.969Z"
   },
   {
    "duration": 12,
    "start_time": "2022-12-12T13:05:05.974Z"
   },
   {
    "duration": 6,
    "start_time": "2022-12-12T13:05:08.275Z"
   },
   {
    "duration": 8,
    "start_time": "2022-12-12T13:05:08.890Z"
   },
   {
    "duration": 7,
    "start_time": "2022-12-12T13:05:10.074Z"
   },
   {
    "duration": 18,
    "start_time": "2022-12-12T13:05:10.815Z"
   },
   {
    "duration": 15,
    "start_time": "2022-12-12T13:05:13.638Z"
   },
   {
    "duration": 32,
    "start_time": "2022-12-12T13:05:16.155Z"
   },
   {
    "duration": 124,
    "start_time": "2022-12-12T13:05:33.364Z"
   },
   {
    "duration": 17,
    "start_time": "2022-12-12T13:07:56.111Z"
   },
   {
    "duration": 1332,
    "start_time": "2022-12-12T13:08:03.992Z"
   },
   {
    "duration": 44,
    "start_time": "2022-12-12T13:08:05.326Z"
   },
   {
    "duration": 18,
    "start_time": "2022-12-12T13:08:05.372Z"
   },
   {
    "duration": 15,
    "start_time": "2022-12-12T13:08:05.392Z"
   },
   {
    "duration": 5,
    "start_time": "2022-12-12T13:08:05.409Z"
   },
   {
    "duration": 10,
    "start_time": "2022-12-12T13:08:05.416Z"
   },
   {
    "duration": 10,
    "start_time": "2022-12-12T13:08:05.428Z"
   },
   {
    "duration": 10,
    "start_time": "2022-12-12T13:08:05.440Z"
   },
   {
    "duration": 10,
    "start_time": "2022-12-12T13:08:05.452Z"
   },
   {
    "duration": 32,
    "start_time": "2022-12-12T13:08:05.464Z"
   },
   {
    "duration": 3,
    "start_time": "2022-12-12T13:08:05.498Z"
   },
   {
    "duration": 9,
    "start_time": "2022-12-12T13:08:05.502Z"
   },
   {
    "duration": 6,
    "start_time": "2022-12-12T13:08:07.335Z"
   },
   {
    "duration": 116,
    "start_time": "2022-12-12T13:08:14.534Z"
   },
   {
    "duration": 16,
    "start_time": "2022-12-12T13:08:15.064Z"
   },
   {
    "duration": 6,
    "start_time": "2022-12-12T13:08:15.453Z"
   },
   {
    "duration": 4,
    "start_time": "2022-12-12T13:12:20.240Z"
   },
   {
    "duration": 7,
    "start_time": "2022-12-12T13:12:22.699Z"
   },
   {
    "duration": 21,
    "start_time": "2022-12-12T13:12:25.700Z"
   },
   {
    "duration": 1369,
    "start_time": "2022-12-12T13:12:42.155Z"
   },
   {
    "duration": 57,
    "start_time": "2022-12-12T13:12:43.526Z"
   },
   {
    "duration": 20,
    "start_time": "2022-12-12T13:12:43.585Z"
   },
   {
    "duration": 15,
    "start_time": "2022-12-12T13:12:43.607Z"
   },
   {
    "duration": 5,
    "start_time": "2022-12-12T13:12:43.623Z"
   },
   {
    "duration": 14,
    "start_time": "2022-12-12T13:12:43.630Z"
   },
   {
    "duration": 5,
    "start_time": "2022-12-12T13:12:43.645Z"
   },
   {
    "duration": 8,
    "start_time": "2022-12-12T13:12:43.652Z"
   },
   {
    "duration": 10,
    "start_time": "2022-12-12T13:12:43.662Z"
   },
   {
    "duration": 32,
    "start_time": "2022-12-12T13:12:43.674Z"
   },
   {
    "duration": 3,
    "start_time": "2022-12-12T13:12:43.708Z"
   },
   {
    "duration": 26,
    "start_time": "2022-12-12T13:12:43.712Z"
   },
   {
    "duration": 8,
    "start_time": "2022-12-12T13:12:43.740Z"
   },
   {
    "duration": 18,
    "start_time": "2022-12-12T13:12:43.750Z"
   },
   {
    "duration": 12,
    "start_time": "2022-12-12T13:12:43.771Z"
   },
   {
    "duration": 6,
    "start_time": "2022-12-12T13:12:43.784Z"
   },
   {
    "duration": 15,
    "start_time": "2022-12-12T13:12:46.727Z"
   },
   {
    "duration": 8,
    "start_time": "2022-12-12T13:13:07.482Z"
   },
   {
    "duration": 12,
    "start_time": "2022-12-12T13:13:32.485Z"
   },
   {
    "duration": 26,
    "start_time": "2022-12-12T13:13:33.798Z"
   },
   {
    "duration": 13,
    "start_time": "2022-12-12T13:14:25.298Z"
   },
   {
    "duration": 23,
    "start_time": "2022-12-12T13:14:26.780Z"
   },
   {
    "duration": 124,
    "start_time": "2022-12-12T13:14:52.894Z"
   },
   {
    "duration": 15,
    "start_time": "2022-12-12T13:15:00.532Z"
   },
   {
    "duration": 22,
    "start_time": "2022-12-12T13:15:02.566Z"
   },
   {
    "duration": 4,
    "start_time": "2022-12-12T13:15:14.626Z"
   },
   {
    "duration": 28,
    "start_time": "2022-12-12T13:15:15.680Z"
   },
   {
    "duration": 17,
    "start_time": "2022-12-12T13:15:35.542Z"
   },
   {
    "duration": 17,
    "start_time": "2022-12-12T13:17:55.788Z"
   },
   {
    "duration": 23,
    "start_time": "2022-12-12T13:17:57.092Z"
   },
   {
    "duration": 19,
    "start_time": "2022-12-12T13:18:17.826Z"
   },
   {
    "duration": 26,
    "start_time": "2022-12-12T13:18:18.986Z"
   },
   {
    "duration": 20,
    "start_time": "2022-12-12T13:21:24.019Z"
   },
   {
    "duration": 1373,
    "start_time": "2022-12-12T13:22:10.940Z"
   },
   {
    "duration": 43,
    "start_time": "2022-12-12T13:22:12.315Z"
   },
   {
    "duration": 20,
    "start_time": "2022-12-12T13:22:12.360Z"
   },
   {
    "duration": 19,
    "start_time": "2022-12-12T13:22:12.381Z"
   },
   {
    "duration": 4,
    "start_time": "2022-12-12T13:22:12.403Z"
   },
   {
    "duration": 6,
    "start_time": "2022-12-12T13:22:12.409Z"
   },
   {
    "duration": 21,
    "start_time": "2022-12-12T13:22:12.417Z"
   },
   {
    "duration": 5,
    "start_time": "2022-12-12T13:22:12.440Z"
   },
   {
    "duration": 10,
    "start_time": "2022-12-12T13:22:12.446Z"
   },
   {
    "duration": 32,
    "start_time": "2022-12-12T13:22:12.458Z"
   },
   {
    "duration": 2,
    "start_time": "2022-12-12T13:22:12.492Z"
   },
   {
    "duration": 9,
    "start_time": "2022-12-12T13:22:12.496Z"
   },
   {
    "duration": 45,
    "start_time": "2022-12-12T13:22:12.507Z"
   },
   {
    "duration": 25,
    "start_time": "2022-12-12T13:22:12.555Z"
   },
   {
    "duration": 133,
    "start_time": "2022-12-12T13:22:12.582Z"
   },
   {
    "duration": 0,
    "start_time": "2022-12-12T13:22:12.717Z"
   },
   {
    "duration": 0,
    "start_time": "2022-12-12T13:22:12.719Z"
   },
   {
    "duration": 0,
    "start_time": "2022-12-12T13:22:12.721Z"
   },
   {
    "duration": 0,
    "start_time": "2022-12-12T13:22:12.722Z"
   },
   {
    "duration": 0,
    "start_time": "2022-12-12T13:22:12.724Z"
   },
   {
    "duration": 12,
    "start_time": "2022-12-12T13:27:36.937Z"
   },
   {
    "duration": 12,
    "start_time": "2022-12-12T13:27:38.432Z"
   },
   {
    "duration": 30,
    "start_time": "2022-12-12T13:28:04.578Z"
   },
   {
    "duration": 3,
    "start_time": "2022-12-12T13:29:47.614Z"
   },
   {
    "duration": 15,
    "start_time": "2022-12-12T13:29:48.018Z"
   },
   {
    "duration": 18,
    "start_time": "2022-12-12T13:29:48.446Z"
   },
   {
    "duration": 1468,
    "start_time": "2022-12-12T13:30:00.260Z"
   },
   {
    "duration": 43,
    "start_time": "2022-12-12T13:30:01.730Z"
   },
   {
    "duration": 24,
    "start_time": "2022-12-12T13:30:01.775Z"
   },
   {
    "duration": 38,
    "start_time": "2022-12-12T13:30:01.802Z"
   },
   {
    "duration": 5,
    "start_time": "2022-12-12T13:30:01.843Z"
   },
   {
    "duration": 13,
    "start_time": "2022-12-12T13:30:01.850Z"
   },
   {
    "duration": 11,
    "start_time": "2022-12-12T13:30:01.865Z"
   },
   {
    "duration": 10,
    "start_time": "2022-12-12T13:30:01.878Z"
   },
   {
    "duration": 29,
    "start_time": "2022-12-12T13:30:01.890Z"
   },
   {
    "duration": 37,
    "start_time": "2022-12-12T13:30:01.921Z"
   },
   {
    "duration": 4,
    "start_time": "2022-12-12T13:30:01.960Z"
   },
   {
    "duration": 81,
    "start_time": "2022-12-12T13:30:01.966Z"
   },
   {
    "duration": 26,
    "start_time": "2022-12-12T13:30:02.049Z"
   },
   {
    "duration": 12,
    "start_time": "2022-12-12T13:30:07.416Z"
   },
   {
    "duration": 23,
    "start_time": "2022-12-12T13:30:08.498Z"
   },
   {
    "duration": 121,
    "start_time": "2022-12-12T13:30:39.948Z"
   },
   {
    "duration": 17,
    "start_time": "2022-12-12T13:30:56.066Z"
   },
   {
    "duration": 17,
    "start_time": "2022-12-12T13:30:58.797Z"
   },
   {
    "duration": 25,
    "start_time": "2022-12-12T13:32:34.839Z"
   },
   {
    "duration": 13,
    "start_time": "2022-12-12T13:32:36.938Z"
   },
   {
    "duration": 20,
    "start_time": "2022-12-12T13:32:38.315Z"
   },
   {
    "duration": 39,
    "start_time": "2022-12-12T13:33:00.881Z"
   },
   {
    "duration": 47,
    "start_time": "2022-12-12T13:33:12.742Z"
   },
   {
    "duration": 19,
    "start_time": "2022-12-12T13:33:29.739Z"
   },
   {
    "duration": 1419,
    "start_time": "2022-12-12T13:33:38.810Z"
   },
   {
    "duration": 50,
    "start_time": "2022-12-12T13:33:40.232Z"
   },
   {
    "duration": 20,
    "start_time": "2022-12-12T13:33:40.284Z"
   },
   {
    "duration": 17,
    "start_time": "2022-12-12T13:33:40.306Z"
   },
   {
    "duration": 5,
    "start_time": "2022-12-12T13:33:40.326Z"
   },
   {
    "duration": 16,
    "start_time": "2022-12-12T13:33:40.332Z"
   },
   {
    "duration": 6,
    "start_time": "2022-12-12T13:33:40.350Z"
   },
   {
    "duration": 12,
    "start_time": "2022-12-12T13:33:40.357Z"
   },
   {
    "duration": 11,
    "start_time": "2022-12-12T13:33:40.370Z"
   },
   {
    "duration": 33,
    "start_time": "2022-12-12T13:33:40.382Z"
   },
   {
    "duration": 2,
    "start_time": "2022-12-12T13:33:40.417Z"
   },
   {
    "duration": 20,
    "start_time": "2022-12-12T13:33:40.421Z"
   },
   {
    "duration": 12,
    "start_time": "2022-12-12T13:33:40.442Z"
   },
   {
    "duration": 8,
    "start_time": "2022-12-12T13:33:43.866Z"
   },
   {
    "duration": 28,
    "start_time": "2022-12-12T13:33:45.814Z"
   },
   {
    "duration": 493,
    "start_time": "2022-12-12T13:43:39.745Z"
   },
   {
    "duration": 310,
    "start_time": "2022-12-12T13:43:45.641Z"
   },
   {
    "duration": 1454,
    "start_time": "2022-12-12T13:44:08.072Z"
   },
   {
    "duration": 45,
    "start_time": "2022-12-12T13:44:09.529Z"
   },
   {
    "duration": 19,
    "start_time": "2022-12-12T13:44:09.576Z"
   },
   {
    "duration": 15,
    "start_time": "2022-12-12T13:44:09.597Z"
   },
   {
    "duration": 4,
    "start_time": "2022-12-12T13:44:09.615Z"
   },
   {
    "duration": 30,
    "start_time": "2022-12-12T13:44:09.620Z"
   },
   {
    "duration": 22,
    "start_time": "2022-12-12T13:44:09.652Z"
   },
   {
    "duration": 18,
    "start_time": "2022-12-12T13:44:09.676Z"
   },
   {
    "duration": 35,
    "start_time": "2022-12-12T13:44:09.696Z"
   },
   {
    "duration": 41,
    "start_time": "2022-12-12T13:44:09.733Z"
   },
   {
    "duration": 12,
    "start_time": "2022-12-12T13:44:09.776Z"
   },
   {
    "duration": 23,
    "start_time": "2022-12-12T13:44:09.790Z"
   },
   {
    "duration": 37,
    "start_time": "2022-12-12T13:44:09.815Z"
   },
   {
    "duration": 43,
    "start_time": "2022-12-12T13:44:09.855Z"
   },
   {
    "duration": 32,
    "start_time": "2022-12-12T13:44:09.900Z"
   },
   {
    "duration": 406,
    "start_time": "2022-12-12T13:44:09.934Z"
   },
   {
    "duration": 405,
    "start_time": "2022-12-12T13:44:10.347Z"
   },
   {
    "duration": 0,
    "start_time": "2022-12-12T13:44:10.753Z"
   },
   {
    "duration": 0,
    "start_time": "2022-12-12T13:44:10.755Z"
   },
   {
    "duration": 0,
    "start_time": "2022-12-12T13:44:10.756Z"
   },
   {
    "duration": 0,
    "start_time": "2022-12-12T13:44:10.757Z"
   },
   {
    "duration": 10,
    "start_time": "2022-12-12T13:44:41.954Z"
   },
   {
    "duration": 848,
    "start_time": "2022-12-12T13:44:43.239Z"
   },
   {
    "duration": 54,
    "start_time": "2022-12-12T13:44:44.089Z"
   },
   {
    "duration": 59,
    "start_time": "2022-12-12T13:44:44.145Z"
   },
   {
    "duration": 9,
    "start_time": "2022-12-12T13:44:44.206Z"
   },
   {
    "duration": 1409,
    "start_time": "2022-12-13T08:18:40.744Z"
   },
   {
    "duration": 170,
    "start_time": "2022-12-13T08:18:42.155Z"
   },
   {
    "duration": 17,
    "start_time": "2022-12-13T08:18:42.327Z"
   },
   {
    "duration": 19,
    "start_time": "2022-12-13T08:18:42.346Z"
   },
   {
    "duration": 4,
    "start_time": "2022-12-13T08:18:42.366Z"
   },
   {
    "duration": 10,
    "start_time": "2022-12-13T08:18:42.371Z"
   },
   {
    "duration": 5,
    "start_time": "2022-12-13T08:18:42.383Z"
   },
   {
    "duration": 15,
    "start_time": "2022-12-13T08:18:42.389Z"
   },
   {
    "duration": 6,
    "start_time": "2022-12-13T08:18:42.406Z"
   },
   {
    "duration": 31,
    "start_time": "2022-12-13T08:18:42.415Z"
   },
   {
    "duration": 3,
    "start_time": "2022-12-13T08:18:42.448Z"
   },
   {
    "duration": 10,
    "start_time": "2022-12-13T08:18:42.453Z"
   },
   {
    "duration": 12,
    "start_time": "2022-12-13T08:18:42.464Z"
   },
   {
    "duration": 7,
    "start_time": "2022-12-13T08:18:42.504Z"
   },
   {
    "duration": 402,
    "start_time": "2022-12-13T08:18:42.512Z"
   },
   {
    "duration": 10,
    "start_time": "2022-12-13T08:18:43.004Z"
   },
   {
    "duration": 905,
    "start_time": "2022-12-13T08:18:43.016Z"
   },
   {
    "duration": 36,
    "start_time": "2022-12-13T08:18:43.923Z"
   },
   {
    "duration": 72,
    "start_time": "2022-12-13T08:18:43.961Z"
   },
   {
    "duration": 5,
    "start_time": "2022-12-13T08:18:44.035Z"
   },
   {
    "duration": 7,
    "start_time": "2022-12-13T08:18:47.000Z"
   },
   {
    "duration": 5,
    "start_time": "2022-12-13T08:19:01.086Z"
   },
   {
    "duration": 7,
    "start_time": "2022-12-13T08:19:47.427Z"
   },
   {
    "duration": 6,
    "start_time": "2022-12-13T08:19:57.666Z"
   },
   {
    "duration": 5,
    "start_time": "2022-12-13T08:19:58.380Z"
   },
   {
    "duration": 4,
    "start_time": "2022-12-13T08:20:08.094Z"
   },
   {
    "duration": 3,
    "start_time": "2022-12-13T08:20:08.761Z"
   },
   {
    "duration": 4,
    "start_time": "2022-12-13T08:20:18.813Z"
   },
   {
    "duration": 3,
    "start_time": "2022-12-13T08:20:19.264Z"
   },
   {
    "duration": 6,
    "start_time": "2022-12-13T08:20:45.097Z"
   },
   {
    "duration": 5,
    "start_time": "2022-12-13T08:20:45.741Z"
   },
   {
    "duration": 3,
    "start_time": "2022-12-13T08:20:46.252Z"
   },
   {
    "duration": 5,
    "start_time": "2022-12-13T08:20:47.543Z"
   },
   {
    "duration": 122,
    "start_time": "2022-12-13T08:20:48.901Z"
   },
   {
    "duration": 6,
    "start_time": "2022-12-13T08:20:49.376Z"
   },
   {
    "duration": 1312,
    "start_time": "2022-12-13T08:22:24.657Z"
   },
   {
    "duration": 41,
    "start_time": "2022-12-13T08:22:25.970Z"
   },
   {
    "duration": 18,
    "start_time": "2022-12-13T08:22:26.013Z"
   },
   {
    "duration": 13,
    "start_time": "2022-12-13T08:22:26.032Z"
   },
   {
    "duration": 4,
    "start_time": "2022-12-13T08:22:26.046Z"
   },
   {
    "duration": 7,
    "start_time": "2022-12-13T08:22:26.051Z"
   },
   {
    "duration": 7,
    "start_time": "2022-12-13T08:22:26.059Z"
   },
   {
    "duration": 13,
    "start_time": "2022-12-13T08:22:26.067Z"
   },
   {
    "duration": 9,
    "start_time": "2022-12-13T08:22:26.082Z"
   },
   {
    "duration": 39,
    "start_time": "2022-12-13T08:22:26.092Z"
   },
   {
    "duration": 2,
    "start_time": "2022-12-13T08:22:26.133Z"
   },
   {
    "duration": 10,
    "start_time": "2022-12-13T08:22:26.137Z"
   },
   {
    "duration": 13,
    "start_time": "2022-12-13T08:22:26.149Z"
   },
   {
    "duration": 8,
    "start_time": "2022-12-13T08:22:26.165Z"
   },
   {
    "duration": 535,
    "start_time": "2022-12-13T08:22:26.174Z"
   },
   {
    "duration": 98,
    "start_time": "2022-12-13T08:22:26.712Z"
   },
   {
    "duration": 1043,
    "start_time": "2022-12-13T08:22:26.812Z"
   },
   {
    "duration": 35,
    "start_time": "2022-12-13T08:22:27.856Z"
   },
   {
    "duration": 53,
    "start_time": "2022-12-13T08:22:27.893Z"
   },
   {
    "duration": 7,
    "start_time": "2022-12-13T08:22:27.948Z"
   },
   {
    "duration": 6,
    "start_time": "2022-12-13T08:22:27.957Z"
   },
   {
    "duration": 4,
    "start_time": "2022-12-13T08:22:27.965Z"
   },
   {
    "duration": 5,
    "start_time": "2022-12-13T08:22:27.970Z"
   },
   {
    "duration": 4,
    "start_time": "2022-12-13T08:22:30.185Z"
   },
   {
    "duration": 107,
    "start_time": "2022-12-13T08:22:31.269Z"
   },
   {
    "duration": 6,
    "start_time": "2022-12-13T08:23:28.076Z"
   },
   {
    "duration": 3,
    "start_time": "2022-12-13T08:23:29.806Z"
   },
   {
    "duration": 4,
    "start_time": "2022-12-13T08:23:36.771Z"
   },
   {
    "duration": 3,
    "start_time": "2022-12-13T08:23:37.640Z"
   },
   {
    "duration": 11,
    "start_time": "2022-12-13T09:10:33.861Z"
   },
   {
    "duration": 4,
    "start_time": "2022-12-13T09:10:44.258Z"
   },
   {
    "duration": 5,
    "start_time": "2022-12-13T09:13:05.533Z"
   },
   {
    "duration": 13,
    "start_time": "2022-12-13T09:13:57.518Z"
   },
   {
    "duration": 9,
    "start_time": "2022-12-13T09:15:27.665Z"
   },
   {
    "duration": 5,
    "start_time": "2022-12-13T09:15:31.691Z"
   },
   {
    "duration": 399,
    "start_time": "2022-12-13T09:15:57.708Z"
   },
   {
    "duration": 5,
    "start_time": "2022-12-13T09:17:46.657Z"
   },
   {
    "duration": 8,
    "start_time": "2022-12-13T09:18:29.040Z"
   },
   {
    "duration": 6,
    "start_time": "2022-12-13T09:22:16.940Z"
   },
   {
    "duration": 4,
    "start_time": "2022-12-13T09:22:20.509Z"
   },
   {
    "duration": 9,
    "start_time": "2022-12-13T09:22:21.125Z"
   },
   {
    "duration": 6,
    "start_time": "2022-12-13T09:22:22.478Z"
   },
   {
    "duration": 7,
    "start_time": "2022-12-13T09:22:44.814Z"
   },
   {
    "duration": 1294,
    "start_time": "2022-12-13T09:24:22.533Z"
   },
   {
    "duration": 41,
    "start_time": "2022-12-13T09:24:23.829Z"
   },
   {
    "duration": 19,
    "start_time": "2022-12-13T09:24:23.872Z"
   },
   {
    "duration": 14,
    "start_time": "2022-12-13T09:24:23.892Z"
   },
   {
    "duration": 3,
    "start_time": "2022-12-13T09:24:23.909Z"
   },
   {
    "duration": 6,
    "start_time": "2022-12-13T09:24:23.914Z"
   },
   {
    "duration": 7,
    "start_time": "2022-12-13T09:24:23.921Z"
   },
   {
    "duration": 7,
    "start_time": "2022-12-13T09:24:23.929Z"
   },
   {
    "duration": 10,
    "start_time": "2022-12-13T09:24:23.937Z"
   },
   {
    "duration": 30,
    "start_time": "2022-12-13T09:24:23.948Z"
   },
   {
    "duration": 3,
    "start_time": "2022-12-13T09:24:23.979Z"
   },
   {
    "duration": 29,
    "start_time": "2022-12-13T09:24:23.983Z"
   },
   {
    "duration": 13,
    "start_time": "2022-12-13T09:24:24.013Z"
   },
   {
    "duration": 6,
    "start_time": "2022-12-13T09:24:24.029Z"
   },
   {
    "duration": 471,
    "start_time": "2022-12-13T09:24:24.036Z"
   },
   {
    "duration": 101,
    "start_time": "2022-12-13T09:24:24.509Z"
   },
   {
    "duration": 921,
    "start_time": "2022-12-13T09:24:24.612Z"
   },
   {
    "duration": 36,
    "start_time": "2022-12-13T09:24:25.534Z"
   },
   {
    "duration": 63,
    "start_time": "2022-12-13T09:24:25.572Z"
   },
   {
    "duration": 6,
    "start_time": "2022-12-13T09:24:25.637Z"
   },
   {
    "duration": 7,
    "start_time": "2022-12-13T09:24:25.645Z"
   },
   {
    "duration": 3,
    "start_time": "2022-12-13T09:24:25.654Z"
   },
   {
    "duration": 49,
    "start_time": "2022-12-13T09:24:25.659Z"
   },
   {
    "duration": 6,
    "start_time": "2022-12-13T09:24:25.710Z"
   },
   {
    "duration": 786,
    "start_time": "2022-12-13T09:24:25.718Z"
   },
   {
    "duration": 1091,
    "start_time": "2022-12-13T09:24:26.506Z"
   },
   {
    "duration": 54,
    "start_time": "2022-12-13T09:24:27.604Z"
   },
   {
    "duration": 60935,
    "start_time": "2022-12-13T09:24:27.660Z"
   },
   {
    "duration": 15,
    "start_time": "2022-12-13T09:25:28.596Z"
   },
   {
    "duration": 68175,
    "start_time": "2022-12-13T09:25:28.613Z"
   },
   {
    "duration": 17,
    "start_time": "2022-12-13T09:26:36.791Z"
   },
   {
    "duration": 104,
    "start_time": "2022-12-13T09:32:25.854Z"
   },
   {
    "duration": 12,
    "start_time": "2022-12-13T09:32:36.158Z"
   },
   {
    "duration": 245,
    "start_time": "2022-12-13T09:33:02.760Z"
   },
   {
    "duration": 1143,
    "start_time": "2022-12-13T09:33:05.140Z"
   },
   {
    "duration": 58,
    "start_time": "2022-12-13T09:33:08.573Z"
   },
   {
    "duration": 4,
    "start_time": "2022-12-13T09:36:55.538Z"
   },
   {
    "duration": 7,
    "start_time": "2022-12-13T09:38:44.639Z"
   },
   {
    "duration": 10,
    "start_time": "2022-12-13T09:39:40.156Z"
   },
   {
    "duration": 19,
    "start_time": "2022-12-13T09:40:04.426Z"
   },
   {
    "duration": 16,
    "start_time": "2022-12-13T09:40:31.287Z"
   },
   {
    "duration": 8,
    "start_time": "2022-12-13T09:41:35.498Z"
   },
   {
    "duration": 4,
    "start_time": "2022-12-13T09:41:36.971Z"
   },
   {
    "duration": 8,
    "start_time": "2022-12-13T09:41:37.858Z"
   },
   {
    "duration": 9,
    "start_time": "2022-12-13T09:41:38.907Z"
   },
   {
    "duration": 9,
    "start_time": "2022-12-13T09:41:52.312Z"
   },
   {
    "duration": 6,
    "start_time": "2022-12-13T09:41:52.990Z"
   },
   {
    "duration": 1351,
    "start_time": "2022-12-13T09:42:40.978Z"
   },
   {
    "duration": 41,
    "start_time": "2022-12-13T09:42:42.331Z"
   },
   {
    "duration": 17,
    "start_time": "2022-12-13T09:42:42.373Z"
   },
   {
    "duration": 14,
    "start_time": "2022-12-13T09:42:42.391Z"
   },
   {
    "duration": 4,
    "start_time": "2022-12-13T09:42:42.406Z"
   },
   {
    "duration": 11,
    "start_time": "2022-12-13T09:42:42.412Z"
   },
   {
    "duration": 7,
    "start_time": "2022-12-13T09:42:42.424Z"
   },
   {
    "duration": 7,
    "start_time": "2022-12-13T09:42:42.432Z"
   },
   {
    "duration": 8,
    "start_time": "2022-12-13T09:42:42.441Z"
   },
   {
    "duration": 28,
    "start_time": "2022-12-13T09:42:42.452Z"
   },
   {
    "duration": 24,
    "start_time": "2022-12-13T09:42:42.481Z"
   },
   {
    "duration": 10,
    "start_time": "2022-12-13T09:42:42.507Z"
   },
   {
    "duration": 11,
    "start_time": "2022-12-13T09:42:42.518Z"
   },
   {
    "duration": 7,
    "start_time": "2022-12-13T09:42:42.530Z"
   },
   {
    "duration": 467,
    "start_time": "2022-12-13T09:42:42.539Z"
   },
   {
    "duration": 99,
    "start_time": "2022-12-13T09:42:43.012Z"
   },
   {
    "duration": 942,
    "start_time": "2022-12-13T09:42:43.113Z"
   },
   {
    "duration": 48,
    "start_time": "2022-12-13T09:42:44.057Z"
   },
   {
    "duration": 49,
    "start_time": "2022-12-13T09:42:44.106Z"
   },
   {
    "duration": 8,
    "start_time": "2022-12-13T09:42:44.157Z"
   },
   {
    "duration": 10,
    "start_time": "2022-12-13T09:42:44.166Z"
   },
   {
    "duration": 4,
    "start_time": "2022-12-13T09:42:44.178Z"
   },
   {
    "duration": 10,
    "start_time": "2022-12-13T09:42:44.205Z"
   },
   {
    "duration": 10,
    "start_time": "2022-12-13T09:42:44.217Z"
   },
   {
    "duration": 386,
    "start_time": "2022-12-13T09:42:44.228Z"
   },
   {
    "duration": 1073,
    "start_time": "2022-12-13T09:42:44.705Z"
   },
   {
    "duration": 57,
    "start_time": "2022-12-13T09:42:45.780Z"
   },
   {
    "duration": 274,
    "start_time": "2022-12-13T09:42:45.840Z"
   },
   {
    "duration": 763,
    "start_time": "2022-12-13T09:42:46.205Z"
   },
   {
    "duration": 54,
    "start_time": "2022-12-13T09:42:46.970Z"
   },
   {
    "duration": 7,
    "start_time": "2022-12-13T09:42:47.026Z"
   },
   {
    "duration": 12,
    "start_time": "2022-12-13T09:42:47.034Z"
   },
   {
    "duration": 14,
    "start_time": "2022-12-13T09:42:47.047Z"
   },
   {
    "duration": 7,
    "start_time": "2022-12-13T09:42:47.063Z"
   },
   {
    "duration": 244,
    "start_time": "2022-12-13T09:42:47.071Z"
   },
   {
    "duration": 458,
    "start_time": "2022-12-13T09:42:47.406Z"
   },
   {
    "duration": 25,
    "start_time": "2022-12-13T09:42:47.866Z"
   },
   {
    "duration": 101,
    "start_time": "2022-12-13T09:56:16.212Z"
   },
   {
    "duration": 321,
    "start_time": "2022-12-13T09:59:05.544Z"
   },
   {
    "duration": 466,
    "start_time": "2022-12-13T09:59:25.795Z"
   },
   {
    "duration": 385,
    "start_time": "2022-12-13T09:59:30.787Z"
   },
   {
    "duration": 382,
    "start_time": "2022-12-13T09:59:41.345Z"
   },
   {
    "duration": 395,
    "start_time": "2022-12-13T09:59:48.444Z"
   },
   {
    "duration": 10,
    "start_time": "2022-12-13T10:02:05.077Z"
   },
   {
    "duration": 10,
    "start_time": "2022-12-13T10:02:13.859Z"
   },
   {
    "duration": 11,
    "start_time": "2022-12-13T10:02:30.778Z"
   },
   {
    "duration": 4,
    "start_time": "2022-12-13T10:02:46.010Z"
   },
   {
    "duration": 364,
    "start_time": "2022-12-13T10:02:59.806Z"
   },
   {
    "duration": 354,
    "start_time": "2022-12-13T10:03:08.512Z"
   },
   {
    "duration": 2792,
    "start_time": "2022-12-13T10:03:32.248Z"
   },
   {
    "duration": 5922,
    "start_time": "2022-12-13T10:04:23.185Z"
   },
   {
    "duration": 5652,
    "start_time": "2022-12-13T10:04:29.110Z"
   },
   {
    "duration": 262,
    "start_time": "2022-12-13T10:04:34.764Z"
   },
   {
    "duration": 6208,
    "start_time": "2022-12-13T10:05:02.505Z"
   },
   {
    "duration": 11368,
    "start_time": "2022-12-13T10:05:08.806Z"
   },
   {
    "duration": 576,
    "start_time": "2022-12-13T10:05:20.176Z"
   },
   {
    "duration": 1275,
    "start_time": "2022-12-13T10:08:30.969Z"
   },
   {
    "duration": 50,
    "start_time": "2022-12-13T10:08:32.246Z"
   },
   {
    "duration": 18,
    "start_time": "2022-12-13T10:08:32.298Z"
   },
   {
    "duration": 26,
    "start_time": "2022-12-13T10:08:32.317Z"
   },
   {
    "duration": 4,
    "start_time": "2022-12-13T10:08:32.345Z"
   },
   {
    "duration": 14,
    "start_time": "2022-12-13T10:08:32.351Z"
   },
   {
    "duration": 15,
    "start_time": "2022-12-13T10:08:32.366Z"
   },
   {
    "duration": 21,
    "start_time": "2022-12-13T10:08:32.383Z"
   },
   {
    "duration": 16,
    "start_time": "2022-12-13T10:08:32.405Z"
   },
   {
    "duration": 31,
    "start_time": "2022-12-13T10:08:32.423Z"
   },
   {
    "duration": 2,
    "start_time": "2022-12-13T10:08:32.456Z"
   },
   {
    "duration": 23,
    "start_time": "2022-12-13T10:08:32.459Z"
   },
   {
    "duration": 23,
    "start_time": "2022-12-13T10:08:32.483Z"
   },
   {
    "duration": 17,
    "start_time": "2022-12-13T10:08:32.508Z"
   },
   {
    "duration": 385,
    "start_time": "2022-12-13T10:08:32.526Z"
   },
   {
    "duration": 970,
    "start_time": "2022-12-13T10:08:32.913Z"
   },
   {
    "duration": 56,
    "start_time": "2022-12-13T10:08:33.885Z"
   },
   {
    "duration": 9,
    "start_time": "2022-12-13T10:08:33.942Z"
   },
   {
    "duration": 13,
    "start_time": "2022-12-13T10:08:33.952Z"
   },
   {
    "duration": 24,
    "start_time": "2022-12-13T10:08:33.967Z"
   },
   {
    "duration": 16,
    "start_time": "2022-12-13T10:08:33.992Z"
   },
   {
    "duration": 399,
    "start_time": "2022-12-13T10:08:34.010Z"
   },
   {
    "duration": 1177,
    "start_time": "2022-12-13T10:08:34.411Z"
   },
   {
    "duration": 72,
    "start_time": "2022-12-13T10:08:35.590Z"
   },
   {
    "duration": 346,
    "start_time": "2022-12-13T10:08:35.663Z"
   },
   {
    "duration": 906,
    "start_time": "2022-12-13T10:08:36.011Z"
   },
   {
    "duration": 48,
    "start_time": "2022-12-13T10:08:36.920Z"
   },
   {
    "duration": 6,
    "start_time": "2022-12-13T10:08:36.970Z"
   },
   {
    "duration": 4,
    "start_time": "2022-12-13T10:08:36.977Z"
   },
   {
    "duration": 28,
    "start_time": "2022-12-13T10:08:36.982Z"
   },
   {
    "duration": 6,
    "start_time": "2022-12-13T10:08:37.012Z"
   },
   {
    "duration": 389,
    "start_time": "2022-12-13T10:08:37.020Z"
   },
   {
    "duration": 593,
    "start_time": "2022-12-13T10:08:37.411Z"
   },
   {
    "duration": 27,
    "start_time": "2022-12-13T10:08:38.006Z"
   },
   {
    "duration": 6270,
    "start_time": "2022-12-13T10:08:38.035Z"
   },
   {
    "duration": 11488,
    "start_time": "2022-12-13T10:08:44.307Z"
   },
   {
    "duration": 601,
    "start_time": "2022-12-13T10:08:55.796Z"
   },
   {
    "duration": 31071,
    "start_time": "2022-12-13T10:09:34.343Z"
   },
   {
    "duration": 56431,
    "start_time": "2022-12-13T10:10:05.506Z"
   },
   {
    "duration": 2929,
    "start_time": "2022-12-13T10:11:01.938Z"
   },
   {
    "duration": 5,
    "start_time": "2022-12-13T10:15:53.973Z"
   },
   {
    "duration": 33245,
    "start_time": "2022-12-13T10:20:06.060Z"
   },
   {
    "duration": 7,
    "start_time": "2022-12-13T10:20:52.772Z"
   },
   {
    "duration": 34266,
    "start_time": "2022-12-13T10:23:46.141Z"
   },
   {
    "duration": 97,
    "start_time": "2022-12-13T10:24:20.412Z"
   },
   {
    "duration": 1446,
    "start_time": "2022-12-13T10:25:24.305Z"
   },
   {
    "duration": 41,
    "start_time": "2022-12-13T10:25:25.753Z"
   },
   {
    "duration": 34,
    "start_time": "2022-12-13T10:25:25.796Z"
   },
   {
    "duration": 13,
    "start_time": "2022-12-13T10:25:25.832Z"
   },
   {
    "duration": 9,
    "start_time": "2022-12-13T10:25:25.847Z"
   },
   {
    "duration": 15,
    "start_time": "2022-12-13T10:25:25.857Z"
   },
   {
    "duration": 6,
    "start_time": "2022-12-13T10:25:25.873Z"
   },
   {
    "duration": 6,
    "start_time": "2022-12-13T10:25:25.881Z"
   },
   {
    "duration": 9,
    "start_time": "2022-12-13T10:25:25.889Z"
   },
   {
    "duration": 29,
    "start_time": "2022-12-13T10:25:25.900Z"
   },
   {
    "duration": 2,
    "start_time": "2022-12-13T10:25:25.931Z"
   },
   {
    "duration": 11,
    "start_time": "2022-12-13T10:25:25.935Z"
   },
   {
    "duration": 10,
    "start_time": "2022-12-13T10:25:25.947Z"
   },
   {
    "duration": 7,
    "start_time": "2022-12-13T10:25:25.960Z"
   },
   {
    "duration": 537,
    "start_time": "2022-12-13T10:25:25.969Z"
   },
   {
    "duration": 890,
    "start_time": "2022-12-13T10:25:26.509Z"
   },
   {
    "duration": 61,
    "start_time": "2022-12-13T10:25:27.400Z"
   },
   {
    "duration": 10,
    "start_time": "2022-12-13T10:25:27.464Z"
   },
   {
    "duration": 10,
    "start_time": "2022-12-13T10:25:27.476Z"
   },
   {
    "duration": 41,
    "start_time": "2022-12-13T10:25:27.488Z"
   },
   {
    "duration": 6,
    "start_time": "2022-12-13T10:25:27.530Z"
   },
   {
    "duration": 373,
    "start_time": "2022-12-13T10:25:27.538Z"
   },
   {
    "duration": 1250,
    "start_time": "2022-12-13T10:25:27.914Z"
   },
   {
    "duration": 64,
    "start_time": "2022-12-13T10:25:29.166Z"
   },
   {
    "duration": 475,
    "start_time": "2022-12-13T10:25:29.231Z"
   },
   {
    "duration": 833,
    "start_time": "2022-12-13T10:25:29.708Z"
   },
   {
    "duration": 51,
    "start_time": "2022-12-13T10:25:30.542Z"
   },
   {
    "duration": 15,
    "start_time": "2022-12-13T10:25:30.594Z"
   },
   {
    "duration": 36,
    "start_time": "2022-12-13T10:25:30.610Z"
   },
   {
    "duration": 43,
    "start_time": "2022-12-13T10:25:30.648Z"
   },
   {
    "duration": 17,
    "start_time": "2022-12-13T10:25:30.692Z"
   },
   {
    "duration": 296,
    "start_time": "2022-12-13T10:25:30.711Z"
   },
   {
    "duration": 504,
    "start_time": "2022-12-13T10:25:31.009Z"
   },
   {
    "duration": 29,
    "start_time": "2022-12-13T10:25:31.514Z"
   },
   {
    "duration": 4,
    "start_time": "2022-12-13T10:25:31.545Z"
   },
   {
    "duration": 33655,
    "start_time": "2022-12-13T10:25:31.551Z"
   },
   {
    "duration": 56845,
    "start_time": "2022-12-13T10:26:05.209Z"
   },
   {
    "duration": 3039,
    "start_time": "2022-12-13T10:27:02.056Z"
   },
   {
    "duration": 7,
    "start_time": "2022-12-13T10:27:07.836Z"
   },
   {
    "duration": 1347,
    "start_time": "2022-12-13T10:33:40.830Z"
   },
   {
    "duration": 39,
    "start_time": "2022-12-13T10:33:42.179Z"
   },
   {
    "duration": 17,
    "start_time": "2022-12-13T10:33:42.219Z"
   },
   {
    "duration": 14,
    "start_time": "2022-12-13T10:33:42.238Z"
   },
   {
    "duration": 4,
    "start_time": "2022-12-13T10:33:42.254Z"
   },
   {
    "duration": 6,
    "start_time": "2022-12-13T10:33:42.259Z"
   },
   {
    "duration": 47,
    "start_time": "2022-12-13T10:33:42.266Z"
   },
   {
    "duration": 5,
    "start_time": "2022-12-13T10:33:42.315Z"
   },
   {
    "duration": 9,
    "start_time": "2022-12-13T10:33:42.322Z"
   },
   {
    "duration": 33,
    "start_time": "2022-12-13T10:33:42.332Z"
   },
   {
    "duration": 2,
    "start_time": "2022-12-13T10:33:42.367Z"
   },
   {
    "duration": 13,
    "start_time": "2022-12-13T10:33:42.371Z"
   },
   {
    "duration": 11,
    "start_time": "2022-12-13T10:33:42.385Z"
   },
   {
    "duration": 6,
    "start_time": "2022-12-13T10:33:42.406Z"
   },
   {
    "duration": 493,
    "start_time": "2022-12-13T10:33:42.413Z"
   },
   {
    "duration": 870,
    "start_time": "2022-12-13T10:33:42.908Z"
   },
   {
    "duration": 57,
    "start_time": "2022-12-13T10:33:43.779Z"
   },
   {
    "duration": 7,
    "start_time": "2022-12-13T10:33:43.837Z"
   },
   {
    "duration": 4,
    "start_time": "2022-12-13T10:33:43.845Z"
   },
   {
    "duration": 13,
    "start_time": "2022-12-13T10:33:43.850Z"
   },
   {
    "duration": 6,
    "start_time": "2022-12-13T10:33:43.864Z"
   },
   {
    "duration": 5,
    "start_time": "2022-12-13T10:33:43.872Z"
   },
   {
    "duration": 713,
    "start_time": "2022-12-13T10:33:43.879Z"
   },
   {
    "duration": 0,
    "start_time": "2022-12-13T10:33:44.594Z"
   },
   {
    "duration": 0,
    "start_time": "2022-12-13T10:33:44.595Z"
   },
   {
    "duration": 0,
    "start_time": "2022-12-13T10:33:44.604Z"
   },
   {
    "duration": 0,
    "start_time": "2022-12-13T10:33:44.605Z"
   },
   {
    "duration": 0,
    "start_time": "2022-12-13T10:33:44.606Z"
   },
   {
    "duration": 0,
    "start_time": "2022-12-13T10:33:44.607Z"
   },
   {
    "duration": 0,
    "start_time": "2022-12-13T10:33:44.608Z"
   },
   {
    "duration": 0,
    "start_time": "2022-12-13T10:33:44.609Z"
   },
   {
    "duration": 0,
    "start_time": "2022-12-13T10:33:44.610Z"
   },
   {
    "duration": 0,
    "start_time": "2022-12-13T10:33:44.611Z"
   },
   {
    "duration": 0,
    "start_time": "2022-12-13T10:33:44.612Z"
   },
   {
    "duration": 0,
    "start_time": "2022-12-13T10:33:44.613Z"
   },
   {
    "duration": 0,
    "start_time": "2022-12-13T10:33:44.614Z"
   },
   {
    "duration": 0,
    "start_time": "2022-12-13T10:33:44.615Z"
   },
   {
    "duration": 0,
    "start_time": "2022-12-13T10:33:44.616Z"
   },
   {
    "duration": 0,
    "start_time": "2022-12-13T10:33:44.617Z"
   },
   {
    "duration": 0,
    "start_time": "2022-12-13T10:33:44.618Z"
   },
   {
    "duration": 0,
    "start_time": "2022-12-13T10:33:44.619Z"
   },
   {
    "duration": 1360,
    "start_time": "2022-12-13T10:36:16.034Z"
   },
   {
    "duration": 53,
    "start_time": "2022-12-13T10:36:17.397Z"
   },
   {
    "duration": 20,
    "start_time": "2022-12-13T10:36:17.452Z"
   },
   {
    "duration": 16,
    "start_time": "2022-12-13T10:36:17.474Z"
   },
   {
    "duration": 12,
    "start_time": "2022-12-13T10:36:17.493Z"
   },
   {
    "duration": 9,
    "start_time": "2022-12-13T10:36:17.508Z"
   },
   {
    "duration": 35,
    "start_time": "2022-12-13T10:36:17.520Z"
   },
   {
    "duration": 19,
    "start_time": "2022-12-13T10:36:17.557Z"
   },
   {
    "duration": 18,
    "start_time": "2022-12-13T10:36:17.579Z"
   },
   {
    "duration": 53,
    "start_time": "2022-12-13T10:36:17.598Z"
   },
   {
    "duration": 22,
    "start_time": "2022-12-13T10:36:17.653Z"
   },
   {
    "duration": 28,
    "start_time": "2022-12-13T10:36:17.677Z"
   },
   {
    "duration": 39,
    "start_time": "2022-12-13T10:36:17.707Z"
   },
   {
    "duration": 14,
    "start_time": "2022-12-13T10:36:17.750Z"
   },
   {
    "duration": 645,
    "start_time": "2022-12-13T10:36:17.766Z"
   },
   {
    "duration": 965,
    "start_time": "2022-12-13T10:36:18.424Z"
   },
   {
    "duration": 59,
    "start_time": "2022-12-13T10:36:19.390Z"
   },
   {
    "duration": 7,
    "start_time": "2022-12-13T10:36:19.450Z"
   },
   {
    "duration": 21,
    "start_time": "2022-12-13T10:36:19.459Z"
   },
   {
    "duration": 54,
    "start_time": "2022-12-13T10:36:19.481Z"
   },
   {
    "duration": 29,
    "start_time": "2022-12-13T10:36:19.536Z"
   },
   {
    "duration": 31,
    "start_time": "2022-12-13T10:36:19.567Z"
   },
   {
    "duration": 610,
    "start_time": "2022-12-13T10:36:19.600Z"
   },
   {
    "duration": 1230,
    "start_time": "2022-12-13T10:36:20.212Z"
   },
   {
    "duration": 71,
    "start_time": "2022-12-13T10:36:21.444Z"
   },
   {
    "duration": 4,
    "start_time": "2022-12-13T10:36:21.517Z"
   },
   {
    "duration": 398,
    "start_time": "2022-12-13T10:36:21.523Z"
   },
   {
    "duration": 919,
    "start_time": "2022-12-13T10:36:21.926Z"
   },
   {
    "duration": 60,
    "start_time": "2022-12-13T10:36:22.847Z"
   },
   {
    "duration": 10,
    "start_time": "2022-12-13T10:36:22.909Z"
   },
   {
    "duration": 8,
    "start_time": "2022-12-13T10:36:22.921Z"
   },
   {
    "duration": 12,
    "start_time": "2022-12-13T10:36:22.931Z"
   },
   {
    "duration": 6,
    "start_time": "2022-12-13T10:36:22.944Z"
   },
   {
    "duration": 4,
    "start_time": "2022-12-13T10:36:22.952Z"
   },
   {
    "duration": 451,
    "start_time": "2022-12-13T10:36:22.957Z"
   },
   {
    "duration": 545,
    "start_time": "2022-12-13T10:36:23.412Z"
   },
   {
    "duration": 36,
    "start_time": "2022-12-13T10:36:23.959Z"
   },
   {
    "duration": 6,
    "start_time": "2022-12-13T10:36:24.006Z"
   },
   {
    "duration": 34989,
    "start_time": "2022-12-13T10:36:24.018Z"
   },
   {
    "duration": 56748,
    "start_time": "2022-12-13T10:36:59.010Z"
   },
   {
    "duration": 2996,
    "start_time": "2022-12-13T10:37:55.762Z"
   },
   {
    "duration": 127,
    "start_time": "2022-12-13T10:38:12.296Z"
   },
   {
    "duration": 22,
    "start_time": "2022-12-13T10:38:40.251Z"
   },
   {
    "duration": 1031,
    "start_time": "2022-12-13T10:41:52.020Z"
   },
   {
    "duration": 9,
    "start_time": "2022-12-13T10:43:42.627Z"
   },
   {
    "duration": 32564,
    "start_time": "2022-12-13T10:44:46.448Z"
   },
   {
    "duration": 717,
    "start_time": "2022-12-13T10:46:49.882Z"
   },
   {
    "duration": 3,
    "start_time": "2022-12-13T10:46:51.557Z"
   },
   {
    "duration": 716,
    "start_time": "2022-12-13T10:47:23.834Z"
   },
   {
    "duration": 42,
    "start_time": "2022-12-13T10:47:26.837Z"
   },
   {
    "duration": 72,
    "start_time": "2022-12-13T10:47:32.766Z"
   },
   {
    "duration": 738,
    "start_time": "2022-12-13T10:48:16.920Z"
   },
   {
    "duration": 40,
    "start_time": "2022-12-13T10:48:18.354Z"
   },
   {
    "duration": 755,
    "start_time": "2022-12-13T10:49:06.263Z"
   },
   {
    "duration": 789,
    "start_time": "2022-12-13T10:49:43.073Z"
   },
   {
    "duration": 5,
    "start_time": "2022-12-13T10:50:50.172Z"
   },
   {
    "duration": 6,
    "start_time": "2022-12-13T10:57:01.335Z"
   },
   {
    "duration": 1357,
    "start_time": "2022-12-13T11:04:18.134Z"
   },
   {
    "duration": 49,
    "start_time": "2022-12-13T11:04:19.494Z"
   },
   {
    "duration": 17,
    "start_time": "2022-12-13T11:04:19.545Z"
   },
   {
    "duration": 12,
    "start_time": "2022-12-13T11:04:19.564Z"
   },
   {
    "duration": 4,
    "start_time": "2022-12-13T11:04:19.577Z"
   },
   {
    "duration": 9,
    "start_time": "2022-12-13T11:04:19.583Z"
   },
   {
    "duration": 8,
    "start_time": "2022-12-13T11:04:19.594Z"
   },
   {
    "duration": 6,
    "start_time": "2022-12-13T11:04:19.603Z"
   },
   {
    "duration": 7,
    "start_time": "2022-12-13T11:04:19.611Z"
   },
   {
    "duration": 33,
    "start_time": "2022-12-13T11:04:19.621Z"
   },
   {
    "duration": 3,
    "start_time": "2022-12-13T11:04:19.655Z"
   },
   {
    "duration": 19,
    "start_time": "2022-12-13T11:04:19.660Z"
   },
   {
    "duration": 31,
    "start_time": "2022-12-13T11:04:19.680Z"
   },
   {
    "duration": 13,
    "start_time": "2022-12-13T11:04:19.713Z"
   },
   {
    "duration": 10,
    "start_time": "2022-12-13T11:04:19.727Z"
   },
   {
    "duration": 574,
    "start_time": "2022-12-13T11:04:19.739Z"
   },
   {
    "duration": 878,
    "start_time": "2022-12-13T11:04:20.315Z"
   },
   {
    "duration": 58,
    "start_time": "2022-12-13T11:04:21.195Z"
   },
   {
    "duration": 6,
    "start_time": "2022-12-13T11:04:21.254Z"
   },
   {
    "duration": 10,
    "start_time": "2022-12-13T11:04:21.262Z"
   },
   {
    "duration": 4,
    "start_time": "2022-12-13T11:04:21.273Z"
   },
   {
    "duration": 30,
    "start_time": "2022-12-13T11:04:21.278Z"
   },
   {
    "duration": 7,
    "start_time": "2022-12-13T11:04:21.310Z"
   },
   {
    "duration": 5,
    "start_time": "2022-12-13T11:04:21.318Z"
   },
   {
    "duration": 584,
    "start_time": "2022-12-13T11:04:21.325Z"
   },
   {
    "duration": 1135,
    "start_time": "2022-12-13T11:04:21.912Z"
   },
   {
    "duration": 73,
    "start_time": "2022-12-13T11:04:23.048Z"
   },
   {
    "duration": 4,
    "start_time": "2022-12-13T11:04:23.124Z"
   },
   {
    "duration": 476,
    "start_time": "2022-12-13T11:04:23.129Z"
   },
   {
    "duration": 856,
    "start_time": "2022-12-13T11:04:23.608Z"
   },
   {
    "duration": 58,
    "start_time": "2022-12-13T11:04:24.465Z"
   },
   {
    "duration": 6,
    "start_time": "2022-12-13T11:04:24.524Z"
   },
   {
    "duration": 9,
    "start_time": "2022-12-13T11:04:24.531Z"
   },
   {
    "duration": 18,
    "start_time": "2022-12-13T11:04:24.541Z"
   },
   {
    "duration": 5,
    "start_time": "2022-12-13T11:04:24.561Z"
   },
   {
    "duration": 6,
    "start_time": "2022-12-13T11:04:24.568Z"
   },
   {
    "duration": 431,
    "start_time": "2022-12-13T11:04:24.575Z"
   },
   {
    "duration": 518,
    "start_time": "2022-12-13T11:04:25.009Z"
   },
   {
    "duration": 31,
    "start_time": "2022-12-13T11:04:25.529Z"
   },
   {
    "duration": 4,
    "start_time": "2022-12-13T11:04:25.562Z"
   },
   {
    "duration": 36938,
    "start_time": "2022-12-13T11:04:25.567Z"
   },
   {
    "duration": 58397,
    "start_time": "2022-12-13T11:05:02.508Z"
   },
   {
    "duration": 2879,
    "start_time": "2022-12-13T11:06:00.907Z"
   },
   {
    "duration": 38,
    "start_time": "2022-12-13T11:06:03.788Z"
   },
   {
    "duration": 824,
    "start_time": "2022-12-13T11:06:03.828Z"
   },
   {
    "duration": 102,
    "start_time": "2022-12-13T12:05:52.193Z"
   },
   {
    "duration": 5,
    "start_time": "2022-12-13T12:06:00.573Z"
   },
   {
    "duration": 11,
    "start_time": "2022-12-13T12:06:10.796Z"
   },
   {
    "duration": 8,
    "start_time": "2022-12-13T12:06:17.894Z"
   },
   {
    "duration": 11,
    "start_time": "2022-12-13T12:06:48.227Z"
   },
   {
    "duration": 1347,
    "start_time": "2022-12-13T12:09:27.752Z"
   },
   {
    "duration": 42,
    "start_time": "2022-12-13T12:09:29.101Z"
   },
   {
    "duration": 18,
    "start_time": "2022-12-13T12:09:29.145Z"
   },
   {
    "duration": 14,
    "start_time": "2022-12-13T12:09:29.165Z"
   },
   {
    "duration": 3,
    "start_time": "2022-12-13T12:09:29.181Z"
   },
   {
    "duration": 9,
    "start_time": "2022-12-13T12:09:29.186Z"
   },
   {
    "duration": 9,
    "start_time": "2022-12-13T12:09:29.196Z"
   },
   {
    "duration": 7,
    "start_time": "2022-12-13T12:09:29.206Z"
   },
   {
    "duration": 69,
    "start_time": "2022-12-13T12:09:29.214Z"
   },
   {
    "duration": 0,
    "start_time": "2022-12-13T12:09:29.286Z"
   },
   {
    "duration": 0,
    "start_time": "2022-12-13T12:09:29.288Z"
   },
   {
    "duration": 0,
    "start_time": "2022-12-13T12:09:29.290Z"
   },
   {
    "duration": 0,
    "start_time": "2022-12-13T12:09:29.291Z"
   },
   {
    "duration": 0,
    "start_time": "2022-12-13T12:09:29.292Z"
   },
   {
    "duration": 0,
    "start_time": "2022-12-13T12:09:29.293Z"
   },
   {
    "duration": 0,
    "start_time": "2022-12-13T12:09:29.294Z"
   },
   {
    "duration": 0,
    "start_time": "2022-12-13T12:09:29.295Z"
   },
   {
    "duration": 0,
    "start_time": "2022-12-13T12:09:29.296Z"
   },
   {
    "duration": 0,
    "start_time": "2022-12-13T12:09:29.297Z"
   },
   {
    "duration": 0,
    "start_time": "2022-12-13T12:09:29.298Z"
   },
   {
    "duration": 0,
    "start_time": "2022-12-13T12:09:29.299Z"
   },
   {
    "duration": 0,
    "start_time": "2022-12-13T12:09:29.300Z"
   },
   {
    "duration": 0,
    "start_time": "2022-12-13T12:09:29.301Z"
   },
   {
    "duration": 0,
    "start_time": "2022-12-13T12:09:29.302Z"
   },
   {
    "duration": 0,
    "start_time": "2022-12-13T12:09:29.303Z"
   },
   {
    "duration": 0,
    "start_time": "2022-12-13T12:09:29.304Z"
   },
   {
    "duration": 0,
    "start_time": "2022-12-13T12:09:29.305Z"
   },
   {
    "duration": 0,
    "start_time": "2022-12-13T12:09:29.306Z"
   },
   {
    "duration": 0,
    "start_time": "2022-12-13T12:09:29.307Z"
   },
   {
    "duration": 0,
    "start_time": "2022-12-13T12:09:29.308Z"
   },
   {
    "duration": 0,
    "start_time": "2022-12-13T12:09:29.309Z"
   },
   {
    "duration": 0,
    "start_time": "2022-12-13T12:09:29.311Z"
   },
   {
    "duration": 1,
    "start_time": "2022-12-13T12:09:29.311Z"
   },
   {
    "duration": 0,
    "start_time": "2022-12-13T12:09:29.313Z"
   },
   {
    "duration": 0,
    "start_time": "2022-12-13T12:09:29.313Z"
   },
   {
    "duration": 0,
    "start_time": "2022-12-13T12:09:29.314Z"
   },
   {
    "duration": 0,
    "start_time": "2022-12-13T12:09:29.315Z"
   },
   {
    "duration": 0,
    "start_time": "2022-12-13T12:09:29.316Z"
   },
   {
    "duration": 0,
    "start_time": "2022-12-13T12:09:29.317Z"
   },
   {
    "duration": 0,
    "start_time": "2022-12-13T12:09:29.317Z"
   },
   {
    "duration": 0,
    "start_time": "2022-12-13T12:09:29.318Z"
   },
   {
    "duration": 0,
    "start_time": "2022-12-13T12:09:29.319Z"
   },
   {
    "duration": 0,
    "start_time": "2022-12-13T12:09:29.320Z"
   },
   {
    "duration": 0,
    "start_time": "2022-12-13T12:09:29.321Z"
   },
   {
    "duration": 0,
    "start_time": "2022-12-13T12:09:29.321Z"
   },
   {
    "duration": 0,
    "start_time": "2022-12-13T12:09:29.322Z"
   },
   {
    "duration": 8,
    "start_time": "2022-12-13T12:13:14.699Z"
   },
   {
    "duration": 49,
    "start_time": "2022-12-13T12:13:14.708Z"
   },
   {
    "duration": 18,
    "start_time": "2022-12-13T12:13:14.759Z"
   },
   {
    "duration": 19,
    "start_time": "2022-12-13T12:13:14.779Z"
   },
   {
    "duration": 4,
    "start_time": "2022-12-13T12:13:14.800Z"
   },
   {
    "duration": 16,
    "start_time": "2022-12-13T12:13:14.806Z"
   },
   {
    "duration": 7,
    "start_time": "2022-12-13T12:13:14.824Z"
   },
   {
    "duration": 5,
    "start_time": "2022-12-13T12:13:14.833Z"
   },
   {
    "duration": 18,
    "start_time": "2022-12-13T12:13:14.840Z"
   },
   {
    "duration": 28,
    "start_time": "2022-12-13T12:13:14.860Z"
   },
   {
    "duration": 2,
    "start_time": "2022-12-13T12:13:14.889Z"
   },
   {
    "duration": 8,
    "start_time": "2022-12-13T12:13:14.905Z"
   },
   {
    "duration": 13,
    "start_time": "2022-12-13T12:13:14.915Z"
   },
   {
    "duration": 10,
    "start_time": "2022-12-13T12:13:14.931Z"
   },
   {
    "duration": 7,
    "start_time": "2022-12-13T12:13:14.942Z"
   },
   {
    "duration": 655,
    "start_time": "2022-12-13T12:13:14.950Z"
   },
   {
    "duration": 873,
    "start_time": "2022-12-13T12:13:15.608Z"
   },
   {
    "duration": 61,
    "start_time": "2022-12-13T12:13:16.482Z"
   },
   {
    "duration": 6,
    "start_time": "2022-12-13T12:13:16.545Z"
   },
   {
    "duration": 8,
    "start_time": "2022-12-13T12:13:16.553Z"
   },
   {
    "duration": 4,
    "start_time": "2022-12-13T12:13:16.562Z"
   },
   {
    "duration": 16,
    "start_time": "2022-12-13T12:13:16.568Z"
   },
   {
    "duration": 7,
    "start_time": "2022-12-13T12:13:16.604Z"
   },
   {
    "duration": 4,
    "start_time": "2022-12-13T12:13:16.613Z"
   },
   {
    "duration": 585,
    "start_time": "2022-12-13T12:13:16.619Z"
   },
   {
    "duration": 1117,
    "start_time": "2022-12-13T12:13:17.206Z"
   },
   {
    "duration": 63,
    "start_time": "2022-12-13T12:13:18.324Z"
   },
   {
    "duration": 4,
    "start_time": "2022-12-13T12:13:18.404Z"
   },
   {
    "duration": 498,
    "start_time": "2022-12-13T12:13:18.410Z"
   },
   {
    "duration": 858,
    "start_time": "2022-12-13T12:13:18.910Z"
   },
   {
    "duration": 63,
    "start_time": "2022-12-13T12:13:19.770Z"
   },
   {
    "duration": 7,
    "start_time": "2022-12-13T12:13:19.835Z"
   },
   {
    "duration": 6,
    "start_time": "2022-12-13T12:13:19.843Z"
   },
   {
    "duration": 12,
    "start_time": "2022-12-13T12:13:19.851Z"
   },
   {
    "duration": 7,
    "start_time": "2022-12-13T12:13:19.865Z"
   },
   {
    "duration": 31,
    "start_time": "2022-12-13T12:13:19.873Z"
   },
   {
    "duration": 400,
    "start_time": "2022-12-13T12:13:19.906Z"
   },
   {
    "duration": 512,
    "start_time": "2022-12-13T12:13:20.310Z"
   },
   {
    "duration": 31,
    "start_time": "2022-12-13T12:13:20.824Z"
   },
   {
    "duration": 4,
    "start_time": "2022-12-13T12:13:20.856Z"
   },
   {
    "duration": 30853,
    "start_time": "2022-12-13T12:13:20.861Z"
   },
   {
    "duration": 56300,
    "start_time": "2022-12-13T12:13:51.805Z"
   },
   {
    "duration": 2947,
    "start_time": "2022-12-13T12:14:48.107Z"
   },
   {
    "duration": 23,
    "start_time": "2022-12-13T12:14:51.056Z"
   },
   {
    "duration": 763,
    "start_time": "2022-12-13T12:14:51.081Z"
   },
   {
    "duration": 775,
    "start_time": "2022-12-13T12:32:59.892Z"
   },
   {
    "duration": 0,
    "start_time": "2022-12-13T12:39:13.084Z"
   },
   {
    "duration": 0,
    "start_time": "2022-12-13T12:39:13.085Z"
   },
   {
    "duration": 1399,
    "start_time": "2022-12-13T12:39:18.774Z"
   },
   {
    "duration": 41,
    "start_time": "2022-12-13T12:39:20.175Z"
   },
   {
    "duration": 18,
    "start_time": "2022-12-13T12:39:20.218Z"
   },
   {
    "duration": 14,
    "start_time": "2022-12-13T12:39:20.238Z"
   },
   {
    "duration": 4,
    "start_time": "2022-12-13T12:39:20.254Z"
   },
   {
    "duration": 11,
    "start_time": "2022-12-13T12:39:20.259Z"
   },
   {
    "duration": 5,
    "start_time": "2022-12-13T12:39:20.271Z"
   },
   {
    "duration": 27,
    "start_time": "2022-12-13T12:39:20.278Z"
   },
   {
    "duration": 10,
    "start_time": "2022-12-13T12:39:20.306Z"
   },
   {
    "duration": 29,
    "start_time": "2022-12-13T12:39:20.318Z"
   },
   {
    "duration": 3,
    "start_time": "2022-12-13T12:39:20.348Z"
   },
   {
    "duration": 12,
    "start_time": "2022-12-13T12:39:20.352Z"
   },
   {
    "duration": 13,
    "start_time": "2022-12-13T12:39:20.366Z"
   },
   {
    "duration": 27,
    "start_time": "2022-12-13T12:39:20.381Z"
   },
   {
    "duration": 6,
    "start_time": "2022-12-13T12:39:20.410Z"
   },
   {
    "duration": 1087,
    "start_time": "2022-12-13T12:39:20.418Z"
   },
   {
    "duration": 790,
    "start_time": "2022-12-13T12:39:21.506Z"
   },
   {
    "duration": 70,
    "start_time": "2022-12-13T12:39:22.297Z"
   },
   {
    "duration": 6,
    "start_time": "2022-12-13T12:39:22.369Z"
   },
   {
    "duration": 7,
    "start_time": "2022-12-13T12:39:22.376Z"
   },
   {
    "duration": 21,
    "start_time": "2022-12-13T12:39:22.385Z"
   },
   {
    "duration": 18,
    "start_time": "2022-12-13T12:39:22.408Z"
   },
   {
    "duration": 7,
    "start_time": "2022-12-13T12:39:22.429Z"
   },
   {
    "duration": 4,
    "start_time": "2022-12-13T12:39:22.438Z"
   },
   {
    "duration": 1147,
    "start_time": "2022-12-13T12:39:22.444Z"
   },
   {
    "duration": 0,
    "start_time": "2022-12-13T12:39:23.593Z"
   },
   {
    "duration": 0,
    "start_time": "2022-12-13T12:39:23.594Z"
   },
   {
    "duration": 0,
    "start_time": "2022-12-13T12:39:23.595Z"
   },
   {
    "duration": 0,
    "start_time": "2022-12-13T12:39:23.596Z"
   },
   {
    "duration": 0,
    "start_time": "2022-12-13T12:39:23.597Z"
   },
   {
    "duration": 0,
    "start_time": "2022-12-13T12:39:23.598Z"
   },
   {
    "duration": 0,
    "start_time": "2022-12-13T12:39:23.599Z"
   },
   {
    "duration": 0,
    "start_time": "2022-12-13T12:39:23.600Z"
   },
   {
    "duration": 0,
    "start_time": "2022-12-13T12:39:23.601Z"
   },
   {
    "duration": 0,
    "start_time": "2022-12-13T12:39:23.602Z"
   },
   {
    "duration": 0,
    "start_time": "2022-12-13T12:39:23.603Z"
   },
   {
    "duration": 0,
    "start_time": "2022-12-13T12:39:23.604Z"
   },
   {
    "duration": 0,
    "start_time": "2022-12-13T12:39:23.604Z"
   },
   {
    "duration": 0,
    "start_time": "2022-12-13T12:39:23.605Z"
   },
   {
    "duration": 0,
    "start_time": "2022-12-13T12:39:23.607Z"
   },
   {
    "duration": 0,
    "start_time": "2022-12-13T12:39:23.607Z"
   },
   {
    "duration": 0,
    "start_time": "2022-12-13T12:39:23.609Z"
   },
   {
    "duration": 0,
    "start_time": "2022-12-13T12:39:23.609Z"
   },
   {
    "duration": 0,
    "start_time": "2022-12-13T12:39:23.610Z"
   },
   {
    "duration": 0,
    "start_time": "2022-12-13T12:39:23.611Z"
   },
   {
    "duration": 1321,
    "start_time": "2022-12-13T12:39:26.955Z"
   },
   {
    "duration": 41,
    "start_time": "2022-12-13T12:39:28.278Z"
   },
   {
    "duration": 22,
    "start_time": "2022-12-13T12:39:28.321Z"
   },
   {
    "duration": 14,
    "start_time": "2022-12-13T12:39:28.345Z"
   },
   {
    "duration": 4,
    "start_time": "2022-12-13T12:39:28.361Z"
   },
   {
    "duration": 6,
    "start_time": "2022-12-13T12:39:28.367Z"
   },
   {
    "duration": 5,
    "start_time": "2022-12-13T12:39:28.375Z"
   },
   {
    "duration": 26,
    "start_time": "2022-12-13T12:39:28.382Z"
   },
   {
    "duration": 18,
    "start_time": "2022-12-13T12:39:28.409Z"
   },
   {
    "duration": 30,
    "start_time": "2022-12-13T12:39:28.429Z"
   },
   {
    "duration": 2,
    "start_time": "2022-12-13T12:39:28.461Z"
   },
   {
    "duration": 15,
    "start_time": "2022-12-13T12:39:28.465Z"
   },
   {
    "duration": 27,
    "start_time": "2022-12-13T12:39:28.482Z"
   },
   {
    "duration": 7,
    "start_time": "2022-12-13T12:39:28.512Z"
   },
   {
    "duration": 7,
    "start_time": "2022-12-13T12:39:28.520Z"
   },
   {
    "duration": 479,
    "start_time": "2022-12-13T12:39:28.528Z"
   },
   {
    "duration": 889,
    "start_time": "2022-12-13T12:39:29.009Z"
   },
   {
    "duration": 52,
    "start_time": "2022-12-13T12:39:29.905Z"
   },
   {
    "duration": 6,
    "start_time": "2022-12-13T12:39:29.958Z"
   },
   {
    "duration": 14,
    "start_time": "2022-12-13T12:39:29.965Z"
   },
   {
    "duration": 16,
    "start_time": "2022-12-13T12:39:29.980Z"
   },
   {
    "duration": 23,
    "start_time": "2022-12-13T12:39:29.998Z"
   },
   {
    "duration": 10,
    "start_time": "2022-12-13T12:39:30.023Z"
   },
   {
    "duration": 17,
    "start_time": "2022-12-13T12:39:30.035Z"
   },
   {
    "duration": 452,
    "start_time": "2022-12-13T12:39:30.054Z"
   },
   {
    "duration": 1131,
    "start_time": "2022-12-13T12:39:30.508Z"
   },
   {
    "duration": 77,
    "start_time": "2022-12-13T12:39:31.640Z"
   },
   {
    "duration": 5,
    "start_time": "2022-12-13T12:39:31.719Z"
   },
   {
    "duration": 487,
    "start_time": "2022-12-13T12:39:31.726Z"
   },
   {
    "duration": 768,
    "start_time": "2022-12-13T12:39:32.305Z"
   },
   {
    "duration": 59,
    "start_time": "2022-12-13T12:39:33.075Z"
   },
   {
    "duration": 6,
    "start_time": "2022-12-13T12:39:33.136Z"
   },
   {
    "duration": 4,
    "start_time": "2022-12-13T12:39:33.143Z"
   },
   {
    "duration": 10,
    "start_time": "2022-12-13T12:39:33.149Z"
   },
   {
    "duration": 6,
    "start_time": "2022-12-13T12:39:33.160Z"
   },
   {
    "duration": 7,
    "start_time": "2022-12-13T12:39:33.167Z"
   },
   {
    "duration": 340,
    "start_time": "2022-12-13T12:39:33.175Z"
   },
   {
    "duration": 629,
    "start_time": "2022-12-13T12:39:33.516Z"
   },
   {
    "duration": 37,
    "start_time": "2022-12-13T12:39:34.146Z"
   },
   {
    "duration": 4,
    "start_time": "2022-12-13T12:39:34.184Z"
   },
   {
    "duration": 31602,
    "start_time": "2022-12-13T12:39:34.204Z"
   },
   {
    "duration": 56102,
    "start_time": "2022-12-13T12:40:05.809Z"
   },
   {
    "duration": 2922,
    "start_time": "2022-12-13T12:41:01.913Z"
   },
   {
    "duration": 23,
    "start_time": "2022-12-13T12:41:04.837Z"
   },
   {
    "duration": 63149,
    "start_time": "2022-12-13T12:41:04.861Z"
   },
   {
    "duration": 0,
    "start_time": "2022-12-13T12:42:08.011Z"
   },
   {
    "duration": 0,
    "start_time": "2022-12-13T12:42:08.013Z"
   },
   {
    "duration": 1400,
    "start_time": "2022-12-13T12:43:09.210Z"
   },
   {
    "duration": 45,
    "start_time": "2022-12-13T12:43:10.613Z"
   },
   {
    "duration": 27,
    "start_time": "2022-12-13T12:43:10.660Z"
   },
   {
    "duration": 29,
    "start_time": "2022-12-13T12:43:10.689Z"
   },
   {
    "duration": 19,
    "start_time": "2022-12-13T12:43:10.720Z"
   },
   {
    "duration": 40,
    "start_time": "2022-12-13T12:43:10.741Z"
   },
   {
    "duration": 19,
    "start_time": "2022-12-13T12:43:10.783Z"
   },
   {
    "duration": 22,
    "start_time": "2022-12-13T12:43:10.804Z"
   },
   {
    "duration": 51,
    "start_time": "2022-12-13T12:43:10.829Z"
   },
   {
    "duration": 34,
    "start_time": "2022-12-13T12:43:10.883Z"
   },
   {
    "duration": 3,
    "start_time": "2022-12-13T12:43:10.918Z"
   },
   {
    "duration": 58,
    "start_time": "2022-12-13T12:43:10.922Z"
   },
   {
    "duration": 17,
    "start_time": "2022-12-13T12:43:10.982Z"
   },
   {
    "duration": 37,
    "start_time": "2022-12-13T12:43:11.001Z"
   },
   {
    "duration": 22,
    "start_time": "2022-12-13T12:43:11.040Z"
   },
   {
    "duration": 545,
    "start_time": "2022-12-13T12:43:11.064Z"
   },
   {
    "duration": 873,
    "start_time": "2022-12-13T12:43:11.611Z"
   },
   {
    "duration": 62,
    "start_time": "2022-12-13T12:43:12.486Z"
   },
   {
    "duration": 6,
    "start_time": "2022-12-13T12:43:12.549Z"
   },
   {
    "duration": 5,
    "start_time": "2022-12-13T12:43:12.557Z"
   },
   {
    "duration": 4,
    "start_time": "2022-12-13T12:43:12.563Z"
   },
   {
    "duration": 36,
    "start_time": "2022-12-13T12:43:12.569Z"
   },
   {
    "duration": 7,
    "start_time": "2022-12-13T12:43:12.607Z"
   },
   {
    "duration": 11,
    "start_time": "2022-12-13T12:43:12.616Z"
   },
   {
    "duration": 1677,
    "start_time": "2022-12-13T12:43:12.629Z"
   },
   {
    "duration": 1150,
    "start_time": "2022-12-13T12:43:14.308Z"
   },
   {
    "duration": 73,
    "start_time": "2022-12-13T12:43:15.460Z"
   },
   {
    "duration": 4,
    "start_time": "2022-12-13T12:43:15.536Z"
   },
   {
    "duration": 564,
    "start_time": "2022-12-13T12:43:15.542Z"
   },
   {
    "duration": 905,
    "start_time": "2022-12-13T12:43:16.108Z"
   },
   {
    "duration": 51,
    "start_time": "2022-12-13T12:43:17.015Z"
   },
   {
    "duration": 6,
    "start_time": "2022-12-13T12:43:17.068Z"
   },
   {
    "duration": 7,
    "start_time": "2022-12-13T12:43:17.075Z"
   },
   {
    "duration": 26,
    "start_time": "2022-12-13T12:43:17.084Z"
   },
   {
    "duration": 19,
    "start_time": "2022-12-13T12:43:17.112Z"
   },
   {
    "duration": 6,
    "start_time": "2022-12-13T12:43:17.132Z"
   },
   {
    "duration": 277,
    "start_time": "2022-12-13T12:43:17.140Z"
   },
   {
    "duration": 514,
    "start_time": "2022-12-13T12:43:17.505Z"
   },
   {
    "duration": 47,
    "start_time": "2022-12-13T12:43:18.021Z"
   },
   {
    "duration": 7,
    "start_time": "2022-12-13T12:43:18.069Z"
   },
   {
    "duration": 54637,
    "start_time": "2022-12-13T12:43:18.077Z"
   },
   {
    "duration": 56091,
    "start_time": "2022-12-13T12:44:12.804Z"
   },
   {
    "duration": 2838,
    "start_time": "2022-12-13T12:45:08.904Z"
   },
   {
    "duration": 25,
    "start_time": "2022-12-13T12:45:11.743Z"
   },
   {
    "duration": 59937,
    "start_time": "2022-12-13T12:45:11.770Z"
   },
   {
    "duration": 68018,
    "start_time": "2022-12-13T12:46:11.709Z"
   },
   {
    "duration": 782,
    "start_time": "2022-12-13T12:47:19.729Z"
   },
   {
    "duration": 62900,
    "start_time": "2022-12-13T12:48:51.227Z"
   },
   {
    "duration": 72227,
    "start_time": "2022-12-13T12:49:54.130Z"
   },
   {
    "duration": 62420,
    "start_time": "2022-12-13T12:55:08.947Z"
   },
   {
    "duration": 72085,
    "start_time": "2022-12-13T12:56:11.368Z"
   },
   {
    "duration": 1336,
    "start_time": "2022-12-13T12:57:43.334Z"
   },
   {
    "duration": 48,
    "start_time": "2022-12-13T12:57:44.672Z"
   },
   {
    "duration": 16,
    "start_time": "2022-12-13T12:57:44.722Z"
   },
   {
    "duration": 18,
    "start_time": "2022-12-13T12:57:44.739Z"
   },
   {
    "duration": 14,
    "start_time": "2022-12-13T12:57:44.759Z"
   },
   {
    "duration": 21,
    "start_time": "2022-12-13T12:57:44.774Z"
   },
   {
    "duration": 12,
    "start_time": "2022-12-13T12:57:44.797Z"
   },
   {
    "duration": 19,
    "start_time": "2022-12-13T12:57:44.810Z"
   },
   {
    "duration": 18,
    "start_time": "2022-12-13T12:57:44.831Z"
   },
   {
    "duration": 32,
    "start_time": "2022-12-13T12:57:44.851Z"
   },
   {
    "duration": 2,
    "start_time": "2022-12-13T12:57:44.884Z"
   },
   {
    "duration": 19,
    "start_time": "2022-12-13T12:57:44.887Z"
   },
   {
    "duration": 32,
    "start_time": "2022-12-13T12:57:44.908Z"
   },
   {
    "duration": 24,
    "start_time": "2022-12-13T12:57:44.943Z"
   },
   {
    "duration": 12,
    "start_time": "2022-12-13T12:57:44.969Z"
   },
   {
    "duration": 434,
    "start_time": "2022-12-13T12:57:44.982Z"
   },
   {
    "duration": 925,
    "start_time": "2022-12-13T12:57:45.418Z"
   },
   {
    "duration": 72,
    "start_time": "2022-12-13T12:57:46.344Z"
   },
   {
    "duration": 7,
    "start_time": "2022-12-13T12:57:46.418Z"
   },
   {
    "duration": 10,
    "start_time": "2022-12-13T12:57:46.426Z"
   },
   {
    "duration": 3,
    "start_time": "2022-12-13T12:57:46.438Z"
   },
   {
    "duration": 17,
    "start_time": "2022-12-13T12:57:46.442Z"
   },
   {
    "duration": 7,
    "start_time": "2022-12-13T12:57:46.460Z"
   },
   {
    "duration": 4,
    "start_time": "2022-12-13T12:57:46.469Z"
   },
   {
    "duration": 1438,
    "start_time": "2022-12-13T12:57:46.474Z"
   },
   {
    "duration": 1273,
    "start_time": "2022-12-13T12:57:47.914Z"
   },
   {
    "duration": 74,
    "start_time": "2022-12-13T12:57:49.189Z"
   },
   {
    "duration": 5,
    "start_time": "2022-12-13T12:57:49.265Z"
   },
   {
    "duration": 1039,
    "start_time": "2022-12-13T12:57:49.271Z"
   },
   {
    "duration": 941,
    "start_time": "2022-12-13T12:57:50.315Z"
   },
   {
    "duration": 70,
    "start_time": "2022-12-13T12:57:51.258Z"
   },
   {
    "duration": 6,
    "start_time": "2022-12-13T12:57:51.330Z"
   },
   {
    "duration": 4,
    "start_time": "2022-12-13T12:57:51.338Z"
   },
   {
    "duration": 14,
    "start_time": "2022-12-13T12:57:51.344Z"
   },
   {
    "duration": 7,
    "start_time": "2022-12-13T12:57:51.359Z"
   },
   {
    "duration": 9,
    "start_time": "2022-12-13T12:57:51.367Z"
   },
   {
    "duration": 645,
    "start_time": "2022-12-13T12:57:51.377Z"
   },
   {
    "duration": 617,
    "start_time": "2022-12-13T12:57:52.025Z"
   },
   {
    "duration": 32,
    "start_time": "2022-12-13T12:57:52.644Z"
   },
   {
    "duration": 4,
    "start_time": "2022-12-13T12:57:52.677Z"
   },
   {
    "duration": 86124,
    "start_time": "2022-12-13T12:57:52.685Z"
   },
   {
    "duration": 60033,
    "start_time": "2022-12-13T12:59:18.820Z"
   },
   {
    "duration": 3039,
    "start_time": "2022-12-13T13:00:18.854Z"
   },
   {
    "duration": 33,
    "start_time": "2022-12-13T13:00:21.894Z"
   },
   {
    "duration": 63510,
    "start_time": "2022-12-13T13:00:21.928Z"
   },
   {
    "duration": 67949,
    "start_time": "2022-12-13T13:01:25.439Z"
   },
   {
    "duration": 803,
    "start_time": "2022-12-13T13:02:33.390Z"
   },
   {
    "duration": 749,
    "start_time": "2022-12-13T13:03:35.733Z"
   },
   {
    "duration": 60311,
    "start_time": "2022-12-13T13:05:03.727Z"
   },
   {
    "duration": 0,
    "start_time": "2022-12-13T13:06:04.040Z"
   },
   {
    "duration": 0,
    "start_time": "2022-12-13T13:06:04.041Z"
   },
   {
    "duration": 1332,
    "start_time": "2022-12-13T13:06:37.629Z"
   },
   {
    "duration": 41,
    "start_time": "2022-12-13T13:06:38.963Z"
   },
   {
    "duration": 17,
    "start_time": "2022-12-13T13:06:39.005Z"
   },
   {
    "duration": 13,
    "start_time": "2022-12-13T13:06:39.024Z"
   },
   {
    "duration": 3,
    "start_time": "2022-12-13T13:06:39.039Z"
   },
   {
    "duration": 9,
    "start_time": "2022-12-13T13:06:39.044Z"
   },
   {
    "duration": 4,
    "start_time": "2022-12-13T13:06:39.055Z"
   },
   {
    "duration": 8,
    "start_time": "2022-12-13T13:06:39.060Z"
   },
   {
    "duration": 15,
    "start_time": "2022-12-13T13:06:39.069Z"
   },
   {
    "duration": 45,
    "start_time": "2022-12-13T13:06:39.085Z"
   },
   {
    "duration": 3,
    "start_time": "2022-12-13T13:06:39.132Z"
   },
   {
    "duration": 11,
    "start_time": "2022-12-13T13:06:39.137Z"
   },
   {
    "duration": 11,
    "start_time": "2022-12-13T13:06:39.150Z"
   },
   {
    "duration": 7,
    "start_time": "2022-12-13T13:06:39.164Z"
   },
   {
    "duration": 5,
    "start_time": "2022-12-13T13:06:39.203Z"
   },
   {
    "duration": 301,
    "start_time": "2022-12-13T13:06:39.209Z"
   },
   {
    "duration": 873,
    "start_time": "2022-12-13T13:06:39.512Z"
   },
   {
    "duration": 61,
    "start_time": "2022-12-13T13:06:40.387Z"
   },
   {
    "duration": 5,
    "start_time": "2022-12-13T13:06:40.450Z"
   },
   {
    "duration": 7,
    "start_time": "2022-12-13T13:06:40.457Z"
   },
   {
    "duration": 4,
    "start_time": "2022-12-13T13:06:40.465Z"
   },
   {
    "duration": 12,
    "start_time": "2022-12-13T13:06:40.470Z"
   },
   {
    "duration": 25,
    "start_time": "2022-12-13T13:06:40.484Z"
   },
   {
    "duration": 4,
    "start_time": "2022-12-13T13:06:40.511Z"
   },
   {
    "duration": 604,
    "start_time": "2022-12-13T13:06:40.516Z"
   },
   {
    "duration": 1227,
    "start_time": "2022-12-13T13:06:41.122Z"
   },
   {
    "duration": 70,
    "start_time": "2022-12-13T13:06:42.351Z"
   },
   {
    "duration": 4,
    "start_time": "2022-12-13T13:06:42.422Z"
   },
   {
    "duration": 678,
    "start_time": "2022-12-13T13:06:42.427Z"
   },
   {
    "duration": 817,
    "start_time": "2022-12-13T13:06:43.107Z"
   },
   {
    "duration": 53,
    "start_time": "2022-12-13T13:06:43.925Z"
   },
   {
    "duration": 28,
    "start_time": "2022-12-13T13:06:43.979Z"
   },
   {
    "duration": 4,
    "start_time": "2022-12-13T13:06:44.008Z"
   },
   {
    "duration": 11,
    "start_time": "2022-12-13T13:06:44.014Z"
   },
   {
    "duration": 7,
    "start_time": "2022-12-13T13:06:44.026Z"
   },
   {
    "duration": 5,
    "start_time": "2022-12-13T13:06:44.034Z"
   },
   {
    "duration": 464,
    "start_time": "2022-12-13T13:06:44.041Z"
   },
   {
    "duration": 427,
    "start_time": "2022-12-13T13:06:44.507Z"
   },
   {
    "duration": 32,
    "start_time": "2022-12-13T13:06:44.937Z"
   },
   {
    "duration": 3,
    "start_time": "2022-12-13T13:06:44.971Z"
   },
   {
    "duration": 29729,
    "start_time": "2022-12-13T13:06:44.977Z"
   },
   {
    "duration": 55619,
    "start_time": "2022-12-13T13:07:14.712Z"
   },
   {
    "duration": 2844,
    "start_time": "2022-12-13T13:08:10.333Z"
   },
   {
    "duration": 37,
    "start_time": "2022-12-13T13:08:13.178Z"
   },
   {
    "duration": 60045,
    "start_time": "2022-12-13T13:08:13.217Z"
   },
   {
    "duration": 0,
    "start_time": "2022-12-13T13:09:13.264Z"
   },
   {
    "duration": 0,
    "start_time": "2022-12-13T13:09:13.265Z"
   },
   {
    "duration": 34129,
    "start_time": "2022-12-13T13:09:51.501Z"
   },
   {
    "duration": 0,
    "start_time": "2022-12-13T13:10:25.632Z"
   },
   {
    "duration": 62568,
    "start_time": "2022-12-13T13:10:28.498Z"
   },
   {
    "duration": 72805,
    "start_time": "2022-12-13T13:11:31.068Z"
   },
   {
    "duration": 95,
    "start_time": "2022-12-13T13:12:57.438Z"
   },
   {
    "duration": 1403,
    "start_time": "2022-12-13T13:23:16.719Z"
   },
   {
    "duration": 42,
    "start_time": "2022-12-13T13:23:18.123Z"
   },
   {
    "duration": 22,
    "start_time": "2022-12-13T13:23:18.167Z"
   },
   {
    "duration": 29,
    "start_time": "2022-12-13T13:23:18.191Z"
   },
   {
    "duration": 4,
    "start_time": "2022-12-13T13:23:18.223Z"
   },
   {
    "duration": 7,
    "start_time": "2022-12-13T13:23:18.229Z"
   },
   {
    "duration": 6,
    "start_time": "2022-12-13T13:23:18.237Z"
   },
   {
    "duration": 7,
    "start_time": "2022-12-13T13:23:18.246Z"
   },
   {
    "duration": 10,
    "start_time": "2022-12-13T13:23:18.255Z"
   },
   {
    "duration": 52,
    "start_time": "2022-12-13T13:23:18.267Z"
   },
   {
    "duration": 3,
    "start_time": "2022-12-13T13:23:18.321Z"
   },
   {
    "duration": 35,
    "start_time": "2022-12-13T13:23:18.325Z"
   },
   {
    "duration": 10,
    "start_time": "2022-12-13T13:23:18.362Z"
   },
   {
    "duration": 7,
    "start_time": "2022-12-13T13:23:18.374Z"
   },
   {
    "duration": 6,
    "start_time": "2022-12-13T13:23:18.383Z"
   },
   {
    "duration": 1330,
    "start_time": "2022-12-13T13:23:18.390Z"
   },
   {
    "duration": 843,
    "start_time": "2022-12-13T13:23:19.722Z"
   },
   {
    "duration": 66,
    "start_time": "2022-12-13T13:23:20.567Z"
   },
   {
    "duration": 6,
    "start_time": "2022-12-13T13:23:20.635Z"
   },
   {
    "duration": 11,
    "start_time": "2022-12-13T13:23:20.643Z"
   },
   {
    "duration": 7,
    "start_time": "2022-12-13T13:23:20.655Z"
   },
   {
    "duration": 11,
    "start_time": "2022-12-13T13:23:20.663Z"
   },
   {
    "duration": 6,
    "start_time": "2022-12-13T13:23:20.675Z"
   },
   {
    "duration": 5,
    "start_time": "2022-12-13T13:23:20.682Z"
   },
   {
    "duration": 1212,
    "start_time": "2022-12-13T13:23:20.709Z"
   },
   {
    "duration": 1366,
    "start_time": "2022-12-13T13:23:21.928Z"
   },
   {
    "duration": 66,
    "start_time": "2022-12-13T13:23:23.295Z"
   },
   {
    "duration": 3,
    "start_time": "2022-12-13T13:23:23.363Z"
   },
   {
    "duration": 1437,
    "start_time": "2022-12-13T13:23:23.368Z"
   },
   {
    "duration": 842,
    "start_time": "2022-12-13T13:23:24.808Z"
   },
   {
    "duration": 64,
    "start_time": "2022-12-13T13:23:25.653Z"
   },
   {
    "duration": 7,
    "start_time": "2022-12-13T13:23:25.719Z"
   },
   {
    "duration": 5,
    "start_time": "2022-12-13T13:23:25.728Z"
   },
   {
    "duration": 11,
    "start_time": "2022-12-13T13:23:25.734Z"
   },
   {
    "duration": 7,
    "start_time": "2022-12-13T13:23:25.746Z"
   },
   {
    "duration": 7,
    "start_time": "2022-12-13T13:23:25.754Z"
   },
   {
    "duration": 446,
    "start_time": "2022-12-13T13:23:25.762Z"
   },
   {
    "duration": 537,
    "start_time": "2022-12-13T13:23:26.211Z"
   },
   {
    "duration": 34,
    "start_time": "2022-12-13T13:23:26.750Z"
   },
   {
    "duration": 19,
    "start_time": "2022-12-13T13:23:26.786Z"
   },
   {
    "duration": 53197,
    "start_time": "2022-12-13T13:23:26.810Z"
   },
   {
    "duration": 55611,
    "start_time": "2022-12-13T13:24:20.009Z"
   },
   {
    "duration": 2875,
    "start_time": "2022-12-13T13:25:15.622Z"
   },
   {
    "duration": 29,
    "start_time": "2022-12-13T13:25:18.499Z"
   },
   {
    "duration": 59531,
    "start_time": "2022-12-13T13:25:18.530Z"
   },
   {
    "duration": 67376,
    "start_time": "2022-12-13T13:26:18.063Z"
   },
   {
    "duration": 87,
    "start_time": "2022-12-13T13:27:25.441Z"
   },
   {
    "duration": 59489,
    "start_time": "2022-12-13T13:29:19.319Z"
   },
   {
    "duration": 68352,
    "start_time": "2022-12-13T13:30:18.810Z"
   },
   {
    "duration": 113,
    "start_time": "2022-12-13T13:32:07.356Z"
   },
   {
    "duration": 4,
    "start_time": "2022-12-13T13:33:20.055Z"
   },
   {
    "duration": 51,
    "start_time": "2022-12-13T13:33:20.061Z"
   },
   {
    "duration": 15,
    "start_time": "2022-12-13T13:33:20.113Z"
   },
   {
    "duration": 21,
    "start_time": "2022-12-13T13:33:20.130Z"
   },
   {
    "duration": 4,
    "start_time": "2022-12-13T13:33:20.153Z"
   },
   {
    "duration": 12,
    "start_time": "2022-12-13T13:33:20.159Z"
   },
   {
    "duration": 17,
    "start_time": "2022-12-13T13:33:20.172Z"
   },
   {
    "duration": 10,
    "start_time": "2022-12-13T13:33:20.191Z"
   },
   {
    "duration": 14,
    "start_time": "2022-12-13T13:33:20.204Z"
   },
   {
    "duration": 27,
    "start_time": "2022-12-13T13:33:20.220Z"
   },
   {
    "duration": 2,
    "start_time": "2022-12-13T13:33:20.249Z"
   },
   {
    "duration": 11,
    "start_time": "2022-12-13T13:33:20.253Z"
   },
   {
    "duration": 13,
    "start_time": "2022-12-13T13:33:20.266Z"
   },
   {
    "duration": 26,
    "start_time": "2022-12-13T13:33:20.281Z"
   },
   {
    "duration": 5,
    "start_time": "2022-12-13T13:33:20.309Z"
   },
   {
    "duration": 499,
    "start_time": "2022-12-13T13:33:20.316Z"
   },
   {
    "duration": 863,
    "start_time": "2022-12-13T13:33:20.906Z"
   },
   {
    "duration": 62,
    "start_time": "2022-12-13T13:33:21.771Z"
   },
   {
    "duration": 5,
    "start_time": "2022-12-13T13:33:21.834Z"
   },
   {
    "duration": 17,
    "start_time": "2022-12-13T13:33:21.840Z"
   },
   {
    "duration": 6,
    "start_time": "2022-12-13T13:33:21.858Z"
   },
   {
    "duration": 12,
    "start_time": "2022-12-13T13:33:21.865Z"
   },
   {
    "duration": 6,
    "start_time": "2022-12-13T13:33:21.879Z"
   },
   {
    "duration": 19,
    "start_time": "2022-12-13T13:33:21.886Z"
   },
   {
    "duration": 606,
    "start_time": "2022-12-13T13:33:21.906Z"
   },
   {
    "duration": 1205,
    "start_time": "2022-12-13T13:33:22.515Z"
   },
   {
    "duration": 64,
    "start_time": "2022-12-13T13:33:23.721Z"
   },
   {
    "duration": 16,
    "start_time": "2022-12-13T13:33:23.789Z"
   },
   {
    "duration": 405,
    "start_time": "2022-12-13T13:33:23.806Z"
   },
   {
    "duration": 869,
    "start_time": "2022-12-13T13:33:24.214Z"
   },
   {
    "duration": 56,
    "start_time": "2022-12-13T13:33:25.085Z"
   },
   {
    "duration": 6,
    "start_time": "2022-12-13T13:33:25.143Z"
   },
   {
    "duration": 5,
    "start_time": "2022-12-13T13:33:25.151Z"
   },
   {
    "duration": 12,
    "start_time": "2022-12-13T13:33:25.158Z"
   },
   {
    "duration": 7,
    "start_time": "2022-12-13T13:33:25.171Z"
   },
   {
    "duration": 25,
    "start_time": "2022-12-13T13:33:25.180Z"
   },
   {
    "duration": 399,
    "start_time": "2022-12-13T13:33:25.207Z"
   },
   {
    "duration": 536,
    "start_time": "2022-12-13T13:33:25.608Z"
   },
   {
    "duration": 38,
    "start_time": "2022-12-13T13:33:26.146Z"
   },
   {
    "duration": 19,
    "start_time": "2022-12-13T13:33:26.186Z"
   },
   {
    "duration": 30608,
    "start_time": "2022-12-13T13:33:26.206Z"
   },
   {
    "duration": 1333,
    "start_time": "2022-12-13T13:34:49.112Z"
   },
   {
    "duration": 41,
    "start_time": "2022-12-13T13:34:50.447Z"
   },
   {
    "duration": 17,
    "start_time": "2022-12-13T13:34:50.489Z"
   },
   {
    "duration": 15,
    "start_time": "2022-12-13T13:34:50.507Z"
   },
   {
    "duration": 3,
    "start_time": "2022-12-13T13:34:50.524Z"
   },
   {
    "duration": 21,
    "start_time": "2022-12-13T13:34:50.528Z"
   },
   {
    "duration": 16,
    "start_time": "2022-12-13T13:34:50.551Z"
   },
   {
    "duration": 11,
    "start_time": "2022-12-13T13:34:50.568Z"
   },
   {
    "duration": 22,
    "start_time": "2022-12-13T13:34:50.581Z"
   },
   {
    "duration": 26,
    "start_time": "2022-12-13T13:34:50.606Z"
   },
   {
    "duration": 3,
    "start_time": "2022-12-13T13:34:50.634Z"
   },
   {
    "duration": 15,
    "start_time": "2022-12-13T13:34:50.638Z"
   },
   {
    "duration": 13,
    "start_time": "2022-12-13T13:34:50.654Z"
   },
   {
    "duration": 11,
    "start_time": "2022-12-13T13:34:50.669Z"
   },
   {
    "duration": 5,
    "start_time": "2022-12-13T13:34:50.681Z"
   },
   {
    "duration": 607,
    "start_time": "2022-12-13T13:34:50.704Z"
   },
   {
    "duration": 890,
    "start_time": "2022-12-13T13:34:51.314Z"
   },
   {
    "duration": 54,
    "start_time": "2022-12-13T13:34:52.206Z"
   },
   {
    "duration": 6,
    "start_time": "2022-12-13T13:34:52.262Z"
   },
   {
    "duration": 7,
    "start_time": "2022-12-13T13:34:52.269Z"
   },
   {
    "duration": 4,
    "start_time": "2022-12-13T13:34:52.278Z"
   },
   {
    "duration": 11,
    "start_time": "2022-12-13T13:34:52.304Z"
   },
   {
    "duration": 7,
    "start_time": "2022-12-13T13:34:52.317Z"
   },
   {
    "duration": 15,
    "start_time": "2022-12-13T13:34:52.325Z"
   },
   {
    "duration": 768,
    "start_time": "2022-12-13T13:34:52.341Z"
   },
   {
    "duration": 1187,
    "start_time": "2022-12-13T13:34:53.111Z"
   },
   {
    "duration": 65,
    "start_time": "2022-12-13T13:34:54.299Z"
   },
   {
    "duration": 3,
    "start_time": "2022-12-13T13:34:54.367Z"
   },
   {
    "duration": 535,
    "start_time": "2022-12-13T13:34:54.371Z"
   },
   {
    "duration": 839,
    "start_time": "2022-12-13T13:34:54.908Z"
   },
   {
    "duration": 62,
    "start_time": "2022-12-13T13:34:55.748Z"
   },
   {
    "duration": 24,
    "start_time": "2022-12-13T13:34:55.811Z"
   },
   {
    "duration": 25,
    "start_time": "2022-12-13T13:34:55.836Z"
   },
   {
    "duration": 30,
    "start_time": "2022-12-13T13:34:55.864Z"
   },
   {
    "duration": 12,
    "start_time": "2022-12-13T13:34:55.896Z"
   },
   {
    "duration": 19,
    "start_time": "2022-12-13T13:34:55.909Z"
   },
   {
    "duration": 377,
    "start_time": "2022-12-13T13:34:55.929Z"
   },
   {
    "duration": 501,
    "start_time": "2022-12-13T13:34:56.308Z"
   },
   {
    "duration": 33,
    "start_time": "2022-12-13T13:34:56.811Z"
   },
   {
    "duration": 4,
    "start_time": "2022-12-13T13:34:56.846Z"
   },
   {
    "duration": 32854,
    "start_time": "2022-12-13T13:34:56.851Z"
   },
   {
    "duration": 56656,
    "start_time": "2022-12-13T13:35:29.707Z"
   },
   {
    "duration": 2907,
    "start_time": "2022-12-13T13:36:26.365Z"
   },
   {
    "duration": 38,
    "start_time": "2022-12-13T13:36:29.273Z"
   },
   {
    "duration": 60063,
    "start_time": "2022-12-13T13:36:29.312Z"
   },
   {
    "duration": 67442,
    "start_time": "2022-12-13T13:37:29.377Z"
   },
   {
    "duration": 102,
    "start_time": "2022-12-13T13:38:36.821Z"
   }
  ],
  "kernelspec": {
   "display_name": "Python 3 (ipykernel)",
   "language": "python",
   "name": "python3"
  },
  "language_info": {
   "codemirror_mode": {
    "name": "ipython",
    "version": 3
   },
   "file_extension": ".py",
   "mimetype": "text/x-python",
   "name": "python",
   "nbconvert_exporter": "python",
   "pygments_lexer": "ipython3",
   "version": "3.10.9"
  },
  "toc": {
   "base_numbering": 1,
   "nav_menu": {},
   "number_sections": true,
   "sideBar": true,
   "skip_h1_title": true,
   "title_cell": "Содержание",
   "title_sidebar": "Contents",
   "toc_cell": true,
   "toc_position": {
    "height": "calc(100% - 180px)",
    "left": "10px",
    "top": "150px",
    "width": "165px"
   },
   "toc_section_display": true,
   "toc_window_display": true
  }
 },
 "nbformat": 4,
 "nbformat_minor": 2
}
