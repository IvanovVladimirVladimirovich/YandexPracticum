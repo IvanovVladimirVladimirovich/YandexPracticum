{
 "cells": [
  {
   "cell_type": "markdown",
   "metadata": {
    "toc": true
   },
   "source": [
    "<h1>Содержание<span class=\"tocSkip\"></span></h1>\n",
    "<div class=\"toc\"><ul class=\"toc-item\"><li><span><a href=\"#Подготовка-данных\" data-toc-modified-id=\"Подготовка-данных-1\"><span class=\"toc-item-num\">1&nbsp;&nbsp;</span>Подготовка данных</a></span><ul class=\"toc-item\"><li><ul class=\"toc-item\"><li><span><a href=\"#Исходные-данные\" data-toc-modified-id=\"Исходные-данные-1.0.1\"><span class=\"toc-item-num\">1.0.1&nbsp;&nbsp;</span>Исходные данные</a></span></li><li><span><a href=\"#Обучающая-выборка\" data-toc-modified-id=\"Обучающая-выборка-1.0.2\"><span class=\"toc-item-num\">1.0.2&nbsp;&nbsp;</span>Обучающая выборка</a></span></li><li><span><a href=\"#Тестовая-выборка\" data-toc-modified-id=\"Тестовая-выборка-1.0.3\"><span class=\"toc-item-num\">1.0.3&nbsp;&nbsp;</span>Тестовая выборка</a></span></li></ul></li><li><span><a href=\"#-Комментарий-ревьюера-v1\" data-toc-modified-id=\"-Комментарий-ревьюера-v1-1.1\"><span class=\"toc-item-num\">1.1&nbsp;&nbsp;</span> Комментарий ревьюера v1</a></span></li><li><span><a href=\"#Проверка-расчетов-эффективности-обогащения\" data-toc-modified-id=\"Проверка-расчетов-эффективности-обогащения-1.2\"><span class=\"toc-item-num\">1.2&nbsp;&nbsp;</span>Проверка расчетов эффективности обогащения</a></span></li><li><span><a href=\"#-Комментарий-ревьюера-v1\" data-toc-modified-id=\"-Комментарий-ревьюера-v1-1.3\"><span class=\"toc-item-num\">1.3&nbsp;&nbsp;</span> Комментарий ревьюера v1</a></span></li><li><span><a href=\"#Анализ-признаков-недоступных-в-тестовой-выборке\" data-toc-modified-id=\"Анализ-признаков-недоступных-в-тестовой-выборке-1.4\"><span class=\"toc-item-num\">1.4&nbsp;&nbsp;</span>Анализ признаков недоступных в тестовой выборке</a></span></li><li><span><a href=\"#-Комментарий-ревьюера-v1\" data-toc-modified-id=\"-Комментарий-ревьюера-v1-1.5\"><span class=\"toc-item-num\">1.5&nbsp;&nbsp;</span> Комментарий ревьюера v1</a></span></li><li><span><a href=\"#Предобработка-данных\" data-toc-modified-id=\"Предобработка-данных-1.6\"><span class=\"toc-item-num\">1.6&nbsp;&nbsp;</span>Предобработка данных</a></span></li><li><span><a href=\"#-Комментарий-ревьюера-v1\" data-toc-modified-id=\"-Комментарий-ревьюера-v1-1.7\"><span class=\"toc-item-num\">1.7&nbsp;&nbsp;</span> Комментарий ревьюера v1</a></span></li><li><span><a href=\"#-Комментарий-ревьюера-v1\" data-toc-modified-id=\"-Комментарий-ревьюера-v1-1.8\"><span class=\"toc-item-num\">1.8&nbsp;&nbsp;</span> Комментарий ревьюера v1</a></span></li></ul></li><li><span><a href=\"#Анализ-данных\" data-toc-modified-id=\"Анализ-данных-2\"><span class=\"toc-item-num\">2&nbsp;&nbsp;</span>Анализ данных</a></span><ul class=\"toc-item\"><li><span><a href=\"#Концентрация-металлов-(Au,-Ag,-Pb)-на-различных-этапах-очистки\" data-toc-modified-id=\"Концентрация-металлов-(Au,-Ag,-Pb)-на-различных-этапах-очистки-2.1\"><span class=\"toc-item-num\">2.1&nbsp;&nbsp;</span>Концентрация металлов (Au, Ag, Pb) на различных этапах очистки</a></span></li><li><span><a href=\"#-Комментарий-ревьюера-v1\" data-toc-modified-id=\"-Комментарий-ревьюера-v1-2.2\"><span class=\"toc-item-num\">2.2&nbsp;&nbsp;</span> Комментарий ревьюера v1</a></span></li><li><span><a href=\"#Распределения-размеров-гранул-сырья-на-обучающей-и-тестовой-выборках\" data-toc-modified-id=\"Распределения-размеров-гранул-сырья-на-обучающей-и-тестовой-выборках-2.3\"><span class=\"toc-item-num\">2.3&nbsp;&nbsp;</span>Распределения размеров гранул сырья на обучающей и тестовой выборках</a></span></li><li><span><a href=\"#-Комментарий-ревьюера-v1\" data-toc-modified-id=\"-Комментарий-ревьюера-v1-2.4\"><span class=\"toc-item-num\">2.4&nbsp;&nbsp;</span> Комментарий ревьюера v1</a></span></li><li><span><a href=\"#Суммарная-концентрацая-всех-веществ-на-разных-стадиях:-в-сырье,-в-черновом-и-финальном-концентратах\" data-toc-modified-id=\"Суммарная-концентрацая-всех-веществ-на-разных-стадиях:-в-сырье,-в-черновом-и-финальном-концентратах-2.5\"><span class=\"toc-item-num\">2.5&nbsp;&nbsp;</span>Суммарная концентрацая всех веществ на разных стадиях: в сырье, в черновом и финальном концентратах</a></span></li><li><span><a href=\"#-Комментарий-ревьюера-v1\" data-toc-modified-id=\"-Комментарий-ревьюера-v1-2.6\"><span class=\"toc-item-num\">2.6&nbsp;&nbsp;</span> Комментарий ревьюера v1</a></span></li></ul></li><li><span><a href=\"#Модель\" data-toc-modified-id=\"Модель-3\"><span class=\"toc-item-num\">3&nbsp;&nbsp;</span>Модель</a></span><ul class=\"toc-item\"><li><span><a href=\"#-Комментарий-ревьюера-v1\" data-toc-modified-id=\"-Комментарий-ревьюера-v1-3.1\"><span class=\"toc-item-num\">3.1&nbsp;&nbsp;</span> Комментарий ревьюера v1</a></span></li><li><span><a href=\"#Подбор-лучшей-модели\" data-toc-modified-id=\"Подбор-лучшей-модели-3.2\"><span class=\"toc-item-num\">3.2&nbsp;&nbsp;</span>Подбор лучшей модели</a></span><ul class=\"toc-item\"><li><span><a href=\"#LinearRegression\" data-toc-modified-id=\"LinearRegression-3.2.1\"><span class=\"toc-item-num\">3.2.1&nbsp;&nbsp;</span>LinearRegression</a></span></li></ul></li><li><span><a href=\"#-Комментарий-ревьюера-v1\" data-toc-modified-id=\"-Комментарий-ревьюера-v1-3.3\"><span class=\"toc-item-num\">3.3&nbsp;&nbsp;</span> Комментарий ревьюера v1</a></span><ul class=\"toc-item\"><li><span><a href=\"#RandomForestRegressor\" data-toc-modified-id=\"RandomForestRegressor-3.3.1\"><span class=\"toc-item-num\">3.3.1&nbsp;&nbsp;</span>RandomForestRegressor</a></span></li></ul></li><li><span><a href=\"#-Комментарий-ревьюера-v1\" data-toc-modified-id=\"-Комментарий-ревьюера-v1-3.4\"><span class=\"toc-item-num\">3.4&nbsp;&nbsp;</span> Комментарий ревьюера v1</a></span><ul class=\"toc-item\"><li><span><a href=\"#DecisionTreeRegressor\" data-toc-modified-id=\"DecisionTreeRegressor-3.4.1\"><span class=\"toc-item-num\">3.4.1&nbsp;&nbsp;</span>DecisionTreeRegressor</a></span></li></ul></li><li><span><a href=\"#-Комментарий-ревьюера-v1\" data-toc-modified-id=\"-Комментарий-ревьюера-v1-3.5\"><span class=\"toc-item-num\">3.5&nbsp;&nbsp;</span> Комментарий ревьюера v1</a></span></li><li><span><a href=\"#Тестирование-модели-на-тестовой-выборке\" data-toc-modified-id=\"Тестирование-модели-на-тестовой-выборке-3.6\"><span class=\"toc-item-num\">3.6&nbsp;&nbsp;</span>Тестирование модели на тестовой выборке</a></span></li></ul></li><li><span><a href=\"#Дефолтная-модель\" data-toc-modified-id=\"Дефолтная-модель-4\"><span class=\"toc-item-num\">4&nbsp;&nbsp;</span>Дефолтная модель</a></span><ul class=\"toc-item\"><li><span><a href=\"#-Комментарий-ревьюера-v1\" data-toc-modified-id=\"-Комментарий-ревьюера-v1-4.1\"><span class=\"toc-item-num\">4.1&nbsp;&nbsp;</span> Комментарий ревьюера v1</a></span></li><li><span><a href=\"#-Комментарий-ревьюера-v1\" data-toc-modified-id=\"-Комментарий-ревьюера-v1-4.2\"><span class=\"toc-item-num\">4.2&nbsp;&nbsp;</span> Комментарий ревьюера v1</a></span></li></ul></li><li><span><a href=\"#Общий-вывод\" data-toc-modified-id=\"Общий-вывод-5\"><span class=\"toc-item-num\">5&nbsp;&nbsp;</span>Общий вывод</a></span></li><li><span><a href=\"#Чек-лист-готовности-проекта\" data-toc-modified-id=\"Чек-лист-готовности-проекта-6\"><span class=\"toc-item-num\">6&nbsp;&nbsp;</span>Чек-лист готовности проекта</a></span><ul class=\"toc-item\"><li><span><a href=\"#-Комментарий-ревьюера-v1\" data-toc-modified-id=\"-Комментарий-ревьюера-v1-6.1\"><span class=\"toc-item-num\">6.1&nbsp;&nbsp;</span> Комментарий ревьюера v1</a></span></li></ul></li></ul></div>"
   ]
  },
  {
   "cell_type": "markdown",
   "metadata": {},
   "source": [
    "# Восстановление золота из руды"
   ]
  },
  {
   "cell_type": "markdown",
   "metadata": {},
   "source": [
    "Подготовьте прототип модели машинного обучения для «Цифры». Компания разрабатывает решения для эффективной работы промышленных предприятий.\n",
    "\n",
    "Модель должна предсказать коэффициент восстановления золота из золотосодержащей руды. Используйте данные с параметрами добычи и очистки. \n",
    "\n",
    "Модель поможет оптимизировать производство, чтобы не запускать предприятие с убыточными характеристиками.\n",
    "\n",
    "Вам нужно:\n",
    "\n",
    "1. Подготовить данные;\n",
    "2. Провести исследовательский анализ данных;\n",
    "3. Построить и обучить модель.\n",
    "\n",
    "Чтобы выполнить проект, обращайтесь к библиотекам *pandas*, *matplotlib* и *sklearn.* Вам поможет их документация."
   ]
  },
  {
   "cell_type": "markdown",
   "metadata": {},
   "source": [
    "## Подготовка данных"
   ]
  },
  {
   "cell_type": "code",
   "execution_count": 1,
   "metadata": {},
   "outputs": [],
   "source": [
    "import pandas as pd\n",
    "import matplotlib.pyplot as plt\n",
    "import numpy as np\n",
    "import seaborn as sns\n",
    "\n",
    "from sklearn.model_selection import train_test_split\n",
    "from sklearn.linear_model import LinearRegression\n",
    "from sklearn.tree import DecisionTreeRegressor\n",
    "from sklearn.ensemble import RandomForestRegressor\n",
    "from sklearn.dummy import DummyRegressor\n",
    "from sklearn.preprocessing import StandardScaler\n",
    "from scipy.stats import ttest_ind\n",
    "from sklearn.metrics import mean_squared_error\n",
    "from sklearn.model_selection import cross_val_score\n",
    "from sklearn.metrics import make_scorer\n",
    "from sklearn.model_selection import GridSearchCV\n",
    "\n",
    "RANDOM_STATE = 12345"
   ]
  },
  {
   "cell_type": "code",
   "execution_count": 2,
   "metadata": {},
   "outputs": [],
   "source": [
    "def import_data(directory):\n",
    "    data = pd.read_csv(directory)\n",
    "    display(data.head())\n",
    "    display(data.info())\n",
    "    print(\"Количество дубликатов:\",data.duplicated().sum())\n",
    "    print(\"Количество пропусков:\",data.isna().sum().sum())\n",
    "    return data"
   ]
  },
  {
   "cell_type": "markdown",
   "metadata": {},
   "source": [
    "#### Исходные данные"
   ]
  },
  {
   "cell_type": "code",
   "execution_count": 3,
   "metadata": {
    "scrolled": false
   },
   "outputs": [
    {
     "data": {
      "text/html": [
       "<div>\n",
       "<style scoped>\n",
       "    .dataframe tbody tr th:only-of-type {\n",
       "        vertical-align: middle;\n",
       "    }\n",
       "\n",
       "    .dataframe tbody tr th {\n",
       "        vertical-align: top;\n",
       "    }\n",
       "\n",
       "    .dataframe thead th {\n",
       "        text-align: right;\n",
       "    }\n",
       "</style>\n",
       "<table border=\"1\" class=\"dataframe\">\n",
       "  <thead>\n",
       "    <tr style=\"text-align: right;\">\n",
       "      <th></th>\n",
       "      <th>date</th>\n",
       "      <th>final.output.concentrate_ag</th>\n",
       "      <th>final.output.concentrate_pb</th>\n",
       "      <th>final.output.concentrate_sol</th>\n",
       "      <th>final.output.concentrate_au</th>\n",
       "      <th>final.output.recovery</th>\n",
       "      <th>final.output.tail_ag</th>\n",
       "      <th>final.output.tail_pb</th>\n",
       "      <th>final.output.tail_sol</th>\n",
       "      <th>final.output.tail_au</th>\n",
       "      <th>...</th>\n",
       "      <th>secondary_cleaner.state.floatbank4_a_air</th>\n",
       "      <th>secondary_cleaner.state.floatbank4_a_level</th>\n",
       "      <th>secondary_cleaner.state.floatbank4_b_air</th>\n",
       "      <th>secondary_cleaner.state.floatbank4_b_level</th>\n",
       "      <th>secondary_cleaner.state.floatbank5_a_air</th>\n",
       "      <th>secondary_cleaner.state.floatbank5_a_level</th>\n",
       "      <th>secondary_cleaner.state.floatbank5_b_air</th>\n",
       "      <th>secondary_cleaner.state.floatbank5_b_level</th>\n",
       "      <th>secondary_cleaner.state.floatbank6_a_air</th>\n",
       "      <th>secondary_cleaner.state.floatbank6_a_level</th>\n",
       "    </tr>\n",
       "  </thead>\n",
       "  <tbody>\n",
       "    <tr>\n",
       "      <th>0</th>\n",
       "      <td>2016-01-15 00:00:00</td>\n",
       "      <td>6.055403</td>\n",
       "      <td>9.889648</td>\n",
       "      <td>5.507324</td>\n",
       "      <td>42.192020</td>\n",
       "      <td>70.541216</td>\n",
       "      <td>10.411962</td>\n",
       "      <td>0.895447</td>\n",
       "      <td>16.904297</td>\n",
       "      <td>2.143149</td>\n",
       "      <td>...</td>\n",
       "      <td>14.016835</td>\n",
       "      <td>-502.488007</td>\n",
       "      <td>12.099931</td>\n",
       "      <td>-504.715942</td>\n",
       "      <td>9.925633</td>\n",
       "      <td>-498.310211</td>\n",
       "      <td>8.079666</td>\n",
       "      <td>-500.470978</td>\n",
       "      <td>14.151341</td>\n",
       "      <td>-605.841980</td>\n",
       "    </tr>\n",
       "    <tr>\n",
       "      <th>1</th>\n",
       "      <td>2016-01-15 01:00:00</td>\n",
       "      <td>6.029369</td>\n",
       "      <td>9.968944</td>\n",
       "      <td>5.257781</td>\n",
       "      <td>42.701629</td>\n",
       "      <td>69.266198</td>\n",
       "      <td>10.462676</td>\n",
       "      <td>0.927452</td>\n",
       "      <td>16.634514</td>\n",
       "      <td>2.224930</td>\n",
       "      <td>...</td>\n",
       "      <td>13.992281</td>\n",
       "      <td>-505.503262</td>\n",
       "      <td>11.950531</td>\n",
       "      <td>-501.331529</td>\n",
       "      <td>10.039245</td>\n",
       "      <td>-500.169983</td>\n",
       "      <td>7.984757</td>\n",
       "      <td>-500.582168</td>\n",
       "      <td>13.998353</td>\n",
       "      <td>-599.787184</td>\n",
       "    </tr>\n",
       "    <tr>\n",
       "      <th>2</th>\n",
       "      <td>2016-01-15 02:00:00</td>\n",
       "      <td>6.055926</td>\n",
       "      <td>10.213995</td>\n",
       "      <td>5.383759</td>\n",
       "      <td>42.657501</td>\n",
       "      <td>68.116445</td>\n",
       "      <td>10.507046</td>\n",
       "      <td>0.953716</td>\n",
       "      <td>16.208849</td>\n",
       "      <td>2.257889</td>\n",
       "      <td>...</td>\n",
       "      <td>14.015015</td>\n",
       "      <td>-502.520901</td>\n",
       "      <td>11.912783</td>\n",
       "      <td>-501.133383</td>\n",
       "      <td>10.070913</td>\n",
       "      <td>-500.129135</td>\n",
       "      <td>8.013877</td>\n",
       "      <td>-500.517572</td>\n",
       "      <td>14.028663</td>\n",
       "      <td>-601.427363</td>\n",
       "    </tr>\n",
       "    <tr>\n",
       "      <th>3</th>\n",
       "      <td>2016-01-15 03:00:00</td>\n",
       "      <td>6.047977</td>\n",
       "      <td>9.977019</td>\n",
       "      <td>4.858634</td>\n",
       "      <td>42.689819</td>\n",
       "      <td>68.347543</td>\n",
       "      <td>10.422762</td>\n",
       "      <td>0.883763</td>\n",
       "      <td>16.532835</td>\n",
       "      <td>2.146849</td>\n",
       "      <td>...</td>\n",
       "      <td>14.036510</td>\n",
       "      <td>-500.857308</td>\n",
       "      <td>11.999550</td>\n",
       "      <td>-501.193686</td>\n",
       "      <td>9.970366</td>\n",
       "      <td>-499.201640</td>\n",
       "      <td>7.977324</td>\n",
       "      <td>-500.255908</td>\n",
       "      <td>14.005551</td>\n",
       "      <td>-599.996129</td>\n",
       "    </tr>\n",
       "    <tr>\n",
       "      <th>4</th>\n",
       "      <td>2016-01-15 04:00:00</td>\n",
       "      <td>6.148599</td>\n",
       "      <td>10.142511</td>\n",
       "      <td>4.939416</td>\n",
       "      <td>42.774141</td>\n",
       "      <td>66.927016</td>\n",
       "      <td>10.360302</td>\n",
       "      <td>0.792826</td>\n",
       "      <td>16.525686</td>\n",
       "      <td>2.055292</td>\n",
       "      <td>...</td>\n",
       "      <td>14.027298</td>\n",
       "      <td>-499.838632</td>\n",
       "      <td>11.953070</td>\n",
       "      <td>-501.053894</td>\n",
       "      <td>9.925709</td>\n",
       "      <td>-501.686727</td>\n",
       "      <td>7.894242</td>\n",
       "      <td>-500.356035</td>\n",
       "      <td>13.996647</td>\n",
       "      <td>-601.496691</td>\n",
       "    </tr>\n",
       "  </tbody>\n",
       "</table>\n",
       "<p>5 rows × 87 columns</p>\n",
       "</div>"
      ],
      "text/plain": [
       "                  date  final.output.concentrate_ag  \\\n",
       "0  2016-01-15 00:00:00                     6.055403   \n",
       "1  2016-01-15 01:00:00                     6.029369   \n",
       "2  2016-01-15 02:00:00                     6.055926   \n",
       "3  2016-01-15 03:00:00                     6.047977   \n",
       "4  2016-01-15 04:00:00                     6.148599   \n",
       "\n",
       "   final.output.concentrate_pb  final.output.concentrate_sol  \\\n",
       "0                     9.889648                      5.507324   \n",
       "1                     9.968944                      5.257781   \n",
       "2                    10.213995                      5.383759   \n",
       "3                     9.977019                      4.858634   \n",
       "4                    10.142511                      4.939416   \n",
       "\n",
       "   final.output.concentrate_au  final.output.recovery  final.output.tail_ag  \\\n",
       "0                    42.192020              70.541216             10.411962   \n",
       "1                    42.701629              69.266198             10.462676   \n",
       "2                    42.657501              68.116445             10.507046   \n",
       "3                    42.689819              68.347543             10.422762   \n",
       "4                    42.774141              66.927016             10.360302   \n",
       "\n",
       "   final.output.tail_pb  final.output.tail_sol  final.output.tail_au  ...  \\\n",
       "0              0.895447              16.904297              2.143149  ...   \n",
       "1              0.927452              16.634514              2.224930  ...   \n",
       "2              0.953716              16.208849              2.257889  ...   \n",
       "3              0.883763              16.532835              2.146849  ...   \n",
       "4              0.792826              16.525686              2.055292  ...   \n",
       "\n",
       "   secondary_cleaner.state.floatbank4_a_air  \\\n",
       "0                                 14.016835   \n",
       "1                                 13.992281   \n",
       "2                                 14.015015   \n",
       "3                                 14.036510   \n",
       "4                                 14.027298   \n",
       "\n",
       "   secondary_cleaner.state.floatbank4_a_level  \\\n",
       "0                                 -502.488007   \n",
       "1                                 -505.503262   \n",
       "2                                 -502.520901   \n",
       "3                                 -500.857308   \n",
       "4                                 -499.838632   \n",
       "\n",
       "   secondary_cleaner.state.floatbank4_b_air  \\\n",
       "0                                 12.099931   \n",
       "1                                 11.950531   \n",
       "2                                 11.912783   \n",
       "3                                 11.999550   \n",
       "4                                 11.953070   \n",
       "\n",
       "   secondary_cleaner.state.floatbank4_b_level  \\\n",
       "0                                 -504.715942   \n",
       "1                                 -501.331529   \n",
       "2                                 -501.133383   \n",
       "3                                 -501.193686   \n",
       "4                                 -501.053894   \n",
       "\n",
       "   secondary_cleaner.state.floatbank5_a_air  \\\n",
       "0                                  9.925633   \n",
       "1                                 10.039245   \n",
       "2                                 10.070913   \n",
       "3                                  9.970366   \n",
       "4                                  9.925709   \n",
       "\n",
       "   secondary_cleaner.state.floatbank5_a_level  \\\n",
       "0                                 -498.310211   \n",
       "1                                 -500.169983   \n",
       "2                                 -500.129135   \n",
       "3                                 -499.201640   \n",
       "4                                 -501.686727   \n",
       "\n",
       "   secondary_cleaner.state.floatbank5_b_air  \\\n",
       "0                                  8.079666   \n",
       "1                                  7.984757   \n",
       "2                                  8.013877   \n",
       "3                                  7.977324   \n",
       "4                                  7.894242   \n",
       "\n",
       "   secondary_cleaner.state.floatbank5_b_level  \\\n",
       "0                                 -500.470978   \n",
       "1                                 -500.582168   \n",
       "2                                 -500.517572   \n",
       "3                                 -500.255908   \n",
       "4                                 -500.356035   \n",
       "\n",
       "   secondary_cleaner.state.floatbank6_a_air  \\\n",
       "0                                 14.151341   \n",
       "1                                 13.998353   \n",
       "2                                 14.028663   \n",
       "3                                 14.005551   \n",
       "4                                 13.996647   \n",
       "\n",
       "   secondary_cleaner.state.floatbank6_a_level  \n",
       "0                                 -605.841980  \n",
       "1                                 -599.787184  \n",
       "2                                 -601.427363  \n",
       "3                                 -599.996129  \n",
       "4                                 -601.496691  \n",
       "\n",
       "[5 rows x 87 columns]"
      ]
     },
     "metadata": {},
     "output_type": "display_data"
    },
    {
     "name": "stdout",
     "output_type": "stream",
     "text": [
      "<class 'pandas.core.frame.DataFrame'>\n",
      "RangeIndex: 19439 entries, 0 to 19438\n",
      "Data columns (total 87 columns):\n",
      " #   Column                                              Non-Null Count  Dtype  \n",
      "---  ------                                              --------------  -----  \n",
      " 0   date                                                19439 non-null  object \n",
      " 1   final.output.concentrate_ag                         19438 non-null  float64\n",
      " 2   final.output.concentrate_pb                         19438 non-null  float64\n",
      " 3   final.output.concentrate_sol                        19228 non-null  float64\n",
      " 4   final.output.concentrate_au                         19439 non-null  float64\n",
      " 5   final.output.recovery                               19439 non-null  float64\n",
      " 6   final.output.tail_ag                                19438 non-null  float64\n",
      " 7   final.output.tail_pb                                19338 non-null  float64\n",
      " 8   final.output.tail_sol                               19433 non-null  float64\n",
      " 9   final.output.tail_au                                19439 non-null  float64\n",
      " 10  primary_cleaner.input.sulfate                       19415 non-null  float64\n",
      " 11  primary_cleaner.input.depressant                    19402 non-null  float64\n",
      " 12  primary_cleaner.input.feed_size                     19439 non-null  float64\n",
      " 13  primary_cleaner.input.xanthate                      19335 non-null  float64\n",
      " 14  primary_cleaner.output.concentrate_ag               19439 non-null  float64\n",
      " 15  primary_cleaner.output.concentrate_pb               19323 non-null  float64\n",
      " 16  primary_cleaner.output.concentrate_sol              19069 non-null  float64\n",
      " 17  primary_cleaner.output.concentrate_au               19439 non-null  float64\n",
      " 18  primary_cleaner.output.tail_ag                      19435 non-null  float64\n",
      " 19  primary_cleaner.output.tail_pb                      19418 non-null  float64\n",
      " 20  primary_cleaner.output.tail_sol                     19377 non-null  float64\n",
      " 21  primary_cleaner.output.tail_au                      19439 non-null  float64\n",
      " 22  primary_cleaner.state.floatbank8_a_air              19435 non-null  float64\n",
      " 23  primary_cleaner.state.floatbank8_a_level            19438 non-null  float64\n",
      " 24  primary_cleaner.state.floatbank8_b_air              19435 non-null  float64\n",
      " 25  primary_cleaner.state.floatbank8_b_level            19438 non-null  float64\n",
      " 26  primary_cleaner.state.floatbank8_c_air              19437 non-null  float64\n",
      " 27  primary_cleaner.state.floatbank8_c_level            19438 non-null  float64\n",
      " 28  primary_cleaner.state.floatbank8_d_air              19436 non-null  float64\n",
      " 29  primary_cleaner.state.floatbank8_d_level            19438 non-null  float64\n",
      " 30  rougher.calculation.sulfate_to_au_concentrate       19437 non-null  float64\n",
      " 31  rougher.calculation.floatbank10_sulfate_to_au_feed  19437 non-null  float64\n",
      " 32  rougher.calculation.floatbank11_sulfate_to_au_feed  19437 non-null  float64\n",
      " 33  rougher.calculation.au_pb_ratio                     19439 non-null  float64\n",
      " 34  rougher.input.feed_ag                               19439 non-null  float64\n",
      " 35  rougher.input.feed_pb                               19339 non-null  float64\n",
      " 36  rougher.input.feed_rate                             19428 non-null  float64\n",
      " 37  rougher.input.feed_size                             19294 non-null  float64\n",
      " 38  rougher.input.feed_sol                              19340 non-null  float64\n",
      " 39  rougher.input.feed_au                               19439 non-null  float64\n",
      " 40  rougher.input.floatbank10_sulfate                   19405 non-null  float64\n",
      " 41  rougher.input.floatbank10_xanthate                  19431 non-null  float64\n",
      " 42  rougher.input.floatbank11_sulfate                   19395 non-null  float64\n",
      " 43  rougher.input.floatbank11_xanthate                  18986 non-null  float64\n",
      " 44  rougher.output.concentrate_ag                       19439 non-null  float64\n",
      " 45  rougher.output.concentrate_pb                       19439 non-null  float64\n",
      " 46  rougher.output.concentrate_sol                      19416 non-null  float64\n",
      " 47  rougher.output.concentrate_au                       19439 non-null  float64\n",
      " 48  rougher.output.recovery                             19439 non-null  float64\n",
      " 49  rougher.output.tail_ag                              19438 non-null  float64\n",
      " 50  rougher.output.tail_pb                              19439 non-null  float64\n",
      " 51  rougher.output.tail_sol                             19439 non-null  float64\n",
      " 52  rougher.output.tail_au                              19439 non-null  float64\n",
      " 53  rougher.state.floatbank10_a_air                     19438 non-null  float64\n",
      " 54  rougher.state.floatbank10_a_level                   19438 non-null  float64\n",
      " 55  rougher.state.floatbank10_b_air                     19438 non-null  float64\n",
      " 56  rougher.state.floatbank10_b_level                   19438 non-null  float64\n",
      " 57  rougher.state.floatbank10_c_air                     19438 non-null  float64\n",
      " 58  rougher.state.floatbank10_c_level                   19438 non-null  float64\n",
      " 59  rougher.state.floatbank10_d_air                     19439 non-null  float64\n",
      " 60  rougher.state.floatbank10_d_level                   19439 non-null  float64\n",
      " 61  rougher.state.floatbank10_e_air                     19003 non-null  float64\n",
      " 62  rougher.state.floatbank10_e_level                   19439 non-null  float64\n",
      " 63  rougher.state.floatbank10_f_air                     19439 non-null  float64\n",
      " 64  rougher.state.floatbank10_f_level                   19439 non-null  float64\n",
      " 65  secondary_cleaner.output.tail_ag                    19437 non-null  float64\n",
      " 66  secondary_cleaner.output.tail_pb                    19427 non-null  float64\n",
      " 67  secondary_cleaner.output.tail_sol                   17691 non-null  float64\n",
      " 68  secondary_cleaner.output.tail_au                    19439 non-null  float64\n",
      " 69  secondary_cleaner.state.floatbank2_a_air            19219 non-null  float64\n",
      " 70  secondary_cleaner.state.floatbank2_a_level          19438 non-null  float64\n",
      " 71  secondary_cleaner.state.floatbank2_b_air            19416 non-null  float64\n",
      " 72  secondary_cleaner.state.floatbank2_b_level          19438 non-null  float64\n",
      " 73  secondary_cleaner.state.floatbank3_a_air            19426 non-null  float64\n",
      " 74  secondary_cleaner.state.floatbank3_a_level          19438 non-null  float64\n",
      " 75  secondary_cleaner.state.floatbank3_b_air            19438 non-null  float64\n",
      " 76  secondary_cleaner.state.floatbank3_b_level          19438 non-null  float64\n",
      " 77  secondary_cleaner.state.floatbank4_a_air            19433 non-null  float64\n",
      " 78  secondary_cleaner.state.floatbank4_a_level          19438 non-null  float64\n",
      " 79  secondary_cleaner.state.floatbank4_b_air            19438 non-null  float64\n",
      " 80  secondary_cleaner.state.floatbank4_b_level          19438 non-null  float64\n",
      " 81  secondary_cleaner.state.floatbank5_a_air            19438 non-null  float64\n",
      " 82  secondary_cleaner.state.floatbank5_a_level          19438 non-null  float64\n",
      " 83  secondary_cleaner.state.floatbank5_b_air            19438 non-null  float64\n",
      " 84  secondary_cleaner.state.floatbank5_b_level          19438 non-null  float64\n",
      " 85  secondary_cleaner.state.floatbank6_a_air            19437 non-null  float64\n",
      " 86  secondary_cleaner.state.floatbank6_a_level          19438 non-null  float64\n",
      "dtypes: float64(86), object(1)\n",
      "memory usage: 12.9+ MB\n"
     ]
    },
    {
     "data": {
      "text/plain": [
       "None"
      ]
     },
     "metadata": {},
     "output_type": "display_data"
    },
    {
     "name": "stdout",
     "output_type": "stream",
     "text": [
      "Количество дубликатов: 0\n",
      "Количество пропусков: 4481\n"
     ]
    }
   ],
   "source": [
    "data_full = import_data(\"/datasets/gold_recovery_full_new.csv\")"
   ]
  },
  {
   "cell_type": "markdown",
   "metadata": {},
   "source": [
    "#### Обучающая выборка"
   ]
  },
  {
   "cell_type": "code",
   "execution_count": 4,
   "metadata": {
    "scrolled": false
   },
   "outputs": [
    {
     "data": {
      "text/html": [
       "<div>\n",
       "<style scoped>\n",
       "    .dataframe tbody tr th:only-of-type {\n",
       "        vertical-align: middle;\n",
       "    }\n",
       "\n",
       "    .dataframe tbody tr th {\n",
       "        vertical-align: top;\n",
       "    }\n",
       "\n",
       "    .dataframe thead th {\n",
       "        text-align: right;\n",
       "    }\n",
       "</style>\n",
       "<table border=\"1\" class=\"dataframe\">\n",
       "  <thead>\n",
       "    <tr style=\"text-align: right;\">\n",
       "      <th></th>\n",
       "      <th>date</th>\n",
       "      <th>final.output.concentrate_ag</th>\n",
       "      <th>final.output.concentrate_pb</th>\n",
       "      <th>final.output.concentrate_sol</th>\n",
       "      <th>final.output.concentrate_au</th>\n",
       "      <th>final.output.recovery</th>\n",
       "      <th>final.output.tail_ag</th>\n",
       "      <th>final.output.tail_pb</th>\n",
       "      <th>final.output.tail_sol</th>\n",
       "      <th>final.output.tail_au</th>\n",
       "      <th>...</th>\n",
       "      <th>secondary_cleaner.state.floatbank4_a_air</th>\n",
       "      <th>secondary_cleaner.state.floatbank4_a_level</th>\n",
       "      <th>secondary_cleaner.state.floatbank4_b_air</th>\n",
       "      <th>secondary_cleaner.state.floatbank4_b_level</th>\n",
       "      <th>secondary_cleaner.state.floatbank5_a_air</th>\n",
       "      <th>secondary_cleaner.state.floatbank5_a_level</th>\n",
       "      <th>secondary_cleaner.state.floatbank5_b_air</th>\n",
       "      <th>secondary_cleaner.state.floatbank5_b_level</th>\n",
       "      <th>secondary_cleaner.state.floatbank6_a_air</th>\n",
       "      <th>secondary_cleaner.state.floatbank6_a_level</th>\n",
       "    </tr>\n",
       "  </thead>\n",
       "  <tbody>\n",
       "    <tr>\n",
       "      <th>0</th>\n",
       "      <td>2016-01-15 00:00:00</td>\n",
       "      <td>6.055403</td>\n",
       "      <td>9.889648</td>\n",
       "      <td>5.507324</td>\n",
       "      <td>42.192020</td>\n",
       "      <td>70.541216</td>\n",
       "      <td>10.411962</td>\n",
       "      <td>0.895447</td>\n",
       "      <td>16.904297</td>\n",
       "      <td>2.143149</td>\n",
       "      <td>...</td>\n",
       "      <td>14.016835</td>\n",
       "      <td>-502.488007</td>\n",
       "      <td>12.099931</td>\n",
       "      <td>-504.715942</td>\n",
       "      <td>9.925633</td>\n",
       "      <td>-498.310211</td>\n",
       "      <td>8.079666</td>\n",
       "      <td>-500.470978</td>\n",
       "      <td>14.151341</td>\n",
       "      <td>-605.841980</td>\n",
       "    </tr>\n",
       "    <tr>\n",
       "      <th>1</th>\n",
       "      <td>2016-01-15 01:00:00</td>\n",
       "      <td>6.029369</td>\n",
       "      <td>9.968944</td>\n",
       "      <td>5.257781</td>\n",
       "      <td>42.701629</td>\n",
       "      <td>69.266198</td>\n",
       "      <td>10.462676</td>\n",
       "      <td>0.927452</td>\n",
       "      <td>16.634514</td>\n",
       "      <td>2.224930</td>\n",
       "      <td>...</td>\n",
       "      <td>13.992281</td>\n",
       "      <td>-505.503262</td>\n",
       "      <td>11.950531</td>\n",
       "      <td>-501.331529</td>\n",
       "      <td>10.039245</td>\n",
       "      <td>-500.169983</td>\n",
       "      <td>7.984757</td>\n",
       "      <td>-500.582168</td>\n",
       "      <td>13.998353</td>\n",
       "      <td>-599.787184</td>\n",
       "    </tr>\n",
       "    <tr>\n",
       "      <th>2</th>\n",
       "      <td>2016-01-15 02:00:00</td>\n",
       "      <td>6.055926</td>\n",
       "      <td>10.213995</td>\n",
       "      <td>5.383759</td>\n",
       "      <td>42.657501</td>\n",
       "      <td>68.116445</td>\n",
       "      <td>10.507046</td>\n",
       "      <td>0.953716</td>\n",
       "      <td>16.208849</td>\n",
       "      <td>2.257889</td>\n",
       "      <td>...</td>\n",
       "      <td>14.015015</td>\n",
       "      <td>-502.520901</td>\n",
       "      <td>11.912783</td>\n",
       "      <td>-501.133383</td>\n",
       "      <td>10.070913</td>\n",
       "      <td>-500.129135</td>\n",
       "      <td>8.013877</td>\n",
       "      <td>-500.517572</td>\n",
       "      <td>14.028663</td>\n",
       "      <td>-601.427363</td>\n",
       "    </tr>\n",
       "    <tr>\n",
       "      <th>3</th>\n",
       "      <td>2016-01-15 03:00:00</td>\n",
       "      <td>6.047977</td>\n",
       "      <td>9.977019</td>\n",
       "      <td>4.858634</td>\n",
       "      <td>42.689819</td>\n",
       "      <td>68.347543</td>\n",
       "      <td>10.422762</td>\n",
       "      <td>0.883763</td>\n",
       "      <td>16.532835</td>\n",
       "      <td>2.146849</td>\n",
       "      <td>...</td>\n",
       "      <td>14.036510</td>\n",
       "      <td>-500.857308</td>\n",
       "      <td>11.999550</td>\n",
       "      <td>-501.193686</td>\n",
       "      <td>9.970366</td>\n",
       "      <td>-499.201640</td>\n",
       "      <td>7.977324</td>\n",
       "      <td>-500.255908</td>\n",
       "      <td>14.005551</td>\n",
       "      <td>-599.996129</td>\n",
       "    </tr>\n",
       "    <tr>\n",
       "      <th>4</th>\n",
       "      <td>2016-01-15 04:00:00</td>\n",
       "      <td>6.148599</td>\n",
       "      <td>10.142511</td>\n",
       "      <td>4.939416</td>\n",
       "      <td>42.774141</td>\n",
       "      <td>66.927016</td>\n",
       "      <td>10.360302</td>\n",
       "      <td>0.792826</td>\n",
       "      <td>16.525686</td>\n",
       "      <td>2.055292</td>\n",
       "      <td>...</td>\n",
       "      <td>14.027298</td>\n",
       "      <td>-499.838632</td>\n",
       "      <td>11.953070</td>\n",
       "      <td>-501.053894</td>\n",
       "      <td>9.925709</td>\n",
       "      <td>-501.686727</td>\n",
       "      <td>7.894242</td>\n",
       "      <td>-500.356035</td>\n",
       "      <td>13.996647</td>\n",
       "      <td>-601.496691</td>\n",
       "    </tr>\n",
       "  </tbody>\n",
       "</table>\n",
       "<p>5 rows × 87 columns</p>\n",
       "</div>"
      ],
      "text/plain": [
       "                  date  final.output.concentrate_ag  \\\n",
       "0  2016-01-15 00:00:00                     6.055403   \n",
       "1  2016-01-15 01:00:00                     6.029369   \n",
       "2  2016-01-15 02:00:00                     6.055926   \n",
       "3  2016-01-15 03:00:00                     6.047977   \n",
       "4  2016-01-15 04:00:00                     6.148599   \n",
       "\n",
       "   final.output.concentrate_pb  final.output.concentrate_sol  \\\n",
       "0                     9.889648                      5.507324   \n",
       "1                     9.968944                      5.257781   \n",
       "2                    10.213995                      5.383759   \n",
       "3                     9.977019                      4.858634   \n",
       "4                    10.142511                      4.939416   \n",
       "\n",
       "   final.output.concentrate_au  final.output.recovery  final.output.tail_ag  \\\n",
       "0                    42.192020              70.541216             10.411962   \n",
       "1                    42.701629              69.266198             10.462676   \n",
       "2                    42.657501              68.116445             10.507046   \n",
       "3                    42.689819              68.347543             10.422762   \n",
       "4                    42.774141              66.927016             10.360302   \n",
       "\n",
       "   final.output.tail_pb  final.output.tail_sol  final.output.tail_au  ...  \\\n",
       "0              0.895447              16.904297              2.143149  ...   \n",
       "1              0.927452              16.634514              2.224930  ...   \n",
       "2              0.953716              16.208849              2.257889  ...   \n",
       "3              0.883763              16.532835              2.146849  ...   \n",
       "4              0.792826              16.525686              2.055292  ...   \n",
       "\n",
       "   secondary_cleaner.state.floatbank4_a_air  \\\n",
       "0                                 14.016835   \n",
       "1                                 13.992281   \n",
       "2                                 14.015015   \n",
       "3                                 14.036510   \n",
       "4                                 14.027298   \n",
       "\n",
       "   secondary_cleaner.state.floatbank4_a_level  \\\n",
       "0                                 -502.488007   \n",
       "1                                 -505.503262   \n",
       "2                                 -502.520901   \n",
       "3                                 -500.857308   \n",
       "4                                 -499.838632   \n",
       "\n",
       "   secondary_cleaner.state.floatbank4_b_air  \\\n",
       "0                                 12.099931   \n",
       "1                                 11.950531   \n",
       "2                                 11.912783   \n",
       "3                                 11.999550   \n",
       "4                                 11.953070   \n",
       "\n",
       "   secondary_cleaner.state.floatbank4_b_level  \\\n",
       "0                                 -504.715942   \n",
       "1                                 -501.331529   \n",
       "2                                 -501.133383   \n",
       "3                                 -501.193686   \n",
       "4                                 -501.053894   \n",
       "\n",
       "   secondary_cleaner.state.floatbank5_a_air  \\\n",
       "0                                  9.925633   \n",
       "1                                 10.039245   \n",
       "2                                 10.070913   \n",
       "3                                  9.970366   \n",
       "4                                  9.925709   \n",
       "\n",
       "   secondary_cleaner.state.floatbank5_a_level  \\\n",
       "0                                 -498.310211   \n",
       "1                                 -500.169983   \n",
       "2                                 -500.129135   \n",
       "3                                 -499.201640   \n",
       "4                                 -501.686727   \n",
       "\n",
       "   secondary_cleaner.state.floatbank5_b_air  \\\n",
       "0                                  8.079666   \n",
       "1                                  7.984757   \n",
       "2                                  8.013877   \n",
       "3                                  7.977324   \n",
       "4                                  7.894242   \n",
       "\n",
       "   secondary_cleaner.state.floatbank5_b_level  \\\n",
       "0                                 -500.470978   \n",
       "1                                 -500.582168   \n",
       "2                                 -500.517572   \n",
       "3                                 -500.255908   \n",
       "4                                 -500.356035   \n",
       "\n",
       "   secondary_cleaner.state.floatbank6_a_air  \\\n",
       "0                                 14.151341   \n",
       "1                                 13.998353   \n",
       "2                                 14.028663   \n",
       "3                                 14.005551   \n",
       "4                                 13.996647   \n",
       "\n",
       "   secondary_cleaner.state.floatbank6_a_level  \n",
       "0                                 -605.841980  \n",
       "1                                 -599.787184  \n",
       "2                                 -601.427363  \n",
       "3                                 -599.996129  \n",
       "4                                 -601.496691  \n",
       "\n",
       "[5 rows x 87 columns]"
      ]
     },
     "metadata": {},
     "output_type": "display_data"
    },
    {
     "name": "stdout",
     "output_type": "stream",
     "text": [
      "<class 'pandas.core.frame.DataFrame'>\n",
      "RangeIndex: 14149 entries, 0 to 14148\n",
      "Data columns (total 87 columns):\n",
      " #   Column                                              Non-Null Count  Dtype  \n",
      "---  ------                                              --------------  -----  \n",
      " 0   date                                                14149 non-null  object \n",
      " 1   final.output.concentrate_ag                         14148 non-null  float64\n",
      " 2   final.output.concentrate_pb                         14148 non-null  float64\n",
      " 3   final.output.concentrate_sol                        13938 non-null  float64\n",
      " 4   final.output.concentrate_au                         14149 non-null  float64\n",
      " 5   final.output.recovery                               14149 non-null  float64\n",
      " 6   final.output.tail_ag                                14149 non-null  float64\n",
      " 7   final.output.tail_pb                                14049 non-null  float64\n",
      " 8   final.output.tail_sol                               14144 non-null  float64\n",
      " 9   final.output.tail_au                                14149 non-null  float64\n",
      " 10  primary_cleaner.input.sulfate                       14129 non-null  float64\n",
      " 11  primary_cleaner.input.depressant                    14117 non-null  float64\n",
      " 12  primary_cleaner.input.feed_size                     14149 non-null  float64\n",
      " 13  primary_cleaner.input.xanthate                      14049 non-null  float64\n",
      " 14  primary_cleaner.output.concentrate_ag               14149 non-null  float64\n",
      " 15  primary_cleaner.output.concentrate_pb               14063 non-null  float64\n",
      " 16  primary_cleaner.output.concentrate_sol              13863 non-null  float64\n",
      " 17  primary_cleaner.output.concentrate_au               14149 non-null  float64\n",
      " 18  primary_cleaner.output.tail_ag                      14148 non-null  float64\n",
      " 19  primary_cleaner.output.tail_pb                      14134 non-null  float64\n",
      " 20  primary_cleaner.output.tail_sol                     14103 non-null  float64\n",
      " 21  primary_cleaner.output.tail_au                      14149 non-null  float64\n",
      " 22  primary_cleaner.state.floatbank8_a_air              14145 non-null  float64\n",
      " 23  primary_cleaner.state.floatbank8_a_level            14148 non-null  float64\n",
      " 24  primary_cleaner.state.floatbank8_b_air              14145 non-null  float64\n",
      " 25  primary_cleaner.state.floatbank8_b_level            14148 non-null  float64\n",
      " 26  primary_cleaner.state.floatbank8_c_air              14147 non-null  float64\n",
      " 27  primary_cleaner.state.floatbank8_c_level            14148 non-null  float64\n",
      " 28  primary_cleaner.state.floatbank8_d_air              14146 non-null  float64\n",
      " 29  primary_cleaner.state.floatbank8_d_level            14148 non-null  float64\n",
      " 30  rougher.calculation.sulfate_to_au_concentrate       14148 non-null  float64\n",
      " 31  rougher.calculation.floatbank10_sulfate_to_au_feed  14148 non-null  float64\n",
      " 32  rougher.calculation.floatbank11_sulfate_to_au_feed  14148 non-null  float64\n",
      " 33  rougher.calculation.au_pb_ratio                     14149 non-null  float64\n",
      " 34  rougher.input.feed_ag                               14149 non-null  float64\n",
      " 35  rougher.input.feed_pb                               14049 non-null  float64\n",
      " 36  rougher.input.feed_rate                             14141 non-null  float64\n",
      " 37  rougher.input.feed_size                             14005 non-null  float64\n",
      " 38  rougher.input.feed_sol                              14071 non-null  float64\n",
      " 39  rougher.input.feed_au                               14149 non-null  float64\n",
      " 40  rougher.input.floatbank10_sulfate                   14120 non-null  float64\n",
      " 41  rougher.input.floatbank10_xanthate                  14141 non-null  float64\n",
      " 42  rougher.input.floatbank11_sulfate                   14113 non-null  float64\n",
      " 43  rougher.input.floatbank11_xanthate                  13721 non-null  float64\n",
      " 44  rougher.output.concentrate_ag                       14149 non-null  float64\n",
      " 45  rougher.output.concentrate_pb                       14149 non-null  float64\n",
      " 46  rougher.output.concentrate_sol                      14127 non-null  float64\n",
      " 47  rougher.output.concentrate_au                       14149 non-null  float64\n",
      " 48  rougher.output.recovery                             14149 non-null  float64\n",
      " 49  rougher.output.tail_ag                              14148 non-null  float64\n",
      " 50  rougher.output.tail_pb                              14149 non-null  float64\n",
      " 51  rougher.output.tail_sol                             14149 non-null  float64\n",
      " 52  rougher.output.tail_au                              14149 non-null  float64\n",
      " 53  rougher.state.floatbank10_a_air                     14148 non-null  float64\n",
      " 54  rougher.state.floatbank10_a_level                   14148 non-null  float64\n",
      " 55  rougher.state.floatbank10_b_air                     14148 non-null  float64\n",
      " 56  rougher.state.floatbank10_b_level                   14148 non-null  float64\n",
      " 57  rougher.state.floatbank10_c_air                     14148 non-null  float64\n",
      " 58  rougher.state.floatbank10_c_level                   14148 non-null  float64\n",
      " 59  rougher.state.floatbank10_d_air                     14149 non-null  float64\n",
      " 60  rougher.state.floatbank10_d_level                   14149 non-null  float64\n",
      " 61  rougher.state.floatbank10_e_air                     13713 non-null  float64\n",
      " 62  rougher.state.floatbank10_e_level                   14149 non-null  float64\n",
      " 63  rougher.state.floatbank10_f_air                     14149 non-null  float64\n",
      " 64  rougher.state.floatbank10_f_level                   14149 non-null  float64\n",
      " 65  secondary_cleaner.output.tail_ag                    14147 non-null  float64\n",
      " 66  secondary_cleaner.output.tail_pb                    14139 non-null  float64\n",
      " 67  secondary_cleaner.output.tail_sol                   12544 non-null  float64\n",
      " 68  secondary_cleaner.output.tail_au                    14149 non-null  float64\n",
      " 69  secondary_cleaner.state.floatbank2_a_air            13932 non-null  float64\n",
      " 70  secondary_cleaner.state.floatbank2_a_level          14148 non-null  float64\n",
      " 71  secondary_cleaner.state.floatbank2_b_air            14128 non-null  float64\n",
      " 72  secondary_cleaner.state.floatbank2_b_level          14148 non-null  float64\n",
      " 73  secondary_cleaner.state.floatbank3_a_air            14145 non-null  float64\n",
      " 74  secondary_cleaner.state.floatbank3_a_level          14148 non-null  float64\n",
      " 75  secondary_cleaner.state.floatbank3_b_air            14148 non-null  float64\n",
      " 76  secondary_cleaner.state.floatbank3_b_level          14148 non-null  float64\n",
      " 77  secondary_cleaner.state.floatbank4_a_air            14143 non-null  float64\n",
      " 78  secondary_cleaner.state.floatbank4_a_level          14148 non-null  float64\n",
      " 79  secondary_cleaner.state.floatbank4_b_air            14148 non-null  float64\n",
      " 80  secondary_cleaner.state.floatbank4_b_level          14148 non-null  float64\n",
      " 81  secondary_cleaner.state.floatbank5_a_air            14148 non-null  float64\n",
      " 82  secondary_cleaner.state.floatbank5_a_level          14148 non-null  float64\n",
      " 83  secondary_cleaner.state.floatbank5_b_air            14148 non-null  float64\n",
      " 84  secondary_cleaner.state.floatbank5_b_level          14148 non-null  float64\n",
      " 85  secondary_cleaner.state.floatbank6_a_air            14147 non-null  float64\n",
      " 86  secondary_cleaner.state.floatbank6_a_level          14148 non-null  float64\n",
      "dtypes: float64(86), object(1)\n",
      "memory usage: 9.4+ MB\n"
     ]
    },
    {
     "data": {
      "text/plain": [
       "None"
      ]
     },
     "metadata": {},
     "output_type": "display_data"
    },
    {
     "name": "stdout",
     "output_type": "stream",
     "text": [
      "Количество дубликатов: 0\n",
      "Количество пропусков: 4100\n"
     ]
    }
   ],
   "source": [
    "data_train = import_data(\"/datasets/gold_recovery_train_new.csv\")"
   ]
  },
  {
   "cell_type": "markdown",
   "metadata": {},
   "source": [
    "#### Тестовая выборка"
   ]
  },
  {
   "cell_type": "code",
   "execution_count": 5,
   "metadata": {
    "scrolled": true
   },
   "outputs": [
    {
     "data": {
      "text/html": [
       "<div>\n",
       "<style scoped>\n",
       "    .dataframe tbody tr th:only-of-type {\n",
       "        vertical-align: middle;\n",
       "    }\n",
       "\n",
       "    .dataframe tbody tr th {\n",
       "        vertical-align: top;\n",
       "    }\n",
       "\n",
       "    .dataframe thead th {\n",
       "        text-align: right;\n",
       "    }\n",
       "</style>\n",
       "<table border=\"1\" class=\"dataframe\">\n",
       "  <thead>\n",
       "    <tr style=\"text-align: right;\">\n",
       "      <th></th>\n",
       "      <th>date</th>\n",
       "      <th>primary_cleaner.input.sulfate</th>\n",
       "      <th>primary_cleaner.input.depressant</th>\n",
       "      <th>primary_cleaner.input.feed_size</th>\n",
       "      <th>primary_cleaner.input.xanthate</th>\n",
       "      <th>primary_cleaner.state.floatbank8_a_air</th>\n",
       "      <th>primary_cleaner.state.floatbank8_a_level</th>\n",
       "      <th>primary_cleaner.state.floatbank8_b_air</th>\n",
       "      <th>primary_cleaner.state.floatbank8_b_level</th>\n",
       "      <th>primary_cleaner.state.floatbank8_c_air</th>\n",
       "      <th>...</th>\n",
       "      <th>secondary_cleaner.state.floatbank4_a_air</th>\n",
       "      <th>secondary_cleaner.state.floatbank4_a_level</th>\n",
       "      <th>secondary_cleaner.state.floatbank4_b_air</th>\n",
       "      <th>secondary_cleaner.state.floatbank4_b_level</th>\n",
       "      <th>secondary_cleaner.state.floatbank5_a_air</th>\n",
       "      <th>secondary_cleaner.state.floatbank5_a_level</th>\n",
       "      <th>secondary_cleaner.state.floatbank5_b_air</th>\n",
       "      <th>secondary_cleaner.state.floatbank5_b_level</th>\n",
       "      <th>secondary_cleaner.state.floatbank6_a_air</th>\n",
       "      <th>secondary_cleaner.state.floatbank6_a_level</th>\n",
       "    </tr>\n",
       "  </thead>\n",
       "  <tbody>\n",
       "    <tr>\n",
       "      <th>0</th>\n",
       "      <td>2016-09-01 00:59:59</td>\n",
       "      <td>210.800909</td>\n",
       "      <td>14.993118</td>\n",
       "      <td>8.080000</td>\n",
       "      <td>1.005021</td>\n",
       "      <td>1398.981301</td>\n",
       "      <td>-500.225577</td>\n",
       "      <td>1399.144926</td>\n",
       "      <td>-499.919735</td>\n",
       "      <td>1400.102998</td>\n",
       "      <td>...</td>\n",
       "      <td>12.023554</td>\n",
       "      <td>-497.795834</td>\n",
       "      <td>8.016656</td>\n",
       "      <td>-501.289139</td>\n",
       "      <td>7.946562</td>\n",
       "      <td>-432.317850</td>\n",
       "      <td>4.872511</td>\n",
       "      <td>-500.037437</td>\n",
       "      <td>26.705889</td>\n",
       "      <td>-499.709414</td>\n",
       "    </tr>\n",
       "    <tr>\n",
       "      <th>1</th>\n",
       "      <td>2016-09-01 01:59:59</td>\n",
       "      <td>215.392455</td>\n",
       "      <td>14.987471</td>\n",
       "      <td>8.080000</td>\n",
       "      <td>0.990469</td>\n",
       "      <td>1398.777912</td>\n",
       "      <td>-500.057435</td>\n",
       "      <td>1398.055362</td>\n",
       "      <td>-499.778182</td>\n",
       "      <td>1396.151033</td>\n",
       "      <td>...</td>\n",
       "      <td>12.058140</td>\n",
       "      <td>-498.695773</td>\n",
       "      <td>8.130979</td>\n",
       "      <td>-499.634209</td>\n",
       "      <td>7.958270</td>\n",
       "      <td>-525.839648</td>\n",
       "      <td>4.878850</td>\n",
       "      <td>-500.162375</td>\n",
       "      <td>25.019940</td>\n",
       "      <td>-499.819438</td>\n",
       "    </tr>\n",
       "    <tr>\n",
       "      <th>2</th>\n",
       "      <td>2016-09-01 02:59:59</td>\n",
       "      <td>215.259946</td>\n",
       "      <td>12.884934</td>\n",
       "      <td>7.786667</td>\n",
       "      <td>0.996043</td>\n",
       "      <td>1398.493666</td>\n",
       "      <td>-500.868360</td>\n",
       "      <td>1398.860436</td>\n",
       "      <td>-499.764529</td>\n",
       "      <td>1398.075709</td>\n",
       "      <td>...</td>\n",
       "      <td>11.962366</td>\n",
       "      <td>-498.767484</td>\n",
       "      <td>8.096893</td>\n",
       "      <td>-500.827423</td>\n",
       "      <td>8.071056</td>\n",
       "      <td>-500.801673</td>\n",
       "      <td>4.905125</td>\n",
       "      <td>-499.828510</td>\n",
       "      <td>24.994862</td>\n",
       "      <td>-500.622559</td>\n",
       "    </tr>\n",
       "    <tr>\n",
       "      <th>3</th>\n",
       "      <td>2016-09-01 03:59:59</td>\n",
       "      <td>215.336236</td>\n",
       "      <td>12.006805</td>\n",
       "      <td>7.640000</td>\n",
       "      <td>0.863514</td>\n",
       "      <td>1399.618111</td>\n",
       "      <td>-498.863574</td>\n",
       "      <td>1397.440120</td>\n",
       "      <td>-499.211024</td>\n",
       "      <td>1400.129303</td>\n",
       "      <td>...</td>\n",
       "      <td>12.033091</td>\n",
       "      <td>-498.350935</td>\n",
       "      <td>8.074946</td>\n",
       "      <td>-499.474407</td>\n",
       "      <td>7.897085</td>\n",
       "      <td>-500.868509</td>\n",
       "      <td>4.931400</td>\n",
       "      <td>-499.963623</td>\n",
       "      <td>24.948919</td>\n",
       "      <td>-498.709987</td>\n",
       "    </tr>\n",
       "    <tr>\n",
       "      <th>4</th>\n",
       "      <td>2016-09-01 04:59:59</td>\n",
       "      <td>199.099327</td>\n",
       "      <td>10.682530</td>\n",
       "      <td>7.530000</td>\n",
       "      <td>0.805575</td>\n",
       "      <td>1401.268123</td>\n",
       "      <td>-500.808305</td>\n",
       "      <td>1398.128818</td>\n",
       "      <td>-499.504543</td>\n",
       "      <td>1402.172226</td>\n",
       "      <td>...</td>\n",
       "      <td>12.025367</td>\n",
       "      <td>-500.786497</td>\n",
       "      <td>8.054678</td>\n",
       "      <td>-500.397500</td>\n",
       "      <td>8.107890</td>\n",
       "      <td>-509.526725</td>\n",
       "      <td>4.957674</td>\n",
       "      <td>-500.360026</td>\n",
       "      <td>25.003331</td>\n",
       "      <td>-500.856333</td>\n",
       "    </tr>\n",
       "  </tbody>\n",
       "</table>\n",
       "<p>5 rows × 53 columns</p>\n",
       "</div>"
      ],
      "text/plain": [
       "                  date  primary_cleaner.input.sulfate  \\\n",
       "0  2016-09-01 00:59:59                     210.800909   \n",
       "1  2016-09-01 01:59:59                     215.392455   \n",
       "2  2016-09-01 02:59:59                     215.259946   \n",
       "3  2016-09-01 03:59:59                     215.336236   \n",
       "4  2016-09-01 04:59:59                     199.099327   \n",
       "\n",
       "   primary_cleaner.input.depressant  primary_cleaner.input.feed_size  \\\n",
       "0                         14.993118                         8.080000   \n",
       "1                         14.987471                         8.080000   \n",
       "2                         12.884934                         7.786667   \n",
       "3                         12.006805                         7.640000   \n",
       "4                         10.682530                         7.530000   \n",
       "\n",
       "   primary_cleaner.input.xanthate  primary_cleaner.state.floatbank8_a_air  \\\n",
       "0                        1.005021                             1398.981301   \n",
       "1                        0.990469                             1398.777912   \n",
       "2                        0.996043                             1398.493666   \n",
       "3                        0.863514                             1399.618111   \n",
       "4                        0.805575                             1401.268123   \n",
       "\n",
       "   primary_cleaner.state.floatbank8_a_level  \\\n",
       "0                               -500.225577   \n",
       "1                               -500.057435   \n",
       "2                               -500.868360   \n",
       "3                               -498.863574   \n",
       "4                               -500.808305   \n",
       "\n",
       "   primary_cleaner.state.floatbank8_b_air  \\\n",
       "0                             1399.144926   \n",
       "1                             1398.055362   \n",
       "2                             1398.860436   \n",
       "3                             1397.440120   \n",
       "4                             1398.128818   \n",
       "\n",
       "   primary_cleaner.state.floatbank8_b_level  \\\n",
       "0                               -499.919735   \n",
       "1                               -499.778182   \n",
       "2                               -499.764529   \n",
       "3                               -499.211024   \n",
       "4                               -499.504543   \n",
       "\n",
       "   primary_cleaner.state.floatbank8_c_air  ...  \\\n",
       "0                             1400.102998  ...   \n",
       "1                             1396.151033  ...   \n",
       "2                             1398.075709  ...   \n",
       "3                             1400.129303  ...   \n",
       "4                             1402.172226  ...   \n",
       "\n",
       "   secondary_cleaner.state.floatbank4_a_air  \\\n",
       "0                                 12.023554   \n",
       "1                                 12.058140   \n",
       "2                                 11.962366   \n",
       "3                                 12.033091   \n",
       "4                                 12.025367   \n",
       "\n",
       "   secondary_cleaner.state.floatbank4_a_level  \\\n",
       "0                                 -497.795834   \n",
       "1                                 -498.695773   \n",
       "2                                 -498.767484   \n",
       "3                                 -498.350935   \n",
       "4                                 -500.786497   \n",
       "\n",
       "   secondary_cleaner.state.floatbank4_b_air  \\\n",
       "0                                  8.016656   \n",
       "1                                  8.130979   \n",
       "2                                  8.096893   \n",
       "3                                  8.074946   \n",
       "4                                  8.054678   \n",
       "\n",
       "   secondary_cleaner.state.floatbank4_b_level  \\\n",
       "0                                 -501.289139   \n",
       "1                                 -499.634209   \n",
       "2                                 -500.827423   \n",
       "3                                 -499.474407   \n",
       "4                                 -500.397500   \n",
       "\n",
       "   secondary_cleaner.state.floatbank5_a_air  \\\n",
       "0                                  7.946562   \n",
       "1                                  7.958270   \n",
       "2                                  8.071056   \n",
       "3                                  7.897085   \n",
       "4                                  8.107890   \n",
       "\n",
       "   secondary_cleaner.state.floatbank5_a_level  \\\n",
       "0                                 -432.317850   \n",
       "1                                 -525.839648   \n",
       "2                                 -500.801673   \n",
       "3                                 -500.868509   \n",
       "4                                 -509.526725   \n",
       "\n",
       "   secondary_cleaner.state.floatbank5_b_air  \\\n",
       "0                                  4.872511   \n",
       "1                                  4.878850   \n",
       "2                                  4.905125   \n",
       "3                                  4.931400   \n",
       "4                                  4.957674   \n",
       "\n",
       "   secondary_cleaner.state.floatbank5_b_level  \\\n",
       "0                                 -500.037437   \n",
       "1                                 -500.162375   \n",
       "2                                 -499.828510   \n",
       "3                                 -499.963623   \n",
       "4                                 -500.360026   \n",
       "\n",
       "   secondary_cleaner.state.floatbank6_a_air  \\\n",
       "0                                 26.705889   \n",
       "1                                 25.019940   \n",
       "2                                 24.994862   \n",
       "3                                 24.948919   \n",
       "4                                 25.003331   \n",
       "\n",
       "   secondary_cleaner.state.floatbank6_a_level  \n",
       "0                                 -499.709414  \n",
       "1                                 -499.819438  \n",
       "2                                 -500.622559  \n",
       "3                                 -498.709987  \n",
       "4                                 -500.856333  \n",
       "\n",
       "[5 rows x 53 columns]"
      ]
     },
     "metadata": {},
     "output_type": "display_data"
    },
    {
     "name": "stdout",
     "output_type": "stream",
     "text": [
      "<class 'pandas.core.frame.DataFrame'>\n",
      "RangeIndex: 5290 entries, 0 to 5289\n",
      "Data columns (total 53 columns):\n",
      " #   Column                                      Non-Null Count  Dtype  \n",
      "---  ------                                      --------------  -----  \n",
      " 0   date                                        5290 non-null   object \n",
      " 1   primary_cleaner.input.sulfate               5286 non-null   float64\n",
      " 2   primary_cleaner.input.depressant            5285 non-null   float64\n",
      " 3   primary_cleaner.input.feed_size             5290 non-null   float64\n",
      " 4   primary_cleaner.input.xanthate              5286 non-null   float64\n",
      " 5   primary_cleaner.state.floatbank8_a_air      5290 non-null   float64\n",
      " 6   primary_cleaner.state.floatbank8_a_level    5290 non-null   float64\n",
      " 7   primary_cleaner.state.floatbank8_b_air      5290 non-null   float64\n",
      " 8   primary_cleaner.state.floatbank8_b_level    5290 non-null   float64\n",
      " 9   primary_cleaner.state.floatbank8_c_air      5290 non-null   float64\n",
      " 10  primary_cleaner.state.floatbank8_c_level    5290 non-null   float64\n",
      " 11  primary_cleaner.state.floatbank8_d_air      5290 non-null   float64\n",
      " 12  primary_cleaner.state.floatbank8_d_level    5290 non-null   float64\n",
      " 13  rougher.input.feed_ag                       5290 non-null   float64\n",
      " 14  rougher.input.feed_pb                       5290 non-null   float64\n",
      " 15  rougher.input.feed_rate                     5287 non-null   float64\n",
      " 16  rougher.input.feed_size                     5289 non-null   float64\n",
      " 17  rougher.input.feed_sol                      5269 non-null   float64\n",
      " 18  rougher.input.feed_au                       5290 non-null   float64\n",
      " 19  rougher.input.floatbank10_sulfate           5285 non-null   float64\n",
      " 20  rougher.input.floatbank10_xanthate          5290 non-null   float64\n",
      " 21  rougher.input.floatbank11_sulfate           5282 non-null   float64\n",
      " 22  rougher.input.floatbank11_xanthate          5265 non-null   float64\n",
      " 23  rougher.state.floatbank10_a_air             5290 non-null   float64\n",
      " 24  rougher.state.floatbank10_a_level           5290 non-null   float64\n",
      " 25  rougher.state.floatbank10_b_air             5290 non-null   float64\n",
      " 26  rougher.state.floatbank10_b_level           5290 non-null   float64\n",
      " 27  rougher.state.floatbank10_c_air             5290 non-null   float64\n",
      " 28  rougher.state.floatbank10_c_level           5290 non-null   float64\n",
      " 29  rougher.state.floatbank10_d_air             5290 non-null   float64\n",
      " 30  rougher.state.floatbank10_d_level           5290 non-null   float64\n",
      " 31  rougher.state.floatbank10_e_air             5290 non-null   float64\n",
      " 32  rougher.state.floatbank10_e_level           5290 non-null   float64\n",
      " 33  rougher.state.floatbank10_f_air             5290 non-null   float64\n",
      " 34  rougher.state.floatbank10_f_level           5290 non-null   float64\n",
      " 35  secondary_cleaner.state.floatbank2_a_air    5287 non-null   float64\n",
      " 36  secondary_cleaner.state.floatbank2_a_level  5290 non-null   float64\n",
      " 37  secondary_cleaner.state.floatbank2_b_air    5288 non-null   float64\n",
      " 38  secondary_cleaner.state.floatbank2_b_level  5290 non-null   float64\n",
      " 39  secondary_cleaner.state.floatbank3_a_air    5281 non-null   float64\n",
      " 40  secondary_cleaner.state.floatbank3_a_level  5290 non-null   float64\n",
      " 41  secondary_cleaner.state.floatbank3_b_air    5290 non-null   float64\n",
      " 42  secondary_cleaner.state.floatbank3_b_level  5290 non-null   float64\n",
      " 43  secondary_cleaner.state.floatbank4_a_air    5290 non-null   float64\n",
      " 44  secondary_cleaner.state.floatbank4_a_level  5290 non-null   float64\n",
      " 45  secondary_cleaner.state.floatbank4_b_air    5290 non-null   float64\n",
      " 46  secondary_cleaner.state.floatbank4_b_level  5290 non-null   float64\n",
      " 47  secondary_cleaner.state.floatbank5_a_air    5290 non-null   float64\n",
      " 48  secondary_cleaner.state.floatbank5_a_level  5290 non-null   float64\n",
      " 49  secondary_cleaner.state.floatbank5_b_air    5290 non-null   float64\n",
      " 50  secondary_cleaner.state.floatbank5_b_level  5290 non-null   float64\n",
      " 51  secondary_cleaner.state.floatbank6_a_air    5290 non-null   float64\n",
      " 52  secondary_cleaner.state.floatbank6_a_level  5290 non-null   float64\n",
      "dtypes: float64(52), object(1)\n",
      "memory usage: 2.1+ MB\n"
     ]
    },
    {
     "data": {
      "text/plain": [
       "None"
      ]
     },
     "metadata": {},
     "output_type": "display_data"
    },
    {
     "name": "stdout",
     "output_type": "stream",
     "text": [
      "Количество дубликатов: 0\n",
      "Количество пропусков: 90\n"
     ]
    }
   ],
   "source": [
    "data_test = import_data(\"/datasets/gold_recovery_test_new.csv\")"
   ]
  },
  {
   "cell_type": "code",
   "execution_count": 6,
   "metadata": {},
   "outputs": [
    {
     "name": "stdout",
     "output_type": "stream",
     "text": [
      "Соотношение тренировочной выборки с тестовой: 0.3738780125803944\n"
     ]
    }
   ],
   "source": [
    "print(\"Соотношение тренировочной выборки с тестовой:\",len(data_test)/len(data_train))"
   ]
  },
  {
   "cell_type": "markdown",
   "metadata": {},
   "source": [
    "**Вывод:**"
   ]
  },
  {
   "cell_type": "markdown",
   "metadata": {},
   "source": [
    "- Данные и типы данных соответсвуют описанию;\n",
    "- Дубликаты не присутствуют;\n",
    "- Есть пропуски: 4100 в тренировочной и 90 в тестовой выборки;\n",
    "- Тренировочная выборка имеет 87 столбцов, а тестировочная только 53;\n",
    "- Соотношение тренировочной выборки с тестовой равно 0.67 %.\n"
   ]
  },
  {
   "cell_type": "markdown",
   "metadata": {},
   "source": [
    "### Проверка расчетов эффективности обогащения "
   ]
  },
  {
   "cell_type": "markdown",
   "metadata": {},
   "source": [
    "Проверим, что эффективность обогащения рассчитана правильно:"
   ]
  },
  {
   "cell_type": "code",
   "execution_count": 7,
   "metadata": {},
   "outputs": [],
   "source": [
    "def recovery(c,f,t):\n",
    "    recovery = (c*(f-t))/(f*(c-t)) * 100\n",
    "    return recovery"
   ]
  },
  {
   "cell_type": "code",
   "execution_count": 8,
   "metadata": {},
   "outputs": [],
   "source": [
    "c = data_train[\"rougher.output.concentrate_au\"]\n",
    "f = data_train[\"rougher.input.feed_au\"]\n",
    "t = data_train[\"rougher.output.tail_au\"]\n",
    "rought_recovery = recovery(c,f,t)"
   ]
  },
  {
   "cell_type": "code",
   "execution_count": 9,
   "metadata": {},
   "outputs": [],
   "source": [
    "mae = mean_squared_error(data_train[\"rougher.output.recovery\"],rought_recovery)"
   ]
  },
  {
   "cell_type": "code",
   "execution_count": 10,
   "metadata": {
    "scrolled": true
   },
   "outputs": [
    {
     "name": "stdout",
     "output_type": "stream",
     "text": [
      "MAE между расчётами и значением признака: 2.1779764378612226e-28\n"
     ]
    }
   ],
   "source": [
    "print(\"MAE между расчётами и значением признака:\",mean_squared_error(data_train[\"rougher.output.recovery\"],rought_recovery))"
   ]
  },
  {
   "cell_type": "markdown",
   "metadata": {},
   "source": [
    "**Вывод:**"
   ]
  },
  {
   "cell_type": "markdown",
   "metadata": {},
   "source": [
    "- Разница между значениями очень мала - расчет верный. "
   ]
  },
  {
   "cell_type": "markdown",
   "metadata": {},
   "source": [
    "### Анализ признаков недоступных в тестовой выборке"
   ]
  },
  {
   "cell_type": "markdown",
   "metadata": {},
   "source": [
    "Напечатаем столбцы которых нет в тестовой выборке:"
   ]
  },
  {
   "cell_type": "code",
   "execution_count": 11,
   "metadata": {},
   "outputs": [
    {
     "name": "stdout",
     "output_type": "stream",
     "text": [
      "final.output.concentrate_ag\n",
      "final.output.concentrate_pb\n",
      "final.output.concentrate_sol\n",
      "final.output.concentrate_au\n",
      "final.output.recovery\n",
      "final.output.tail_ag\n",
      "final.output.tail_pb\n",
      "final.output.tail_sol\n",
      "final.output.tail_au\n",
      "primary_cleaner.output.concentrate_ag\n",
      "primary_cleaner.output.concentrate_pb\n",
      "primary_cleaner.output.concentrate_sol\n",
      "primary_cleaner.output.concentrate_au\n",
      "primary_cleaner.output.tail_ag\n",
      "primary_cleaner.output.tail_pb\n",
      "primary_cleaner.output.tail_sol\n",
      "primary_cleaner.output.tail_au\n",
      "rougher.calculation.sulfate_to_au_concentrate\n",
      "rougher.calculation.floatbank10_sulfate_to_au_feed\n",
      "rougher.calculation.floatbank11_sulfate_to_au_feed\n",
      "rougher.calculation.au_pb_ratio\n",
      "rougher.output.concentrate_ag\n",
      "rougher.output.concentrate_pb\n",
      "rougher.output.concentrate_sol\n",
      "rougher.output.concentrate_au\n",
      "rougher.output.recovery\n",
      "rougher.output.tail_ag\n",
      "rougher.output.tail_pb\n",
      "rougher.output.tail_sol\n",
      "rougher.output.tail_au\n",
      "secondary_cleaner.output.tail_ag\n",
      "secondary_cleaner.output.tail_pb\n",
      "secondary_cleaner.output.tail_sol\n",
      "secondary_cleaner.output.tail_au\n"
     ]
    }
   ],
   "source": [
    "for col in list(data_train.columns):\n",
    "    if col not in list(data_test.columns):\n",
    "        print(col)"
   ]
  },
  {
   "cell_type": "markdown",
   "metadata": {},
   "source": [
    "**Вывод:**"
   ]
  },
  {
   "cell_type": "markdown",
   "metadata": {},
   "source": [
    "- в тестовой выборке отсутствуют выходные параметры на каждом этапе (output);\n",
    "- в тестовой выборке отсутствуют расчетные признаки флотации (rougher.calculation)."
   ]
  },
  {
   "cell_type": "markdown",
   "metadata": {},
   "source": [
    "### Предобработка данных"
   ]
  },
  {
   "cell_type": "markdown",
   "metadata": {},
   "source": [
    "Подготовим данные для дальнейшего моделирование:"
   ]
  },
  {
   "cell_type": "markdown",
   "metadata": {},
   "source": [
    "Добавим целевой признак в тестовую выборку, используя дату как индекс:"
   ]
  },
  {
   "cell_type": "code",
   "execution_count": 12,
   "metadata": {},
   "outputs": [],
   "source": [
    "data_test = data_test.merge(data_full[['date', 'rougher.output.recovery', 'final.output.recovery']] ,on='date', how='left')"
   ]
  },
  {
   "cell_type": "markdown",
   "metadata": {},
   "source": [
    "Удалим все не нужные данные, синхронизировав с тестовой выборкой:"
   ]
  },
  {
   "cell_type": "code",
   "execution_count": 13,
   "metadata": {},
   "outputs": [],
   "source": [
    "data_train = data_train[data_test.columns]"
   ]
  },
  {
   "cell_type": "markdown",
   "metadata": {},
   "source": [
    "Проверим:"
   ]
  },
  {
   "cell_type": "code",
   "execution_count": 14,
   "metadata": {
    "scrolled": true
   },
   "outputs": [
    {
     "name": "stdout",
     "output_type": "stream",
     "text": [
      "(14149, 55)\n",
      "(5290, 55)\n"
     ]
    }
   ],
   "source": [
    "print(data_train.shape)\n",
    "print(data_test.shape)"
   ]
  },
  {
   "cell_type": "markdown",
   "metadata": {},
   "source": [
    "Заполним пропуски методом \"ffill\":"
   ]
  },
  {
   "cell_type": "code",
   "execution_count": 15,
   "metadata": {},
   "outputs": [],
   "source": [
    "data_train = data_train.fillna(method = \"ffill\")\n",
    "data_test = data_test.fillna(method = \"ffill\")"
   ]
  },
  {
   "cell_type": "markdown",
   "metadata": {},
   "source": [
    "Удалим даты, теперь они безполезны:"
   ]
  },
  {
   "cell_type": "code",
   "execution_count": 16,
   "metadata": {},
   "outputs": [],
   "source": [
    "data_train = data_train.drop([\"date\"], axis = 1)\n",
    "data_test = data_test.drop([\"date\"], axis = 1)"
   ]
  },
  {
   "cell_type": "markdown",
   "metadata": {},
   "source": [
    "Проведем скаллацию обоих выборок:"
   ]
  },
  {
   "cell_type": "code",
   "execution_count": 17,
   "metadata": {},
   "outputs": [],
   "source": [
    "features = list(data_train.drop([\"final.output.recovery\",\"rougher.output.recovery\"], axis = 1).columns)"
   ]
  },
  {
   "cell_type": "code",
   "execution_count": 18,
   "metadata": {},
   "outputs": [],
   "source": [
    "scaler = StandardScaler()\n",
    "scaler.fit(data_train[features])\n",
    "\n",
    "data_train[features] = scaler.transform(data_train[features])\n",
    "data_train = data_train.reset_index(drop=True)\n",
    "\n",
    "data_test[features] = scaler.transform(data_test[features])\n",
    "data_test = data_test.reset_index(drop=True)"
   ]
  },
  {
   "cell_type": "markdown",
   "metadata": {},
   "source": [
    "Проверяем:"
   ]
  },
  {
   "cell_type": "code",
   "execution_count": 19,
   "metadata": {},
   "outputs": [
    {
     "data": {
      "text/html": [
       "<div>\n",
       "<style scoped>\n",
       "    .dataframe tbody tr th:only-of-type {\n",
       "        vertical-align: middle;\n",
       "    }\n",
       "\n",
       "    .dataframe tbody tr th {\n",
       "        vertical-align: top;\n",
       "    }\n",
       "\n",
       "    .dataframe thead th {\n",
       "        text-align: right;\n",
       "    }\n",
       "</style>\n",
       "<table border=\"1\" class=\"dataframe\">\n",
       "  <thead>\n",
       "    <tr style=\"text-align: right;\">\n",
       "      <th></th>\n",
       "      <th>primary_cleaner.input.sulfate</th>\n",
       "      <th>primary_cleaner.input.depressant</th>\n",
       "      <th>primary_cleaner.input.feed_size</th>\n",
       "      <th>primary_cleaner.input.xanthate</th>\n",
       "      <th>primary_cleaner.state.floatbank8_a_air</th>\n",
       "      <th>primary_cleaner.state.floatbank8_a_level</th>\n",
       "      <th>primary_cleaner.state.floatbank8_b_air</th>\n",
       "      <th>primary_cleaner.state.floatbank8_b_level</th>\n",
       "      <th>primary_cleaner.state.floatbank8_c_air</th>\n",
       "      <th>primary_cleaner.state.floatbank8_c_level</th>\n",
       "      <th>...</th>\n",
       "      <th>secondary_cleaner.state.floatbank4_b_air</th>\n",
       "      <th>secondary_cleaner.state.floatbank4_b_level</th>\n",
       "      <th>secondary_cleaner.state.floatbank5_a_air</th>\n",
       "      <th>secondary_cleaner.state.floatbank5_a_level</th>\n",
       "      <th>secondary_cleaner.state.floatbank5_b_air</th>\n",
       "      <th>secondary_cleaner.state.floatbank5_b_level</th>\n",
       "      <th>secondary_cleaner.state.floatbank6_a_air</th>\n",
       "      <th>secondary_cleaner.state.floatbank6_a_level</th>\n",
       "      <th>rougher.output.recovery</th>\n",
       "      <th>final.output.recovery</th>\n",
       "    </tr>\n",
       "  </thead>\n",
       "  <tbody>\n",
       "    <tr>\n",
       "      <th>0</th>\n",
       "      <td>-0.154580</td>\n",
       "      <td>0.377154</td>\n",
       "      <td>-0.117761</td>\n",
       "      <td>0.285633</td>\n",
       "      <td>-0.453621</td>\n",
       "      <td>-0.283904</td>\n",
       "      <td>-0.436246</td>\n",
       "      <td>-0.810391</td>\n",
       "      <td>-0.439519</td>\n",
       "      <td>-0.254349</td>\n",
       "      <td>...</td>\n",
       "      <td>-0.644461</td>\n",
       "      <td>-0.755839</td>\n",
       "      <td>-1.174433</td>\n",
       "      <td>-0.378783</td>\n",
       "      <td>-0.864572</td>\n",
       "      <td>-0.420943</td>\n",
       "      <td>-0.941197</td>\n",
       "      <td>-2.670558</td>\n",
       "      <td>87.107763</td>\n",
       "      <td>70.541216</td>\n",
       "    </tr>\n",
       "    <tr>\n",
       "      <th>1</th>\n",
       "      <td>-0.191516</td>\n",
       "      <td>0.426914</td>\n",
       "      <td>-0.117761</td>\n",
       "      <td>0.322644</td>\n",
       "      <td>-0.248048</td>\n",
       "      <td>-0.339722</td>\n",
       "      <td>-0.249235</td>\n",
       "      <td>-0.318234</td>\n",
       "      <td>-0.244963</td>\n",
       "      <td>-0.272554</td>\n",
       "      <td>...</td>\n",
       "      <td>-0.672889</td>\n",
       "      <td>-0.698327</td>\n",
       "      <td>-1.154951</td>\n",
       "      <td>-0.427866</td>\n",
       "      <td>-0.881034</td>\n",
       "      <td>-0.423780</td>\n",
       "      <td>-0.967738</td>\n",
       "      <td>-2.507288</td>\n",
       "      <td>86.843261</td>\n",
       "      <td>69.266198</td>\n",
       "    </tr>\n",
       "    <tr>\n",
       "      <th>2</th>\n",
       "      <td>-0.237204</td>\n",
       "      <td>0.729117</td>\n",
       "      <td>-0.117761</td>\n",
       "      <td>0.292305</td>\n",
       "      <td>-0.050275</td>\n",
       "      <td>-0.314313</td>\n",
       "      <td>-0.062837</td>\n",
       "      <td>-0.340312</td>\n",
       "      <td>-0.051233</td>\n",
       "      <td>-0.316207</td>\n",
       "      <td>...</td>\n",
       "      <td>-0.680072</td>\n",
       "      <td>-0.694960</td>\n",
       "      <td>-1.149521</td>\n",
       "      <td>-0.426788</td>\n",
       "      <td>-0.875983</td>\n",
       "      <td>-0.422132</td>\n",
       "      <td>-0.962479</td>\n",
       "      <td>-2.551516</td>\n",
       "      <td>86.842308</td>\n",
       "      <td>68.116445</td>\n",
       "    </tr>\n",
       "  </tbody>\n",
       "</table>\n",
       "<p>3 rows × 54 columns</p>\n",
       "</div>"
      ],
      "text/plain": [
       "   primary_cleaner.input.sulfate  primary_cleaner.input.depressant  \\\n",
       "0                      -0.154580                          0.377154   \n",
       "1                      -0.191516                          0.426914   \n",
       "2                      -0.237204                          0.729117   \n",
       "\n",
       "   primary_cleaner.input.feed_size  primary_cleaner.input.xanthate  \\\n",
       "0                        -0.117761                        0.285633   \n",
       "1                        -0.117761                        0.322644   \n",
       "2                        -0.117761                        0.292305   \n",
       "\n",
       "   primary_cleaner.state.floatbank8_a_air  \\\n",
       "0                               -0.453621   \n",
       "1                               -0.248048   \n",
       "2                               -0.050275   \n",
       "\n",
       "   primary_cleaner.state.floatbank8_a_level  \\\n",
       "0                                 -0.283904   \n",
       "1                                 -0.339722   \n",
       "2                                 -0.314313   \n",
       "\n",
       "   primary_cleaner.state.floatbank8_b_air  \\\n",
       "0                               -0.436246   \n",
       "1                               -0.249235   \n",
       "2                               -0.062837   \n",
       "\n",
       "   primary_cleaner.state.floatbank8_b_level  \\\n",
       "0                                 -0.810391   \n",
       "1                                 -0.318234   \n",
       "2                                 -0.340312   \n",
       "\n",
       "   primary_cleaner.state.floatbank8_c_air  \\\n",
       "0                               -0.439519   \n",
       "1                               -0.244963   \n",
       "2                               -0.051233   \n",
       "\n",
       "   primary_cleaner.state.floatbank8_c_level  ...  \\\n",
       "0                                 -0.254349  ...   \n",
       "1                                 -0.272554  ...   \n",
       "2                                 -0.316207  ...   \n",
       "\n",
       "   secondary_cleaner.state.floatbank4_b_air  \\\n",
       "0                                 -0.644461   \n",
       "1                                 -0.672889   \n",
       "2                                 -0.680072   \n",
       "\n",
       "   secondary_cleaner.state.floatbank4_b_level  \\\n",
       "0                                   -0.755839   \n",
       "1                                   -0.698327   \n",
       "2                                   -0.694960   \n",
       "\n",
       "   secondary_cleaner.state.floatbank5_a_air  \\\n",
       "0                                 -1.174433   \n",
       "1                                 -1.154951   \n",
       "2                                 -1.149521   \n",
       "\n",
       "   secondary_cleaner.state.floatbank5_a_level  \\\n",
       "0                                   -0.378783   \n",
       "1                                   -0.427866   \n",
       "2                                   -0.426788   \n",
       "\n",
       "   secondary_cleaner.state.floatbank5_b_air  \\\n",
       "0                                 -0.864572   \n",
       "1                                 -0.881034   \n",
       "2                                 -0.875983   \n",
       "\n",
       "   secondary_cleaner.state.floatbank5_b_level  \\\n",
       "0                                   -0.420943   \n",
       "1                                   -0.423780   \n",
       "2                                   -0.422132   \n",
       "\n",
       "   secondary_cleaner.state.floatbank6_a_air  \\\n",
       "0                                 -0.941197   \n",
       "1                                 -0.967738   \n",
       "2                                 -0.962479   \n",
       "\n",
       "   secondary_cleaner.state.floatbank6_a_level  rougher.output.recovery  \\\n",
       "0                                   -2.670558                87.107763   \n",
       "1                                   -2.507288                86.843261   \n",
       "2                                   -2.551516                86.842308   \n",
       "\n",
       "   final.output.recovery  \n",
       "0              70.541216  \n",
       "1              69.266198  \n",
       "2              68.116445  \n",
       "\n",
       "[3 rows x 54 columns]"
      ]
     },
     "metadata": {},
     "output_type": "display_data"
    },
    {
     "data": {
      "text/html": [
       "<div>\n",
       "<style scoped>\n",
       "    .dataframe tbody tr th:only-of-type {\n",
       "        vertical-align: middle;\n",
       "    }\n",
       "\n",
       "    .dataframe tbody tr th {\n",
       "        vertical-align: top;\n",
       "    }\n",
       "\n",
       "    .dataframe thead th {\n",
       "        text-align: right;\n",
       "    }\n",
       "</style>\n",
       "<table border=\"1\" class=\"dataframe\">\n",
       "  <thead>\n",
       "    <tr style=\"text-align: right;\">\n",
       "      <th></th>\n",
       "      <th>primary_cleaner.input.sulfate</th>\n",
       "      <th>primary_cleaner.input.depressant</th>\n",
       "      <th>primary_cleaner.input.feed_size</th>\n",
       "      <th>primary_cleaner.input.xanthate</th>\n",
       "      <th>primary_cleaner.state.floatbank8_a_air</th>\n",
       "      <th>primary_cleaner.state.floatbank8_a_level</th>\n",
       "      <th>primary_cleaner.state.floatbank8_b_air</th>\n",
       "      <th>primary_cleaner.state.floatbank8_b_level</th>\n",
       "      <th>primary_cleaner.state.floatbank8_c_air</th>\n",
       "      <th>primary_cleaner.state.floatbank8_c_level</th>\n",
       "      <th>...</th>\n",
       "      <th>secondary_cleaner.state.floatbank4_b_air</th>\n",
       "      <th>secondary_cleaner.state.floatbank4_b_level</th>\n",
       "      <th>secondary_cleaner.state.floatbank5_a_air</th>\n",
       "      <th>secondary_cleaner.state.floatbank5_a_level</th>\n",
       "      <th>secondary_cleaner.state.floatbank5_b_air</th>\n",
       "      <th>secondary_cleaner.state.floatbank5_b_level</th>\n",
       "      <th>secondary_cleaner.state.floatbank6_a_air</th>\n",
       "      <th>secondary_cleaner.state.floatbank6_a_level</th>\n",
       "      <th>rougher.output.recovery</th>\n",
       "      <th>final.output.recovery</th>\n",
       "    </tr>\n",
       "  </thead>\n",
       "  <tbody>\n",
       "    <tr>\n",
       "      <th>0</th>\n",
       "      <td>1.959089</td>\n",
       "      <td>1.818448</td>\n",
       "      <td>1.233941</td>\n",
       "      <td>0.328922</td>\n",
       "      <td>-1.628244</td>\n",
       "      <td>-0.320693</td>\n",
       "      <td>-1.597904</td>\n",
       "      <td>-0.319837</td>\n",
       "      <td>-1.555083</td>\n",
       "      <td>-0.311555</td>\n",
       "      <td>...</td>\n",
       "      <td>-1.421433</td>\n",
       "      <td>-0.697607</td>\n",
       "      <td>-1.513793</td>\n",
       "      <td>1.362866</td>\n",
       "      <td>-1.420851</td>\n",
       "      <td>-0.409885</td>\n",
       "      <td>1.236789</td>\n",
       "      <td>0.191335</td>\n",
       "      <td>89.993421</td>\n",
       "      <td>70.273583</td>\n",
       "    </tr>\n",
       "    <tr>\n",
       "      <th>1</th>\n",
       "      <td>2.075027</td>\n",
       "      <td>1.816775</td>\n",
       "      <td>1.233941</td>\n",
       "      <td>0.290185</td>\n",
       "      <td>-1.629828</td>\n",
       "      <td>-0.315983</td>\n",
       "      <td>-1.606215</td>\n",
       "      <td>-0.315624</td>\n",
       "      <td>-1.584519</td>\n",
       "      <td>-0.270451</td>\n",
       "      <td>...</td>\n",
       "      <td>-1.399680</td>\n",
       "      <td>-0.669484</td>\n",
       "      <td>-1.511785</td>\n",
       "      <td>-1.105331</td>\n",
       "      <td>-1.419752</td>\n",
       "      <td>-0.413072</td>\n",
       "      <td>0.944308</td>\n",
       "      <td>0.188368</td>\n",
       "      <td>88.089657</td>\n",
       "      <td>68.910432</td>\n",
       "    </tr>\n",
       "    <tr>\n",
       "      <th>2</th>\n",
       "      <td>2.071681</td>\n",
       "      <td>1.193859</td>\n",
       "      <td>0.756231</td>\n",
       "      <td>0.305022</td>\n",
       "      <td>-1.632043</td>\n",
       "      <td>-0.338697</td>\n",
       "      <td>-1.600074</td>\n",
       "      <td>-0.315218</td>\n",
       "      <td>-1.570183</td>\n",
       "      <td>-0.352180</td>\n",
       "      <td>...</td>\n",
       "      <td>-1.406166</td>\n",
       "      <td>-0.689761</td>\n",
       "      <td>-1.492446</td>\n",
       "      <td>-0.444537</td>\n",
       "      <td>-1.415195</td>\n",
       "      <td>-0.404556</td>\n",
       "      <td>0.939957</td>\n",
       "      <td>0.166711</td>\n",
       "      <td>88.412756</td>\n",
       "      <td>68.143213</td>\n",
       "    </tr>\n",
       "  </tbody>\n",
       "</table>\n",
       "<p>3 rows × 54 columns</p>\n",
       "</div>"
      ],
      "text/plain": [
       "   primary_cleaner.input.sulfate  primary_cleaner.input.depressant  \\\n",
       "0                       1.959089                          1.818448   \n",
       "1                       2.075027                          1.816775   \n",
       "2                       2.071681                          1.193859   \n",
       "\n",
       "   primary_cleaner.input.feed_size  primary_cleaner.input.xanthate  \\\n",
       "0                         1.233941                        0.328922   \n",
       "1                         1.233941                        0.290185   \n",
       "2                         0.756231                        0.305022   \n",
       "\n",
       "   primary_cleaner.state.floatbank8_a_air  \\\n",
       "0                               -1.628244   \n",
       "1                               -1.629828   \n",
       "2                               -1.632043   \n",
       "\n",
       "   primary_cleaner.state.floatbank8_a_level  \\\n",
       "0                                 -0.320693   \n",
       "1                                 -0.315983   \n",
       "2                                 -0.338697   \n",
       "\n",
       "   primary_cleaner.state.floatbank8_b_air  \\\n",
       "0                               -1.597904   \n",
       "1                               -1.606215   \n",
       "2                               -1.600074   \n",
       "\n",
       "   primary_cleaner.state.floatbank8_b_level  \\\n",
       "0                                 -0.319837   \n",
       "1                                 -0.315624   \n",
       "2                                 -0.315218   \n",
       "\n",
       "   primary_cleaner.state.floatbank8_c_air  \\\n",
       "0                               -1.555083   \n",
       "1                               -1.584519   \n",
       "2                               -1.570183   \n",
       "\n",
       "   primary_cleaner.state.floatbank8_c_level  ...  \\\n",
       "0                                 -0.311555  ...   \n",
       "1                                 -0.270451  ...   \n",
       "2                                 -0.352180  ...   \n",
       "\n",
       "   secondary_cleaner.state.floatbank4_b_air  \\\n",
       "0                                 -1.421433   \n",
       "1                                 -1.399680   \n",
       "2                                 -1.406166   \n",
       "\n",
       "   secondary_cleaner.state.floatbank4_b_level  \\\n",
       "0                                   -0.697607   \n",
       "1                                   -0.669484   \n",
       "2                                   -0.689761   \n",
       "\n",
       "   secondary_cleaner.state.floatbank5_a_air  \\\n",
       "0                                 -1.513793   \n",
       "1                                 -1.511785   \n",
       "2                                 -1.492446   \n",
       "\n",
       "   secondary_cleaner.state.floatbank5_a_level  \\\n",
       "0                                    1.362866   \n",
       "1                                   -1.105331   \n",
       "2                                   -0.444537   \n",
       "\n",
       "   secondary_cleaner.state.floatbank5_b_air  \\\n",
       "0                                 -1.420851   \n",
       "1                                 -1.419752   \n",
       "2                                 -1.415195   \n",
       "\n",
       "   secondary_cleaner.state.floatbank5_b_level  \\\n",
       "0                                   -0.409885   \n",
       "1                                   -0.413072   \n",
       "2                                   -0.404556   \n",
       "\n",
       "   secondary_cleaner.state.floatbank6_a_air  \\\n",
       "0                                  1.236789   \n",
       "1                                  0.944308   \n",
       "2                                  0.939957   \n",
       "\n",
       "   secondary_cleaner.state.floatbank6_a_level  rougher.output.recovery  \\\n",
       "0                                    0.191335                89.993421   \n",
       "1                                    0.188368                88.089657   \n",
       "2                                    0.166711                88.412756   \n",
       "\n",
       "   final.output.recovery  \n",
       "0              70.273583  \n",
       "1              68.910432  \n",
       "2              68.143213  \n",
       "\n",
       "[3 rows x 54 columns]"
      ]
     },
     "metadata": {},
     "output_type": "display_data"
    }
   ],
   "source": [
    "display(data_train.head(3))\n",
    "display(data_test.head(3))"
   ]
  },
  {
   "cell_type": "code",
   "execution_count": 20,
   "metadata": {},
   "outputs": [
    {
     "data": {
      "text/html": [
       "<div>\n",
       "<style scoped>\n",
       "    .dataframe tbody tr th:only-of-type {\n",
       "        vertical-align: middle;\n",
       "    }\n",
       "\n",
       "    .dataframe tbody tr th {\n",
       "        vertical-align: top;\n",
       "    }\n",
       "\n",
       "    .dataframe thead th {\n",
       "        text-align: right;\n",
       "    }\n",
       "</style>\n",
       "<table border=\"1\" class=\"dataframe\">\n",
       "  <thead>\n",
       "    <tr style=\"text-align: right;\">\n",
       "      <th></th>\n",
       "      <th>primary_cleaner.input.sulfate</th>\n",
       "      <th>primary_cleaner.input.depressant</th>\n",
       "      <th>primary_cleaner.input.feed_size</th>\n",
       "      <th>primary_cleaner.input.xanthate</th>\n",
       "      <th>primary_cleaner.state.floatbank8_a_air</th>\n",
       "      <th>primary_cleaner.state.floatbank8_a_level</th>\n",
       "      <th>primary_cleaner.state.floatbank8_b_air</th>\n",
       "      <th>primary_cleaner.state.floatbank8_b_level</th>\n",
       "      <th>primary_cleaner.state.floatbank8_c_air</th>\n",
       "      <th>primary_cleaner.state.floatbank8_c_level</th>\n",
       "      <th>...</th>\n",
       "      <th>secondary_cleaner.state.floatbank4_b_air</th>\n",
       "      <th>secondary_cleaner.state.floatbank4_b_level</th>\n",
       "      <th>secondary_cleaner.state.floatbank5_a_air</th>\n",
       "      <th>secondary_cleaner.state.floatbank5_a_level</th>\n",
       "      <th>secondary_cleaner.state.floatbank5_b_air</th>\n",
       "      <th>secondary_cleaner.state.floatbank5_b_level</th>\n",
       "      <th>secondary_cleaner.state.floatbank6_a_air</th>\n",
       "      <th>secondary_cleaner.state.floatbank6_a_level</th>\n",
       "      <th>rougher.output.recovery</th>\n",
       "      <th>final.output.recovery</th>\n",
       "    </tr>\n",
       "  </thead>\n",
       "  <tbody>\n",
       "    <tr>\n",
       "      <th>count</th>\n",
       "      <td>1.414900e+04</td>\n",
       "      <td>1.414900e+04</td>\n",
       "      <td>1.414900e+04</td>\n",
       "      <td>1.414900e+04</td>\n",
       "      <td>1.414900e+04</td>\n",
       "      <td>1.414900e+04</td>\n",
       "      <td>1.414900e+04</td>\n",
       "      <td>1.414900e+04</td>\n",
       "      <td>1.414900e+04</td>\n",
       "      <td>1.414900e+04</td>\n",
       "      <td>...</td>\n",
       "      <td>1.414900e+04</td>\n",
       "      <td>1.414900e+04</td>\n",
       "      <td>1.414900e+04</td>\n",
       "      <td>1.414900e+04</td>\n",
       "      <td>1.414900e+04</td>\n",
       "      <td>1.414900e+04</td>\n",
       "      <td>1.414900e+04</td>\n",
       "      <td>1.414900e+04</td>\n",
       "      <td>14149.000000</td>\n",
       "      <td>14149.000000</td>\n",
       "    </tr>\n",
       "    <tr>\n",
       "      <th>mean</th>\n",
       "      <td>-5.624481e-17</td>\n",
       "      <td>-2.731891e-16</td>\n",
       "      <td>-1.606995e-16</td>\n",
       "      <td>-2.410492e-17</td>\n",
       "      <td>1.775729e-15</td>\n",
       "      <td>-6.267279e-16</td>\n",
       "      <td>-7.070777e-16</td>\n",
       "      <td>-1.470400e-15</td>\n",
       "      <td>8.758121e-16</td>\n",
       "      <td>3.213989e-16</td>\n",
       "      <td>...</td>\n",
       "      <td>-1.124896e-16</td>\n",
       "      <td>-5.303082e-16</td>\n",
       "      <td>7.231476e-17</td>\n",
       "      <td>-1.606995e-15</td>\n",
       "      <td>-4.820984e-17</td>\n",
       "      <td>-7.070777e-16</td>\n",
       "      <td>1.285596e-16</td>\n",
       "      <td>5.624481e-17</td>\n",
       "      <td>82.704502</td>\n",
       "      <td>66.518832</td>\n",
       "    </tr>\n",
       "    <tr>\n",
       "      <th>std</th>\n",
       "      <td>1.000035e+00</td>\n",
       "      <td>1.000035e+00</td>\n",
       "      <td>1.000035e+00</td>\n",
       "      <td>1.000035e+00</td>\n",
       "      <td>1.000035e+00</td>\n",
       "      <td>1.000035e+00</td>\n",
       "      <td>1.000035e+00</td>\n",
       "      <td>1.000035e+00</td>\n",
       "      <td>1.000035e+00</td>\n",
       "      <td>1.000035e+00</td>\n",
       "      <td>...</td>\n",
       "      <td>1.000035e+00</td>\n",
       "      <td>1.000035e+00</td>\n",
       "      <td>1.000035e+00</td>\n",
       "      <td>1.000035e+00</td>\n",
       "      <td>1.000035e+00</td>\n",
       "      <td>1.000035e+00</td>\n",
       "      <td>1.000035e+00</td>\n",
       "      <td>1.000035e+00</td>\n",
       "      <td>14.479156</td>\n",
       "      <td>10.295402</td>\n",
       "    </tr>\n",
       "    <tr>\n",
       "      <th>min</th>\n",
       "      <td>-3.363605e+00</td>\n",
       "      <td>-2.623541e+00</td>\n",
       "      <td>-1.016596e+01</td>\n",
       "      <td>-2.346343e+00</td>\n",
       "      <td>-1.252565e+01</td>\n",
       "      <td>-8.679272e+00</td>\n",
       "      <td>-1.227048e+01</td>\n",
       "      <td>-7.468252e+00</td>\n",
       "      <td>-1.198359e+01</td>\n",
       "      <td>-8.708111e+00</td>\n",
       "      <td>...</td>\n",
       "      <td>-2.946855e+00</td>\n",
       "      <td>-5.771802e+00</td>\n",
       "      <td>-2.940223e+00</td>\n",
       "      <td>-8.265469e+00</td>\n",
       "      <td>-2.153902e+00</td>\n",
       "      <td>-8.061098e+00</td>\n",
       "      <td>-3.362312e+00</td>\n",
       "      <td>-8.159516e+00</td>\n",
       "      <td>0.000000</td>\n",
       "      <td>0.000000</td>\n",
       "    </tr>\n",
       "    <tr>\n",
       "      <th>25%</th>\n",
       "      <td>-6.654482e-01</td>\n",
       "      <td>-8.345657e-01</td>\n",
       "      <td>-5.900422e-01</td>\n",
       "      <td>-7.364175e-01</td>\n",
       "      <td>-9.592414e-02</td>\n",
       "      <td>-3.224399e-01</td>\n",
       "      <td>-3.788395e-01</td>\n",
       "      <td>-3.334034e-01</td>\n",
       "      <td>-4.395192e-01</td>\n",
       "      <td>-3.086713e-01</td>\n",
       "      <td>...</td>\n",
       "      <td>-6.835337e-01</td>\n",
       "      <td>-6.782345e-01</td>\n",
       "      <td>-9.758542e-01</td>\n",
       "      <td>-4.329651e-01</td>\n",
       "      <td>-7.059142e-01</td>\n",
       "      <td>-4.116340e-01</td>\n",
       "      <td>-7.958358e-01</td>\n",
       "      <td>1.634013e-01</td>\n",
       "      <td>79.993067</td>\n",
       "      <td>62.545817</td>\n",
       "    </tr>\n",
       "    <tr>\n",
       "      <th>50%</th>\n",
       "      <td>-5.419905e-03</td>\n",
       "      <td>-2.432541e-01</td>\n",
       "      <td>-5.261858e-02</td>\n",
       "      <td>1.601777e-02</td>\n",
       "      <td>-4.816338e-02</td>\n",
       "      <td>-3.118326e-01</td>\n",
       "      <td>-5.190020e-02</td>\n",
       "      <td>-3.203763e-01</td>\n",
       "      <td>-5.442811e-02</td>\n",
       "      <td>-2.881788e-01</td>\n",
       "      <td>...</td>\n",
       "      <td>-9.729835e-02</td>\n",
       "      <td>-6.653147e-01</td>\n",
       "      <td>1.984525e-01</td>\n",
       "      <td>-4.155275e-01</td>\n",
       "      <td>-1.850186e-01</td>\n",
       "      <td>-4.067510e-01</td>\n",
       "      <td>7.069212e-02</td>\n",
       "      <td>1.818407e-01</td>\n",
       "      <td>85.299462</td>\n",
       "      <td>67.432775</td>\n",
       "    </tr>\n",
       "    <tr>\n",
       "      <th>75%</th>\n",
       "      <td>6.719456e-01</td>\n",
       "      <td>7.885597e-01</td>\n",
       "      <td>6.150894e-01</td>\n",
       "      <td>5.819557e-01</td>\n",
       "      <td>7.143508e-01</td>\n",
       "      <td>-2.969707e-01</td>\n",
       "      <td>6.986441e-01</td>\n",
       "      <td>-3.040650e-01</td>\n",
       "      <td>6.821539e-01</td>\n",
       "      <td>-2.581439e-01</td>\n",
       "      <td>...</td>\n",
       "      <td>8.700574e-01</td>\n",
       "      <td>1.022965e+00</td>\n",
       "      <td>7.838917e-01</td>\n",
       "      <td>-1.030986e-01</td>\n",
       "      <td>8.531275e-01</td>\n",
       "      <td>7.828747e-01</td>\n",
       "      <td>9.393939e-01</td>\n",
       "      <td>1.959977e-01</td>\n",
       "      <td>90.165021</td>\n",
       "      <td>72.346428</td>\n",
       "    </tr>\n",
       "    <tr>\n",
       "      <th>max</th>\n",
       "      <td>2.952104e+00</td>\n",
       "      <td>3.317311e+00</td>\n",
       "      <td>5.126193e+00</td>\n",
       "      <td>4.342942e+00</td>\n",
       "      <td>3.672943e+00</td>\n",
       "      <td>4.443535e+00</td>\n",
       "      <td>3.861907e+00</td>\n",
       "      <td>4.220503e+00</td>\n",
       "      <td>3.011225e+00</td>\n",
       "      <td>4.013095e+00</td>\n",
       "      <td>...</td>\n",
       "      <td>1.621408e+00</td>\n",
       "      <td>5.355708e+00</td>\n",
       "      <td>4.618712e+00</td>\n",
       "      <td>5.512819e+00</td>\n",
       "      <td>2.577767e+00</td>\n",
       "      <td>8.329765e+00</td>\n",
       "      <td>2.187993e+00</td>\n",
       "      <td>1.085021e+01</td>\n",
       "      <td>100.000000</td>\n",
       "      <td>100.000000</td>\n",
       "    </tr>\n",
       "  </tbody>\n",
       "</table>\n",
       "<p>8 rows × 54 columns</p>\n",
       "</div>"
      ],
      "text/plain": [
       "       primary_cleaner.input.sulfate  primary_cleaner.input.depressant  \\\n",
       "count                   1.414900e+04                      1.414900e+04   \n",
       "mean                   -5.624481e-17                     -2.731891e-16   \n",
       "std                     1.000035e+00                      1.000035e+00   \n",
       "min                    -3.363605e+00                     -2.623541e+00   \n",
       "25%                    -6.654482e-01                     -8.345657e-01   \n",
       "50%                    -5.419905e-03                     -2.432541e-01   \n",
       "75%                     6.719456e-01                      7.885597e-01   \n",
       "max                     2.952104e+00                      3.317311e+00   \n",
       "\n",
       "       primary_cleaner.input.feed_size  primary_cleaner.input.xanthate  \\\n",
       "count                     1.414900e+04                    1.414900e+04   \n",
       "mean                     -1.606995e-16                   -2.410492e-17   \n",
       "std                       1.000035e+00                    1.000035e+00   \n",
       "min                      -1.016596e+01                   -2.346343e+00   \n",
       "25%                      -5.900422e-01                   -7.364175e-01   \n",
       "50%                      -5.261858e-02                    1.601777e-02   \n",
       "75%                       6.150894e-01                    5.819557e-01   \n",
       "max                       5.126193e+00                    4.342942e+00   \n",
       "\n",
       "       primary_cleaner.state.floatbank8_a_air  \\\n",
       "count                            1.414900e+04   \n",
       "mean                             1.775729e-15   \n",
       "std                              1.000035e+00   \n",
       "min                             -1.252565e+01   \n",
       "25%                             -9.592414e-02   \n",
       "50%                             -4.816338e-02   \n",
       "75%                              7.143508e-01   \n",
       "max                              3.672943e+00   \n",
       "\n",
       "       primary_cleaner.state.floatbank8_a_level  \\\n",
       "count                              1.414900e+04   \n",
       "mean                              -6.267279e-16   \n",
       "std                                1.000035e+00   \n",
       "min                               -8.679272e+00   \n",
       "25%                               -3.224399e-01   \n",
       "50%                               -3.118326e-01   \n",
       "75%                               -2.969707e-01   \n",
       "max                                4.443535e+00   \n",
       "\n",
       "       primary_cleaner.state.floatbank8_b_air  \\\n",
       "count                            1.414900e+04   \n",
       "mean                            -7.070777e-16   \n",
       "std                              1.000035e+00   \n",
       "min                             -1.227048e+01   \n",
       "25%                             -3.788395e-01   \n",
       "50%                             -5.190020e-02   \n",
       "75%                              6.986441e-01   \n",
       "max                              3.861907e+00   \n",
       "\n",
       "       primary_cleaner.state.floatbank8_b_level  \\\n",
       "count                              1.414900e+04   \n",
       "mean                              -1.470400e-15   \n",
       "std                                1.000035e+00   \n",
       "min                               -7.468252e+00   \n",
       "25%                               -3.334034e-01   \n",
       "50%                               -3.203763e-01   \n",
       "75%                               -3.040650e-01   \n",
       "max                                4.220503e+00   \n",
       "\n",
       "       primary_cleaner.state.floatbank8_c_air  \\\n",
       "count                            1.414900e+04   \n",
       "mean                             8.758121e-16   \n",
       "std                              1.000035e+00   \n",
       "min                             -1.198359e+01   \n",
       "25%                             -4.395192e-01   \n",
       "50%                             -5.442811e-02   \n",
       "75%                              6.821539e-01   \n",
       "max                              3.011225e+00   \n",
       "\n",
       "       primary_cleaner.state.floatbank8_c_level  ...  \\\n",
       "count                              1.414900e+04  ...   \n",
       "mean                               3.213989e-16  ...   \n",
       "std                                1.000035e+00  ...   \n",
       "min                               -8.708111e+00  ...   \n",
       "25%                               -3.086713e-01  ...   \n",
       "50%                               -2.881788e-01  ...   \n",
       "75%                               -2.581439e-01  ...   \n",
       "max                                4.013095e+00  ...   \n",
       "\n",
       "       secondary_cleaner.state.floatbank4_b_air  \\\n",
       "count                              1.414900e+04   \n",
       "mean                              -1.124896e-16   \n",
       "std                                1.000035e+00   \n",
       "min                               -2.946855e+00   \n",
       "25%                               -6.835337e-01   \n",
       "50%                               -9.729835e-02   \n",
       "75%                                8.700574e-01   \n",
       "max                                1.621408e+00   \n",
       "\n",
       "       secondary_cleaner.state.floatbank4_b_level  \\\n",
       "count                                1.414900e+04   \n",
       "mean                                -5.303082e-16   \n",
       "std                                  1.000035e+00   \n",
       "min                                 -5.771802e+00   \n",
       "25%                                 -6.782345e-01   \n",
       "50%                                 -6.653147e-01   \n",
       "75%                                  1.022965e+00   \n",
       "max                                  5.355708e+00   \n",
       "\n",
       "       secondary_cleaner.state.floatbank5_a_air  \\\n",
       "count                              1.414900e+04   \n",
       "mean                               7.231476e-17   \n",
       "std                                1.000035e+00   \n",
       "min                               -2.940223e+00   \n",
       "25%                               -9.758542e-01   \n",
       "50%                                1.984525e-01   \n",
       "75%                                7.838917e-01   \n",
       "max                                4.618712e+00   \n",
       "\n",
       "       secondary_cleaner.state.floatbank5_a_level  \\\n",
       "count                                1.414900e+04   \n",
       "mean                                -1.606995e-15   \n",
       "std                                  1.000035e+00   \n",
       "min                                 -8.265469e+00   \n",
       "25%                                 -4.329651e-01   \n",
       "50%                                 -4.155275e-01   \n",
       "75%                                 -1.030986e-01   \n",
       "max                                  5.512819e+00   \n",
       "\n",
       "       secondary_cleaner.state.floatbank5_b_air  \\\n",
       "count                              1.414900e+04   \n",
       "mean                              -4.820984e-17   \n",
       "std                                1.000035e+00   \n",
       "min                               -2.153902e+00   \n",
       "25%                               -7.059142e-01   \n",
       "50%                               -1.850186e-01   \n",
       "75%                                8.531275e-01   \n",
       "max                                2.577767e+00   \n",
       "\n",
       "       secondary_cleaner.state.floatbank5_b_level  \\\n",
       "count                                1.414900e+04   \n",
       "mean                                -7.070777e-16   \n",
       "std                                  1.000035e+00   \n",
       "min                                 -8.061098e+00   \n",
       "25%                                 -4.116340e-01   \n",
       "50%                                 -4.067510e-01   \n",
       "75%                                  7.828747e-01   \n",
       "max                                  8.329765e+00   \n",
       "\n",
       "       secondary_cleaner.state.floatbank6_a_air  \\\n",
       "count                              1.414900e+04   \n",
       "mean                               1.285596e-16   \n",
       "std                                1.000035e+00   \n",
       "min                               -3.362312e+00   \n",
       "25%                               -7.958358e-01   \n",
       "50%                                7.069212e-02   \n",
       "75%                                9.393939e-01   \n",
       "max                                2.187993e+00   \n",
       "\n",
       "       secondary_cleaner.state.floatbank6_a_level  rougher.output.recovery  \\\n",
       "count                                1.414900e+04             14149.000000   \n",
       "mean                                 5.624481e-17                82.704502   \n",
       "std                                  1.000035e+00                14.479156   \n",
       "min                                 -8.159516e+00                 0.000000   \n",
       "25%                                  1.634013e-01                79.993067   \n",
       "50%                                  1.818407e-01                85.299462   \n",
       "75%                                  1.959977e-01                90.165021   \n",
       "max                                  1.085021e+01               100.000000   \n",
       "\n",
       "       final.output.recovery  \n",
       "count           14149.000000  \n",
       "mean               66.518832  \n",
       "std                10.295402  \n",
       "min                 0.000000  \n",
       "25%                62.545817  \n",
       "50%                67.432775  \n",
       "75%                72.346428  \n",
       "max               100.000000  \n",
       "\n",
       "[8 rows x 54 columns]"
      ]
     },
     "metadata": {},
     "output_type": "display_data"
    }
   ],
   "source": [
    "display(data_train.describe())"
   ]
  },
  {
   "cell_type": "code",
   "execution_count": 21,
   "metadata": {},
   "outputs": [
    {
     "data": {
      "text/html": [
       "<div>\n",
       "<style scoped>\n",
       "    .dataframe tbody tr th:only-of-type {\n",
       "        vertical-align: middle;\n",
       "    }\n",
       "\n",
       "    .dataframe tbody tr th {\n",
       "        vertical-align: top;\n",
       "    }\n",
       "\n",
       "    .dataframe thead th {\n",
       "        text-align: right;\n",
       "    }\n",
       "</style>\n",
       "<table border=\"1\" class=\"dataframe\">\n",
       "  <thead>\n",
       "    <tr style=\"text-align: right;\">\n",
       "      <th></th>\n",
       "      <th>primary_cleaner.input.sulfate</th>\n",
       "      <th>primary_cleaner.input.depressant</th>\n",
       "      <th>primary_cleaner.input.feed_size</th>\n",
       "      <th>primary_cleaner.input.xanthate</th>\n",
       "      <th>primary_cleaner.state.floatbank8_a_air</th>\n",
       "      <th>primary_cleaner.state.floatbank8_a_level</th>\n",
       "      <th>primary_cleaner.state.floatbank8_b_air</th>\n",
       "      <th>primary_cleaner.state.floatbank8_b_level</th>\n",
       "      <th>primary_cleaner.state.floatbank8_c_air</th>\n",
       "      <th>primary_cleaner.state.floatbank8_c_level</th>\n",
       "      <th>...</th>\n",
       "      <th>secondary_cleaner.state.floatbank4_b_air</th>\n",
       "      <th>secondary_cleaner.state.floatbank4_b_level</th>\n",
       "      <th>secondary_cleaner.state.floatbank5_a_air</th>\n",
       "      <th>secondary_cleaner.state.floatbank5_a_level</th>\n",
       "      <th>secondary_cleaner.state.floatbank5_b_air</th>\n",
       "      <th>secondary_cleaner.state.floatbank5_b_level</th>\n",
       "      <th>secondary_cleaner.state.floatbank6_a_air</th>\n",
       "      <th>secondary_cleaner.state.floatbank6_a_level</th>\n",
       "      <th>rougher.output.recovery</th>\n",
       "      <th>final.output.recovery</th>\n",
       "    </tr>\n",
       "  </thead>\n",
       "  <tbody>\n",
       "    <tr>\n",
       "      <th>count</th>\n",
       "      <td>5290.000000</td>\n",
       "      <td>5290.000000</td>\n",
       "      <td>5290.000000</td>\n",
       "      <td>5290.000000</td>\n",
       "      <td>5290.000000</td>\n",
       "      <td>5290.000000</td>\n",
       "      <td>5290.000000</td>\n",
       "      <td>5290.000000</td>\n",
       "      <td>5290.000000</td>\n",
       "      <td>5290.000000</td>\n",
       "      <td>...</td>\n",
       "      <td>5290.000000</td>\n",
       "      <td>5290.000000</td>\n",
       "      <td>5290.000000</td>\n",
       "      <td>5290.000000</td>\n",
       "      <td>5290.000000</td>\n",
       "      <td>5290.000000</td>\n",
       "      <td>5290.000000</td>\n",
       "      <td>5290.000000</td>\n",
       "      <td>5290.000000</td>\n",
       "      <td>5290.000000</td>\n",
       "    </tr>\n",
       "    <tr>\n",
       "      <th>mean</th>\n",
       "      <td>1.051131</td>\n",
       "      <td>-0.050539</td>\n",
       "      <td>-0.091151</td>\n",
       "      <td>1.336212</td>\n",
       "      <td>-0.533709</td>\n",
       "      <td>-0.248996</td>\n",
       "      <td>-0.483996</td>\n",
       "      <td>-0.330353</td>\n",
       "      <td>-0.607866</td>\n",
       "      <td>-0.244919</td>\n",
       "      <td>...</td>\n",
       "      <td>-0.333253</td>\n",
       "      <td>-0.052894</td>\n",
       "      <td>-0.680835</td>\n",
       "      <td>-0.458457</td>\n",
       "      <td>-0.552106</td>\n",
       "      <td>-0.298318</td>\n",
       "      <td>-0.394106</td>\n",
       "      <td>0.135145</td>\n",
       "      <td>84.997810</td>\n",
       "      <td>68.471462</td>\n",
       "    </tr>\n",
       "    <tr>\n",
       "      <th>std</th>\n",
       "      <td>1.086347</td>\n",
       "      <td>0.910656</td>\n",
       "      <td>0.993776</td>\n",
       "      <td>1.713067</td>\n",
       "      <td>0.909804</td>\n",
       "      <td>0.558864</td>\n",
       "      <td>0.932326</td>\n",
       "      <td>0.981136</td>\n",
       "      <td>0.912720</td>\n",
       "      <td>0.616617</td>\n",
       "      <td>...</td>\n",
       "      <td>0.652758</td>\n",
       "      <td>1.464636</td>\n",
       "      <td>0.518983</td>\n",
       "      <td>0.473770</td>\n",
       "      <td>0.497489</td>\n",
       "      <td>0.880874</td>\n",
       "      <td>0.787008</td>\n",
       "      <td>1.052837</td>\n",
       "      <td>13.077651</td>\n",
       "      <td>9.513871</td>\n",
       "    </tr>\n",
       "    <tr>\n",
       "      <th>min</th>\n",
       "      <td>-3.298887</td>\n",
       "      <td>-2.622404</td>\n",
       "      <td>-2.723452</td>\n",
       "      <td>-2.333089</td>\n",
       "      <td>-12.525696</td>\n",
       "      <td>-8.586130</td>\n",
       "      <td>-12.270542</td>\n",
       "      <td>-9.250127</td>\n",
       "      <td>-11.983702</td>\n",
       "      <td>-8.712533</td>\n",
       "      <td>...</td>\n",
       "      <td>-2.946855</td>\n",
       "      <td>-5.787908</td>\n",
       "      <td>-2.864555</td>\n",
       "      <td>-8.270260</td>\n",
       "      <td>-2.174391</td>\n",
       "      <td>-8.066560</td>\n",
       "      <td>-3.409976</td>\n",
       "      <td>-8.168760</td>\n",
       "      <td>0.000000</td>\n",
       "      <td>0.000000</td>\n",
       "    </tr>\n",
       "    <tr>\n",
       "      <th>25%</th>\n",
       "      <td>0.351167</td>\n",
       "      <td>-0.700890</td>\n",
       "      <td>-0.704041</td>\n",
       "      <td>0.069035</td>\n",
       "      <td>-0.849642</td>\n",
       "      <td>-0.324382</td>\n",
       "      <td>-0.836433</td>\n",
       "      <td>-0.343147</td>\n",
       "      <td>-1.010400</td>\n",
       "      <td>-0.320363</td>\n",
       "      <td>...</td>\n",
       "      <td>-0.658029</td>\n",
       "      <td>-0.681189</td>\n",
       "      <td>-1.004810</td>\n",
       "      <td>-0.442562</td>\n",
       "      <td>-0.872021</td>\n",
       "      <td>-0.413896</td>\n",
       "      <td>-0.967917</td>\n",
       "      <td>0.164866</td>\n",
       "      <td>84.509308</td>\n",
       "      <td>65.508598</td>\n",
       "    </tr>\n",
       "    <tr>\n",
       "      <th>50%</th>\n",
       "      <td>1.126528</td>\n",
       "      <td>-0.237948</td>\n",
       "      <td>-0.117761</td>\n",
       "      <td>0.841511</td>\n",
       "      <td>-0.178234</td>\n",
       "      <td>-0.313511</td>\n",
       "      <td>-0.099184</td>\n",
       "      <td>-0.323074</td>\n",
       "      <td>-0.441599</td>\n",
       "      <td>-0.292278</td>\n",
       "      <td>...</td>\n",
       "      <td>-0.099318</td>\n",
       "      <td>-0.668504</td>\n",
       "      <td>-0.655114</td>\n",
       "      <td>-0.423124</td>\n",
       "      <td>-0.530744</td>\n",
       "      <td>-0.408689</td>\n",
       "      <td>-0.617897</td>\n",
       "      <td>0.183307</td>\n",
       "      <td>87.388553</td>\n",
       "      <td>69.815413</td>\n",
       "    </tr>\n",
       "    <tr>\n",
       "      <th>75%</th>\n",
       "      <td>1.891533</td>\n",
       "      <td>0.347452</td>\n",
       "      <td>0.452234</td>\n",
       "      <td>2.439279</td>\n",
       "      <td>-0.046221</td>\n",
       "      <td>-0.302301</td>\n",
       "      <td>-0.048063</td>\n",
       "      <td>-0.301193</td>\n",
       "      <td>-0.057637</td>\n",
       "      <td>-0.263544</td>\n",
       "      <td>...</td>\n",
       "      <td>0.090443</td>\n",
       "      <td>1.007760</td>\n",
       "      <td>-0.287585</td>\n",
       "      <td>-0.404462</td>\n",
       "      <td>-0.185031</td>\n",
       "      <td>-0.401786</td>\n",
       "      <td>0.250393</td>\n",
       "      <td>0.200405</td>\n",
       "      <td>89.734185</td>\n",
       "      <td>73.288544</td>\n",
       "    </tr>\n",
       "    <tr>\n",
       "      <th>max</th>\n",
       "      <td>3.352453</td>\n",
       "      <td>9.227201</td>\n",
       "      <td>13.317834</td>\n",
       "      <td>8.574012</td>\n",
       "      <td>3.856560</td>\n",
       "      <td>12.088500</td>\n",
       "      <td>1.559609</td>\n",
       "      <td>10.316152</td>\n",
       "      <td>0.790817</td>\n",
       "      <td>9.507415</td>\n",
       "      <td>...</td>\n",
       "      <td>3.003194</td>\n",
       "      <td>7.710368</td>\n",
       "      <td>1.454822</td>\n",
       "      <td>6.320129</td>\n",
       "      <td>0.177375</td>\n",
       "      <td>8.831127</td>\n",
       "      <td>1.236789</td>\n",
       "      <td>10.341110</td>\n",
       "      <td>99.169699</td>\n",
       "      <td>100.000000</td>\n",
       "    </tr>\n",
       "  </tbody>\n",
       "</table>\n",
       "<p>8 rows × 54 columns</p>\n",
       "</div>"
      ],
      "text/plain": [
       "       primary_cleaner.input.sulfate  primary_cleaner.input.depressant  \\\n",
       "count                    5290.000000                       5290.000000   \n",
       "mean                        1.051131                         -0.050539   \n",
       "std                         1.086347                          0.910656   \n",
       "min                        -3.298887                         -2.622404   \n",
       "25%                         0.351167                         -0.700890   \n",
       "50%                         1.126528                         -0.237948   \n",
       "75%                         1.891533                          0.347452   \n",
       "max                         3.352453                          9.227201   \n",
       "\n",
       "       primary_cleaner.input.feed_size  primary_cleaner.input.xanthate  \\\n",
       "count                      5290.000000                     5290.000000   \n",
       "mean                         -0.091151                        1.336212   \n",
       "std                           0.993776                        1.713067   \n",
       "min                          -2.723452                       -2.333089   \n",
       "25%                          -0.704041                        0.069035   \n",
       "50%                          -0.117761                        0.841511   \n",
       "75%                           0.452234                        2.439279   \n",
       "max                          13.317834                        8.574012   \n",
       "\n",
       "       primary_cleaner.state.floatbank8_a_air  \\\n",
       "count                             5290.000000   \n",
       "mean                                -0.533709   \n",
       "std                                  0.909804   \n",
       "min                                -12.525696   \n",
       "25%                                 -0.849642   \n",
       "50%                                 -0.178234   \n",
       "75%                                 -0.046221   \n",
       "max                                  3.856560   \n",
       "\n",
       "       primary_cleaner.state.floatbank8_a_level  \\\n",
       "count                               5290.000000   \n",
       "mean                                  -0.248996   \n",
       "std                                    0.558864   \n",
       "min                                   -8.586130   \n",
       "25%                                   -0.324382   \n",
       "50%                                   -0.313511   \n",
       "75%                                   -0.302301   \n",
       "max                                   12.088500   \n",
       "\n",
       "       primary_cleaner.state.floatbank8_b_air  \\\n",
       "count                             5290.000000   \n",
       "mean                                -0.483996   \n",
       "std                                  0.932326   \n",
       "min                                -12.270542   \n",
       "25%                                 -0.836433   \n",
       "50%                                 -0.099184   \n",
       "75%                                 -0.048063   \n",
       "max                                  1.559609   \n",
       "\n",
       "       primary_cleaner.state.floatbank8_b_level  \\\n",
       "count                               5290.000000   \n",
       "mean                                  -0.330353   \n",
       "std                                    0.981136   \n",
       "min                                   -9.250127   \n",
       "25%                                   -0.343147   \n",
       "50%                                   -0.323074   \n",
       "75%                                   -0.301193   \n",
       "max                                   10.316152   \n",
       "\n",
       "       primary_cleaner.state.floatbank8_c_air  \\\n",
       "count                             5290.000000   \n",
       "mean                                -0.607866   \n",
       "std                                  0.912720   \n",
       "min                                -11.983702   \n",
       "25%                                 -1.010400   \n",
       "50%                                 -0.441599   \n",
       "75%                                 -0.057637   \n",
       "max                                  0.790817   \n",
       "\n",
       "       primary_cleaner.state.floatbank8_c_level  ...  \\\n",
       "count                               5290.000000  ...   \n",
       "mean                                  -0.244919  ...   \n",
       "std                                    0.616617  ...   \n",
       "min                                   -8.712533  ...   \n",
       "25%                                   -0.320363  ...   \n",
       "50%                                   -0.292278  ...   \n",
       "75%                                   -0.263544  ...   \n",
       "max                                    9.507415  ...   \n",
       "\n",
       "       secondary_cleaner.state.floatbank4_b_air  \\\n",
       "count                               5290.000000   \n",
       "mean                                  -0.333253   \n",
       "std                                    0.652758   \n",
       "min                                   -2.946855   \n",
       "25%                                   -0.658029   \n",
       "50%                                   -0.099318   \n",
       "75%                                    0.090443   \n",
       "max                                    3.003194   \n",
       "\n",
       "       secondary_cleaner.state.floatbank4_b_level  \\\n",
       "count                                 5290.000000   \n",
       "mean                                    -0.052894   \n",
       "std                                      1.464636   \n",
       "min                                     -5.787908   \n",
       "25%                                     -0.681189   \n",
       "50%                                     -0.668504   \n",
       "75%                                      1.007760   \n",
       "max                                      7.710368   \n",
       "\n",
       "       secondary_cleaner.state.floatbank5_a_air  \\\n",
       "count                               5290.000000   \n",
       "mean                                  -0.680835   \n",
       "std                                    0.518983   \n",
       "min                                   -2.864555   \n",
       "25%                                   -1.004810   \n",
       "50%                                   -0.655114   \n",
       "75%                                   -0.287585   \n",
       "max                                    1.454822   \n",
       "\n",
       "       secondary_cleaner.state.floatbank5_a_level  \\\n",
       "count                                 5290.000000   \n",
       "mean                                    -0.458457   \n",
       "std                                      0.473770   \n",
       "min                                     -8.270260   \n",
       "25%                                     -0.442562   \n",
       "50%                                     -0.423124   \n",
       "75%                                     -0.404462   \n",
       "max                                      6.320129   \n",
       "\n",
       "       secondary_cleaner.state.floatbank5_b_air  \\\n",
       "count                               5290.000000   \n",
       "mean                                  -0.552106   \n",
       "std                                    0.497489   \n",
       "min                                   -2.174391   \n",
       "25%                                   -0.872021   \n",
       "50%                                   -0.530744   \n",
       "75%                                   -0.185031   \n",
       "max                                    0.177375   \n",
       "\n",
       "       secondary_cleaner.state.floatbank5_b_level  \\\n",
       "count                                 5290.000000   \n",
       "mean                                    -0.298318   \n",
       "std                                      0.880874   \n",
       "min                                     -8.066560   \n",
       "25%                                     -0.413896   \n",
       "50%                                     -0.408689   \n",
       "75%                                     -0.401786   \n",
       "max                                      8.831127   \n",
       "\n",
       "       secondary_cleaner.state.floatbank6_a_air  \\\n",
       "count                               5290.000000   \n",
       "mean                                  -0.394106   \n",
       "std                                    0.787008   \n",
       "min                                   -3.409976   \n",
       "25%                                   -0.967917   \n",
       "50%                                   -0.617897   \n",
       "75%                                    0.250393   \n",
       "max                                    1.236789   \n",
       "\n",
       "       secondary_cleaner.state.floatbank6_a_level  rougher.output.recovery  \\\n",
       "count                                 5290.000000              5290.000000   \n",
       "mean                                     0.135145                84.997810   \n",
       "std                                      1.052837                13.077651   \n",
       "min                                     -8.168760                 0.000000   \n",
       "25%                                      0.164866                84.509308   \n",
       "50%                                      0.183307                87.388553   \n",
       "75%                                      0.200405                89.734185   \n",
       "max                                     10.341110                99.169699   \n",
       "\n",
       "       final.output.recovery  \n",
       "count            5290.000000  \n",
       "mean               68.471462  \n",
       "std                 9.513871  \n",
       "min                 0.000000  \n",
       "25%                65.508598  \n",
       "50%                69.815413  \n",
       "75%                73.288544  \n",
       "max               100.000000  \n",
       "\n",
       "[8 rows x 54 columns]"
      ]
     },
     "metadata": {},
     "output_type": "display_data"
    }
   ],
   "source": [
    "display(data_test.describe())"
   ]
  },
  {
   "cell_type": "markdown",
   "metadata": {},
   "source": [
    "Проверим, что столбцы одинаковые у обеих выборок:"
   ]
  },
  {
   "cell_type": "code",
   "execution_count": 22,
   "metadata": {},
   "outputs": [
    {
     "data": {
      "text/plain": [
       "True"
      ]
     },
     "metadata": {},
     "output_type": "display_data"
    }
   ],
   "source": [
    "display(list(data_train.columns) == list(data_test.columns))"
   ]
  },
  {
   "cell_type": "markdown",
   "metadata": {},
   "source": [
    "**Вывод:**"
   ]
  },
  {
   "cell_type": "markdown",
   "metadata": {},
   "source": [
    "- данные подготовлены для дальнейшего моделирования."
   ]
  },
  {
   "cell_type": "markdown",
   "metadata": {},
   "source": [
    "## Анализ данных"
   ]
  },
  {
   "cell_type": "markdown",
   "metadata": {},
   "source": [
    "Рассмотрим сами данные:"
   ]
  },
  {
   "cell_type": "markdown",
   "metadata": {},
   "source": [
    "### Концентрация металлов (Au, Ag, Pb) на различных этапах очистки"
   ]
  },
  {
   "cell_type": "code",
   "execution_count": 23,
   "metadata": {},
   "outputs": [],
   "source": [
    "metal = [\"au\",\"ag\",\"pb\"]\n",
    "color = [\"gold\",\"silver\",\"navy\"]\n",
    "stage = [\"rougher.output.concentrate_\",\"primary_cleaner.output.concentrate_\",\"final.output.concentrate_\"]"
   ]
  },
  {
   "cell_type": "code",
   "execution_count": 24,
   "metadata": {
    "scrolled": false
   },
   "outputs": [
    {
     "data": {
      "image/png": "[encoded data removed]",
      "text/plain": [
       "<Figure size 1080x720 with 1 Axes>"
      ]
     },
     "metadata": {
      "needs_background": "light"
     },
     "output_type": "display_data"
    },
    {
     "data": {
      "image/png": "[encoded data removed]",
      "text/plain": [
       "<Figure size 1080x720 with 1 Axes>"
      ]
     },
     "metadata": {
      "needs_background": "light"
     },
     "output_type": "display_data"
    },
    {
     "data": {
      "image/png": "[encoded data removed]",
      "text/plain": [
       "<Figure size 1080x720 with 1 Axes>"
      ]
     },
     "metadata": {
      "needs_background": "light"
     },
     "output_type": "display_data"
    }
   ],
   "source": [
    "for i in range(len(metal)):\n",
    "    plt.figure(figsize=(15,10))\n",
    "    for y in range(len(stage)):\n",
    "        ax = sns.kdeplot(data_full[stage[y]+metal[i]],color = color[y], label = stage[y][:-1],fill=True)\n",
    "        ax.set(title = metal[i])\n",
    "        plt.legend()\n",
    "    plt.show()"
   ]
  },
  {
   "cell_type": "markdown",
   "metadata": {},
   "source": [
    "**Вывод:**"
   ]
  },
  {
   "cell_type": "markdown",
   "metadata": {},
   "source": [
    "- концентрация золота почти не меняется по этапам;\n",
    "- концентрация серебра уменьшается с каждым этапом;\n",
    "- концентрация свинца не изменяется;\n",
    "- присутствует выброс в нулевом значении. "
   ]
  },
  {
   "cell_type": "markdown",
   "metadata": {},
   "source": [
    "### Распределения размеров гранул сырья на обучающей и тестовой выборках"
   ]
  },
  {
   "cell_type": "code",
   "execution_count": 25,
   "metadata": {
    "scrolled": false
   },
   "outputs": [
    {
     "data": {
      "image/png": "[encoded data removed]",
      "text/plain": [
       "<Figure size 1080x720 with 1 Axes>"
      ]
     },
     "metadata": {
      "needs_background": "light"
     },
     "output_type": "display_data"
    }
   ],
   "source": [
    "plt.figure(figsize=(15,10))\n",
    "\n",
    "sns.kdeplot(data_train[\"rougher.input.feed_size\"],color = \"navy\",label = \"Обучающая\",fill=True)\n",
    "sns.kdeplot(data_test[\"rougher.input.feed_size\"],color = \"red\",label = \"Тестовая\",fill=True)\n",
    "plt.legend()\n",
    "plt.show()"
   ]
  },
  {
   "cell_type": "code",
   "execution_count": 26,
   "metadata": {},
   "outputs": [
    {
     "data": {
      "text/plain": [
       "count    1.414900e+04\n",
       "mean     2.089093e-16\n",
       "std      1.000035e+00\n",
       "min     -2.198713e+00\n",
       "25%     -4.900392e-01\n",
       "50%     -2.160479e-01\n",
       "75%      2.507192e-01\n",
       "max      1.846281e+01\n",
       "Name: rougher.input.feed_size, dtype: float64"
      ]
     },
     "execution_count": 26,
     "metadata": {},
     "output_type": "execute_result"
    }
   ],
   "source": [
    "data_train.describe()[\"rougher.input.feed_size\"]"
   ]
  },
  {
   "cell_type": "code",
   "execution_count": 27,
   "metadata": {
    "scrolled": true
   },
   "outputs": [
    {
     "data": {
      "text/plain": [
       "count    5290.000000\n",
       "mean       -0.186359\n",
       "std         0.829418\n",
       "min        -2.616597\n",
       "25%        -0.710007\n",
       "50%        -0.408312\n",
       "75%         0.096125\n",
       "max        14.443010\n",
       "Name: rougher.input.feed_size, dtype: float64"
      ]
     },
     "execution_count": 27,
     "metadata": {},
     "output_type": "execute_result"
    }
   ],
   "source": [
    "data_test.describe()[\"rougher.input.feed_size\"]"
   ]
  },
  {
   "cell_type": "markdown",
   "metadata": {},
   "source": [
    "Проведем расчет статистической разности:"
   ]
  },
  {
   "cell_type": "code",
   "execution_count": 28,
   "metadata": {},
   "outputs": [
    {
     "name": "stdout",
     "output_type": "stream",
     "text": [
      "p-value: 1.6081245670844284e-33\n"
     ]
    }
   ],
   "source": [
    "result = ttest_ind(data_train[\"rougher.input.feed_size\"],data_test[\"rougher.input.feed_size\"],equal_var=True)\n",
    "print(\"p-value:\",result.pvalue)"
   ]
  },
  {
   "cell_type": "markdown",
   "metadata": {},
   "source": [
    "**Вывод:**"
   ]
  },
  {
   "cell_type": "markdown",
   "metadata": {},
   "source": [
    "- значения и форма графика схожи друг с другом;\n",
    "- значение p-value статистической разности равно ~0, что меньше чем целевые 0.05."
   ]
  },
  {
   "cell_type": "markdown",
   "metadata": {},
   "source": [
    "### Суммарная концентрацая всех веществ на разных стадиях: в сырье, в черновом и финальном концентратах"
   ]
  },
  {
   "cell_type": "code",
   "execution_count": 29,
   "metadata": {
    "scrolled": true
   },
   "outputs": [
    {
     "data": {
      "image/png": "[encoded data removed]",
      "text/plain": [
       "<Figure size 1080x720 with 1 Axes>"
      ]
     },
     "metadata": {
      "needs_background": "light"
     },
     "output_type": "display_data"
    },
    {
     "data": {
      "image/png": "[encoded data removed]",
      "text/plain": [
       "<Figure size 1080x720 with 1 Axes>"
      ]
     },
     "metadata": {
      "needs_background": "light"
     },
     "output_type": "display_data"
    },
    {
     "data": {
      "image/png": "[encoded data removed]",
      "text/plain": [
       "<Figure size 1080x720 with 1 Axes>"
      ]
     },
     "metadata": {
      "needs_background": "light"
     },
     "output_type": "display_data"
    }
   ],
   "source": [
    "stage = [\"rougher.input.feed_\",\"rougher.output.concentrate_\",\"final.output.concentrate_\"]\n",
    "stage_name = [\"Сырье\",\"Черновой концентратор\",\"Финальный концентратор\"]\n",
    "\n",
    "for i in range(len(stage)):\n",
    "    plt.figure(figsize=(15,10))\n",
    "    \n",
    "    material_sum = data_full[stage[i]+\"au\"] + data_full[stage[i]+\"ag\"]\\\n",
    "    + data_full[stage[i]+\"pb\"] + data_full[stage[i]+\"sol\"]\n",
    "    \n",
    "    ax = sns.kdeplot(material_sum,fill=True,label=\"Material\")\n",
    "    ax.set(title = stage_name[i])\n",
    "    plt.legend()\n",
    "    \n",
    "    plt.show()"
   ]
  },
  {
   "cell_type": "markdown",
   "metadata": {},
   "source": [
    "Удалим выброс в нулевом значении:"
   ]
  },
  {
   "cell_type": "code",
   "execution_count": 30,
   "metadata": {},
   "outputs": [],
   "source": [
    "def remove(data):\n",
    "    \n",
    "    data = data.replace(0, np.nan)\n",
    "    data = data.dropna(how = \"all\", axis = 0)\n",
    "    \n",
    "    return data"
   ]
  },
  {
   "cell_type": "code",
   "execution_count": 31,
   "metadata": {
    "scrolled": false
   },
   "outputs": [
    {
     "data": {
      "image/png": "[encoded data removed]",
      "text/plain": [
       "<Figure size 1080x720 with 1 Axes>"
      ]
     },
     "metadata": {
      "needs_background": "light"
     },
     "output_type": "display_data"
    },
    {
     "data": {
      "image/png": "[encoded data removed]",
      "text/plain": [
       "<Figure size 1080x720 with 1 Axes>"
      ]
     },
     "metadata": {
      "needs_background": "light"
     },
     "output_type": "display_data"
    },
    {
     "data": {
      "image/png": "[encoded data removed]",
      "text/plain": [
       "<Figure size 1080x720 with 1 Axes>"
      ]
     },
     "metadata": {
      "needs_background": "light"
     },
     "output_type": "display_data"
    }
   ],
   "source": [
    "for i in range(len(stage)):\n",
    "    plt.figure(figsize=(15,10))\n",
    "    \n",
    "    material_sum = data_full[stage[i]+\"au\"] + data_full[stage[i]+\"ag\"]\\\n",
    "    + data_full[stage[i]+\"pb\"] + data_full[stage[i]+\"sol\"]\n",
    "    \n",
    "    material_sum = remove(material_sum)\n",
    "    \n",
    "    ax = sns.kdeplot(material_sum,fill=True,label=\"Material\")\n",
    "    ax.set(title = stage_name[i])\n",
    "    plt.legend()\n",
    "    \n",
    "    plt.show()"
   ]
  },
  {
   "cell_type": "markdown",
   "metadata": {},
   "source": [
    "**Вывод**"
   ]
  },
  {
   "cell_type": "markdown",
   "metadata": {},
   "source": [
    "- на стадии сырья и черновой концентрации значения схожи;\n",
    "- на финальной стадии суммарная концентрация веществ прилично уменьшается. "
   ]
  },
  {
   "cell_type": "markdown",
   "metadata": {},
   "source": [
    "## Модель"
   ]
  },
  {
   "cell_type": "markdown",
   "metadata": {},
   "source": [
    "Создадим функции для подсчета sMAPE и Итогового sMAPE:"
   ]
  },
  {
   "cell_type": "code",
   "execution_count": 32,
   "metadata": {},
   "outputs": [],
   "source": [
    "def smape(calculated,true):\n",
    "    smape = 1/(len(calculated)) * ((abs(calculated - true))/((abs(calculated)+abs(true))/2)).sum() * 100\n",
    "    return smape"
   ]
  },
  {
   "cell_type": "code",
   "execution_count": 33,
   "metadata": {},
   "outputs": [],
   "source": [
    "def final_smape(rougher,final):\n",
    "    final_smape = (rougher*0.25) + (final*0.75)\n",
    "    return final_smape"
   ]
  },
  {
   "cell_type": "markdown",
   "metadata": {},
   "source": [
    "### Подбор лучшей модели"
   ]
  },
  {
   "cell_type": "markdown",
   "metadata": {},
   "source": [
    "Разделим данные на признаки и на целевые признаки обеих выборок:"
   ]
  },
  {
   "cell_type": "code",
   "execution_count": 34,
   "metadata": {},
   "outputs": [],
   "source": [
    "rougher = []\n",
    "for item in list(data_train.columns):\n",
    "    if \"rougher.\" in item:\n",
    "        rougher.append(item)"
   ]
  },
  {
   "cell_type": "code",
   "execution_count": 35,
   "metadata": {},
   "outputs": [],
   "source": [
    "features_train_rougher = data_train[rougher]\n",
    "features_train_final = data_train.drop([\"rougher.output.recovery\",\"final.output.recovery\"],axis = 1)\n",
    "\n",
    "features_test_rougher = data_test[rougher]\n",
    "features_test_final = data_test.drop([\"rougher.output.recovery\",\"final.output.recovery\"],axis = 1)\n",
    "\n",
    "target_train_rougher = data_train[\"rougher.output.recovery\"]\n",
    "target_train_final = data_train[\"final.output.recovery\"]\n",
    "\n",
    "target_test_rougher = data_test[\"rougher.output.recovery\"]\n",
    "target_test_final = data_test[\"final.output.recovery\"]"
   ]
  },
  {
   "cell_type": "markdown",
   "metadata": {},
   "source": [
    "Создадим таблицу для будущего вывода:"
   ]
  },
  {
   "cell_type": "code",
   "execution_count": 36,
   "metadata": {},
   "outputs": [],
   "source": [
    "model_results = pd.DataFrame(columns = [\"Linear\",\"RandomForest\",\"DecisionTree\"],\n",
    "                             index = [\"sMAPE Rougher\",\"sMAPE Final\",\"Итоговое sMAPE\",\n",
    "                                     \"est_rougher\",\"depth_rougher\",\"split_rougher\",\n",
    "                                    \"est_final\",\"depth_final\",\"split_final\"])"
   ]
  },
  {
   "cell_type": "markdown",
   "metadata": {},
   "source": [
    "#### LinearRegression"
   ]
  },
  {
   "cell_type": "markdown",
   "metadata": {},
   "source": [
    "*Эффективность обогащения чернового концентрата*"
   ]
  },
  {
   "cell_type": "code",
   "execution_count": 37,
   "metadata": {},
   "outputs": [
    {
     "name": "stdout",
     "output_type": "stream",
     "text": [
      "sMAPE Rougher: 4.197879858657249\n",
      "CPU times: user 372 ms, sys: 505 ms, total: 877 ms\n",
      "Wall time: 843 ms\n"
     ]
    }
   ],
   "source": [
    "%%time\n",
    "model = LinearRegression()\n",
    "\n",
    "smape_rougher = cross_val_score(model,features_train_rougher,target_train_rougher,cv = 5,scoring = make_scorer(smape)).mean()\n",
    "\n",
    "print(\"sMAPE Rougher:\",smape_rougher)\n",
    "model_results[\"Linear\"][\"sMAPE Rougher\"] = round(smape_rougher,2)"
   ]
  },
  {
   "cell_type": "markdown",
   "metadata": {},
   "source": [
    "*Эффективность обогащения финального концентрата*"
   ]
  },
  {
   "cell_type": "code",
   "execution_count": 38,
   "metadata": {
    "scrolled": false
   },
   "outputs": [
    {
     "name": "stdout",
     "output_type": "stream",
     "text": [
      "sMAPE Final: 12.245300320302253\n",
      "CPU times: user 781 ms, sys: 973 ms, total: 1.75 s\n",
      "Wall time: 1.71 s\n"
     ]
    }
   ],
   "source": [
    "%%time\n",
    "model = LinearRegression()\n",
    "\n",
    "smape_final = cross_val_score(model,features_train_final,target_train_final,cv = 5,scoring = make_scorer(smape)).mean()\n",
    "\n",
    "print(\"sMAPE Final:\",smape_final)\n",
    "model_results[\"Linear\"][\"sMAPE Final\"] = round(smape_final,2)"
   ]
  },
  {
   "cell_type": "markdown",
   "metadata": {},
   "source": [
    "*Итоговое симметричное среднее абсолютное процентное отклонение (sMAPE)*"
   ]
  },
  {
   "cell_type": "code",
   "execution_count": 39,
   "metadata": {},
   "outputs": [
    {
     "name": "stdout",
     "output_type": "stream",
     "text": [
      "Итоговое sMAPE модели: 10.233445204891002\n"
     ]
    }
   ],
   "source": [
    "print(\"Итоговое sMAPE модели:\",final_smape(smape_rougher,smape_final))\n",
    "model_results[\"Linear\"][\"Итоговое sMAPE\"] = round(final_smape(smape_rougher,smape_final),2)"
   ]
  },
  {
   "cell_type": "markdown",
   "metadata": {},
   "source": [
    "#### RandomForestRegressor"
   ]
  },
  {
   "cell_type": "markdown",
   "metadata": {},
   "source": [
    "*Эффективность обогащения чернового концентрата*"
   ]
  },
  {
   "cell_type": "code",
   "execution_count": 40,
   "metadata": {
    "scrolled": true
   },
   "outputs": [
    {
     "name": "stdout",
     "output_type": "stream",
     "text": [
      "{'max_depth': 8, 'min_samples_split': 6, 'n_estimators': 5}\n",
      "sMAPE Rougher: 0.16499859522603505\n",
      "CPU times: user 9min 31s, sys: 944 ms, total: 9min 32s\n",
      "Wall time: 9min 32s\n"
     ]
    }
   ],
   "source": [
    "%%time\n",
    "model = RandomForestRegressor()\n",
    "tuned_parameters = {\"n_estimators\": np.arange(5,30,5),\n",
    "                    \"max_depth\": np.arange(5,10,1),\n",
    "                    \"min_samples_split\":np.arange(4,10,2)}\n",
    "\n",
    "model = GridSearchCV(estimator = model,\n",
    "                             param_grid = tuned_parameters,\n",
    "                             n_jobs = -1,\n",
    "                             cv = 5,\n",
    "                             scoring = make_scorer(smape,greater_is_better = False))\n",
    "\n",
    "model.fit(features_train_rougher,target_train_rougher)\n",
    "smape_rougher = (model.best_score_)*(-1)\n",
    "\n",
    "print(model.best_params_)\n",
    "print(\"sMAPE Rougher:\",smape_rougher)\n",
    "model_results[\"RandomForest\"][\"sMAPE Rougher\"] = round(smape_rougher,2)\n",
    "model_results[\"RandomForest\"][\"est_rougher\"]   = model.best_params_[\"n_estimators\"]\n",
    "model_results[\"RandomForest\"][\"depth_rougher\"] = model.best_params_[\"max_depth\"]\n",
    "model_results[\"RandomForest\"][\"split_rougher\"] = model.best_params_[\"min_samples_split\"]"
   ]
  },
  {
   "cell_type": "markdown",
   "metadata": {},
   "source": [
    "*Эффективность обогащения финального концентрата*"
   ]
  },
  {
   "cell_type": "code",
   "execution_count": 41,
   "metadata": {
    "scrolled": true
   },
   "outputs": [
    {
     "name": "stdout",
     "output_type": "stream",
     "text": [
      "{'max_depth': 5, 'min_samples_split': 6, 'n_estimators': 20}\n",
      "sMAPE Final: 10.096084364683001\n",
      "CPU times: user 21min 29s, sys: 1.54 s, total: 21min 30s\n",
      "Wall time: 21min 33s\n"
     ]
    }
   ],
   "source": [
    "%%time\n",
    "model = RandomForestRegressor()\n",
    "tuned_parameters = {\"n_estimators\": np.arange(5,30,5),\n",
    "                    \"max_depth\": np.arange(5,10,1),\n",
    "                    \"min_samples_split\":np.arange(4,10,2)}\n",
    "\n",
    "model = GridSearchCV(estimator = model,\n",
    "                             param_grid = tuned_parameters,\n",
    "                             n_jobs = -1,\n",
    "                             cv = 5,\n",
    "                             scoring = make_scorer(smape,greater_is_better = False))\n",
    "\n",
    "model.fit(features_train_final,target_train_final)\n",
    "smape_final = (model.best_score_)*(-1)\n",
    "\n",
    "print(model.best_params_)\n",
    "print(\"sMAPE Final:\",smape_final)\n",
    "model_results[\"RandomForest\"][\"sMAPE Final\"] = round(smape_final,2)\n",
    "model_results[\"RandomForest\"][\"est_final\"]   = model.best_params_[\"n_estimators\"]\n",
    "model_results[\"RandomForest\"][\"depth_final\"] = model.best_params_[\"max_depth\"]\n",
    "model_results[\"RandomForest\"][\"split_final\"] = model.best_params_[\"min_samples_split\"]"
   ]
  },
  {
   "cell_type": "markdown",
   "metadata": {},
   "source": [
    "*Итоговое симметричное среднее абсолютное процентное отклонение (sMAPE)*"
   ]
  },
  {
   "cell_type": "code",
   "execution_count": 42,
   "metadata": {},
   "outputs": [
    {
     "name": "stdout",
     "output_type": "stream",
     "text": [
      "Итоговое sMAPE модели: 7.61331292231876\n"
     ]
    }
   ],
   "source": [
    "print(\"Итоговое sMAPE модели:\",final_smape(smape_rougher,smape_final))\n",
    "model_results[\"RandomForest\"][\"Итоговое sMAPE\"] = round(final_smape(smape_rougher,smape_final),2)"
   ]
  },
  {
   "cell_type": "markdown",
   "metadata": {},
   "source": [
    "#### DecisionTreeRegressor"
   ]
  },
  {
   "cell_type": "markdown",
   "metadata": {},
   "source": [
    "*Эффективность обогащения чернового концентрата*"
   ]
  },
  {
   "cell_type": "code",
   "execution_count": 43,
   "metadata": {
    "scrolled": true
   },
   "outputs": [
    {
     "name": "stdout",
     "output_type": "stream",
     "text": [
      "{'max_depth': 9, 'min_samples_split': 8}\n",
      "sMAPE Rougher: 0.09200727134920231\n",
      "CPU times: user 22.3 s, sys: 16 ms, total: 22.3 s\n",
      "Wall time: 22.3 s\n"
     ]
    }
   ],
   "source": [
    "%%time\n",
    "model = DecisionTreeRegressor()\n",
    "tuned_parameters = {'max_depth': np.arange(1,10,1),\"min_samples_split\":np.arange(2,10,2)}\n",
    "\n",
    "model = GridSearchCV(estimator = model,\n",
    "                             param_grid = tuned_parameters,\n",
    "                             n_jobs = -1,\n",
    "                             cv = 5,\n",
    "                             scoring = make_scorer(smape,greater_is_better = False))\n",
    "\n",
    "model.fit(features_train_rougher,target_train_rougher)\n",
    "smape_rougher = (model.best_score_)*(-1)\n",
    "\n",
    "print(model.best_params_)\n",
    "print(\"sMAPE Rougher:\",smape_rougher)\n",
    "model_results[\"DecisionTree\"][\"sMAPE Rougher\"] = round(smape_rougher,2)\n",
    "model_results[\"DecisionTree\"][\"depth_rougher\"] = model.best_params_[\"max_depth\"]\n",
    "model_results[\"DecisionTree\"][\"split_rougher\"] = model.best_params_[\"min_samples_split\"]"
   ]
  },
  {
   "cell_type": "markdown",
   "metadata": {},
   "source": [
    "*Эффективность обогащения финального концентрата*"
   ]
  },
  {
   "cell_type": "code",
   "execution_count": 44,
   "metadata": {
    "scrolled": true
   },
   "outputs": [
    {
     "name": "stdout",
     "output_type": "stream",
     "text": [
      "{'max_depth': 3, 'min_samples_split': 6}\n",
      "sMAPE Final: 10.806104806167763\n",
      "CPU times: user 48.5 s, sys: 28 ms, total: 48.6 s\n",
      "Wall time: 48.6 s\n"
     ]
    }
   ],
   "source": [
    "%%time\n",
    "model = DecisionTreeRegressor()\n",
    "tuned_parameters = {\"max_depth\": np.arange(1,10,1),\"min_samples_split\":np.arange(2,10,2)}\n",
    "\n",
    "model = GridSearchCV(estimator = model,\n",
    "                             param_grid = tuned_parameters,\n",
    "                             n_jobs = -1,\n",
    "                             cv = 5,\n",
    "                             scoring = make_scorer(smape,greater_is_better = False))\n",
    "\n",
    "model.fit(features_train_final,target_train_final)\n",
    "smape_final = (model.best_score_)*(-1)\n",
    "\n",
    "print(model.best_params_)\n",
    "print(\"sMAPE Final:\",smape_final)\n",
    "model_results[\"DecisionTree\"][\"sMAPE Final\"] = round(smape_final,2)\n",
    "model_results[\"DecisionTree\"][\"depth_final\"] = model.best_params_[\"max_depth\"]\n",
    "model_results[\"DecisionTree\"][\"split_final\"] = model.best_params_[\"min_samples_split\"]"
   ]
  },
  {
   "cell_type": "markdown",
   "metadata": {},
   "source": [
    "*Итоговое симметричное среднее абсолютное процентное отклонение (sMAPE)*"
   ]
  },
  {
   "cell_type": "code",
   "execution_count": 45,
   "metadata": {
    "scrolled": true
   },
   "outputs": [
    {
     "name": "stdout",
     "output_type": "stream",
     "text": [
      "Итоговое sMAPE модели: 8.127580422463122\n"
     ]
    }
   ],
   "source": [
    "print(\"Итоговое sMAPE модели:\",final_smape(smape_rougher,smape_final))\n",
    "model_results[\"DecisionTree\"][\"Итоговое sMAPE\"] = round(final_smape(smape_rougher,smape_final),2)"
   ]
  },
  {
   "cell_type": "markdown",
   "metadata": {},
   "source": [
    "**Результаты:**"
   ]
  },
  {
   "cell_type": "code",
   "execution_count": 46,
   "metadata": {
    "scrolled": false
   },
   "outputs": [
    {
     "data": {
      "text/html": [
       "<div>\n",
       "<style scoped>\n",
       "    .dataframe tbody tr th:only-of-type {\n",
       "        vertical-align: middle;\n",
       "    }\n",
       "\n",
       "    .dataframe tbody tr th {\n",
       "        vertical-align: top;\n",
       "    }\n",
       "\n",
       "    .dataframe thead th {\n",
       "        text-align: right;\n",
       "    }\n",
       "</style>\n",
       "<table border=\"1\" class=\"dataframe\">\n",
       "  <thead>\n",
       "    <tr style=\"text-align: right;\">\n",
       "      <th></th>\n",
       "      <th>Linear</th>\n",
       "      <th>RandomForest</th>\n",
       "      <th>DecisionTree</th>\n",
       "    </tr>\n",
       "  </thead>\n",
       "  <tbody>\n",
       "    <tr>\n",
       "      <th>sMAPE Rougher</th>\n",
       "      <td>4.2</td>\n",
       "      <td>0.16</td>\n",
       "      <td>0.09</td>\n",
       "    </tr>\n",
       "    <tr>\n",
       "      <th>sMAPE Final</th>\n",
       "      <td>12.25</td>\n",
       "      <td>10.1</td>\n",
       "      <td>10.81</td>\n",
       "    </tr>\n",
       "    <tr>\n",
       "      <th>Итоговое sMAPE</th>\n",
       "      <td>10.23</td>\n",
       "      <td>7.61</td>\n",
       "      <td>8.13</td>\n",
       "    </tr>\n",
       "  </tbody>\n",
       "</table>\n",
       "</div>"
      ],
      "text/plain": [
       "               Linear RandomForest DecisionTree\n",
       "sMAPE Rougher     4.2         0.16         0.09\n",
       "sMAPE Final     12.25         10.1        10.81\n",
       "Итоговое sMAPE  10.23         7.61         8.13"
      ]
     },
     "metadata": {},
     "output_type": "display_data"
    }
   ],
   "source": [
    "display(model_results[:3])"
   ]
  },
  {
   "cell_type": "code",
   "execution_count": 47,
   "metadata": {},
   "outputs": [
    {
     "data": {
      "text/html": [
       "<div>\n",
       "<style scoped>\n",
       "    .dataframe tbody tr th:only-of-type {\n",
       "        vertical-align: middle;\n",
       "    }\n",
       "\n",
       "    .dataframe tbody tr th {\n",
       "        vertical-align: top;\n",
       "    }\n",
       "\n",
       "    .dataframe thead th {\n",
       "        text-align: right;\n",
       "    }\n",
       "</style>\n",
       "<table border=\"1\" class=\"dataframe\">\n",
       "  <thead>\n",
       "    <tr style=\"text-align: right;\">\n",
       "      <th></th>\n",
       "      <th>est_rougher</th>\n",
       "      <th>depth_rougher</th>\n",
       "      <th>split_rougher</th>\n",
       "      <th>est_final</th>\n",
       "      <th>depth_final</th>\n",
       "      <th>split_final</th>\n",
       "    </tr>\n",
       "  </thead>\n",
       "  <tbody>\n",
       "    <tr>\n",
       "      <th>Linear</th>\n",
       "      <td>NaN</td>\n",
       "      <td>NaN</td>\n",
       "      <td>NaN</td>\n",
       "      <td>NaN</td>\n",
       "      <td>NaN</td>\n",
       "      <td>NaN</td>\n",
       "    </tr>\n",
       "    <tr>\n",
       "      <th>RandomForest</th>\n",
       "      <td>5</td>\n",
       "      <td>8</td>\n",
       "      <td>6</td>\n",
       "      <td>20</td>\n",
       "      <td>5</td>\n",
       "      <td>6</td>\n",
       "    </tr>\n",
       "    <tr>\n",
       "      <th>DecisionTree</th>\n",
       "      <td>NaN</td>\n",
       "      <td>9</td>\n",
       "      <td>8</td>\n",
       "      <td>NaN</td>\n",
       "      <td>3</td>\n",
       "      <td>6</td>\n",
       "    </tr>\n",
       "  </tbody>\n",
       "</table>\n",
       "</div>"
      ],
      "text/plain": [
       "             est_rougher depth_rougher split_rougher est_final depth_final  \\\n",
       "Linear               NaN           NaN           NaN       NaN         NaN   \n",
       "RandomForest           5             8             6        20           5   \n",
       "DecisionTree         NaN             9             8       NaN           3   \n",
       "\n",
       "             split_final  \n",
       "Linear               NaN  \n",
       "RandomForest           6  \n",
       "DecisionTree           6  "
      ]
     },
     "metadata": {},
     "output_type": "display_data"
    }
   ],
   "source": [
    "display(model_results[3:].transpose())"
   ]
  },
  {
   "cell_type": "markdown",
   "metadata": {},
   "source": [
    "**Вывод**"
   ]
  },
  {
   "cell_type": "markdown",
   "metadata": {},
   "source": [
    "- лучше значение Итогового sMAPE достигла модель случайного леса, со значением sMAPE = 7.61;\n",
    "- гиперпараметры модели лучшего случайного леса для sMAPE rougher: est = 5, depth = 8, split = 6;\n",
    "- гиперпараметры модели лучшего случайного леса для sMAPE final: est = 20, depth = 5, split = 6;\n",
    "- хуже всего оказалась модель Linear, со значением sMAPE = 10.23. "
   ]
  },
  {
   "cell_type": "markdown",
   "metadata": {},
   "source": [
    "### Тестирование модели на тестовой выборке"
   ]
  },
  {
   "cell_type": "markdown",
   "metadata": {},
   "source": [
    "Протестируем модели на тестовой выборке:"
   ]
  },
  {
   "cell_type": "markdown",
   "metadata": {},
   "source": [
    "*Эффективность обогащения чернового концентрата*"
   ]
  },
  {
   "cell_type": "code",
   "execution_count": 54,
   "metadata": {},
   "outputs": [
    {
     "name": "stdout",
     "output_type": "stream",
     "text": [
      "sMAPE Rougher: 0.053762060251262275\n"
     ]
    }
   ],
   "source": [
    "model_rougher = RandomForestRegressor(n_estimators = 5,\n",
    "                                      max_depth = 8,\n",
    "                                      min_samples_split = 6)\n",
    "\n",
    "model_rougher.fit(features_train_rougher,target_train_rougher)\n",
    "test_prediction_rougher = model_rougher.predict(features_test_rougher)\n",
    "smape_rougher = smape(test_prediction_rougher,target_test_rougher)\n",
    "\n",
    "print(\"sMAPE Rougher:\",smape_rougher)"
   ]
  },
  {
   "cell_type": "markdown",
   "metadata": {},
   "source": [
    "*Эффективность обогащения финального концентрата*"
   ]
  },
  {
   "cell_type": "code",
   "execution_count": 55,
   "metadata": {},
   "outputs": [
    {
     "name": "stdout",
     "output_type": "stream",
     "text": [
      "sMAPE Final: 9.785084727382602\n"
     ]
    }
   ],
   "source": [
    "model_final = RandomForestRegressor(n_estimators = 20,\n",
    "                                      max_depth = 5,\n",
    "                                      min_samples_split = 6)\n",
    "\n",
    "model_final.fit(features_train_final,target_train_final)\n",
    "test_prediction_final = model_final.predict(features_test_final)\n",
    "smape_final = smape(test_prediction_final,target_test_final)\n",
    "\n",
    "print(\"sMAPE Final:\",smape_final)"
   ]
  },
  {
   "cell_type": "markdown",
   "metadata": {},
   "source": [
    "*Итоговое симметричное среднее абсолютное процентное отклонение (sMAPE)*"
   ]
  },
  {
   "cell_type": "code",
   "execution_count": 56,
   "metadata": {
    "scrolled": true
   },
   "outputs": [
    {
     "name": "stdout",
     "output_type": "stream",
     "text": [
      "Итоговое sMAPE модели: 7.352254060599766\n"
     ]
    }
   ],
   "source": [
    "final_smape_result = final_smape(smape_rougher,smape_final)\n",
    "print(\"Итоговое sMAPE модели:\",final_smape_result)"
   ]
  },
  {
   "cell_type": "markdown",
   "metadata": {},
   "source": [
    "**Вывод:**"
   ]
  },
  {
   "cell_type": "markdown",
   "metadata": {},
   "source": [
    "- значение Итогового sMAPE на тестовой выборке - 7.35;"
   ]
  },
  {
   "cell_type": "markdown",
   "metadata": {},
   "source": [
    "## Дефолтная модель"
   ]
  },
  {
   "cell_type": "markdown",
   "metadata": {},
   "source": [
    "Проверим модель на адекватность с помощью дефолтной моделью:"
   ]
  },
  {
   "cell_type": "markdown",
   "metadata": {},
   "source": [
    "*Эффективность обогащения чернового концентрата*"
   ]
  },
  {
   "cell_type": "code",
   "execution_count": 51,
   "metadata": {
    "scrolled": true
   },
   "outputs": [
    {
     "name": "stdout",
     "output_type": "stream",
     "text": [
      "sMAPE Rougher: 10.379799283438494\n"
     ]
    }
   ],
   "source": [
    "dummy_model = DummyRegressor()\n",
    "dummy_model.fit(features_train_rougher,target_train_rougher)\n",
    "dummy_result_rougher = dummy_model.predict(features_test_rougher)\n",
    "dummy_smape_rougher = smape(dummy_result_rougher,target_test_rougher)\n",
    "print(\"sMAPE Rougher:\",dummy_smape_rougher)"
   ]
  },
  {
   "cell_type": "markdown",
   "metadata": {},
   "source": [
    "*Эффективность обогащения финального концентрата*"
   ]
  },
  {
   "cell_type": "code",
   "execution_count": 52,
   "metadata": {},
   "outputs": [
    {
     "name": "stdout",
     "output_type": "stream",
     "text": [
      "sMAPE Final: 10.25957407354855\n"
     ]
    }
   ],
   "source": [
    "dummy_model = DummyRegressor()\n",
    "dummy_model.fit(features_train_final,target_train_final)\n",
    "dummy_result_final = dummy_model.predict(features_test_final)\n",
    "dummy_smape_final = smape(dummy_result_final,target_test_final)\n",
    "print(\"sMAPE Final:\",dummy_smape_final)"
   ]
  },
  {
   "cell_type": "markdown",
   "metadata": {},
   "source": [
    "*Итоговое симметричное среднее абсолютное процентное отклонение (sMAPE)*"
   ]
  },
  {
   "cell_type": "code",
   "execution_count": 53,
   "metadata": {
    "scrolled": true
   },
   "outputs": [
    {
     "name": "stdout",
     "output_type": "stream",
     "text": [
      "Итоговое sMAPE модели: 10.289630376021035\n"
     ]
    }
   ],
   "source": [
    "dummy_final_smape = final_smape(dummy_smape_rougher,dummy_smape_final)\n",
    "print(\"Итоговое sMAPE модели:\",dummy_final_smape)"
   ]
  },
  {
   "cell_type": "markdown",
   "metadata": {},
   "source": [
    "**Вывод:**"
   ]
  },
  {
   "cell_type": "markdown",
   "metadata": {},
   "source": [
    "Значение дефолтной модели намного выше чем нашей, что значит что наша модель супер-пупер адекватна. "
   ]
  },
  {
   "cell_type": "markdown",
   "metadata": {},
   "source": [
    "## Общий вывод"
   ]
  },
  {
   "cell_type": "markdown",
   "metadata": {},
   "source": [
    "Из общего, данные не требовали большой доработки, были пропуски и отсутствовали целевые признаки в тестировочной выборке. Пропуски были заполнены на основе имеющихся исторических данных, а целевые признаки были добавлены в тестировочную выборку из исходных данных. Дополнительно была выполнена скаллация для улучшения построение модели. \n",
    "\n",
    "После предобработки, данные были проанализированы и результат оказался таким какой, ожидался. В анализ входило концентрация металлов на разных этапах, распределение гранул сырья в двух выборок и суммарная концентрация сырья на разных этапах. Результаты следующие: \n",
    "- концентрация золота почти не меняется по этапам;\n",
    "- концентрация серебра уменьшается с каждым этапом;\n",
    "- концентрация свинца не изменяется;\n",
    "- присутствует выброс в нулевом значении. \n",
    "\n",
    "- значения и форма графика схожи друг с другом;\n",
    "- значение p-value статистической разности двух выборок = ~0, что намного меньше чем целевые 0.05.\n",
    "\n",
    "- на стадии сырья и черновой концентрации значения суммарной концентрации сырья схожее;\n",
    "- на финальной стадии суммарная концентрация веществ прилично уменьшается.\n",
    "\n",
    "При моделировании, лучше всего показала себя модель случайный лес. Она достигла результата sMAPE - 7.61 на тренировочной выборке. Модель с подобранными гиперпараметрами была так же протестирована на тестовой выборе и показала sMAPE - 7.35, что говорит об успехе модели. Модель так же была проверена на адекватность и получила преимущество перед дефолтной моделью в 2.98 sMAPE, что так же говорит об успехе модели. Поэтому, модель может быть использована в работе. "
   ]
  }
 ],
 "metadata": {
  "ExecuteTimeLog": [
   {
    "duration": 1468,
    "start_time": "2022-12-20T09:22:45.270Z"
   },
   {
    "duration": 3,
    "start_time": "2022-12-20T09:22:46.740Z"
   },
   {
    "duration": 143,
    "start_time": "2022-12-20T09:22:47.470Z"
   },
   {
    "duration": 1967,
    "start_time": "2022-12-20T09:23:09.880Z"
   },
   {
    "duration": 3,
    "start_time": "2022-12-20T09:23:44.597Z"
   },
   {
    "duration": 503,
    "start_time": "2022-12-20T09:23:45.155Z"
   },
   {
    "duration": 4,
    "start_time": "2022-12-20T09:24:08.332Z"
   },
   {
    "duration": 459,
    "start_time": "2022-12-20T09:24:08.692Z"
   },
   {
    "duration": 1074,
    "start_time": "2022-12-20T09:24:09.306Z"
   },
   {
    "duration": 446,
    "start_time": "2022-12-20T09:24:10.382Z"
   },
   {
    "duration": 25,
    "start_time": "2022-12-20T09:30:09.163Z"
   },
   {
    "duration": 13,
    "start_time": "2022-12-20T09:30:48.685Z"
   },
   {
    "duration": 16,
    "start_time": "2022-12-20T09:30:56.880Z"
   },
   {
    "duration": 1287,
    "start_time": "2022-12-20T09:31:36.749Z"
   },
   {
    "duration": 3,
    "start_time": "2022-12-20T09:31:38.038Z"
   },
   {
    "duration": 483,
    "start_time": "2022-12-20T09:31:38.043Z"
   },
   {
    "duration": 389,
    "start_time": "2022-12-20T09:31:38.528Z"
   },
   {
    "duration": 110,
    "start_time": "2022-12-20T09:31:38.921Z"
   },
   {
    "duration": 15,
    "start_time": "2022-12-20T09:31:41.317Z"
   },
   {
    "duration": 14,
    "start_time": "2022-12-20T09:31:42.262Z"
   },
   {
    "duration": 14,
    "start_time": "2022-12-20T09:46:14.825Z"
   },
   {
    "duration": 14,
    "start_time": "2022-12-20T09:46:15.441Z"
   },
   {
    "duration": 1218,
    "start_time": "2022-12-20T09:46:48.980Z"
   },
   {
    "duration": 2,
    "start_time": "2022-12-20T09:46:50.200Z"
   },
   {
    "duration": 482,
    "start_time": "2022-12-20T09:46:50.204Z"
   },
   {
    "duration": 409,
    "start_time": "2022-12-20T09:46:50.689Z"
   },
   {
    "duration": 112,
    "start_time": "2022-12-20T09:46:51.100Z"
   },
   {
    "duration": 20,
    "start_time": "2022-12-20T09:46:51.213Z"
   },
   {
    "duration": 15,
    "start_time": "2022-12-20T09:46:54.036Z"
   },
   {
    "duration": 1290,
    "start_time": "2022-12-20T09:47:05.405Z"
   },
   {
    "duration": 3,
    "start_time": "2022-12-20T09:47:06.697Z"
   },
   {
    "duration": 473,
    "start_time": "2022-12-20T09:47:06.702Z"
   },
   {
    "duration": 391,
    "start_time": "2022-12-20T09:47:07.177Z"
   },
   {
    "duration": 115,
    "start_time": "2022-12-20T09:47:07.570Z"
   },
   {
    "duration": 14,
    "start_time": "2022-12-20T09:47:07.686Z"
   },
   {
    "duration": 14,
    "start_time": "2022-12-20T09:47:08.396Z"
   },
   {
    "duration": 1227,
    "start_time": "2022-12-20T09:47:27.783Z"
   },
   {
    "duration": 3,
    "start_time": "2022-12-20T09:47:29.013Z"
   },
   {
    "duration": 499,
    "start_time": "2022-12-20T09:47:29.017Z"
   },
   {
    "duration": 400,
    "start_time": "2022-12-20T09:47:29.521Z"
   },
   {
    "duration": 115,
    "start_time": "2022-12-20T09:47:29.923Z"
   },
   {
    "duration": 17,
    "start_time": "2022-12-20T09:47:30.040Z"
   },
   {
    "duration": 12,
    "start_time": "2022-12-20T09:47:30.730Z"
   },
   {
    "duration": 4,
    "start_time": "2022-12-20T09:48:26.111Z"
   },
   {
    "duration": 17,
    "start_time": "2022-12-20T09:48:26.117Z"
   },
   {
    "duration": 467,
    "start_time": "2022-12-20T09:48:26.136Z"
   },
   {
    "duration": 392,
    "start_time": "2022-12-20T09:48:26.605Z"
   },
   {
    "duration": 109,
    "start_time": "2022-12-20T09:48:26.998Z"
   },
   {
    "duration": 1286,
    "start_time": "2022-12-20T09:48:33.212Z"
   },
   {
    "duration": 3,
    "start_time": "2022-12-20T09:48:34.500Z"
   },
   {
    "duration": 511,
    "start_time": "2022-12-20T09:48:34.504Z"
   },
   {
    "duration": 421,
    "start_time": "2022-12-20T09:48:35.022Z"
   },
   {
    "duration": 112,
    "start_time": "2022-12-20T09:48:35.445Z"
   },
   {
    "duration": 11,
    "start_time": "2022-12-20T09:48:36.736Z"
   },
   {
    "duration": 14,
    "start_time": "2022-12-20T09:48:37.973Z"
   },
   {
    "duration": 1329,
    "start_time": "2022-12-20T09:52:04.826Z"
   },
   {
    "duration": 3,
    "start_time": "2022-12-20T09:52:06.157Z"
   },
   {
    "duration": 417,
    "start_time": "2022-12-20T09:52:06.161Z"
   },
   {
    "duration": 118,
    "start_time": "2022-12-20T09:52:06.579Z"
   },
   {
    "duration": 22,
    "start_time": "2022-12-20T09:52:06.700Z"
   },
   {
    "duration": 11,
    "start_time": "2022-12-20T09:52:06.724Z"
   },
   {
    "duration": 1292,
    "start_time": "2022-12-20T09:52:58.423Z"
   },
   {
    "duration": 3,
    "start_time": "2022-12-20T09:52:59.717Z"
   },
   {
    "duration": 425,
    "start_time": "2022-12-20T09:52:59.722Z"
   },
   {
    "duration": 115,
    "start_time": "2022-12-20T09:53:00.149Z"
   },
   {
    "duration": 14,
    "start_time": "2022-12-20T09:53:00.267Z"
   },
   {
    "duration": 16,
    "start_time": "2022-12-20T09:53:00.282Z"
   },
   {
    "duration": 3,
    "start_time": "2022-12-20T10:16:14.197Z"
   },
   {
    "duration": 102,
    "start_time": "2022-12-20T10:16:14.855Z"
   },
   {
    "duration": 5,
    "start_time": "2022-12-20T10:16:30.966Z"
   },
   {
    "duration": 4,
    "start_time": "2022-12-20T10:17:17.103Z"
   },
   {
    "duration": 6,
    "start_time": "2022-12-20T10:17:17.557Z"
   },
   {
    "duration": 5,
    "start_time": "2022-12-20T10:23:57.093Z"
   },
   {
    "duration": 6,
    "start_time": "2022-12-20T10:24:00.790Z"
   },
   {
    "duration": 3,
    "start_time": "2022-12-20T10:29:02.702Z"
   },
   {
    "duration": 9,
    "start_time": "2022-12-20T10:29:03.349Z"
   },
   {
    "duration": 887,
    "start_time": "2022-12-20T10:29:10.903Z"
   },
   {
    "duration": 8,
    "start_time": "2022-12-20T10:29:25.440Z"
   },
   {
    "duration": 66,
    "start_time": "2022-12-20T10:33:16.335Z"
   },
   {
    "duration": 3,
    "start_time": "2022-12-20T10:33:31.403Z"
   },
   {
    "duration": 12,
    "start_time": "2022-12-20T10:34:05.483Z"
   },
   {
    "duration": 6,
    "start_time": "2022-12-20T10:34:11.772Z"
   },
   {
    "duration": 2,
    "start_time": "2022-12-20T10:57:04.426Z"
   },
   {
    "duration": 4,
    "start_time": "2022-12-20T10:57:11.523Z"
   },
   {
    "duration": 2,
    "start_time": "2022-12-20T10:57:21.062Z"
   },
   {
    "duration": 10,
    "start_time": "2022-12-20T10:57:57.373Z"
   },
   {
    "duration": 3,
    "start_time": "2022-12-20T10:58:10.270Z"
   },
   {
    "duration": 3,
    "start_time": "2022-12-20T10:58:11.672Z"
   },
   {
    "duration": 3,
    "start_time": "2022-12-20T10:59:13.190Z"
   },
   {
    "duration": 9,
    "start_time": "2022-12-20T10:59:34.697Z"
   },
   {
    "duration": 2,
    "start_time": "2022-12-20T10:59:41.053Z"
   },
   {
    "duration": 3,
    "start_time": "2022-12-20T10:59:41.661Z"
   },
   {
    "duration": 3,
    "start_time": "2022-12-20T10:59:50.616Z"
   },
   {
    "duration": 2,
    "start_time": "2022-12-20T10:59:51.888Z"
   },
   {
    "duration": 7,
    "start_time": "2022-12-20T11:07:48.559Z"
   },
   {
    "duration": 4,
    "start_time": "2022-12-20T11:07:49.147Z"
   },
   {
    "duration": 10,
    "start_time": "2022-12-20T11:12:00.897Z"
   },
   {
    "duration": 8,
    "start_time": "2022-12-20T11:12:04.887Z"
   },
   {
    "duration": 9,
    "start_time": "2022-12-20T11:12:28.027Z"
   },
   {
    "duration": 1305,
    "start_time": "2022-12-20T11:12:39.224Z"
   },
   {
    "duration": 4,
    "start_time": "2022-12-20T11:12:40.530Z"
   },
   {
    "duration": 425,
    "start_time": "2022-12-20T11:12:40.535Z"
   },
   {
    "duration": 113,
    "start_time": "2022-12-20T11:12:40.962Z"
   },
   {
    "duration": 3,
    "start_time": "2022-12-20T11:12:41.077Z"
   },
   {
    "duration": 18,
    "start_time": "2022-12-20T11:12:41.081Z"
   },
   {
    "duration": 6,
    "start_time": "2022-12-20T11:12:41.100Z"
   },
   {
    "duration": 9,
    "start_time": "2022-12-20T11:12:41.107Z"
   },
   {
    "duration": 7,
    "start_time": "2022-12-20T11:12:41.117Z"
   },
   {
    "duration": 13,
    "start_time": "2022-12-20T11:12:41.126Z"
   },
   {
    "duration": 8,
    "start_time": "2022-12-20T11:12:41.140Z"
   },
   {
    "duration": 13,
    "start_time": "2022-12-20T11:12:43.048Z"
   },
   {
    "duration": 3,
    "start_time": "2022-12-20T11:12:43.921Z"
   },
   {
    "duration": 1275,
    "start_time": "2022-12-20T11:15:04.132Z"
   },
   {
    "duration": 4,
    "start_time": "2022-12-20T11:15:05.409Z"
   },
   {
    "duration": 447,
    "start_time": "2022-12-20T11:15:05.421Z"
   },
   {
    "duration": 112,
    "start_time": "2022-12-20T11:15:05.869Z"
   },
   {
    "duration": 3,
    "start_time": "2022-12-20T11:15:05.983Z"
   },
   {
    "duration": 16,
    "start_time": "2022-12-20T11:15:05.987Z"
   },
   {
    "duration": 8,
    "start_time": "2022-12-20T11:15:06.005Z"
   },
   {
    "duration": 9,
    "start_time": "2022-12-20T11:15:06.014Z"
   },
   {
    "duration": 14,
    "start_time": "2022-12-20T11:15:06.024Z"
   },
   {
    "duration": 11,
    "start_time": "2022-12-20T11:15:06.039Z"
   },
   {
    "duration": 15,
    "start_time": "2022-12-20T11:15:06.052Z"
   },
   {
    "duration": 3,
    "start_time": "2022-12-20T11:15:09.611Z"
   },
   {
    "duration": 11,
    "start_time": "2022-12-20T11:15:10.442Z"
   },
   {
    "duration": 107,
    "start_time": "2022-12-20T11:15:11.595Z"
   },
   {
    "duration": 9,
    "start_time": "2022-12-20T11:16:40.131Z"
   },
   {
    "duration": 1341,
    "start_time": "2022-12-20T11:16:54.596Z"
   },
   {
    "duration": 3,
    "start_time": "2022-12-20T11:16:55.939Z"
   },
   {
    "duration": 416,
    "start_time": "2022-12-20T11:16:55.943Z"
   },
   {
    "duration": 109,
    "start_time": "2022-12-20T11:16:56.361Z"
   },
   {
    "duration": 3,
    "start_time": "2022-12-20T11:16:56.472Z"
   },
   {
    "duration": 14,
    "start_time": "2022-12-20T11:16:56.477Z"
   },
   {
    "duration": 3,
    "start_time": "2022-12-20T11:16:56.492Z"
   },
   {
    "duration": 8,
    "start_time": "2022-12-20T11:16:56.496Z"
   },
   {
    "duration": 20,
    "start_time": "2022-12-20T11:16:56.505Z"
   },
   {
    "duration": 11,
    "start_time": "2022-12-20T11:16:56.527Z"
   },
   {
    "duration": 6,
    "start_time": "2022-12-20T11:16:56.539Z"
   },
   {
    "duration": 11,
    "start_time": "2022-12-20T11:16:57.423Z"
   },
   {
    "duration": 11,
    "start_time": "2022-12-20T11:17:01.791Z"
   },
   {
    "duration": 3,
    "start_time": "2022-12-20T11:17:02.588Z"
   },
   {
    "duration": 1389,
    "start_time": "2022-12-20T11:18:44.614Z"
   },
   {
    "duration": 3,
    "start_time": "2022-12-20T11:18:46.005Z"
   },
   {
    "duration": 419,
    "start_time": "2022-12-20T11:18:46.009Z"
   },
   {
    "duration": 112,
    "start_time": "2022-12-20T11:18:46.430Z"
   },
   {
    "duration": 2,
    "start_time": "2022-12-20T11:18:46.544Z"
   },
   {
    "duration": 16,
    "start_time": "2022-12-20T11:18:46.548Z"
   },
   {
    "duration": 8,
    "start_time": "2022-12-20T11:18:46.566Z"
   },
   {
    "duration": 24,
    "start_time": "2022-12-20T11:18:46.575Z"
   },
   {
    "duration": 22,
    "start_time": "2022-12-20T11:18:46.603Z"
   },
   {
    "duration": 20,
    "start_time": "2022-12-20T11:18:46.627Z"
   },
   {
    "duration": 39,
    "start_time": "2022-12-20T11:18:46.648Z"
   },
   {
    "duration": 23,
    "start_time": "2022-12-20T11:18:46.688Z"
   },
   {
    "duration": 8,
    "start_time": "2022-12-20T11:18:53.228Z"
   },
   {
    "duration": 3,
    "start_time": "2022-12-20T11:18:53.916Z"
   },
   {
    "duration": 12,
    "start_time": "2022-12-20T11:19:04.844Z"
   },
   {
    "duration": 1293,
    "start_time": "2022-12-20T12:01:03.827Z"
   },
   {
    "duration": 4,
    "start_time": "2022-12-20T12:01:05.122Z"
   },
   {
    "duration": 594,
    "start_time": "2022-12-20T12:01:05.127Z"
   },
   {
    "duration": 401,
    "start_time": "2022-12-20T12:01:05.723Z"
   },
   {
    "duration": 118,
    "start_time": "2022-12-20T12:01:06.127Z"
   },
   {
    "duration": 3,
    "start_time": "2022-12-20T12:01:10.119Z"
   },
   {
    "duration": 16,
    "start_time": "2022-12-20T12:01:10.280Z"
   },
   {
    "duration": 4,
    "start_time": "2022-12-20T12:01:10.498Z"
   },
   {
    "duration": 6,
    "start_time": "2022-12-20T12:01:10.676Z"
   },
   {
    "duration": 5,
    "start_time": "2022-12-20T12:01:38.370Z"
   },
   {
    "duration": 50,
    "start_time": "2022-12-20T12:10:49.531Z"
   },
   {
    "duration": 12,
    "start_time": "2022-12-20T12:10:59.059Z"
   },
   {
    "duration": 1749,
    "start_time": "2022-12-21T09:21:48.705Z"
   },
   {
    "duration": 3,
    "start_time": "2022-12-21T09:21:50.457Z"
   },
   {
    "duration": 707,
    "start_time": "2022-12-21T09:21:50.462Z"
   },
   {
    "duration": 1385,
    "start_time": "2022-12-21T09:21:51.172Z"
   },
   {
    "duration": 194,
    "start_time": "2022-12-21T09:21:52.559Z"
   },
   {
    "duration": 3,
    "start_time": "2022-12-21T09:21:52.755Z"
   },
   {
    "duration": 9,
    "start_time": "2022-12-21T09:21:52.760Z"
   },
   {
    "duration": 5,
    "start_time": "2022-12-21T09:21:52.771Z"
   },
   {
    "duration": 19,
    "start_time": "2022-12-21T09:21:52.777Z"
   },
   {
    "duration": 16,
    "start_time": "2022-12-21T09:21:52.799Z"
   },
   {
    "duration": 21,
    "start_time": "2022-12-21T09:21:52.817Z"
   },
   {
    "duration": 15,
    "start_time": "2022-12-21T09:22:05.207Z"
   },
   {
    "duration": 8,
    "start_time": "2022-12-21T09:23:03.221Z"
   },
   {
    "duration": 3,
    "start_time": "2022-12-21T09:23:04.018Z"
   },
   {
    "duration": 12,
    "start_time": "2022-12-21T09:24:25.818Z"
   },
   {
    "duration": 13,
    "start_time": "2022-12-21T09:30:56.559Z"
   },
   {
    "duration": 1244,
    "start_time": "2022-12-21T09:31:35.066Z"
   },
   {
    "duration": 1152,
    "start_time": "2022-12-21T09:32:02.239Z"
   },
   {
    "duration": 31,
    "start_time": "2022-12-21T09:32:22.861Z"
   },
   {
    "duration": 9,
    "start_time": "2022-12-21T09:33:00.948Z"
   },
   {
    "duration": 1365,
    "start_time": "2022-12-21T09:47:46.560Z"
   },
   {
    "duration": 4,
    "start_time": "2022-12-21T09:47:47.927Z"
   },
   {
    "duration": 538,
    "start_time": "2022-12-21T09:47:47.932Z"
   },
   {
    "duration": 464,
    "start_time": "2022-12-21T09:47:48.472Z"
   },
   {
    "duration": 148,
    "start_time": "2022-12-21T09:47:48.939Z"
   },
   {
    "duration": 4,
    "start_time": "2022-12-21T09:47:49.088Z"
   },
   {
    "duration": 20,
    "start_time": "2022-12-21T09:47:49.093Z"
   },
   {
    "duration": 18,
    "start_time": "2022-12-21T09:47:49.115Z"
   },
   {
    "duration": 15,
    "start_time": "2022-12-21T09:47:49.135Z"
   },
   {
    "duration": 12,
    "start_time": "2022-12-21T09:47:49.152Z"
   },
   {
    "duration": 19,
    "start_time": "2022-12-21T09:47:49.166Z"
   },
   {
    "duration": 11,
    "start_time": "2022-12-21T09:47:49.187Z"
   },
   {
    "duration": 16,
    "start_time": "2022-12-21T09:47:49.200Z"
   },
   {
    "duration": 21,
    "start_time": "2022-12-21T09:47:49.219Z"
   },
   {
    "duration": 16,
    "start_time": "2022-12-21T09:47:49.242Z"
   },
   {
    "duration": 34,
    "start_time": "2022-12-21T09:47:49.259Z"
   },
   {
    "duration": 11,
    "start_time": "2022-12-21T09:47:49.294Z"
   },
   {
    "duration": 125,
    "start_time": "2022-12-21T09:47:51.435Z"
   },
   {
    "duration": 16,
    "start_time": "2022-12-21T09:49:02.678Z"
   },
   {
    "duration": 12,
    "start_time": "2022-12-21T09:49:15.397Z"
   },
   {
    "duration": 5,
    "start_time": "2022-12-21T09:50:41.564Z"
   },
   {
    "duration": 3,
    "start_time": "2022-12-21T09:50:48.814Z"
   },
   {
    "duration": 1390,
    "start_time": "2022-12-21T09:52:04.838Z"
   },
   {
    "duration": 7,
    "start_time": "2022-12-21T09:52:06.230Z"
   },
   {
    "duration": 481,
    "start_time": "2022-12-21T09:52:06.239Z"
   },
   {
    "duration": 409,
    "start_time": "2022-12-21T09:52:06.722Z"
   },
   {
    "duration": 118,
    "start_time": "2022-12-21T09:52:07.137Z"
   },
   {
    "duration": 3,
    "start_time": "2022-12-21T09:52:07.257Z"
   },
   {
    "duration": 29,
    "start_time": "2022-12-21T09:52:07.261Z"
   },
   {
    "duration": 28,
    "start_time": "2022-12-21T09:52:07.291Z"
   },
   {
    "duration": 32,
    "start_time": "2022-12-21T09:52:07.321Z"
   },
   {
    "duration": 43,
    "start_time": "2022-12-21T09:52:07.355Z"
   },
   {
    "duration": 19,
    "start_time": "2022-12-21T09:52:07.400Z"
   },
   {
    "duration": 29,
    "start_time": "2022-12-21T09:52:07.420Z"
   },
   {
    "duration": 26,
    "start_time": "2022-12-21T09:52:07.451Z"
   },
   {
    "duration": 50,
    "start_time": "2022-12-21T09:52:07.480Z"
   },
   {
    "duration": 32,
    "start_time": "2022-12-21T09:52:07.532Z"
   },
   {
    "duration": 50,
    "start_time": "2022-12-21T09:52:07.566Z"
   },
   {
    "duration": 7,
    "start_time": "2022-12-21T09:52:07.618Z"
   },
   {
    "duration": 5,
    "start_time": "2022-12-21T09:52:09.896Z"
   },
   {
    "duration": 26,
    "start_time": "2022-12-21T09:52:10.547Z"
   },
   {
    "duration": 13,
    "start_time": "2022-12-21T09:52:22.627Z"
   },
   {
    "duration": 52,
    "start_time": "2022-12-21T09:54:02.386Z"
   },
   {
    "duration": 37,
    "start_time": "2022-12-21T09:54:23.803Z"
   },
   {
    "duration": 37,
    "start_time": "2022-12-21T09:54:24.719Z"
   },
   {
    "duration": 4,
    "start_time": "2022-12-21T10:04:49.966Z"
   },
   {
    "duration": 9,
    "start_time": "2022-12-21T10:06:01.009Z"
   },
   {
    "duration": 36,
    "start_time": "2022-12-21T10:06:08.733Z"
   },
   {
    "duration": 39,
    "start_time": "2022-12-21T10:06:10.532Z"
   },
   {
    "duration": 33,
    "start_time": "2022-12-21T10:07:12.521Z"
   },
   {
    "duration": 3,
    "start_time": "2022-12-21T10:18:00.982Z"
   },
   {
    "duration": 138,
    "start_time": "2022-12-21T10:22:24.098Z"
   },
   {
    "duration": 76,
    "start_time": "2022-12-21T10:22:40.731Z"
   },
   {
    "duration": 3,
    "start_time": "2022-12-21T10:22:47.665Z"
   },
   {
    "duration": 2442,
    "start_time": "2022-12-21T10:22:48.198Z"
   },
   {
    "duration": 2,
    "start_time": "2022-12-21T10:24:27.549Z"
   },
   {
    "duration": 1173,
    "start_time": "2022-12-21T10:24:28.098Z"
   },
   {
    "duration": 1156,
    "start_time": "2022-12-21T10:26:17.067Z"
   },
   {
    "duration": 1242,
    "start_time": "2022-12-21T10:26:35.817Z"
   },
   {
    "duration": 1146,
    "start_time": "2022-12-21T10:27:02.147Z"
   },
   {
    "duration": 1155,
    "start_time": "2022-12-21T10:27:49.581Z"
   },
   {
    "duration": 3,
    "start_time": "2022-12-21T10:28:11.386Z"
   },
   {
    "duration": 19,
    "start_time": "2022-12-21T10:28:12.014Z"
   },
   {
    "duration": 4,
    "start_time": "2022-12-21T10:28:34.156Z"
   },
   {
    "duration": 27,
    "start_time": "2022-12-21T10:28:34.988Z"
   },
   {
    "duration": 6,
    "start_time": "2022-12-21T10:28:56.182Z"
   },
   {
    "duration": 5,
    "start_time": "2022-12-21T10:29:01.643Z"
   },
   {
    "duration": 432,
    "start_time": "2022-12-21T10:31:09.811Z"
   },
   {
    "duration": 549,
    "start_time": "2022-12-21T10:31:28.238Z"
   },
   {
    "duration": 1029,
    "start_time": "2022-12-21T10:31:54.737Z"
   },
   {
    "duration": 16,
    "start_time": "2022-12-21T10:32:26.002Z"
   },
   {
    "duration": 12,
    "start_time": "2022-12-21T10:32:34.806Z"
   },
   {
    "duration": 3639,
    "start_time": "2022-12-21T10:33:41.098Z"
   },
   {
    "duration": 3964,
    "start_time": "2022-12-21T10:34:01.930Z"
   },
   {
    "duration": 4834,
    "start_time": "2022-12-21T10:34:26.147Z"
   },
   {
    "duration": 3747,
    "start_time": "2022-12-21T10:34:38.126Z"
   },
   {
    "duration": 2388,
    "start_time": "2022-12-21T10:34:50.709Z"
   },
   {
    "duration": 3173,
    "start_time": "2022-12-21T10:35:37.943Z"
   },
   {
    "duration": 2408,
    "start_time": "2022-12-21T10:35:52.479Z"
   },
   {
    "duration": 2033,
    "start_time": "2022-12-21T10:36:03.661Z"
   },
   {
    "duration": 19,
    "start_time": "2022-12-21T10:37:43.137Z"
   },
   {
    "duration": 2421,
    "start_time": "2022-12-21T10:38:41.048Z"
   },
   {
    "duration": 12,
    "start_time": "2022-12-21T10:40:23.210Z"
   },
   {
    "duration": 3,
    "start_time": "2022-12-21T10:40:26.480Z"
   },
   {
    "duration": 2454,
    "start_time": "2022-12-21T10:40:27.061Z"
   },
   {
    "duration": 4,
    "start_time": "2022-12-21T10:40:45.639Z"
   },
   {
    "duration": 2378,
    "start_time": "2022-12-21T10:40:46.246Z"
   },
   {
    "duration": 3,
    "start_time": "2022-12-21T10:41:53.999Z"
   },
   {
    "duration": 2458,
    "start_time": "2022-12-21T10:41:54.438Z"
   },
   {
    "duration": 2439,
    "start_time": "2022-12-21T10:43:13.876Z"
   },
   {
    "duration": 2469,
    "start_time": "2022-12-21T10:43:36.111Z"
   },
   {
    "duration": 2490,
    "start_time": "2022-12-21T10:44:22.994Z"
   },
   {
    "duration": 17,
    "start_time": "2022-12-21T10:45:11.560Z"
   },
   {
    "duration": 2626,
    "start_time": "2022-12-21T10:45:17.161Z"
   },
   {
    "duration": 2413,
    "start_time": "2022-12-21T10:45:34.600Z"
   },
   {
    "duration": 2378,
    "start_time": "2022-12-21T10:45:45.679Z"
   },
   {
    "duration": 2491,
    "start_time": "2022-12-21T10:46:24.726Z"
   },
   {
    "duration": 2321,
    "start_time": "2022-12-21T10:46:39.982Z"
   },
   {
    "duration": 2420,
    "start_time": "2022-12-21T10:47:43.658Z"
   },
   {
    "duration": 2949,
    "start_time": "2022-12-21T10:48:13.625Z"
   },
   {
    "duration": 2328,
    "start_time": "2022-12-21T10:48:26.913Z"
   },
   {
    "duration": 761,
    "start_time": "2022-12-21T11:04:26.376Z"
   },
   {
    "duration": 878,
    "start_time": "2022-12-21T11:04:40.904Z"
   },
   {
    "duration": 985,
    "start_time": "2022-12-21T11:05:31.886Z"
   },
   {
    "duration": 1192,
    "start_time": "2022-12-21T11:05:47.441Z"
   },
   {
    "duration": 2956,
    "start_time": "2022-12-21T11:06:53.248Z"
   },
   {
    "duration": 3232,
    "start_time": "2022-12-21T11:07:09.276Z"
   },
   {
    "duration": 3098,
    "start_time": "2022-12-21T11:07:20.152Z"
   },
   {
    "duration": 3077,
    "start_time": "2022-12-21T11:07:34.006Z"
   },
   {
    "duration": 165,
    "start_time": "2022-12-21T11:28:32.085Z"
   },
   {
    "duration": 134,
    "start_time": "2022-12-21T11:28:57.199Z"
   },
   {
    "duration": 115,
    "start_time": "2022-12-21T11:28:58.097Z"
   },
   {
    "duration": 410,
    "start_time": "2022-12-21T11:34:10.994Z"
   },
   {
    "duration": 1464,
    "start_time": "2022-12-21T11:36:33.664Z"
   },
   {
    "duration": 4,
    "start_time": "2022-12-21T11:36:50.640Z"
   },
   {
    "duration": 1142,
    "start_time": "2022-12-21T11:37:04.409Z"
   },
   {
    "duration": 1161,
    "start_time": "2022-12-21T11:38:05.683Z"
   },
   {
    "duration": 1679,
    "start_time": "2022-12-21T11:40:51.717Z"
   },
   {
    "duration": 1709,
    "start_time": "2022-12-21T11:42:36.888Z"
   },
   {
    "duration": 104,
    "start_time": "2022-12-21T11:43:33.071Z"
   },
   {
    "duration": 77,
    "start_time": "2022-12-21T11:44:05.664Z"
   },
   {
    "duration": 1663,
    "start_time": "2022-12-21T11:44:11.438Z"
   },
   {
    "duration": 1349,
    "start_time": "2022-12-21T11:44:31.153Z"
   },
   {
    "duration": 1595,
    "start_time": "2022-12-21T11:46:14.758Z"
   },
   {
    "duration": 4,
    "start_time": "2022-12-21T11:49:23.986Z"
   },
   {
    "duration": 1498,
    "start_time": "2022-12-21T11:49:24.667Z"
   },
   {
    "duration": 5,
    "start_time": "2022-12-21T11:49:38.139Z"
   },
   {
    "duration": 1427,
    "start_time": "2022-12-21T11:49:38.776Z"
   },
   {
    "duration": 7,
    "start_time": "2022-12-21T11:49:48.971Z"
   },
   {
    "duration": 1507,
    "start_time": "2022-12-21T11:49:49.591Z"
   },
   {
    "duration": 4,
    "start_time": "2022-12-21T11:51:03.246Z"
   },
   {
    "duration": 1521,
    "start_time": "2022-12-21T11:51:03.840Z"
   },
   {
    "duration": 1502,
    "start_time": "2022-12-21T11:51:54.093Z"
   },
   {
    "duration": 1384,
    "start_time": "2022-12-21T11:52:20.671Z"
   },
   {
    "duration": 1526,
    "start_time": "2022-12-21T11:52:30.753Z"
   },
   {
    "duration": 1753,
    "start_time": "2022-12-21T11:53:38.198Z"
   },
   {
    "duration": 1586,
    "start_time": "2022-12-21T11:58:36.807Z"
   },
   {
    "duration": 1303,
    "start_time": "2022-12-21T12:21:20.271Z"
   },
   {
    "duration": 1553,
    "start_time": "2022-12-21T12:21:37.047Z"
   },
   {
    "duration": 1490,
    "start_time": "2022-12-21T12:22:01.095Z"
   },
   {
    "duration": 1444,
    "start_time": "2022-12-21T12:41:51.413Z"
   },
   {
    "duration": 3,
    "start_time": "2022-12-21T12:41:52.859Z"
   },
   {
    "duration": 482,
    "start_time": "2022-12-21T12:41:52.863Z"
   },
   {
    "duration": 395,
    "start_time": "2022-12-21T12:41:53.347Z"
   },
   {
    "duration": 128,
    "start_time": "2022-12-21T12:41:53.745Z"
   },
   {
    "duration": 3,
    "start_time": "2022-12-21T12:41:53.875Z"
   },
   {
    "duration": 24,
    "start_time": "2022-12-21T12:41:53.880Z"
   },
   {
    "duration": 32,
    "start_time": "2022-12-21T12:41:53.906Z"
   },
   {
    "duration": 23,
    "start_time": "2022-12-21T12:41:53.940Z"
   },
   {
    "duration": 33,
    "start_time": "2022-12-21T12:41:53.965Z"
   },
   {
    "duration": 40,
    "start_time": "2022-12-21T12:41:54.000Z"
   },
   {
    "duration": 25,
    "start_time": "2022-12-21T12:41:54.042Z"
   },
   {
    "duration": 40,
    "start_time": "2022-12-21T12:41:54.069Z"
   },
   {
    "duration": 31,
    "start_time": "2022-12-21T12:41:54.111Z"
   },
   {
    "duration": 18,
    "start_time": "2022-12-21T12:41:54.145Z"
   },
   {
    "duration": 28,
    "start_time": "2022-12-21T12:41:54.165Z"
   },
   {
    "duration": 50,
    "start_time": "2022-12-21T12:41:54.195Z"
   },
   {
    "duration": 1223,
    "start_time": "2022-12-21T12:41:56.670Z"
   },
   {
    "duration": 11,
    "start_time": "2022-12-21T12:42:08.976Z"
   },
   {
    "duration": 44,
    "start_time": "2022-12-21T12:44:17.689Z"
   },
   {
    "duration": 3,
    "start_time": "2022-12-21T12:44:44.021Z"
   },
   {
    "duration": 2817,
    "start_time": "2022-12-21T12:44:44.247Z"
   },
   {
    "duration": 1020,
    "start_time": "2022-12-21T12:44:47.066Z"
   },
   {
    "duration": 255,
    "start_time": "2022-12-21T12:44:48.087Z"
   },
   {
    "duration": 119,
    "start_time": "2022-12-21T12:44:48.344Z"
   },
   {
    "duration": 1414,
    "start_time": "2022-12-21T12:44:48.465Z"
   },
   {
    "duration": 2,
    "start_time": "2022-12-21T12:44:49.881Z"
   },
   {
    "duration": 1454,
    "start_time": "2022-12-21T12:44:49.885Z"
   },
   {
    "duration": 1706,
    "start_time": "2022-12-22T09:13:44.190Z"
   },
   {
    "duration": 3,
    "start_time": "2022-12-22T09:13:45.901Z"
   },
   {
    "duration": 747,
    "start_time": "2022-12-22T09:13:45.906Z"
   },
   {
    "duration": 1450,
    "start_time": "2022-12-22T09:13:46.654Z"
   },
   {
    "duration": 209,
    "start_time": "2022-12-22T09:13:48.107Z"
   },
   {
    "duration": 7,
    "start_time": "2022-12-22T09:13:48.318Z"
   },
   {
    "duration": 38,
    "start_time": "2022-12-22T09:13:48.326Z"
   },
   {
    "duration": 8,
    "start_time": "2022-12-22T09:13:48.368Z"
   },
   {
    "duration": 13,
    "start_time": "2022-12-22T09:13:48.377Z"
   },
   {
    "duration": 7,
    "start_time": "2022-12-22T09:13:48.392Z"
   },
   {
    "duration": 18,
    "start_time": "2022-12-22T09:13:48.401Z"
   },
   {
    "duration": 7,
    "start_time": "2022-12-22T09:13:48.420Z"
   },
   {
    "duration": 30,
    "start_time": "2022-12-22T09:13:48.432Z"
   },
   {
    "duration": 29,
    "start_time": "2022-12-22T09:13:48.465Z"
   },
   {
    "duration": 12,
    "start_time": "2022-12-22T09:13:48.496Z"
   },
   {
    "duration": 21,
    "start_time": "2022-12-22T09:13:48.514Z"
   },
   {
    "duration": 75,
    "start_time": "2022-12-22T09:13:48.536Z"
   },
   {
    "duration": 13,
    "start_time": "2022-12-22T09:13:48.613Z"
   },
   {
    "duration": 75,
    "start_time": "2022-12-22T09:13:48.630Z"
   },
   {
    "duration": 6,
    "start_time": "2022-12-22T09:13:48.707Z"
   },
   {
    "duration": 3259,
    "start_time": "2022-12-22T09:13:48.715Z"
   },
   {
    "duration": 1275,
    "start_time": "2022-12-22T09:13:51.976Z"
   },
   {
    "duration": 164,
    "start_time": "2022-12-22T09:13:53.256Z"
   },
   {
    "duration": 151,
    "start_time": "2022-12-22T09:13:53.422Z"
   },
   {
    "duration": 1660,
    "start_time": "2022-12-22T09:13:53.575Z"
   },
   {
    "duration": 8,
    "start_time": "2022-12-22T09:13:55.237Z"
   },
   {
    "duration": 1869,
    "start_time": "2022-12-22T09:13:55.248Z"
   },
   {
    "duration": 13,
    "start_time": "2022-12-22T09:25:41.300Z"
   },
   {
    "duration": 4,
    "start_time": "2022-12-22T09:30:45.384Z"
   },
   {
    "duration": 4,
    "start_time": "2022-12-22T09:31:16.691Z"
   },
   {
    "duration": 6,
    "start_time": "2022-12-22T09:31:28.043Z"
   },
   {
    "duration": 3,
    "start_time": "2022-12-22T09:31:48.375Z"
   },
   {
    "duration": 4,
    "start_time": "2022-12-22T09:35:48.314Z"
   },
   {
    "duration": 3,
    "start_time": "2022-12-22T09:36:15.979Z"
   },
   {
    "duration": 5,
    "start_time": "2022-12-22T09:36:53.112Z"
   },
   {
    "duration": 10,
    "start_time": "2022-12-22T09:40:57.439Z"
   },
   {
    "duration": 15,
    "start_time": "2022-12-22T09:44:28.681Z"
   },
   {
    "duration": 5,
    "start_time": "2022-12-22T09:46:30.978Z"
   },
   {
    "duration": 174,
    "start_time": "2022-12-22T09:47:57.939Z"
   },
   {
    "duration": 4,
    "start_time": "2022-12-22T09:48:11.478Z"
   },
   {
    "duration": 2,
    "start_time": "2022-12-22T09:48:17.747Z"
   },
   {
    "duration": 4,
    "start_time": "2022-12-22T10:06:42.699Z"
   },
   {
    "duration": 9,
    "start_time": "2022-12-22T10:08:37.300Z"
   },
   {
    "duration": 10,
    "start_time": "2022-12-22T10:09:13.810Z"
   },
   {
    "duration": 5,
    "start_time": "2022-12-22T10:10:22.640Z"
   },
   {
    "duration": 1338,
    "start_time": "2022-12-22T10:10:33.405Z"
   },
   {
    "duration": 1137,
    "start_time": "2022-12-22T10:11:11.505Z"
   },
   {
    "duration": 886,
    "start_time": "2022-12-22T10:12:16.065Z"
   },
   {
    "duration": 934,
    "start_time": "2022-12-22T10:12:26.011Z"
   },
   {
    "duration": 936,
    "start_time": "2022-12-22T10:13:32.688Z"
   },
   {
    "duration": 2600,
    "start_time": "2022-12-22T10:13:33.630Z"
   },
   {
    "duration": 1756,
    "start_time": "2022-12-22T10:13:57.876Z"
   },
   {
    "duration": 4,
    "start_time": "2022-12-22T10:49:10.049Z"
   },
   {
    "duration": 78499,
    "start_time": "2022-12-22T10:49:58.329Z"
   },
   {
    "duration": 1520,
    "start_time": "2022-12-22T10:55:18.409Z"
   },
   {
    "duration": 4,
    "start_time": "2022-12-22T10:55:19.934Z"
   },
   {
    "duration": 504,
    "start_time": "2022-12-22T10:55:19.940Z"
   },
   {
    "duration": 394,
    "start_time": "2022-12-22T10:55:20.446Z"
   },
   {
    "duration": 128,
    "start_time": "2022-12-22T10:55:20.842Z"
   },
   {
    "duration": 3,
    "start_time": "2022-12-22T10:55:20.972Z"
   },
   {
    "duration": 10,
    "start_time": "2022-12-22T10:55:20.977Z"
   },
   {
    "duration": 4,
    "start_time": "2022-12-22T10:55:20.988Z"
   },
   {
    "duration": 29,
    "start_time": "2022-12-22T10:55:20.994Z"
   },
   {
    "duration": 7,
    "start_time": "2022-12-22T10:55:21.027Z"
   },
   {
    "duration": 21,
    "start_time": "2022-12-22T10:55:21.036Z"
   },
   {
    "duration": 6,
    "start_time": "2022-12-22T10:55:21.059Z"
   },
   {
    "duration": 7,
    "start_time": "2022-12-22T10:55:21.067Z"
   },
   {
    "duration": 16,
    "start_time": "2022-12-22T10:55:21.075Z"
   },
   {
    "duration": 8,
    "start_time": "2022-12-22T10:55:21.092Z"
   },
   {
    "duration": 24,
    "start_time": "2022-12-22T10:55:21.102Z"
   },
   {
    "duration": 48,
    "start_time": "2022-12-22T10:55:21.127Z"
   },
   {
    "duration": 9,
    "start_time": "2022-12-22T10:55:21.177Z"
   },
   {
    "duration": 37,
    "start_time": "2022-12-22T10:55:21.187Z"
   },
   {
    "duration": 6,
    "start_time": "2022-12-22T10:55:21.226Z"
   },
   {
    "duration": 11,
    "start_time": "2022-12-22T10:55:21.234Z"
   },
   {
    "duration": 2942,
    "start_time": "2022-12-22T10:55:21.246Z"
   },
   {
    "duration": 1119,
    "start_time": "2022-12-22T10:55:24.189Z"
   },
   {
    "duration": 244,
    "start_time": "2022-12-22T10:55:25.310Z"
   },
   {
    "duration": 123,
    "start_time": "2022-12-22T10:55:25.556Z"
   },
   {
    "duration": 1372,
    "start_time": "2022-12-22T10:55:25.681Z"
   },
   {
    "duration": 4,
    "start_time": "2022-12-22T10:55:27.055Z"
   },
   {
    "duration": 1597,
    "start_time": "2022-12-22T10:55:27.062Z"
   },
   {
    "duration": 3,
    "start_time": "2022-12-22T10:55:28.661Z"
   },
   {
    "duration": 8,
    "start_time": "2022-12-22T10:55:28.665Z"
   },
   {
    "duration": 12,
    "start_time": "2022-12-22T10:55:28.674Z"
   },
   {
    "duration": 842,
    "start_time": "2022-12-22T10:55:28.687Z"
   },
   {
    "duration": 1487,
    "start_time": "2022-12-22T10:55:29.536Z"
   },
   {
    "duration": 216,
    "start_time": "2022-12-22T10:55:31.031Z"
   },
   {
    "duration": 0,
    "start_time": "2022-12-22T10:55:31.248Z"
   },
   {
    "duration": 0,
    "start_time": "2022-12-22T10:55:31.249Z"
   },
   {
    "duration": 0,
    "start_time": "2022-12-22T10:55:31.250Z"
   },
   {
    "duration": 0,
    "start_time": "2022-12-22T10:55:31.252Z"
   },
   {
    "duration": 72,
    "start_time": "2022-12-22T10:59:16.540Z"
   },
   {
    "duration": 77,
    "start_time": "2022-12-22T11:01:10.676Z"
   },
   {
    "duration": 76,
    "start_time": "2022-12-22T11:01:20.894Z"
   },
   {
    "duration": 1419,
    "start_time": "2022-12-22T11:03:04.013Z"
   },
   {
    "duration": 3,
    "start_time": "2022-12-22T11:03:05.434Z"
   },
   {
    "duration": 510,
    "start_time": "2022-12-22T11:03:05.439Z"
   },
   {
    "duration": 402,
    "start_time": "2022-12-22T11:03:05.951Z"
   },
   {
    "duration": 120,
    "start_time": "2022-12-22T11:03:06.354Z"
   },
   {
    "duration": 3,
    "start_time": "2022-12-22T11:03:06.475Z"
   },
   {
    "duration": 20,
    "start_time": "2022-12-22T11:03:06.480Z"
   },
   {
    "duration": 23,
    "start_time": "2022-12-22T11:03:06.502Z"
   },
   {
    "duration": 30,
    "start_time": "2022-12-22T11:03:06.527Z"
   },
   {
    "duration": 14,
    "start_time": "2022-12-22T11:03:06.560Z"
   },
   {
    "duration": 33,
    "start_time": "2022-12-22T11:03:06.576Z"
   },
   {
    "duration": 15,
    "start_time": "2022-12-22T11:03:06.611Z"
   },
   {
    "duration": 39,
    "start_time": "2022-12-22T11:03:06.628Z"
   },
   {
    "duration": 30,
    "start_time": "2022-12-22T11:03:06.669Z"
   },
   {
    "duration": 26,
    "start_time": "2022-12-22T11:03:06.701Z"
   },
   {
    "duration": 23,
    "start_time": "2022-12-22T11:03:06.728Z"
   },
   {
    "duration": 50,
    "start_time": "2022-12-22T11:03:06.753Z"
   },
   {
    "duration": 8,
    "start_time": "2022-12-22T11:03:06.805Z"
   },
   {
    "duration": 58,
    "start_time": "2022-12-22T11:03:06.815Z"
   },
   {
    "duration": 22,
    "start_time": "2022-12-22T11:03:06.874Z"
   },
   {
    "duration": 15,
    "start_time": "2022-12-22T11:03:06.898Z"
   },
   {
    "duration": 2762,
    "start_time": "2022-12-22T11:03:06.914Z"
   },
   {
    "duration": 984,
    "start_time": "2022-12-22T11:03:09.678Z"
   },
   {
    "duration": 246,
    "start_time": "2022-12-22T11:03:10.663Z"
   },
   {
    "duration": 123,
    "start_time": "2022-12-22T11:03:10.911Z"
   },
   {
    "duration": 1273,
    "start_time": "2022-12-22T11:03:11.036Z"
   },
   {
    "duration": 11,
    "start_time": "2022-12-22T11:03:12.311Z"
   },
   {
    "duration": 1428,
    "start_time": "2022-12-22T11:03:12.325Z"
   },
   {
    "duration": 3,
    "start_time": "2022-12-22T11:03:13.755Z"
   },
   {
    "duration": 8,
    "start_time": "2022-12-22T11:03:13.760Z"
   },
   {
    "duration": 17,
    "start_time": "2022-12-22T11:03:13.769Z"
   },
   {
    "duration": 943,
    "start_time": "2022-12-22T11:03:13.788Z"
   },
   {
    "duration": 1500,
    "start_time": "2022-12-22T11:03:14.823Z"
   },
   {
    "duration": 397847,
    "start_time": "2022-12-22T11:03:17.694Z"
   },
   {
    "duration": 12,
    "start_time": "2022-12-22T11:10:05.497Z"
   },
   {
    "duration": 1467,
    "start_time": "2022-12-22T11:24:10.204Z"
   },
   {
    "duration": 3,
    "start_time": "2022-12-22T11:24:11.673Z"
   },
   {
    "duration": 499,
    "start_time": "2022-12-22T11:24:11.678Z"
   },
   {
    "duration": 411,
    "start_time": "2022-12-22T11:24:12.179Z"
   },
   {
    "duration": 122,
    "start_time": "2022-12-22T11:24:12.592Z"
   },
   {
    "duration": 2,
    "start_time": "2022-12-22T11:24:12.723Z"
   },
   {
    "duration": 10,
    "start_time": "2022-12-22T11:24:12.727Z"
   },
   {
    "duration": 4,
    "start_time": "2022-12-22T11:24:12.738Z"
   },
   {
    "duration": 10,
    "start_time": "2022-12-22T11:24:12.743Z"
   },
   {
    "duration": 5,
    "start_time": "2022-12-22T11:24:12.756Z"
   },
   {
    "duration": 18,
    "start_time": "2022-12-22T11:24:12.763Z"
   },
   {
    "duration": 5,
    "start_time": "2022-12-22T11:24:12.783Z"
   },
   {
    "duration": 32,
    "start_time": "2022-12-22T11:24:12.790Z"
   },
   {
    "duration": 12,
    "start_time": "2022-12-22T11:24:12.824Z"
   },
   {
    "duration": 9,
    "start_time": "2022-12-22T11:24:12.838Z"
   },
   {
    "duration": 9,
    "start_time": "2022-12-22T11:24:12.848Z"
   },
   {
    "duration": 38,
    "start_time": "2022-12-22T11:24:12.859Z"
   },
   {
    "duration": 30,
    "start_time": "2022-12-22T11:24:12.898Z"
   },
   {
    "duration": 38,
    "start_time": "2022-12-22T11:24:12.930Z"
   },
   {
    "duration": 4,
    "start_time": "2022-12-22T11:24:12.970Z"
   },
   {
    "duration": 6,
    "start_time": "2022-12-22T11:24:12.976Z"
   },
   {
    "duration": 2913,
    "start_time": "2022-12-22T11:24:12.984Z"
   },
   {
    "duration": 995,
    "start_time": "2022-12-22T11:24:15.899Z"
   },
   {
    "duration": 249,
    "start_time": "2022-12-22T11:24:16.896Z"
   },
   {
    "duration": 125,
    "start_time": "2022-12-22T11:24:17.147Z"
   },
   {
    "duration": 1308,
    "start_time": "2022-12-22T11:24:17.274Z"
   },
   {
    "duration": 3,
    "start_time": "2022-12-22T11:24:18.584Z"
   },
   {
    "duration": 1500,
    "start_time": "2022-12-22T11:24:18.590Z"
   },
   {
    "duration": 2,
    "start_time": "2022-12-22T11:24:20.092Z"
   },
   {
    "duration": 9,
    "start_time": "2022-12-22T11:24:20.096Z"
   },
   {
    "duration": 22,
    "start_time": "2022-12-22T11:24:20.106Z"
   },
   {
    "duration": 600,
    "start_time": "2022-12-22T11:24:20.130Z"
   },
   {
    "duration": 1592,
    "start_time": "2022-12-22T11:24:20.732Z"
   },
   {
    "duration": 112,
    "start_time": "2022-12-22T11:24:29.181Z"
   },
   {
    "duration": 12,
    "start_time": "2022-12-22T11:24:35.744Z"
   },
   {
    "duration": 11,
    "start_time": "2022-12-22T11:25:06.911Z"
   },
   {
    "duration": 0,
    "start_time": "2022-12-22T11:26:06.562Z"
   },
   {
    "duration": 2623,
    "start_time": "2022-12-22T11:26:09.595Z"
   },
   {
    "duration": 2714,
    "start_time": "2022-12-22T11:29:52.428Z"
   },
   {
    "duration": 2830,
    "start_time": "2022-12-22T11:30:21.549Z"
   },
   {
    "duration": 8445,
    "start_time": "2022-12-22T11:32:24.408Z"
   },
   {
    "duration": 8372,
    "start_time": "2022-12-22T11:33:57.731Z"
   },
   {
    "duration": 2727,
    "start_time": "2022-12-22T11:35:35.593Z"
   },
   {
    "duration": 1398,
    "start_time": "2022-12-22T11:36:12.665Z"
   },
   {
    "duration": 5,
    "start_time": "2022-12-22T11:36:14.066Z"
   },
   {
    "duration": 549,
    "start_time": "2022-12-22T11:36:14.073Z"
   },
   {
    "duration": 411,
    "start_time": "2022-12-22T11:36:14.624Z"
   },
   {
    "duration": 123,
    "start_time": "2022-12-22T11:36:15.037Z"
   },
   {
    "duration": 3,
    "start_time": "2022-12-22T11:36:15.161Z"
   },
   {
    "duration": 8,
    "start_time": "2022-12-22T11:36:15.166Z"
   },
   {
    "duration": 5,
    "start_time": "2022-12-22T11:36:15.175Z"
   },
   {
    "duration": 8,
    "start_time": "2022-12-22T11:36:15.182Z"
   },
   {
    "duration": 7,
    "start_time": "2022-12-22T11:36:15.192Z"
   },
   {
    "duration": 33,
    "start_time": "2022-12-22T11:36:15.201Z"
   },
   {
    "duration": 7,
    "start_time": "2022-12-22T11:36:15.235Z"
   },
   {
    "duration": 10,
    "start_time": "2022-12-22T11:36:15.243Z"
   },
   {
    "duration": 20,
    "start_time": "2022-12-22T11:36:15.254Z"
   },
   {
    "duration": 9,
    "start_time": "2022-12-22T11:36:15.276Z"
   },
   {
    "duration": 14,
    "start_time": "2022-12-22T11:36:15.287Z"
   },
   {
    "duration": 46,
    "start_time": "2022-12-22T11:36:15.303Z"
   },
   {
    "duration": 9,
    "start_time": "2022-12-22T11:36:15.351Z"
   },
   {
    "duration": 35,
    "start_time": "2022-12-22T11:36:15.361Z"
   },
   {
    "duration": 24,
    "start_time": "2022-12-22T11:36:15.398Z"
   },
   {
    "duration": 3,
    "start_time": "2022-12-22T11:36:15.423Z"
   },
   {
    "duration": 2832,
    "start_time": "2022-12-22T11:36:15.428Z"
   },
   {
    "duration": 1078,
    "start_time": "2022-12-22T11:36:18.262Z"
   },
   {
    "duration": 243,
    "start_time": "2022-12-22T11:36:19.342Z"
   },
   {
    "duration": 117,
    "start_time": "2022-12-22T11:36:19.586Z"
   },
   {
    "duration": 1441,
    "start_time": "2022-12-22T11:36:19.705Z"
   },
   {
    "duration": 3,
    "start_time": "2022-12-22T11:36:21.148Z"
   },
   {
    "duration": 1523,
    "start_time": "2022-12-22T11:36:21.154Z"
   },
   {
    "duration": 3,
    "start_time": "2022-12-22T11:36:22.678Z"
   },
   {
    "duration": 11,
    "start_time": "2022-12-22T11:36:22.683Z"
   },
   {
    "duration": 12,
    "start_time": "2022-12-22T11:36:22.696Z"
   },
   {
    "duration": 1116,
    "start_time": "2022-12-22T11:36:22.710Z"
   },
   {
    "duration": 1795,
    "start_time": "2022-12-22T11:36:23.828Z"
   },
   {
    "duration": 1078,
    "start_time": "2022-12-22T11:36:28.286Z"
   },
   {
    "duration": 2673,
    "start_time": "2022-12-22T11:36:56.164Z"
   },
   {
    "duration": 4701,
    "start_time": "2022-12-22T11:37:20.156Z"
   },
   {
    "duration": 8452,
    "start_time": "2022-12-22T11:37:29.709Z"
   },
   {
    "duration": 8388,
    "start_time": "2022-12-22T11:38:32.006Z"
   },
   {
    "duration": 4360,
    "start_time": "2022-12-22T11:40:07.607Z"
   },
   {
    "duration": 4291,
    "start_time": "2022-12-22T11:40:38.895Z"
   },
   {
    "duration": 4443,
    "start_time": "2022-12-22T11:41:52.906Z"
   },
   {
    "duration": 4113,
    "start_time": "2022-12-22T11:44:15.494Z"
   },
   {
    "duration": 87,
    "start_time": "2022-12-22T11:45:19.507Z"
   },
   {
    "duration": 30079,
    "start_time": "2022-12-22T11:45:34.105Z"
   },
   {
    "duration": 8307,
    "start_time": "2022-12-22T11:46:49.791Z"
   },
   {
    "duration": 281464,
    "start_time": "2022-12-22T11:48:46.838Z"
   },
   {
    "duration": 43627,
    "start_time": "2022-12-22T11:53:33.125Z"
   },
   {
    "duration": 95573,
    "start_time": "2022-12-22T11:54:16.754Z"
   },
   {
    "duration": 3,
    "start_time": "2022-12-22T11:55:52.329Z"
   },
   {
    "duration": 1545,
    "start_time": "2022-12-22T12:01:23.967Z"
   },
   {
    "duration": 81,
    "start_time": "2022-12-22T12:01:25.514Z"
   },
   {
    "duration": 4,
    "start_time": "2022-12-22T12:01:25.817Z"
   },
   {
    "duration": 3275,
    "start_time": "2022-12-22T12:01:37.452Z"
   },
   {
    "duration": 3,
    "start_time": "2022-12-22T12:01:43.865Z"
   },
   {
    "duration": 1422,
    "start_time": "2022-12-22T12:06:10.626Z"
   },
   {
    "duration": 4,
    "start_time": "2022-12-22T12:06:12.050Z"
   },
   {
    "duration": 502,
    "start_time": "2022-12-22T12:06:12.055Z"
   },
   {
    "duration": 412,
    "start_time": "2022-12-22T12:06:12.559Z"
   },
   {
    "duration": 119,
    "start_time": "2022-12-22T12:06:12.972Z"
   },
   {
    "duration": 3,
    "start_time": "2022-12-22T12:06:13.092Z"
   },
   {
    "duration": 9,
    "start_time": "2022-12-22T12:06:13.097Z"
   },
   {
    "duration": 15,
    "start_time": "2022-12-22T12:06:13.108Z"
   },
   {
    "duration": 7,
    "start_time": "2022-12-22T12:06:13.124Z"
   },
   {
    "duration": 8,
    "start_time": "2022-12-22T12:06:13.134Z"
   },
   {
    "duration": 15,
    "start_time": "2022-12-22T12:06:13.143Z"
   },
   {
    "duration": 7,
    "start_time": "2022-12-22T12:06:13.159Z"
   },
   {
    "duration": 6,
    "start_time": "2022-12-22T12:06:13.167Z"
   },
   {
    "duration": 16,
    "start_time": "2022-12-22T12:06:13.174Z"
   },
   {
    "duration": 32,
    "start_time": "2022-12-22T12:06:13.192Z"
   },
   {
    "duration": 11,
    "start_time": "2022-12-22T12:06:13.226Z"
   },
   {
    "duration": 36,
    "start_time": "2022-12-22T12:06:13.239Z"
   },
   {
    "duration": 9,
    "start_time": "2022-12-22T12:06:13.276Z"
   },
   {
    "duration": 59,
    "start_time": "2022-12-22T12:06:13.286Z"
   },
   {
    "duration": 3,
    "start_time": "2022-12-22T12:06:13.347Z"
   },
   {
    "duration": 6,
    "start_time": "2022-12-22T12:06:13.352Z"
   },
   {
    "duration": 2863,
    "start_time": "2022-12-22T12:06:13.359Z"
   },
   {
    "duration": 1000,
    "start_time": "2022-12-22T12:06:16.224Z"
   },
   {
    "duration": 241,
    "start_time": "2022-12-22T12:06:17.226Z"
   },
   {
    "duration": 122,
    "start_time": "2022-12-22T12:06:17.468Z"
   },
   {
    "duration": 1307,
    "start_time": "2022-12-22T12:06:17.592Z"
   },
   {
    "duration": 3,
    "start_time": "2022-12-22T12:06:18.901Z"
   },
   {
    "duration": 1481,
    "start_time": "2022-12-22T12:06:18.907Z"
   },
   {
    "duration": 3,
    "start_time": "2022-12-22T12:06:20.389Z"
   },
   {
    "duration": 24,
    "start_time": "2022-12-22T12:06:20.393Z"
   },
   {
    "duration": 16,
    "start_time": "2022-12-22T12:06:20.419Z"
   },
   {
    "duration": 486,
    "start_time": "2022-12-22T12:06:20.437Z"
   },
   {
    "duration": 1597,
    "start_time": "2022-12-22T12:06:20.929Z"
   },
   {
    "duration": 166744,
    "start_time": "2022-12-22T12:06:22.528Z"
   },
   {
    "duration": 364238,
    "start_time": "2022-12-22T12:09:09.274Z"
   },
   {
    "duration": 9,
    "start_time": "2022-12-22T12:15:13.514Z"
   },
   {
    "duration": 5771,
    "start_time": "2022-12-22T12:15:13.525Z"
   },
   {
    "duration": 11992,
    "start_time": "2022-12-22T12:15:19.298Z"
   },
   {
    "duration": 4,
    "start_time": "2022-12-22T12:15:31.292Z"
   },
   {
    "duration": 1448,
    "start_time": "2022-12-22T12:46:23.259Z"
   },
   {
    "duration": 3,
    "start_time": "2022-12-22T12:46:24.709Z"
   },
   {
    "duration": 497,
    "start_time": "2022-12-22T12:46:24.714Z"
   },
   {
    "duration": 416,
    "start_time": "2022-12-22T12:46:25.221Z"
   },
   {
    "duration": 120,
    "start_time": "2022-12-22T12:46:25.639Z"
   },
   {
    "duration": 3,
    "start_time": "2022-12-22T12:46:25.760Z"
   },
   {
    "duration": 10,
    "start_time": "2022-12-22T12:46:25.765Z"
   },
   {
    "duration": 3,
    "start_time": "2022-12-22T12:46:25.777Z"
   },
   {
    "duration": 7,
    "start_time": "2022-12-22T12:46:25.782Z"
   },
   {
    "duration": 15,
    "start_time": "2022-12-22T12:46:25.792Z"
   },
   {
    "duration": 17,
    "start_time": "2022-12-22T12:46:25.823Z"
   },
   {
    "duration": 9,
    "start_time": "2022-12-22T12:46:25.841Z"
   },
   {
    "duration": 31,
    "start_time": "2022-12-22T12:46:25.852Z"
   },
   {
    "duration": 20,
    "start_time": "2022-12-22T12:46:25.885Z"
   },
   {
    "duration": 6,
    "start_time": "2022-12-22T12:46:25.907Z"
   },
   {
    "duration": 10,
    "start_time": "2022-12-22T12:46:25.915Z"
   },
   {
    "duration": 35,
    "start_time": "2022-12-22T12:46:25.927Z"
   },
   {
    "duration": 7,
    "start_time": "2022-12-22T12:46:25.964Z"
   },
   {
    "duration": 50,
    "start_time": "2022-12-22T12:46:25.973Z"
   },
   {
    "duration": 5,
    "start_time": "2022-12-22T12:46:26.024Z"
   },
   {
    "duration": 5,
    "start_time": "2022-12-22T12:46:26.030Z"
   },
   {
    "duration": 2838,
    "start_time": "2022-12-22T12:46:26.036Z"
   },
   {
    "duration": 1042,
    "start_time": "2022-12-22T12:46:28.875Z"
   },
   {
    "duration": 254,
    "start_time": "2022-12-22T12:46:29.923Z"
   },
   {
    "duration": 125,
    "start_time": "2022-12-22T12:46:30.179Z"
   },
   {
    "duration": 1290,
    "start_time": "2022-12-22T12:46:30.305Z"
   },
   {
    "duration": 4,
    "start_time": "2022-12-22T12:46:31.596Z"
   },
   {
    "duration": 1440,
    "start_time": "2022-12-22T12:46:31.604Z"
   },
   {
    "duration": 2,
    "start_time": "2022-12-22T12:46:33.046Z"
   },
   {
    "duration": 34,
    "start_time": "2022-12-22T12:46:33.050Z"
   },
   {
    "duration": 24,
    "start_time": "2022-12-22T12:46:33.085Z"
   },
   {
    "duration": 8,
    "start_time": "2022-12-22T12:46:33.111Z"
   },
   {
    "duration": 602,
    "start_time": "2022-12-22T12:46:33.121Z"
   },
   {
    "duration": 1505,
    "start_time": "2022-12-22T12:46:33.725Z"
   },
   {
    "duration": 93,
    "start_time": "2022-12-22T12:46:35.232Z"
   },
   {
    "duration": 117,
    "start_time": "2022-12-22T12:47:01.468Z"
   },
   {
    "duration": 911,
    "start_time": "2022-12-22T12:48:53.711Z"
   },
   {
    "duration": 1224,
    "start_time": "2022-12-22T12:48:57.100Z"
   },
   {
    "duration": 10,
    "start_time": "2022-12-22T12:48:59.916Z"
   },
   {
    "duration": 1433,
    "start_time": "2022-12-22T12:49:56.436Z"
   },
   {
    "duration": 3,
    "start_time": "2022-12-22T12:49:57.871Z"
   },
   {
    "duration": 519,
    "start_time": "2022-12-22T12:49:57.876Z"
   },
   {
    "duration": 415,
    "start_time": "2022-12-22T12:49:58.397Z"
   },
   {
    "duration": 130,
    "start_time": "2022-12-22T12:49:58.815Z"
   },
   {
    "duration": 3,
    "start_time": "2022-12-22T12:49:58.947Z"
   },
   {
    "duration": 7,
    "start_time": "2022-12-22T12:49:58.953Z"
   },
   {
    "duration": 17,
    "start_time": "2022-12-22T12:49:58.962Z"
   },
   {
    "duration": 8,
    "start_time": "2022-12-22T12:49:58.981Z"
   },
   {
    "duration": 7,
    "start_time": "2022-12-22T12:49:58.991Z"
   },
   {
    "duration": 33,
    "start_time": "2022-12-22T12:49:58.999Z"
   },
   {
    "duration": 7,
    "start_time": "2022-12-22T12:49:59.033Z"
   },
   {
    "duration": 7,
    "start_time": "2022-12-22T12:49:59.042Z"
   },
   {
    "duration": 15,
    "start_time": "2022-12-22T12:49:59.051Z"
   },
   {
    "duration": 9,
    "start_time": "2022-12-22T12:49:59.067Z"
   },
   {
    "duration": 15,
    "start_time": "2022-12-22T12:49:59.077Z"
   },
   {
    "duration": 50,
    "start_time": "2022-12-22T12:49:59.094Z"
   },
   {
    "duration": 9,
    "start_time": "2022-12-22T12:49:59.145Z"
   },
   {
    "duration": 37,
    "start_time": "2022-12-22T12:49:59.155Z"
   },
   {
    "duration": 4,
    "start_time": "2022-12-22T12:49:59.193Z"
   },
   {
    "duration": 3,
    "start_time": "2022-12-22T12:49:59.222Z"
   },
   {
    "duration": 2890,
    "start_time": "2022-12-22T12:49:59.227Z"
   },
   {
    "duration": 1000,
    "start_time": "2022-12-22T12:50:02.118Z"
   },
   {
    "duration": 254,
    "start_time": "2022-12-22T12:50:03.122Z"
   },
   {
    "duration": 118,
    "start_time": "2022-12-22T12:50:03.378Z"
   },
   {
    "duration": 1372,
    "start_time": "2022-12-22T12:50:03.499Z"
   },
   {
    "duration": 3,
    "start_time": "2022-12-22T12:50:04.873Z"
   },
   {
    "duration": 1483,
    "start_time": "2022-12-22T12:50:04.877Z"
   },
   {
    "duration": 3,
    "start_time": "2022-12-22T12:50:06.362Z"
   },
   {
    "duration": 8,
    "start_time": "2022-12-22T12:50:06.367Z"
   },
   {
    "duration": 13,
    "start_time": "2022-12-22T12:50:06.377Z"
   },
   {
    "duration": 7,
    "start_time": "2022-12-22T12:50:06.392Z"
   },
   {
    "duration": 525,
    "start_time": "2022-12-22T12:50:06.400Z"
   },
   {
    "duration": 1598,
    "start_time": "2022-12-22T12:50:06.931Z"
   },
   {
    "duration": 7,
    "start_time": "2022-12-22T12:50:11.016Z"
   },
   {
    "duration": 9,
    "start_time": "2022-12-22T12:50:25.864Z"
   },
   {
    "duration": 5,
    "start_time": "2022-12-22T12:51:24.336Z"
   },
   {
    "duration": 349,
    "start_time": "2022-12-22T12:54:05.782Z"
   },
   {
    "duration": 1122,
    "start_time": "2022-12-22T12:54:07.208Z"
   },
   {
    "duration": 292,
    "start_time": "2022-12-22T12:54:08.333Z"
   },
   {
    "duration": 1370,
    "start_time": "2022-12-22T12:54:17.156Z"
   },
   {
    "duration": 3,
    "start_time": "2022-12-22T12:54:18.528Z"
   },
   {
    "duration": 493,
    "start_time": "2022-12-22T12:54:18.533Z"
   },
   {
    "duration": 424,
    "start_time": "2022-12-22T12:54:19.028Z"
   },
   {
    "duration": 121,
    "start_time": "2022-12-22T12:54:19.453Z"
   },
   {
    "duration": 3,
    "start_time": "2022-12-22T12:54:19.576Z"
   },
   {
    "duration": 8,
    "start_time": "2022-12-22T12:54:19.581Z"
   },
   {
    "duration": 3,
    "start_time": "2022-12-22T12:54:19.591Z"
   },
   {
    "duration": 28,
    "start_time": "2022-12-22T12:54:19.595Z"
   },
   {
    "duration": 5,
    "start_time": "2022-12-22T12:54:19.626Z"
   },
   {
    "duration": 14,
    "start_time": "2022-12-22T12:54:19.633Z"
   },
   {
    "duration": 8,
    "start_time": "2022-12-22T12:54:19.648Z"
   },
   {
    "duration": 9,
    "start_time": "2022-12-22T12:54:19.657Z"
   },
   {
    "duration": 13,
    "start_time": "2022-12-22T12:54:19.668Z"
   },
   {
    "duration": 11,
    "start_time": "2022-12-22T12:54:19.682Z"
   },
   {
    "duration": 8,
    "start_time": "2022-12-22T12:54:19.721Z"
   },
   {
    "duration": 32,
    "start_time": "2022-12-22T12:54:19.731Z"
   },
   {
    "duration": 9,
    "start_time": "2022-12-22T12:54:19.765Z"
   },
   {
    "duration": 61,
    "start_time": "2022-12-22T12:54:19.776Z"
   },
   {
    "duration": 4,
    "start_time": "2022-12-22T12:54:19.838Z"
   },
   {
    "duration": 6,
    "start_time": "2022-12-22T12:54:19.844Z"
   },
   {
    "duration": 2716,
    "start_time": "2022-12-22T12:54:19.851Z"
   },
   {
    "duration": 1007,
    "start_time": "2022-12-22T12:54:22.568Z"
   },
   {
    "duration": 245,
    "start_time": "2022-12-22T12:54:23.577Z"
   },
   {
    "duration": 114,
    "start_time": "2022-12-22T12:54:23.824Z"
   },
   {
    "duration": 1534,
    "start_time": "2022-12-22T12:54:23.940Z"
   },
   {
    "duration": 4,
    "start_time": "2022-12-22T12:54:25.475Z"
   },
   {
    "duration": 1578,
    "start_time": "2022-12-22T12:54:25.482Z"
   },
   {
    "duration": 3,
    "start_time": "2022-12-22T12:54:27.062Z"
   },
   {
    "duration": 7,
    "start_time": "2022-12-22T12:54:27.067Z"
   },
   {
    "duration": 12,
    "start_time": "2022-12-22T12:54:27.076Z"
   },
   {
    "duration": 7,
    "start_time": "2022-12-22T12:54:27.090Z"
   },
   {
    "duration": 932,
    "start_time": "2022-12-22T12:54:27.099Z"
   },
   {
    "duration": 1504,
    "start_time": "2022-12-22T12:54:28.123Z"
   },
   {
    "duration": 94,
    "start_time": "2022-12-22T12:54:29.631Z"
   },
   {
    "duration": 161601,
    "start_time": "2022-12-22T12:54:40.914Z"
   },
   {
    "duration": 356445,
    "start_time": "2022-12-22T12:57:22.517Z"
   },
   {
    "duration": 5,
    "start_time": "2022-12-22T13:03:18.963Z"
   },
   {
    "duration": 5877,
    "start_time": "2022-12-22T13:03:18.971Z"
   },
   {
    "duration": 12174,
    "start_time": "2022-12-22T13:03:24.850Z"
   },
   {
    "duration": 5,
    "start_time": "2022-12-22T13:03:37.035Z"
   },
   {
    "duration": 13,
    "start_time": "2022-12-22T13:03:37.042Z"
   },
   {
    "duration": 4,
    "start_time": "2022-12-22T13:03:43.611Z"
   },
   {
    "duration": 5,
    "start_time": "2022-12-22T13:04:24.460Z"
   },
   {
    "duration": 12,
    "start_time": "2022-12-22T13:04:25.507Z"
   },
   {
    "duration": 8,
    "start_time": "2022-12-22T13:06:35.660Z"
   },
   {
    "duration": 6,
    "start_time": "2022-12-22T13:07:10.759Z"
   },
   {
    "duration": 3,
    "start_time": "2022-12-22T13:07:54.577Z"
   },
   {
    "duration": 3,
    "start_time": "2022-12-22T13:08:05.643Z"
   },
   {
    "duration": 2548,
    "start_time": "2022-12-22T13:32:36.095Z"
   },
   {
    "duration": 2472,
    "start_time": "2022-12-22T13:33:26.975Z"
   },
   {
    "duration": 2618,
    "start_time": "2022-12-22T13:33:35.153Z"
   },
   {
    "duration": 2575,
    "start_time": "2022-12-22T13:33:51.111Z"
   },
   {
    "duration": 89,
    "start_time": "2022-12-23T04:58:12.689Z"
   },
   {
    "duration": 1500,
    "start_time": "2022-12-23T05:06:59.829Z"
   },
   {
    "duration": 4,
    "start_time": "2022-12-23T05:07:01.331Z"
   },
   {
    "duration": 2043,
    "start_time": "2022-12-23T05:07:01.337Z"
   },
   {
    "duration": 947,
    "start_time": "2022-12-23T05:07:03.382Z"
   },
   {
    "duration": 406,
    "start_time": "2022-12-23T05:07:04.331Z"
   },
   {
    "duration": 3,
    "start_time": "2022-12-23T05:07:04.739Z"
   },
   {
    "duration": 14,
    "start_time": "2022-12-23T05:07:04.743Z"
   },
   {
    "duration": 18,
    "start_time": "2022-12-23T05:07:04.759Z"
   },
   {
    "duration": 37,
    "start_time": "2022-12-23T05:07:04.779Z"
   },
   {
    "duration": 25,
    "start_time": "2022-12-23T05:07:04.817Z"
   },
   {
    "duration": 27,
    "start_time": "2022-12-23T05:07:04.843Z"
   },
   {
    "duration": 12,
    "start_time": "2022-12-23T05:07:04.871Z"
   },
   {
    "duration": 17,
    "start_time": "2022-12-23T05:07:04.884Z"
   },
   {
    "duration": 24,
    "start_time": "2022-12-23T05:07:04.904Z"
   },
   {
    "duration": 19,
    "start_time": "2022-12-23T05:07:04.929Z"
   },
   {
    "duration": 14,
    "start_time": "2022-12-23T05:07:04.950Z"
   },
   {
    "duration": 44,
    "start_time": "2022-12-23T05:07:04.965Z"
   },
   {
    "duration": 10,
    "start_time": "2022-12-23T05:07:05.010Z"
   },
   {
    "duration": 37,
    "start_time": "2022-12-23T05:07:05.022Z"
   },
   {
    "duration": 4,
    "start_time": "2022-12-23T05:07:05.060Z"
   },
   {
    "duration": 13,
    "start_time": "2022-12-23T05:07:05.066Z"
   },
   {
    "duration": 2688,
    "start_time": "2022-12-23T05:07:05.080Z"
   },
   {
    "duration": 1021,
    "start_time": "2022-12-23T05:07:07.769Z"
   },
   {
    "duration": 135,
    "start_time": "2022-12-23T05:07:08.792Z"
   },
   {
    "duration": 113,
    "start_time": "2022-12-23T05:07:08.928Z"
   },
   {
    "duration": 1217,
    "start_time": "2022-12-23T05:07:09.043Z"
   },
   {
    "duration": 3,
    "start_time": "2022-12-23T05:07:10.262Z"
   },
   {
    "duration": 1325,
    "start_time": "2022-12-23T05:07:10.267Z"
   },
   {
    "duration": 3,
    "start_time": "2022-12-23T05:07:11.594Z"
   },
   {
    "duration": 13,
    "start_time": "2022-12-23T05:07:11.598Z"
   },
   {
    "duration": 21,
    "start_time": "2022-12-23T05:07:11.613Z"
   },
   {
    "duration": 27,
    "start_time": "2022-12-23T05:07:11.636Z"
   },
   {
    "duration": 672,
    "start_time": "2022-12-23T05:07:11.665Z"
   },
   {
    "duration": 1402,
    "start_time": "2022-12-23T05:07:12.339Z"
   },
   {
    "duration": 6,
    "start_time": "2022-12-23T05:07:13.743Z"
   },
   {
    "duration": 164677,
    "start_time": "2022-12-23T05:07:13.751Z"
   },
   {
    "duration": 353941,
    "start_time": "2022-12-23T05:09:58.430Z"
   },
   {
    "duration": 5,
    "start_time": "2022-12-23T05:15:52.373Z"
   },
   {
    "duration": 5814,
    "start_time": "2022-12-23T05:15:52.380Z"
   },
   {
    "duration": 12148,
    "start_time": "2022-12-23T05:15:58.196Z"
   },
   {
    "duration": 5,
    "start_time": "2022-12-23T05:16:10.347Z"
   },
   {
    "duration": 15,
    "start_time": "2022-12-23T05:16:10.353Z"
   },
   {
    "duration": 5,
    "start_time": "2022-12-23T05:17:24.020Z"
   },
   {
    "duration": 8,
    "start_time": "2022-12-23T05:17:27.872Z"
   },
   {
    "duration": 5,
    "start_time": "2022-12-23T05:40:27.062Z"
   },
   {
    "duration": 9,
    "start_time": "2022-12-23T05:40:28.864Z"
   },
   {
    "duration": 6,
    "start_time": "2022-12-23T05:40:37.348Z"
   },
   {
    "duration": 9,
    "start_time": "2022-12-23T05:40:40.080Z"
   },
   {
    "duration": 4,
    "start_time": "2022-12-23T05:43:47.081Z"
   },
   {
    "duration": 8,
    "start_time": "2022-12-23T05:43:50.454Z"
   },
   {
    "duration": 4,
    "start_time": "2022-12-23T05:44:02.900Z"
   },
   {
    "duration": 19,
    "start_time": "2022-12-23T05:44:03.429Z"
   },
   {
    "duration": 1348,
    "start_time": "2022-12-23T05:48:36.987Z"
   },
   {
    "duration": 3,
    "start_time": "2022-12-23T05:48:38.337Z"
   },
   {
    "duration": 549,
    "start_time": "2022-12-23T05:48:38.341Z"
   },
   {
    "duration": 422,
    "start_time": "2022-12-23T05:48:38.892Z"
   },
   {
    "duration": 127,
    "start_time": "2022-12-23T05:48:39.317Z"
   },
   {
    "duration": 3,
    "start_time": "2022-12-23T05:48:39.446Z"
   },
   {
    "duration": 16,
    "start_time": "2022-12-23T05:48:39.451Z"
   },
   {
    "duration": 13,
    "start_time": "2022-12-23T05:48:39.469Z"
   },
   {
    "duration": 12,
    "start_time": "2022-12-23T05:48:39.484Z"
   },
   {
    "duration": 10,
    "start_time": "2022-12-23T05:48:39.498Z"
   },
   {
    "duration": 23,
    "start_time": "2022-12-23T05:48:39.510Z"
   },
   {
    "duration": 9,
    "start_time": "2022-12-23T05:48:39.535Z"
   },
   {
    "duration": 16,
    "start_time": "2022-12-23T05:48:39.546Z"
   },
   {
    "duration": 18,
    "start_time": "2022-12-23T05:48:39.565Z"
   },
   {
    "duration": 12,
    "start_time": "2022-12-23T05:48:39.585Z"
   },
   {
    "duration": 15,
    "start_time": "2022-12-23T05:48:39.599Z"
   },
   {
    "duration": 45,
    "start_time": "2022-12-23T05:48:39.616Z"
   },
   {
    "duration": 8,
    "start_time": "2022-12-23T05:48:39.663Z"
   },
   {
    "duration": 44,
    "start_time": "2022-12-23T05:48:39.673Z"
   },
   {
    "duration": 5,
    "start_time": "2022-12-23T05:48:39.718Z"
   },
   {
    "duration": 3,
    "start_time": "2022-12-23T05:48:39.735Z"
   },
   {
    "duration": 2747,
    "start_time": "2022-12-23T05:48:39.740Z"
   },
   {
    "duration": 1048,
    "start_time": "2022-12-23T05:48:42.489Z"
   },
   {
    "duration": 236,
    "start_time": "2022-12-23T05:48:43.539Z"
   },
   {
    "duration": 125,
    "start_time": "2022-12-23T05:48:43.777Z"
   },
   {
    "duration": 1277,
    "start_time": "2022-12-23T05:48:43.904Z"
   },
   {
    "duration": 3,
    "start_time": "2022-12-23T05:48:45.183Z"
   },
   {
    "duration": 1497,
    "start_time": "2022-12-23T05:48:45.187Z"
   },
   {
    "duration": 4,
    "start_time": "2022-12-23T05:48:46.685Z"
   },
   {
    "duration": 16,
    "start_time": "2022-12-23T05:48:46.690Z"
   },
   {
    "duration": 43,
    "start_time": "2022-12-23T05:48:46.709Z"
   },
   {
    "duration": 14,
    "start_time": "2022-12-23T05:48:46.754Z"
   },
   {
    "duration": 665,
    "start_time": "2022-12-23T05:48:46.770Z"
   },
   {
    "duration": 1402,
    "start_time": "2022-12-23T05:48:47.438Z"
   },
   {
    "duration": 5,
    "start_time": "2022-12-23T05:48:48.842Z"
   },
   {
    "duration": 169640,
    "start_time": "2022-12-23T05:48:48.849Z"
   },
   {
    "duration": 369359,
    "start_time": "2022-12-23T05:51:38.491Z"
   },
   {
    "duration": 5,
    "start_time": "2022-12-23T05:57:47.851Z"
   },
   {
    "duration": 5864,
    "start_time": "2022-12-23T05:57:47.857Z"
   },
   {
    "duration": 12684,
    "start_time": "2022-12-23T05:57:53.723Z"
   },
   {
    "duration": 5,
    "start_time": "2022-12-23T05:58:06.411Z"
   },
   {
    "duration": 40,
    "start_time": "2022-12-23T05:58:06.418Z"
   },
   {
    "duration": 6,
    "start_time": "2022-12-23T05:58:56.049Z"
   },
   {
    "duration": 118,
    "start_time": "2022-12-23T06:01:17.049Z"
   },
   {
    "duration": 5,
    "start_time": "2022-12-23T06:01:50.223Z"
   },
   {
    "duration": 5,
    "start_time": "2022-12-23T06:01:57.759Z"
   },
   {
    "duration": 726,
    "start_time": "2022-12-23T06:02:04.012Z"
   },
   {
    "duration": 1628,
    "start_time": "2022-12-23T06:02:07.209Z"
   },
   {
    "duration": 4,
    "start_time": "2022-12-23T06:02:09.023Z"
   },
   {
    "duration": 5,
    "start_time": "2022-12-23T06:02:12.107Z"
   },
   {
    "duration": 7,
    "start_time": "2022-12-23T06:02:29.698Z"
   },
   {
    "duration": 9,
    "start_time": "2022-12-23T06:03:11.988Z"
   },
   {
    "duration": 1348,
    "start_time": "2022-12-23T06:03:26.680Z"
   },
   {
    "duration": 3,
    "start_time": "2022-12-23T06:03:28.031Z"
   },
   {
    "duration": 516,
    "start_time": "2022-12-23T06:03:28.045Z"
   },
   {
    "duration": 414,
    "start_time": "2022-12-23T06:03:28.562Z"
   },
   {
    "duration": 143,
    "start_time": "2022-12-23T06:03:28.978Z"
   },
   {
    "duration": 3,
    "start_time": "2022-12-23T06:03:29.123Z"
   },
   {
    "duration": 30,
    "start_time": "2022-12-23T06:03:29.127Z"
   },
   {
    "duration": 14,
    "start_time": "2022-12-23T06:03:29.159Z"
   },
   {
    "duration": 17,
    "start_time": "2022-12-23T06:03:29.175Z"
   },
   {
    "duration": 10,
    "start_time": "2022-12-23T06:03:29.194Z"
   },
   {
    "duration": 22,
    "start_time": "2022-12-23T06:03:29.206Z"
   },
   {
    "duration": 32,
    "start_time": "2022-12-23T06:03:29.229Z"
   },
   {
    "duration": 8,
    "start_time": "2022-12-23T06:03:29.262Z"
   },
   {
    "duration": 29,
    "start_time": "2022-12-23T06:03:29.273Z"
   },
   {
    "duration": 17,
    "start_time": "2022-12-23T06:03:29.304Z"
   },
   {
    "duration": 33,
    "start_time": "2022-12-23T06:03:29.322Z"
   },
   {
    "duration": 54,
    "start_time": "2022-12-23T06:03:29.357Z"
   },
   {
    "duration": 12,
    "start_time": "2022-12-23T06:03:29.412Z"
   },
   {
    "duration": 71,
    "start_time": "2022-12-23T06:03:29.425Z"
   },
   {
    "duration": 12,
    "start_time": "2022-12-23T06:03:29.497Z"
   },
   {
    "duration": 36,
    "start_time": "2022-12-23T06:03:29.510Z"
   },
   {
    "duration": 2799,
    "start_time": "2022-12-23T06:03:29.548Z"
   },
   {
    "duration": 1132,
    "start_time": "2022-12-23T06:03:32.350Z"
   },
   {
    "duration": 247,
    "start_time": "2022-12-23T06:03:33.483Z"
   },
   {
    "duration": 120,
    "start_time": "2022-12-23T06:03:33.732Z"
   },
   {
    "duration": 1304,
    "start_time": "2022-12-23T06:03:33.854Z"
   },
   {
    "duration": 2,
    "start_time": "2022-12-23T06:03:35.160Z"
   },
   {
    "duration": 1453,
    "start_time": "2022-12-23T06:03:35.164Z"
   },
   {
    "duration": 2,
    "start_time": "2022-12-23T06:03:36.619Z"
   },
   {
    "duration": 25,
    "start_time": "2022-12-23T06:03:36.623Z"
   },
   {
    "duration": 21,
    "start_time": "2022-12-23T06:03:36.650Z"
   },
   {
    "duration": 15,
    "start_time": "2022-12-23T06:03:36.673Z"
   },
   {
    "duration": 948,
    "start_time": "2022-12-23T06:03:36.689Z"
   },
   {
    "duration": 2098,
    "start_time": "2022-12-23T06:03:37.643Z"
   },
   {
    "duration": 4,
    "start_time": "2022-12-23T06:03:39.743Z"
   },
   {
    "duration": 167565,
    "start_time": "2022-12-23T06:03:39.749Z"
   },
   {
    "duration": 368796,
    "start_time": "2022-12-23T06:06:27.316Z"
   },
   {
    "duration": 4,
    "start_time": "2022-12-23T06:12:36.113Z"
   },
   {
    "duration": 5901,
    "start_time": "2022-12-23T06:12:36.119Z"
   },
   {
    "duration": 12427,
    "start_time": "2022-12-23T06:12:42.022Z"
   },
   {
    "duration": 4,
    "start_time": "2022-12-23T06:12:54.454Z"
   },
   {
    "duration": 13,
    "start_time": "2022-12-23T06:12:54.459Z"
   },
   {
    "duration": 8,
    "start_time": "2022-12-23T06:16:31.326Z"
   },
   {
    "duration": 8,
    "start_time": "2022-12-23T06:16:37.326Z"
   },
   {
    "duration": 7,
    "start_time": "2022-12-23T06:16:40.313Z"
   },
   {
    "duration": 8,
    "start_time": "2022-12-23T06:16:50.693Z"
   },
   {
    "duration": 8,
    "start_time": "2022-12-23T06:17:22.516Z"
   },
   {
    "duration": 11,
    "start_time": "2022-12-23T06:17:27.593Z"
   },
   {
    "duration": 2618,
    "start_time": "2022-12-23T06:24:40.094Z"
   },
   {
    "duration": 2553,
    "start_time": "2022-12-23T06:26:51.691Z"
   },
   {
    "duration": 522,
    "start_time": "2022-12-23T06:28:39.516Z"
   },
   {
    "duration": 440,
    "start_time": "2022-12-23T06:29:19.491Z"
   },
   {
    "duration": 2733,
    "start_time": "2022-12-23T06:29:32.031Z"
   },
   {
    "duration": 1333,
    "start_time": "2022-12-23T06:30:07.894Z"
   },
   {
    "duration": 398,
    "start_time": "2022-12-23T06:30:28.139Z"
   },
   {
    "duration": 440,
    "start_time": "2022-12-23T06:30:38.609Z"
   },
   {
    "duration": 2662,
    "start_time": "2022-12-23T06:32:15.308Z"
   },
   {
    "duration": 2656,
    "start_time": "2022-12-23T06:33:10.090Z"
   },
   {
    "duration": 1171,
    "start_time": "2022-12-23T06:33:45.052Z"
   },
   {
    "duration": 1291,
    "start_time": "2022-12-23T06:34:23.724Z"
   },
   {
    "duration": 1409,
    "start_time": "2022-12-23T06:34:33.924Z"
   },
   {
    "duration": 1237,
    "start_time": "2022-12-23T06:35:37.124Z"
   },
   {
    "duration": 5,
    "start_time": "2022-12-23T06:36:14.235Z"
   },
   {
    "duration": 3,
    "start_time": "2022-12-23T06:38:50.471Z"
   },
   {
    "duration": 475,
    "start_time": "2022-12-23T06:38:51.572Z"
   },
   {
    "duration": 405,
    "start_time": "2022-12-23T06:39:42.932Z"
   },
   {
    "duration": 3,
    "start_time": "2022-12-23T06:40:47.455Z"
   },
   {
    "duration": 465,
    "start_time": "2022-12-23T06:40:48.235Z"
   },
   {
    "duration": 3,
    "start_time": "2022-12-23T06:42:13.978Z"
   },
   {
    "duration": 6,
    "start_time": "2022-12-23T06:42:17.375Z"
   },
   {
    "duration": 11,
    "start_time": "2022-12-23T06:45:18.357Z"
   },
   {
    "duration": 4,
    "start_time": "2022-12-23T06:45:33.106Z"
   },
   {
    "duration": 3,
    "start_time": "2022-12-23T06:46:16.574Z"
   },
   {
    "duration": 8,
    "start_time": "2022-12-23T06:46:17.175Z"
   },
   {
    "duration": 5,
    "start_time": "2022-12-23T06:46:26.493Z"
   },
   {
    "duration": 4,
    "start_time": "2022-12-23T06:46:27.215Z"
   },
   {
    "duration": 3,
    "start_time": "2022-12-23T06:46:27.841Z"
   },
   {
    "duration": 5,
    "start_time": "2022-12-23T06:47:13.093Z"
   },
   {
    "duration": 1478,
    "start_time": "2022-12-23T06:58:11.785Z"
   },
   {
    "duration": 4,
    "start_time": "2022-12-23T06:58:13.265Z"
   },
   {
    "duration": 539,
    "start_time": "2022-12-23T06:58:13.270Z"
   },
   {
    "duration": 437,
    "start_time": "2022-12-23T06:58:13.811Z"
   },
   {
    "duration": 125,
    "start_time": "2022-12-23T06:58:14.253Z"
   },
   {
    "duration": 3,
    "start_time": "2022-12-23T06:58:14.380Z"
   },
   {
    "duration": 11,
    "start_time": "2022-12-23T06:58:14.384Z"
   },
   {
    "duration": 5,
    "start_time": "2022-12-23T06:58:14.396Z"
   },
   {
    "duration": 12,
    "start_time": "2022-12-23T06:58:14.403Z"
   },
   {
    "duration": 8,
    "start_time": "2022-12-23T06:58:14.419Z"
   },
   {
    "duration": 18,
    "start_time": "2022-12-23T06:58:14.440Z"
   },
   {
    "duration": 14,
    "start_time": "2022-12-23T06:58:14.459Z"
   },
   {
    "duration": 10,
    "start_time": "2022-12-23T06:58:14.475Z"
   },
   {
    "duration": 25,
    "start_time": "2022-12-23T06:58:14.486Z"
   },
   {
    "duration": 15,
    "start_time": "2022-12-23T06:58:14.513Z"
   },
   {
    "duration": 29,
    "start_time": "2022-12-23T06:58:14.529Z"
   },
   {
    "duration": 38,
    "start_time": "2022-12-23T06:58:14.560Z"
   },
   {
    "duration": 33,
    "start_time": "2022-12-23T06:58:14.599Z"
   },
   {
    "duration": 18,
    "start_time": "2022-12-23T06:58:14.634Z"
   },
   {
    "duration": 10,
    "start_time": "2022-12-23T06:58:14.653Z"
   },
   {
    "duration": 3022,
    "start_time": "2022-12-23T06:58:14.665Z"
   },
   {
    "duration": 477,
    "start_time": "2022-12-23T06:58:17.689Z"
   },
   {
    "duration": 141,
    "start_time": "2022-12-23T06:58:18.167Z"
   },
   {
    "duration": 118,
    "start_time": "2022-12-23T06:58:18.310Z"
   },
   {
    "duration": 1322,
    "start_time": "2022-12-23T06:58:18.429Z"
   },
   {
    "duration": 3,
    "start_time": "2022-12-23T06:58:19.753Z"
   },
   {
    "duration": 1195,
    "start_time": "2022-12-23T06:58:19.758Z"
   },
   {
    "duration": 5,
    "start_time": "2022-12-23T06:58:20.958Z"
   },
   {
    "duration": 36,
    "start_time": "2022-12-23T06:58:20.965Z"
   },
   {
    "duration": 13,
    "start_time": "2022-12-23T06:58:21.003Z"
   },
   {
    "duration": 32,
    "start_time": "2022-12-23T06:58:21.018Z"
   },
   {
    "duration": 10,
    "start_time": "2022-12-23T06:58:21.052Z"
   },
   {
    "duration": 877,
    "start_time": "2022-12-23T06:58:21.064Z"
   },
   {
    "duration": 2494,
    "start_time": "2022-12-23T06:58:21.943Z"
   },
   {
    "duration": 3,
    "start_time": "2022-12-23T06:58:24.439Z"
   },
   {
    "duration": 641406,
    "start_time": "2022-12-23T06:58:24.444Z"
   },
   {
    "duration": 1338,
    "start_time": "2022-12-23T07:10:02.783Z"
   },
   {
    "duration": 4,
    "start_time": "2022-12-23T07:10:04.122Z"
   },
   {
    "duration": 543,
    "start_time": "2022-12-23T07:10:04.128Z"
   },
   {
    "duration": 432,
    "start_time": "2022-12-23T07:10:04.673Z"
   },
   {
    "duration": 136,
    "start_time": "2022-12-23T07:10:05.107Z"
   },
   {
    "duration": 3,
    "start_time": "2022-12-23T07:10:05.249Z"
   },
   {
    "duration": 35,
    "start_time": "2022-12-23T07:10:05.253Z"
   },
   {
    "duration": 8,
    "start_time": "2022-12-23T07:10:05.289Z"
   },
   {
    "duration": 19,
    "start_time": "2022-12-23T07:10:05.298Z"
   },
   {
    "duration": 6,
    "start_time": "2022-12-23T07:10:05.319Z"
   },
   {
    "duration": 34,
    "start_time": "2022-12-23T07:10:05.327Z"
   },
   {
    "duration": 8,
    "start_time": "2022-12-23T07:10:05.363Z"
   },
   {
    "duration": 13,
    "start_time": "2022-12-23T07:10:05.373Z"
   },
   {
    "duration": 29,
    "start_time": "2022-12-23T07:10:05.389Z"
   },
   {
    "duration": 28,
    "start_time": "2022-12-23T07:10:05.420Z"
   },
   {
    "duration": 17,
    "start_time": "2022-12-23T07:10:05.450Z"
   },
   {
    "duration": 44,
    "start_time": "2022-12-23T07:10:05.469Z"
   },
   {
    "duration": 35,
    "start_time": "2022-12-23T07:10:05.515Z"
   },
   {
    "duration": 12,
    "start_time": "2022-12-23T07:10:05.552Z"
   },
   {
    "duration": 9,
    "start_time": "2022-12-23T07:10:05.565Z"
   },
   {
    "duration": 2709,
    "start_time": "2022-12-23T07:10:05.576Z"
   },
   {
    "duration": 473,
    "start_time": "2022-12-23T07:10:08.287Z"
   },
   {
    "duration": 141,
    "start_time": "2022-12-23T07:10:08.762Z"
   },
   {
    "duration": 113,
    "start_time": "2022-12-23T07:10:08.905Z"
   },
   {
    "duration": 1236,
    "start_time": "2022-12-23T07:10:09.020Z"
   },
   {
    "duration": 4,
    "start_time": "2022-12-23T07:10:10.257Z"
   },
   {
    "duration": 1297,
    "start_time": "2022-12-23T07:10:10.262Z"
   },
   {
    "duration": 4,
    "start_time": "2022-12-23T07:10:11.561Z"
   },
   {
    "duration": 22,
    "start_time": "2022-12-23T07:10:11.567Z"
   },
   {
    "duration": 43,
    "start_time": "2022-12-23T07:10:11.591Z"
   },
   {
    "duration": 36,
    "start_time": "2022-12-23T07:10:11.636Z"
   },
   {
    "duration": 38,
    "start_time": "2022-12-23T07:10:11.673Z"
   },
   {
    "duration": 929,
    "start_time": "2022-12-23T07:10:11.713Z"
   },
   {
    "duration": 2198,
    "start_time": "2022-12-23T07:10:12.646Z"
   },
   {
    "duration": 98,
    "start_time": "2022-12-23T07:10:14.846Z"
   },
   {
    "duration": 1825739,
    "start_time": "2022-12-23T07:10:14.947Z"
   },
   {
    "duration": 1457,
    "start_time": "2022-12-23T07:49:28.056Z"
   },
   {
    "duration": 3,
    "start_time": "2022-12-23T07:49:29.515Z"
   },
   {
    "duration": 622,
    "start_time": "2022-12-23T07:49:29.520Z"
   },
   {
    "duration": 421,
    "start_time": "2022-12-23T07:49:30.145Z"
   },
   {
    "duration": 138,
    "start_time": "2022-12-23T07:49:30.569Z"
   },
   {
    "duration": 3,
    "start_time": "2022-12-23T07:49:30.709Z"
   },
   {
    "duration": 53,
    "start_time": "2022-12-23T07:49:30.714Z"
   },
   {
    "duration": 25,
    "start_time": "2022-12-23T07:49:30.769Z"
   },
   {
    "duration": 65,
    "start_time": "2022-12-23T07:49:30.796Z"
   },
   {
    "duration": 43,
    "start_time": "2022-12-23T07:49:30.865Z"
   },
   {
    "duration": 62,
    "start_time": "2022-12-23T07:49:30.909Z"
   },
   {
    "duration": 44,
    "start_time": "2022-12-23T07:49:30.973Z"
   },
   {
    "duration": 24,
    "start_time": "2022-12-23T07:49:31.019Z"
   },
   {
    "duration": 43,
    "start_time": "2022-12-23T07:49:31.045Z"
   },
   {
    "duration": 18,
    "start_time": "2022-12-23T07:49:31.089Z"
   },
   {
    "duration": 27,
    "start_time": "2022-12-23T07:49:31.108Z"
   },
   {
    "duration": 63,
    "start_time": "2022-12-23T07:49:31.136Z"
   },
   {
    "duration": 38,
    "start_time": "2022-12-23T07:49:31.200Z"
   },
   {
    "duration": 14,
    "start_time": "2022-12-23T07:49:31.240Z"
   },
   {
    "duration": 31,
    "start_time": "2022-12-23T07:49:31.259Z"
   },
   {
    "duration": 2930,
    "start_time": "2022-12-23T07:49:31.291Z"
   },
   {
    "duration": 581,
    "start_time": "2022-12-23T07:49:34.223Z"
   },
   {
    "duration": 159,
    "start_time": "2022-12-23T07:49:34.806Z"
   },
   {
    "duration": 122,
    "start_time": "2022-12-23T07:49:34.967Z"
   },
   {
    "duration": 1275,
    "start_time": "2022-12-23T07:49:35.090Z"
   },
   {
    "duration": 3,
    "start_time": "2022-12-23T07:49:36.368Z"
   },
   {
    "duration": 1402,
    "start_time": "2022-12-23T07:49:36.373Z"
   },
   {
    "duration": 4,
    "start_time": "2022-12-23T07:49:37.778Z"
   },
   {
    "duration": 34,
    "start_time": "2022-12-23T07:49:37.783Z"
   },
   {
    "duration": 9,
    "start_time": "2022-12-23T07:49:37.819Z"
   },
   {
    "duration": 46,
    "start_time": "2022-12-23T07:49:37.829Z"
   },
   {
    "duration": 13,
    "start_time": "2022-12-23T07:49:37.877Z"
   },
   {
    "duration": 1146,
    "start_time": "2022-12-23T07:49:37.892Z"
   },
   {
    "duration": 3827,
    "start_time": "2022-12-23T07:49:39.040Z"
   },
   {
    "duration": 9,
    "start_time": "2022-12-23T07:49:42.941Z"
   },
   {
    "duration": 1356962,
    "start_time": "2022-12-23T07:49:42.953Z"
   },
   {
    "duration": 2988297,
    "start_time": "2022-12-23T08:12:19.917Z"
   },
   {
    "duration": 4,
    "start_time": "2022-12-23T09:02:08.215Z"
   },
   {
    "duration": 22550,
    "start_time": "2022-12-23T09:02:08.221Z"
   },
   {
    "duration": 49475,
    "start_time": "2022-12-23T09:02:30.772Z"
   },
   {
    "duration": 4,
    "start_time": "2022-12-23T09:03:20.250Z"
   },
   {
    "duration": 28,
    "start_time": "2022-12-23T09:03:20.255Z"
   },
   {
    "duration": 62,
    "start_time": "2022-12-23T09:03:20.284Z"
   },
   {
    "duration": 3,
    "start_time": "2022-12-23T09:35:47.658Z"
   },
   {
    "duration": 64,
    "start_time": "2022-12-23T09:41:41.541Z"
   },
   {
    "duration": 3,
    "start_time": "2022-12-23T09:41:47.819Z"
   },
   {
    "duration": 41,
    "start_time": "2022-12-23T09:42:16.597Z"
   },
   {
    "duration": 3,
    "start_time": "2022-12-23T09:42:22.718Z"
   },
   {
    "duration": 5,
    "start_time": "2022-12-23T09:42:39.772Z"
   },
   {
    "duration": 3,
    "start_time": "2022-12-23T09:42:43.972Z"
   },
   {
    "duration": 1573,
    "start_time": "2022-12-23T21:32:07.643Z"
   },
   {
    "duration": 5,
    "start_time": "2022-12-23T21:32:09.219Z"
   },
   {
    "duration": 2162,
    "start_time": "2022-12-23T21:32:09.226Z"
   },
   {
    "duration": 1030,
    "start_time": "2022-12-23T21:32:11.390Z"
   },
   {
    "duration": 445,
    "start_time": "2022-12-23T21:32:12.422Z"
   },
   {
    "duration": 4,
    "start_time": "2022-12-23T21:32:12.868Z"
   },
   {
    "duration": 12,
    "start_time": "2022-12-23T21:32:12.874Z"
   },
   {
    "duration": 14,
    "start_time": "2022-12-23T21:32:12.889Z"
   },
   {
    "duration": 11,
    "start_time": "2022-12-23T21:32:12.905Z"
   },
   {
    "duration": 13,
    "start_time": "2022-12-23T21:32:12.918Z"
   },
   {
    "duration": 12,
    "start_time": "2022-12-23T21:32:12.933Z"
   },
   {
    "duration": 5,
    "start_time": "2022-12-23T21:34:25.087Z"
   },
   {
    "duration": 8,
    "start_time": "2022-12-23T21:34:25.094Z"
   },
   {
    "duration": 485,
    "start_time": "2022-12-23T21:34:25.104Z"
   },
   {
    "duration": 430,
    "start_time": "2022-12-23T21:34:25.591Z"
   },
   {
    "duration": 147,
    "start_time": "2022-12-23T21:34:26.024Z"
   },
   {
    "duration": 3,
    "start_time": "2022-12-23T21:34:26.173Z"
   },
   {
    "duration": 6,
    "start_time": "2022-12-23T21:34:26.178Z"
   },
   {
    "duration": 12,
    "start_time": "2022-12-23T21:34:26.186Z"
   },
   {
    "duration": 7,
    "start_time": "2022-12-23T21:34:26.215Z"
   },
   {
    "duration": 11,
    "start_time": "2022-12-23T21:34:26.225Z"
   },
   {
    "duration": 10,
    "start_time": "2022-12-23T21:34:26.240Z"
   },
   {
    "duration": 31,
    "start_time": "2022-12-23T21:34:26.252Z"
   },
   {
    "duration": 7,
    "start_time": "2022-12-23T21:34:26.285Z"
   },
   {
    "duration": 25,
    "start_time": "2022-12-23T21:34:26.294Z"
   },
   {
    "duration": 12,
    "start_time": "2022-12-23T21:34:26.322Z"
   },
   {
    "duration": 16,
    "start_time": "2022-12-23T21:34:26.335Z"
   },
   {
    "duration": 19,
    "start_time": "2022-12-23T21:34:26.353Z"
   },
   {
    "duration": 52,
    "start_time": "2022-12-23T21:34:26.375Z"
   },
   {
    "duration": 36,
    "start_time": "2022-12-23T21:34:26.429Z"
   },
   {
    "duration": 4,
    "start_time": "2022-12-23T21:34:26.467Z"
   },
   {
    "duration": 6,
    "start_time": "2022-12-23T21:34:26.472Z"
   },
   {
    "duration": 2800,
    "start_time": "2022-12-23T21:34:26.480Z"
   },
   {
    "duration": 499,
    "start_time": "2022-12-23T21:34:29.281Z"
   },
   {
    "duration": 154,
    "start_time": "2022-12-23T21:34:29.782Z"
   },
   {
    "duration": 126,
    "start_time": "2022-12-23T21:34:29.939Z"
   },
   {
    "duration": 1447,
    "start_time": "2022-12-23T21:34:30.067Z"
   },
   {
    "duration": 3,
    "start_time": "2022-12-23T21:34:31.515Z"
   },
   {
    "duration": 1205,
    "start_time": "2022-12-23T21:34:31.520Z"
   },
   {
    "duration": 4,
    "start_time": "2022-12-23T21:34:32.728Z"
   },
   {
    "duration": 10,
    "start_time": "2022-12-23T21:34:32.734Z"
   },
   {
    "duration": 7,
    "start_time": "2022-12-23T21:34:32.746Z"
   },
   {
    "duration": 16,
    "start_time": "2022-12-23T21:34:32.755Z"
   },
   {
    "duration": 11,
    "start_time": "2022-12-23T21:34:32.774Z"
   },
   {
    "duration": 828,
    "start_time": "2022-12-23T21:34:32.787Z"
   },
   {
    "duration": 1503,
    "start_time": "2022-12-23T21:34:33.617Z"
   },
   {
    "duration": 5,
    "start_time": "2022-12-23T21:34:35.123Z"
   },
   {
    "duration": 1013749,
    "start_time": "2022-12-23T21:34:35.131Z"
   },
   {
    "duration": 2349656,
    "start_time": "2022-12-23T21:53:24.154Z"
   },
   {
    "duration": 12,
    "start_time": "2022-12-23T22:32:33.812Z"
   },
   {
    "duration": 50794,
    "start_time": "2022-12-23T22:59:52.790Z"
   },
   {
    "duration": 4,
    "start_time": "2022-12-23T23:00:43.588Z"
   },
   {
    "duration": 24,
    "start_time": "2022-12-23T23:00:43.594Z"
   },
   {
    "duration": 11,
    "start_time": "2022-12-23T23:00:43.627Z"
   },
   {
    "duration": 22955,
    "start_time": "2022-12-23T23:01:14.928Z"
   },
   {
    "duration": 50504,
    "start_time": "2022-12-23T23:01:42.089Z"
   },
   {
    "duration": 4,
    "start_time": "2022-12-23T23:02:32.595Z"
   },
   {
    "duration": 7,
    "start_time": "2022-12-23T23:03:16.751Z"
   },
   {
    "duration": 10,
    "start_time": "2022-12-23T23:03:18.031Z"
   },
   {
    "duration": 818,
    "start_time": "2022-12-23T23:11:24.109Z"
   },
   {
    "duration": 1712,
    "start_time": "2022-12-23T23:11:28.190Z"
   },
   {
    "duration": 4,
    "start_time": "2022-12-23T23:11:32.480Z"
   },
   {
    "duration": 754,
    "start_time": "2022-12-23T23:11:43.245Z"
   },
   {
    "duration": 250,
    "start_time": "2022-12-23T23:17:01.419Z"
   },
   {
    "duration": 236,
    "start_time": "2022-12-23T23:17:02.628Z"
   },
   {
    "duration": 108,
    "start_time": "2022-12-23T23:17:03.966Z"
   },
   {
    "duration": 12,
    "start_time": "2022-12-23T23:22:19.950Z"
   },
   {
    "duration": 95,
    "start_time": "2022-12-23T23:22:44.859Z"
   },
   {
    "duration": 67,
    "start_time": "2022-12-23T23:23:28.496Z"
   },
   {
    "duration": 8,
    "start_time": "2022-12-23T23:23:28.927Z"
   },
   {
    "duration": 8,
    "start_time": "2022-12-23T23:23:29.630Z"
   },
   {
    "duration": 10,
    "start_time": "2022-12-23T23:32:46.026Z"
   },
   {
    "duration": 8,
    "start_time": "2022-12-23T23:32:47.184Z"
   },
   {
    "duration": 12,
    "start_time": "2022-12-23T23:32:49.876Z"
   },
   {
    "duration": 1394,
    "start_time": "2022-12-23T23:35:08.677Z"
   },
   {
    "duration": 4,
    "start_time": "2022-12-23T23:35:10.074Z"
   },
   {
    "duration": 483,
    "start_time": "2022-12-23T23:35:10.079Z"
   },
   {
    "duration": 391,
    "start_time": "2022-12-23T23:35:10.564Z"
   },
   {
    "duration": 117,
    "start_time": "2022-12-23T23:35:10.957Z"
   },
   {
    "duration": 3,
    "start_time": "2022-12-23T23:35:11.076Z"
   },
   {
    "duration": 8,
    "start_time": "2022-12-23T23:35:11.081Z"
   },
   {
    "duration": 8,
    "start_time": "2022-12-23T23:35:11.091Z"
   },
   {
    "duration": 16,
    "start_time": "2022-12-23T23:35:11.100Z"
   },
   {
    "duration": 4,
    "start_time": "2022-12-23T23:35:11.119Z"
   },
   {
    "duration": 18,
    "start_time": "2022-12-23T23:35:11.125Z"
   },
   {
    "duration": 13,
    "start_time": "2022-12-23T23:35:11.144Z"
   },
   {
    "duration": 7,
    "start_time": "2022-12-23T23:35:11.159Z"
   },
   {
    "duration": 6,
    "start_time": "2022-12-23T23:35:11.167Z"
   },
   {
    "duration": 14,
    "start_time": "2022-12-23T23:35:11.175Z"
   },
   {
    "duration": 28,
    "start_time": "2022-12-23T23:35:11.190Z"
   },
   {
    "duration": 6,
    "start_time": "2022-12-23T23:35:11.220Z"
   },
   {
    "duration": 5,
    "start_time": "2022-12-23T23:35:11.227Z"
   },
   {
    "duration": 2645,
    "start_time": "2022-12-23T23:35:11.234Z"
   },
   {
    "duration": 460,
    "start_time": "2022-12-23T23:35:13.881Z"
   },
   {
    "duration": 134,
    "start_time": "2022-12-23T23:35:14.343Z"
   },
   {
    "duration": 115,
    "start_time": "2022-12-23T23:35:14.480Z"
   },
   {
    "duration": 115,
    "start_time": "2022-12-23T23:35:14.597Z"
   },
   {
    "duration": 0,
    "start_time": "2022-12-23T23:35:14.715Z"
   },
   {
    "duration": 0,
    "start_time": "2022-12-23T23:35:14.716Z"
   },
   {
    "duration": 0,
    "start_time": "2022-12-23T23:35:14.717Z"
   },
   {
    "duration": 0,
    "start_time": "2022-12-23T23:35:14.718Z"
   },
   {
    "duration": 0,
    "start_time": "2022-12-23T23:35:14.719Z"
   },
   {
    "duration": 0,
    "start_time": "2022-12-23T23:35:14.720Z"
   },
   {
    "duration": 0,
    "start_time": "2022-12-23T23:35:14.721Z"
   },
   {
    "duration": 0,
    "start_time": "2022-12-23T23:35:14.722Z"
   },
   {
    "duration": 0,
    "start_time": "2022-12-23T23:35:14.723Z"
   },
   {
    "duration": 0,
    "start_time": "2022-12-23T23:35:14.724Z"
   },
   {
    "duration": 0,
    "start_time": "2022-12-23T23:35:14.725Z"
   },
   {
    "duration": 0,
    "start_time": "2022-12-23T23:35:14.726Z"
   },
   {
    "duration": 0,
    "start_time": "2022-12-23T23:35:14.727Z"
   },
   {
    "duration": 0,
    "start_time": "2022-12-23T23:35:14.727Z"
   },
   {
    "duration": 0,
    "start_time": "2022-12-23T23:35:14.728Z"
   },
   {
    "duration": 0,
    "start_time": "2022-12-23T23:35:14.729Z"
   },
   {
    "duration": 0,
    "start_time": "2022-12-23T23:35:14.731Z"
   },
   {
    "duration": 0,
    "start_time": "2022-12-23T23:35:14.732Z"
   },
   {
    "duration": 0,
    "start_time": "2022-12-23T23:35:14.733Z"
   },
   {
    "duration": 0,
    "start_time": "2022-12-23T23:35:14.735Z"
   },
   {
    "duration": 0,
    "start_time": "2022-12-23T23:35:14.736Z"
   },
   {
    "duration": 0,
    "start_time": "2022-12-23T23:35:14.737Z"
   },
   {
    "duration": 0,
    "start_time": "2022-12-23T23:35:14.739Z"
   },
   {
    "duration": 1,
    "start_time": "2022-12-23T23:35:14.740Z"
   },
   {
    "duration": 0,
    "start_time": "2022-12-23T23:35:14.742Z"
   },
   {
    "duration": 0,
    "start_time": "2022-12-23T23:35:14.743Z"
   },
   {
    "duration": 0,
    "start_time": "2022-12-23T23:35:14.745Z"
   },
   {
    "duration": 0,
    "start_time": "2022-12-23T23:35:14.746Z"
   },
   {
    "duration": 0,
    "start_time": "2022-12-23T23:35:14.747Z"
   },
   {
    "duration": 0,
    "start_time": "2022-12-23T23:35:14.748Z"
   },
   {
    "duration": 59,
    "start_time": "2022-12-23T23:36:08.068Z"
   },
   {
    "duration": 5,
    "start_time": "2022-12-23T23:36:20.146Z"
   },
   {
    "duration": 1339,
    "start_time": "2022-12-23T23:36:27.845Z"
   },
   {
    "duration": 3,
    "start_time": "2022-12-23T23:36:29.186Z"
   },
   {
    "duration": 475,
    "start_time": "2022-12-23T23:36:29.191Z"
   },
   {
    "duration": 396,
    "start_time": "2022-12-23T23:36:29.668Z"
   },
   {
    "duration": 120,
    "start_time": "2022-12-23T23:36:30.066Z"
   },
   {
    "duration": 4,
    "start_time": "2022-12-23T23:36:30.188Z"
   },
   {
    "duration": 29,
    "start_time": "2022-12-23T23:36:30.193Z"
   },
   {
    "duration": 32,
    "start_time": "2022-12-23T23:36:30.223Z"
   },
   {
    "duration": 13,
    "start_time": "2022-12-23T23:36:30.256Z"
   },
   {
    "duration": 40,
    "start_time": "2022-12-23T23:36:30.272Z"
   },
   {
    "duration": 58,
    "start_time": "2022-12-23T23:36:30.313Z"
   },
   {
    "duration": 61,
    "start_time": "2022-12-23T23:36:30.372Z"
   },
   {
    "duration": 19,
    "start_time": "2022-12-23T23:36:30.434Z"
   },
   {
    "duration": 36,
    "start_time": "2022-12-23T23:36:30.455Z"
   },
   {
    "duration": 30,
    "start_time": "2022-12-23T23:36:30.493Z"
   },
   {
    "duration": 30,
    "start_time": "2022-12-23T23:36:30.525Z"
   },
   {
    "duration": 37,
    "start_time": "2022-12-23T23:36:30.556Z"
   },
   {
    "duration": 32,
    "start_time": "2022-12-23T23:36:30.595Z"
   },
   {
    "duration": 2942,
    "start_time": "2022-12-23T23:36:30.629Z"
   },
   {
    "duration": 478,
    "start_time": "2022-12-23T23:36:33.574Z"
   },
   {
    "duration": 138,
    "start_time": "2022-12-23T23:36:34.055Z"
   },
   {
    "duration": 131,
    "start_time": "2022-12-23T23:36:34.195Z"
   },
   {
    "duration": 133,
    "start_time": "2022-12-23T23:36:34.328Z"
   },
   {
    "duration": 0,
    "start_time": "2022-12-23T23:36:34.463Z"
   },
   {
    "duration": 0,
    "start_time": "2022-12-23T23:36:34.464Z"
   },
   {
    "duration": 0,
    "start_time": "2022-12-23T23:36:34.465Z"
   },
   {
    "duration": 0,
    "start_time": "2022-12-23T23:36:34.466Z"
   },
   {
    "duration": 0,
    "start_time": "2022-12-23T23:36:34.467Z"
   },
   {
    "duration": 0,
    "start_time": "2022-12-23T23:36:34.469Z"
   },
   {
    "duration": 0,
    "start_time": "2022-12-23T23:36:34.470Z"
   },
   {
    "duration": 0,
    "start_time": "2022-12-23T23:36:34.471Z"
   },
   {
    "duration": 0,
    "start_time": "2022-12-23T23:36:34.473Z"
   },
   {
    "duration": 0,
    "start_time": "2022-12-23T23:36:34.474Z"
   },
   {
    "duration": 0,
    "start_time": "2022-12-23T23:36:34.475Z"
   },
   {
    "duration": 0,
    "start_time": "2022-12-23T23:36:34.476Z"
   },
   {
    "duration": 0,
    "start_time": "2022-12-23T23:36:34.478Z"
   },
   {
    "duration": 0,
    "start_time": "2022-12-23T23:36:34.479Z"
   },
   {
    "duration": 0,
    "start_time": "2022-12-23T23:36:34.480Z"
   },
   {
    "duration": 0,
    "start_time": "2022-12-23T23:36:34.481Z"
   },
   {
    "duration": 0,
    "start_time": "2022-12-23T23:36:34.516Z"
   },
   {
    "duration": 0,
    "start_time": "2022-12-23T23:36:34.517Z"
   },
   {
    "duration": 0,
    "start_time": "2022-12-23T23:36:34.518Z"
   },
   {
    "duration": 0,
    "start_time": "2022-12-23T23:36:34.520Z"
   },
   {
    "duration": 0,
    "start_time": "2022-12-23T23:36:34.520Z"
   },
   {
    "duration": 0,
    "start_time": "2022-12-23T23:36:34.522Z"
   },
   {
    "duration": 0,
    "start_time": "2022-12-23T23:36:34.523Z"
   },
   {
    "duration": 0,
    "start_time": "2022-12-23T23:36:34.524Z"
   },
   {
    "duration": 0,
    "start_time": "2022-12-23T23:36:34.525Z"
   },
   {
    "duration": 0,
    "start_time": "2022-12-23T23:36:34.526Z"
   },
   {
    "duration": 0,
    "start_time": "2022-12-23T23:36:34.528Z"
   },
   {
    "duration": 0,
    "start_time": "2022-12-23T23:36:34.529Z"
   },
   {
    "duration": 0,
    "start_time": "2022-12-23T23:36:34.530Z"
   },
   {
    "duration": 0,
    "start_time": "2022-12-23T23:36:34.531Z"
   },
   {
    "duration": 5,
    "start_time": "2022-12-23T23:36:58.498Z"
   },
   {
    "duration": 1415,
    "start_time": "2022-12-23T23:37:37.778Z"
   },
   {
    "duration": 3,
    "start_time": "2022-12-23T23:37:39.195Z"
   },
   {
    "duration": 499,
    "start_time": "2022-12-23T23:37:39.200Z"
   },
   {
    "duration": 444,
    "start_time": "2022-12-23T23:37:39.701Z"
   },
   {
    "duration": 124,
    "start_time": "2022-12-23T23:37:40.146Z"
   },
   {
    "duration": 4,
    "start_time": "2022-12-23T23:37:40.272Z"
   },
   {
    "duration": 13,
    "start_time": "2022-12-23T23:37:40.278Z"
   },
   {
    "duration": 10,
    "start_time": "2022-12-23T23:37:40.293Z"
   },
   {
    "duration": 13,
    "start_time": "2022-12-23T23:37:40.305Z"
   },
   {
    "duration": 14,
    "start_time": "2022-12-23T23:37:40.323Z"
   },
   {
    "duration": 14,
    "start_time": "2022-12-23T23:37:40.339Z"
   },
   {
    "duration": 16,
    "start_time": "2022-12-23T23:37:40.355Z"
   },
   {
    "duration": 6,
    "start_time": "2022-12-23T23:37:40.373Z"
   },
   {
    "duration": 8,
    "start_time": "2022-12-23T23:37:40.381Z"
   },
   {
    "duration": 25,
    "start_time": "2022-12-23T23:37:40.390Z"
   },
   {
    "duration": 9,
    "start_time": "2022-12-23T23:37:40.417Z"
   },
   {
    "duration": 15,
    "start_time": "2022-12-23T23:37:40.428Z"
   },
   {
    "duration": 13,
    "start_time": "2022-12-23T23:37:40.445Z"
   },
   {
    "duration": 2918,
    "start_time": "2022-12-23T23:37:40.462Z"
   },
   {
    "duration": 502,
    "start_time": "2022-12-23T23:37:43.381Z"
   },
   {
    "duration": 139,
    "start_time": "2022-12-23T23:37:43.885Z"
   },
   {
    "duration": 135,
    "start_time": "2022-12-23T23:37:44.026Z"
   },
   {
    "duration": 5,
    "start_time": "2022-12-23T23:37:44.163Z"
   },
   {
    "duration": 1275,
    "start_time": "2022-12-23T23:37:44.170Z"
   },
   {
    "duration": 3,
    "start_time": "2022-12-23T23:37:45.447Z"
   },
   {
    "duration": 1577,
    "start_time": "2022-12-23T23:37:45.452Z"
   },
   {
    "duration": 3,
    "start_time": "2022-12-23T23:37:47.031Z"
   },
   {
    "duration": 8,
    "start_time": "2022-12-23T23:37:47.038Z"
   },
   {
    "duration": 12,
    "start_time": "2022-12-23T23:37:47.048Z"
   },
   {
    "duration": 15,
    "start_time": "2022-12-23T23:37:47.062Z"
   },
   {
    "duration": 7,
    "start_time": "2022-12-23T23:37:47.079Z"
   },
   {
    "duration": 1032,
    "start_time": "2022-12-23T23:37:47.088Z"
   },
   {
    "duration": 3698,
    "start_time": "2022-12-23T23:37:48.123Z"
   },
   {
    "duration": 87,
    "start_time": "2022-12-23T23:37:51.830Z"
   },
   {
    "duration": 987179,
    "start_time": "2022-12-23T23:37:51.919Z"
   },
   {
    "duration": 2213556,
    "start_time": "2022-12-23T23:54:19.099Z"
   },
   {
    "duration": 4,
    "start_time": "2022-12-24T00:31:12.656Z"
   },
   {
    "duration": 22272,
    "start_time": "2022-12-24T00:31:12.661Z"
   },
   {
    "duration": 49329,
    "start_time": "2022-12-24T00:31:34.934Z"
   },
   {
    "duration": 4,
    "start_time": "2022-12-24T00:32:24.264Z"
   },
   {
    "duration": 12,
    "start_time": "2022-12-24T00:32:24.269Z"
   },
   {
    "duration": 12,
    "start_time": "2022-12-24T00:32:24.283Z"
   },
   {
    "duration": 768,
    "start_time": "2022-12-24T00:32:24.297Z"
   },
   {
    "duration": 1748,
    "start_time": "2022-12-24T00:32:25.067Z"
   },
   {
    "duration": 3,
    "start_time": "2022-12-24T00:32:26.817Z"
   },
   {
    "duration": 261,
    "start_time": "2022-12-24T00:32:26.821Z"
   },
   {
    "duration": 86,
    "start_time": "2022-12-24T00:32:27.084Z"
   },
   {
    "duration": 77,
    "start_time": "2022-12-24T00:32:27.171Z"
   },
   {
    "duration": 8,
    "start_time": "2022-12-24T00:32:27.249Z"
   },
   {
    "duration": 8,
    "start_time": "2022-12-24T00:32:27.259Z"
   },
   {
    "duration": 7,
    "start_time": "2022-12-24T00:32:27.268Z"
   },
   {
    "duration": 41,
    "start_time": "2022-12-24T00:32:27.277Z"
   },
   {
    "duration": 119,
    "start_time": "2022-12-24T00:32:27.320Z"
   },
   {
    "duration": 825,
    "start_time": "2022-12-24T00:33:17.402Z"
   },
   {
    "duration": 5330,
    "start_time": "2022-12-24T00:33:21.032Z"
   },
   {
    "duration": 10,
    "start_time": "2022-12-24T00:33:32.624Z"
   },
   {
    "duration": 3,
    "start_time": "2022-12-24T00:37:29.800Z"
   },
   {
    "duration": 3,
    "start_time": "2022-12-24T00:37:34.108Z"
   },
   {
    "duration": 297,
    "start_time": "2022-12-24T00:37:57.864Z"
   },
   {
    "duration": 5,
    "start_time": "2022-12-24T00:39:58.951Z"
   },
   {
    "duration": 802,
    "start_time": "2022-12-24T00:44:43.472Z"
   },
   {
    "duration": 5653,
    "start_time": "2022-12-24T00:44:48.077Z"
   },
   {
    "duration": 4,
    "start_time": "2022-12-24T00:44:53.733Z"
   },
   {
    "duration": 5,
    "start_time": "2022-12-24T00:46:35.511Z"
   },
   {
    "duration": 40,
    "start_time": "2022-12-24T00:46:36.219Z"
   },
   {
    "duration": 46,
    "start_time": "2022-12-24T00:46:37.455Z"
   },
   {
    "duration": 10,
    "start_time": "2022-12-24T00:46:48.675Z"
   },
   {
    "duration": 154,
    "start_time": "2022-12-24T00:47:20.922Z"
   },
   {
    "duration": 146,
    "start_time": "2022-12-24T00:47:21.789Z"
   },
   {
    "duration": 1352,
    "start_time": "2022-12-24T00:49:19.157Z"
   },
   {
    "duration": 5,
    "start_time": "2022-12-24T00:49:20.511Z"
   },
   {
    "duration": 538,
    "start_time": "2022-12-24T00:49:20.518Z"
   },
   {
    "duration": 419,
    "start_time": "2022-12-24T00:49:21.059Z"
   },
   {
    "duration": 127,
    "start_time": "2022-12-24T00:49:21.480Z"
   },
   {
    "duration": 8,
    "start_time": "2022-12-24T00:49:21.608Z"
   },
   {
    "duration": 6,
    "start_time": "2022-12-24T00:49:21.618Z"
   },
   {
    "duration": 10,
    "start_time": "2022-12-24T00:49:21.626Z"
   },
   {
    "duration": 4,
    "start_time": "2022-12-24T00:49:21.639Z"
   },
   {
    "duration": 9,
    "start_time": "2022-12-24T00:49:21.646Z"
   },
   {
    "duration": 13,
    "start_time": "2022-12-24T00:49:21.656Z"
   },
   {
    "duration": 13,
    "start_time": "2022-12-24T00:49:21.671Z"
   },
   {
    "duration": 31,
    "start_time": "2022-12-24T00:49:21.685Z"
   },
   {
    "duration": 4,
    "start_time": "2022-12-24T00:49:21.717Z"
   },
   {
    "duration": 14,
    "start_time": "2022-12-24T00:49:21.723Z"
   },
   {
    "duration": 7,
    "start_time": "2022-12-24T00:49:21.739Z"
   },
   {
    "duration": 7,
    "start_time": "2022-12-24T00:49:21.748Z"
   },
   {
    "duration": 66,
    "start_time": "2022-12-24T00:49:21.757Z"
   },
   {
    "duration": 45,
    "start_time": "2022-12-24T00:49:21.825Z"
   },
   {
    "duration": 185,
    "start_time": "2022-12-24T00:49:21.872Z"
   },
   {
    "duration": 173,
    "start_time": "2022-12-24T00:49:22.060Z"
   },
   {
    "duration": 4,
    "start_time": "2022-12-24T00:49:22.236Z"
   },
   {
    "duration": 6,
    "start_time": "2022-12-24T00:49:22.242Z"
   },
   {
    "duration": 2917,
    "start_time": "2022-12-24T00:49:22.250Z"
   },
   {
    "duration": 450,
    "start_time": "2022-12-24T00:49:25.169Z"
   },
   {
    "duration": 142,
    "start_time": "2022-12-24T00:49:25.620Z"
   },
   {
    "duration": 114,
    "start_time": "2022-12-24T00:49:25.765Z"
   },
   {
    "duration": 4,
    "start_time": "2022-12-24T00:49:25.882Z"
   },
   {
    "duration": 1333,
    "start_time": "2022-12-24T00:49:25.887Z"
   },
   {
    "duration": 3,
    "start_time": "2022-12-24T00:49:27.222Z"
   },
   {
    "duration": 1197,
    "start_time": "2022-12-24T00:49:27.227Z"
   },
   {
    "duration": 3,
    "start_time": "2022-12-24T00:49:28.426Z"
   },
   {
    "duration": 6,
    "start_time": "2022-12-24T00:49:28.432Z"
   },
   {
    "duration": 6,
    "start_time": "2022-12-24T00:49:28.440Z"
   },
   {
    "duration": 16,
    "start_time": "2022-12-24T00:49:28.447Z"
   },
   {
    "duration": 8,
    "start_time": "2022-12-24T00:49:28.465Z"
   },
   {
    "duration": 941,
    "start_time": "2022-12-24T00:49:28.474Z"
   },
   {
    "duration": 1800,
    "start_time": "2022-12-24T00:49:29.418Z"
   },
   {
    "duration": 8,
    "start_time": "2022-12-24T00:49:31.225Z"
   },
   {
    "duration": 572979,
    "start_time": "2022-12-24T00:49:31.315Z"
   },
   {
    "duration": 1293135,
    "start_time": "2022-12-24T00:59:04.295Z"
   },
   {
    "duration": 4,
    "start_time": "2022-12-24T01:20:37.432Z"
   },
   {
    "duration": 22334,
    "start_time": "2022-12-24T01:20:37.437Z"
   },
   {
    "duration": 48594,
    "start_time": "2022-12-24T01:20:59.773Z"
   },
   {
    "duration": 3,
    "start_time": "2022-12-24T01:21:48.368Z"
   },
   {
    "duration": 10,
    "start_time": "2022-12-24T01:21:48.373Z"
   },
   {
    "duration": 12,
    "start_time": "2022-12-24T01:21:48.384Z"
   },
   {
    "duration": 777,
    "start_time": "2022-12-24T01:21:48.398Z"
   },
   {
    "duration": 5268,
    "start_time": "2022-12-24T01:21:49.177Z"
   },
   {
    "duration": 3,
    "start_time": "2022-12-24T01:21:54.447Z"
   },
   {
    "duration": 11,
    "start_time": "2022-12-24T01:21:54.452Z"
   },
   {
    "duration": 6,
    "start_time": "2022-12-24T01:21:54.464Z"
   },
   {
    "duration": 5,
    "start_time": "2022-12-24T01:21:54.471Z"
   },
   {
    "duration": 706,
    "start_time": "2022-12-24T01:26:12.684Z"
   },
   {
    "duration": 4421,
    "start_time": "2022-12-24T01:26:18.732Z"
   },
   {
    "duration": 3,
    "start_time": "2022-12-24T01:26:23.155Z"
   }
  ],
  "kernelspec": {
   "display_name": "Python 3 (ipykernel)",
   "language": "python",
   "name": "python3"
  },
  "language_info": {
   "codemirror_mode": {
    "name": "ipython",
    "version": 3
   },
   "file_extension": ".py",
   "mimetype": "text/x-python",
   "name": "python",
   "nbconvert_exporter": "python",
   "pygments_lexer": "ipython3",
   "version": "3.10.9"
  },
  "toc": {
   "base_numbering": 1,
   "nav_menu": {},
   "number_sections": true,
   "sideBar": true,
   "skip_h1_title": true,
   "title_cell": "Содержание",
   "title_sidebar": "Contents",
   "toc_cell": true,
   "toc_position": {
    "height": "calc(100% - 180px)",
    "left": "10px",
    "top": "150px",
    "width": "165px"
   },
   "toc_section_display": true,
   "toc_window_display": true
  }
 },
 "nbformat": 4,
 "nbformat_minor": 2
}
