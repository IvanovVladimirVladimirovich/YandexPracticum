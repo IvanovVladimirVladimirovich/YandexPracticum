{
 "cells": [
  {
   "cell_type": "markdown",
   "metadata": {},
   "source": [
    "# Исследование объявлений о продаже квартир\n",
    "\n",
    "В вашем распоряжении данные сервиса Яндекс.Недвижимость — архив объявлений о продаже квартир в Санкт-Петербурге и соседних населённых пунктов за несколько лет. Нужно научиться определять рыночную стоимость объектов недвижимости. Ваша задача — установить параметры. Это позволит построить автоматизированную систему: она отследит аномалии и мошенническую деятельность. \n",
    "\n",
    "По каждой квартире на продажу доступны два вида данных. Первые вписаны пользователем, вторые — получены автоматически на основе картографических данных. Например, расстояние до центра, аэропорта, ближайшего парка и водоёма. "
   ]
  },
  {
   "cell_type": "markdown",
   "metadata": {},
   "source": [
    "### Откройте файл с данными и изучите общую информацию. "
   ]
  },
  {
   "cell_type": "code",
   "execution_count": 1,
   "metadata": {},
   "outputs": [],
   "source": [
    "import pandas as pd"
   ]
  },
  {
   "cell_type": "code",
   "execution_count": 2,
   "metadata": {
    "scrolled": true
   },
   "outputs": [],
   "source": [
    "df = pd.read_csv(\"/datasets/real_estate_data.csv\", sep =\"\\t\")"
   ]
  },
  {
   "cell_type": "code",
   "execution_count": 3,
   "metadata": {
    "scrolled": true
   },
   "outputs": [
    {
     "data": {
      "text/html": [
       "<div>\n",
       "<style scoped>\n",
       "    .dataframe tbody tr th:only-of-type {\n",
       "        vertical-align: middle;\n",
       "    }\n",
       "\n",
       "    .dataframe tbody tr th {\n",
       "        vertical-align: top;\n",
       "    }\n",
       "\n",
       "    .dataframe thead th {\n",
       "        text-align: right;\n",
       "    }\n",
       "</style>\n",
       "<table border=\"1\" class=\"dataframe\">\n",
       "  <thead>\n",
       "    <tr style=\"text-align: right;\">\n",
       "      <th></th>\n",
       "      <th>total_images</th>\n",
       "      <th>last_price</th>\n",
       "      <th>total_area</th>\n",
       "      <th>first_day_exposition</th>\n",
       "      <th>rooms</th>\n",
       "      <th>ceiling_height</th>\n",
       "      <th>floors_total</th>\n",
       "      <th>living_area</th>\n",
       "      <th>floor</th>\n",
       "      <th>is_apartment</th>\n",
       "      <th>...</th>\n",
       "      <th>kitchen_area</th>\n",
       "      <th>balcony</th>\n",
       "      <th>locality_name</th>\n",
       "      <th>airports_nearest</th>\n",
       "      <th>cityCenters_nearest</th>\n",
       "      <th>parks_around3000</th>\n",
       "      <th>parks_nearest</th>\n",
       "      <th>ponds_around3000</th>\n",
       "      <th>ponds_nearest</th>\n",
       "      <th>days_exposition</th>\n",
       "    </tr>\n",
       "  </thead>\n",
       "  <tbody>\n",
       "    <tr>\n",
       "      <th>0</th>\n",
       "      <td>20</td>\n",
       "      <td>13000000.0</td>\n",
       "      <td>108.00</td>\n",
       "      <td>2019-03-07T00:00:00</td>\n",
       "      <td>3</td>\n",
       "      <td>2.70</td>\n",
       "      <td>16.0</td>\n",
       "      <td>51.00</td>\n",
       "      <td>8</td>\n",
       "      <td>NaN</td>\n",
       "      <td>...</td>\n",
       "      <td>25.00</td>\n",
       "      <td>NaN</td>\n",
       "      <td>Санкт-Петербург</td>\n",
       "      <td>18863.0</td>\n",
       "      <td>16028.0</td>\n",
       "      <td>1.0</td>\n",
       "      <td>482.0</td>\n",
       "      <td>2.0</td>\n",
       "      <td>755.0</td>\n",
       "      <td>NaN</td>\n",
       "    </tr>\n",
       "    <tr>\n",
       "      <th>1</th>\n",
       "      <td>7</td>\n",
       "      <td>3350000.0</td>\n",
       "      <td>40.40</td>\n",
       "      <td>2018-12-04T00:00:00</td>\n",
       "      <td>1</td>\n",
       "      <td>NaN</td>\n",
       "      <td>11.0</td>\n",
       "      <td>18.60</td>\n",
       "      <td>1</td>\n",
       "      <td>NaN</td>\n",
       "      <td>...</td>\n",
       "      <td>11.00</td>\n",
       "      <td>2.0</td>\n",
       "      <td>посёлок Шушары</td>\n",
       "      <td>12817.0</td>\n",
       "      <td>18603.0</td>\n",
       "      <td>0.0</td>\n",
       "      <td>NaN</td>\n",
       "      <td>0.0</td>\n",
       "      <td>NaN</td>\n",
       "      <td>81.0</td>\n",
       "    </tr>\n",
       "    <tr>\n",
       "      <th>2</th>\n",
       "      <td>10</td>\n",
       "      <td>5196000.0</td>\n",
       "      <td>56.00</td>\n",
       "      <td>2015-08-20T00:00:00</td>\n",
       "      <td>2</td>\n",
       "      <td>NaN</td>\n",
       "      <td>5.0</td>\n",
       "      <td>34.30</td>\n",
       "      <td>4</td>\n",
       "      <td>NaN</td>\n",
       "      <td>...</td>\n",
       "      <td>8.30</td>\n",
       "      <td>0.0</td>\n",
       "      <td>Санкт-Петербург</td>\n",
       "      <td>21741.0</td>\n",
       "      <td>13933.0</td>\n",
       "      <td>1.0</td>\n",
       "      <td>90.0</td>\n",
       "      <td>2.0</td>\n",
       "      <td>574.0</td>\n",
       "      <td>558.0</td>\n",
       "    </tr>\n",
       "    <tr>\n",
       "      <th>3</th>\n",
       "      <td>0</td>\n",
       "      <td>64900000.0</td>\n",
       "      <td>159.00</td>\n",
       "      <td>2015-07-24T00:00:00</td>\n",
       "      <td>3</td>\n",
       "      <td>NaN</td>\n",
       "      <td>14.0</td>\n",
       "      <td>NaN</td>\n",
       "      <td>9</td>\n",
       "      <td>NaN</td>\n",
       "      <td>...</td>\n",
       "      <td>NaN</td>\n",
       "      <td>0.0</td>\n",
       "      <td>Санкт-Петербург</td>\n",
       "      <td>28098.0</td>\n",
       "      <td>6800.0</td>\n",
       "      <td>2.0</td>\n",
       "      <td>84.0</td>\n",
       "      <td>3.0</td>\n",
       "      <td>234.0</td>\n",
       "      <td>424.0</td>\n",
       "    </tr>\n",
       "    <tr>\n",
       "      <th>4</th>\n",
       "      <td>2</td>\n",
       "      <td>10000000.0</td>\n",
       "      <td>100.00</td>\n",
       "      <td>2018-06-19T00:00:00</td>\n",
       "      <td>2</td>\n",
       "      <td>3.03</td>\n",
       "      <td>14.0</td>\n",
       "      <td>32.00</td>\n",
       "      <td>13</td>\n",
       "      <td>NaN</td>\n",
       "      <td>...</td>\n",
       "      <td>41.00</td>\n",
       "      <td>NaN</td>\n",
       "      <td>Санкт-Петербург</td>\n",
       "      <td>31856.0</td>\n",
       "      <td>8098.0</td>\n",
       "      <td>2.0</td>\n",
       "      <td>112.0</td>\n",
       "      <td>1.0</td>\n",
       "      <td>48.0</td>\n",
       "      <td>121.0</td>\n",
       "    </tr>\n",
       "    <tr>\n",
       "      <th>5</th>\n",
       "      <td>10</td>\n",
       "      <td>2890000.0</td>\n",
       "      <td>30.40</td>\n",
       "      <td>2018-09-10T00:00:00</td>\n",
       "      <td>1</td>\n",
       "      <td>NaN</td>\n",
       "      <td>12.0</td>\n",
       "      <td>14.40</td>\n",
       "      <td>5</td>\n",
       "      <td>NaN</td>\n",
       "      <td>...</td>\n",
       "      <td>9.10</td>\n",
       "      <td>NaN</td>\n",
       "      <td>городской посёлок Янино-1</td>\n",
       "      <td>NaN</td>\n",
       "      <td>NaN</td>\n",
       "      <td>NaN</td>\n",
       "      <td>NaN</td>\n",
       "      <td>NaN</td>\n",
       "      <td>NaN</td>\n",
       "      <td>55.0</td>\n",
       "    </tr>\n",
       "    <tr>\n",
       "      <th>6</th>\n",
       "      <td>6</td>\n",
       "      <td>3700000.0</td>\n",
       "      <td>37.30</td>\n",
       "      <td>2017-11-02T00:00:00</td>\n",
       "      <td>1</td>\n",
       "      <td>NaN</td>\n",
       "      <td>26.0</td>\n",
       "      <td>10.60</td>\n",
       "      <td>6</td>\n",
       "      <td>NaN</td>\n",
       "      <td>...</td>\n",
       "      <td>14.40</td>\n",
       "      <td>1.0</td>\n",
       "      <td>посёлок Парголово</td>\n",
       "      <td>52996.0</td>\n",
       "      <td>19143.0</td>\n",
       "      <td>0.0</td>\n",
       "      <td>NaN</td>\n",
       "      <td>0.0</td>\n",
       "      <td>NaN</td>\n",
       "      <td>155.0</td>\n",
       "    </tr>\n",
       "    <tr>\n",
       "      <th>7</th>\n",
       "      <td>5</td>\n",
       "      <td>7915000.0</td>\n",
       "      <td>71.60</td>\n",
       "      <td>2019-04-18T00:00:00</td>\n",
       "      <td>2</td>\n",
       "      <td>NaN</td>\n",
       "      <td>24.0</td>\n",
       "      <td>NaN</td>\n",
       "      <td>22</td>\n",
       "      <td>NaN</td>\n",
       "      <td>...</td>\n",
       "      <td>18.90</td>\n",
       "      <td>2.0</td>\n",
       "      <td>Санкт-Петербург</td>\n",
       "      <td>23982.0</td>\n",
       "      <td>11634.0</td>\n",
       "      <td>0.0</td>\n",
       "      <td>NaN</td>\n",
       "      <td>0.0</td>\n",
       "      <td>NaN</td>\n",
       "      <td>NaN</td>\n",
       "    </tr>\n",
       "    <tr>\n",
       "      <th>8</th>\n",
       "      <td>20</td>\n",
       "      <td>2900000.0</td>\n",
       "      <td>33.16</td>\n",
       "      <td>2018-05-23T00:00:00</td>\n",
       "      <td>1</td>\n",
       "      <td>NaN</td>\n",
       "      <td>27.0</td>\n",
       "      <td>15.43</td>\n",
       "      <td>26</td>\n",
       "      <td>NaN</td>\n",
       "      <td>...</td>\n",
       "      <td>8.81</td>\n",
       "      <td>NaN</td>\n",
       "      <td>посёлок Мурино</td>\n",
       "      <td>NaN</td>\n",
       "      <td>NaN</td>\n",
       "      <td>NaN</td>\n",
       "      <td>NaN</td>\n",
       "      <td>NaN</td>\n",
       "      <td>NaN</td>\n",
       "      <td>189.0</td>\n",
       "    </tr>\n",
       "    <tr>\n",
       "      <th>9</th>\n",
       "      <td>18</td>\n",
       "      <td>5400000.0</td>\n",
       "      <td>61.00</td>\n",
       "      <td>2017-02-26T00:00:00</td>\n",
       "      <td>3</td>\n",
       "      <td>2.50</td>\n",
       "      <td>9.0</td>\n",
       "      <td>43.60</td>\n",
       "      <td>7</td>\n",
       "      <td>NaN</td>\n",
       "      <td>...</td>\n",
       "      <td>6.50</td>\n",
       "      <td>2.0</td>\n",
       "      <td>Санкт-Петербург</td>\n",
       "      <td>50898.0</td>\n",
       "      <td>15008.0</td>\n",
       "      <td>0.0</td>\n",
       "      <td>NaN</td>\n",
       "      <td>0.0</td>\n",
       "      <td>NaN</td>\n",
       "      <td>289.0</td>\n",
       "    </tr>\n",
       "  </tbody>\n",
       "</table>\n",
       "<p>10 rows × 22 columns</p>\n",
       "</div>"
      ],
      "text/plain": [
       "   total_images  last_price  total_area first_day_exposition  rooms  \\\n",
       "0            20  13000000.0      108.00  2019-03-07T00:00:00      3   \n",
       "1             7   3350000.0       40.40  2018-12-04T00:00:00      1   \n",
       "2            10   5196000.0       56.00  2015-08-20T00:00:00      2   \n",
       "3             0  64900000.0      159.00  2015-07-24T00:00:00      3   \n",
       "4             2  10000000.0      100.00  2018-06-19T00:00:00      2   \n",
       "5            10   2890000.0       30.40  2018-09-10T00:00:00      1   \n",
       "6             6   3700000.0       37.30  2017-11-02T00:00:00      1   \n",
       "7             5   7915000.0       71.60  2019-04-18T00:00:00      2   \n",
       "8            20   2900000.0       33.16  2018-05-23T00:00:00      1   \n",
       "9            18   5400000.0       61.00  2017-02-26T00:00:00      3   \n",
       "\n",
       "   ceiling_height  floors_total  living_area  floor is_apartment  ...  \\\n",
       "0            2.70          16.0        51.00      8          NaN  ...   \n",
       "1             NaN          11.0        18.60      1          NaN  ...   \n",
       "2             NaN           5.0        34.30      4          NaN  ...   \n",
       "3             NaN          14.0          NaN      9          NaN  ...   \n",
       "4            3.03          14.0        32.00     13          NaN  ...   \n",
       "5             NaN          12.0        14.40      5          NaN  ...   \n",
       "6             NaN          26.0        10.60      6          NaN  ...   \n",
       "7             NaN          24.0          NaN     22          NaN  ...   \n",
       "8             NaN          27.0        15.43     26          NaN  ...   \n",
       "9            2.50           9.0        43.60      7          NaN  ...   \n",
       "\n",
       "   kitchen_area  balcony              locality_name  airports_nearest  \\\n",
       "0         25.00      NaN            Санкт-Петербург           18863.0   \n",
       "1         11.00      2.0             посёлок Шушары           12817.0   \n",
       "2          8.30      0.0            Санкт-Петербург           21741.0   \n",
       "3           NaN      0.0            Санкт-Петербург           28098.0   \n",
       "4         41.00      NaN            Санкт-Петербург           31856.0   \n",
       "5          9.10      NaN  городской посёлок Янино-1               NaN   \n",
       "6         14.40      1.0          посёлок Парголово           52996.0   \n",
       "7         18.90      2.0            Санкт-Петербург           23982.0   \n",
       "8          8.81      NaN             посёлок Мурино               NaN   \n",
       "9          6.50      2.0            Санкт-Петербург           50898.0   \n",
       "\n",
       "  cityCenters_nearest  parks_around3000  parks_nearest  ponds_around3000  \\\n",
       "0             16028.0               1.0          482.0               2.0   \n",
       "1             18603.0               0.0            NaN               0.0   \n",
       "2             13933.0               1.0           90.0               2.0   \n",
       "3              6800.0               2.0           84.0               3.0   \n",
       "4              8098.0               2.0          112.0               1.0   \n",
       "5                 NaN               NaN            NaN               NaN   \n",
       "6             19143.0               0.0            NaN               0.0   \n",
       "7             11634.0               0.0            NaN               0.0   \n",
       "8                 NaN               NaN            NaN               NaN   \n",
       "9             15008.0               0.0            NaN               0.0   \n",
       "\n",
       "   ponds_nearest  days_exposition  \n",
       "0          755.0              NaN  \n",
       "1            NaN             81.0  \n",
       "2          574.0            558.0  \n",
       "3          234.0            424.0  \n",
       "4           48.0            121.0  \n",
       "5            NaN             55.0  \n",
       "6            NaN            155.0  \n",
       "7            NaN              NaN  \n",
       "8            NaN            189.0  \n",
       "9            NaN            289.0  \n",
       "\n",
       "[10 rows x 22 columns]"
      ]
     },
     "metadata": {},
     "output_type": "display_data"
    }
   ],
   "source": [
    "display(df.head(10))"
   ]
  },
  {
   "cell_type": "code",
   "execution_count": 4,
   "metadata": {
    "scrolled": true
   },
   "outputs": [
    {
     "name": "stdout",
     "output_type": "stream",
     "text": [
      "<class 'pandas.core.frame.DataFrame'>\n",
      "RangeIndex: 23699 entries, 0 to 23698\n",
      "Data columns (total 22 columns):\n",
      " #   Column                Non-Null Count  Dtype  \n",
      "---  ------                --------------  -----  \n",
      " 0   total_images          23699 non-null  int64  \n",
      " 1   last_price            23699 non-null  float64\n",
      " 2   total_area            23699 non-null  float64\n",
      " 3   first_day_exposition  23699 non-null  object \n",
      " 4   rooms                 23699 non-null  int64  \n",
      " 5   ceiling_height        14504 non-null  float64\n",
      " 6   floors_total          23613 non-null  float64\n",
      " 7   living_area           21796 non-null  float64\n",
      " 8   floor                 23699 non-null  int64  \n",
      " 9   is_apartment          2775 non-null   object \n",
      " 10  studio                23699 non-null  bool   \n",
      " 11  open_plan             23699 non-null  bool   \n",
      " 12  kitchen_area          21421 non-null  float64\n",
      " 13  balcony               12180 non-null  float64\n",
      " 14  locality_name         23650 non-null  object \n",
      " 15  airports_nearest      18157 non-null  float64\n",
      " 16  cityCenters_nearest   18180 non-null  float64\n",
      " 17  parks_around3000      18181 non-null  float64\n",
      " 18  parks_nearest         8079 non-null   float64\n",
      " 19  ponds_around3000      18181 non-null  float64\n",
      " 20  ponds_nearest         9110 non-null   float64\n",
      " 21  days_exposition       20518 non-null  float64\n",
      "dtypes: bool(2), float64(14), int64(3), object(3)\n",
      "memory usage: 3.7+ MB\n"
     ]
    }
   ],
   "source": [
    "df.info()"
   ]
  },
  {
   "cell_type": "code",
   "execution_count": 5,
   "metadata": {
    "scrolled": false
   },
   "outputs": [
    {
     "data": {
      "text/plain": [
       "array([[<AxesSubplot:title={'center':'total_images'}>,\n",
       "        <AxesSubplot:title={'center':'last_price'}>,\n",
       "        <AxesSubplot:title={'center':'total_area'}>,\n",
       "        <AxesSubplot:title={'center':'rooms'}>],\n",
       "       [<AxesSubplot:title={'center':'ceiling_height'}>,\n",
       "        <AxesSubplot:title={'center':'floors_total'}>,\n",
       "        <AxesSubplot:title={'center':'living_area'}>,\n",
       "        <AxesSubplot:title={'center':'floor'}>],\n",
       "       [<AxesSubplot:title={'center':'kitchen_area'}>,\n",
       "        <AxesSubplot:title={'center':'balcony'}>,\n",
       "        <AxesSubplot:title={'center':'airports_nearest'}>,\n",
       "        <AxesSubplot:title={'center':'cityCenters_nearest'}>],\n",
       "       [<AxesSubplot:title={'center':'parks_around3000'}>,\n",
       "        <AxesSubplot:title={'center':'parks_nearest'}>,\n",
       "        <AxesSubplot:title={'center':'ponds_around3000'}>,\n",
       "        <AxesSubplot:title={'center':'ponds_nearest'}>],\n",
       "       [<AxesSubplot:title={'center':'days_exposition'}>, <AxesSubplot:>,\n",
       "        <AxesSubplot:>, <AxesSubplot:>]], dtype=object)"
      ]
     },
     "execution_count": 5,
     "metadata": {},
     "output_type": "execute_result"
    },
    {
     "data": {
      "image/png": "[encoded data removed]",
      "text/plain": [
       "<Figure size 1080x1440 with 20 Axes>"
      ]
     },
     "metadata": {
      "needs_background": "light"
     },
     "output_type": "display_data"
    }
   ],
   "source": [
    "df.hist(figsize=(15,20))"
   ]
  },
  {
   "cell_type": "markdown",
   "metadata": {},
   "source": [
    "Комментарий: есть большое количество пропуском и неверный формат столбцов."
   ]
  },
  {
   "cell_type": "markdown",
   "metadata": {},
   "source": [
    "### Предобработка данных"
   ]
  },
  {
   "cell_type": "code",
   "execution_count": 6,
   "metadata": {},
   "outputs": [
    {
     "name": "stdout",
     "output_type": "stream",
     "text": [
      "total_images                0\n",
      "last_price                  0\n",
      "total_area                  0\n",
      "first_day_exposition        0\n",
      "rooms                       0\n",
      "ceiling_height           9195\n",
      "floors_total               86\n",
      "living_area              1903\n",
      "floor                       0\n",
      "is_apartment            20924\n",
      "studio                      0\n",
      "open_plan                   0\n",
      "kitchen_area             2278\n",
      "balcony                 11519\n",
      "locality_name              49\n",
      "airports_nearest         5542\n",
      "cityCenters_nearest      5519\n",
      "parks_around3000         5518\n",
      "parks_nearest           15620\n",
      "ponds_around3000         5518\n",
      "ponds_nearest           14589\n",
      "days_exposition          3181\n",
      "dtype: int64\n"
     ]
    }
   ],
   "source": [
    "print(df.isna().sum())"
   ]
  },
  {
   "cell_type": "code",
   "execution_count": 7,
   "metadata": {
    "scrolled": true
   },
   "outputs": [
    {
     "name": "stdout",
     "output_type": "stream",
     "text": [
      "0\n"
     ]
    }
   ],
   "source": [
    "print(df.duplicated().sum())"
   ]
  },
  {
   "cell_type": "markdown",
   "metadata": {},
   "source": [
    "# ceiling height"
   ]
  },
  {
   "cell_type": "code",
   "execution_count": 8,
   "metadata": {},
   "outputs": [
    {
     "data": {
      "text/plain": [
       "<AxesSubplot:>"
      ]
     },
     "execution_count": 8,
     "metadata": {},
     "output_type": "execute_result"
    },
    {
     "data": {
      "image/png": "[encoded data removed]",
      "text/plain": [
       "<Figure size 432x288 with 1 Axes>"
      ]
     },
     "metadata": {
      "needs_background": "light"
     },
     "output_type": "display_data"
    }
   ],
   "source": [
    "df[\"ceiling_height\"].plot()"
   ]
  },
  {
   "cell_type": "markdown",
   "metadata": {},
   "source": [
    "Вывод:"
   ]
  },
  {
   "cell_type": "code",
   "execution_count": 9,
   "metadata": {},
   "outputs": [],
   "source": [
    "df.loc[(df[\"ceiling_height\"] > 5) | (df[\"ceiling_height\"] < 2.5),\"ceiling_height\"] = pd.NA #выбивающиеся результаты -> нан \n",
    "df[\"ceiling_height\"] = df[\"ceiling_height\"].fillna(df[\"ceiling_height\"].median()) #нан -> мадиана\n"
   ]
  },
  {
   "cell_type": "code",
   "execution_count": 10,
   "metadata": {},
   "outputs": [
    {
     "data": {
      "text/plain": [
       "<AxesSubplot:>"
      ]
     },
     "execution_count": 10,
     "metadata": {},
     "output_type": "execute_result"
    },
    {
     "data": {
      "image/png": "[encoded data removed]",
      "text/plain": [
       "<Figure size 432x288 with 1 Axes>"
      ]
     },
     "metadata": {
      "needs_background": "light"
     },
     "output_type": "display_data"
    }
   ],
   "source": [
    "df[\"ceiling_height\"].plot()"
   ]
  },
  {
   "cell_type": "markdown",
   "metadata": {},
   "source": [
    "# floors total; living area; kitchen area"
   ]
  },
  {
   "cell_type": "markdown",
   "metadata": {},
   "source": [
    "Пропуски данных сталбцов было принято заполнить из медианными значениями. В связи с тем, что данные по этим группам имеют много низких и много больших значений, которые бы испортили среднее значение. "
   ]
  },
  {
   "cell_type": "code",
   "execution_count": 11,
   "metadata": {},
   "outputs": [],
   "source": [
    "df[\"floors_total\"] = df[\"floors_total\"].fillna(df[\"floors_total\"].median()) #нан -> мадиана"
   ]
  },
  {
   "cell_type": "code",
   "execution_count": 12,
   "metadata": {},
   "outputs": [],
   "source": [
    "df[\"living_area\"] = df[\"living_area\"].fillna(df[\"living_area\"].median()) #нан -> мадиана"
   ]
  },
  {
   "cell_type": "code",
   "execution_count": 13,
   "metadata": {},
   "outputs": [],
   "source": [
    "df[\"kitchen_area\"] = df[\"kitchen_area\"].fillna(df[\"kitchen_area\"].median()) #нан -> мадиана"
   ]
  },
  {
   "cell_type": "markdown",
   "metadata": {},
   "source": [
    "# is apartment"
   ]
  },
  {
   "cell_type": "code",
   "execution_count": 14,
   "metadata": {},
   "outputs": [
    {
     "name": "stdout",
     "output_type": "stream",
     "text": [
      "[nan False True]\n"
     ]
    }
   ],
   "source": [
    "print(df[\"is_apartment\"].unique()) # проверка на другие значения"
   ]
  },
  {
   "cell_type": "code",
   "execution_count": 15,
   "metadata": {},
   "outputs": [],
   "source": [
    "df[\"kitchen_area\"] = df[\"kitchen_area\"].fillna(False) #нан -> False"
   ]
  },
  {
   "cell_type": "markdown",
   "metadata": {},
   "source": [
    "# balcony"
   ]
  },
  {
   "cell_type": "code",
   "execution_count": 16,
   "metadata": {},
   "outputs": [
    {
     "name": "stdout",
     "output_type": "stream",
     "text": [
      "[nan  2.  0.  1.  5.  4.  3.]\n"
     ]
    }
   ],
   "source": [
    "print(df[\"balcony\"].unique()) # проверка на другие значения"
   ]
  },
  {
   "cell_type": "code",
   "execution_count": 17,
   "metadata": {},
   "outputs": [],
   "source": [
    "df[\"balcony\"] = df[\"balcony\"].fillna(0.0) #нан -> 0"
   ]
  },
  {
   "cell_type": "code",
   "execution_count": 18,
   "metadata": {},
   "outputs": [],
   "source": [
    "df[\"balcony\"] = df[\"balcony\"].astype(int) #float -> int"
   ]
  },
  {
   "cell_type": "markdown",
   "metadata": {},
   "source": [
    "# locality type"
   ]
  },
  {
   "cell_type": "code",
   "execution_count": 19,
   "metadata": {},
   "outputs": [
    {
     "data": {
      "text/html": [
       "<div>\n",
       "<style scoped>\n",
       "    .dataframe tbody tr th:only-of-type {\n",
       "        vertical-align: middle;\n",
       "    }\n",
       "\n",
       "    .dataframe tbody tr th {\n",
       "        vertical-align: top;\n",
       "    }\n",
       "\n",
       "    .dataframe thead th {\n",
       "        text-align: right;\n",
       "    }\n",
       "</style>\n",
       "<table border=\"1\" class=\"dataframe\">\n",
       "  <thead>\n",
       "    <tr style=\"text-align: right;\">\n",
       "      <th></th>\n",
       "      <th>total_images</th>\n",
       "      <th>last_price</th>\n",
       "      <th>total_area</th>\n",
       "      <th>first_day_exposition</th>\n",
       "      <th>rooms</th>\n",
       "      <th>ceiling_height</th>\n",
       "      <th>floors_total</th>\n",
       "      <th>living_area</th>\n",
       "      <th>floor</th>\n",
       "      <th>is_apartment</th>\n",
       "      <th>...</th>\n",
       "      <th>kitchen_area</th>\n",
       "      <th>balcony</th>\n",
       "      <th>locality_name</th>\n",
       "      <th>airports_nearest</th>\n",
       "      <th>cityCenters_nearest</th>\n",
       "      <th>parks_around3000</th>\n",
       "      <th>parks_nearest</th>\n",
       "      <th>ponds_around3000</th>\n",
       "      <th>ponds_nearest</th>\n",
       "      <th>days_exposition</th>\n",
       "    </tr>\n",
       "  </thead>\n",
       "  <tbody>\n",
       "    <tr>\n",
       "      <th>1097</th>\n",
       "      <td>3</td>\n",
       "      <td>8600000.0</td>\n",
       "      <td>81.7</td>\n",
       "      <td>2016-04-15T00:00:00</td>\n",
       "      <td>3</td>\n",
       "      <td>3.55</td>\n",
       "      <td>5.0</td>\n",
       "      <td>50.80</td>\n",
       "      <td>2</td>\n",
       "      <td>NaN</td>\n",
       "      <td>...</td>\n",
       "      <td>8.80</td>\n",
       "      <td>0</td>\n",
       "      <td>NaN</td>\n",
       "      <td>23478.0</td>\n",
       "      <td>4258.0</td>\n",
       "      <td>0.0</td>\n",
       "      <td>NaN</td>\n",
       "      <td>0.0</td>\n",
       "      <td>NaN</td>\n",
       "      <td>147.0</td>\n",
       "    </tr>\n",
       "    <tr>\n",
       "      <th>2033</th>\n",
       "      <td>6</td>\n",
       "      <td>5398000.0</td>\n",
       "      <td>80.0</td>\n",
       "      <td>2017-05-30T00:00:00</td>\n",
       "      <td>3</td>\n",
       "      <td>2.65</td>\n",
       "      <td>4.0</td>\n",
       "      <td>42.60</td>\n",
       "      <td>2</td>\n",
       "      <td>NaN</td>\n",
       "      <td>...</td>\n",
       "      <td>18.60</td>\n",
       "      <td>0</td>\n",
       "      <td>NaN</td>\n",
       "      <td>NaN</td>\n",
       "      <td>NaN</td>\n",
       "      <td>NaN</td>\n",
       "      <td>NaN</td>\n",
       "      <td>NaN</td>\n",
       "      <td>NaN</td>\n",
       "      <td>34.0</td>\n",
       "    </tr>\n",
       "    <tr>\n",
       "      <th>2603</th>\n",
       "      <td>20</td>\n",
       "      <td>3351765.0</td>\n",
       "      <td>42.7</td>\n",
       "      <td>2015-09-20T00:00:00</td>\n",
       "      <td>1</td>\n",
       "      <td>2.65</td>\n",
       "      <td>24.0</td>\n",
       "      <td>15.60</td>\n",
       "      <td>3</td>\n",
       "      <td>NaN</td>\n",
       "      <td>...</td>\n",
       "      <td>10.70</td>\n",
       "      <td>0</td>\n",
       "      <td>NaN</td>\n",
       "      <td>22041.0</td>\n",
       "      <td>17369.0</td>\n",
       "      <td>0.0</td>\n",
       "      <td>NaN</td>\n",
       "      <td>1.0</td>\n",
       "      <td>374.0</td>\n",
       "      <td>276.0</td>\n",
       "    </tr>\n",
       "    <tr>\n",
       "      <th>2632</th>\n",
       "      <td>2</td>\n",
       "      <td>5130593.0</td>\n",
       "      <td>62.4</td>\n",
       "      <td>2015-10-11T00:00:00</td>\n",
       "      <td>2</td>\n",
       "      <td>2.65</td>\n",
       "      <td>24.0</td>\n",
       "      <td>33.10</td>\n",
       "      <td>21</td>\n",
       "      <td>NaN</td>\n",
       "      <td>...</td>\n",
       "      <td>8.20</td>\n",
       "      <td>0</td>\n",
       "      <td>NaN</td>\n",
       "      <td>22041.0</td>\n",
       "      <td>17369.0</td>\n",
       "      <td>0.0</td>\n",
       "      <td>NaN</td>\n",
       "      <td>1.0</td>\n",
       "      <td>374.0</td>\n",
       "      <td>256.0</td>\n",
       "    </tr>\n",
       "    <tr>\n",
       "      <th>3574</th>\n",
       "      <td>10</td>\n",
       "      <td>4200000.0</td>\n",
       "      <td>46.5</td>\n",
       "      <td>2016-05-28T00:00:00</td>\n",
       "      <td>2</td>\n",
       "      <td>2.65</td>\n",
       "      <td>5.0</td>\n",
       "      <td>30.80</td>\n",
       "      <td>5</td>\n",
       "      <td>NaN</td>\n",
       "      <td>...</td>\n",
       "      <td>6.50</td>\n",
       "      <td>0</td>\n",
       "      <td>NaN</td>\n",
       "      <td>27419.0</td>\n",
       "      <td>8127.0</td>\n",
       "      <td>0.0</td>\n",
       "      <td>NaN</td>\n",
       "      <td>1.0</td>\n",
       "      <td>603.0</td>\n",
       "      <td>45.0</td>\n",
       "    </tr>\n",
       "    <tr>\n",
       "      <th>4151</th>\n",
       "      <td>17</td>\n",
       "      <td>17600000.0</td>\n",
       "      <td>89.5</td>\n",
       "      <td>2014-12-09T00:00:00</td>\n",
       "      <td>2</td>\n",
       "      <td>3.00</td>\n",
       "      <td>8.0</td>\n",
       "      <td>39.62</td>\n",
       "      <td>7</td>\n",
       "      <td>NaN</td>\n",
       "      <td>...</td>\n",
       "      <td>13.38</td>\n",
       "      <td>0</td>\n",
       "      <td>NaN</td>\n",
       "      <td>25054.0</td>\n",
       "      <td>3902.0</td>\n",
       "      <td>1.0</td>\n",
       "      <td>485.0</td>\n",
       "      <td>3.0</td>\n",
       "      <td>722.0</td>\n",
       "      <td>869.0</td>\n",
       "    </tr>\n",
       "    <tr>\n",
       "      <th>4189</th>\n",
       "      <td>7</td>\n",
       "      <td>9200000.0</td>\n",
       "      <td>80.0</td>\n",
       "      <td>2015-12-10T00:00:00</td>\n",
       "      <td>3</td>\n",
       "      <td>4.00</td>\n",
       "      <td>4.0</td>\n",
       "      <td>52.30</td>\n",
       "      <td>3</td>\n",
       "      <td>False</td>\n",
       "      <td>...</td>\n",
       "      <td>10.40</td>\n",
       "      <td>0</td>\n",
       "      <td>NaN</td>\n",
       "      <td>21774.0</td>\n",
       "      <td>3039.0</td>\n",
       "      <td>1.0</td>\n",
       "      <td>690.0</td>\n",
       "      <td>1.0</td>\n",
       "      <td>953.0</td>\n",
       "      <td>223.0</td>\n",
       "    </tr>\n",
       "    <tr>\n",
       "      <th>4670</th>\n",
       "      <td>1</td>\n",
       "      <td>5500000.0</td>\n",
       "      <td>83.0</td>\n",
       "      <td>2015-08-14T00:00:00</td>\n",
       "      <td>3</td>\n",
       "      <td>2.65</td>\n",
       "      <td>7.0</td>\n",
       "      <td>30.00</td>\n",
       "      <td>6</td>\n",
       "      <td>NaN</td>\n",
       "      <td>...</td>\n",
       "      <td>9.10</td>\n",
       "      <td>0</td>\n",
       "      <td>NaN</td>\n",
       "      <td>26534.0</td>\n",
       "      <td>5382.0</td>\n",
       "      <td>1.0</td>\n",
       "      <td>446.0</td>\n",
       "      <td>1.0</td>\n",
       "      <td>376.0</td>\n",
       "      <td>350.0</td>\n",
       "    </tr>\n",
       "    <tr>\n",
       "      <th>5343</th>\n",
       "      <td>19</td>\n",
       "      <td>13540000.0</td>\n",
       "      <td>85.5</td>\n",
       "      <td>2016-01-20T00:00:00</td>\n",
       "      <td>3</td>\n",
       "      <td>2.65</td>\n",
       "      <td>7.0</td>\n",
       "      <td>59.10</td>\n",
       "      <td>5</td>\n",
       "      <td>False</td>\n",
       "      <td>...</td>\n",
       "      <td>8.30</td>\n",
       "      <td>4</td>\n",
       "      <td>NaN</td>\n",
       "      <td>10556.0</td>\n",
       "      <td>9538.0</td>\n",
       "      <td>1.0</td>\n",
       "      <td>67.0</td>\n",
       "      <td>0.0</td>\n",
       "      <td>NaN</td>\n",
       "      <td>303.0</td>\n",
       "    </tr>\n",
       "    <tr>\n",
       "      <th>5707</th>\n",
       "      <td>7</td>\n",
       "      <td>3700000.0</td>\n",
       "      <td>30.0</td>\n",
       "      <td>2016-04-29T00:00:00</td>\n",
       "      <td>1</td>\n",
       "      <td>2.65</td>\n",
       "      <td>24.0</td>\n",
       "      <td>20.00</td>\n",
       "      <td>23</td>\n",
       "      <td>NaN</td>\n",
       "      <td>...</td>\n",
       "      <td>9.10</td>\n",
       "      <td>0</td>\n",
       "      <td>NaN</td>\n",
       "      <td>21460.0</td>\n",
       "      <td>16788.0</td>\n",
       "      <td>0.0</td>\n",
       "      <td>NaN</td>\n",
       "      <td>1.0</td>\n",
       "      <td>170.0</td>\n",
       "      <td>49.0</td>\n",
       "    </tr>\n",
       "  </tbody>\n",
       "</table>\n",
       "<p>10 rows × 22 columns</p>\n",
       "</div>"
      ],
      "text/plain": [
       "      total_images  last_price  total_area first_day_exposition  rooms  \\\n",
       "1097             3   8600000.0        81.7  2016-04-15T00:00:00      3   \n",
       "2033             6   5398000.0        80.0  2017-05-30T00:00:00      3   \n",
       "2603            20   3351765.0        42.7  2015-09-20T00:00:00      1   \n",
       "2632             2   5130593.0        62.4  2015-10-11T00:00:00      2   \n",
       "3574            10   4200000.0        46.5  2016-05-28T00:00:00      2   \n",
       "4151            17  17600000.0        89.5  2014-12-09T00:00:00      2   \n",
       "4189             7   9200000.0        80.0  2015-12-10T00:00:00      3   \n",
       "4670             1   5500000.0        83.0  2015-08-14T00:00:00      3   \n",
       "5343            19  13540000.0        85.5  2016-01-20T00:00:00      3   \n",
       "5707             7   3700000.0        30.0  2016-04-29T00:00:00      1   \n",
       "\n",
       "      ceiling_height  floors_total  living_area  floor is_apartment  ...  \\\n",
       "1097            3.55           5.0        50.80      2          NaN  ...   \n",
       "2033            2.65           4.0        42.60      2          NaN  ...   \n",
       "2603            2.65          24.0        15.60      3          NaN  ...   \n",
       "2632            2.65          24.0        33.10     21          NaN  ...   \n",
       "3574            2.65           5.0        30.80      5          NaN  ...   \n",
       "4151            3.00           8.0        39.62      7          NaN  ...   \n",
       "4189            4.00           4.0        52.30      3        False  ...   \n",
       "4670            2.65           7.0        30.00      6          NaN  ...   \n",
       "5343            2.65           7.0        59.10      5        False  ...   \n",
       "5707            2.65          24.0        20.00     23          NaN  ...   \n",
       "\n",
       "      kitchen_area  balcony  locality_name  airports_nearest  \\\n",
       "1097          8.80        0            NaN           23478.0   \n",
       "2033         18.60        0            NaN               NaN   \n",
       "2603         10.70        0            NaN           22041.0   \n",
       "2632          8.20        0            NaN           22041.0   \n",
       "3574          6.50        0            NaN           27419.0   \n",
       "4151         13.38        0            NaN           25054.0   \n",
       "4189         10.40        0            NaN           21774.0   \n",
       "4670          9.10        0            NaN           26534.0   \n",
       "5343          8.30        4            NaN           10556.0   \n",
       "5707          9.10        0            NaN           21460.0   \n",
       "\n",
       "     cityCenters_nearest  parks_around3000  parks_nearest  ponds_around3000  \\\n",
       "1097              4258.0               0.0            NaN               0.0   \n",
       "2033                 NaN               NaN            NaN               NaN   \n",
       "2603             17369.0               0.0            NaN               1.0   \n",
       "2632             17369.0               0.0            NaN               1.0   \n",
       "3574              8127.0               0.0            NaN               1.0   \n",
       "4151              3902.0               1.0          485.0               3.0   \n",
       "4189              3039.0               1.0          690.0               1.0   \n",
       "4670              5382.0               1.0          446.0               1.0   \n",
       "5343              9538.0               1.0           67.0               0.0   \n",
       "5707             16788.0               0.0            NaN               1.0   \n",
       "\n",
       "      ponds_nearest  days_exposition  \n",
       "1097            NaN            147.0  \n",
       "2033            NaN             34.0  \n",
       "2603          374.0            276.0  \n",
       "2632          374.0            256.0  \n",
       "3574          603.0             45.0  \n",
       "4151          722.0            869.0  \n",
       "4189          953.0            223.0  \n",
       "4670          376.0            350.0  \n",
       "5343            NaN            303.0  \n",
       "5707          170.0             49.0  \n",
       "\n",
       "[10 rows x 22 columns]"
      ]
     },
     "metadata": {},
     "output_type": "display_data"
    }
   ],
   "source": [
    "display(df[df[\"locality_name\"].isna()].head(10))"
   ]
  },
  {
   "cell_type": "code",
   "execution_count": 20,
   "metadata": {},
   "outputs": [],
   "source": [
    "df[\"locality_name\"] = df[\"locality_name\"].fillna(\"unknown\") #нан -> \"unknown\""
   ]
  },
  {
   "cell_type": "code",
   "execution_count": 21,
   "metadata": {},
   "outputs": [
    {
     "name": "stdout",
     "output_type": "stream",
     "text": [
      "['Санкт-Петербург' 'посёлок Шушары' 'городской посёлок Янино-1'\n",
      " 'посёлок Парголово' 'посёлок Мурино' 'Ломоносов' 'Сертолово' 'Петергоф'\n",
      " 'Пушкин' 'деревня Кудрово' 'Коммунар' 'Колпино'\n",
      " 'поселок городского типа Красный Бор' 'Гатчина' 'поселок Мурино'\n",
      " 'деревня Фёдоровское' 'Выборг' 'Кронштадт' 'Кировск'\n",
      " 'деревня Новое Девяткино' 'посёлок Металлострой'\n",
      " 'посёлок городского типа Лебяжье' 'посёлок городского типа Сиверский'\n",
      " 'поселок Молодцово' 'поселок городского типа Кузьмоловский'\n",
      " 'садовое товарищество Новая Ропша' 'Павловск' 'деревня Пикколово'\n",
      " 'Всеволожск' 'Волхов' 'Кингисепп' 'Приозерск' 'Сестрорецк'\n",
      " 'деревня Куттузи' 'посёлок Аннино' 'поселок городского типа Ефимовский'\n",
      " 'посёлок Плодовое' 'деревня Заклинье' 'поселок Торковичи'\n",
      " 'поселок Первомайское' 'Красное Село' 'посёлок Понтонный' 'Сясьстрой'\n",
      " 'деревня Старая' 'деревня Лесколово' 'посёлок Новый Свет' 'Сланцы'\n",
      " 'село Путилово' 'Ивангород' 'Мурино' 'Шлиссельбург' 'Никольское'\n",
      " 'Зеленогорск' 'Сосновый Бор' 'поселок Новый Свет' 'деревня Оржицы'\n",
      " 'деревня Кальтино' 'Кудрово' 'поселок Романовка' 'посёлок Бугры'\n",
      " 'поселок Бугры' 'поселок городского типа Рощино' 'Кириши' 'Луга'\n",
      " 'Волосово' 'Отрадное' 'село Павлово' 'поселок Оредеж' 'село Копорье'\n",
      " 'посёлок городского типа Красный Бор' 'посёлок Молодёжное' 'Тихвин'\n",
      " 'посёлок Победа' 'деревня Нурма' 'поселок городского типа Синявино'\n",
      " 'Тосно' 'посёлок городского типа Кузьмоловский' 'посёлок Стрельна'\n",
      " 'Бокситогорск' 'посёлок Александровская' 'деревня Лопухинка' 'Пикалёво'\n",
      " 'поселок Терволово' 'поселок городского типа Советский' 'Подпорожье'\n",
      " 'посёлок Петровское' 'посёлок городского типа Токсово' 'поселок Сельцо'\n",
      " 'посёлок городского типа Вырица' 'деревня Кипень' 'деревня Келози'\n",
      " 'деревня Вартемяги' 'посёлок Тельмана' 'поселок Севастьяново'\n",
      " 'городской поселок Большая Ижора' 'unknown' 'городской посёлок Павлово'\n",
      " 'деревня Агалатово' 'посёлок Новогорелово'\n",
      " 'городской посёлок Лесогорский' 'деревня Лаголово' 'поселок Цвелодубово'\n",
      " 'поселок городского типа Рахья' 'поселок городского типа Вырица'\n",
      " 'деревня Белогорка' 'поселок Заводской' 'городской посёлок Новоселье'\n",
      " 'деревня Большие Колпаны' 'деревня Горбунки' 'деревня Батово'\n",
      " 'деревня Заневка' 'деревня Иссад' 'Приморск'\n",
      " 'городской посёлок Фёдоровское' 'деревня Мистолово' 'Новая Ладога'\n",
      " 'поселок Зимитицы' 'поселок Барышево' 'деревня Разметелево'\n",
      " 'поселок городского типа имени Свердлова' 'деревня Пеники'\n",
      " 'поселок Рябово' 'деревня Пудомяги' 'поселок станции Корнево'\n",
      " 'деревня Низино' 'деревня Бегуницы' 'посёлок Поляны'\n",
      " 'городской посёлок Мга' 'поселок Елизаветино'\n",
      " 'посёлок городского типа Кузнечное' 'деревня Колтуши'\n",
      " 'поселок Запорожское' 'посёлок городского типа Рощино'\n",
      " 'деревня Гостилицы' 'деревня Малое Карлино' 'посёлок Мичуринское'\n",
      " 'посёлок городского типа имени Морозова' 'посёлок Песочный'\n",
      " 'посёлок Сосново' 'деревня Аро' 'поселок Ильичёво'\n",
      " 'посёлок городского типа Тайцы' 'деревня Малое Верево' 'деревня Извара'\n",
      " 'поселок станции Вещево' 'село Паша' 'деревня Калитино'\n",
      " 'посёлок городского типа Ульяновка' 'деревня Чудской Бор'\n",
      " 'поселок городского типа Дубровка' 'деревня Мины' 'поселок Войсковицы'\n",
      " 'посёлок городского типа имени Свердлова' 'деревня Коркино'\n",
      " 'посёлок Ропша' 'поселок городского типа Приладожский' 'посёлок Щеглово'\n",
      " 'посёлок Гаврилово' 'Лодейное Поле' 'деревня Рабитицы'\n",
      " 'поселок городского типа Никольский' 'деревня Кузьмолово'\n",
      " 'деревня Малые Колпаны' 'поселок Тельмана' 'посёлок Петро-Славянка'\n",
      " 'городской посёлок Назия' 'посёлок Репино' 'посёлок Ильичёво'\n",
      " 'поселок Углово' 'поселок Старая Малукса' 'садовое товарищество Рахья'\n",
      " 'поселок Аннино' 'поселок Победа' 'деревня Меньково'\n",
      " 'деревня Старые Бегуницы' 'посёлок Сапёрный' 'поселок Семрино'\n",
      " 'поселок Гаврилово' 'поселок Глажево' 'поселок Кобринское'\n",
      " 'деревня Гарболово' 'деревня Юкки' 'поселок станции Приветнинское'\n",
      " 'деревня Мануйлово' 'деревня Пчева' 'поселок Поляны' 'поселок Цвылёво'\n",
      " 'поселок Мельниково' 'посёлок Пудость' 'посёлок Усть-Луга' 'Светогорск'\n",
      " 'Любань' 'поселок Селезнёво' 'поселок городского типа Рябово'\n",
      " 'Каменногорск' 'деревня Кривко' 'поселок Глебычево' 'деревня Парицы'\n",
      " 'поселок Жилпосёлок' 'посёлок городского типа Мга'\n",
      " 'городской поселок Янино-1' 'посёлок Войскорово' 'село Никольское'\n",
      " 'посёлок Терволово' 'поселок Стеклянный' 'посёлок городского типа Важины'\n",
      " 'посёлок Мыза-Ивановка' 'село Русско-Высоцкое'\n",
      " 'поселок городского типа Лебяжье' 'поселок городского типа Форносово'\n",
      " 'село Старая Ладога' 'поселок Житково' 'городской посёлок Виллози'\n",
      " 'деревня Лампово' 'деревня Шпаньково' 'деревня Лаврики' 'посёлок Сумино'\n",
      " 'посёлок Возрождение' 'деревня Старосиверская' 'посёлок Кикерино'\n",
      " 'поселок Возрождение' 'деревня Старое Хинколово' 'посёлок Пригородный'\n",
      " 'посёлок Торфяное' 'городской посёлок Будогощь' 'поселок Суходолье'\n",
      " 'поселок Красная Долина' 'деревня Хапо-Ое'\n",
      " 'поселок городского типа Дружная Горка' 'поселок Лисий Нос'\n",
      " 'деревня Яльгелево' 'посёлок Стеклянный' 'село Рождествено'\n",
      " 'деревня Старополье' 'посёлок Левашово' 'деревня Сяськелево'\n",
      " 'деревня Камышовка'\n",
      " 'садоводческое некоммерческое товарищество Лесная Поляна'\n",
      " 'деревня Хязельки' 'поселок Жилгородок' 'посёлок городского типа Павлово'\n",
      " 'деревня Ялгино' 'поселок Новый Учхоз' 'городской посёлок Рощино'\n",
      " 'поселок Гончарово' 'поселок Почап' 'посёлок Сапёрное'\n",
      " 'посёлок Платформа 69-й километр' 'поселок Каложицы' 'деревня Фалилеево'\n",
      " 'деревня Пельгора' 'поселок городского типа Лесогорский'\n",
      " 'деревня Торошковичи' 'посёлок Белоостров' 'посёлок Алексеевка'\n",
      " 'поселок Серебрянский' 'поселок Лукаши' 'поселок Петровское'\n",
      " 'деревня Щеглово' 'поселок Мичуринское' 'деревня Тарасово'\n",
      " 'поселок Кингисеппский' 'посёлок при железнодорожной станции Вещево'\n",
      " 'поселок Ушаки' 'деревня Котлы' 'деревня Сижно' 'деревня Торосово'\n",
      " 'посёлок Форт Красная Горка' 'поселок городского типа Токсово'\n",
      " 'деревня Новолисино' 'посёлок станции Громово' 'деревня Глинка'\n",
      " 'посёлок Мельниково' 'поселок городского типа Назия'\n",
      " 'деревня Старая Пустошь' 'поселок Коммунары' 'поселок Починок'\n",
      " 'посёлок городского типа Вознесенье' 'деревня Разбегаево'\n",
      " 'посёлок городского типа Рябово' 'поселок Гладкое'\n",
      " 'посёлок при железнодорожной станции Приветнинское' 'поселок Тёсово-4'\n",
      " 'посёлок Жилгородок' 'деревня Бор' 'посёлок Коробицыно'\n",
      " 'деревня Большая Вруда' 'деревня Курковицы' 'посёлок Лисий Нос'\n",
      " 'городской посёлок Советский' 'посёлок Кобралово' 'деревня Суоранда'\n",
      " 'поселок Кобралово' 'поселок городского типа Кондратьево'\n",
      " 'коттеджный поселок Счастье' 'поселок Любань' 'деревня Реброво'\n",
      " 'деревня Зимитицы' 'деревня Тойворово' 'поселок Семиозерье'\n",
      " 'поселок Лесное' 'поселок Совхозный' 'поселок Усть-Луга'\n",
      " 'посёлок Ленинское' 'посёлок Суйда' 'посёлок городского типа Форносово'\n",
      " 'деревня Нижние Осельки' 'посёлок станции Свирь' 'поселок Перово'\n",
      " 'Высоцк' 'поселок Гарболово' 'село Шум' 'поселок Котельский'\n",
      " 'поселок станции Лужайка' 'деревня Большая Пустомержа'\n",
      " 'поселок Красносельское' 'деревня Вахнова Кара' 'деревня Пижма'\n",
      " 'коттеджный поселок Кивеннапа Север' 'поселок Коробицыно'\n",
      " 'поселок Ромашки' 'посёлок Перово' 'деревня Каськово' 'деревня Куровицы'\n",
      " 'посёлок Плоское' 'поселок Сумино'\n",
      " 'поселок городского типа Большая Ижора' 'поселок Кирпичное'\n",
      " 'деревня Ям-Тесово' 'деревня Раздолье' 'деревня Терпилицы'\n",
      " 'посёлок Шугозеро' 'деревня Ваганово' 'поселок Пушное'\n",
      " 'садовое товарищество Садко' 'посёлок Усть-Ижора' 'деревня Выскатка'\n",
      " 'городской посёлок Свирьстрой' 'поселок Громово' 'деревня Кисельня'\n",
      " 'посёлок Старая Малукса' 'деревня Трубников Бор' 'поселок Калитино'\n",
      " 'посёлок Высокоключевой' 'садовое товарищество Приладожский'\n",
      " 'посёлок Пансионат Зелёный Бор' 'деревня Ненимяки'\n",
      " 'поселок Пансионат Зелёный Бор' 'деревня Снегирёвка' 'деревня Рапполово'\n",
      " 'деревня Пустынка' 'поселок Рабитицы' 'деревня Большой Сабск'\n",
      " 'деревня Русско' 'деревня Лупполово' 'деревня Большое Рейзино'\n",
      " 'деревня Малая Романовка' 'поселок Дружноселье' 'поселок Пчевжа'\n",
      " 'поселок Володарское' 'деревня Нижняя' 'коттеджный посёлок Лесное'\n",
      " 'деревня Тихковицы' 'деревня Борисова Грива' 'посёлок Дзержинского']\n"
     ]
    }
   ],
   "source": [
    "print(df[\"locality_name\"].unique())"
   ]
  },
  {
   "cell_type": "code",
   "execution_count": 22,
   "metadata": {},
   "outputs": [],
   "source": [
    "df[\"locality_name\"] = df[\"locality_name\"].str.lower()"
   ]
  },
  {
   "cell_type": "code",
   "execution_count": 23,
   "metadata": {},
   "outputs": [],
   "source": [
    "df['locality_name'] = df['locality_name'].str.replace('поселок городского типа', 'поселок', regex=True)\n",
    "df['locality_name'] = df['locality_name'].str.replace('поселок при железнодорожной станции', 'поселок', regex=True)\n",
    "df['locality_name'] = df['locality_name'].str.replace('поселок станции', 'поселок', regex=True)\n",
    "df['locality_name'] = df['locality_name'].str.replace('городской поселок', 'поселок', regex=True)\n",
    "#замена разных названий одного и того же поселка"
   ]
  },
  {
   "cell_type": "code",
   "execution_count": 24,
   "metadata": {},
   "outputs": [],
   "source": [
    "def locality_type(name):\n",
    "    if \"село\" in name:\n",
    "        return \"село\"\n",
    "    elif \"дерев\" in name:\n",
    "        return \"деревня\"\n",
    "    elif \"посёл\" in name:\n",
    "        return \"поселок\"\n",
    "    elif \"посел\" in name:\n",
    "        return \"поселок\"\n",
    "    else:\n",
    "        return \"город\"\n"
   ]
  },
  {
   "cell_type": "code",
   "execution_count": 25,
   "metadata": {},
   "outputs": [],
   "source": [
    "df[\"locality_type\"] = df[\"locality_name\"].apply(locality_type) #создание столбца с типом места"
   ]
  },
  {
   "cell_type": "code",
   "execution_count": 26,
   "metadata": {},
   "outputs": [
    {
     "data": {
      "text/html": [
       "<div>\n",
       "<style scoped>\n",
       "    .dataframe tbody tr th:only-of-type {\n",
       "        vertical-align: middle;\n",
       "    }\n",
       "\n",
       "    .dataframe tbody tr th {\n",
       "        vertical-align: top;\n",
       "    }\n",
       "\n",
       "    .dataframe thead th {\n",
       "        text-align: right;\n",
       "    }\n",
       "</style>\n",
       "<table border=\"1\" class=\"dataframe\">\n",
       "  <thead>\n",
       "    <tr style=\"text-align: right;\">\n",
       "      <th></th>\n",
       "      <th>total_images</th>\n",
       "      <th>last_price</th>\n",
       "      <th>total_area</th>\n",
       "      <th>first_day_exposition</th>\n",
       "      <th>rooms</th>\n",
       "      <th>ceiling_height</th>\n",
       "      <th>floors_total</th>\n",
       "      <th>living_area</th>\n",
       "      <th>floor</th>\n",
       "      <th>is_apartment</th>\n",
       "      <th>...</th>\n",
       "      <th>balcony</th>\n",
       "      <th>locality_name</th>\n",
       "      <th>airports_nearest</th>\n",
       "      <th>cityCenters_nearest</th>\n",
       "      <th>parks_around3000</th>\n",
       "      <th>parks_nearest</th>\n",
       "      <th>ponds_around3000</th>\n",
       "      <th>ponds_nearest</th>\n",
       "      <th>days_exposition</th>\n",
       "      <th>locality_type</th>\n",
       "    </tr>\n",
       "  </thead>\n",
       "  <tbody>\n",
       "    <tr>\n",
       "      <th>0</th>\n",
       "      <td>20</td>\n",
       "      <td>13000000.0</td>\n",
       "      <td>108.00</td>\n",
       "      <td>2019-03-07T00:00:00</td>\n",
       "      <td>3</td>\n",
       "      <td>2.70</td>\n",
       "      <td>16.0</td>\n",
       "      <td>51.00</td>\n",
       "      <td>8</td>\n",
       "      <td>NaN</td>\n",
       "      <td>...</td>\n",
       "      <td>0</td>\n",
       "      <td>санкт-петербург</td>\n",
       "      <td>18863.0</td>\n",
       "      <td>16028.0</td>\n",
       "      <td>1.0</td>\n",
       "      <td>482.0</td>\n",
       "      <td>2.0</td>\n",
       "      <td>755.0</td>\n",
       "      <td>NaN</td>\n",
       "      <td>город</td>\n",
       "    </tr>\n",
       "    <tr>\n",
       "      <th>1</th>\n",
       "      <td>7</td>\n",
       "      <td>3350000.0</td>\n",
       "      <td>40.40</td>\n",
       "      <td>2018-12-04T00:00:00</td>\n",
       "      <td>1</td>\n",
       "      <td>2.65</td>\n",
       "      <td>11.0</td>\n",
       "      <td>18.60</td>\n",
       "      <td>1</td>\n",
       "      <td>NaN</td>\n",
       "      <td>...</td>\n",
       "      <td>2</td>\n",
       "      <td>посёлок шушары</td>\n",
       "      <td>12817.0</td>\n",
       "      <td>18603.0</td>\n",
       "      <td>0.0</td>\n",
       "      <td>NaN</td>\n",
       "      <td>0.0</td>\n",
       "      <td>NaN</td>\n",
       "      <td>81.0</td>\n",
       "      <td>поселок</td>\n",
       "    </tr>\n",
       "    <tr>\n",
       "      <th>2</th>\n",
       "      <td>10</td>\n",
       "      <td>5196000.0</td>\n",
       "      <td>56.00</td>\n",
       "      <td>2015-08-20T00:00:00</td>\n",
       "      <td>2</td>\n",
       "      <td>2.65</td>\n",
       "      <td>5.0</td>\n",
       "      <td>34.30</td>\n",
       "      <td>4</td>\n",
       "      <td>NaN</td>\n",
       "      <td>...</td>\n",
       "      <td>0</td>\n",
       "      <td>санкт-петербург</td>\n",
       "      <td>21741.0</td>\n",
       "      <td>13933.0</td>\n",
       "      <td>1.0</td>\n",
       "      <td>90.0</td>\n",
       "      <td>2.0</td>\n",
       "      <td>574.0</td>\n",
       "      <td>558.0</td>\n",
       "      <td>город</td>\n",
       "    </tr>\n",
       "    <tr>\n",
       "      <th>3</th>\n",
       "      <td>0</td>\n",
       "      <td>64900000.0</td>\n",
       "      <td>159.00</td>\n",
       "      <td>2015-07-24T00:00:00</td>\n",
       "      <td>3</td>\n",
       "      <td>2.65</td>\n",
       "      <td>14.0</td>\n",
       "      <td>30.00</td>\n",
       "      <td>9</td>\n",
       "      <td>NaN</td>\n",
       "      <td>...</td>\n",
       "      <td>0</td>\n",
       "      <td>санкт-петербург</td>\n",
       "      <td>28098.0</td>\n",
       "      <td>6800.0</td>\n",
       "      <td>2.0</td>\n",
       "      <td>84.0</td>\n",
       "      <td>3.0</td>\n",
       "      <td>234.0</td>\n",
       "      <td>424.0</td>\n",
       "      <td>город</td>\n",
       "    </tr>\n",
       "    <tr>\n",
       "      <th>4</th>\n",
       "      <td>2</td>\n",
       "      <td>10000000.0</td>\n",
       "      <td>100.00</td>\n",
       "      <td>2018-06-19T00:00:00</td>\n",
       "      <td>2</td>\n",
       "      <td>3.03</td>\n",
       "      <td>14.0</td>\n",
       "      <td>32.00</td>\n",
       "      <td>13</td>\n",
       "      <td>NaN</td>\n",
       "      <td>...</td>\n",
       "      <td>0</td>\n",
       "      <td>санкт-петербург</td>\n",
       "      <td>31856.0</td>\n",
       "      <td>8098.0</td>\n",
       "      <td>2.0</td>\n",
       "      <td>112.0</td>\n",
       "      <td>1.0</td>\n",
       "      <td>48.0</td>\n",
       "      <td>121.0</td>\n",
       "      <td>город</td>\n",
       "    </tr>\n",
       "    <tr>\n",
       "      <th>5</th>\n",
       "      <td>10</td>\n",
       "      <td>2890000.0</td>\n",
       "      <td>30.40</td>\n",
       "      <td>2018-09-10T00:00:00</td>\n",
       "      <td>1</td>\n",
       "      <td>2.65</td>\n",
       "      <td>12.0</td>\n",
       "      <td>14.40</td>\n",
       "      <td>5</td>\n",
       "      <td>NaN</td>\n",
       "      <td>...</td>\n",
       "      <td>0</td>\n",
       "      <td>городской посёлок янино-1</td>\n",
       "      <td>NaN</td>\n",
       "      <td>NaN</td>\n",
       "      <td>NaN</td>\n",
       "      <td>NaN</td>\n",
       "      <td>NaN</td>\n",
       "      <td>NaN</td>\n",
       "      <td>55.0</td>\n",
       "      <td>поселок</td>\n",
       "    </tr>\n",
       "    <tr>\n",
       "      <th>6</th>\n",
       "      <td>6</td>\n",
       "      <td>3700000.0</td>\n",
       "      <td>37.30</td>\n",
       "      <td>2017-11-02T00:00:00</td>\n",
       "      <td>1</td>\n",
       "      <td>2.65</td>\n",
       "      <td>26.0</td>\n",
       "      <td>10.60</td>\n",
       "      <td>6</td>\n",
       "      <td>NaN</td>\n",
       "      <td>...</td>\n",
       "      <td>1</td>\n",
       "      <td>посёлок парголово</td>\n",
       "      <td>52996.0</td>\n",
       "      <td>19143.0</td>\n",
       "      <td>0.0</td>\n",
       "      <td>NaN</td>\n",
       "      <td>0.0</td>\n",
       "      <td>NaN</td>\n",
       "      <td>155.0</td>\n",
       "      <td>поселок</td>\n",
       "    </tr>\n",
       "    <tr>\n",
       "      <th>7</th>\n",
       "      <td>5</td>\n",
       "      <td>7915000.0</td>\n",
       "      <td>71.60</td>\n",
       "      <td>2019-04-18T00:00:00</td>\n",
       "      <td>2</td>\n",
       "      <td>2.65</td>\n",
       "      <td>24.0</td>\n",
       "      <td>30.00</td>\n",
       "      <td>22</td>\n",
       "      <td>NaN</td>\n",
       "      <td>...</td>\n",
       "      <td>2</td>\n",
       "      <td>санкт-петербург</td>\n",
       "      <td>23982.0</td>\n",
       "      <td>11634.0</td>\n",
       "      <td>0.0</td>\n",
       "      <td>NaN</td>\n",
       "      <td>0.0</td>\n",
       "      <td>NaN</td>\n",
       "      <td>NaN</td>\n",
       "      <td>город</td>\n",
       "    </tr>\n",
       "    <tr>\n",
       "      <th>8</th>\n",
       "      <td>20</td>\n",
       "      <td>2900000.0</td>\n",
       "      <td>33.16</td>\n",
       "      <td>2018-05-23T00:00:00</td>\n",
       "      <td>1</td>\n",
       "      <td>2.65</td>\n",
       "      <td>27.0</td>\n",
       "      <td>15.43</td>\n",
       "      <td>26</td>\n",
       "      <td>NaN</td>\n",
       "      <td>...</td>\n",
       "      <td>0</td>\n",
       "      <td>посёлок мурино</td>\n",
       "      <td>NaN</td>\n",
       "      <td>NaN</td>\n",
       "      <td>NaN</td>\n",
       "      <td>NaN</td>\n",
       "      <td>NaN</td>\n",
       "      <td>NaN</td>\n",
       "      <td>189.0</td>\n",
       "      <td>поселок</td>\n",
       "    </tr>\n",
       "    <tr>\n",
       "      <th>9</th>\n",
       "      <td>18</td>\n",
       "      <td>5400000.0</td>\n",
       "      <td>61.00</td>\n",
       "      <td>2017-02-26T00:00:00</td>\n",
       "      <td>3</td>\n",
       "      <td>2.50</td>\n",
       "      <td>9.0</td>\n",
       "      <td>43.60</td>\n",
       "      <td>7</td>\n",
       "      <td>NaN</td>\n",
       "      <td>...</td>\n",
       "      <td>2</td>\n",
       "      <td>санкт-петербург</td>\n",
       "      <td>50898.0</td>\n",
       "      <td>15008.0</td>\n",
       "      <td>0.0</td>\n",
       "      <td>NaN</td>\n",
       "      <td>0.0</td>\n",
       "      <td>NaN</td>\n",
       "      <td>289.0</td>\n",
       "      <td>город</td>\n",
       "    </tr>\n",
       "  </tbody>\n",
       "</table>\n",
       "<p>10 rows × 23 columns</p>\n",
       "</div>"
      ],
      "text/plain": [
       "   total_images  last_price  total_area first_day_exposition  rooms  \\\n",
       "0            20  13000000.0      108.00  2019-03-07T00:00:00      3   \n",
       "1             7   3350000.0       40.40  2018-12-04T00:00:00      1   \n",
       "2            10   5196000.0       56.00  2015-08-20T00:00:00      2   \n",
       "3             0  64900000.0      159.00  2015-07-24T00:00:00      3   \n",
       "4             2  10000000.0      100.00  2018-06-19T00:00:00      2   \n",
       "5            10   2890000.0       30.40  2018-09-10T00:00:00      1   \n",
       "6             6   3700000.0       37.30  2017-11-02T00:00:00      1   \n",
       "7             5   7915000.0       71.60  2019-04-18T00:00:00      2   \n",
       "8            20   2900000.0       33.16  2018-05-23T00:00:00      1   \n",
       "9            18   5400000.0       61.00  2017-02-26T00:00:00      3   \n",
       "\n",
       "   ceiling_height  floors_total  living_area  floor is_apartment  ...  \\\n",
       "0            2.70          16.0        51.00      8          NaN  ...   \n",
       "1            2.65          11.0        18.60      1          NaN  ...   \n",
       "2            2.65           5.0        34.30      4          NaN  ...   \n",
       "3            2.65          14.0        30.00      9          NaN  ...   \n",
       "4            3.03          14.0        32.00     13          NaN  ...   \n",
       "5            2.65          12.0        14.40      5          NaN  ...   \n",
       "6            2.65          26.0        10.60      6          NaN  ...   \n",
       "7            2.65          24.0        30.00     22          NaN  ...   \n",
       "8            2.65          27.0        15.43     26          NaN  ...   \n",
       "9            2.50           9.0        43.60      7          NaN  ...   \n",
       "\n",
       "   balcony              locality_name  airports_nearest  cityCenters_nearest  \\\n",
       "0        0            санкт-петербург           18863.0              16028.0   \n",
       "1        2             посёлок шушары           12817.0              18603.0   \n",
       "2        0            санкт-петербург           21741.0              13933.0   \n",
       "3        0            санкт-петербург           28098.0               6800.0   \n",
       "4        0            санкт-петербург           31856.0               8098.0   \n",
       "5        0  городской посёлок янино-1               NaN                  NaN   \n",
       "6        1          посёлок парголово           52996.0              19143.0   \n",
       "7        2            санкт-петербург           23982.0              11634.0   \n",
       "8        0             посёлок мурино               NaN                  NaN   \n",
       "9        2            санкт-петербург           50898.0              15008.0   \n",
       "\n",
       "  parks_around3000  parks_nearest  ponds_around3000  ponds_nearest  \\\n",
       "0              1.0          482.0               2.0          755.0   \n",
       "1              0.0            NaN               0.0            NaN   \n",
       "2              1.0           90.0               2.0          574.0   \n",
       "3              2.0           84.0               3.0          234.0   \n",
       "4              2.0          112.0               1.0           48.0   \n",
       "5              NaN            NaN               NaN            NaN   \n",
       "6              0.0            NaN               0.0            NaN   \n",
       "7              0.0            NaN               0.0            NaN   \n",
       "8              NaN            NaN               NaN            NaN   \n",
       "9              0.0            NaN               0.0            NaN   \n",
       "\n",
       "   days_exposition  locality_type  \n",
       "0              NaN          город  \n",
       "1             81.0        поселок  \n",
       "2            558.0          город  \n",
       "3            424.0          город  \n",
       "4            121.0          город  \n",
       "5             55.0        поселок  \n",
       "6            155.0        поселок  \n",
       "7              NaN          город  \n",
       "8            189.0        поселок  \n",
       "9            289.0          город  \n",
       "\n",
       "[10 rows x 23 columns]"
      ]
     },
     "metadata": {},
     "output_type": "display_data"
    }
   ],
   "source": [
    "display(df.head(10)) #проверяем"
   ]
  },
  {
   "cell_type": "markdown",
   "metadata": {},
   "source": [
    "# airports nearest "
   ]
  },
  {
   "cell_type": "markdown",
   "metadata": {},
   "source": [
    "Схоже ранией ситуацией, лучшим решением для данных пропусков, будет их заполнение медианными значениями, но по группам. По группам типа места. Так как неверно будет заполнять дистанцию до аэропорта квартирам в городе использую данные по поселкам. Так как принято строить аэропорты за городом, где как раз находятся поселки. "
   ]
  },
  {
   "cell_type": "code",
   "execution_count": 27,
   "metadata": {},
   "outputs": [],
   "source": [
    "median_airports = df.groupby(\"locality_type\")[\"airports_nearest\"].median() "
   ]
  },
  {
   "cell_type": "code",
   "execution_count": 28,
   "metadata": {},
   "outputs": [],
   "source": [
    "df.loc[df[\"locality_type\"] == \"город\",\"airports_nearest\"] = df[\"airports_nearest\"].fillna(median_airports[\"город\"])\n",
    "df.loc[df[\"locality_type\"] == \"деревня\",\"airports_nearest\"] = df[\"airports_nearest\"].fillna(median_airports[\"деревня\"])\n",
    "df.loc[df[\"locality_type\"] == \"поселок\",\"airports_nearest\"] = df[\"airports_nearest\"].fillna(median_airports[\"поселок\"])\n",
    "#нан -> 0 (по группе)"
   ]
  },
  {
   "cell_type": "markdown",
   "metadata": {},
   "source": [
    "# city centers nearest"
   ]
  },
  {
   "cell_type": "code",
   "execution_count": 29,
   "metadata": {},
   "outputs": [],
   "source": [
    "median_centers = df.groupby(\"locality_type\")[\"cityCenters_nearest\"].median()"
   ]
  },
  {
   "cell_type": "code",
   "execution_count": 30,
   "metadata": {},
   "outputs": [],
   "source": [
    "df.loc[df[\"locality_type\"] == \"город\",\"cityCenters_nearest\"] = df[\"cityCenters_nearest\"].fillna(median_centers[\"город\"])\n",
    "df.loc[df[\"locality_type\"] == \"деревня\",\"cityCenters_nearest\"] = df[\"cityCenters_nearest\"].fillna(median_centers[\"деревня\"])\n",
    "df.loc[df[\"locality_type\"] == \"поселок\",\"cityCenters_nearest\"] = df[\"cityCenters_nearest\"].fillna(median_centers[\"поселок\"])\n",
    "#нан -> 0 (по группе)"
   ]
  },
  {
   "cell_type": "markdown",
   "metadata": {},
   "source": [
    "# parks around 3000 and ponds around 3000"
   ]
  },
  {
   "cell_type": "code",
   "execution_count": 31,
   "metadata": {},
   "outputs": [],
   "source": [
    "df[\"parks_around3000\"] = df[\"parks_around3000\"].fillna(0)\n",
    "df[\"ponds_around3000\"] = df[\"ponds_around3000\"].fillna(0)\n",
    "#нан -> 0"
   ]
  },
  {
   "cell_type": "markdown",
   "metadata": {},
   "source": [
    "# result"
   ]
  },
  {
   "cell_type": "code",
   "execution_count": 32,
   "metadata": {},
   "outputs": [
    {
     "name": "stdout",
     "output_type": "stream",
     "text": [
      "total_images                0\n",
      "last_price                  0\n",
      "total_area                  0\n",
      "first_day_exposition        0\n",
      "rooms                       0\n",
      "ceiling_height              0\n",
      "floors_total                0\n",
      "living_area                 0\n",
      "floor                       0\n",
      "is_apartment            20924\n",
      "studio                      0\n",
      "open_plan                   0\n",
      "kitchen_area                0\n",
      "balcony                     0\n",
      "locality_name               0\n",
      "airports_nearest         1528\n",
      "cityCenters_nearest      1528\n",
      "parks_around3000            0\n",
      "parks_nearest           15620\n",
      "ponds_around3000            0\n",
      "ponds_nearest           14589\n",
      "days_exposition          3181\n",
      "locality_type               0\n",
      "dtype: int64\n"
     ]
    }
   ],
   "source": [
    "print(df.isna().sum()) #проверяем успехи с нан"
   ]
  },
  {
   "cell_type": "code",
   "execution_count": 33,
   "metadata": {
    "scrolled": true
   },
   "outputs": [
    {
     "name": "stdout",
     "output_type": "stream",
     "text": [
      "<class 'pandas.core.frame.DataFrame'>\n",
      "RangeIndex: 23699 entries, 0 to 23698\n",
      "Data columns (total 23 columns):\n",
      " #   Column                Non-Null Count  Dtype  \n",
      "---  ------                --------------  -----  \n",
      " 0   total_images          23699 non-null  int64  \n",
      " 1   last_price            23699 non-null  float64\n",
      " 2   total_area            23699 non-null  float64\n",
      " 3   first_day_exposition  23699 non-null  object \n",
      " 4   rooms                 23699 non-null  int64  \n",
      " 5   ceiling_height        23699 non-null  float64\n",
      " 6   floors_total          23699 non-null  float64\n",
      " 7   living_area           23699 non-null  float64\n",
      " 8   floor                 23699 non-null  int64  \n",
      " 9   is_apartment          2775 non-null   object \n",
      " 10  studio                23699 non-null  bool   \n",
      " 11  open_plan             23699 non-null  bool   \n",
      " 12  kitchen_area          23699 non-null  float64\n",
      " 13  balcony               23699 non-null  int64  \n",
      " 14  locality_name         23699 non-null  object \n",
      " 15  airports_nearest      22171 non-null  float64\n",
      " 16  cityCenters_nearest   22171 non-null  float64\n",
      " 17  parks_around3000      23699 non-null  float64\n",
      " 18  parks_nearest         8079 non-null   float64\n",
      " 19  ponds_around3000      23699 non-null  float64\n",
      " 20  ponds_nearest         9110 non-null   float64\n",
      " 21  days_exposition       20518 non-null  float64\n",
      " 22  locality_type         23699 non-null  object \n",
      "dtypes: bool(2), float64(13), int64(4), object(4)\n",
      "memory usage: 3.8+ MB\n"
     ]
    }
   ],
   "source": [
    "df.info() #проверяем успехи с type"
   ]
  },
  {
   "cell_type": "code",
   "execution_count": 34,
   "metadata": {},
   "outputs": [
    {
     "name": "stdout",
     "output_type": "stream",
     "text": [
      "0\n"
     ]
    }
   ],
   "source": [
    "print(df.duplicated().sum()) #проверяем не создали ли мы дубликатов"
   ]
  },
  {
   "cell_type": "markdown",
   "metadata": {},
   "source": [
    "Комментарий: по результатом предобработки данных, данные стали подходящими для последующего анализа для вывода. "
   ]
  },
  {
   "cell_type": "markdown",
   "metadata": {},
   "source": [
    "# total_area"
   ]
  },
  {
   "cell_type": "code",
   "execution_count": 35,
   "metadata": {
    "scrolled": true
   },
   "outputs": [
    {
     "name": "stdout",
     "output_type": "stream",
     "text": [
      "count    23699.000000\n",
      "mean        60.348651\n",
      "std         35.654083\n",
      "min         12.000000\n",
      "25%         40.000000\n",
      "50%         52.000000\n",
      "75%         69.900000\n",
      "max        900.000000\n",
      "Name: total_area, dtype: float64\n"
     ]
    }
   ],
   "source": [
    "print(df[\"total_area\"].describe())"
   ]
  },
  {
   "cell_type": "markdown",
   "metadata": {},
   "source": [
    "Предположим, что все что больше 300 квадратных метров - это ошибка на одну десятичную."
   ]
  },
  {
   "cell_type": "code",
   "execution_count": 36,
   "metadata": {},
   "outputs": [],
   "source": [
    "df.loc[df[\"total_area\"] > 300,\"total_area\"] = (df.loc[df[\"total_area\"] > 300,\"total_area\"])/10"
   ]
  },
  {
   "cell_type": "code",
   "execution_count": 37,
   "metadata": {},
   "outputs": [
    {
     "name": "stdout",
     "output_type": "stream",
     "text": [
      "count    23699.000000\n",
      "mean        59.403061\n",
      "std         30.520928\n",
      "min         12.000000\n",
      "25%         40.000000\n",
      "50%         52.000000\n",
      "75%         69.300000\n",
      "max        300.000000\n",
      "Name: total_area, dtype: float64\n"
     ]
    }
   ],
   "source": [
    "print(df[\"total_area\"].describe())"
   ]
  },
  {
   "cell_type": "markdown",
   "metadata": {},
   "source": [
    "# rooms"
   ]
  },
  {
   "cell_type": "code",
   "execution_count": 38,
   "metadata": {
    "scrolled": true
   },
   "outputs": [
    {
     "name": "stdout",
     "output_type": "stream",
     "text": [
      "count    23699.000000\n",
      "mean         2.070636\n",
      "std          1.078405\n",
      "min          0.000000\n",
      "25%          1.000000\n",
      "50%          2.000000\n",
      "75%          3.000000\n",
      "max         19.000000\n",
      "Name: rooms, dtype: float64\n"
     ]
    }
   ],
   "source": [
    "print(df[\"rooms\"].describe())"
   ]
  },
  {
   "cell_type": "markdown",
   "metadata": {},
   "source": [
    "Предположим, что все что больше 7 комнат - выброс."
   ]
  },
  {
   "cell_type": "code",
   "execution_count": 39,
   "metadata": {},
   "outputs": [],
   "source": [
    "df = df[df[\"rooms\"] < 7]"
   ]
  },
  {
   "cell_type": "code",
   "execution_count": 40,
   "metadata": {
    "scrolled": true
   },
   "outputs": [
    {
     "name": "stdout",
     "output_type": "stream",
     "text": [
      "count    23609.000000\n",
      "mean         2.047905\n",
      "std          1.006772\n",
      "min          0.000000\n",
      "25%          1.000000\n",
      "50%          2.000000\n",
      "75%          3.000000\n",
      "max          6.000000\n",
      "Name: rooms, dtype: float64\n"
     ]
    }
   ],
   "source": [
    "print(df[\"rooms\"].describe())"
   ]
  },
  {
   "cell_type": "code",
   "execution_count": 41,
   "metadata": {
    "scrolled": true
   },
   "outputs": [
    {
     "data": {
      "text/plain": [
       "<AxesSubplot:title={'center':'rooms'}, ylabel='Frequency'>"
      ]
     },
     "execution_count": 41,
     "metadata": {},
     "output_type": "execute_result"
    },
    {
     "data": {
      "image/png": "[encoded data removed]",
      "text/plain": [
       "<Figure size 864x360 with 1 Axes>"
      ]
     },
     "metadata": {
      "needs_background": "light"
     },
     "output_type": "display_data"
    }
   ],
   "source": [
    "df[\"rooms\"].plot(kind = \"hist\", bins = 7, title =\"rooms\", grid = True, figsize = (12,5))"
   ]
  },
  {
   "cell_type": "markdown",
   "metadata": {},
   "source": [
    "# last_price"
   ]
  },
  {
   "cell_type": "code",
   "execution_count": 42,
   "metadata": {},
   "outputs": [
    {
     "name": "stdout",
     "output_type": "stream",
     "text": [
      "count    2.360900e+04\n",
      "mean     6.369906e+06\n",
      "std      8.753600e+06\n",
      "min      1.219000e+04\n",
      "25%      3.400000e+06\n",
      "50%      4.600000e+06\n",
      "75%      6.735600e+06\n",
      "max      4.013000e+08\n",
      "Name: last_price, dtype: float64\n"
     ]
    }
   ],
   "source": [
    "print(df[\"last_price\"].describe())"
   ]
  },
  {
   "cell_type": "code",
   "execution_count": 43,
   "metadata": {
    "scrolled": true
   },
   "outputs": [
    {
     "data": {
      "text/plain": [
       "<AxesSubplot:title={'center':'last_price'}, ylabel='Frequency'>"
      ]
     },
     "execution_count": 43,
     "metadata": {},
     "output_type": "execute_result"
    },
    {
     "data": {
      "image/png": "[encoded data removed]",
      "text/plain": [
       "<Figure size 864x360 with 1 Axes>"
      ]
     },
     "metadata": {
      "needs_background": "light"
     },
     "output_type": "display_data"
    }
   ],
   "source": [
    "df[\"last_price\"].plot(kind = \"hist\", bins = 7, title =\"last_price\", grid = True, figsize = (12,5))"
   ]
  },
  {
   "cell_type": "markdown",
   "metadata": {},
   "source": [
    "Предположим, что все что больше 100000000 рублей - выброс."
   ]
  },
  {
   "cell_type": "code",
   "execution_count": 44,
   "metadata": {},
   "outputs": [],
   "source": [
    "df = df[df[\"last_price\"] < 100000000]"
   ]
  },
  {
   "cell_type": "code",
   "execution_count": 45,
   "metadata": {},
   "outputs": [
    {
     "data": {
      "text/plain": [
       "<AxesSubplot:title={'center':'last_price'}, ylabel='Frequency'>"
      ]
     },
     "execution_count": 45,
     "metadata": {},
     "output_type": "execute_result"
    },
    {
     "data": {
      "image/png": "[encoded data removed]",
      "text/plain": [
       "<Figure size 864x360 with 1 Axes>"
      ]
     },
     "metadata": {
      "needs_background": "light"
     },
     "output_type": "display_data"
    }
   ],
   "source": [
    "df[\"last_price\"].plot(kind = \"hist\", bins = 7, title =\"last_price\", grid = True, figsize = (12,5))"
   ]
  },
  {
   "cell_type": "markdown",
   "metadata": {},
   "source": [
    "Однако, можно заметить, что минимальная стоимость квартиры, состовляет 12000, что очень мало, даже для камер хранения. посмотрим на топ 10 самых дешевых квартир:"
   ]
  },
  {
   "cell_type": "code",
   "execution_count": 46,
   "metadata": {},
   "outputs": [
    {
     "data": {
      "text/html": [
       "<div>\n",
       "<style scoped>\n",
       "    .dataframe tbody tr th:only-of-type {\n",
       "        vertical-align: middle;\n",
       "    }\n",
       "\n",
       "    .dataframe tbody tr th {\n",
       "        vertical-align: top;\n",
       "    }\n",
       "\n",
       "    .dataframe thead th {\n",
       "        text-align: right;\n",
       "    }\n",
       "</style>\n",
       "<table border=\"1\" class=\"dataframe\">\n",
       "  <thead>\n",
       "    <tr style=\"text-align: right;\">\n",
       "      <th></th>\n",
       "      <th>total_images</th>\n",
       "      <th>last_price</th>\n",
       "      <th>total_area</th>\n",
       "      <th>first_day_exposition</th>\n",
       "      <th>rooms</th>\n",
       "      <th>ceiling_height</th>\n",
       "      <th>floors_total</th>\n",
       "      <th>living_area</th>\n",
       "      <th>floor</th>\n",
       "      <th>is_apartment</th>\n",
       "      <th>...</th>\n",
       "      <th>balcony</th>\n",
       "      <th>locality_name</th>\n",
       "      <th>airports_nearest</th>\n",
       "      <th>cityCenters_nearest</th>\n",
       "      <th>parks_around3000</th>\n",
       "      <th>parks_nearest</th>\n",
       "      <th>ponds_around3000</th>\n",
       "      <th>ponds_nearest</th>\n",
       "      <th>days_exposition</th>\n",
       "      <th>locality_type</th>\n",
       "    </tr>\n",
       "  </thead>\n",
       "  <tbody>\n",
       "    <tr>\n",
       "      <th>8793</th>\n",
       "      <td>7</td>\n",
       "      <td>12190.0</td>\n",
       "      <td>109.0</td>\n",
       "      <td>2019-03-20T00:00:00</td>\n",
       "      <td>2</td>\n",
       "      <td>2.75</td>\n",
       "      <td>25.0</td>\n",
       "      <td>32.0</td>\n",
       "      <td>25</td>\n",
       "      <td>NaN</td>\n",
       "      <td>...</td>\n",
       "      <td>0</td>\n",
       "      <td>санкт-петербург</td>\n",
       "      <td>36421.0</td>\n",
       "      <td>9176.0</td>\n",
       "      <td>1.0</td>\n",
       "      <td>805.0</td>\n",
       "      <td>0.0</td>\n",
       "      <td>NaN</td>\n",
       "      <td>8.0</td>\n",
       "      <td>город</td>\n",
       "    </tr>\n",
       "    <tr>\n",
       "      <th>17456</th>\n",
       "      <td>7</td>\n",
       "      <td>430000.0</td>\n",
       "      <td>30.4</td>\n",
       "      <td>2019-04-22T00:00:00</td>\n",
       "      <td>1</td>\n",
       "      <td>2.65</td>\n",
       "      <td>2.0</td>\n",
       "      <td>16.0</td>\n",
       "      <td>1</td>\n",
       "      <td>NaN</td>\n",
       "      <td>...</td>\n",
       "      <td>0</td>\n",
       "      <td>сланцы</td>\n",
       "      <td>26873.5</td>\n",
       "      <td>12702.0</td>\n",
       "      <td>0.0</td>\n",
       "      <td>NaN</td>\n",
       "      <td>0.0</td>\n",
       "      <td>NaN</td>\n",
       "      <td>NaN</td>\n",
       "      <td>город</td>\n",
       "    </tr>\n",
       "    <tr>\n",
       "      <th>14911</th>\n",
       "      <td>5</td>\n",
       "      <td>430000.0</td>\n",
       "      <td>54.0</td>\n",
       "      <td>2018-06-26T00:00:00</td>\n",
       "      <td>2</td>\n",
       "      <td>2.65</td>\n",
       "      <td>3.0</td>\n",
       "      <td>30.0</td>\n",
       "      <td>3</td>\n",
       "      <td>NaN</td>\n",
       "      <td>...</td>\n",
       "      <td>0</td>\n",
       "      <td>посёлок станции свирь</td>\n",
       "      <td>25531.0</td>\n",
       "      <td>21246.0</td>\n",
       "      <td>0.0</td>\n",
       "      <td>NaN</td>\n",
       "      <td>0.0</td>\n",
       "      <td>NaN</td>\n",
       "      <td>44.0</td>\n",
       "      <td>поселок</td>\n",
       "    </tr>\n",
       "    <tr>\n",
       "      <th>16274</th>\n",
       "      <td>18</td>\n",
       "      <td>440000.0</td>\n",
       "      <td>40.0</td>\n",
       "      <td>2018-07-10T00:00:00</td>\n",
       "      <td>1</td>\n",
       "      <td>2.65</td>\n",
       "      <td>5.0</td>\n",
       "      <td>30.0</td>\n",
       "      <td>1</td>\n",
       "      <td>NaN</td>\n",
       "      <td>...</td>\n",
       "      <td>0</td>\n",
       "      <td>деревня старополье</td>\n",
       "      <td>NaN</td>\n",
       "      <td>NaN</td>\n",
       "      <td>0.0</td>\n",
       "      <td>NaN</td>\n",
       "      <td>0.0</td>\n",
       "      <td>NaN</td>\n",
       "      <td>45.0</td>\n",
       "      <td>деревня</td>\n",
       "    </tr>\n",
       "    <tr>\n",
       "      <th>17676</th>\n",
       "      <td>0</td>\n",
       "      <td>450000.0</td>\n",
       "      <td>36.5</td>\n",
       "      <td>2018-02-01T00:00:00</td>\n",
       "      <td>1</td>\n",
       "      <td>2.65</td>\n",
       "      <td>5.0</td>\n",
       "      <td>17.3</td>\n",
       "      <td>4</td>\n",
       "      <td>NaN</td>\n",
       "      <td>...</td>\n",
       "      <td>1</td>\n",
       "      <td>деревня ям-тесово</td>\n",
       "      <td>NaN</td>\n",
       "      <td>NaN</td>\n",
       "      <td>0.0</td>\n",
       "      <td>NaN</td>\n",
       "      <td>0.0</td>\n",
       "      <td>NaN</td>\n",
       "      <td>120.0</td>\n",
       "      <td>деревня</td>\n",
       "    </tr>\n",
       "    <tr>\n",
       "      <th>5698</th>\n",
       "      <td>7</td>\n",
       "      <td>450000.0</td>\n",
       "      <td>42.0</td>\n",
       "      <td>2017-07-31T00:00:00</td>\n",
       "      <td>2</td>\n",
       "      <td>2.65</td>\n",
       "      <td>1.0</td>\n",
       "      <td>23.0</td>\n",
       "      <td>1</td>\n",
       "      <td>NaN</td>\n",
       "      <td>...</td>\n",
       "      <td>0</td>\n",
       "      <td>городской посёлок будогощь</td>\n",
       "      <td>25531.0</td>\n",
       "      <td>21246.0</td>\n",
       "      <td>0.0</td>\n",
       "      <td>NaN</td>\n",
       "      <td>0.0</td>\n",
       "      <td>NaN</td>\n",
       "      <td>233.0</td>\n",
       "      <td>поселок</td>\n",
       "    </tr>\n",
       "    <tr>\n",
       "      <th>9581</th>\n",
       "      <td>7</td>\n",
       "      <td>450000.0</td>\n",
       "      <td>43.4</td>\n",
       "      <td>2018-08-31T00:00:00</td>\n",
       "      <td>2</td>\n",
       "      <td>2.65</td>\n",
       "      <td>5.0</td>\n",
       "      <td>30.3</td>\n",
       "      <td>3</td>\n",
       "      <td>NaN</td>\n",
       "      <td>...</td>\n",
       "      <td>0</td>\n",
       "      <td>деревня старополье</td>\n",
       "      <td>NaN</td>\n",
       "      <td>NaN</td>\n",
       "      <td>0.0</td>\n",
       "      <td>NaN</td>\n",
       "      <td>0.0</td>\n",
       "      <td>NaN</td>\n",
       "      <td>96.0</td>\n",
       "      <td>деревня</td>\n",
       "    </tr>\n",
       "    <tr>\n",
       "      <th>16219</th>\n",
       "      <td>14</td>\n",
       "      <td>450000.0</td>\n",
       "      <td>38.5</td>\n",
       "      <td>2018-07-11T00:00:00</td>\n",
       "      <td>2</td>\n",
       "      <td>2.65</td>\n",
       "      <td>2.0</td>\n",
       "      <td>30.0</td>\n",
       "      <td>1</td>\n",
       "      <td>NaN</td>\n",
       "      <td>...</td>\n",
       "      <td>0</td>\n",
       "      <td>деревня вахнова кара</td>\n",
       "      <td>NaN</td>\n",
       "      <td>NaN</td>\n",
       "      <td>0.0</td>\n",
       "      <td>NaN</td>\n",
       "      <td>0.0</td>\n",
       "      <td>NaN</td>\n",
       "      <td>45.0</td>\n",
       "      <td>деревня</td>\n",
       "    </tr>\n",
       "    <tr>\n",
       "      <th>21912</th>\n",
       "      <td>0</td>\n",
       "      <td>470000.0</td>\n",
       "      <td>37.0</td>\n",
       "      <td>2018-02-18T00:00:00</td>\n",
       "      <td>1</td>\n",
       "      <td>2.65</td>\n",
       "      <td>3.0</td>\n",
       "      <td>30.0</td>\n",
       "      <td>3</td>\n",
       "      <td>NaN</td>\n",
       "      <td>...</td>\n",
       "      <td>0</td>\n",
       "      <td>поселок совхозный</td>\n",
       "      <td>NaN</td>\n",
       "      <td>NaN</td>\n",
       "      <td>0.0</td>\n",
       "      <td>NaN</td>\n",
       "      <td>0.0</td>\n",
       "      <td>NaN</td>\n",
       "      <td>45.0</td>\n",
       "      <td>село</td>\n",
       "    </tr>\n",
       "    <tr>\n",
       "      <th>23484</th>\n",
       "      <td>11</td>\n",
       "      <td>470000.0</td>\n",
       "      <td>44.5</td>\n",
       "      <td>2018-07-02T00:00:00</td>\n",
       "      <td>2</td>\n",
       "      <td>2.65</td>\n",
       "      <td>2.0</td>\n",
       "      <td>28.0</td>\n",
       "      <td>2</td>\n",
       "      <td>NaN</td>\n",
       "      <td>...</td>\n",
       "      <td>0</td>\n",
       "      <td>сланцы</td>\n",
       "      <td>26873.5</td>\n",
       "      <td>12702.0</td>\n",
       "      <td>0.0</td>\n",
       "      <td>NaN</td>\n",
       "      <td>0.0</td>\n",
       "      <td>NaN</td>\n",
       "      <td>298.0</td>\n",
       "      <td>город</td>\n",
       "    </tr>\n",
       "  </tbody>\n",
       "</table>\n",
       "<p>10 rows × 23 columns</p>\n",
       "</div>"
      ],
      "text/plain": [
       "       total_images  last_price  total_area first_day_exposition  rooms  \\\n",
       "8793              7     12190.0       109.0  2019-03-20T00:00:00      2   \n",
       "17456             7    430000.0        30.4  2019-04-22T00:00:00      1   \n",
       "14911             5    430000.0        54.0  2018-06-26T00:00:00      2   \n",
       "16274            18    440000.0        40.0  2018-07-10T00:00:00      1   \n",
       "17676             0    450000.0        36.5  2018-02-01T00:00:00      1   \n",
       "5698              7    450000.0        42.0  2017-07-31T00:00:00      2   \n",
       "9581              7    450000.0        43.4  2018-08-31T00:00:00      2   \n",
       "16219            14    450000.0        38.5  2018-07-11T00:00:00      2   \n",
       "21912             0    470000.0        37.0  2018-02-18T00:00:00      1   \n",
       "23484            11    470000.0        44.5  2018-07-02T00:00:00      2   \n",
       "\n",
       "       ceiling_height  floors_total  living_area  floor is_apartment  ...  \\\n",
       "8793             2.75          25.0         32.0     25          NaN  ...   \n",
       "17456            2.65           2.0         16.0      1          NaN  ...   \n",
       "14911            2.65           3.0         30.0      3          NaN  ...   \n",
       "16274            2.65           5.0         30.0      1          NaN  ...   \n",
       "17676            2.65           5.0         17.3      4          NaN  ...   \n",
       "5698             2.65           1.0         23.0      1          NaN  ...   \n",
       "9581             2.65           5.0         30.3      3          NaN  ...   \n",
       "16219            2.65           2.0         30.0      1          NaN  ...   \n",
       "21912            2.65           3.0         30.0      3          NaN  ...   \n",
       "23484            2.65           2.0         28.0      2          NaN  ...   \n",
       "\n",
       "       balcony               locality_name  airports_nearest  \\\n",
       "8793         0             санкт-петербург           36421.0   \n",
       "17456        0                      сланцы           26873.5   \n",
       "14911        0       посёлок станции свирь           25531.0   \n",
       "16274        0          деревня старополье               NaN   \n",
       "17676        1           деревня ям-тесово               NaN   \n",
       "5698         0  городской посёлок будогощь           25531.0   \n",
       "9581         0          деревня старополье               NaN   \n",
       "16219        0        деревня вахнова кара               NaN   \n",
       "21912        0           поселок совхозный               NaN   \n",
       "23484        0                      сланцы           26873.5   \n",
       "\n",
       "       cityCenters_nearest parks_around3000  parks_nearest  ponds_around3000  \\\n",
       "8793                9176.0              1.0          805.0               0.0   \n",
       "17456              12702.0              0.0            NaN               0.0   \n",
       "14911              21246.0              0.0            NaN               0.0   \n",
       "16274                  NaN              0.0            NaN               0.0   \n",
       "17676                  NaN              0.0            NaN               0.0   \n",
       "5698               21246.0              0.0            NaN               0.0   \n",
       "9581                   NaN              0.0            NaN               0.0   \n",
       "16219                  NaN              0.0            NaN               0.0   \n",
       "21912                  NaN              0.0            NaN               0.0   \n",
       "23484              12702.0              0.0            NaN               0.0   \n",
       "\n",
       "       ponds_nearest  days_exposition  locality_type  \n",
       "8793             NaN              8.0          город  \n",
       "17456            NaN              NaN          город  \n",
       "14911            NaN             44.0        поселок  \n",
       "16274            NaN             45.0        деревня  \n",
       "17676            NaN            120.0        деревня  \n",
       "5698             NaN            233.0        поселок  \n",
       "9581             NaN             96.0        деревня  \n",
       "16219            NaN             45.0        деревня  \n",
       "21912            NaN             45.0           село  \n",
       "23484            NaN            298.0          город  \n",
       "\n",
       "[10 rows x 23 columns]"
      ]
     },
     "metadata": {},
     "output_type": "display_data"
    }
   ],
   "source": [
    "display(df.sort_values(by=\"last_price\").head(10))"
   ]
  },
  {
   "cell_type": "markdown",
   "metadata": {},
   "source": [
    "Как видно, это единный случай и видимо, что тот кто заполнял форму ошибся с десятичной. Можно предположить, что это должно быть  12 миллионов, но рискавать не будем, поэтому вырежем данную строку:"
   ]
  },
  {
   "cell_type": "code",
   "execution_count": 47,
   "metadata": {},
   "outputs": [],
   "source": [
    "df = df[df[\"last_price\"] > 100000]"
   ]
  },
  {
   "cell_type": "code",
   "execution_count": 48,
   "metadata": {},
   "outputs": [
    {
     "name": "stdout",
     "output_type": "stream",
     "text": [
      "count    2.357900e+04\n",
      "mean     6.170962e+06\n",
      "std      6.201951e+06\n",
      "min      4.300000e+05\n",
      "25%      3.400000e+06\n",
      "50%      4.600000e+06\n",
      "75%      6.700000e+06\n",
      "max      9.900000e+07\n",
      "Name: last_price, dtype: float64\n"
     ]
    }
   ],
   "source": [
    "print(df[\"last_price\"].describe())"
   ]
  },
  {
   "cell_type": "markdown",
   "metadata": {},
   "source": [
    "### Посчитайте и добавьте в таблицу новые столбцы"
   ]
  },
  {
   "cell_type": "markdown",
   "metadata": {},
   "source": [
    "# price per m^2"
   ]
  },
  {
   "cell_type": "code",
   "execution_count": 49,
   "metadata": {},
   "outputs": [],
   "source": [
    "df[\"price_per_meter_sqr\"] = df[\"last_price\"]/df[\"total_area\"]"
   ]
  },
  {
   "cell_type": "markdown",
   "metadata": {},
   "source": [
    "# weekday"
   ]
  },
  {
   "cell_type": "code",
   "execution_count": 50,
   "metadata": {},
   "outputs": [],
   "source": [
    "df[\"first_day_exposition\"] = pd.to_datetime(df[\"first_day_exposition\"], format = \"%Y-%m-%dT%H:%M:%S\")"
   ]
  },
  {
   "cell_type": "code",
   "execution_count": 51,
   "metadata": {},
   "outputs": [],
   "source": [
    "df[\"appearance_weekday\"] = pd.DatetimeIndex(df[\"first_day_exposition\"]).weekday"
   ]
  },
  {
   "cell_type": "markdown",
   "metadata": {},
   "source": [
    "# month"
   ]
  },
  {
   "cell_type": "code",
   "execution_count": 52,
   "metadata": {},
   "outputs": [],
   "source": [
    "df[\"appearance_month\"] = pd.DatetimeIndex(df[\"first_day_exposition\"]).month"
   ]
  },
  {
   "cell_type": "markdown",
   "metadata": {},
   "source": [
    "# year"
   ]
  },
  {
   "cell_type": "code",
   "execution_count": 53,
   "metadata": {},
   "outputs": [],
   "source": [
    "df[\"appearance_year\"] = pd.DatetimeIndex(df[\"first_day_exposition\"]).year"
   ]
  },
  {
   "cell_type": "markdown",
   "metadata": {},
   "source": [
    "# floor type"
   ]
  },
  {
   "cell_type": "code",
   "execution_count": 54,
   "metadata": {},
   "outputs": [],
   "source": [
    "df.loc[(df['floor'] == 1), 'floor_type'] = 'первый'\n",
    "df.loc[(df['floor'] == df['floors_total']), 'floor_type'] = 'последний'\n",
    "df.loc[(df['floor'] != df['floors_total']) & (df['floor'] != 1), 'floor_type'] = 'другой'"
   ]
  },
  {
   "cell_type": "markdown",
   "metadata": {},
   "source": [
    "# distance to center"
   ]
  },
  {
   "cell_type": "code",
   "execution_count": 55,
   "metadata": {},
   "outputs": [],
   "source": [
    "df[\"distance_to_center\"] = df[\"cityCenters_nearest\"]/1000\n",
    "df.loc[df[\"distance_to_center\"].notna()] = round(df.loc[df[\"distance_to_center\"].notna()],0)"
   ]
  },
  {
   "cell_type": "markdown",
   "metadata": {},
   "source": [
    "# result"
   ]
  },
  {
   "cell_type": "code",
   "execution_count": 56,
   "metadata": {
    "scrolled": true
   },
   "outputs": [
    {
     "data": {
      "text/html": [
       "<div>\n",
       "<style scoped>\n",
       "    .dataframe tbody tr th:only-of-type {\n",
       "        vertical-align: middle;\n",
       "    }\n",
       "\n",
       "    .dataframe tbody tr th {\n",
       "        vertical-align: top;\n",
       "    }\n",
       "\n",
       "    .dataframe thead th {\n",
       "        text-align: right;\n",
       "    }\n",
       "</style>\n",
       "<table border=\"1\" class=\"dataframe\">\n",
       "  <thead>\n",
       "    <tr style=\"text-align: right;\">\n",
       "      <th></th>\n",
       "      <th>total_images</th>\n",
       "      <th>last_price</th>\n",
       "      <th>total_area</th>\n",
       "      <th>first_day_exposition</th>\n",
       "      <th>rooms</th>\n",
       "      <th>ceiling_height</th>\n",
       "      <th>floors_total</th>\n",
       "      <th>living_area</th>\n",
       "      <th>floor</th>\n",
       "      <th>is_apartment</th>\n",
       "      <th>...</th>\n",
       "      <th>ponds_around3000</th>\n",
       "      <th>ponds_nearest</th>\n",
       "      <th>days_exposition</th>\n",
       "      <th>locality_type</th>\n",
       "      <th>price_per_meter_sqr</th>\n",
       "      <th>appearance_weekday</th>\n",
       "      <th>appearance_month</th>\n",
       "      <th>appearance_year</th>\n",
       "      <th>floor_type</th>\n",
       "      <th>distance_to_center</th>\n",
       "    </tr>\n",
       "  </thead>\n",
       "  <tbody>\n",
       "    <tr>\n",
       "      <th>0</th>\n",
       "      <td>20</td>\n",
       "      <td>13000000.0</td>\n",
       "      <td>108.0</td>\n",
       "      <td>2019-03-07</td>\n",
       "      <td>3</td>\n",
       "      <td>3.0</td>\n",
       "      <td>16.0</td>\n",
       "      <td>51.0</td>\n",
       "      <td>8</td>\n",
       "      <td>NaN</td>\n",
       "      <td>...</td>\n",
       "      <td>2.0</td>\n",
       "      <td>755.0</td>\n",
       "      <td>NaN</td>\n",
       "      <td>город</td>\n",
       "      <td>120370.0</td>\n",
       "      <td>3</td>\n",
       "      <td>3</td>\n",
       "      <td>2019</td>\n",
       "      <td>другой</td>\n",
       "      <td>16.0</td>\n",
       "    </tr>\n",
       "    <tr>\n",
       "      <th>1</th>\n",
       "      <td>7</td>\n",
       "      <td>3350000.0</td>\n",
       "      <td>40.0</td>\n",
       "      <td>2018-12-04</td>\n",
       "      <td>1</td>\n",
       "      <td>3.0</td>\n",
       "      <td>11.0</td>\n",
       "      <td>19.0</td>\n",
       "      <td>1</td>\n",
       "      <td>NaN</td>\n",
       "      <td>...</td>\n",
       "      <td>0.0</td>\n",
       "      <td>NaN</td>\n",
       "      <td>81.0</td>\n",
       "      <td>поселок</td>\n",
       "      <td>82921.0</td>\n",
       "      <td>1</td>\n",
       "      <td>12</td>\n",
       "      <td>2018</td>\n",
       "      <td>первый</td>\n",
       "      <td>19.0</td>\n",
       "    </tr>\n",
       "    <tr>\n",
       "      <th>2</th>\n",
       "      <td>10</td>\n",
       "      <td>5196000.0</td>\n",
       "      <td>56.0</td>\n",
       "      <td>2015-08-20</td>\n",
       "      <td>2</td>\n",
       "      <td>3.0</td>\n",
       "      <td>5.0</td>\n",
       "      <td>34.0</td>\n",
       "      <td>4</td>\n",
       "      <td>NaN</td>\n",
       "      <td>...</td>\n",
       "      <td>2.0</td>\n",
       "      <td>574.0</td>\n",
       "      <td>558.0</td>\n",
       "      <td>город</td>\n",
       "      <td>92786.0</td>\n",
       "      <td>3</td>\n",
       "      <td>8</td>\n",
       "      <td>2015</td>\n",
       "      <td>другой</td>\n",
       "      <td>14.0</td>\n",
       "    </tr>\n",
       "    <tr>\n",
       "      <th>3</th>\n",
       "      <td>0</td>\n",
       "      <td>64900000.0</td>\n",
       "      <td>159.0</td>\n",
       "      <td>2015-07-24</td>\n",
       "      <td>3</td>\n",
       "      <td>3.0</td>\n",
       "      <td>14.0</td>\n",
       "      <td>30.0</td>\n",
       "      <td>9</td>\n",
       "      <td>NaN</td>\n",
       "      <td>...</td>\n",
       "      <td>3.0</td>\n",
       "      <td>234.0</td>\n",
       "      <td>424.0</td>\n",
       "      <td>город</td>\n",
       "      <td>408176.0</td>\n",
       "      <td>4</td>\n",
       "      <td>7</td>\n",
       "      <td>2015</td>\n",
       "      <td>другой</td>\n",
       "      <td>7.0</td>\n",
       "    </tr>\n",
       "    <tr>\n",
       "      <th>4</th>\n",
       "      <td>2</td>\n",
       "      <td>10000000.0</td>\n",
       "      <td>100.0</td>\n",
       "      <td>2018-06-19</td>\n",
       "      <td>2</td>\n",
       "      <td>3.0</td>\n",
       "      <td>14.0</td>\n",
       "      <td>32.0</td>\n",
       "      <td>13</td>\n",
       "      <td>NaN</td>\n",
       "      <td>...</td>\n",
       "      <td>1.0</td>\n",
       "      <td>48.0</td>\n",
       "      <td>121.0</td>\n",
       "      <td>город</td>\n",
       "      <td>100000.0</td>\n",
       "      <td>1</td>\n",
       "      <td>6</td>\n",
       "      <td>2018</td>\n",
       "      <td>другой</td>\n",
       "      <td>8.0</td>\n",
       "    </tr>\n",
       "    <tr>\n",
       "      <th>5</th>\n",
       "      <td>10</td>\n",
       "      <td>2890000.0</td>\n",
       "      <td>30.0</td>\n",
       "      <td>2018-09-10</td>\n",
       "      <td>1</td>\n",
       "      <td>3.0</td>\n",
       "      <td>12.0</td>\n",
       "      <td>14.0</td>\n",
       "      <td>5</td>\n",
       "      <td>NaN</td>\n",
       "      <td>...</td>\n",
       "      <td>0.0</td>\n",
       "      <td>NaN</td>\n",
       "      <td>55.0</td>\n",
       "      <td>поселок</td>\n",
       "      <td>95066.0</td>\n",
       "      <td>0</td>\n",
       "      <td>9</td>\n",
       "      <td>2018</td>\n",
       "      <td>другой</td>\n",
       "      <td>21.0</td>\n",
       "    </tr>\n",
       "    <tr>\n",
       "      <th>6</th>\n",
       "      <td>6</td>\n",
       "      <td>3700000.0</td>\n",
       "      <td>37.0</td>\n",
       "      <td>2017-11-02</td>\n",
       "      <td>1</td>\n",
       "      <td>3.0</td>\n",
       "      <td>26.0</td>\n",
       "      <td>11.0</td>\n",
       "      <td>6</td>\n",
       "      <td>NaN</td>\n",
       "      <td>...</td>\n",
       "      <td>0.0</td>\n",
       "      <td>NaN</td>\n",
       "      <td>155.0</td>\n",
       "      <td>поселок</td>\n",
       "      <td>99196.0</td>\n",
       "      <td>3</td>\n",
       "      <td>11</td>\n",
       "      <td>2017</td>\n",
       "      <td>другой</td>\n",
       "      <td>19.0</td>\n",
       "    </tr>\n",
       "    <tr>\n",
       "      <th>7</th>\n",
       "      <td>5</td>\n",
       "      <td>7915000.0</td>\n",
       "      <td>72.0</td>\n",
       "      <td>2019-04-18</td>\n",
       "      <td>2</td>\n",
       "      <td>3.0</td>\n",
       "      <td>24.0</td>\n",
       "      <td>30.0</td>\n",
       "      <td>22</td>\n",
       "      <td>NaN</td>\n",
       "      <td>...</td>\n",
       "      <td>0.0</td>\n",
       "      <td>NaN</td>\n",
       "      <td>NaN</td>\n",
       "      <td>город</td>\n",
       "      <td>110545.0</td>\n",
       "      <td>3</td>\n",
       "      <td>4</td>\n",
       "      <td>2019</td>\n",
       "      <td>другой</td>\n",
       "      <td>12.0</td>\n",
       "    </tr>\n",
       "    <tr>\n",
       "      <th>8</th>\n",
       "      <td>20</td>\n",
       "      <td>2900000.0</td>\n",
       "      <td>33.0</td>\n",
       "      <td>2018-05-23</td>\n",
       "      <td>1</td>\n",
       "      <td>3.0</td>\n",
       "      <td>27.0</td>\n",
       "      <td>15.0</td>\n",
       "      <td>26</td>\n",
       "      <td>NaN</td>\n",
       "      <td>...</td>\n",
       "      <td>0.0</td>\n",
       "      <td>NaN</td>\n",
       "      <td>189.0</td>\n",
       "      <td>поселок</td>\n",
       "      <td>87455.0</td>\n",
       "      <td>2</td>\n",
       "      <td>5</td>\n",
       "      <td>2018</td>\n",
       "      <td>другой</td>\n",
       "      <td>21.0</td>\n",
       "    </tr>\n",
       "    <tr>\n",
       "      <th>9</th>\n",
       "      <td>18</td>\n",
       "      <td>5400000.0</td>\n",
       "      <td>61.0</td>\n",
       "      <td>2017-02-26</td>\n",
       "      <td>3</td>\n",
       "      <td>2.0</td>\n",
       "      <td>9.0</td>\n",
       "      <td>44.0</td>\n",
       "      <td>7</td>\n",
       "      <td>NaN</td>\n",
       "      <td>...</td>\n",
       "      <td>0.0</td>\n",
       "      <td>NaN</td>\n",
       "      <td>289.0</td>\n",
       "      <td>город</td>\n",
       "      <td>88525.0</td>\n",
       "      <td>6</td>\n",
       "      <td>2</td>\n",
       "      <td>2017</td>\n",
       "      <td>другой</td>\n",
       "      <td>15.0</td>\n",
       "    </tr>\n",
       "  </tbody>\n",
       "</table>\n",
       "<p>10 rows × 29 columns</p>\n",
       "</div>"
      ],
      "text/plain": [
       "   total_images  last_price  total_area first_day_exposition  rooms  \\\n",
       "0            20  13000000.0       108.0           2019-03-07      3   \n",
       "1             7   3350000.0        40.0           2018-12-04      1   \n",
       "2            10   5196000.0        56.0           2015-08-20      2   \n",
       "3             0  64900000.0       159.0           2015-07-24      3   \n",
       "4             2  10000000.0       100.0           2018-06-19      2   \n",
       "5            10   2890000.0        30.0           2018-09-10      1   \n",
       "6             6   3700000.0        37.0           2017-11-02      1   \n",
       "7             5   7915000.0        72.0           2019-04-18      2   \n",
       "8            20   2900000.0        33.0           2018-05-23      1   \n",
       "9            18   5400000.0        61.0           2017-02-26      3   \n",
       "\n",
       "   ceiling_height  floors_total  living_area  floor is_apartment  ...  \\\n",
       "0             3.0          16.0         51.0      8          NaN  ...   \n",
       "1             3.0          11.0         19.0      1          NaN  ...   \n",
       "2             3.0           5.0         34.0      4          NaN  ...   \n",
       "3             3.0          14.0         30.0      9          NaN  ...   \n",
       "4             3.0          14.0         32.0     13          NaN  ...   \n",
       "5             3.0          12.0         14.0      5          NaN  ...   \n",
       "6             3.0          26.0         11.0      6          NaN  ...   \n",
       "7             3.0          24.0         30.0     22          NaN  ...   \n",
       "8             3.0          27.0         15.0     26          NaN  ...   \n",
       "9             2.0           9.0         44.0      7          NaN  ...   \n",
       "\n",
       "   ponds_around3000  ponds_nearest  days_exposition  locality_type  \\\n",
       "0               2.0          755.0              NaN          город   \n",
       "1               0.0            NaN             81.0        поселок   \n",
       "2               2.0          574.0            558.0          город   \n",
       "3               3.0          234.0            424.0          город   \n",
       "4               1.0           48.0            121.0          город   \n",
       "5               0.0            NaN             55.0        поселок   \n",
       "6               0.0            NaN            155.0        поселок   \n",
       "7               0.0            NaN              NaN          город   \n",
       "8               0.0            NaN            189.0        поселок   \n",
       "9               0.0            NaN            289.0          город   \n",
       "\n",
       "  price_per_meter_sqr  appearance_weekday  appearance_month  appearance_year  \\\n",
       "0            120370.0                   3                 3             2019   \n",
       "1             82921.0                   1                12             2018   \n",
       "2             92786.0                   3                 8             2015   \n",
       "3            408176.0                   4                 7             2015   \n",
       "4            100000.0                   1                 6             2018   \n",
       "5             95066.0                   0                 9             2018   \n",
       "6             99196.0                   3                11             2017   \n",
       "7            110545.0                   3                 4             2019   \n",
       "8             87455.0                   2                 5             2018   \n",
       "9             88525.0                   6                 2             2017   \n",
       "\n",
       "   floor_type  distance_to_center  \n",
       "0      другой                16.0  \n",
       "1      первый                19.0  \n",
       "2      другой                14.0  \n",
       "3      другой                 7.0  \n",
       "4      другой                 8.0  \n",
       "5      другой                21.0  \n",
       "6      другой                19.0  \n",
       "7      другой                12.0  \n",
       "8      другой                21.0  \n",
       "9      другой                15.0  \n",
       "\n",
       "[10 rows x 29 columns]"
      ]
     },
     "metadata": {},
     "output_type": "display_data"
    }
   ],
   "source": [
    "display(df.head(10)) #проверяем созданные столбцов"
   ]
  },
  {
   "cell_type": "code",
   "execution_count": 57,
   "metadata": {
    "scrolled": true
   },
   "outputs": [
    {
     "name": "stdout",
     "output_type": "stream",
     "text": [
      "<class 'pandas.core.frame.DataFrame'>\n",
      "Int64Index: 23579 entries, 0 to 23698\n",
      "Data columns (total 29 columns):\n",
      " #   Column                Non-Null Count  Dtype         \n",
      "---  ------                --------------  -----         \n",
      " 0   total_images          23579 non-null  int64         \n",
      " 1   last_price            23579 non-null  float64       \n",
      " 2   total_area            23579 non-null  float64       \n",
      " 3   first_day_exposition  23579 non-null  datetime64[ns]\n",
      " 4   rooms                 23579 non-null  int64         \n",
      " 5   ceiling_height        23579 non-null  float64       \n",
      " 6   floors_total          23579 non-null  float64       \n",
      " 7   living_area           23579 non-null  float64       \n",
      " 8   floor                 23579 non-null  int64         \n",
      " 9   is_apartment          2766 non-null   object        \n",
      " 10  studio                23579 non-null  bool          \n",
      " 11  open_plan             23579 non-null  bool          \n",
      " 12  kitchen_area          23579 non-null  float64       \n",
      " 13  balcony               23579 non-null  int64         \n",
      " 14  locality_name         23579 non-null  object        \n",
      " 15  airports_nearest      22051 non-null  float64       \n",
      " 16  cityCenters_nearest   22051 non-null  float64       \n",
      " 17  parks_around3000      23579 non-null  float64       \n",
      " 18  parks_nearest         7991 non-null   float64       \n",
      " 19  ponds_around3000      23579 non-null  float64       \n",
      " 20  ponds_nearest         9028 non-null   float64       \n",
      " 21  days_exposition       20430 non-null  float64       \n",
      " 22  locality_type         23579 non-null  object        \n",
      " 23  price_per_meter_sqr   23579 non-null  float64       \n",
      " 24  appearance_weekday    23579 non-null  int64         \n",
      " 25  appearance_month      23579 non-null  int64         \n",
      " 26  appearance_year       23579 non-null  int64         \n",
      " 27  floor_type            23579 non-null  object        \n",
      " 28  distance_to_center    22051 non-null  float64       \n",
      "dtypes: bool(2), datetime64[ns](1), float64(15), int64(7), object(4)\n",
      "memory usage: 5.1+ MB\n"
     ]
    }
   ],
   "source": [
    "df.info()"
   ]
  },
  {
   "cell_type": "markdown",
   "metadata": {
    "scrolled": true
   },
   "source": [
    "Комментарий: столбцы созданы успешно"
   ]
  },
  {
   "cell_type": "markdown",
   "metadata": {},
   "source": [
    "### Проведите исследовательский анализ данных"
   ]
  },
  {
   "cell_type": "markdown",
   "metadata": {},
   "source": [
    "# total_area"
   ]
  },
  {
   "cell_type": "code",
   "execution_count": 58,
   "metadata": {},
   "outputs": [
    {
     "data": {
      "text/plain": [
       "<AxesSubplot:title={'center':'total_area'}, ylabel='Frequency'>"
      ]
     },
     "execution_count": 58,
     "metadata": {},
     "output_type": "execute_result"
    },
    {
     "data": {
      "image/png": "[encoded data removed]",
      "text/plain": [
       "<Figure size 864x360 with 1 Axes>"
      ]
     },
     "metadata": {
      "needs_background": "light"
     },
     "output_type": "display_data"
    }
   ],
   "source": [
    "df[\"total_area\"].plot(kind = \"hist\", bins = 100, title =\"total_area\", grid = True, figsize = (12,5), xlim = [0,400])"
   ]
  },
  {
   "cell_type": "markdown",
   "metadata": {},
   "source": [
    "Как видно из графика, большинство квартир имеют общую площадь с районе 30-40 квадратных метром. Далее, при возрастании площади, количество квартир уменьшается экспоненциально. "
   ]
  },
  {
   "cell_type": "markdown",
   "metadata": {},
   "source": [
    "# living_area"
   ]
  },
  {
   "cell_type": "code",
   "execution_count": 59,
   "metadata": {},
   "outputs": [
    {
     "data": {
      "text/plain": [
       "<AxesSubplot:title={'center':'living_area'}, ylabel='Frequency'>"
      ]
     },
     "execution_count": 59,
     "metadata": {},
     "output_type": "execute_result"
    },
    {
     "data": {
      "image/png": "[encoded data removed]",
      "text/plain": [
       "<Figure size 864x360 with 1 Axes>"
      ]
     },
     "metadata": {
      "needs_background": "light"
     },
     "output_type": "display_data"
    }
   ],
   "source": [
    "df[\"living_area\"].plot(kind = \"hist\", bins = 100, title =\"living_area\", grid = True, figsize = (12,5), xlim = [0,250])"
   ]
  },
  {
   "cell_type": "markdown",
   "metadata": {},
   "source": [
    "Общая картина графика схожа с графиком общий площади, что логично. Однако, можно заметить сильную впадину на уровне в 25-30 квадратных метров."
   ]
  },
  {
   "cell_type": "markdown",
   "metadata": {},
   "source": [
    "# kitchen_area"
   ]
  },
  {
   "cell_type": "code",
   "execution_count": 60,
   "metadata": {},
   "outputs": [
    {
     "data": {
      "text/plain": [
       "<AxesSubplot:title={'center':'kitchen_area'}, ylabel='Frequency'>"
      ]
     },
     "execution_count": 60,
     "metadata": {},
     "output_type": "execute_result"
    },
    {
     "data": {
      "image/png": "[encoded data removed]",
      "text/plain": [
       "<Figure size 864x360 with 1 Axes>"
      ]
     },
     "metadata": {
      "needs_background": "light"
     },
     "output_type": "display_data"
    }
   ],
   "source": [
    "df[\"kitchen_area\"].plot(kind = \"hist\", bins = 100, title =\"kitchen_area\", grid = True, figsize = (12,5),xlim = [0,60])"
   ]
  },
  {
   "cell_type": "markdown",
   "metadata": {},
   "source": [
    "График площади кухни схож с двумя ранее описаными, но имеет более резкий спад в чистоте после 12 квадратный метров. "
   ]
  },
  {
   "cell_type": "markdown",
   "metadata": {},
   "source": [
    "# last_price"
   ]
  },
  {
   "cell_type": "code",
   "execution_count": 61,
   "metadata": {},
   "outputs": [
    {
     "data": {
      "text/plain": [
       "<AxesSubplot:title={'center':'last_price'}, ylabel='Frequency'>"
      ]
     },
     "execution_count": 61,
     "metadata": {},
     "output_type": "execute_result"
    },
    {
     "data": {
      "image/png": "[encoded data removed]",
      "text/plain": [
       "<Figure size 864x360 with 1 Axes>"
      ]
     },
     "metadata": {
      "needs_background": "light"
     },
     "output_type": "display_data"
    }
   ],
   "source": [
    "df[\"last_price\"].plot(kind = \"hist\", bins = 1000, title =\"last_price\", grid = True, figsize = (12,5), xlim = [0,50000000])"
   ]
  },
  {
   "cell_type": "markdown",
   "metadata": {},
   "source": [
    "Как можно видеть, график цены имеют форму распределения с длинным хвостом квартир с не нормально высокой стоимостью. Самая частая стоимость квартир составляет в районе 5 миллионов. "
   ]
  },
  {
   "cell_type": "markdown",
   "metadata": {},
   "source": [
    "# rooms"
   ]
  },
  {
   "cell_type": "code",
   "execution_count": 62,
   "metadata": {},
   "outputs": [
    {
     "data": {
      "text/plain": [
       "<AxesSubplot:title={'center':'rooms'}, ylabel='Frequency'>"
      ]
     },
     "execution_count": 62,
     "metadata": {},
     "output_type": "execute_result"
    },
    {
     "data": {
      "image/png": "[encoded data removed]",
      "text/plain": [
       "<Figure size 864x360 with 1 Axes>"
      ]
     },
     "metadata": {
      "needs_background": "light"
     },
     "output_type": "display_data"
    }
   ],
   "source": [
    "df[\"rooms\"].plot(kind = \"hist\", bins = 10, title =\"rooms\", grid = True, figsize = (12,5), xlim = [0,10])"
   ]
  },
  {
   "cell_type": "markdown",
   "metadata": {},
   "source": [
    "Как можно видеть по результатам, больше всего встречаются квартиры с 2 или 3 квартирами. Так же, довольно часто встречаются квартиры без комнат - студии или квартиры с одной комнатой. "
   ]
  },
  {
   "cell_type": "markdown",
   "metadata": {},
   "source": [
    "# ceiling_height"
   ]
  },
  {
   "cell_type": "code",
   "execution_count": 63,
   "metadata": {},
   "outputs": [
    {
     "data": {
      "text/plain": [
       "<AxesSubplot:title={'center':'ceiling_height'}, ylabel='Frequency'>"
      ]
     },
     "execution_count": 63,
     "metadata": {},
     "output_type": "execute_result"
    },
    {
     "data": {
      "image/png": "[encoded data removed]",
      "text/plain": [
       "<Figure size 864x360 with 1 Axes>"
      ]
     },
     "metadata": {
      "needs_background": "light"
     },
     "output_type": "display_data"
    }
   ],
   "source": [
    "df[\"ceiling_height\"].plot(kind = \"hist\", bins = 30, title =\"ceiling_height\", grid = True, figsize = (12,5))"
   ]
  },
  {
   "cell_type": "markdown",
   "metadata": {},
   "source": [
    "Из данных по высоте потолка, можно наблюдать наличие четырех групп по высоте потолков - 2, 2.5, 3 и 4 метра. "
   ]
  },
  {
   "cell_type": "markdown",
   "metadata": {},
   "source": [
    "# floor"
   ]
  },
  {
   "cell_type": "code",
   "execution_count": 64,
   "metadata": {
    "scrolled": true
   },
   "outputs": [
    {
     "data": {
      "text/plain": [
       "<AxesSubplot:title={'center':'floor'}, ylabel='Frequency'>"
      ]
     },
     "execution_count": 64,
     "metadata": {},
     "output_type": "execute_result"
    },
    {
     "data": {
      "image/png": "[encoded data removed]",
      "text/plain": [
       "<Figure size 864x360 with 1 Axes>"
      ]
     },
     "metadata": {
      "needs_background": "light"
     },
     "output_type": "display_data"
    }
   ],
   "source": [
    "df[\"floor\"].plot(kind = \"hist\", bins = 60, title =\"floor\", grid = True, figsize = (12,5), xlim = [1,30])"
   ]
  },
  {
   "cell_type": "code",
   "execution_count": 65,
   "metadata": {},
   "outputs": [
    {
     "data": {
      "image/png": "[encoded data removed]",
      "text/plain": [
       "<Figure size 1008x360 with 1 Axes>"
      ]
     },
     "metadata": {
      "needs_background": "light"
     },
     "output_type": "display_data"
    }
   ],
   "source": [
    "df[\"floor\"].hist(range = (0,30), bins = 60, grid = True, figsize = (14,5));"
   ]
  },
  {
   "cell_type": "markdown",
   "metadata": {},
   "source": [
    "Из данных видно, что самый популярный этаж - второй. Далее, чем выше этаж, тем меньшая частичность с исключением на первый, который на третьем месте по частичности. "
   ]
  },
  {
   "cell_type": "markdown",
   "metadata": {},
   "source": [
    "# floor_type"
   ]
  },
  {
   "cell_type": "code",
   "execution_count": 66,
   "metadata": {},
   "outputs": [
    {
     "name": "stdout",
     "output_type": "stream",
     "text": [
      "floor_type\n",
      "другой       17370\n",
      "первый        2881\n",
      "последний     3328\n",
      "Name: floor_type, dtype: int64\n"
     ]
    }
   ],
   "source": [
    "print(df.groupby(\"floor_type\")[\"floor_type\"].count())"
   ]
  },
  {
   "cell_type": "markdown",
   "metadata": {},
   "source": [
    "Из данных, можно заметить, что довольная большая группа квартир имеет или первый, или последний этаж, а именно 26 процентом от всех квартир, что не мало."
   ]
  },
  {
   "cell_type": "code",
   "execution_count": 67,
   "metadata": {},
   "outputs": [
    {
     "data": {
      "text/plain": [
       "<AxesSubplot:title={'center':'floors_total'}, ylabel='Frequency'>"
      ]
     },
     "execution_count": 67,
     "metadata": {},
     "output_type": "execute_result"
    },
    {
     "data": {
      "image/png": "[encoded data removed]",
      "text/plain": [
       "<Figure size 864x360 with 1 Axes>"
      ]
     },
     "metadata": {
      "needs_background": "light"
     },
     "output_type": "display_data"
    }
   ],
   "source": [
    "df[\"floors_total\"].plot(kind = \"hist\", bins = 40, title =\"floors_total\", grid = True, figsize = (12,5), xlim = [0,40])"
   ]
  },
  {
   "cell_type": "markdown",
   "metadata": {},
   "source": [
    "Из данных об общем количестве этажей, можно увидеть какие дома самые типичные, например всеми известные 5ти и 9ти этажки или 16ти и 25ти этажки. "
   ]
  },
  {
   "cell_type": "markdown",
   "metadata": {},
   "source": [
    "# cityCenters_nearest"
   ]
  },
  {
   "cell_type": "code",
   "execution_count": 68,
   "metadata": {},
   "outputs": [
    {
     "data": {
      "text/plain": [
       "<AxesSubplot:title={'center':'cityCenters_nearest'}, ylabel='Frequency'>"
      ]
     },
     "execution_count": 68,
     "metadata": {},
     "output_type": "execute_result"
    },
    {
     "data": {
      "image/png": "[encoded data removed]",
      "text/plain": [
       "<Figure size 864x360 with 1 Axes>"
      ]
     },
     "metadata": {
      "needs_background": "light"
     },
     "output_type": "display_data"
    }
   ],
   "source": [
    "df[\"cityCenters_nearest\"].plot(kind = \"hist\", bins = 50, title =\"cityCenters_nearest\", grid = True, figsize = (12,5))"
   ]
  },
  {
   "cell_type": "markdown",
   "metadata": {},
   "source": [
    "Данный график показывает, что чаще всего квартиры расположены от центра на расстоянии около 12-13 км. Но есть и другие пики 22 км и 5 км, которые скорее всего связаны с логистическими факторами. "
   ]
  },
  {
   "cell_type": "markdown",
   "metadata": {},
   "source": [
    "# airports_nearest"
   ]
  },
  {
   "cell_type": "code",
   "execution_count": 69,
   "metadata": {},
   "outputs": [
    {
     "data": {
      "text/plain": [
       "<AxesSubplot:title={'center':'airports_nearest'}, ylabel='Frequency'>"
      ]
     },
     "execution_count": 69,
     "metadata": {},
     "output_type": "execute_result"
    },
    {
     "data": {
      "image/png": "[encoded data removed]",
      "text/plain": [
       "<Figure size 864x360 with 1 Axes>"
      ]
     },
     "metadata": {
      "needs_background": "light"
     },
     "output_type": "display_data"
    }
   ],
   "source": [
    "df[\"airports_nearest\"].plot(kind = \"hist\", bins = 50, title =\"airports_nearest\", grid = True, figsize = (12,5), xlim = [0,60000])"
   ]
  },
  {
   "cell_type": "markdown",
   "metadata": {},
   "source": [
    "График показывает не нормально высокое значение частоты квартир распложённые на расстоянии в 26-27 км от аэропорта. "
   ]
  },
  {
   "cell_type": "markdown",
   "metadata": {},
   "source": [
    "# parks_nearest"
   ]
  },
  {
   "cell_type": "code",
   "execution_count": 70,
   "metadata": {},
   "outputs": [
    {
     "data": {
      "text/plain": [
       "<AxesSubplot:title={'center':'parks_nearest'}, ylabel='Frequency'>"
      ]
     },
     "execution_count": 70,
     "metadata": {},
     "output_type": "execute_result"
    },
    {
     "data": {
      "image/png": "[encoded data removed]",
      "text/plain": [
       "<Figure size 864x360 with 1 Axes>"
      ]
     },
     "metadata": {
      "needs_background": "light"
     },
     "output_type": "display_data"
    }
   ],
   "source": [
    "df[\"parks_nearest\"].plot(kind = \"hist\", bins = 30, title =\"parks_nearest\", grid = True, figsize = (12,5))"
   ]
  },
  {
   "cell_type": "markdown",
   "metadata": {},
   "source": [
    "Из данных можно видеть, что большинство квартир имеют парк на расстоянии менее 500 метров. "
   ]
  },
  {
   "cell_type": "markdown",
   "metadata": {},
   "source": [
    "# appearance_weekday"
   ]
  },
  {
   "cell_type": "code",
   "execution_count": 71,
   "metadata": {},
   "outputs": [
    {
     "data": {
      "text/plain": [
       "<AxesSubplot:title={'center':'appearance_weekday'}, ylabel='Frequency'>"
      ]
     },
     "execution_count": 71,
     "metadata": {},
     "output_type": "execute_result"
    },
    {
     "data": {
      "image/png": "[encoded data removed]",
      "text/plain": [
       "<Figure size 864x360 with 1 Axes>"
      ]
     },
     "metadata": {
      "needs_background": "light"
     },
     "output_type": "display_data"
    }
   ],
   "source": [
    "df[\"appearance_weekday\"].plot(kind = \"hist\", bins = 6, title =\"appearance_weekday\", grid = True, figsize = (12,5))"
   ]
  },
  {
   "cell_type": "markdown",
   "metadata": {},
   "source": [
    "Из результат видно, что день неделе категорически не влияет на частоту появления объявлений. "
   ]
  },
  {
   "cell_type": "markdown",
   "metadata": {},
   "source": [
    "# appearance_month"
   ]
  },
  {
   "cell_type": "code",
   "execution_count": 72,
   "metadata": {},
   "outputs": [
    {
     "data": {
      "text/plain": [
       "<AxesSubplot:title={'center':'appearance_month'}, ylabel='Frequency'>"
      ]
     },
     "execution_count": 72,
     "metadata": {},
     "output_type": "execute_result"
    },
    {
     "data": {
      "image/png": "[encoded data removed]",
      "text/plain": [
       "<Figure size 864x360 with 1 Axes>"
      ]
     },
     "metadata": {
      "needs_background": "light"
     },
     "output_type": "display_data"
    }
   ],
   "source": [
    "df[\"appearance_month\"].plot(kind = \"hist\", bins = 12, title =\"appearance_month\", grid = True, figsize = (12,5))"
   ]
  },
  {
   "cell_type": "markdown",
   "metadata": {},
   "source": [
    "Из данных по частоте выставления обявлений по месяцам, можно заметить, что есть два пиковыз периода - весна и осень. "
   ]
  },
  {
   "cell_type": "markdown",
   "metadata": {},
   "source": [
    "# days_exposition"
   ]
  },
  {
   "cell_type": "code",
   "execution_count": 73,
   "metadata": {},
   "outputs": [
    {
     "data": {
      "text/plain": [
       "<AxesSubplot:title={'center':'days_exposition'}, ylabel='Frequency'>"
      ]
     },
     "execution_count": 73,
     "metadata": {},
     "output_type": "execute_result"
    },
    {
     "data": {
      "image/png": "[encoded data removed]",
      "text/plain": [
       "<Figure size 864x360 with 1 Axes>"
      ]
     },
     "metadata": {
      "needs_background": "light"
     },
     "output_type": "display_data"
    }
   ],
   "source": [
    "df[\"days_exposition\"].plot(kind = \"hist\", bins = 12, title =\"days_exposition\", grid = True, figsize = (12,5))"
   ]
  },
  {
   "cell_type": "code",
   "execution_count": 74,
   "metadata": {},
   "outputs": [
    {
     "name": "stdout",
     "output_type": "stream",
     "text": [
      "180.39652471855115\n"
     ]
    }
   ],
   "source": [
    "print(df[\"days_exposition\"].mean())"
   ]
  },
  {
   "cell_type": "code",
   "execution_count": 75,
   "metadata": {},
   "outputs": [
    {
     "name": "stdout",
     "output_type": "stream",
     "text": [
      "95.0\n"
     ]
    }
   ],
   "source": [
    "print(df[\"days_exposition\"].median())"
   ]
  },
  {
   "cell_type": "markdown",
   "metadata": {},
   "source": [
    "С учетом разницы между средней и медианы в два раза, говорит что распределении пирсона перекошено в лево. Что так же говорит, что медианное значение хорошо репрезентует ожидания по срокам продажи квартиры. Поэтому, стоит брать срок в четверть года (90 дней) как ожидаемый срок продажи. Так, продажи осуществленные до 90 дней - быстрые, а после 90 дней с размещения объявления - долгие.\n"
   ]
  },
  {
   "cell_type": "code",
   "execution_count": 76,
   "metadata": {},
   "outputs": [
    {
     "data": {
      "text/plain": [
       "<AxesSubplot:title={'center':'Total_area VS Last_price'}, xlabel='total_area'>"
      ]
     },
     "execution_count": 76,
     "metadata": {},
     "output_type": "execute_result"
    },
    {
     "data": {
      "image/png": "[encoded data removed]",
      "text/plain": [
       "<Figure size 864x360 with 1 Axes>"
      ]
     },
     "metadata": {
      "needs_background": "light"
     },
     "output_type": "display_data"
    }
   ],
   "source": [
    "df.plot(x = \"total_area\", y = \"last_price\", style = \"o\", figsize = (12,5), title = \"Total_area VS Last_price\")"
   ]
  },
  {
   "cell_type": "code",
   "execution_count": 77,
   "metadata": {},
   "outputs": [
    {
     "data": {
      "text/plain": [
       "0.7209688896273412"
      ]
     },
     "execution_count": 77,
     "metadata": {},
     "output_type": "execute_result"
    }
   ],
   "source": [
    "df[\"total_area\"].corr(df[\"last_price\"])"
   ]
  },
  {
   "cell_type": "markdown",
   "metadata": {},
   "source": [
    "С довольно большой корреляцией и формой графика, можно утвердить, что размер общей области имеет влияние на цену квартиры. "
   ]
  },
  {
   "cell_type": "code",
   "execution_count": 78,
   "metadata": {},
   "outputs": [
    {
     "data": {
      "text/plain": [
       "<AxesSubplot:title={'center':'Living_area VS Last_price'}, xlabel='living_area'>"
      ]
     },
     "execution_count": 78,
     "metadata": {},
     "output_type": "execute_result"
    },
    {
     "data": {
      "image/png": "[encoded data removed]",
      "text/plain": [
       "<Figure size 864x360 with 1 Axes>"
      ]
     },
     "metadata": {
      "needs_background": "light"
     },
     "output_type": "display_data"
    }
   ],
   "source": [
    "df.plot(x = \"living_area\", y = \"last_price\", style = \"o\", figsize = (12,5), title = \"Living_area VS Last_price\")"
   ]
  },
  {
   "cell_type": "code",
   "execution_count": 79,
   "metadata": {},
   "outputs": [
    {
     "data": {
      "text/plain": [
       "0.623849169298166"
      ]
     },
     "execution_count": 79,
     "metadata": {},
     "output_type": "execute_result"
    }
   ],
   "source": [
    "df[\"living_area\"].corr(df[\"last_price\"])"
   ]
  },
  {
   "cell_type": "markdown",
   "metadata": {},
   "source": [
    "Из данных, влияние размера жилой площади на цену квартиры присутствует, но не большое. "
   ]
  },
  {
   "cell_type": "code",
   "execution_count": 80,
   "metadata": {},
   "outputs": [
    {
     "data": {
      "text/plain": [
       "<AxesSubplot:title={'center':'Kitchen_area VS Last_price'}, xlabel='kitchen_area'>"
      ]
     },
     "execution_count": 80,
     "metadata": {},
     "output_type": "execute_result"
    },
    {
     "data": {
      "image/png": "[encoded data removed]",
      "text/plain": [
       "<Figure size 864x360 with 1 Axes>"
      ]
     },
     "metadata": {
      "needs_background": "light"
     },
     "output_type": "display_data"
    }
   ],
   "source": [
    "df.plot(x = \"kitchen_area\", y = \"last_price\", style = \"o\", figsize = (12,5), title = \"Kitchen_area VS Last_price\")"
   ]
  },
  {
   "cell_type": "code",
   "execution_count": 81,
   "metadata": {},
   "outputs": [
    {
     "data": {
      "text/plain": [
       "0.5485693173605056"
      ]
     },
     "execution_count": 81,
     "metadata": {},
     "output_type": "execute_result"
    }
   ],
   "source": [
    "df[\"kitchen_area\"].corr(df[\"last_price\"])"
   ]
  },
  {
   "cell_type": "markdown",
   "metadata": {},
   "source": [
    "Схоже с жилой площадью, но в меньшей степени присутствует влияние размера кухни на стоимость квартиры"
   ]
  },
  {
   "cell_type": "code",
   "execution_count": 82,
   "metadata": {},
   "outputs": [
    {
     "data": {
      "text/plain": [
       "<AxesSubplot:title={'center':'Floor VS Last_price'}, xlabel='floor'>"
      ]
     },
     "execution_count": 82,
     "metadata": {},
     "output_type": "execute_result"
    },
    {
     "data": {
      "image/png": "[encoded data removed]",
      "text/plain": [
       "<Figure size 864x360 with 1 Axes>"
      ]
     },
     "metadata": {
      "needs_background": "light"
     },
     "output_type": "display_data"
    }
   ],
   "source": [
    "df.groupby(\"floor\")[\"last_price\"].mean().plot(figsize = (12,5), title = \"Floor VS Last_price\")"
   ]
  },
  {
   "cell_type": "code",
   "execution_count": 83,
   "metadata": {},
   "outputs": [
    {
     "data": {
      "text/plain": [
       "0.04252701325578714"
      ]
     },
     "execution_count": 83,
     "metadata": {},
     "output_type": "execute_result"
    }
   ],
   "source": [
    "df[\"floor\"].corr(df[\"last_price\"])"
   ]
  },
  {
   "cell_type": "markdown",
   "metadata": {},
   "source": [
    "Линейной заимосвязи между этажом и ценной - не имеется. Однако, можно заметить, что первые 2 этажа имеет более низкую стоимость, а уже с 3 по 25 этаж стоимость не отличается от этажа. Так же, стоит заметить ситуацию, после 25 этажа, но такие данные нужно скорее рассматривать индивидуально, так как есть шанс, что это могут быть или пентхаусы, либо в связи со своей высотность, более премиальные здания. "
   ]
  },
  {
   "cell_type": "code",
   "execution_count": 84,
   "metadata": {},
   "outputs": [
    {
     "data": {
      "text/plain": [
       "<AxesSubplot:title={'center':'Floor_type VS Last_price'}, xlabel='floor_type'>"
      ]
     },
     "execution_count": 84,
     "metadata": {},
     "output_type": "execute_result"
    },
    {
     "data": {
      "image/png": "[encoded data removed]",
      "text/plain": [
       "<Figure size 864x360 with 1 Axes>"
      ]
     },
     "metadata": {
      "needs_background": "light"
     },
     "output_type": "display_data"
    }
   ],
   "source": [
    "df.groupby(\"floor_type\")[\"last_price\"].mean().plot(kind = \"bar\", figsize = (12,5), title = \"Floor_type VS Last_price\")"
   ]
  },
  {
   "cell_type": "markdown",
   "metadata": {},
   "source": [
    "Данный график подтверждает увиденное ранее, что первый этаж имеет более низкую стоимость чем остальные. "
   ]
  },
  {
   "cell_type": "code",
   "execution_count": 85,
   "metadata": {},
   "outputs": [
    {
     "data": {
      "text/plain": [
       "<AxesSubplot:title={'center':'Appearance_weekday VS Last_price'}, xlabel='appearance_weekday'>"
      ]
     },
     "execution_count": 85,
     "metadata": {},
     "output_type": "execute_result"
    },
    {
     "data": {
      "image/png": "[encoded data removed]",
      "text/plain": [
       "<Figure size 864x360 with 1 Axes>"
      ]
     },
     "metadata": {
      "needs_background": "light"
     },
     "output_type": "display_data"
    }
   ],
   "source": [
    "df.groupby(\"appearance_weekday\")[\"last_price\"].mean().plot(figsize = (12,5), title = \"Appearance_weekday VS Last_price\", ylim = [5000000,7000000])"
   ]
  },
  {
   "cell_type": "code",
   "execution_count": 86,
   "metadata": {},
   "outputs": [
    {
     "data": {
      "text/plain": [
       "-0.0006744945474473382"
      ]
     },
     "execution_count": 86,
     "metadata": {},
     "output_type": "execute_result"
    }
   ],
   "source": [
    "df[\"appearance_weekday\"].corr(df[\"last_price\"])"
   ]
  },
  {
   "cell_type": "markdown",
   "metadata": {},
   "source": [
    "Взаимосвязи между днем публикации и ценной - не имеется. "
   ]
  },
  {
   "cell_type": "code",
   "execution_count": 87,
   "metadata": {},
   "outputs": [
    {
     "data": {
      "text/plain": [
       "<AxesSubplot:title={'center':'Appearance_month VS Last_price'}, xlabel='appearance_month'>"
      ]
     },
     "execution_count": 87,
     "metadata": {},
     "output_type": "execute_result"
    },
    {
     "data": {
      "image/png": "[encoded data removed]",
      "text/plain": [
       "<Figure size 864x360 with 1 Axes>"
      ]
     },
     "metadata": {
      "needs_background": "light"
     },
     "output_type": "display_data"
    }
   ],
   "source": [
    "df.groupby(\"appearance_month\")[\"last_price\"].mean().plot( figsize = (12,5), title = \"Appearance_month VS Last_price\", ylim = [5000000,7000000])"
   ]
  },
  {
   "cell_type": "code",
   "execution_count": 88,
   "metadata": {},
   "outputs": [
    {
     "data": {
      "text/plain": [
       "0.006973338348519097"
      ]
     },
     "execution_count": 88,
     "metadata": {},
     "output_type": "execute_result"
    }
   ],
   "source": [
    "df[\"appearance_month\"].corr(df[\"last_price\"])"
   ]
  },
  {
   "cell_type": "markdown",
   "metadata": {},
   "source": [
    "Взаимосвязи между месяцем публикации и ценной - не имеется. "
   ]
  },
  {
   "cell_type": "code",
   "execution_count": 89,
   "metadata": {},
   "outputs": [
    {
     "data": {
      "text/plain": [
       "<AxesSubplot:title={'center':'Appearance_year VS Last_price'}, xlabel='appearance_year'>"
      ]
     },
     "execution_count": 89,
     "metadata": {},
     "output_type": "execute_result"
    },
    {
     "data": {
      "image/png": "[encoded data removed]",
      "text/plain": [
       "<Figure size 864x360 with 1 Axes>"
      ]
     },
     "metadata": {
      "needs_background": "light"
     },
     "output_type": "display_data"
    }
   ],
   "source": [
    "df.groupby(\"appearance_year\")[\"last_price\"].median().plot( figsize = (12,5), title = \"Appearance_year VS Last_price\")"
   ]
  },
  {
   "cell_type": "code",
   "execution_count": 90,
   "metadata": {},
   "outputs": [
    {
     "data": {
      "text/plain": [
       "-0.05696986218906763"
      ]
     },
     "execution_count": 90,
     "metadata": {},
     "output_type": "execute_result"
    }
   ],
   "source": [
    "df[\"appearance_year\"].corr(df[\"last_price\"])"
   ]
  },
  {
   "cell_type": "markdown",
   "metadata": {},
   "source": [
    "Из данных, можно заметить, что после 2014 рынок недвижимости обвалился и опускался еще 2 года, после стагнировал 2 года и только к 2019 вернулся к росту. "
   ]
  },
  {
   "cell_type": "markdown",
   "metadata": {},
   "source": [
    "# 4 Посчитайте среднюю цену одного квадратного метра в 10 населённых пунктах с наибольшим числом объявлений."
   ]
  },
  {
   "cell_type": "code",
   "execution_count": 91,
   "metadata": {},
   "outputs": [
    {
     "data": {
      "text/html": [
       "<div>\n",
       "<style scoped>\n",
       "    .dataframe tbody tr th:only-of-type {\n",
       "        vertical-align: middle;\n",
       "    }\n",
       "\n",
       "    .dataframe tbody tr th {\n",
       "        vertical-align: top;\n",
       "    }\n",
       "\n",
       "    .dataframe thead tr th {\n",
       "        text-align: left;\n",
       "    }\n",
       "\n",
       "    .dataframe thead tr:last-of-type th {\n",
       "        text-align: right;\n",
       "    }\n",
       "</style>\n",
       "<table border=\"1\" class=\"dataframe\">\n",
       "  <thead>\n",
       "    <tr>\n",
       "      <th></th>\n",
       "      <th>count</th>\n",
       "      <th>mean</th>\n",
       "    </tr>\n",
       "    <tr>\n",
       "      <th></th>\n",
       "      <th>price_per_meter_sqr</th>\n",
       "      <th>price_per_meter_sqr</th>\n",
       "    </tr>\n",
       "    <tr>\n",
       "      <th>locality_name</th>\n",
       "      <th></th>\n",
       "      <th></th>\n",
       "    </tr>\n",
       "  </thead>\n",
       "  <tbody>\n",
       "    <tr>\n",
       "      <th>unknown</th>\n",
       "      <td>49</td>\n",
       "      <td>94310.020408</td>\n",
       "    </tr>\n",
       "    <tr>\n",
       "      <th>бокситогорск</th>\n",
       "      <td>16</td>\n",
       "      <td>17551.625000</td>\n",
       "    </tr>\n",
       "    <tr>\n",
       "      <th>волосово</th>\n",
       "      <td>36</td>\n",
       "      <td>40183.305556</td>\n",
       "    </tr>\n",
       "    <tr>\n",
       "      <th>волхов</th>\n",
       "      <td>111</td>\n",
       "      <td>35087.702703</td>\n",
       "    </tr>\n",
       "    <tr>\n",
       "      <th>всеволожск</th>\n",
       "      <td>398</td>\n",
       "      <td>68654.474874</td>\n",
       "    </tr>\n",
       "    <tr>\n",
       "      <th>...</th>\n",
       "      <td>...</td>\n",
       "      <td>...</td>\n",
       "    </tr>\n",
       "    <tr>\n",
       "      <th>сосновый бор</th>\n",
       "      <td>87</td>\n",
       "      <td>75220.402299</td>\n",
       "    </tr>\n",
       "    <tr>\n",
       "      <th>сясьстрой</th>\n",
       "      <td>24</td>\n",
       "      <td>34405.458333</td>\n",
       "    </tr>\n",
       "    <tr>\n",
       "      <th>тихвин</th>\n",
       "      <td>49</td>\n",
       "      <td>40048.551020</td>\n",
       "    </tr>\n",
       "    <tr>\n",
       "      <th>тосно</th>\n",
       "      <td>104</td>\n",
       "      <td>59004.673077</td>\n",
       "    </tr>\n",
       "    <tr>\n",
       "      <th>шлиссельбург</th>\n",
       "      <td>57</td>\n",
       "      <td>58584.070175</td>\n",
       "    </tr>\n",
       "  </tbody>\n",
       "</table>\n",
       "<p>363 rows × 2 columns</p>\n",
       "</div>"
      ],
      "text/plain": [
       "                            count                mean\n",
       "              price_per_meter_sqr price_per_meter_sqr\n",
       "locality_name                                        \n",
       "unknown                        49        94310.020408\n",
       "бокситогорск                   16        17551.625000\n",
       "волосово                       36        40183.305556\n",
       "волхов                        111        35087.702703\n",
       "всеволожск                    398        68654.474874\n",
       "...                           ...                 ...\n",
       "сосновый бор                   87        75220.402299\n",
       "сясьстрой                      24        34405.458333\n",
       "тихвин                         49        40048.551020\n",
       "тосно                         104        59004.673077\n",
       "шлиссельбург                   57        58584.070175\n",
       "\n",
       "[363 rows x 2 columns]"
      ]
     },
     "metadata": {},
     "output_type": "display_data"
    }
   ],
   "source": [
    "top_locality = df.pivot_table(index = \"locality_name\", values = \"price_per_meter_sqr\", aggfunc = [\"count\",\"mean\"])\n",
    "display(top_locality)"
   ]
  },
  {
   "cell_type": "code",
   "execution_count": 92,
   "metadata": {},
   "outputs": [],
   "source": [
    "top_locality= top_locality.reindex(top_locality['count'].sort_values(by = \"price_per_meter_sqr\", ascending = False).index).head(10)"
   ]
  },
  {
   "cell_type": "code",
   "execution_count": 93,
   "metadata": {
    "scrolled": true
   },
   "outputs": [
    {
     "name": "stdout",
     "output_type": "stream",
     "text": [
      "                                count                mean\n",
      "                  price_per_meter_sqr price_per_meter_sqr\n",
      "locality_name                                            \n",
      "санкт-петербург                 15604       115338.000256\n",
      "посёлок мурино                    522        85752.181992\n",
      "посёлок шушары                    440        78677.379545\n",
      "всеволожск                        398        68654.474874\n",
      "пушкин                            368       105353.467391\n",
      "колпино                           337        75333.287834\n",
      "посёлок парголово                 326        90332.236196\n",
      "гатчина                           307        68746.110749\n",
      "деревня кудрово                   299        92473.547576\n",
      "выборг                            237        58141.919831\n"
     ]
    }
   ],
   "source": [
    "print(top_locality)"
   ]
  },
  {
   "cell_type": "markdown",
   "metadata": {},
   "source": [
    "С явным перевесом, санкт-петербург имеет в три раза больше объявлений чем второе по списку место. Однако, стоимость за квадратные метр не имеет такой большой разрыв между первым и остальными местами как количество объявлений в процентном соотношении. "
   ]
  },
  {
   "cell_type": "markdown",
   "metadata": {},
   "source": [
    "# 5 Опишите, как стоимость объектов зависит от расстояния до центра города"
   ]
  },
  {
   "cell_type": "code",
   "execution_count": 94,
   "metadata": {},
   "outputs": [],
   "source": [
    "spb = df.loc[df[\"locality_name\"] == \"санкт-петербург\"]"
   ]
  },
  {
   "cell_type": "code",
   "execution_count": 95,
   "metadata": {},
   "outputs": [
    {
     "data": {
      "text/plain": [
       "<AxesSubplot:xlabel='distance_to_center'>"
      ]
     },
     "execution_count": 95,
     "metadata": {},
     "output_type": "execute_result"
    },
    {
     "data": {
      "image/png": "[encoded data removed]",
      "text/plain": [
       "<Figure size 432x288 with 1 Axes>"
      ]
     },
     "metadata": {
      "needs_background": "light"
     },
     "output_type": "display_data"
    }
   ],
   "source": [
    "spb.groupby(\"distance_to_center\")[\"last_price\"].mean().plot()"
   ]
  },
  {
   "cell_type": "code",
   "execution_count": 96,
   "metadata": {
    "scrolled": true
   },
   "outputs": [
    {
     "data": {
      "text/plain": [
       "-0.23924393406705263"
      ]
     },
     "execution_count": 96,
     "metadata": {},
     "output_type": "execute_result"
    }
   ],
   "source": [
    "spb[\"price_per_meter_sqr\"].corr(spb[\"distance_to_center\"])"
   ]
  },
  {
   "cell_type": "markdown",
   "metadata": {},
   "source": [
    "Что ожидаеммо, данные показывают, что чем ближе к центру тем больше стоймость за метр. Так же, видно, что эксклюзивные квартиры с очень большой ценой за метр присутствуют только близко к центру."
   ]
  },
  {
   "cell_type": "markdown",
   "metadata": {},
   "source": [
    "### Общий вывод"
   ]
  },
  {
   "cell_type": "markdown",
   "metadata": {},
   "source": [
    "Из приведенных данных можно вынести вывод двух типов. Квартиры с какими характеристиками чаще всего встречаются в объявлениях и как эти характеристики влияют на цену квартиры. \n",
    "\n",
    "Больше всего объявлений выставлены с квартирами до 50 квадратных метром, с не более чем 3 комнатами. Большой шанс увидеть квартиру на первым или на нижних этажах зданий которые сделаны по типичному плану, на пример 5ти или 9ти этажки. По локации, большинство квартир расположены не более чем в 500 метров от парка и  на расстоянии в 12-13 км от центра. Так же, стоит добавить, что велик шанс увидеть большее количество объявлений в осенний или весенний период. \n",
    "\n",
    "Что говоря о факторах которые влияют на стоимость квартиры, факторы которые влияют: \n",
    "\n",
    "    -чем больше площадь тем больше стоимость\n",
    "    -чем ближе к центра тем больше стоимость\n",
    "    -если квартира на первом этаже, то стоимоть ниже\n",
    "    \n",
    "Остальные факторы не имеют сильного влияния на стоимость квартиры или такие факторы размер кухни и размер жилой площади скорее пост фактор общей площади. "
   ]
  }
 ],
 "metadata": {
  "ExecuteTimeLog": [
   {
    "duration": 41,
    "start_time": "2022-10-08T13:59:53.968Z"
   },
   {
    "duration": 417,
    "start_time": "2022-10-08T13:59:56.336Z"
   },
   {
    "duration": 3,
    "start_time": "2022-10-08T13:59:56.755Z"
   },
   {
    "duration": 26,
    "start_time": "2022-10-08T13:59:57.041Z"
   },
   {
    "duration": 391,
    "start_time": "2022-10-08T14:00:13.918Z"
   },
   {
    "duration": 2,
    "start_time": "2022-10-08T14:00:14.819Z"
   },
   {
    "duration": 55,
    "start_time": "2022-10-08T14:00:15.564Z"
   },
   {
    "duration": 3,
    "start_time": "2022-10-08T14:00:24.571Z"
   },
   {
    "duration": 7,
    "start_time": "2022-10-08T14:00:25.211Z"
   },
   {
    "duration": 2,
    "start_time": "2022-10-08T14:00:34.672Z"
   },
   {
    "duration": 393,
    "start_time": "2022-10-08T14:00:40.141Z"
   },
   {
    "duration": 3,
    "start_time": "2022-10-08T14:00:40.583Z"
   },
   {
    "duration": 66,
    "start_time": "2022-10-08T14:00:41.041Z"
   },
   {
    "duration": 4,
    "start_time": "2022-10-08T14:00:52.052Z"
   },
   {
    "duration": 3,
    "start_time": "2022-10-08T14:01:06.392Z"
   },
   {
    "duration": 6,
    "start_time": "2022-10-08T14:01:06.662Z"
   },
   {
    "duration": 8,
    "start_time": "2022-10-08T14:01:06.863Z"
   },
   {
    "duration": 368,
    "start_time": "2022-10-08T14:01:25.471Z"
   },
   {
    "duration": 130,
    "start_time": "2022-10-08T14:01:26.299Z"
   },
   {
    "duration": 6,
    "start_time": "2022-10-08T14:01:27.158Z"
   },
   {
    "duration": 10,
    "start_time": "2022-10-08T14:01:39.329Z"
   },
   {
    "duration": 100,
    "start_time": "2022-10-08T14:02:11.997Z"
   },
   {
    "duration": 6,
    "start_time": "2022-10-08T14:02:12.399Z"
   },
   {
    "duration": 78,
    "start_time": "2022-10-08T14:02:32.357Z"
   },
   {
    "duration": 6,
    "start_time": "2022-10-08T14:02:33.077Z"
   },
   {
    "duration": 113,
    "start_time": "2022-10-08T14:06:46.585Z"
   },
   {
    "duration": 22,
    "start_time": "2022-10-08T14:06:47.015Z"
   },
   {
    "duration": 20,
    "start_time": "2022-10-08T14:07:17.309Z"
   },
   {
    "duration": 55,
    "start_time": "2022-10-08T14:11:16.519Z"
   },
   {
    "duration": 1318,
    "start_time": "2022-10-08T14:11:28.096Z"
   },
   {
    "duration": 22,
    "start_time": "2022-10-08T14:16:18.252Z"
   },
   {
    "duration": 15,
    "start_time": "2022-10-08T14:16:24.749Z"
   },
   {
    "duration": 15,
    "start_time": "2022-10-08T14:16:57.344Z"
   },
   {
    "duration": 14,
    "start_time": "2022-10-08T14:18:07.964Z"
   },
   {
    "duration": 32,
    "start_time": "2022-10-08T14:18:15.004Z"
   },
   {
    "duration": 33,
    "start_time": "2022-10-08T14:18:37.054Z"
   },
   {
    "duration": 32,
    "start_time": "2022-10-08T14:18:45.578Z"
   },
   {
    "duration": 29,
    "start_time": "2022-10-08T14:19:28.581Z"
   },
   {
    "duration": 30,
    "start_time": "2022-10-08T14:19:33.728Z"
   },
   {
    "duration": 34,
    "start_time": "2022-10-08T14:19:39.969Z"
   },
   {
    "duration": 4,
    "start_time": "2022-10-08T15:33:34.342Z"
   },
   {
    "duration": 10,
    "start_time": "2022-10-08T16:08:02.134Z"
   },
   {
    "duration": 7,
    "start_time": "2022-10-08T16:08:42.201Z"
   },
   {
    "duration": 5,
    "start_time": "2022-10-08T16:08:44.606Z"
   },
   {
    "duration": 5,
    "start_time": "2022-10-08T16:09:31.989Z"
   },
   {
    "duration": 5,
    "start_time": "2022-10-08T16:09:42.139Z"
   },
   {
    "duration": 4,
    "start_time": "2022-10-08T16:10:03.638Z"
   },
   {
    "duration": 7,
    "start_time": "2022-10-08T16:10:15.349Z"
   },
   {
    "duration": 12,
    "start_time": "2022-10-08T16:10:20.968Z"
   },
   {
    "duration": 13,
    "start_time": "2022-10-08T16:11:42.003Z"
   },
   {
    "duration": 14,
    "start_time": "2022-10-08T16:12:04.609Z"
   },
   {
    "duration": 14,
    "start_time": "2022-10-08T16:12:13.465Z"
   },
   {
    "duration": 347,
    "start_time": "2022-10-08T16:12:35.053Z"
   },
   {
    "duration": 115,
    "start_time": "2022-10-08T16:12:35.549Z"
   },
   {
    "duration": 41,
    "start_time": "2022-10-08T16:12:35.996Z"
   },
   {
    "duration": 20,
    "start_time": "2022-10-08T16:12:36.438Z"
   },
   {
    "duration": 1175,
    "start_time": "2022-10-08T16:12:36.878Z"
   },
   {
    "duration": 14,
    "start_time": "2022-10-08T16:12:38.255Z"
   },
   {
    "duration": 34,
    "start_time": "2022-10-08T16:12:38.889Z"
   },
   {
    "duration": 5,
    "start_time": "2022-10-08T16:12:39.694Z"
   },
   {
    "duration": 17,
    "start_time": "2022-10-08T16:12:40.216Z"
   },
   {
    "duration": 4,
    "start_time": "2022-10-08T16:13:49.303Z"
   },
   {
    "duration": 5,
    "start_time": "2022-10-08T16:13:54.434Z"
   },
   {
    "duration": 4,
    "start_time": "2022-10-08T16:14:32.370Z"
   },
   {
    "duration": 4,
    "start_time": "2022-10-08T16:14:36.290Z"
   },
   {
    "duration": 5,
    "start_time": "2022-10-08T16:15:01.392Z"
   },
   {
    "duration": 5,
    "start_time": "2022-10-08T16:15:05.398Z"
   },
   {
    "duration": 3,
    "start_time": "2022-10-08T16:15:30.599Z"
   },
   {
    "duration": 6,
    "start_time": "2022-10-08T16:15:43.122Z"
   },
   {
    "duration": 6,
    "start_time": "2022-10-08T16:18:02.376Z"
   },
   {
    "duration": 5,
    "start_time": "2022-10-08T16:20:43.721Z"
   },
   {
    "duration": 62,
    "start_time": "2022-10-08T16:21:03.868Z"
   },
   {
    "duration": 3,
    "start_time": "2022-10-08T16:21:08.240Z"
   },
   {
    "duration": 4,
    "start_time": "2022-10-08T16:21:11.254Z"
   },
   {
    "duration": 398,
    "start_time": "2022-10-08T16:21:21.209Z"
   },
   {
    "duration": 114,
    "start_time": "2022-10-08T16:21:21.677Z"
   },
   {
    "duration": 27,
    "start_time": "2022-10-08T16:21:22.292Z"
   },
   {
    "duration": 20,
    "start_time": "2022-10-08T16:21:22.964Z"
   },
   {
    "duration": 1142,
    "start_time": "2022-10-08T16:21:23.593Z"
   },
   {
    "duration": 14,
    "start_time": "2022-10-08T16:21:25.509Z"
   },
   {
    "duration": 35,
    "start_time": "2022-10-08T16:21:26.986Z"
   },
   {
    "duration": 4,
    "start_time": "2022-10-08T16:21:27.569Z"
   },
   {
    "duration": 11,
    "start_time": "2022-10-08T16:21:28.759Z"
   },
   {
    "duration": 13,
    "start_time": "2022-10-08T16:37:56.960Z"
   },
   {
    "duration": 104,
    "start_time": "2022-10-08T16:38:18.952Z"
   },
   {
    "duration": 14,
    "start_time": "2022-10-08T16:38:26.531Z"
   },
   {
    "duration": 5,
    "start_time": "2022-10-08T16:38:34.840Z"
   },
   {
    "duration": 399,
    "start_time": "2022-10-08T16:38:47.093Z"
   },
   {
    "duration": 118,
    "start_time": "2022-10-08T16:38:47.494Z"
   },
   {
    "duration": 27,
    "start_time": "2022-10-08T16:38:47.694Z"
   },
   {
    "duration": 20,
    "start_time": "2022-10-08T16:38:47.964Z"
   },
   {
    "duration": 1150,
    "start_time": "2022-10-08T16:38:48.190Z"
   },
   {
    "duration": 16,
    "start_time": "2022-10-08T16:38:49.341Z"
   },
   {
    "duration": 50,
    "start_time": "2022-10-08T16:38:49.359Z"
   },
   {
    "duration": 4,
    "start_time": "2022-10-08T16:38:49.412Z"
   },
   {
    "duration": 28,
    "start_time": "2022-10-08T16:38:49.422Z"
   },
   {
    "duration": 20,
    "start_time": "2022-10-08T16:39:11.796Z"
   },
   {
    "duration": 13,
    "start_time": "2022-10-08T16:39:30.820Z"
   },
   {
    "duration": 4,
    "start_time": "2022-10-08T16:40:04.404Z"
   },
   {
    "duration": 17,
    "start_time": "2022-10-08T16:42:06.141Z"
   },
   {
    "duration": 87,
    "start_time": "2022-10-08T16:44:06.894Z"
   },
   {
    "duration": 36,
    "start_time": "2022-10-08T16:44:27.480Z"
   },
   {
    "duration": 14,
    "start_time": "2022-10-08T16:48:24.572Z"
   },
   {
    "duration": 17,
    "start_time": "2022-10-08T16:48:50.348Z"
   },
   {
    "duration": 8,
    "start_time": "2022-10-08T16:48:55.233Z"
   },
   {
    "duration": 869,
    "start_time": "2022-10-08T16:49:03.850Z"
   },
   {
    "duration": 841,
    "start_time": "2022-10-08T16:49:06.588Z"
   },
   {
    "duration": 836,
    "start_time": "2022-10-08T16:49:24.913Z"
   },
   {
    "duration": 325,
    "start_time": "2022-10-08T16:49:44.271Z"
   },
   {
    "duration": 110,
    "start_time": "2022-10-08T16:49:44.597Z"
   },
   {
    "duration": 31,
    "start_time": "2022-10-08T16:49:44.708Z"
   },
   {
    "duration": 19,
    "start_time": "2022-10-08T16:49:44.740Z"
   },
   {
    "duration": 1147,
    "start_time": "2022-10-08T16:49:44.761Z"
   },
   {
    "duration": 16,
    "start_time": "2022-10-08T16:49:45.910Z"
   },
   {
    "duration": 33,
    "start_time": "2022-10-08T16:49:45.927Z"
   },
   {
    "duration": 4,
    "start_time": "2022-10-08T16:49:45.962Z"
   },
   {
    "duration": 16,
    "start_time": "2022-10-08T16:49:45.967Z"
   },
   {
    "duration": 44,
    "start_time": "2022-10-08T16:49:45.984Z"
   },
   {
    "duration": 18,
    "start_time": "2022-10-08T16:49:46.030Z"
   },
   {
    "duration": 4,
    "start_time": "2022-10-08T16:52:02.049Z"
   },
   {
    "duration": 5,
    "start_time": "2022-10-08T16:52:17.942Z"
   },
   {
    "duration": 6,
    "start_time": "2022-10-08T16:54:07.230Z"
   },
   {
    "duration": 5,
    "start_time": "2022-10-08T16:54:40.764Z"
   },
   {
    "duration": 79,
    "start_time": "2022-10-08T16:55:56.999Z"
   },
   {
    "duration": 10,
    "start_time": "2022-10-08T16:56:07.664Z"
   },
   {
    "duration": 8,
    "start_time": "2022-10-08T16:56:12.192Z"
   },
   {
    "duration": 9,
    "start_time": "2022-10-08T16:56:44.099Z"
   },
   {
    "duration": 8,
    "start_time": "2022-10-08T16:56:50.487Z"
   },
   {
    "duration": 8,
    "start_time": "2022-10-08T16:57:04.455Z"
   },
   {
    "duration": 1137,
    "start_time": "2022-10-08T16:57:13.241Z"
   },
   {
    "duration": 8,
    "start_time": "2022-10-08T16:58:36.289Z"
   },
   {
    "duration": 15,
    "start_time": "2022-10-08T16:58:42.937Z"
   },
   {
    "duration": 18,
    "start_time": "2022-10-08T16:59:49.786Z"
   },
   {
    "duration": 16,
    "start_time": "2022-10-08T17:00:01.300Z"
   },
   {
    "duration": 18,
    "start_time": "2022-10-08T17:00:19.442Z"
   },
   {
    "duration": 6,
    "start_time": "2022-10-08T17:02:55.971Z"
   },
   {
    "duration": 6,
    "start_time": "2022-10-08T17:03:19.213Z"
   },
   {
    "duration": 8,
    "start_time": "2022-10-08T17:04:15.099Z"
   },
   {
    "duration": 6,
    "start_time": "2022-10-08T17:05:20.379Z"
   },
   {
    "duration": 6,
    "start_time": "2022-10-08T17:05:37.562Z"
   },
   {
    "duration": 7,
    "start_time": "2022-10-08T17:05:45.507Z"
   },
   {
    "duration": 10,
    "start_time": "2022-10-08T17:09:08.143Z"
   },
   {
    "duration": 8,
    "start_time": "2022-10-08T17:09:13.563Z"
   },
   {
    "duration": 391,
    "start_time": "2022-10-08T17:14:08.802Z"
   },
   {
    "duration": 113,
    "start_time": "2022-10-08T17:14:09.195Z"
   },
   {
    "duration": 30,
    "start_time": "2022-10-08T17:14:09.310Z"
   },
   {
    "duration": 39,
    "start_time": "2022-10-08T17:14:09.341Z"
   },
   {
    "duration": 1154,
    "start_time": "2022-10-08T17:14:09.382Z"
   },
   {
    "duration": 15,
    "start_time": "2022-10-08T17:14:10.537Z"
   },
   {
    "duration": 35,
    "start_time": "2022-10-08T17:14:10.554Z"
   },
   {
    "duration": 5,
    "start_time": "2022-10-08T17:14:10.590Z"
   },
   {
    "duration": 33,
    "start_time": "2022-10-08T17:14:10.597Z"
   },
   {
    "duration": 20,
    "start_time": "2022-10-08T17:14:10.632Z"
   },
   {
    "duration": 4,
    "start_time": "2022-10-08T17:14:10.654Z"
   },
   {
    "duration": 5,
    "start_time": "2022-10-08T17:20:20.399Z"
   },
   {
    "duration": 4,
    "start_time": "2022-10-08T17:20:36.719Z"
   },
   {
    "duration": 1701,
    "start_time": "2022-10-08T17:22:50.216Z"
   },
   {
    "duration": 6,
    "start_time": "2022-10-08T17:22:55.763Z"
   },
   {
    "duration": 20,
    "start_time": "2022-10-08T17:23:46.242Z"
   },
   {
    "duration": 10,
    "start_time": "2022-10-08T17:23:55.875Z"
   },
   {
    "duration": 10,
    "start_time": "2022-10-08T17:25:04.443Z"
   },
   {
    "duration": 10,
    "start_time": "2022-10-08T17:25:13.620Z"
   },
   {
    "duration": 13,
    "start_time": "2022-10-08T17:26:20.566Z"
   },
   {
    "duration": 20,
    "start_time": "2022-10-08T17:26:34.043Z"
   },
   {
    "duration": 6,
    "start_time": "2022-10-08T17:27:09.818Z"
   },
   {
    "duration": 6,
    "start_time": "2022-10-08T17:27:17.720Z"
   },
   {
    "duration": 394,
    "start_time": "2022-10-08T17:27:27.398Z"
   },
   {
    "duration": 125,
    "start_time": "2022-10-08T17:27:27.794Z"
   },
   {
    "duration": 28,
    "start_time": "2022-10-08T17:27:27.922Z"
   },
   {
    "duration": 19,
    "start_time": "2022-10-08T17:27:27.952Z"
   },
   {
    "duration": 1156,
    "start_time": "2022-10-08T17:27:27.973Z"
   },
   {
    "duration": 14,
    "start_time": "2022-10-08T17:27:29.131Z"
   },
   {
    "duration": 32,
    "start_time": "2022-10-08T17:27:29.146Z"
   },
   {
    "duration": 5,
    "start_time": "2022-10-08T17:27:29.180Z"
   },
   {
    "duration": 13,
    "start_time": "2022-10-08T17:27:29.187Z"
   },
   {
    "duration": 19,
    "start_time": "2022-10-08T17:27:29.222Z"
   },
   {
    "duration": 3,
    "start_time": "2022-10-08T17:27:29.243Z"
   },
   {
    "duration": 24,
    "start_time": "2022-10-08T17:27:29.248Z"
   },
   {
    "duration": 21,
    "start_time": "2022-10-08T17:27:48.876Z"
   },
   {
    "duration": 426,
    "start_time": "2022-10-08T17:28:11.300Z"
   },
   {
    "duration": 124,
    "start_time": "2022-10-08T17:28:12.109Z"
   },
   {
    "duration": 33,
    "start_time": "2022-10-08T17:28:12.621Z"
   },
   {
    "duration": 21,
    "start_time": "2022-10-08T17:28:13.688Z"
   },
   {
    "duration": 1147,
    "start_time": "2022-10-08T17:28:14.246Z"
   },
   {
    "duration": 13,
    "start_time": "2022-10-08T17:28:15.548Z"
   },
   {
    "duration": 33,
    "start_time": "2022-10-08T17:28:16.377Z"
   },
   {
    "duration": 4,
    "start_time": "2022-10-08T17:28:17.062Z"
   },
   {
    "duration": 13,
    "start_time": "2022-10-08T17:28:17.612Z"
   },
   {
    "duration": 18,
    "start_time": "2022-10-08T17:28:18.195Z"
   },
   {
    "duration": 4,
    "start_time": "2022-10-08T17:28:18.735Z"
   },
   {
    "duration": 19,
    "start_time": "2022-10-08T17:28:19.187Z"
   },
   {
    "duration": 20,
    "start_time": "2022-10-08T17:28:19.795Z"
   },
   {
    "duration": 198,
    "start_time": "2022-10-08T17:28:37.294Z"
   },
   {
    "duration": 894,
    "start_time": "2022-10-08T21:01:31.036Z"
   },
   {
    "duration": 393,
    "start_time": "2022-10-08T21:01:49.198Z"
   },
   {
    "duration": 111,
    "start_time": "2022-10-08T21:01:49.593Z"
   },
   {
    "duration": 29,
    "start_time": "2022-10-08T21:01:49.706Z"
   },
   {
    "duration": 19,
    "start_time": "2022-10-08T21:01:49.736Z"
   },
   {
    "duration": 1214,
    "start_time": "2022-10-08T21:01:49.757Z"
   },
   {
    "duration": 15,
    "start_time": "2022-10-08T21:01:50.973Z"
   },
   {
    "duration": 53,
    "start_time": "2022-10-08T21:01:50.990Z"
   },
   {
    "duration": 4,
    "start_time": "2022-10-08T21:01:51.045Z"
   },
   {
    "duration": 23,
    "start_time": "2022-10-08T21:01:51.051Z"
   },
   {
    "duration": 22,
    "start_time": "2022-10-08T21:01:51.076Z"
   },
   {
    "duration": 23,
    "start_time": "2022-10-08T21:01:51.101Z"
   },
   {
    "duration": 3,
    "start_time": "2022-10-08T21:01:59.412Z"
   },
   {
    "duration": 126,
    "start_time": "2022-10-08T21:01:59.417Z"
   },
   {
    "duration": 24,
    "start_time": "2022-10-08T21:01:59.545Z"
   },
   {
    "duration": 23,
    "start_time": "2022-10-08T21:01:59.572Z"
   },
   {
    "duration": 1099,
    "start_time": "2022-10-08T21:01:59.596Z"
   },
   {
    "duration": 26,
    "start_time": "2022-10-08T21:02:00.696Z"
   },
   {
    "duration": 44,
    "start_time": "2022-10-08T21:02:00.724Z"
   },
   {
    "duration": 5,
    "start_time": "2022-10-08T21:02:00.770Z"
   },
   {
    "duration": 35,
    "start_time": "2022-10-08T21:02:00.776Z"
   },
   {
    "duration": 33,
    "start_time": "2022-10-08T21:02:00.814Z"
   },
   {
    "duration": 5,
    "start_time": "2022-10-08T21:02:00.849Z"
   },
   {
    "duration": 327,
    "start_time": "2022-10-08T21:02:08.467Z"
   },
   {
    "duration": 110,
    "start_time": "2022-10-08T21:02:09.039Z"
   },
   {
    "duration": 32,
    "start_time": "2022-10-08T21:02:09.590Z"
   },
   {
    "duration": 21,
    "start_time": "2022-10-08T21:02:10.243Z"
   },
   {
    "duration": 1426,
    "start_time": "2022-10-08T21:02:10.734Z"
   },
   {
    "duration": 17,
    "start_time": "2022-10-08T21:02:12.162Z"
   },
   {
    "duration": 49,
    "start_time": "2022-10-08T21:02:12.180Z"
   },
   {
    "duration": 4,
    "start_time": "2022-10-08T21:02:12.355Z"
   },
   {
    "duration": 13,
    "start_time": "2022-10-08T21:02:13.997Z"
   },
   {
    "duration": 20,
    "start_time": "2022-10-08T21:02:15.551Z"
   },
   {
    "duration": 4,
    "start_time": "2022-10-08T21:02:16.730Z"
   },
   {
    "duration": 950,
    "start_time": "2022-10-08T21:02:17.915Z"
   },
   {
    "duration": 896,
    "start_time": "2022-10-08T21:03:26.492Z"
   },
   {
    "duration": 980,
    "start_time": "2022-10-08T21:45:12.386Z"
   },
   {
    "duration": 349,
    "start_time": "2022-10-08T21:45:29.046Z"
   },
   {
    "duration": 111,
    "start_time": "2022-10-08T21:45:29.423Z"
   },
   {
    "duration": 27,
    "start_time": "2022-10-08T21:45:29.639Z"
   },
   {
    "duration": 19,
    "start_time": "2022-10-08T21:45:30.270Z"
   },
   {
    "duration": 1184,
    "start_time": "2022-10-08T21:45:30.291Z"
   },
   {
    "duration": 15,
    "start_time": "2022-10-08T21:45:31.477Z"
   },
   {
    "duration": 35,
    "start_time": "2022-10-08T21:45:31.673Z"
   },
   {
    "duration": 4,
    "start_time": "2022-10-08T21:45:32.329Z"
   },
   {
    "duration": 13,
    "start_time": "2022-10-08T21:45:32.791Z"
   },
   {
    "duration": 19,
    "start_time": "2022-10-08T21:45:33.206Z"
   },
   {
    "duration": 4,
    "start_time": "2022-10-08T21:45:33.712Z"
   },
   {
    "duration": 1010,
    "start_time": "2022-10-08T21:45:38.103Z"
   },
   {
    "duration": 862,
    "start_time": "2022-10-08T21:45:55.133Z"
   },
   {
    "duration": 9,
    "start_time": "2022-10-08T21:47:20.115Z"
   },
   {
    "duration": 392,
    "start_time": "2022-10-08T21:49:50.101Z"
   },
   {
    "duration": 128,
    "start_time": "2022-10-08T21:49:50.930Z"
   },
   {
    "duration": 27,
    "start_time": "2022-10-08T21:49:51.492Z"
   },
   {
    "duration": 19,
    "start_time": "2022-10-08T21:49:52.005Z"
   },
   {
    "duration": 1129,
    "start_time": "2022-10-08T21:49:52.480Z"
   },
   {
    "duration": 14,
    "start_time": "2022-10-08T21:49:53.616Z"
   },
   {
    "duration": 36,
    "start_time": "2022-10-08T21:49:54.405Z"
   },
   {
    "duration": 4,
    "start_time": "2022-10-08T21:49:55.383Z"
   },
   {
    "duration": 14,
    "start_time": "2022-10-08T21:49:56.342Z"
   },
   {
    "duration": 21,
    "start_time": "2022-10-08T21:49:58.646Z"
   },
   {
    "duration": 5,
    "start_time": "2022-10-08T21:49:59.789Z"
   },
   {
    "duration": 70,
    "start_time": "2022-10-08T21:50:01.182Z"
   },
   {
    "duration": 5,
    "start_time": "2022-10-08T21:50:12.520Z"
   },
   {
    "duration": 5,
    "start_time": "2022-10-08T21:50:27.285Z"
   },
   {
    "duration": 8,
    "start_time": "2022-10-08T21:50:43.978Z"
   },
   {
    "duration": 4,
    "start_time": "2022-10-08T21:50:59.894Z"
   },
   {
    "duration": 3,
    "start_time": "2022-10-08T21:51:13.595Z"
   },
   {
    "duration": 359,
    "start_time": "2022-10-08T21:51:26.435Z"
   },
   {
    "duration": 110,
    "start_time": "2022-10-08T21:51:26.795Z"
   },
   {
    "duration": 31,
    "start_time": "2022-10-08T21:51:26.907Z"
   },
   {
    "duration": 20,
    "start_time": "2022-10-08T21:51:26.940Z"
   },
   {
    "duration": 1138,
    "start_time": "2022-10-08T21:51:26.961Z"
   },
   {
    "duration": 21,
    "start_time": "2022-10-08T21:51:28.100Z"
   },
   {
    "duration": 33,
    "start_time": "2022-10-08T21:51:28.123Z"
   },
   {
    "duration": 4,
    "start_time": "2022-10-08T21:51:28.157Z"
   },
   {
    "duration": 16,
    "start_time": "2022-10-08T21:51:28.162Z"
   },
   {
    "duration": 18,
    "start_time": "2022-10-08T21:51:28.179Z"
   },
   {
    "duration": 24,
    "start_time": "2022-10-08T21:51:28.199Z"
   },
   {
    "duration": 17,
    "start_time": "2022-10-08T21:51:31.376Z"
   },
   {
    "duration": 6,
    "start_time": "2022-10-08T21:55:23.498Z"
   },
   {
    "duration": 9,
    "start_time": "2022-10-08T21:56:22.194Z"
   },
   {
    "duration": 40,
    "start_time": "2022-10-09T14:26:20.445Z"
   },
   {
    "duration": 402,
    "start_time": "2022-10-09T14:26:31.555Z"
   },
   {
    "duration": 158,
    "start_time": "2022-10-09T14:26:31.959Z"
   },
   {
    "duration": 35,
    "start_time": "2022-10-09T14:26:32.251Z"
   },
   {
    "duration": 20,
    "start_time": "2022-10-09T14:26:32.688Z"
   },
   {
    "duration": 1442,
    "start_time": "2022-10-09T14:26:32.997Z"
   },
   {
    "duration": 23,
    "start_time": "2022-10-09T14:26:34.441Z"
   },
   {
    "duration": 33,
    "start_time": "2022-10-09T14:26:34.465Z"
   },
   {
    "duration": 5,
    "start_time": "2022-10-09T14:26:35.139Z"
   },
   {
    "duration": 16,
    "start_time": "2022-10-09T14:26:35.726Z"
   },
   {
    "duration": 29,
    "start_time": "2022-10-09T14:26:36.398Z"
   },
   {
    "duration": 4,
    "start_time": "2022-10-09T14:26:39.716Z"
   },
   {
    "duration": 30,
    "start_time": "2022-10-09T14:26:42.204Z"
   },
   {
    "duration": 15,
    "start_time": "2022-10-09T14:27:03.611Z"
   },
   {
    "duration": 111,
    "start_time": "2022-10-09T14:27:37.726Z"
   },
   {
    "duration": 136,
    "start_time": "2022-10-09T14:27:55.366Z"
   },
   {
    "duration": 200,
    "start_time": "2022-10-09T14:28:11.558Z"
   },
   {
    "duration": 18,
    "start_time": "2022-10-09T14:29:28.624Z"
   },
   {
    "duration": 6,
    "start_time": "2022-10-09T14:29:46.452Z"
   },
   {
    "duration": 6,
    "start_time": "2022-10-09T14:29:59.768Z"
   },
   {
    "duration": 5,
    "start_time": "2022-10-09T14:33:13.182Z"
   },
   {
    "duration": 7,
    "start_time": "2022-10-09T14:33:19.870Z"
   },
   {
    "duration": 8,
    "start_time": "2022-10-09T14:33:33.371Z"
   },
   {
    "duration": 76,
    "start_time": "2022-10-09T14:34:00.192Z"
   },
   {
    "duration": 5,
    "start_time": "2022-10-09T14:34:04.021Z"
   },
   {
    "duration": 4,
    "start_time": "2022-10-09T14:34:12.365Z"
   },
   {
    "duration": 369,
    "start_time": "2022-10-09T14:34:25.256Z"
   },
   {
    "duration": 123,
    "start_time": "2022-10-09T14:34:25.627Z"
   },
   {
    "duration": 30,
    "start_time": "2022-10-09T14:34:25.751Z"
   },
   {
    "duration": 19,
    "start_time": "2022-10-09T14:34:25.783Z"
   },
   {
    "duration": 1223,
    "start_time": "2022-10-09T14:34:25.805Z"
   },
   {
    "duration": 23,
    "start_time": "2022-10-09T14:34:27.030Z"
   },
   {
    "duration": 32,
    "start_time": "2022-10-09T14:34:27.055Z"
   },
   {
    "duration": 4,
    "start_time": "2022-10-09T14:34:27.089Z"
   },
   {
    "duration": 38,
    "start_time": "2022-10-09T14:34:27.094Z"
   },
   {
    "duration": 22,
    "start_time": "2022-10-09T14:34:27.134Z"
   },
   {
    "duration": 4,
    "start_time": "2022-10-09T14:34:27.157Z"
   },
   {
    "duration": 23,
    "start_time": "2022-10-09T14:34:27.163Z"
   },
   {
    "duration": 11,
    "start_time": "2022-10-09T14:34:27.188Z"
   },
   {
    "duration": 5,
    "start_time": "2022-10-09T14:34:27.223Z"
   },
   {
    "duration": 7,
    "start_time": "2022-10-09T14:34:31.329Z"
   },
   {
    "duration": 16,
    "start_time": "2022-10-09T14:34:56.670Z"
   },
   {
    "duration": 390,
    "start_time": "2022-10-09T14:36:50.214Z"
   },
   {
    "duration": 113,
    "start_time": "2022-10-09T14:36:50.606Z"
   },
   {
    "duration": 29,
    "start_time": "2022-10-09T14:36:50.720Z"
   },
   {
    "duration": 21,
    "start_time": "2022-10-09T14:36:50.751Z"
   },
   {
    "duration": 1291,
    "start_time": "2022-10-09T14:36:50.774Z"
   },
   {
    "duration": 15,
    "start_time": "2022-10-09T14:36:52.067Z"
   },
   {
    "duration": 44,
    "start_time": "2022-10-09T14:36:52.084Z"
   },
   {
    "duration": 5,
    "start_time": "2022-10-09T14:36:52.129Z"
   },
   {
    "duration": 29,
    "start_time": "2022-10-09T14:36:52.135Z"
   },
   {
    "duration": 28,
    "start_time": "2022-10-09T14:36:52.165Z"
   },
   {
    "duration": 2,
    "start_time": "2022-10-09T14:36:52.195Z"
   },
   {
    "duration": 6,
    "start_time": "2022-10-09T14:36:52.198Z"
   },
   {
    "duration": 28,
    "start_time": "2022-10-09T14:36:52.205Z"
   },
   {
    "duration": 6,
    "start_time": "2022-10-09T14:36:52.235Z"
   },
   {
    "duration": 8,
    "start_time": "2022-10-09T14:36:52.243Z"
   },
   {
    "duration": 13,
    "start_time": "2022-10-09T14:36:55.569Z"
   },
   {
    "duration": 3,
    "start_time": "2022-10-09T14:40:29.176Z"
   },
   {
    "duration": 361,
    "start_time": "2022-10-09T14:40:38.548Z"
   },
   {
    "duration": 131,
    "start_time": "2022-10-09T14:40:38.911Z"
   },
   {
    "duration": 35,
    "start_time": "2022-10-09T14:40:39.043Z"
   },
   {
    "duration": 21,
    "start_time": "2022-10-09T14:40:39.081Z"
   },
   {
    "duration": 1357,
    "start_time": "2022-10-09T14:40:39.103Z"
   },
   {
    "duration": 14,
    "start_time": "2022-10-09T14:40:40.462Z"
   },
   {
    "duration": 52,
    "start_time": "2022-10-09T14:40:40.478Z"
   },
   {
    "duration": 8,
    "start_time": "2022-10-09T14:40:40.533Z"
   },
   {
    "duration": 15,
    "start_time": "2022-10-09T14:40:40.543Z"
   },
   {
    "duration": 19,
    "start_time": "2022-10-09T14:40:40.559Z"
   },
   {
    "duration": 3,
    "start_time": "2022-10-09T14:40:40.579Z"
   },
   {
    "duration": 7,
    "start_time": "2022-10-09T14:40:40.583Z"
   },
   {
    "duration": 5,
    "start_time": "2022-10-09T14:40:43.908Z"
   },
   {
    "duration": 15,
    "start_time": "2022-10-09T14:44:41.747Z"
   },
   {
    "duration": 21,
    "start_time": "2022-10-09T14:45:09.654Z"
   },
   {
    "duration": 431,
    "start_time": "2022-10-09T14:46:18.997Z"
   },
   {
    "duration": 130,
    "start_time": "2022-10-09T14:46:19.431Z"
   },
   {
    "duration": 28,
    "start_time": "2022-10-09T14:46:19.562Z"
   },
   {
    "duration": 18,
    "start_time": "2022-10-09T14:46:19.592Z"
   },
   {
    "duration": 1357,
    "start_time": "2022-10-09T14:46:19.621Z"
   },
   {
    "duration": 15,
    "start_time": "2022-10-09T14:46:20.980Z"
   },
   {
    "duration": 62,
    "start_time": "2022-10-09T14:46:20.997Z"
   },
   {
    "duration": 5,
    "start_time": "2022-10-09T14:46:21.061Z"
   },
   {
    "duration": 15,
    "start_time": "2022-10-09T14:46:21.068Z"
   },
   {
    "duration": 19,
    "start_time": "2022-10-09T14:46:21.085Z"
   },
   {
    "duration": 22,
    "start_time": "2022-10-09T14:46:21.106Z"
   },
   {
    "duration": 48,
    "start_time": "2022-10-09T14:46:21.130Z"
   },
   {
    "duration": 3,
    "start_time": "2022-10-09T14:46:21.180Z"
   },
   {
    "duration": 13,
    "start_time": "2022-10-09T14:46:21.185Z"
   },
   {
    "duration": 7,
    "start_time": "2022-10-09T14:46:21.199Z"
   },
   {
    "duration": 7,
    "start_time": "2022-10-09T14:46:31.897Z"
   },
   {
    "duration": 17,
    "start_time": "2022-10-09T14:46:44.689Z"
   },
   {
    "duration": 381,
    "start_time": "2022-10-09T14:47:10.947Z"
   },
   {
    "duration": 143,
    "start_time": "2022-10-09T14:47:11.338Z"
   },
   {
    "duration": 32,
    "start_time": "2022-10-09T14:47:11.483Z"
   },
   {
    "duration": 34,
    "start_time": "2022-10-09T14:47:11.516Z"
   },
   {
    "duration": 1482,
    "start_time": "2022-10-09T14:47:11.553Z"
   },
   {
    "duration": 24,
    "start_time": "2022-10-09T14:47:13.040Z"
   },
   {
    "duration": 36,
    "start_time": "2022-10-09T14:47:13.066Z"
   },
   {
    "duration": 32,
    "start_time": "2022-10-09T14:47:13.103Z"
   },
   {
    "duration": 32,
    "start_time": "2022-10-09T14:47:13.140Z"
   },
   {
    "duration": 20,
    "start_time": "2022-10-09T14:47:13.173Z"
   },
   {
    "duration": 6,
    "start_time": "2022-10-09T14:47:13.195Z"
   },
   {
    "duration": 43,
    "start_time": "2022-10-09T14:47:13.202Z"
   },
   {
    "duration": 15,
    "start_time": "2022-10-09T14:47:15.875Z"
   },
   {
    "duration": 421,
    "start_time": "2022-10-09T14:52:15.630Z"
   },
   {
    "duration": 319,
    "start_time": "2022-10-09T14:53:25.145Z"
   },
   {
    "duration": 408,
    "start_time": "2022-10-09T14:55:44.385Z"
   },
   {
    "duration": 123,
    "start_time": "2022-10-09T14:55:44.795Z"
   },
   {
    "duration": 36,
    "start_time": "2022-10-09T14:55:44.920Z"
   },
   {
    "duration": 20,
    "start_time": "2022-10-09T14:55:44.957Z"
   },
   {
    "duration": 1348,
    "start_time": "2022-10-09T14:55:44.979Z"
   },
   {
    "duration": 24,
    "start_time": "2022-10-09T14:55:46.329Z"
   },
   {
    "duration": 41,
    "start_time": "2022-10-09T14:55:46.355Z"
   },
   {
    "duration": 4,
    "start_time": "2022-10-09T14:55:46.398Z"
   },
   {
    "duration": 43,
    "start_time": "2022-10-09T14:55:46.403Z"
   },
   {
    "duration": 19,
    "start_time": "2022-10-09T14:55:46.448Z"
   },
   {
    "duration": 6,
    "start_time": "2022-10-09T14:55:46.468Z"
   },
   {
    "duration": 20,
    "start_time": "2022-10-09T14:55:46.475Z"
   },
   {
    "duration": 84,
    "start_time": "2022-10-09T14:55:46.497Z"
   },
   {
    "duration": 4,
    "start_time": "2022-10-09T14:55:46.583Z"
   },
   {
    "duration": 33,
    "start_time": "2022-10-09T14:55:46.589Z"
   },
   {
    "duration": 10,
    "start_time": "2022-10-09T14:55:46.624Z"
   },
   {
    "duration": 19,
    "start_time": "2022-10-09T14:55:46.636Z"
   },
   {
    "duration": 17,
    "start_time": "2022-10-09T14:55:46.657Z"
   },
   {
    "duration": 27,
    "start_time": "2022-10-09T14:55:56.089Z"
   },
   {
    "duration": 2,
    "start_time": "2022-10-09T14:55:59.071Z"
   },
   {
    "duration": 142,
    "start_time": "2022-10-09T14:55:59.075Z"
   },
   {
    "duration": 38,
    "start_time": "2022-10-09T14:55:59.218Z"
   },
   {
    "duration": 20,
    "start_time": "2022-10-09T14:55:59.257Z"
   },
   {
    "duration": 1150,
    "start_time": "2022-10-09T14:55:59.279Z"
   },
   {
    "duration": 18,
    "start_time": "2022-10-09T14:56:00.431Z"
   },
   {
    "duration": 56,
    "start_time": "2022-10-09T14:56:00.452Z"
   },
   {
    "duration": 5,
    "start_time": "2022-10-09T14:56:00.510Z"
   },
   {
    "duration": 43,
    "start_time": "2022-10-09T14:56:00.516Z"
   },
   {
    "duration": 4,
    "start_time": "2022-10-09T14:56:12.005Z"
   },
   {
    "duration": 393,
    "start_time": "2022-10-09T14:56:16.259Z"
   },
   {
    "duration": 124,
    "start_time": "2022-10-09T14:56:16.653Z"
   },
   {
    "duration": 29,
    "start_time": "2022-10-09T14:56:16.850Z"
   },
   {
    "duration": 22,
    "start_time": "2022-10-09T14:56:17.048Z"
   },
   {
    "duration": 1347,
    "start_time": "2022-10-09T14:56:17.456Z"
   },
   {
    "duration": 20,
    "start_time": "2022-10-09T14:56:18.805Z"
   },
   {
    "duration": 35,
    "start_time": "2022-10-09T14:56:18.827Z"
   },
   {
    "duration": 4,
    "start_time": "2022-10-09T14:56:18.864Z"
   },
   {
    "duration": 13,
    "start_time": "2022-10-09T14:56:19.393Z"
   },
   {
    "duration": 22,
    "start_time": "2022-10-09T14:56:20.236Z"
   },
   {
    "duration": 8,
    "start_time": "2022-10-09T14:56:20.775Z"
   },
   {
    "duration": 17,
    "start_time": "2022-10-09T14:56:21.553Z"
   },
   {
    "duration": 18,
    "start_time": "2022-10-09T14:56:22.744Z"
   },
   {
    "duration": 481,
    "start_time": "2022-10-09T14:59:03.686Z"
   },
   {
    "duration": 309,
    "start_time": "2022-10-09T14:59:28.993Z"
   },
   {
    "duration": 473,
    "start_time": "2022-10-09T15:01:15.012Z"
   },
   {
    "duration": 424,
    "start_time": "2022-10-09T15:01:56.637Z"
   },
   {
    "duration": 127,
    "start_time": "2022-10-09T15:01:57.062Z"
   },
   {
    "duration": 46,
    "start_time": "2022-10-09T15:01:57.191Z"
   },
   {
    "duration": 30,
    "start_time": "2022-10-09T15:01:57.241Z"
   },
   {
    "duration": 1412,
    "start_time": "2022-10-09T15:01:57.273Z"
   },
   {
    "duration": 16,
    "start_time": "2022-10-09T15:01:58.686Z"
   },
   {
    "duration": 63,
    "start_time": "2022-10-09T15:01:58.703Z"
   },
   {
    "duration": 4,
    "start_time": "2022-10-09T15:01:58.768Z"
   },
   {
    "duration": 30,
    "start_time": "2022-10-09T15:01:58.773Z"
   },
   {
    "duration": 40,
    "start_time": "2022-10-09T15:01:58.805Z"
   },
   {
    "duration": 8,
    "start_time": "2022-10-09T15:01:58.847Z"
   },
   {
    "duration": 22,
    "start_time": "2022-10-09T15:01:58.857Z"
   },
   {
    "duration": 92,
    "start_time": "2022-10-09T15:01:58.881Z"
   },
   {
    "duration": 5,
    "start_time": "2022-10-09T15:01:58.975Z"
   },
   {
    "duration": 28,
    "start_time": "2022-10-09T15:01:58.982Z"
   },
   {
    "duration": 9,
    "start_time": "2022-10-09T15:01:59.024Z"
   },
   {
    "duration": 10,
    "start_time": "2022-10-09T15:02:02.084Z"
   },
   {
    "duration": 357,
    "start_time": "2022-10-09T15:08:34.662Z"
   },
   {
    "duration": 457,
    "start_time": "2022-10-09T15:08:45.825Z"
   },
   {
    "duration": 129,
    "start_time": "2022-10-09T15:08:46.284Z"
   },
   {
    "duration": 40,
    "start_time": "2022-10-09T15:08:46.415Z"
   },
   {
    "duration": 19,
    "start_time": "2022-10-09T15:08:46.457Z"
   },
   {
    "duration": 1368,
    "start_time": "2022-10-09T15:08:46.478Z"
   },
   {
    "duration": 16,
    "start_time": "2022-10-09T15:08:47.848Z"
   },
   {
    "duration": 39,
    "start_time": "2022-10-09T15:08:47.866Z"
   },
   {
    "duration": 16,
    "start_time": "2022-10-09T15:08:47.907Z"
   },
   {
    "duration": 21,
    "start_time": "2022-10-09T15:08:47.924Z"
   },
   {
    "duration": 31,
    "start_time": "2022-10-09T15:08:47.947Z"
   },
   {
    "duration": 6,
    "start_time": "2022-10-09T15:08:47.980Z"
   },
   {
    "duration": 48,
    "start_time": "2022-10-09T15:08:47.988Z"
   },
   {
    "duration": 72,
    "start_time": "2022-10-09T15:08:48.038Z"
   },
   {
    "duration": 16,
    "start_time": "2022-10-09T15:08:48.113Z"
   },
   {
    "duration": 40,
    "start_time": "2022-10-09T15:08:48.131Z"
   },
   {
    "duration": 9,
    "start_time": "2022-10-09T15:08:48.173Z"
   },
   {
    "duration": 10,
    "start_time": "2022-10-09T15:08:50.490Z"
   },
   {
    "duration": 395,
    "start_time": "2022-10-09T15:09:26.150Z"
   },
   {
    "duration": 406,
    "start_time": "2022-10-09T15:09:42.313Z"
   },
   {
    "duration": 167,
    "start_time": "2022-10-09T15:09:42.722Z"
   },
   {
    "duration": 43,
    "start_time": "2022-10-09T15:09:42.890Z"
   },
   {
    "duration": 27,
    "start_time": "2022-10-09T15:09:42.935Z"
   },
   {
    "duration": 1334,
    "start_time": "2022-10-09T15:09:42.965Z"
   },
   {
    "duration": 22,
    "start_time": "2022-10-09T15:09:44.301Z"
   },
   {
    "duration": 35,
    "start_time": "2022-10-09T15:09:44.325Z"
   },
   {
    "duration": 4,
    "start_time": "2022-10-09T15:09:44.362Z"
   },
   {
    "duration": 15,
    "start_time": "2022-10-09T15:09:44.367Z"
   },
   {
    "duration": 47,
    "start_time": "2022-10-09T15:09:44.384Z"
   },
   {
    "duration": 5,
    "start_time": "2022-10-09T15:09:44.433Z"
   },
   {
    "duration": 20,
    "start_time": "2022-10-09T15:09:44.440Z"
   },
   {
    "duration": 91,
    "start_time": "2022-10-09T15:09:44.462Z"
   },
   {
    "duration": 4,
    "start_time": "2022-10-09T15:09:44.556Z"
   },
   {
    "duration": 23,
    "start_time": "2022-10-09T15:09:44.561Z"
   },
   {
    "duration": 10,
    "start_time": "2022-10-09T15:09:44.585Z"
   },
   {
    "duration": 389,
    "start_time": "2022-10-09T15:09:47.426Z"
   },
   {
    "duration": 377,
    "start_time": "2022-10-09T15:10:19.920Z"
   },
   {
    "duration": 119,
    "start_time": "2022-10-09T15:10:20.299Z"
   },
   {
    "duration": 39,
    "start_time": "2022-10-09T15:10:20.419Z"
   },
   {
    "duration": 20,
    "start_time": "2022-10-09T15:10:20.460Z"
   },
   {
    "duration": 1355,
    "start_time": "2022-10-09T15:10:20.483Z"
   },
   {
    "duration": 17,
    "start_time": "2022-10-09T15:10:21.841Z"
   },
   {
    "duration": 34,
    "start_time": "2022-10-09T15:10:21.860Z"
   },
   {
    "duration": 5,
    "start_time": "2022-10-09T15:10:21.895Z"
   },
   {
    "duration": 35,
    "start_time": "2022-10-09T15:10:21.901Z"
   },
   {
    "duration": 22,
    "start_time": "2022-10-09T15:10:21.938Z"
   },
   {
    "duration": 6,
    "start_time": "2022-10-09T15:10:21.961Z"
   },
   {
    "duration": 18,
    "start_time": "2022-10-09T15:10:21.968Z"
   },
   {
    "duration": 110,
    "start_time": "2022-10-09T15:10:21.987Z"
   },
   {
    "duration": 6,
    "start_time": "2022-10-09T15:10:22.100Z"
   },
   {
    "duration": 104,
    "start_time": "2022-10-09T15:10:24.963Z"
   },
   {
    "duration": 20,
    "start_time": "2022-10-09T15:11:33.332Z"
   },
   {
    "duration": 8,
    "start_time": "2022-10-09T15:11:39.958Z"
   },
   {
    "duration": 10,
    "start_time": "2022-10-09T15:11:43.224Z"
   },
   {
    "duration": 65,
    "start_time": "2022-10-09T15:11:44.574Z"
   },
   {
    "duration": 7,
    "start_time": "2022-10-09T15:12:15.885Z"
   },
   {
    "duration": 7,
    "start_time": "2022-10-09T15:12:44.411Z"
   },
   {
    "duration": 343,
    "start_time": "2022-10-09T15:12:59.355Z"
   },
   {
    "duration": 375,
    "start_time": "2022-10-09T15:13:07.886Z"
   },
   {
    "duration": 123,
    "start_time": "2022-10-09T15:13:08.263Z"
   },
   {
    "duration": 35,
    "start_time": "2022-10-09T15:13:08.388Z"
   },
   {
    "duration": 33,
    "start_time": "2022-10-09T15:13:08.425Z"
   },
   {
    "duration": 1346,
    "start_time": "2022-10-09T15:13:08.460Z"
   },
   {
    "duration": 20,
    "start_time": "2022-10-09T15:13:09.808Z"
   },
   {
    "duration": 57,
    "start_time": "2022-10-09T15:13:09.830Z"
   },
   {
    "duration": 5,
    "start_time": "2022-10-09T15:13:09.889Z"
   },
   {
    "duration": 15,
    "start_time": "2022-10-09T15:13:09.896Z"
   },
   {
    "duration": 34,
    "start_time": "2022-10-09T15:13:09.912Z"
   },
   {
    "duration": 6,
    "start_time": "2022-10-09T15:13:09.948Z"
   },
   {
    "duration": 22,
    "start_time": "2022-10-09T15:13:09.960Z"
   },
   {
    "duration": 88,
    "start_time": "2022-10-09T15:13:09.984Z"
   },
   {
    "duration": 4,
    "start_time": "2022-10-09T15:13:10.074Z"
   },
   {
    "duration": 32,
    "start_time": "2022-10-09T15:13:10.080Z"
   },
   {
    "duration": 8,
    "start_time": "2022-10-09T15:13:10.113Z"
   },
   {
    "duration": 11,
    "start_time": "2022-10-09T15:13:13.912Z"
   },
   {
    "duration": 9,
    "start_time": "2022-10-09T15:15:00.982Z"
   },
   {
    "duration": 6,
    "start_time": "2022-10-09T15:15:02.350Z"
   },
   {
    "duration": 7,
    "start_time": "2022-10-09T15:15:03.999Z"
   },
   {
    "duration": 6,
    "start_time": "2022-10-09T15:15:56.811Z"
   },
   {
    "duration": 7,
    "start_time": "2022-10-09T15:16:36.583Z"
   },
   {
    "duration": 41,
    "start_time": "2022-10-09T15:16:51.203Z"
   },
   {
    "duration": 15,
    "start_time": "2022-10-09T15:17:08.818Z"
   },
   {
    "duration": 6,
    "start_time": "2022-10-09T15:17:21.870Z"
   },
   {
    "duration": 9,
    "start_time": "2022-10-09T15:17:31.137Z"
   },
   {
    "duration": 9,
    "start_time": "2022-10-09T15:17:31.929Z"
   },
   {
    "duration": 6,
    "start_time": "2022-10-09T15:17:47.767Z"
   },
   {
    "duration": 8,
    "start_time": "2022-10-09T15:17:48.912Z"
   },
   {
    "duration": 509,
    "start_time": "2022-10-09T15:17:58.918Z"
   },
   {
    "duration": 139,
    "start_time": "2022-10-09T15:17:59.429Z"
   },
   {
    "duration": 32,
    "start_time": "2022-10-09T15:17:59.570Z"
   },
   {
    "duration": 55,
    "start_time": "2022-10-09T15:17:59.604Z"
   },
   {
    "duration": 1394,
    "start_time": "2022-10-09T15:17:59.662Z"
   },
   {
    "duration": 16,
    "start_time": "2022-10-09T15:18:01.057Z"
   },
   {
    "duration": 67,
    "start_time": "2022-10-09T15:18:01.075Z"
   },
   {
    "duration": 5,
    "start_time": "2022-10-09T15:18:01.144Z"
   },
   {
    "duration": 40,
    "start_time": "2022-10-09T15:18:01.151Z"
   },
   {
    "duration": 48,
    "start_time": "2022-10-09T15:18:01.192Z"
   },
   {
    "duration": 13,
    "start_time": "2022-10-09T15:18:01.243Z"
   },
   {
    "duration": 36,
    "start_time": "2022-10-09T15:18:01.258Z"
   },
   {
    "duration": 54,
    "start_time": "2022-10-09T15:18:01.296Z"
   },
   {
    "duration": 10,
    "start_time": "2022-10-09T15:18:01.353Z"
   },
   {
    "duration": 70,
    "start_time": "2022-10-09T15:18:01.365Z"
   },
   {
    "duration": 40,
    "start_time": "2022-10-09T15:18:01.439Z"
   },
   {
    "duration": 59,
    "start_time": "2022-10-09T15:18:01.480Z"
   },
   {
    "duration": 6,
    "start_time": "2022-10-09T15:18:05.458Z"
   },
   {
    "duration": 17,
    "start_time": "2022-10-09T15:18:29.798Z"
   },
   {
    "duration": 9,
    "start_time": "2022-10-09T15:19:00.354Z"
   },
   {
    "duration": 7,
    "start_time": "2022-10-09T15:19:01.759Z"
   },
   {
    "duration": 420,
    "start_time": "2022-10-09T15:19:15.841Z"
   },
   {
    "duration": 138,
    "start_time": "2022-10-09T15:19:16.265Z"
   },
   {
    "duration": 41,
    "start_time": "2022-10-09T15:19:16.404Z"
   },
   {
    "duration": 21,
    "start_time": "2022-10-09T15:19:16.447Z"
   },
   {
    "duration": 1378,
    "start_time": "2022-10-09T15:19:16.471Z"
   },
   {
    "duration": 18,
    "start_time": "2022-10-09T15:19:17.851Z"
   },
   {
    "duration": 58,
    "start_time": "2022-10-09T15:19:17.871Z"
   },
   {
    "duration": 13,
    "start_time": "2022-10-09T15:19:17.931Z"
   },
   {
    "duration": 30,
    "start_time": "2022-10-09T15:19:17.946Z"
   },
   {
    "duration": 19,
    "start_time": "2022-10-09T15:19:17.977Z"
   },
   {
    "duration": 6,
    "start_time": "2022-10-09T15:19:17.997Z"
   },
   {
    "duration": 26,
    "start_time": "2022-10-09T15:19:18.004Z"
   },
   {
    "duration": 111,
    "start_time": "2022-10-09T15:19:18.032Z"
   },
   {
    "duration": 6,
    "start_time": "2022-10-09T15:19:18.146Z"
   },
   {
    "duration": 26,
    "start_time": "2022-10-09T15:19:18.153Z"
   },
   {
    "duration": 21,
    "start_time": "2022-10-09T15:19:18.180Z"
   },
   {
    "duration": 9,
    "start_time": "2022-10-09T15:19:18.203Z"
   },
   {
    "duration": 13,
    "start_time": "2022-10-09T15:19:18.214Z"
   },
   {
    "duration": 32,
    "start_time": "2022-10-09T15:19:18.228Z"
   },
   {
    "duration": 431,
    "start_time": "2022-10-09T15:20:33.416Z"
   },
   {
    "duration": 413,
    "start_time": "2022-10-09T15:20:38.759Z"
   },
   {
    "duration": 116,
    "start_time": "2022-10-09T15:20:39.175Z"
   },
   {
    "duration": 37,
    "start_time": "2022-10-09T15:20:39.293Z"
   },
   {
    "duration": 29,
    "start_time": "2022-10-09T15:20:39.332Z"
   },
   {
    "duration": 1316,
    "start_time": "2022-10-09T15:20:39.364Z"
   },
   {
    "duration": 13,
    "start_time": "2022-10-09T15:20:40.682Z"
   },
   {
    "duration": 59,
    "start_time": "2022-10-09T15:20:40.697Z"
   },
   {
    "duration": 4,
    "start_time": "2022-10-09T15:20:40.758Z"
   },
   {
    "duration": 36,
    "start_time": "2022-10-09T15:20:40.764Z"
   },
   {
    "duration": 29,
    "start_time": "2022-10-09T15:20:40.802Z"
   },
   {
    "duration": 7,
    "start_time": "2022-10-09T15:20:40.833Z"
   },
   {
    "duration": 38,
    "start_time": "2022-10-09T15:20:40.842Z"
   },
   {
    "duration": 19,
    "start_time": "2022-10-09T15:20:40.883Z"
   },
   {
    "duration": 4,
    "start_time": "2022-10-09T15:20:40.904Z"
   },
   {
    "duration": 21,
    "start_time": "2022-10-09T15:20:40.927Z"
   },
   {
    "duration": 9,
    "start_time": "2022-10-09T15:20:40.949Z"
   },
   {
    "duration": 10,
    "start_time": "2022-10-09T15:20:40.959Z"
   },
   {
    "duration": 14,
    "start_time": "2022-10-09T15:20:40.970Z"
   },
   {
    "duration": 97,
    "start_time": "2022-10-09T15:20:40.986Z"
   },
   {
    "duration": 411,
    "start_time": "2022-10-09T15:21:07.703Z"
   },
   {
    "duration": 134,
    "start_time": "2022-10-09T15:21:08.115Z"
   },
   {
    "duration": 30,
    "start_time": "2022-10-09T15:21:08.251Z"
   },
   {
    "duration": 21,
    "start_time": "2022-10-09T15:21:08.283Z"
   },
   {
    "duration": 1384,
    "start_time": "2022-10-09T15:21:08.306Z"
   },
   {
    "duration": 15,
    "start_time": "2022-10-09T15:21:09.692Z"
   },
   {
    "duration": 56,
    "start_time": "2022-10-09T15:21:09.709Z"
   },
   {
    "duration": 6,
    "start_time": "2022-10-09T15:21:09.767Z"
   },
   {
    "duration": 24,
    "start_time": "2022-10-09T15:21:09.775Z"
   },
   {
    "duration": 42,
    "start_time": "2022-10-09T15:21:09.801Z"
   },
   {
    "duration": 14,
    "start_time": "2022-10-09T15:21:09.848Z"
   },
   {
    "duration": 27,
    "start_time": "2022-10-09T15:21:09.864Z"
   },
   {
    "duration": 89,
    "start_time": "2022-10-09T15:21:09.893Z"
   },
   {
    "duration": 6,
    "start_time": "2022-10-09T15:21:09.984Z"
   },
   {
    "duration": 18,
    "start_time": "2022-10-09T15:21:09.991Z"
   },
   {
    "duration": 19,
    "start_time": "2022-10-09T15:21:10.021Z"
   },
   {
    "duration": 19,
    "start_time": "2022-10-09T15:21:12.962Z"
   },
   {
    "duration": 10,
    "start_time": "2022-10-09T15:21:16.423Z"
   },
   {
    "duration": 278,
    "start_time": "2022-10-09T15:27:13.594Z"
   },
   {
    "duration": 189,
    "start_time": "2022-10-09T15:27:20.010Z"
   },
   {
    "duration": 182,
    "start_time": "2022-10-09T15:27:29.132Z"
   },
   {
    "duration": 113,
    "start_time": "2022-10-09T15:28:43.169Z"
   },
   {
    "duration": 129,
    "start_time": "2022-10-09T15:29:30.463Z"
   },
   {
    "duration": 9,
    "start_time": "2022-10-09T15:30:32.893Z"
   },
   {
    "duration": 9,
    "start_time": "2022-10-09T15:31:08.557Z"
   },
   {
    "duration": 12,
    "start_time": "2022-10-09T15:31:16.451Z"
   },
   {
    "duration": 12,
    "start_time": "2022-10-09T15:32:46.245Z"
   },
   {
    "duration": 140,
    "start_time": "2022-10-09T15:33:50.011Z"
   },
   {
    "duration": 135,
    "start_time": "2022-10-09T15:34:08.429Z"
   },
   {
    "duration": 126,
    "start_time": "2022-10-09T15:34:26.668Z"
   },
   {
    "duration": 0,
    "start_time": "2022-10-09T15:36:01.266Z"
   },
   {
    "duration": 7,
    "start_time": "2022-10-09T15:36:02.722Z"
   },
   {
    "duration": 6,
    "start_time": "2022-10-09T15:36:12.654Z"
   },
   {
    "duration": 7,
    "start_time": "2022-10-09T15:36:19.399Z"
   },
   {
    "duration": 43,
    "start_time": "2022-10-09T15:36:42.114Z"
   },
   {
    "duration": 27,
    "start_time": "2022-10-09T15:36:51.141Z"
   },
   {
    "duration": 7,
    "start_time": "2022-10-09T15:37:04.352Z"
   },
   {
    "duration": 8,
    "start_time": "2022-10-09T15:37:17.492Z"
   },
   {
    "duration": 7,
    "start_time": "2022-10-09T15:37:38.261Z"
   },
   {
    "duration": 1364,
    "start_time": "2022-10-09T15:39:52.971Z"
   },
   {
    "duration": 276,
    "start_time": "2022-10-09T15:39:58.850Z"
   },
   {
    "duration": 216,
    "start_time": "2022-10-09T15:43:03.913Z"
   },
   {
    "duration": 174,
    "start_time": "2022-10-09T15:43:08.683Z"
   },
   {
    "duration": 188,
    "start_time": "2022-10-09T15:43:12.043Z"
   },
   {
    "duration": 9,
    "start_time": "2022-10-09T15:43:26.599Z"
   },
   {
    "duration": 389,
    "start_time": "2022-10-09T15:43:40.778Z"
   },
   {
    "duration": 125,
    "start_time": "2022-10-09T15:43:41.169Z"
   },
   {
    "duration": 40,
    "start_time": "2022-10-09T15:43:41.296Z"
   },
   {
    "duration": 27,
    "start_time": "2022-10-09T15:43:41.339Z"
   },
   {
    "duration": 1482,
    "start_time": "2022-10-09T15:43:41.368Z"
   },
   {
    "duration": 14,
    "start_time": "2022-10-09T15:43:42.852Z"
   },
   {
    "duration": 33,
    "start_time": "2022-10-09T15:43:42.867Z"
   },
   {
    "duration": 26,
    "start_time": "2022-10-09T15:43:42.901Z"
   },
   {
    "duration": 38,
    "start_time": "2022-10-09T15:43:42.929Z"
   },
   {
    "duration": 6,
    "start_time": "2022-10-09T15:43:42.969Z"
   },
   {
    "duration": 29,
    "start_time": "2022-10-09T15:43:42.976Z"
   },
   {
    "duration": 6,
    "start_time": "2022-10-09T15:43:45.121Z"
   },
   {
    "duration": 186,
    "start_time": "2022-10-09T15:43:46.454Z"
   },
   {
    "duration": 11,
    "start_time": "2022-10-09T15:43:50.737Z"
   },
   {
    "duration": 7,
    "start_time": "2022-10-09T15:44:58.297Z"
   },
   {
    "duration": 66,
    "start_time": "2022-10-09T15:46:59.557Z"
   },
   {
    "duration": 77,
    "start_time": "2022-10-09T15:47:07.485Z"
   },
   {
    "duration": 33,
    "start_time": "2022-10-09T15:49:38.422Z"
   },
   {
    "duration": 26,
    "start_time": "2022-10-09T15:50:27.699Z"
   },
   {
    "duration": 70,
    "start_time": "2022-10-09T15:51:12.610Z"
   },
   {
    "duration": 15,
    "start_time": "2022-10-09T15:52:22.257Z"
   },
   {
    "duration": 19,
    "start_time": "2022-10-09T15:52:33.045Z"
   },
   {
    "duration": 7,
    "start_time": "2022-10-09T15:52:38.456Z"
   },
   {
    "duration": 7,
    "start_time": "2022-10-09T15:55:28.363Z"
   },
   {
    "duration": 10,
    "start_time": "2022-10-09T15:55:40.234Z"
   },
   {
    "duration": 8,
    "start_time": "2022-10-09T15:57:18.218Z"
   },
   {
    "duration": 22,
    "start_time": "2022-10-09T15:57:24.874Z"
   },
   {
    "duration": 8,
    "start_time": "2022-10-09T15:57:30.711Z"
   },
   {
    "duration": 8,
    "start_time": "2022-10-09T15:57:36.970Z"
   },
   {
    "duration": 14,
    "start_time": "2022-10-09T15:57:54.836Z"
   },
   {
    "duration": 6,
    "start_time": "2022-10-09T15:58:17.068Z"
   },
   {
    "duration": 8,
    "start_time": "2022-10-09T15:58:21.811Z"
   },
   {
    "duration": 12,
    "start_time": "2022-10-09T15:58:22.941Z"
   },
   {
    "duration": 9,
    "start_time": "2022-10-09T15:58:34.161Z"
   },
   {
    "duration": 6,
    "start_time": "2022-10-09T15:59:10.394Z"
   },
   {
    "duration": 16,
    "start_time": "2022-10-09T15:59:14.332Z"
   },
   {
    "duration": 14,
    "start_time": "2022-10-09T15:59:22.043Z"
   },
   {
    "duration": 10,
    "start_time": "2022-10-09T15:59:42.658Z"
   },
   {
    "duration": 9,
    "start_time": "2022-10-09T16:01:02.805Z"
   },
   {
    "duration": 5,
    "start_time": "2022-10-09T16:02:23.668Z"
   },
   {
    "duration": 11,
    "start_time": "2022-10-09T16:02:28.085Z"
   },
   {
    "duration": 4,
    "start_time": "2022-10-09T16:02:39.971Z"
   },
   {
    "duration": 11,
    "start_time": "2022-10-09T16:02:40.356Z"
   },
   {
    "duration": 10,
    "start_time": "2022-10-09T16:05:18.231Z"
   },
   {
    "duration": 985,
    "start_time": "2022-10-09T16:05:55.976Z"
   },
   {
    "duration": 818,
    "start_time": "2022-10-09T16:06:04.344Z"
   },
   {
    "duration": 912,
    "start_time": "2022-10-09T16:07:20.258Z"
   },
   {
    "duration": 893,
    "start_time": "2022-10-09T16:07:26.818Z"
   },
   {
    "duration": 386,
    "start_time": "2022-10-09T16:07:33.327Z"
   },
   {
    "duration": 114,
    "start_time": "2022-10-09T16:07:33.715Z"
   },
   {
    "duration": 27,
    "start_time": "2022-10-09T16:07:33.830Z"
   },
   {
    "duration": 20,
    "start_time": "2022-10-09T16:07:33.859Z"
   },
   {
    "duration": 1159,
    "start_time": "2022-10-09T16:07:33.881Z"
   },
   {
    "duration": 14,
    "start_time": "2022-10-09T16:07:35.042Z"
   },
   {
    "duration": 34,
    "start_time": "2022-10-09T16:07:35.058Z"
   },
   {
    "duration": 4,
    "start_time": "2022-10-09T16:07:35.094Z"
   },
   {
    "duration": 13,
    "start_time": "2022-10-09T16:07:35.121Z"
   },
   {
    "duration": 5,
    "start_time": "2022-10-09T16:07:35.135Z"
   },
   {
    "duration": 19,
    "start_time": "2022-10-09T16:07:35.142Z"
   },
   {
    "duration": 181,
    "start_time": "2022-10-09T16:07:35.163Z"
   },
   {
    "duration": 9,
    "start_time": "2022-10-09T16:07:35.345Z"
   },
   {
    "duration": 7,
    "start_time": "2022-10-09T16:07:35.357Z"
   },
   {
    "duration": 6,
    "start_time": "2022-10-09T16:07:38.859Z"
   },
   {
    "duration": 7,
    "start_time": "2022-10-09T16:07:48.672Z"
   },
   {
    "duration": 3,
    "start_time": "2022-10-09T16:08:22.612Z"
   },
   {
    "duration": 8,
    "start_time": "2022-10-09T16:08:28.433Z"
   },
   {
    "duration": 10,
    "start_time": "2022-10-09T16:08:35.962Z"
   },
   {
    "duration": 15,
    "start_time": "2022-10-09T16:10:25.695Z"
   },
   {
    "duration": 398,
    "start_time": "2022-10-09T16:10:49.958Z"
   },
   {
    "duration": 114,
    "start_time": "2022-10-09T16:10:50.357Z"
   },
   {
    "duration": 39,
    "start_time": "2022-10-09T16:10:50.473Z"
   },
   {
    "duration": 19,
    "start_time": "2022-10-09T16:10:50.521Z"
   },
   {
    "duration": 1270,
    "start_time": "2022-10-09T16:10:50.541Z"
   },
   {
    "duration": 16,
    "start_time": "2022-10-09T16:10:51.813Z"
   },
   {
    "duration": 34,
    "start_time": "2022-10-09T16:10:51.831Z"
   },
   {
    "duration": 4,
    "start_time": "2022-10-09T16:10:51.867Z"
   },
   {
    "duration": 16,
    "start_time": "2022-10-09T16:10:51.872Z"
   },
   {
    "duration": 33,
    "start_time": "2022-10-09T16:10:51.889Z"
   },
   {
    "duration": 17,
    "start_time": "2022-10-09T16:10:51.923Z"
   },
   {
    "duration": 185,
    "start_time": "2022-10-09T16:10:51.941Z"
   },
   {
    "duration": 8,
    "start_time": "2022-10-09T16:10:52.127Z"
   },
   {
    "duration": 34,
    "start_time": "2022-10-09T16:10:52.137Z"
   },
   {
    "duration": 38,
    "start_time": "2022-10-09T16:10:52.172Z"
   },
   {
    "duration": 6,
    "start_time": "2022-10-09T16:10:56.249Z"
   },
   {
    "duration": 14,
    "start_time": "2022-10-09T16:11:16.778Z"
   },
   {
    "duration": 5,
    "start_time": "2022-10-09T16:11:18.691Z"
   },
   {
    "duration": 7,
    "start_time": "2022-10-09T16:11:39.164Z"
   },
   {
    "duration": 9,
    "start_time": "2022-10-09T16:12:19.481Z"
   },
   {
    "duration": 4,
    "start_time": "2022-10-09T16:12:54.826Z"
   },
   {
    "duration": 4,
    "start_time": "2022-10-09T16:13:08.745Z"
   },
   {
    "duration": 11,
    "start_time": "2022-10-09T16:13:33.259Z"
   },
   {
    "duration": 7,
    "start_time": "2022-10-09T16:13:51.702Z"
   },
   {
    "duration": 5,
    "start_time": "2022-10-09T16:38:00.869Z"
   },
   {
    "duration": 7,
    "start_time": "2022-10-09T16:38:55.236Z"
   },
   {
    "duration": 9,
    "start_time": "2022-10-09T16:39:03.394Z"
   },
   {
    "duration": 17,
    "start_time": "2022-10-09T16:39:16.176Z"
   },
   {
    "duration": 828,
    "start_time": "2022-10-09T16:40:02.133Z"
   },
   {
    "duration": 1477,
    "start_time": "2022-10-09T16:41:11.474Z"
   },
   {
    "duration": 398,
    "start_time": "2022-10-09T16:42:15.696Z"
   },
   {
    "duration": 11,
    "start_time": "2022-10-09T16:42:47.691Z"
   },
   {
    "duration": 366,
    "start_time": "2022-10-09T16:43:00.677Z"
   },
   {
    "duration": 129,
    "start_time": "2022-10-09T16:43:01.046Z"
   },
   {
    "duration": 32,
    "start_time": "2022-10-09T16:43:01.177Z"
   },
   {
    "duration": 32,
    "start_time": "2022-10-09T16:43:01.210Z"
   },
   {
    "duration": 1372,
    "start_time": "2022-10-09T16:43:01.244Z"
   },
   {
    "duration": 17,
    "start_time": "2022-10-09T16:43:02.618Z"
   },
   {
    "duration": 57,
    "start_time": "2022-10-09T16:43:02.637Z"
   },
   {
    "duration": 4,
    "start_time": "2022-10-09T16:43:02.696Z"
   },
   {
    "duration": 37,
    "start_time": "2022-10-09T16:43:02.701Z"
   },
   {
    "duration": 5,
    "start_time": "2022-10-09T16:43:02.740Z"
   },
   {
    "duration": 27,
    "start_time": "2022-10-09T16:43:02.747Z"
   },
   {
    "duration": 184,
    "start_time": "2022-10-09T16:43:02.775Z"
   },
   {
    "duration": 9,
    "start_time": "2022-10-09T16:43:02.961Z"
   },
   {
    "duration": 7,
    "start_time": "2022-10-09T16:43:02.973Z"
   },
   {
    "duration": 14,
    "start_time": "2022-10-09T16:43:02.981Z"
   },
   {
    "duration": 29,
    "start_time": "2022-10-09T16:43:02.997Z"
   },
   {
    "duration": 23,
    "start_time": "2022-10-09T16:43:03.028Z"
   },
   {
    "duration": 16,
    "start_time": "2022-10-09T16:43:03.053Z"
   },
   {
    "duration": 19,
    "start_time": "2022-10-09T16:43:03.071Z"
   },
   {
    "duration": 4,
    "start_time": "2022-10-09T16:43:03.092Z"
   },
   {
    "duration": 6,
    "start_time": "2022-10-09T16:43:07.790Z"
   },
   {
    "duration": 8,
    "start_time": "2022-10-09T16:43:16.692Z"
   },
   {
    "duration": 7,
    "start_time": "2022-10-09T16:43:17.503Z"
   },
   {
    "duration": 6,
    "start_time": "2022-10-09T16:43:19.269Z"
   },
   {
    "duration": 10,
    "start_time": "2022-10-09T16:43:22.933Z"
   },
   {
    "duration": 391,
    "start_time": "2022-10-09T16:43:32.343Z"
   },
   {
    "duration": 380,
    "start_time": "2022-10-09T16:43:45.646Z"
   },
   {
    "duration": 146,
    "start_time": "2022-10-09T16:43:46.029Z"
   },
   {
    "duration": 44,
    "start_time": "2022-10-09T16:43:46.177Z"
   },
   {
    "duration": 28,
    "start_time": "2022-10-09T16:43:46.224Z"
   },
   {
    "duration": 1299,
    "start_time": "2022-10-09T16:43:46.254Z"
   },
   {
    "duration": 13,
    "start_time": "2022-10-09T16:43:47.555Z"
   },
   {
    "duration": 34,
    "start_time": "2022-10-09T16:43:47.570Z"
   },
   {
    "duration": 18,
    "start_time": "2022-10-09T16:43:47.606Z"
   },
   {
    "duration": 18,
    "start_time": "2022-10-09T16:43:47.626Z"
   },
   {
    "duration": 4,
    "start_time": "2022-10-09T16:43:47.646Z"
   },
   {
    "duration": 21,
    "start_time": "2022-10-09T16:43:47.652Z"
   },
   {
    "duration": 202,
    "start_time": "2022-10-09T16:43:47.674Z"
   },
   {
    "duration": 7,
    "start_time": "2022-10-09T16:43:47.878Z"
   },
   {
    "duration": 9,
    "start_time": "2022-10-09T16:43:47.887Z"
   },
   {
    "duration": 25,
    "start_time": "2022-10-09T16:43:47.897Z"
   },
   {
    "duration": 5,
    "start_time": "2022-10-09T16:43:47.924Z"
   },
   {
    "duration": 20,
    "start_time": "2022-10-09T16:43:47.931Z"
   },
   {
    "duration": 9,
    "start_time": "2022-10-09T16:43:47.953Z"
   },
   {
    "duration": 10,
    "start_time": "2022-10-09T16:43:47.964Z"
   },
   {
    "duration": 4,
    "start_time": "2022-10-09T16:43:47.976Z"
   },
   {
    "duration": 8,
    "start_time": "2022-10-09T16:43:47.982Z"
   },
   {
    "duration": 10,
    "start_time": "2022-10-09T16:43:47.991Z"
   },
   {
    "duration": 25,
    "start_time": "2022-10-09T16:43:48.003Z"
   },
   {
    "duration": 7,
    "start_time": "2022-10-09T16:43:50.297Z"
   },
   {
    "duration": 9,
    "start_time": "2022-10-09T16:43:53.022Z"
   },
   {
    "duration": 383,
    "start_time": "2022-10-09T16:45:04.416Z"
   },
   {
    "duration": 110,
    "start_time": "2022-10-09T16:45:04.801Z"
   },
   {
    "duration": 28,
    "start_time": "2022-10-09T16:45:04.912Z"
   },
   {
    "duration": 19,
    "start_time": "2022-10-09T16:45:04.942Z"
   },
   {
    "duration": 1179,
    "start_time": "2022-10-09T16:45:04.962Z"
   },
   {
    "duration": 19,
    "start_time": "2022-10-09T16:45:06.143Z"
   },
   {
    "duration": 44,
    "start_time": "2022-10-09T16:45:06.163Z"
   },
   {
    "duration": 4,
    "start_time": "2022-10-09T16:45:06.221Z"
   },
   {
    "duration": 17,
    "start_time": "2022-10-09T16:45:06.227Z"
   },
   {
    "duration": 5,
    "start_time": "2022-10-09T16:45:06.245Z"
   },
   {
    "duration": 17,
    "start_time": "2022-10-09T16:45:06.251Z"
   },
   {
    "duration": 181,
    "start_time": "2022-10-09T16:45:06.269Z"
   },
   {
    "duration": 8,
    "start_time": "2022-10-09T16:45:06.452Z"
   },
   {
    "duration": 6,
    "start_time": "2022-10-09T16:45:06.462Z"
   },
   {
    "duration": 10,
    "start_time": "2022-10-09T16:45:06.469Z"
   },
   {
    "duration": 5,
    "start_time": "2022-10-09T16:45:06.480Z"
   },
   {
    "duration": 37,
    "start_time": "2022-10-09T16:45:06.486Z"
   },
   {
    "duration": 4,
    "start_time": "2022-10-09T16:45:06.524Z"
   },
   {
    "duration": 8,
    "start_time": "2022-10-09T16:45:06.530Z"
   },
   {
    "duration": 4,
    "start_time": "2022-10-09T16:45:06.539Z"
   },
   {
    "duration": 6,
    "start_time": "2022-10-09T16:45:06.544Z"
   },
   {
    "duration": 5,
    "start_time": "2022-10-09T16:45:06.552Z"
   },
   {
    "duration": 4,
    "start_time": "2022-10-09T16:45:06.559Z"
   },
   {
    "duration": 8,
    "start_time": "2022-10-09T16:45:06.565Z"
   },
   {
    "duration": 1360,
    "start_time": "2022-10-09T16:46:05.925Z"
   },
   {
    "duration": 5,
    "start_time": "2022-10-09T16:46:29.056Z"
   },
   {
    "duration": 5,
    "start_time": "2022-10-09T16:46:46.329Z"
   },
   {
    "duration": 119,
    "start_time": "2022-10-09T16:54:52.046Z"
   },
   {
    "duration": 140,
    "start_time": "2022-10-09T16:55:06.317Z"
   },
   {
    "duration": 127,
    "start_time": "2022-10-09T16:55:12.828Z"
   },
   {
    "duration": 342,
    "start_time": "2022-10-09T17:02:37.754Z"
   },
   {
    "duration": 76,
    "start_time": "2022-10-09T17:02:38.566Z"
   },
   {
    "duration": 14,
    "start_time": "2022-10-09T17:02:39.382Z"
   },
   {
    "duration": 2,
    "start_time": "2022-10-09T17:03:36.630Z"
   },
   {
    "duration": 78,
    "start_time": "2022-10-09T17:03:37.234Z"
   },
   {
    "duration": 7,
    "start_time": "2022-10-09T17:03:37.806Z"
   },
   {
    "duration": 341,
    "start_time": "2022-10-09T17:07:10.258Z"
   },
   {
    "duration": 85,
    "start_time": "2022-10-09T17:07:10.706Z"
   },
   {
    "duration": 33,
    "start_time": "2022-10-09T17:07:11.120Z"
   },
   {
    "duration": 15,
    "start_time": "2022-10-09T17:21:51.498Z"
   },
   {
    "duration": 2,
    "start_time": "2022-10-09T17:21:55.183Z"
   },
   {
    "duration": 78,
    "start_time": "2022-10-09T17:21:55.532Z"
   },
   {
    "duration": 27,
    "start_time": "2022-10-09T17:21:55.933Z"
   },
   {
    "duration": 13,
    "start_time": "2022-10-09T17:21:56.672Z"
   },
   {
    "duration": 1953,
    "start_time": "2022-10-09T17:22:07.259Z"
   },
   {
    "duration": 7,
    "start_time": "2022-10-09T17:22:18.031Z"
   },
   {
    "duration": 21,
    "start_time": "2022-10-09T17:22:25.596Z"
   },
   {
    "duration": 4,
    "start_time": "2022-10-09T17:22:33.853Z"
   },
   {
    "duration": 7,
    "start_time": "2022-10-09T17:23:56.442Z"
   },
   {
    "duration": 1250,
    "start_time": "2022-10-09T17:25:42.745Z"
   },
   {
    "duration": 95,
    "start_time": "2022-10-09T17:25:57.013Z"
   },
   {
    "duration": 111,
    "start_time": "2022-10-09T17:26:03.841Z"
   },
   {
    "duration": 430,
    "start_time": "2022-10-09T17:26:12.815Z"
   },
   {
    "duration": 93,
    "start_time": "2022-10-09T17:26:13.248Z"
   },
   {
    "duration": 42,
    "start_time": "2022-10-09T17:26:13.343Z"
   },
   {
    "duration": 25,
    "start_time": "2022-10-09T17:26:13.390Z"
   },
   {
    "duration": 2022,
    "start_time": "2022-10-09T17:26:13.422Z"
   },
   {
    "duration": 7,
    "start_time": "2022-10-09T17:26:15.446Z"
   },
   {
    "duration": 22,
    "start_time": "2022-10-09T17:26:15.455Z"
   },
   {
    "duration": 110,
    "start_time": "2022-10-09T17:26:19.732Z"
   },
   {
    "duration": 132,
    "start_time": "2022-10-09T17:26:26.665Z"
   },
   {
    "duration": 94,
    "start_time": "2022-10-09T17:26:31.209Z"
   },
   {
    "duration": 6,
    "start_time": "2022-10-09T17:29:36.003Z"
   },
   {
    "duration": 101,
    "start_time": "2022-10-09T17:29:40.604Z"
   },
   {
    "duration": 9,
    "start_time": "2022-10-09T17:30:36.559Z"
   },
   {
    "duration": 9,
    "start_time": "2022-10-09T17:31:25.763Z"
   },
   {
    "duration": 112,
    "start_time": "2022-10-09T17:31:26.376Z"
   },
   {
    "duration": 12,
    "start_time": "2022-10-09T17:31:41.017Z"
   },
   {
    "duration": 72,
    "start_time": "2022-10-09T17:31:41.504Z"
   },
   {
    "duration": 363,
    "start_time": "2022-10-09T17:31:57.928Z"
   },
   {
    "duration": 84,
    "start_time": "2022-10-09T17:31:58.292Z"
   },
   {
    "duration": 32,
    "start_time": "2022-10-09T17:31:58.378Z"
   },
   {
    "duration": 19,
    "start_time": "2022-10-09T17:31:58.412Z"
   },
   {
    "duration": 2147,
    "start_time": "2022-10-09T17:31:58.433Z"
   },
   {
    "duration": 8,
    "start_time": "2022-10-09T17:32:00.582Z"
   },
   {
    "duration": 39,
    "start_time": "2022-10-09T17:32:00.592Z"
   },
   {
    "duration": 116,
    "start_time": "2022-10-09T17:32:00.632Z"
   },
   {
    "duration": 11,
    "start_time": "2022-10-09T17:32:04.180Z"
   },
   {
    "duration": 69,
    "start_time": "2022-10-09T17:32:04.822Z"
   },
   {
    "duration": 9,
    "start_time": "2022-10-09T17:32:08.800Z"
   },
   {
    "duration": 15,
    "start_time": "2022-10-09T17:32:09.222Z"
   },
   {
    "duration": 365,
    "start_time": "2022-10-09T17:32:19.845Z"
   },
   {
    "duration": 89,
    "start_time": "2022-10-09T17:32:20.212Z"
   },
   {
    "duration": 31,
    "start_time": "2022-10-09T17:32:20.302Z"
   },
   {
    "duration": 13,
    "start_time": "2022-10-09T17:32:20.334Z"
   },
   {
    "duration": 1955,
    "start_time": "2022-10-09T17:32:20.349Z"
   },
   {
    "duration": 9,
    "start_time": "2022-10-09T17:32:22.306Z"
   },
   {
    "duration": 39,
    "start_time": "2022-10-09T17:32:22.317Z"
   },
   {
    "duration": 128,
    "start_time": "2022-10-09T17:32:22.358Z"
   },
   {
    "duration": 8,
    "start_time": "2022-10-09T17:32:22.488Z"
   },
   {
    "duration": 72,
    "start_time": "2022-10-09T17:32:22.527Z"
   },
   {
    "duration": 18,
    "start_time": "2022-10-09T17:32:26.100Z"
   },
   {
    "duration": 6,
    "start_time": "2022-10-09T17:32:32.196Z"
   },
   {
    "duration": 16,
    "start_time": "2022-10-09T17:32:32.764Z"
   },
   {
    "duration": 373,
    "start_time": "2022-10-09T17:32:39.088Z"
   },
   {
    "duration": 85,
    "start_time": "2022-10-09T17:32:39.463Z"
   },
   {
    "duration": 45,
    "start_time": "2022-10-09T17:32:39.550Z"
   },
   {
    "duration": 13,
    "start_time": "2022-10-09T17:32:39.597Z"
   },
   {
    "duration": 1975,
    "start_time": "2022-10-09T17:32:39.621Z"
   },
   {
    "duration": 8,
    "start_time": "2022-10-09T17:32:41.598Z"
   },
   {
    "duration": 25,
    "start_time": "2022-10-09T17:32:41.608Z"
   },
   {
    "duration": 126,
    "start_time": "2022-10-09T17:32:41.635Z"
   },
   {
    "duration": 6,
    "start_time": "2022-10-09T17:32:45.123Z"
   },
   {
    "duration": 100,
    "start_time": "2022-10-09T17:32:45.761Z"
   },
   {
    "duration": 8,
    "start_time": "2022-10-09T17:32:49.300Z"
   },
   {
    "duration": 84,
    "start_time": "2022-10-09T17:33:48.275Z"
   },
   {
    "duration": 11,
    "start_time": "2022-10-09T17:33:56.466Z"
   },
   {
    "duration": 114,
    "start_time": "2022-10-09T17:33:57.574Z"
   },
   {
    "duration": 7,
    "start_time": "2022-10-09T17:34:08.537Z"
   },
   {
    "duration": 12,
    "start_time": "2022-10-09T17:35:07.875Z"
   },
   {
    "duration": 129,
    "start_time": "2022-10-09T17:35:08.447Z"
   },
   {
    "duration": 9,
    "start_time": "2022-10-09T17:35:17.765Z"
   },
   {
    "duration": 135,
    "start_time": "2022-10-09T17:35:18.177Z"
   },
   {
    "duration": 5,
    "start_time": "2022-10-09T17:38:27.899Z"
   },
   {
    "duration": 5,
    "start_time": "2022-10-09T17:38:58.197Z"
   },
   {
    "duration": 4,
    "start_time": "2022-10-09T17:39:27.534Z"
   },
   {
    "duration": 4,
    "start_time": "2022-10-09T17:40:08.691Z"
   },
   {
    "duration": 3,
    "start_time": "2022-10-09T17:40:43.838Z"
   },
   {
    "duration": 5,
    "start_time": "2022-10-09T17:41:13.768Z"
   },
   {
    "duration": 12,
    "start_time": "2022-10-09T17:41:38.730Z"
   },
   {
    "duration": 4,
    "start_time": "2022-10-09T17:41:40.684Z"
   },
   {
    "duration": 5,
    "start_time": "2022-10-09T17:41:43.622Z"
   },
   {
    "duration": 8,
    "start_time": "2022-10-09T17:42:13.029Z"
   },
   {
    "duration": 1315,
    "start_time": "2022-10-09T17:42:38.811Z"
   },
   {
    "duration": 7,
    "start_time": "2022-10-09T17:42:51.470Z"
   },
   {
    "duration": 5,
    "start_time": "2022-10-09T17:43:32.974Z"
   },
   {
    "duration": 29,
    "start_time": "2022-10-09T17:43:48.517Z"
   },
   {
    "duration": 70,
    "start_time": "2022-10-09T17:43:56.224Z"
   },
   {
    "duration": 28,
    "start_time": "2022-10-09T17:49:25.825Z"
   },
   {
    "duration": 4,
    "start_time": "2022-10-09T17:50:46.521Z"
   },
   {
    "duration": 4,
    "start_time": "2022-10-09T17:54:07.524Z"
   },
   {
    "duration": 51,
    "start_time": "2022-10-09T17:55:42.785Z"
   },
   {
    "duration": 401,
    "start_time": "2022-10-09T17:56:33.293Z"
   },
   {
    "duration": 88,
    "start_time": "2022-10-09T17:56:33.696Z"
   },
   {
    "duration": 43,
    "start_time": "2022-10-09T17:56:33.786Z"
   },
   {
    "duration": 14,
    "start_time": "2022-10-09T17:56:33.831Z"
   },
   {
    "duration": 1930,
    "start_time": "2022-10-09T17:56:33.846Z"
   },
   {
    "duration": 7,
    "start_time": "2022-10-09T17:56:35.778Z"
   },
   {
    "duration": 44,
    "start_time": "2022-10-09T17:56:35.787Z"
   },
   {
    "duration": 114,
    "start_time": "2022-10-09T17:56:35.833Z"
   },
   {
    "duration": 13,
    "start_time": "2022-10-09T17:56:35.949Z"
   },
   {
    "duration": 206,
    "start_time": "2022-10-09T17:56:35.964Z"
   },
   {
    "duration": 7,
    "start_time": "2022-10-09T17:56:36.172Z"
   },
   {
    "duration": 15,
    "start_time": "2022-10-09T17:56:36.181Z"
   },
   {
    "duration": 10,
    "start_time": "2022-10-09T17:56:36.199Z"
   },
   {
    "duration": 22,
    "start_time": "2022-10-09T17:56:36.211Z"
   },
   {
    "duration": 7,
    "start_time": "2022-10-09T17:56:36.235Z"
   },
   {
    "duration": 5,
    "start_time": "2022-10-09T17:56:36.244Z"
   },
   {
    "duration": 4,
    "start_time": "2022-10-09T17:56:36.250Z"
   },
   {
    "duration": 5,
    "start_time": "2022-10-09T17:56:36.256Z"
   },
   {
    "duration": 35,
    "start_time": "2022-10-09T17:56:36.263Z"
   },
   {
    "duration": 4,
    "start_time": "2022-10-09T17:56:36.299Z"
   },
   {
    "duration": 5,
    "start_time": "2022-10-09T17:56:44.092Z"
   },
   {
    "duration": 6,
    "start_time": "2022-10-09T17:56:45.064Z"
   },
   {
    "duration": 3,
    "start_time": "2022-10-09T18:02:32.173Z"
   },
   {
    "duration": 334,
    "start_time": "2022-10-09T18:03:19.768Z"
   },
   {
    "duration": 83,
    "start_time": "2022-10-09T18:03:20.103Z"
   },
   {
    "duration": 31,
    "start_time": "2022-10-09T18:03:20.187Z"
   },
   {
    "duration": 13,
    "start_time": "2022-10-09T18:03:20.219Z"
   },
   {
    "duration": 1911,
    "start_time": "2022-10-09T18:03:20.233Z"
   },
   {
    "duration": 8,
    "start_time": "2022-10-09T18:03:22.145Z"
   },
   {
    "duration": 22,
    "start_time": "2022-10-09T18:03:22.154Z"
   },
   {
    "duration": 100,
    "start_time": "2022-10-09T18:03:22.177Z"
   },
   {
    "duration": 11,
    "start_time": "2022-10-09T18:03:22.279Z"
   },
   {
    "duration": 146,
    "start_time": "2022-10-09T18:03:22.292Z"
   },
   {
    "duration": 4,
    "start_time": "2022-10-09T18:03:22.440Z"
   },
   {
    "duration": 5,
    "start_time": "2022-10-09T18:03:22.445Z"
   },
   {
    "duration": 7,
    "start_time": "2022-10-09T18:03:22.451Z"
   },
   {
    "duration": 7,
    "start_time": "2022-10-09T18:03:22.459Z"
   },
   {
    "duration": 8,
    "start_time": "2022-10-09T18:03:22.468Z"
   },
   {
    "duration": 6,
    "start_time": "2022-10-09T18:03:22.477Z"
   },
   {
    "duration": 5,
    "start_time": "2022-10-09T18:03:22.484Z"
   },
   {
    "duration": 6,
    "start_time": "2022-10-09T18:03:22.490Z"
   },
   {
    "duration": 39,
    "start_time": "2022-10-09T18:03:22.497Z"
   },
   {
    "duration": 4,
    "start_time": "2022-10-09T18:03:22.538Z"
   },
   {
    "duration": 10,
    "start_time": "2022-10-09T18:03:22.544Z"
   },
   {
    "duration": 4,
    "start_time": "2022-10-09T18:03:22.555Z"
   },
   {
    "duration": 9,
    "start_time": "2022-10-09T18:03:26.824Z"
   },
   {
    "duration": 15,
    "start_time": "2022-10-09T18:03:35.018Z"
   },
   {
    "duration": 25,
    "start_time": "2022-10-09T18:03:39.626Z"
   },
   {
    "duration": 69,
    "start_time": "2022-10-09T18:10:51.760Z"
   },
   {
    "duration": 11,
    "start_time": "2022-10-09T18:11:27.992Z"
   },
   {
    "duration": 12,
    "start_time": "2022-10-09T18:11:46.464Z"
   },
   {
    "duration": 6,
    "start_time": "2022-10-09T18:12:17.122Z"
   },
   {
    "duration": 1116,
    "start_time": "2022-10-09T18:12:19.010Z"
   },
   {
    "duration": 1131,
    "start_time": "2022-10-09T18:12:25.511Z"
   },
   {
    "duration": 6,
    "start_time": "2022-10-09T18:12:44.575Z"
   },
   {
    "duration": 13,
    "start_time": "2022-10-09T18:13:21.583Z"
   },
   {
    "duration": 6,
    "start_time": "2022-10-09T18:14:55.029Z"
   },
   {
    "duration": 14,
    "start_time": "2022-10-09T18:15:14.391Z"
   },
   {
    "duration": 4,
    "start_time": "2022-10-09T18:16:29.639Z"
   },
   {
    "duration": 5,
    "start_time": "2022-10-09T18:16:59.870Z"
   },
   {
    "duration": 3,
    "start_time": "2022-10-09T18:20:32.305Z"
   },
   {
    "duration": 5,
    "start_time": "2022-10-09T18:20:58.442Z"
   },
   {
    "duration": 8,
    "start_time": "2022-10-09T18:22:07.212Z"
   },
   {
    "duration": 392,
    "start_time": "2022-10-09T18:23:09.688Z"
   },
   {
    "duration": 85,
    "start_time": "2022-10-09T18:23:10.083Z"
   },
   {
    "duration": 31,
    "start_time": "2022-10-09T18:23:10.170Z"
   },
   {
    "duration": 20,
    "start_time": "2022-10-09T18:23:10.202Z"
   },
   {
    "duration": 2112,
    "start_time": "2022-10-09T18:23:10.224Z"
   },
   {
    "duration": 9,
    "start_time": "2022-10-09T18:23:12.338Z"
   },
   {
    "duration": 37,
    "start_time": "2022-10-09T18:23:12.348Z"
   },
   {
    "duration": 114,
    "start_time": "2022-10-09T18:23:12.387Z"
   },
   {
    "duration": 20,
    "start_time": "2022-10-09T18:23:12.503Z"
   },
   {
    "duration": 151,
    "start_time": "2022-10-09T18:23:12.525Z"
   },
   {
    "duration": 5,
    "start_time": "2022-10-09T18:23:12.678Z"
   },
   {
    "duration": 15,
    "start_time": "2022-10-09T18:23:12.684Z"
   },
   {
    "duration": 26,
    "start_time": "2022-10-09T18:23:12.701Z"
   },
   {
    "duration": 24,
    "start_time": "2022-10-09T18:23:12.729Z"
   },
   {
    "duration": 32,
    "start_time": "2022-10-09T18:23:12.755Z"
   },
   {
    "duration": 27,
    "start_time": "2022-10-09T18:23:12.789Z"
   },
   {
    "duration": 24,
    "start_time": "2022-10-09T18:23:12.819Z"
   },
   {
    "duration": 24,
    "start_time": "2022-10-09T18:23:12.845Z"
   },
   {
    "duration": 42,
    "start_time": "2022-10-09T18:23:12.871Z"
   },
   {
    "duration": 5,
    "start_time": "2022-10-09T18:23:12.915Z"
   },
   {
    "duration": 11,
    "start_time": "2022-10-09T18:23:12.922Z"
   },
   {
    "duration": 5,
    "start_time": "2022-10-09T18:23:12.936Z"
   },
   {
    "duration": 19,
    "start_time": "2022-10-09T18:23:12.943Z"
   },
   {
    "duration": 35,
    "start_time": "2022-10-09T18:23:12.964Z"
   },
   {
    "duration": 25,
    "start_time": "2022-10-09T18:23:13.000Z"
   },
   {
    "duration": 19,
    "start_time": "2022-10-09T18:23:13.027Z"
   },
   {
    "duration": 10,
    "start_time": "2022-10-09T18:23:13.048Z"
   },
   {
    "duration": 34,
    "start_time": "2022-10-09T18:23:13.059Z"
   },
   {
    "duration": 4,
    "start_time": "2022-10-09T18:23:13.095Z"
   },
   {
    "duration": 22,
    "start_time": "2022-10-09T18:23:13.101Z"
   },
   {
    "duration": 14,
    "start_time": "2022-10-09T18:23:40.720Z"
   },
   {
    "duration": 387,
    "start_time": "2022-10-09T18:27:05.312Z"
   },
   {
    "duration": 86,
    "start_time": "2022-10-09T18:27:05.701Z"
   },
   {
    "duration": 33,
    "start_time": "2022-10-09T18:27:05.788Z"
   },
   {
    "duration": 19,
    "start_time": "2022-10-09T18:27:05.822Z"
   },
   {
    "duration": 2228,
    "start_time": "2022-10-09T18:27:05.844Z"
   },
   {
    "duration": 9,
    "start_time": "2022-10-09T18:27:08.074Z"
   },
   {
    "duration": 25,
    "start_time": "2022-10-09T18:27:08.085Z"
   },
   {
    "duration": 101,
    "start_time": "2022-10-09T18:27:08.113Z"
   },
   {
    "duration": 17,
    "start_time": "2022-10-09T18:27:08.215Z"
   },
   {
    "duration": 143,
    "start_time": "2022-10-09T18:27:08.233Z"
   },
   {
    "duration": 5,
    "start_time": "2022-10-09T18:27:08.378Z"
   },
   {
    "duration": 7,
    "start_time": "2022-10-09T18:27:08.385Z"
   },
   {
    "duration": 13,
    "start_time": "2022-10-09T18:27:08.394Z"
   },
   {
    "duration": 12,
    "start_time": "2022-10-09T18:27:08.410Z"
   },
   {
    "duration": 3,
    "start_time": "2022-10-09T18:27:08.424Z"
   },
   {
    "duration": 6,
    "start_time": "2022-10-09T18:27:08.428Z"
   },
   {
    "duration": 5,
    "start_time": "2022-10-09T18:27:08.435Z"
   },
   {
    "duration": 8,
    "start_time": "2022-10-09T18:27:08.442Z"
   },
   {
    "duration": 28,
    "start_time": "2022-10-09T18:27:08.452Z"
   },
   {
    "duration": 4,
    "start_time": "2022-10-09T18:27:08.482Z"
   },
   {
    "duration": 38,
    "start_time": "2022-10-09T18:27:08.488Z"
   },
   {
    "duration": 4,
    "start_time": "2022-10-09T18:27:08.527Z"
   },
   {
    "duration": 17,
    "start_time": "2022-10-09T18:27:08.532Z"
   },
   {
    "duration": 28,
    "start_time": "2022-10-09T18:27:08.550Z"
   },
   {
    "duration": 6,
    "start_time": "2022-10-09T18:27:08.580Z"
   },
   {
    "duration": 14,
    "start_time": "2022-10-09T18:27:08.587Z"
   },
   {
    "duration": 19,
    "start_time": "2022-10-09T18:27:08.603Z"
   },
   {
    "duration": 16,
    "start_time": "2022-10-09T18:27:08.623Z"
   },
   {
    "duration": 4,
    "start_time": "2022-10-09T18:27:08.641Z"
   },
   {
    "duration": 10,
    "start_time": "2022-10-09T18:27:08.647Z"
   },
   {
    "duration": 16,
    "start_time": "2022-10-09T18:27:08.658Z"
   },
   {
    "duration": 362,
    "start_time": "2022-10-10T16:24:48.953Z"
   },
   {
    "duration": 304,
    "start_time": "2022-10-10T16:24:49.317Z"
   },
   {
    "duration": 34,
    "start_time": "2022-10-10T16:24:49.623Z"
   },
   {
    "duration": 16,
    "start_time": "2022-10-10T16:24:49.659Z"
   },
   {
    "duration": 2227,
    "start_time": "2022-10-10T16:24:49.678Z"
   },
   {
    "duration": 8,
    "start_time": "2022-10-10T16:24:51.907Z"
   },
   {
    "duration": 30,
    "start_time": "2022-10-10T16:24:51.916Z"
   },
   {
    "duration": 107,
    "start_time": "2022-10-10T16:24:51.948Z"
   },
   {
    "duration": 13,
    "start_time": "2022-10-10T16:24:52.057Z"
   },
   {
    "duration": 152,
    "start_time": "2022-10-10T16:24:52.071Z"
   },
   {
    "duration": 4,
    "start_time": "2022-10-10T16:24:52.224Z"
   },
   {
    "duration": 5,
    "start_time": "2022-10-10T16:24:52.230Z"
   },
   {
    "duration": 10,
    "start_time": "2022-10-10T16:24:52.236Z"
   },
   {
    "duration": 13,
    "start_time": "2022-10-10T16:24:52.249Z"
   },
   {
    "duration": 9,
    "start_time": "2022-10-10T16:24:52.263Z"
   },
   {
    "duration": 17,
    "start_time": "2022-10-10T16:24:52.274Z"
   },
   {
    "duration": 12,
    "start_time": "2022-10-10T16:24:52.292Z"
   },
   {
    "duration": 15,
    "start_time": "2022-10-10T16:24:52.306Z"
   },
   {
    "duration": 29,
    "start_time": "2022-10-10T16:24:52.323Z"
   },
   {
    "duration": 4,
    "start_time": "2022-10-10T16:24:52.354Z"
   },
   {
    "duration": 9,
    "start_time": "2022-10-10T16:24:52.359Z"
   },
   {
    "duration": 15,
    "start_time": "2022-10-10T16:24:55.775Z"
   },
   {
    "duration": 78,
    "start_time": "2022-10-10T16:31:38.522Z"
   },
   {
    "duration": 16,
    "start_time": "2022-10-10T16:31:45.280Z"
   },
   {
    "duration": 38,
    "start_time": "2022-10-10T16:33:13.392Z"
   },
   {
    "duration": 421,
    "start_time": "2022-10-10T16:33:43.488Z"
   },
   {
    "duration": 92,
    "start_time": "2022-10-10T16:33:43.911Z"
   },
   {
    "duration": 34,
    "start_time": "2022-10-10T16:33:44.004Z"
   },
   {
    "duration": 14,
    "start_time": "2022-10-10T16:33:44.039Z"
   },
   {
    "duration": 2114,
    "start_time": "2022-10-10T16:33:44.055Z"
   },
   {
    "duration": 8,
    "start_time": "2022-10-10T16:33:46.171Z"
   },
   {
    "duration": 29,
    "start_time": "2022-10-10T16:33:46.180Z"
   },
   {
    "duration": 110,
    "start_time": "2022-10-10T16:33:46.210Z"
   },
   {
    "duration": 13,
    "start_time": "2022-10-10T16:33:46.322Z"
   },
   {
    "duration": 154,
    "start_time": "2022-10-10T16:33:46.337Z"
   },
   {
    "duration": 17,
    "start_time": "2022-10-10T16:33:46.492Z"
   },
   {
    "duration": 4,
    "start_time": "2022-10-10T16:33:46.510Z"
   },
   {
    "duration": 3,
    "start_time": "2022-10-10T16:33:46.516Z"
   },
   {
    "duration": 5,
    "start_time": "2022-10-10T16:33:46.521Z"
   },
   {
    "duration": 7,
    "start_time": "2022-10-10T16:33:46.527Z"
   },
   {
    "duration": 6,
    "start_time": "2022-10-10T16:33:46.535Z"
   },
   {
    "duration": 5,
    "start_time": "2022-10-10T16:33:46.542Z"
   },
   {
    "duration": 7,
    "start_time": "2022-10-10T16:33:46.548Z"
   },
   {
    "duration": 54,
    "start_time": "2022-10-10T16:33:46.556Z"
   },
   {
    "duration": 4,
    "start_time": "2022-10-10T16:33:46.612Z"
   },
   {
    "duration": 9,
    "start_time": "2022-10-10T16:33:46.617Z"
   },
   {
    "duration": 16,
    "start_time": "2022-10-10T16:33:46.628Z"
   },
   {
    "duration": 56,
    "start_time": "2022-10-10T16:33:49.416Z"
   },
   {
    "duration": 3,
    "start_time": "2022-10-10T16:34:26.958Z"
   },
   {
    "duration": 9,
    "start_time": "2022-10-10T16:34:27.722Z"
   },
   {
    "duration": 26,
    "start_time": "2022-10-10T16:34:28.230Z"
   },
   {
    "duration": 6,
    "start_time": "2022-10-10T16:34:29.975Z"
   },
   {
    "duration": 12,
    "start_time": "2022-10-10T16:34:30.411Z"
   },
   {
    "duration": 6,
    "start_time": "2022-10-10T16:34:31.245Z"
   },
   {
    "duration": 13,
    "start_time": "2022-10-10T16:34:52.276Z"
   },
   {
    "duration": 63,
    "start_time": "2022-10-10T16:34:52.804Z"
   },
   {
    "duration": 3,
    "start_time": "2022-10-10T16:34:53.054Z"
   },
   {
    "duration": 9,
    "start_time": "2022-10-10T16:34:53.248Z"
   },
   {
    "duration": 27,
    "start_time": "2022-10-10T16:34:53.927Z"
   },
   {
    "duration": 4,
    "start_time": "2022-10-10T16:40:32.391Z"
   },
   {
    "duration": 9,
    "start_time": "2022-10-10T16:48:56.962Z"
   },
   {
    "duration": 6,
    "start_time": "2022-10-10T16:49:45.930Z"
   },
   {
    "duration": 6,
    "start_time": "2022-10-10T16:49:47.266Z"
   },
   {
    "duration": 6,
    "start_time": "2022-10-10T16:49:48.095Z"
   },
   {
    "duration": 23,
    "start_time": "2022-10-10T16:49:55.911Z"
   },
   {
    "duration": 38,
    "start_time": "2022-10-10T16:50:00.936Z"
   },
   {
    "duration": 10,
    "start_time": "2022-10-10T16:52:01.175Z"
   },
   {
    "duration": 110,
    "start_time": "2022-10-10T16:53:31.913Z"
   },
   {
    "duration": 5,
    "start_time": "2022-10-10T16:55:20.218Z"
   },
   {
    "duration": 519,
    "start_time": "2022-10-10T16:55:49.276Z"
   },
   {
    "duration": 60,
    "start_time": "2022-10-10T16:56:32.759Z"
   },
   {
    "duration": 4,
    "start_time": "2022-10-10T16:56:37.748Z"
   },
   {
    "duration": 483,
    "start_time": "2022-10-10T16:56:39.108Z"
   },
   {
    "duration": 10,
    "start_time": "2022-10-10T17:01:04.536Z"
   },
   {
    "duration": 27,
    "start_time": "2022-10-10T17:01:31.281Z"
   },
   {
    "duration": 27,
    "start_time": "2022-10-10T17:03:00.601Z"
   },
   {
    "duration": 16,
    "start_time": "2022-10-10T17:03:12.319Z"
   },
   {
    "duration": 43,
    "start_time": "2022-10-10T17:03:28.169Z"
   },
   {
    "duration": 31,
    "start_time": "2022-10-10T17:03:58.096Z"
   },
   {
    "duration": 25,
    "start_time": "2022-10-10T17:04:01.928Z"
   },
   {
    "duration": 3,
    "start_time": "2022-10-10T17:04:19.870Z"
   },
   {
    "duration": 28,
    "start_time": "2022-10-10T17:04:20.275Z"
   },
   {
    "duration": 24,
    "start_time": "2022-10-10T17:04:21.170Z"
   },
   {
    "duration": 31,
    "start_time": "2022-10-10T17:04:38.215Z"
   },
   {
    "duration": 26,
    "start_time": "2022-10-10T17:04:39.943Z"
   },
   {
    "duration": 16,
    "start_time": "2022-10-10T17:05:46.950Z"
   },
   {
    "duration": 419,
    "start_time": "2022-10-11T16:50:17.468Z"
   },
   {
    "duration": 293,
    "start_time": "2022-10-11T16:50:17.889Z"
   },
   {
    "duration": 38,
    "start_time": "2022-10-11T16:50:18.184Z"
   },
   {
    "duration": 14,
    "start_time": "2022-10-11T16:50:18.223Z"
   },
   {
    "duration": 2294,
    "start_time": "2022-10-11T16:50:18.239Z"
   },
   {
    "duration": 9,
    "start_time": "2022-10-11T16:50:20.534Z"
   },
   {
    "duration": 25,
    "start_time": "2022-10-11T16:50:20.544Z"
   },
   {
    "duration": 127,
    "start_time": "2022-10-11T16:50:20.570Z"
   },
   {
    "duration": 15,
    "start_time": "2022-10-11T16:50:20.699Z"
   },
   {
    "duration": 156,
    "start_time": "2022-10-11T16:50:20.716Z"
   },
   {
    "duration": 5,
    "start_time": "2022-10-11T16:50:20.873Z"
   },
   {
    "duration": 7,
    "start_time": "2022-10-11T16:50:20.879Z"
   },
   {
    "duration": 5,
    "start_time": "2022-10-11T16:50:20.888Z"
   },
   {
    "duration": 4,
    "start_time": "2022-10-11T16:50:20.896Z"
   },
   {
    "duration": 6,
    "start_time": "2022-10-11T16:50:20.901Z"
   },
   {
    "duration": 25,
    "start_time": "2022-10-11T16:50:20.908Z"
   },
   {
    "duration": 3,
    "start_time": "2022-10-11T16:50:20.935Z"
   },
   {
    "duration": 8,
    "start_time": "2022-10-11T16:50:20.939Z"
   },
   {
    "duration": 41,
    "start_time": "2022-10-11T16:50:20.949Z"
   },
   {
    "duration": 5,
    "start_time": "2022-10-11T16:50:20.991Z"
   },
   {
    "duration": 8,
    "start_time": "2022-10-11T16:50:20.998Z"
   },
   {
    "duration": 20,
    "start_time": "2022-10-11T16:50:21.033Z"
   },
   {
    "duration": 80,
    "start_time": "2022-10-11T16:50:21.055Z"
   },
   {
    "duration": 3,
    "start_time": "2022-10-11T16:50:21.137Z"
   },
   {
    "duration": 14,
    "start_time": "2022-10-11T16:50:21.141Z"
   },
   {
    "duration": 26,
    "start_time": "2022-10-11T16:50:21.157Z"
   },
   {
    "duration": 6,
    "start_time": "2022-10-11T16:50:21.185Z"
   },
   {
    "duration": 16,
    "start_time": "2022-10-11T16:50:21.192Z"
   },
   {
    "duration": 25,
    "start_time": "2022-10-11T16:50:21.210Z"
   },
   {
    "duration": 14,
    "start_time": "2022-10-11T16:50:21.237Z"
   },
   {
    "duration": 4,
    "start_time": "2022-10-11T16:50:21.253Z"
   },
   {
    "duration": 15,
    "start_time": "2022-10-11T16:50:21.258Z"
   },
   {
    "duration": 16,
    "start_time": "2022-10-11T16:50:21.274Z"
   },
   {
    "duration": 44,
    "start_time": "2022-10-11T16:50:21.291Z"
   },
   {
    "duration": 3,
    "start_time": "2022-10-11T16:50:21.337Z"
   },
   {
    "duration": 10,
    "start_time": "2022-10-11T16:50:21.342Z"
   },
   {
    "duration": 10,
    "start_time": "2022-10-11T16:50:21.354Z"
   },
   {
    "duration": 7,
    "start_time": "2022-10-11T16:50:21.365Z"
   },
   {
    "duration": 5,
    "start_time": "2022-10-11T16:50:21.373Z"
   },
   {
    "duration": 12,
    "start_time": "2022-10-11T16:50:21.379Z"
   },
   {
    "duration": 66,
    "start_time": "2022-10-11T16:50:21.394Z"
   },
   {
    "duration": 27,
    "start_time": "2022-10-11T16:50:21.462Z"
   },
   {
    "duration": 14,
    "start_time": "2022-10-11T16:50:21.490Z"
   },
   {
    "duration": 56,
    "start_time": "2022-10-11T16:50:21.506Z"
   },
   {
    "duration": 153,
    "start_time": "2022-10-11T16:50:24.705Z"
   },
   {
    "duration": 144,
    "start_time": "2022-10-11T16:50:40.710Z"
   },
   {
    "duration": 396,
    "start_time": "2022-10-11T16:50:46.158Z"
   },
   {
    "duration": 164,
    "start_time": "2022-10-11T16:50:50.311Z"
   },
   {
    "duration": 144,
    "start_time": "2022-10-11T16:50:55.318Z"
   },
   {
    "duration": 111,
    "start_time": "2022-10-11T16:50:58.241Z"
   },
   {
    "duration": 171,
    "start_time": "2022-10-11T16:51:01.136Z"
   },
   {
    "duration": 157,
    "start_time": "2022-10-11T16:51:04.436Z"
   },
   {
    "duration": 219,
    "start_time": "2022-10-11T16:51:11.575Z"
   },
   {
    "duration": 171,
    "start_time": "2022-10-11T16:51:16.515Z"
   },
   {
    "duration": 155,
    "start_time": "2022-10-11T16:51:46.742Z"
   },
   {
    "duration": 220,
    "start_time": "2022-10-11T16:51:53.376Z"
   },
   {
    "duration": 149,
    "start_time": "2022-10-11T16:52:33.983Z"
   },
   {
    "duration": 250,
    "start_time": "2022-10-11T16:52:53.715Z"
   },
   {
    "duration": 149,
    "start_time": "2022-10-11T16:53:05.548Z"
   },
   {
    "duration": 212,
    "start_time": "2022-10-11T16:53:41.410Z"
   },
   {
    "duration": 179,
    "start_time": "2022-10-11T16:53:49.629Z"
   },
   {
    "duration": 190,
    "start_time": "2022-10-11T17:01:10.803Z"
   },
   {
    "duration": 173,
    "start_time": "2022-10-11T17:01:11.301Z"
   },
   {
    "duration": 186,
    "start_time": "2022-10-11T17:01:11.817Z"
   },
   {
    "duration": 193,
    "start_time": "2022-10-11T17:01:12.356Z"
   },
   {
    "duration": 188,
    "start_time": "2022-10-11T17:01:12.922Z"
   },
   {
    "duration": 189,
    "start_time": "2022-10-11T17:01:13.477Z"
   },
   {
    "duration": 14,
    "start_time": "2022-10-11T17:01:14.053Z"
   },
   {
    "duration": 12,
    "start_time": "2022-10-11T17:01:14.915Z"
   },
   {
    "duration": 179,
    "start_time": "2022-10-11T17:01:15.482Z"
   },
   {
    "duration": 284,
    "start_time": "2022-10-11T17:01:16.082Z"
   },
   {
    "duration": 1463,
    "start_time": "2022-10-11T17:01:16.657Z"
   },
   {
    "duration": 0,
    "start_time": "2022-10-11T17:01:18.121Z"
   },
   {
    "duration": 0,
    "start_time": "2022-10-11T17:01:18.122Z"
   },
   {
    "duration": 170,
    "start_time": "2022-10-11T17:01:27.301Z"
   },
   {
    "duration": 1644,
    "start_time": "2022-10-11T17:01:29.201Z"
   },
   {
    "duration": 1439,
    "start_time": "2022-10-11T17:01:33.822Z"
   },
   {
    "duration": 154,
    "start_time": "2022-10-11T17:01:59.500Z"
   },
   {
    "duration": 152,
    "start_time": "2022-10-11T17:02:15.838Z"
   },
   {
    "duration": 145,
    "start_time": "2022-10-11T17:02:25.015Z"
   },
   {
    "duration": 147,
    "start_time": "2022-10-11T17:02:28.426Z"
   },
   {
    "duration": 163,
    "start_time": "2022-10-11T17:02:55.895Z"
   },
   {
    "duration": 8,
    "start_time": "2022-10-11T17:03:57.829Z"
   },
   {
    "duration": 165,
    "start_time": "2022-10-11T17:09:39.226Z"
   },
   {
    "duration": 4,
    "start_time": "2022-10-11T17:10:11.770Z"
   },
   {
    "duration": 4,
    "start_time": "2022-10-11T17:10:12.120Z"
   },
   {
    "duration": 177,
    "start_time": "2022-10-11T17:15:20.906Z"
   },
   {
    "duration": 145,
    "start_time": "2022-10-11T17:15:27.552Z"
   },
   {
    "duration": 130,
    "start_time": "2022-10-11T17:15:51.861Z"
   },
   {
    "duration": 208,
    "start_time": "2022-10-11T17:15:58.612Z"
   },
   {
    "duration": 181,
    "start_time": "2022-10-11T17:20:10.154Z"
   },
   {
    "duration": 184,
    "start_time": "2022-10-11T17:20:23.242Z"
   },
   {
    "duration": 193,
    "start_time": "2022-10-11T17:21:04.374Z"
   },
   {
    "duration": 212,
    "start_time": "2022-10-11T17:22:03.645Z"
   },
   {
    "duration": 193,
    "start_time": "2022-10-11T17:24:08.920Z"
   },
   {
    "duration": 203,
    "start_time": "2022-10-11T17:24:11.425Z"
   },
   {
    "duration": 212,
    "start_time": "2022-10-11T17:24:14.312Z"
   },
   {
    "duration": 227,
    "start_time": "2022-10-11T17:24:18.974Z"
   },
   {
    "duration": 336,
    "start_time": "2022-10-11T17:24:22.061Z"
   },
   {
    "duration": 10,
    "start_time": "2022-10-11T17:50:44.224Z"
   },
   {
    "duration": 11,
    "start_time": "2022-10-11T17:50:57.027Z"
   },
   {
    "duration": 11,
    "start_time": "2022-10-11T17:51:06.879Z"
   },
   {
    "duration": 8,
    "start_time": "2022-10-11T17:51:32.360Z"
   },
   {
    "duration": 8,
    "start_time": "2022-10-11T17:51:37.956Z"
   },
   {
    "duration": 8,
    "start_time": "2022-10-11T17:51:43.293Z"
   },
   {
    "duration": 8,
    "start_time": "2022-10-11T17:52:23.709Z"
   },
   {
    "duration": 10,
    "start_time": "2022-10-11T17:52:54.257Z"
   },
   {
    "duration": 9,
    "start_time": "2022-10-11T17:53:04.194Z"
   },
   {
    "duration": 9,
    "start_time": "2022-10-11T17:53:11.450Z"
   },
   {
    "duration": 9,
    "start_time": "2022-10-11T17:53:18.284Z"
   },
   {
    "duration": 8,
    "start_time": "2022-10-11T17:54:37.609Z"
   },
   {
    "duration": 13,
    "start_time": "2022-10-11T18:18:05.524Z"
   },
   {
    "duration": 12,
    "start_time": "2022-10-11T18:18:17.783Z"
   },
   {
    "duration": 8,
    "start_time": "2022-10-11T18:19:13.433Z"
   },
   {
    "duration": 16,
    "start_time": "2022-10-11T18:19:37.198Z"
   },
   {
    "duration": 18,
    "start_time": "2022-10-11T18:19:45.838Z"
   },
   {
    "duration": 13,
    "start_time": "2022-10-11T18:20:01.361Z"
   },
   {
    "duration": 13,
    "start_time": "2022-10-11T18:20:10.327Z"
   },
   {
    "duration": 13,
    "start_time": "2022-10-11T18:20:21.058Z"
   },
   {
    "duration": 33,
    "start_time": "2022-10-11T18:21:11.881Z"
   },
   {
    "duration": 21,
    "start_time": "2022-10-11T18:21:20.836Z"
   },
   {
    "duration": 9,
    "start_time": "2022-10-11T18:21:42.831Z"
   },
   {
    "duration": 8,
    "start_time": "2022-10-11T18:22:50.827Z"
   },
   {
    "duration": 14,
    "start_time": "2022-10-11T18:23:25.265Z"
   },
   {
    "duration": 10,
    "start_time": "2022-10-11T18:23:33.078Z"
   },
   {
    "duration": 14,
    "start_time": "2022-10-11T18:23:48.694Z"
   },
   {
    "duration": 15,
    "start_time": "2022-10-11T18:24:41.093Z"
   },
   {
    "duration": 17,
    "start_time": "2022-10-11T18:24:51.701Z"
   },
   {
    "duration": 9,
    "start_time": "2022-10-11T18:27:12.540Z"
   },
   {
    "duration": 9,
    "start_time": "2022-10-11T18:27:24.792Z"
   },
   {
    "duration": 9,
    "start_time": "2022-10-11T18:28:05.193Z"
   },
   {
    "duration": 22,
    "start_time": "2022-10-11T18:30:19.403Z"
   },
   {
    "duration": 24,
    "start_time": "2022-10-11T18:30:40.758Z"
   },
   {
    "duration": 22,
    "start_time": "2022-10-11T18:30:50.177Z"
   },
   {
    "duration": 24,
    "start_time": "2022-10-11T18:32:03.462Z"
   },
   {
    "duration": 26,
    "start_time": "2022-10-11T18:32:07.836Z"
   },
   {
    "duration": 25,
    "start_time": "2022-10-11T18:32:32.172Z"
   },
   {
    "duration": 22,
    "start_time": "2022-10-11T18:32:47.525Z"
   },
   {
    "duration": 25,
    "start_time": "2022-10-11T18:32:56.461Z"
   },
   {
    "duration": 26,
    "start_time": "2022-10-11T18:33:43.099Z"
   },
   {
    "duration": 24,
    "start_time": "2022-10-11T18:33:56.537Z"
   },
   {
    "duration": 24,
    "start_time": "2022-10-11T18:34:15.262Z"
   },
   {
    "duration": 22,
    "start_time": "2022-10-11T18:34:24.539Z"
   },
   {
    "duration": 33,
    "start_time": "2022-10-11T18:34:37.969Z"
   },
   {
    "duration": 23,
    "start_time": "2022-10-11T18:34:48.565Z"
   },
   {
    "duration": 34,
    "start_time": "2022-10-11T18:35:00.547Z"
   },
   {
    "duration": 27,
    "start_time": "2022-10-11T18:35:22.955Z"
   },
   {
    "duration": 28,
    "start_time": "2022-10-11T18:35:40.069Z"
   },
   {
    "duration": 28,
    "start_time": "2022-10-11T18:36:47.347Z"
   },
   {
    "duration": 23,
    "start_time": "2022-10-11T18:37:18.575Z"
   },
   {
    "duration": 32,
    "start_time": "2022-10-11T18:37:46.330Z"
   },
   {
    "duration": 28,
    "start_time": "2022-10-11T18:38:04.878Z"
   },
   {
    "duration": 566,
    "start_time": "2022-10-15T09:13:45.018Z"
   },
   {
    "duration": 352,
    "start_time": "2022-10-15T09:13:45.587Z"
   },
   {
    "duration": 59,
    "start_time": "2022-10-15T09:13:45.942Z"
   },
   {
    "duration": 23,
    "start_time": "2022-10-15T09:13:46.003Z"
   },
   {
    "duration": 2671,
    "start_time": "2022-10-15T09:13:46.030Z"
   },
   {
    "duration": 14,
    "start_time": "2022-10-15T09:13:48.704Z"
   },
   {
    "duration": 34,
    "start_time": "2022-10-15T09:13:48.720Z"
   },
   {
    "duration": 165,
    "start_time": "2022-10-15T09:13:48.757Z"
   },
   {
    "duration": 15,
    "start_time": "2022-10-15T09:13:48.924Z"
   },
   {
    "duration": 203,
    "start_time": "2022-10-15T09:13:48.941Z"
   },
   {
    "duration": 7,
    "start_time": "2022-10-15T09:13:49.146Z"
   },
   {
    "duration": 6,
    "start_time": "2022-10-15T09:13:49.155Z"
   },
   {
    "duration": 20,
    "start_time": "2022-10-15T09:13:49.163Z"
   },
   {
    "duration": 22,
    "start_time": "2022-10-15T09:13:49.187Z"
   },
   {
    "duration": 17,
    "start_time": "2022-10-15T09:13:49.212Z"
   },
   {
    "duration": 32,
    "start_time": "2022-10-15T09:13:49.232Z"
   },
   {
    "duration": 27,
    "start_time": "2022-10-15T09:13:49.267Z"
   },
   {
    "duration": 25,
    "start_time": "2022-10-15T09:13:49.296Z"
   },
   {
    "duration": 49,
    "start_time": "2022-10-15T09:13:49.323Z"
   },
   {
    "duration": 7,
    "start_time": "2022-10-15T09:13:49.374Z"
   },
   {
    "duration": 15,
    "start_time": "2022-10-15T09:13:49.382Z"
   },
   {
    "duration": 23,
    "start_time": "2022-10-15T09:13:49.398Z"
   },
   {
    "duration": 117,
    "start_time": "2022-10-15T09:13:49.424Z"
   },
   {
    "duration": 4,
    "start_time": "2022-10-15T09:13:49.543Z"
   },
   {
    "duration": 20,
    "start_time": "2022-10-15T09:13:49.551Z"
   },
   {
    "duration": 57,
    "start_time": "2022-10-15T09:13:49.573Z"
   },
   {
    "duration": 8,
    "start_time": "2022-10-15T09:13:49.632Z"
   },
   {
    "duration": 19,
    "start_time": "2022-10-15T09:13:49.641Z"
   },
   {
    "duration": 6,
    "start_time": "2022-10-15T09:13:49.661Z"
   },
   {
    "duration": 38,
    "start_time": "2022-10-15T09:13:49.668Z"
   },
   {
    "duration": 7,
    "start_time": "2022-10-15T09:13:49.708Z"
   },
   {
    "duration": 17,
    "start_time": "2022-10-15T09:13:49.717Z"
   },
   {
    "duration": 24,
    "start_time": "2022-10-15T09:13:49.735Z"
   },
   {
    "duration": 61,
    "start_time": "2022-10-15T09:13:49.761Z"
   },
   {
    "duration": 4,
    "start_time": "2022-10-15T09:13:49.825Z"
   },
   {
    "duration": 15,
    "start_time": "2022-10-15T09:13:49.832Z"
   },
   {
    "duration": 8,
    "start_time": "2022-10-15T09:13:49.849Z"
   },
   {
    "duration": 6,
    "start_time": "2022-10-15T09:13:49.859Z"
   },
   {
    "duration": 31,
    "start_time": "2022-10-15T09:13:49.867Z"
   },
   {
    "duration": 14,
    "start_time": "2022-10-15T09:13:49.900Z"
   },
   {
    "duration": 48,
    "start_time": "2022-10-15T09:13:49.919Z"
   },
   {
    "duration": 51,
    "start_time": "2022-10-15T09:13:49.969Z"
   },
   {
    "duration": 22,
    "start_time": "2022-10-15T09:13:50.022Z"
   },
   {
    "duration": 66,
    "start_time": "2022-10-15T09:13:50.046Z"
   },
   {
    "duration": 0,
    "start_time": "2022-10-15T09:13:50.114Z"
   },
   {
    "duration": 0,
    "start_time": "2022-10-15T09:13:50.116Z"
   },
   {
    "duration": 0,
    "start_time": "2022-10-15T09:13:50.117Z"
   },
   {
    "duration": 0,
    "start_time": "2022-10-15T09:13:50.119Z"
   },
   {
    "duration": 0,
    "start_time": "2022-10-15T09:13:50.121Z"
   },
   {
    "duration": 0,
    "start_time": "2022-10-15T09:13:50.122Z"
   },
   {
    "duration": 0,
    "start_time": "2022-10-15T09:13:50.124Z"
   },
   {
    "duration": 0,
    "start_time": "2022-10-15T09:13:50.125Z"
   },
   {
    "duration": 0,
    "start_time": "2022-10-15T09:13:50.127Z"
   },
   {
    "duration": 0,
    "start_time": "2022-10-15T09:13:50.128Z"
   },
   {
    "duration": 0,
    "start_time": "2022-10-15T09:13:50.129Z"
   },
   {
    "duration": 0,
    "start_time": "2022-10-15T09:13:50.130Z"
   },
   {
    "duration": 0,
    "start_time": "2022-10-15T09:13:50.132Z"
   },
   {
    "duration": 0,
    "start_time": "2022-10-15T09:13:50.133Z"
   },
   {
    "duration": 0,
    "start_time": "2022-10-15T09:13:50.134Z"
   },
   {
    "duration": 0,
    "start_time": "2022-10-15T09:13:50.135Z"
   },
   {
    "duration": 0,
    "start_time": "2022-10-15T09:13:50.136Z"
   },
   {
    "duration": 0,
    "start_time": "2022-10-15T09:13:50.137Z"
   },
   {
    "duration": 0,
    "start_time": "2022-10-15T09:13:50.139Z"
   },
   {
    "duration": 0,
    "start_time": "2022-10-15T09:13:50.140Z"
   },
   {
    "duration": 0,
    "start_time": "2022-10-15T09:13:50.141Z"
   },
   {
    "duration": 0,
    "start_time": "2022-10-15T09:13:50.142Z"
   },
   {
    "duration": 0,
    "start_time": "2022-10-15T09:13:50.143Z"
   },
   {
    "duration": 0,
    "start_time": "2022-10-15T09:13:50.145Z"
   },
   {
    "duration": 0,
    "start_time": "2022-10-15T09:13:50.145Z"
   },
   {
    "duration": 2,
    "start_time": "2022-10-15T09:14:05.309Z"
   },
   {
    "duration": 125,
    "start_time": "2022-10-15T09:14:05.314Z"
   },
   {
    "duration": 30,
    "start_time": "2022-10-15T09:14:05.441Z"
   },
   {
    "duration": 35,
    "start_time": "2022-10-15T09:14:05.473Z"
   },
   {
    "duration": 2104,
    "start_time": "2022-10-15T09:14:05.511Z"
   },
   {
    "duration": 10,
    "start_time": "2022-10-15T09:14:07.617Z"
   },
   {
    "duration": 27,
    "start_time": "2022-10-15T09:14:07.629Z"
   },
   {
    "duration": 171,
    "start_time": "2022-10-15T09:14:07.658Z"
   },
   {
    "duration": 17,
    "start_time": "2022-10-15T09:14:07.831Z"
   },
   {
    "duration": 194,
    "start_time": "2022-10-15T09:14:07.849Z"
   },
   {
    "duration": 7,
    "start_time": "2022-10-15T09:14:08.046Z"
   },
   {
    "duration": 11,
    "start_time": "2022-10-15T09:14:08.055Z"
   },
   {
    "duration": 22,
    "start_time": "2022-10-15T09:14:08.069Z"
   },
   {
    "duration": 8,
    "start_time": "2022-10-15T09:14:08.101Z"
   },
   {
    "duration": 11,
    "start_time": "2022-10-15T09:14:08.111Z"
   },
   {
    "duration": 31,
    "start_time": "2022-10-15T09:14:08.125Z"
   },
   {
    "duration": 21,
    "start_time": "2022-10-15T09:14:08.158Z"
   },
   {
    "duration": 33,
    "start_time": "2022-10-15T09:14:08.182Z"
   },
   {
    "duration": 61,
    "start_time": "2022-10-15T09:14:08.217Z"
   },
   {
    "duration": 6,
    "start_time": "2022-10-15T09:14:08.280Z"
   },
   {
    "duration": 16,
    "start_time": "2022-10-15T09:14:08.288Z"
   },
   {
    "duration": 30,
    "start_time": "2022-10-15T09:14:08.308Z"
   },
   {
    "duration": 109,
    "start_time": "2022-10-15T09:14:08.341Z"
   },
   {
    "duration": 4,
    "start_time": "2022-10-15T09:14:08.453Z"
   },
   {
    "duration": 30,
    "start_time": "2022-10-15T09:14:08.459Z"
   },
   {
    "duration": 43,
    "start_time": "2022-10-15T09:14:08.492Z"
   },
   {
    "duration": 12,
    "start_time": "2022-10-15T09:14:08.537Z"
   },
   {
    "duration": 14,
    "start_time": "2022-10-15T09:14:08.551Z"
   },
   {
    "duration": 5,
    "start_time": "2022-10-15T09:14:08.567Z"
   },
   {
    "duration": 20,
    "start_time": "2022-10-15T09:14:08.597Z"
   },
   {
    "duration": 5,
    "start_time": "2022-10-15T09:14:08.619Z"
   },
   {
    "duration": 18,
    "start_time": "2022-10-15T09:14:08.627Z"
   },
   {
    "duration": 22,
    "start_time": "2022-10-15T09:14:08.647Z"
   },
   {
    "duration": 29,
    "start_time": "2022-10-15T09:14:08.698Z"
   },
   {
    "duration": 4,
    "start_time": "2022-10-15T09:14:08.729Z"
   },
   {
    "duration": 12,
    "start_time": "2022-10-15T09:14:08.735Z"
   },
   {
    "duration": 9,
    "start_time": "2022-10-15T09:14:08.749Z"
   },
   {
    "duration": 6,
    "start_time": "2022-10-15T09:14:08.760Z"
   },
   {
    "duration": 33,
    "start_time": "2022-10-15T09:14:08.768Z"
   },
   {
    "duration": 15,
    "start_time": "2022-10-15T09:14:08.802Z"
   },
   {
    "duration": 80,
    "start_time": "2022-10-15T09:14:08.824Z"
   },
   {
    "duration": 45,
    "start_time": "2022-10-15T09:14:08.906Z"
   },
   {
    "duration": 24,
    "start_time": "2022-10-15T09:14:08.953Z"
   },
   {
    "duration": 66,
    "start_time": "2022-10-15T09:14:08.998Z"
   },
   {
    "duration": 0,
    "start_time": "2022-10-15T09:14:09.066Z"
   },
   {
    "duration": 0,
    "start_time": "2022-10-15T09:14:09.067Z"
   },
   {
    "duration": 0,
    "start_time": "2022-10-15T09:14:09.069Z"
   },
   {
    "duration": 0,
    "start_time": "2022-10-15T09:14:09.070Z"
   },
   {
    "duration": 0,
    "start_time": "2022-10-15T09:14:09.072Z"
   },
   {
    "duration": 0,
    "start_time": "2022-10-15T09:14:09.073Z"
   },
   {
    "duration": 0,
    "start_time": "2022-10-15T09:14:09.075Z"
   },
   {
    "duration": 0,
    "start_time": "2022-10-15T09:14:09.077Z"
   },
   {
    "duration": 0,
    "start_time": "2022-10-15T09:14:09.078Z"
   },
   {
    "duration": 0,
    "start_time": "2022-10-15T09:14:09.080Z"
   },
   {
    "duration": 0,
    "start_time": "2022-10-15T09:14:09.081Z"
   },
   {
    "duration": 0,
    "start_time": "2022-10-15T09:14:09.082Z"
   },
   {
    "duration": 0,
    "start_time": "2022-10-15T09:14:09.084Z"
   },
   {
    "duration": 0,
    "start_time": "2022-10-15T09:14:09.085Z"
   },
   {
    "duration": 0,
    "start_time": "2022-10-15T09:14:09.086Z"
   },
   {
    "duration": 0,
    "start_time": "2022-10-15T09:14:09.088Z"
   },
   {
    "duration": 0,
    "start_time": "2022-10-15T09:14:09.089Z"
   },
   {
    "duration": 0,
    "start_time": "2022-10-15T09:14:09.090Z"
   },
   {
    "duration": 0,
    "start_time": "2022-10-15T09:14:09.092Z"
   },
   {
    "duration": 0,
    "start_time": "2022-10-15T09:14:09.093Z"
   },
   {
    "duration": 0,
    "start_time": "2022-10-15T09:14:09.094Z"
   },
   {
    "duration": 0,
    "start_time": "2022-10-15T09:14:09.097Z"
   },
   {
    "duration": 0,
    "start_time": "2022-10-15T09:14:09.098Z"
   },
   {
    "duration": 0,
    "start_time": "2022-10-15T09:14:09.099Z"
   },
   {
    "duration": 0,
    "start_time": "2022-10-15T09:14:09.100Z"
   },
   {
    "duration": 9,
    "start_time": "2022-10-15T09:14:24.325Z"
   },
   {
    "duration": 127,
    "start_time": "2022-10-15T09:14:24.337Z"
   },
   {
    "duration": 50,
    "start_time": "2022-10-15T09:14:24.465Z"
   },
   {
    "duration": 24,
    "start_time": "2022-10-15T09:14:24.518Z"
   },
   {
    "duration": 2222,
    "start_time": "2022-10-15T09:14:24.544Z"
   },
   {
    "duration": 12,
    "start_time": "2022-10-15T09:14:26.769Z"
   },
   {
    "duration": 41,
    "start_time": "2022-10-15T09:14:26.783Z"
   },
   {
    "duration": 157,
    "start_time": "2022-10-15T09:14:26.827Z"
   },
   {
    "duration": 20,
    "start_time": "2022-10-15T09:14:26.987Z"
   },
   {
    "duration": 220,
    "start_time": "2022-10-15T09:14:27.009Z"
   },
   {
    "duration": 5,
    "start_time": "2022-10-15T09:14:27.231Z"
   },
   {
    "duration": 7,
    "start_time": "2022-10-15T09:14:27.238Z"
   },
   {
    "duration": 5,
    "start_time": "2022-10-15T09:14:27.247Z"
   },
   {
    "duration": 9,
    "start_time": "2022-10-15T09:14:27.255Z"
   },
   {
    "duration": 31,
    "start_time": "2022-10-15T09:14:27.266Z"
   },
   {
    "duration": 7,
    "start_time": "2022-10-15T09:14:27.299Z"
   },
   {
    "duration": 4,
    "start_time": "2022-10-15T09:14:27.308Z"
   },
   {
    "duration": 7,
    "start_time": "2022-10-15T09:14:27.314Z"
   },
   {
    "duration": 75,
    "start_time": "2022-10-15T09:14:27.323Z"
   },
   {
    "duration": 8,
    "start_time": "2022-10-15T09:14:27.400Z"
   },
   {
    "duration": 10,
    "start_time": "2022-10-15T09:14:27.409Z"
   },
   {
    "duration": 17,
    "start_time": "2022-10-15T09:14:27.421Z"
   },
   {
    "duration": 100,
    "start_time": "2022-10-15T09:14:27.441Z"
   },
   {
    "duration": 5,
    "start_time": "2022-10-15T09:14:27.550Z"
   },
   {
    "duration": 22,
    "start_time": "2022-10-15T09:14:27.557Z"
   },
   {
    "duration": 56,
    "start_time": "2022-10-15T09:14:27.581Z"
   },
   {
    "duration": 8,
    "start_time": "2022-10-15T09:14:27.640Z"
   },
   {
    "duration": 16,
    "start_time": "2022-10-15T09:14:27.650Z"
   },
   {
    "duration": 29,
    "start_time": "2022-10-15T09:14:27.668Z"
   },
   {
    "duration": 18,
    "start_time": "2022-10-15T09:14:27.699Z"
   },
   {
    "duration": 5,
    "start_time": "2022-10-15T09:14:27.719Z"
   },
   {
    "duration": 12,
    "start_time": "2022-10-15T09:14:27.726Z"
   },
   {
    "duration": 18,
    "start_time": "2022-10-15T09:14:27.740Z"
   },
   {
    "duration": 55,
    "start_time": "2022-10-15T09:14:27.760Z"
   },
   {
    "duration": 5,
    "start_time": "2022-10-15T09:14:27.816Z"
   },
   {
    "duration": 11,
    "start_time": "2022-10-15T09:14:27.823Z"
   },
   {
    "duration": 9,
    "start_time": "2022-10-15T09:14:27.836Z"
   },
   {
    "duration": 6,
    "start_time": "2022-10-15T09:14:27.847Z"
   },
   {
    "duration": 8,
    "start_time": "2022-10-15T09:14:27.855Z"
   },
   {
    "duration": 14,
    "start_time": "2022-10-15T09:14:27.896Z"
   },
   {
    "duration": 44,
    "start_time": "2022-10-15T09:14:27.912Z"
   },
   {
    "duration": 54,
    "start_time": "2022-10-15T09:14:27.958Z"
   },
   {
    "duration": 25,
    "start_time": "2022-10-15T09:14:28.014Z"
   },
   {
    "duration": 310,
    "start_time": "2022-10-15T09:14:28.042Z"
   },
   {
    "duration": 377,
    "start_time": "2022-10-15T09:14:28.354Z"
   },
   {
    "duration": 192,
    "start_time": "2022-10-15T09:14:28.733Z"
   },
   {
    "duration": 212,
    "start_time": "2022-10-15T09:14:28.927Z"
   },
   {
    "duration": 219,
    "start_time": "2022-10-15T09:14:29.141Z"
   },
   {
    "duration": 285,
    "start_time": "2022-10-15T09:14:29.362Z"
   },
   {
    "duration": 211,
    "start_time": "2022-10-15T09:14:29.649Z"
   },
   {
    "duration": 125,
    "start_time": "2022-10-15T09:14:29.862Z"
   },
   {
    "duration": 0,
    "start_time": "2022-10-15T09:14:29.989Z"
   },
   {
    "duration": 0,
    "start_time": "2022-10-15T09:14:29.996Z"
   },
   {
    "duration": 0,
    "start_time": "2022-10-15T09:14:29.998Z"
   },
   {
    "duration": 0,
    "start_time": "2022-10-15T09:14:29.999Z"
   },
   {
    "duration": 0,
    "start_time": "2022-10-15T09:14:30.001Z"
   },
   {
    "duration": 0,
    "start_time": "2022-10-15T09:14:30.002Z"
   },
   {
    "duration": 0,
    "start_time": "2022-10-15T09:14:30.004Z"
   },
   {
    "duration": 0,
    "start_time": "2022-10-15T09:14:30.005Z"
   },
   {
    "duration": 0,
    "start_time": "2022-10-15T09:14:30.006Z"
   },
   {
    "duration": 0,
    "start_time": "2022-10-15T09:14:30.008Z"
   },
   {
    "duration": 0,
    "start_time": "2022-10-15T09:14:30.010Z"
   },
   {
    "duration": 0,
    "start_time": "2022-10-15T09:14:30.010Z"
   },
   {
    "duration": 0,
    "start_time": "2022-10-15T09:14:30.012Z"
   },
   {
    "duration": 0,
    "start_time": "2022-10-15T09:14:30.013Z"
   },
   {
    "duration": 0,
    "start_time": "2022-10-15T09:14:30.014Z"
   },
   {
    "duration": 0,
    "start_time": "2022-10-15T09:14:30.015Z"
   },
   {
    "duration": 0,
    "start_time": "2022-10-15T09:14:30.016Z"
   },
   {
    "duration": 479,
    "start_time": "2022-10-15T09:14:44.667Z"
   },
   {
    "duration": 137,
    "start_time": "2022-10-15T09:14:45.149Z"
   },
   {
    "duration": 59,
    "start_time": "2022-10-15T09:14:45.289Z"
   },
   {
    "duration": 23,
    "start_time": "2022-10-15T09:14:45.350Z"
   },
   {
    "duration": 2619,
    "start_time": "2022-10-15T09:14:45.378Z"
   },
   {
    "duration": 13,
    "start_time": "2022-10-15T09:14:47.999Z"
   },
   {
    "duration": 27,
    "start_time": "2022-10-15T09:14:48.014Z"
   },
   {
    "duration": 203,
    "start_time": "2022-10-15T09:14:48.049Z"
   },
   {
    "duration": 20,
    "start_time": "2022-10-15T09:14:48.254Z"
   },
   {
    "duration": 248,
    "start_time": "2022-10-15T09:14:48.278Z"
   },
   {
    "duration": 6,
    "start_time": "2022-10-15T09:14:48.529Z"
   },
   {
    "duration": 14,
    "start_time": "2022-10-15T09:14:48.537Z"
   },
   {
    "duration": 13,
    "start_time": "2022-10-15T09:14:48.553Z"
   },
   {
    "duration": 13,
    "start_time": "2022-10-15T09:14:48.568Z"
   },
   {
    "duration": 16,
    "start_time": "2022-10-15T09:14:48.583Z"
   },
   {
    "duration": 8,
    "start_time": "2022-10-15T09:14:48.601Z"
   },
   {
    "duration": 8,
    "start_time": "2022-10-15T09:14:48.611Z"
   },
   {
    "duration": 9,
    "start_time": "2022-10-15T09:14:48.621Z"
   },
   {
    "duration": 68,
    "start_time": "2022-10-15T09:14:48.633Z"
   },
   {
    "duration": 7,
    "start_time": "2022-10-15T09:14:48.702Z"
   },
   {
    "duration": 19,
    "start_time": "2022-10-15T09:14:48.712Z"
   },
   {
    "duration": 20,
    "start_time": "2022-10-15T09:14:48.736Z"
   },
   {
    "duration": 65,
    "start_time": "2022-10-15T09:14:48.758Z"
   },
   {
    "duration": 3,
    "start_time": "2022-10-15T09:14:48.825Z"
   },
   {
    "duration": 13,
    "start_time": "2022-10-15T09:14:48.830Z"
   },
   {
    "duration": 35,
    "start_time": "2022-10-15T09:14:48.845Z"
   },
   {
    "duration": 7,
    "start_time": "2022-10-15T09:14:48.897Z"
   },
   {
    "duration": 19,
    "start_time": "2022-10-15T09:14:48.910Z"
   },
   {
    "duration": 7,
    "start_time": "2022-10-15T09:14:48.932Z"
   },
   {
    "duration": 22,
    "start_time": "2022-10-15T09:14:48.941Z"
   },
   {
    "duration": 32,
    "start_time": "2022-10-15T09:14:48.965Z"
   },
   {
    "duration": 10,
    "start_time": "2022-10-15T09:14:48.998Z"
   },
   {
    "duration": 18,
    "start_time": "2022-10-15T09:14:49.010Z"
   },
   {
    "duration": 40,
    "start_time": "2022-10-15T09:14:49.030Z"
   },
   {
    "duration": 6,
    "start_time": "2022-10-15T09:14:49.098Z"
   },
   {
    "duration": 13,
    "start_time": "2022-10-15T09:14:49.107Z"
   },
   {
    "duration": 9,
    "start_time": "2022-10-15T09:14:49.122Z"
   },
   {
    "duration": 7,
    "start_time": "2022-10-15T09:14:49.133Z"
   },
   {
    "duration": 7,
    "start_time": "2022-10-15T09:14:49.142Z"
   },
   {
    "duration": 49,
    "start_time": "2022-10-15T09:14:49.151Z"
   },
   {
    "duration": 56,
    "start_time": "2022-10-15T09:14:49.202Z"
   },
   {
    "duration": 56,
    "start_time": "2022-10-15T09:14:49.260Z"
   },
   {
    "duration": 25,
    "start_time": "2022-10-15T09:14:49.318Z"
   },
   {
    "duration": 246,
    "start_time": "2022-10-15T09:14:49.345Z"
   },
   {
    "duration": 224,
    "start_time": "2022-10-15T09:14:49.596Z"
   },
   {
    "duration": 197,
    "start_time": "2022-10-15T09:14:49.822Z"
   },
   {
    "duration": 308,
    "start_time": "2022-10-15T09:14:50.021Z"
   },
   {
    "duration": 257,
    "start_time": "2022-10-15T09:14:50.331Z"
   },
   {
    "duration": 232,
    "start_time": "2022-10-15T09:14:50.590Z"
   },
   {
    "duration": 220,
    "start_time": "2022-10-15T09:14:50.824Z"
   },
   {
    "duration": 91,
    "start_time": "2022-10-15T09:14:51.045Z"
   },
   {
    "duration": 0,
    "start_time": "2022-10-15T09:14:51.138Z"
   },
   {
    "duration": 0,
    "start_time": "2022-10-15T09:14:51.139Z"
   },
   {
    "duration": 0,
    "start_time": "2022-10-15T09:14:51.141Z"
   },
   {
    "duration": 0,
    "start_time": "2022-10-15T09:14:51.142Z"
   },
   {
    "duration": 1,
    "start_time": "2022-10-15T09:14:51.143Z"
   },
   {
    "duration": 0,
    "start_time": "2022-10-15T09:14:51.145Z"
   },
   {
    "duration": 1,
    "start_time": "2022-10-15T09:14:51.147Z"
   },
   {
    "duration": 0,
    "start_time": "2022-10-15T09:14:51.148Z"
   },
   {
    "duration": 0,
    "start_time": "2022-10-15T09:14:51.150Z"
   },
   {
    "duration": 0,
    "start_time": "2022-10-15T09:14:51.151Z"
   },
   {
    "duration": 0,
    "start_time": "2022-10-15T09:14:51.152Z"
   },
   {
    "duration": 0,
    "start_time": "2022-10-15T09:14:51.154Z"
   },
   {
    "duration": 0,
    "start_time": "2022-10-15T09:14:51.155Z"
   },
   {
    "duration": 0,
    "start_time": "2022-10-15T09:14:51.157Z"
   },
   {
    "duration": 0,
    "start_time": "2022-10-15T09:14:51.158Z"
   },
   {
    "duration": 0,
    "start_time": "2022-10-15T09:14:51.197Z"
   },
   {
    "duration": 0,
    "start_time": "2022-10-15T09:14:51.198Z"
   },
   {
    "duration": 0,
    "start_time": "2022-10-15T09:14:51.200Z"
   },
   {
    "duration": 3,
    "start_time": "2022-10-15T09:15:34.699Z"
   },
   {
    "duration": 214,
    "start_time": "2022-10-15T09:15:35.584Z"
   },
   {
    "duration": 189,
    "start_time": "2022-10-15T09:15:36.188Z"
   },
   {
    "duration": 204,
    "start_time": "2022-10-15T09:15:36.736Z"
   },
   {
    "duration": 199,
    "start_time": "2022-10-15T09:15:37.296Z"
   },
   {
    "duration": 178,
    "start_time": "2022-10-15T09:15:37.875Z"
   },
   {
    "duration": 201,
    "start_time": "2022-10-15T09:15:38.436Z"
   },
   {
    "duration": 216,
    "start_time": "2022-10-15T09:15:39.487Z"
   },
   {
    "duration": 4,
    "start_time": "2022-10-15T09:15:39.705Z"
   },
   {
    "duration": 5,
    "start_time": "2022-10-15T09:15:39.881Z"
   },
   {
    "duration": 288,
    "start_time": "2022-10-15T09:15:40.262Z"
   },
   {
    "duration": 260,
    "start_time": "2022-10-15T09:15:40.648Z"
   },
   {
    "duration": 278,
    "start_time": "2022-10-15T09:15:41.068Z"
   },
   {
    "duration": 220,
    "start_time": "2022-10-15T09:15:41.446Z"
   },
   {
    "duration": 250,
    "start_time": "2022-10-15T09:15:42.194Z"
   },
   {
    "duration": 231,
    "start_time": "2022-10-15T09:15:42.559Z"
   },
   {
    "duration": 228,
    "start_time": "2022-10-15T09:15:43.540Z"
   },
   {
    "duration": 32,
    "start_time": "2022-10-15T09:15:43.947Z"
   },
   {
    "duration": 10,
    "start_time": "2022-10-15T09:15:44.140Z"
   },
   {
    "duration": 9,
    "start_time": "2022-10-15T09:17:05.160Z"
   },
   {
    "duration": 1236,
    "start_time": "2022-10-15T09:17:38.858Z"
   },
   {
    "duration": 8,
    "start_time": "2022-10-15T09:17:47.509Z"
   },
   {
    "duration": 8,
    "start_time": "2022-10-15T09:17:56.609Z"
   },
   {
    "duration": 8,
    "start_time": "2022-10-15T09:18:35.720Z"
   },
   {
    "duration": 7,
    "start_time": "2022-10-15T09:18:36.199Z"
   },
   {
    "duration": 7,
    "start_time": "2022-10-15T09:31:52.831Z"
   },
   {
    "duration": 22,
    "start_time": "2022-10-15T09:31:53.265Z"
   },
   {
    "duration": 291,
    "start_time": "2022-10-15T09:33:16.490Z"
   },
   {
    "duration": 188,
    "start_time": "2022-10-15T09:33:30.361Z"
   },
   {
    "duration": 183,
    "start_time": "2022-10-15T09:33:57.004Z"
   },
   {
    "duration": 226,
    "start_time": "2022-10-15T09:48:34.656Z"
   },
   {
    "duration": 410,
    "start_time": "2022-10-15T09:48:44.483Z"
   },
   {
    "duration": 391,
    "start_time": "2022-10-15T09:48:57.036Z"
   },
   {
    "duration": 281,
    "start_time": "2022-10-15T09:54:14.572Z"
   },
   {
    "duration": 257,
    "start_time": "2022-10-15T10:17:21.887Z"
   },
   {
    "duration": 165,
    "start_time": "2022-10-15T10:20:37.266Z"
   },
   {
    "duration": 276,
    "start_time": "2022-10-15T10:20:41.861Z"
   },
   {
    "duration": 297,
    "start_time": "2022-10-15T10:21:41.727Z"
   },
   {
    "duration": 396,
    "start_time": "2022-10-15T10:21:50.031Z"
   },
   {
    "duration": 401,
    "start_time": "2022-10-15T10:21:56.437Z"
   },
   {
    "duration": 1494,
    "start_time": "2022-10-15T10:22:00.365Z"
   },
   {
    "duration": 1461,
    "start_time": "2022-10-15T10:22:08.818Z"
   },
   {
    "duration": 91,
    "start_time": "2022-10-15T10:22:31.362Z"
   },
   {
    "duration": 251,
    "start_time": "2022-10-15T10:22:40.156Z"
   },
   {
    "duration": 195,
    "start_time": "2022-10-15T10:26:14.024Z"
   },
   {
    "duration": 168,
    "start_time": "2022-10-15T10:26:27.117Z"
   },
   {
    "duration": 163,
    "start_time": "2022-10-15T10:26:32.751Z"
   },
   {
    "duration": 187,
    "start_time": "2022-10-15T10:26:37.525Z"
   },
   {
    "duration": 158,
    "start_time": "2022-10-15T10:26:47.094Z"
   },
   {
    "duration": 172,
    "start_time": "2022-10-15T10:27:34.303Z"
   },
   {
    "duration": 237,
    "start_time": "2022-10-15T10:27:38.126Z"
   },
   {
    "duration": 211,
    "start_time": "2022-10-15T10:27:47.173Z"
   },
   {
    "duration": 215,
    "start_time": "2022-10-15T10:27:51.866Z"
   },
   {
    "duration": 153,
    "start_time": "2022-10-15T10:28:05.626Z"
   },
   {
    "duration": 268,
    "start_time": "2022-10-15T10:33:58.999Z"
   },
   {
    "duration": 170,
    "start_time": "2022-10-15T10:34:05.076Z"
   },
   {
    "duration": 1612,
    "start_time": "2022-10-15T10:34:10.601Z"
   },
   {
    "duration": 370,
    "start_time": "2022-10-15T10:34:17.287Z"
   },
   {
    "duration": 197,
    "start_time": "2022-10-15T10:34:24.278Z"
   },
   {
    "duration": 204,
    "start_time": "2022-10-15T10:36:44.504Z"
   },
   {
    "duration": 183,
    "start_time": "2022-10-15T10:37:14.261Z"
   },
   {
    "duration": 180,
    "start_time": "2022-10-15T10:37:32.011Z"
   },
   {
    "duration": 10,
    "start_time": "2022-10-15T10:41:29.368Z"
   },
   {
    "duration": 12,
    "start_time": "2022-10-15T10:44:11.919Z"
   },
   {
    "duration": 13,
    "start_time": "2022-10-15T10:47:09.498Z"
   },
   {
    "duration": 16,
    "start_time": "2022-10-15T10:47:27.187Z"
   },
   {
    "duration": 13,
    "start_time": "2022-10-15T10:50:01.000Z"
   },
   {
    "duration": 425327,
    "start_time": "2022-10-15T10:50:06.288Z"
   },
   {
    "duration": 10,
    "start_time": "2022-10-15T10:59:16.053Z"
   },
   {
    "duration": 6,
    "start_time": "2022-10-15T11:00:12.649Z"
   },
   {
    "duration": 20,
    "start_time": "2022-10-15T11:00:36.978Z"
   },
   {
    "duration": 9,
    "start_time": "2022-10-15T11:00:48.689Z"
   },
   {
    "duration": 169,
    "start_time": "2022-10-15T11:00:57.932Z"
   },
   {
    "duration": 145,
    "start_time": "2022-10-15T11:01:05.151Z"
   },
   {
    "duration": 157,
    "start_time": "2022-10-15T11:01:11.657Z"
   },
   {
    "duration": 144,
    "start_time": "2022-10-15T11:01:14.802Z"
   },
   {
    "duration": 9,
    "start_time": "2022-10-15T11:01:29.896Z"
   },
   {
    "duration": 7,
    "start_time": "2022-10-15T11:01:39.628Z"
   },
   {
    "duration": 236,
    "start_time": "2022-10-15T11:06:41.121Z"
   },
   {
    "duration": 348,
    "start_time": "2022-10-15T11:06:46.037Z"
   },
   {
    "duration": 220,
    "start_time": "2022-10-15T11:07:02.166Z"
   },
   {
    "duration": 224,
    "start_time": "2022-10-15T11:07:06.333Z"
   },
   {
    "duration": 207,
    "start_time": "2022-10-15T11:07:10.919Z"
   },
   {
    "duration": 207,
    "start_time": "2022-10-15T11:07:21.920Z"
   },
   {
    "duration": 259,
    "start_time": "2022-10-15T11:13:57.950Z"
   },
   {
    "duration": 189,
    "start_time": "2022-10-15T11:17:58.517Z"
   },
   {
    "duration": 201,
    "start_time": "2022-10-15T11:19:30.709Z"
   },
   {
    "duration": 68,
    "start_time": "2022-10-15T11:57:04.211Z"
   },
   {
    "duration": 5,
    "start_time": "2022-10-15T12:04:05.026Z"
   },
   {
    "duration": 13,
    "start_time": "2022-10-15T12:12:40.418Z"
   },
   {
    "duration": 7,
    "start_time": "2022-10-15T12:14:24.368Z"
   },
   {
    "duration": 7,
    "start_time": "2022-10-15T12:17:16.754Z"
   },
   {
    "duration": 6,
    "start_time": "2022-10-15T12:18:02.214Z"
   },
   {
    "duration": 7,
    "start_time": "2022-10-15T12:18:38.246Z"
   },
   {
    "duration": 6,
    "start_time": "2022-10-15T12:32:51.354Z"
   },
   {
    "duration": 7,
    "start_time": "2022-10-15T12:35:03.126Z"
   },
   {
    "duration": 6,
    "start_time": "2022-10-15T12:35:12.557Z"
   },
   {
    "duration": 7,
    "start_time": "2022-10-15T12:35:23.803Z"
   },
   {
    "duration": 478,
    "start_time": "2022-10-16T10:04:11.930Z"
   },
   {
    "duration": 122,
    "start_time": "2022-10-16T10:04:12.410Z"
   },
   {
    "duration": 36,
    "start_time": "2022-10-16T10:04:12.534Z"
   },
   {
    "duration": 15,
    "start_time": "2022-10-16T10:04:12.572Z"
   },
   {
    "duration": 2471,
    "start_time": "2022-10-16T10:04:12.590Z"
   },
   {
    "duration": 10,
    "start_time": "2022-10-16T10:04:15.063Z"
   },
   {
    "duration": 60,
    "start_time": "2022-10-16T10:04:15.075Z"
   },
   {
    "duration": 125,
    "start_time": "2022-10-16T10:04:15.138Z"
   },
   {
    "duration": 14,
    "start_time": "2022-10-16T10:04:15.265Z"
   },
   {
    "duration": 189,
    "start_time": "2022-10-16T10:04:15.281Z"
   },
   {
    "duration": 5,
    "start_time": "2022-10-16T10:04:15.472Z"
   },
   {
    "duration": 75,
    "start_time": "2022-10-16T10:04:15.479Z"
   },
   {
    "duration": 20,
    "start_time": "2022-10-16T10:04:15.556Z"
   },
   {
    "duration": 40,
    "start_time": "2022-10-16T10:04:15.580Z"
   },
   {
    "duration": 32,
    "start_time": "2022-10-16T10:04:15.622Z"
   },
   {
    "duration": 18,
    "start_time": "2022-10-16T10:04:15.656Z"
   },
   {
    "duration": 23,
    "start_time": "2022-10-16T10:04:15.676Z"
   },
   {
    "duration": 19,
    "start_time": "2022-10-16T10:04:15.702Z"
   },
   {
    "duration": 55,
    "start_time": "2022-10-16T10:04:15.723Z"
   },
   {
    "duration": 5,
    "start_time": "2022-10-16T10:04:15.780Z"
   },
   {
    "duration": 25,
    "start_time": "2022-10-16T10:04:15.786Z"
   },
   {
    "duration": 30,
    "start_time": "2022-10-16T10:04:15.814Z"
   },
   {
    "duration": 65,
    "start_time": "2022-10-16T10:04:15.846Z"
   },
   {
    "duration": 3,
    "start_time": "2022-10-16T10:04:15.913Z"
   },
   {
    "duration": 20,
    "start_time": "2022-10-16T10:04:15.918Z"
   },
   {
    "duration": 50,
    "start_time": "2022-10-16T10:04:15.940Z"
   },
   {
    "duration": 17,
    "start_time": "2022-10-16T10:04:15.991Z"
   },
   {
    "duration": 18,
    "start_time": "2022-10-16T10:04:16.010Z"
   },
   {
    "duration": 17,
    "start_time": "2022-10-16T10:04:16.030Z"
   },
   {
    "duration": 29,
    "start_time": "2022-10-16T10:04:16.049Z"
   },
   {
    "duration": 15,
    "start_time": "2022-10-16T10:04:16.080Z"
   },
   {
    "duration": 13,
    "start_time": "2022-10-16T10:04:16.097Z"
   },
   {
    "duration": 48,
    "start_time": "2022-10-16T10:04:16.111Z"
   },
   {
    "duration": 45,
    "start_time": "2022-10-16T10:04:16.160Z"
   },
   {
    "duration": 4,
    "start_time": "2022-10-16T10:04:16.207Z"
   },
   {
    "duration": 32,
    "start_time": "2022-10-16T10:04:16.214Z"
   },
   {
    "duration": 12,
    "start_time": "2022-10-16T10:04:16.247Z"
   },
   {
    "duration": 8,
    "start_time": "2022-10-16T10:04:16.260Z"
   },
   {
    "duration": 26,
    "start_time": "2022-10-16T10:04:16.269Z"
   },
   {
    "duration": 27,
    "start_time": "2022-10-16T10:04:16.296Z"
   },
   {
    "duration": 51,
    "start_time": "2022-10-16T10:04:16.328Z"
   },
   {
    "duration": 31,
    "start_time": "2022-10-16T10:04:16.381Z"
   },
   {
    "duration": 20,
    "start_time": "2022-10-16T10:04:16.415Z"
   },
   {
    "duration": 275,
    "start_time": "2022-10-16T10:04:16.454Z"
   },
   {
    "duration": 381,
    "start_time": "2022-10-16T10:04:16.731Z"
   },
   {
    "duration": 294,
    "start_time": "2022-10-16T10:04:17.114Z"
   },
   {
    "duration": 1484,
    "start_time": "2022-10-16T10:04:17.410Z"
   },
   {
    "duration": 195,
    "start_time": "2022-10-16T10:04:18.897Z"
   },
   {
    "duration": 204,
    "start_time": "2022-10-16T10:04:19.094Z"
   },
   {
    "duration": 230,
    "start_time": "2022-10-16T10:04:19.300Z"
   },
   {
    "duration": 8,
    "start_time": "2022-10-16T10:04:19.532Z"
   },
   {
    "duration": 222,
    "start_time": "2022-10-16T10:04:19.542Z"
   },
   {
    "duration": 242,
    "start_time": "2022-10-16T10:04:19.767Z"
   },
   {
    "duration": 240,
    "start_time": "2022-10-16T10:04:20.011Z"
   },
   {
    "duration": 265,
    "start_time": "2022-10-16T10:04:20.254Z"
   },
   {
    "duration": 187,
    "start_time": "2022-10-16T10:04:20.522Z"
   },
   {
    "duration": 331,
    "start_time": "2022-10-16T10:04:20.711Z"
   },
   {
    "duration": 193,
    "start_time": "2022-10-16T10:04:21.044Z"
   },
   {
    "duration": 4,
    "start_time": "2022-10-16T10:04:21.239Z"
   },
   {
    "duration": 5,
    "start_time": "2022-10-16T10:04:21.254Z"
   },
   {
    "duration": 276,
    "start_time": "2022-10-16T10:04:21.261Z"
   },
   {
    "duration": 17,
    "start_time": "2022-10-16T10:04:21.539Z"
   },
   {
    "duration": 296,
    "start_time": "2022-10-16T10:04:21.558Z"
   },
   {
    "duration": 7,
    "start_time": "2022-10-16T10:04:21.856Z"
   },
   {
    "duration": 246,
    "start_time": "2022-10-16T10:04:21.864Z"
   },
   {
    "duration": 6,
    "start_time": "2022-10-16T10:04:22.113Z"
   },
   {
    "duration": 240,
    "start_time": "2022-10-16T10:04:22.121Z"
   },
   {
    "duration": 81,
    "start_time": "2022-10-16T10:04:22.362Z"
   },
   {
    "duration": 0,
    "start_time": "2022-10-16T10:04:22.445Z"
   },
   {
    "duration": 0,
    "start_time": "2022-10-16T10:04:22.446Z"
   },
   {
    "duration": 0,
    "start_time": "2022-10-16T10:04:22.447Z"
   },
   {
    "duration": 0,
    "start_time": "2022-10-16T10:04:22.448Z"
   },
   {
    "duration": 0,
    "start_time": "2022-10-16T10:04:22.449Z"
   },
   {
    "duration": 0,
    "start_time": "2022-10-16T10:04:22.450Z"
   },
   {
    "duration": 0,
    "start_time": "2022-10-16T10:04:22.451Z"
   },
   {
    "duration": 0,
    "start_time": "2022-10-16T10:04:22.453Z"
   },
   {
    "duration": 0,
    "start_time": "2022-10-16T10:04:22.454Z"
   },
   {
    "duration": 0,
    "start_time": "2022-10-16T10:04:22.455Z"
   },
   {
    "duration": 0,
    "start_time": "2022-10-16T10:04:22.457Z"
   },
   {
    "duration": 0,
    "start_time": "2022-10-16T10:04:22.458Z"
   },
   {
    "duration": 0,
    "start_time": "2022-10-16T10:04:22.460Z"
   },
   {
    "duration": 4,
    "start_time": "2022-10-16T10:05:57.642Z"
   },
   {
    "duration": 106,
    "start_time": "2022-10-16T10:05:57.649Z"
   },
   {
    "duration": 29,
    "start_time": "2022-10-16T10:05:57.757Z"
   },
   {
    "duration": 16,
    "start_time": "2022-10-16T10:05:57.787Z"
   },
   {
    "duration": 2005,
    "start_time": "2022-10-16T10:05:57.806Z"
   },
   {
    "duration": 10,
    "start_time": "2022-10-16T10:05:59.812Z"
   },
   {
    "duration": 42,
    "start_time": "2022-10-16T10:05:59.823Z"
   },
   {
    "duration": 314,
    "start_time": "2022-10-16T10:05:59.866Z"
   },
   {
    "duration": 13,
    "start_time": "2022-10-16T10:06:00.181Z"
   },
   {
    "duration": 167,
    "start_time": "2022-10-16T10:06:00.196Z"
   },
   {
    "duration": 7,
    "start_time": "2022-10-16T10:06:00.364Z"
   },
   {
    "duration": 22,
    "start_time": "2022-10-16T10:06:00.372Z"
   },
   {
    "duration": 31,
    "start_time": "2022-10-16T10:06:00.396Z"
   },
   {
    "duration": 39,
    "start_time": "2022-10-16T10:06:00.430Z"
   },
   {
    "duration": 32,
    "start_time": "2022-10-16T10:06:00.471Z"
   },
   {
    "duration": 10,
    "start_time": "2022-10-16T10:06:00.505Z"
   },
   {
    "duration": 20,
    "start_time": "2022-10-16T10:06:00.517Z"
   },
   {
    "duration": 19,
    "start_time": "2022-10-16T10:06:00.540Z"
   },
   {
    "duration": 80,
    "start_time": "2022-10-16T10:06:00.562Z"
   },
   {
    "duration": 7,
    "start_time": "2022-10-16T10:06:00.645Z"
   },
   {
    "duration": 48,
    "start_time": "2022-10-16T10:06:00.654Z"
   },
   {
    "duration": 41,
    "start_time": "2022-10-16T10:06:00.704Z"
   },
   {
    "duration": 78,
    "start_time": "2022-10-16T10:06:00.748Z"
   },
   {
    "duration": 3,
    "start_time": "2022-10-16T10:06:00.829Z"
   },
   {
    "duration": 44,
    "start_time": "2022-10-16T10:06:00.835Z"
   },
   {
    "duration": 60,
    "start_time": "2022-10-16T10:06:00.882Z"
   },
   {
    "duration": 39,
    "start_time": "2022-10-16T10:06:00.944Z"
   },
   {
    "duration": 33,
    "start_time": "2022-10-16T10:06:00.984Z"
   },
   {
    "duration": 18,
    "start_time": "2022-10-16T10:06:01.018Z"
   },
   {
    "duration": 36,
    "start_time": "2022-10-16T10:06:01.038Z"
   },
   {
    "duration": 36,
    "start_time": "2022-10-16T10:06:01.076Z"
   },
   {
    "duration": 29,
    "start_time": "2022-10-16T10:06:01.114Z"
   },
   {
    "duration": 54,
    "start_time": "2022-10-16T10:06:01.144Z"
   },
   {
    "duration": 27,
    "start_time": "2022-10-16T10:06:01.200Z"
   },
   {
    "duration": 5,
    "start_time": "2022-10-16T10:06:01.229Z"
   },
   {
    "duration": 38,
    "start_time": "2022-10-16T10:06:01.235Z"
   },
   {
    "duration": 11,
    "start_time": "2022-10-16T10:06:01.275Z"
   },
   {
    "duration": 35,
    "start_time": "2022-10-16T10:06:01.288Z"
   },
   {
    "duration": 33,
    "start_time": "2022-10-16T10:06:01.325Z"
   },
   {
    "duration": 34,
    "start_time": "2022-10-16T10:06:01.360Z"
   },
   {
    "duration": 54,
    "start_time": "2022-10-16T10:06:01.399Z"
   },
   {
    "duration": 39,
    "start_time": "2022-10-16T10:06:01.455Z"
   },
   {
    "duration": 49,
    "start_time": "2022-10-16T10:06:01.496Z"
   },
   {
    "duration": 356,
    "start_time": "2022-10-16T10:06:01.548Z"
   },
   {
    "duration": 296,
    "start_time": "2022-10-16T10:06:01.906Z"
   },
   {
    "duration": 278,
    "start_time": "2022-10-16T10:06:02.204Z"
   },
   {
    "duration": 1589,
    "start_time": "2022-10-16T10:06:02.485Z"
   },
   {
    "duration": 161,
    "start_time": "2022-10-16T10:06:04.076Z"
   },
   {
    "duration": 196,
    "start_time": "2022-10-16T10:06:04.239Z"
   },
   {
    "duration": 191,
    "start_time": "2022-10-16T10:06:04.436Z"
   },
   {
    "duration": 7,
    "start_time": "2022-10-16T10:06:04.629Z"
   },
   {
    "duration": 235,
    "start_time": "2022-10-16T10:06:04.638Z"
   },
   {
    "duration": 232,
    "start_time": "2022-10-16T10:06:04.874Z"
   },
   {
    "duration": 236,
    "start_time": "2022-10-16T10:06:05.108Z"
   },
   {
    "duration": 215,
    "start_time": "2022-10-16T10:06:05.345Z"
   },
   {
    "duration": 169,
    "start_time": "2022-10-16T10:06:05.562Z"
   },
   {
    "duration": 171,
    "start_time": "2022-10-16T10:06:05.732Z"
   },
   {
    "duration": 196,
    "start_time": "2022-10-16T10:06:05.905Z"
   },
   {
    "duration": 5,
    "start_time": "2022-10-16T10:06:06.102Z"
   },
   {
    "duration": 8,
    "start_time": "2022-10-16T10:06:06.108Z"
   },
   {
    "duration": 231,
    "start_time": "2022-10-16T10:06:06.118Z"
   },
   {
    "duration": 7,
    "start_time": "2022-10-16T10:06:06.354Z"
   },
   {
    "duration": 249,
    "start_time": "2022-10-16T10:06:06.362Z"
   },
   {
    "duration": 7,
    "start_time": "2022-10-16T10:06:06.613Z"
   },
   {
    "duration": 253,
    "start_time": "2022-10-16T10:06:06.621Z"
   },
   {
    "duration": 6,
    "start_time": "2022-10-16T10:06:06.876Z"
   },
   {
    "duration": 227,
    "start_time": "2022-10-16T10:06:06.884Z"
   },
   {
    "duration": 248,
    "start_time": "2022-10-16T10:06:07.113Z"
   },
   {
    "duration": 7,
    "start_time": "2022-10-16T10:06:07.363Z"
   },
   {
    "duration": 241,
    "start_time": "2022-10-16T10:06:07.371Z"
   },
   {
    "duration": 6,
    "start_time": "2022-10-16T10:06:07.614Z"
   },
   {
    "duration": 43,
    "start_time": "2022-10-16T10:06:07.622Z"
   },
   {
    "duration": 0,
    "start_time": "2022-10-16T10:06:07.667Z"
   },
   {
    "duration": 0,
    "start_time": "2022-10-16T10:06:07.668Z"
   },
   {
    "duration": 1,
    "start_time": "2022-10-16T10:06:07.669Z"
   },
   {
    "duration": 0,
    "start_time": "2022-10-16T10:06:07.672Z"
   },
   {
    "duration": 0,
    "start_time": "2022-10-16T10:06:07.673Z"
   },
   {
    "duration": 0,
    "start_time": "2022-10-16T10:06:07.674Z"
   },
   {
    "duration": 0,
    "start_time": "2022-10-16T10:06:07.676Z"
   },
   {
    "duration": 0,
    "start_time": "2022-10-16T10:06:07.678Z"
   },
   {
    "duration": 322,
    "start_time": "2022-10-16T10:31:40.184Z"
   },
   {
    "duration": 580,
    "start_time": "2022-10-16T10:31:47.197Z"
   },
   {
    "duration": 269,
    "start_time": "2022-10-16T10:32:32.320Z"
   },
   {
    "duration": 120,
    "start_time": "2022-10-16T11:01:32.035Z"
   },
   {
    "duration": 407,
    "start_time": "2022-10-16T11:06:12.073Z"
   },
   {
    "duration": 127,
    "start_time": "2022-10-16T11:06:12.482Z"
   },
   {
    "duration": 46,
    "start_time": "2022-10-16T11:06:12.610Z"
   },
   {
    "duration": 16,
    "start_time": "2022-10-16T11:06:12.659Z"
   },
   {
    "duration": 2316,
    "start_time": "2022-10-16T11:06:12.677Z"
   },
   {
    "duration": 11,
    "start_time": "2022-10-16T11:06:14.995Z"
   },
   {
    "duration": 34,
    "start_time": "2022-10-16T11:06:15.008Z"
   },
   {
    "duration": 124,
    "start_time": "2022-10-16T11:06:15.043Z"
   },
   {
    "duration": 15,
    "start_time": "2022-10-16T11:06:15.169Z"
   },
   {
    "duration": 178,
    "start_time": "2022-10-16T11:06:15.187Z"
   },
   {
    "duration": 5,
    "start_time": "2022-10-16T11:06:15.367Z"
   },
   {
    "duration": 11,
    "start_time": "2022-10-16T11:06:15.373Z"
   },
   {
    "duration": 5,
    "start_time": "2022-10-16T11:06:15.386Z"
   },
   {
    "duration": 12,
    "start_time": "2022-10-16T11:06:15.393Z"
   },
   {
    "duration": 6,
    "start_time": "2022-10-16T11:06:15.407Z"
   },
   {
    "duration": 8,
    "start_time": "2022-10-16T11:06:15.414Z"
   },
   {
    "duration": 19,
    "start_time": "2022-10-16T11:06:15.424Z"
   },
   {
    "duration": 21,
    "start_time": "2022-10-16T11:06:15.445Z"
   },
   {
    "duration": 42,
    "start_time": "2022-10-16T11:06:15.467Z"
   },
   {
    "duration": 5,
    "start_time": "2022-10-16T11:06:15.511Z"
   },
   {
    "duration": 24,
    "start_time": "2022-10-16T11:06:15.518Z"
   },
   {
    "duration": 44,
    "start_time": "2022-10-16T11:06:15.546Z"
   },
   {
    "duration": 56,
    "start_time": "2022-10-16T11:06:15.593Z"
   },
   {
    "duration": 3,
    "start_time": "2022-10-16T11:06:15.652Z"
   },
   {
    "duration": 17,
    "start_time": "2022-10-16T11:06:15.657Z"
   },
   {
    "duration": 40,
    "start_time": "2022-10-16T11:06:15.676Z"
   },
   {
    "duration": 9,
    "start_time": "2022-10-16T11:06:15.718Z"
   },
   {
    "duration": 29,
    "start_time": "2022-10-16T11:06:15.732Z"
   },
   {
    "duration": 7,
    "start_time": "2022-10-16T11:06:15.763Z"
   },
   {
    "duration": 16,
    "start_time": "2022-10-16T11:06:15.771Z"
   },
   {
    "duration": 5,
    "start_time": "2022-10-16T11:06:15.788Z"
   },
   {
    "duration": 15,
    "start_time": "2022-10-16T11:06:15.795Z"
   },
   {
    "duration": 48,
    "start_time": "2022-10-16T11:06:15.812Z"
   },
   {
    "duration": 40,
    "start_time": "2022-10-16T11:06:15.862Z"
   },
   {
    "duration": 4,
    "start_time": "2022-10-16T11:06:15.905Z"
   },
   {
    "duration": 11,
    "start_time": "2022-10-16T11:06:15.911Z"
   },
   {
    "duration": 30,
    "start_time": "2022-10-16T11:06:15.924Z"
   },
   {
    "duration": 6,
    "start_time": "2022-10-16T11:06:15.956Z"
   },
   {
    "duration": 7,
    "start_time": "2022-10-16T11:06:15.964Z"
   },
   {
    "duration": 14,
    "start_time": "2022-10-16T11:06:15.973Z"
   },
   {
    "duration": 74,
    "start_time": "2022-10-16T11:06:15.989Z"
   },
   {
    "duration": 38,
    "start_time": "2022-10-16T11:06:16.065Z"
   },
   {
    "duration": 22,
    "start_time": "2022-10-16T11:06:16.105Z"
   },
   {
    "duration": 351,
    "start_time": "2022-10-16T11:06:16.130Z"
   },
   {
    "duration": 326,
    "start_time": "2022-10-16T11:06:16.484Z"
   },
   {
    "duration": 379,
    "start_time": "2022-10-16T11:06:16.813Z"
   },
   {
    "duration": 1517,
    "start_time": "2022-10-16T11:06:17.194Z"
   },
   {
    "duration": 182,
    "start_time": "2022-10-16T11:06:18.712Z"
   },
   {
    "duration": 213,
    "start_time": "2022-10-16T11:06:18.896Z"
   },
   {
    "duration": 187,
    "start_time": "2022-10-16T11:06:19.111Z"
   },
   {
    "duration": 8,
    "start_time": "2022-10-16T11:06:19.300Z"
   },
   {
    "duration": 237,
    "start_time": "2022-10-16T11:06:19.310Z"
   },
   {
    "duration": 227,
    "start_time": "2022-10-16T11:06:19.549Z"
   },
   {
    "duration": 219,
    "start_time": "2022-10-16T11:06:19.777Z"
   },
   {
    "duration": 203,
    "start_time": "2022-10-16T11:06:19.998Z"
   },
   {
    "duration": 161,
    "start_time": "2022-10-16T11:06:20.203Z"
   },
   {
    "duration": 167,
    "start_time": "2022-10-16T11:06:20.366Z"
   },
   {
    "duration": 371,
    "start_time": "2022-10-16T11:06:20.535Z"
   },
   {
    "duration": 4,
    "start_time": "2022-10-16T11:06:20.909Z"
   },
   {
    "duration": 15,
    "start_time": "2022-10-16T11:06:20.915Z"
   },
   {
    "duration": 249,
    "start_time": "2022-10-16T11:06:20.932Z"
   },
   {
    "duration": 6,
    "start_time": "2022-10-16T11:06:21.182Z"
   },
   {
    "duration": 251,
    "start_time": "2022-10-16T11:06:21.190Z"
   },
   {
    "duration": 11,
    "start_time": "2022-10-16T11:06:21.444Z"
   },
   {
    "duration": 287,
    "start_time": "2022-10-16T11:06:21.457Z"
   },
   {
    "duration": 13,
    "start_time": "2022-10-16T11:06:21.746Z"
   },
   {
    "duration": 243,
    "start_time": "2022-10-16T11:06:21.761Z"
   },
   {
    "duration": 7,
    "start_time": "2022-10-16T11:06:22.006Z"
   },
   {
    "duration": 232,
    "start_time": "2022-10-16T11:06:22.015Z"
   },
   {
    "duration": 9,
    "start_time": "2022-10-16T11:06:22.248Z"
   },
   {
    "duration": 62,
    "start_time": "2022-10-16T11:06:22.259Z"
   },
   {
    "duration": 0,
    "start_time": "2022-10-16T11:06:22.323Z"
   },
   {
    "duration": 0,
    "start_time": "2022-10-16T11:06:22.324Z"
   },
   {
    "duration": 0,
    "start_time": "2022-10-16T11:06:22.325Z"
   },
   {
    "duration": 0,
    "start_time": "2022-10-16T11:06:22.326Z"
   },
   {
    "duration": 0,
    "start_time": "2022-10-16T11:06:22.327Z"
   },
   {
    "duration": 0,
    "start_time": "2022-10-16T11:06:22.329Z"
   },
   {
    "duration": 0,
    "start_time": "2022-10-16T11:06:22.330Z"
   },
   {
    "duration": 0,
    "start_time": "2022-10-16T11:06:22.331Z"
   },
   {
    "duration": 252,
    "start_time": "2022-10-16T11:06:31.830Z"
   },
   {
    "duration": 8,
    "start_time": "2022-10-16T11:06:32.085Z"
   },
   {
    "duration": 31,
    "start_time": "2022-10-16T11:06:32.537Z"
   },
   {
    "duration": 8,
    "start_time": "2022-10-16T11:06:32.718Z"
   },
   {
    "duration": 6,
    "start_time": "2022-10-16T11:06:32.915Z"
   },
   {
    "duration": 10,
    "start_time": "2022-10-16T11:06:33.853Z"
   },
   {
    "duration": 207,
    "start_time": "2022-10-16T11:06:34.059Z"
   },
   {
    "duration": 7,
    "start_time": "2022-10-16T11:06:34.981Z"
   },
   {
    "duration": 262,
    "start_time": "2022-10-16T11:41:53.147Z"
   },
   {
    "duration": 7,
    "start_time": "2022-10-16T11:42:08.982Z"
   },
   {
    "duration": 250,
    "start_time": "2022-10-16T11:48:36.228Z"
   },
   {
    "duration": 442,
    "start_time": "2022-10-16T11:59:20.216Z"
   },
   {
    "duration": 114,
    "start_time": "2022-10-16T11:59:20.661Z"
   },
   {
    "duration": 41,
    "start_time": "2022-10-16T11:59:20.777Z"
   },
   {
    "duration": 17,
    "start_time": "2022-10-16T11:59:20.820Z"
   },
   {
    "duration": 2646,
    "start_time": "2022-10-16T11:59:20.863Z"
   },
   {
    "duration": 11,
    "start_time": "2022-10-16T11:59:23.511Z"
   },
   {
    "duration": 41,
    "start_time": "2022-10-16T11:59:23.524Z"
   },
   {
    "duration": 156,
    "start_time": "2022-10-16T11:59:23.573Z"
   },
   {
    "duration": 42,
    "start_time": "2022-10-16T11:59:23.731Z"
   },
   {
    "duration": 197,
    "start_time": "2022-10-16T11:59:23.776Z"
   },
   {
    "duration": 5,
    "start_time": "2022-10-16T11:59:23.976Z"
   },
   {
    "duration": 9,
    "start_time": "2022-10-16T11:59:23.982Z"
   },
   {
    "duration": 11,
    "start_time": "2022-10-16T11:59:23.993Z"
   },
   {
    "duration": 6,
    "start_time": "2022-10-16T11:59:24.008Z"
   },
   {
    "duration": 6,
    "start_time": "2022-10-16T11:59:24.016Z"
   },
   {
    "duration": 8,
    "start_time": "2022-10-16T11:59:24.024Z"
   },
   {
    "duration": 42,
    "start_time": "2022-10-16T11:59:24.034Z"
   },
   {
    "duration": 7,
    "start_time": "2022-10-16T11:59:24.078Z"
   },
   {
    "duration": 38,
    "start_time": "2022-10-16T11:59:24.087Z"
   },
   {
    "duration": 6,
    "start_time": "2022-10-16T11:59:24.126Z"
   },
   {
    "duration": 12,
    "start_time": "2022-10-16T11:59:24.133Z"
   },
   {
    "duration": 31,
    "start_time": "2022-10-16T11:59:24.146Z"
   },
   {
    "duration": 106,
    "start_time": "2022-10-16T11:59:24.180Z"
   },
   {
    "duration": 5,
    "start_time": "2022-10-16T11:59:24.288Z"
   },
   {
    "duration": 23,
    "start_time": "2022-10-16T11:59:24.295Z"
   },
   {
    "duration": 52,
    "start_time": "2022-10-16T11:59:24.321Z"
   },
   {
    "duration": 13,
    "start_time": "2022-10-16T11:59:24.376Z"
   },
   {
    "duration": 19,
    "start_time": "2022-10-16T11:59:24.391Z"
   },
   {
    "duration": 6,
    "start_time": "2022-10-16T11:59:24.412Z"
   },
   {
    "duration": 22,
    "start_time": "2022-10-16T11:59:24.420Z"
   },
   {
    "duration": 15,
    "start_time": "2022-10-16T11:59:24.445Z"
   },
   {
    "duration": 24,
    "start_time": "2022-10-16T11:59:24.462Z"
   },
   {
    "duration": 16,
    "start_time": "2022-10-16T11:59:24.488Z"
   },
   {
    "duration": 27,
    "start_time": "2022-10-16T11:59:24.506Z"
   },
   {
    "duration": 36,
    "start_time": "2022-10-16T11:59:24.535Z"
   },
   {
    "duration": 12,
    "start_time": "2022-10-16T11:59:24.574Z"
   },
   {
    "duration": 16,
    "start_time": "2022-10-16T11:59:24.587Z"
   },
   {
    "duration": 9,
    "start_time": "2022-10-16T11:59:24.605Z"
   },
   {
    "duration": 8,
    "start_time": "2022-10-16T11:59:24.617Z"
   },
   {
    "duration": 13,
    "start_time": "2022-10-16T11:59:24.626Z"
   },
   {
    "duration": 81,
    "start_time": "2022-10-16T11:59:24.645Z"
   },
   {
    "duration": 43,
    "start_time": "2022-10-16T11:59:24.728Z"
   },
   {
    "duration": 17,
    "start_time": "2022-10-16T11:59:24.773Z"
   },
   {
    "duration": 325,
    "start_time": "2022-10-16T11:59:24.793Z"
   },
   {
    "duration": 351,
    "start_time": "2022-10-16T11:59:25.120Z"
   },
   {
    "duration": 415,
    "start_time": "2022-10-16T11:59:25.474Z"
   },
   {
    "duration": 1670,
    "start_time": "2022-10-16T11:59:25.891Z"
   },
   {
    "duration": 163,
    "start_time": "2022-10-16T11:59:27.567Z"
   },
   {
    "duration": 215,
    "start_time": "2022-10-16T11:59:27.732Z"
   },
   {
    "duration": 222,
    "start_time": "2022-10-16T11:59:27.949Z"
   },
   {
    "duration": 8,
    "start_time": "2022-10-16T11:59:28.172Z"
   },
   {
    "duration": 239,
    "start_time": "2022-10-16T11:59:28.182Z"
   },
   {
    "duration": 258,
    "start_time": "2022-10-16T11:59:28.423Z"
   },
   {
    "duration": 243,
    "start_time": "2022-10-16T11:59:28.684Z"
   },
   {
    "duration": 239,
    "start_time": "2022-10-16T11:59:28.929Z"
   },
   {
    "duration": 205,
    "start_time": "2022-10-16T11:59:29.170Z"
   },
   {
    "duration": 195,
    "start_time": "2022-10-16T11:59:29.377Z"
   },
   {
    "duration": 356,
    "start_time": "2022-10-16T11:59:29.574Z"
   },
   {
    "duration": 5,
    "start_time": "2022-10-16T11:59:29.932Z"
   },
   {
    "duration": 32,
    "start_time": "2022-10-16T11:59:29.938Z"
   },
   {
    "duration": 237,
    "start_time": "2022-10-16T11:59:29.972Z"
   },
   {
    "duration": 7,
    "start_time": "2022-10-16T11:59:30.211Z"
   },
   {
    "duration": 280,
    "start_time": "2022-10-16T11:59:30.220Z"
   },
   {
    "duration": 7,
    "start_time": "2022-10-16T11:59:30.501Z"
   },
   {
    "duration": 268,
    "start_time": "2022-10-16T11:59:30.510Z"
   },
   {
    "duration": 6,
    "start_time": "2022-10-16T11:59:30.780Z"
   },
   {
    "duration": 260,
    "start_time": "2022-10-16T11:59:30.788Z"
   },
   {
    "duration": 24,
    "start_time": "2022-10-16T11:59:31.050Z"
   },
   {
    "duration": 263,
    "start_time": "2022-10-16T11:59:31.076Z"
   },
   {
    "duration": 6,
    "start_time": "2022-10-16T11:59:31.341Z"
   },
   {
    "duration": 261,
    "start_time": "2022-10-16T11:59:31.354Z"
   },
   {
    "duration": 7,
    "start_time": "2022-10-16T11:59:31.617Z"
   },
   {
    "duration": 346,
    "start_time": "2022-10-16T11:59:31.626Z"
   },
   {
    "duration": 8,
    "start_time": "2022-10-16T11:59:31.976Z"
   },
   {
    "duration": 74,
    "start_time": "2022-10-16T11:59:31.986Z"
   },
   {
    "duration": 7,
    "start_time": "2022-10-16T11:59:32.062Z"
   },
   {
    "duration": 37,
    "start_time": "2022-10-16T11:59:32.071Z"
   },
   {
    "duration": 16,
    "start_time": "2022-10-16T11:59:32.110Z"
   },
   {
    "duration": 241,
    "start_time": "2022-10-16T11:59:32.128Z"
   },
   {
    "duration": 13,
    "start_time": "2022-10-16T11:59:32.371Z"
   },
   {
    "duration": 49,
    "start_time": "2022-10-18T15:56:03.097Z"
   },
   {
    "duration": 425,
    "start_time": "2022-10-18T15:56:13.228Z"
   },
   {
    "duration": 125,
    "start_time": "2022-10-18T15:56:13.655Z"
   },
   {
    "duration": 37,
    "start_time": "2022-10-18T15:56:13.782Z"
   },
   {
    "duration": 15,
    "start_time": "2022-10-18T15:56:13.822Z"
   },
   {
    "duration": 2491,
    "start_time": "2022-10-18T15:56:13.840Z"
   },
   {
    "duration": 10,
    "start_time": "2022-10-18T15:56:16.333Z"
   },
   {
    "duration": 38,
    "start_time": "2022-10-18T15:56:16.345Z"
   },
   {
    "duration": 119,
    "start_time": "2022-10-18T15:56:16.385Z"
   },
   {
    "duration": 21,
    "start_time": "2022-10-18T15:56:16.506Z"
   },
   {
    "duration": 169,
    "start_time": "2022-10-18T15:56:16.530Z"
   },
   {
    "duration": 4,
    "start_time": "2022-10-18T15:56:16.701Z"
   },
   {
    "duration": 15,
    "start_time": "2022-10-18T15:56:16.707Z"
   },
   {
    "duration": 5,
    "start_time": "2022-10-18T15:56:16.723Z"
   },
   {
    "duration": 7,
    "start_time": "2022-10-18T15:56:16.730Z"
   },
   {
    "duration": 11,
    "start_time": "2022-10-18T15:56:16.738Z"
   },
   {
    "duration": 8,
    "start_time": "2022-10-18T15:56:16.751Z"
   },
   {
    "duration": 9,
    "start_time": "2022-10-18T15:56:16.761Z"
   },
   {
    "duration": 8,
    "start_time": "2022-10-18T15:56:16.772Z"
   },
   {
    "duration": 52,
    "start_time": "2022-10-18T15:56:16.782Z"
   },
   {
    "duration": 5,
    "start_time": "2022-10-18T15:56:16.836Z"
   },
   {
    "duration": 17,
    "start_time": "2022-10-18T15:56:16.842Z"
   },
   {
    "duration": 15,
    "start_time": "2022-10-18T15:56:16.861Z"
   },
   {
    "duration": 70,
    "start_time": "2022-10-18T15:56:16.878Z"
   },
   {
    "duration": 3,
    "start_time": "2022-10-18T15:56:16.951Z"
   },
   {
    "duration": 15,
    "start_time": "2022-10-18T15:56:16.956Z"
   },
   {
    "duration": 35,
    "start_time": "2022-10-18T15:56:16.974Z"
   },
   {
    "duration": 13,
    "start_time": "2022-10-18T15:56:17.011Z"
   },
   {
    "duration": 21,
    "start_time": "2022-10-18T15:56:17.027Z"
   },
   {
    "duration": 6,
    "start_time": "2022-10-18T15:56:17.049Z"
   },
   {
    "duration": 18,
    "start_time": "2022-10-18T15:56:17.057Z"
   },
   {
    "duration": 7,
    "start_time": "2022-10-18T15:56:17.076Z"
   },
   {
    "duration": 12,
    "start_time": "2022-10-18T15:56:17.085Z"
   },
   {
    "duration": 37,
    "start_time": "2022-10-18T15:56:17.099Z"
   },
   {
    "duration": 28,
    "start_time": "2022-10-18T15:56:17.138Z"
   },
   {
    "duration": 11,
    "start_time": "2022-10-18T15:56:20.563Z"
   },
   {
    "duration": 55,
    "start_time": "2022-10-18T15:58:18.134Z"
   },
   {
    "duration": 104,
    "start_time": "2022-10-18T15:58:29.091Z"
   },
   {
    "duration": 22,
    "start_time": "2022-10-18T15:58:38.706Z"
   },
   {
    "duration": 20,
    "start_time": "2022-10-18T15:58:53.816Z"
   },
   {
    "duration": 12,
    "start_time": "2022-10-18T15:59:16.385Z"
   },
   {
    "duration": 8,
    "start_time": "2022-10-18T16:00:24.854Z"
   },
   {
    "duration": 8,
    "start_time": "2022-10-18T16:00:42.223Z"
   },
   {
    "duration": 6,
    "start_time": "2022-10-18T16:01:00.775Z"
   },
   {
    "duration": 7,
    "start_time": "2022-10-18T16:01:18.251Z"
   },
   {
    "duration": 6,
    "start_time": "2022-10-18T16:02:26.377Z"
   },
   {
    "duration": 9,
    "start_time": "2022-10-18T16:02:31.269Z"
   },
   {
    "duration": 6,
    "start_time": "2022-10-18T16:02:44.507Z"
   },
   {
    "duration": 9,
    "start_time": "2022-10-18T16:02:44.895Z"
   },
   {
    "duration": 9,
    "start_time": "2022-10-18T16:03:40.402Z"
   },
   {
    "duration": 4,
    "start_time": "2022-10-18T16:04:30.702Z"
   },
   {
    "duration": 10,
    "start_time": "2022-10-18T16:04:34.341Z"
   },
   {
    "duration": 185,
    "start_time": "2022-10-18T16:05:05.735Z"
   },
   {
    "duration": 190,
    "start_time": "2022-10-18T16:05:13.117Z"
   },
   {
    "duration": 180,
    "start_time": "2022-10-18T16:05:56.367Z"
   },
   {
    "duration": 9,
    "start_time": "2022-10-18T16:05:58.081Z"
   },
   {
    "duration": 5,
    "start_time": "2022-10-18T16:09:06.184Z"
   },
   {
    "duration": 231,
    "start_time": "2022-10-18T16:09:38.424Z"
   },
   {
    "duration": 4,
    "start_time": "2022-10-18T16:09:59.900Z"
   },
   {
    "duration": 182,
    "start_time": "2022-10-18T16:10:00.450Z"
   },
   {
    "duration": 4,
    "start_time": "2022-10-18T16:10:08.721Z"
   },
   {
    "duration": 187,
    "start_time": "2022-10-18T16:10:09.067Z"
   },
   {
    "duration": 9,
    "start_time": "2022-10-18T16:10:18.930Z"
   },
   {
    "duration": 161,
    "start_time": "2022-10-18T16:10:19.375Z"
   },
   {
    "duration": 6,
    "start_time": "2022-10-18T16:10:33.558Z"
   },
   {
    "duration": 182,
    "start_time": "2022-10-18T16:10:33.945Z"
   },
   {
    "duration": 440,
    "start_time": "2022-10-18T16:11:12.407Z"
   },
   {
    "duration": 89,
    "start_time": "2022-10-18T16:11:12.850Z"
   },
   {
    "duration": 40,
    "start_time": "2022-10-18T16:11:12.940Z"
   },
   {
    "duration": 18,
    "start_time": "2022-10-18T16:11:12.982Z"
   },
   {
    "duration": 2329,
    "start_time": "2022-10-18T16:11:13.002Z"
   },
   {
    "duration": 8,
    "start_time": "2022-10-18T16:11:15.333Z"
   },
   {
    "duration": 39,
    "start_time": "2022-10-18T16:11:15.343Z"
   },
   {
    "duration": 128,
    "start_time": "2022-10-18T16:11:15.384Z"
   },
   {
    "duration": 19,
    "start_time": "2022-10-18T16:11:15.513Z"
   },
   {
    "duration": 165,
    "start_time": "2022-10-18T16:11:15.535Z"
   },
   {
    "duration": 5,
    "start_time": "2022-10-18T16:11:15.702Z"
   },
   {
    "duration": 5,
    "start_time": "2022-10-18T16:11:15.721Z"
   },
   {
    "duration": 11,
    "start_time": "2022-10-18T16:11:15.728Z"
   },
   {
    "duration": 18,
    "start_time": "2022-10-18T16:11:15.741Z"
   },
   {
    "duration": 37,
    "start_time": "2022-10-18T16:11:15.761Z"
   },
   {
    "duration": 23,
    "start_time": "2022-10-18T16:11:15.800Z"
   },
   {
    "duration": 31,
    "start_time": "2022-10-18T16:11:15.825Z"
   },
   {
    "duration": 42,
    "start_time": "2022-10-18T16:11:15.858Z"
   },
   {
    "duration": 64,
    "start_time": "2022-10-18T16:11:15.902Z"
   },
   {
    "duration": 5,
    "start_time": "2022-10-18T16:11:15.968Z"
   },
   {
    "duration": 41,
    "start_time": "2022-10-18T16:11:15.975Z"
   },
   {
    "duration": 35,
    "start_time": "2022-10-18T16:11:16.018Z"
   },
   {
    "duration": 65,
    "start_time": "2022-10-18T16:11:16.054Z"
   },
   {
    "duration": 3,
    "start_time": "2022-10-18T16:11:16.121Z"
   },
   {
    "duration": 31,
    "start_time": "2022-10-18T16:11:16.126Z"
   },
   {
    "duration": 52,
    "start_time": "2022-10-18T16:11:16.159Z"
   },
   {
    "duration": 30,
    "start_time": "2022-10-18T16:11:16.213Z"
   },
   {
    "duration": 26,
    "start_time": "2022-10-18T16:11:16.248Z"
   },
   {
    "duration": 30,
    "start_time": "2022-10-18T16:11:16.276Z"
   },
   {
    "duration": 30,
    "start_time": "2022-10-18T16:11:16.308Z"
   },
   {
    "duration": 39,
    "start_time": "2022-10-18T16:11:16.340Z"
   },
   {
    "duration": 42,
    "start_time": "2022-10-18T16:11:16.380Z"
   },
   {
    "duration": 51,
    "start_time": "2022-10-18T16:11:16.424Z"
   },
   {
    "duration": 30,
    "start_time": "2022-10-18T16:11:16.477Z"
   },
   {
    "duration": 13,
    "start_time": "2022-10-18T16:11:16.509Z"
   },
   {
    "duration": 17,
    "start_time": "2022-10-18T16:11:16.524Z"
   },
   {
    "duration": 27,
    "start_time": "2022-10-18T16:11:16.542Z"
   },
   {
    "duration": 48,
    "start_time": "2022-10-18T16:11:16.571Z"
   },
   {
    "duration": 91,
    "start_time": "2022-10-18T16:11:16.621Z"
   },
   {
    "duration": 0,
    "start_time": "2022-10-18T16:11:16.714Z"
   },
   {
    "duration": 0,
    "start_time": "2022-10-18T16:11:16.715Z"
   },
   {
    "duration": 0,
    "start_time": "2022-10-18T16:11:16.716Z"
   },
   {
    "duration": 0,
    "start_time": "2022-10-18T16:11:16.718Z"
   },
   {
    "duration": 0,
    "start_time": "2022-10-18T16:11:16.719Z"
   },
   {
    "duration": 4,
    "start_time": "2022-10-18T16:11:26.344Z"
   },
   {
    "duration": 9,
    "start_time": "2022-10-18T16:11:26.522Z"
   },
   {
    "duration": 186,
    "start_time": "2022-10-18T16:11:26.694Z"
   },
   {
    "duration": 10,
    "start_time": "2022-10-18T16:11:27.523Z"
   },
   {
    "duration": 205,
    "start_time": "2022-10-18T16:11:27.900Z"
   },
   {
    "duration": 6,
    "start_time": "2022-10-18T16:11:31.066Z"
   },
   {
    "duration": 183,
    "start_time": "2022-10-18T16:11:31.689Z"
   },
   {
    "duration": 391,
    "start_time": "2022-10-18T16:12:13.583Z"
   },
   {
    "duration": 85,
    "start_time": "2022-10-18T16:12:13.975Z"
   },
   {
    "duration": 38,
    "start_time": "2022-10-18T16:12:14.062Z"
   },
   {
    "duration": 32,
    "start_time": "2022-10-18T16:12:14.103Z"
   },
   {
    "duration": 2346,
    "start_time": "2022-10-18T16:12:14.137Z"
   },
   {
    "duration": 8,
    "start_time": "2022-10-18T16:12:16.485Z"
   },
   {
    "duration": 29,
    "start_time": "2022-10-18T16:12:16.495Z"
   },
   {
    "duration": 149,
    "start_time": "2022-10-18T16:12:16.526Z"
   },
   {
    "duration": 15,
    "start_time": "2022-10-18T16:12:16.676Z"
   },
   {
    "duration": 173,
    "start_time": "2022-10-18T16:12:16.693Z"
   },
   {
    "duration": 5,
    "start_time": "2022-10-18T16:12:16.869Z"
   },
   {
    "duration": 19,
    "start_time": "2022-10-18T16:12:16.876Z"
   },
   {
    "duration": 9,
    "start_time": "2022-10-18T16:12:16.897Z"
   },
   {
    "duration": 14,
    "start_time": "2022-10-18T16:12:16.908Z"
   },
   {
    "duration": 5,
    "start_time": "2022-10-18T16:12:16.923Z"
   },
   {
    "duration": 10,
    "start_time": "2022-10-18T16:12:16.930Z"
   },
   {
    "duration": 6,
    "start_time": "2022-10-18T16:12:16.943Z"
   },
   {
    "duration": 9,
    "start_time": "2022-10-18T16:12:16.952Z"
   },
   {
    "duration": 57,
    "start_time": "2022-10-18T16:12:16.963Z"
   },
   {
    "duration": 7,
    "start_time": "2022-10-18T16:12:17.023Z"
   },
   {
    "duration": 13,
    "start_time": "2022-10-18T16:12:17.032Z"
   },
   {
    "duration": 19,
    "start_time": "2022-10-18T16:12:17.047Z"
   },
   {
    "duration": 78,
    "start_time": "2022-10-18T16:12:17.068Z"
   },
   {
    "duration": 4,
    "start_time": "2022-10-18T16:12:17.148Z"
   },
   {
    "duration": 24,
    "start_time": "2022-10-18T16:12:17.154Z"
   },
   {
    "duration": 47,
    "start_time": "2022-10-18T16:12:17.181Z"
   },
   {
    "duration": 9,
    "start_time": "2022-10-18T16:12:17.231Z"
   },
   {
    "duration": 20,
    "start_time": "2022-10-18T16:12:17.246Z"
   },
   {
    "duration": 8,
    "start_time": "2022-10-18T16:12:17.269Z"
   },
   {
    "duration": 44,
    "start_time": "2022-10-18T16:12:17.279Z"
   },
   {
    "duration": 6,
    "start_time": "2022-10-18T16:12:17.326Z"
   },
   {
    "duration": 17,
    "start_time": "2022-10-18T16:12:17.334Z"
   },
   {
    "duration": 22,
    "start_time": "2022-10-18T16:12:17.353Z"
   },
   {
    "duration": 53,
    "start_time": "2022-10-18T16:12:17.378Z"
   },
   {
    "duration": 10,
    "start_time": "2022-10-18T16:12:17.433Z"
   },
   {
    "duration": 7,
    "start_time": "2022-10-18T16:12:17.445Z"
   },
   {
    "duration": 18,
    "start_time": "2022-10-18T16:12:17.455Z"
   },
   {
    "duration": 10,
    "start_time": "2022-10-18T16:12:17.475Z"
   },
   {
    "duration": 36,
    "start_time": "2022-10-18T16:12:17.487Z"
   },
   {
    "duration": 10,
    "start_time": "2022-10-18T16:12:17.525Z"
   },
   {
    "duration": 197,
    "start_time": "2022-10-18T16:12:17.537Z"
   },
   {
    "duration": 9,
    "start_time": "2022-10-18T16:12:17.736Z"
   },
   {
    "duration": 195,
    "start_time": "2022-10-18T16:12:17.746Z"
   },
   {
    "duration": 5,
    "start_time": "2022-10-18T16:12:17.942Z"
   },
   {
    "duration": 6,
    "start_time": "2022-10-18T16:12:19.078Z"
   },
   {
    "duration": 145,
    "start_time": "2022-10-18T16:12:19.549Z"
   },
   {
    "duration": 370,
    "start_time": "2022-10-18T16:14:10.356Z"
   },
   {
    "duration": 82,
    "start_time": "2022-10-18T16:14:10.728Z"
   },
   {
    "duration": 36,
    "start_time": "2022-10-18T16:14:10.812Z"
   },
   {
    "duration": 15,
    "start_time": "2022-10-18T16:14:10.850Z"
   },
   {
    "duration": 2396,
    "start_time": "2022-10-18T16:14:10.867Z"
   },
   {
    "duration": 8,
    "start_time": "2022-10-18T16:14:13.266Z"
   },
   {
    "duration": 41,
    "start_time": "2022-10-18T16:14:13.276Z"
   },
   {
    "duration": 141,
    "start_time": "2022-10-18T16:14:13.318Z"
   },
   {
    "duration": 14,
    "start_time": "2022-10-18T16:14:13.461Z"
   },
   {
    "duration": 194,
    "start_time": "2022-10-18T16:14:13.477Z"
   },
   {
    "duration": 6,
    "start_time": "2022-10-18T16:14:13.673Z"
   },
   {
    "duration": 19,
    "start_time": "2022-10-18T16:14:13.681Z"
   },
   {
    "duration": 27,
    "start_time": "2022-10-18T16:14:13.702Z"
   },
   {
    "duration": 21,
    "start_time": "2022-10-18T16:14:13.732Z"
   },
   {
    "duration": 22,
    "start_time": "2022-10-18T16:14:13.755Z"
   },
   {
    "duration": 27,
    "start_time": "2022-10-18T16:14:13.779Z"
   },
   {
    "duration": 36,
    "start_time": "2022-10-18T16:14:13.809Z"
   },
   {
    "duration": 14,
    "start_time": "2022-10-18T16:14:13.847Z"
   },
   {
    "duration": 103,
    "start_time": "2022-10-18T16:14:13.864Z"
   },
   {
    "duration": 6,
    "start_time": "2022-10-18T16:14:13.968Z"
   },
   {
    "duration": 36,
    "start_time": "2022-10-18T16:14:13.977Z"
   },
   {
    "duration": 31,
    "start_time": "2022-10-18T16:14:14.015Z"
   },
   {
    "duration": 80,
    "start_time": "2022-10-18T16:14:14.048Z"
   },
   {
    "duration": 4,
    "start_time": "2022-10-18T16:14:14.129Z"
   },
   {
    "duration": 68,
    "start_time": "2022-10-18T16:14:14.135Z"
   },
   {
    "duration": 55,
    "start_time": "2022-10-18T16:14:14.205Z"
   },
   {
    "duration": 23,
    "start_time": "2022-10-18T16:14:14.262Z"
   },
   {
    "duration": 38,
    "start_time": "2022-10-18T16:14:14.289Z"
   },
   {
    "duration": 55,
    "start_time": "2022-10-18T16:14:14.329Z"
   },
   {
    "duration": 32,
    "start_time": "2022-10-18T16:14:14.386Z"
   },
   {
    "duration": 29,
    "start_time": "2022-10-18T16:14:14.419Z"
   },
   {
    "duration": 55,
    "start_time": "2022-10-18T16:14:14.450Z"
   },
   {
    "duration": 38,
    "start_time": "2022-10-18T16:14:14.507Z"
   },
   {
    "duration": 34,
    "start_time": "2022-10-18T16:14:14.547Z"
   },
   {
    "duration": 10,
    "start_time": "2022-10-18T16:14:14.583Z"
   },
   {
    "duration": 21,
    "start_time": "2022-10-18T16:14:14.594Z"
   },
   {
    "duration": 39,
    "start_time": "2022-10-18T16:14:14.616Z"
   },
   {
    "duration": 23,
    "start_time": "2022-10-18T16:14:14.657Z"
   },
   {
    "duration": 18,
    "start_time": "2022-10-18T16:14:14.682Z"
   },
   {
    "duration": 38,
    "start_time": "2022-10-18T16:14:14.701Z"
   },
   {
    "duration": 208,
    "start_time": "2022-10-18T16:14:14.741Z"
   },
   {
    "duration": 9,
    "start_time": "2022-10-18T16:14:14.950Z"
   },
   {
    "duration": 184,
    "start_time": "2022-10-18T16:14:14.961Z"
   },
   {
    "duration": 6,
    "start_time": "2022-10-18T16:14:17.942Z"
   },
   {
    "duration": 164,
    "start_time": "2022-10-18T16:14:19.696Z"
   },
   {
    "duration": 429,
    "start_time": "2022-10-18T16:15:53.296Z"
   },
   {
    "duration": 83,
    "start_time": "2022-10-18T16:15:53.727Z"
   },
   {
    "duration": 44,
    "start_time": "2022-10-18T16:15:53.812Z"
   },
   {
    "duration": 16,
    "start_time": "2022-10-18T16:15:53.858Z"
   },
   {
    "duration": 2355,
    "start_time": "2022-10-18T16:15:53.876Z"
   },
   {
    "duration": 10,
    "start_time": "2022-10-18T16:15:56.233Z"
   },
   {
    "duration": 30,
    "start_time": "2022-10-18T16:15:56.244Z"
   },
   {
    "duration": 129,
    "start_time": "2022-10-18T16:15:56.276Z"
   },
   {
    "duration": 20,
    "start_time": "2022-10-18T16:15:56.407Z"
   },
   {
    "duration": 169,
    "start_time": "2022-10-18T16:15:56.431Z"
   },
   {
    "duration": 6,
    "start_time": "2022-10-18T16:15:56.602Z"
   },
   {
    "duration": 10,
    "start_time": "2022-10-18T16:15:56.620Z"
   },
   {
    "duration": 16,
    "start_time": "2022-10-18T16:15:56.633Z"
   },
   {
    "duration": 9,
    "start_time": "2022-10-18T16:15:56.651Z"
   },
   {
    "duration": 20,
    "start_time": "2022-10-18T16:15:56.662Z"
   },
   {
    "duration": 14,
    "start_time": "2022-10-18T16:15:56.685Z"
   },
   {
    "duration": 6,
    "start_time": "2022-10-18T16:15:56.702Z"
   },
   {
    "duration": 12,
    "start_time": "2022-10-18T16:15:56.710Z"
   },
   {
    "duration": 48,
    "start_time": "2022-10-18T16:15:56.725Z"
   },
   {
    "duration": 5,
    "start_time": "2022-10-18T16:15:56.775Z"
   },
   {
    "duration": 35,
    "start_time": "2022-10-18T16:15:56.781Z"
   },
   {
    "duration": 22,
    "start_time": "2022-10-18T16:15:56.818Z"
   },
   {
    "duration": 53,
    "start_time": "2022-10-18T16:15:56.842Z"
   },
   {
    "duration": 4,
    "start_time": "2022-10-18T16:15:56.897Z"
   },
   {
    "duration": 23,
    "start_time": "2022-10-18T16:15:56.902Z"
   },
   {
    "duration": 37,
    "start_time": "2022-10-18T16:15:56.926Z"
   },
   {
    "duration": 11,
    "start_time": "2022-10-18T16:15:56.964Z"
   },
   {
    "duration": 13,
    "start_time": "2022-10-18T16:15:56.980Z"
   },
   {
    "duration": 6,
    "start_time": "2022-10-18T16:15:56.994Z"
   },
   {
    "duration": 29,
    "start_time": "2022-10-18T16:15:57.002Z"
   },
   {
    "duration": 4,
    "start_time": "2022-10-18T16:15:57.034Z"
   },
   {
    "duration": 28,
    "start_time": "2022-10-18T16:15:57.040Z"
   },
   {
    "duration": 16,
    "start_time": "2022-10-18T16:15:57.069Z"
   },
   {
    "duration": 46,
    "start_time": "2022-10-18T16:15:57.087Z"
   },
   {
    "duration": 8,
    "start_time": "2022-10-18T16:15:57.135Z"
   },
   {
    "duration": 6,
    "start_time": "2022-10-18T16:15:57.145Z"
   },
   {
    "duration": 14,
    "start_time": "2022-10-18T16:15:57.152Z"
   },
   {
    "duration": 8,
    "start_time": "2022-10-18T16:15:57.168Z"
   },
   {
    "duration": 7,
    "start_time": "2022-10-18T16:15:57.177Z"
   },
   {
    "duration": 37,
    "start_time": "2022-10-18T16:15:57.185Z"
   },
   {
    "duration": 182,
    "start_time": "2022-10-18T16:15:57.224Z"
   },
   {
    "duration": 15,
    "start_time": "2022-10-18T16:15:57.408Z"
   },
   {
    "duration": 220,
    "start_time": "2022-10-18T16:15:57.425Z"
   },
   {
    "duration": 5,
    "start_time": "2022-10-18T16:15:57.646Z"
   },
   {
    "duration": 211,
    "start_time": "2022-10-18T16:15:57.653Z"
   },
   {
    "duration": 4,
    "start_time": "2022-10-18T16:15:57.866Z"
   },
   {
    "duration": 19,
    "start_time": "2022-10-18T16:15:57.872Z"
   },
   {
    "duration": 29,
    "start_time": "2022-10-18T16:15:57.892Z"
   },
   {
    "duration": 16,
    "start_time": "2022-10-18T16:15:57.923Z"
   },
   {
    "duration": 7,
    "start_time": "2022-10-18T16:15:57.940Z"
   },
   {
    "duration": 9,
    "start_time": "2022-10-18T16:15:57.948Z"
   },
   {
    "duration": 30,
    "start_time": "2022-10-18T16:15:57.959Z"
   },
   {
    "duration": 45,
    "start_time": "2022-10-18T16:15:57.991Z"
   },
   {
    "duration": 14,
    "start_time": "2022-10-18T16:15:58.038Z"
   },
   {
    "duration": 380,
    "start_time": "2022-10-18T16:15:58.054Z"
   },
   {
    "duration": 271,
    "start_time": "2022-10-18T16:15:58.436Z"
   },
   {
    "duration": 346,
    "start_time": "2022-10-18T16:15:58.709Z"
   },
   {
    "duration": 1561,
    "start_time": "2022-10-18T16:15:59.058Z"
   },
   {
    "duration": 179,
    "start_time": "2022-10-18T16:16:00.621Z"
   },
   {
    "duration": 209,
    "start_time": "2022-10-18T16:16:00.802Z"
   },
   {
    "duration": 189,
    "start_time": "2022-10-18T16:16:01.013Z"
   },
   {
    "duration": 17,
    "start_time": "2022-10-18T16:16:01.204Z"
   },
   {
    "duration": 249,
    "start_time": "2022-10-18T16:16:01.223Z"
   },
   {
    "duration": 241,
    "start_time": "2022-10-18T16:16:01.474Z"
   },
   {
    "duration": 234,
    "start_time": "2022-10-18T16:16:01.720Z"
   },
   {
    "duration": 358,
    "start_time": "2022-10-18T16:16:01.956Z"
   },
   {
    "duration": 193,
    "start_time": "2022-10-18T16:16:02.320Z"
   },
   {
    "duration": 173,
    "start_time": "2022-10-18T16:16:02.522Z"
   },
   {
    "duration": 217,
    "start_time": "2022-10-18T16:16:02.697Z"
   },
   {
    "duration": 7,
    "start_time": "2022-10-18T16:16:02.916Z"
   },
   {
    "duration": 27,
    "start_time": "2022-10-18T16:16:02.925Z"
   },
   {
    "duration": 177,
    "start_time": "2022-10-18T16:16:02.954Z"
   },
   {
    "duration": 5,
    "start_time": "2022-10-18T16:16:03.134Z"
   },
   {
    "duration": 190,
    "start_time": "2022-10-18T16:16:03.140Z"
   },
   {
    "duration": 6,
    "start_time": "2022-10-18T16:16:03.332Z"
   },
   {
    "duration": 194,
    "start_time": "2022-10-18T16:16:03.340Z"
   },
   {
    "duration": 6,
    "start_time": "2022-10-18T16:16:03.536Z"
   },
   {
    "duration": 176,
    "start_time": "2022-10-18T16:16:03.544Z"
   },
   {
    "duration": 10,
    "start_time": "2022-10-18T16:16:03.722Z"
   },
   {
    "duration": 209,
    "start_time": "2022-10-18T16:16:03.734Z"
   },
   {
    "duration": 6,
    "start_time": "2022-10-18T16:16:03.944Z"
   },
   {
    "duration": 187,
    "start_time": "2022-10-18T16:16:03.955Z"
   },
   {
    "duration": 6,
    "start_time": "2022-10-18T16:16:04.144Z"
   },
   {
    "duration": 238,
    "start_time": "2022-10-18T16:16:04.152Z"
   },
   {
    "duration": 5,
    "start_time": "2022-10-18T16:16:04.392Z"
   },
   {
    "duration": 53,
    "start_time": "2022-10-18T16:16:04.399Z"
   },
   {
    "duration": 16,
    "start_time": "2022-10-18T16:16:04.454Z"
   },
   {
    "duration": 52,
    "start_time": "2022-10-18T16:16:04.472Z"
   },
   {
    "duration": 55,
    "start_time": "2022-10-18T16:16:04.526Z"
   },
   {
    "duration": 170,
    "start_time": "2022-10-18T16:16:04.583Z"
   },
   {
    "duration": 5,
    "start_time": "2022-10-18T16:16:04.755Z"
   },
   {
    "duration": 539,
    "start_time": "2022-10-18T16:17:51.225Z"
   },
   {
    "duration": 101,
    "start_time": "2022-10-18T16:17:51.767Z"
   },
   {
    "duration": 59,
    "start_time": "2022-10-18T16:17:51.870Z"
   },
   {
    "duration": 19,
    "start_time": "2022-10-18T16:17:51.932Z"
   },
   {
    "duration": 2422,
    "start_time": "2022-10-18T16:17:51.953Z"
   },
   {
    "duration": 12,
    "start_time": "2022-10-18T16:17:54.378Z"
   },
   {
    "duration": 27,
    "start_time": "2022-10-18T16:17:54.391Z"
   },
   {
    "duration": 134,
    "start_time": "2022-10-18T16:17:54.421Z"
   },
   {
    "duration": 16,
    "start_time": "2022-10-18T16:17:54.556Z"
   },
   {
    "duration": 193,
    "start_time": "2022-10-18T16:17:54.575Z"
   },
   {
    "duration": 5,
    "start_time": "2022-10-18T16:17:54.771Z"
   },
   {
    "duration": 11,
    "start_time": "2022-10-18T16:17:54.778Z"
   },
   {
    "duration": 11,
    "start_time": "2022-10-18T16:17:54.791Z"
   },
   {
    "duration": 19,
    "start_time": "2022-10-18T16:17:54.803Z"
   },
   {
    "duration": 13,
    "start_time": "2022-10-18T16:17:54.824Z"
   },
   {
    "duration": 16,
    "start_time": "2022-10-18T16:17:54.840Z"
   },
   {
    "duration": 18,
    "start_time": "2022-10-18T16:17:54.857Z"
   },
   {
    "duration": 22,
    "start_time": "2022-10-18T16:17:54.877Z"
   },
   {
    "duration": 41,
    "start_time": "2022-10-18T16:17:54.901Z"
   },
   {
    "duration": 4,
    "start_time": "2022-10-18T16:17:54.944Z"
   },
   {
    "duration": 15,
    "start_time": "2022-10-18T16:17:54.950Z"
   },
   {
    "duration": 19,
    "start_time": "2022-10-18T16:17:54.967Z"
   },
   {
    "duration": 82,
    "start_time": "2022-10-18T16:17:54.988Z"
   },
   {
    "duration": 4,
    "start_time": "2022-10-18T16:17:55.072Z"
   },
   {
    "duration": 20,
    "start_time": "2022-10-18T16:17:55.078Z"
   },
   {
    "duration": 42,
    "start_time": "2022-10-18T16:17:55.100Z"
   },
   {
    "duration": 7,
    "start_time": "2022-10-18T16:17:55.144Z"
   },
   {
    "duration": 18,
    "start_time": "2022-10-18T16:17:55.157Z"
   },
   {
    "duration": 7,
    "start_time": "2022-10-18T16:17:55.177Z"
   },
   {
    "duration": 35,
    "start_time": "2022-10-18T16:17:55.186Z"
   },
   {
    "duration": 5,
    "start_time": "2022-10-18T16:17:55.223Z"
   },
   {
    "duration": 20,
    "start_time": "2022-10-18T16:17:55.229Z"
   },
   {
    "duration": 18,
    "start_time": "2022-10-18T16:17:55.251Z"
   },
   {
    "duration": 28,
    "start_time": "2022-10-18T16:17:55.270Z"
   },
   {
    "duration": 8,
    "start_time": "2022-10-18T16:17:55.321Z"
   },
   {
    "duration": 19,
    "start_time": "2022-10-18T16:17:55.331Z"
   },
   {
    "duration": 13,
    "start_time": "2022-10-18T16:17:55.351Z"
   },
   {
    "duration": 18,
    "start_time": "2022-10-18T16:17:55.366Z"
   },
   {
    "duration": 10,
    "start_time": "2022-10-18T16:17:55.386Z"
   },
   {
    "duration": 19,
    "start_time": "2022-10-18T16:17:55.397Z"
   },
   {
    "duration": 171,
    "start_time": "2022-10-18T16:17:55.417Z"
   },
   {
    "duration": 9,
    "start_time": "2022-10-18T16:17:55.590Z"
   },
   {
    "duration": 180,
    "start_time": "2022-10-18T16:17:55.602Z"
   },
   {
    "duration": 9,
    "start_time": "2022-10-18T16:17:55.784Z"
   },
   {
    "duration": 180,
    "start_time": "2022-10-18T16:17:55.795Z"
   },
   {
    "duration": 5,
    "start_time": "2022-10-18T16:17:55.977Z"
   },
   {
    "duration": 31,
    "start_time": "2022-10-18T16:17:55.983Z"
   },
   {
    "duration": 14,
    "start_time": "2022-10-18T16:17:56.017Z"
   },
   {
    "duration": 11,
    "start_time": "2022-10-18T16:17:56.033Z"
   },
   {
    "duration": 26,
    "start_time": "2022-10-18T16:17:56.046Z"
   },
   {
    "duration": 21,
    "start_time": "2022-10-18T16:17:56.074Z"
   },
   {
    "duration": 53,
    "start_time": "2022-10-18T16:17:56.096Z"
   },
   {
    "duration": 30,
    "start_time": "2022-10-18T16:17:56.151Z"
   },
   {
    "duration": 15,
    "start_time": "2022-10-18T16:17:56.183Z"
   },
   {
    "duration": 399,
    "start_time": "2022-10-18T16:17:56.200Z"
   },
   {
    "duration": 271,
    "start_time": "2022-10-18T16:17:56.601Z"
   },
   {
    "duration": 268,
    "start_time": "2022-10-18T16:17:56.874Z"
   },
   {
    "duration": 1606,
    "start_time": "2022-10-18T16:17:57.143Z"
   },
   {
    "duration": 227,
    "start_time": "2022-10-18T16:17:58.751Z"
   },
   {
    "duration": 274,
    "start_time": "2022-10-18T16:17:58.981Z"
   },
   {
    "duration": 222,
    "start_time": "2022-10-18T16:17:59.256Z"
   },
   {
    "duration": 8,
    "start_time": "2022-10-18T16:17:59.480Z"
   },
   {
    "duration": 259,
    "start_time": "2022-10-18T16:17:59.490Z"
   },
   {
    "duration": 229,
    "start_time": "2022-10-18T16:17:59.751Z"
   },
   {
    "duration": 374,
    "start_time": "2022-10-18T16:17:59.982Z"
   },
   {
    "duration": 206,
    "start_time": "2022-10-18T16:18:00.358Z"
   },
   {
    "duration": 175,
    "start_time": "2022-10-18T16:18:00.566Z"
   },
   {
    "duration": 163,
    "start_time": "2022-10-18T16:18:00.744Z"
   },
   {
    "duration": 187,
    "start_time": "2022-10-18T16:18:00.909Z"
   },
   {
    "duration": 5,
    "start_time": "2022-10-18T16:18:01.098Z"
   },
   {
    "duration": 74,
    "start_time": "2022-10-18T16:18:01.105Z"
   },
   {
    "duration": 268,
    "start_time": "2022-10-18T16:18:01.181Z"
   },
   {
    "duration": 5,
    "start_time": "2022-10-18T16:18:01.451Z"
   },
   {
    "duration": 289,
    "start_time": "2022-10-18T16:18:01.457Z"
   },
   {
    "duration": 8,
    "start_time": "2022-10-18T16:18:01.748Z"
   },
   {
    "duration": 265,
    "start_time": "2022-10-18T16:18:01.758Z"
   },
   {
    "duration": 6,
    "start_time": "2022-10-18T16:18:02.024Z"
   },
   {
    "duration": 278,
    "start_time": "2022-10-18T16:18:02.032Z"
   },
   {
    "duration": 13,
    "start_time": "2022-10-18T16:18:02.312Z"
   },
   {
    "duration": 237,
    "start_time": "2022-10-18T16:18:02.327Z"
   },
   {
    "duration": 6,
    "start_time": "2022-10-18T16:18:02.566Z"
   },
   {
    "duration": 318,
    "start_time": "2022-10-18T16:18:02.577Z"
   },
   {
    "duration": 6,
    "start_time": "2022-10-18T16:18:02.897Z"
   },
   {
    "duration": 265,
    "start_time": "2022-10-18T16:18:02.905Z"
   },
   {
    "duration": 6,
    "start_time": "2022-10-18T16:18:03.171Z"
   },
   {
    "duration": 42,
    "start_time": "2022-10-18T16:18:03.179Z"
   },
   {
    "duration": 7,
    "start_time": "2022-10-18T16:18:03.223Z"
   },
   {
    "duration": 7,
    "start_time": "2022-10-18T16:18:03.232Z"
   },
   {
    "duration": 18,
    "start_time": "2022-10-18T16:18:03.240Z"
   },
   {
    "duration": 221,
    "start_time": "2022-10-18T16:18:03.260Z"
   },
   {
    "duration": 6,
    "start_time": "2022-10-18T16:18:03.482Z"
   },
   {
    "duration": 407,
    "start_time": "2022-10-18T17:17:54.339Z"
   },
   {
    "duration": 82,
    "start_time": "2022-10-18T17:17:54.748Z"
   },
   {
    "duration": 38,
    "start_time": "2022-10-18T17:17:54.832Z"
   },
   {
    "duration": 15,
    "start_time": "2022-10-18T17:17:54.872Z"
   },
   {
    "duration": 2243,
    "start_time": "2022-10-18T17:17:54.888Z"
   },
   {
    "duration": 10,
    "start_time": "2022-10-18T17:17:57.133Z"
   },
   {
    "duration": 37,
    "start_time": "2022-10-18T17:17:57.145Z"
   },
   {
    "duration": 112,
    "start_time": "2022-10-18T17:17:57.184Z"
   },
   {
    "duration": 23,
    "start_time": "2022-10-18T17:17:57.298Z"
   },
   {
    "duration": 164,
    "start_time": "2022-10-18T17:17:57.323Z"
   },
   {
    "duration": 4,
    "start_time": "2022-10-18T17:17:57.489Z"
   },
   {
    "duration": 30,
    "start_time": "2022-10-18T17:17:57.495Z"
   },
   {
    "duration": 26,
    "start_time": "2022-10-18T17:17:57.526Z"
   },
   {
    "duration": 19,
    "start_time": "2022-10-18T17:17:57.554Z"
   },
   {
    "duration": 7,
    "start_time": "2022-10-18T17:17:57.575Z"
   },
   {
    "duration": 13,
    "start_time": "2022-10-18T17:17:57.584Z"
   },
   {
    "duration": 20,
    "start_time": "2022-10-18T17:17:57.599Z"
   },
   {
    "duration": 12,
    "start_time": "2022-10-18T17:17:57.621Z"
   },
   {
    "duration": 44,
    "start_time": "2022-10-18T17:17:57.635Z"
   },
   {
    "duration": 5,
    "start_time": "2022-10-18T17:17:57.680Z"
   },
   {
    "duration": 16,
    "start_time": "2022-10-18T17:17:57.686Z"
   },
   {
    "duration": 32,
    "start_time": "2022-10-18T17:17:57.704Z"
   },
   {
    "duration": 64,
    "start_time": "2022-10-18T17:17:57.738Z"
   },
   {
    "duration": 4,
    "start_time": "2022-10-18T17:17:57.804Z"
   },
   {
    "duration": 29,
    "start_time": "2022-10-18T17:17:57.810Z"
   },
   {
    "duration": 44,
    "start_time": "2022-10-18T17:17:57.841Z"
   },
   {
    "duration": 18,
    "start_time": "2022-10-18T17:17:57.886Z"
   },
   {
    "duration": 16,
    "start_time": "2022-10-18T17:17:57.909Z"
   },
   {
    "duration": 7,
    "start_time": "2022-10-18T17:17:57.927Z"
   },
   {
    "duration": 36,
    "start_time": "2022-10-18T17:17:57.936Z"
   },
   {
    "duration": 17,
    "start_time": "2022-10-18T17:17:57.974Z"
   },
   {
    "duration": 35,
    "start_time": "2022-10-18T17:17:57.993Z"
   },
   {
    "duration": 18,
    "start_time": "2022-10-18T17:17:58.029Z"
   },
   {
    "duration": 26,
    "start_time": "2022-10-18T17:17:58.049Z"
   },
   {
    "duration": 8,
    "start_time": "2022-10-18T17:17:58.077Z"
   },
   {
    "duration": 33,
    "start_time": "2022-10-18T17:17:58.087Z"
   },
   {
    "duration": 9,
    "start_time": "2022-10-18T17:17:58.122Z"
   },
   {
    "duration": 8,
    "start_time": "2022-10-18T17:17:58.132Z"
   },
   {
    "duration": 9,
    "start_time": "2022-10-18T17:17:58.142Z"
   },
   {
    "duration": 7,
    "start_time": "2022-10-18T17:17:58.153Z"
   },
   {
    "duration": 200,
    "start_time": "2022-10-18T17:17:58.162Z"
   },
   {
    "duration": 8,
    "start_time": "2022-10-18T17:17:58.363Z"
   },
   {
    "duration": 178,
    "start_time": "2022-10-18T17:17:58.373Z"
   },
   {
    "duration": 6,
    "start_time": "2022-10-18T17:17:58.553Z"
   },
   {
    "duration": 163,
    "start_time": "2022-10-18T17:17:58.561Z"
   },
   {
    "duration": 4,
    "start_time": "2022-10-18T17:17:58.726Z"
   },
   {
    "duration": 12,
    "start_time": "2022-10-18T17:17:58.731Z"
   },
   {
    "duration": 14,
    "start_time": "2022-10-18T17:17:58.745Z"
   },
   {
    "duration": 6,
    "start_time": "2022-10-18T17:17:58.760Z"
   },
   {
    "duration": 10,
    "start_time": "2022-10-18T17:17:58.767Z"
   },
   {
    "duration": 11,
    "start_time": "2022-10-18T17:17:58.779Z"
   },
   {
    "duration": 79,
    "start_time": "2022-10-18T17:17:58.791Z"
   },
   {
    "duration": 33,
    "start_time": "2022-10-18T17:17:58.872Z"
   },
   {
    "duration": 48,
    "start_time": "2022-10-18T17:17:58.907Z"
   },
   {
    "duration": 403,
    "start_time": "2022-10-18T17:17:58.957Z"
   },
   {
    "duration": 265,
    "start_time": "2022-10-18T17:17:59.361Z"
   },
   {
    "duration": 265,
    "start_time": "2022-10-18T17:17:59.628Z"
   },
   {
    "duration": 1458,
    "start_time": "2022-10-18T17:17:59.895Z"
   },
   {
    "duration": 173,
    "start_time": "2022-10-18T17:18:01.355Z"
   },
   {
    "duration": 210,
    "start_time": "2022-10-18T17:18:01.530Z"
   },
   {
    "duration": 203,
    "start_time": "2022-10-18T17:18:01.742Z"
   },
   {
    "duration": 6,
    "start_time": "2022-10-18T17:18:01.947Z"
   },
   {
    "duration": 220,
    "start_time": "2022-10-18T17:18:01.955Z"
   },
   {
    "duration": 212,
    "start_time": "2022-10-18T17:18:02.177Z"
   },
   {
    "duration": 360,
    "start_time": "2022-10-18T17:18:02.391Z"
   },
   {
    "duration": 199,
    "start_time": "2022-10-18T17:18:02.752Z"
   },
   {
    "duration": 176,
    "start_time": "2022-10-18T17:18:02.953Z"
   },
   {
    "duration": 164,
    "start_time": "2022-10-18T17:18:03.131Z"
   },
   {
    "duration": 177,
    "start_time": "2022-10-18T17:18:03.296Z"
   },
   {
    "duration": 4,
    "start_time": "2022-10-18T17:18:03.475Z"
   },
   {
    "duration": 11,
    "start_time": "2022-10-18T17:18:03.480Z"
   },
   {
    "duration": 253,
    "start_time": "2022-10-18T17:18:03.492Z"
   },
   {
    "duration": 6,
    "start_time": "2022-10-18T17:18:03.747Z"
   },
   {
    "duration": 234,
    "start_time": "2022-10-18T17:18:03.755Z"
   },
   {
    "duration": 6,
    "start_time": "2022-10-18T17:18:03.991Z"
   },
   {
    "duration": 222,
    "start_time": "2022-10-18T17:18:03.998Z"
   },
   {
    "duration": 6,
    "start_time": "2022-10-18T17:18:04.222Z"
   },
   {
    "duration": 228,
    "start_time": "2022-10-18T17:18:04.230Z"
   },
   {
    "duration": 6,
    "start_time": "2022-10-18T17:18:04.460Z"
   },
   {
    "duration": 244,
    "start_time": "2022-10-18T17:18:04.468Z"
   },
   {
    "duration": 10,
    "start_time": "2022-10-18T17:18:04.714Z"
   },
   {
    "duration": 269,
    "start_time": "2022-10-18T17:18:04.729Z"
   },
   {
    "duration": 6,
    "start_time": "2022-10-18T17:18:05.000Z"
   },
   {
    "duration": 324,
    "start_time": "2022-10-18T17:18:05.007Z"
   },
   {
    "duration": 5,
    "start_time": "2022-10-18T17:18:05.333Z"
   },
   {
    "duration": 40,
    "start_time": "2022-10-18T17:18:05.340Z"
   },
   {
    "duration": 7,
    "start_time": "2022-10-18T17:18:05.381Z"
   },
   {
    "duration": 14,
    "start_time": "2022-10-18T17:18:05.389Z"
   },
   {
    "duration": 28,
    "start_time": "2022-10-18T17:18:05.404Z"
   },
   {
    "duration": 203,
    "start_time": "2022-10-18T17:18:05.434Z"
   },
   {
    "duration": 5,
    "start_time": "2022-10-18T17:18:05.639Z"
   },
   {
    "duration": 5370,
    "start_time": "2022-10-18T17:21:24.295Z"
   },
   {
    "duration": 411,
    "start_time": "2022-10-18T17:21:49.480Z"
   },
   {
    "duration": 7,
    "start_time": "2022-10-18T17:22:52.388Z"
   },
   {
    "duration": 6,
    "start_time": "2022-10-18T17:23:07.126Z"
   },
   {
    "duration": 128,
    "start_time": "2022-10-18T17:23:28.577Z"
   },
   {
    "duration": 129,
    "start_time": "2022-10-18T17:23:40.011Z"
   },
   {
    "duration": 155,
    "start_time": "2022-10-18T17:24:03.910Z"
   },
   {
    "duration": 6,
    "start_time": "2022-10-18T17:26:15.863Z"
   },
   {
    "duration": 154,
    "start_time": "2022-10-18T17:30:23.497Z"
   },
   {
    "duration": 132,
    "start_time": "2022-10-18T17:30:51.232Z"
   },
   {
    "duration": 140,
    "start_time": "2022-10-18T17:34:46.529Z"
   },
   {
    "duration": 175,
    "start_time": "2022-10-18T17:35:20.032Z"
   },
   {
    "duration": 156,
    "start_time": "2022-10-18T17:35:29.860Z"
   },
   {
    "duration": 160,
    "start_time": "2022-10-18T17:35:35.413Z"
   },
   {
    "duration": 158,
    "start_time": "2022-10-18T17:36:21.230Z"
   },
   {
    "duration": 162,
    "start_time": "2022-10-18T17:36:43.564Z"
   },
   {
    "duration": 361,
    "start_time": "2022-10-18T17:37:05.950Z"
   },
   {
    "duration": 150,
    "start_time": "2022-10-18T17:37:25.628Z"
   },
   {
    "duration": 142,
    "start_time": "2022-10-18T17:37:34.132Z"
   },
   {
    "duration": 145,
    "start_time": "2022-10-18T17:37:44.710Z"
   },
   {
    "duration": 146,
    "start_time": "2022-10-18T17:38:02.351Z"
   },
   {
    "duration": 161,
    "start_time": "2022-10-18T17:38:10.672Z"
   },
   {
    "duration": 153,
    "start_time": "2022-10-18T17:38:16.223Z"
   },
   {
    "duration": 190,
    "start_time": "2022-10-18T17:42:51.510Z"
   },
   {
    "duration": 5,
    "start_time": "2022-10-18T17:50:29.591Z"
   },
   {
    "duration": 4,
    "start_time": "2022-10-18T17:51:12.089Z"
   },
   {
    "duration": 24,
    "start_time": "2022-10-18T17:51:41.650Z"
   },
   {
    "duration": 39,
    "start_time": "2022-10-18T17:51:49.217Z"
   },
   {
    "duration": 127,
    "start_time": "2022-10-18T17:52:39.381Z"
   },
   {
    "duration": 123,
    "start_time": "2022-10-18T17:54:00.704Z"
   },
   {
    "duration": 50,
    "start_time": "2022-10-18T17:55:37.494Z"
   },
   {
    "duration": 48,
    "start_time": "2022-10-18T17:59:37.596Z"
   },
   {
    "duration": 222,
    "start_time": "2022-10-18T18:09:27.023Z"
   },
   {
    "duration": 398,
    "start_time": "2022-10-18T18:16:15.351Z"
   },
   {
    "duration": 86,
    "start_time": "2022-10-18T18:16:15.751Z"
   },
   {
    "duration": 40,
    "start_time": "2022-10-18T18:16:15.839Z"
   },
   {
    "duration": 15,
    "start_time": "2022-10-18T18:16:15.881Z"
   },
   {
    "duration": 2294,
    "start_time": "2022-10-18T18:16:15.897Z"
   },
   {
    "duration": 11,
    "start_time": "2022-10-18T18:16:18.193Z"
   },
   {
    "duration": 36,
    "start_time": "2022-10-18T18:16:18.207Z"
   },
   {
    "duration": 126,
    "start_time": "2022-10-18T18:16:18.245Z"
   },
   {
    "duration": 15,
    "start_time": "2022-10-18T18:16:18.373Z"
   },
   {
    "duration": 184,
    "start_time": "2022-10-18T18:16:18.391Z"
   },
   {
    "duration": 5,
    "start_time": "2022-10-18T18:16:18.577Z"
   },
   {
    "duration": 12,
    "start_time": "2022-10-18T18:16:18.584Z"
   },
   {
    "duration": 5,
    "start_time": "2022-10-18T18:16:18.598Z"
   },
   {
    "duration": 16,
    "start_time": "2022-10-18T18:16:18.605Z"
   },
   {
    "duration": 4,
    "start_time": "2022-10-18T18:16:18.623Z"
   },
   {
    "duration": 7,
    "start_time": "2022-10-18T18:16:18.629Z"
   },
   {
    "duration": 6,
    "start_time": "2022-10-18T18:16:18.637Z"
   },
   {
    "duration": 11,
    "start_time": "2022-10-18T18:16:18.645Z"
   },
   {
    "duration": 64,
    "start_time": "2022-10-18T18:16:18.658Z"
   },
   {
    "duration": 9,
    "start_time": "2022-10-18T18:16:18.725Z"
   },
   {
    "duration": 25,
    "start_time": "2022-10-18T18:16:18.736Z"
   },
   {
    "duration": 26,
    "start_time": "2022-10-18T18:16:18.764Z"
   },
   {
    "duration": 59,
    "start_time": "2022-10-18T18:16:18.792Z"
   },
   {
    "duration": 5,
    "start_time": "2022-10-18T18:16:18.853Z"
   },
   {
    "duration": 34,
    "start_time": "2022-10-18T18:16:18.861Z"
   },
   {
    "duration": 32,
    "start_time": "2022-10-18T18:16:18.897Z"
   },
   {
    "duration": 8,
    "start_time": "2022-10-18T18:16:18.931Z"
   },
   {
    "duration": 30,
    "start_time": "2022-10-18T18:16:18.945Z"
   },
   {
    "duration": 19,
    "start_time": "2022-10-18T18:16:18.977Z"
   },
   {
    "duration": 42,
    "start_time": "2022-10-18T18:16:18.998Z"
   },
   {
    "duration": 4,
    "start_time": "2022-10-18T18:16:19.043Z"
   },
   {
    "duration": 27,
    "start_time": "2022-10-18T18:16:19.049Z"
   },
   {
    "duration": 32,
    "start_time": "2022-10-18T18:16:19.078Z"
   },
   {
    "duration": 33,
    "start_time": "2022-10-18T18:16:19.112Z"
   },
   {
    "duration": 10,
    "start_time": "2022-10-18T18:16:19.147Z"
   },
   {
    "duration": 14,
    "start_time": "2022-10-18T18:16:19.159Z"
   },
   {
    "duration": 41,
    "start_time": "2022-10-18T18:16:19.176Z"
   },
   {
    "duration": 14,
    "start_time": "2022-10-18T18:16:19.219Z"
   },
   {
    "duration": 9,
    "start_time": "2022-10-18T18:16:19.235Z"
   },
   {
    "duration": 9,
    "start_time": "2022-10-18T18:16:19.246Z"
   },
   {
    "duration": 191,
    "start_time": "2022-10-18T18:16:19.256Z"
   },
   {
    "duration": 9,
    "start_time": "2022-10-18T18:16:19.449Z"
   },
   {
    "duration": 208,
    "start_time": "2022-10-18T18:16:19.460Z"
   },
   {
    "duration": 7,
    "start_time": "2022-10-18T18:16:19.669Z"
   },
   {
    "duration": 206,
    "start_time": "2022-10-18T18:16:19.678Z"
   },
   {
    "duration": 5,
    "start_time": "2022-10-18T18:16:19.886Z"
   },
   {
    "duration": 38,
    "start_time": "2022-10-18T18:16:19.893Z"
   },
   {
    "duration": 40,
    "start_time": "2022-10-18T18:16:19.933Z"
   },
   {
    "duration": 11,
    "start_time": "2022-10-18T18:16:19.975Z"
   },
   {
    "duration": 27,
    "start_time": "2022-10-18T18:16:19.988Z"
   },
   {
    "duration": 48,
    "start_time": "2022-10-18T18:16:20.016Z"
   },
   {
    "duration": 79,
    "start_time": "2022-10-18T18:16:20.066Z"
   },
   {
    "duration": 34,
    "start_time": "2022-10-18T18:16:20.146Z"
   },
   {
    "duration": 38,
    "start_time": "2022-10-18T18:16:20.181Z"
   },
   {
    "duration": 378,
    "start_time": "2022-10-18T18:16:20.221Z"
   },
   {
    "duration": 272,
    "start_time": "2022-10-18T18:16:20.601Z"
   },
   {
    "duration": 283,
    "start_time": "2022-10-18T18:16:20.875Z"
   },
   {
    "duration": 1476,
    "start_time": "2022-10-18T18:16:21.159Z"
   },
   {
    "duration": 183,
    "start_time": "2022-10-18T18:16:22.637Z"
   },
   {
    "duration": 202,
    "start_time": "2022-10-18T18:16:22.822Z"
   },
   {
    "duration": 228,
    "start_time": "2022-10-18T18:16:23.026Z"
   },
   {
    "duration": 7,
    "start_time": "2022-10-18T18:16:23.256Z"
   },
   {
    "duration": 218,
    "start_time": "2022-10-18T18:16:23.264Z"
   },
   {
    "duration": 348,
    "start_time": "2022-10-18T18:16:23.483Z"
   },
   {
    "duration": 227,
    "start_time": "2022-10-18T18:16:23.833Z"
   },
   {
    "duration": 208,
    "start_time": "2022-10-18T18:16:24.062Z"
   },
   {
    "duration": 170,
    "start_time": "2022-10-18T18:16:24.272Z"
   },
   {
    "duration": 158,
    "start_time": "2022-10-18T18:16:24.443Z"
   },
   {
    "duration": 183,
    "start_time": "2022-10-18T18:16:24.603Z"
   },
   {
    "duration": 4,
    "start_time": "2022-10-18T18:16:24.788Z"
   },
   {
    "duration": 6,
    "start_time": "2022-10-18T18:16:24.793Z"
   },
   {
    "duration": 256,
    "start_time": "2022-10-18T18:16:24.801Z"
   },
   {
    "duration": 6,
    "start_time": "2022-10-18T18:16:25.059Z"
   },
   {
    "duration": 241,
    "start_time": "2022-10-18T18:16:25.067Z"
   },
   {
    "duration": 12,
    "start_time": "2022-10-18T18:16:25.310Z"
   },
   {
    "duration": 225,
    "start_time": "2022-10-18T18:16:25.324Z"
   },
   {
    "duration": 6,
    "start_time": "2022-10-18T18:16:25.551Z"
   },
   {
    "duration": 164,
    "start_time": "2022-10-18T18:16:25.558Z"
   },
   {
    "duration": 6,
    "start_time": "2022-10-18T18:16:25.723Z"
   },
   {
    "duration": 148,
    "start_time": "2022-10-18T18:16:25.730Z"
   },
   {
    "duration": 158,
    "start_time": "2022-10-18T18:16:25.880Z"
   },
   {
    "duration": 5,
    "start_time": "2022-10-18T18:16:26.044Z"
   },
   {
    "duration": 180,
    "start_time": "2022-10-18T18:16:26.051Z"
   },
   {
    "duration": 5,
    "start_time": "2022-10-18T18:16:26.233Z"
   },
   {
    "duration": 163,
    "start_time": "2022-10-18T18:16:26.240Z"
   },
   {
    "duration": 6,
    "start_time": "2022-10-18T18:16:26.405Z"
   },
   {
    "duration": 36,
    "start_time": "2022-10-18T18:16:26.421Z"
   },
   {
    "duration": 6,
    "start_time": "2022-10-18T18:16:26.459Z"
   },
   {
    "duration": 10,
    "start_time": "2022-10-18T18:16:26.467Z"
   },
   {
    "duration": 16,
    "start_time": "2022-10-18T18:16:26.479Z"
   },
   {
    "duration": 153,
    "start_time": "2022-10-18T18:16:26.496Z"
   },
   {
    "duration": 5,
    "start_time": "2022-10-18T18:16:26.651Z"
   },
   {
    "duration": 3,
    "start_time": "2022-10-18T18:22:36.497Z"
   },
   {
    "duration": 94,
    "start_time": "2022-10-18T18:22:36.502Z"
   },
   {
    "duration": 33,
    "start_time": "2022-10-18T18:22:36.620Z"
   },
   {
    "duration": 14,
    "start_time": "2022-10-18T18:22:36.656Z"
   },
   {
    "duration": 2156,
    "start_time": "2022-10-18T18:22:36.671Z"
   },
   {
    "duration": 9,
    "start_time": "2022-10-18T18:22:38.829Z"
   },
   {
    "duration": 37,
    "start_time": "2022-10-18T18:22:38.839Z"
   },
   {
    "duration": 181,
    "start_time": "2022-10-18T18:22:38.878Z"
   },
   {
    "duration": 15,
    "start_time": "2022-10-18T18:22:39.063Z"
   },
   {
    "duration": 180,
    "start_time": "2022-10-18T18:22:39.080Z"
   },
   {
    "duration": 6,
    "start_time": "2022-10-18T18:22:39.261Z"
   },
   {
    "duration": 32,
    "start_time": "2022-10-18T18:22:39.268Z"
   },
   {
    "duration": 18,
    "start_time": "2022-10-18T18:22:39.302Z"
   },
   {
    "duration": 33,
    "start_time": "2022-10-18T18:22:39.322Z"
   },
   {
    "duration": 24,
    "start_time": "2022-10-18T18:22:39.357Z"
   },
   {
    "duration": 31,
    "start_time": "2022-10-18T18:22:39.383Z"
   },
   {
    "duration": 16,
    "start_time": "2022-10-18T18:22:39.416Z"
   },
   {
    "duration": 23,
    "start_time": "2022-10-18T18:22:39.434Z"
   },
   {
    "duration": 42,
    "start_time": "2022-10-18T18:22:39.459Z"
   },
   {
    "duration": 5,
    "start_time": "2022-10-18T18:22:39.504Z"
   },
   {
    "duration": 11,
    "start_time": "2022-10-18T18:22:39.510Z"
   },
   {
    "duration": 40,
    "start_time": "2022-10-18T18:22:39.523Z"
   },
   {
    "duration": 55,
    "start_time": "2022-10-18T18:22:39.565Z"
   },
   {
    "duration": 3,
    "start_time": "2022-10-18T18:22:39.626Z"
   },
   {
    "duration": 21,
    "start_time": "2022-10-18T18:22:39.631Z"
   },
   {
    "duration": 57,
    "start_time": "2022-10-18T18:22:39.654Z"
   },
   {
    "duration": 21,
    "start_time": "2022-10-18T18:22:39.714Z"
   },
   {
    "duration": 31,
    "start_time": "2022-10-18T18:22:39.737Z"
   },
   {
    "duration": 12,
    "start_time": "2022-10-18T18:22:39.770Z"
   },
   {
    "duration": 24,
    "start_time": "2022-10-18T18:22:39.783Z"
   },
   {
    "duration": 20,
    "start_time": "2022-10-18T18:22:39.809Z"
   },
   {
    "duration": 24,
    "start_time": "2022-10-18T18:22:39.831Z"
   },
   {
    "duration": 45,
    "start_time": "2022-10-18T18:22:39.857Z"
   },
   {
    "duration": 29,
    "start_time": "2022-10-18T18:22:39.904Z"
   },
   {
    "duration": 8,
    "start_time": "2022-10-18T18:22:39.935Z"
   },
   {
    "duration": 34,
    "start_time": "2022-10-18T18:22:39.945Z"
   },
   {
    "duration": 26,
    "start_time": "2022-10-18T18:22:39.981Z"
   },
   {
    "duration": 21,
    "start_time": "2022-10-18T18:22:40.009Z"
   },
   {
    "duration": 27,
    "start_time": "2022-10-18T18:22:40.032Z"
   },
   {
    "duration": 31,
    "start_time": "2022-10-18T18:22:40.061Z"
   },
   {
    "duration": 167,
    "start_time": "2022-10-18T18:22:40.094Z"
   },
   {
    "duration": 8,
    "start_time": "2022-10-18T18:22:40.264Z"
   },
   {
    "duration": 195,
    "start_time": "2022-10-18T18:22:40.274Z"
   },
   {
    "duration": 6,
    "start_time": "2022-10-18T18:22:40.471Z"
   },
   {
    "duration": 158,
    "start_time": "2022-10-18T18:22:40.478Z"
   },
   {
    "duration": 4,
    "start_time": "2022-10-18T18:22:40.638Z"
   },
   {
    "duration": 14,
    "start_time": "2022-10-18T18:22:40.644Z"
   },
   {
    "duration": 15,
    "start_time": "2022-10-18T18:22:40.660Z"
   },
   {
    "duration": 26,
    "start_time": "2022-10-18T18:22:40.676Z"
   },
   {
    "duration": 15,
    "start_time": "2022-10-18T18:22:40.704Z"
   },
   {
    "duration": 14,
    "start_time": "2022-10-18T18:22:40.721Z"
   },
   {
    "duration": 66,
    "start_time": "2022-10-18T18:22:40.737Z"
   },
   {
    "duration": 29,
    "start_time": "2022-10-18T18:22:40.805Z"
   },
   {
    "duration": 28,
    "start_time": "2022-10-18T18:22:40.836Z"
   },
   {
    "duration": 289,
    "start_time": "2022-10-18T18:22:40.866Z"
   },
   {
    "duration": 282,
    "start_time": "2022-10-18T18:22:41.158Z"
   },
   {
    "duration": 309,
    "start_time": "2022-10-18T18:22:41.442Z"
   },
   {
    "duration": 1661,
    "start_time": "2022-10-18T18:22:41.753Z"
   },
   {
    "duration": 408,
    "start_time": "2022-10-18T18:22:43.415Z"
   },
   {
    "duration": 199,
    "start_time": "2022-10-18T18:22:43.825Z"
   },
   {
    "duration": 232,
    "start_time": "2022-10-18T18:22:44.026Z"
   },
   {
    "duration": 8,
    "start_time": "2022-10-18T18:22:44.259Z"
   },
   {
    "duration": 246,
    "start_time": "2022-10-18T18:22:44.269Z"
   },
   {
    "duration": 218,
    "start_time": "2022-10-18T18:22:44.520Z"
   },
   {
    "duration": 210,
    "start_time": "2022-10-18T18:22:44.741Z"
   },
   {
    "duration": 199,
    "start_time": "2022-10-18T18:22:44.953Z"
   },
   {
    "duration": 176,
    "start_time": "2022-10-18T18:22:45.154Z"
   },
   {
    "duration": 167,
    "start_time": "2022-10-18T18:22:45.332Z"
   },
   {
    "duration": 185,
    "start_time": "2022-10-18T18:22:45.504Z"
   },
   {
    "duration": 3,
    "start_time": "2022-10-18T18:22:45.691Z"
   },
   {
    "duration": 9,
    "start_time": "2022-10-18T18:22:45.696Z"
   },
   {
    "duration": 253,
    "start_time": "2022-10-18T18:22:45.706Z"
   },
   {
    "duration": 6,
    "start_time": "2022-10-18T18:22:45.960Z"
   },
   {
    "duration": 239,
    "start_time": "2022-10-18T18:22:45.968Z"
   },
   {
    "duration": 12,
    "start_time": "2022-10-18T18:22:46.209Z"
   },
   {
    "duration": 217,
    "start_time": "2022-10-18T18:22:46.223Z"
   },
   {
    "duration": 5,
    "start_time": "2022-10-18T18:22:46.442Z"
   },
   {
    "duration": 165,
    "start_time": "2022-10-18T18:22:46.448Z"
   },
   {
    "duration": 9,
    "start_time": "2022-10-18T18:22:46.615Z"
   },
   {
    "duration": 144,
    "start_time": "2022-10-18T18:22:46.626Z"
   },
   {
    "duration": 169,
    "start_time": "2022-10-18T18:22:46.772Z"
   },
   {
    "duration": 5,
    "start_time": "2022-10-18T18:22:46.943Z"
   },
   {
    "duration": 171,
    "start_time": "2022-10-18T18:22:46.949Z"
   },
   {
    "duration": 6,
    "start_time": "2022-10-18T18:22:47.123Z"
   },
   {
    "duration": 167,
    "start_time": "2022-10-18T18:22:47.130Z"
   },
   {
    "duration": 6,
    "start_time": "2022-10-18T18:22:47.299Z"
   },
   {
    "duration": 41,
    "start_time": "2022-10-18T18:22:47.307Z"
   },
   {
    "duration": 7,
    "start_time": "2022-10-18T18:22:47.349Z"
   },
   {
    "duration": 10,
    "start_time": "2022-10-18T18:22:47.358Z"
   },
   {
    "duration": 15,
    "start_time": "2022-10-18T18:22:47.370Z"
   },
   {
    "duration": 149,
    "start_time": "2022-10-18T18:22:47.387Z"
   },
   {
    "duration": 5,
    "start_time": "2022-10-18T18:22:47.538Z"
   },
   {
    "duration": 422,
    "start_time": "2022-10-19T13:44:29.356Z"
   },
   {
    "duration": 125,
    "start_time": "2022-10-19T13:44:29.780Z"
   },
   {
    "duration": 41,
    "start_time": "2022-10-19T13:44:29.906Z"
   },
   {
    "duration": 17,
    "start_time": "2022-10-19T13:44:29.949Z"
   },
   {
    "duration": 2703,
    "start_time": "2022-10-19T13:44:30.074Z"
   },
   {
    "duration": 12,
    "start_time": "2022-10-19T13:44:32.779Z"
   },
   {
    "duration": 36,
    "start_time": "2022-10-19T13:44:32.793Z"
   },
   {
    "duration": 122,
    "start_time": "2022-10-19T13:44:32.832Z"
   },
   {
    "duration": 15,
    "start_time": "2022-10-19T13:44:32.956Z"
   },
   {
    "duration": 175,
    "start_time": "2022-10-19T13:44:32.972Z"
   },
   {
    "duration": 5,
    "start_time": "2022-10-19T13:44:33.195Z"
   },
   {
    "duration": 6,
    "start_time": "2022-10-19T13:44:33.383Z"
   },
   {
    "duration": 6,
    "start_time": "2022-10-19T13:44:33.579Z"
   },
   {
    "duration": 5,
    "start_time": "2022-10-19T13:44:34.369Z"
   },
   {
    "duration": 5,
    "start_time": "2022-10-19T13:44:34.579Z"
   },
   {
    "duration": 4,
    "start_time": "2022-10-19T13:44:34.987Z"
   },
   {
    "duration": 4,
    "start_time": "2022-10-19T13:44:35.201Z"
   },
   {
    "duration": 7,
    "start_time": "2022-10-19T13:44:35.602Z"
   },
   {
    "duration": 36,
    "start_time": "2022-10-19T13:44:36.000Z"
   },
   {
    "duration": 9,
    "start_time": "2022-10-19T13:44:36.187Z"
   },
   {
    "duration": 7,
    "start_time": "2022-10-19T13:44:36.384Z"
   },
   {
    "duration": 14,
    "start_time": "2022-10-19T13:44:36.742Z"
   },
   {
    "duration": 53,
    "start_time": "2022-10-19T13:44:36.932Z"
   },
   {
    "duration": 4,
    "start_time": "2022-10-19T13:44:37.335Z"
   },
   {
    "duration": 10,
    "start_time": "2022-10-19T13:44:37.536Z"
   },
   {
    "duration": 31,
    "start_time": "2022-10-19T13:44:37.743Z"
   },
   {
    "duration": 6,
    "start_time": "2022-10-19T13:44:38.591Z"
   },
   {
    "duration": 14,
    "start_time": "2022-10-19T13:44:38.781Z"
   },
   {
    "duration": 7,
    "start_time": "2022-10-19T13:44:39.403Z"
   },
   {
    "duration": 13,
    "start_time": "2022-10-19T13:44:39.588Z"
   },
   {
    "duration": 6,
    "start_time": "2022-10-19T13:44:39.991Z"
   },
   {
    "duration": 10,
    "start_time": "2022-10-19T13:44:40.375Z"
   },
   {
    "duration": 15,
    "start_time": "2022-10-19T13:44:40.594Z"
   },
   {
    "duration": 28,
    "start_time": "2022-10-19T13:44:40.785Z"
   },
   {
    "duration": 76,
    "start_time": "2022-10-19T13:44:57.601Z"
   },
   {
    "duration": 72,
    "start_time": "2022-10-19T13:45:03.809Z"
   },
   {
    "duration": 10,
    "start_time": "2022-10-19T13:48:33.936Z"
   },
   {
    "duration": 8,
    "start_time": "2022-10-19T13:48:34.281Z"
   },
   {
    "duration": 11,
    "start_time": "2022-10-19T13:48:34.446Z"
   },
   {
    "duration": 10,
    "start_time": "2022-10-19T13:48:34.811Z"
   },
   {
    "duration": 8,
    "start_time": "2022-10-19T13:48:35.212Z"
   },
   {
    "duration": 9,
    "start_time": "2022-10-19T13:48:35.406Z"
   },
   {
    "duration": 181,
    "start_time": "2022-10-19T13:48:35.669Z"
   },
   {
    "duration": 10,
    "start_time": "2022-10-19T13:48:36.369Z"
   },
   {
    "duration": 165,
    "start_time": "2022-10-19T13:48:36.552Z"
   },
   {
    "duration": 10,
    "start_time": "2022-10-19T13:48:37.100Z"
   },
   {
    "duration": 154,
    "start_time": "2022-10-19T13:48:37.304Z"
   },
   {
    "duration": 6,
    "start_time": "2022-10-19T13:48:38.579Z"
   },
   {
    "duration": 15,
    "start_time": "2022-10-19T13:48:38.959Z"
   },
   {
    "duration": 9,
    "start_time": "2022-10-19T13:48:39.135Z"
   },
   {
    "duration": 7,
    "start_time": "2022-10-19T13:48:39.520Z"
   },
   {
    "duration": 8,
    "start_time": "2022-10-19T13:48:39.880Z"
   },
   {
    "duration": 12,
    "start_time": "2022-10-19T13:48:40.272Z"
   },
   {
    "duration": 130,
    "start_time": "2022-10-19T13:48:40.678Z"
   },
   {
    "duration": 32,
    "start_time": "2022-10-19T13:48:48.805Z"
   },
   {
    "duration": 19,
    "start_time": "2022-10-19T13:48:48.975Z"
   },
   {
    "duration": 308,
    "start_time": "2022-10-19T13:48:49.914Z"
   },
   {
    "duration": 392,
    "start_time": "2022-10-19T13:48:51.389Z"
   },
   {
    "duration": 269,
    "start_time": "2022-10-19T13:48:52.109Z"
   },
   {
    "duration": 1486,
    "start_time": "2022-10-19T13:48:53.020Z"
   },
   {
    "duration": 202,
    "start_time": "2022-10-19T13:48:54.509Z"
   },
   {
    "duration": 216,
    "start_time": "2022-10-19T13:48:54.714Z"
   },
   {
    "duration": 298,
    "start_time": "2022-10-19T13:48:55.459Z"
   },
   {
    "duration": 192,
    "start_time": "2022-10-19T13:50:29.666Z"
   },
   {
    "duration": 336,
    "start_time": "2022-10-19T13:50:40.388Z"
   },
   {
    "duration": 233,
    "start_time": "2022-10-19T13:50:49.538Z"
   },
   {
    "duration": 235,
    "start_time": "2022-10-19T13:51:27.059Z"
   },
   {
    "duration": 391,
    "start_time": "2022-10-19T18:10:23.093Z"
   },
   {
    "duration": 92,
    "start_time": "2022-10-19T18:10:23.486Z"
   },
   {
    "duration": 35,
    "start_time": "2022-10-19T18:10:23.580Z"
   },
   {
    "duration": 22,
    "start_time": "2022-10-19T18:10:23.617Z"
   },
   {
    "duration": 2257,
    "start_time": "2022-10-19T18:10:23.641Z"
   },
   {
    "duration": 9,
    "start_time": "2022-10-19T18:10:25.900Z"
   },
   {
    "duration": 35,
    "start_time": "2022-10-19T18:10:25.910Z"
   },
   {
    "duration": 160,
    "start_time": "2022-10-19T18:10:25.948Z"
   },
   {
    "duration": 14,
    "start_time": "2022-10-19T18:10:26.110Z"
   },
   {
    "duration": 170,
    "start_time": "2022-10-19T18:10:26.126Z"
   },
   {
    "duration": 6,
    "start_time": "2022-10-19T18:10:26.298Z"
   },
   {
    "duration": 8,
    "start_time": "2022-10-19T18:10:26.306Z"
   },
   {
    "duration": 5,
    "start_time": "2022-10-19T18:10:26.316Z"
   },
   {
    "duration": 6,
    "start_time": "2022-10-19T18:10:26.325Z"
   },
   {
    "duration": 6,
    "start_time": "2022-10-19T18:10:26.333Z"
   },
   {
    "duration": 6,
    "start_time": "2022-10-19T18:10:26.341Z"
   },
   {
    "duration": 6,
    "start_time": "2022-10-19T18:10:26.349Z"
   },
   {
    "duration": 9,
    "start_time": "2022-10-19T18:10:26.357Z"
   },
   {
    "duration": 58,
    "start_time": "2022-10-19T18:10:26.367Z"
   },
   {
    "duration": 5,
    "start_time": "2022-10-19T18:10:26.426Z"
   },
   {
    "duration": 16,
    "start_time": "2022-10-19T18:10:26.433Z"
   },
   {
    "duration": 16,
    "start_time": "2022-10-19T18:10:26.451Z"
   },
   {
    "duration": 93,
    "start_time": "2022-10-19T18:10:26.469Z"
   },
   {
    "duration": 4,
    "start_time": "2022-10-19T18:10:26.564Z"
   },
   {
    "duration": 29,
    "start_time": "2022-10-19T18:10:26.570Z"
   },
   {
    "duration": 33,
    "start_time": "2022-10-19T18:10:26.601Z"
   },
   {
    "duration": 9,
    "start_time": "2022-10-19T18:10:26.636Z"
   },
   {
    "duration": 24,
    "start_time": "2022-10-19T18:10:26.647Z"
   },
   {
    "duration": 10,
    "start_time": "2022-10-19T18:10:26.673Z"
   },
   {
    "duration": 16,
    "start_time": "2022-10-19T18:10:26.695Z"
   },
   {
    "duration": 21,
    "start_time": "2022-10-19T18:10:26.714Z"
   },
   {
    "duration": 23,
    "start_time": "2022-10-19T18:10:26.737Z"
   },
   {
    "duration": 31,
    "start_time": "2022-10-19T18:10:26.762Z"
   },
   {
    "duration": 31,
    "start_time": "2022-10-19T18:10:26.795Z"
   },
   {
    "duration": 9,
    "start_time": "2022-10-19T18:10:26.829Z"
   },
   {
    "duration": 16,
    "start_time": "2022-10-19T18:10:26.839Z"
   },
   {
    "duration": 18,
    "start_time": "2022-10-19T18:10:26.857Z"
   },
   {
    "duration": 20,
    "start_time": "2022-10-19T18:10:26.878Z"
   },
   {
    "duration": 18,
    "start_time": "2022-10-19T18:10:26.900Z"
   },
   {
    "duration": 11,
    "start_time": "2022-10-19T18:10:26.920Z"
   },
   {
    "duration": 174,
    "start_time": "2022-10-19T18:10:26.937Z"
   },
   {
    "duration": 8,
    "start_time": "2022-10-19T18:10:27.112Z"
   },
   {
    "duration": 172,
    "start_time": "2022-10-19T18:10:27.122Z"
   },
   {
    "duration": 6,
    "start_time": "2022-10-19T18:10:27.296Z"
   },
   {
    "duration": 152,
    "start_time": "2022-10-19T18:10:27.304Z"
   },
   {
    "duration": 135,
    "start_time": "2022-10-19T18:10:29.939Z"
   },
   {
    "duration": 36,
    "start_time": "2022-10-19T18:10:31.619Z"
   },
   {
    "duration": 6,
    "start_time": "2022-10-19T18:14:05.650Z"
   },
   {
    "duration": 9,
    "start_time": "2022-10-19T18:14:22.126Z"
   },
   {
    "duration": 306,
    "start_time": "2022-10-19T18:16:28.374Z"
   },
   {
    "duration": 206,
    "start_time": "2022-10-19T18:16:43.131Z"
   },
   {
    "duration": 379,
    "start_time": "2022-10-19T18:18:19.031Z"
   },
   {
    "duration": 86,
    "start_time": "2022-10-19T18:18:19.412Z"
   },
   {
    "duration": 36,
    "start_time": "2022-10-19T18:18:19.499Z"
   },
   {
    "duration": 13,
    "start_time": "2022-10-19T18:18:19.537Z"
   },
   {
    "duration": 2199,
    "start_time": "2022-10-19T18:18:19.552Z"
   },
   {
    "duration": 8,
    "start_time": "2022-10-19T18:18:21.753Z"
   },
   {
    "duration": 27,
    "start_time": "2022-10-19T18:18:21.762Z"
   },
   {
    "duration": 107,
    "start_time": "2022-10-19T18:18:21.790Z"
   },
   {
    "duration": 14,
    "start_time": "2022-10-19T18:18:21.898Z"
   },
   {
    "duration": 153,
    "start_time": "2022-10-19T18:18:21.914Z"
   },
   {
    "duration": 4,
    "start_time": "2022-10-19T18:18:22.069Z"
   },
   {
    "duration": 36,
    "start_time": "2022-10-19T18:18:22.074Z"
   },
   {
    "duration": 21,
    "start_time": "2022-10-19T18:18:22.111Z"
   },
   {
    "duration": 23,
    "start_time": "2022-10-19T18:18:22.134Z"
   },
   {
    "duration": 11,
    "start_time": "2022-10-19T18:18:22.158Z"
   },
   {
    "duration": 26,
    "start_time": "2022-10-19T18:18:22.170Z"
   },
   {
    "duration": 23,
    "start_time": "2022-10-19T18:18:22.198Z"
   },
   {
    "duration": 28,
    "start_time": "2022-10-19T18:18:22.223Z"
   },
   {
    "duration": 48,
    "start_time": "2022-10-19T18:18:22.253Z"
   },
   {
    "duration": 4,
    "start_time": "2022-10-19T18:18:22.302Z"
   },
   {
    "duration": 37,
    "start_time": "2022-10-19T18:18:22.307Z"
   },
   {
    "duration": 27,
    "start_time": "2022-10-19T18:18:22.346Z"
   },
   {
    "duration": 64,
    "start_time": "2022-10-19T18:18:22.375Z"
   },
   {
    "duration": 4,
    "start_time": "2022-10-19T18:18:22.441Z"
   },
   {
    "duration": 26,
    "start_time": "2022-10-19T18:18:22.447Z"
   },
   {
    "duration": 35,
    "start_time": "2022-10-19T18:18:22.475Z"
   },
   {
    "duration": 20,
    "start_time": "2022-10-19T18:18:22.512Z"
   },
   {
    "duration": 21,
    "start_time": "2022-10-19T18:18:22.537Z"
   },
   {
    "duration": 9,
    "start_time": "2022-10-19T18:18:22.559Z"
   },
   {
    "duration": 17,
    "start_time": "2022-10-19T18:18:22.570Z"
   },
   {
    "duration": 16,
    "start_time": "2022-10-19T18:18:22.588Z"
   },
   {
    "duration": 29,
    "start_time": "2022-10-19T18:18:22.605Z"
   },
   {
    "duration": 20,
    "start_time": "2022-10-19T18:18:22.636Z"
   },
   {
    "duration": 34,
    "start_time": "2022-10-19T18:18:22.658Z"
   },
   {
    "duration": 7,
    "start_time": "2022-10-19T18:18:22.694Z"
   },
   {
    "duration": 9,
    "start_time": "2022-10-19T18:18:22.703Z"
   },
   {
    "duration": 28,
    "start_time": "2022-10-19T18:18:22.714Z"
   },
   {
    "duration": 41,
    "start_time": "2022-10-19T18:18:22.743Z"
   },
   {
    "duration": 22,
    "start_time": "2022-10-19T18:18:22.785Z"
   },
   {
    "duration": 28,
    "start_time": "2022-10-19T18:18:22.809Z"
   },
   {
    "duration": 163,
    "start_time": "2022-10-19T18:18:22.838Z"
   },
   {
    "duration": 8,
    "start_time": "2022-10-19T18:18:23.003Z"
   },
   {
    "duration": 175,
    "start_time": "2022-10-19T18:18:23.013Z"
   },
   {
    "duration": 7,
    "start_time": "2022-10-19T18:18:23.194Z"
   },
   {
    "duration": 164,
    "start_time": "2022-10-19T18:18:23.203Z"
   },
   {
    "duration": 63,
    "start_time": "2022-10-19T18:18:23.369Z"
   },
   {
    "duration": 6,
    "start_time": "2022-10-19T18:18:23.434Z"
   },
   {
    "duration": 20,
    "start_time": "2022-10-19T18:18:23.442Z"
   },
   {
    "duration": 33,
    "start_time": "2022-10-19T18:18:23.463Z"
   },
   {
    "duration": 14,
    "start_time": "2022-10-19T18:18:23.497Z"
   },
   {
    "duration": 17,
    "start_time": "2022-10-19T18:18:23.513Z"
   },
   {
    "duration": 22,
    "start_time": "2022-10-19T18:18:23.532Z"
   },
   {
    "duration": 11,
    "start_time": "2022-10-19T18:18:23.555Z"
   },
   {
    "duration": 16,
    "start_time": "2022-10-19T18:18:23.568Z"
   },
   {
    "duration": 44,
    "start_time": "2022-10-19T18:18:23.586Z"
   },
   {
    "duration": 27,
    "start_time": "2022-10-19T18:18:23.632Z"
   },
   {
    "duration": 18,
    "start_time": "2022-10-19T18:18:23.661Z"
   },
   {
    "duration": 339,
    "start_time": "2022-10-19T18:18:23.681Z"
   },
   {
    "duration": 254,
    "start_time": "2022-10-19T18:18:24.022Z"
   },
   {
    "duration": 241,
    "start_time": "2022-10-19T18:18:24.277Z"
   },
   {
    "duration": 1395,
    "start_time": "2022-10-19T18:18:24.519Z"
   },
   {
    "duration": 163,
    "start_time": "2022-10-19T18:18:25.916Z"
   },
   {
    "duration": 196,
    "start_time": "2022-10-19T18:18:26.081Z"
   },
   {
    "duration": 220,
    "start_time": "2022-10-19T18:18:26.279Z"
   },
   {
    "duration": 245,
    "start_time": "2022-10-19T18:18:26.501Z"
   },
   {
    "duration": 9,
    "start_time": "2022-10-19T18:18:26.747Z"
   },
   {
    "duration": 359,
    "start_time": "2022-10-19T18:18:26.758Z"
   },
   {
    "duration": 200,
    "start_time": "2022-10-19T18:18:27.118Z"
   },
   {
    "duration": 198,
    "start_time": "2022-10-19T18:18:27.320Z"
   },
   {
    "duration": 191,
    "start_time": "2022-10-19T18:18:27.520Z"
   },
   {
    "duration": 163,
    "start_time": "2022-10-19T18:18:27.713Z"
   },
   {
    "duration": 158,
    "start_time": "2022-10-19T18:18:27.878Z"
   },
   {
    "duration": 174,
    "start_time": "2022-10-19T18:18:28.038Z"
   },
   {
    "duration": 4,
    "start_time": "2022-10-19T18:18:28.214Z"
   },
   {
    "duration": 13,
    "start_time": "2022-10-19T18:18:28.220Z"
   },
   {
    "duration": 235,
    "start_time": "2022-10-19T18:18:28.234Z"
   },
   {
    "duration": 7,
    "start_time": "2022-10-19T18:18:28.470Z"
   },
   {
    "duration": 224,
    "start_time": "2022-10-19T18:18:28.478Z"
   },
   {
    "duration": 4,
    "start_time": "2022-10-19T18:18:28.704Z"
   },
   {
    "duration": 204,
    "start_time": "2022-10-19T18:18:28.710Z"
   },
   {
    "duration": 5,
    "start_time": "2022-10-19T18:18:28.916Z"
   },
   {
    "duration": 153,
    "start_time": "2022-10-19T18:18:28.926Z"
   },
   {
    "duration": 5,
    "start_time": "2022-10-19T18:18:29.080Z"
   },
   {
    "duration": 137,
    "start_time": "2022-10-19T18:18:29.086Z"
   },
   {
    "duration": 155,
    "start_time": "2022-10-19T18:18:29.225Z"
   },
   {
    "duration": 5,
    "start_time": "2022-10-19T18:18:29.382Z"
   },
   {
    "duration": 144,
    "start_time": "2022-10-19T18:18:29.395Z"
   },
   {
    "duration": 5,
    "start_time": "2022-10-19T18:18:29.541Z"
   },
   {
    "duration": 155,
    "start_time": "2022-10-19T18:18:29.547Z"
   },
   {
    "duration": 5,
    "start_time": "2022-10-19T18:18:29.703Z"
   },
   {
    "duration": 25,
    "start_time": "2022-10-19T18:18:29.709Z"
   },
   {
    "duration": 5,
    "start_time": "2022-10-19T18:18:29.736Z"
   },
   {
    "duration": 8,
    "start_time": "2022-10-19T18:18:29.742Z"
   },
   {
    "duration": 10,
    "start_time": "2022-10-19T18:18:29.751Z"
   },
   {
    "duration": 147,
    "start_time": "2022-10-19T18:18:29.763Z"
   },
   {
    "duration": 6,
    "start_time": "2022-10-19T18:18:29.912Z"
   }
  ],
  "kernelspec": {
   "display_name": "Python 3 (ipykernel)",
   "language": "python",
   "name": "python3"
  },
  "language_info": {
   "codemirror_mode": {
    "name": "ipython",
    "version": 3
   },
   "file_extension": ".py",
   "mimetype": "text/x-python",
   "name": "python",
   "nbconvert_exporter": "python",
   "pygments_lexer": "ipython3",
   "version": "3.10.9"
  },
  "toc": {
   "base_numbering": 1,
   "nav_menu": {},
   "number_sections": true,
   "sideBar": true,
   "skip_h1_title": true,
   "title_cell": "Table of Contents",
   "title_sidebar": "Contents",
   "toc_cell": false,
   "toc_position": {},
   "toc_section_display": true,
   "toc_window_display": false
  }
 },
 "nbformat": 4,
 "nbformat_minor": 2
}
