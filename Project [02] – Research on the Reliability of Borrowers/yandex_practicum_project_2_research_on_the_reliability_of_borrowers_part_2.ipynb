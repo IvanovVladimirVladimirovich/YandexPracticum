{
 "cells": [
  {
   "cell_type": "markdown",
   "id": "78cf8ce2",
   "metadata": {
    "deletable": false,
    "editable": false,
    "id": "c81daeeb"
   },
   "source": [
    "# Исследование надежности заемщиков\n"
   ]
  },
  {
   "cell_type": "markdown",
   "id": "5b0d51bf",
   "metadata": {
    "deletable": false,
    "editable": false,
    "id": "827c20bf"
   },
   "source": [
    "Во второй части проекта вы выполните шаги 3 и 4. Их вручную проверит ревьюер.\n",
    "Чтобы вам не пришлось писать код заново для шагов 1 и 2, мы добавили авторские решения в ячейки с кодом. \n",
    "\n"
   ]
  },
  {
   "cell_type": "markdown",
   "id": "90e87c6c",
   "metadata": {
    "deletable": false,
    "editable": false,
    "id": "744d7639"
   },
   "source": [
    "## Откройте таблицу и изучите общую информацию о данных"
   ]
  },
  {
   "cell_type": "markdown",
   "id": "6ad5a725",
   "metadata": {
    "deletable": false,
    "editable": false,
    "id": "e7a14c31"
   },
   "source": [
    "**Задание 1. Импортируйте библиотеку pandas. Считайте данные из csv-файла в датафрейм и сохраните в переменную `data`. Путь к файлу:**\n",
    "\n",
    "`/datasets/data.csv`"
   ]
  },
  {
   "cell_type": "code",
   "execution_count": 1,
   "id": "8683a2d9",
   "metadata": {
    "deletable": false,
    "id": "7bcf75c9"
   },
   "outputs": [],
   "source": [
    "import pandas as pd\n",
    "\n",
    "try:\n",
    "    data = pd.read_csv('/datasets/data.csv')\n",
    "except:\n",
    "    data = pd.read_csv('https://code.s3.yandex.net/datasets/data.csv')"
   ]
  },
  {
   "cell_type": "markdown",
   "id": "03c7adb3",
   "metadata": {
    "deletable": false,
    "editable": false,
    "id": "b8038fe3"
   },
   "source": [
    "**Задание 2. Выведите первые 20 строчек датафрейма `data` на экран.**"
   ]
  },
  {
   "cell_type": "code",
   "execution_count": 2,
   "id": "d5148675",
   "metadata": {
    "deletable": false,
    "id": "2a7cab99",
    "outputId": "1a8f3ef2-d323-4ec2-ddf7-89670b5944c4"
   },
   "outputs": [
    {
     "data": {
      "text/html": [
       "<div>\n",
       "<style scoped>\n",
       "    .dataframe tbody tr th:only-of-type {\n",
       "        vertical-align: middle;\n",
       "    }\n",
       "\n",
       "    .dataframe tbody tr th {\n",
       "        vertical-align: top;\n",
       "    }\n",
       "\n",
       "    .dataframe thead th {\n",
       "        text-align: right;\n",
       "    }\n",
       "</style>\n",
       "<table border=\"1\" class=\"dataframe\">\n",
       "  <thead>\n",
       "    <tr style=\"text-align: right;\">\n",
       "      <th></th>\n",
       "      <th>children</th>\n",
       "      <th>days_employed</th>\n",
       "      <th>dob_years</th>\n",
       "      <th>education</th>\n",
       "      <th>education_id</th>\n",
       "      <th>family_status</th>\n",
       "      <th>family_status_id</th>\n",
       "      <th>gender</th>\n",
       "      <th>income_type</th>\n",
       "      <th>debt</th>\n",
       "      <th>total_income</th>\n",
       "      <th>purpose</th>\n",
       "    </tr>\n",
       "  </thead>\n",
       "  <tbody>\n",
       "    <tr>\n",
       "      <th>0</th>\n",
       "      <td>1</td>\n",
       "      <td>-8437.673028</td>\n",
       "      <td>42</td>\n",
       "      <td>высшее</td>\n",
       "      <td>0</td>\n",
       "      <td>женат / замужем</td>\n",
       "      <td>0</td>\n",
       "      <td>F</td>\n",
       "      <td>сотрудник</td>\n",
       "      <td>0</td>\n",
       "      <td>253875.639453</td>\n",
       "      <td>покупка жилья</td>\n",
       "    </tr>\n",
       "    <tr>\n",
       "      <th>1</th>\n",
       "      <td>1</td>\n",
       "      <td>-4024.803754</td>\n",
       "      <td>36</td>\n",
       "      <td>среднее</td>\n",
       "      <td>1</td>\n",
       "      <td>женат / замужем</td>\n",
       "      <td>0</td>\n",
       "      <td>F</td>\n",
       "      <td>сотрудник</td>\n",
       "      <td>0</td>\n",
       "      <td>112080.014102</td>\n",
       "      <td>приобретение автомобиля</td>\n",
       "    </tr>\n",
       "    <tr>\n",
       "      <th>2</th>\n",
       "      <td>0</td>\n",
       "      <td>-5623.422610</td>\n",
       "      <td>33</td>\n",
       "      <td>Среднее</td>\n",
       "      <td>1</td>\n",
       "      <td>женат / замужем</td>\n",
       "      <td>0</td>\n",
       "      <td>M</td>\n",
       "      <td>сотрудник</td>\n",
       "      <td>0</td>\n",
       "      <td>145885.952297</td>\n",
       "      <td>покупка жилья</td>\n",
       "    </tr>\n",
       "    <tr>\n",
       "      <th>3</th>\n",
       "      <td>3</td>\n",
       "      <td>-4124.747207</td>\n",
       "      <td>32</td>\n",
       "      <td>среднее</td>\n",
       "      <td>1</td>\n",
       "      <td>женат / замужем</td>\n",
       "      <td>0</td>\n",
       "      <td>M</td>\n",
       "      <td>сотрудник</td>\n",
       "      <td>0</td>\n",
       "      <td>267628.550329</td>\n",
       "      <td>дополнительное образование</td>\n",
       "    </tr>\n",
       "    <tr>\n",
       "      <th>4</th>\n",
       "      <td>0</td>\n",
       "      <td>340266.072047</td>\n",
       "      <td>53</td>\n",
       "      <td>среднее</td>\n",
       "      <td>1</td>\n",
       "      <td>гражданский брак</td>\n",
       "      <td>1</td>\n",
       "      <td>F</td>\n",
       "      <td>пенсионер</td>\n",
       "      <td>0</td>\n",
       "      <td>158616.077870</td>\n",
       "      <td>сыграть свадьбу</td>\n",
       "    </tr>\n",
       "    <tr>\n",
       "      <th>5</th>\n",
       "      <td>0</td>\n",
       "      <td>-926.185831</td>\n",
       "      <td>27</td>\n",
       "      <td>высшее</td>\n",
       "      <td>0</td>\n",
       "      <td>гражданский брак</td>\n",
       "      <td>1</td>\n",
       "      <td>M</td>\n",
       "      <td>компаньон</td>\n",
       "      <td>0</td>\n",
       "      <td>255763.565419</td>\n",
       "      <td>покупка жилья</td>\n",
       "    </tr>\n",
       "    <tr>\n",
       "      <th>6</th>\n",
       "      <td>0</td>\n",
       "      <td>-2879.202052</td>\n",
       "      <td>43</td>\n",
       "      <td>высшее</td>\n",
       "      <td>0</td>\n",
       "      <td>женат / замужем</td>\n",
       "      <td>0</td>\n",
       "      <td>F</td>\n",
       "      <td>компаньон</td>\n",
       "      <td>0</td>\n",
       "      <td>240525.971920</td>\n",
       "      <td>операции с жильем</td>\n",
       "    </tr>\n",
       "    <tr>\n",
       "      <th>7</th>\n",
       "      <td>0</td>\n",
       "      <td>-152.779569</td>\n",
       "      <td>50</td>\n",
       "      <td>СРЕДНЕЕ</td>\n",
       "      <td>1</td>\n",
       "      <td>женат / замужем</td>\n",
       "      <td>0</td>\n",
       "      <td>M</td>\n",
       "      <td>сотрудник</td>\n",
       "      <td>0</td>\n",
       "      <td>135823.934197</td>\n",
       "      <td>образование</td>\n",
       "    </tr>\n",
       "    <tr>\n",
       "      <th>8</th>\n",
       "      <td>2</td>\n",
       "      <td>-6929.865299</td>\n",
       "      <td>35</td>\n",
       "      <td>ВЫСШЕЕ</td>\n",
       "      <td>0</td>\n",
       "      <td>гражданский брак</td>\n",
       "      <td>1</td>\n",
       "      <td>F</td>\n",
       "      <td>сотрудник</td>\n",
       "      <td>0</td>\n",
       "      <td>95856.832424</td>\n",
       "      <td>на проведение свадьбы</td>\n",
       "    </tr>\n",
       "    <tr>\n",
       "      <th>9</th>\n",
       "      <td>0</td>\n",
       "      <td>-2188.756445</td>\n",
       "      <td>41</td>\n",
       "      <td>среднее</td>\n",
       "      <td>1</td>\n",
       "      <td>женат / замужем</td>\n",
       "      <td>0</td>\n",
       "      <td>M</td>\n",
       "      <td>сотрудник</td>\n",
       "      <td>0</td>\n",
       "      <td>144425.938277</td>\n",
       "      <td>покупка жилья для семьи</td>\n",
       "    </tr>\n",
       "    <tr>\n",
       "      <th>10</th>\n",
       "      <td>2</td>\n",
       "      <td>-4171.483647</td>\n",
       "      <td>36</td>\n",
       "      <td>высшее</td>\n",
       "      <td>0</td>\n",
       "      <td>женат / замужем</td>\n",
       "      <td>0</td>\n",
       "      <td>M</td>\n",
       "      <td>компаньон</td>\n",
       "      <td>0</td>\n",
       "      <td>113943.491460</td>\n",
       "      <td>покупка недвижимости</td>\n",
       "    </tr>\n",
       "    <tr>\n",
       "      <th>11</th>\n",
       "      <td>0</td>\n",
       "      <td>-792.701887</td>\n",
       "      <td>40</td>\n",
       "      <td>среднее</td>\n",
       "      <td>1</td>\n",
       "      <td>женат / замужем</td>\n",
       "      <td>0</td>\n",
       "      <td>F</td>\n",
       "      <td>сотрудник</td>\n",
       "      <td>0</td>\n",
       "      <td>77069.234271</td>\n",
       "      <td>покупка коммерческой недвижимости</td>\n",
       "    </tr>\n",
       "    <tr>\n",
       "      <th>12</th>\n",
       "      <td>0</td>\n",
       "      <td>NaN</td>\n",
       "      <td>65</td>\n",
       "      <td>среднее</td>\n",
       "      <td>1</td>\n",
       "      <td>гражданский брак</td>\n",
       "      <td>1</td>\n",
       "      <td>M</td>\n",
       "      <td>пенсионер</td>\n",
       "      <td>0</td>\n",
       "      <td>NaN</td>\n",
       "      <td>сыграть свадьбу</td>\n",
       "    </tr>\n",
       "    <tr>\n",
       "      <th>13</th>\n",
       "      <td>0</td>\n",
       "      <td>-1846.641941</td>\n",
       "      <td>54</td>\n",
       "      <td>неоконченное высшее</td>\n",
       "      <td>2</td>\n",
       "      <td>женат / замужем</td>\n",
       "      <td>0</td>\n",
       "      <td>F</td>\n",
       "      <td>сотрудник</td>\n",
       "      <td>0</td>\n",
       "      <td>130458.228857</td>\n",
       "      <td>приобретение автомобиля</td>\n",
       "    </tr>\n",
       "    <tr>\n",
       "      <th>14</th>\n",
       "      <td>0</td>\n",
       "      <td>-1844.956182</td>\n",
       "      <td>56</td>\n",
       "      <td>высшее</td>\n",
       "      <td>0</td>\n",
       "      <td>гражданский брак</td>\n",
       "      <td>1</td>\n",
       "      <td>F</td>\n",
       "      <td>компаньон</td>\n",
       "      <td>1</td>\n",
       "      <td>165127.911772</td>\n",
       "      <td>покупка жилой недвижимости</td>\n",
       "    </tr>\n",
       "    <tr>\n",
       "      <th>15</th>\n",
       "      <td>1</td>\n",
       "      <td>-972.364419</td>\n",
       "      <td>26</td>\n",
       "      <td>среднее</td>\n",
       "      <td>1</td>\n",
       "      <td>женат / замужем</td>\n",
       "      <td>0</td>\n",
       "      <td>F</td>\n",
       "      <td>сотрудник</td>\n",
       "      <td>0</td>\n",
       "      <td>116820.904450</td>\n",
       "      <td>строительство собственной недвижимости</td>\n",
       "    </tr>\n",
       "    <tr>\n",
       "      <th>16</th>\n",
       "      <td>0</td>\n",
       "      <td>-1719.934226</td>\n",
       "      <td>35</td>\n",
       "      <td>среднее</td>\n",
       "      <td>1</td>\n",
       "      <td>женат / замужем</td>\n",
       "      <td>0</td>\n",
       "      <td>F</td>\n",
       "      <td>сотрудник</td>\n",
       "      <td>0</td>\n",
       "      <td>289202.704229</td>\n",
       "      <td>недвижимость</td>\n",
       "    </tr>\n",
       "    <tr>\n",
       "      <th>17</th>\n",
       "      <td>0</td>\n",
       "      <td>-2369.999720</td>\n",
       "      <td>33</td>\n",
       "      <td>высшее</td>\n",
       "      <td>0</td>\n",
       "      <td>гражданский брак</td>\n",
       "      <td>1</td>\n",
       "      <td>M</td>\n",
       "      <td>сотрудник</td>\n",
       "      <td>0</td>\n",
       "      <td>90410.586745</td>\n",
       "      <td>строительство недвижимости</td>\n",
       "    </tr>\n",
       "    <tr>\n",
       "      <th>18</th>\n",
       "      <td>0</td>\n",
       "      <td>400281.136913</td>\n",
       "      <td>53</td>\n",
       "      <td>среднее</td>\n",
       "      <td>1</td>\n",
       "      <td>вдовец / вдова</td>\n",
       "      <td>2</td>\n",
       "      <td>F</td>\n",
       "      <td>пенсионер</td>\n",
       "      <td>0</td>\n",
       "      <td>56823.777243</td>\n",
       "      <td>на покупку подержанного автомобиля</td>\n",
       "    </tr>\n",
       "    <tr>\n",
       "      <th>19</th>\n",
       "      <td>0</td>\n",
       "      <td>-10038.818549</td>\n",
       "      <td>48</td>\n",
       "      <td>СРЕДНЕЕ</td>\n",
       "      <td>1</td>\n",
       "      <td>в разводе</td>\n",
       "      <td>3</td>\n",
       "      <td>F</td>\n",
       "      <td>сотрудник</td>\n",
       "      <td>0</td>\n",
       "      <td>242831.107982</td>\n",
       "      <td>на покупку своего автомобиля</td>\n",
       "    </tr>\n",
       "  </tbody>\n",
       "</table>\n",
       "</div>"
      ],
      "text/plain": [
       "    children  days_employed  dob_years            education  education_id  \\\n",
       "0          1   -8437.673028         42               высшее             0   \n",
       "1          1   -4024.803754         36              среднее             1   \n",
       "2          0   -5623.422610         33              Среднее             1   \n",
       "3          3   -4124.747207         32              среднее             1   \n",
       "4          0  340266.072047         53              среднее             1   \n",
       "5          0    -926.185831         27               высшее             0   \n",
       "6          0   -2879.202052         43               высшее             0   \n",
       "7          0    -152.779569         50              СРЕДНЕЕ             1   \n",
       "8          2   -6929.865299         35               ВЫСШЕЕ             0   \n",
       "9          0   -2188.756445         41              среднее             1   \n",
       "10         2   -4171.483647         36               высшее             0   \n",
       "11         0    -792.701887         40              среднее             1   \n",
       "12         0            NaN         65              среднее             1   \n",
       "13         0   -1846.641941         54  неоконченное высшее             2   \n",
       "14         0   -1844.956182         56               высшее             0   \n",
       "15         1    -972.364419         26              среднее             1   \n",
       "16         0   -1719.934226         35              среднее             1   \n",
       "17         0   -2369.999720         33               высшее             0   \n",
       "18         0  400281.136913         53              среднее             1   \n",
       "19         0  -10038.818549         48              СРЕДНЕЕ             1   \n",
       "\n",
       "       family_status  family_status_id gender income_type  debt  \\\n",
       "0    женат / замужем                 0      F   сотрудник     0   \n",
       "1    женат / замужем                 0      F   сотрудник     0   \n",
       "2    женат / замужем                 0      M   сотрудник     0   \n",
       "3    женат / замужем                 0      M   сотрудник     0   \n",
       "4   гражданский брак                 1      F   пенсионер     0   \n",
       "5   гражданский брак                 1      M   компаньон     0   \n",
       "6    женат / замужем                 0      F   компаньон     0   \n",
       "7    женат / замужем                 0      M   сотрудник     0   \n",
       "8   гражданский брак                 1      F   сотрудник     0   \n",
       "9    женат / замужем                 0      M   сотрудник     0   \n",
       "10   женат / замужем                 0      M   компаньон     0   \n",
       "11   женат / замужем                 0      F   сотрудник     0   \n",
       "12  гражданский брак                 1      M   пенсионер     0   \n",
       "13   женат / замужем                 0      F   сотрудник     0   \n",
       "14  гражданский брак                 1      F   компаньон     1   \n",
       "15   женат / замужем                 0      F   сотрудник     0   \n",
       "16   женат / замужем                 0      F   сотрудник     0   \n",
       "17  гражданский брак                 1      M   сотрудник     0   \n",
       "18    вдовец / вдова                 2      F   пенсионер     0   \n",
       "19         в разводе                 3      F   сотрудник     0   \n",
       "\n",
       "     total_income                                 purpose  \n",
       "0   253875.639453                           покупка жилья  \n",
       "1   112080.014102                 приобретение автомобиля  \n",
       "2   145885.952297                           покупка жилья  \n",
       "3   267628.550329              дополнительное образование  \n",
       "4   158616.077870                         сыграть свадьбу  \n",
       "5   255763.565419                           покупка жилья  \n",
       "6   240525.971920                       операции с жильем  \n",
       "7   135823.934197                             образование  \n",
       "8    95856.832424                   на проведение свадьбы  \n",
       "9   144425.938277                 покупка жилья для семьи  \n",
       "10  113943.491460                    покупка недвижимости  \n",
       "11   77069.234271       покупка коммерческой недвижимости  \n",
       "12            NaN                         сыграть свадьбу  \n",
       "13  130458.228857                 приобретение автомобиля  \n",
       "14  165127.911772              покупка жилой недвижимости  \n",
       "15  116820.904450  строительство собственной недвижимости  \n",
       "16  289202.704229                            недвижимость  \n",
       "17   90410.586745              строительство недвижимости  \n",
       "18   56823.777243      на покупку подержанного автомобиля  \n",
       "19  242831.107982            на покупку своего автомобиля  "
      ]
     },
     "execution_count": 2,
     "metadata": {},
     "output_type": "execute_result"
    }
   ],
   "source": [
    "data.head(20)"
   ]
  },
  {
   "cell_type": "markdown",
   "id": "f5682de1",
   "metadata": {
    "deletable": false,
    "editable": false,
    "id": "1c12e233"
   },
   "source": [
    "**Задание 3. Выведите основную информацию о датафрейме с помощью метода `info()`.**"
   ]
  },
  {
   "cell_type": "code",
   "execution_count": 3,
   "id": "954a6d53",
   "metadata": {
    "deletable": false,
    "id": "2b757bca",
    "outputId": "15376089-8dad-46c9-b520-c05248d43158"
   },
   "outputs": [
    {
     "name": "stdout",
     "output_type": "stream",
     "text": [
      "<class 'pandas.core.frame.DataFrame'>\n",
      "RangeIndex: 21525 entries, 0 to 21524\n",
      "Data columns (total 12 columns):\n",
      " #   Column            Non-Null Count  Dtype  \n",
      "---  ------            --------------  -----  \n",
      " 0   children          21525 non-null  int64  \n",
      " 1   days_employed     19351 non-null  float64\n",
      " 2   dob_years         21525 non-null  int64  \n",
      " 3   education         21525 non-null  object \n",
      " 4   education_id      21525 non-null  int64  \n",
      " 5   family_status     21525 non-null  object \n",
      " 6   family_status_id  21525 non-null  int64  \n",
      " 7   gender            21525 non-null  object \n",
      " 8   income_type       21525 non-null  object \n",
      " 9   debt              21525 non-null  int64  \n",
      " 10  total_income      19351 non-null  float64\n",
      " 11  purpose           21525 non-null  object \n",
      "dtypes: float64(2), int64(5), object(5)\n",
      "memory usage: 2.0+ MB\n"
     ]
    }
   ],
   "source": [
    "data.info()"
   ]
  },
  {
   "cell_type": "markdown",
   "id": "fe32b1b0",
   "metadata": {
    "deletable": false,
    "editable": false,
    "id": "333ec665"
   },
   "source": [
    "## Предобработка данных"
   ]
  },
  {
   "cell_type": "markdown",
   "id": "a2d359f6",
   "metadata": {
    "deletable": false,
    "editable": false,
    "id": "02d92d53"
   },
   "source": [
    "### Удаление пропусков"
   ]
  },
  {
   "cell_type": "markdown",
   "id": "77b2291c",
   "metadata": {
    "deletable": false,
    "editable": false,
    "id": "cd84967c"
   },
   "source": [
    "**Задание 4. Выведите количество пропущенных значений для каждого столбца. Используйте комбинацию двух методов.**"
   ]
  },
  {
   "cell_type": "code",
   "execution_count": 4,
   "id": "f8806a1a",
   "metadata": {
    "deletable": false,
    "id": "7f9b2309",
    "outputId": "81f4d817-781c-465c-ed15-91ce4446810d"
   },
   "outputs": [
    {
     "data": {
      "text/plain": [
       "children               0\n",
       "days_employed       2174\n",
       "dob_years              0\n",
       "education              0\n",
       "education_id           0\n",
       "family_status          0\n",
       "family_status_id       0\n",
       "gender                 0\n",
       "income_type            0\n",
       "debt                   0\n",
       "total_income        2174\n",
       "purpose                0\n",
       "dtype: int64"
      ]
     },
     "execution_count": 4,
     "metadata": {},
     "output_type": "execute_result"
    }
   ],
   "source": [
    "data.isna().sum()"
   ]
  },
  {
   "cell_type": "markdown",
   "id": "1beb43a2",
   "metadata": {
    "deletable": false,
    "editable": false,
    "id": "db86e27b"
   },
   "source": [
    "**Задание 5. В двух столбцах есть пропущенные значения. Один из них — `days_employed`. Пропуски в этом столбце вы обработаете на следующем этапе. Другой столбец с пропущенными значениями — `total_income` — хранит данные о доходах. На сумму дохода сильнее всего влияет тип занятости, поэтому заполнить пропуски в этом столбце нужно медианным значением по каждому типу из столбца `income_type`. Например, у человека с типом занятости `сотрудник` пропуск в столбце `total_income` должен быть заполнен медианным доходом среди всех записей с тем же типом.**"
   ]
  },
  {
   "cell_type": "code",
   "execution_count": 5,
   "id": "aa41d21c",
   "metadata": {
    "deletable": false,
    "id": "42006a93"
   },
   "outputs": [],
   "source": [
    "for t in data['income_type'].unique():\n",
    "    data.loc[(data['income_type'] == t) & (data['total_income'].isna()), 'total_income'] = \\\n",
    "    data.loc[(data['income_type'] == t), 'total_income'].median()"
   ]
  },
  {
   "cell_type": "markdown",
   "id": "afb6def7",
   "metadata": {
    "deletable": false,
    "editable": false,
    "id": "89da5ece"
   },
   "source": [
    "### Обработка аномальных значений"
   ]
  },
  {
   "cell_type": "markdown",
   "id": "d016deaa",
   "metadata": {
    "deletable": false,
    "editable": false,
    "id": "57964554"
   },
   "source": [
    "**Задание 6. В данных могут встречаться артефакты (аномалии) — значения, которые не отражают действительность и появились по какой-то ошибке. таким артефактом будет отрицательное количество дней трудового стажа в столбце `days_employed`. Для реальных данных это нормально. Обработайте значения в этом столбце: замените все отрицательные значения положительными с помощью метода `abs()`.**"
   ]
  },
  {
   "cell_type": "code",
   "execution_count": 6,
   "id": "315e3bc7",
   "metadata": {
    "deletable": false,
    "id": "f6f055bf"
   },
   "outputs": [],
   "source": [
    "data['days_employed'] = data['days_employed'].abs()"
   ]
  },
  {
   "cell_type": "markdown",
   "id": "ecef8693",
   "metadata": {
    "deletable": false,
    "editable": false,
    "id": "6107dd2f"
   },
   "source": [
    "**Задание 7. Для каждого типа занятости выведите медианное значение трудового стажа `days_employed` в днях.**"
   ]
  },
  {
   "cell_type": "code",
   "execution_count": 7,
   "id": "f9aaa6e7",
   "metadata": {
    "deletable": false,
    "id": "85a5faf6",
    "outputId": "801ef80e-522b-4668-f34e-565af7432bcf"
   },
   "outputs": [
    {
     "data": {
      "text/plain": [
       "income_type\n",
       "безработный        366413.652744\n",
       "в декрете            3296.759962\n",
       "госслужащий          2689.368353\n",
       "компаньон            1547.382223\n",
       "пенсионер          365213.306266\n",
       "предприниматель       520.848083\n",
       "сотрудник            1574.202821\n",
       "студент               578.751554\n",
       "Name: days_employed, dtype: float64"
      ]
     },
     "execution_count": 7,
     "metadata": {},
     "output_type": "execute_result"
    }
   ],
   "source": [
    "data.groupby('income_type')['days_employed'].agg('median')"
   ]
  },
  {
   "cell_type": "markdown",
   "id": "31ff4876",
   "metadata": {
    "deletable": false,
    "editable": false,
    "id": "38d1a030"
   },
   "source": [
    "У двух типов (безработные и пенсионеры) получатся аномально большие значения. Исправить такие значения сложно, поэтому оставьте их как есть. Тем более этот столбец не понадобится вам для исследования."
   ]
  },
  {
   "cell_type": "markdown",
   "id": "ac7a2457",
   "metadata": {
    "deletable": false,
    "editable": false,
    "id": "d8a9f147"
   },
   "source": [
    "**Задание 8. Выведите перечень уникальных значений столбца `children`.**"
   ]
  },
  {
   "cell_type": "code",
   "execution_count": 8,
   "id": "e630ed9e",
   "metadata": {
    "deletable": false,
    "id": "ef5056eb",
    "outputId": "6975b15c-7f95-4697-d16d-a0c79b657b03"
   },
   "outputs": [
    {
     "data": {
      "text/plain": [
       "array([ 1,  0,  3,  2, -1,  4, 20,  5])"
      ]
     },
     "execution_count": 8,
     "metadata": {},
     "output_type": "execute_result"
    }
   ],
   "source": [
    "data['children'].unique()"
   ]
  },
  {
   "cell_type": "markdown",
   "id": "6904e4b5",
   "metadata": {
    "deletable": false,
    "editable": false,
    "id": "40b9ebf2"
   },
   "source": [
    "**Задание 9. В столбце `children` есть два аномальных значения. Удалите строки, в которых встречаются такие аномальные значения из датафрейма `data`.**"
   ]
  },
  {
   "cell_type": "code",
   "execution_count": 9,
   "id": "8848d6d5",
   "metadata": {
    "deletable": false,
    "id": "3ff9801d"
   },
   "outputs": [],
   "source": [
    "data = data[(data['children'] != -1) & (data['children'] != 20)]"
   ]
  },
  {
   "cell_type": "markdown",
   "id": "570e5733",
   "metadata": {
    "deletable": false,
    "editable": false,
    "id": "bbc4d0ce"
   },
   "source": [
    "**Задание 10. Ещё раз выведите перечень уникальных значений столбца `children`, чтобы убедиться, что артефакты удалены.**"
   ]
  },
  {
   "cell_type": "code",
   "execution_count": 10,
   "id": "3ecc0005",
   "metadata": {
    "deletable": false,
    "id": "ad4fa8b7",
    "outputId": "b2097101-d49d-44d9-901b-32a65c9463d1"
   },
   "outputs": [
    {
     "data": {
      "text/plain": [
       "array([1, 0, 3, 2, 4, 5])"
      ]
     },
     "execution_count": 10,
     "metadata": {},
     "output_type": "execute_result"
    }
   ],
   "source": [
    "data['children'].unique()"
   ]
  },
  {
   "cell_type": "markdown",
   "id": "30525dda",
   "metadata": {
    "deletable": false,
    "editable": false,
    "id": "75440b63"
   },
   "source": [
    "### Удаление пропусков (продолжение)"
   ]
  },
  {
   "cell_type": "markdown",
   "id": "501f696b",
   "metadata": {
    "deletable": false,
    "editable": false,
    "id": "f4ea573f"
   },
   "source": [
    "**Задание 11. Заполните пропуски в столбце `days_employed` медианными значениями по каждого типа занятости `income_type`.**"
   ]
  },
  {
   "cell_type": "code",
   "execution_count": 11,
   "id": "cfd436b0",
   "metadata": {
    "deletable": false,
    "id": "af6b1a7e"
   },
   "outputs": [],
   "source": [
    "for t in data['income_type'].unique():\n",
    "    data.loc[(data['income_type'] == t) & (data['days_employed'].isna()), 'days_employed'] = \\\n",
    "    data.loc[(data['income_type'] == t), 'days_employed'].median()"
   ]
  },
  {
   "cell_type": "markdown",
   "id": "dc765af0",
   "metadata": {
    "deletable": false,
    "editable": false,
    "id": "2753f40d"
   },
   "source": [
    "**Задание 12. Убедитесь, что все пропуски заполнены. Проверьте себя и ещё раз выведите количество пропущенных значений для каждого столбца с помощью двух методов.**"
   ]
  },
  {
   "cell_type": "code",
   "execution_count": 12,
   "id": "ef11d373",
   "metadata": {
    "deletable": false,
    "id": "55f78bc2",
    "outputId": "8da1e4e1-358e-4e87-98c9-f261bce0a7b2"
   },
   "outputs": [
    {
     "data": {
      "text/plain": [
       "children            0\n",
       "days_employed       0\n",
       "dob_years           0\n",
       "education           0\n",
       "education_id        0\n",
       "family_status       0\n",
       "family_status_id    0\n",
       "gender              0\n",
       "income_type         0\n",
       "debt                0\n",
       "total_income        0\n",
       "purpose             0\n",
       "dtype: int64"
      ]
     },
     "execution_count": 12,
     "metadata": {},
     "output_type": "execute_result"
    }
   ],
   "source": [
    "data.isna().sum()"
   ]
  },
  {
   "cell_type": "markdown",
   "id": "efa46038",
   "metadata": {
    "deletable": false,
    "editable": false,
    "id": "ddc81e43"
   },
   "source": [
    "### Изменение типов данных"
   ]
  },
  {
   "cell_type": "markdown",
   "id": "bc4a0f7e",
   "metadata": {
    "deletable": false,
    "editable": false,
    "id": "42d19d24"
   },
   "source": [
    "**Задание 13. Замените вещественный тип данных в столбце `total_income` на целочисленный с помощью метода `astype()`.**"
   ]
  },
  {
   "cell_type": "code",
   "execution_count": 13,
   "id": "f4a0c0c5",
   "metadata": {
    "deletable": false,
    "id": "920b65ad"
   },
   "outputs": [],
   "source": [
    "data['total_income'] = data['total_income'].astype(int)"
   ]
  },
  {
   "cell_type": "markdown",
   "id": "6909df8b",
   "metadata": {
    "deletable": false,
    "editable": false,
    "id": "80c420ba"
   },
   "source": [
    "### Обработка дубликатов"
   ]
  },
  {
   "cell_type": "markdown",
   "id": "7f42b559",
   "metadata": {
    "deletable": false,
    "editable": false
   },
   "source": [
    "**Задание 14. Обработайте неявные дубликаты в столбце `education`. В этом столбце есть одни и те же значения, но записанные по-разному: с использованием заглавных и строчных букв. Приведите их к нижнему регистру. Проверьте остальные столбцы.**"
   ]
  },
  {
   "cell_type": "code",
   "execution_count": 14,
   "id": "a1ae4d9e",
   "metadata": {
    "deletable": false
   },
   "outputs": [],
   "source": [
    "data['education'] = data['education'].str.lower()"
   ]
  },
  {
   "cell_type": "markdown",
   "id": "404e8a7e",
   "metadata": {
    "deletable": false,
    "editable": false,
    "id": "dc587695"
   },
   "source": [
    "**Задание 15. Выведите на экран количество строк-дубликатов в данных. Если такие строки присутствуют, удалите их.**"
   ]
  },
  {
   "cell_type": "code",
   "execution_count": 15,
   "id": "005b9bb7",
   "metadata": {
    "deletable": false,
    "id": "3ee445e4",
    "outputId": "9684deba-1934-42d1-99e1-cda61740f822"
   },
   "outputs": [
    {
     "data": {
      "text/plain": [
       "71"
      ]
     },
     "execution_count": 15,
     "metadata": {},
     "output_type": "execute_result"
    }
   ],
   "source": [
    "data.duplicated().sum()"
   ]
  },
  {
   "cell_type": "code",
   "execution_count": 16,
   "id": "8d13bf2d",
   "metadata": {
    "deletable": false,
    "id": "8575fe05"
   },
   "outputs": [],
   "source": [
    "data = data.drop_duplicates()"
   ]
  },
  {
   "cell_type": "markdown",
   "id": "2fa66a57",
   "metadata": {
    "deletable": false,
    "editable": false,
    "id": "9904cf55"
   },
   "source": [
    "### Категоризация данных"
   ]
  },
  {
   "cell_type": "markdown",
   "id": "ebaabf48",
   "metadata": {
    "deletable": false,
    "editable": false,
    "id": "72fcc8a2"
   },
   "source": [
    "**Задание 16. На основании диапазонов, указанных ниже, создайте в датафрейме `data` столбец `total_income_category` с категориями:**\n",
    "\n",
    "- 0–30000 — `'E'`;\n",
    "- 30001–50000 — `'D'`;\n",
    "- 50001–200000 — `'C'`;\n",
    "- 200001–1000000 — `'B'`;\n",
    "- 1000001 и выше — `'A'`.\n",
    "\n",
    "\n",
    "**Например, кредитополучателю с доходом 25000 нужно назначить категорию `'E'`, а клиенту, получающему 235000, — `'B'`. Используйте собственную функцию с именем `categorize_income()` и метод `apply()`.**"
   ]
  },
  {
   "cell_type": "code",
   "execution_count": 17,
   "id": "350b74a4",
   "metadata": {
    "deletable": false,
    "id": "e1771346"
   },
   "outputs": [],
   "source": [
    "def categorize_income(income):\n",
    "    try:\n",
    "        if 0 <= income <= 30000:\n",
    "            return 'E'\n",
    "        elif 30001 <= income <= 50000:\n",
    "            return 'D'\n",
    "        elif 50001 <= income <= 200000:\n",
    "            return 'C'\n",
    "        elif 200001 <= income <= 1000000:\n",
    "            return 'B'\n",
    "        elif income >= 1000001:\n",
    "            return 'A'\n",
    "    except:\n",
    "        pass"
   ]
  },
  {
   "cell_type": "code",
   "execution_count": 18,
   "id": "a2676d7d",
   "metadata": {
    "deletable": false,
    "id": "d5f3586d"
   },
   "outputs": [],
   "source": [
    "data['total_income_category'] = data['total_income'].apply(categorize_income)"
   ]
  },
  {
   "cell_type": "markdown",
   "id": "8509c041",
   "metadata": {
    "deletable": false,
    "editable": false,
    "id": "dde49b5c"
   },
   "source": [
    "**Задание 17. Выведите на экран перечень уникальных целей взятия кредита из столбца `purpose`.**"
   ]
  },
  {
   "cell_type": "code",
   "execution_count": 19,
   "id": "c5dcae07",
   "metadata": {
    "deletable": false,
    "id": "f67ce9b3",
    "outputId": "673c12d9-7d7e-4ae0-9812-c622c89dd244",
    "scrolled": true
   },
   "outputs": [
    {
     "data": {
      "text/plain": [
       "array(['покупка жилья', 'приобретение автомобиля',\n",
       "       'дополнительное образование', 'сыграть свадьбу',\n",
       "       'операции с жильем', 'образование', 'на проведение свадьбы',\n",
       "       'покупка жилья для семьи', 'покупка недвижимости',\n",
       "       'покупка коммерческой недвижимости', 'покупка жилой недвижимости',\n",
       "       'строительство собственной недвижимости', 'недвижимость',\n",
       "       'строительство недвижимости', 'на покупку подержанного автомобиля',\n",
       "       'на покупку своего автомобиля',\n",
       "       'операции с коммерческой недвижимостью',\n",
       "       'строительство жилой недвижимости', 'жилье',\n",
       "       'операции со своей недвижимостью', 'автомобили',\n",
       "       'заняться образованием', 'сделка с подержанным автомобилем',\n",
       "       'получение образования', 'автомобиль', 'свадьба',\n",
       "       'получение дополнительного образования', 'покупка своего жилья',\n",
       "       'операции с недвижимостью', 'получение высшего образования',\n",
       "       'свой автомобиль', 'сделка с автомобилем',\n",
       "       'профильное образование', 'высшее образование',\n",
       "       'покупка жилья для сдачи', 'на покупку автомобиля', 'ремонт жилью',\n",
       "       'заняться высшим образованием'], dtype=object)"
      ]
     },
     "execution_count": 19,
     "metadata": {},
     "output_type": "execute_result"
    }
   ],
   "source": [
    "data['purpose'].unique()"
   ]
  },
  {
   "cell_type": "markdown",
   "id": "4c21a098",
   "metadata": {
    "deletable": false,
    "editable": false,
    "id": "85d0aef0"
   },
   "source": [
    "**Задание 18. Создайте функцию, которая на основании данных из столбца `purpose` сформирует новый столбец `purpose_category`, в который войдут следующие категории:**\n",
    "\n",
    "- `'операции с автомобилем'`,\n",
    "- `'операции с недвижимостью'`,\n",
    "- `'проведение свадьбы'`,\n",
    "- `'получение образования'`.\n",
    "\n",
    "**Например, если в столбце `purpose` находится подстрока `'на покупку автомобиля'`, то в столбце `purpose_category` должна появиться строка `'операции с автомобилем'`.**\n",
    "\n",
    "**Используйте собственную функцию с именем `categorize_purpose()` и метод `apply()`. Изучите данные в столбце `purpose` и определите, какие подстроки помогут вам правильно определить категорию.**"
   ]
  },
  {
   "cell_type": "code",
   "execution_count": 20,
   "id": "5fc0fa30",
   "metadata": {
    "deletable": false,
    "id": "e149fab4"
   },
   "outputs": [],
   "source": [
    "def categorize_purpose(row):\n",
    "    try:\n",
    "        if 'автом' in row:\n",
    "            return 'операции с автомобилем'\n",
    "        elif 'жил' in row or 'недвиж' in row:\n",
    "            return 'операции с недвижимостью'\n",
    "        elif 'свад' in row:\n",
    "            return 'проведение свадьбы'\n",
    "        elif 'образов' in row:\n",
    "            return 'получение образования'\n",
    "    except:\n",
    "        return 'нет категории'"
   ]
  },
  {
   "cell_type": "code",
   "execution_count": 21,
   "id": "15b3a890",
   "metadata": {
    "deletable": false,
    "id": "bf36e69b"
   },
   "outputs": [],
   "source": [
    "data['purpose_category'] = data['purpose'].apply(categorize_purpose)"
   ]
  },
  {
   "cell_type": "markdown",
   "id": "286f2803",
   "metadata": {
    "deletable": false,
    "editable": false,
    "id": "09b242bf"
   },
   "source": [
    "### Шаг 3. Исследуйте данные и ответьте на вопросы"
   ]
  },
  {
   "cell_type": "markdown",
   "id": "814ceb84",
   "metadata": {
    "deletable": false,
    "editable": false,
    "id": "c5d66278"
   },
   "source": [
    "#### 3.1 Есть ли зависимость между количеством детей и возвратом кредита в срок?"
   ]
  },
  {
   "cell_type": "code",
   "execution_count": 22,
   "id": "06e33dd2",
   "metadata": {
    "deletable": false,
    "id": "2cacfc4a"
   },
   "outputs": [
    {
     "data": {
      "text/html": [
       "<div>\n",
       "<style scoped>\n",
       "    .dataframe tbody tr th:only-of-type {\n",
       "        vertical-align: middle;\n",
       "    }\n",
       "\n",
       "    .dataframe tbody tr th {\n",
       "        vertical-align: top;\n",
       "    }\n",
       "\n",
       "    .dataframe thead th {\n",
       "        text-align: right;\n",
       "    }\n",
       "</style>\n",
       "<table border=\"1\" class=\"dataframe\">\n",
       "  <thead>\n",
       "    <tr style=\"text-align: right;\">\n",
       "      <th>debt</th>\n",
       "      <th>0</th>\n",
       "      <th>1</th>\n",
       "      <th>sum</th>\n",
       "      <th>percent_of_debt_per_children</th>\n",
       "    </tr>\n",
       "    <tr>\n",
       "      <th>children</th>\n",
       "      <th></th>\n",
       "      <th></th>\n",
       "      <th></th>\n",
       "      <th></th>\n",
       "    </tr>\n",
       "  </thead>\n",
       "  <tbody>\n",
       "    <tr>\n",
       "      <th>0</th>\n",
       "      <td>13028.0</td>\n",
       "      <td>1063.0</td>\n",
       "      <td>14091.0</td>\n",
       "      <td>7.543822</td>\n",
       "    </tr>\n",
       "    <tr>\n",
       "      <th>1</th>\n",
       "      <td>4364.0</td>\n",
       "      <td>444.0</td>\n",
       "      <td>4808.0</td>\n",
       "      <td>9.234609</td>\n",
       "    </tr>\n",
       "    <tr>\n",
       "      <th>2</th>\n",
       "      <td>1858.0</td>\n",
       "      <td>194.0</td>\n",
       "      <td>2052.0</td>\n",
       "      <td>9.454191</td>\n",
       "    </tr>\n",
       "    <tr>\n",
       "      <th>3</th>\n",
       "      <td>303.0</td>\n",
       "      <td>27.0</td>\n",
       "      <td>330.0</td>\n",
       "      <td>8.181818</td>\n",
       "    </tr>\n",
       "    <tr>\n",
       "      <th>4</th>\n",
       "      <td>37.0</td>\n",
       "      <td>4.0</td>\n",
       "      <td>41.0</td>\n",
       "      <td>9.756098</td>\n",
       "    </tr>\n",
       "    <tr>\n",
       "      <th>5</th>\n",
       "      <td>9.0</td>\n",
       "      <td>0.0</td>\n",
       "      <td>9.0</td>\n",
       "      <td>0.000000</td>\n",
       "    </tr>\n",
       "  </tbody>\n",
       "</table>\n",
       "</div>"
      ],
      "text/plain": [
       "debt            0       1      sum  percent_of_debt_per_children\n",
       "children                                                        \n",
       "0         13028.0  1063.0  14091.0                      7.543822\n",
       "1          4364.0   444.0   4808.0                      9.234609\n",
       "2          1858.0   194.0   2052.0                      9.454191\n",
       "3           303.0    27.0    330.0                      8.181818\n",
       "4            37.0     4.0     41.0                      9.756098\n",
       "5             9.0     0.0      9.0                      0.000000"
      ]
     },
     "metadata": {},
     "output_type": "display_data"
    },
    {
     "data": {
      "text/plain": [
       "<AxesSubplot:xlabel='children', ylabel='percent_of_debt_per_children'>"
      ]
     },
     "execution_count": 22,
     "metadata": {},
     "output_type": "execute_result"
    },
    {
     "data": {
      "image/png": "[encoded data removed]",
      "text/plain": [
       "<Figure size 864x288 with 1 Axes>"
      ]
     },
     "metadata": {},
     "output_type": "display_data"
    }
   ],
   "source": [
    "import seaborn as sn\n",
    "sn.set(rc={\"figure.figsize\":(12, 4)})\n",
    "\n",
    "children_vs_debt_data = data.groupby([\"children\",\"debt\"])[\"debt\"].count().unstack(level=\"debt\").fillna(0)\n",
    "children_vs_debt_data[\"sum\"] = children_vs_debt_data[1]+children_vs_debt_data[0]\n",
    "children_vs_debt_data[\"percent_of_debt_per_children\"] = children_vs_debt_data[1]/children_vs_debt_data[\"sum\"]*100\n",
    "\n",
    "display(children_vs_debt_data)\n",
    "sn.lineplot(data=children_vs_debt_data[:5],x=\"children\",y=\"percent_of_debt_per_children\")"
   ]
  },
  {
   "cell_type": "markdown",
   "id": "060bfa31",
   "metadata": {
    "deletable": false,
    "id": "3a6b99ec"
   },
   "source": [
    "Вывод: При построении результатов зависимости между количеством детей и процентом возврата кредита в срок, стоит уточнить, что в связи с недостаточным количеством данных по кейсам с пятью детьми, эти данные будут вычеркнуты из графика и анализа. \n",
    "\n",
    "По  графику можно увидеть, что линейной связи между количеством детей и процентом возврата кредита в срок - **не наблюдается**. Разница между лучшей и худшей статистикой возврата, составляет не больше 2.21 процента.\n",
    "\n",
    "В данной группе, лучшее значение выплат было у группы без детей с 7.54% процентом просрочки, а худший результат у группы с 4 детьми с 9.75%"
   ]
  },
  {
   "cell_type": "markdown",
   "id": "717a75ba",
   "metadata": {
    "deletable": false,
    "editable": false,
    "id": "97be82ca"
   },
   "source": [
    "#### 3.2 Есть ли зависимость между семейным положением и возвратом кредита в срок?"
   ]
  },
  {
   "cell_type": "code",
   "execution_count": 23,
   "id": "2ce2a717",
   "metadata": {
    "deletable": false,
    "id": "dc3f7ee8"
   },
   "outputs": [
    {
     "data": {
      "text/html": [
       "<div>\n",
       "<style scoped>\n",
       "    .dataframe tbody tr th:only-of-type {\n",
       "        vertical-align: middle;\n",
       "    }\n",
       "\n",
       "    .dataframe tbody tr th {\n",
       "        vertical-align: top;\n",
       "    }\n",
       "\n",
       "    .dataframe thead th {\n",
       "        text-align: right;\n",
       "    }\n",
       "</style>\n",
       "<table border=\"1\" class=\"dataframe\">\n",
       "  <thead>\n",
       "    <tr style=\"text-align: right;\">\n",
       "      <th>debt</th>\n",
       "      <th>0</th>\n",
       "      <th>1</th>\n",
       "      <th>sum</th>\n",
       "      <th>percent_of_debt_per_family_status</th>\n",
       "    </tr>\n",
       "    <tr>\n",
       "      <th>family_status</th>\n",
       "      <th></th>\n",
       "      <th></th>\n",
       "      <th></th>\n",
       "      <th></th>\n",
       "    </tr>\n",
       "  </thead>\n",
       "  <tbody>\n",
       "    <tr>\n",
       "      <th>Не женат / не замужем</th>\n",
       "      <td>2523</td>\n",
       "      <td>273</td>\n",
       "      <td>2796</td>\n",
       "      <td>9.763948</td>\n",
       "    </tr>\n",
       "    <tr>\n",
       "      <th>в разводе</th>\n",
       "      <td>1105</td>\n",
       "      <td>84</td>\n",
       "      <td>1189</td>\n",
       "      <td>7.064760</td>\n",
       "    </tr>\n",
       "    <tr>\n",
       "      <th>вдовец / вдова</th>\n",
       "      <td>888</td>\n",
       "      <td>63</td>\n",
       "      <td>951</td>\n",
       "      <td>6.624606</td>\n",
       "    </tr>\n",
       "    <tr>\n",
       "      <th>гражданский брак</th>\n",
       "      <td>3749</td>\n",
       "      <td>385</td>\n",
       "      <td>4134</td>\n",
       "      <td>9.313014</td>\n",
       "    </tr>\n",
       "    <tr>\n",
       "      <th>женат / замужем</th>\n",
       "      <td>11334</td>\n",
       "      <td>927</td>\n",
       "      <td>12261</td>\n",
       "      <td>7.560558</td>\n",
       "    </tr>\n",
       "  </tbody>\n",
       "</table>\n",
       "</div>"
      ],
      "text/plain": [
       "debt                       0    1    sum  percent_of_debt_per_family_status\n",
       "family_status                                                              \n",
       "Не женат / не замужем   2523  273   2796                           9.763948\n",
       "в разводе               1105   84   1189                           7.064760\n",
       "вдовец / вдова           888   63    951                           6.624606\n",
       "гражданский брак        3749  385   4134                           9.313014\n",
       "женат / замужем        11334  927  12261                           7.560558"
      ]
     },
     "metadata": {},
     "output_type": "display_data"
    },
    {
     "name": "stdout",
     "output_type": "stream",
     "text": [
      "Средний процент невозврата: 8.065377275052759\n"
     ]
    },
    {
     "data": {
      "image/png": "[encoded data removed]",
      "text/plain": [
       "<Figure size 864x288 with 1 Axes>"
      ]
     },
     "metadata": {},
     "output_type": "display_data"
    }
   ],
   "source": [
    "family_status_vs_debt_data = data.groupby([\"family_status\",\"debt\"])[\"debt\"].count().unstack(level=\"debt\")\n",
    "family_status_vs_debt_data[\"sum\"] = family_status_vs_debt_data[1]+family_status_vs_debt_data[0]\n",
    "family_status_vs_debt_data[\"percent_of_debt_per_family_status\"] = family_status_vs_debt_data[1]/family_status_vs_debt_data[\"sum\"]*100\n",
    "\n",
    "display(family_status_vs_debt_data)\n",
    "sn.barplot(x=family_status_vs_debt_data.index, y= family_status_vs_debt_data[\"percent_of_debt_per_family_status\"])\n",
    "print(\"Средний процент невозврата:\",family_status_vs_debt_data[\"percent_of_debt_per_family_status\"].mean())"
   ]
  },
  {
   "cell_type": "markdown",
   "id": "4f4505cc",
   "metadata": {
    "deletable": false,
    "id": "1cef7837"
   },
   "source": [
    "Вывод: Для анализа зависимости семейного статуса на возврат кредита в срок, так же использовался процент невозврата для проведения анализа. Данные показывают, что связь между семейным положением и возвратом кредите в срок - **отсутствует**. Не выделяется ни одна группа из всех отличающемся результатом от среднего значения во всем группам. Самое большое отличие от среднего значение присутствует у группы \"Не женат/не замужем\" с результатом в 1.7%  \n",
    "\n",
    "В данной группе, лучшее значение выплат было у группы \"вдовец / вдова\" с 6.62% процентом просрочки, а худший результат у группы \"Не женат / не замужем\" с 9.76%"
   ]
  },
  {
   "cell_type": "markdown",
   "id": "e82974f3",
   "metadata": {
    "deletable": false,
    "editable": false,
    "id": "1e8b2fca"
   },
   "source": [
    "#### 3.3 Есть ли зависимость между уровнем дохода и возвратом кредита в срок?"
   ]
  },
  {
   "cell_type": "code",
   "execution_count": 24,
   "id": "9b3fa941",
   "metadata": {
    "deletable": false,
    "id": "cd7e3720"
   },
   "outputs": [
    {
     "data": {
      "text/html": [
       "<div>\n",
       "<style scoped>\n",
       "    .dataframe tbody tr th:only-of-type {\n",
       "        vertical-align: middle;\n",
       "    }\n",
       "\n",
       "    .dataframe tbody tr th {\n",
       "        vertical-align: top;\n",
       "    }\n",
       "\n",
       "    .dataframe thead th {\n",
       "        text-align: right;\n",
       "    }\n",
       "</style>\n",
       "<table border=\"1\" class=\"dataframe\">\n",
       "  <thead>\n",
       "    <tr style=\"text-align: right;\">\n",
       "      <th>debt</th>\n",
       "      <th>0</th>\n",
       "      <th>1</th>\n",
       "      <th>sum</th>\n",
       "      <th>percent_of_debt_per_total_income_category</th>\n",
       "    </tr>\n",
       "    <tr>\n",
       "      <th>total_income_category</th>\n",
       "      <th></th>\n",
       "      <th></th>\n",
       "      <th></th>\n",
       "      <th></th>\n",
       "    </tr>\n",
       "  </thead>\n",
       "  <tbody>\n",
       "    <tr>\n",
       "      <th>A</th>\n",
       "      <td>23</td>\n",
       "      <td>2</td>\n",
       "      <td>25</td>\n",
       "      <td>8.000000</td>\n",
       "    </tr>\n",
       "    <tr>\n",
       "      <th>B</th>\n",
       "      <td>4660</td>\n",
       "      <td>354</td>\n",
       "      <td>5014</td>\n",
       "      <td>7.060231</td>\n",
       "    </tr>\n",
       "    <tr>\n",
       "      <th>C</th>\n",
       "      <td>14568</td>\n",
       "      <td>1353</td>\n",
       "      <td>15921</td>\n",
       "      <td>8.498210</td>\n",
       "    </tr>\n",
       "    <tr>\n",
       "      <th>D</th>\n",
       "      <td>328</td>\n",
       "      <td>21</td>\n",
       "      <td>349</td>\n",
       "      <td>6.017192</td>\n",
       "    </tr>\n",
       "    <tr>\n",
       "      <th>E</th>\n",
       "      <td>20</td>\n",
       "      <td>2</td>\n",
       "      <td>22</td>\n",
       "      <td>9.090909</td>\n",
       "    </tr>\n",
       "  </tbody>\n",
       "</table>\n",
       "</div>"
      ],
      "text/plain": [
       "debt                       0     1    sum  \\\n",
       "total_income_category                       \n",
       "A                         23     2     25   \n",
       "B                       4660   354   5014   \n",
       "C                      14568  1353  15921   \n",
       "D                        328    21    349   \n",
       "E                         20     2     22   \n",
       "\n",
       "debt                   percent_of_debt_per_total_income_category  \n",
       "total_income_category                                             \n",
       "A                                                       8.000000  \n",
       "B                                                       7.060231  \n",
       "C                                                       8.498210  \n",
       "D                                                       6.017192  \n",
       "E                                                       9.090909  "
      ]
     },
     "metadata": {},
     "output_type": "display_data"
    },
    {
     "data": {
      "text/plain": [
       "<AxesSubplot:xlabel='total_income_category', ylabel='percent_of_debt_per_total_income_category'>"
      ]
     },
     "execution_count": 24,
     "metadata": {},
     "output_type": "execute_result"
    },
    {
     "data": {
      "image/png": "[encoded data removed]",
      "text/plain": [
       "<Figure size 864x288 with 1 Axes>"
      ]
     },
     "metadata": {},
     "output_type": "display_data"
    }
   ],
   "source": [
    "total_income_category_vs_debt_data = data.groupby([\"total_income_category\",\"debt\"])[\"debt\"].count().unstack(level=\"debt\")\n",
    "total_income_category_vs_debt_data[\"sum\"] = total_income_category_vs_debt_data[1]+total_income_category_vs_debt_data[0]\n",
    "total_income_category_vs_debt_data[\"percent_of_debt_per_total_income_category\"] = total_income_category_vs_debt_data[1]/total_income_category_vs_debt_data[\"sum\"]*100\n",
    "\n",
    "display(total_income_category_vs_debt_data)\n",
    "sn.lineplot(x=total_income_category_vs_debt_data.index, y= total_income_category_vs_debt_data[\"percent_of_debt_per_total_income_category\"])"
   ]
  },
  {
   "cell_type": "markdown",
   "id": "810887f3",
   "metadata": {
    "deletable": false,
    "id": "e8593def"
   },
   "source": [
    "Вывод: при анализе влияния зависимости между уровнем дохода и возвратом кредита в срок, линейной зависимости - **не наблюдается**.  Однако, стоит заметить, что количество данных для проведения полноценного анализа не достаточно, так как группы \"А\" и \"Е\" оба имеет менее 30 кейсов, тогда как группа \"С\" более 15000. В связи с этим, результат анализа может отличаться от реальности. \n",
    "\n",
    "В данной группе, лучшее значение выплат было у группы \"D\" с 6.02% процентом просрочки, а худший результат у группы \"E\" с 9.09%"
   ]
  },
  {
   "cell_type": "markdown",
   "id": "7247b1f2",
   "metadata": {
    "deletable": false,
    "editable": false,
    "id": "99ecbd1f"
   },
   "source": [
    "#### 3.4 Как разные цели кредита влияют на его возврат в срок?"
   ]
  },
  {
   "cell_type": "code",
   "execution_count": 25,
   "id": "9216e06f",
   "metadata": {
    "deletable": false,
    "id": "2b687290"
   },
   "outputs": [
    {
     "data": {
      "text/html": [
       "<div>\n",
       "<style scoped>\n",
       "    .dataframe tbody tr th:only-of-type {\n",
       "        vertical-align: middle;\n",
       "    }\n",
       "\n",
       "    .dataframe tbody tr th {\n",
       "        vertical-align: top;\n",
       "    }\n",
       "\n",
       "    .dataframe thead th {\n",
       "        text-align: right;\n",
       "    }\n",
       "</style>\n",
       "<table border=\"1\" class=\"dataframe\">\n",
       "  <thead>\n",
       "    <tr style=\"text-align: right;\">\n",
       "      <th>debt</th>\n",
       "      <th>0</th>\n",
       "      <th>1</th>\n",
       "      <th>sum</th>\n",
       "      <th>percent_of_debt_per_purpose_category</th>\n",
       "    </tr>\n",
       "    <tr>\n",
       "      <th>purpose_category</th>\n",
       "      <th></th>\n",
       "      <th></th>\n",
       "      <th></th>\n",
       "      <th></th>\n",
       "    </tr>\n",
       "  </thead>\n",
       "  <tbody>\n",
       "    <tr>\n",
       "      <th>операции с автомобилем</th>\n",
       "      <td>3879</td>\n",
       "      <td>400</td>\n",
       "      <td>4279</td>\n",
       "      <td>9.347978</td>\n",
       "    </tr>\n",
       "    <tr>\n",
       "      <th>операции с недвижимостью</th>\n",
       "      <td>9971</td>\n",
       "      <td>780</td>\n",
       "      <td>10751</td>\n",
       "      <td>7.255139</td>\n",
       "    </tr>\n",
       "    <tr>\n",
       "      <th>получение образования</th>\n",
       "      <td>3619</td>\n",
       "      <td>369</td>\n",
       "      <td>3988</td>\n",
       "      <td>9.252758</td>\n",
       "    </tr>\n",
       "    <tr>\n",
       "      <th>проведение свадьбы</th>\n",
       "      <td>2130</td>\n",
       "      <td>183</td>\n",
       "      <td>2313</td>\n",
       "      <td>7.911803</td>\n",
       "    </tr>\n",
       "  </tbody>\n",
       "</table>\n",
       "</div>"
      ],
      "text/plain": [
       "debt                         0    1    sum  \\\n",
       "purpose_category                             \n",
       "операции с автомобилем    3879  400   4279   \n",
       "операции с недвижимостью  9971  780  10751   \n",
       "получение образования     3619  369   3988   \n",
       "проведение свадьбы        2130  183   2313   \n",
       "\n",
       "debt                      percent_of_debt_per_purpose_category  \n",
       "purpose_category                                                \n",
       "операции с автомобилем                                9.347978  \n",
       "операции с недвижимостью                              7.255139  \n",
       "получение образования                                 9.252758  \n",
       "проведение свадьбы                                    7.911803  "
      ]
     },
     "metadata": {},
     "output_type": "display_data"
    },
    {
     "name": "stdout",
     "output_type": "stream",
     "text": [
      "Средний процент невозврата: 8.441919671185735\n"
     ]
    },
    {
     "data": {
      "image/png": "[encoded data removed]",
      "text/plain": [
       "<Figure size 864x288 with 1 Axes>"
      ]
     },
     "metadata": {},
     "output_type": "display_data"
    }
   ],
   "source": [
    "purpose_category_vs_debt_data = data.groupby([\"purpose_category\",\"debt\"])[\"debt\"].count().unstack(level=\"debt\").fillna(0)\n",
    "purpose_category_vs_debt_data[\"sum\"] = purpose_category_vs_debt_data[1]+purpose_category_vs_debt_data[0]\n",
    "purpose_category_vs_debt_data[\"percent_of_debt_per_purpose_category\"] = purpose_category_vs_debt_data[1]/purpose_category_vs_debt_data[\"sum\"]*100\n",
    "\n",
    "display(purpose_category_vs_debt_data)\n",
    "sn.barplot(x=purpose_category_vs_debt_data.index, y= purpose_category_vs_debt_data[\"percent_of_debt_per_purpose_category\"])\n",
    "print(\"Средний процент невозврата:\",purpose_category_vs_debt_data[\"percent_of_debt_per_purpose_category\"].mean())"
   ]
  },
  {
   "cell_type": "markdown",
   "id": "0cfbcb76",
   "metadata": {
    "deletable": false,
    "id": "b4bb2ce6"
   },
   "source": [
    "Вывод: в анализе влияния цели кредита на процент возврата кредита в срок - **связь не была обнаружена**. Процент каждой категории отличался от среднего значения от всех групп не более чем на один процент.\n",
    "\n",
    "В данной группе, лучшее значение выплат было у группы \"операции с недвижимостью\" с 7.26% процентом просрочки, а худший результат у группы \"операции с автомобилем\t\" с 9.35%"
   ]
  },
  {
   "cell_type": "markdown",
   "id": "d7373fd2",
   "metadata": {
    "deletable": false,
    "editable": false,
    "id": "09c3ac4c"
   },
   "source": [
    "#### 3.5 Приведите возможные причины появления пропусков в исходных данных."
   ]
  },
  {
   "cell_type": "code",
   "execution_count": 26,
   "id": "62e085ca",
   "metadata": {
    "deletable": false,
    "id": "9da2ceda",
    "scrolled": true
   },
   "outputs": [
    {
     "data": {
      "text/html": [
       "<div>\n",
       "<style scoped>\n",
       "    .dataframe tbody tr th:only-of-type {\n",
       "        vertical-align: middle;\n",
       "    }\n",
       "\n",
       "    .dataframe tbody tr th {\n",
       "        vertical-align: top;\n",
       "    }\n",
       "\n",
       "    .dataframe thead th {\n",
       "        text-align: right;\n",
       "    }\n",
       "</style>\n",
       "<table border=\"1\" class=\"dataframe\">\n",
       "  <thead>\n",
       "    <tr style=\"text-align: right;\">\n",
       "      <th></th>\n",
       "      <th>children</th>\n",
       "      <th>days_employed</th>\n",
       "      <th>dob_years</th>\n",
       "      <th>education</th>\n",
       "      <th>education_id</th>\n",
       "      <th>family_status</th>\n",
       "      <th>family_status_id</th>\n",
       "      <th>gender</th>\n",
       "      <th>income_type</th>\n",
       "      <th>debt</th>\n",
       "      <th>total_income</th>\n",
       "      <th>purpose</th>\n",
       "    </tr>\n",
       "  </thead>\n",
       "  <tbody>\n",
       "    <tr>\n",
       "      <th>12</th>\n",
       "      <td>0</td>\n",
       "      <td>NaN</td>\n",
       "      <td>65</td>\n",
       "      <td>среднее</td>\n",
       "      <td>1</td>\n",
       "      <td>гражданский брак</td>\n",
       "      <td>1</td>\n",
       "      <td>M</td>\n",
       "      <td>пенсионер</td>\n",
       "      <td>0</td>\n",
       "      <td>NaN</td>\n",
       "      <td>сыграть свадьбу</td>\n",
       "    </tr>\n",
       "    <tr>\n",
       "      <th>26</th>\n",
       "      <td>0</td>\n",
       "      <td>NaN</td>\n",
       "      <td>41</td>\n",
       "      <td>среднее</td>\n",
       "      <td>1</td>\n",
       "      <td>женат / замужем</td>\n",
       "      <td>0</td>\n",
       "      <td>M</td>\n",
       "      <td>госслужащий</td>\n",
       "      <td>0</td>\n",
       "      <td>NaN</td>\n",
       "      <td>образование</td>\n",
       "    </tr>\n",
       "    <tr>\n",
       "      <th>29</th>\n",
       "      <td>0</td>\n",
       "      <td>NaN</td>\n",
       "      <td>63</td>\n",
       "      <td>среднее</td>\n",
       "      <td>1</td>\n",
       "      <td>Не женат / не замужем</td>\n",
       "      <td>4</td>\n",
       "      <td>F</td>\n",
       "      <td>пенсионер</td>\n",
       "      <td>0</td>\n",
       "      <td>NaN</td>\n",
       "      <td>строительство жилой недвижимости</td>\n",
       "    </tr>\n",
       "    <tr>\n",
       "      <th>41</th>\n",
       "      <td>0</td>\n",
       "      <td>NaN</td>\n",
       "      <td>50</td>\n",
       "      <td>среднее</td>\n",
       "      <td>1</td>\n",
       "      <td>женат / замужем</td>\n",
       "      <td>0</td>\n",
       "      <td>F</td>\n",
       "      <td>госслужащий</td>\n",
       "      <td>0</td>\n",
       "      <td>NaN</td>\n",
       "      <td>сделка с подержанным автомобилем</td>\n",
       "    </tr>\n",
       "    <tr>\n",
       "      <th>55</th>\n",
       "      <td>0</td>\n",
       "      <td>NaN</td>\n",
       "      <td>54</td>\n",
       "      <td>среднее</td>\n",
       "      <td>1</td>\n",
       "      <td>гражданский брак</td>\n",
       "      <td>1</td>\n",
       "      <td>F</td>\n",
       "      <td>пенсионер</td>\n",
       "      <td>1</td>\n",
       "      <td>NaN</td>\n",
       "      <td>сыграть свадьбу</td>\n",
       "    </tr>\n",
       "    <tr>\n",
       "      <th>65</th>\n",
       "      <td>0</td>\n",
       "      <td>NaN</td>\n",
       "      <td>21</td>\n",
       "      <td>среднее</td>\n",
       "      <td>1</td>\n",
       "      <td>Не женат / не замужем</td>\n",
       "      <td>4</td>\n",
       "      <td>M</td>\n",
       "      <td>компаньон</td>\n",
       "      <td>0</td>\n",
       "      <td>NaN</td>\n",
       "      <td>операции с коммерческой недвижимостью</td>\n",
       "    </tr>\n",
       "    <tr>\n",
       "      <th>67</th>\n",
       "      <td>0</td>\n",
       "      <td>NaN</td>\n",
       "      <td>52</td>\n",
       "      <td>высшее</td>\n",
       "      <td>0</td>\n",
       "      <td>женат / замужем</td>\n",
       "      <td>0</td>\n",
       "      <td>F</td>\n",
       "      <td>пенсионер</td>\n",
       "      <td>0</td>\n",
       "      <td>NaN</td>\n",
       "      <td>покупка жилья для семьи</td>\n",
       "    </tr>\n",
       "    <tr>\n",
       "      <th>72</th>\n",
       "      <td>1</td>\n",
       "      <td>NaN</td>\n",
       "      <td>32</td>\n",
       "      <td>высшее</td>\n",
       "      <td>0</td>\n",
       "      <td>женат / замужем</td>\n",
       "      <td>0</td>\n",
       "      <td>M</td>\n",
       "      <td>госслужащий</td>\n",
       "      <td>0</td>\n",
       "      <td>NaN</td>\n",
       "      <td>операции с коммерческой недвижимостью</td>\n",
       "    </tr>\n",
       "    <tr>\n",
       "      <th>82</th>\n",
       "      <td>2</td>\n",
       "      <td>NaN</td>\n",
       "      <td>50</td>\n",
       "      <td>высшее</td>\n",
       "      <td>0</td>\n",
       "      <td>женат / замужем</td>\n",
       "      <td>0</td>\n",
       "      <td>F</td>\n",
       "      <td>сотрудник</td>\n",
       "      <td>0</td>\n",
       "      <td>NaN</td>\n",
       "      <td>жилье</td>\n",
       "    </tr>\n",
       "    <tr>\n",
       "      <th>83</th>\n",
       "      <td>0</td>\n",
       "      <td>NaN</td>\n",
       "      <td>52</td>\n",
       "      <td>среднее</td>\n",
       "      <td>1</td>\n",
       "      <td>женат / замужем</td>\n",
       "      <td>0</td>\n",
       "      <td>M</td>\n",
       "      <td>сотрудник</td>\n",
       "      <td>0</td>\n",
       "      <td>NaN</td>\n",
       "      <td>жилье</td>\n",
       "    </tr>\n",
       "    <tr>\n",
       "      <th>90</th>\n",
       "      <td>2</td>\n",
       "      <td>NaN</td>\n",
       "      <td>35</td>\n",
       "      <td>высшее</td>\n",
       "      <td>0</td>\n",
       "      <td>женат / замужем</td>\n",
       "      <td>0</td>\n",
       "      <td>F</td>\n",
       "      <td>сотрудник</td>\n",
       "      <td>0</td>\n",
       "      <td>NaN</td>\n",
       "      <td>операции с жильем</td>\n",
       "    </tr>\n",
       "    <tr>\n",
       "      <th>94</th>\n",
       "      <td>1</td>\n",
       "      <td>NaN</td>\n",
       "      <td>34</td>\n",
       "      <td>высшее</td>\n",
       "      <td>0</td>\n",
       "      <td>гражданский брак</td>\n",
       "      <td>1</td>\n",
       "      <td>F</td>\n",
       "      <td>компаньон</td>\n",
       "      <td>0</td>\n",
       "      <td>NaN</td>\n",
       "      <td>на проведение свадьбы</td>\n",
       "    </tr>\n",
       "    <tr>\n",
       "      <th>96</th>\n",
       "      <td>0</td>\n",
       "      <td>NaN</td>\n",
       "      <td>44</td>\n",
       "      <td>СРЕДНЕЕ</td>\n",
       "      <td>1</td>\n",
       "      <td>женат / замужем</td>\n",
       "      <td>0</td>\n",
       "      <td>F</td>\n",
       "      <td>сотрудник</td>\n",
       "      <td>0</td>\n",
       "      <td>NaN</td>\n",
       "      <td>покупка жилой недвижимости</td>\n",
       "    </tr>\n",
       "    <tr>\n",
       "      <th>97</th>\n",
       "      <td>0</td>\n",
       "      <td>NaN</td>\n",
       "      <td>47</td>\n",
       "      <td>высшее</td>\n",
       "      <td>0</td>\n",
       "      <td>женат / замужем</td>\n",
       "      <td>0</td>\n",
       "      <td>F</td>\n",
       "      <td>сотрудник</td>\n",
       "      <td>0</td>\n",
       "      <td>NaN</td>\n",
       "      <td>профильное образование</td>\n",
       "    </tr>\n",
       "    <tr>\n",
       "      <th>120</th>\n",
       "      <td>0</td>\n",
       "      <td>NaN</td>\n",
       "      <td>46</td>\n",
       "      <td>среднее</td>\n",
       "      <td>1</td>\n",
       "      <td>женат / замужем</td>\n",
       "      <td>0</td>\n",
       "      <td>F</td>\n",
       "      <td>сотрудник</td>\n",
       "      <td>0</td>\n",
       "      <td>NaN</td>\n",
       "      <td>высшее образование</td>\n",
       "    </tr>\n",
       "    <tr>\n",
       "      <th>121</th>\n",
       "      <td>0</td>\n",
       "      <td>NaN</td>\n",
       "      <td>29</td>\n",
       "      <td>высшее</td>\n",
       "      <td>0</td>\n",
       "      <td>женат / замужем</td>\n",
       "      <td>0</td>\n",
       "      <td>F</td>\n",
       "      <td>компаньон</td>\n",
       "      <td>0</td>\n",
       "      <td>NaN</td>\n",
       "      <td>автомобиль</td>\n",
       "    </tr>\n",
       "    <tr>\n",
       "      <th>135</th>\n",
       "      <td>0</td>\n",
       "      <td>NaN</td>\n",
       "      <td>27</td>\n",
       "      <td>среднее</td>\n",
       "      <td>1</td>\n",
       "      <td>женат / замужем</td>\n",
       "      <td>0</td>\n",
       "      <td>M</td>\n",
       "      <td>компаньон</td>\n",
       "      <td>0</td>\n",
       "      <td>NaN</td>\n",
       "      <td>жилье</td>\n",
       "    </tr>\n",
       "    <tr>\n",
       "      <th>141</th>\n",
       "      <td>0</td>\n",
       "      <td>NaN</td>\n",
       "      <td>39</td>\n",
       "      <td>среднее</td>\n",
       "      <td>1</td>\n",
       "      <td>гражданский брак</td>\n",
       "      <td>1</td>\n",
       "      <td>M</td>\n",
       "      <td>сотрудник</td>\n",
       "      <td>0</td>\n",
       "      <td>NaN</td>\n",
       "      <td>свадьба</td>\n",
       "    </tr>\n",
       "    <tr>\n",
       "      <th>145</th>\n",
       "      <td>0</td>\n",
       "      <td>NaN</td>\n",
       "      <td>62</td>\n",
       "      <td>среднее</td>\n",
       "      <td>1</td>\n",
       "      <td>женат / замужем</td>\n",
       "      <td>0</td>\n",
       "      <td>M</td>\n",
       "      <td>пенсионер</td>\n",
       "      <td>0</td>\n",
       "      <td>NaN</td>\n",
       "      <td>строительство недвижимости</td>\n",
       "    </tr>\n",
       "    <tr>\n",
       "      <th>174</th>\n",
       "      <td>0</td>\n",
       "      <td>NaN</td>\n",
       "      <td>55</td>\n",
       "      <td>высшее</td>\n",
       "      <td>0</td>\n",
       "      <td>вдовец / вдова</td>\n",
       "      <td>2</td>\n",
       "      <td>F</td>\n",
       "      <td>компаньон</td>\n",
       "      <td>0</td>\n",
       "      <td>NaN</td>\n",
       "      <td>свой автомобиль</td>\n",
       "    </tr>\n",
       "  </tbody>\n",
       "</table>\n",
       "</div>"
      ],
      "text/plain": [
       "     children  days_employed  dob_years education  education_id  \\\n",
       "12          0            NaN         65   среднее             1   \n",
       "26          0            NaN         41   среднее             1   \n",
       "29          0            NaN         63   среднее             1   \n",
       "41          0            NaN         50   среднее             1   \n",
       "55          0            NaN         54   среднее             1   \n",
       "65          0            NaN         21   среднее             1   \n",
       "67          0            NaN         52    высшее             0   \n",
       "72          1            NaN         32    высшее             0   \n",
       "82          2            NaN         50    высшее             0   \n",
       "83          0            NaN         52   среднее             1   \n",
       "90          2            NaN         35    высшее             0   \n",
       "94          1            NaN         34    высшее             0   \n",
       "96          0            NaN         44   СРЕДНЕЕ             1   \n",
       "97          0            NaN         47    высшее             0   \n",
       "120         0            NaN         46   среднее             1   \n",
       "121         0            NaN         29    высшее             0   \n",
       "135         0            NaN         27   среднее             1   \n",
       "141         0            NaN         39   среднее             1   \n",
       "145         0            NaN         62   среднее             1   \n",
       "174         0            NaN         55    высшее             0   \n",
       "\n",
       "             family_status  family_status_id gender  income_type  debt  \\\n",
       "12        гражданский брак                 1      M    пенсионер     0   \n",
       "26         женат / замужем                 0      M  госслужащий     0   \n",
       "29   Не женат / не замужем                 4      F    пенсионер     0   \n",
       "41         женат / замужем                 0      F  госслужащий     0   \n",
       "55        гражданский брак                 1      F    пенсионер     1   \n",
       "65   Не женат / не замужем                 4      M    компаньон     0   \n",
       "67         женат / замужем                 0      F    пенсионер     0   \n",
       "72         женат / замужем                 0      M  госслужащий     0   \n",
       "82         женат / замужем                 0      F    сотрудник     0   \n",
       "83         женат / замужем                 0      M    сотрудник     0   \n",
       "90         женат / замужем                 0      F    сотрудник     0   \n",
       "94        гражданский брак                 1      F    компаньон     0   \n",
       "96         женат / замужем                 0      F    сотрудник     0   \n",
       "97         женат / замужем                 0      F    сотрудник     0   \n",
       "120        женат / замужем                 0      F    сотрудник     0   \n",
       "121        женат / замужем                 0      F    компаньон     0   \n",
       "135        женат / замужем                 0      M    компаньон     0   \n",
       "141       гражданский брак                 1      M    сотрудник     0   \n",
       "145        женат / замужем                 0      M    пенсионер     0   \n",
       "174         вдовец / вдова                 2      F    компаньон     0   \n",
       "\n",
       "     total_income                                purpose  \n",
       "12            NaN                        сыграть свадьбу  \n",
       "26            NaN                            образование  \n",
       "29            NaN       строительство жилой недвижимости  \n",
       "41            NaN       сделка с подержанным автомобилем  \n",
       "55            NaN                        сыграть свадьбу  \n",
       "65            NaN  операции с коммерческой недвижимостью  \n",
       "67            NaN                покупка жилья для семьи  \n",
       "72            NaN  операции с коммерческой недвижимостью  \n",
       "82            NaN                                  жилье  \n",
       "83            NaN                                  жилье  \n",
       "90            NaN                      операции с жильем  \n",
       "94            NaN                  на проведение свадьбы  \n",
       "96            NaN             покупка жилой недвижимости  \n",
       "97            NaN                 профильное образование  \n",
       "120           NaN                     высшее образование  \n",
       "121           NaN                             автомобиль  \n",
       "135           NaN                                  жилье  \n",
       "141           NaN                                свадьба  \n",
       "145           NaN             строительство недвижимости  \n",
       "174           NaN                        свой автомобиль  "
      ]
     },
     "metadata": {},
     "output_type": "display_data"
    }
   ],
   "source": [
    "extra_data = pd.read_csv('/datasets/data.csv')\n",
    "\n",
    "display(extra_data[extra_data[\"total_income\"].isna()].head(20))"
   ]
  },
  {
   "cell_type": "markdown",
   "id": "700f4ec9",
   "metadata": {},
   "source": [
    "Ответ: никакой взаимосвязи между пропусками и другими данными не было обнаружено. Однако, можно заметить что, где отсутствуют данные о кол-во днях, там же отсутствует информация о заработке. Поэтому, вряд ли это незнание или нехотение человека вписывать информацию, а скорее техническая ошибка, так как полная взаимосвязь.\n",
    "\n",
    "Однако, если \"total_income\" высчитывается из \"days_employed\", тогда пропуски можно сослать на незаполнения полей в связи с незнанием и отказом в предоставлении информации. "
   ]
  },
  {
   "cell_type": "markdown",
   "id": "b1c980ae",
   "metadata": {
    "deletable": false,
    "editable": false,
    "id": "7b0487d6"
   },
   "source": [
    "#### 3.6 Объясните, почему заполнить пропуски медианным значением — лучшее решение для количественных переменных."
   ]
  },
  {
   "cell_type": "markdown",
   "id": "8eecfe8f",
   "metadata": {
    "deletable": false,
    "id": "7ecf2b8e"
   },
   "source": [
    "*Ответ: значение медианы защищает от аномальных значений и лучше среднего показывает возможный пропущенный результат, так как вероятно пропуска быть больше или меньше медианы ровна.* "
   ]
  },
  {
   "cell_type": "markdown",
   "id": "166f6f25",
   "metadata": {
    "deletable": false,
    "editable": false,
    "id": "6db5255a"
   },
   "source": [
    "### Шаг 4: общий вывод."
   ]
  },
  {
   "cell_type": "markdown",
   "id": "621008e1",
   "metadata": {
    "deletable": false,
    "id": "bad65432"
   },
   "source": [
    "В результате анализа, явных взаимосвязей между спектром групп и процентом возврата кредита в срок - не было выявлено. Для некоторых групп отсутствовало достаточное количество кейсов, для остальных, разница между группами и среднем значением не превышала значение, которое бы показывала прямое влияние данного фактора на процент по не возврату кредита в срок. \n",
    "\n",
    "Так же, стоит отметить, что можно создать группу людей которые статистические имеют больший риск в невыплате кредита в срок. При объедении худших локальных результатов, например, не замужняя женщина с 4 детьми, зарплатной категорией \"С\", которая желает взять кредит для операций с автомобилем, более вероятно просрочит кредит чем люди с другими характеристиками. \n"
   ]
  }
 ],
 "metadata": {
  "ExecuteTimeLog": [
   {
    "duration": 76,
    "start_time": "2022-09-17T14:10:41.074Z"
   },
   {
    "duration": 559,
    "start_time": "2022-09-17T14:10:55.329Z"
   },
   {
    "duration": 34,
    "start_time": "2022-09-17T14:10:56.715Z"
   },
   {
    "duration": 23,
    "start_time": "2022-09-17T14:10:57.242Z"
   },
   {
    "duration": 10,
    "start_time": "2022-09-17T14:10:57.937Z"
   },
   {
    "duration": 41,
    "start_time": "2022-09-17T14:10:58.304Z"
   },
   {
    "duration": 4,
    "start_time": "2022-09-17T14:10:58.841Z"
   },
   {
    "duration": 9,
    "start_time": "2022-09-17T14:10:59.214Z"
   },
   {
    "duration": 4,
    "start_time": "2022-09-17T14:10:59.718Z"
   },
   {
    "duration": 10,
    "start_time": "2022-09-17T14:11:00.110Z"
   },
   {
    "duration": 6,
    "start_time": "2022-09-17T14:11:00.472Z"
   },
   {
    "duration": 56,
    "start_time": "2022-09-17T14:11:01.281Z"
   },
   {
    "duration": 11,
    "start_time": "2022-09-17T14:11:01.659Z"
   },
   {
    "duration": 4,
    "start_time": "2022-09-17T14:11:02.457Z"
   },
   {
    "duration": 20,
    "start_time": "2022-09-17T14:11:03.204Z"
   },
   {
    "duration": 31,
    "start_time": "2022-09-17T14:11:03.589Z"
   },
   {
    "duration": 25,
    "start_time": "2022-09-17T14:11:03.806Z"
   },
   {
    "duration": 5,
    "start_time": "2022-09-17T14:11:04.445Z"
   },
   {
    "duration": 12,
    "start_time": "2022-09-17T14:11:04.649Z"
   },
   {
    "duration": 7,
    "start_time": "2022-09-17T14:11:05.236Z"
   },
   {
    "duration": 5,
    "start_time": "2022-09-17T14:11:05.610Z"
   },
   {
    "duration": 9,
    "start_time": "2022-09-17T14:11:05.946Z"
   },
   {
    "duration": 28,
    "start_time": "2022-09-17T14:11:07.313Z"
   },
   {
    "duration": 1464,
    "start_time": "2022-09-17T14:24:46.035Z"
   },
   {
    "duration": 116,
    "start_time": "2022-09-17T14:25:49.117Z"
   },
   {
    "duration": 441,
    "start_time": "2022-09-17T14:26:13.292Z"
   },
   {
    "duration": 153,
    "start_time": "2022-09-17T14:26:32.108Z"
   },
   {
    "duration": 17,
    "start_time": "2022-09-17T14:27:30.782Z"
   },
   {
    "duration": 7,
    "start_time": "2022-09-17T14:27:44.865Z"
   },
   {
    "duration": 3303,
    "start_time": "2022-09-17T14:28:11.560Z"
   },
   {
    "duration": 2293,
    "start_time": "2022-09-17T14:28:17.059Z"
   },
   {
    "duration": 24,
    "start_time": "2022-09-17T14:28:35.832Z"
   },
   {
    "duration": 23,
    "start_time": "2022-09-17T14:29:17.816Z"
   },
   {
    "duration": 20,
    "start_time": "2022-09-17T14:30:28.063Z"
   },
   {
    "duration": 173,
    "start_time": "2022-09-17T14:31:36.615Z"
   },
   {
    "duration": 156,
    "start_time": "2022-09-17T14:31:56.060Z"
   },
   {
    "duration": 155,
    "start_time": "2022-09-17T14:32:44.206Z"
   },
   {
    "duration": 156,
    "start_time": "2022-09-17T14:34:30.188Z"
   },
   {
    "duration": 152,
    "start_time": "2022-09-17T14:36:48.834Z"
   },
   {
    "duration": 261,
    "start_time": "2022-09-17T14:37:01.864Z"
   },
   {
    "duration": 156,
    "start_time": "2022-09-17T14:38:12.862Z"
   },
   {
    "duration": 161,
    "start_time": "2022-09-17T14:39:18.684Z"
   },
   {
    "duration": 153,
    "start_time": "2022-09-17T14:39:32.155Z"
   },
   {
    "duration": 177,
    "start_time": "2022-09-17T14:39:50.367Z"
   },
   {
    "duration": 178,
    "start_time": "2022-09-17T14:40:00.871Z"
   },
   {
    "duration": 144,
    "start_time": "2022-09-17T14:41:03.015Z"
   },
   {
    "duration": 151,
    "start_time": "2022-09-17T14:42:01.437Z"
   },
   {
    "duration": 157,
    "start_time": "2022-09-17T14:42:20.468Z"
   },
   {
    "duration": 157,
    "start_time": "2022-09-17T14:42:36.103Z"
   },
   {
    "duration": 163,
    "start_time": "2022-09-17T14:43:09.700Z"
   },
   {
    "duration": 150,
    "start_time": "2022-09-17T14:44:19.440Z"
   },
   {
    "duration": 172,
    "start_time": "2022-09-17T14:48:09.025Z"
   },
   {
    "duration": 15,
    "start_time": "2022-09-17T14:50:54.645Z"
   },
   {
    "duration": 17,
    "start_time": "2022-09-17T14:51:05.191Z"
   },
   {
    "duration": 4,
    "start_time": "2022-09-17T14:51:19.121Z"
   },
   {
    "duration": 5,
    "start_time": "2022-09-17T14:51:36.339Z"
   },
   {
    "duration": 6,
    "start_time": "2022-09-17T14:51:38.892Z"
   },
   {
    "duration": 4,
    "start_time": "2022-09-17T14:55:27.556Z"
   },
   {
    "duration": 4,
    "start_time": "2022-09-17T14:55:37.652Z"
   },
   {
    "duration": 29,
    "start_time": "2022-09-17T14:55:48.214Z"
   },
   {
    "duration": 7,
    "start_time": "2022-09-17T14:56:05.442Z"
   },
   {
    "duration": 32,
    "start_time": "2022-09-17T14:57:24.393Z"
   },
   {
    "duration": 8,
    "start_time": "2022-09-17T14:57:34.332Z"
   },
   {
    "duration": 1724,
    "start_time": "2022-09-17T14:59:10.610Z"
   },
   {
    "duration": 1439,
    "start_time": "2022-09-17T14:59:22.535Z"
   },
   {
    "duration": 17,
    "start_time": "2022-09-17T15:00:41.374Z"
   },
   {
    "duration": 17,
    "start_time": "2022-09-17T15:04:14.915Z"
   },
   {
    "duration": 8,
    "start_time": "2022-09-17T15:04:19.376Z"
   },
   {
    "duration": 115,
    "start_time": "2022-09-17T15:04:47.511Z"
   },
   {
    "duration": 8,
    "start_time": "2022-09-17T15:08:41.818Z"
   },
   {
    "duration": 9,
    "start_time": "2022-09-17T15:09:26.538Z"
   },
   {
    "duration": 5,
    "start_time": "2022-09-17T15:11:32.337Z"
   },
   {
    "duration": 6,
    "start_time": "2022-09-17T15:11:43.628Z"
   },
   {
    "duration": 15,
    "start_time": "2022-09-17T15:11:47.757Z"
   },
   {
    "duration": 17,
    "start_time": "2022-09-17T15:13:09.210Z"
   },
   {
    "duration": 25,
    "start_time": "2022-09-17T15:13:29.781Z"
   },
   {
    "duration": 54,
    "start_time": "2022-09-17T15:17:18.082Z"
   },
   {
    "duration": 49,
    "start_time": "2022-09-17T15:17:28.964Z"
   },
   {
    "duration": 5,
    "start_time": "2022-09-17T15:20:23.746Z"
   },
   {
    "duration": 13,
    "start_time": "2022-09-17T15:20:27.578Z"
   },
   {
    "duration": 20,
    "start_time": "2022-09-17T15:20:50.380Z"
   },
   {
    "duration": 7,
    "start_time": "2022-09-17T15:21:04.681Z"
   },
   {
    "duration": 22,
    "start_time": "2022-09-17T15:21:17.023Z"
   },
   {
    "duration": 10,
    "start_time": "2022-09-17T15:24:41.631Z"
   },
   {
    "duration": 9,
    "start_time": "2022-09-17T15:25:17.214Z"
   },
   {
    "duration": 11,
    "start_time": "2022-09-17T15:26:03.421Z"
   },
   {
    "duration": 27,
    "start_time": "2022-09-17T15:26:31.158Z"
   },
   {
    "duration": 17,
    "start_time": "2022-09-17T15:26:41.653Z"
   },
   {
    "duration": 10,
    "start_time": "2022-09-17T15:27:31.273Z"
   },
   {
    "duration": 11,
    "start_time": "2022-09-17T15:27:50.246Z"
   },
   {
    "duration": 2904,
    "start_time": "2022-09-17T15:28:11.853Z"
   },
   {
    "duration": 14,
    "start_time": "2022-09-17T15:28:28.627Z"
   },
   {
    "duration": 13,
    "start_time": "2022-09-17T15:28:50.134Z"
   },
   {
    "duration": 3513,
    "start_time": "2022-09-17T15:29:07.409Z"
   },
   {
    "duration": 24,
    "start_time": "2022-09-17T15:29:37.653Z"
   },
   {
    "duration": 16,
    "start_time": "2022-09-17T15:30:37.808Z"
   },
   {
    "duration": 8,
    "start_time": "2022-09-17T15:31:12.736Z"
   },
   {
    "duration": 16,
    "start_time": "2022-09-17T15:31:19.593Z"
   },
   {
    "duration": 14,
    "start_time": "2022-09-17T15:31:46.526Z"
   },
   {
    "duration": 12,
    "start_time": "2022-09-17T15:31:52.242Z"
   },
   {
    "duration": 11,
    "start_time": "2022-09-17T15:32:29.236Z"
   },
   {
    "duration": 13,
    "start_time": "2022-09-17T15:33:08.519Z"
   },
   {
    "duration": 26,
    "start_time": "2022-09-17T15:35:40.296Z"
   },
   {
    "duration": 33,
    "start_time": "2022-09-17T15:36:16.782Z"
   },
   {
    "duration": 23,
    "start_time": "2022-09-17T15:36:50.785Z"
   },
   {
    "duration": 15,
    "start_time": "2022-09-17T15:37:24.185Z"
   },
   {
    "duration": 13,
    "start_time": "2022-09-17T15:37:42.968Z"
   },
   {
    "duration": 1927,
    "start_time": "2022-09-17T15:37:49.944Z"
   },
   {
    "duration": 1638,
    "start_time": "2022-09-17T15:37:55.484Z"
   },
   {
    "duration": 15,
    "start_time": "2022-09-17T15:38:12.125Z"
   },
   {
    "duration": 10,
    "start_time": "2022-09-17T15:40:59.633Z"
   },
   {
    "duration": 1285,
    "start_time": "2022-09-17T15:41:19.309Z"
   },
   {
    "duration": 12,
    "start_time": "2022-09-17T15:45:06.206Z"
   },
   {
    "duration": 5,
    "start_time": "2022-09-17T15:45:26.775Z"
   },
   {
    "duration": 5,
    "start_time": "2022-09-17T15:45:35.209Z"
   },
   {
    "duration": 4,
    "start_time": "2022-09-17T15:45:43.936Z"
   },
   {
    "duration": 6,
    "start_time": "2022-09-17T15:45:50.979Z"
   },
   {
    "duration": 6,
    "start_time": "2022-09-17T15:46:16.279Z"
   },
   {
    "duration": 14,
    "start_time": "2022-09-17T15:46:38.227Z"
   },
   {
    "duration": 8,
    "start_time": "2022-09-17T15:46:57.237Z"
   },
   {
    "duration": 11,
    "start_time": "2022-09-17T15:47:10.117Z"
   },
   {
    "duration": 20,
    "start_time": "2022-09-17T15:50:32.409Z"
   },
   {
    "duration": 10,
    "start_time": "2022-09-17T15:50:51.446Z"
   },
   {
    "duration": 8,
    "start_time": "2022-09-17T15:51:09.878Z"
   },
   {
    "duration": 21,
    "start_time": "2022-09-17T15:51:40.186Z"
   },
   {
    "duration": 11,
    "start_time": "2022-09-17T15:53:06.253Z"
   },
   {
    "duration": 20,
    "start_time": "2022-09-17T15:54:07.407Z"
   },
   {
    "duration": 20,
    "start_time": "2022-09-17T15:54:20.882Z"
   },
   {
    "duration": 17,
    "start_time": "2022-09-17T15:54:54.373Z"
   },
   {
    "duration": 18,
    "start_time": "2022-09-17T15:55:47.210Z"
   },
   {
    "duration": 5,
    "start_time": "2022-09-17T15:58:06.871Z"
   },
   {
    "duration": 81,
    "start_time": "2022-09-17T15:58:20.753Z"
   },
   {
    "duration": 23,
    "start_time": "2022-09-17T15:58:26.722Z"
   },
   {
    "duration": 178,
    "start_time": "2022-09-17T15:58:46.392Z"
   },
   {
    "duration": 22,
    "start_time": "2022-09-17T16:02:15.510Z"
   },
   {
    "duration": 149,
    "start_time": "2022-09-17T16:02:26.512Z"
   },
   {
    "duration": 12,
    "start_time": "2022-09-17T16:30:26.504Z"
   },
   {
    "duration": 33,
    "start_time": "2022-09-17T16:30:41.592Z"
   },
   {
    "duration": 26,
    "start_time": "2022-09-17T16:30:53.728Z"
   },
   {
    "duration": 19,
    "start_time": "2022-09-17T16:31:03.609Z"
   },
   {
    "duration": 36,
    "start_time": "2022-09-17T16:31:58.785Z"
   },
   {
    "duration": 27,
    "start_time": "2022-09-17T16:32:45.965Z"
   },
   {
    "duration": 159,
    "start_time": "2022-09-17T16:39:48.118Z"
   },
   {
    "duration": 184,
    "start_time": "2022-09-17T16:40:45.433Z"
   },
   {
    "duration": 163,
    "start_time": "2022-09-17T16:41:37.280Z"
   },
   {
    "duration": 160,
    "start_time": "2022-09-17T16:41:43.777Z"
   },
   {
    "duration": 160,
    "start_time": "2022-09-17T16:43:08.821Z"
   },
   {
    "duration": 151,
    "start_time": "2022-09-17T16:43:24.655Z"
   },
   {
    "duration": 208,
    "start_time": "2022-09-17T16:43:33.348Z"
   },
   {
    "duration": 154,
    "start_time": "2022-09-17T16:43:55.942Z"
   },
   {
    "duration": 153,
    "start_time": "2022-09-17T16:44:55.314Z"
   },
   {
    "duration": 15,
    "start_time": "2022-09-17T16:45:27.592Z"
   },
   {
    "duration": 11,
    "start_time": "2022-09-17T16:45:37.881Z"
   },
   {
    "duration": 159,
    "start_time": "2022-09-17T16:45:47.667Z"
   },
   {
    "duration": 14,
    "start_time": "2022-09-17T16:46:52.549Z"
   },
   {
    "duration": 214,
    "start_time": "2022-09-17T16:47:17.331Z"
   },
   {
    "duration": 19,
    "start_time": "2022-09-17T16:48:25.172Z"
   },
   {
    "duration": 26,
    "start_time": "2022-09-17T16:48:43.091Z"
   },
   {
    "duration": 26,
    "start_time": "2022-09-17T16:48:57.905Z"
   },
   {
    "duration": 34,
    "start_time": "2022-09-17T16:49:09.115Z"
   },
   {
    "duration": 25,
    "start_time": "2022-09-17T16:50:08.619Z"
   },
   {
    "duration": 21,
    "start_time": "2022-09-17T16:50:25.425Z"
   },
   {
    "duration": 20,
    "start_time": "2022-09-17T16:50:44.735Z"
   },
   {
    "duration": 19,
    "start_time": "2022-09-17T16:52:02.335Z"
   },
   {
    "duration": 20,
    "start_time": "2022-09-17T16:52:13.395Z"
   },
   {
    "duration": 10,
    "start_time": "2022-09-17T16:54:25.916Z"
   },
   {
    "duration": 9,
    "start_time": "2022-09-17T16:54:53.987Z"
   },
   {
    "duration": 11,
    "start_time": "2022-09-17T16:55:08.828Z"
   },
   {
    "duration": 10,
    "start_time": "2022-09-17T16:55:51.483Z"
   },
   {
    "duration": 10,
    "start_time": "2022-09-17T16:56:21.231Z"
   },
   {
    "duration": 10,
    "start_time": "2022-09-17T16:56:27.447Z"
   },
   {
    "duration": 19,
    "start_time": "2022-09-17T16:57:39.194Z"
   },
   {
    "duration": 16,
    "start_time": "2022-09-17T16:58:50.129Z"
   },
   {
    "duration": 25,
    "start_time": "2022-09-17T16:58:58.832Z"
   },
   {
    "duration": 11,
    "start_time": "2022-09-17T16:59:03.442Z"
   },
   {
    "duration": 13,
    "start_time": "2022-09-17T16:59:15.050Z"
   },
   {
    "duration": 14,
    "start_time": "2022-09-17T17:00:38.425Z"
   },
   {
    "duration": 13,
    "start_time": "2022-09-17T17:00:46.910Z"
   },
   {
    "duration": 13,
    "start_time": "2022-09-17T17:01:02.109Z"
   },
   {
    "duration": 19,
    "start_time": "2022-09-17T17:01:13.591Z"
   },
   {
    "duration": 194,
    "start_time": "2022-09-17T17:01:39.575Z"
   },
   {
    "duration": 150,
    "start_time": "2022-09-17T17:02:27.116Z"
   },
   {
    "duration": 158,
    "start_time": "2022-09-17T17:05:56.819Z"
   },
   {
    "duration": 28,
    "start_time": "2022-09-17T17:11:21.004Z"
   },
   {
    "duration": 24,
    "start_time": "2022-09-17T17:11:33.101Z"
   },
   {
    "duration": 242,
    "start_time": "2022-09-17T17:12:11.629Z"
   },
   {
    "duration": 258,
    "start_time": "2022-09-17T17:16:39.194Z"
   },
   {
    "duration": 169,
    "start_time": "2022-09-17T17:17:11.579Z"
   },
   {
    "duration": 144,
    "start_time": "2022-09-17T17:17:20.074Z"
   },
   {
    "duration": 187,
    "start_time": "2022-09-17T17:18:36.216Z"
   },
   {
    "duration": 164,
    "start_time": "2022-09-17T17:22:02.564Z"
   },
   {
    "duration": 1410,
    "start_time": "2022-09-17T17:26:51.705Z"
   },
   {
    "duration": 153,
    "start_time": "2022-09-17T17:27:35.767Z"
   },
   {
    "duration": 162,
    "start_time": "2022-09-17T17:28:15.118Z"
   },
   {
    "duration": 1334,
    "start_time": "2022-09-17T18:03:33.931Z"
   },
   {
    "duration": 1227,
    "start_time": "2022-09-17T18:04:25.698Z"
   },
   {
    "duration": 14,
    "start_time": "2022-09-17T18:04:47.413Z"
   },
   {
    "duration": 15,
    "start_time": "2022-09-17T18:05:00.618Z"
   },
   {
    "duration": 18,
    "start_time": "2022-09-17T18:05:06.564Z"
   },
   {
    "duration": 1777,
    "start_time": "2022-09-17T18:05:18.951Z"
   },
   {
    "duration": 21,
    "start_time": "2022-09-17T18:05:31.667Z"
   },
   {
    "duration": 168,
    "start_time": "2022-09-17T18:06:03.944Z"
   },
   {
    "duration": 162,
    "start_time": "2022-09-17T18:08:40.095Z"
   },
   {
    "duration": 171,
    "start_time": "2022-09-17T18:08:54.995Z"
   },
   {
    "duration": 168,
    "start_time": "2022-09-17T18:09:37.196Z"
   },
   {
    "duration": 150,
    "start_time": "2022-09-17T18:10:05.102Z"
   },
   {
    "duration": 164,
    "start_time": "2022-09-17T18:10:19.850Z"
   },
   {
    "duration": 170,
    "start_time": "2022-09-17T18:10:34.359Z"
   },
   {
    "duration": 157,
    "start_time": "2022-09-17T18:10:48.178Z"
   },
   {
    "duration": 180,
    "start_time": "2022-09-17T18:11:16.711Z"
   },
   {
    "duration": 209,
    "start_time": "2022-09-17T18:15:56.204Z"
   },
   {
    "duration": 174,
    "start_time": "2022-09-17T18:16:02.125Z"
   },
   {
    "duration": 216,
    "start_time": "2022-09-17T18:16:10.252Z"
   },
   {
    "duration": 289,
    "start_time": "2022-09-17T18:16:13.705Z"
   },
   {
    "duration": 187,
    "start_time": "2022-09-17T18:16:15.160Z"
   },
   {
    "duration": 162,
    "start_time": "2022-09-17T18:16:16.320Z"
   },
   {
    "duration": 178,
    "start_time": "2022-09-17T18:18:44.138Z"
   },
   {
    "duration": 163,
    "start_time": "2022-09-17T18:18:53.034Z"
   },
   {
    "duration": 201,
    "start_time": "2022-09-17T18:18:57.541Z"
   },
   {
    "duration": 29,
    "start_time": "2022-09-17T18:19:20.333Z"
   },
   {
    "duration": 219,
    "start_time": "2022-09-17T18:19:48.204Z"
   },
   {
    "duration": 248,
    "start_time": "2022-09-17T18:20:36.635Z"
   },
   {
    "duration": 183,
    "start_time": "2022-09-17T18:20:37.085Z"
   },
   {
    "duration": 204,
    "start_time": "2022-09-17T18:20:37.576Z"
   },
   {
    "duration": 154,
    "start_time": "2022-09-17T18:20:38.102Z"
   },
   {
    "duration": 17,
    "start_time": "2022-09-17T18:22:41.157Z"
   },
   {
    "duration": 17,
    "start_time": "2022-09-17T18:22:49.160Z"
   },
   {
    "duration": 159,
    "start_time": "2022-09-17T18:23:22.601Z"
   },
   {
    "duration": 214,
    "start_time": "2022-09-17T18:23:45.736Z"
   },
   {
    "duration": 186,
    "start_time": "2022-09-17T18:23:47.587Z"
   },
   {
    "duration": 185,
    "start_time": "2022-09-17T18:23:48.982Z"
   },
   {
    "duration": 163,
    "start_time": "2022-09-17T18:23:50.612Z"
   },
   {
    "duration": 166,
    "start_time": "2022-09-17T18:24:32.635Z"
   },
   {
    "duration": 169,
    "start_time": "2022-09-17T18:25:00.832Z"
   },
   {
    "duration": 1230,
    "start_time": "2022-09-17T18:26:21.034Z"
   },
   {
    "duration": 1378,
    "start_time": "2022-09-17T18:26:39.335Z"
   },
   {
    "duration": 1224,
    "start_time": "2022-09-17T18:26:55.931Z"
   },
   {
    "duration": 173,
    "start_time": "2022-09-17T18:27:22.741Z"
   },
   {
    "duration": 166,
    "start_time": "2022-09-17T18:28:08.283Z"
   },
   {
    "duration": 50,
    "start_time": "2022-09-18T15:48:28.843Z"
   },
   {
    "duration": 672,
    "start_time": "2022-09-18T15:48:37.651Z"
   },
   {
    "duration": 24,
    "start_time": "2022-09-18T15:48:38.326Z"
   },
   {
    "duration": 13,
    "start_time": "2022-09-18T15:48:38.352Z"
   },
   {
    "duration": 9,
    "start_time": "2022-09-18T15:48:38.367Z"
   },
   {
    "duration": 40,
    "start_time": "2022-09-18T15:48:38.378Z"
   },
   {
    "duration": 3,
    "start_time": "2022-09-18T15:48:38.420Z"
   },
   {
    "duration": 10,
    "start_time": "2022-09-18T15:48:38.425Z"
   },
   {
    "duration": 4,
    "start_time": "2022-09-18T15:48:38.437Z"
   },
   {
    "duration": 8,
    "start_time": "2022-09-18T15:48:38.443Z"
   },
   {
    "duration": 4,
    "start_time": "2022-09-18T15:48:38.452Z"
   },
   {
    "duration": 62,
    "start_time": "2022-09-18T15:48:38.457Z"
   },
   {
    "duration": 9,
    "start_time": "2022-09-18T15:48:38.521Z"
   },
   {
    "duration": 7,
    "start_time": "2022-09-18T15:48:38.531Z"
   },
   {
    "duration": 12,
    "start_time": "2022-09-18T15:48:38.540Z"
   },
   {
    "duration": 19,
    "start_time": "2022-09-18T15:48:38.553Z"
   },
   {
    "duration": 38,
    "start_time": "2022-09-18T15:48:38.573Z"
   },
   {
    "duration": 3,
    "start_time": "2022-09-18T15:48:38.613Z"
   },
   {
    "duration": 16,
    "start_time": "2022-09-18T15:48:38.617Z"
   },
   {
    "duration": 9,
    "start_time": "2022-09-18T15:48:38.634Z"
   },
   {
    "duration": 3,
    "start_time": "2022-09-18T15:48:38.644Z"
   },
   {
    "duration": 10,
    "start_time": "2022-09-18T15:48:38.649Z"
   },
   {
    "duration": 1180,
    "start_time": "2022-09-18T15:48:38.660Z"
   },
   {
    "duration": 144,
    "start_time": "2022-09-18T15:48:45.555Z"
   },
   {
    "duration": 1139,
    "start_time": "2022-09-18T16:01:48.484Z"
   },
   {
    "duration": 141,
    "start_time": "2022-09-18T16:01:58.347Z"
   },
   {
    "duration": 143,
    "start_time": "2022-09-18T16:04:45.907Z"
   },
   {
    "duration": 152,
    "start_time": "2022-09-18T16:04:47.380Z"
   },
   {
    "duration": 136,
    "start_time": "2022-09-18T16:04:49.065Z"
   },
   {
    "duration": 98,
    "start_time": "2022-09-18T16:08:42.150Z"
   },
   {
    "duration": 78,
    "start_time": "2022-09-18T16:08:58.351Z"
   },
   {
    "duration": 726,
    "start_time": "2022-09-18T17:45:34.112Z"
   },
   {
    "duration": 22,
    "start_time": "2022-09-18T17:45:34.840Z"
   },
   {
    "duration": 16,
    "start_time": "2022-09-18T17:45:34.864Z"
   },
   {
    "duration": 13,
    "start_time": "2022-09-18T17:45:34.883Z"
   },
   {
    "duration": 44,
    "start_time": "2022-09-18T17:45:34.898Z"
   },
   {
    "duration": 3,
    "start_time": "2022-09-18T17:45:34.944Z"
   },
   {
    "duration": 19,
    "start_time": "2022-09-18T17:45:34.948Z"
   },
   {
    "duration": 11,
    "start_time": "2022-09-18T17:45:34.968Z"
   },
   {
    "duration": 17,
    "start_time": "2022-09-18T17:45:34.986Z"
   },
   {
    "duration": 4,
    "start_time": "2022-09-18T17:45:35.006Z"
   },
   {
    "duration": 32,
    "start_time": "2022-09-18T17:45:35.012Z"
   },
   {
    "duration": 9,
    "start_time": "2022-09-18T17:45:35.045Z"
   },
   {
    "duration": 6,
    "start_time": "2022-09-18T17:45:35.055Z"
   },
   {
    "duration": 29,
    "start_time": "2022-09-18T17:45:35.062Z"
   },
   {
    "duration": 22,
    "start_time": "2022-09-18T17:45:35.093Z"
   },
   {
    "duration": 17,
    "start_time": "2022-09-18T17:45:35.117Z"
   },
   {
    "duration": 3,
    "start_time": "2022-09-18T17:45:35.136Z"
   },
   {
    "duration": 12,
    "start_time": "2022-09-18T17:45:35.141Z"
   },
   {
    "duration": 5,
    "start_time": "2022-09-18T17:45:35.154Z"
   },
   {
    "duration": 8,
    "start_time": "2022-09-18T17:45:35.186Z"
   },
   {
    "duration": 11,
    "start_time": "2022-09-18T17:45:35.196Z"
   },
   {
    "duration": 963,
    "start_time": "2022-09-18T17:45:35.208Z"
   },
   {
    "duration": 180,
    "start_time": "2022-09-18T17:45:36.173Z"
   },
   {
    "duration": 174,
    "start_time": "2022-09-18T17:45:36.355Z"
   },
   {
    "duration": 176,
    "start_time": "2022-09-18T17:45:36.531Z"
   },
   {
    "duration": 90,
    "start_time": "2022-09-18T17:45:36.709Z"
   },
   {
    "duration": 729,
    "start_time": "2022-09-19T13:11:59.732Z"
   },
   {
    "duration": 34,
    "start_time": "2022-09-19T13:12:00.463Z"
   },
   {
    "duration": 41,
    "start_time": "2022-09-19T13:12:00.498Z"
   },
   {
    "duration": 31,
    "start_time": "2022-09-19T13:12:00.542Z"
   },
   {
    "duration": 70,
    "start_time": "2022-09-19T13:12:00.575Z"
   },
   {
    "duration": 4,
    "start_time": "2022-09-19T13:12:00.647Z"
   },
   {
    "duration": 25,
    "start_time": "2022-09-19T13:12:00.653Z"
   },
   {
    "duration": 36,
    "start_time": "2022-09-19T13:12:00.681Z"
   },
   {
    "duration": 29,
    "start_time": "2022-09-19T13:12:00.719Z"
   },
   {
    "duration": 25,
    "start_time": "2022-09-19T13:12:00.751Z"
   },
   {
    "duration": 72,
    "start_time": "2022-09-19T13:12:00.783Z"
   },
   {
    "duration": 9,
    "start_time": "2022-09-19T13:12:00.857Z"
   },
   {
    "duration": 53,
    "start_time": "2022-09-19T13:12:00.868Z"
   },
   {
    "duration": 23,
    "start_time": "2022-09-19T13:12:00.923Z"
   },
   {
    "duration": 70,
    "start_time": "2022-09-19T13:12:00.948Z"
   },
   {
    "duration": 18,
    "start_time": "2022-09-19T13:12:01.020Z"
   },
   {
    "duration": 3,
    "start_time": "2022-09-19T13:12:01.040Z"
   },
   {
    "duration": 27,
    "start_time": "2022-09-19T13:12:01.045Z"
   },
   {
    "duration": 66,
    "start_time": "2022-09-19T13:12:01.073Z"
   },
   {
    "duration": 24,
    "start_time": "2022-09-19T13:12:01.141Z"
   },
   {
    "duration": 57,
    "start_time": "2022-09-19T13:12:01.166Z"
   },
   {
    "duration": 1229,
    "start_time": "2022-09-19T13:12:01.225Z"
   },
   {
    "duration": 181,
    "start_time": "2022-09-19T13:12:02.456Z"
   },
   {
    "duration": 186,
    "start_time": "2022-09-19T13:12:02.639Z"
   },
   {
    "duration": 172,
    "start_time": "2022-09-19T13:12:02.827Z"
   },
   {
    "duration": 86,
    "start_time": "2022-09-19T13:12:03.002Z"
   },
   {
    "duration": 396,
    "start_time": "2022-09-19T19:31:43.251Z"
   },
   {
    "duration": 20,
    "start_time": "2022-09-19T19:31:43.649Z"
   },
   {
    "duration": 13,
    "start_time": "2022-09-19T19:31:43.671Z"
   },
   {
    "duration": 16,
    "start_time": "2022-09-19T19:31:43.685Z"
   },
   {
    "duration": 29,
    "start_time": "2022-09-19T19:31:43.702Z"
   },
   {
    "duration": 3,
    "start_time": "2022-09-19T19:31:43.733Z"
   },
   {
    "duration": 11,
    "start_time": "2022-09-19T19:31:43.737Z"
   },
   {
    "duration": 6,
    "start_time": "2022-09-19T19:31:43.749Z"
   },
   {
    "duration": 18,
    "start_time": "2022-09-19T19:31:43.756Z"
   },
   {
    "duration": 4,
    "start_time": "2022-09-19T19:31:43.776Z"
   },
   {
    "duration": 42,
    "start_time": "2022-09-19T19:31:43.781Z"
   },
   {
    "duration": 8,
    "start_time": "2022-09-19T19:31:43.825Z"
   },
   {
    "duration": 4,
    "start_time": "2022-09-19T19:31:43.834Z"
   },
   {
    "duration": 10,
    "start_time": "2022-09-19T19:31:43.841Z"
   },
   {
    "duration": 17,
    "start_time": "2022-09-19T19:31:43.852Z"
   },
   {
    "duration": 44,
    "start_time": "2022-09-19T19:31:43.871Z"
   },
   {
    "duration": 4,
    "start_time": "2022-09-19T19:31:43.916Z"
   },
   {
    "duration": 13,
    "start_time": "2022-09-19T19:31:43.922Z"
   },
   {
    "duration": 6,
    "start_time": "2022-09-19T19:31:43.937Z"
   },
   {
    "duration": 4,
    "start_time": "2022-09-19T19:31:43.945Z"
   },
   {
    "duration": 9,
    "start_time": "2022-09-19T19:31:43.950Z"
   },
   {
    "duration": 967,
    "start_time": "2022-09-19T19:31:43.961Z"
   },
   {
    "duration": 156,
    "start_time": "2022-09-19T19:31:44.930Z"
   },
   {
    "duration": 159,
    "start_time": "2022-09-19T19:31:45.088Z"
   },
   {
    "duration": 157,
    "start_time": "2022-09-19T19:31:45.249Z"
   },
   {
    "duration": 80,
    "start_time": "2022-09-19T19:31:45.407Z"
   }
  ],
  "colab": {
   "name": "dpp_template_part2.ipynb",
   "provenance": []
  },
  "kernelspec": {
   "display_name": "Python 3 (ipykernel)",
   "language": "python",
   "name": "python3"
  },
  "language_info": {
   "codemirror_mode": {
    "name": "ipython",
    "version": 3
   },
   "file_extension": ".py",
   "mimetype": "text/x-python",
   "name": "python",
   "nbconvert_exporter": "python",
   "pygments_lexer": "ipython3",
   "version": "3.10.9"
  },
  "toc": {
   "base_numbering": 1,
   "nav_menu": {},
   "number_sections": true,
   "sideBar": true,
   "skip_h1_title": true,
   "title_cell": "Table of Contents",
   "title_sidebar": "Contents",
   "toc_cell": false,
   "toc_position": {},
   "toc_section_display": true,
   "toc_window_display": false
  }
 },
 "nbformat": 4,
 "nbformat_minor": 5
}
