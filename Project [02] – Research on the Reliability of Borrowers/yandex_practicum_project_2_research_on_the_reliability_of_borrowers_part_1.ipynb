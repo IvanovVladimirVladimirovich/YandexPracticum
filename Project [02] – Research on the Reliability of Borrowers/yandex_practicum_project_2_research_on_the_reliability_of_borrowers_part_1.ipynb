{
 "cells": [
  {
   "cell_type": "markdown",
   "id": "79ea048e",
   "metadata": {
    "deletable": false,
    "editable": false,
    "id": "c81daeeb"
   },
   "source": [
    "# Исследование надежности заемщиков"
   ]
  },
  {
   "cell_type": "markdown",
   "id": "9b8d4098",
   "metadata": {
    "deletable": false,
    "editable": false,
    "id": "-G3EJWzf62s6"
   },
   "source": [
    "Это первая часть проекта, она будет проверена автоматически. Вторую часть проверит ревьюер. "
   ]
  },
  {
   "cell_type": "markdown",
   "id": "13062a33",
   "metadata": {
    "deletable": false,
    "editable": false,
    "id": "744d7639"
   },
   "source": [
    "## Откройте таблицу и изучите общую информацию о данных"
   ]
  },
  {
   "cell_type": "markdown",
   "id": "95987475",
   "metadata": {
    "deletable": false,
    "editable": false,
    "id": "e7a14c31",
    "tags": [
     "start_task"
    ]
   },
   "source": [
    "**Задание 1. Импортируйте библиотеку pandas. Считайте данные из csv-файла в датафрейм и сохраните в переменную `data`. Путь к файлу:**\n",
    "\n",
    "`/datasets/data.csv`"
   ]
  },
  {
   "cell_type": "code",
   "execution_count": 1,
   "id": "780fad6e",
   "metadata": {
    "id": "7bcf75c9"
   },
   "outputs": [],
   "source": [
    "import pandas as pd# импортируйте библиотеку pandas"
   ]
  },
  {
   "cell_type": "code",
   "execution_count": 2,
   "id": "95487358",
   "metadata": {
    "id": "4d240ee2"
   },
   "outputs": [],
   "source": [
    "data = pd.read_csv(\"/datasets/data.csv\")# прочитайте csv-файл"
   ]
  },
  {
   "cell_type": "markdown",
   "id": "be3c679c",
   "metadata": {
    "deletable": false,
    "editable": false,
    "id": "b8038fe3",
    "tags": [
     "start_task"
    ]
   },
   "source": [
    "**Задание 2. Выведите первые 20 строчек датафрейма `data` на экран.**"
   ]
  },
  {
   "cell_type": "code",
   "execution_count": 3,
   "id": "deabf3eb",
   "metadata": {
    "id": "2a7cab99"
   },
   "outputs": [
    {
     "name": "stdout",
     "output_type": "stream",
     "text": [
      "    children  days_employed  dob_years            education  education_id  \\\n",
      "0          1   -8437.673028         42               высшее             0   \n",
      "1          1   -4024.803754         36              среднее             1   \n",
      "2          0   -5623.422610         33              Среднее             1   \n",
      "3          3   -4124.747207         32              среднее             1   \n",
      "4          0  340266.072047         53              среднее             1   \n",
      "5          0    -926.185831         27               высшее             0   \n",
      "6          0   -2879.202052         43               высшее             0   \n",
      "7          0    -152.779569         50              СРЕДНЕЕ             1   \n",
      "8          2   -6929.865299         35               ВЫСШЕЕ             0   \n",
      "9          0   -2188.756445         41              среднее             1   \n",
      "10         2   -4171.483647         36               высшее             0   \n",
      "11         0    -792.701887         40              среднее             1   \n",
      "12         0            NaN         65              среднее             1   \n",
      "13         0   -1846.641941         54  неоконченное высшее             2   \n",
      "14         0   -1844.956182         56               высшее             0   \n",
      "15         1    -972.364419         26              среднее             1   \n",
      "16         0   -1719.934226         35              среднее             1   \n",
      "17         0   -2369.999720         33               высшее             0   \n",
      "18         0  400281.136913         53              среднее             1   \n",
      "19         0  -10038.818549         48              СРЕДНЕЕ             1   \n",
      "\n",
      "       family_status  family_status_id gender income_type  debt  \\\n",
      "0    женат / замужем                 0      F   сотрудник     0   \n",
      "1    женат / замужем                 0      F   сотрудник     0   \n",
      "2    женат / замужем                 0      M   сотрудник     0   \n",
      "3    женат / замужем                 0      M   сотрудник     0   \n",
      "4   гражданский брак                 1      F   пенсионер     0   \n",
      "5   гражданский брак                 1      M   компаньон     0   \n",
      "6    женат / замужем                 0      F   компаньон     0   \n",
      "7    женат / замужем                 0      M   сотрудник     0   \n",
      "8   гражданский брак                 1      F   сотрудник     0   \n",
      "9    женат / замужем                 0      M   сотрудник     0   \n",
      "10   женат / замужем                 0      M   компаньон     0   \n",
      "11   женат / замужем                 0      F   сотрудник     0   \n",
      "12  гражданский брак                 1      M   пенсионер     0   \n",
      "13   женат / замужем                 0      F   сотрудник     0   \n",
      "14  гражданский брак                 1      F   компаньон     1   \n",
      "15   женат / замужем                 0      F   сотрудник     0   \n",
      "16   женат / замужем                 0      F   сотрудник     0   \n",
      "17  гражданский брак                 1      M   сотрудник     0   \n",
      "18    вдовец / вдова                 2      F   пенсионер     0   \n",
      "19         в разводе                 3      F   сотрудник     0   \n",
      "\n",
      "     total_income                                 purpose  \n",
      "0   253875.639453                           покупка жилья  \n",
      "1   112080.014102                 приобретение автомобиля  \n",
      "2   145885.952297                           покупка жилья  \n",
      "3   267628.550329              дополнительное образование  \n",
      "4   158616.077870                         сыграть свадьбу  \n",
      "5   255763.565419                           покупка жилья  \n",
      "6   240525.971920                       операции с жильем  \n",
      "7   135823.934197                             образование  \n",
      "8    95856.832424                   на проведение свадьбы  \n",
      "9   144425.938277                 покупка жилья для семьи  \n",
      "10  113943.491460                    покупка недвижимости  \n",
      "11   77069.234271       покупка коммерческой недвижимости  \n",
      "12            NaN                         сыграть свадьбу  \n",
      "13  130458.228857                 приобретение автомобиля  \n",
      "14  165127.911772              покупка жилой недвижимости  \n",
      "15  116820.904450  строительство собственной недвижимости  \n",
      "16  289202.704229                            недвижимость  \n",
      "17   90410.586745              строительство недвижимости  \n",
      "18   56823.777243      на покупку подержанного автомобиля  \n",
      "19  242831.107982            на покупку своего автомобиля  \n"
     ]
    }
   ],
   "source": [
    "print(data.head(20))# ваш код здесь"
   ]
  },
  {
   "cell_type": "markdown",
   "id": "a1f20db4",
   "metadata": {
    "deletable": false,
    "editable": false,
    "id": "1c12e233",
    "tags": [
     "start_task"
    ]
   },
   "source": [
    "**Задание 3. Выведите основную информацию о датафрейме с помощью метода `info()`.**"
   ]
  },
  {
   "cell_type": "code",
   "execution_count": 4,
   "id": "a4311773",
   "metadata": {
    "id": "2b757bca"
   },
   "outputs": [
    {
     "name": "stdout",
     "output_type": "stream",
     "text": [
      "<class 'pandas.core.frame.DataFrame'>\n",
      "RangeIndex: 21525 entries, 0 to 21524\n",
      "Data columns (total 12 columns):\n",
      " #   Column            Non-Null Count  Dtype  \n",
      "---  ------            --------------  -----  \n",
      " 0   children          21525 non-null  int64  \n",
      " 1   days_employed     19351 non-null  float64\n",
      " 2   dob_years         21525 non-null  int64  \n",
      " 3   education         21525 non-null  object \n",
      " 4   education_id      21525 non-null  int64  \n",
      " 5   family_status     21525 non-null  object \n",
      " 6   family_status_id  21525 non-null  int64  \n",
      " 7   gender            21525 non-null  object \n",
      " 8   income_type       21525 non-null  object \n",
      " 9   debt              21525 non-null  int64  \n",
      " 10  total_income      19351 non-null  float64\n",
      " 11  purpose           21525 non-null  object \n",
      "dtypes: float64(2), int64(5), object(5)\n",
      "memory usage: 2.0+ MB\n"
     ]
    }
   ],
   "source": [
    "data.info()# ваш код здесь"
   ]
  },
  {
   "cell_type": "markdown",
   "id": "10ad04f8",
   "metadata": {
    "deletable": false,
    "editable": false,
    "id": "333ec665"
   },
   "source": [
    "## Предобработка данных"
   ]
  },
  {
   "cell_type": "markdown",
   "id": "da6a7197",
   "metadata": {
    "deletable": false,
    "editable": false,
    "id": "02d92d53"
   },
   "source": [
    "### Удаление пропусков"
   ]
  },
  {
   "cell_type": "markdown",
   "id": "8bf9d523",
   "metadata": {
    "deletable": false,
    "editable": false,
    "id": "cd84967c",
    "tags": [
     "start_task"
    ]
   },
   "source": [
    "**Задание 4. Выведите количество пропущенных значений для каждого столбца. Используйте комбинацию двух методов.**"
   ]
  },
  {
   "cell_type": "code",
   "execution_count": 5,
   "id": "e813231c",
   "metadata": {
    "id": "7f9b2309"
   },
   "outputs": [
    {
     "name": "stdout",
     "output_type": "stream",
     "text": [
      "children               0\n",
      "days_employed       2174\n",
      "dob_years              0\n",
      "education              0\n",
      "education_id           0\n",
      "family_status          0\n",
      "family_status_id       0\n",
      "gender                 0\n",
      "income_type            0\n",
      "debt                   0\n",
      "total_income        2174\n",
      "purpose                0\n",
      "dtype: int64\n"
     ]
    }
   ],
   "source": [
    "print(data.isna().sum())# ваш код здесь"
   ]
  },
  {
   "cell_type": "markdown",
   "id": "9991eb36",
   "metadata": {
    "deletable": false,
    "editable": false,
    "id": "db86e27b",
    "tags": [
     "start_task"
    ]
   },
   "source": [
    "**Задание 5. В двух столбцах есть пропущенные значения. Один из них — `days_employed`. Пропуски в этом столбце вы обработаете на следующем этапе. Другой столбец с пропущенными значениями — `total_income` — хранит данные о доходах. На сумму дохода сильнее всего влияет тип занятости, поэтому заполнить пропуски в этом столбце нужно медианным значением по каждому типу из столбца `income_type`. Например, у человека с типом занятости `сотрудник` пропуск в столбце `total_income` должен быть заполнен медианным доходом среди всех записей с тем же типом.**"
   ]
  },
  {
   "cell_type": "code",
   "execution_count": 6,
   "id": "ce142ad9",
   "metadata": {
    "id": "42006a93"
   },
   "outputs": [],
   "source": [
    "# ваш код здесь\n",
    "median_income = data.groupby(\"income_type\")[\"total_income\"].median()\n",
    "\n",
    "data.loc[data[\"income_type\"] == \"сотрудник\",\"total_income\"] = data[\"total_income\"].fillna(median_income[\"сотрудник\"])\n",
    "data.loc[data[\"income_type\"] == \"в декрете\",\"total_income\"] = data[\"total_income\"].fillna(median_income[\"в декрете\"])\n",
    "data.loc[data[\"income_type\"] == \"госслужащий\",\"total_income\"] = data[\"total_income\"].fillna(median_income[\"госслужащий\"])\n",
    "data.loc[data[\"income_type\"] == \"компаньон\",\"total_income\"] = data[\"total_income\"].fillna(median_income[\"компаньон\"])\n",
    "data.loc[data[\"income_type\"] == \"пенсионер\",\"total_income\"] = data[\"total_income\"].fillna(median_income[\"пенсионер\"])\n",
    "data.loc[data[\"income_type\"] == \"предприниматель\",\"total_income\"] = data[\"total_income\"].fillna(median_income[\"предприниматель\"])\n",
    "data.loc[data[\"income_type\"] == \"студент\",\"total_income\"] = data[\"total_income\"].fillna(median_income[\"студент\"])\n",
    "data.loc[data[\"income_type\"] == \"безработный\",\"total_income\"] = data[\"total_income\"].fillna(median_income[\"безработный\"])\n",
    "\n",
    "\n"
   ]
  },
  {
   "cell_type": "markdown",
   "id": "e4c59797",
   "metadata": {
    "deletable": false,
    "editable": false,
    "id": "89da5ece"
   },
   "source": [
    "### Обработка аномальных значений"
   ]
  },
  {
   "cell_type": "markdown",
   "id": "9382f4d3",
   "metadata": {
    "deletable": false,
    "editable": false,
    "id": "57964554",
    "tags": [
     "start_task"
    ]
   },
   "source": [
    "**Задание 6. В данных могут встречаться артефакты (аномалии) — значения, которые не отражают действительность и появились по какой-то ошибке. Таким артефактом будет отрицательное количество дней трудового стажа в столбце `days_employed`. Для реальных данных это нормально. Обработайте значения в этом столбце: замените все отрицательные значения положительными с помощью метода `abs()`.**"
   ]
  },
  {
   "cell_type": "code",
   "execution_count": 7,
   "id": "bfba5615",
   "metadata": {
    "id": "f6f055bf"
   },
   "outputs": [],
   "source": [
    "data[\"days_employed\"] = data[\"days_employed\"].abs()# ваш код здесь"
   ]
  },
  {
   "cell_type": "markdown",
   "id": "dbdbc3f2",
   "metadata": {
    "deletable": false,
    "editable": false,
    "id": "6107dd2f",
    "tags": [
     "start_task"
    ]
   },
   "source": [
    "**Задание 7. Для каждого типа занятости выведите медианное значение трудового стажа `days_employed` в днях.**"
   ]
  },
  {
   "cell_type": "code",
   "execution_count": 8,
   "id": "8863752a",
   "metadata": {
    "id": "85a5faf6"
   },
   "outputs": [
    {
     "name": "stdout",
     "output_type": "stream",
     "text": [
      "income_type\n",
      "безработный        366413.652744\n",
      "в декрете            3296.759962\n",
      "госслужащий          2689.368353\n",
      "компаньон            1547.382223\n",
      "пенсионер          365213.306266\n",
      "предприниматель       520.848083\n",
      "сотрудник            1574.202821\n",
      "студент               578.751554\n",
      "Name: days_employed, dtype: float64\n"
     ]
    }
   ],
   "source": [
    "print(data.groupby(\"income_type\")[\"days_employed\"].median())# ваш код здесь"
   ]
  },
  {
   "cell_type": "markdown",
   "id": "de13cc24",
   "metadata": {
    "deletable": false,
    "editable": false,
    "id": "38d1a030"
   },
   "source": [
    "У двух типов (безработные и пенсионеры) получатся аномально большие значения. Исправить такие значения сложно, поэтому оставьте их как есть. Тем более этот столбец не понадобится вам для исследования."
   ]
  },
  {
   "cell_type": "markdown",
   "id": "bdea2f3e",
   "metadata": {
    "deletable": false,
    "editable": false,
    "id": "d8a9f147",
    "tags": [
     "start_task"
    ]
   },
   "source": [
    "**Задание 8. Выведите перечень уникальных значений столбца `children`.**"
   ]
  },
  {
   "cell_type": "code",
   "execution_count": 9,
   "id": "01622203",
   "metadata": {
    "id": "ef5056eb"
   },
   "outputs": [
    {
     "name": "stdout",
     "output_type": "stream",
     "text": [
      "[ 1  0  3  2 -1  4 20  5]\n"
     ]
    }
   ],
   "source": [
    "print(data[\"children\"].unique())# ваш код здесь"
   ]
  },
  {
   "cell_type": "markdown",
   "id": "8d300848",
   "metadata": {
    "deletable": false,
    "editable": false,
    "id": "40b9ebf2",
    "tags": [
     "start_task"
    ]
   },
   "source": [
    "**Задание 9. В столбце `children` есть два аномальных значения. Удалите строки, в которых встречаются такие аномальные значения из датафрейма `data`.**"
   ]
  },
  {
   "cell_type": "code",
   "execution_count": 13,
   "id": "c96b98d2",
   "metadata": {
    "id": "3ff9801d"
   },
   "outputs": [],
   "source": [
    "data = data[(data['children'] != -1) & (data['children'] != 20)]\n",
    "# ваш код здесь"
   ]
  },
  {
   "cell_type": "markdown",
   "id": "5ffcb8ac",
   "metadata": {
    "deletable": false,
    "editable": false,
    "id": "bbc4d0ce",
    "tags": [
     "start_task"
    ]
   },
   "source": [
    "**Задание 10. Ещё раз выведите перечень уникальных значений столбца `children`, чтобы убедиться, что артефакты удалены.**"
   ]
  },
  {
   "cell_type": "code",
   "execution_count": 11,
   "id": "3db9ee67",
   "metadata": {
    "id": "ad4fa8b7"
   },
   "outputs": [
    {
     "name": "stdout",
     "output_type": "stream",
     "text": [
      "[1.0 0.0 3.0 2.0 nan 4.0 5.0]\n"
     ]
    }
   ],
   "source": [
    "print(data[\"children\"].unique())# ваш код здесь"
   ]
  },
  {
   "cell_type": "markdown",
   "id": "6b43d3d7",
   "metadata": {
    "deletable": false,
    "editable": false,
    "id": "75440b63"
   },
   "source": [
    "### Удаление пропусков (продолжение)"
   ]
  },
  {
   "cell_type": "markdown",
   "id": "75be250f",
   "metadata": {
    "deletable": false,
    "editable": false,
    "id": "f4ea573f",
    "tags": [
     "start_task"
    ]
   },
   "source": [
    "**Задание 11. Заполните пропуски в столбце `days_employed` медианными значениями по каждому типу занятости `income_type`.**"
   ]
  },
  {
   "cell_type": "code",
   "execution_count": 14,
   "id": "e4538f9b",
   "metadata": {
    "id": "af6b1a7e"
   },
   "outputs": [],
   "source": [
    "median_income = data.groupby(\"income_type\")[\"days_employed\"].median()\n",
    "\n",
    "data.loc[data[\"income_type\"] == \"сотрудник\",\"days_employed\"] = data[\"days_employed\"].fillna(median_income[\"сотрудник\"])\n",
    "data.loc[data[\"income_type\"] == \"в декрете\",\"days_employed\"] = data[\"days_employed\"].fillna(median_income[\"в декрете\"])\n",
    "data.loc[data[\"income_type\"] == \"госслужащий\",\"days_employed\"] = data[\"days_employed\"].fillna(median_income[\"госслужащий\"])\n",
    "data.loc[data[\"income_type\"] == \"компаньон\",\"days_employed\"] = data[\"days_employed\"].fillna(median_income[\"компаньон\"])\n",
    "data.loc[data[\"income_type\"] == \"пенсионер\",\"days_employed\"] = data[\"days_employed\"].fillna(median_income[\"пенсионер\"])\n",
    "data.loc[data[\"income_type\"] == \"предприниматель\",\"days_employed\"] = data[\"days_employed\"].fillna(median_income[\"предприниматель\"])\n",
    "data.loc[data[\"income_type\"] == \"студент\",\"days_employed\"] = data[\"days_employed\"].fillna(median_income[\"студент\"])\n",
    "data.loc[data[\"income_type\"] == \"безработный\",\"days_employed\"] = data[\"days_employed\"].fillna(median_income[\"безработный\"])# ваш код здесь"
   ]
  },
  {
   "cell_type": "markdown",
   "id": "88b908db",
   "metadata": {
    "deletable": false,
    "editable": false,
    "id": "2753f40d",
    "tags": [
     "start_task"
    ]
   },
   "source": [
    "**Задание 12. Убедитесь, что все пропуски заполнены. Проверьте себя и ещё раз выведите количество пропущенных значений для каждого столбца с помощью двух методов.**"
   ]
  },
  {
   "cell_type": "code",
   "execution_count": 17,
   "id": "d8da5661",
   "metadata": {
    "id": "55f78bc2"
   },
   "outputs": [
    {
     "name": "stdout",
     "output_type": "stream",
     "text": [
      "0\n"
     ]
    }
   ],
   "source": [
    "print(data[\"days_employed\"].isna().sum())# ваш код здесь"
   ]
  },
  {
   "cell_type": "markdown",
   "id": "1e6e6c92",
   "metadata": {
    "deletable": false,
    "editable": false,
    "id": "ddc81e43"
   },
   "source": [
    "### Изменение типов данных"
   ]
  },
  {
   "cell_type": "markdown",
   "id": "87a7d9d6",
   "metadata": {
    "deletable": false,
    "editable": false,
    "id": "42d19d24",
    "tags": [
     "start_task"
    ]
   },
   "source": [
    "**Задание 13. Замените вещественный тип данных в столбце `total_income` на целочисленный с помощью метода `astype()`.**"
   ]
  },
  {
   "cell_type": "code",
   "execution_count": 19,
   "id": "b3f02555",
   "metadata": {
    "id": "920b65ad"
   },
   "outputs": [],
   "source": [
    "data[\"total_income\"] = data[\"total_income\"].astype(\"int\")# ваш код здесь"
   ]
  },
  {
   "cell_type": "markdown",
   "id": "474d2a6e",
   "metadata": {
    "deletable": false,
    "editable": false,
    "id": "80c420ba"
   },
   "source": [
    "### Обработка дубликатов"
   ]
  },
  {
   "cell_type": "markdown",
   "id": "975535bf",
   "metadata": {
    "deletable": false,
    "editable": false,
    "tags": [
     "start_task"
    ]
   },
   "source": [
    "**Задание 14. Обработайте неявные дубликаты в столбце `education`. В этом столбце есть одни и те же значения, но записанные по-разному: с использованием заглавных и строчных букв. Приведите их к нижнему регистру. Проверьте остальные столбцы.**"
   ]
  },
  {
   "cell_type": "code",
   "execution_count": 20,
   "id": "5c509291",
   "metadata": {},
   "outputs": [],
   "source": [
    "data[\"education\"] = data[\"education\"].str.lower()# ваш код здесь"
   ]
  },
  {
   "cell_type": "markdown",
   "id": "14ce86e9",
   "metadata": {
    "deletable": false,
    "editable": false,
    "id": "dc587695",
    "tags": [
     "start_task"
    ]
   },
   "source": [
    "**Задание 15. Выведите на экран количество строк-дубликатов в данных. Если такие строки присутствуют, удалите их.**"
   ]
  },
  {
   "cell_type": "code",
   "execution_count": 23,
   "id": "4a625d4c",
   "metadata": {
    "id": "3ee445e4"
   },
   "outputs": [
    {
     "name": "stdout",
     "output_type": "stream",
     "text": [
      "21525\n"
     ]
    }
   ],
   "source": [
    "print(data.duplicated().count())# посчитайте дубликаты"
   ]
  },
  {
   "cell_type": "code",
   "execution_count": 25,
   "id": "ef27e56c",
   "metadata": {
    "id": "8575fe05"
   },
   "outputs": [],
   "source": [
    "data = data.drop_duplicates()# удалите дубликаты"
   ]
  },
  {
   "cell_type": "markdown",
   "id": "05fa6e5c",
   "metadata": {
    "deletable": false,
    "editable": false,
    "id": "9904cf55"
   },
   "source": [
    "### Категоризация данных"
   ]
  },
  {
   "cell_type": "markdown",
   "id": "4de8b356",
   "metadata": {
    "deletable": false,
    "editable": false,
    "id": "72fcc8a2",
    "tags": [
     "start_task"
    ]
   },
   "source": [
    "**Задание 16. На основании диапазонов, указанных ниже, создайте в датафрейме `data` столбец `total_income_category` с категориями:**\n",
    "\n",
    "- 0–30000 — `'E'`;\n",
    "- 30001–50000 — `'D'`;\n",
    "- 50001–200000 — `'C'`;\n",
    "- 200001–1000000 — `'B'`;\n",
    "- 1000001 и выше — `'A'`.\n",
    "\n",
    "\n",
    "**Например, кредитополучателю с доходом 25000 нужно назначить категорию `'E'`, а клиенту, получающему 235000, — `'B'`. Используйте собственную функцию с именем `categorize_income()` и метод `apply()`.**"
   ]
  },
  {
   "cell_type": "code",
   "execution_count": 26,
   "id": "69363897",
   "metadata": {
    "id": "e1771346"
   },
   "outputs": [],
   "source": [
    "# создайте функцию categorize_income()\n",
    "def categorize_income(income): \n",
    "    if income >= 0 and income <= 30000:\n",
    "        return \"E\"\n",
    "    elif income >= 30001 and income <= 50000:\n",
    "        return \"D\"\n",
    "    elif income >= 50001 and income <= 200000:\n",
    "        return \"C\"\n",
    "    elif income >= 200001 and income <= 1000000:\n",
    "        return \"B\"\n",
    "    elif income >= 1000001:\n",
    "        return \"A\"\n",
    "    "
   ]
  },
  {
   "cell_type": "code",
   "execution_count": 28,
   "id": "bb5de95b",
   "metadata": {
    "id": "d5f3586d"
   },
   "outputs": [
    {
     "name": "stdout",
     "output_type": "stream",
     "text": [
      "  children  days_employed  dob_years education  education_id  \\\n",
      "0      1.0    8437.673028         42    высшее             0   \n",
      "1      1.0    4024.803754         36   среднее             1   \n",
      "2      0.0    5623.422610         33   среднее             1   \n",
      "3      3.0    4124.747207         32   среднее             1   \n",
      "4      0.0  340266.072047         53   среднее             1   \n",
      "5      0.0     926.185831         27    высшее             0   \n",
      "6      0.0    2879.202052         43    высшее             0   \n",
      "7      0.0     152.779569         50   среднее             1   \n",
      "8      2.0    6929.865299         35    высшее             0   \n",
      "9      0.0    2188.756445         41   среднее             1   \n",
      "\n",
      "      family_status  family_status_id gender income_type  debt  total_income  \\\n",
      "0   женат / замужем                 0      F   сотрудник     0        253875   \n",
      "1   женат / замужем                 0      F   сотрудник     0        112080   \n",
      "2   женат / замужем                 0      M   сотрудник     0        145885   \n",
      "3   женат / замужем                 0      M   сотрудник     0        267628   \n",
      "4  гражданский брак                 1      F   пенсионер     0        158616   \n",
      "5  гражданский брак                 1      M   компаньон     0        255763   \n",
      "6   женат / замужем                 0      F   компаньон     0        240525   \n",
      "7   женат / замужем                 0      M   сотрудник     0        135823   \n",
      "8  гражданский брак                 1      F   сотрудник     0         95856   \n",
      "9   женат / замужем                 0      M   сотрудник     0        144425   \n",
      "\n",
      "                      purpose total_income_category  \n",
      "0               покупка жилья                     B  \n",
      "1     приобретение автомобиля                     C  \n",
      "2               покупка жилья                     C  \n",
      "3  дополнительное образование                     B  \n",
      "4             сыграть свадьбу                     C  \n",
      "5               покупка жилья                     B  \n",
      "6           операции с жильем                     B  \n",
      "7                 образование                     C  \n",
      "8       на проведение свадьбы                     C  \n",
      "9     покупка жилья для семьи                     C  \n"
     ]
    }
   ],
   "source": [
    "data[\"total_income_category\"] = data[\"total_income\"].apply(categorize_income)# примените функцию методом apply()"
   ]
  },
  {
   "cell_type": "markdown",
   "id": "d3145772",
   "metadata": {
    "deletable": false,
    "editable": false,
    "id": "dde49b5c",
    "tags": [
     "start_task"
    ]
   },
   "source": [
    "**Задание 17. Выведите на экран перечень уникальных целей взятия кредита из столбца `purpose`.**"
   ]
  },
  {
   "cell_type": "code",
   "execution_count": 29,
   "id": "43ec6668",
   "metadata": {
    "id": "f67ce9b3"
   },
   "outputs": [
    {
     "name": "stdout",
     "output_type": "stream",
     "text": [
      "['покупка жилья' 'приобретение автомобиля' 'дополнительное образование'\n",
      " 'сыграть свадьбу' 'операции с жильем' 'образование'\n",
      " 'на проведение свадьбы' 'покупка жилья для семьи' 'покупка недвижимости'\n",
      " 'покупка коммерческой недвижимости' 'покупка жилой недвижимости'\n",
      " 'строительство собственной недвижимости' 'недвижимость'\n",
      " 'строительство недвижимости' 'на покупку подержанного автомобиля'\n",
      " 'на покупку своего автомобиля' 'операции с коммерческой недвижимостью'\n",
      " 'строительство жилой недвижимости' 'жилье'\n",
      " 'операции со своей недвижимостью' 'автомобили' 'заняться образованием'\n",
      " 'сделка с подержанным автомобилем' 'получение образования' 'автомобиль'\n",
      " 'свадьба' 'получение дополнительного образования' 'покупка своего жилья'\n",
      " 'операции с недвижимостью' 'получение высшего образования'\n",
      " 'свой автомобиль' 'сделка с автомобилем' 'профильное образование'\n",
      " 'высшее образование' 'покупка жилья для сдачи' 'на покупку автомобиля'\n",
      " 'ремонт жилью' 'заняться высшим образованием']\n"
     ]
    }
   ],
   "source": [
    "print(data[\"purpose\"].unique())# ваш код здесь"
   ]
  },
  {
   "cell_type": "markdown",
   "id": "b1d4f01f",
   "metadata": {
    "deletable": false,
    "editable": false,
    "id": "85d0aef0",
    "tags": [
     "start_task"
    ]
   },
   "source": [
    "**Задание 18. Создайте функцию, которая на основании данных из столбца `purpose` сформирует новый столбец `purpose_category`, в который войдут следующие категории:**\n",
    "\n",
    "- `'операции с автомобилем'`,\n",
    "- `'операции с недвижимостью'`,\n",
    "- `'проведение свадьбы'`,\n",
    "- `'получение образования'`.\n",
    "\n",
    "**Например, если в столбце `purpose` находится подстрока `'на покупку автомобиля'`, то в столбце `purpose_category` должна появиться строка `'операции с автомобилем'`.**\n",
    "\n",
    "**Используйте собственную функцию с именем `categorize_purpose()` и метод `apply()`. Изучите данные в столбце `purpose` и определите, какие подстроки помогут вам правильно определить категорию.**"
   ]
  },
  {
   "cell_type": "code",
   "execution_count": 30,
   "id": "cf809f76",
   "metadata": {
    "id": "e149fab4"
   },
   "outputs": [],
   "source": [
    "# создайте функцию categorize_purpose()\n",
    "def categorize_purpose(purpose):\n",
    "    if \"авто\" in purpose:\n",
    "        return \"операции с автомобилем\"\n",
    "    elif \"жил\" in purpose:\n",
    "        return \"операции с недвижимостью\"\n",
    "    elif \"недви\" in purpose:\n",
    "        return \"операции с недвижимостью\"\n",
    "    elif \"свад\" in purpose:\n",
    "        return \"проведение свадьбы\"\n",
    "    elif \"обр\" in purpose:\n",
    "        return \"получение образования\""
   ]
  },
  {
   "cell_type": "code",
   "execution_count": 32,
   "id": "1fc6d034",
   "metadata": {
    "id": "bf36e69b"
   },
   "outputs": [],
   "source": [
    "data[\"purpose_category\"] = data[\"purpose\"].apply(categorize_purpose)# примените функцию методом apply()"
   ]
  },
  {
   "cell_type": "code",
   "execution_count": null,
   "id": "58196b59",
   "metadata": {},
   "outputs": [],
   "source": []
  }
 ],
 "metadata": {
  "ExecuteTimeLog": [
   {
    "duration": 401,
    "start_time": "2022-09-16T09:37:09.900Z"
   },
   {
    "duration": 136,
    "start_time": "2022-09-16T09:37:10.412Z"
   },
   {
    "duration": 10,
    "start_time": "2022-09-16T09:37:11.421Z"
   },
   {
    "duration": 18,
    "start_time": "2022-09-16T09:37:19.373Z"
   },
   {
    "duration": 70,
    "start_time": "2022-09-16T09:39:58.944Z"
   },
   {
    "duration": 14,
    "start_time": "2022-09-16T09:40:03.579Z"
   },
   {
    "duration": 63,
    "start_time": "2022-09-16T10:22:18.975Z"
   },
   {
    "duration": 10,
    "start_time": "2022-09-16T10:22:26.879Z"
   },
   {
    "duration": 16,
    "start_time": "2022-09-16T10:23:41.292Z"
   },
   {
    "duration": 15,
    "start_time": "2022-09-16T10:23:58.820Z"
   },
   {
    "duration": 28,
    "start_time": "2022-09-16T10:24:20.318Z"
   },
   {
    "duration": 12,
    "start_time": "2022-09-16T10:25:16.170Z"
   },
   {
    "duration": 16,
    "start_time": "2022-09-16T10:27:45.705Z"
   },
   {
    "duration": 9,
    "start_time": "2022-09-16T10:30:52.757Z"
   },
   {
    "duration": 11,
    "start_time": "2022-09-16T10:31:02.648Z"
   },
   {
    "duration": 12,
    "start_time": "2022-09-16T10:31:19.566Z"
   },
   {
    "duration": 38,
    "start_time": "2022-09-16T10:31:42.417Z"
   },
   {
    "duration": 35,
    "start_time": "2022-09-16T10:33:03.542Z"
   },
   {
    "duration": 32,
    "start_time": "2022-09-16T10:34:36.080Z"
   },
   {
    "duration": 34,
    "start_time": "2022-09-16T10:34:51.895Z"
   },
   {
    "duration": 21,
    "start_time": "2022-09-16T10:35:13.781Z"
   },
   {
    "duration": 29,
    "start_time": "2022-09-16T10:36:29.465Z"
   },
   {
    "duration": 24,
    "start_time": "2022-09-16T10:36:52.756Z"
   },
   {
    "duration": 35,
    "start_time": "2022-09-16T10:37:35.461Z"
   },
   {
    "duration": 28,
    "start_time": "2022-09-16T10:39:20.680Z"
   },
   {
    "duration": 30,
    "start_time": "2022-09-16T10:40:59.010Z"
   },
   {
    "duration": 28,
    "start_time": "2022-09-16T10:41:09.176Z"
   },
   {
    "duration": 40,
    "start_time": "2022-09-16T10:44:01.717Z"
   },
   {
    "duration": 1297,
    "start_time": "2022-09-16T11:06:14.274Z"
   },
   {
    "duration": 4,
    "start_time": "2022-09-16T11:06:49.574Z"
   },
   {
    "duration": 8,
    "start_time": "2022-09-16T11:08:25.327Z"
   },
   {
    "duration": 4,
    "start_time": "2022-09-16T11:09:53.390Z"
   },
   {
    "duration": 13,
    "start_time": "2022-09-16T11:11:36.743Z"
   },
   {
    "duration": 10,
    "start_time": "2022-09-16T11:12:12.857Z"
   },
   {
    "duration": 8,
    "start_time": "2022-09-16T11:12:18.703Z"
   },
   {
    "duration": 12,
    "start_time": "2022-09-16T11:12:42.181Z"
   },
   {
    "duration": 15,
    "start_time": "2022-09-16T11:14:09.477Z"
   },
   {
    "duration": 14,
    "start_time": "2022-09-16T11:14:31.187Z"
   },
   {
    "duration": 29,
    "start_time": "2022-09-16T11:15:02.753Z"
   },
   {
    "duration": 11,
    "start_time": "2022-09-16T11:16:30.725Z"
   },
   {
    "duration": 7,
    "start_time": "2022-09-16T11:17:13.513Z"
   },
   {
    "duration": 8,
    "start_time": "2022-09-16T11:17:22.425Z"
   },
   {
    "duration": 11,
    "start_time": "2022-09-16T11:17:40.100Z"
   },
   {
    "duration": 9,
    "start_time": "2022-09-16T11:18:01.646Z"
   },
   {
    "duration": 471,
    "start_time": "2022-09-16T11:18:18.167Z"
   },
   {
    "duration": 118,
    "start_time": "2022-09-16T11:18:19.170Z"
   },
   {
    "duration": 12,
    "start_time": "2022-09-16T11:18:19.748Z"
   },
   {
    "duration": 16,
    "start_time": "2022-09-16T11:18:20.395Z"
   },
   {
    "duration": 10,
    "start_time": "2022-09-16T11:18:21.343Z"
   },
   {
    "duration": 29,
    "start_time": "2022-09-16T11:18:22.419Z"
   },
   {
    "duration": 3,
    "start_time": "2022-09-16T11:18:23.528Z"
   },
   {
    "duration": 8,
    "start_time": "2022-09-16T11:18:24.484Z"
   },
   {
    "duration": 4,
    "start_time": "2022-09-16T11:18:26.535Z"
   },
   {
    "duration": 9,
    "start_time": "2022-09-16T11:18:27.451Z"
   },
   {
    "duration": 73,
    "start_time": "2022-09-16T11:18:35.606Z"
   },
   {
    "duration": 15,
    "start_time": "2022-09-16T11:20:21.934Z"
   },
   {
    "duration": 8,
    "start_time": "2022-09-16T11:21:31.066Z"
   },
   {
    "duration": 9,
    "start_time": "2022-09-16T11:21:51.886Z"
   },
   {
    "duration": 8,
    "start_time": "2022-09-16T11:22:02.477Z"
   },
   {
    "duration": 414,
    "start_time": "2022-09-16T11:22:29.850Z"
   },
   {
    "duration": 82,
    "start_time": "2022-09-16T11:22:30.281Z"
   },
   {
    "duration": 16,
    "start_time": "2022-09-16T11:22:30.901Z"
   },
   {
    "duration": 18,
    "start_time": "2022-09-16T11:22:31.404Z"
   },
   {
    "duration": 13,
    "start_time": "2022-09-16T11:22:32.573Z"
   },
   {
    "duration": 29,
    "start_time": "2022-09-16T11:22:33.401Z"
   },
   {
    "duration": 4,
    "start_time": "2022-09-16T11:22:34.316Z"
   },
   {
    "duration": 9,
    "start_time": "2022-09-16T11:22:34.960Z"
   },
   {
    "duration": 5,
    "start_time": "2022-09-16T11:22:37.178Z"
   },
   {
    "duration": 72,
    "start_time": "2022-09-16T11:22:38.137Z"
   },
   {
    "duration": 7,
    "start_time": "2022-09-16T11:24:49.454Z"
   },
   {
    "duration": 393,
    "start_time": "2022-09-16T11:24:59.318Z"
   },
   {
    "duration": 79,
    "start_time": "2022-09-16T11:24:59.713Z"
   },
   {
    "duration": 11,
    "start_time": "2022-09-16T11:24:59.854Z"
   },
   {
    "duration": 17,
    "start_time": "2022-09-16T11:25:00.163Z"
   },
   {
    "duration": 13,
    "start_time": "2022-09-16T11:25:00.832Z"
   },
   {
    "duration": 31,
    "start_time": "2022-09-16T11:25:01.176Z"
   },
   {
    "duration": 5,
    "start_time": "2022-09-16T11:25:01.872Z"
   },
   {
    "duration": 10,
    "start_time": "2022-09-16T11:25:02.482Z"
   },
   {
    "duration": 5,
    "start_time": "2022-09-16T11:25:03.954Z"
   },
   {
    "duration": 23,
    "start_time": "2022-09-16T11:25:05.028Z"
   },
   {
    "duration": 5,
    "start_time": "2022-09-16T11:25:13.254Z"
   },
   {
    "duration": 107,
    "start_time": "2022-09-16T11:39:39.930Z"
   },
   {
    "duration": 29,
    "start_time": "2022-09-16T11:40:31.618Z"
   },
   {
    "duration": 15,
    "start_time": "2022-09-16T11:41:51.844Z"
   },
   {
    "duration": 992,
    "start_time": "2022-09-16T11:42:39.010Z"
   },
   {
    "duration": 1357,
    "start_time": "2022-09-16T11:42:58.903Z"
   },
   {
    "duration": 1518,
    "start_time": "2022-09-16T11:44:06.378Z"
   },
   {
    "duration": 426,
    "start_time": "2022-09-16T11:44:23.263Z"
   },
   {
    "duration": 78,
    "start_time": "2022-09-16T11:44:23.691Z"
   },
   {
    "duration": 14,
    "start_time": "2022-09-16T11:44:23.982Z"
   },
   {
    "duration": 22,
    "start_time": "2022-09-16T11:44:24.578Z"
   },
   {
    "duration": 15,
    "start_time": "2022-09-16T11:44:25.409Z"
   },
   {
    "duration": 43,
    "start_time": "2022-09-16T11:44:25.768Z"
   },
   {
    "duration": 4,
    "start_time": "2022-09-16T11:44:26.575Z"
   },
   {
    "duration": 10,
    "start_time": "2022-09-16T11:44:27.317Z"
   },
   {
    "duration": 5,
    "start_time": "2022-09-16T11:44:29.071Z"
   },
   {
    "duration": 36,
    "start_time": "2022-09-16T11:44:30.733Z"
   },
   {
    "duration": 25,
    "start_time": "2022-09-16T11:45:40.462Z"
   },
   {
    "duration": 39,
    "start_time": "2022-09-16T11:46:25.780Z"
   },
   {
    "duration": 8,
    "start_time": "2022-09-16T11:46:55.960Z"
   },
   {
    "duration": 37,
    "start_time": "2022-09-16T11:48:57.727Z"
   },
   {
    "duration": 7,
    "start_time": "2022-09-16T11:55:12.018Z"
   },
   {
    "duration": 6,
    "start_time": "2022-09-16T11:55:21.883Z"
   },
   {
    "duration": 5,
    "start_time": "2022-09-16T11:55:25.995Z"
   },
   {
    "duration": 7,
    "start_time": "2022-09-16T11:57:34.270Z"
   },
   {
    "duration": 5,
    "start_time": "2022-09-16T11:57:50.967Z"
   },
   {
    "duration": 11,
    "start_time": "2022-09-16T12:13:46.868Z"
   },
   {
    "duration": 27,
    "start_time": "2022-09-16T12:14:18.244Z"
   },
   {
    "duration": 25,
    "start_time": "2022-09-16T12:14:33.347Z"
   },
   {
    "duration": 21,
    "start_time": "2022-09-16T12:14:40.166Z"
   },
   {
    "duration": 3,
    "start_time": "2022-09-16T12:15:57.228Z"
   },
   {
    "duration": 32,
    "start_time": "2022-09-16T12:16:40.638Z"
   },
   {
    "duration": 5,
    "start_time": "2022-09-16T12:28:23.708Z"
   },
   {
    "duration": 12,
    "start_time": "2022-09-16T12:28:24.294Z"
   },
   {
    "duration": 30,
    "start_time": "2022-09-16T12:28:40.246Z"
   },
   {
    "duration": 5,
    "start_time": "2022-09-16T12:30:40.273Z"
   },
   {
    "duration": 5,
    "start_time": "2022-09-16T12:38:05.124Z"
   },
   {
    "duration": 96,
    "start_time": "2022-09-16T12:38:05.857Z"
   },
   {
    "duration": 12,
    "start_time": "2022-09-16T12:38:12.046Z"
   }
  ],
  "colab": {
   "name": "dpp_template_part1.ipynb",
   "provenance": []
  },
  "kernelspec": {
   "display_name": "Python 3 (ipykernel)",
   "language": "python",
   "name": "python3"
  },
  "language_info": {
   "codemirror_mode": {
    "name": "ipython",
    "version": 3
   },
   "file_extension": ".py",
   "mimetype": "text/x-python",
   "name": "python",
   "nbconvert_exporter": "python",
   "pygments_lexer": "ipython3",
   "version": "3.9.5"
  },
  "toc": {
   "base_numbering": 1,
   "nav_menu": {},
   "number_sections": true,
   "sideBar": true,
   "skip_h1_title": true,
   "title_cell": "Table of Contents",
   "title_sidebar": "Contents",
   "toc_cell": false,
   "toc_position": {},
   "toc_section_display": true,
   "toc_window_display": false
  }
 },
 "nbformat": 4,
 "nbformat_minor": 5
}
