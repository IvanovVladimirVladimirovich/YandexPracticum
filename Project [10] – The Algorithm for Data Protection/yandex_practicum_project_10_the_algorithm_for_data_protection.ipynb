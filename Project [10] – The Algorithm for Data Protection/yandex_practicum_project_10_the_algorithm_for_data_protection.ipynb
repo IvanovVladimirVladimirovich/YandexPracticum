{
 "cells": [
  {
   "cell_type": "markdown",
   "metadata": {
    "toc": true
   },
   "source": [
    "<h1>Содержание<span class=\"tocSkip\"></span></h1>\n",
    "<div class=\"toc\"><ul class=\"toc-item\"><li><span><a href=\"#Загрузка-данных\" data-toc-modified-id=\"Загрузка-данных-1\"><span class=\"toc-item-num\">1&nbsp;&nbsp;</span>Загрузка данных</a></span></li><li><span><a href=\"#Умножение-матриц\" data-toc-modified-id=\"Умножение-матриц-2\"><span class=\"toc-item-num\">2&nbsp;&nbsp;</span>Умножение матриц</a></span></li><li><span><a href=\"#Алгоритм-преобразования\" data-toc-modified-id=\"Алгоритм-преобразования-3\"><span class=\"toc-item-num\">3&nbsp;&nbsp;</span>Алгоритм преобразования</a></span></li><li><span><a href=\"#Проверка-алгоритма\" data-toc-modified-id=\"Проверка-алгоритма-4\"><span class=\"toc-item-num\">4&nbsp;&nbsp;</span>Проверка алгоритма</a></span></li><li><span><a href=\"#Общий-вывод\" data-toc-modified-id=\"Общий-вывод-5\"><span class=\"toc-item-num\">5&nbsp;&nbsp;</span>Общий вывод</a></span></li><li><span><a href=\"#Чек-лист-проверки\" data-toc-modified-id=\"Чек-лист-проверки-6\"><span class=\"toc-item-num\">6&nbsp;&nbsp;</span>Чек-лист проверки</a></span></li></ul></div>"
   ]
  },
  {
   "cell_type": "markdown",
   "metadata": {},
   "source": [
    "# Защита персональных данных клиентов"
   ]
  },
  {
   "cell_type": "markdown",
   "metadata": {},
   "source": [
    "Вам нужно защитить данные клиентов страховой компании «Хоть потоп». Разработайте такой метод преобразования данных, чтобы по ним было сложно восстановить персональную информацию. Обоснуйте корректность его работы.\n",
    "\n",
    "Нужно защитить данные, чтобы при преобразовании качество моделей машинного обучения не ухудшилось. Подбирать наилучшую модель не требуется."
   ]
  },
  {
   "cell_type": "markdown",
   "metadata": {},
   "source": [
    "## Загрузка данных"
   ]
  },
  {
   "cell_type": "code",
   "execution_count": 1,
   "metadata": {},
   "outputs": [],
   "source": [
    "import pandas as pd\n",
    "import numpy as np\n",
    "from sklearn.linear_model import LinearRegression\n",
    "from sklearn.metrics import r2_score"
   ]
  },
  {
   "cell_type": "code",
   "execution_count": 2,
   "metadata": {},
   "outputs": [],
   "source": [
    "data = pd.read_csv(\"/datasets/insurance.csv\")"
   ]
  },
  {
   "cell_type": "code",
   "execution_count": 3,
   "metadata": {},
   "outputs": [
    {
     "data": {
      "text/html": [
       "<div>\n",
       "<style scoped>\n",
       "    .dataframe tbody tr th:only-of-type {\n",
       "        vertical-align: middle;\n",
       "    }\n",
       "\n",
       "    .dataframe tbody tr th {\n",
       "        vertical-align: top;\n",
       "    }\n",
       "\n",
       "    .dataframe thead th {\n",
       "        text-align: right;\n",
       "    }\n",
       "</style>\n",
       "<table border=\"1\" class=\"dataframe\">\n",
       "  <thead>\n",
       "    <tr style=\"text-align: right;\">\n",
       "      <th></th>\n",
       "      <th>Пол</th>\n",
       "      <th>Возраст</th>\n",
       "      <th>Зарплата</th>\n",
       "      <th>Члены семьи</th>\n",
       "      <th>Страховые выплаты</th>\n",
       "    </tr>\n",
       "  </thead>\n",
       "  <tbody>\n",
       "    <tr>\n",
       "      <th>0</th>\n",
       "      <td>1</td>\n",
       "      <td>41.0</td>\n",
       "      <td>49600.0</td>\n",
       "      <td>1</td>\n",
       "      <td>0</td>\n",
       "    </tr>\n",
       "    <tr>\n",
       "      <th>1</th>\n",
       "      <td>0</td>\n",
       "      <td>46.0</td>\n",
       "      <td>38000.0</td>\n",
       "      <td>1</td>\n",
       "      <td>1</td>\n",
       "    </tr>\n",
       "    <tr>\n",
       "      <th>2</th>\n",
       "      <td>0</td>\n",
       "      <td>29.0</td>\n",
       "      <td>21000.0</td>\n",
       "      <td>0</td>\n",
       "      <td>0</td>\n",
       "    </tr>\n",
       "  </tbody>\n",
       "</table>\n",
       "</div>"
      ],
      "text/plain": [
       "   Пол  Возраст  Зарплата  Члены семьи  Страховые выплаты\n",
       "0    1     41.0   49600.0            1                  0\n",
       "1    0     46.0   38000.0            1                  1\n",
       "2    0     29.0   21000.0            0                  0"
      ]
     },
     "metadata": {},
     "output_type": "display_data"
    }
   ],
   "source": [
    "display(data.head(3))"
   ]
  },
  {
   "cell_type": "code",
   "execution_count": 4,
   "metadata": {},
   "outputs": [
    {
     "data": {
      "text/html": [
       "<div>\n",
       "<style scoped>\n",
       "    .dataframe tbody tr th:only-of-type {\n",
       "        vertical-align: middle;\n",
       "    }\n",
       "\n",
       "    .dataframe tbody tr th {\n",
       "        vertical-align: top;\n",
       "    }\n",
       "\n",
       "    .dataframe thead th {\n",
       "        text-align: right;\n",
       "    }\n",
       "</style>\n",
       "<table border=\"1\" class=\"dataframe\">\n",
       "  <thead>\n",
       "    <tr style=\"text-align: right;\">\n",
       "      <th></th>\n",
       "      <th>Пол</th>\n",
       "      <th>Возраст</th>\n",
       "      <th>Зарплата</th>\n",
       "      <th>Члены семьи</th>\n",
       "      <th>Страховые выплаты</th>\n",
       "    </tr>\n",
       "  </thead>\n",
       "  <tbody>\n",
       "    <tr>\n",
       "      <th>4997</th>\n",
       "      <td>0</td>\n",
       "      <td>20.0</td>\n",
       "      <td>33900.0</td>\n",
       "      <td>2</td>\n",
       "      <td>0</td>\n",
       "    </tr>\n",
       "    <tr>\n",
       "      <th>4998</th>\n",
       "      <td>1</td>\n",
       "      <td>22.0</td>\n",
       "      <td>32700.0</td>\n",
       "      <td>3</td>\n",
       "      <td>0</td>\n",
       "    </tr>\n",
       "    <tr>\n",
       "      <th>4999</th>\n",
       "      <td>1</td>\n",
       "      <td>28.0</td>\n",
       "      <td>40600.0</td>\n",
       "      <td>1</td>\n",
       "      <td>0</td>\n",
       "    </tr>\n",
       "  </tbody>\n",
       "</table>\n",
       "</div>"
      ],
      "text/plain": [
       "      Пол  Возраст  Зарплата  Члены семьи  Страховые выплаты\n",
       "4997    0     20.0   33900.0            2                  0\n",
       "4998    1     22.0   32700.0            3                  0\n",
       "4999    1     28.0   40600.0            1                  0"
      ]
     },
     "metadata": {},
     "output_type": "display_data"
    }
   ],
   "source": [
    "display(data.tail(3))"
   ]
  },
  {
   "cell_type": "code",
   "execution_count": 5,
   "metadata": {},
   "outputs": [
    {
     "name": "stdout",
     "output_type": "stream",
     "text": [
      "<class 'pandas.core.frame.DataFrame'>\n",
      "RangeIndex: 5000 entries, 0 to 4999\n",
      "Data columns (total 5 columns):\n",
      " #   Column             Non-Null Count  Dtype  \n",
      "---  ------             --------------  -----  \n",
      " 0   Пол                5000 non-null   int64  \n",
      " 1   Возраст            5000 non-null   float64\n",
      " 2   Зарплата           5000 non-null   float64\n",
      " 3   Члены семьи        5000 non-null   int64  \n",
      " 4   Страховые выплаты  5000 non-null   int64  \n",
      "dtypes: float64(2), int64(3)\n",
      "memory usage: 195.4 KB\n"
     ]
    },
    {
     "data": {
      "text/plain": [
       "None"
      ]
     },
     "metadata": {},
     "output_type": "display_data"
    }
   ],
   "source": [
    "display(data.info())"
   ]
  },
  {
   "cell_type": "code",
   "execution_count": 6,
   "metadata": {},
   "outputs": [
    {
     "data": {
      "text/html": [
       "<div>\n",
       "<style scoped>\n",
       "    .dataframe tbody tr th:only-of-type {\n",
       "        vertical-align: middle;\n",
       "    }\n",
       "\n",
       "    .dataframe tbody tr th {\n",
       "        vertical-align: top;\n",
       "    }\n",
       "\n",
       "    .dataframe thead th {\n",
       "        text-align: right;\n",
       "    }\n",
       "</style>\n",
       "<table border=\"1\" class=\"dataframe\">\n",
       "  <thead>\n",
       "    <tr style=\"text-align: right;\">\n",
       "      <th></th>\n",
       "      <th>Пол</th>\n",
       "      <th>Возраст</th>\n",
       "      <th>Зарплата</th>\n",
       "      <th>Члены семьи</th>\n",
       "      <th>Страховые выплаты</th>\n",
       "    </tr>\n",
       "  </thead>\n",
       "  <tbody>\n",
       "    <tr>\n",
       "      <th>count</th>\n",
       "      <td>5000.000000</td>\n",
       "      <td>5000.000000</td>\n",
       "      <td>5000.000000</td>\n",
       "      <td>5000.000000</td>\n",
       "      <td>5000.000000</td>\n",
       "    </tr>\n",
       "    <tr>\n",
       "      <th>mean</th>\n",
       "      <td>0.499000</td>\n",
       "      <td>30.952800</td>\n",
       "      <td>39916.360000</td>\n",
       "      <td>1.194200</td>\n",
       "      <td>0.148000</td>\n",
       "    </tr>\n",
       "    <tr>\n",
       "      <th>std</th>\n",
       "      <td>0.500049</td>\n",
       "      <td>8.440807</td>\n",
       "      <td>9900.083569</td>\n",
       "      <td>1.091387</td>\n",
       "      <td>0.463183</td>\n",
       "    </tr>\n",
       "    <tr>\n",
       "      <th>min</th>\n",
       "      <td>0.000000</td>\n",
       "      <td>18.000000</td>\n",
       "      <td>5300.000000</td>\n",
       "      <td>0.000000</td>\n",
       "      <td>0.000000</td>\n",
       "    </tr>\n",
       "    <tr>\n",
       "      <th>25%</th>\n",
       "      <td>0.000000</td>\n",
       "      <td>24.000000</td>\n",
       "      <td>33300.000000</td>\n",
       "      <td>0.000000</td>\n",
       "      <td>0.000000</td>\n",
       "    </tr>\n",
       "    <tr>\n",
       "      <th>50%</th>\n",
       "      <td>0.000000</td>\n",
       "      <td>30.000000</td>\n",
       "      <td>40200.000000</td>\n",
       "      <td>1.000000</td>\n",
       "      <td>0.000000</td>\n",
       "    </tr>\n",
       "    <tr>\n",
       "      <th>75%</th>\n",
       "      <td>1.000000</td>\n",
       "      <td>37.000000</td>\n",
       "      <td>46600.000000</td>\n",
       "      <td>2.000000</td>\n",
       "      <td>0.000000</td>\n",
       "    </tr>\n",
       "    <tr>\n",
       "      <th>max</th>\n",
       "      <td>1.000000</td>\n",
       "      <td>65.000000</td>\n",
       "      <td>79000.000000</td>\n",
       "      <td>6.000000</td>\n",
       "      <td>5.000000</td>\n",
       "    </tr>\n",
       "  </tbody>\n",
       "</table>\n",
       "</div>"
      ],
      "text/plain": [
       "               Пол      Возраст      Зарплата  Члены семьи  Страховые выплаты\n",
       "count  5000.000000  5000.000000   5000.000000  5000.000000        5000.000000\n",
       "mean      0.499000    30.952800  39916.360000     1.194200           0.148000\n",
       "std       0.500049     8.440807   9900.083569     1.091387           0.463183\n",
       "min       0.000000    18.000000   5300.000000     0.000000           0.000000\n",
       "25%       0.000000    24.000000  33300.000000     0.000000           0.000000\n",
       "50%       0.000000    30.000000  40200.000000     1.000000           0.000000\n",
       "75%       1.000000    37.000000  46600.000000     2.000000           0.000000\n",
       "max       1.000000    65.000000  79000.000000     6.000000           5.000000"
      ]
     },
     "metadata": {},
     "output_type": "display_data"
    }
   ],
   "source": [
    "display(data.describe())"
   ]
  },
  {
   "cell_type": "code",
   "execution_count": 7,
   "metadata": {
    "scrolled": true
   },
   "outputs": [
    {
     "name": "stdout",
     "output_type": "stream",
     "text": [
      "Кол-во дупликатов: 153\n"
     ]
    }
   ],
   "source": [
    "print(\"Кол-во дупликатов:\",data.duplicated().sum())"
   ]
  },
  {
   "cell_type": "markdown",
   "metadata": {},
   "source": [
    "Удалим дупликаты:"
   ]
  },
  {
   "cell_type": "code",
   "execution_count": 8,
   "metadata": {},
   "outputs": [
    {
     "name": "stdout",
     "output_type": "stream",
     "text": [
      "Кол-во дупликатов: 0\n"
     ]
    }
   ],
   "source": [
    "data = data.drop_duplicates().reset_index(drop = True)\n",
    "print(\"Кол-во дупликатов:\",data.duplicated().sum())"
   ]
  },
  {
   "cell_type": "markdown",
   "metadata": {},
   "source": [
    "**Вывод:**"
   ]
  },
  {
   "cell_type": "markdown",
   "metadata": {},
   "source": [
    "Данные соответствуют описанию и могут быть использованы далее. "
   ]
  },
  {
   "cell_type": "markdown",
   "metadata": {},
   "source": [
    "## Умножение матриц"
   ]
  },
  {
   "cell_type": "markdown",
   "metadata": {},
   "source": [
    "В этом задании вы можете записывать формулы в *Jupyter Notebook.*\n",
    "\n",
    "Чтобы записать формулу внутри текста, окружите её символами доллара \\\\$; если снаружи —  двойными символами \\\\$\\\\$. Эти формулы записываются на языке вёрстки *LaTeX.* \n",
    "\n",
    "Для примера мы записали формулы линейной регрессии. Можете их скопировать и отредактировать, чтобы решить задачу.\n",
    "\n",
    "Работать в *LaTeX* необязательно."
   ]
  },
  {
   "cell_type": "markdown",
   "metadata": {},
   "source": [
    "Обозначения:\n",
    "\n",
    "- $X$ — матрица признаков (нулевой столбец состоит из единиц)\n",
    "\n",
    "- $y$ — вектор целевого признака\n",
    "\n",
    "- $P$ — матрица, на которую умножаются признаки\n",
    "\n",
    "- $w$ — вектор весов линейной регрессии (нулевой элемент равен сдвигу)"
   ]
  },
  {
   "cell_type": "markdown",
   "metadata": {},
   "source": [
    "Предсказания:\n",
    "\n",
    "$$\n",
    "a = Xw\n",
    "$$\n",
    "\n",
    "Задача обучения:\n",
    "\n",
    "$$\n",
    "w = \\arg\\min_w MSE(Xw, y)\n",
    "$$\n",
    "\n",
    "Формула обучения:\n",
    "\n",
    "$$\n",
    "w = (X^T X)^{-1} X^T y\n",
    "$$"
   ]
  },
  {
   "cell_type": "markdown",
   "metadata": {},
   "source": [
    "Чтобы ответь на вопрос, представим произведение матрицы признаков и обратимую матрицу как: $$ X1 = XP $$\n",
    "\n",
    "Следовательно, формула обучения будет равна: $$ w1 = ((XP)^T XP)^{-1} (XP)^T y $$\n",
    "\n",
    "Раскрываем: $$ w1 = (P^T(X^TX)P)^{-1} X^TP^Ty $$\n",
    "\n",
    "Раскрываем: $$ w1 = P^{-1}(X^TX)^{-1}((P^T)^{-1}P^T)X^Ty $$\n",
    "\n",
    "Сокращаем: $$ w1 = P^{-1}((X^TX)^{-1} X^Ty) $$\n",
    "\n",
    "Сокращаем: $$ w1 = P^{-1}w $$\n",
    "\n",
    "С учетом сокращения, формула предсказания будет равна: $$ a1 = XPw1 = XPP^{-1}w $$\n",
    "\n",
    "Сокращаем: $$ a1 = Xw = a$$"
   ]
  },
  {
   "cell_type": "markdown",
   "metadata": {},
   "source": [
    "**Вывод:**"
   ]
  },
  {
   "cell_type": "markdown",
   "metadata": {},
   "source": [
    "Из расчетов видно, что предсказания а1 равны предсказаниям а.\n",
    "Следовательно, при вопросе изменения качества линейной регрессии при умножении признаков на обратимую матрицу, ответ - **не изменится**."
   ]
  },
  {
   "cell_type": "markdown",
   "metadata": {},
   "source": [
    "## Алгоритм преобразования"
   ]
  },
  {
   "cell_type": "markdown",
   "metadata": {},
   "source": [
    "Для проверки теории, нужно создать алгоритм проверяющий ее. "
   ]
  },
  {
   "cell_type": "markdown",
   "metadata": {},
   "source": [
    "Алгоритм состоит из следующих ступений:\n",
    "\n",
    "1. Разделение данных на признаки и целевой признах;\n",
    "2. Создание матрицы из рандомных данных (до 100) размерами соответсвующими кол-ву столбцов признаков;\n",
    "3. Проверка матрицы из рандомных данных на обратимость;\n",
    "4. Нахождения предсказания по формуле (a = Xw) с исходными признаками;\n",
    "5. Нахождения предсказания по формуле (a = Xw) с произведением признаков и матрицы;\n",
    "6. Сравнения результатов по формуле;\n",
    "7. Нахождение метрик с помощью библеотеки sklearn на исходных признаках;\n",
    "8. Нахождение метрик с помощью библеотеки sklearn на произведении признаков и матрицы;\n",
    "9. Сравнение результатов sklearn."
   ]
  },
  {
   "cell_type": "markdown",
   "metadata": {},
   "source": [
    "Следуя из результатов Раздела 2 \"Умнажение матриц\", результаты, а следовательно и качество обоих метрик не должно отличаться. В случае отсутствия разницы - расчет верен."
   ]
  },
  {
   "cell_type": "markdown",
   "metadata": {},
   "source": [
    "Данный алгоритм будет создан функцией check():"
   ]
  },
  {
   "cell_type": "code",
   "execution_count": 9,
   "metadata": {},
   "outputs": [],
   "source": [
    "def check(data):\n",
    "    features = data.drop(\"Страховые выплаты\", axis = 1)\n",
    "    target = data[\"Страховые выплаты\"]\n",
    "    \n",
    "    random_matrix = np.random.randint(100,size = (features.shape[1],features.shape[1]))\n",
    "    \n",
    "    if np.linalg.det(random_matrix)!=0:\n",
    "        \n",
    "        w = np.linalg.inv(features.T.dot(features)).dot(features.T).dot(target)\n",
    "        a = features @ w\n",
    "        \n",
    "        w1 = np.linalg.inv((features@random_matrix).T.dot((features@random_matrix))).dot((features@random_matrix).T).dot(target)\n",
    "        a1 = (features@random_matrix) @ w1\n",
    "        \n",
    "        difference = a - a1\n",
    "        quality_difference = (r2_score(target,a)-r2_score(target,a1))\n",
    "        \n",
    "        print(\"Результат разницы по формуле:\",difference.mean())\n",
    "        print(\"Результат качества по формуле:\",quality_difference.mean())\n",
    "        \n",
    "        model = LinearRegression()\n",
    "        model.fit(features, target)\n",
    "        predictions_a = model.predict(features)\n",
    "        \n",
    "        features = features @ random_matrix\n",
    "        model.fit(features, target)\n",
    "        predictions_a1 = model.predict(features)\n",
    "        \n",
    "        difference = predictions_a - predictions_a1\n",
    "        quality_difference = (r2_score(target,predictions_a)-r2_score(target,predictions_a1))\n",
    "        \n",
    "        print(\"Результат разницы sklearn:\",difference.mean())\n",
    "        print(\"Результат качества sklearn:\",quality_difference.mean())\n",
    "        \n",
    "        return \n",
    "    \n",
    "    else:\n",
    "        return (\":(\")\n",
    "        "
   ]
  },
  {
   "cell_type": "markdown",
   "metadata": {},
   "source": [
    "## Проверка алгоритма"
   ]
  },
  {
   "cell_type": "markdown",
   "metadata": {},
   "source": [
    "Проверим работы алгоритма и подсчетов на наших данных:"
   ]
  },
  {
   "cell_type": "code",
   "execution_count": 10,
   "metadata": {},
   "outputs": [
    {
     "name": "stdout",
     "output_type": "stream",
     "text": [
      "Результат разницы по формуле: 7.076832284698976e-10\n",
      "Результат качества по формуле: -2.220446049250313e-16\n",
      "Результат разницы sklearn: 1.562219853513621e-13\n",
      "Результат качества sklearn: -3.885780586188048e-15\n"
     ]
    }
   ],
   "source": [
    "check(data)"
   ]
  },
  {
   "cell_type": "markdown",
   "metadata": {},
   "source": [
    "**Вывод:**"
   ]
  },
  {
   "cell_type": "markdown",
   "metadata": {},
   "source": [
    "Результаты и качество моделей до и после преобразования имеют очень маленькую разницу в обоях ситуациях. "
   ]
  },
  {
   "cell_type": "markdown",
   "metadata": {},
   "source": [
    "## Общий вывод"
   ]
  },
  {
   "cell_type": "markdown",
   "metadata": {},
   "source": [
    "Результаты и качество моделей до и после преобразования не изменились в теории и на практике, что означает о возможности защиты данных клиентов страховой компании «Хоть потоп» без потерь в качестве. "
   ]
  }
 ],
 "metadata": {
  "ExecuteTimeLog": [
   {
    "duration": 1586,
    "start_time": "2023-01-21T13:59:11.446Z"
   },
   {
    "duration": 96,
    "start_time": "2023-01-21T13:59:13.034Z"
   },
   {
    "duration": 13,
    "start_time": "2023-01-21T13:59:29.420Z"
   },
   {
    "duration": 18,
    "start_time": "2023-01-21T13:59:43.966Z"
   },
   {
    "duration": 14,
    "start_time": "2023-01-21T14:00:32.084Z"
   },
   {
    "duration": 13,
    "start_time": "2023-01-21T14:00:32.617Z"
   },
   {
    "duration": 23,
    "start_time": "2023-01-21T14:02:08.973Z"
   },
   {
    "duration": 7,
    "start_time": "2023-01-21T14:03:23.572Z"
   },
   {
    "duration": 7,
    "start_time": "2023-01-21T14:03:38.049Z"
   },
   {
    "duration": 6,
    "start_time": "2023-01-21T14:16:58.624Z"
   },
   {
    "duration": 7,
    "start_time": "2023-01-21T14:17:03.737Z"
   },
   {
    "duration": 10,
    "start_time": "2023-01-21T14:17:12.494Z"
   },
   {
    "duration": 117,
    "start_time": "2023-01-21T14:54:56.797Z"
   },
   {
    "duration": 4,
    "start_time": "2023-01-21T18:28:35.227Z"
   },
   {
    "duration": 91,
    "start_time": "2023-01-21T18:29:11.234Z"
   },
   {
    "duration": 4,
    "start_time": "2023-01-21T18:29:18.531Z"
   },
   {
    "duration": 5,
    "start_time": "2023-01-21T18:30:24.745Z"
   },
   {
    "duration": 13,
    "start_time": "2023-01-21T18:30:27.769Z"
   },
   {
    "duration": 4,
    "start_time": "2023-01-21T18:33:45.641Z"
   },
   {
    "duration": 10,
    "start_time": "2023-01-21T18:33:46.316Z"
   },
   {
    "duration": 11,
    "start_time": "2023-01-21T18:34:20.466Z"
   },
   {
    "duration": 4,
    "start_time": "2023-01-21T18:34:42.319Z"
   },
   {
    "duration": 4,
    "start_time": "2023-01-21T18:35:02.838Z"
   },
   {
    "duration": 6,
    "start_time": "2023-01-21T18:35:03.188Z"
   },
   {
    "duration": 11,
    "start_time": "2023-01-21T18:37:59.218Z"
   },
   {
    "duration": 3,
    "start_time": "2023-01-21T18:38:51.073Z"
   },
   {
    "duration": 10,
    "start_time": "2023-01-21T18:39:00.813Z"
   },
   {
    "duration": 1315,
    "start_time": "2023-01-21T18:39:22.370Z"
   },
   {
    "duration": 29,
    "start_time": "2023-01-21T18:39:23.687Z"
   },
   {
    "duration": 13,
    "start_time": "2023-01-21T18:39:23.718Z"
   },
   {
    "duration": 7,
    "start_time": "2023-01-21T18:39:23.732Z"
   },
   {
    "duration": 16,
    "start_time": "2023-01-21T18:39:23.741Z"
   },
   {
    "duration": 21,
    "start_time": "2023-01-21T18:39:23.759Z"
   },
   {
    "duration": 5,
    "start_time": "2023-01-21T18:39:23.782Z"
   },
   {
    "duration": 8,
    "start_time": "2023-01-21T18:39:23.789Z"
   },
   {
    "duration": 5,
    "start_time": "2023-01-21T18:39:23.798Z"
   },
   {
    "duration": 10,
    "start_time": "2023-01-21T18:39:23.804Z"
   },
   {
    "duration": 6,
    "start_time": "2023-01-21T18:39:23.855Z"
   },
   {
    "duration": 4,
    "start_time": "2023-01-21T18:39:27.091Z"
   },
   {
    "duration": 9,
    "start_time": "2023-01-21T18:39:27.545Z"
   },
   {
    "duration": 9,
    "start_time": "2023-01-21T18:39:51.822Z"
   },
   {
    "duration": 5,
    "start_time": "2023-01-21T18:39:54.571Z"
   },
   {
    "duration": 5,
    "start_time": "2023-01-21T18:39:54.739Z"
   },
   {
    "duration": 4,
    "start_time": "2023-01-21T18:39:55.126Z"
   },
   {
    "duration": 8,
    "start_time": "2023-01-21T18:39:55.347Z"
   },
   {
    "duration": 6,
    "start_time": "2023-01-21T18:39:55.550Z"
   },
   {
    "duration": 1456,
    "start_time": "2023-01-21T18:40:01.552Z"
   },
   {
    "duration": 27,
    "start_time": "2023-01-21T18:40:03.009Z"
   },
   {
    "duration": 13,
    "start_time": "2023-01-21T18:40:03.037Z"
   },
   {
    "duration": 9,
    "start_time": "2023-01-21T18:40:03.051Z"
   },
   {
    "duration": 13,
    "start_time": "2023-01-21T18:40:03.063Z"
   },
   {
    "duration": 23,
    "start_time": "2023-01-21T18:40:03.078Z"
   },
   {
    "duration": 5,
    "start_time": "2023-01-21T18:40:03.103Z"
   },
   {
    "duration": 43,
    "start_time": "2023-01-21T18:40:03.110Z"
   },
   {
    "duration": 5,
    "start_time": "2023-01-21T18:40:03.156Z"
   },
   {
    "duration": 8,
    "start_time": "2023-01-21T18:40:03.163Z"
   },
   {
    "duration": 81,
    "start_time": "2023-01-21T18:40:03.173Z"
   },
   {
    "duration": 8,
    "start_time": "2023-01-21T18:40:05.083Z"
   },
   {
    "duration": 6,
    "start_time": "2023-01-21T18:40:08.055Z"
   },
   {
    "duration": 12,
    "start_time": "2023-01-21T18:40:08.311Z"
   },
   {
    "duration": 7,
    "start_time": "2023-01-21T18:40:08.694Z"
   },
   {
    "duration": 5,
    "start_time": "2023-01-21T18:40:35.953Z"
   },
   {
    "duration": 5,
    "start_time": "2023-01-21T18:40:55.161Z"
   },
   {
    "duration": 8,
    "start_time": "2023-01-21T18:41:15.617Z"
   },
   {
    "duration": 4,
    "start_time": "2023-01-21T18:41:42.896Z"
   },
   {
    "duration": 5,
    "start_time": "2023-01-21T18:43:17.937Z"
   },
   {
    "duration": 5,
    "start_time": "2023-01-21T18:43:31.196Z"
   },
   {
    "duration": 7,
    "start_time": "2023-01-21T18:43:31.664Z"
   },
   {
    "duration": 5,
    "start_time": "2023-01-21T18:43:32.016Z"
   },
   {
    "duration": 7,
    "start_time": "2023-01-21T18:43:32.256Z"
   },
   {
    "duration": 6,
    "start_time": "2023-01-21T18:43:32.591Z"
   },
   {
    "duration": 2,
    "start_time": "2023-01-21T18:43:32.848Z"
   },
   {
    "duration": 10,
    "start_time": "2023-01-21T18:43:33.144Z"
   },
   {
    "duration": 4,
    "start_time": "2023-01-21T18:43:34.310Z"
   },
   {
    "duration": 9,
    "start_time": "2023-01-21T18:47:52.272Z"
   },
   {
    "duration": 5,
    "start_time": "2023-01-21T18:47:52.744Z"
   },
   {
    "duration": 8,
    "start_time": "2023-01-21T18:48:40.638Z"
   },
   {
    "duration": 6,
    "start_time": "2023-01-21T18:48:41.185Z"
   },
   {
    "duration": 5,
    "start_time": "2023-01-21T18:49:47.186Z"
   },
   {
    "duration": 10,
    "start_time": "2023-01-21T18:49:47.662Z"
   },
   {
    "duration": 5,
    "start_time": "2023-01-21T18:49:47.910Z"
   },
   {
    "duration": 1637,
    "start_time": "2023-01-24T17:42:44.512Z"
   },
   {
    "duration": 96,
    "start_time": "2023-01-24T17:42:46.151Z"
   },
   {
    "duration": 15,
    "start_time": "2023-01-24T17:42:46.249Z"
   },
   {
    "duration": 8,
    "start_time": "2023-01-24T17:42:46.266Z"
   },
   {
    "duration": 14,
    "start_time": "2023-01-24T17:42:46.276Z"
   },
   {
    "duration": 25,
    "start_time": "2023-01-24T17:42:46.292Z"
   },
   {
    "duration": 5,
    "start_time": "2023-01-24T17:42:46.319Z"
   },
   {
    "duration": 14,
    "start_time": "2023-01-24T17:42:46.326Z"
   },
   {
    "duration": 4,
    "start_time": "2023-01-24T17:42:46.341Z"
   },
   {
    "duration": 5,
    "start_time": "2023-01-24T17:42:46.349Z"
   },
   {
    "duration": 7,
    "start_time": "2023-01-24T17:42:46.385Z"
   },
   {
    "duration": 192,
    "start_time": "2023-01-24T17:42:46.395Z"
   },
   {
    "duration": 197,
    "start_time": "2023-01-24T17:42:46.589Z"
   },
   {
    "duration": 97,
    "start_time": "2023-01-24T17:42:46.787Z"
   },
   {
    "duration": 197,
    "start_time": "2023-01-24T17:42:46.892Z"
   },
   {
    "duration": 12,
    "start_time": "2023-01-24T17:42:47.091Z"
   },
   {
    "duration": 15,
    "start_time": "2023-01-24T17:42:47.105Z"
   },
   {
    "duration": 11,
    "start_time": "2023-01-24T17:42:47.122Z"
   },
   {
    "duration": 0,
    "start_time": "2023-01-24T17:42:47.136Z"
   },
   {
    "duration": 0,
    "start_time": "2023-01-24T17:42:47.137Z"
   },
   {
    "duration": 0,
    "start_time": "2023-01-24T17:42:47.138Z"
   },
   {
    "duration": 0,
    "start_time": "2023-01-24T17:42:47.140Z"
   },
   {
    "duration": 13,
    "start_time": "2023-01-24T19:10:19.291Z"
   },
   {
    "duration": 9,
    "start_time": "2023-01-24T19:10:36.595Z"
   },
   {
    "duration": 76,
    "start_time": "2023-01-24T19:10:47.107Z"
   },
   {
    "duration": 6,
    "start_time": "2023-01-24T19:11:02.117Z"
   },
   {
    "duration": 108,
    "start_time": "2023-01-24T19:11:02.875Z"
   },
   {
    "duration": 5,
    "start_time": "2023-01-24T19:22:24.654Z"
   },
   {
    "duration": 39,
    "start_time": "2023-01-24T19:22:25.142Z"
   },
   {
    "duration": 89,
    "start_time": "2023-01-24T19:23:48.199Z"
   },
   {
    "duration": 3,
    "start_time": "2023-01-24T19:28:40.726Z"
   },
   {
    "duration": 7,
    "start_time": "2023-01-24T19:30:24.004Z"
   },
   {
    "duration": 69,
    "start_time": "2023-01-24T19:30:27.120Z"
   },
   {
    "duration": 7,
    "start_time": "2023-01-24T19:30:43.305Z"
   },
   {
    "duration": 76,
    "start_time": "2023-01-24T19:30:45.508Z"
   },
   {
    "duration": 76,
    "start_time": "2023-01-24T19:31:14.880Z"
   },
   {
    "duration": 7,
    "start_time": "2023-01-24T19:31:21.325Z"
   },
   {
    "duration": 47,
    "start_time": "2023-01-24T19:31:22.141Z"
   },
   {
    "duration": 1099,
    "start_time": "2023-01-24T19:32:18.011Z"
   },
   {
    "duration": 29,
    "start_time": "2023-01-24T19:32:19.111Z"
   },
   {
    "duration": 22,
    "start_time": "2023-01-24T19:32:19.142Z"
   },
   {
    "duration": 12,
    "start_time": "2023-01-24T19:32:19.166Z"
   },
   {
    "duration": 20,
    "start_time": "2023-01-24T19:32:19.181Z"
   },
   {
    "duration": 23,
    "start_time": "2023-01-24T19:32:19.202Z"
   },
   {
    "duration": 5,
    "start_time": "2023-01-24T19:32:19.227Z"
   },
   {
    "duration": 11,
    "start_time": "2023-01-24T19:32:19.233Z"
   },
   {
    "duration": 8,
    "start_time": "2023-01-24T19:32:19.245Z"
   },
   {
    "duration": 130,
    "start_time": "2023-01-24T19:32:19.254Z"
   },
   {
    "duration": 1072,
    "start_time": "2023-01-24T19:34:45.996Z"
   },
   {
    "duration": 29,
    "start_time": "2023-01-24T19:34:47.070Z"
   },
   {
    "duration": 14,
    "start_time": "2023-01-24T19:34:47.101Z"
   },
   {
    "duration": 10,
    "start_time": "2023-01-24T19:34:47.117Z"
   },
   {
    "duration": 12,
    "start_time": "2023-01-24T19:34:47.130Z"
   },
   {
    "duration": 21,
    "start_time": "2023-01-24T19:34:47.144Z"
   },
   {
    "duration": 15,
    "start_time": "2023-01-24T19:34:47.167Z"
   },
   {
    "duration": 8,
    "start_time": "2023-01-24T19:34:47.184Z"
   },
   {
    "duration": 7,
    "start_time": "2023-01-24T19:34:47.194Z"
   },
   {
    "duration": 180,
    "start_time": "2023-01-24T19:34:47.202Z"
   },
   {
    "duration": 12,
    "start_time": "2023-01-25T15:19:18.895Z"
   },
   {
    "duration": 44,
    "start_time": "2023-01-25T15:19:19.665Z"
   },
   {
    "duration": 1115,
    "start_time": "2023-01-25T15:20:00.318Z"
   },
   {
    "duration": 95,
    "start_time": "2023-01-25T15:20:01.435Z"
   },
   {
    "duration": 17,
    "start_time": "2023-01-25T15:20:01.533Z"
   },
   {
    "duration": 47,
    "start_time": "2023-01-25T15:20:01.552Z"
   },
   {
    "duration": 87,
    "start_time": "2023-01-25T15:20:01.603Z"
   },
   {
    "duration": 52,
    "start_time": "2023-01-25T15:20:01.692Z"
   },
   {
    "duration": 31,
    "start_time": "2023-01-25T15:20:01.746Z"
   },
   {
    "duration": 52,
    "start_time": "2023-01-25T15:20:01.780Z"
   },
   {
    "duration": 47,
    "start_time": "2023-01-25T15:20:01.835Z"
   },
   {
    "duration": 106,
    "start_time": "2023-01-25T15:20:01.885Z"
   },
   {
    "duration": 190,
    "start_time": "2023-01-25T15:20:01.993Z"
   }
  ],
  "kernelspec": {
   "display_name": "Python 3 (ipykernel)",
   "language": "python",
   "name": "python3"
  },
  "language_info": {
   "codemirror_mode": {
    "name": "ipython",
    "version": 3
   },
   "file_extension": ".py",
   "mimetype": "text/x-python",
   "name": "python",
   "nbconvert_exporter": "python",
   "pygments_lexer": "ipython3",
   "version": "3.10.9"
  },
  "toc": {
   "base_numbering": 1,
   "nav_menu": {},
   "number_sections": true,
   "sideBar": true,
   "skip_h1_title": true,
   "title_cell": "Содержание",
   "title_sidebar": "Contents",
   "toc_cell": true,
   "toc_position": {},
   "toc_section_display": true,
   "toc_window_display": true
  }
 },
 "nbformat": 4,
 "nbformat_minor": 2
}
